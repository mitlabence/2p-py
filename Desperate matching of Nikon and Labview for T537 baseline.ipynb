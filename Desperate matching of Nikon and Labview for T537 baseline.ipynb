{
 "cells": [
  {
   "cell_type": "code",
   "execution_count": null,
   "id": "61c6daa4",
   "metadata": {},
   "outputs": [],
   "source": [
    "import numpy as np\n",
    "import os"
   ]
  },
  {
   "cell_type": "code",
   "execution_count": null,
   "id": "8c030237",
   "metadata": {},
   "outputs": [],
   "source": [
    "nik_fpath = \"D:\\\\PhD\\\\Data\\\\Nico\\\\baseline_2nd_loc\\\\M278.240123.0857nik.txt\"\n",
    "time_fpath = \"D:\\\\PhD\\\\Data\\\\Nico\\\\baseline_2nd_loc\\\\M278.240123.0857time.txt\"\n",
    "txt_fpath = \"D:\\\\PhD\\\\Data\\\\Nico\\\\baseline_2nd_loc\\\\M278.240123.0857.txt\""
   ]
  },
  {
   "cell_type": "code",
   "execution_count": null,
   "id": "810ddb08",
   "metadata": {},
   "outputs": [],
   "source": [
    "nik_data = {\"columns\": [], \"time\": [], \"sw_time\" : [], \"nidaq_time\": [], \"index\": []}\n",
    "with open(nik_fpath, \"r\") as nf:\n",
    "    headers = nf.readline()\n",
    "    nik_data[\"columns\"] = headers.rstrip().split(\"\\t\") \n",
    "    for line in nf:\n",
    "        row = line.strip().split(\"\\t\")\n",
    "        nik_data[\"time\"].append(float(row[0]))\n",
    "        nik_data[\"sw_time\"].append(float(row[1]))\n",
    "        nik_data[\"nidaq_time\"].append(float(row[2]))\n",
    "        nik_data[\"index\"].append(int(row[3]))\n",
    "        "
   ]
  },
  {
   "cell_type": "code",
   "execution_count": null,
   "id": "58823cc1",
   "metadata": {},
   "outputs": [],
   "source": [
    "with open(time_fpath, \"r\") as tf:\n",
    "    for line in tf:\n",
    "        print(line.encode())"
   ]
  },
  {
   "cell_type": "code",
   "execution_count": null,
   "id": "110511ce",
   "metadata": {},
   "outputs": [],
   "source": [
    "time_data = {\"lv_tstamps\": [], \"reso\": [], \"galvo\": [], \"lfp\": []}\n",
    "with open(time_fpath, \"r\") as tf:\n",
    "    for line in tf:\n",
    "        row = line.strip().split(\"\\t\")\n",
    "        time_data[\"lv_tstamps\"].append(float(row[0]))\n",
    "        time_data[\"reso\"].append(float(row[1]))        \n",
    "        time_data[\"galvo\"].append(float(row[2]))        \n",
    "        time_data[\"lfp\"].append(float(row[3]))        "
   ]
  },
  {
   "cell_type": "code",
   "execution_count": null,
   "id": "9894c4e3",
   "metadata": {},
   "outputs": [],
   "source": [
    "# col 9 is time 10 time in current lap\n",
    "txt_data = []\n",
    "with open(txt_fpath, \"r\") as f:\n",
    "    for line in f:\n",
    "        row = line.strip().split(\"\\t\")\n",
    "        txt_data.append(int(row[8]))"
   ]
  },
  {
   "cell_type": "code",
   "execution_count": null,
   "id": "fdace2ba",
   "metadata": {},
   "outputs": [],
   "source": [
    "NIKON_START_ROW = 753  # in 0-indexing, the first Nikon frame should appear at the time of the 753rd row in the labview .txt"
   ]
  },
  {
   "cell_type": "code",
   "execution_count": null,
   "id": "acc6f5f5",
   "metadata": {},
   "outputs": [],
   "source": [
    "t_lv_since_start_ms = txt_data[NIKON_START_ROW] + 1  # add 1 ms delay"
   ]
  },
  {
   "cell_type": "code",
   "execution_count": null,
   "id": "bac30aa8",
   "metadata": {},
   "outputs": [],
   "source": [
    "# time stamp of the first nikon frame\n",
    "t_first_nikon_ms = time_data[\"reso\"][0] if time_data[\"reso\"][0] > 0 else time_data[\"reso\"][1]\n",
    "assert t_first_nikon_ms > 0"
   ]
  },
  {
   "cell_type": "code",
   "execution_count": null,
   "id": "58648d3c",
   "metadata": {},
   "outputs": [],
   "source": [
    "# time stamp of nikon values should be shifted by a value such that labview[NIKON_START_ROW] + 1 = t_first_nikon_start_ms\n",
    "dt_ms = t_first_nikon_ms - t_lv_since_start_ms"
   ]
  },
  {
   "cell_type": "code",
   "execution_count": null,
   "id": "8e7ff48c",
   "metadata": {},
   "outputs": [],
   "source": [
    "labview_shifted = [txt_data[i] + dt_ms for i in range(len(txt_data))]"
   ]
  },
  {
   "cell_type": "code",
   "execution_count": null,
   "id": "54ad9ae3",
   "metadata": {},
   "outputs": [],
   "source": [
    "assert (labview_shifted[NIKON_START_ROW] < t_first_nikon_ms) and (labview_shifted[NIKON_START_ROW+1] > t_first_nikon_ms)"
   ]
  },
  {
   "cell_type": "code",
   "execution_count": null,
   "id": "d2719c67",
   "metadata": {},
   "outputs": [],
   "source": [
    "# construct new time.txt\n",
    "new_time_data = [[], [], [], []]\n",
    "# create first column\n",
    "new_time_data[0].append(labview_shifted[0])\n",
    "new_time_data[1].append(0.0)\n",
    "new_time_data[2].append(0.0)\n",
    "new_time_data[3].append(labview_shifted[0])\n",
    "# merge labview and reso frames\n",
    "i_labview = 1\n",
    "i_nikon = 1  # skip first, 0 entry\n",
    "while (i_labview < len(labview_shifted)) and (i_nikon < len(time_data[\"reso\"])):\n",
    "    if labview_shifted[i_labview] > time_data[\"reso\"][i_nikon]:  # nikon frame next\n",
    "        new_time_data[0].append(0.0)\n",
    "        new_time_data[1].append(time_data[\"reso\"][i_nikon])\n",
    "        new_time_data[2].append(0.0)\n",
    "        new_time_data[3].append(0.0)\n",
    "        i_nikon += 1\n",
    "    else:\n",
    "        new_time_data[0].append(labview_shifted[i_labview])\n",
    "        new_time_data[1].append(0.0)\n",
    "        new_time_data[2].append(0.0)\n",
    "        new_time_data[3].append(0.0)\n",
    "        i_labview += 1\n",
    "n_lv_rest = 0\n",
    "for lv_rest in labview_shifted[i_labview:]:\n",
    "    new_time_data[0].append(lv_rest)\n",
    "    new_time_data[1].append(0.0)\n",
    "    new_time_data[2].append(0.0)\n",
    "    new_time_data[3].append(0.0)\n",
    "    n_lv_rest += 1\n",
    "print(f\"added {n_lv_rest} labview frames to end\")\n",
    "n_nik_rest = 0\n",
    "for nik_rest in time_data[\"reso\"][i_nikon:]:\n",
    "    new_time_data[0].append(0.0)\n",
    "    new_time_data[1].append(nik_rest)\n",
    "    new_time_data[2].append(0.0)\n",
    "    new_time_data[3].append(0.0)\n",
    "    n_nik_rest += 1\n",
    "print(f\"added {n_nik_rest} nik frames to end\")\n",
    "assert len(new_time_data[0]) == len(new_time_data[1])\n",
    "assert len(new_time_data[0]) == len(new_time_data[2])\n",
    "assert len(new_time_data[0]) == len(new_time_data[3])"
   ]
  },
  {
   "cell_type": "code",
   "execution_count": null,
   "id": "a22bc0a7",
   "metadata": {},
   "outputs": [],
   "source": [
    "with open(\"D:\\\\Downloads\\\\M278.240123.0857corrtime.txt\", \"w\") as f:\n",
    "    for i in range(len(new_time_data[0])):\n",
    "        row = f\"{new_time_data[0][i]:.3f}\\t{new_time_data[1][i]:.3f}\\t{new_time_data[2][i]:.3f}\\t{new_time_data[3][i]:.3f}\\n\"\n",
    "        f.write(row)"
   ]
  },
  {
   "cell_type": "code",
   "execution_count": null,
   "id": "af51aeb5",
   "metadata": {},
   "outputs": [],
   "source": []
  }
 ],
 "metadata": {
  "kernelspec": {
   "display_name": "Python 3 (ipykernel)",
   "language": "python",
   "name": "python3"
  },
  "language_info": {
   "codemirror_mode": {
    "name": "ipython",
    "version": 3
   },
   "file_extension": ".py",
   "mimetype": "text/x-python",
   "name": "python",
   "nbconvert_exporter": "python",
   "pygments_lexer": "ipython3",
   "version": "3.8.12"
  }
 },
 "nbformat": 4,
 "nbformat_minor": 5
}
