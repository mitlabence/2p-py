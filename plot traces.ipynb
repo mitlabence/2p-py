{
 "cells": [
  {
   "cell_type": "code",
   "execution_count": null,
   "metadata": {},
   "outputs": [],
   "source": [
    "import h5py\n",
    "import matplotlib.pyplot as plt\n",
    "from labrotation import file_handling as fh"
   ]
  },
  {
   "cell_type": "code",
   "execution_count": null,
   "metadata": {},
   "outputs": [],
   "source": [
    "fpath = fh.open_file(\"Choose assembled traces file\")"
   ]
  },
  {
   "cell_type": "code",
   "execution_count": null,
   "metadata": {},
   "outputs": [],
   "source": [
    "uuid = \"238cb698d9cf445ca324d9925cbe26fb\""
   ]
  },
  {
   "cell_type": "code",
   "execution_count": null,
   "metadata": {},
   "outputs": [],
   "source": [
    "with h5py.File(fpath, \"r\") as f:\n",
    "    mean_fluo = f[uuid][\"mean_fluo\"][()]\n",
    "    lv_t_s = f[uuid][\"lv_t_s\"][()]\n",
    "    lv_speed = f[uuid][\"lv_speed\"][()]\n",
    "    lfp_t = f[uuid][\"lfp_t\"][()]\n",
    "    lfp_y = f[uuid][\"lfp_y\"][()]\n",
    "    i_frame_stim_begin = f[uuid].attrs[\"break_points\"][()][1]\n",
    "    i_frame_stim_begin_lfp = f[uuid].attrs[\"break_points_lfp\"][()][1]\n",
    "lv_t_s = lv_t_s - lv_t_s[i_frame_stim_begin]\n",
    "lfp_t = lfp_t - lfp_t[i_frame_stim_begin_lfp]"
   ]
  },
  {
   "cell_type": "code",
   "execution_count": null,
   "metadata": {},
   "outputs": [],
   "source": [
    "fig, axs = plt.subplots(3, 1, figsize=(18, 18), sharex=True)\n",
    "axs[0].plot(lv_t_s, mean_fluo, color=\"green\")\n",
    "axs[0].set_ylim((110, 300))\n",
    "\n",
    "axs[1].plot(lfp_t, lfp_y, color=\"black\")\n",
    "axs[2].plot(lv_t_s, lv_speed, color=\"black\")\n",
    "plt.xlim((-50, 100))\n",
    "plt.xlabel(\"Time (s)\")\n",
    "plt.tight_layout()\n",
    "plt.savefig(\"D:\\\\Downloads\\\\jrgeco_trace.pdf\")\n",
    "plt.show()"
   ]
  },
  {
   "cell_type": "code",
   "execution_count": null,
   "metadata": {},
   "outputs": [],
   "source": []
  }
 ],
 "metadata": {
  "kernelspec": {
   "display_name": "Python 3 (ipykernel)",
   "language": "python",
   "name": "python3"
  },
  "language_info": {
   "codemirror_mode": {
    "name": "ipython",
    "version": 3
   },
   "file_extension": ".py",
   "mimetype": "text/x-python",
   "name": "python",
   "nbconvert_exporter": "python",
   "pygments_lexer": "ipython3",
   "version": "3.8.12"
  }
 },
 "nbformat": 4,
 "nbformat_minor": 2
}
