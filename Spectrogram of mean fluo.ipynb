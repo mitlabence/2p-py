{
 "cells": [
  {
   "cell_type": "code",
   "execution_count": null,
   "id": "6d765a98",
   "metadata": {},
   "outputs": [],
   "source": [
    "#Auto-reload modules (used to develop functions outside this notebook)\n",
    "%load_ext autoreload\n",
    "%autoreload 2"
   ]
  },
  {
   "cell_type": "code",
   "execution_count": null,
   "id": "0cd16647",
   "metadata": {},
   "outputs": [],
   "source": [
    "import labrotation.file_handling as fh\n",
    "import seaborn as sns\n",
    "import os\n",
    "from datetime import datetime\n",
    "import datadoc_util\n",
    "import h5py\n",
    "import numpy as np\n",
    "from math import floor, ceil\n",
    "import matplotlib.pyplot as plt\n",
    "import pandas as pd\n",
    "import warnings\n",
    "from scipy import signal"
   ]
  },
  {
   "cell_type": "code",
   "execution_count": null,
   "id": "bae7c3c8",
   "metadata": {},
   "outputs": [],
   "source": [
    "save_figs = False"
   ]
  },
  {
   "cell_type": "code",
   "execution_count": null,
   "id": "d6aa0025",
   "metadata": {},
   "outputs": [],
   "source": [
    "sns.set_theme(font_scale=2)\n",
    "sns.set_style(\"whitegrid\")"
   ]
  },
  {
   "cell_type": "code",
   "execution_count": null,
   "id": "0446e314",
   "metadata": {},
   "outputs": [],
   "source": [
    "env_dict = dict()\n",
    "if not os.path.exists(\"./.env\"):\n",
    "    print(\".env does not exist\")\n",
    "else:\n",
    "    with open(\"./.env\", \"r\") as f:\n",
    "        for line in f.readlines():\n",
    "            l = line.rstrip().split(\"=\")\n",
    "            env_dict[l[0]] = l[1]\n",
    "print(env_dict.keys())"
   ]
  },
  {
   "cell_type": "code",
   "execution_count": null,
   "id": "3031c42e",
   "metadata": {},
   "outputs": [],
   "source": [
    "if \"DATA_DOCU_FOLDER\" in env_dict.keys():\n",
    "    docu_folder = env_dict[\"DATA_DOCU_FOLDER\"]\n",
    "else:\n",
    "    docu_folder = fh.open_dir(\"Choose folder containing folders for each mouse!\")\n",
    "print(f\"Selected folder:\\n\\t{docu_folder}\")"
   ]
  },
  {
   "cell_type": "code",
   "execution_count": null,
   "id": "9f1b855a",
   "metadata": {},
   "outputs": [],
   "source": [
    "if \"documentation\" in os.listdir(docu_folder):\n",
    "    mouse_folder = os.path.join(docu_folder, \"documentation\")\n",
    "else:\n",
    "    mouse_folder = docu_folder\n",
    "mouse_names = os.listdir(mouse_folder)\n",
    "print(f\"Mice detected:\")\n",
    "for mouse in mouse_names:\n",
    "    print(f\"\\t{mouse}\")"
   ]
  },
  {
   "cell_type": "code",
   "execution_count": null,
   "id": "d816990b",
   "metadata": {},
   "outputs": [],
   "source": [
    "def get_datetime_for_fname():\n",
    "    now = datetime.now()\n",
    "    return f\"{now.year:04d}{now.month:02d}{now.day:02d}-{now.hour:02d}{now.minute:02d}{now.second:02d}\""
   ]
  },
  {
   "cell_type": "code",
   "execution_count": null,
   "id": "bd7140ce",
   "metadata": {},
   "outputs": [],
   "source": [
    "output_folder = env_dict[\"DOWNLOADS_FOLDER\"]\n",
    "print(f\"Output files will be saved to {output_folder}\")"
   ]
  },
  {
   "cell_type": "code",
   "execution_count": null,
   "id": "926cce37",
   "metadata": {},
   "outputs": [],
   "source": [
    "ddoc = datadoc_util.DataDocumentation(docu_folder)\n",
    "ddoc.loadDataDoc()"
   ]
  },
  {
   "cell_type": "code",
   "execution_count": null,
   "id": "ec007f51",
   "metadata": {},
   "outputs": [],
   "source": [
    "chr2_fpath = fh.open_file(\"Open ChR2 assembled traces h5 file!\")"
   ]
  },
  {
   "cell_type": "code",
   "execution_count": null,
   "id": "d38fe739",
   "metadata": {},
   "outputs": [],
   "source": [
    "tmev_fpath = fh.open_file(\"Open TMEV assembled traces h5 file!\")"
   ]
  },
  {
   "cell_type": "markdown",
   "id": "0c75cc1f",
   "metadata": {},
   "source": [
    "# Open mean fluorescence, segments"
   ]
  },
  {
   "cell_type": "code",
   "execution_count": null,
   "id": "27eccf88",
   "metadata": {},
   "outputs": [],
   "source": [
    "dict_uuid_mean_fluo = dict()\n",
    "dict_uuid_meta = dict()\n",
    "with h5py.File(tmev_fpath, \"r\") as hf:\n",
    "    for uuid in hf.keys():\n",
    "        dict_attrs = dict()\n",
    "        for attr_name in hf[uuid].attrs.keys():\n",
    "            dict_attrs[attr_name] = hf[uuid].attrs[attr_name]\n",
    "        dict_uuid_meta[uuid] = dict_attrs\n",
    "        mean_fluo = hf[uuid][\"mean_fluo\"][()]\n",
    "        dict_uuid_mean_fluo[uuid] = mean_fluo\n",
    "with h5py.File(chr2_fpath, \"r\") as hf:\n",
    "    for uuid in hf.keys():\n",
    "        dict_attrs = dict()\n",
    "        for attr_name in hf[uuid].attrs.keys():\n",
    "            dict_attrs[attr_name] = hf[uuid].attrs[attr_name]\n",
    "        dict_uuid_meta[uuid] = dict_attrs\n",
    "        mean_fluo = hf[uuid][\"mean_fluo\"][()]\n",
    "        dict_uuid_mean_fluo[uuid] = mean_fluo"
   ]
  },
  {
   "cell_type": "code",
   "execution_count": null,
   "id": "1d896187",
   "metadata": {},
   "outputs": [],
   "source": [
    "# using scipy 1.7.3 right now... ShortTimeFFT.spectrogram would be more modern option"
   ]
  },
  {
   "cell_type": "code",
   "execution_count": null,
   "id": "8af7d847",
   "metadata": {},
   "outputs": [],
   "source": [
    "dict_uuid_meta"
   ]
  },
  {
   "cell_type": "code",
   "execution_count": null,
   "id": "7081f483",
   "metadata": {},
   "outputs": [],
   "source": [
    "fs = 15.  # ~15 Hz imaging\n",
    "example_uuid = \"d43a110d015345c58ed961ee510e70aa\"\n",
    "example_trace = dict_uuid_mean_fluo[example_uuid]\n",
    "if \"i_stim_begin_frame\" in dict_uuid_meta[example_uuid]:\n",
    "    i_stim_begin = dict_uuid_meta[example_uuid][\"i_stim_begin_frame\"]\n",
    "    i_stim_end = dict_uuid_meta[example_uuid][\"i_stim_end_frame\"]\n",
    "    example_trace[i_stim_begin:i_stim_end+1] = np.mean(example_trace)\n",
    "i_begin_frame = 0"
   ]
  },
  {
   "cell_type": "code",
   "execution_count": null,
   "id": "0e3ec82c",
   "metadata": {},
   "outputs": [],
   "source": [
    "f, t, Sxx = signal.spectrogram(example_trace[i_begin_frame:], fs)\n",
    "tsteps = np.array([i/fs for i in range(len(example_trace[i_begin_frame:]))])"
   ]
  },
  {
   "cell_type": "code",
   "execution_count": null,
   "id": "528c20dd",
   "metadata": {},
   "outputs": [],
   "source": [
    "fig, axs = plt.subplots(2, 1, figsize=(18,18), sharex=True)\n",
    "axs[0].pcolormesh(t, f, Sxx, shading='gouraud')\n",
    "axs[0].set_ylim((0, 3))\n",
    "plt.rcParams['axes.grid'] = False \n",
    "plt.xlabel('Time [sec]')\n",
    "plt.xlim((250, 450))\n",
    "#plt.xlim((0, 100))\n",
    "axs[0].set_ylabel(\"Frequency [Hz]\")\n",
    "axs[1].plot(tsteps, example_trace[i_begin_frame:])\n",
    "axs[1].set_ylabel(\"FOV mean fluorescence (a.u.)\")\n",
    "\n",
    "#plt.ylim((0, 3))\n",
    "plt.tight_layout()\n",
    "if save_figs:\n",
    "    fig_fpath = os.path.join(output_folder, f'spectrogram_example_{get_datetime_for_fname()}.pdf')\n",
    "    plt.savefig(fig_fpath)\n",
    "    print(f\"Saved to {fig_fpath}\")  \n",
    "else:\n",
    "    plt.show()"
   ]
  },
  {
   "cell_type": "code",
   "execution_count": null,
   "id": "666afba5",
   "metadata": {},
   "outputs": [],
   "source": []
  }
 ],
 "metadata": {
  "kernelspec": {
   "display_name": "Python 3 (ipykernel)",
   "language": "python",
   "name": "python3"
  },
  "language_info": {
   "codemirror_mode": {
    "name": "ipython",
    "version": 3
   },
   "file_extension": ".py",
   "mimetype": "text/x-python",
   "name": "python",
   "nbconvert_exporter": "python",
   "pygments_lexer": "ipython3",
   "version": "3.8.12"
  }
 },
 "nbformat": 4,
 "nbformat_minor": 5
}
