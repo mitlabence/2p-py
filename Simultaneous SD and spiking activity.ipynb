{
 "cells": [
  {
   "cell_type": "code",
   "execution_count": null,
   "id": "56a0d438",
   "metadata": {},
   "outputs": [],
   "source": [
    "#Auto-reload modules (used to develop functions outside this notebook)\n",
    "%load_ext autoreload\n",
    "%autoreload 2"
   ]
  },
  {
   "cell_type": "code",
   "execution_count": null,
   "id": "cc2a6c7f",
   "metadata": {},
   "outputs": [],
   "source": [
    "import numpy as np\n",
    "import h5py\n",
    "from nd2_to_caiman import np_arr_from_nd2\n",
    "import labrotation.file_handling as fh\n",
    "from matplotlib import pyplot as plt\n",
    "from matplotlib.collections import PatchCollection\n",
    "from matplotlib.patches import Rectangle\n",
    "import matplotlib.colors as mcolors\n",
    "from math import floor, ceil, sqrt, atan2, acos, pi, sin, cos\n",
    "from datetime import datetime\n",
    "import json\n",
    "from labrotation import json_util\n",
    "import scipy\n",
    "from scipy import ndimage\n",
    "from scipy.spatial import distance_matrix\n",
    "from scipy.stats import circmean, circstd  # for statistical testing on directionality\n",
    "import datadoc_util\n",
    "from statsmodels.nonparametric.smoothers_lowess import lowess\n",
    "import pandas as pd\n",
    "import seaborn as sns\n",
    "import multiprocess as mp  # multiprocessing does not work with IPython. Use fork instead.\n",
    "import os\n",
    "import random  # for surrogate algorithm\n",
    "from collections.abc import Iterable\n",
    "import math\n",
    "import seaborn as sns"
   ]
  },
  {
   "cell_type": "code",
   "execution_count": null,
   "id": "45c77488",
   "metadata": {},
   "outputs": [],
   "source": [
    "sns.set_style(\"whitegrid\")\n",
    "color_palette = sns.color_palette(\"deep\")"
   ]
  },
  {
   "cell_type": "code",
   "execution_count": null,
   "id": "0c6fef81",
   "metadata": {},
   "outputs": [],
   "source": [
    "def get_datetime_for_fname():\n",
    "    now = datetime.now()\n",
    "    return f\"{now.year:04d}{now.month:02d}{now.day:02d}-{now.hour:02d}{now.minute:02d}{now.second:02d}\""
   ]
  },
  {
   "cell_type": "code",
   "execution_count": null,
   "id": "acd2ea74",
   "metadata": {},
   "outputs": [],
   "source": [
    "grid_shape = (8,8)"
   ]
  },
  {
   "cell_type": "code",
   "execution_count": null,
   "id": "7ac2c244",
   "metadata": {},
   "outputs": [],
   "source": [
    "env_dict = dict()\n",
    "if not os.path.exists(\"./.env\"):\n",
    "    print(\".env does not exist\")\n",
    "else:\n",
    "    with open(\"./.env\", \"r\") as f:\n",
    "        for line in f.readlines():\n",
    "            l = line.rstrip().split(\"=\")\n",
    "            env_dict[l[0]] = l[1]\n",
    "print(env_dict.keys())"
   ]
  },
  {
   "cell_type": "code",
   "execution_count": null,
   "id": "cc91ed7d",
   "metadata": {},
   "outputs": [],
   "source": [
    "if \"DATA_DOCU_FOLDER\" in env_dict.keys():\n",
    "    data_docu_folder = env_dict[\"DATA_DOCU_FOLDER\"]\n",
    "else:\n",
    "    data_docu_folder = fh.open_dir(\"Open Data Documentation folder\")\n",
    "print(data_docu_folder)"
   ]
  },
  {
   "cell_type": "code",
   "execution_count": null,
   "id": "fcfb3efc",
   "metadata": {},
   "outputs": [],
   "source": [
    "ddoc = datadoc_util.DataDocumentation(data_docu_folder)\n",
    "ddoc.loadDataDoc()"
   ]
  },
  {
   "cell_type": "code",
   "execution_count": null,
   "id": "ca2be961",
   "metadata": {},
   "outputs": [],
   "source": [
    "output_folder = env_dict[\"DOWNLOADS_FOLDER\"]\n",
    "print(f\"Output files will be saved to {output_folder}\")"
   ]
  },
  {
   "cell_type": "markdown",
   "id": "f6202005",
   "metadata": {},
   "source": [
    "# Open grid and traces for SD-spiking recording\n",
    "T333 tmev d2 FOV007, FOV009. UUID: `06ebcf354f5c41519669f187e16de364`, `73a27053f4bf4ae1b4ad96064b6dabc0`"
   ]
  },
  {
   "cell_type": "markdown",
   "id": "4fb23696",
   "metadata": {},
   "source": [
    "## Open grid data"
   ]
  },
  {
   "cell_type": "code",
   "execution_count": null,
   "id": "a77df3bd",
   "metadata": {},
   "outputs": [],
   "source": [
    "uuid_lis = [\"06ebcf354f5c41519669f187e16de364\", \"73a27053f4bf4ae1b4ad96064b6dabc0\"]"
   ]
  },
  {
   "cell_type": "code",
   "execution_count": null,
   "id": "43a3f9c8",
   "metadata": {},
   "outputs": [],
   "source": [
    "ddoc.getSegmentsForUUID(uuid_lis[0])"
   ]
  },
  {
   "cell_type": "code",
   "execution_count": null,
   "id": "229e7088",
   "metadata": {},
   "outputs": [],
   "source": [
    "df_id_uuid = ddoc.getIdUuid()"
   ]
  },
  {
   "cell_type": "code",
   "execution_count": null,
   "id": "e1fe85d2",
   "metadata": {},
   "outputs": [],
   "source": [
    "df_id_uuid = df_id_uuid[df_id_uuid[\"uuid\"].isin(uuid_lis)]"
   ]
  },
  {
   "cell_type": "code",
   "execution_count": null,
   "id": "457d724f",
   "metadata": {},
   "outputs": [],
   "source": [
    "# grid files have nikon file name (without extension) as root. \n",
    "input_fname_roots = list(map(lambda rec_name: os.path.splitext(rec_name)[0], ddoc.getNikonFileNameForUuid(uuid_lis)))"
   ]
  },
  {
   "cell_type": "code",
   "execution_count": null,
   "id": "15d5a72c",
   "metadata": {},
   "outputs": [],
   "source": [
    "analysis_folder = fh.open_dir(\"Open directory with analysis (grid) data for all mice!\")"
   ]
  },
  {
   "cell_type": "code",
   "execution_count": null,
   "id": "7be51cfc",
   "metadata": {},
   "outputs": [],
   "source": [
    "grid_files_list = []\n",
    "for root, dirs, files in os.walk(analysis_folder):\n",
    "    for fname in files:\n",
    "        if \"_grid.h5\" in fname:\n",
    "            # check if root file name is in the current _grid.h5 file\n",
    "            if any([fname_root for fname_root in input_fname_roots if fname_root in fname]):\n",
    "                grid_files_list.append(os.path.join(root,fname))"
   ]
  },
  {
   "cell_type": "code",
   "execution_count": null,
   "id": "a832e2e0",
   "metadata": {},
   "outputs": [],
   "source": [
    "uuid_dict = dict()\n",
    "for grid_fpath in grid_files_list:\n",
    "    # ..._grid.h5 -> ..._cnmf.hdf5\n",
    "    cnmf_fpath = os.path.join(os.path.split(grid_fpath)[0], os.path.split(grid_fpath)[-1][:-7] + \"cnmf.hdf5\")\n",
    "    with h5py.File(cnmf_fpath, 'r') as hf:\n",
    "        uuid_dict[grid_fpath] = hf.attrs[\"uuid\"]"
   ]
  },
  {
   "cell_type": "code",
   "execution_count": null,
   "id": "fd60f239",
   "metadata": {},
   "outputs": [],
   "source": [
    "cols_set = set()\n",
    "for fpath in grid_files_list:\n",
    "    df = pd.read_hdf(fpath)\n",
    "    for key in df.keys():\n",
    "        cols_set.add(key)\n",
    "cols_set.add(\"uuid\")\n",
    "cols_set.add(\"mouse_id\")"
   ]
  },
  {
   "cell_type": "code",
   "execution_count": null,
   "id": "66789b57",
   "metadata": {},
   "outputs": [],
   "source": [
    "uuid_dict"
   ]
  },
  {
   "cell_type": "code",
   "execution_count": null,
   "id": "d42dcb77",
   "metadata": {},
   "outputs": [],
   "source": [
    "# defining empty dataframe does not work, as all data types will be object (except x, y, which will be proper integers)\n",
    "all_onsets_df = pd.read_hdf(grid_files_list[0])\n",
    "all_onsets_df[\"uuid\"] = uuid_dict[grid_files_list[0]]\n",
    "all_onsets_df[\"mouse_id\"] = df_id_uuid[df_id_uuid[\"uuid\"] == uuid_dict[grid_files_list[0]]][\"mouse_id\"].values[0]\n",
    "assert all_onsets_df[\"uuid\"].isna().sum() == 0\n",
    "for fpath in grid_files_list[1:]:\n",
    "    df = pd.read_hdf(fpath)\n",
    "    df[\"uuid\"] = uuid_dict[fpath]\n",
    "    df[\"mouse_id\"] = df_id_uuid[df_id_uuid[\"uuid\"] == uuid_dict[fpath]][\"mouse_id\"].values[0]\n",
    "    assert df[\"uuid\"].isna().sum() == 0\n",
    "    all_onsets_df = pd.concat([all_onsets_df, df])"
   ]
  },
  {
   "cell_type": "markdown",
   "id": "c9bfada3",
   "metadata": {},
   "source": [
    "## Open traces"
   ]
  },
  {
   "cell_type": "code",
   "execution_count": null,
   "id": "6ea00c94",
   "metadata": {},
   "outputs": [],
   "source": [
    "traces_dict = dict()\n",
    "for grid_fpath in grid_files_list:\n",
    "    # ..._grid.h5 -> ..._traces.hdf5\n",
    "    traces_fpath = os.path.join(os.path.split(grid_fpath)[0], os.path.split(grid_fpath)[-1][:-7] + \"traces.h5\")\n",
    "    with h5py.File(traces_fpath, 'r') as hf:\n",
    "        uuid = hf.attrs[\"uuid\"]\n",
    "        traces_dict[uuid] = hf[\"traces\"][:]"
   ]
  },
  {
   "cell_type": "markdown",
   "id": "12c601bc",
   "metadata": {},
   "source": [
    "# Get neuron indices"
   ]
  },
  {
   "cell_type": "markdown",
   "id": "22da43df",
   "metadata": {},
   "source": [
    "x (horizontal): 0 is left, 512 is right\n",
    "\n",
    "y (vertical): 0 is top, 512 is bottom"
   ]
  },
  {
   "cell_type": "code",
   "execution_count": null,
   "id": "71892297",
   "metadata": {},
   "outputs": [],
   "source": [
    "neuron_ids_dict = {\"06ebcf354f5c41519669f187e16de364\": {\"sd_only\": [], \"spikes\": [] }, \"73a27053f4bf4ae1b4ad96064b6dabc0\": {\"sd_only\": [], \"spikes\": []},}\n",
    "\n",
    "neuron_ids_dict[\"06ebcf354f5c41519669f187e16de364\"][\"sd_only\"] = all_onsets_df[(all_onsets_df[\"uuid\"] == \"06ebcf354f5c41519669f187e16de364\") & (all_onsets_df[\"x\"] > 300.) & (all_onsets_df[\"y\"] < 300. )].neuron_id.to_numpy()\n",
    "neuron_ids_dict[\"06ebcf354f5c41519669f187e16de364\"][\"spikes\"] = all_onsets_df[(all_onsets_df[\"uuid\"] == \"06ebcf354f5c41519669f187e16de364\") & (all_onsets_df[\"x\"] > 110.) & (all_onsets_df[\"y\"] > 310. )].neuron_id.to_numpy()\n",
    "\n",
    "neuron_ids_dict[\"73a27053f4bf4ae1b4ad96064b6dabc0\"][\"sd_only\"] = all_onsets_df[(all_onsets_df[\"uuid\"] == \"73a27053f4bf4ae1b4ad96064b6dabc0\") & (all_onsets_df[\"x\"] > 280.) & (all_onsets_df[\"y\"] < 210. )].neuron_id.to_numpy()\n",
    "neuron_ids_dict[\"73a27053f4bf4ae1b4ad96064b6dabc0\"][\"spikes\"] = all_onsets_df[(all_onsets_df[\"uuid\"] == \"73a27053f4bf4ae1b4ad96064b6dabc0\") & (all_onsets_df[\"x\"] > 140.) & (all_onsets_df[\"y\"] > 210. )].neuron_id.to_numpy()"
   ]
  },
  {
   "cell_type": "code",
   "execution_count": null,
   "id": "8665ec37",
   "metadata": {},
   "outputs": [],
   "source": [
    "begin_end_frames_dict = {\"06ebcf354f5c41519669f187e16de364\": []}"
   ]
  },
  {
   "cell_type": "code",
   "execution_count": null,
   "id": "20c185e8",
   "metadata": {},
   "outputs": [],
   "source": [
    "mean_traces_dict = {}\n",
    "for uuid in neuron_ids_dict:\n",
    "    mean_traces_dict[uuid] = dict()\n",
    "    for ival_type in neuron_ids_dict[uuid].keys():\n",
    "        ival_ids = neuron_ids_dict[uuid][ival_type]\n",
    "        mean_traces_dict[uuid][ival_type] = traces_dict[uuid][ival_ids].mean(axis=0)"
   ]
  },
  {
   "cell_type": "code",
   "execution_count": null,
   "id": "aead9950",
   "metadata": {},
   "outputs": [],
   "source": [
    "fig = plt.figure(figsize=(18,12))\n",
    "plt.plot(mean_traces_dict[\"06ebcf354f5c41519669f187e16de364\"][\"sd_only\"][5600:6000])\n",
    "plt.plot(mean_traces_dict[\"06ebcf354f5c41519669f187e16de364\"][\"spikes\"][5600:6000])\n",
    "#plt.savefig(\"D:\\\\Downloads\\\\flashing_over_sd.jpg\")\n",
    "plt.show()"
   ]
  },
  {
   "cell_type": "code",
   "execution_count": null,
   "id": "9908afdd",
   "metadata": {},
   "outputs": [],
   "source": [
    "all_ids = np.sort(np.concatenate([neuron_ids_dict[\"06ebcf354f5c41519669f187e16de364\"][\"sd_only\"], neuron_ids_dict[\"06ebcf354f5c41519669f187e16de364\"][\"spikes\"]]))\n",
    "a = np.mean(traces_dict[\"06ebcf354f5c41519669f187e16de364\"][all_ids], axis=0)[5600:6000]\n",
    "fig = plt.figure(figsize=(18, 12))\n",
    "plt.plot(a)\n",
    "plt.savefig(\"D:\\\\Downloads\\\\flashing_over_sd_mean.jpg\")\n",
    "plt.show()"
   ]
  },
  {
   "cell_type": "code",
   "execution_count": null,
   "id": "0c304317",
   "metadata": {},
   "outputs": [],
   "source": [
    "all_ids = np.sort(np.concatenate([neuron_ids_dict[\"06ebcf354f5c41519669f187e16de364\"][\"sd_only\"], neuron_ids_dict[\"06ebcf354f5c41519669f187e16de364\"][\"spikes\"]]))\n",
    "a = np.mean(traces_dict[\"06ebcf354f5c41519669f187e16de364\"], axis=0)[5600:6000]\n",
    "fig = plt.figure(figsize=(18, 12))\n",
    "plt.plot(a)\n",
    "plt.savefig(\"D:\\\\Downloads\\\\flashing_over_sd_all_in_FOV.jpg\")\n",
    "plt.show()"
   ]
  },
  {
   "cell_type": "code",
   "execution_count": null,
   "id": "f2c95923",
   "metadata": {},
   "outputs": [],
   "source": []
  }
 ],
 "metadata": {
  "kernelspec": {
   "display_name": "Python 3 (ipykernel)",
   "language": "python",
   "name": "python3"
  },
  "language_info": {
   "codemirror_mode": {
    "name": "ipython",
    "version": 3
   },
   "file_extension": ".py",
   "mimetype": "text/x-python",
   "name": "python",
   "nbconvert_exporter": "python",
   "pygments_lexer": "ipython3",
   "version": "3.8.12"
  }
 },
 "nbformat": 4,
 "nbformat_minor": 5
}
