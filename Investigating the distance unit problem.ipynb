{
 "cells": [
  {
   "cell_type": "code",
   "execution_count": null,
   "id": "7f1e823a",
   "metadata": {},
   "outputs": [],
   "source": [
    "#Auto-reload modules (used to develop functions outside this notebook)\n",
    "%load_ext autoreload\n",
    "%autoreload 2"
   ]
  },
  {
   "cell_type": "code",
   "execution_count": null,
   "id": "82165a86",
   "metadata": {},
   "outputs": [],
   "source": [
    "from RippleNoiseRemoval import RNR\n",
    "import labrotation.file_handling as fh\n",
    "import h5py\n",
    "from time import time\n",
    "\n",
    "import bokeh.plotting as bpl\n",
    "import cv2\n",
    "import glob\n",
    "import logging\n",
    "import matplotlib.pyplot as plt\n",
    "import numpy as np\n",
    "import os\n",
    "from labrotation import file_handling as fh\n",
    "from copy import deepcopy\n",
    "try:\n",
    "    cv2.setNumThreads(0)\n",
    "except():\n",
    "    pass\n",
    "\n",
    "import caiman as cm\n",
    "from caiman.motion_correction import MotionCorrect\n",
    "from caiman.source_extraction.cnmf import cnmf as cnmf\n",
    "from caiman.source_extraction.cnmf import params as params\n",
    "from caiman.utils.utils import download_demo\n",
    "from caiman.utils.visualization import plot_contours, nb_view_patches, nb_plot_contour\n",
    "\n",
    "import json  # for exporting parameters\n",
    "\n",
    "# for exporting moco data:\n",
    "from caiman.motion_correction import sliding_window\n",
    "import cv2\n",
    "\n",
    "import pandas as pd  # for opening data documentation\n",
    "import warnings\n",
    "import uuid  # for generating UUID in case of missing value\n",
    "\n",
    "\n",
    "from movie_splitting import numpy_to_hdf5\n",
    "bpl.output_notebook()"
   ]
  },
  {
   "cell_type": "code",
   "execution_count": null,
   "id": "2fc57b92",
   "metadata": {},
   "outputs": [],
   "source": [
    "import labrotation.two_photon_session as tps\n",
    "import datadoc_util as ddoc"
   ]
  },
  {
   "cell_type": "code",
   "execution_count": null,
   "id": "8569ec47",
   "metadata": {},
   "outputs": [],
   "source": [
    "env_dict = dict()\n",
    "if not os.path.exists(\"./.env\"):\n",
    "    print(\".env does not exist\")\n",
    "else:\n",
    "    with open(\"./.env\", \"r\") as f:\n",
    "        for line in f.readlines():\n",
    "            l = line.rstrip().split(\"=\")\n",
    "            env_dict[l[0]] = l[1]\n",
    "print(env_dict.keys())"
   ]
  },
  {
   "cell_type": "code",
   "execution_count": null,
   "id": "e92a9f71",
   "metadata": {},
   "outputs": [],
   "source": [
    "dd = ddoc.DataDocumentation(env_dict[\"DATA_DOCU_FOLDER\"])\n",
    "dd.loadDataDoc()\n",
    "if \"SERVER_SYMBOL\" in env_dict.keys():\n",
    "    dd.setDataDriveSymbol(env_dict[\"SERVER_SYMBOL\"])\n",
    "print(\"data documentation loaded\")"
   ]
  },
  {
   "cell_type": "code",
   "execution_count": null,
   "id": "9048f63d",
   "metadata": {},
   "outputs": [],
   "source": [
    "env_dict[\"MATLAB_2P_FOLDER\"]"
   ]
  },
  {
   "cell_type": "code",
   "execution_count": null,
   "id": "5dd734a7",
   "metadata": {},
   "outputs": [],
   "source": [
    "for i_row, row in dd.GROUPING_DF.iterrows():\n",
    "    if not isinstance(row[\"labview\"], float) and not os.path.exists(os.path.join(row[\"folder\"], row[\"labview\"])):  # if does not exist, np.nan, which is float\n",
    "        print(os.path.join(row[\"folder\"], row[\"labview\"]))"
   ]
  },
  {
   "cell_type": "code",
   "execution_count": null,
   "id": "f3d07eee",
   "metadata": {},
   "outputs": [],
   "source": [
    "fold = r[\"folder\"]\n",
    "fpath_lv = os.path.join(fold, r[\"labview\"])\n",
    "fpath_lvtime = os.path.join(fold, os.path.splitext(r[\"labview\"])[0] + \"time.txt\")\n",
    "fpath_nikmeta = os.path.join(fold, r[\"nikon_meta\"])"
   ]
  },
  {
   "cell_type": "code",
   "execution_count": null,
   "id": "3fd8cdd6",
   "metadata": {},
   "outputs": [],
   "source": [
    "session = tps.TwoPhotonSession.init_and_process(nd2_path = None, nd2_timestamps_path = fpath_nikmeta, labview_path = fpath_lv, labview_timestamps_path = fpath_lvtime, lfp_path = None, matlab_2p_folder = env_dict[\"MATLAB_2P_FOLDER\"])"
   ]
  },
  {
   "cell_type": "code",
   "execution_count": null,
   "id": "e5573071",
   "metadata": {},
   "outputs": [],
   "source": [
    "# TODO: go over each file; first, without tps.init_and_process, just list the total distance per round max values (so how much the distances add up to)\n",
    "# Then do the downsampling, and see if it is still the same. Then will need to find a factor for totdist_abs to become same unit."
   ]
  },
  {
   "cell_type": "code",
   "execution_count": null,
   "id": "922c8c47",
   "metadata": {},
   "outputs": [],
   "source": [
    "with open(fpath_lv, \"r\") as f:\n",
    "    l = []\n",
    "    for line in f.readlines()[:-1]:  # do not deal with incomplete last line\n",
    "        l.append(list(map(lambda x: float(x), line.split(\"\\t\"))))\n",
    "    l = np.array(l)\n",
    "    # get first and last row for each round\n",
    "    i_last_per_round = np.where(l[1:, 0] - l[:-1, 0])[0]\n",
    "    #i_first = np.concatenate([np.array([0]), i_last[:-1] + 1])  # add first row as beginning, and remove last, incomplete row\n",
    "    belt_length_vals = l[i_last_per_round, 3]  # column #4 (=index 3) is the distance per round"
   ]
  },
  {
   "cell_type": "code",
   "execution_count": null,
   "id": "2af6edd3",
   "metadata": {},
   "outputs": [],
   "source": [
    "dict_recording_belt_lengths = dict()\n",
    "for i_row, row in dd.GROUPING_DF.iterrows():\n",
    "    if not isinstance(row[\"labview\"], float):\n",
    "        fpath_lv = os.path.join(row[\"folder\"], row[\"labview\"])\n",
    "        try:\n",
    "            with open(fpath_lv, \"r\") as f:\n",
    "                l = []\n",
    "                for line in f.readlines()[:-1]:  # do not deal with incomplete last line\n",
    "                    l.append(list(map(lambda x: float(x), line.split(\"\\t\"))))\n",
    "                l = np.array(l)\n",
    "                # get first and last row for each round\n",
    "                i_last_per_round = np.where(l[1:, 0] - l[:-1, 0])[0]\n",
    "                #i_first = np.concatenate([np.array([0]), i_last[:-1] + 1])  # add first row as beginning, and remove last, incomplete row\n",
    "                belt_length_vals = l[i_last_per_round, 3]  # column #4 (=index 3) is the distance per round\n",
    "                #if len(belt_length_vals) > 0:\n",
    "                dict_recording_belt_lengths[fpath_lv] = belt_length_vals\n",
    "        except IndexError:\n",
    "            print(f\"IndexError for {fpath_lv}\")"
   ]
  },
  {
   "cell_type": "code",
   "execution_count": null,
   "id": "c1a19b0f",
   "metadata": {},
   "outputs": [],
   "source": [
    "dict_recording_belt_lengths2 = dict()\n",
    "for fname in dict_recording_belt_lengths:\n",
    "    if len(dict_recording_belt_lengths[fname]) > 0:\n",
    "        dict_recording_belt_lengths2[fname] = list(dict_recording_belt_lengths[fname])  # convert to list for json compatibility"
   ]
  },
  {
   "cell_type": "code",
   "execution_count": null,
   "id": "65cb5184",
   "metadata": {},
   "outputs": [],
   "source": [
    "out_fpath = os.path.join(env_dict[\"DOWNLOADS_FOLDER\"], \"belt_lengths.json\")\n",
    "with open(out_fpath, \"w\") as f:\n",
    "    json.dump(dict_recording_belt_lengths2, f, indent=4)"
   ]
  },
  {
   "cell_type": "code",
   "execution_count": null,
   "id": "247a45a3",
   "metadata": {},
   "outputs": [],
   "source": [
    "session.belt_scn_dict[\"rounds\"]"
   ]
  },
  {
   "cell_type": "code",
   "execution_count": null,
   "id": "f8eb25ae",
   "metadata": {},
   "outputs": [],
   "source": [
    "session.belt_scn_dict"
   ]
  },
  {
   "cell_type": "code",
   "execution_count": null,
   "id": "5797a9fa",
   "metadata": {},
   "outputs": [],
   "source": [
    "import matplotlib.pyplot as plt"
   ]
  },
  {
   "cell_type": "code",
   "execution_count": null,
   "id": "2cd4a8df",
   "metadata": {},
   "outputs": [],
   "source": [
    "plt.plot(session.belt_scn_dict[\"totdist\"])"
   ]
  },
  {
   "cell_type": "code",
   "execution_count": null,
   "id": "a844f76d",
   "metadata": {},
   "outputs": [],
   "source": [
    "plt.plot(session.belt_dict[\"distance\"])"
   ]
  },
  {
   "cell_type": "code",
   "execution_count": null,
   "id": "d54ac2ab",
   "metadata": {},
   "outputs": [],
   "source": [
    "# totdist and distance are similar, one in tscn_dict, the other in the original... \n",
    "#So same normalization should apply. Get it from matlab, apply to totdist and toitdist_abs"
   ]
  },
  {
   "cell_type": "code",
   "execution_count": null,
   "id": "3b6b3428",
   "metadata": {},
   "outputs": [],
   "source": [
    "plt.plot(session.belt_scn_dict[\"speed\"])"
   ]
  },
  {
   "cell_type": "code",
   "execution_count": null,
   "id": "98095fcf",
   "metadata": {},
   "outputs": [],
   "source": [
    "session.belt_scn_dict.keys()"
   ]
  },
  {
   "cell_type": "code",
   "execution_count": null,
   "id": "0e4ae4bc",
   "metadata": {},
   "outputs": [],
   "source": [
    "plt.plot(session.belt_scn_dict[\"distance\"] - session.belt_scn_dict[\"totdist\"])"
   ]
  },
  {
   "cell_type": "code",
   "execution_count": null,
   "id": "725edf22",
   "metadata": {},
   "outputs": [],
   "source": [
    "plt.plot(session.belt_scn_dict[\"distance\"])"
   ]
  },
  {
   "cell_type": "code",
   "execution_count": null,
   "id": "b74855b6",
   "metadata": {},
   "outputs": [],
   "source": [
    "session.belt_scn_dict.keys()"
   ]
  },
  {
   "cell_type": "code",
   "execution_count": null,
   "id": "8f36e027",
   "metadata": {},
   "outputs": [],
   "source": [
    "plt.plot(session.belt_scn_dict[\"totdist\"])"
   ]
  },
  {
   "cell_type": "code",
   "execution_count": null,
   "id": "62064559",
   "metadata": {},
   "outputs": [],
   "source": [
    "factor = np.mean(dict_recording_belt_lengths2[fpath_lv])"
   ]
  },
  {
   "cell_type": "code",
   "execution_count": null,
   "id": "14124add",
   "metadata": {},
   "outputs": [],
   "source": [
    "plt.plot((1500*session.belt_scn_dict[\"totdist_abs\"]/factor)%1500)\n",
    "plt.plot(session.belt_scn_dict[\"distance\"])"
   ]
  },
  {
   "cell_type": "code",
   "execution_count": null,
   "id": "396845a4",
   "metadata": {},
   "outputs": [],
   "source": [
    "factor"
   ]
  }
 ],
 "metadata": {
  "kernelspec": {
   "display_name": "Python 3 (ipykernel)",
   "language": "python",
   "name": "python3"
  },
  "language_info": {
   "codemirror_mode": {
    "name": "ipython",
    "version": 3
   },
   "file_extension": ".py",
   "mimetype": "text/x-python",
   "name": "python",
   "nbconvert_exporter": "python",
   "pygments_lexer": "ipython3",
   "version": "3.8.12"
  }
 },
 "nbformat": 4,
 "nbformat_minor": 5
}
