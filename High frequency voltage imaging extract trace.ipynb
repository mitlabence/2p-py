{
 "cells": [
  {
   "cell_type": "code",
   "execution_count": null,
   "id": "a8d024f0",
   "metadata": {},
   "outputs": [],
   "source": [
    "#Auto-reload modules (used to develop functions outside this notebook)\n",
    "%load_ext autoreload\n",
    "%autoreload 2"
   ]
  },
  {
   "cell_type": "code",
   "execution_count": null,
   "id": "03973df0",
   "metadata": {},
   "outputs": [],
   "source": [
    "from labrotation.two_photon_session import TwoPhotonSession\n",
    "import labrotation.file_handling as fh\n",
    "from matplotlib import pyplot as plt\n",
    "import matplotlib\n",
    "import os\n",
    "import h5py\n",
    "import pims_nd2\n",
    "import numpy as np\n",
    "import math"
   ]
  },
  {
   "cell_type": "markdown",
   "id": "878f0169",
   "metadata": {},
   "source": [
    "### Set output folder"
   ]
  },
  {
   "cell_type": "code",
   "execution_count": null,
   "id": "500f7ac1",
   "metadata": {},
   "outputs": [],
   "source": [
    "env_dict = dict()\n",
    "if not os.path.exists(\"./.env\"):\n",
    "    print(\".env does not exist\")\n",
    "else:\n",
    "    with open(\"./.env\", \"r\") as f:\n",
    "        for line in f.readlines():\n",
    "            l = line.rstrip().split(\"=\")\n",
    "            env_dict[l[0]] = l[1]\n",
    "print(env_dict.keys())"
   ]
  },
  {
   "cell_type": "markdown",
   "id": "1c863a12",
   "metadata": {},
   "source": [
    "### Set parameters"
   ]
  },
  {
   "cell_type": "code",
   "execution_count": null,
   "id": "3274beb3",
   "metadata": {},
   "outputs": [],
   "source": [
    "font = {'family' : 'normal',\n",
    "        'weight' : 'bold',\n",
    "        'size'   : 20}\n",
    "\n",
    "matplotlib.rc('font', **font)"
   ]
  },
  {
   "cell_type": "markdown",
   "id": "194b6c22",
   "metadata": {},
   "source": [
    "# Open file"
   ]
  },
  {
   "cell_type": "code",
   "execution_count": null,
   "id": "f0449618",
   "metadata": {},
   "outputs": [],
   "source": [
    "nd2_fpath = fh.open_file(\"Open nikon nd2 file!\")"
   ]
  },
  {
   "cell_type": "code",
   "execution_count": null,
   "id": "ec6fc624",
   "metadata": {},
   "outputs": [],
   "source": [
    "nik_data = pims_nd2.ND2_Reader(nd2_fpath)"
   ]
  },
  {
   "cell_type": "markdown",
   "id": "ae0cb15c",
   "metadata": {},
   "source": [
    "# Limit to specific pixels\n",
    "The assumption is that even though the voltage indicator has negative signal (i.e. activity = lower fluorescence level), the baseline is higher where there is expression.  "
   ]
  },
  {
   "cell_type": "code",
   "execution_count": null,
   "id": "05409eae",
   "metadata": {},
   "outputs": [],
   "source": [
    "PIXEL_PERCENT = 0.1  # 0.1 corresponds to 10%, i.e. take 10% of total pixels for trace extraction\n",
    "\n",
    "res = nik_data[0].shape\n",
    "n_pixels = res[0]*res[1]\n",
    "\n",
    "n_selected_pixels = math.ceil(n_pixels*PIXEL_PERCENT)\n",
    "\n",
    "pixel_percent_100 = PIXEL_PERCENT*100  # in %, i.e. max is 100"
   ]
  },
  {
   "cell_type": "code",
   "execution_count": null,
   "id": "e028d212",
   "metadata": {},
   "outputs": [],
   "source": [
    "baseline_img = np.array(nik_data[0:10]).mean(axis=0)"
   ]
  },
  {
   "cell_type": "markdown",
   "id": "983b2b5f",
   "metadata": {},
   "source": [
    "## Get pixels coordinates"
   ]
  },
  {
   "cell_type": "code",
   "execution_count": null,
   "id": "1528e3b9",
   "metadata": {},
   "outputs": [],
   "source": [
    "# flatten the baseline image, sort indices by value. Need to flip it from ascending to \n",
    "# descending order: then first n elements will be the largest (i.e. brightest pixels)\n",
    "selected_pixels = np.flip(np.argsort(baseline_img.flatten()))[:n_selected_pixels]\n",
    "# unravel into the 2d indexing\n",
    "row_indices, col_indices = np.unravel_index(selected_pixels, baseline_img.shape)"
   ]
  },
  {
   "cell_type": "markdown",
   "id": "3cc01a34",
   "metadata": {},
   "source": [
    "## Check resulting pixels\n",
    "Yellow/green marks the selected pixels, contrasted with dark blue background"
   ]
  },
  {
   "cell_type": "code",
   "execution_count": null,
   "id": "f28b030b",
   "metadata": {},
   "outputs": [],
   "source": [
    "binary_img = np.zeros(baseline_img.shape)\n",
    "binary_img[row_indices,col_indices] = 1.0"
   ]
  },
  {
   "cell_type": "code",
   "execution_count": null,
   "id": "3548a0df",
   "metadata": {},
   "outputs": [],
   "source": [
    "fig = plt.figure(figsize=(18,18))\n",
    "plt.imshow(baseline_img)\n",
    "plt.legend()\n",
    "plt.show()"
   ]
  },
  {
   "cell_type": "code",
   "execution_count": null,
   "id": "9d4dfb89",
   "metadata": {},
   "outputs": [],
   "source": [
    "fig = plt.figure(figsize=(18,18))\n",
    "plt.imshow(binary_img)\n",
    "plt.show()"
   ]
  },
  {
   "cell_type": "markdown",
   "id": "1a53e7ae",
   "metadata": {},
   "source": [
    "# Extract mean trace of selected pixels"
   ]
  },
  {
   "cell_type": "code",
   "execution_count": null,
   "id": "2d4289f2",
   "metadata": {},
   "outputs": [],
   "source": [
    "# [:, row_indices, col_indices] flattens the array into shape (n_frames, n_selected_pixels)\n",
    "mean_trace = np.array(nik_data)[:,row_indices, col_indices].mean(axis=1) "
   ]
  },
  {
   "cell_type": "markdown",
   "id": "029add39",
   "metadata": {},
   "source": [
    "# Compare with whole FOV mean trace"
   ]
  },
  {
   "cell_type": "code",
   "execution_count": null,
   "id": "b0d3c77c",
   "metadata": {},
   "outputs": [],
   "source": [
    "mean_trace_whole_fov = np.array(nik_data).mean(axis=(1,2))"
   ]
  },
  {
   "cell_type": "code",
   "execution_count": null,
   "id": "0705ccce",
   "metadata": {},
   "outputs": [],
   "source": [
    "mean_trace_whole_fov.shape"
   ]
  },
  {
   "cell_type": "code",
   "execution_count": null,
   "id": "6e4c2a4c",
   "metadata": {},
   "outputs": [],
   "source": [
    "fig, axs = plt.subplots(nrows=2, ncols=1,figsize=(18,12), sharex=True, sharey=False)\n",
    "\n",
    "axs[0].plot(mean_trace)\n",
    "axs[0].title.set_text(f'Brightest {pixel_percent_100}% pixels mean')\n",
    "\n",
    "axs[1].plot(mean_trace_whole_fov)\n",
    "axs[1].title.set_text('Whole FOV mean')\n",
    "\n",
    "plt.xlim((9500, 30000))\n",
    "axs[0].set_ylim((40,95))\n",
    "axs[1].set_ylim((35,60))\n",
    "\n",
    "axs[0].set_ylabel('fluorescence (a.u.)')\n",
    "axs[1].set_ylabel('fluorescence (a.u.)')\n",
    "\n",
    "axs[1].set_xlabel(\"frame\")\n",
    "\n",
    "plt.show()"
   ]
  },
  {
   "cell_type": "markdown",
   "id": "ec92a6c1",
   "metadata": {},
   "source": [
    "# Create summary plot\n",
    "For reporting results per recording"
   ]
  },
  {
   "cell_type": "code",
   "execution_count": null,
   "id": "5c8667af",
   "metadata": {},
   "outputs": [],
   "source": [
    "save_summary_fig = False\n",
    "\n",
    "\n",
    "fig, axs = plt.subplots(nrows=4, ncols=1,figsize=(18,24), sharex=False, sharey=False, gridspec_kw={'height_ratios': [3, 3, 1, 1]})\n",
    "\n",
    "axs[0].plot(mean_trace)\n",
    "axs[0].title.set_text(f'Brightest {int(pixel_percent_100)}% pixels mean')\n",
    "\n",
    "axs[1].plot(mean_trace_whole_fov)\n",
    "axs[1].title.set_text('Whole FOV mean')\n",
    "\n",
    "axs[0].set_xlim((9500, 30000))\n",
    "axs[1].set_xlim((9500, 30000))\n",
    "axs[0].set_ylim((40,95))\n",
    "axs[1].set_ylim((35,60))\n",
    "\n",
    "axs[0].set_ylabel('fluorescence (a.u.)')\n",
    "axs[1].set_ylabel('fluorescence (a.u.)')\n",
    "\n",
    "axs[1].set_xlabel(\"frame\")\n",
    "\n",
    "\n",
    "axs[2].imshow(baseline_img)\n",
    "axs[2].title.set_text(\"FOV image\")\n",
    "\n",
    "\n",
    "axs[3].title.set_text(f\"Brightest {int(pixel_percent_100)}% pixels\")\n",
    "axs[3].imshow(binary_img)\n",
    "plt.tight_layout()\n",
    "if save_summary_fig:\n",
    "    output_fpath = os.path.join(env_dict[\"DOWNLOADS_FOLDER\"], f\"voltage_comparison_{fh.get_datetime_for_fname()}.jpg\")\n",
    "    plt.savefig(output_fpath)\n",
    "    print(f\"Saved to {output_fpath}\")\n",
    "plt.show()"
   ]
  },
  {
   "cell_type": "code",
   "execution_count": null,
   "id": "2f72ec84",
   "metadata": {},
   "outputs": [],
   "source": []
  }
 ],
 "metadata": {
  "kernelspec": {
   "display_name": "Python 3 (ipykernel)",
   "language": "python",
   "name": "python3"
  },
  "language_info": {
   "codemirror_mode": {
    "name": "ipython",
    "version": 3
   },
   "file_extension": ".py",
   "mimetype": "text/x-python",
   "name": "python",
   "nbconvert_exporter": "python",
   "pygments_lexer": "ipython3",
   "version": "3.8.12"
  }
 },
 "nbformat": 4,
 "nbformat_minor": 5
}
