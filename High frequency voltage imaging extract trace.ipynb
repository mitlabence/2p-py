{
 "cells": [
  {
   "cell_type": "code",
   "execution_count": null,
   "id": "a8d024f0",
   "metadata": {},
   "outputs": [],
   "source": [
    "#Auto-reload modules (used to develop functions outside this notebook)\n",
    "%load_ext autoreload\n",
    "%autoreload 2"
   ]
  },
  {
   "cell_type": "code",
   "execution_count": null,
   "id": "03973df0",
   "metadata": {},
   "outputs": [],
   "source": [
    "from labrotation.two_photon_session import TwoPhotonSession\n",
    "import labrotation.file_handling as fh\n",
    "from matplotlib import pyplot as plt\n",
    "import matplotlib\n",
    "import os\n",
    "import h5py\n",
    "import pims_nd2\n",
    "import numpy as np\n",
    "import math\n",
    "import h5py\n",
    "import pyabf\n",
    "from datetime import datetime\n",
    "import warnings\n",
    "import pandas as pd"
   ]
  },
  {
   "cell_type": "markdown",
   "id": "878f0169",
   "metadata": {},
   "source": [
    "### Set output folder"
   ]
  },
  {
   "cell_type": "code",
   "execution_count": null,
   "id": "500f7ac1",
   "metadata": {},
   "outputs": [],
   "source": [
    "env_dict = dict()\n",
    "if not os.path.exists(\"./.env\"):\n",
    "    print(\".env does not exist\")\n",
    "else:\n",
    "    with open(\"./.env\", \"r\") as f:\n",
    "        for line in f.readlines():\n",
    "            l = line.rstrip().split(\"=\")\n",
    "            env_dict[l[0]] = l[1]\n",
    "print(env_dict.keys())"
   ]
  },
  {
   "cell_type": "code",
   "execution_count": null,
   "id": "696f51a9",
   "metadata": {},
   "outputs": [],
   "source": [
    "output_folder = env_dict[\"DOWNLOADS_FOLDER\"]"
   ]
  },
  {
   "cell_type": "markdown",
   "id": "1c863a12",
   "metadata": {},
   "source": [
    "### Set parameters"
   ]
  },
  {
   "cell_type": "code",
   "execution_count": null,
   "id": "3274beb3",
   "metadata": {},
   "outputs": [],
   "source": [
    "font = {'family' : 'normal',\n",
    "        'weight' : 'bold',\n",
    "        'size'   : 20}\n",
    "\n",
    "matplotlib.rc('font', **font)"
   ]
  },
  {
   "cell_type": "markdown",
   "id": "194b6c22",
   "metadata": {},
   "source": [
    "# Open file"
   ]
  },
  {
   "cell_type": "code",
   "execution_count": null,
   "id": "f0449618",
   "metadata": {},
   "outputs": [],
   "source": [
    "nd2_fpath = fh.open_file(\"Open nikon nd2 file!\")\n",
    "nik_tstamps_fpath = fh.open_file(\"Open utf-8 nikon _nik.txt time stamp file!\")  # need it for precise time stamps; Nikon gets the imaging frequency wrong sometimes...\n",
    "lfp_fpath = fh.open_file(\"Open LFP .abf file!\")"
   ]
  },
  {
   "cell_type": "code",
   "execution_count": null,
   "id": "02311d82",
   "metadata": {},
   "outputs": [],
   "source": [
    "df_tstamps = pd.read_csv(nik_tstamps_fpath, encoding=\"utf-8\", delimiter=\"\\t\")"
   ]
  },
  {
   "cell_type": "code",
   "execution_count": null,
   "id": "ec6fc624",
   "metadata": {},
   "outputs": [],
   "source": [
    "nik_data = pims_nd2.ND2_Reader(nd2_fpath)"
   ]
  },
  {
   "cell_type": "markdown",
   "id": "ae0cb15c",
   "metadata": {},
   "source": [
    "# Limit to specific pixels\n",
    "The assumption is that even though the voltage indicator has negative signal (i.e. activity = lower fluorescence level), the baseline is higher where there is expression.  "
   ]
  },
  {
   "cell_type": "code",
   "execution_count": null,
   "id": "05409eae",
   "metadata": {},
   "outputs": [],
   "source": [
    "PIXEL_PERCENT = 0.05  # 0.1 corresponds to 10%, i.e. take 10% of total pixels for trace extraction\n",
    "\n",
    "res = nik_data[0].shape\n",
    "n_pixels = res[0]*res[1]\n",
    "\n",
    "n_selected_pixels = math.ceil(n_pixels*PIXEL_PERCENT)\n",
    "\n",
    "pixel_percent_100 = PIXEL_PERCENT*100  # in %, i.e. max is 100"
   ]
  },
  {
   "cell_type": "code",
   "execution_count": null,
   "id": "80d530c7",
   "metadata": {},
   "outputs": [],
   "source": [
    "n_frames_template = 10"
   ]
  },
  {
   "cell_type": "code",
   "execution_count": null,
   "id": "e028d212",
   "metadata": {},
   "outputs": [],
   "source": [
    "baseline_img = np.array(nik_data[0:n_frames_template]).mean(axis=0)"
   ]
  },
  {
   "cell_type": "code",
   "execution_count": null,
   "id": "cf256bd7",
   "metadata": {},
   "outputs": [],
   "source": [
    "fig = plt.figure(figsize=(18,18))\n",
    "plt.imshow(baseline_img)\n",
    "plt.show()"
   ]
  },
  {
   "cell_type": "markdown",
   "id": "4691b347",
   "metadata": {},
   "source": [
    "## Set geometrical limits to soma"
   ]
  },
  {
   "cell_type": "code",
   "execution_count": null,
   "id": "fc64bd7a",
   "metadata": {},
   "outputs": [],
   "source": [
    "X_MIN = 100#200  # inclusive\n",
    "X_MAX = 400#325  # exclusive\n",
    "Y_MIN = 0    # inclusive\n",
    "Y_MAX = 100#32   # exclusive"
   ]
  },
  {
   "cell_type": "code",
   "execution_count": null,
   "id": "e6ebbc3c",
   "metadata": {},
   "outputs": [],
   "source": [
    "if \"X_MIN\" not in locals():\n",
    "    X_MIN = 0\n",
    "if \"X_MAX\" not in locals():\n",
    "    X_MAX = baseline_img.shape[1]\n",
    "if \"Y_MIN\" not in locals():\n",
    "    Y_MIN = 0\n",
    "if \"Y_MAX\" not in locals():\n",
    "    Y_MAX = baseline_img.shape[0] "
   ]
  },
  {
   "cell_type": "code",
   "execution_count": null,
   "id": "733b191b",
   "metadata": {},
   "outputs": [],
   "source": [
    "baseline_img_cropped = baseline_img[Y_MIN:Y_MAX,X_MIN:X_MAX]"
   ]
  },
  {
   "cell_type": "markdown",
   "id": "9ee22a61",
   "metadata": {},
   "source": [
    "## Check FOV to be used"
   ]
  },
  {
   "cell_type": "code",
   "execution_count": null,
   "id": "9fd8574d",
   "metadata": {},
   "outputs": [],
   "source": [
    "fig = plt.figure(figsize=(18,18))\n",
    "plt.imshow(baseline_img_cropped)\n",
    "plt.show()"
   ]
  },
  {
   "cell_type": "markdown",
   "id": "983b2b5f",
   "metadata": {},
   "source": [
    "## Get pixels coordinates"
   ]
  },
  {
   "cell_type": "code",
   "execution_count": null,
   "id": "1528e3b9",
   "metadata": {},
   "outputs": [],
   "source": [
    "# flatten the baseline image, sort indices by value. Need to flip it from ascending to \n",
    "# descending order: then first n elements will be the largest (i.e. brightest pixels)\n",
    "selected_pixels = np.flip(np.argsort(baseline_img_cropped.flatten()))[:n_selected_pixels]\n",
    "# unravel into the 2d indexing\n",
    "row_indices, col_indices = np.unravel_index(selected_pixels, baseline_img_cropped.shape)"
   ]
  },
  {
   "cell_type": "markdown",
   "id": "962ef890",
   "metadata": {},
   "source": [
    "### Convert back indices to non-cropped shape"
   ]
  },
  {
   "cell_type": "code",
   "execution_count": null,
   "id": "8977211f",
   "metadata": {},
   "outputs": [],
   "source": [
    "row_indices += Y_MIN\n",
    "col_indices += X_MIN"
   ]
  },
  {
   "cell_type": "markdown",
   "id": "3cc01a34",
   "metadata": {},
   "source": [
    "## Check resulting pixels\n",
    "Yellow/green marks the selected pixels, contrasted with dark blue background"
   ]
  },
  {
   "cell_type": "code",
   "execution_count": null,
   "id": "f28b030b",
   "metadata": {},
   "outputs": [],
   "source": [
    "binary_img = np.zeros(baseline_img.shape)\n",
    "binary_img[row_indices,col_indices] = 1.0"
   ]
  },
  {
   "cell_type": "code",
   "execution_count": null,
   "id": "3548a0df",
   "metadata": {},
   "outputs": [],
   "source": [
    "fig = plt.figure(figsize=(18,18))\n",
    "plt.imshow(baseline_img)\n",
    "plt.show()"
   ]
  },
  {
   "cell_type": "code",
   "execution_count": null,
   "id": "9d4dfb89",
   "metadata": {},
   "outputs": [],
   "source": [
    "fig = plt.figure(figsize=(18,18))\n",
    "plt.imshow(binary_img)\n",
    "plt.show()"
   ]
  },
  {
   "cell_type": "code",
   "execution_count": null,
   "id": "6abff507",
   "metadata": {},
   "outputs": [],
   "source": [
    "fov_shape = binary_img.shape"
   ]
  },
  {
   "cell_type": "markdown",
   "id": "1a53e7ae",
   "metadata": {},
   "source": [
    "# Extract mean trace of selected pixels"
   ]
  },
  {
   "cell_type": "code",
   "execution_count": null,
   "id": "2d4289f2",
   "metadata": {},
   "outputs": [],
   "source": [
    "# [:, row_indices, col_indices] flattens the array into shape (n_frames, n_selected_pixels)\n",
    "y_nikon = np.array(nik_data)[:,row_indices, col_indices].mean(axis=1)"
   ]
  },
  {
   "cell_type": "code",
   "execution_count": null,
   "id": "c3780822",
   "metadata": {},
   "outputs": [],
   "source": [
    "tstamp_start_nik = nik_data.metadata[\"time_start\"]"
   ]
  },
  {
   "cell_type": "code",
   "execution_count": null,
   "id": "7d35ced8",
   "metadata": {},
   "outputs": [],
   "source": [
    "# extract lfp \n",
    "lfp = pyabf.ABF(lfp_fpath)"
   ]
  },
  {
   "cell_type": "code",
   "execution_count": null,
   "id": "7997e68e",
   "metadata": {},
   "outputs": [],
   "source": [
    "tstamp_start_lfp = lfp.abfDateTime"
   ]
  },
  {
   "cell_type": "code",
   "execution_count": null,
   "id": "092379f2",
   "metadata": {},
   "outputs": [],
   "source": [
    "df_tstamps[\"Events\"].unique()"
   ]
  },
  {
   "cell_type": "code",
   "execution_count": null,
   "id": "6d7c6ca4",
   "metadata": {},
   "outputs": [],
   "source": [
    "df_tstamps_filtered = df_tstamps[df_tstamps[\"Events\"].isna()]"
   ]
  },
  {
   "cell_type": "code",
   "execution_count": null,
   "id": "1e276e12",
   "metadata": {},
   "outputs": [],
   "source": [
    "t_nikon = np.array(df_tstamps_filtered[\"SW Time [s]\"])\n",
    "t_nikon = t_nikon - t_nikon[0]"
   ]
  },
  {
   "cell_type": "code",
   "execution_count": null,
   "id": "de38e9b5",
   "metadata": {},
   "outputs": [],
   "source": [
    "# assume nikon was started after LFP\n",
    "delay_nik = (tstamp_start_nik - tstamp_start_lfp).total_seconds() \n",
    "if delay_nik < 0:\n",
    "    warnings.warn(\"Nikon seems to have started before LFP!\")"
   ]
  },
  {
   "cell_type": "code",
   "execution_count": null,
   "id": "71a061bf",
   "metadata": {},
   "outputs": [],
   "source": [
    "LFP_SCALING_FACTOR = 1.0038  # the axoscope time stamps are off by a constant factor..."
   ]
  },
  {
   "cell_type": "code",
   "execution_count": null,
   "id": "37e1298e",
   "metadata": {},
   "outputs": [],
   "source": [
    "lfp.setSweep(0, 0)\n",
    "t_lfp = lfp.sweepX * LFP_SCALING_FACTOR\n",
    "y_lfp = lfp.sweepY\n",
    "lfp.setSweep(0, 1)\n",
    "t_loco = lfp.sweepX * LFP_SCALING_FACTOR\n",
    "y_loco = lfp.sweepY"
   ]
  },
  {
   "cell_type": "code",
   "execution_count": null,
   "id": "710cde6e",
   "metadata": {},
   "outputs": [],
   "source": [
    "delay_lfp_manual = 0.48#0.4  # adjust this: increase to delay LFP, decrease to bring it earlier "
   ]
  },
  {
   "cell_type": "code",
   "execution_count": null,
   "id": "4dd21674",
   "metadata": {},
   "outputs": [],
   "source": [
    "current_time = datetime.now()"
   ]
  },
  {
   "cell_type": "code",
   "execution_count": null,
   "id": "5dda7ea9",
   "metadata": {},
   "outputs": [],
   "source": [
    "fname_out_fig = os.path.splitext(os.path.split(nd2_fpath)[-1])[0] + \"_fig_\" + current_time.strftime(\"%Y%m%d_%H%M%S\") + \".pdf\"\n",
    "fpath_out_fig = os.path.join(output_folder, fname_out_fig)\n",
    "print(f\"Saving figure to:\\n\\t{fpath_out_fig}\")"
   ]
  },
  {
   "cell_type": "code",
   "execution_count": null,
   "id": "f91caf50",
   "metadata": {},
   "outputs": [],
   "source": [
    "fig, axs = plt.subplots(3, 1, sharex=True, figsize = (18, 18))\n",
    "plt.suptitle(os.path.split(nd2_fpath)[-1])\n",
    "axs[0].plot(t_nikon, y_nikon, color=\"green\", label=\"fluo.\", linewidth=0.5)\n",
    "axs[1].plot(t_lfp - delay_nik + delay_lfp_manual, y_lfp, color=\"blue\", label=\"lfp\", linewidth=0.5)\n",
    "axs[2].plot(t_loco - delay_nik + delay_lfp_manual, y_loco, color=\"grey\", label=\"loco.\", linewidth=0.5)\n",
    "#plt.xlim((20, 22.5))\n",
    "plt.savefig(fpath_out_fig)\n",
    "plt.show()"
   ]
  },
  {
   "cell_type": "code",
   "execution_count": null,
   "id": "d3636f83",
   "metadata": {},
   "outputs": [],
   "source": [
    "current_time = datetime.now()"
   ]
  },
  {
   "cell_type": "code",
   "execution_count": null,
   "id": "e379733f",
   "metadata": {},
   "outputs": [],
   "source": [
    "fname_out = os.path.splitext(os.path.split(nd2_fpath)[-1])[0] + \"_\" + current_time.strftime(\"%Y%m%d_%H%M%S\") + \".h5\"\n",
    "fpath_out = os.path.join(output_folder, fname_out)\n",
    "print(f\"Saving to:\\n\\t{fpath_out}\")"
   ]
  },
  {
   "cell_type": "code",
   "execution_count": null,
   "id": "2c2c0308",
   "metadata": {},
   "outputs": [],
   "source": [
    "# save all time series and matching parameters (shift values, scaling factor...)\n",
    "with h5py.File(fpath_out, \"w\") as hf:\n",
    "    hf.create_dataset(\"y_nikon\", data=y_nikon)\n",
    "    hf.create_dataset(\"t_nikon\", data=t_nikon)\n",
    "    hf.create_dataset(\"t_lfp\", data=t_lfp - delay_nik + delay_lfp_manual)\n",
    "    hf.create_dataset(\"y_lfp\", data=y_lfp)\n",
    "    hf.create_dataset(\"t_loco\", data=t_loco - delay_nik + delay_lfp_manual)\n",
    "    hf.create_dataset(\"y_loco\", data=y_loco)\n",
    "    hf.create_dataset(\"used_pixels_for_y_nikon\", data=selected_pixels)\n",
    "    hf.create_dataset(\"used_pixels_col\", data=col_indices)\n",
    "    hf.create_dataset(\"used_pixels_row\", data=row_indices)\n",
    "    hf.create_dataset(\"binary_template_image\", data=binary_img)\n",
    "    hf.create_dataset(\"template_image\", data=baseline_img)\n",
    "    hf.attrs[\"fov_shape\"] = fov_shape\n",
    "    hf.attrs[\"nikon_fname\"] = os.path.split(nd2_fpath)[-1]\n",
    "    hf.attrs[\"nikon_time_stamps_fname\"] = os.path.split(nik_tstamps_fpath)[-1]\n",
    "    hf.attrs[\"lfp_fname\"] = os.path.split(lfp_fpath)[-1]\n",
    "    hf.attrs[\"t_lfp_scaling_factor\"] = LFP_SCALING_FACTOR\n",
    "    hf.attrs[\"scaling_factor_comment\"] = \"loco and lfp from axoscope need scaling for time steps\"\n",
    "    hf.attrs[\"delay_nikon_to_lfp\"] = delay_nik\n",
    "    hf.attrs[\"delay_lfp_manual\"] = delay_lfp_manual\n",
    "    hf.attrs[\"n_frames_for_template\"] = n_frames_template\n",
    "    hf.attrs[\"window_XMIN\"] = X_MIN\n",
    "    hf.attrs[\"window_XMAX\"] = X_MAX\n",
    "    hf.attrs[\"window_YMIN\"] = Y_MIN\n",
    "    hf.attrs[\"window_YMAX\"] = Y_MAX\n",
    "    \n",
    "    \n",
    "    "
   ]
  },
  {
   "cell_type": "markdown",
   "id": "022bf3a6",
   "metadata": {},
   "source": [
    "# Check if reading file works"
   ]
  },
  {
   "cell_type": "code",
   "execution_count": null,
   "id": "c50c1976",
   "metadata": {},
   "outputs": [],
   "source": [
    "with h5py.File(fpath_out, \"r\") as hf:\n",
    "    fov_shape = hf.attrs[\"fov_shape\"]\n",
    "    tn = hf[\"t_nikon\"][()]\n",
    "    yn = hf[\"y_nikon\"][()]\n",
    "    tlfp = hf[\"t_lfp\"][()]\n",
    "    ylfp = hf[\"y_lfp\"][()]\n",
    "    tloc = hf[\"t_loco\"][()]\n",
    "    yloc = hf[\"y_loco\"][()]\n",
    "    template = hf[\"template_image\"][()]\n",
    "    pixels_row = hf[\"used_pixels_row\"][()]\n",
    "    pixels_col = hf[\"used_pixels_col\"][()]\n",
    "    binary_template = hf[\"binary_template_image\"][()]"
   ]
  },
  {
   "cell_type": "code",
   "execution_count": null,
   "id": "0cc98ad2",
   "metadata": {},
   "outputs": [],
   "source": [
    "plt.imshow(binary_template)"
   ]
  },
  {
   "cell_type": "code",
   "execution_count": null,
   "id": "63da8381",
   "metadata": {},
   "outputs": [],
   "source": [
    "check_binary_template = np.zeros(fov_shape)\n",
    "check_binary_template[pixels_row, pixels_col] = 1\n",
    "plt.imshow(check_binary_template)"
   ]
  },
  {
   "cell_type": "code",
   "execution_count": null,
   "id": "55ba0148",
   "metadata": {},
   "outputs": [],
   "source": [
    "plt.imshow(template)"
   ]
  },
  {
   "cell_type": "code",
   "execution_count": null,
   "id": "e6ee50ea",
   "metadata": {},
   "outputs": [],
   "source": [
    "fig, axs = plt.subplots(3, 1, sharex=True, figsize = (18, 18))\n",
    "plt.suptitle(os.path.split(nd2_fpath)[-1])\n",
    "axs[0].plot(tn, yn, color=\"green\", label=\"fluo.\", linewidth=0.5)\n",
    "axs[1].plot(tlfp, ylfp, color=\"blue\", label=\"lfp\", linewidth=0.5)\n",
    "axs[2].plot(tloc, yloc, color=\"grey\", label=\"loco.\", linewidth=0.5)\n",
    "#plt.xlim((0, 50))\n",
    "plt.show()"
   ]
  },
  {
   "cell_type": "markdown",
   "id": "029add39",
   "metadata": {},
   "source": [
    "# Compare with whole FOV mean trace"
   ]
  },
  {
   "cell_type": "code",
   "execution_count": null,
   "id": "b0d3c77c",
   "metadata": {},
   "outputs": [],
   "source": [
    "mean_trace_whole_fov = np.array(nik_data).mean(axis=(1,2))"
   ]
  },
  {
   "cell_type": "code",
   "execution_count": null,
   "id": "0705ccce",
   "metadata": {},
   "outputs": [],
   "source": [
    "mean_trace_whole_fov.shape"
   ]
  },
  {
   "cell_type": "code",
   "execution_count": null,
   "id": "6e4c2a4c",
   "metadata": {},
   "outputs": [],
   "source": [
    "fig, axs = plt.subplots(nrows=2, ncols=1,figsize=(18,12), sharex=True, sharey=False)\n",
    "\n",
    "axs[0].plot(mean_trace)\n",
    "axs[0].title.set_text(f'Brightest {pixel_percent_100}% pixels mean')\n",
    "\n",
    "axs[1].plot(mean_trace_whole_fov)\n",
    "axs[1].title.set_text('Whole FOV mean')\n",
    "\n",
    "axs[0].set_xlim((9500, 30000))\n",
    "axs[1].set_xlim((9500, 30000))\n",
    "\n",
    "axs[0].set_ylim((40,95))\n",
    "axs[1].set_ylim((35,60))\n",
    "\n",
    "axs[0].set_ylabel('fluorescence (a.u.)')\n",
    "axs[1].set_ylabel('fluorescence (a.u.)')\n",
    "\n",
    "axs[1].set_xlabel(\"frame\")\n",
    "\n",
    "plt.show()"
   ]
  },
  {
   "cell_type": "markdown",
   "id": "ec92a6c1",
   "metadata": {},
   "source": [
    "# Create summary plot\n",
    "For reporting results per recording"
   ]
  },
  {
   "cell_type": "code",
   "execution_count": null,
   "id": "5c8667af",
   "metadata": {},
   "outputs": [],
   "source": [
    "save_summary_fig = False\n",
    "\n",
    "\n",
    "fig, axs = plt.subplots(nrows=4, ncols=1,figsize=(18,24), sharex=False, sharey=False, gridspec_kw={'height_ratios': [3, 3, 1, 1]})\n",
    "\n",
    "axs[0].plot(mean_trace)\n",
    "axs[0].title.set_text(f'Brightest {int(pixel_percent_100)}% pixels mean')\n",
    "\n",
    "axs[1].plot(mean_trace_whole_fov)\n",
    "axs[1].title.set_text('Whole FOV mean')\n",
    "\n",
    "axs[0].set_xlim((2000,12000))#((9500, 30000))\n",
    "axs[1].set_xlim((2000,12000))#((9500, 30000))\n",
    "axs[0].set_ylim((40,95))\n",
    "axs[1].set_ylim((35,60))\n",
    "\n",
    "axs[0].set_ylabel('fluorescence (a.u.)')\n",
    "axs[1].set_ylabel('fluorescence (a.u.)')\n",
    "\n",
    "axs[1].set_xlabel(\"frame\")\n",
    "\n",
    "\n",
    "axs[2].imshow(baseline_img)\n",
    "axs[2].title.set_text(\"FOV image\")\n",
    "\n",
    "\n",
    "axs[3].title.set_text(f\"Brightest {int(pixel_percent_100)}% pixels\")\n",
    "axs[3].imshow(binary_img)\n",
    "plt.tight_layout()\n",
    "if save_summary_fig:\n",
    "    output_fpath = os.path.join(env_dict[\"DOWNLOADS_FOLDER\"], f\"voltage_comparison_{fh.get_datetime_for_fname()}.jpg\")\n",
    "    plt.savefig(output_fpath)\n",
    "    print(f\"Saved to {output_fpath}\")\n",
    "plt.show()"
   ]
  },
  {
   "cell_type": "code",
   "execution_count": null,
   "id": "2f72ec84",
   "metadata": {},
   "outputs": [],
   "source": [
    "'''\n",
    "# Add data to already existing file\n",
    "with h5py.File(, \"a\") as hf:\n",
    "    hf[\"mean_fluo_nucleus\"] = mean_trace\n",
    "    hf[\"fov\"] = baseline_img\n",
    "    hf[\"selected_pixels\"] = binary_img\n",
    "'''"
   ]
  },
  {
   "cell_type": "code",
   "execution_count": null,
   "id": "8055b52e",
   "metadata": {},
   "outputs": [],
   "source": []
  }
 ],
 "metadata": {
  "kernelspec": {
   "display_name": "Python 3 (ipykernel)",
   "language": "python",
   "name": "python3"
  },
  "language_info": {
   "codemirror_mode": {
    "name": "ipython",
    "version": 3
   },
   "file_extension": ".py",
   "mimetype": "text/x-python",
   "name": "python",
   "nbconvert_exporter": "python",
   "pygments_lexer": "ipython3",
   "version": "3.8.12"
  }
 },
 "nbformat": 4,
 "nbformat_minor": 5
}
