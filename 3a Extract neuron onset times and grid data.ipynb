{
 "cells": [
  {
   "cell_type": "markdown",
   "id": "a78a2429",
   "metadata": {},
   "source": [
    "TODO:\n",
    "* if no seizures present, the script cannot be run. Probably same for no sd waves, too. T301_tmev_d1.270820.1131 for example!\n",
    "* test again for 2 seizures in one movie"
   ]
  },
  {
   "cell_type": "code",
   "execution_count": null,
   "id": "5b76a325",
   "metadata": {},
   "outputs": [],
   "source": [
    "# todo: plot arrows here already.\n",
    "# todo: apply asymmetric derivative or seizure onset for 1359?\n",
    "# todo: find better limits on manual limits for sz?"
   ]
  },
  {
   "cell_type": "code",
   "execution_count": null,
   "id": "f3797f10",
   "metadata": {},
   "outputs": [],
   "source": [
    "#Auto-reload modules (used to develop functions outside this notebook)\n",
    "%load_ext autoreload\n",
    "%autoreload 2"
   ]
  },
  {
   "cell_type": "code",
   "execution_count": null,
   "id": "b691e1c7",
   "metadata": {},
   "outputs": [],
   "source": [
    "import numpy as np\n",
    "import h5py\n",
    "from nd2_to_caiman import np_arr_from_nd2\n",
    "import labrotation.file_handling as fh\n",
    "from matplotlib import pyplot as plt\n",
    "from matplotlib.collections import PatchCollection\n",
    "from matplotlib.patches import Rectangle\n",
    "import matplotlib.colors as mcolors\n",
    "from math import floor, sqrt\n",
    "from datetime import datetime\n",
    "import json\n",
    "from labrotation import json_util\n",
    "import scipy\n",
    "from scipy import ndimage\n",
    "import datadoc_util\n",
    "from statsmodels.nonparametric.smoothers_lowess import lowess\n",
    "import pandas as pd\n",
    "import seaborn as sns\n",
    "from math import floor\n",
    "import multiprocess as mp  # multiprocessing does not work with IPython. Use fork instead.\n",
    "import os\n",
    "import random  # for possible stochastic algorithms\n",
    "from collections.abc import Iterable  # for checking if i_frame_begin is iterable"
   ]
  },
  {
   "cell_type": "code",
   "execution_count": null,
   "id": "cd77952c",
   "metadata": {},
   "outputs": [],
   "source": [
    "grid_shape = (8,8)"
   ]
  },
  {
   "cell_type": "code",
   "execution_count": null,
   "id": "ef9e5164",
   "metadata": {},
   "outputs": [],
   "source": [
    "env_dict = dict()\n",
    "if not os.path.exists(\"./.env\"):\n",
    "    print(\".env does not exist\")\n",
    "else:\n",
    "    with open(\"./.env\", \"r\") as f:\n",
    "        for line in f.readlines():\n",
    "            l = line.rstrip().split(\"=\")\n",
    "            env_dict[l[0]] = l[1]\n",
    "print(env_dict.keys())"
   ]
  },
  {
   "cell_type": "code",
   "execution_count": null,
   "id": "91ae9d8b",
   "metadata": {},
   "outputs": [],
   "source": [
    "if \"DATA_DOCU_FOLDER\" in env_dict.keys():\n",
    "    data_docu_folder = env_dict[\"DATA_DOCU_FOLDER\"]\n",
    "else:\n",
    "    data_docu_folder = fh.open_dir(\"Open Data Documentation folder\")\n",
    "print(data_docu_folder)"
   ]
  },
  {
   "cell_type": "code",
   "execution_count": null,
   "id": "95fa57f1",
   "metadata": {},
   "outputs": [],
   "source": [
    "ddoc = datadoc_util.DataDocumentation(data_docu_folder)\n",
    "ddoc.loadDataDoc()"
   ]
  },
  {
   "cell_type": "markdown",
   "id": "444df035",
   "metadata": {},
   "source": [
    "# Define log dictionary\n",
    "To be saved as json. It should contain all parameters that make this analysis reproducible"
   ]
  },
  {
   "cell_type": "code",
   "execution_count": null,
   "id": "778d68a5",
   "metadata": {},
   "outputs": [],
   "source": [
    "parameters_log = dict()"
   ]
  },
  {
   "cell_type": "markdown",
   "id": "923bbf37",
   "metadata": {},
   "source": [
    "# Open traces file"
   ]
  },
  {
   "cell_type": "code",
   "execution_count": null,
   "id": "1501140f",
   "metadata": {},
   "outputs": [],
   "source": [
    "whole_traces_h5_fpath = fh.open_file(\"Open traces h5 file!\")\n",
    "print(whole_traces_h5_fpath)\n",
    "parameters_log[\"filename\"] = os.path.split(whole_traces_h5_fpath)[-1]"
   ]
  },
  {
   "cell_type": "code",
   "execution_count": null,
   "id": "d6f3441e",
   "metadata": {},
   "outputs": [],
   "source": [
    "with h5py.File(whole_traces_h5_fpath, 'r') as hf:\n",
    "    session_uuid = hf.attrs[\"uuid\"]\n",
    "    moco_intervals = hf[\"moco_intervals\"][()]\n",
    "    moco_flags = hf[\"moco_flags\"][()]\n",
    "    cnmf_intervals = hf[\"cnmf_intervals\"][()]\n",
    "    cnmf_flags = hf[\"cnmf_flags\"][()]\n",
    "    begin_end_frames = hf[\"begin_end_frames\"][()]\n",
    "    # spatial components: CNMF A field\n",
    "    A_data = hf[\"spatial\"][\"data\"][()]\n",
    "    A_indices = hf[\"spatial\"][\"indices\"][()]\n",
    "    A_indptr = hf[\"spatial\"][\"indptr\"][()]\n",
    "    A_shape = hf[\"spatial\"][\"shape\"][()]\n",
    "    # temporal signals, i.e. neuron traces\n",
    "    temporal = hf[\"traces\"][()]"
   ]
  },
  {
   "cell_type": "code",
   "execution_count": null,
   "id": "d578bab7",
   "metadata": {},
   "outputs": [],
   "source": [
    "n_neurons, n_frames = temporal.shape"
   ]
  },
  {
   "cell_type": "code",
   "execution_count": null,
   "id": "9f4ab964",
   "metadata": {},
   "outputs": [],
   "source": [
    "# convert spatial from sparse matrix into dense matrix of proper dimensions\n",
    "spatial = scipy.sparse.csc.csc_matrix((A_data, A_indices, A_indptr), shape=A_shape).todense()\n",
    "spatial = np.array(spatial)  # change type to allow np.reshape (?)\n",
    "spatial = np.reshape(spatial, (512, 512, n_neurons)) # (262144 -> 512x512, i.e. \"unflatten\")\n",
    "spatial = np.transpose(spatial, axes=[2, 1,0])  # move neuron index to end"
   ]
  },
  {
   "cell_type": "code",
   "execution_count": null,
   "id": "9c7b8cec",
   "metadata": {},
   "outputs": [],
   "source": [
    "res_x, res_y = spatial[0].shape"
   ]
  },
  {
   "cell_type": "code",
   "execution_count": null,
   "id": "8a299ae7",
   "metadata": {},
   "outputs": [],
   "source": [
    "centers_x = np.zeros((n_neurons))\n",
    "centers_y = np.zeros((n_neurons))\n",
    "for i_neuron in range(n_neurons):\n",
    "    xy = ndimage.measurements.center_of_mass(spatial[i_neuron].T) # transpose needed so that imshow and scatter plotting match \n",
    "    centers_x[i_neuron] = xy[0]\n",
    "    centers_y[i_neuron] = xy[1]"
   ]
  },
  {
   "cell_type": "code",
   "execution_count": null,
   "id": "2fa6aecf",
   "metadata": {},
   "outputs": [],
   "source": [
    "fig = plt.figure(figsize=(16,16))\n",
    "I_NEURON = 100\n",
    "plt.imshow(spatial[I_NEURON])\n",
    "plt.scatter(centers_x[I_NEURON], centers_y[I_NEURON], color=\"red\")\n",
    "plt.show()"
   ]
  },
  {
   "cell_type": "code",
   "execution_count": null,
   "id": "a0f1905e",
   "metadata": {},
   "outputs": [],
   "source": [
    "fig = plt.figure(figsize=(16,16))\n",
    "plt.scatter(centers_x, centers_y, color=\"red\")\n",
    "ax = plt.gca()\n",
    "ax.invert_yaxis() \n",
    "plt.show()"
   ]
  },
  {
   "cell_type": "markdown",
   "id": "ca14d22c",
   "metadata": {},
   "source": [
    "# Create x values\n",
    "in best case, these should be read out of nikon metadata file..."
   ]
  },
  {
   "cell_type": "code",
   "execution_count": null,
   "id": "f3b39c07",
   "metadata": {},
   "outputs": [],
   "source": [
    "x_vals = np.linspace(0, n_frames-1,num=n_frames)"
   ]
  },
  {
   "cell_type": "markdown",
   "id": "b250501d",
   "metadata": {},
   "source": [
    "## Get important frames\n",
    "beginning of seizure, SD waves..."
   ]
  },
  {
   "cell_type": "code",
   "execution_count": null,
   "id": "61f6a6aa",
   "metadata": {},
   "outputs": [],
   "source": [
    "segments_list = ddoc.getSegmentsForUUID(session_uuid, as_df=False)"
   ]
  },
  {
   "cell_type": "code",
   "execution_count": null,
   "id": "3ad3aebb",
   "metadata": {},
   "outputs": [],
   "source": [
    "segments = ddoc.getSegmentsForUUID(session_uuid)"
   ]
  },
  {
   "cell_type": "code",
   "execution_count": null,
   "id": "02c85b69",
   "metadata": {},
   "outputs": [],
   "source": [
    "n_seizures = len(segments[segments[\"interval_type\"] == \"sz\"])\n",
    "print(f\"Recording contains {n_seizures} seizure(s)\")"
   ]
  },
  {
   "cell_type": "code",
   "execution_count": null,
   "id": "815e47c1",
   "metadata": {},
   "outputs": [],
   "source": [
    "n_waves = len(segments[segments[\"interval_type\"] == \"sd_wave\"])\n",
    "print(f\"Recording contains {n_waves} SD wave(s)\")"
   ]
  },
  {
   "cell_type": "code",
   "execution_count": null,
   "id": "cb17c676",
   "metadata": {},
   "outputs": [],
   "source": [
    "# sort by beginning frame of sd wave\n",
    "sd_waves_list = sorted(list(filter(lambda seg: seg[0] == \"sd_wave\", segments_list)), key= lambda x: x[1])\n",
    "sz_list = sorted(list(filter(lambda seg: seg[0] == \"sz\", segments_list)), key= lambda x: x[1])"
   ]
  },
  {
   "cell_type": "code",
   "execution_count": null,
   "id": "7507617d",
   "metadata": {},
   "outputs": [],
   "source": [
    "sd_waves_list"
   ]
  },
  {
   "cell_type": "code",
   "execution_count": null,
   "id": "b37da143",
   "metadata": {},
   "outputs": [],
   "source": [
    "sz_list"
   ]
  },
  {
   "cell_type": "code",
   "execution_count": null,
   "id": "ce89a847",
   "metadata": {},
   "outputs": [],
   "source": [
    "# group sz and sd waves. Must follow each other in order to consider one group\n",
    "sz_sd_grouping = []\n",
    "# group only sd waves (for sd onset analysis)\n",
    "sd_grouping = []\n",
    "for sz in sz_list:\n",
    "    sz_sd_grouping.append([sz])\n",
    "    for sd_wave in sd_waves_list:\n",
    "        if sd_wave[1] - sz_sd_grouping[-1][-1][-1] == 1:\n",
    "            sz_sd_grouping[-1].append(sd_wave)\n",
    "for group in sz_sd_grouping:\n",
    "    sd_grouping.append([])\n",
    "    for segment in group:\n",
    "        if segment[0] == \"sd_wave\":\n",
    "            sd_grouping[-1].append(segment) "
   ]
  },
  {
   "cell_type": "code",
   "execution_count": null,
   "id": "1bfca6e2",
   "metadata": {},
   "outputs": [],
   "source": [
    "sz_sd_grouping"
   ]
  },
  {
   "cell_type": "code",
   "execution_count": null,
   "id": "2285ee56",
   "metadata": {},
   "outputs": [],
   "source": [
    "def getSDBeginEndFrames(i_sz):\n",
    "    if i_sz >= len(sz_sd_grouping):\n",
    "        raise Exception(f\"getSDBeginEndFrames() Out of bounds: {i_sz}. {len(sz_sd_grouping)} segments were detected.\")\n",
    "    else:\n",
    "        return (sd_grouping[i_sz][0][1], sd_grouping[i_sz][-1][2])"
   ]
  },
  {
   "cell_type": "code",
   "execution_count": null,
   "id": "7dfbefe4",
   "metadata": {},
   "outputs": [],
   "source": [
    "getSDBeginEndFrames(0)"
   ]
  },
  {
   "cell_type": "markdown",
   "id": "a2b14e02",
   "metadata": {},
   "source": [
    "# Filter signal"
   ]
  },
  {
   "cell_type": "code",
   "execution_count": null,
   "id": "421fc79c",
   "metadata": {},
   "outputs": [],
   "source": [
    "lowess_filtered_traces = np.zeros(temporal.shape)\n",
    "lowess_filtered_xvals = np.zeros(temporal.shape)"
   ]
  },
  {
   "cell_type": "markdown",
   "id": "63504663",
   "metadata": {},
   "source": [
    "### Run lowess filtering in parallel"
   ]
  },
  {
   "cell_type": "code",
   "execution_count": null,
   "id": "fee8bb42",
   "metadata": {},
   "outputs": [],
   "source": [
    "mp.cpu_count()"
   ]
  },
  {
   "cell_type": "code",
   "execution_count": null,
   "id": "0a9245b0",
   "metadata": {},
   "outputs": [],
   "source": [
    "def get_lowess(row):\n",
    "    from statsmodels.nonparametric.smoothers_lowess import lowess\n",
    "    import numpy as np\n",
    "    # Calculate fraction for lowess to use 2 s data\n",
    "    FREQUENCY = 15.  # hz\n",
    "    len_rec_s = len(row)/FREQUENCY  # length of movie in seconds\n",
    "    FRACTION_2s = 2.0/len_rec_s\n",
    "    # create x values for scatter (lowess = locally weighted scatterplot smoothing)\n",
    "    x_vals = np.linspace(0, len(row)-1,num=len(row))\n",
    "    lowess_filtered = lowess(row, x_vals, frac=FRACTION_2s, is_sorted=True,)  # used 0.001 for Analysis_v1\n",
    "    # lowess_x = lowess_filtered.T[0]\n",
    "    # lowess_y = lowess_filtered.T[1] \n",
    "    return lowess_filtered.T"
   ]
  },
  {
   "cell_type": "code",
   "execution_count": null,
   "id": "e1b49a56",
   "metadata": {},
   "outputs": [],
   "source": [
    "p = mp.Pool(processes=mp.cpu_count()-2)\n",
    "lowess_results = p.map(get_lowess, temporal[range(n_neurons)])"
   ]
  },
  {
   "cell_type": "markdown",
   "id": "629158f0",
   "metadata": {},
   "source": [
    "### Create 2d np array of results"
   ]
  },
  {
   "cell_type": "code",
   "execution_count": null,
   "id": "b6c2ec4b",
   "metadata": {},
   "outputs": [],
   "source": [
    "for i_neuron in range(n_neurons):\n",
    "    lowess_filtered_xvals[i_neuron,:] = lowess_results[i_neuron][0]\n",
    "    lowess_filtered_traces[i_neuron,:] = lowess_results[i_neuron][1]"
   ]
  },
  {
   "cell_type": "code",
   "execution_count": null,
   "id": "48a32c57",
   "metadata": {},
   "outputs": [],
   "source": [
    "derivatives_lowess_asym = np.zeros(temporal.shape, dtype=temporal.dtype)\n",
    "derivatives_raw_asym = np.zeros(temporal.shape, dtype=temporal.dtype)\n",
    "\n",
    "derivatives_raw_sym = np.zeros(temporal.shape, dtype=temporal.dtype)\n",
    "derivatives_lowess_sym = np.zeros(temporal.shape, dtype=temporal.dtype)"
   ]
  },
  {
   "cell_type": "code",
   "execution_count": null,
   "id": "67cdf289",
   "metadata": {},
   "outputs": [],
   "source": [
    "def get_trace_from_formula(raw_traces, i_neuron, sign_limits_tuples):\n",
    "    \"\"\"\n",
    "    calculates supplied formula using raw_traces[i_neuron][a:b] slices.\n",
    "    raw_traces: temporal or lowess_filtered_traces\n",
    "    i_neuron: must be in range [0, n_neurons)\n",
    "    sign_limits_tuples: list of tuples of the form [(a, b), (sign1, a1, b1), (sign2, a2, b2), ...].\n",
    "        signi: +-1\n",
    "        ai: inclusive first element to take in raw_traces\n",
    "        bi: exclusive last element to take (for example, bi=-1: take all elements from ai until end of list, last element excluded)\n",
    "            If bi is missing, then will take [ai:], i.e. until end of list.\n",
    "    The formula used will be:\n",
    "    new_traces[a:b] = sign2*raw_traces[a1:b1] + sign2*raw_traces[a2:b2] + ...\n",
    "    \"\"\"\n",
    "    len_segment = len(raw_traces[i_neuron][sign_limits_tuples[0][0]:len(raw_traces[i_neuron]) + sign_limits_tuples[0][1]])  # sign_limits_tuples[0][1] < 0; if -1, take all elements except last etc.\n",
    "    \n",
    "    calculated_signal = np.zeros(len_segment, dtype=raw_traces.dtype)\n",
    "    for sign_limits in sign_limits_tuples[1:]:\n",
    "        if len(sign_limits) == 2:  # last element missing, i.e. [sign]*trace[first_element:]\n",
    "            calculated_signal += sign_limits[0]*raw_traces[i_neuron][sign_limits[1]:]\n",
    "        else:\n",
    "            # take [sign]*trace[first_element:last_element]\n",
    "            calculated_signal += sign_limits[0]*raw_traces[i_neuron][sign_limits[1]:sign_limits[2]]\n",
    "    return calculated_signal\n",
    "\n",
    "# It turns out that the slow waves make symmetric first derivative a better signal to get onset as local maxima. For seizure onset, \n",
    "# this will not be the case (most likely)\n",
    "\n",
    "# symmetric derivative: dy/dt[i] = (y[i+1] - y[i-1])/2h (h:= 0.5). \n",
    "# Not entirely valid, as y[i+h] should be the value instead, but 1/2h factor can be neglected\n",
    "#for i_neuron in range(n_neurons):\n",
    "#    derivatives[i_neuron][1:-1] = temporal[i_neuron][2:] - temporal[i_neuron][:-2]\n",
    "\n",
    "# extended symmetric derivative: dy/dt[i] = (y[i+2] + y[i+1] - y[i-1] - y[i-2])/4h\n",
    "#for i_neuron in range(n_neurons):\n",
    "#    derivatives[i_neuron][2:-2] = temporal[i_neuron][4:] + temporal[i_neuron][3:-1] - temporal[i_neuron][1:-3] - temporal[i_neuron][:-4]\n",
    "\n",
    "# DEFAULT: super-extended symmetric derivative: dy/dt[i] = (y[i+4]+y[i+3]+y[i+2]+y[i+1] - y[i-1]-y[i-2]-y[i-3]-y[i-4])  \n",
    "\n",
    "SYMMETRIC_FORMULA = [(4,-4), (+1,8,),(+1,7,-1), (+1,6,-2), (+1, 5, -3), (-1,3,-5), (-1,2,-6), (-1,1,-7), (-1,0,-8)]\n",
    "for i_neuron in range(n_neurons):\n",
    "    derivatives_raw_sym[i_neuron][4:-4] = get_trace_from_formula(temporal, i_neuron, SYMMETRIC_FORMULA)\n",
    "    # derivatives_raw_sym[i_neuron][4:-4] = temporal[i_neuron][8:] + temporal[i_neuron][7:-1] + temporal[i_neuron][6:-2] + temporal[i_neuron][5:-3] - temporal[i_neuron][3:-5] - temporal[i_neuron][2:-6] - temporal[i_neuron][1:-7] - temporal[i_neuron][:-8]\n",
    "\n",
    "ASYMMETRIC_FORMULA_PART1 = [(4, -4), (+1, 8,), (+1, 7, -1), (-1, 3, -5), (-1, 2, -6), (-1, 1, -7), (-1, 0, -8)]\n",
    "ASYMMETRIC_FORMULA_PART2 = [(0, -10), (+1, 10,), (+1, 9, -1)]\n",
    "# asymmetric derivative\n",
    "for i_neuron in range(n_neurons):\n",
    "    derivatives_raw_asym[i_neuron][4:-4] = get_trace_from_formula(temporal, i_neuron, ASYMMETRIC_FORMULA_PART1)\n",
    "    #print(part2.shape)\n",
    "    derivatives_raw_asym[i_neuron][:-10] += get_trace_from_formula(temporal, i_neuron, ASYMMETRIC_FORMULA_PART2) \n",
    "    # derivatives_raw_asym[i_neuron][4:-4] = temporal[i_neuron][8:] + temporal[i_neuron][7:-1] - temporal[i_neuron][3:-5] - temporal[i_neuron][2:-6] - temporal[i_neuron][1:-7] - temporal[i_neuron][:-8]\n",
    "    # derivatives_raw_asym[i_neuron][:-10] += temporal[i_neuron][10:] + temporal[i_neuron][9:-1]\n",
    "    \n",
    "    \n",
    "    \n",
    "# asymmetric first derivative: dy/dt[i] = (y[i] - y[i-1])/h (h := 1)\n",
    "#for i_neuron in range(n_neurons):\n",
    "#    derivatives[i_neuron][1:] = temporal[i_neuron][1:] - temporal[i_neuron][:-1]\n",
    "\n",
    "# second derivative: d^2y/dt^2[i] = (y[i+h] - 2y[i] + y[i-h])/h^2 (h:=1)\n",
    "#for i_neuron in range(n_neurons):\n",
    "#    derivatives[i_neuron][1:-1] = temporal[i_neuron][2:] - 2*temporal[i_neuron][1:-1] + temporal[i_neuron][:-2]\n",
    "\n",
    "SYMMETRIC_FORMULA_LOWESS = [(2,-2), (+1,4,), (+1,3,-1), (-1,1,-3), (-1,0,-4)]\n",
    "# DEFAULT: lowess-filtered extended symmetric derivative:\n",
    "for i_neuron in range(n_neurons):\n",
    "    derivatives_lowess_sym[i_neuron][2:-2] = get_trace_from_formula(lowess_filtered_traces, i_neuron, SYMMETRIC_FORMULA_LOWESS)\n",
    "    # derivatives_lowess_sym[i_neuron][2:-2] = lowess_filtered_traces[i_neuron][4:] + lowess_filtered_traces[i_neuron][3:-1] - lowess_filtered_traces[i_neuron][1:-3] - lowess_filtered_traces[i_neuron][:-4]\n",
    "    \n",
    "# asymmetric derivative.\n",
    "ASYMMETRIC_FORMULA_LOWESS = [(4, -4), (+1, 8,), (+1, 6, -2), (+1, 5, -3), (-1, 3, -5), (-1, 2, -6), (-1, 1, -7)]\n",
    "for i_neuron in range(n_neurons):\n",
    "    derivatives_lowess_asym[i_neuron][4:-4] = get_trace_from_formula(lowess_filtered_traces, i_neuron, ASYMMETRIC_FORMULA_LOWESS)\n",
    "    # derivatives_lowess_asym[i_neuron][4:-4] = lowess_filtered_traces[i_neuron][8:] + lowess_filtered_traces[i_neuron][6:-2] + lowess_filtered_traces[i_neuron][5:-3] - lowess_filtered_traces[i_neuron][3:-5] - lowess_filtered_traces[i_neuron][2:-6] - lowess_filtered_traces[i_neuron][1:-7]"
   ]
  },
  {
   "cell_type": "code",
   "execution_count": null,
   "id": "1466f973",
   "metadata": {},
   "outputs": [],
   "source": [
    "parameters_log[\"SYMMETRIC_FORMULA\"] = str(SYMMETRIC_FORMULA)\n",
    "parameters_log[\"ASYMMETRIC_FORMULA_PART1\"] = str(ASYMMETRIC_FORMULA_PART1)\n",
    "parameters_log[\"ASYMMETRIC_FORMULA_PART2\"] = str(ASYMMETRIC_FORMULA_PART2)\n",
    "parameters_log[\"SYMMETRIC_FORMULA_LOWESS\"] = str(SYMMETRIC_FORMULA_LOWESS)\n",
    "parameters_log[\"ASYMMETRIC_FORMULA_LOWESS\"] = str(ASYMMETRIC_FORMULA_LOWESS)"
   ]
  },
  {
   "cell_type": "code",
   "execution_count": null,
   "id": "3c7f53b3",
   "metadata": {},
   "outputs": [],
   "source": [
    "plot_example_trace = False\n",
    "if plot_example_trace:\n",
    "    fig = plt.figure(figsize=(14,14))\n",
    "    plt.plot(lowess_filtered_xvals[0], lowess_filtered_traces[0])\n",
    "    plt.plot(lowess_filtered_xvals[0], temporal[0])\n",
    "    plt.plot(lowess_filtered_xvals[0], derivatives_lowess[0])\n",
    "    plt.xlim((i_frame_begin - 200,i_frame_end + 200))\n",
    "    plt.show()"
   ]
  },
  {
   "cell_type": "markdown",
   "id": "3323e69d",
   "metadata": {},
   "source": [
    "### Assign data to use for extracting onset\n",
    "Also add it to log"
   ]
  },
  {
   "cell_type": "code",
   "execution_count": null,
   "id": "a1709ce4",
   "metadata": {},
   "outputs": [],
   "source": [
    "derivatives_sd = derivatives_lowess_asym\n",
    "derivatives_sz = derivatives_lowess_sym"
   ]
  },
  {
   "cell_type": "code",
   "execution_count": null,
   "id": "83f2f44e",
   "metadata": {},
   "outputs": [],
   "source": [
    "derivatives_sd_source = \"\"\n",
    "if (derivatives_sd == derivatives_lowess_asym).all():\n",
    "    derivatives_sd_source = \"derivatives_lowess_asym\"\n",
    "elif (derivatives_sd == derivatives_lowess_sym).all():\n",
    "    derivatives_sd_source = \"derivatives_lowess_sym\"\n",
    "else:\n",
    "    raise Exception(\"Error: unable to find source of derivatives_sd (required for logging)!\")\n",
    "    \n",
    "derivatives_sz_source = \"\"\n",
    "if (derivatives_sz == derivatives_lowess_asym).all():\n",
    "    derivatives_sz_source = \"derivatives_lowess_asym\"\n",
    "elif (derivatives_sz == derivatives_lowess_sym).all():\n",
    "    derivatives_sz_source = \"derivatives_lowess_sym\"\n",
    "else:\n",
    "    raise Exception(\"Error: unable to find source of derivatives_sz (required for logging)!\")\n",
    "    \n",
    "    \n",
    "parameters_log[\"derivatives_sd\"] = derivatives_sd_source\n",
    "parameters_log[\"derivatives_sz\"] = derivatives_sz_source"
   ]
  },
  {
   "cell_type": "markdown",
   "id": "624ef925",
   "metadata": {},
   "source": [
    "# Define algorithm to extract onset times"
   ]
  },
  {
   "cell_type": "markdown",
   "id": "39fac632",
   "metadata": {},
   "source": [
    "### Find first [n_waves] local maxima for neurons in the time window"
   ]
  },
  {
   "cell_type": "code",
   "execution_count": null,
   "id": "96f4db6b",
   "metadata": {},
   "outputs": [],
   "source": [
    "MIN_DELAY_REQUIRED = 60  # at least this many frames need to pass between the onset of two SD waves in one place\n",
    "parameters_log[\"MIN_DELAY_REQUIRED\"] = str(MIN_DELAY_REQUIRED)\n",
    "def get_n_maxima(derivatives, n_maxima, i_frame_begin, i_frame_end, force_2d: bool = False, set_beginning_dark: bool = False, assure_spike: bool = False, spike_height: int = 30, neighbors_per_side: int = 15, spike_half_width: int = 4):\n",
    "    # n_maxima: number of maxima to find (n=1: first maximum, ...)\n",
    "    # i_frame_begin: in 1-indexing, the first frame to consider for being maximum. If iterable, algorithm makes sure for each onset to\n",
    "    #   fall in different segment.\n",
    "    # i_frame_end: in 1-indexing, the last frame to consider for being maximum\n",
    "    # force_2d: even if n_maxima = 1, return a 2d array, for example [[0], [1], ...]. If False: [0, 1, ...]\n",
    "    # set_beginning_dark: if True, find global minimum in interval i_frame_begin to i_frame_end, set this as new i_frame_begin\n",
    "    # assure_spike: if True, algorithm will discard maxima if they are too small spikes (compared to the immediate neighborhood)\n",
    "    # spike_height: if assure_spike is True, discards maxima found that are not above the immediate neighboring values by at least this value\n",
    "    # neighbors_per_side: if asssure_spike is True, this value determines the number of neighboring points on each side \n",
    "    #    (i-1, i-2, ... and i+1, i+2, ...) to use for baseline\n",
    "    # spike_half_width: the spike will be assumed to be 2*spike_half_width + 1 wide. These will be not counted to neighborhood.\n",
    "    onsets = []\n",
    "    \n",
    "    segments_provided = False\n",
    "    segments = []\n",
    "    if isinstance(i_frame_begin, Iterable):\n",
    "        assert i_frame_begin[-1] < i_frame_end\n",
    "        i_f_begin = sorted(i_frame_begin)[0]\n",
    "        segments_provided = True\n",
    "        segments = [(i_frame_begin[i], i_frame_begin[i+1]) for i in range(len(i_frame_begin)-1)]\n",
    "        segments.append((i_frame_begin[-1], i_frame_end))\n",
    "        def inSameSegment(x1, x2):\n",
    "            for seg in segments:\n",
    "                if x1 in range(*seg) and x2 in range(*seg):\n",
    "                    return True\n",
    "            return False\n",
    "    else:\n",
    "        i_f_begin = i_frame_begin\n",
    "    for i_neuron in range(n_neurons):\n",
    "        \n",
    "        if set_beginning_dark:  # limit time window beginning to darkest frame in original time window\n",
    "            # TODO: can do one argsort, choose from back first max that is > i_frame_begin_neuron\n",
    "            i_frame_begin_neuron = np.argsort(temporal[i_neuron][i_f_begin-1:i_frame_end+1])[0] + i_f_begin + 15  # start 1 s after global minimum\n",
    "            sorted_indices = np.argsort(derivatives[i_neuron][i_frame_begin_neuron-1:i_frame_end+1])\n",
    "            assert i_frame_end - i_frame_begin_neuron > 30  # ad hoc value to test interval stays large enough (~2s)\n",
    "        else:\n",
    "            i_frame_begin_neuron = i_f_begin\n",
    "            sorted_indices = np.argsort(derivatives[i_neuron][i_f_begin-1:i_frame_end+1])\n",
    "        onset_frames = []\n",
    "        if len(sorted_indices)< 1:\n",
    "            print(i_neuron)\n",
    "        \n",
    "        # add largest maximum as first maximum. If one maximum per segment forced, get maximum of last segment.\n",
    "        if segments_provided:\n",
    "            sorted_indices_last_segment = sorted_indices[np.where(sorted_indices >= segments[-1][0] - i_frame_begin_neuron)]\n",
    "            onset_frames.append(sorted_indices_last_segment[-1])\n",
    "        else:\n",
    "            onset_frames.append(sorted_indices[-1])\n",
    "            \n",
    "        # find remaining maxima fulfilling various criteria\n",
    "        if sorted_indices[-1] in onset_frames:\n",
    "            i_sorted = len(sorted_indices) - 2   # index of sorted values. Last element is largest, already appended\n",
    "        else:\n",
    "            i_sorted = len(sorted_indices) - 1  # if last segment maximum was appended, it might not have been the largest value in the whole interval.\n",
    "        n_found_maxima = 1\n",
    "        while n_found_maxima < n_maxima:  # could also compare to len(onset_frames)\n",
    "            candidate_frame = sorted_indices[i_sorted]\n",
    "            candidate_frame_whole_rec = candidate_frame + i_frame_begin_neuron-1  # frame number adjusted to whole movie\n",
    "            too_close = False\n",
    "            for onset_frame in onset_frames:\n",
    "                if abs(candidate_frame - onset_frame) < MIN_DELAY_REQUIRED:                \n",
    "                    too_close = True\n",
    "                    break\n",
    "                if candidate_frame > onset_frame and (i_frame_end - onset_frame) < 50:\n",
    "                    too_close = True\n",
    "                    break\n",
    "            if not too_close:\n",
    "                # if segments_provided is True, need to make sure detected onsets happen once per segment\n",
    "                if (not segments_provided) or (not inSameSegment(candidate_frame, onset_frames[-1])):  \n",
    "                    # if the algorithm should check for spike height, need to do it now\n",
    "                    if assure_spike:\n",
    "                        neighborhood = np.concatenate([derivatives[i_neuron][candidate_frame_whole_rec-spike_half_width-neighbors_per_side:candidate_frame_whole_rec-spike_half_width], derivatives[i_neuron][candidate_frame_whole_rec+spike_half_width+1:candidate_frame_whole_rec+spike_half_width+neighbors_per_side+1]])\n",
    "                        bl = np.median(neighborhood)\n",
    "                        if abs(derivatives[i_neuron][candidate_frame_whole_rec] - bl) > spike_height:\n",
    "                            onset_frames.append(candidate_frame)\n",
    "                            n_found_maxima += 1\n",
    "                    else:\n",
    "                        onset_frames.append(candidate_frame)\n",
    "                        n_found_maxima += 1\n",
    "\n",
    "                        \n",
    "            i_sorted -= 1\n",
    "        # convert to whole video time frame\n",
    "        for i_onset in range(len(onset_frames)):\n",
    "            onset_frames[i_onset] += i_frame_begin_neuron-1\n",
    "        # algorithm finds maxima by y-value, need to sort by x-value (i.e. in time, first maximum comes first...)\n",
    "        if n_maxima == 1 and not force_2d:\n",
    "            onsets.append(onset_frames[0])\n",
    "        else:\n",
    "            onsets.append(sorted(onset_frames))\n",
    "    return onsets"
   ]
  },
  {
   "cell_type": "markdown",
   "id": "435e8a05",
   "metadata": {},
   "source": [
    "# Calculate SD onset times"
   ]
  },
  {
   "cell_type": "markdown",
   "id": "30cf368a",
   "metadata": {},
   "source": [
    "### OPTIONAL: set beginning of interval where looking for SD wave the frame with minimum luminosity"
   ]
  },
  {
   "cell_type": "code",
   "execution_count": null,
   "id": "aa75f197",
   "metadata": {},
   "outputs": [],
   "source": [
    "set_beginning_dark = False\n",
    "parameters_log[\"set_beginning_dark\"] = str(set_beginning_dark)"
   ]
  },
  {
   "cell_type": "markdown",
   "id": "09626cf2",
   "metadata": {},
   "source": [
    "### Choose mode to extract onset values \n",
    "* Old mode: get n_waves onset values per neuron inside whole SD region. \n",
    "* New mode: Read out SD wave beginning frames from data documentation, find 1 wave each"
   ]
  },
  {
   "cell_type": "code",
   "execution_count": null,
   "id": "59d5e5df",
   "metadata": {},
   "outputs": [],
   "source": [
    "old_method = True  # new method (assuring different segments for each wave) does not bring much, unfortunately.\n",
    "assure_spike = False\n",
    "parameters_log[\"old_method\"] = str(old_method)\n",
    "parameters_log[\"assure_spike\"] = str(assure_spike)\n",
    "# TODO: increase distance between sd waves for this recording\n",
    "\n",
    "if old_method:\n",
    "    if n_seizures == 1:\n",
    "        i_frame_begin, i_frame_end = getSDBeginEndFrames(0)\n",
    "        onsets = [get_n_maxima(derivatives_sd, n_waves, i_frame_begin, i_frame_end, force_2d=True, set_beginning_dark=set_beginning_dark, assure_spike=assure_spike)]\n",
    "    else:\n",
    "        onsets = []\n",
    "        for i_sz in range(n_seizures):\n",
    "            i_frame_begin, i_frame_end = getSDBeginEndFrames(i_sz)\n",
    "            n_waves_curr_sz = len(sd_grouping)\n",
    "            onsets.append(get_n_maxima(derivatives_sd, n_waves_curr_sz, i_frame_begin, i_frame_end, force_2d=True, set_beginning_dark=set_beginning_dark, assure_spike=assure_spike))\n",
    "else:\n",
    "    assert n_seizures == 1  # implement n_seizures > 1 case if needed\n",
    "    onsets = [get_n_maxima(derivatives_sd, n_waves, [seg[1] for seg in sd_waves_list], i_frame_end, force_2d=True, set_beginning_dark=False)]"
   ]
  },
  {
   "cell_type": "markdown",
   "id": "bd2d3cf4",
   "metadata": {},
   "source": [
    "### Plot example result"
   ]
  },
  {
   "cell_type": "code",
   "execution_count": null,
   "id": "17a2615f",
   "metadata": {},
   "outputs": [],
   "source": [
    "def plotExampleTrace(i_neuron, i_sz):\n",
    "    n_waves_curr_sz = len(sd_grouping[i_sz])\n",
    "    i_frame_begin, i_frame_end  = getSDBeginEndFrames(i_sz)\n",
    "    \n",
    "\n",
    "    fig = plt.figure(figsize=(14,14))\n",
    "    plt.plot(lowess_filtered_xvals[i_neuron], lowess_filtered_traces[i_neuron])  # plue\n",
    "    plt.plot(lowess_filtered_xvals[i_neuron], temporal[i_neuron])  # yellow\n",
    "    plt.plot(lowess_filtered_xvals[i_neuron], derivatives_sd[i_neuron])  # green\n",
    "    plt.plot(lowess_filtered_xvals[i_neuron], derivatives_lowess_sym[i_neuron])  # brownish\n",
    "    vline_colors = [\"red\", \"black\", \"orange\", \"grey\"]  # add more if needed\n",
    "    for i_wave in range(n_waves_curr_sz):\n",
    "        plt.vlines(onsets[i_sz][i_neuron][i_wave], ymin=-500, ymax=2000, color=vline_colors[i_wave], linewidth=3)\n",
    "    plt.vlines([i_frame_begin, i_frame_end], ymin=-1000, ymax=4000, color=\"lime\", linewidth=2)\n",
    "    if set_beginning_dark:\n",
    "            i_frame_begin_neuron = np.argsort(temporal[i_neuron][i_frame_begin-1:i_frame_end+1])[0] + i_frame_begin + 15\n",
    "            plt.vlines([i_frame_begin_neuron], ymin=-1000, ymax=4000, color=\"yellow\", linewidth=2)\n",
    "    #plt.vlines([np.argsort(temporal[I_NEURON][i_frame_begin-1:i_frame_end+1])[0]+i_frame_begin], ymin=-1500, ymax=4500, color=\"yellow\",linewidth=3)\n",
    "\n",
    "    #plt.vlines(sorted_indices[-1] + i_frame_begin - 1, ymin=-500, ymax=2000, color=\"black\", linewidth=0.5)\n",
    "    # TODO: mismatch in onsets[] as well as in sorted_indices[]! See plot...\n",
    "    plt.xlim((i_frame_begin - 200,i_frame_end + 200))\n",
    "    plt.show()"
   ]
  },
  {
   "cell_type": "markdown",
   "id": "1afe8793",
   "metadata": {},
   "source": [
    "### Seizure 1"
   ]
  },
  {
   "cell_type": "code",
   "execution_count": null,
   "id": "7a4a4b81",
   "metadata": {},
   "outputs": [],
   "source": [
    "sd_grouping"
   ]
  },
  {
   "cell_type": "code",
   "execution_count": null,
   "id": "01a07c11",
   "metadata": {},
   "outputs": [],
   "source": [
    "I_NEURON = 100\n",
    "I_SZ = 0\n",
    "plotExampleTrace(I_NEURON, I_SZ)"
   ]
  },
  {
   "cell_type": "markdown",
   "id": "68f45362",
   "metadata": {},
   "source": [
    "### Seizure 2 (if present)\n",
    "If more than 2 seizures, one should extend this notebook to generalize"
   ]
  },
  {
   "cell_type": "code",
   "execution_count": null,
   "id": "7bcf5d68",
   "metadata": {},
   "outputs": [],
   "source": [
    "if n_seizures > 1:\n",
    "    I_SZ = 1\n",
    "    plotExampleTrace(I_NEURON, I_SZ)"
   ]
  },
  {
   "cell_type": "markdown",
   "id": "68439c1a",
   "metadata": {},
   "source": [
    "## Plot sorted onset time for each neuron\n",
    "Sorted by first SD wave onset, second one is plotted accordingly."
   ]
  },
  {
   "cell_type": "code",
   "execution_count": null,
   "id": "bc0ae8cd",
   "metadata": {},
   "outputs": [],
   "source": [
    "onsets_np = np.array(onsets)"
   ]
  },
  {
   "cell_type": "code",
   "execution_count": null,
   "id": "f5ed5ab1",
   "metadata": {},
   "outputs": [],
   "source": [
    "onsets_np.shape"
   ]
  },
  {
   "cell_type": "code",
   "execution_count": null,
   "id": "d8dfb7f4",
   "metadata": {},
   "outputs": [],
   "source": [
    "onsets_np[0, :,1].shape"
   ]
  },
  {
   "cell_type": "markdown",
   "id": "88b12f1d",
   "metadata": {},
   "source": [
    "### Sort by onset values"
   ]
  },
  {
   "cell_type": "code",
   "execution_count": null,
   "id": "34f4fc68",
   "metadata": {},
   "outputs": [],
   "source": [
    "onsets_np_sorted = np.zeros(onsets_np.shape, dtype=np.uint32)\n",
    "for i_sz in range(onsets_np.shape[0]):\n",
    "    n_waves_curr_sz = len(sd_grouping[i_sz])\n",
    "    for i_wave in range(n_waves_curr_sz):\n",
    "        onsets_np_sorted[i_sz,:,i_wave] = np.argsort(onsets_np[i_sz,:,i_wave])\n",
    "    # onsets_np_sorted_second is now onsets_np_sorted[:,:,1]\n",
    "    #if n_waves > 1:\n",
    "    #    onsets_np_sorted_second = np.argsort(onsets_np[:,1])"
   ]
  },
  {
   "cell_type": "code",
   "execution_count": null,
   "id": "5e1bab74",
   "metadata": {},
   "outputs": [],
   "source": [
    "def plotUnsortedOnsets(i_sz):\n",
    "    fig = plt.figure(figsize=(12,12))\n",
    "    n_waves_curr_sz = len(sd_grouping[i_sz])\n",
    "    t_vals = [i_neuron for i_neuron in range(n_neurons)]\n",
    "    for i_wave in range(n_waves_curr_sz):\n",
    "        plt.scatter(t_vals, onsets_np[0,:,i_wave], label=f\"Wave {i_wave+1}\")\n",
    "    plt.legend(fontsize=20)\n",
    "    plt.show()"
   ]
  },
  {
   "cell_type": "code",
   "execution_count": null,
   "id": "887bd379",
   "metadata": {},
   "outputs": [],
   "source": [
    "plotUnsortedOnsets(0)"
   ]
  },
  {
   "cell_type": "code",
   "execution_count": null,
   "id": "0610f9a4",
   "metadata": {},
   "outputs": [],
   "source": [
    "onsets_np.shape"
   ]
  },
  {
   "cell_type": "code",
   "execution_count": null,
   "id": "8bd103a7",
   "metadata": {},
   "outputs": [],
   "source": [
    "def plotSortedOnsets(i_sz, i_sort_by_sd=0):\n",
    "    fig = plt.figure(figsize=(12,12))\n",
    "    t_vals = [i_neuron for i_neuron in range(n_neurons)]\n",
    "    n_waves_curr_sz = len(sd_grouping[i_sz])\n",
    "    for i_wave in range(n_waves_curr_sz):\n",
    "        plt.scatter(t_vals, onsets_np[i_sz,onsets_np_sorted[i_sz,:,i_sort_by_sd],i_wave], label=f\"Wave {i_wave+1}\")\n",
    "    plt.legend(fontsize=20)\n",
    "    plt.show()"
   ]
  },
  {
   "cell_type": "code",
   "execution_count": null,
   "id": "60423ae0",
   "metadata": {},
   "outputs": [],
   "source": [
    "plotSortedOnsets(0,0)"
   ]
  },
  {
   "cell_type": "code",
   "execution_count": null,
   "id": "53a2fd68",
   "metadata": {},
   "outputs": [],
   "source": [
    "plotSortedOnsets(0,1)"
   ]
  },
  {
   "cell_type": "code",
   "execution_count": null,
   "id": "75e4585c",
   "metadata": {},
   "outputs": [],
   "source": [
    "if n_seizures > 1:\n",
    "    plotSortedOnsets(1,0)"
   ]
  },
  {
   "cell_type": "code",
   "execution_count": null,
   "id": "abddc353",
   "metadata": {},
   "outputs": [],
   "source": [
    "if n_seizures > 1:\n",
    "    plotSortedOnsets(1,1)"
   ]
  },
  {
   "cell_type": "code",
   "execution_count": null,
   "id": "dda018e0",
   "metadata": {},
   "outputs": [],
   "source": [
    "def plotAxSortedOnsets(i_sz=0, i_sort_by_sd=0, ax=None):\n",
    "    if ax is None:\n",
    "        return None\n",
    "    t_vals = [i_neuron for i_neuron in range(n_neurons)]\n",
    "    n_waves_curr_sz = len(sd_grouping[i_sz])\n",
    "    for i_wave in range(n_waves_curr_sz):\n",
    "        ax.scatter(t_vals, onsets_np[i_sz,onsets_np_sorted[i_sz,:,i_sort_by_sd],i_wave], label=f\"Wave {i_wave+1}\")\n",
    "    ax.legend(fontsize=20)\n",
    "    return ax"
   ]
  },
  {
   "cell_type": "code",
   "execution_count": null,
   "id": "cce165e8",
   "metadata": {},
   "outputs": [],
   "source": [
    "fig, axs = plt.subplots(nrows=n_seizures*n_waves, ncols = 1, figsize=(18,18))\n",
    "i_row = 0\n",
    "for i_sz in range(n_seizures):\n",
    "    for i_sd in range(n_waves):\n",
    "        plotAxSortedOnsets(i_sz, i_sd, axs[i_row])\n",
    "        i_row += 1\n",
    "        #plotAxSortedOnsets(0,1,axs[1])\n",
    "        #plotAxSortedOnsets(1,0,axs[2])\n",
    "        #plotAxSortedOnsets(1,1,axs[3])\n",
    "plt.show()"
   ]
  },
  {
   "cell_type": "code",
   "execution_count": null,
   "id": "779f7159",
   "metadata": {},
   "outputs": [],
   "source": [
    "onsets_np_sorted.shape"
   ]
  },
  {
   "cell_type": "markdown",
   "id": "3aacd667",
   "metadata": {},
   "source": [
    "## Assign cells to grid tiles"
   ]
  },
  {
   "cell_type": "code",
   "execution_count": null,
   "id": "abe016f8",
   "metadata": {},
   "outputs": [],
   "source": [
    "def getGridTile(x, y, grid_shape):\n",
    "    # based on x and y coordinates, get tile that covers this point.\n",
    "    if x >= res_x or y >= res_y or x < 0 or y < 0:\n",
    "        raise ValueError(f\"x or y coordinate does not fit {res_x}x{res_y} FOV: x: {x}, y: {y}\")\n",
    "    else:\n",
    "        row = y//(res_y/grid_shape[1])  # 0-indexing\n",
    "        col = x//(res_x/grid_shape[0])\n",
    "    return (col, row)"
   ]
  },
  {
   "cell_type": "code",
   "execution_count": null,
   "id": "5b5c242c",
   "metadata": {},
   "outputs": [],
   "source": [
    "neuron_rows = np.zeros(n_neurons, dtype=np.int16)\n",
    "neuron_cols = np.zeros(n_neurons, dtype=np.int16)\n",
    "for i_neuron in range(n_neurons):\n",
    "    col, row = getGridTile(centers_x[i_neuron], centers_y[i_neuron], grid_shape)\n",
    "    neuron_rows[i_neuron] = row\n",
    "    neuron_cols[i_neuron] = col"
   ]
  },
  {
   "cell_type": "code",
   "execution_count": null,
   "id": "e6324036",
   "metadata": {},
   "outputs": [],
   "source": [
    "neuron_tiles = neuron_rows*grid_shape[0] + neuron_cols\n",
    "# getGridTile(511,0, grid_shape)  # test function"
   ]
  },
  {
   "cell_type": "markdown",
   "id": "f061db9c",
   "metadata": {},
   "source": [
    "## Create dataframe"
   ]
  },
  {
   "cell_type": "code",
   "execution_count": null,
   "id": "f0ec9be4",
   "metadata": {},
   "outputs": [],
   "source": [
    "# TODO: depending on n_waves, there might be 0, 1, 2, ... SD waves\n",
    "onsets_dicts = [{\"neuron_id\": [i for i in range(n_neurons)],  \"x\": centers_x, \"y\": centers_y, \"row\": neuron_rows, \"col\": neuron_cols, \"tile\": neuron_tiles} for i_sz in range(n_seizures)]\n",
    "if \"onsets_np\" in locals():\n",
    "    for i_sz in range(n_seizures):\n",
    "        n_waves_curr_session = len(sd_grouping[i_sz])\n",
    "        for i_wave in range(n_waves_curr_session):  # i_wave is 0-indexing, but for dictionary keys, use 1-indexing!\n",
    "            onsets_dicts[i_sz][\"onset\"+str(i_wave+1)] = onsets_np[i_sz,:,i_wave]"
   ]
  },
  {
   "cell_type": "code",
   "execution_count": null,
   "id": "a6773e9f",
   "metadata": {},
   "outputs": [],
   "source": [
    "onsets_dfs = [pd.DataFrame(data=onsets_dicts[i_sz]) for i_sz in range(n_seizures)]"
   ]
  },
  {
   "cell_type": "code",
   "execution_count": null,
   "id": "68fd6fe9",
   "metadata": {},
   "outputs": [],
   "source": [
    "for i_sz in range(n_seizures):\n",
    "    n_waves_curr_session = len(sd_grouping[i_sz])\n",
    "    if \"onset1\" in onsets_dfs[i_sz].keys():\n",
    "        for i_wave in range(n_waves_curr_session):  # i_wave 0-indexing, column names should be 1-indexing \n",
    "            onsets_dfs[i_sz][\"quantile\"+str(i_wave+1)] = pd.qcut(onsets_dfs[i_sz][\"onset\"+str(i_wave+1)], 4, labels=False)\n",
    "        # onsets_df[\"quantile2\"] = pd.qcut(onsets_df[\"onset2\"], 4, labels=False)\n",
    "    else:\n",
    "        print(\"skip\")"
   ]
  },
  {
   "cell_type": "code",
   "execution_count": null,
   "id": "a79baf99",
   "metadata": {},
   "outputs": [],
   "source": [
    "# index onsets_dfs[] by i_seizure\n",
    "#onsets_dfs[0]"
   ]
  },
  {
   "cell_type": "markdown",
   "id": "35221a58",
   "metadata": {},
   "source": [
    "## Plot results"
   ]
  },
  {
   "cell_type": "code",
   "execution_count": null,
   "id": "19c6e6bd",
   "metadata": {},
   "outputs": [],
   "source": [
    "onsets_dfs[0][(onsets_dfs[0][\"quantile1\"] == 3) & (onsets_dfs[0][\"x\"] > 400) & (onsets_dfs[0][\"y\"] > 400)]"
   ]
  },
  {
   "cell_type": "code",
   "execution_count": null,
   "id": "168d90fe",
   "metadata": {},
   "outputs": [],
   "source": [
    "def scatterSDOnset(onsets_df, i_wave):  # i_wave should be one-indexing (1, 2,...)\n",
    "    sns.set_theme(style=\"whitegrid\")\n",
    "    f, ax = plt.subplots(figsize=(18, 18))\n",
    "    sns.despine(f, left=True, bottom=True)\n",
    "    #sns.scatterplot(x=\"x\", y=\"y\",\n",
    "    #                size=\"onset\"+str(i_wave), hue=\"quantile\"+str(i_wave),\n",
    "    #                sizes=(8,80), linewidth=0,\n",
    "    #                data=onsets_df, ax=ax)\n",
    "    sns.scatterplot(x=\"x\", y=\"y\", hue=\"onset\"+str(i_wave+1),\n",
    "                    sizes=(8,80), linewidth=0,\n",
    "                    data=onsets_df, ax=ax)\n",
    "    ax.invert_yaxis()  # invert to match imshow() and in general, nd2 videos: (0, 0) is top left corner\n",
    "    ax.set_ylim((0, 512))\n",
    "    ax.set_xlim((0, 512))\n",
    "    plt.show()"
   ]
  },
  {
   "cell_type": "code",
   "execution_count": null,
   "id": "a7d719ee",
   "metadata": {},
   "outputs": [],
   "source": [
    "scatterSDOnset(onsets_dfs[1], 0)"
   ]
  },
  {
   "cell_type": "markdown",
   "id": "89c50d2f",
   "metadata": {},
   "source": [
    "## Get mean/median onset per grid"
   ]
  },
  {
   "cell_type": "code",
   "execution_count": null,
   "id": "b1921fce",
   "metadata": {},
   "outputs": [],
   "source": [
    "# TODO: assign grid index to each neuron. Then, make average/median onset.\n",
    "# Then, create pivot (of a new df, maybe, which contains grid row, column, and onset)"
   ]
  },
  {
   "cell_type": "code",
   "execution_count": null,
   "id": "d8032917",
   "metadata": {},
   "outputs": [],
   "source": [
    "onset_grid = [np.zeros(grid_shape, dtype=onsets_np.dtype) for i_sz in range(n_seizures)]"
   ]
  },
  {
   "cell_type": "code",
   "execution_count": null,
   "id": "5ae2ce8c",
   "metadata": {},
   "outputs": [],
   "source": [
    "median_onsets_dfs = [onsets_dfs[i_sz].groupby(\"tile\", as_index=False).median() for i_sz in range(n_seizures)]"
   ]
  },
  {
   "cell_type": "code",
   "execution_count": null,
   "id": "b7ada99a",
   "metadata": {},
   "outputs": [],
   "source": [
    "for i_sz in range(n_seizures):\n",
    "    for i in range(grid_shape[0]):  # go through cols\n",
    "        for j in range(grid_shape[1]): # go through rows\n",
    "            i_tile = i + j*grid_shape[0]\n",
    "            if i_tile in median_onsets_dfs[i_sz][\"tile\"].values:\n",
    "                onset_grid[i_sz][i][j] = median_onsets_dfs[i_sz][median_onsets_dfs[i_sz][\"tile\"] == i_tile][\"onset1\"].values[0]\n"
   ]
  },
  {
   "cell_type": "code",
   "execution_count": null,
   "id": "991f0699",
   "metadata": {},
   "outputs": [],
   "source": [
    "# shape: [n_seizures][n_sd_waves]\n",
    "median_onsets_pivots = []\n",
    "for i_sz in range(n_seizures):\n",
    "    pivots_curr_sz = []\n",
    "    for i_sd in range(len(sd_grouping[i_sz])):\n",
    "        pivots_curr_sz.append(median_onsets_dfs[i_sz].pivot(\"row\", \"col\", \"onset\"+str(i_sd+1)))\n",
    "    median_onsets_pivots.append(pivots_curr_sz)"
   ]
  },
  {
   "cell_type": "code",
   "execution_count": null,
   "id": "e62d0582",
   "metadata": {},
   "outputs": [],
   "source": [
    "median_onsets1_pivot = median_onsets_dfs[0].pivot(\"row\", \"col\", \"onset1\")\n",
    "if \"onset2\" in median_onsets_dfs[0].columns:\n",
    "    median_onsets2_pivot = median_onsets_dfs[0].pivot(\"row\", \"col\", \"onset2\")"
   ]
  },
  {
   "cell_type": "code",
   "execution_count": null,
   "id": "70ed79f5",
   "metadata": {},
   "outputs": [],
   "source": [
    "test_flag = False\n",
    "if test_flag:\n",
    "    row_np = np.zeros((64),)\n",
    "    col_np = np.zeros((64),)\n",
    "    for i in range(64):\n",
    "        row_np[i] = i%8\n",
    "        col_np[i] = i//8\n",
    "    test_dict = {\"col\": col_np, \"row\": row_np}\n",
    "    test_df = pd.DataFrame(test_dict)\n",
    "    test_df[\"val\"] = 8*test_df[\"col\"] + test_df[\"row\"]\n",
    "    test_pivot = test_df.pivot(\"col\", \"row\", \"val\")\n",
    "    f, ax = plt.subplots(figsize=(12, 12))\n",
    "    #sns.heatmap(median_onsets1_pivot, annot=False, linewidths=.5, ax=ax)\n",
    "    sns.heatmap(test_pivot, annot=False, linewidths=.5, ax=ax)\n",
    "    #ax.invert_yaxis()\n",
    "    plt.show()"
   ]
  },
  {
   "cell_type": "code",
   "execution_count": null,
   "id": "f388017e",
   "metadata": {},
   "outputs": [],
   "source": [
    "def plotSDGrid(i_sz, i_sd):\n",
    "    f, ax = plt.subplots(figsize=(12, 12))\n",
    "    sns.heatmap(median_onsets_pivots[i_sz][i_sd], annot=False, linewidths=.5, ax=ax)\n",
    "    #ax.invert_yaxis()\n",
    "    #ax.invert_xaxis()\n",
    "    #ax.set_ylim((0, 7))\n",
    "    #ax.set_xlim((0, 7))\n",
    "    plt.show()"
   ]
  },
  {
   "cell_type": "code",
   "execution_count": null,
   "id": "e2d8afc5",
   "metadata": {},
   "outputs": [],
   "source": [
    "plotSDGrid(1,0)"
   ]
  },
  {
   "cell_type": "code",
   "execution_count": null,
   "id": "23cd5a82",
   "metadata": {},
   "outputs": [],
   "source": [
    "def plot3DOnset(i_sz, i_sd):\n",
    "    fig = plt.figure(figsize=(12,12))\n",
    "    ax = fig.gca(projection='3d')\n",
    "    surf=ax.plot_trisurf(onsets_dfs[i_sz]['x'], onsets_dfs[i_sz]['y'], onsets_dfs[i_sz]['onset'+str(i_sd+1)], cmap=plt.cm.jet, linewidth=0.2)\n",
    "    #ax.view_init(10, 90)\n",
    "    plt.show()"
   ]
  },
  {
   "cell_type": "code",
   "execution_count": null,
   "id": "8428079a",
   "metadata": {},
   "outputs": [],
   "source": [
    "#plot3DOnset(0,0)"
   ]
  },
  {
   "cell_type": "markdown",
   "id": "859d721f",
   "metadata": {},
   "source": [
    "# Seizure onset analysis"
   ]
  },
  {
   "cell_type": "code",
   "execution_count": null,
   "id": "f62eaec5",
   "metadata": {},
   "outputs": [],
   "source": [
    "#sz = segments[segments[\"interval_type\"] == \"sz\"]  \n",
    "#assert len(sz) == 1# there should be only one\n",
    "seizure_begin_frames = [sz_sd_grouping[i_sz][0][1] for i_sz in range(n_seizures)]\n",
    "seizure_end_frames = [sz_sd_grouping[i_sz][0][2] for i_sz in range(n_seizures)]"
   ]
  },
  {
   "cell_type": "code",
   "execution_count": null,
   "id": "3169ede7",
   "metadata": {},
   "outputs": [],
   "source": [
    "small_window = False\n",
    "large_window = False\n",
    "extra_large_window = False\n",
    "manual_limits = True\n",
    "if small_window:\n",
    "    lower = -2\n",
    "    upper = 10\n",
    "    parameters_log[\"sz_window_type\"] = \"small_window\"\n",
    "    \n",
    "elif large_window:\n",
    "    lower = -5\n",
    "    upper = 100\n",
    "    parameters_log[\"sz_window_type\"] = \"large_window\"\n",
    "elif extra_large_window:  # used for T352 1339 recording with symmetric lowess-filtered signal\n",
    "    lower = -20\n",
    "    upper = 105\n",
    "    parameters_log[\"sz_window_type\"] = \"extra_large_window\"\n",
    "elif manual_limits: # might be necessary to set limits manually\n",
    "    sz_lower_limits = [290, 14802]\n",
    "    sz_upper_limits = [345, 14824]\n",
    "    lower = [-seizure_begin_frames[i] + sz_lower_limits[i] for i in range(len(seizure_begin_frames))]\n",
    "    upper = [-seizure_end_frames[i] + sz_upper_limits[i] for i in range(len(seizure_end_frames))]\n",
    "    parameters_log[\"sz_window_type\"] = \"manual_limits\"\n",
    "else:\n",
    "    lower = -2\n",
    "    upper = 20\n",
    "    parameters_log[\"sz_window_type\"] = \"other\"\n",
    "\n",
    "if (small_window or large_window or extra_large_window) and not(manual_limits):\n",
    "    sz_lower_limits = [seizure_begin_frames[i]+lower for i in range(len(seizure_begin_frames))]\n",
    "    sz_upper_limits = [seizure_begin_frames[i]+upper for i in range(len(seizure_begin_frames))]\n",
    "parameters_log[\"lower_sz\"] = str(lower)\n",
    "parameters_log[\"upper_sz\"] = str(upper)\n",
    "parameters_log[\"sz_lower_limits\"] = str(sz_lower_limits)\n",
    "parameters_log[\"sz_upper_limits\"] = str(sz_upper_limits)"
   ]
  },
  {
   "cell_type": "code",
   "execution_count": null,
   "id": "4b8bfecb",
   "metadata": {},
   "outputs": [],
   "source": [
    "onsets_szs = [get_n_maxima(derivatives_sz, 1,sz_lower_limits[i_sz]-2, sz_upper_limits[i_sz]) for i_sz in range(n_seizures)]\n",
    "onsets_szs_np = np.array(onsets_szs)"
   ]
  },
  {
   "cell_type": "code",
   "execution_count": null,
   "id": "7b16f12d",
   "metadata": {},
   "outputs": [],
   "source": [
    "onsets_szs_np.shape"
   ]
  },
  {
   "cell_type": "code",
   "execution_count": null,
   "id": "1cbe1056",
   "metadata": {},
   "outputs": [],
   "source": [
    "np.where(onsets_szs[0] > seizure_begin_frames[0]+10)"
   ]
  },
  {
   "cell_type": "code",
   "execution_count": null,
   "id": "c7e1b42c",
   "metadata": {},
   "outputs": [],
   "source": [
    "def plotSortedSzOnset(i_sz):\n",
    "    fig = plt.figure(figsize=(12,12))\n",
    "    plt.scatter([i_neuron for i_neuron in range(n_neurons)], sorted(onsets_szs[0]))\n",
    "    plt.show()"
   ]
  },
  {
   "cell_type": "markdown",
   "id": "a77f25c9",
   "metadata": {},
   "source": [
    "## Plot sorted cell sz onset"
   ]
  },
  {
   "cell_type": "code",
   "execution_count": null,
   "id": "f3d93bc1",
   "metadata": {},
   "outputs": [],
   "source": [
    "fig, axs = plt.subplots(nrows=n_seizures, ncols=1, figsize=(18,18))\n",
    "if n_seizures > 1:\n",
    "    for i_sz in range(n_seizures):\n",
    "        axs[i_sz].set_title(f\"Seizure {i_sz+1}\")\n",
    "        axs[i_sz].scatter([i_neuron for i_neuron in range(n_neurons)], sorted(onsets_szs[i_sz]))\n",
    "else: # only 1 sz\n",
    "    axs.set_title(f\"Seizure\")\n",
    "    axs.scatter([i_neuron for i_neuron in range(n_neurons)], sorted(onsets_szs[i_sz]))\n",
    "plt.show()"
   ]
  },
  {
   "cell_type": "code",
   "execution_count": null,
   "id": "5200d889",
   "metadata": {},
   "outputs": [],
   "source": [
    "for i_sz in range(n_seizures):\n",
    "    print(i_sz)\n",
    "    onsets_dfs[i_sz][\"onset_sz\"] = onsets_szs_np[i_sz]\n",
    "    onsets_dfs[i_sz][\"quantile_sz\"] = pd.qcut(onsets_dfs[i_sz][\"onset_sz\"], 4, labels=False)"
   ]
  },
  {
   "cell_type": "code",
   "execution_count": null,
   "id": "84b213df",
   "metadata": {},
   "outputs": [],
   "source": [
    "for i_sz in range(n_seizures):\n",
    "    fig= plt.figure(figsize=(16,5))\n",
    "    sns.histplot(data=onsets_dfs[i_sz], x=\"onset_sz\")\n",
    "    plt.show()\n"
   ]
  },
  {
   "cell_type": "code",
   "execution_count": null,
   "id": "e28e25a9",
   "metadata": {},
   "outputs": [],
   "source": [
    "def plotTraceWithDetectedOnset(i_neuron, i_sz):\n",
    "    fig = plt.figure(figsize=(14,14))\n",
    "    plt.plot(lowess_filtered_xvals[i_neuron], lowess_filtered_traces[i_neuron])\n",
    "    plt.plot(lowess_filtered_xvals[i_neuron], temporal[i_neuron])\n",
    "    plt.plot(lowess_filtered_xvals[i_neuron], derivatives_sz[i_neuron])\n",
    "    plt.vlines(onsets_szs[i_sz][i_neuron], ymin=-500, ymax=2000, color=\"red\", linewidth=2)\n",
    "    #plt.vlines(sorted_indices[-1] + i_frame_begin - 1, ymin=-500, ymax=2000, color=\"black\", linewidth=0.5)\n",
    "    # TODO: mismatch in onsets[] as well as in sorted_indices[]! See plot...\n",
    "    plt.vlines([sz_lower_limits[i_sz], sz_upper_limits[i_sz]], ymin=-500, ymax=2000, color=\"black\", linewidth=2)\n",
    "    plt.xlim((seizure_begin_frames[i_sz] - 50,seizure_begin_frames[i_sz] + 200))\n",
    "    plt.show()"
   ]
  },
  {
   "cell_type": "code",
   "execution_count": null,
   "id": "f7ed5d5d",
   "metadata": {},
   "outputs": [],
   "source": [
    "I_NEURON = 10\n",
    "I_SZ = 0\n",
    "#plotTraceWithDetectedOnset(I_NEURON, I_SZ)"
   ]
  },
  {
   "cell_type": "code",
   "execution_count": null,
   "id": "693e19e2",
   "metadata": {},
   "outputs": [],
   "source": [
    "def plotSZOnsets3D(i_sz):\n",
    "    fig = plt.figure(figsize=(12,12))\n",
    "    ax = fig.gca(projection='3d')\n",
    "    surf=ax.plot_trisurf(onsets_dfs[i_sz]['x'], onsets_dfs[i_sz]['y'], onsets_dfs[i_sz]['onset_sz'], cmap=plt.cm.jet, linewidth=0.2)\n",
    "    #ax.view_init(10, 90)\n",
    "    plt.show()"
   ]
  },
  {
   "cell_type": "code",
   "execution_count": null,
   "id": "2aae451e",
   "metadata": {},
   "outputs": [],
   "source": [
    "#plotSZOnsets3D(0)"
   ]
  },
  {
   "cell_type": "code",
   "execution_count": null,
   "id": "656b2a26",
   "metadata": {},
   "outputs": [],
   "source": [
    "def plotSzOnset(i_sz):\n",
    "    sns.set_theme(style=\"whitegrid\")\n",
    "    f, ax = plt.subplots(figsize=(18, 18))\n",
    "    sns.despine(f, left=True, bottom=True)\n",
    "    #sns.scatterplot(x=\"x\", y=\"y\", hue=\"onset_sz\", size=\"onset_sz\",\n",
    "    #                sizes=[5, 40, 80, 160, 240, 320], linewidth=0,\n",
    "    #                data=onsets_df, ax=ax, palette=hues)\n",
    "    sns.scatterplot(x=\"x\", y=\"y\", hue=\"quantile_sz\", size=\"onset_sz\",\n",
    "                    sizes=(10,80), linewidth=0,\n",
    "                    data=onsets_dfs[i_sz], ax=ax)\n",
    "    ax.invert_yaxis()  # invert to match imshow() and in general, nd2 videos: (0, 0) is top left corner\n",
    "    plt.show()"
   ]
  },
  {
   "cell_type": "code",
   "execution_count": null,
   "id": "4971ba0b",
   "metadata": {},
   "outputs": [],
   "source": [
    "plotSzOnset(1)"
   ]
  },
  {
   "cell_type": "code",
   "execution_count": null,
   "id": "b201136f",
   "metadata": {},
   "outputs": [],
   "source": [
    "sz_onset_grids = [np.zeros(grid_shape, dtype=onsets_szs_np[0].dtype) for i_sz in range(n_seizures)]"
   ]
  },
  {
   "cell_type": "code",
   "execution_count": null,
   "id": "527472fe",
   "metadata": {},
   "outputs": [],
   "source": [
    "mean_onsets_dfs = [onsets_dfs[i_sz].groupby(\"tile\", as_index=False).mean() for i_sz in range(n_seizures)]"
   ]
  },
  {
   "cell_type": "code",
   "execution_count": null,
   "id": "ebea2935",
   "metadata": {},
   "outputs": [],
   "source": [
    "for i_sz in range(n_seizures):\n",
    "    for i in range(grid_shape[0]):  # go through cols\n",
    "        for j in range(grid_shape[1]): # go through rows\n",
    "            i_tile = i + j*grid_shape[0]\n",
    "            if i_tile in mean_onsets_dfs[i_sz][\"tile\"].values:\n",
    "                sz_onset_grids[i_sz][i][j] = mean_onsets_dfs[i_sz][mean_onsets_dfs[i_sz][\"tile\"] == i_tile][\"onset_sz\"].values[0]"
   ]
  },
  {
   "cell_type": "code",
   "execution_count": null,
   "id": "f0788431",
   "metadata": {},
   "outputs": [],
   "source": [
    "#mean_sz_onsets_pivots = [mean_onsets_dfs[i_sz].pivot_table(index=\"row\", columns=\"col\", values=\"onset_sz\", aggfunc=\"median\") for i_sz in range(n_seizures)]\n",
    "# mean_sz_onsets_pivots_old = [mean_onsets_dfs[i_sz].pivot(\"row\", \"col\", \"onset_sz\") for i_sz in range(n_seizures)]\n",
    "mean_sz_onsets_pivots = [onsets_dfs[i_sz].pivot_table(index=\"row\", columns=\"col\", values=\"onset_sz\", aggfunc=\"median\") for i_sz in range(n_seizures)]"
   ]
  },
  {
   "cell_type": "code",
   "execution_count": null,
   "id": "6d47e563",
   "metadata": {},
   "outputs": [],
   "source": [
    "for i_sz in range(n_seizures):\n",
    "    f, ax = plt.subplots(figsize=(10, 10))\n",
    "    plt.suptitle(f\"Seizure {i_sz+1}\")\n",
    "    sns.heatmap(mean_sz_onsets_pivots[i_sz], annot=False, linewidths=.5, ax=ax)\n",
    "    #ax.invert_yaxis()\n",
    "    #ax.invert_xaxis()\n",
    "    plt.show()"
   ]
  },
  {
   "cell_type": "markdown",
   "id": "61088f0a",
   "metadata": {},
   "source": [
    "## Check traces of all neurons"
   ]
  },
  {
   "cell_type": "code",
   "execution_count": null,
   "id": "44e807ae",
   "metadata": {},
   "outputs": [],
   "source": [
    "for i_sz in range(n_seizures):\n",
    "    fig = plt.figure(figsize=(14,8))\n",
    "    t_steps = np.array([i_frame for i_frame in range(sz_lower_limits[i_sz],sz_upper_limits[i_sz])])\n",
    "    for i_neuron in range(n_neurons):\n",
    "        plt.plot(t_steps, lowess_filtered_traces[i_neuron][sz_lower_limits[i_sz]:sz_upper_limits[i_sz]])\n",
    "    plt.vlines(onsets_dfs[i_sz][\"onset_sz\"], ymin= 0,ymax= 500, linewidth=0.5)\n",
    "    plt.show()"
   ]
  },
  {
   "cell_type": "markdown",
   "id": "22ee6daf",
   "metadata": {},
   "source": [
    "## Check quantiles traces and detected onsets"
   ]
  },
  {
   "cell_type": "code",
   "execution_count": null,
   "id": "8a05a229",
   "metadata": {},
   "outputs": [],
   "source": [
    "for i_sz in range(n_seizures):\n",
    "    sz_quantile_groups = onsets_dfs[i_sz].groupby(\"quantile_sz\")\n",
    "    t_steps = np.array([i_frame for i_frame in range(sz_lower_limits[i_sz],sz_upper_limits[i_sz])])\n",
    "    fig, axs = plt.subplots(nrows=4, ncols=1, figsize=(18,24), sharex=True)\n",
    "    for i_group, quantile_group in sz_quantile_groups:\n",
    "        for i_neuron in quantile_group.neuron_id:\n",
    "            axs[i_group].plot(t_steps, lowess_filtered_traces[i_neuron][sz_lower_limits[i_sz]:sz_upper_limits[i_sz]])\n",
    "        axs[i_group].set_title(f\"Seizure {i_sz+1} quantile {i_group+1}\")\n",
    "        axs[i_group].vlines(quantile_group.onset_sz, ymin=0, ymax=300)"
   ]
  },
  {
   "cell_type": "markdown",
   "id": "488a6aed",
   "metadata": {},
   "source": [
    "# Compare SZ, SD onset per neuron"
   ]
  },
  {
   "cell_type": "code",
   "execution_count": null,
   "id": "7e9dc367",
   "metadata": {},
   "outputs": [],
   "source": [
    "n_seizures"
   ]
  },
  {
   "cell_type": "code",
   "execution_count": null,
   "id": "82efb60d",
   "metadata": {},
   "outputs": [],
   "source": [
    "for i_sz in range(n_seizures):\n",
    "    n_waves_curr_sz = len(sd_grouping[i_sz])\n",
    "    fig = plt.figure(figsize=(12,12))\n",
    "    t_vals = [i_neuron for i_neuron in range(n_neurons)]\n",
    "    for i_wave in range(n_waves_curr_sz):\n",
    "        plt.scatter(t_vals, onsets_np[i_sz, onsets_np_sorted[i_sz,:,i_wave],i_wave], label=f\"Wave {i_wave+1}\")\n",
    "    plt.scatter(t_vals,onsets_szs_np[i_sz, onsets_np_sorted[i_sz,:,i_wave]], label=\"Sz\")\n",
    "    plt.legend(fontsize=20)\n",
    "    plt.suptitle(f\"Seizure {i_sz+1}\")\n",
    "    plt.show()"
   ]
  },
  {
   "cell_type": "code",
   "execution_count": null,
   "id": "38703a89",
   "metadata": {},
   "outputs": [],
   "source": [
    "#fig = plt.figure(figsize=(18,18))\n",
    "#for i_neuron in range(n_neurons):\n",
    "#    t_onset = onsets_df[onsets_df[\"neuron_id\"] == i_neuron][\"onset1\"].values[0]\n",
    "#    tsteps = [t for t in range(t_onset-100, t_onset+100)]\n",
    "#    plt.plot(tsteps, lowess_filtered_traces[i_neuron][t_onset-100:t_onset+100])\n",
    "#plt.vlines([tsteps[100]], ymin=-2000, ymax=10000)\n",
    "#ax = plt.gca()\n",
    "#plt.show()"
   ]
  },
  {
   "cell_type": "markdown",
   "id": "2bb68f7d",
   "metadata": {},
   "source": [
    "# Plot sz onset for each neuron"
   ]
  },
  {
   "cell_type": "code",
   "execution_count": null,
   "id": "c9450e7b",
   "metadata": {},
   "outputs": [],
   "source": [
    "def plotOnsetEachNeuron(i_sz):\n",
    "    fig = plt.figure(figsize=(18,18))\n",
    "\n",
    "    for i_neuron in range(n_neurons):\n",
    "        t_onset = onsets_dfs[i_sz][onsets_dfs[i_sz][\"neuron_id\"] == i_neuron][\"onset_sz\"].values[0]\n",
    "        tsteps = [t for t in range(t_onset-50, t_onset+200)]\n",
    "        plt.plot(tsteps, lowess_filtered_traces[i_neuron][t_onset-50:t_onset+200])\n",
    "    plt.vlines([tsteps[100]], ymin=-2000, ymax=5000)\n",
    "    ax = plt.gca()\n",
    "    plt.show()"
   ]
  },
  {
   "cell_type": "code",
   "execution_count": null,
   "id": "447901e0",
   "metadata": {},
   "outputs": [],
   "source": [
    "plotOnsetEachNeuron(0)"
   ]
  },
  {
   "cell_type": "markdown",
   "id": "515cd5f0",
   "metadata": {},
   "source": [
    "# Save to hdf5 file"
   ]
  },
  {
   "cell_type": "code",
   "execution_count": null,
   "id": "3bc57b24",
   "metadata": {},
   "outputs": [],
   "source": [
    "export_folder, export_fname = os.path.split(whole_traces_h5_fpath)\n",
    "export_fname_root = os.path.splitext(export_fname)[0][:-7]\n",
    "# assuming file name was xy_traces.h5\n",
    "export_fname = export_fname_root + \"_grid.h5\"\n",
    "export_fpath = os.path.join(export_folder, export_fname)\n",
    "print(f\"Saving results to\\n\\t{export_fpath}\")"
   ]
  },
  {
   "cell_type": "code",
   "execution_count": null,
   "id": "a85789fe",
   "metadata": {},
   "outputs": [],
   "source": [
    "if os.path.exists(export_fpath):\n",
    "    raise Exception(f\"File was not saved because it already exists:\\n\\t{export_fpath}\\nRename it or make a back-up and delete it, then try again.\")\n",
    "else:\n",
    "    if n_seizures == 1:\n",
    "        onsets_dfs[0].to_hdf(export_fpath, key=\"uuid\"+session_uuid)\n",
    "    else:\n",
    "        # need to combine the dataframes\n",
    "        for i_sz in range(n_seizures):\n",
    "            onsets_dfs[i_sz][\"i_sz\"] = i_sz\n",
    "        pd.concat(onsets_dfs).to_hdf(export_fpath, key=\"uuid\"+session_uuid)"
   ]
  },
  {
   "cell_type": "markdown",
   "id": "70ec502f",
   "metadata": {},
   "source": [
    "## Save parameters used"
   ]
  },
  {
   "cell_type": "code",
   "execution_count": null,
   "id": "eb7cbb60",
   "metadata": {},
   "outputs": [],
   "source": [
    "export_params_fname = export_fname_root + \"_gridparams.json\"\n",
    "export_params_fpath = os.path.join(export_folder, export_params_fname)\n",
    "print(f\"Saving results to\\n\\t{export_params_fpath}\")"
   ]
  },
  {
   "cell_type": "code",
   "execution_count": null,
   "id": "c636b43b",
   "metadata": {},
   "outputs": [],
   "source": [
    "if os.path.exists(export_params_fpath):\n",
    "    raise Exception(f\"File was not saved because it already exists:\\n\\t{export_params_fpath}\\nRename it or make a back-up and delete it, then try again.\")\n",
    "else:\n",
    "    with open(export_params_fpath, 'w') as fp:\n",
    "        json.dump(parameters_log, fp, indent=4)"
   ]
  },
  {
   "cell_type": "code",
   "execution_count": null,
   "id": "6529baf8",
   "metadata": {},
   "outputs": [],
   "source": []
  }
 ],
 "metadata": {
  "kernelspec": {
   "display_name": "Python 3 (ipykernel)",
   "language": "python",
   "name": "python3"
  },
  "language_info": {
   "codemirror_mode": {
    "name": "ipython",
    "version": 3
   },
   "file_extension": ".py",
   "mimetype": "text/x-python",
   "name": "python",
   "nbconvert_exporter": "python",
   "pygments_lexer": "ipython3",
   "version": "3.8.12"
  }
 },
 "nbformat": 4,
 "nbformat_minor": 5
}
