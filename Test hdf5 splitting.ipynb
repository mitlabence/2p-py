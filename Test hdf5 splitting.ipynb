{
 "cells": [
  {
   "cell_type": "code",
   "execution_count": null,
   "id": "8e305636",
   "metadata": {},
   "outputs": [],
   "source": [
    "#Auto-reload modules (used to develop functions outside this notebook)\n",
    "%load_ext autoreload\n",
    "%autoreload 2"
   ]
  },
  {
   "cell_type": "code",
   "execution_count": null,
   "id": "2aa9b530",
   "metadata": {},
   "outputs": [],
   "source": [
    "import movie_splitting as msplit\n",
    "import numpy as np\n",
    "import h5py\n",
    "import pims_nd2\n",
    "from nd2_to_caiman import np_arr_from_nd2\n",
    "import labrotation.file_handling as fh\n",
    "import os.path"
   ]
  },
  {
   "cell_type": "code",
   "execution_count": null,
   "id": "c8fd3fba",
   "metadata": {},
   "outputs": [],
   "source": [
    "test_mov = fh.open_file(\"Choose test nd2 file to split and save as hdf5.\")"
   ]
  },
  {
   "cell_type": "code",
   "execution_count": null,
   "id": "dc708d55",
   "metadata": {},
   "outputs": [],
   "source": [
    "export_dir = fh.open_dir(\"Choose folder to save results to.\")  # Note: this way, creating a non-existing directory cannot be tested."
   ]
  },
  {
   "cell_type": "code",
   "execution_count": null,
   "id": "5cfe2dbf",
   "metadata": {},
   "outputs": [],
   "source": [
    "export_fname = \"test_out.hdf5\""
   ]
  },
  {
   "cell_type": "code",
   "execution_count": null,
   "id": "f6e2018b",
   "metadata": {},
   "outputs": [],
   "source": [
    "nd2_data = np_arr_from_nd2(test_mov)"
   ]
  },
  {
   "cell_type": "code",
   "execution_count": null,
   "id": "ab4372c7",
   "metadata": {},
   "outputs": [],
   "source": [
    "msplit.numpy_to_hdf5(nd2_data, os.path.join(export_dir, export_fname))"
   ]
  },
  {
   "cell_type": "code",
   "execution_count": null,
   "id": "54ed097f",
   "metadata": {},
   "outputs": [],
   "source": []
  }
 ],
 "metadata": {
  "kernelspec": {
   "display_name": "Python 3 (ipykernel)",
   "language": "python",
   "name": "python3"
  },
  "language_info": {
   "codemirror_mode": {
    "name": "ipython",
    "version": 3
   },
   "file_extension": ".py",
   "mimetype": "text/x-python",
   "name": "python",
   "nbconvert_exporter": "python",
   "pygments_lexer": "ipython3",
   "version": "3.8.12"
  }
 },
 "nbformat": 4,
 "nbformat_minor": 5
}
