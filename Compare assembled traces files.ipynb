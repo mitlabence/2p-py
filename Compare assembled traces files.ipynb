{
 "cells": [
  {
   "cell_type": "code",
   "execution_count": 1,
   "id": "14f45580",
   "metadata": {},
   "outputs": [],
   "source": [
    "import labrotation.file_handling as fh\n",
    "import h5py\n",
    "import os\n",
    "import datadoc_util as dd"
   ]
  },
  {
   "cell_type": "code",
   "execution_count": 2,
   "id": "ec289750",
   "metadata": {},
   "outputs": [],
   "source": [
    "fpath1 = fh.open_file(\"Open first assembled traces hdf5 file!\")\n",
    "fpath2 = fh.open_file(\"Open second assembled traces hdf5 file!\")"
   ]
  },
  {
   "cell_type": "code",
   "execution_count": 3,
   "id": "15a0da31",
   "metadata": {},
   "outputs": [],
   "source": [
    "assert os.path.exists(fpath1)\n",
    "assert os.path.exists(fpath2)\n",
    "assert fpath1 != fpath2"
   ]
  },
  {
   "cell_type": "code",
   "execution_count": 4,
   "id": "b9b63682",
   "metadata": {},
   "outputs": [
    {
     "name": "stdout",
     "output_type": "stream",
     "text": [
      "dict_keys(['DATA_DOCU_FOLDER', 'DOWNLOADS_FOLDER', 'LOG_FOLDER', 'MATLAB_2P_FOLDER', 'FLUO_LV_MATCHED_FOLDER'])\n"
     ]
    }
   ],
   "source": [
    "env_dict = dict()\n",
    "if not os.path.exists(\"./.env\"):\n",
    "    print(\".env does not exist\")\n",
    "else:\n",
    "    with open(\"./.env\", \"r\") as f:\n",
    "        for line in f.readlines():\n",
    "            l = line.rstrip().split(\"=\")\n",
    "            env_dict[l[0]] = l[1]\n",
    "print(env_dict.keys())"
   ]
  },
  {
   "cell_type": "code",
   "execution_count": 5,
   "id": "654baf01",
   "metadata": {},
   "outputs": [],
   "source": [
    "data_doc = dd.DataDocumentation(env_dict[\"DATA_DOCU_FOLDER\"])"
   ]
  },
  {
   "cell_type": "code",
   "execution_count": 6,
   "id": "fadc836e",
   "metadata": {},
   "outputs": [],
   "source": [
    "data_doc.loadDataDoc()"
   ]
  },
  {
   "cell_type": "code",
   "execution_count": 7,
   "id": "fd211918",
   "metadata": {},
   "outputs": [],
   "source": [
    "# assume the assembled_files dataset looks like this:\n",
    "#file\n",
    "#  * <uuid> as group\n",
    "#    - attributes\n",
    "#    - datasets"
   ]
  },
  {
   "cell_type": "code",
   "execution_count": 8,
   "id": "4066e573",
   "metadata": {},
   "outputs": [],
   "source": [
    "uuids1 = []\n",
    "uuids2 = []\n",
    "with h5py.File(fpath1, \"r\") as hf:\n",
    "    for uuid in hf:\n",
    "        uuids1.append(uuid)\n",
    "with h5py.File(fpath2, \"r\") as hf:\n",
    "    for uuid in hf:\n",
    "        uuids2.append(uuid)"
   ]
  },
  {
   "cell_type": "code",
   "execution_count": 23,
   "id": "fdf3f658",
   "metadata": {},
   "outputs": [],
   "source": [
    "def compare_two_iterables(iterable1, iterable2):\n",
    "    # return true if the iterables contain same elements\n",
    "    found_diff_in_f1 = False\n",
    "    found_diff_in_f2 = False\n",
    "    only_in_f1 = []\n",
    "    only_in_f2 = []\n",
    "    for it1 in iterable1:\n",
    "        if it1 not in iterable2:\n",
    "            if not found_diff_in_f1:\n",
    "                print(\"First iterable contains extra:\")\n",
    "                found_diff_in_f1 = True\n",
    "            only_in_f1.append(it1)\n",
    "            print(it1)\n",
    "    for it2 in iterable2:\n",
    "        if it2 not in iterable1:\n",
    "            if not found_diff_in_f2:\n",
    "                print(\"Second file contains extra:\")\n",
    "                found_diff_in_f2 = True\n",
    "            only_in_f2.append(it2)\n",
    "            print(it2)\n",
    "    return not (found_diff_in_f1 or found_diff_in_f2)"
   ]
  },
  {
   "cell_type": "code",
   "execution_count": 24,
   "id": "2e10f9d5",
   "metadata": {},
   "outputs": [
    {
     "name": "stdout",
     "output_type": "stream",
     "text": [
      "Second file contains extra:\n",
      "04b8cfbfa1c347058bb139b4661edcf1\n",
      "12b84915b25141a4bf3af4a61b0acd25\n",
      "163212a865784e6aafc1909c6859b891\n",
      "1ee3e7c0ddcc4efb92c66e3d71bbae56\n",
      "271794cbff1e44b88ca7ac2fb819ac62\n",
      "43529408970b479a9e4133ca799c3b92\n",
      "4358ba2ed52f4707b249dd07be416a7d\n",
      "4473f11d58d043f68a128617fe3e3289\n",
      "4ed771c0d9ee44c9a741ad22f54de667\n",
      "52bd5171bbda4f3eabd9428f5851c74a\n",
      "6847d178827c4d0a8d5d7727718d7842\n",
      "798df122ea59497f8fd99fe7c12b3444\n",
      "7f49aab18e8048ff903d7201ddf72cb0\n",
      "89d90b1809cc4597bd3a176795d5791c\n",
      "8e42c12f0a2f4f0b9863f4b87e849e5e\n",
      "96b61faf7cec4ce29a1593a2e3c0d62f\n",
      "9b401346419f45068b4c641b18922e45\n",
      "a0881ba1f53948cb9ac002fc6e92cc9b\n",
      "aad74bb04b074c33af828dc72c5d774f\n",
      "b48b7bfa08b7424390c067b2695ff712\n",
      "bb5c07a26c604c6faa01845dd3d6c18b\n",
      "bd796ef078e449f8b80685c5681133bc\n",
      "bfcfb8283dd0422c919cf6671e7ae630\n",
      "c6bb2ce9db3842788c3d6679021bf3f0\n",
      "c954329c0bfc4fad9aa39dea2018cd54\n",
      "cbe78f51e2b0415a844f5c136a349a30\n",
      "dd1aa8d816da4d5c860861b63bd50b04\n",
      "e6874377639546eebeb6372599818fad\n",
      "e6dd1813721b4f2381dbd5e24553b424\n",
      "f049ef71fdd04f30a01db4ebcfbe4ae3\n",
      "fc41f61354c74b3c8db740f06aba9150\n",
      "False\n"
     ]
    }
   ],
   "source": [
    "a = compare_two_iterables(uuids1, uuids2)"
   ]
  },
  {
   "cell_type": "code",
   "execution_count": 12,
   "id": "7e997ce7",
   "metadata": {},
   "outputs": [],
   "source": [
    "common_uuids = list(set(uuids1).intersection(uuids2))"
   ]
  },
  {
   "cell_type": "code",
   "execution_count": 26,
   "id": "cf7cfc3b",
   "metadata": {},
   "outputs": [
    {
     "name": "stdout",
     "output_type": "stream",
     "text": [
      "238cb698d9cf445ca324d9925cbe26fb\n",
      "Second file contains extra:\n",
      "stim_duration_s\n",
      "b9f18da25af3478caaccb17d87c0a4f4\n",
      "Second file contains extra:\n",
      "stim_duration_s\n",
      "73b3828d53b6437a8a4990c778ed2ef4\n",
      "Second file contains extra:\n",
      "stim_duration_s\n",
      "09e0277c86234572ac586ab18be1cd58\n",
      "Second file contains extra:\n",
      "stim_duration_s\n",
      "4ae789df9809469b8668ff01a8cc91ee\n",
      "Second file contains extra:\n",
      "stim_duration_s\n",
      "d43a110d015345c58ed961ee510e70aa\n",
      "Second file contains extra:\n",
      "stim_duration_s\n",
      "3ddbac0cc89a4c7ebb5a2e42060b54dd\n",
      "Second file contains extra:\n",
      "stim_duration_s\n",
      "f3d89599307c45cf81b57fce62796221\n",
      "Second file contains extra:\n",
      "stim_duration_s\n",
      "28878982fe9146449f28c76c13abd9a6\n",
      "Second file contains extra:\n",
      "stim_duration_s\n",
      "5f956ee24bb74b159d71125175aeecb6\n",
      "Second file contains extra:\n",
      "stim_duration_s\n",
      "8a6d1f27381b469c80e3cf72d4da9817\n",
      "Second file contains extra:\n",
      "stim_duration_s\n",
      "d7cde4682e4b48d2936c7eaed4915089\n",
      "Second file contains extra:\n",
      "stim_duration_s\n",
      "8f982e72620648ecbe79ec4a5f605f25\n",
      "Second file contains extra:\n",
      "stim_duration_s\n",
      "cf46116ed3f04cf7909c774bae9dc722\n",
      "Second file contains extra:\n",
      "stim_duration_s\n",
      "9c9550fdbd15460b8aed0e87d8f6031e\n",
      "Second file contains extra:\n",
      "stim_duration_s\n",
      "c803483e98664c5185770b31e769fcbb\n",
      "Second file contains extra:\n",
      "stim_duration_s\n",
      "4b688fabd0c146a791c2b822332920ef\n",
      "Second file contains extra:\n",
      "stim_duration_s\n",
      "c0b4ed2d34b34bdc8340a8a6332291f2\n",
      "Second file contains extra:\n",
      "stim_duration_s\n",
      "41b6c53dfd2d4b258e019fa18f233aa8\n",
      "Second file contains extra:\n",
      "stim_duration_s\n",
      "904cc7c85915482c9fea5a43242fca5f\n",
      "Second file contains extra:\n",
      "stim_duration_s\n",
      "2c4f735f82834b868f705a447613b31b\n",
      "Second file contains extra:\n",
      "stim_duration_s\n",
      "83783b95d77c417bbb8710aba76ea79c\n",
      "Second file contains extra:\n",
      "stim_duration_s\n",
      "e05f30498e6b4f9087ef949fa794a89c\n",
      "Second file contains extra:\n",
      "stim_duration_s\n",
      "cbb15c1d27d74f928b20a901457bea47\n",
      "Second file contains extra:\n",
      "stim_duration_s\n",
      "165df3ec480a4ef7adcc62735c850a1b\n",
      "Second file contains extra:\n",
      "stim_duration_s\n",
      "8dec51d8e6944f97b07da4aa35c87e55\n",
      "Second file contains extra:\n",
      "stim_duration_s\n",
      "77e5fc88100f4525bb827e1d0503460f\n",
      "Second file contains extra:\n",
      "stim_duration_s\n",
      "6a7decd2c7634a02b1a344688b5fdbb7\n",
      "Second file contains extra:\n",
      "stim_duration_s\n",
      "ad02dcce6dc449e29b8d483b5f8a431e\n",
      "Second file contains extra:\n",
      "stim_duration_s\n",
      "ea0966dfc987412c83b66c2535b9d622\n",
      "Second file contains extra:\n",
      "stim_duration_s\n",
      "6d7002226ba341b1b2fc53123ca1d134\n",
      "Second file contains extra:\n",
      "stim_duration_s\n",
      "7aa9ba1222f040c6a1809bee32db278a\n",
      "Second file contains extra:\n",
      "stim_duration_s\n",
      "fb9ca33a3e3e4feabc5469bfa81a9f11\n",
      "Second file contains extra:\n",
      "stim_duration_s\n",
      "778a0a1bbc4b4d41be4d68c9b8636a0a\n",
      "Second file contains extra:\n",
      "stim_duration_s\n",
      "69e3645ac64148919420a6f84ad95f2a\n",
      "Second file contains extra:\n",
      "stim_duration_s\n",
      "9792e7cd2a8b4007ae75aefc5837f1b1\n",
      "Second file contains extra:\n",
      "stim_duration_s\n",
      "3821d88278a9483aa92259005509c39c\n",
      "Second file contains extra:\n",
      "stim_duration_s\n",
      "19da27e38d6842da9d4becf645195cb6\n",
      "Second file contains extra:\n",
      "stim_duration_s\n"
     ]
    }
   ],
   "source": [
    "# compare all attributes\n",
    "with h5py.File(fpath1, \"r\") as hf1:\n",
    "    with h5py.File(fpath2, \"r\") as hf2:\n",
    "        for uuid in common_uuids:\n",
    "            gr1 = hf1[uuid]\n",
    "            gr2 = hf2[uuid]\n",
    "            # check attributes\n",
    "            # todo: extract the function of comparing two iterables from above (checking uuids) and use it for attributes\n",
    "            # as well as dataset names\n",
    "            print(uuid)\n",
    "            compare_two_iterables(gr1.attrs, gr2.attrs)\n",
    "\n"
   ]
  },
  {
   "cell_type": "code",
   "execution_count": 27,
   "id": "96f65c14",
   "metadata": {},
   "outputs": [
    {
     "name": "stdout",
     "output_type": "stream",
     "text": [
      "238cb698d9cf445ca324d9925cbe26fb\n",
      "b9f18da25af3478caaccb17d87c0a4f4\n",
      "73b3828d53b6437a8a4990c778ed2ef4\n",
      "09e0277c86234572ac586ab18be1cd58\n",
      "4ae789df9809469b8668ff01a8cc91ee\n",
      "d43a110d015345c58ed961ee510e70aa\n",
      "3ddbac0cc89a4c7ebb5a2e42060b54dd\n",
      "f3d89599307c45cf81b57fce62796221\n",
      "28878982fe9146449f28c76c13abd9a6\n",
      "5f956ee24bb74b159d71125175aeecb6\n",
      "8a6d1f27381b469c80e3cf72d4da9817\n",
      "d7cde4682e4b48d2936c7eaed4915089\n",
      "8f982e72620648ecbe79ec4a5f605f25\n",
      "cf46116ed3f04cf7909c774bae9dc722\n",
      "9c9550fdbd15460b8aed0e87d8f6031e\n",
      "c803483e98664c5185770b31e769fcbb\n",
      "4b688fabd0c146a791c2b822332920ef\n",
      "c0b4ed2d34b34bdc8340a8a6332291f2\n",
      "41b6c53dfd2d4b258e019fa18f233aa8\n",
      "904cc7c85915482c9fea5a43242fca5f\n",
      "2c4f735f82834b868f705a447613b31b\n",
      "83783b95d77c417bbb8710aba76ea79c\n",
      "e05f30498e6b4f9087ef949fa794a89c\n",
      "cbb15c1d27d74f928b20a901457bea47\n",
      "165df3ec480a4ef7adcc62735c850a1b\n",
      "8dec51d8e6944f97b07da4aa35c87e55\n",
      "77e5fc88100f4525bb827e1d0503460f\n",
      "6a7decd2c7634a02b1a344688b5fdbb7\n",
      "ad02dcce6dc449e29b8d483b5f8a431e\n",
      "ea0966dfc987412c83b66c2535b9d622\n",
      "6d7002226ba341b1b2fc53123ca1d134\n",
      "7aa9ba1222f040c6a1809bee32db278a\n",
      "fb9ca33a3e3e4feabc5469bfa81a9f11\n",
      "778a0a1bbc4b4d41be4d68c9b8636a0a\n",
      "69e3645ac64148919420a6f84ad95f2a\n",
      "9792e7cd2a8b4007ae75aefc5837f1b1\n",
      "3821d88278a9483aa92259005509c39c\n",
      "19da27e38d6842da9d4becf645195cb6\n"
     ]
    }
   ],
   "source": [
    "# compare all dataset names. This should be the same, so assert.\n",
    "with h5py.File(fpath1, \"r\") as hf1:\n",
    "    with h5py.File(fpath2, \"r\") as hf2:\n",
    "        for uuid in common_uuids:\n",
    "            gr1 = hf1[uuid]\n",
    "            gr2 = hf2[uuid]\n",
    "            # check attributes\n",
    "            # todo: extract the function of comparing two iterables from above (checking uuids) and use it for attributes\n",
    "            # as well as dataset names\n",
    "            print(uuid)\n",
    "            assert compare_two_iterables(gr1.keys(), gr2.keys())"
   ]
  },
  {
   "cell_type": "code",
   "execution_count": 31,
   "id": "38270837",
   "metadata": {},
   "outputs": [
    {
     "name": "stdout",
     "output_type": "stream",
     "text": [
      "238cb698d9cf445ca324d9925cbe26fb\n",
      "b9f18da25af3478caaccb17d87c0a4f4\n",
      "73b3828d53b6437a8a4990c778ed2ef4\n",
      "09e0277c86234572ac586ab18be1cd58\n",
      "4ae789df9809469b8668ff01a8cc91ee\n",
      "d43a110d015345c58ed961ee510e70aa\n",
      "3ddbac0cc89a4c7ebb5a2e42060b54dd\n",
      "f3d89599307c45cf81b57fce62796221\n",
      "28878982fe9146449f28c76c13abd9a6\n",
      "5f956ee24bb74b159d71125175aeecb6\n",
      "8a6d1f27381b469c80e3cf72d4da9817\n",
      "d7cde4682e4b48d2936c7eaed4915089\n",
      "8f982e72620648ecbe79ec4a5f605f25\n",
      "cf46116ed3f04cf7909c774bae9dc722\n",
      "9c9550fdbd15460b8aed0e87d8f6031e\n",
      "c803483e98664c5185770b31e769fcbb\n",
      "4b688fabd0c146a791c2b822332920ef\n",
      "c0b4ed2d34b34bdc8340a8a6332291f2\n",
      "41b6c53dfd2d4b258e019fa18f233aa8\n",
      "904cc7c85915482c9fea5a43242fca5f\n",
      "2c4f735f82834b868f705a447613b31b\n",
      "83783b95d77c417bbb8710aba76ea79c\n",
      "e05f30498e6b4f9087ef949fa794a89c\n",
      "cbb15c1d27d74f928b20a901457bea47\n",
      "165df3ec480a4ef7adcc62735c850a1b\n",
      "8dec51d8e6944f97b07da4aa35c87e55\n",
      "77e5fc88100f4525bb827e1d0503460f\n",
      "6a7decd2c7634a02b1a344688b5fdbb7\n",
      "ad02dcce6dc449e29b8d483b5f8a431e\n",
      "ea0966dfc987412c83b66c2535b9d622\n",
      "6d7002226ba341b1b2fc53123ca1d134\n",
      "7aa9ba1222f040c6a1809bee32db278a\n",
      "fb9ca33a3e3e4feabc5469bfa81a9f11\n",
      "778a0a1bbc4b4d41be4d68c9b8636a0a\n",
      "69e3645ac64148919420a6f84ad95f2a\n",
      "9792e7cd2a8b4007ae75aefc5837f1b1\n",
      "3821d88278a9483aa92259005509c39c\n",
      "19da27e38d6842da9d4becf645195cb6\n"
     ]
    }
   ],
   "source": [
    "# compare datasets for groups (uuid) that exist in both files\n",
    "with h5py.File(fpath1, \"r\") as hf1:\n",
    "    with h5py.File(fpath2, \"r\") as hf2:\n",
    "        for uuid in common_uuids:\n",
    "            print(uuid)\n",
    "            gr1 = hf1[uuid]\n",
    "            gr2 = hf2[uuid]\n",
    "            for dset_name in gr1:\n",
    "                dset1 = gr1[dset_name][()]\n",
    "                dset2 = gr2[dset_name][()]\n",
    "                if not (dset1 == dset2).all():\n",
    "                    print(f\"\\t{dset_name} mismatch\")"
   ]
  },
  {
   "cell_type": "code",
   "execution_count": null,
   "id": "e7409c25",
   "metadata": {},
   "outputs": [],
   "source": []
  }
 ],
 "metadata": {
  "kernelspec": {
   "display_name": "Python 3 (ipykernel)",
   "language": "python",
   "name": "python3"
  },
  "language_info": {
   "codemirror_mode": {
    "name": "ipython",
    "version": 3
   },
   "file_extension": ".py",
   "mimetype": "text/x-python",
   "name": "python",
   "nbconvert_exporter": "python",
   "pygments_lexer": "ipython3",
   "version": "3.8.12"
  }
 },
 "nbformat": 4,
 "nbformat_minor": 5
}
