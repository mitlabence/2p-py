{
 "cells": [
  {
   "cell_type": "markdown",
   "id": "805f8f26",
   "metadata": {},
   "source": [
    "# Baseline recovery 2.0\n",
    "This script handles the new format data, where the number of baseline and aftermath frames are variable for each recording. Only use with TMEV data."
   ]
  },
  {
   "cell_type": "code",
   "execution_count": 1,
   "id": "9d73926e",
   "metadata": {},
   "outputs": [],
   "source": [
    "#Auto-reload modules (used to develop functions outside this notebook)\n",
    "%load_ext autoreload\n",
    "%autoreload 2"
   ]
  },
  {
   "cell_type": "code",
   "execution_count": 2,
   "id": "cc9d0e17",
   "metadata": {},
   "outputs": [],
   "source": [
    "import labrotation.file_handling as fh\n",
    "import h5py\n",
    "from time import time\n",
    "import matplotlib.pyplot as plt\n",
    "import numpy as np\n",
    "import os\n",
    "from labrotation import file_handling as fh\n",
    "from copy import deepcopy\n",
    "import pandas as pd\n",
    "import labrotation.two_photon_session as tps\n",
    "import seaborn as sns\n",
    "import uuid  # for unique labeling of sessions and coupling arrays (mouse velocity, distance, ...) to sessions in dataframe \n",
    "from matplotlib import cm  # colormap\n",
    "import datadoc_util\n",
    "from labrotation import two_photon_session as tps\n",
    "from datetime import datetime\n",
    "import seaborn as sns\n",
    "from math import floor, ceil\n",
    "from scipy.stats import ttest_ind, ttest_rel, mannwhitneyu, ranksums\n",
    "from numpy.polynomial.polynomial import Polynomial"
   ]
  },
  {
   "cell_type": "code",
   "execution_count": 3,
   "id": "6dba3ac9",
   "metadata": {},
   "outputs": [],
   "source": [
    "sns.set(font_scale=2)\n",
    "sns.set_style(\"whitegrid\")"
   ]
  },
  {
   "cell_type": "code",
   "execution_count": 4,
   "id": "5854adc7",
   "metadata": {},
   "outputs": [
    {
     "name": "stdout",
     "output_type": "stream",
     "text": [
      "dict_keys(['DATA_DOCU_FOLDER', 'DOWNLOADS_FOLDER', 'LOG_FOLDER', 'MATLAB_2P_FOLDER', 'FLUO_LV_MATCHED_FOLDER'])\n"
     ]
    }
   ],
   "source": [
    "env_dict = dict()\n",
    "if not os.path.exists(\"./.env\"):\n",
    "    print(\".env does not exist\")\n",
    "else:\n",
    "    with open(\"./.env\", \"r\") as f:\n",
    "        for line in f.readlines():\n",
    "            l = line.rstrip().split(\"=\")\n",
    "            env_dict[l[0]] = l[1]\n",
    "print(env_dict.keys())"
   ]
  },
  {
   "cell_type": "code",
   "execution_count": 5,
   "id": "3069e13b",
   "metadata": {},
   "outputs": [],
   "source": [
    "save_dsets = False"
   ]
  },
  {
   "cell_type": "code",
   "execution_count": 6,
   "id": "8f7d3c9c",
   "metadata": {},
   "outputs": [],
   "source": [
    "save_figs = False\n",
    "save_as_eps = False\n",
    "save_as_pdf = True\n",
    "if save_as_eps:\n",
    "    output_format = \".eps\"\n",
    "elif save_as_pdf:\n",
    "    output_format=\".pdf\"\n",
    "else:\n",
    "    output_format = \".jpg\"\n",
    "if save_figs:\n",
    "    print(output_format)"
   ]
  },
  {
   "cell_type": "code",
   "execution_count": 7,
   "id": "9d6644ab",
   "metadata": {},
   "outputs": [
    {
     "name": "stdout",
     "output_type": "stream",
     "text": [
      "Selected folder:\n",
      "\tD:\\PhD\\Data documentation\n"
     ]
    }
   ],
   "source": [
    "if \"DATA_DOCU_FOLDER\" in env_dict.keys():\n",
    "    docu_folder = env_dict[\"DATA_DOCU_FOLDER\"]\n",
    "else:\n",
    "    docu_folder = fh.open_dir(\"Choose folder containing folders for each mouse!\")\n",
    "print(f\"Selected folder:\\n\\t{docu_folder}\")"
   ]
  },
  {
   "cell_type": "code",
   "execution_count": 8,
   "id": "1efccabc",
   "metadata": {},
   "outputs": [
    {
     "name": "stdout",
     "output_type": "stream",
     "text": [
      "Mice detected:\n",
      "\tOPI-2239\n",
      "\tT301\n",
      "\tT303\n",
      "\tT324\n",
      "\tT329\n",
      "\tT333\n",
      "\tT337\n",
      "\tT352\n",
      "\tT370\n",
      "\tT386\n",
      "\tT391\n",
      "\tT396\n",
      "\tT413\n",
      "\tT430\n",
      "\tT452\n",
      "\tT534\n",
      "\tWEZ-8917\n",
      "\tWEZ-8922\n",
      "\tWEZ-8924\n"
     ]
    }
   ],
   "source": [
    "if \"documentation\" in os.listdir(docu_folder):\n",
    "    mouse_folder = os.path.join(docu_folder, \"documentation\")\n",
    "else:\n",
    "    mouse_folder = docu_folder\n",
    "mouse_names = os.listdir(mouse_folder)\n",
    "print(f\"Mice detected:\")\n",
    "for mouse in mouse_names:\n",
    "    print(f\"\\t{mouse}\")"
   ]
  },
  {
   "cell_type": "code",
   "execution_count": 9,
   "id": "84b52f94",
   "metadata": {},
   "outputs": [],
   "source": [
    "def get_datetime_for_fname():\n",
    "    now = datetime.now()\n",
    "    return f\"{now.year:04d}{now.month:02d}{now.day:02d}-{now.hour:02d}{now.minute:02d}{now.second:02d}\""
   ]
  },
  {
   "cell_type": "code",
   "execution_count": 10,
   "id": "35ac9e35",
   "metadata": {},
   "outputs": [
    {
     "name": "stdout",
     "output_type": "stream",
     "text": [
      "Output files will be saved to D:\\Downloads\n"
     ]
    }
   ],
   "source": [
    "output_folder = env_dict[\"DOWNLOADS_FOLDER\"]\n",
    "print(f\"Output files will be saved to {output_folder}\")"
   ]
  },
  {
   "cell_type": "code",
   "execution_count": 11,
   "id": "1c5aaf31",
   "metadata": {},
   "outputs": [],
   "source": [
    "ddoc = datadoc_util.DataDocumentation(docu_folder)\n",
    "ddoc.loadDataDoc()"
   ]
  },
  {
   "cell_type": "markdown",
   "id": "94cba8cd",
   "metadata": {},
   "source": [
    "## Load all seizures dataset"
   ]
  },
  {
   "cell_type": "code",
   "execution_count": 12,
   "id": "2c21ac64",
   "metadata": {},
   "outputs": [],
   "source": [
    "df_events = ddoc.getEventsDf()\n",
    "df_events = df_events[df_events[\"event_type\"] == \"sz\"] "
   ]
  },
  {
   "cell_type": "code",
   "execution_count": 13,
   "id": "e9897f12",
   "metadata": {},
   "outputs": [
    {
     "name": "stdout",
     "output_type": "stream",
     "text": [
      "D:\\PhD\\Data\\traces_for_recovery_20231215-182608.h5\n"
     ]
    }
   ],
   "source": [
    "event_traces_fpath = fh.open_file(\"Open .h5 file containing assembled traces for all seizures!\")\n",
    "print(event_traces_fpath)"
   ]
  },
  {
   "cell_type": "code",
   "execution_count": 14,
   "id": "443b83c0",
   "metadata": {},
   "outputs": [],
   "source": [
    "df_colors = ddoc.getColorings()"
   ]
  },
  {
   "cell_type": "code",
   "execution_count": 15,
   "id": "e32d9089",
   "metadata": {},
   "outputs": [
    {
     "name": "stdout",
     "output_type": "stream",
     "text": [
      "Skipping 74473c5d22e04525acf53f5a5cb799f4: not enough bl or am frames (262, 8455)\n",
      "Skipping d158cd12ad77489a827dab1173a933f9: not enough bl or am frames (8600, 4899)\n"
     ]
    }
   ],
   "source": [
    "traces_ca1 = []\n",
    "traces_nc = []\n",
    "\n",
    "mouse_ids_ca1 = []\n",
    "mouse_ids_nc = []\n",
    "\n",
    "uuids_ca1 = []\n",
    "uuids_nc = []\n",
    "\n",
    "session_uuids_ca1 = []\n",
    "session_uuids_nc = []\n",
    "\n",
    "recording_break_points_ca1 = []\n",
    "recording_break_points_nc = []\n",
    "\n",
    "n_bl_frames_ca1 = []\n",
    "n_am_frames_ca1 = []\n",
    "n_sz_frames_ca1 = []\n",
    "\n",
    "n_bl_frames_nc = []\n",
    "n_am_frames_nc = []\n",
    "n_sz_frames_nc = []\n",
    "\n",
    "N_BL_AM_FRAMES_MINIMUM = 5000\n",
    "\n",
    "# first keys are event uuids, inside the following dataset names:\n",
    "# 'lfp_mov_t', 'lfp_mov_y', 'lfp_t', 'lfp_y', 'lv_dist', 'lv_rounds', \n",
    "# 'lv_running', 'lv_speed', 'lv_t_s', 'lv_totdist', 'mean_fluo'\n",
    "with h5py.File(event_traces_fpath, \"r\") as hf:\n",
    "    for uuid in hf.keys():\n",
    "        win_type = hf[uuid].attrs[\"window_type\"]\n",
    "        mean_fluo = np.array(hf[uuid][\"mean_fluo\"])\n",
    "\n",
    "        n_bl_frames = hf[uuid].attrs[\"n_bl_frames\"]\n",
    "        n_am_frames = hf[uuid].attrs[\"n_am_frames\"]\n",
    "        n_sz_frames = hf[uuid].attrs[\"n_sz_frames\"]\n",
    "        \n",
    "        if min(n_bl_frames, n_am_frames) < N_BL_AM_FRAMES_MINIMUM:\n",
    "            print(f\"Skipping {uuid}: not enough bl or am frames ({n_bl_frames}, {n_am_frames})\")\n",
    "            continue\n",
    "        else:\n",
    "            mouse_id = hf[uuid].attrs[\"mouse_id\"]\n",
    "            if win_type == \"Cx\":\n",
    "                traces_nc.append(mean_fluo)\n",
    "                uuids_nc.append(uuid)\n",
    "                session_uuids_nc.append(hf[uuid].attrs[\"session_uuids\"])\n",
    "                recording_break_points_nc.append(hf[uuid].attrs[\"recording_break_points\"])\n",
    "                mouse_ids_nc.append(mouse_id)\n",
    "                n_bl_frames_nc.append(n_bl_frames)\n",
    "                n_am_frames_nc.append(n_am_frames)\n",
    "                n_sz_frames_nc.append(n_sz_frames)\n",
    "            elif win_type == \"CA1\":\n",
    "                traces_ca1.append(mean_fluo)\n",
    "                uuids_ca1.append(uuid)\n",
    "                session_uuids_ca1.append(hf[uuid].attrs[\"session_uuids\"])\n",
    "                recording_break_points_ca1.append(hf[uuid].attrs[\"recording_break_points\"])\n",
    "                mouse_ids_ca1.append(mouse_id)\n",
    "                n_bl_frames_ca1.append(n_bl_frames)\n",
    "                n_am_frames_ca1.append(n_am_frames)\n",
    "                n_sz_frames_ca1.append(n_sz_frames)\n",
    "            else:\n",
    "                print(f\"{win_type} not recognized window type\")"
   ]
  },
  {
   "cell_type": "markdown",
   "id": "9cefa721",
   "metadata": {},
   "source": [
    "### Get color data"
   ]
  },
  {
   "cell_type": "code",
   "execution_count": 16,
   "id": "65918028",
   "metadata": {},
   "outputs": [],
   "source": [
    "colors_ca1 = [df_colors[df_colors[\"mouse_id\"] == mouse_id].color.iloc[0] for mouse_id in mouse_ids_ca1]\n",
    "colors_nc = [df_colors[df_colors[\"mouse_id\"] == mouse_id].color.iloc[0] for mouse_id in mouse_ids_nc]"
   ]
  },
  {
   "cell_type": "markdown",
   "id": "b5055887",
   "metadata": {},
   "source": [
    "# Analysis"
   ]
  },
  {
   "cell_type": "markdown",
   "id": "7d865561",
   "metadata": {},
   "source": [
    "## 1. Recovery time points"
   ]
  },
  {
   "cell_type": "code",
   "execution_count": 26,
   "id": "a4d688a0",
   "metadata": {},
   "outputs": [
    {
     "name": "stdout",
     "output_type": "stream",
     "text": [
      "Unknown event_uuid: d158cd12ad77489a827dab1173a933f9\n",
      "Unknown event_uuid: 74473c5d22e04525acf53f5a5cb799f4\n"
     ]
    }
   ],
   "source": [
    "# get a list of trace indices that are sorted by mouse\n",
    "event_uuid_mouse_id_i_trace_ca1 = []  # list of (event_uuid, mouse_id, i_trace) tuples\n",
    "event_uuid_mouse_id_i_trace_nc  = []  # list of (event_uuid, mouse_id, i_trace) tuples\n",
    "\n",
    "\n",
    "for event_uuid in df_events[\"event_uuid\"].unique():\n",
    "    mouse_id = df_events[df_events[\"event_uuid\"] == event_uuid].mouse_id.iloc[0]\n",
    "    if event_uuid in uuids_ca1:\n",
    "        i_trace = uuids_ca1.index(event_uuid)\n",
    "        event_uuid_mouse_id_i_trace_ca1.append((event_uuid, mouse_id, i_trace))\n",
    "    elif event_uuid in uuids_nc:\n",
    "        i_trace = uuids_nc.index(event_uuid)\n",
    "        event_uuid_mouse_id_i_trace_nc.append((event_uuid, mouse_id, i_trace))\n",
    "        \n",
    "    else:\n",
    "        print(f\"Unknown event_uuid: {event_uuid}\")"
   ]
  },
  {
   "cell_type": "code",
   "execution_count": null,
   "id": "31435afc",
   "metadata": {},
   "outputs": [],
   "source": [
    "window_width_s = 10\n",
    "window_step_s = 5\n",
    "imaging_frequency = 15. # in Hz\n",
    "n_frames_before_nc = 200  # include 200 frames just before aftermath for NC recordings  \n",
    "n_frames_before_ca1 = 0\n",
    "n_windows_post_darkest = 40 # dataset consists of bl, darkest point, and this many windows post darkest point\n",
    "\n",
    "default_bl_center_ca1 = 4925\n",
    "default_bl_center_nc = 4025\n",
    "\n",
    "window_width_frames = int(window_width_s*imaging_frequency)\n",
    "window_step_frames = int(window_step_s*imaging_frequency)\n",
    "\n",
    "half_window_width_frames = window_width_frames//2\n",
    "\n",
    "# define baseline windows\n",
    "bl_windows_nc = [(default_bl_center_nc - half_window_width_frames, default_bl_center_nc + half_window_width_frames) for i in range(len(traces_nc))]  # for neocortex, allow for ~1 min before Sz (LFP sz comes earlier)\n",
    "bl_windows_ca1 = [(default_bl_center_ca1 - half_window_width_frames, default_bl_center_ca1 + half_window_width_frames) for i in range(len(traces_ca1))]  # for CA1, immediately before Sz onset\n",
    "\n",
    "i_frame_begin_bl = 3850  # in 0-indexing, the first frame to be included in baseline\n",
    "i_frame_end_bl = 4000  # in 0-indexing, the first frame after baseline (i.e. not included)\n",
    "\n",
    "time_points = [\"bl\", \"darkest\"] + [f\"{(i+1)*window_step_s}s\" for i in range(n_windows_post_darkest)]\n",
    "time_points_numeric = [-window_step_s, 0] + [(i+1)*window_step_s for i in range(n_windows_post_darkest)]\n",
    "time_points_numeric = np.array(time_points_numeric)\n",
    "\n",
    "\n",
    "def get_metric_for_window(trace_window):\n",
    "    lowest_5p_indices = np.argsort(trace_window)[:int(0.05*len(trace_window))]\n",
    "    lowest_5p = trace_window[lowest_5p_indices]\n",
    "    return np.median(lowest_5p)\n",
    "\n",
    "def get_recovery_data(complete_trace, i_frame_begin_bl, i_frame_end_bl, n_frames_before_am=0):\n",
    "    # n_frames_before_am: for NC, need to include a few frames before the segment \"aftermath\" begins, due to mistakes in \n",
    "    # manual classification. In CA1, this is not necessary\n",
    "    \n",
    "    metrics_list = []\n",
    "    x_list = []\n",
    "    \n",
    "    \n",
    "    # The complete trace should consist of 5000 bl, x Sz, 5000 am frames.\n",
    "    # get bl as just before Sz begin\n",
    "    bl_trace = complete_trace[i_frame_begin_bl:i_frame_end_bl]\n",
    "    x_bl = (i_frame_begin_bl + i_frame_end_bl)//2  # TODO: assign proper x\n",
    "    y_bl = get_metric_for_window(bl_trace)\n",
    "    \n",
    "    # add bl to dataset\n",
    "    x_list.append(x_bl)\n",
    "    metrics_list.append(y_bl)\n",
    "    \n",
    "    # get am 5p darkest points\n",
    "    sorted_indices = np.argsort(complete_trace)\n",
    "    sorted_am_indices = sorted_indices[sorted_indices > len(complete_trace) - 5000 - n_frames_before_am]\n",
    "    am_x_5p_lowest = sorted_am_indices[:int(0.05*(5000+n_frames_before_am))] \n",
    "    \n",
    "    # get single coordinate for darkest part\n",
    "    # find darkest 5p, take earliest 50 of them, get median frame index of these, round down to integer frame\n",
    "    x_am_darkest = int(floor(np.median(np.sort(am_x_5p_lowest)[:50])))\n",
    "    \n",
    "    # create sliding windows, calculate metric\n",
    "    for i_window in range(n_windows_post_darkest+1):  # window around darkest point + n_windows_post_darkest windows\n",
    "        x_val = x_am_darkest + i_window*window_step_frames\n",
    "        window_half_width = window_width_frames//2\n",
    "        window_trace = complete_trace[x_val - window_half_width : x_val + window_half_width]\n",
    "        y_val = get_metric_for_window(window_trace)\n",
    "        \n",
    "        x_list.append(x_val)\n",
    "        metrics_list.append(y_val)\n",
    "        \n",
    "    return (x_list, metrics_list)\n",
    "    "
   ]
  },
  {
   "cell_type": "markdown",
   "id": "925e1f3a",
   "metadata": {},
   "source": [
    "### Manually modify baseline values"
   ]
  },
  {
   "cell_type": "code",
   "execution_count": null,
   "id": "de6ca068",
   "metadata": {},
   "outputs": [],
   "source": [
    "event_uuid_mouse_id_i_trace_ca1\n",
    "# CA1:\n",
    "# aa66ae0470a14eb08e9bcadedc34ef64 : ~4250\n",
    "# c7b29d28248e493eab02288b85e3adee : 4000\n",
    "# 7b9c17d8a1b0416daf65621680848b6a : 4050\n",
    "# 9e75d7135137444492d104c461ddcaac : 4700\n",
    "# d158cd12ad77489a827dab1173a933f9 : 4500\n",
    "# a39ed3a880c54f798eff250911f1c92f : 4500\n",
    "# 4e2310d2dde845b0908519b7196080e8 : 4500\n",
    "# f0442bebcd1a4291a8d0559eb47df08e : 4500\n",
    "# NC:\n",
    "# 2251bba132cf45fa839d3214d1651392 : 3700\n",
    "# cd3c1e0e3c284a89891d2e4d9a7461f4 : 3500\n",
    "dict_uuid_manual_bl_center = {\"aa66ae0470a14eb08e9bcadedc34ef64\": 4250, \"c7b29d28248e493eab02288b85e3adee\": 4000,  \"7b9c17d8a1b0416daf65621680848b6a\": 4050, \"9e75d7135137444492d104c461ddcaac\": 4700, \"d158cd12ad77489a827dab1173a933f9\": 4500, \"a39ed3a880c54f798eff250911f1c92f\" : 4500, \"4e2310d2dde845b0908519b7196080e8\" : 4500, \"f0442bebcd1a4291a8d0559eb47df08e\": 4500, \"2251bba132cf45fa839d3214d1651392\": 3700, \"cd3c1e0e3c284a89891d2e4d9a7461f4\": 3500}\n",
    "\n",
    "# map uuid : bl centre dictionary i_trace : bl_centre dict\n",
    "dict_itrace_manual_bl_center_ca1 = {}\n",
    "dict_itrace_manual_bl_center_nc = {}\n",
    "\n",
    "for uuid_mouseid_itrace in event_uuid_mouse_id_i_trace_ca1:\n",
    "    uuid = uuid_mouseid_itrace[0]\n",
    "    mouse_id = uuid_mouseid_itrace[1]\n",
    "    i_trace = uuid_mouseid_itrace[2]\n",
    "    \n",
    "    if uuid in dict_uuid_manual_bl_center.keys():\n",
    "        dict_itrace_manual_bl_center_ca1[i_trace] = dict_uuid_manual_bl_center[uuid]\n",
    "for uuid_mouseid_itrace in event_uuid_mouse_id_i_trace_nc:\n",
    "    uuid = uuid_mouseid_itrace[0]\n",
    "    mouse_id = uuid_mouseid_itrace[1]\n",
    "    i_trace = uuid_mouseid_itrace[2]\n",
    "    \n",
    "    if uuid in dict_uuid_manual_bl_center.keys():\n",
    "        dict_itrace_manual_bl_center_nc[i_trace] = dict_uuid_manual_bl_center[uuid]\n",
    "        \n",
    "# re-calculate bl_windows_ca1, bl_windows_nc\n",
    "for i_trace in dict_itrace_manual_bl_center_ca1.keys():\n",
    "    bl_windows_ca1[i_trace] = (dict_itrace_manual_bl_center_ca1[i_trace] - half_window_width_frames, dict_itrace_manual_bl_center_ca1[i_trace] + half_window_width_frames)\n",
    "for i_trace in dict_itrace_manual_bl_center_nc.keys():\n",
    "    bl_windows_nc[i_trace] = (dict_itrace_manual_bl_center_nc[i_trace] - half_window_width_frames, dict_itrace_manual_bl_center_nc[i_trace] + half_window_width_frames)"
   ]
  },
  {
   "cell_type": "markdown",
   "id": "c745a53e",
   "metadata": {},
   "source": [
    "## Calculate metrics for all data"
   ]
  },
  {
   "cell_type": "code",
   "execution_count": null,
   "id": "a4dd60a8",
   "metadata": {},
   "outputs": [],
   "source": [
    "x_recovery_ca1 = [[] for i in range(len(traces_ca1))]\n",
    "y_recovery_ca1 = [[] for i in range(len(traces_ca1))]\n",
    "\n",
    "x_recovery_nc = [[] for i in range(len(traces_nc))]\n",
    "y_recovery_nc = [[] for i in range(len(traces_nc))]\n",
    "\n",
    "\n",
    "for event_uuid, mouse_id, i_trace in event_uuid_mouse_id_i_trace_nc:\n",
    "    x_data, y_data = get_recovery_data(traces_nc[i_trace], bl_windows_nc[i_trace][0], bl_windows_nc[i_trace][1], n_frames_before_nc)\n",
    "    x_recovery_nc[i_trace] = x_data\n",
    "    y_recovery_nc[i_trace] = y_data\n",
    "\n",
    "    \n",
    "for event_uuid, mouse_id, i_trace in event_uuid_mouse_id_i_trace_ca1:\n",
    "    x_data, y_data = get_recovery_data(traces_ca1[i_trace], bl_windows_ca1[i_trace][0], bl_windows_ca1[i_trace][1], n_frames_before_ca1)\n",
    "    x_recovery_ca1[i_trace] = x_data\n",
    "    y_recovery_ca1[i_trace] = y_data\n",
    "    \n",
    "x_recovery_ca1 = np.array(x_recovery_ca1, dtype=np.int16)\n",
    "x_recovery_nc = np.array(x_recovery_nc, dtype=np.int16)\n",
    "\n",
    "y_recovery_ca1 = np.array(y_recovery_ca1,)\n",
    "y_recovery_nc = np.array(y_recovery_nc, )\n"
   ]
  }
 ],
 "metadata": {
  "kernelspec": {
   "display_name": "Python 3 (ipykernel)",
   "language": "python",
   "name": "python3"
  },
  "language_info": {
   "codemirror_mode": {
    "name": "ipython",
    "version": 3
   },
   "file_extension": ".py",
   "mimetype": "text/x-python",
   "name": "python",
   "nbconvert_exporter": "python",
   "pygments_lexer": "ipython3",
   "version": "3.8.12"
  }
 },
 "nbformat": 4,
 "nbformat_minor": 5
}
