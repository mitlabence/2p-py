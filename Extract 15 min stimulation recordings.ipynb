{
 "cells": [
  {
   "cell_type": "code",
   "execution_count": null,
   "id": "b017bdf2",
   "metadata": {},
   "outputs": [],
   "source": [
    "#Auto-reload modules (used to develop functions outside this notebook)\n",
    "%load_ext autoreload\n",
    "%autoreload 2"
   ]
  },
  {
   "cell_type": "code",
   "execution_count": null,
   "id": "eb644acd",
   "metadata": {},
   "outputs": [],
   "source": [
    "import os\n",
    "import numpy as np\n",
    "import pandas as pd\n",
    "import labrotation.file_handling as fh\n",
    "import datadoc_util as ddutil\n",
    "from labrotation import two_photon_session as tps\n",
    "import h5py\n",
    "from datetime import datetime as dt\n",
    "from datetime import timedelta"
   ]
  },
  {
   "cell_type": "code",
   "execution_count": null,
   "id": "137f112d",
   "metadata": {},
   "outputs": [],
   "source": [
    "env_dict = dict()\n",
    "if not os.path.exists(\"./.env\"):\n",
    "    print(\".env does not exist\")\n",
    "else:\n",
    "    with open(\"./.env\", \"r\") as f:\n",
    "        for line in f.readlines():\n",
    "            l = line.rstrip().split(\"=\")\n",
    "            env_dict[l[0]] = l[1]\n",
    "print(env_dict.keys())\n"
   ]
  },
  {
   "cell_type": "code",
   "execution_count": null,
   "id": "56c699ba",
   "metadata": {},
   "outputs": [],
   "source": [
    "SERVER_SYMBOL = env_dict[\"SERVER_SYMBOL\"]  # symbol of server where data is stored\n",
    "assert SERVER_SYMBOL is not None"
   ]
  },
  {
   "cell_type": "code",
   "execution_count": null,
   "id": "ce9303e0",
   "metadata": {},
   "outputs": [],
   "source": [
    "ddoc = ddutil.DataDocumentation(env_dict[\"DATA_DOCU_FOLDER\"])\n",
    "ddoc.loadDataDoc()"
   ]
  },
  {
   "cell_type": "code",
   "execution_count": null,
   "id": "23aa2b54",
   "metadata": {},
   "outputs": [],
   "source": [
    "matlab_2p_folder = env_dict[\"MATLAB_2P_FOLDER\"]"
   ]
  },
  {
   "cell_type": "code",
   "execution_count": null,
   "id": "1661b53c",
   "metadata": {},
   "outputs": [],
   "source": [
    "def get_datetime_for_fname():\n",
    "    now = dt.now()\n",
    "    return f\"{now.year:04d}{now.month:02d}{now.day:02d}-{now.hour:02d}{now.minute:02d}{now.second:02d}\""
   ]
  },
  {
   "cell_type": "code",
   "execution_count": null,
   "id": "8ef3169e",
   "metadata": {},
   "outputs": [],
   "source": [
    "events_list_fpath = os.path.join(env_dict[\"DATA_DOCU_FOLDER\"], \"events_list.xlsx\")\n",
    "assert os.path.exists(events_list_fpath)"
   ]
  },
  {
   "cell_type": "code",
   "execution_count": null,
   "id": "20de39a8",
   "metadata": {},
   "outputs": [],
   "source": [
    "df_events = ddoc.getRecordingsWithExperimentType([\"chr2_sd\", \"chr2_ctl\", \"chr2_szsd\", \"chr2_lfpsz_sd\"])"
   ]
  },
  {
   "cell_type": "code",
   "execution_count": null,
   "id": "99bc548e",
   "metadata": {},
   "outputs": [],
   "source": [
    "df_events = df_events[df_events[\"mouse_id\"].isin([\"T370\", \"T413\"])]"
   ]
  },
  {
   "cell_type": "code",
   "execution_count": null,
   "id": "5e8170b8",
   "metadata": {},
   "outputs": [],
   "source": [
    "for uuid in df_events[\"uuid\"].unique():\n",
    "    recording_row = df_events[df_events[\"uuid\"] == uuid].iloc[0]\n",
    "    mouse_dir = recording_row.folder\n",
    "    mouse_dir = SERVER_SYMBOL + mouse_dir[1:]\n",
    "    if not os.path.exists(mouse_dir):\n",
    "        print(uuid)\n",
    "        print(f\"\\t{mouse_dir}\")\n",
    "        mouse_id = ddoc.getMouseIdForUuid(uuid)\n",
    "        nik_name = ddoc.getNikonFileNameForUuid(uuid)\n",
    "        print(f\"\\t{mouse_id} {nik_name}\")\n",
    "    else:\n",
    "        has_lfp = True\n",
    "        \n",
    "        if type(recording_row.lfp) is float:\n",
    "            has_lfp = False\n",
    "        else:\n",
    "            if not os.path.exists(os.path.join(mouse_dir,recording_row.lfp)):\n",
    "                print(os.path.join(mouse_dir,recording_row.lfp))\n",
    "            # assert )\n",
    "            \n",
    "        \n",
    "        assert os.path.exists(os.path.join(mouse_dir, recording_row.nd2))\n",
    "        \n",
    "        assert os.path.exists(os.path.join(mouse_dir, recording_row.nikon_meta))\n",
    "         \n",
    "        assert os.path.exists(os.path.join(mouse_dir, recording_row.labview))\n",
    "        assert os.path.exists(os.path.join(mouse_dir, recording_row.labview.replace(\".txt\", \"time.txt\")))\n",
    "        \n",
    "print(\"Consistency check done.\")"
   ]
  },
  {
   "cell_type": "code",
   "execution_count": null,
   "id": "933700b2",
   "metadata": {},
   "outputs": [],
   "source": [
    "sessions_dict"
   ]
  },
  {
   "cell_type": "code",
   "execution_count": null,
   "id": "0da4c4f0",
   "metadata": {},
   "outputs": [],
   "source": [
    "sessions_dict = dict()\n",
    "has_lfp_dict = dict()"
   ]
  },
  {
   "cell_type": "code",
   "execution_count": null,
   "id": "1631bf6b",
   "metadata": {},
   "outputs": [],
   "source": [
    "for uuid in df_events[\"uuid\"].unique():\n",
    "    if uuid in sessions_dict.keys():\n",
    "        print(f\"{uuid} already opened. Skipping...\")\n",
    "        continue\n",
    "    print(uuid)\n",
    "    recording_row = df_events[df_events[\"uuid\"] == uuid].iloc[0]\n",
    "    session_folder = recording_row.folder\n",
    "    session_folder = SERVER_SYMBOL + session_folder[1:]\n",
    "    has_lfp = True\n",
    "    if type(recording_row.lfp) is float:\n",
    "        has_lfp = False\n",
    "    else:\n",
    "        if not os.path.exists(os.path.join(session_folder,recording_row.lfp)):\n",
    "            print(os.path.join(session_folder,recording_row.lfp))\n",
    "    files = ddoc.getSessionFilesForUuuid(uuid).iloc[0].to_dict()\n",
    "    \n",
    "    fname_nd2 = files[\"nd2\"]\n",
    "    fpath_nd2 = os.path.join(session_folder, fname_nd2)\n",
    "    \n",
    "    fname_nikmeta = files[\"nikon_meta\"]\n",
    "    fpath_nikmeta = os.path.join(session_folder, fname_nikmeta)\n",
    "    \n",
    "    fname_lv = files[\"labview\"]\n",
    "    fname_lvtime = os.path.splitext(files[\"labview\"])[0] + \"time.txt\"\n",
    "    fpath_lv = os.path.join(session_folder, fname_lv)\n",
    "    fpath_lvtime = os.path.join(session_folder, fname_lvtime)\n",
    "    \n",
    "    fname_lfp = None\n",
    "    fpath_lfp = None\n",
    "    if has_lfp:\n",
    "        fname_lfp = files[\"lfp\"]\n",
    "        fpath_lfp = os.path.join(session_folder, fname_lfp)\n",
    "    \n",
    "    session = tps.TwoPhotonSession.init_and_process(fpath_nd2, fpath_nikmeta, fpath_lv, fpath_lvtime, fpath_lfp, matlab_2p_folder)\n",
    "    sessions_dict[uuid] = session\n",
    "    has_lfp_dict[uuid] = session.has_lfp()"
   ]
  },
  {
   "cell_type": "code",
   "execution_count": null,
   "id": "ab27bfe6",
   "metadata": {},
   "outputs": [],
   "source": [
    "has_lfp_dict"
   ]
  },
  {
   "cell_type": "code",
   "execution_count": null,
   "id": "a7b5b11d",
   "metadata": {},
   "outputs": [],
   "source": [
    "def create_dt(t):\n",
    "    t1 = t[1:]\n",
    "    t0 = t[:-1]\n",
    "    dt = np.zeros(len(t))\n",
    "    dt[1:] = t1 - t0\n",
    "    dt[0] = dt[1]  # assume same step size to avoid 0\n",
    "    return dt\n",
    "def create_totdist_abs(speed, dt):\n",
    "    totdist_abs = np.zeros(len(speed))\n",
    "    totdist_abs[0] = speed[0]*dt[0]\n",
    "    for i in range(1, len(totdist_abs)):\n",
    "        totdist_abs[i] = totdist_abs[i-1] + abs(speed[i]*dt[i])\n",
    "    return totdist_abs"
   ]
  },
  {
   "cell_type": "code",
   "execution_count": null,
   "id": "7246d261",
   "metadata": {},
   "outputs": [],
   "source": [
    "traces_dict = dict()\n",
    "for uuid in sessions_dict.keys():\n",
    "    traces_dict[uuid] = dict()\n",
    "    session = sessions_dict[uuid]\n",
    "    if has_lfp_dict[uuid]:\n",
    "        lfp_t, lfp_y = session.lfp_lfp()\n",
    "        traces_dict[uuid][\"lfp_t\"] =  np.array(lfp_t)\n",
    "        traces_dict[uuid][\"lfp_y\"] =  np.array(lfp_y)\n",
    "        lfp_mov_t, lfp_mov_y = session.lfp_movement()\n",
    "        traces_dict[uuid][\"mov_t\"] =  np.array(lfp_mov_t)\n",
    "        traces_dict[uuid][\"mov_y\"] =  np.array(lfp_mov_y)\n",
    "    else:\n",
    "        traces_dict[uuid][\"lfp_t\"] =  None\n",
    "        traces_dict[uuid][\"lfp_y\"] =  None\n",
    "        traces_dict[uuid][\"mov_t\"] =  None\n",
    "        traces_dict[uuid][\"mov_y\"] =  None\n",
    "    lv_t_s = session.belt_scn_dict['tsscn']/1000.\n",
    "    lv_dist = session.belt_scn_dict['distance']\n",
    "    lv_speed = session.belt_scn_dict['speed']\n",
    "    lv_running = session.belt_scn_dict['running']\n",
    "    lv_totdist = session.belt_scn_dict['totdist']\n",
    "    lv_rounds = session.belt_scn_dict['rounds']\n",
    "    traces_dict[uuid][\"lv_t_s\"] = lv_t_s\n",
    "    traces_dict[uuid][\"lv_dist\"] = lv_dist\n",
    "    traces_dict[uuid][\"lv_speed\"] = lv_speed\n",
    "    traces_dict[uuid][\"lv_running\"] = lv_running\n",
    "    traces_dict[uuid][\"lv_totdist\"] = lv_totdist\n",
    "    traces_dict[uuid][\"lv_rounds\"] = lv_rounds\n",
    "    \n",
    "    lv_dt = create_dt(lv_t_s)\n",
    "    lv_totdist_abs = create_totdist_abs(lv_speed, lv_dt)\n",
    "    traces_dict[uuid][\"lv_dt\"] = lv_dt\n",
    "    traces_dict[uuid][\"lv_totdist_abs\"] = lv_totdist_abs\n",
    "    \n",
    "    mean_fluo = session.mean_fluo\n",
    "    traces_dict[uuid][\"mean_fluo\"] = mean_fluo\n",
    "    \n",
    "    \n",
    "    \n",
    "        "
   ]
  },
  {
   "cell_type": "code",
   "execution_count": null,
   "id": "d481986f",
   "metadata": {},
   "outputs": [],
   "source": [
    "# TODO: create waterfall plots"
   ]
  }
 ],
 "metadata": {
  "kernelspec": {
   "display_name": "Python 3 (ipykernel)",
   "language": "python",
   "name": "python3"
  },
  "language_info": {
   "codemirror_mode": {
    "name": "ipython",
    "version": 3
   },
   "file_extension": ".py",
   "mimetype": "text/x-python",
   "name": "python",
   "nbconvert_exporter": "python",
   "pygments_lexer": "ipython3",
   "version": "3.8.12"
  }
 },
 "nbformat": 4,
 "nbformat_minor": 5
}
