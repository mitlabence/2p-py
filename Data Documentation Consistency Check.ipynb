{
 "cells": [
  {
   "cell_type": "code",
   "execution_count": null,
   "id": "48849593",
   "metadata": {},
   "outputs": [],
   "source": [
    "#Auto-reload modules (used to develop functions outside this notebook)\n",
    "%load_ext autoreload\n",
    "%autoreload 2"
   ]
  },
  {
   "cell_type": "code",
   "execution_count": null,
   "id": "40d47436",
   "metadata": {},
   "outputs": [],
   "source": [
    "import datadoc_util as ddu\n",
    "import labrotation.file_handling as fh"
   ]
  },
  {
   "cell_type": "code",
   "execution_count": null,
   "id": "39630daf",
   "metadata": {},
   "outputs": [],
   "source": [
    "ddoc_folder = fh.open_dir(\"Open data documentation folder!\")"
   ]
  },
  {
   "cell_type": "code",
   "execution_count": null,
   "id": "e1d1f9e6",
   "metadata": {},
   "outputs": [],
   "source": [
    "ddoc = ddu.DataDocumentation(ddoc_folder)"
   ]
  },
  {
   "cell_type": "code",
   "execution_count": null,
   "id": "d6419d0f",
   "metadata": {},
   "outputs": [],
   "source": [
    "ddoc.loadDataDoc()\n"
   ]
  },
  {
   "cell_type": "code",
   "execution_count": null,
   "id": "dfc1b46c",
   "metadata": {},
   "outputs": [],
   "source": [
    "ddoc.setDataDriveSymbol(\"R\")"
   ]
  },
  {
   "cell_type": "code",
   "execution_count": null,
   "id": "8359533d",
   "metadata": {},
   "outputs": [],
   "source": [
    "ddoc.checkFileConsistency()"
   ]
  },
  {
   "cell_type": "code",
   "execution_count": null,
   "id": "e343fc25",
   "metadata": {},
   "outputs": [],
   "source": []
  }
 ],
 "metadata": {
  "kernelspec": {
   "display_name": "Python 3 (ipykernel)",
   "language": "python",
   "name": "python3"
  },
  "language_info": {
   "codemirror_mode": {
    "name": "ipython",
    "version": 3
   },
   "file_extension": ".py",
   "mimetype": "text/x-python",
   "name": "python",
   "nbconvert_exporter": "python",
   "pygments_lexer": "ipython3",
   "version": "3.8.12"
  }
 },
 "nbformat": 4,
 "nbformat_minor": 5
}
