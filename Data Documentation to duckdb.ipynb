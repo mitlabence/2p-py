{
 "cells": [
  {
   "cell_type": "code",
   "execution_count": null,
   "id": "d7d8355b",
   "metadata": {},
   "outputs": [],
   "source": [
    "from datadoc_util import DataDocumentation as DD\n",
    "import duckdb\n",
    "import os"
   ]
  },
  {
   "cell_type": "code",
   "execution_count": null,
   "id": "365f7dc0",
   "metadata": {},
   "outputs": [],
   "source": [
    "env_dict = dict()\n",
    "if not os.path.exists(\"./.env\"):\n",
    "    print(\".env does not exist\")\n",
    "else:\n",
    "    with open(\"./.env\", \"r\") as f:\n",
    "        for line in f.readlines():\n",
    "            l = line.rstrip().split(\"=\")\n",
    "            env_dict[l[0]] = l[1]\n",
    "print(env_dict.keys())"
   ]
  },
  {
   "cell_type": "code",
   "execution_count": null,
   "id": "8d5cf039",
   "metadata": {},
   "outputs": [],
   "source": [
    "if \"DATA_DOCU_FOLDER\" in env_dict:  # try default location\n",
    "    data_docu_folder = env_dict[\"DATA_DOCU_FOLDER\"]\n",
    "else:\n",
    "    data_docu_folder = fh.open_dir(\"Open Data Documentation folder\")"
   ]
  },
  {
   "cell_type": "code",
   "execution_count": null,
   "id": "5d7af380",
   "metadata": {},
   "outputs": [],
   "source": [
    "ddoc = DD(data_docu_folder)\n",
    "ddoc.loadDataDoc()"
   ]
  },
  {
   "cell_type": "code",
   "execution_count": null,
   "id": "3de053a6",
   "metadata": {},
   "outputs": [],
   "source": [
    "df_grouping = ddoc.GROUPING_DF\n",
    "df_segmentation = ddoc.SEGMENTATION_DF\n",
    "df_colors = ddoc.COLORINGS_DF\n",
    "df_win_inj_types = ddoc.WIN_INJ_TYPES_DF\n",
    "df_events = ddoc.EVENTS_DF"
   ]
  },
  {
   "cell_type": "code",
   "execution_count": null,
   "id": "1d642274",
   "metadata": {},
   "outputs": [],
   "source": [
    "con = duckdb.connect('data_documentation.duckdb')"
   ]
  },
  {
   "cell_type": "code",
   "execution_count": null,
   "id": "a177cf67",
   "metadata": {},
   "outputs": [],
   "source": [
    "# add experiment_type possible values as enum instead of string, sparing storage (but enum is static as of now, so adding \n",
    "# new enum types means re-building this database!)\n",
    "enum_entries_exp_type = str(tuple(ddoc.GROUPING_DF.experiment_type.unique()))\n",
    "con.execute(\"CREATE TYPE exp_type_enum AS ENUM \" + enum_entries_exp_type)"
   ]
  },
  {
   "cell_type": "code",
   "execution_count": null,
   "id": "31e45ef5",
   "metadata": {},
   "outputs": [],
   "source": [
    "# add mouse_id as enum\n",
    "enum_entries_mouse_id = str(tuple(sorted(list(set(ddoc.GROUPING_DF.mouse_id.unique()).union(set(ddoc.WIN_INJ_TYPES_DF.mouse_id.unique()))))))\n",
    "con.execute(\"CREATE TYPE mouse_id_enum AS ENUM \" + enum_entries_mouse_id)"
   ]
  },
  {
   "cell_type": "code",
   "execution_count": null,
   "id": "a7b864cf",
   "metadata": {},
   "outputs": [],
   "source": [
    "enum_entries_injection_type = str(tuple(ddoc.WIN_INJ_TYPES_DF.injection_type.unique()))\n",
    "con.execute(\"CREATE TYPE injection_type_enum AS ENUM \" + enum_entries_injection_type)"
   ]
  },
  {
   "cell_type": "code",
   "execution_count": null,
   "id": "5187f8ad",
   "metadata": {},
   "outputs": [],
   "source": [
    "enum_entries_window_type = str(tuple(ddoc.WIN_INJ_TYPES_DF.window_type.unique()))\n",
    "con.execute(\"CREATE TYPE window_type_enum AS ENUM \" + enum_entries_window_type)"
   ]
  },
  {
   "cell_type": "code",
   "execution_count": null,
   "id": "c652eb5a",
   "metadata": {},
   "outputs": [],
   "source": [
    "# merge window_side and injection_side\n",
    "enum_entries_side = str(tuple(sorted(list(set(ddoc.WIN_INJ_TYPES_DF.window_side.unique()).union(set(ddoc.WIN_INJ_TYPES_DF.injection_side.unique()))))))\n",
    "con.execute(\"CREATE TYPE side_enum AS ENUM \" + enum_entries_side)"
   ]
  },
  {
   "cell_type": "code",
   "execution_count": null,
   "id": "05b85bc1",
   "metadata": {},
   "outputs": [],
   "source": [
    "\"(\\'\" + ddoc.EVENTS_DF.event_type.unique()[0] + \"\\')\""
   ]
  },
  {
   "cell_type": "code",
   "execution_count": null,
   "id": "3a8a96c6",
   "metadata": {},
   "outputs": [],
   "source": [
    "# event_type has only 1 unique value at the time of writing, need to remove comma from \"('sz',)\"\n",
    "enum_entries_event_type = str(tuple(ddoc.EVENTS_DF.event_type.unique())) if len(ddoc.EVENTS_DF.event_type.unique()) > 1 else \"(\\'\" + ddoc.EVENTS_DF.event_type.unique()[0] + \"\\')\"\n",
    "con.execute(\"CREATE TYPE event_type_enum AS ENUM \" + enum_entries_event_type)"
   ]
  },
  {
   "cell_type": "code",
   "execution_count": null,
   "id": "11d036c6",
   "metadata": {},
   "outputs": [],
   "source": [
    "enum_entries_interval_type = str(tuple(ddoc.EVENTS_DF.interval_type.unique()))\n",
    "con.execute(\"CREATE TYPE interval_type_enum AS ENUM \" + enum_entries_interval_type)"
   ]
  },
  {
   "cell_type": "code",
   "execution_count": null,
   "id": "a9cbdba5",
   "metadata": {},
   "outputs": [],
   "source": [
    "enum_entries_segment_type = str(tuple(ddoc.SEGMENTATION_DF.interval_type.unique()))\n",
    "con.execute(\"CREATE TYPE segment_type_enum AS ENUM \" + enum_entries_segment_type)"
   ]
  },
  {
   "cell_type": "code",
   "execution_count": null,
   "id": "063490c7",
   "metadata": {},
   "outputs": [],
   "source": [
    "# add grouping table\n",
    "con.execute(\"\"\"\n",
    "CREATE TABLE grouping (\n",
    "folder VARCHAR, \n",
    "nd2 VARCHAR, \n",
    "labview VARCHAR, \n",
    "lfp VARCHAR, \n",
    "face_cam_last VARCHAR, \n",
    "nikon_meta VARCHAR, \n",
    "experiment_type exp_type_enum, \n",
    "day SIGNED, \n",
    "uuid UUID, \n",
    "day_index SIGNED, \n",
    "stim_length FLOAT, \n",
    "mouse_id mouse_id_enum\n",
    ")\n",
    "\"\"\")"
   ]
  },
  {
   "cell_type": "code",
   "execution_count": null,
   "id": "9cd98d8c",
   "metadata": {},
   "outputs": [],
   "source": [
    "# populate grouping table\n",
    "con.execute(\"INSERT INTO grouping SELECT * FROM df_grouping\")"
   ]
  },
  {
   "cell_type": "code",
   "execution_count": null,
   "id": "7b43fae0",
   "metadata": {},
   "outputs": [],
   "source": [
    "# add segmentation table\n",
    "con.execute(\"\"\"\n",
    "CREATE TABLE segmentation (\n",
    "nd2 VARCHAR, \n",
    "interval_type segment_type_enum, \n",
    "frame_begin INT, \n",
    "frame_end INT\n",
    ")\n",
    "\"\"\")"
   ]
  },
  {
   "cell_type": "code",
   "execution_count": null,
   "id": "6cdc4f4a",
   "metadata": {},
   "outputs": [],
   "source": [
    "# populate segmentation table\n",
    "con.execute(\"INSERT INTO segmentation SELECT * FROM df_segmentation\")"
   ]
  },
  {
   "cell_type": "code",
   "execution_count": null,
   "id": "e9964152",
   "metadata": {},
   "outputs": [],
   "source": [
    "# add colors table\n",
    "con.execute(\"\"\"\n",
    "CREATE TABLE colors (\n",
    "mouse_id mouse_id_enum,  \n",
    "color VARCHAR, \n",
    "red INT, \n",
    "green INT, \n",
    "blue INT\n",
    ")\n",
    "\"\"\")"
   ]
  },
  {
   "cell_type": "code",
   "execution_count": null,
   "id": "3807d65d",
   "metadata": {},
   "outputs": [],
   "source": [
    "# populate colorings table\n",
    "con.execute(\"INSERT INTO colors SELECT * FROM df_colors\")"
   ]
  },
  {
   "cell_type": "code",
   "execution_count": null,
   "id": "41b8178b",
   "metadata": {},
   "outputs": [],
   "source": [
    "# add win_inj_types table\n",
    "con.execute(\"\"\"\n",
    "CREATE TABLE win_inj_types (\n",
    "mouse_id mouse_id_enum, \n",
    "window_type window_type_enum, \n",
    "injection_type injection_type_enum, \n",
    "window_side side_enum, \n",
    "injection_side side_enum\n",
    ")\n",
    "\"\"\")"
   ]
  },
  {
   "cell_type": "code",
   "execution_count": null,
   "id": "f985470f",
   "metadata": {},
   "outputs": [],
   "source": [
    "# populate win_inj_types table\n",
    "con.execute(\"INSERT INTO win_inj_types SELECT * FROM df_win_inj_types\")"
   ]
  },
  {
   "cell_type": "code",
   "execution_count": null,
   "id": "3088217d",
   "metadata": {},
   "outputs": [],
   "source": [
    "# add events table\n",
    "con.execute(\"\"\"\n",
    "CREATE TABLE events (\n",
    "event_uuid UUID, \n",
    "window_type window_type_enum,\n",
    "mouse_id mouse_id_enum, \n",
    "event_type event_type_enum, \n",
    "recording_uuid UUID, \n",
    "event_index INT, \n",
    "begin_frame INT, \n",
    "end_frame INT, \n",
    "interval_type interval_type_enum,\n",
    "sz_index INT, \n",
    "has_lfp BOOLEAN\n",
    ")\n",
    "\"\"\")"
   ]
  },
  {
   "cell_type": "code",
   "execution_count": null,
   "id": "af8843ff",
   "metadata": {},
   "outputs": [],
   "source": [
    "# populate events table\n",
    "con.execute(\"INSERT INTO events SELECT * FROM df_events\")"
   ]
  },
  {
   "cell_type": "code",
   "execution_count": null,
   "id": "b686e362",
   "metadata": {},
   "outputs": [],
   "source": [
    "con.close()"
   ]
  },
  {
   "cell_type": "code",
   "execution_count": null,
   "id": "943b3946",
   "metadata": {},
   "outputs": [],
   "source": []
  }
 ],
 "metadata": {
  "kernelspec": {
   "display_name": "Python 3 (ipykernel)",
   "language": "python",
   "name": "python3"
  },
  "language_info": {
   "codemirror_mode": {
    "name": "ipython",
    "version": 3
   },
   "file_extension": ".py",
   "mimetype": "text/x-python",
   "name": "python",
   "nbconvert_exporter": "python",
   "pygments_lexer": "ipython3",
   "version": "3.8.12"
  }
 },
 "nbformat": 4,
 "nbformat_minor": 5
}
