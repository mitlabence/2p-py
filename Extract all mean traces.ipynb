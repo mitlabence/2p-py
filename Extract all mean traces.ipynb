{
 "cells": [
  {
   "cell_type": "code",
   "execution_count": null,
   "id": "e9d6f19f",
   "metadata": {},
   "outputs": [],
   "source": [
    "import datadoc_util\n",
    "import os\n",
    "import labrotation.file_handling as fh\n",
    "import h5py"
   ]
  },
  {
   "cell_type": "code",
   "execution_count": null,
   "id": "ff28edf4",
   "metadata": {},
   "outputs": [],
   "source": [
    "env_dict = dict()\n",
    "if not os.path.exists(\"./.env\"):\n",
    "    print(\".env does not exist\")\n",
    "else:\n",
    "    with open(\"./.env\", \"r\") as f:\n",
    "        for line in f.readlines():\n",
    "            l = line.rstrip().split(\"=\")\n",
    "            env_dict[l[0]] = l[1]\n",
    "print(env_dict.keys())"
   ]
  },
  {
   "cell_type": "code",
   "execution_count": null,
   "id": "790348db",
   "metadata": {},
   "outputs": [],
   "source": [
    "if \"DATA_DOCU_FOLDER\" in env_dict.keys():\n",
    "    data_docu_folder = env_dict[\"DATA_DOCU_FOLDER\"]\n",
    "else:\n",
    "    data_docu_folder = fh.open_dir(\"Open Data Documentation folder\")\n",
    "print(data_docu_folder)"
   ]
  },
  {
   "cell_type": "code",
   "execution_count": null,
   "id": "54f15ca3",
   "metadata": {},
   "outputs": [],
   "source": [
    "ddoc = datadoc_util.DataDocumentation(data_docu_folder)\n",
    "ddoc.loadDataDoc()"
   ]
  },
  {
   "cell_type": "markdown",
   "id": "c710bc9d",
   "metadata": {},
   "source": [
    "# Open trace files location"
   ]
  },
  {
   "cell_type": "code",
   "execution_count": null,
   "id": "d629f69a",
   "metadata": {},
   "outputs": [],
   "source": [
    "whole_traces_folder = fh.open_dir(\"Open traces h5 file!\")\n",
    "print(whole_traces_folder)"
   ]
  },
  {
   "cell_type": "markdown",
   "id": "ea3333a2",
   "metadata": {},
   "source": [
    "## Find all files with seizure/sd wave in them"
   ]
  },
  {
   "cell_type": "code",
   "execution_count": null,
   "id": "ae8cd21a",
   "metadata": {},
   "outputs": [],
   "source": [
    "traces_files_list = []\n",
    "for root, dirs, files in os.walk(whole_traces_folder):\n",
    "    for fname in files:\n",
    "        if \"_traces.h5\" in fname:\n",
    "            fpath = os.path.join(root,fname)\n",
    "            with h5py.File(fpath, 'r') as hf:\n",
    "                uuid = hf.attrs[\"uuid\"]\n",
    "                segments = ddoc.getSegmentsForUUID(uuid)\n",
    "                if \"sz\" in segments or \"sd_wave\" in segments[\"interval_type\"].values:\n",
    "                    traces_files_list.append((uuid, fpath))"
   ]
  },
  {
   "cell_type": "markdown",
   "id": "c7db16c9",
   "metadata": {},
   "source": [
    "## Get all "
   ]
  },
  {
   "cell_type": "code",
   "execution_count": null,
   "id": "2f091ab1",
   "metadata": {},
   "outputs": [],
   "source": []
  }
 ],
 "metadata": {
  "kernelspec": {
   "display_name": "Python 3 (ipykernel)",
   "language": "python",
   "name": "python3"
  },
  "language_info": {
   "codemirror_mode": {
    "name": "ipython",
    "version": 3
   },
   "file_extension": ".py",
   "mimetype": "text/x-python",
   "name": "python",
   "nbconvert_exporter": "python",
   "pygments_lexer": "ipython3",
   "version": "3.8.12"
  }
 },
 "nbformat": 4,
 "nbformat_minor": 5
}
