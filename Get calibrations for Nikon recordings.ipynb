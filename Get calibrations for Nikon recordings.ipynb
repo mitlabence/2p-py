{
 "cells": [
  {
   "cell_type": "code",
   "execution_count": null,
   "id": "1907d54d",
   "metadata": {},
   "outputs": [],
   "source": [
    "import pims_nd2\n",
    "import datadoc_util\n",
    "import os\n",
    "import numpy as np\n",
    "import json"
   ]
  },
  {
   "cell_type": "code",
   "execution_count": null,
   "id": "3159d72c",
   "metadata": {},
   "outputs": [],
   "source": [
    "env_dict = dict()\n",
    "if not os.path.exists(\"./.env\"):\n",
    "    print(\".env does not exist\")\n",
    "else:\n",
    "    with open(\"./.env\", \"r\") as f:\n",
    "        for line in f.readlines():\n",
    "            l = line.rstrip().split(\"=\")\n",
    "            env_dict[l[0]] = l[1]\n",
    "print(env_dict.keys())"
   ]
  },
  {
   "cell_type": "code",
   "execution_count": null,
   "id": "0339fbc5",
   "metadata": {},
   "outputs": [],
   "source": [
    "if \"DATA_DOCU_FOLDER\" in env_dict.keys():\n",
    "    data_docu_folder = env_dict[\"DATA_DOCU_FOLDER\"]\n",
    "else:\n",
    "    data_docu_folder = fh.open_dir(\"Open Data Documentation folder\")\n",
    "print(data_docu_folder)"
   ]
  },
  {
   "cell_type": "code",
   "execution_count": null,
   "id": "3f02cd4f",
   "metadata": {},
   "outputs": [],
   "source": [
    "ddoc = datadoc_util.DataDocumentation(data_docu_folder)\n",
    "ddoc.loadDataDoc()"
   ]
  },
  {
   "cell_type": "code",
   "execution_count": null,
   "id": "574a8a54",
   "metadata": {},
   "outputs": [],
   "source": [
    "ddoc.setDataDriveSymbol(env_dict[\"SERVER_SYMBOL\"])"
   ]
  },
  {
   "cell_type": "code",
   "execution_count": null,
   "id": "ecd8f593",
   "metadata": {},
   "outputs": [],
   "source": [
    "ddoc.GROUPING_DF"
   ]
  },
  {
   "cell_type": "code",
   "execution_count": null,
   "id": "f6984972",
   "metadata": {},
   "outputs": [],
   "source": [
    "nd2 = pims_nd2.ND2_Reader(\"E:\\\\TwoPhoton\\\\tmev\\\\T301\\\\T301_tmev_d1\\\\T301_tmev_d1.270820.1151.nd2\")"
   ]
  },
  {
   "cell_type": "code",
   "execution_count": null,
   "id": "c2f1cd61",
   "metadata": {},
   "outputs": [],
   "source": [
    "dict_deviations = {}"
   ]
  },
  {
   "cell_type": "code",
   "execution_count": null,
   "id": "24479311",
   "metadata": {},
   "outputs": [],
   "source": [
    "for i_row, row in ddoc.GROUPING_DF.iterrows():\n",
    "    if isinstance(row[\"nd2\"], str):\n",
    "        fpath = os.path.join(row[\"folder\"], row[\"nd2\"])\n",
    "        with pims_nd2.ND2_Reader(fpath) as nd2:           \n",
    "            uuid = row[\"uuid\"]\n",
    "            dev_dict = {}\n",
    "            if uuid in dict_deviations:\n",
    "                continue\n",
    "            try:\n",
    "                zoom = nd2.metadata[\"zoom\"]\n",
    "                dev_dict[\"zoom\"] = zoom\n",
    "            except Exception:\n",
    "                print(\"No zoom\")\n",
    "            try:\n",
    "                magnification = nd2.metadata[\"magnification\"]\n",
    "                dev_dict[\"magnification\"] = magnification\n",
    "            except Exception:\n",
    "                print(\"No magnification\")\n",
    "            try:\n",
    "                projective_mag = nd2.metadata[\"projective_mag\"]\n",
    "                dev_dict[\"projective_mag\"] = projective_mag\n",
    "            except Exception:\n",
    "                print(\"No projective_mag\")\n",
    "            try:\n",
    "                calibration_um = nd2.metadata[\"calibration_um\"]\n",
    "                dev_dict[\"calibration_um\"] = calibration_um\n",
    "            except Exception:\n",
    "                print(\"No calibration_um\")\n",
    "            try:\n",
    "                width = nd2.metadata[\"width\"]\n",
    "                dev_dict[\"width\"] = width\n",
    "            except Exception:\n",
    "                print(\"No width\")\n",
    "            try:\n",
    "                height = nd2.metadata[\"height\"]\n",
    "                dev_dict[\"height\"] = height\n",
    "            except Exception:\n",
    "                print(\"No height\")\n",
    "            try:\n",
    "                components = nd2.metadata[\"components\"]\n",
    "                dev_dict[\"components\"] = components\n",
    "            except Exception:\n",
    "                print(\"No components\")\n",
    "            try:\n",
    "                tile_width = nd2.metadata[\"tile_width\"]\n",
    "                dev_dict[\"tile_width\"] = tile_width\n",
    "            except Exception:\n",
    "                print(\"No tile_width\")\n",
    "            try:\n",
    "                tile_height = nd2.metadata[\"tile_height\"]\n",
    "                dev_dict[\"tile_height\"] = tile_height\n",
    "            except Exception:\n",
    "                print(\"No tile_height\")\n",
    "            try:\n",
    "                NA = nd2.metadata[\"NA\"]\n",
    "                dev_dict[\"NA\"] = NA\n",
    "            except Exception:\n",
    "                print(\"No NA\")\n",
    "            try:\n",
    "                objective = nd2.metadata[\"objective\"]\n",
    "                dev_dict[\"objective\"] = objective\n",
    "            except Exception:\n",
    "                print(\"No objective\")\n",
    "            try:\n",
    "                refractive_index1 = nd2.metadata[\"refractive_index1\"]\n",
    "                dev_dict[\"refractive_index1\"] = refractive_index1\n",
    "            except Exception:\n",
    "                print(\"No refractive_index1\")\n",
    "            try: \n",
    "                refractive_index2 = nd2.metadata[\"refractive_index2\"]\n",
    "                dev_dict[\"refractive_index2\"] = refractive_index2\n",
    "            except Exception:\n",
    "                print(\"No refractive_index2\")\n",
    "\n",
    "            dict_deviations[uuid] = dev_dict\n"
   ]
  },
  {
   "cell_type": "code",
   "execution_count": null,
   "id": "683273c2",
   "metadata": {},
   "outputs": [],
   "source": [
    "output_fpath = os.path.join(env_dict[\"DOWNLOADS_FOLDER\"], \"calibrations.json\")"
   ]
  },
  {
   "cell_type": "code",
   "execution_count": null,
   "id": "bc938a6d",
   "metadata": {},
   "outputs": [],
   "source": [
    "with open(output_fpath, 'w') as f:\n",
    "    json.dump(dict_deviations, f, indent=4)"
   ]
  },
  {
   "cell_type": "code",
   "execution_count": null,
   "id": "dda0f88e",
   "metadata": {},
   "outputs": [],
   "source": []
  }
 ],
 "metadata": {
  "kernelspec": {
   "display_name": "Python 3 (ipykernel)",
   "language": "python",
   "name": "python3"
  },
  "language_info": {
   "codemirror_mode": {
    "name": "ipython",
    "version": 3
   },
   "file_extension": ".py",
   "mimetype": "text/x-python",
   "name": "python",
   "nbconvert_exporter": "python",
   "pygments_lexer": "ipython3",
   "version": "3.8.12"
  }
 },
 "nbformat": 4,
 "nbformat_minor": 5
}
