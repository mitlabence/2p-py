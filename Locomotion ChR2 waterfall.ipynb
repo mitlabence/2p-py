{
 "cells": [
  {
   "cell_type": "markdown",
   "metadata": {},
   "source": [
    "# Create waterfall plot of all optostim experiments\n",
    "Including bilateral stim and ChR2 with window. Plot the locomotion traces along with the stim time point and the baseline/post-stim time windows."
   ]
  },
  {
   "cell_type": "code",
   "execution_count": null,
   "metadata": {},
   "outputs": [],
   "source": [
    "save_figs = True  # set to True to save the figures created\n",
    "save_as_eps = False\n",
    "save_as_pdf = True\n",
    "if save_as_pdf:\n",
    "    file_format = \".pdf\"\n",
    "elif save_as_eps:\n",
    "    file_format = \".eps\"\n",
    "else:\n",
    "    file_format = \".jpg\"\n",
    "if save_figs:\n",
    "    print(f\"Going to save figures as {file_format} files.\")"
   ]
  },
  {
   "cell_type": "code",
   "execution_count": null,
   "metadata": {},
   "outputs": [],
   "source": [
    "#Auto-reload modules (used to develop functions outside this notebook)\n",
    "%load_ext autoreload\n",
    "%autoreload 2"
   ]
  },
  {
   "cell_type": "code",
   "execution_count": null,
   "metadata": {},
   "outputs": [],
   "source": [
    "import labrotation.file_handling as fh\n",
    "import h5py\n",
    "from time import time\n",
    "import matplotlib.pyplot as plt\n",
    "import numpy as np\n",
    "import os\n",
    "from labrotation import file_handling as fh\n",
    "from copy import deepcopy\n",
    "import pandas as pd\n",
    "import labrotation.two_photon_session as tps\n",
    "import seaborn as sns\n",
    "import uuid  # for unique labeling of sessions and coupling arrays (mouse velocity, distance, ...) to sessions in dataframe \n",
    "from matplotlib import cm  # colormap\n",
    "import datadoc_util\n",
    "from labrotation import two_photon_session as tps\n",
    "from datetime import datetime\n",
    "import seaborn as sns\n",
    "from math import floor\n",
    "import matlab.engine  # for saving data to workspace\n",
    "from scipy.stats import ttest_rel\n",
    "import json\n",
    "from loco_functions import apply_threshold, get_episodes, calculate_avg_speed, calculate_max_speed, get_trace_delta\n",
    "import matplotlib.patches as mpatches"
   ]
  },
  {
   "cell_type": "code",
   "execution_count": null,
   "metadata": {},
   "outputs": [],
   "source": [
    "save_data = True  # export results of this script?\n",
    "save_sanity_check = False  # make sure to set save_figs to True as well\n",
    "save_waterfall = False\n",
    "save_figs = True  # set to True to save the figures created\n",
    "save_as_eps = False\n",
    "save_as_pdf = True\n",
    "if save_as_pdf:\n",
    "    file_format = \".pdf\"\n",
    "elif save_as_eps:\n",
    "    file_format = \".eps\"\n",
    "else:\n",
    "    file_format = \".jpg\"\n",
    "if save_figs:\n",
    "    print(f\"Going to save figures as {file_format} files.\")\n"
   ]
  },
  {
   "cell_type": "markdown",
   "metadata": {},
   "source": [
    "# Set seaborn parameters"
   ]
  },
  {
   "cell_type": "code",
   "execution_count": null,
   "metadata": {},
   "outputs": [],
   "source": [
    "sns.set(font_scale=3)\n",
    "sns.set_style(\"whitegrid\")"
   ]
  },
  {
   "cell_type": "markdown",
   "metadata": {},
   "source": [
    "# If exists, load environmental variables from .env file"
   ]
  },
  {
   "cell_type": "code",
   "execution_count": null,
   "metadata": {},
   "outputs": [],
   "source": [
    "env_dict = dict()\n",
    "if not os.path.exists(\"./.env\"):\n",
    "    print(\".env does not exist\")\n",
    "else:\n",
    "    with open(\"./.env\", \"r\") as f:\n",
    "        for line in f.readlines():\n",
    "            l = line.rstrip().split(\"=\")\n",
    "            env_dict[l[0]] = l[1]\n",
    "print(env_dict.keys())"
   ]
  },
  {
   "cell_type": "markdown",
   "metadata": {},
   "source": [
    "# Set up data documentation directory"
   ]
  },
  {
   "cell_type": "code",
   "execution_count": null,
   "metadata": {},
   "outputs": [],
   "source": [
    "# assumption: inside the documentation folder, the subfolders carry the id of each mouse (not exact necessarily, but they \n",
    "# can be identified by the name of the subfolder). \n",
    "# Inside the subfolder xy (for mouse xy), xy_grouping.xlsx and xy_segmentation.xlsx can be found.\n",
    "# xy_grouping.xlsx serves the purpose of finding the recordings belonging together, and has columns:\n",
    "# folder, nd2, labview, lfp, face_cam_last, nikon_meta, experiment_type, day\n",
    "# xy_segmentation.xlsx contains frame-by-frame (given by a set of disjoint intervals forming a cover for the whole recording) \n",
    "# classification of the events in the recording (\"normal\", seizure (\"sz\"), sd wave (\"sd_wave\") etc.). The columns:\n",
    "# folder, interval_type, frame_begin, frame_end.\n",
    "\n",
    "# TODO: write documentation on contents of xlsx files (what the columns are etc.)\n",
    "if \"DATA_DOCU_FOLDER\" in env_dict.keys():\n",
    "    docu_folder = env_dict[\"DATA_DOCU_FOLDER\"]\n",
    "else:\n",
    "    docu_folder = fh.open_dir(\"Choose folder containing folders for each mouse!\")\n",
    "print(f\"Selected folder:\\n\\t{docu_folder}\")"
   ]
  },
  {
   "cell_type": "code",
   "execution_count": null,
   "metadata": {},
   "outputs": [],
   "source": [
    "if \"documentation\" in os.listdir(docu_folder):\n",
    "    mouse_folder = os.path.join(docu_folder, \"documentation\")\n",
    "else:\n",
    "    mouse_folder = docu_folder\n",
    "mouse_names = os.listdir(mouse_folder)\n",
    "print(f\"Mice detected:\")\n",
    "for mouse in mouse_names:\n",
    "    print(f\"\\t{mouse}\")"
   ]
  },
  {
   "cell_type": "code",
   "execution_count": null,
   "metadata": {},
   "outputs": [],
   "source": [
    "def get_datetime_for_fname():\n",
    "    now = datetime.now()\n",
    "    return f\"{now.year:04d}{now.month:02d}{now.day:02d}-{now.hour:02d}{now.minute:02d}{now.second:02d}\""
   ]
  },
  {
   "cell_type": "code",
   "execution_count": null,
   "metadata": {},
   "outputs": [],
   "source": [
    "output_folder = env_dict[\"DOWNLOADS_FOLDER\"]\n",
    "print(f\"Output files will be saved to {output_folder}\")"
   ]
  },
  {
   "cell_type": "markdown",
   "metadata": {},
   "source": [
    "## Set a uniform datetime string for output files"
   ]
  },
  {
   "cell_type": "code",
   "execution_count": null,
   "metadata": {},
   "outputs": [],
   "source": [
    "output_dtime = get_datetime_for_fname()"
   ]
  },
  {
   "cell_type": "markdown",
   "metadata": {},
   "source": [
    "### Load data documentation"
   ]
  },
  {
   "cell_type": "code",
   "execution_count": null,
   "metadata": {},
   "outputs": [],
   "source": [
    "ddoc = datadoc_util.DataDocumentation(docu_folder)\n",
    "ddoc.loadDataDoc()"
   ]
  },
  {
   "cell_type": "markdown",
   "metadata": {},
   "source": [
    "### Set up color coding\n",
    "for now, only possible to assign a color to each mouse. Later, when event uuids available, need to map event uuid to color code"
   ]
  },
  {
   "cell_type": "code",
   "execution_count": null,
   "metadata": {},
   "outputs": [],
   "source": [
    "df_colors = ddoc.getColorings()"
   ]
  },
  {
   "cell_type": "code",
   "execution_count": null,
   "metadata": {},
   "outputs": [],
   "source": [
    "dict_colors_mouse = df_colors[[\"mouse_id\", \"color\"]].to_dict(orient=\"list\")\n",
    "dict_colors_mouse = dict(zip(dict_colors_mouse[\"mouse_id\"], dict_colors_mouse[\"color\"]))"
   ]
  },
  {
   "cell_type": "code",
   "execution_count": null,
   "metadata": {},
   "outputs": [],
   "source": [
    "#dict_colors_mouse[\"T413\"] = \"#000000\"  # set one to black"
   ]
  },
  {
   "cell_type": "markdown",
   "metadata": {},
   "source": [
    "### Load events_list dataset"
   ]
  },
  {
   "cell_type": "code",
   "execution_count": null,
   "metadata": {},
   "outputs": [],
   "source": [
    "events_list_fpath = os.path.join(docu_folder, \"events_list.xlsx\")\n",
    "assert os.path.exists(events_list_fpath)\n",
    "\n",
    "df_events_list = pd.read_excel(events_list_fpath)"
   ]
  },
  {
   "cell_type": "code",
   "execution_count": null,
   "metadata": {},
   "outputs": [],
   "source": [
    "assembled_traces_bilat_fpath = fh.open_file(\"Open assembled_traces for bilat stim h5 file!\")\n",
    "print(assembled_traces_bilat_fpath)"
   ]
  },
  {
   "cell_type": "code",
   "execution_count": null,
   "metadata": {},
   "outputs": [],
   "source": [
    "assembled_traces_chr2_fpath = fh.open_file(\"Open assembled_traces chr2 with window h5 file!\")\n",
    "print(assembled_traces_chr2_fpath)"
   ]
  },
  {
   "cell_type": "code",
   "execution_count": null,
   "metadata": {},
   "outputs": [],
   "source": [
    "used_mouse_ids_chr2win = [\"OPI-2239\", \"WEZ-8917\", \"WEZ-8924\", \"WEZ-8922\"]  # bilat stim mice\n",
    "used_mouse_ids_bilat = [\"WEZ-8946\", \"WEZ-8960\", \"WEZ-8961\"]  # chr2 + win mice\n",
    "used_mouse_ids = used_mouse_ids_bilat.copy()\n",
    "used_mouse_ids.extend(used_mouse_ids_chr2win)  # add chr2 window mice"
   ]
  },
  {
   "cell_type": "code",
   "execution_count": null,
   "metadata": {},
   "outputs": [],
   "source": [
    "traces_dict = dict()  \n",
    "traces_meta_dict = dict()\n",
    "# first keys are event uuids, inside the following dataset names:\n",
    "# 'lfp_mov_t', 'lfp_mov_y', 'lfp_t', 'lfp_y', 'lv_dist', 'lv_rounds', \n",
    "# 'lv_running', 'lv_speed', 'lv_t_s', 'lv_totdist', 'mean_fluo'\n",
    "for assembled_traces_fpath in [assembled_traces_bilat_fpath, assembled_traces_chr2_fpath]:\n",
    "    with h5py.File(assembled_traces_fpath, \"r\") as hf:\n",
    "        for uuid in hf.keys():\n",
    "            if hf[uuid].attrs[\"mouse_id\"] in used_mouse_ids:\n",
    "                session_dataset_dict = dict() \n",
    "                session_meta_dict = dict()\n",
    "                for dataset_name in hf[uuid].keys():\n",
    "                    session_dataset_dict[dataset_name] = np.array(hf[uuid][dataset_name])\n",
    "                for attr_name in hf[uuid].attrs:\n",
    "                    session_meta_dict[attr_name] = hf[uuid].attrs[attr_name]\n",
    "                traces_dict[uuid] = session_dataset_dict.copy()\n",
    "                traces_meta_dict[uuid] = session_meta_dict.copy()"
   ]
  },
  {
   "cell_type": "code",
   "execution_count": null,
   "metadata": {},
   "outputs": [],
   "source": [
    "min_speed = np.inf\n",
    "max_speed = -np.inf\n",
    "for event_uuid in traces_dict.keys():\n",
    "    speed = traces_dict[event_uuid][\"lv_speed\"]\n",
    "    min_candidate = np.min(speed)\n",
    "    max_candidate = np.max(speed)\n",
    "    if min_candidate < min_speed:\n",
    "        min_speed = min_candidate\n",
    "    if max_candidate > max_speed:\n",
    "        max_speed = max_candidate\n",
    "print(f\"Speed range: {min_speed} to {max_speed}\")\n",
    "LV_SPEED_AMPL = max_speed - min_speed"
   ]
  },
  {
   "cell_type": "code",
   "execution_count": null,
   "metadata": {},
   "outputs": [],
   "source": [
    "# for tmev and chr2: 4500 bl/post-sz frames, bilat stim: 4425, should match the value that was used in Loco analysis 3.0\n",
    "n_segment_frames_chr2win = 4500\n",
    "n_segment_frames_bilat = 4425"
   ]
  },
  {
   "cell_type": "markdown",
   "metadata": {},
   "source": [
    "### Unify categories\n",
    "* Make single control\n",
    "* Make single sz+sd\n",
    "* Keep the uni-/bilateral SD\n",
    "* Make window SD experiments unilateral (for now)"
   ]
  },
  {
   "cell_type": "code",
   "execution_count": null,
   "metadata": {},
   "outputs": [],
   "source": [
    "# TODO: properly handle SD experiments with window! Maybe some of them are bilateral SD\n",
    "for uuid in traces_meta_dict.keys():\n",
    "    exp_type = traces_meta_dict[uuid][\"exp_type\"]\n",
    "    if \"chr2_ctl\" in exp_type:  # unify control naming\n",
    "        traces_meta_dict[uuid][\"exp_type\"] = \"chr2_ctl\"\n",
    "    elif \"chr2_szsd\" in exp_type:  # unify szsd naming\n",
    "        traces_meta_dict[uuid][\"exp_type\"] = \"chr2_szsd\"\n",
    "    elif exp_type == \"chr2_sd\":  # window experiments do not specify stim is unilateral\n",
    "        traces_meta_dict[uuid][\"exp_type\"] = \"chr2_sd_unilat\""
   ]
  },
  {
   "cell_type": "code",
   "execution_count": null,
   "metadata": {},
   "outputs": [],
   "source": [
    "#for uuid in traces_meta_dict.keys():\n",
    "#    print(traces_meta_dict[uuid][\"exp_type\"])"
   ]
  },
  {
   "cell_type": "code",
   "execution_count": null,
   "metadata": {},
   "outputs": [],
   "source": [
    "exptype_wintype_id_dict = {}   # keys: experiment_type, window_type, mouse_id, value: [uuid1, uuid2, ...]\n",
    "for uuid in traces_meta_dict.keys():\n",
    "    exp_type = traces_meta_dict[uuid][\"exp_type\"]\n",
    "    win_type = traces_meta_dict[uuid][\"window_type\"]\n",
    "    mouse_id = traces_meta_dict[uuid][\"mouse_id\"]\n",
    "    if exp_type not in exptype_wintype_id_dict.keys():\n",
    "        exptype_wintype_id_dict[exp_type] = dict()\n",
    "    if win_type not in exptype_wintype_id_dict[exp_type].keys():\n",
    "        exptype_wintype_id_dict[exp_type][win_type] = dict()\n",
    "    if mouse_id not in exptype_wintype_id_dict[exp_type][win_type].keys():\n",
    "        exptype_wintype_id_dict[exp_type][win_type][mouse_id] = []  # list of uuids\n",
    "    exptype_wintype_id_dict[exp_type][win_type][mouse_id].append(uuid)"
   ]
  },
  {
   "cell_type": "code",
   "execution_count": null,
   "metadata": {},
   "outputs": [],
   "source": [
    "for uuid in traces_meta_dict:\n",
    "    assert \"n_bl_frames\" in traces_meta_dict[uuid]\n",
    "    assert \"n_am_frames\" in traces_meta_dict[uuid]\n",
    "    assert \"n_frames\" in traces_meta_dict[uuid]\n",
    "    assert \"i_stim_begin_frame\" in traces_meta_dict[uuid]\n",
    "\n"
   ]
  },
  {
   "cell_type": "code",
   "execution_count": null,
   "metadata": {},
   "outputs": [],
   "source": [
    "ddoc.getSegmentsForUUID(\"0708b5892bf4459ca1aeed2d317efe19\")"
   ]
  },
  {
   "cell_type": "code",
   "execution_count": null,
   "metadata": {},
   "outputs": [],
   "source": [
    "def waterfallLoco(exp_type, show_segments=False, bl_equal_post=True, show_stim_duration=False, show_legend=False, lims=None):\n",
    "    AMPLITUDE = LV_SPEED_AMPL\n",
    "    offset = 0\n",
    "    n_recordings_with_type =  0\n",
    "    for win_type in exptype_wintype_id_dict[exp_type].keys():\n",
    "        for mouse_id in exptype_wintype_id_dict[exp_type][win_type].keys():\n",
    "            for event_uuid in exptype_wintype_id_dict[exp_type][win_type][mouse_id]:\n",
    "                n_recordings_with_type += 1\n",
    "    fig = plt.figure(figsize=(18,n_recordings_with_type*3))\n",
    "    mouse_ids = traces_dict.keys()\n",
    "    prev_range = 0.0\n",
    "    appearing_mice = []\n",
    "    for win_type in exptype_wintype_id_dict[exp_type].keys():\n",
    "        for mouse_id in exptype_wintype_id_dict[exp_type][win_type].keys(): \n",
    "            if mouse_id in used_mouse_ids_bilat:\n",
    "                mouse_type = \"bilat\"\n",
    "            elif mouse_id in used_mouse_ids_chr2win:\n",
    "                mouse_type = \"chr2win\"\n",
    "            else:\n",
    "                raise Exception(\"Mouse neither bilat nor chr2win\")\n",
    "            if mouse_id not in appearing_mice:\n",
    "                appearing_mice.append(mouse_id)\n",
    "            for event_uuid in exptype_wintype_id_dict[exp_type][win_type][mouse_id]:\n",
    "                metadata_dict = traces_meta_dict[event_uuid]\n",
    "                if exp_type == \"chr2win\":\n",
    "                    i_frame_stim_begin = metadata_dict[\"i_stim_begin_frame\"]\n",
    "                else:  # there is an issue with bilat recordings; use break points: [0, stim_begin, ...]\n",
    "                    i_frame_stim_begin = metadata_dict[\"break_points\"][1]\n",
    "                # FIXME: this is not stim end, but the beginning of the post segment\n",
    "                stim_duration = ddoc.getStimDurationForUuid(event_uuid)\n",
    "                t = traces_dict[event_uuid][\"lv_t_s\"]\n",
    "                if mouse_type == \"bilat\":\n",
    "                    i_frame_stim_end = np.searchsorted(t, t[i_frame_stim_begin] + stim_duration)\n",
    "                else:\n",
    "                    i_frame_stim_end = metadata_dict[\"i_stim_end_frame\"]\n",
    "                # some recordings have a slight difference in calculated stim (t[] - t[]) vs stim duration written in session description.\n",
    "                #assert abs(t[i_frame_stim_end] - t[i_frame_stim_begin] - stim_duration) < 0.1\n",
    "                #if not abs(t[i_frame_stim_end] - t[i_frame_stim_begin] - stim_duration) < 0.1:\n",
    "                #    print(event_uuid)\n",
    "                #    print(f\"{t[i_frame_stim_end] - t[i_frame_stim_begin]}, stim_duration: {stim_duration}\")\n",
    "                # TODO: make sure that begin of post segment is correct! (not always post-stim! )\n",
    "                n_bl_frames = n_segment_frames_bilat if mouse_type==\"bilat\" else n_segment_frames_chr2win\n",
    "\n",
    "                \n",
    "                t = t - t[i_frame_stim_begin]\n",
    "                \n",
    "                if show_segments:\n",
    "                    # get begin and end time points of baseline and post-stim segments \n",
    "                    i_frame_bl_end = i_frame_stim_begin\n",
    "                    if mouse_type == \"chr2win\":\n",
    "                        i_frame_post_begin = metadata_dict[\"break_points\"][-1]\n",
    "                    else:\n",
    "                        n_frames = traces_meta_dict[event_uuid][\"n_frames\"]\n",
    "                        n_am_frames = traces_meta_dict[event_uuid][\"n_am_frames\"]\n",
    "                        i_frame_post_begin = n_frames - n_am_frames  #i_frame_stim_end+1\n",
    "\n",
    "\n",
    "                        \n",
    "\n",
    "                    assert n_bl_frames < i_frame_stim_begin\n",
    "                    i_frame_bl_begin = i_frame_bl_end - n_bl_frames \n",
    "                    \n",
    "\n",
    "\n",
    "                    if bl_equal_post:\n",
    "                        i_frame_post_end = i_frame_post_begin + n_bl_frames\n",
    "                    if not bl_equal_post or i_frame_post_end >= len(t):\n",
    "                        i_frame_post_end = len(t) - 1\n",
    "                    # plot them\n",
    "                    begin_end_frames = [i_frame_bl_begin, i_frame_bl_end, i_frame_post_begin, i_frame_post_end]\n",
    "                    plt.vlines(x=t[begin_end_frames], ymin = offset, ymax = offset+AMPLITUDE, color=\"black\", linewidth=2)\n",
    "                if show_stim_duration:\n",
    "                    plt.vlines(x=[t[i_frame_stim_begin], t[i_frame_stim_end]], ymin=offset, ymax=offset+0.7*AMPLITUDE, color=\"red\", linewidth=1)\n",
    "                    plt.text(t[i_frame_stim_end]+15, offset+0.7*AMPLITUDE, f\"{stim_duration} s\", fontsize=20, color=\"red\")\n",
    "                    #plt.text(t[i_frame_bl_begin], offset+0.7*AMPLITUDE, f\"{event_uuid}\", fontsize=20, color=\"red\")\n",
    "\n",
    "                \n",
    "                labview_trace = traces_dict[event_uuid][\"lv_speed\"]\n",
    "                min_lv = min(labview_trace)\n",
    "                max_lv = max(labview_trace)\n",
    "                color = df_colors[df_colors[\"mouse_id\"] == mouse_id].color.iloc[0]\n",
    "                plt.plot(t, labview_trace - min_lv+offset, color=color)\n",
    "                \n",
    "                offset +=1.3*AMPLITUDE\n",
    "    if show_legend:\n",
    "        patches=[mpatches.Patch(color=ddoc.getColorForMouseId(mouse_id), label=mouse_id) for mouse_id in sorted(appearing_mice)]\n",
    "        plt.legend(handles=patches)\n",
    "    plt.suptitle(exp_type, fontsize=22)\n",
    "    #plt.axis(\"off\")\n",
    "    plt.yticks([])\n",
    "    plt.xlabel(\"Time (s)\", fontsize=14)\n",
    "    plt.tight_layout()\n",
    "    if lims is not None:\n",
    "        plt.xlim(lims)  # 250, 500\n",
    "    if save_figs:\n",
    "        out_fpath = f\"D:\\\\Downloads\\\\loco_waterfall_{exp_type}_{output_dtime}{file_format}\"\n",
    "        plt.savefig(out_fpath,bbox_inches='tight', dpi=300)\n",
    "        print(f\"Saved as {out_fpath}\")\n",
    "    plt.show()"
   ]
  },
  {
   "cell_type": "code",
   "execution_count": null,
   "metadata": {},
   "outputs": [],
   "source": [
    "traces_meta_dict[\"77c076ebfc5543ea93a9c0b2ba9e8b8c\"]"
   ]
  },
  {
   "cell_type": "code",
   "execution_count": null,
   "metadata": {},
   "outputs": [],
   "source": [
    "cats = []\n",
    "for event_uuid in traces_meta_dict:\n",
    "    exp_type = traces_meta_dict[event_uuid][\"exp_type\"]\n",
    "    if exp_type not in cats:\n",
    "        cats.append(exp_type)"
   ]
  },
  {
   "cell_type": "code",
   "execution_count": null,
   "metadata": {},
   "outputs": [],
   "source": [
    "print(cats)"
   ]
  },
  {
   "cell_type": "code",
   "execution_count": null,
   "metadata": {},
   "outputs": [],
   "source": [
    "waterfallLoco(\"chr2_sd_bilat\", show_segments=True, bl_equal_post=True, show_stim_duration=True, show_legend=True, lims=(-305,350))\n"
   ]
  },
  {
   "cell_type": "code",
   "execution_count": null,
   "metadata": {},
   "outputs": [],
   "source": [
    "# TODO: maybe need to redo analysis: instead of n frames, get n seconds before stim, and calculate back the number of frames needed for this"
   ]
  },
  {
   "cell_type": "code",
   "execution_count": null,
   "metadata": {},
   "outputs": [],
   "source": []
  }
 ],
 "metadata": {
  "kernelspec": {
   "display_name": "2p-py",
   "language": "python",
   "name": "python3"
  },
  "language_info": {
   "codemirror_mode": {
    "name": "ipython",
    "version": 3
   },
   "file_extension": ".py",
   "mimetype": "text/x-python",
   "name": "python",
   "nbconvert_exporter": "python",
   "pygments_lexer": "ipython3",
   "version": "3.8.12"
  }
 },
 "nbformat": 4,
 "nbformat_minor": 2
}
