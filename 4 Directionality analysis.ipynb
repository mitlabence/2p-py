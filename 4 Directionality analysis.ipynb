{
 "cells": [
  {
   "cell_type": "markdown",
   "id": "6175bed9",
   "metadata": {},
   "source": [
    "# Directionality analysis"
   ]
  },
  {
   "cell_type": "markdown",
   "id": "d8be2a2c",
   "metadata": {},
   "source": [
    "## Most important DataFrames and parameters\n",
    "DataFrames:\n",
    "* all_onsets_df: contains all neurons of all recordings, with onset and quantile values for each event (sz: quantile_sz, sd1: quantile1, sd2: quantile2)\n",
    "* quantiles_df: for each recording, contains all quantiles for each event type (quantile_type)\n",
    "* qdf: contains vectors (dx, dy) from first to last quantile centre for each event in all recordings\n",
    "* df_mean_vectors_per_mouse: contains Cartesian and polar coordinates of vectors for each event type, per mouse, averaged over each recording. Averaging: for one mouse, calculate center of first and last quantiles, create vector as difference; take the average of x and y coordinates of these vectors.\n",
    "* df_angles: contains seizure-sdx angles\n",
    "\n",
    "\n",
    "Columns:\n",
    "* quantile_type: sz, sd1 or sd2\n",
    "* onset_sz, onset1, onset2: the onset frame for each neuron/quantile for sz, sd1, sd2, respectively\n",
    "* dx, dy: The distance between the first and last quantile of <quantile_type> in pixels along the x or y axis, respectively.\n",
    "* uuid_extended: uuid if the recording contained one seizure; uuid + \"_1\"/\"_2\"/... for each event group (sz + sd waves) in that recording.\n",
    "* uuid_matched: manually correct uuid_extended to group seizure with sd waves that were split up by end of recording. This uuid should be unique among event groups (sz + sd waves), and the same for each group member.\n",
    "* theta_inj_top: the polar angle in a reference frame where the top side is the injection side."
   ]
  },
  {
   "cell_type": "code",
   "execution_count": null,
   "id": "4d944e1b",
   "metadata": {},
   "outputs": [],
   "source": [
    "#Auto-reload modules (used to develop functions outside this notebook)\n",
    "%load_ext autoreload\n",
    "%autoreload 2"
   ]
  },
  {
   "cell_type": "code",
   "execution_count": null,
   "id": "72d83ce1",
   "metadata": {},
   "outputs": [],
   "source": [
    "import numpy as np\n",
    "import h5py\n",
    "from nd2_to_caiman import np_arr_from_nd2\n",
    "import labrotation.file_handling as fh\n",
    "from matplotlib import pyplot as plt\n",
    "from matplotlib.collections import PatchCollection\n",
    "from matplotlib.patches import Rectangle\n",
    "import matplotlib.colors as mcolors\n",
    "from math import floor, sqrt\n",
    "from datetime import datetime\n",
    "import json\n",
    "from labrotation import json_util\n",
    "import scipy\n",
    "from scipy import ndimage\n",
    "import datadoc_util\n",
    "from statsmodels.nonparametric.smoothers_lowess import lowess\n",
    "import pandas as pd\n",
    "import seaborn as sns\n",
    "from math import floor\n",
    "import multiprocess as mp  # multiprocessing does not work with IPython. Use fork instead.\n",
    "import os\n",
    "import random  # for possible stochastic algorithms"
   ]
  },
  {
   "cell_type": "code",
   "execution_count": null,
   "id": "4812b8fa",
   "metadata": {},
   "outputs": [],
   "source": [
    "grid_shape = (8,8)"
   ]
  },
  {
   "cell_type": "code",
   "execution_count": null,
   "id": "417a3320",
   "metadata": {},
   "outputs": [],
   "source": [
    "env_dict = dict()\n",
    "if not os.path.exists(\"./.env\"):\n",
    "    print(\".env does not exist\")\n",
    "else:\n",
    "    with open(\"./.env\", \"r\") as f:\n",
    "        for line in f.readlines():\n",
    "            l = line.rstrip().split(\"=\")\n",
    "            env_dict[l[0]] = l[1]\n",
    "print(env_dict.keys())"
   ]
  },
  {
   "cell_type": "code",
   "execution_count": null,
   "id": "72149579",
   "metadata": {},
   "outputs": [],
   "source": [
    "if \"DATA_DOCU_FOLDER\" in env_dict.keys():\n",
    "    data_docu_folder = env_dict[\"DATA_DOCU_FOLDER\"]\n",
    "else:\n",
    "    data_docu_folder = fh.open_dir(\"Open Data Documentation folder\")\n",
    "print(data_docu_folder)"
   ]
  },
  {
   "cell_type": "code",
   "execution_count": null,
   "id": "1b5e134a",
   "metadata": {},
   "outputs": [],
   "source": [
    "ddoc = datadoc_util.DataDocumentation(data_docu_folder)\n",
    "ddoc.loadDataDoc()"
   ]
  },
  {
   "cell_type": "markdown",
   "id": "6edacb9a",
   "metadata": {},
   "source": [
    "## Open files and get uuid"
   ]
  },
  {
   "cell_type": "code",
   "execution_count": null,
   "id": "a10288b1",
   "metadata": {},
   "outputs": [],
   "source": [
    "df_id_uuid = ddoc.getIdUuid()"
   ]
  },
  {
   "cell_type": "code",
   "execution_count": null,
   "id": "4630a4c1",
   "metadata": {},
   "outputs": [],
   "source": [
    "analysis_folder = fh.open_dir(\"Open directory with analysis (grid) data for all mice!\")"
   ]
  },
  {
   "cell_type": "code",
   "execution_count": null,
   "id": "d3ee3c3c",
   "metadata": {},
   "outputs": [],
   "source": [
    "grid_files_list = []\n",
    "for root, dirs, files in os.walk(analysis_folder):\n",
    "    for fname in files:\n",
    "        if \"_grid.h5\" in fname:\n",
    "            grid_files_list.append(os.path.join(root,fname))"
   ]
  },
  {
   "cell_type": "code",
   "execution_count": null,
   "id": "24b1df95",
   "metadata": {},
   "outputs": [],
   "source": [
    "uuid_dict = dict()\n",
    "for grid_fpath in grid_files_list:\n",
    "    # ..._grid.h5 -> ..._cnmf.hdf5\n",
    "    cnmf_fpath = os.path.join(os.path.split(grid_fpath)[0], os.path.split(grid_fpath)[-1][:-7] + \"cnmf.hdf5\")\n",
    "    with h5py.File(cnmf_fpath, 'r') as hf:\n",
    "        uuid_dict[grid_fpath] = hf.attrs[\"uuid\"]"
   ]
  },
  {
   "cell_type": "markdown",
   "id": "27f26fc6",
   "metadata": {},
   "source": [
    "## Combine all results into one dataframe"
   ]
  },
  {
   "cell_type": "code",
   "execution_count": null,
   "id": "217f4189",
   "metadata": {},
   "outputs": [],
   "source": [
    "cols_set = set()\n",
    "for fpath in grid_files_list:\n",
    "    df = pd.read_hdf(fpath)\n",
    "    for key in df.keys():\n",
    "        cols_set.add(key)\n",
    "cols_set.add(\"uuid\")\n",
    "cols_set.add(\"mouse_id\")"
   ]
  },
  {
   "cell_type": "code",
   "execution_count": null,
   "id": "a32829f6",
   "metadata": {},
   "outputs": [],
   "source": [
    "# defining empty dataframe does not work, as all data types will be object (except x, y, which will be proper integers)\n",
    "all_onsets_df = pd.read_hdf(grid_files_list[0])\n",
    "for fpath in grid_files_list[1:]:\n",
    "    df = pd.read_hdf(fpath)\n",
    "    df[\"uuid\"] = uuid_dict[fpath]\n",
    "    df[\"mouse_id\"] = df_id_uuid[df_id_uuid[\"uuid\"] == uuid_dict[fpath]][\"mouse_id\"].values[0]\n",
    "    assert df[\"uuid\"].isna().sum() == 0\n",
    "    all_onsets_df = pd.concat([all_onsets_df, df])"
   ]
  },
  {
   "cell_type": "code",
   "execution_count": null,
   "id": "e5243e8d",
   "metadata": {},
   "outputs": [],
   "source": [
    "# for old files containing onset data, n_seizures was not present, as one of the last recordings processed contained 2. \n",
    "# As a result, most of i_sz values are NaN; these contain 1 sz. Otherwise 0, 1... are the seizure indices.\n",
    "all_onsets_df[\"i_sz\"].unique()"
   ]
  },
  {
   "cell_type": "code",
   "execution_count": null,
   "id": "08a262c9",
   "metadata": {},
   "outputs": [],
   "source": [
    "# make seizures unique in uuid_extended\n",
    "def append_uuid(row):\n",
    "    if pd.isna(row['i_sz']):\n",
    "        return row['uuid']\n",
    "    elif row['i_sz'] >= 0:\n",
    "        return row['uuid'] + '_' + str(row[\"i_sz\"]+1)\n",
    "all_onsets_df['uuid_extended'] = all_onsets_df.apply(append_uuid, axis=1)"
   ]
  },
  {
   "cell_type": "code",
   "execution_count": null,
   "id": "ce16ab3c",
   "metadata": {},
   "outputs": [],
   "source": [
    "g = all_onsets_df.groupby(\"mouse_id\")\n",
    "for group in g:\n",
    "    print(group[0])\n",
    "    g2 = group[1].groupby(\"uuid\")\n",
    "    for grp in g2:\n",
    "        print(\"\\t\" + grp[0])\n",
    "        print(\"\\t\" + str(len(grp[1])) + \"\\n\")"
   ]
  },
  {
   "cell_type": "markdown",
   "id": "df9d5842",
   "metadata": {},
   "source": [
    "`all_onsets_df` now contains each recording with seizure and/or SD each neuron. For each neuron, there is a value for onset of each SD and seizure wave (NaN for all neurons in a session if none occurred in the recording) "
   ]
  },
  {
   "cell_type": "code",
   "execution_count": null,
   "id": "710ecd59",
   "metadata": {},
   "outputs": [],
   "source": [
    "# todo: check last missing recording for T333. Try matching neurons per recording?"
   ]
  },
  {
   "cell_type": "markdown",
   "id": "d7b982d1",
   "metadata": {},
   "source": [
    "## Observe quartiles in one session, one event, per neuron"
   ]
  },
  {
   "cell_type": "code",
   "execution_count": null,
   "id": "9c2c289f",
   "metadata": {},
   "outputs": [],
   "source": [
    "MOUSE_ID=\"T352\""
   ]
  },
  {
   "cell_type": "code",
   "execution_count": null,
   "id": "f12f5324",
   "metadata": {},
   "outputs": [],
   "source": [
    "uuids = all_onsets_df[\"uuid_extended\"].unique()\n",
    "selected_uuid = uuids[3]\n",
    "selected_df = all_onsets_df[all_onsets_df[\"uuid\"] == selected_uuid]\n",
    "event_type = \"quantile_sz\"#\"quantile1\"\n",
    "\n",
    "fig = plt.figure(figsize=(18,18), )\n",
    "plt.suptitle(f\"Top={ddoc.getTopDirection(MOUSE_ID)}\", fontsize=24)\n",
    "ax = plt.gca()\n",
    "sns.scatterplot(x=\"x\", y=\"y\",\n",
    "                hue=event_type, style=event_type, size=event_type,\n",
    "                sizes=(100,400),\n",
    "                data=selected_df, ax=ax,)\n",
    "\n",
    "\n",
    "\n",
    "\n",
    "ax.set_xlim((0, 512))\n",
    "ax.set_ylim((0,512))\n",
    "ax.legend(fontsize=20)\n",
    "ax.invert_yaxis()\n",
    "\n",
    "plt.show()"
   ]
  },
  {
   "cell_type": "markdown",
   "id": "4d69bd59",
   "metadata": {},
   "source": [
    "## Get quantiles of recruitment"
   ]
  },
  {
   "cell_type": "markdown",
   "id": "8b845878",
   "metadata": {},
   "source": [
    "### Average coordinates per quartile per session (per mouse)"
   ]
  },
  {
   "cell_type": "code",
   "execution_count": null,
   "id": "6fe2150d",
   "metadata": {},
   "outputs": [],
   "source": [
    "quantile_per_session = all_onsets_df.groupby([\"mouse_id\", \"uuid_extended\", \"quantile1\"], as_index=False)  # NaN quantile_sz values already dropped\n",
    "q_sd1_df = quantile_per_session.mean()\n",
    "q_sd1_df[\"quantile_type\"] = \"sd1\"\n",
    "q_sd1_df.rename({\"quantile1\": \"quantile\"}, axis=\"columns\", inplace=True)\n",
    "print(q_sd1_df.columns)\n",
    "\n",
    "quantile_per_session = all_onsets_df.groupby([\"mouse_id\", \"uuid_extended\", \"quantile2\"], as_index=False)  # NaN quantile_sz values already dropped\n",
    "q_sd2_df = quantile_per_session.mean()\n",
    "q_sd2_df[\"quantile_type\"] = \"sd2\"\n",
    "q_sd2_df.rename({\"quantile2\": \"quantile\"}, axis=\"columns\", inplace=True)\n",
    "\n",
    "\n",
    "quantile_per_session = all_onsets_df.groupby([\"mouse_id\", \"uuid_extended\", \"quantile_sz\"], as_index=False)\n",
    "q_sz_df = quantile_per_session.mean()\n",
    "q_sz_df[\"quantile_type\"] = \"sz\"\n",
    "q_sz_df.rename({\"quantile_sz\": \"quantile\"}, axis=\"columns\", inplace=True)\n",
    "\n",
    "\n",
    "quantiles_df = pd.concat([q_sd1_df, q_sd2_df, q_sz_df])"
   ]
  },
  {
   "cell_type": "markdown",
   "id": "18bcc1d8",
   "metadata": {},
   "source": [
    "### Inspect centre point of quantiles per mouse and per event type"
   ]
  },
  {
   "cell_type": "code",
   "execution_count": null,
   "id": "9f9ebe28",
   "metadata": {},
   "outputs": [],
   "source": [
    "MOUSE_ID = \"T352\"\n",
    "EVENT_TYPE = \"sd2\"\n",
    "\n",
    "fig = plt.figure(figsize=(18,18), )\n",
    "plt.suptitle(f\"Top={ddoc.getTopDirection(MOUSE_ID)}\", fontsize=24)\n",
    "ax = plt.gca()\n",
    "sns.scatterplot(x=\"x\", y=\"y\",\n",
    "                hue=\"quantile\", style=\"quantile\", size=\"quantile\",\n",
    "                sizes=(100,400),\n",
    "                data=quantiles_df[(quantiles_df[\"mouse_id\"] == MOUSE_ID) & (quantiles_df[\"quantile_type\"] == EVENT_TYPE)], ax=ax,)\n",
    "\n",
    "\n",
    "\n",
    "\n",
    "ax.set_xlim((0, 512))\n",
    "ax.set_ylim((0,512))\n",
    "ax.legend(fontsize=20)\n",
    "ax.invert_yaxis()\n",
    "\n",
    "plt.show()"
   ]
  },
  {
   "cell_type": "code",
   "execution_count": null,
   "id": "992b6637",
   "metadata": {},
   "outputs": [],
   "source": [
    "# TODO: for each quantile, plot cells, k-means clustering? This way, can figure out if there might be more than two clusters."
   ]
  },
  {
   "cell_type": "markdown",
   "id": "ce80f42c",
   "metadata": {},
   "source": [
    "# Vectorize directions"
   ]
  },
  {
   "cell_type": "markdown",
   "id": "a27ca5fc",
   "metadata": {},
   "source": [
    "## Get vectorial difference of last minus first quantiles"
   ]
  },
  {
   "cell_type": "code",
   "execution_count": null,
   "id": "3720ca79",
   "metadata": {},
   "outputs": [],
   "source": [
    "# Move from nd2/video-style coordinate system (top left = (0, 0)) to usual plotting coordinate style (bottom left = (0, 0))\n",
    "quantiles_df[\"y_mirrored\"]= quantiles_df.apply(lambda row: -1*row[\"y\"], axis=1)"
   ]
  },
  {
   "cell_type": "code",
   "execution_count": null,
   "id": "33beb40f",
   "metadata": {},
   "outputs": [],
   "source": [
    "def get_dx(df, colname=\"x\"):\n",
    "    max_quantile = df[\"quantile\"].max()\n",
    "    min_quantile = df[\"quantile\"].min()\n",
    "    x1 = df[df[\"quantile\"] == max_quantile][colname].values[0]\n",
    "    x0 = df[df[\"quantile\"] == min_quantile][colname].values[0]\n",
    "    return x1-x0\n",
    "\n",
    "# add dx and dy columns by finding for each session, each event (sd1, sd2, sz), the average x coordinate of each first and last quantiles, and producing the difference.\n",
    "qdf = quantiles_df.groupby([\"uuid_extended\", \"quantile_type\"], as_index=False).apply(lambda group_df: group_df.assign(dx=lambda gdf: get_dx(gdf, \"x\"), dy=lambda gdf: get_dx(gdf, \"y_mirrored\")))#[[\"mouse_id\", \"uuid\",\"dx\", \"dy\", \"quantile_type\"]]"
   ]
  },
  {
   "cell_type": "code",
   "execution_count": null,
   "id": "e4ffb3d9",
   "metadata": {},
   "outputs": [],
   "source": [
    "qdf[qdf[\"uuid_extended\"] == \"06ebcf354f5c41519669f187e16de364\"]"
   ]
  },
  {
   "cell_type": "markdown",
   "id": "44984691",
   "metadata": {},
   "source": [
    "## Reshape dataframe\n",
    "Due to the way the vectors were calculated, each quantile per session has the same dx and dy values. Throw away duplicates."
   ]
  },
  {
   "cell_type": "code",
   "execution_count": null,
   "id": "528a7fdc",
   "metadata": {},
   "outputs": [],
   "source": [
    "qdf = qdf[qdf[\"quantile\"] == 0].drop(labels=[\"quantile\", \"x\", \"y\"], axis=1)"
   ]
  },
  {
   "cell_type": "markdown",
   "id": "43be8461",
   "metadata": {},
   "source": [
    "## Add polar coordinates"
   ]
  },
  {
   "cell_type": "code",
   "execution_count": null,
   "id": "d8bc8209",
   "metadata": {},
   "outputs": [],
   "source": [
    "import math"
   ]
  },
  {
   "cell_type": "code",
   "execution_count": null,
   "id": "ad78cf1a",
   "metadata": {},
   "outputs": [],
   "source": [
    "sign_change_dict = {\"bottom\": -1, \"top\": 1}  # for contralateral injections, injection is always on the medial side of the window\n",
    "qdf[\"r\"] = qdf.apply(lambda row: math.sqrt(math.pow(row[\"dx\"], 2) + math.pow(row[\"dy\"], 2)), axis=1)\n",
    "qdf[\"theta\"] = qdf.apply(lambda row: math.atan2(row[\"dy\"], row[\"dx\"]), axis=1)\n",
    "# correct angle s.t. top direction is always towards injection\n",
    "qdf[\"theta_inj_top\"] = qdf.apply(lambda row: sign_change_dict[ddoc.getInjectionDirection(row[\"mouse_id\"])]*row[\"theta\"], axis=1)"
   ]
  },
  {
   "cell_type": "code",
   "execution_count": null,
   "id": "1d6b16cc",
   "metadata": {},
   "outputs": [],
   "source": [
    "# TODO: adjust directions by getting mouse window size..."
   ]
  },
  {
   "cell_type": "code",
   "execution_count": null,
   "id": "19ceba09",
   "metadata": {},
   "outputs": [],
   "source": [
    "sns.set(font_scale=1.5) \n",
    "sns.set_theme(style=\"whitegrid\")\n",
    "# Set up a grid of axes with a polar projection\n",
    "g = sns.FacetGrid(qdf, col=\"mouse_id\", hue=\"quantile_type\",\n",
    "                  subplot_kws=dict(projection='polar'), aspect=1, height=7,\n",
    "                  sharex=True, sharey=True, despine=False)\n",
    "\n",
    "# Draw a scatterplot onto each axes in the grid\n",
    "g.map(sns.scatterplot, \"theta_inj_top\", \"r\", s=200, alpha=0.7)\n",
    "plt.gca().set_rlim(0, 350)\n",
    "\n",
    "g.add_legend(fontsize=20)\n",
    "plt.show()"
   ]
  },
  {
   "cell_type": "markdown",
   "id": "3bcfef3f",
   "metadata": {},
   "source": [
    "## Create sd-sz vectors"
   ]
  },
  {
   "cell_type": "markdown",
   "id": "f9e74780",
   "metadata": {},
   "source": [
    "### Handle seizures that were split in two (sz onset in one session, sd waves in other)"
   ]
  },
  {
   "cell_type": "code",
   "execution_count": null,
   "id": "ac8e3b83",
   "metadata": {},
   "outputs": [],
   "source": [
    "qdf[\"uuid_matched\"] = qdf[\"uuid_extended\"]\n",
    "# following two recordings contain 1 seizure-sd event\n",
    "qdf[\"uuid_matched\"] = qdf[\"uuid_matched\"].replace(\"65bff16a4cf04930a5cb14f489a8f99b\", \"30dc55d1a5dc4b0286d132e72f208ca6\")\n",
    "# following recordings do not have sz\n",
    "qdf = qdf[qdf[\"uuid_matched\"] != \"171693d0988c458a96c8198c7b8cfc28\"]"
   ]
  },
  {
   "cell_type": "code",
   "execution_count": null,
   "id": "2e7f16e4",
   "metadata": {},
   "outputs": [],
   "source": [
    "angles_dict = {\"mouse_id\": [], \"uuid_matched\": [], \"quantile_type\": [], \"angle_with_sz\": [], \"cos_angle_with_sz\": []}\n",
    "angles_dict_v2 = {\"mouse_id\": [], \"uuid_matched\": [], \"angle_type\": [], \"angle\": [], \"cos_angle\": []} # keep backwards compatibility, but angle_with_sz is not flexible for example if want to look at sd1-sd2 angle\n",
    "\n",
    "session_groups = qdf.groupby(\"uuid_matched\")\n",
    "for uuid, group in session_groups:\n",
    "    sz_row = group[group[\"quantile_type\"] == \"sz\"]\n",
    "    sd1_row = group[group[\"quantile_type\"] == \"sd1\"]\n",
    "    sd2_row = group[group[\"quantile_type\"] == \"sd2\"]\n",
    "    \n",
    "    sz_len = sz_row[\"r\"].values[0] if len(sz_row[\"r\"].values) > 0 else np.nan\n",
    "    sd1_len = sd1_row[\"r\"].values[0] if len(sd1_row[\"r\"].values) > 0 else np.nan\n",
    "    sd2_len = sd2_row[\"r\"].values[0] if len(sd2_row[\"r\"].values) > 0 else np.nan\n",
    "\n",
    "    \n",
    "    # u.v = |u|*|v|*cos(theta)\n",
    "    if len(sz_row[\"dx\"].values) > 0 and len(sd1_row[\"dx\"].values) > 0:\n",
    "        sz_dot_sd1 = sz_row[\"dx\"].values[0] * sd1_row[\"dx\"].values[0] + sz_row[\"dy\"].values[0] * sd1_row[\"dy\"].values[0]\n",
    "        costheta1 = sz_dot_sd1/(sz_len*sd1_len)\n",
    "    else:\n",
    "        sz_dot_sd1 = np.nan\n",
    "        costheta1 = np.nan\n",
    "    if len(sd2_row[\"dx\"].values) > 0 and len(sd1_row[\"dx\"].values) > 0: \n",
    "        sz_dot_sd2 = sz_row[\"dx\"].values[0] * sd2_row[\"dx\"].values[0] + sz_row[\"dy\"].values[0] * sd2_row[\"dy\"].values[0]\n",
    "        costheta2 = sz_dot_sd2/(sz_len*sd2_len)\n",
    "    else:\n",
    "        sz_dot_sd2 = np.nan\n",
    "        costheta2 = np.nan\n",
    "    \n",
    "    # add sd1-sd2 angle too\n",
    "    if len(sd1_row[\"dx\"].values) > 0 and len(sd2_row[\"dx\"].values) > 0:\n",
    "        sd1_dot_sd2 = sd1_row[\"dx\"].values[0] * sd2_row[\"dx\"].values[0] + sd1_row[\"dy\"].values[0] * sd2_row[\"dy\"].values[0]\n",
    "        costheta12 = sd1_dot_sd2/(sd1_len*sd2_len)\n",
    "        \n",
    "    angles_dict[\"mouse_id\"].append(sz_row[\"mouse_id\"].values[0])\n",
    "    angles_dict[\"uuid_matched\"].append(uuid)\n",
    "    angles_dict[\"quantile_type\"].append(\"sd1\")\n",
    "    angles_dict[\"angle_with_sz\"].append(math.acos(costheta1))\n",
    "    angles_dict[\"cos_angle_with_sz\"].append(costheta1)\n",
    "    \n",
    "    angles_dict[\"mouse_id\"].append(sz_row[\"mouse_id\"].values[0])\n",
    "    angles_dict[\"uuid_matched\"].append(uuid)\n",
    "    angles_dict[\"quantile_type\"].append(\"sd2\")\n",
    "    angles_dict[\"angle_with_sz\"].append(math.acos(costheta2))\n",
    "    angles_dict[\"cos_angle_with_sz\"].append(costheta2)\n",
    "    \n",
    "    # sz-sd1\n",
    "    angles_dict_v2[\"mouse_id\"].append(sz_row[\"mouse_id\"].values[0])\n",
    "    angles_dict_v2[\"uuid_matched\"].append(uuid)\n",
    "    angles_dict_v2[\"angle_type\"].append(\"sz-sd1\")\n",
    "    angles_dict_v2[\"angle\"].append(math.acos(costheta1))\n",
    "    angles_dict_v2[\"cos_angle\"].append(costheta1)\n",
    "    # sz-sd2\n",
    "    angles_dict_v2[\"mouse_id\"].append(sz_row[\"mouse_id\"].values[0])\n",
    "    angles_dict_v2[\"uuid_matched\"].append(uuid)\n",
    "    angles_dict_v2[\"angle_type\"].append(\"sz-sd2\")\n",
    "    angles_dict_v2[\"angle\"].append(math.acos(costheta2))\n",
    "    angles_dict_v2[\"cos_angle\"].append(costheta2)    \n",
    "    # sd1-sd2\n",
    "    angles_dict_v2[\"mouse_id\"].append(sz_row[\"mouse_id\"].values[0])\n",
    "    angles_dict_v2[\"uuid_matched\"].append(uuid)\n",
    "    angles_dict_v2[\"angle_type\"].append(\"sd1-sd2\")\n",
    "    angles_dict_v2[\"angle\"].append(math.acos(costheta12))\n",
    "    angles_dict_v2[\"cos_angle\"].append(costheta12) "
   ]
  },
  {
   "cell_type": "code",
   "execution_count": null,
   "id": "6fb833f5",
   "metadata": {},
   "outputs": [],
   "source": [
    "df_angles = pd.DataFrame(angles_dict)"
   ]
  },
  {
   "cell_type": "code",
   "execution_count": null,
   "id": "e8bbe979",
   "metadata": {},
   "outputs": [],
   "source": [
    "df_angles.pivot_table(index=\"mouse_id\",columns='r_dummy', values=\"angle_with_sz\")"
   ]
  },
  {
   "cell_type": "code",
   "execution_count": null,
   "id": "d307c0c9",
   "metadata": {},
   "outputs": [],
   "source": [
    "r_map = {\"sd1\": 1, \"sd2\": 2}\n",
    "df_angles[\"r_dummy\"] = df_angles.apply(lambda row: r_map[row[\"quantile_type\"]], axis=1)"
   ]
  },
  {
   "cell_type": "code",
   "execution_count": null,
   "id": "1a6c1e01",
   "metadata": {
    "scrolled": false
   },
   "outputs": [],
   "source": [
    "sns.set(font_scale=1.5) \n",
    "sns.set_theme(style=\"whitegrid\")\n",
    "# Set up a grid of axes with a polar projection\n",
    "g = sns.FacetGrid(df_angles, col=\"mouse_id\", hue=\"quantile_type\",\n",
    "                  subplot_kws=dict(projection='polar'), aspect=1, height=7,\n",
    "                  sharex=True, sharey=True, despine=False)\n",
    "\n",
    "# Draw a scatterplot onto each axes in the grid\n",
    "g.map(sns.scatterplot, \"angle_with_sz\", \"r_dummy\", s=400, alpha=0.5)\n",
    "plt.gca().set_rlim(0, 2.25)\n",
    "\n",
    "\n",
    "g.add_legend(fontsize=20)\n",
    "plt.show()"
   ]
  },
  {
   "cell_type": "code",
   "execution_count": null,
   "id": "293eed16",
   "metadata": {},
   "outputs": [],
   "source": [
    "ddoc.getInjectionDirection(\"T352\")"
   ]
  },
  {
   "cell_type": "code",
   "execution_count": null,
   "id": "b44c77df",
   "metadata": {},
   "outputs": [],
   "source": [
    "ddoc.getMouseWinInjInfo(\"T301\")"
   ]
  },
  {
   "cell_type": "code",
   "execution_count": null,
   "id": "3ed9b1e6",
   "metadata": {},
   "outputs": [],
   "source": [
    "ddoc.getMouseWinInjInfo(\"T329\")"
   ]
  },
  {
   "cell_type": "code",
   "execution_count": null,
   "id": "1d9ab0e3",
   "metadata": {},
   "outputs": [],
   "source": [
    "ddoc.getTopDirection(\"T301\")"
   ]
  },
  {
   "cell_type": "code",
   "execution_count": null,
   "id": "f867d2d9",
   "metadata": {},
   "outputs": [],
   "source": [
    "df_angles.to_excel(\"angles.xlsx\")"
   ]
  },
  {
   "cell_type": "code",
   "execution_count": null,
   "id": "8bba2712",
   "metadata": {},
   "outputs": [],
   "source": [
    "qdf.to_excel(\"quantiles.xlsx\")"
   ]
  },
  {
   "cell_type": "code",
   "execution_count": null,
   "id": "43a57110",
   "metadata": {},
   "outputs": [],
   "source": [
    "sns.set(font_scale=1.5) \n",
    "sns.set_theme(style=\"whitegrid\")\n",
    "# Set up a grid of axes with a polar projection\n",
    "g = sns.FacetGrid(qdf, col=\"mouse_id\", hue=\"quantile_type\",\n",
    "                  subplot_kws=dict(projection='polar'), aspect=1, height=7,\n",
    "                  sharex=True, sharey=True, despine=False)\n",
    "\n",
    "# Draw a scatterplot onto each axes in the grid\n",
    "g.map(sns.scatterplot, \"theta\", \"r\", s=200, alpha=0.7)\n",
    "plt.gca().set_rlim(0, 350)\n",
    "\n",
    "g.add_legend(fontsize=20)\n",
    "plt.show()"
   ]
  },
  {
   "cell_type": "markdown",
   "id": "65839e8d",
   "metadata": {},
   "source": [
    "## Set plotting details\n",
    "Color scheme, arrow widths, order of event types (sz, sd1, sd2)..."
   ]
  },
  {
   "cell_type": "code",
   "execution_count": null,
   "id": "f2a5d7a7",
   "metadata": {},
   "outputs": [],
   "source": [
    "# create colors with hues\n",
    "rgbs = []\n",
    "for color in mcolors.TABLEAU_COLORS.values():\n",
    "    rgbs.append(color)"
   ]
  },
  {
   "cell_type": "code",
   "execution_count": null,
   "id": "d8ca64f6",
   "metadata": {},
   "outputs": [],
   "source": [
    "#this color scheme does not work properly. Need to adjust v values...\n",
    "\n",
    "# create 2d array: [color][lightness_variant]\n",
    "def getColorScheme(n_shades=4):\n",
    "    color_scheme = []\n",
    "    for color in mcolors.TABLEAU_COLORS.values():\n",
    "        h, s, v = mcolors.rgb_to_hsv(mcolors.to_rgb(color))\n",
    "        vs = np.linspace(v, 1, n_shades+1)  # first color in linspace is #000000, which will not be used\n",
    "        color_row = [mcolors.to_hex(mcolors.hsv_to_rgb((h, s, v_i))) for v_i in vs[1:]]\n",
    "        color_scheme.append(color_row)\n",
    "    return color_scheme\n",
    "#color_scheme = getColorScheme(4)\n",
    "#mcolors.TABLEAU_COLORS with tints, [hue][dark to light]\n",
    "color_scheme = [\n",
    "    ['#1f77b4', \"#258fd8\", \"#49a2e0\", \"#6db5e6\", \"#92c7ec\", \"#b6daf2\"],\n",
    "    [\"#ff7f0e\", \"#ff9130\", \"#ffa453\", \"#ffb675\", \"#ffc898\", \"#ffdaba\"],\n",
    "    [\"#2ca02c\", \"#35c235\", \"#54d054\", \"#76d976\", \"#98e398\", \"#baecba\"],\n",
    "    [\"#d62728\", \"#dd4546\", \"#e36464\", \"#e88383\", \"#eea2a2\", \"#f4c1c1\"],\n",
    "    [\"#9467bd\", \"#a37dc6\", \"#b392d0\", \"#c2a8d9\", \"#d1bee3\", \"#e0d4ec\"],\n",
    "    [\"#8c564b\", \"#a7675a\", \"#b58176\", \"#c49a91\", \"#d3b3ad\", \"#e2ccc8\"],\n",
    "    [\"#e377c2\", \"#e78acb\", \"#eb9ed3\", \"#efb1dc\", \"#f3c5e5\", \"#f7d8ee\"]\n",
    "]"
   ]
  },
  {
   "cell_type": "code",
   "execution_count": null,
   "id": "1c187552",
   "metadata": {},
   "outputs": [],
   "source": [
    "# assign an index to each mouse. 0.0, 1.0, 2.0, ...\n",
    "qdf[\"mouse_index\"] = qdf[\"mouse_id\"].rank(method='dense') - 1\n",
    "qdf[\"mouse_index\"] = qdf[\"mouse_index\"].apply(int)"
   ]
  },
  {
   "cell_type": "code",
   "execution_count": null,
   "id": "b97fce09",
   "metadata": {},
   "outputs": [],
   "source": [
    "# assert enough colors are available\n",
    "assert len(color_scheme) > qdf[\"mouse_index\"].max()"
   ]
  },
  {
   "cell_type": "code",
   "execution_count": null,
   "id": "6c85ec6d",
   "metadata": {},
   "outputs": [],
   "source": [
    "#event_types = list(qdf.quantile_type.unique())\n",
    "event_types = [\"sd2\", \"sd1\", \"sz\"]  # order for vector length"
   ]
  },
  {
   "cell_type": "code",
   "execution_count": null,
   "id": "2139b2ee",
   "metadata": {},
   "outputs": [],
   "source": [
    "ARROW_WIDTHS = {\"sd2\": 12, \"sd1\": 6, \"sz\": 2}\n",
    "ARROW_HEAD = 16"
   ]
  },
  {
   "cell_type": "markdown",
   "id": "9339633e",
   "metadata": {},
   "source": [
    "## Create arrow plots"
   ]
  },
  {
   "cell_type": "code",
   "execution_count": null,
   "id": "31ac81cd",
   "metadata": {},
   "outputs": [],
   "source": [
    "fig = plt.figure(figsize=(12,12))\n",
    "ax = fig.add_subplot(111, projection='polar')\n",
    "\n",
    "# plot arrows\n",
    "for i, row in qdf.iterrows():\n",
    "    r = event_types.index(row[\"quantile_type\"])+1# row['r']\n",
    "    theta = row['theta_inj_top']\n",
    "    ax.annotate('', xy=(theta, r), xytext=(0, 0),\n",
    "                arrowprops=dict(facecolor=color_scheme[int(row[\"mouse_index\"])][len(event_types) - event_types.index(row[\"quantile_type\"])], edgecolor='none', width=ARROW_WIDTHS[row[\"quantile_type\"]], headwidth=ARROW_HEAD, alpha=0.9))\n",
    "\n",
    "# set the radial limits\n",
    "max_r = len(qdf[\"quantile_type\"].unique())-1#qdf['r'].max()\n",
    "ax.set_ylim(0, max_r + 1)\n",
    "ax.set_rgrids(np.linspace(0, max_r+1, num=len(event_types)+1))\n",
    "ax.set_yticklabels([\"\"] + event_types)\n",
    "ax.set_xticklabels(['', '', 'medial/injection', '', '', '', 'lateral', ''], fontsize=20)\n",
    "\n",
    "#ax.set_xticklabels(event_types) \n",
    "# display the plot\n",
    "plt.show()"
   ]
  },
  {
   "cell_type": "code",
   "execution_count": null,
   "id": "bf2e1352",
   "metadata": {},
   "outputs": [],
   "source": [
    "# plot mean directions per mouse, per event type\n",
    "\n",
    "#grouped_id_etype = qdf.groupby([\"mouse_id\", \"quantile_type\"], as_index=False).apply()\n",
    "#for i_group, group in grouped_id_etype:\n",
    "#    group[\"x_\"]\n",
    "#    print(group[\"r\"].mean())"
   ]
  },
  {
   "cell_type": "code",
   "execution_count": null,
   "id": "66bac13c",
   "metadata": {},
   "outputs": [],
   "source": [
    "#qdf = quantiles_df.groupby([\"uuid_extended\", \"quantile_type\"], as_index=False).apply(lambda group_df: group_df.assign(dx=lambda gdf: get_dx(gdf, \"x\"), dy=lambda gdf: get_dx(gdf, \"y_mirrored\")))\n",
    "df_mean_vectors_per_mouse = qdf.groupby(['mouse_id', 'quantile_type'], as_index=False).mean().drop(columns=[\"y_mirrored\", \"r\", \"theta\", \"theta_inj_top\"])"
   ]
  },
  {
   "cell_type": "markdown",
   "id": "9ce3f195",
   "metadata": {},
   "source": [
    "### Add aligned angle (where top is injection site direction)"
   ]
  },
  {
   "cell_type": "code",
   "execution_count": null,
   "id": "e2fe8f37",
   "metadata": {},
   "outputs": [],
   "source": [
    "sign_change_dict = {\"bottom\": -1, \"top\": 1}  # for contralateral injections, injection is always on the medial side of the window\n",
    "df_mean_vectors_per_mouse[\"r\"] = df_mean_vectors_per_mouse.apply(lambda row: math.sqrt(math.pow(row[\"dx\"], 2) + math.pow(row[\"dy\"], 2)), axis=1)\n",
    "df_mean_vectors_per_mouse[\"theta\"] = df_mean_vectors_per_mouse.apply(lambda row: math.atan2(row[\"dy\"], row[\"dx\"]), axis=1)\n",
    "df_mean_vectors_per_mouse[\"theta_inj_top\"] = df_mean_vectors_per_mouse.apply(lambda row: sign_change_dict[ddoc.getInjectionDirection(row[\"mouse_id\"])]*row[\"theta\"], axis=1)"
   ]
  },
  {
   "cell_type": "code",
   "execution_count": null,
   "id": "53d343f9",
   "metadata": {},
   "outputs": [],
   "source": [
    "df_mean_vectors_per_mouse"
   ]
  },
  {
   "cell_type": "code",
   "execution_count": null,
   "id": "e9224b98",
   "metadata": {},
   "outputs": [],
   "source": [
    "quantile_angles_pivot = df_mean_vectors_per_mouse.pivot_table(index=\"mouse_id\", columns='quantile_type', values='theta_inj_top')\n",
    "quantile_angles_pivot[\"sz-sd1\"] = (quantile_angles_pivot[\"sz\"] - quantile_angles_pivot[\"sd1\"] + math.pi) % (2 * math.pi) - math.pi # convert to (-pi, pi)\n",
    "quantile_angles_pivot[\"sz-sd2\"] = (quantile_angles_pivot[\"sz\"] - quantile_angles_pivot[\"sd2\"] + math.pi) % (2 * math.pi) - math.pi # convert to (-pi, pi)"
   ]
  },
  {
   "cell_type": "code",
   "execution_count": null,
   "id": "ad94e645",
   "metadata": {},
   "outputs": [],
   "source": [
    "def radianTo02PiRange(angle_rad):\n",
    "    return (angle_rad)%(2*math.pi)\n",
    "\n",
    "\n",
    "def getSectorsForMouse(mouse_id, mouse_index):\n",
    "    theta_sz = radianTo02PiRange(quantile_angles_pivot.loc[mouse_id][\"sz\"])\n",
    "    theta_sd1 = radianTo02PiRange(quantile_angles_pivot.loc[mouse_id][\"sd1\"])\n",
    "    theta_sd2 = radianTo02PiRange(quantile_angles_pivot.loc[mouse_id][\"sd2\"])\n",
    "\n",
    "    # width angle: total angular region covered.\n",
    "    # 1. find smaller angle between them\n",
    "    theta1_min = min(theta_sz, theta_sd1)\n",
    "    theta1_max = max(theta_sz, theta_sd1)\n",
    "    theta2_min = min(theta_sz, theta_sd2)\n",
    "    theta2_max = max(theta_sz, theta_sd2)\n",
    "\n",
    "    dtheta_1 = theta1_max - theta1_min\n",
    "    theta1_width = min(dtheta_1, 2*math.pi - dtheta_1)\n",
    "    dtheta_2 = theta2_max - theta2_min\n",
    "    theta2_width = min(dtheta_2, 2*math.pi - dtheta_2)\n",
    "\n",
    "    # mid angle: between the two arrows.\n",
    "    # 1. find larger angle - smaller angle difference; if > pi, should take counter-clockwise difference.\n",
    "    if dtheta_1 <= math.pi:  # can take angle as-is\n",
    "        theta1_mid = (theta_sz + theta_sd1)/2 #np.deg2rad((theta1 + theta2)/2)\n",
    "    else:\n",
    "        # the middle angle clockwise needs to be mirrored around the origin. Done by subtracting pi.\n",
    "        theta1_mid = (theta_sz + theta_sd1)/2 - math.pi\n",
    "    if dtheta_2 <= math.pi:\n",
    "        theta2_mid = (theta_sz + theta_sd2)/2\n",
    "    else:\n",
    "        theta2_mid = (theta_sz + theta_sd2)/2 - math.pi\n",
    "    #ax.bar(x=theta1_mid, height = 20, width=theta1_width, bottom=r0, color=color_scheme[int(row[\"mouse_index\"])][len(event_types) - event_types.index(row[\"quantile_type\"])])\n",
    "    #r0 += 20\n",
    "    #\n",
    "    #r0 += 20\n",
    "\n",
    "    # TODO: make sure sd1 and sd2 exist\n",
    "\n",
    "    # get vector lengths for radii of sectors\n",
    "    r0 = 10  # the inner perimeter of each segment will be at 10.\n",
    "    r1 = df_mean_vectors_per_mouse[(df_mean_vectors_per_mouse[\"mouse_id\"] == mouse_id) & (df_mean_vectors_per_mouse[\"quantile_type\"] == \"sd1\")][\"r\"].values[0]\n",
    "    r2 = df_mean_vectors_per_mouse[(df_mean_vectors_per_mouse[\"mouse_id\"] == mouse_id) & (df_mean_vectors_per_mouse[\"quantile_type\"] == \"sd2\")][\"r\"].values[0]\n",
    "    rsz = df_mean_vectors_per_mouse[(df_mean_vectors_per_mouse[\"mouse_id\"] == mouse_id) & (df_mean_vectors_per_mouse[\"quantile_type\"] == \"sz\")][\"r\"].values[0]\n",
    "\n",
    "    r_padding = 6  # to make arrows visible, leave this much space between arrow point and sector perimeter\n",
    "    rmax_sd1 = min(r1-r_padding, rsz-r_padding)\n",
    "    rmax_sd2 = min(r2-r_padding, rsz-r_padding)\n",
    "    assert rmax_sd1 > r0\n",
    "    assert rmax_sd2 > r0\n",
    "\n",
    "\n",
    "    # avoid same-size sectors for same mouse\n",
    "    if rmax_sd1 == rmax_sd2:\n",
    "        rmax_sd2 -= 20\n",
    "\n",
    "    # calculate inner perimeter (bottom) and height for both sectors\n",
    "    height1 = rmax_sd1 - r0 - r_padding\n",
    "    height2 = rmax_sd2 - r0 - r_padding\n",
    "    bottom1 = r0\n",
    "    bottom2 = r0\n",
    "\n",
    "\n",
    "    # get colors\n",
    "    color1 = color_scheme[int(mouse_index)][len(event_types) - event_types.index(\"sd1\")]\n",
    "    color2 = color_scheme[int(mouse_index)][len(event_types) - event_types.index(\"sd2\")]\n",
    "    return [[theta1_mid, height1, theta1_width, bottom1, color1], [theta2_mid, height2, theta2_width, bottom2, color2]]"
   ]
  },
  {
   "cell_type": "code",
   "execution_count": null,
   "id": "f9f1d9cd",
   "metadata": {},
   "outputs": [],
   "source": [
    "fig = plt.figure(figsize=(12,12))\n",
    "ax = fig.add_subplot(111, projection='polar')\n",
    "# contains all arc properties gathered for later plotting:\n",
    "# mice_list = [<mouse_id1>, <mouse_id1>, <mouse_id2>, <mouse_id2>, ...]\n",
    "# for each mouse_id entry, there is one array in arcs_list:\n",
    "# [theta1_mid, height1, theta1_width, bottom1, color1], [theta2_mid, height2, theta2_width, bottom2, color2]\n",
    "# it is a list to be able to sort the plotting\n",
    "# TODO: create this dictionary, then loop through keys, loop through keys inside, and if exists, plot the corresponding arc.\n",
    "# TODO: change arc colors to shades of sd1 and sd2\n",
    "# TODO: change arcs to\n",
    "mice_list = []\n",
    "arcs_list = [] \n",
    "\n",
    "\n",
    "\n",
    "# plot arrows\n",
    "for i, row in df_mean_vectors_per_mouse.iterrows():\n",
    "    r = row['r']#event_types.index(row[\"quantile_type\"])+1# \n",
    "    theta = row['theta_inj_top']\n",
    "    ax.annotate('', xy=(theta, r), xytext=(0, 0),\n",
    "                arrowprops=dict(facecolor=color_scheme[int(row[\"mouse_index\"])][len(event_types) - event_types.index(row[\"quantile_type\"])], edgecolor='grey', width=ARROW_WIDTHS[row[\"quantile_type\"]], headwidth=ARROW_HEAD, alpha=0.9))\n",
    "    if row[\"mouse_id\"] not in mice_list:  # avoid adding sectors for the same mouse again\n",
    "        sectors = getSectorsForMouse(row[\"mouse_id\"], row[\"mouse_index\"])\n",
    "        \n",
    "        # add data to list\n",
    "        mice_list.append(row[\"mouse_id\"])\n",
    "        arcs_list.append(sectors[0]) #[row[\"mouse_id\"]] = arc_data\n",
    "        mice_list.append(row[\"mouse_id\"])\n",
    "        arcs_list.append(sectors[1])\n",
    "        \n",
    "        \n",
    "\n",
    "# sort by descending outer perimeter so all of them visible by plotting smaller on top of larger sectors\n",
    "for sector in sorted(arcs_list, key=lambda row: row[1], reverse=True):\n",
    "    ax.bar(x=sector[0], height=sector[1], width=sector[2], bottom=sector[3], color=sector[4], edgecolor=\"grey\")\n",
    "\n",
    "        \n",
    "#r = Rectangle((0., 0.), 100., 100, color=\"red\")\n",
    "#p = PatchCollection([Rectangle((np.deg2rad(20), 100), 45, 50, color='blue')])\n",
    "#ax.add_collection(p)\n",
    "\n",
    "# set the radial limits\n",
    "max_r = df_mean_vectors_per_mouse['r'].max() #len(qdf[\"quantile_type\"].unique())-1#\n",
    "ax.set_ylim(0, max_r + 1)\n",
    "#ax.set_rgrids(np.linspace(0, max_r+1, num=len(event_types)+1))\n",
    "#ax.set_yticklabels([\"\"] + event_types)\n",
    "ax.set_xticklabels(['', '', 'medial/injection', '', '', '', 'lateral', ''], fontsize=20)  # top direction should be \"medial/injection\"\n",
    "\n",
    "#ax.set_xticklabels(event_types) \n",
    "# display the plot\n",
    "plt.show()"
   ]
  },
  {
   "cell_type": "code",
   "execution_count": null,
   "id": "9cce0aa4",
   "metadata": {},
   "outputs": [],
   "source": [
    "# TODO: length of vectors should still somehow correspond to average... If length is small, the direction might be insignificant"
   ]
  },
  {
   "cell_type": "code",
   "execution_count": null,
   "id": "2716a76a",
   "metadata": {},
   "outputs": [],
   "source": [
    "# TODO: use circular heatmap or roseplot!"
   ]
  },
  {
   "cell_type": "code",
   "execution_count": null,
   "id": "41cb7429",
   "metadata": {},
   "outputs": [],
   "source": [
    "# TODO: mark the angles between average vectors (sz-sd1, sz-sd2) for each mouse"
   ]
  },
  {
   "cell_type": "code",
   "execution_count": null,
   "id": "48b5803b",
   "metadata": {},
   "outputs": [],
   "source": [
    "fig = plt.figure(figsize=(12,12))\n",
    "ax = fig.add_subplot(111, projection='polar')\n",
    "r0 = 0.1\n",
    "r_out_sd1 = event_types.index(\"sd1\") + 0.8  # 0-indexing + 1 - 0.2 to make arrow points still visible\n",
    "r_out_sd2 = event_types.index(\"sd2\") + 0.8\n",
    "\n",
    "# contains all arc properties gathered for later plotting:\n",
    "# mice_list = [<mouse_id1>, <mouse_id1>, <mouse_id2>, <mouse_id2>, ...]\n",
    "# for each mouse_id entry, there is one array in arcs_list:\n",
    "# [theta1_mid, height1, theta1_width, bottom1, color1], [theta2_mid, height2, theta2_width, bottom2, color2]\n",
    "# it is a list to be able to sort the plotting\n",
    "# TODO: create this dictionary, then loop through keys, loop through keys inside, and if exists, plot the corresponding arc.\n",
    "# TODO: change arc colors to shades of sd1 and sd2\n",
    "# TODO: change arcs to\n",
    "mice_list = []\n",
    "arcs_list = [] \n",
    "\n",
    "\n",
    "# to also plot the relative amplitudes of each vector, keep track of [theta, r] pairs. Later, plot normalized r (normalized to 3)\n",
    "length_markers_list = [[],[],[]]\n",
    "r_max = df_mean_vectors_per_mouse['r'].max()  # use r_max to normalize to 3. Longest vector will reach 3...\n",
    "\n",
    "\n",
    "def radianTo02PiRange(angle_rad):\n",
    "    return (angle_rad)%(2*math.pi)\n",
    "\n",
    "outline_color = \"none\"  # \"grey\" \n",
    "\n",
    "# plot arrows\n",
    "for i, row in df_mean_vectors_per_mouse.iterrows():\n",
    "    r = event_types.index(row[\"quantile_type\"])+1 # length depends on type (sz, sd1, sd2)\n",
    "    theta = row['theta_inj_top']\n",
    "    r_original = row['r']\n",
    "    # add theta and length to points list\n",
    "    length_markers_list[0].append(theta)\n",
    "    length_markers_list[1].append((r_original/r_max)*len(event_types))\n",
    "    length_markers_list[2].append(color_scheme[int(row[\"mouse_index\"])][0])\n",
    "    \n",
    "    ax.annotate('', xy=(theta, r), xytext=(0, 0),\n",
    "                arrowprops=dict(facecolor=color_scheme[int(row[\"mouse_index\"])][len(event_types) - event_types.index(row[\"quantile_type\"])], edgecolor=outline_color, width=ARROW_WIDTHS[row[\"quantile_type\"]], headwidth=ARROW_HEAD, alpha=0.9))\n",
    "    \n",
    "    \n",
    "    if row[\"mouse_id\"] not in mice_list:\n",
    "        theta_sz = radianTo02PiRange(quantile_angles_pivot.loc[row[\"mouse_id\"]][\"sz\"])\n",
    "        theta_sd1 = radianTo02PiRange(quantile_angles_pivot.loc[row[\"mouse_id\"]][\"sd1\"])\n",
    "        theta_sd2 = radianTo02PiRange(quantile_angles_pivot.loc[row[\"mouse_id\"]][\"sd2\"])\n",
    "        \n",
    "        # width angle: total angular region covered.\n",
    "        # 1. find smaller angle between them\n",
    "        theta1_min = min(theta_sz, theta_sd1)\n",
    "        theta1_max = max(theta_sz, theta_sd1)\n",
    "        theta2_min = min(theta_sz, theta_sd2)\n",
    "        theta2_max = max(theta_sz, theta_sd2)\n",
    "        \n",
    "        dtheta_1 = theta1_max - theta1_min\n",
    "        theta1_width = min(dtheta_1, 2*math.pi - dtheta_1)\n",
    "        dtheta_2 = theta2_max - theta2_min\n",
    "        theta2_width = min(dtheta_2, 2*math.pi - dtheta_2)\n",
    "        \n",
    "        # mid angle: between the two arrows.\n",
    "        # 1. find larger angle - smaller angle difference; if > pi, should take counter-clockwise difference.\n",
    "        if theta1_max - theta1_min <= math.pi:  # can take angle as-is\n",
    "            theta1_mid = (theta_sz + theta_sd1)/2 #np.deg2rad((theta1 + theta2)/2)\n",
    "        else:\n",
    "            # the middle angle clockwise needs to be mirrored around the origin. Done by subtracting pi.\n",
    "            theta1_mid = (theta_sz + theta_sd1)/2 - math.pi\n",
    "        if theta2_max - theta2_min <= math.pi:\n",
    "            theta2_mid = (theta_sz + theta_sd2)/2\n",
    "        else:\n",
    "            theta2_mid = (theta_sz + theta_sd2)/2 - math.pi\n",
    "\n",
    "        \n",
    "        \n",
    "        \n",
    "        \n",
    "        # calculate inner perimeter (bottom) and height for both sectors\n",
    "        height1 = r_out_sd1 - r0\n",
    "        height2 = r_out_sd2 - r0\n",
    "        bottom1 = r0\n",
    "        bottom2 = r0\n",
    "        \n",
    "        \n",
    "        # get colors\n",
    "        color1 = color_scheme[int(row[\"mouse_index\"])][len(event_types) - event_types.index(\"sd1\")]\n",
    "        color2 = color_scheme[int(row[\"mouse_index\"])][len(event_types) - event_types.index(\"sd2\")]\n",
    "        \n",
    "        # add data to list\n",
    "        mice_list.append(row[\"mouse_id\"])\n",
    "        arcs_list.append([theta1_mid, height1, theta1_width, bottom1, color1]) #[row[\"mouse_id\"]] = arc_data\n",
    "        mice_list.append(row[\"mouse_id\"])\n",
    "        arcs_list.append([theta2_mid, height2, theta2_width, bottom2, color2])\n",
    "        \n",
    "        r_out_sd1 -= 0.2\n",
    "        r_out_sd2 -= 0.2\n",
    "        \n",
    "        \n",
    "\n",
    "# sort by descending outer perimeter so all of them visible by plotting smaller on top of larger sectors\n",
    "for sector in sorted(arcs_list, key=lambda row: row[1], reverse=True):\n",
    "    ax.bar(x=sector[0], height=sector[1], width=sector[2], bottom=sector[3], color=sector[4], edgecolor=outline_color)\n",
    "\n",
    "\n",
    "#r = Rectangle((0., 0.), 100., 100, color=\"red\")\n",
    "#p = PatchCollection([Rectangle((np.deg2rad(20), 100), 45, 50, color='blue')])\n",
    "#ax.add_collection(p)\n",
    "\n",
    "# set the radial limits\n",
    "max_r = len(qdf[\"quantile_type\"].unique())-1#\n",
    "plot_length = False\n",
    "if plot_length:  # add scatter points for relative lengths\n",
    "    for i_length_marker in range(len(length_markers_list[0])):\n",
    "        theta = length_markers_list[0][i_length_marker]\n",
    "        r = length_markers_list[1][i_length_marker]\n",
    "        color = length_markers_list[2][i_length_marker]\n",
    "        ax.scatter(theta, r, color=color, s=40)# color=\"black\", s=20)\n",
    "    \n",
    "ax.set_ylim(0, max_r + 1)\n",
    "ax.set_rgrids(np.linspace(0, max_r+1, num=len(event_types)+1))\n",
    "ax.set_yticklabels([\"\"] + event_types)\n",
    "ax.set_xticklabels(['', '', 'medial/injection', '', '', '', 'lateral', ''], fontsize=20)  # top direction should be \"medial/injection\"\n",
    "\n",
    "    \n",
    "# display the plot\n",
    "plt.show()"
   ]
  },
  {
   "cell_type": "markdown",
   "id": "51c0ef0d",
   "metadata": {},
   "source": [
    "### Get sectors for all recordings individually"
   ]
  },
  {
   "cell_type": "code",
   "execution_count": null,
   "id": "4b6e85fe",
   "metadata": {},
   "outputs": [],
   "source": [
    "pt = qdf.pivot_table(index=[\"uuid_matched\", \"mouse_id\", \"mouse_index\"], columns=[\"quantile_type\"], values=[\"theta_inj_top\", \"r\"]).sort_values(by=[\"mouse_id\"])\n",
    "pt.loc[\"06ebcf354f5c41519669f187e16de364\"].index.values[0]"
   ]
  },
  {
   "cell_type": "code",
   "execution_count": null,
   "id": "dac51404",
   "metadata": {},
   "outputs": [],
   "source": [
    "pt"
   ]
  },
  {
   "cell_type": "code",
   "execution_count": null,
   "id": "24ccab96",
   "metadata": {},
   "outputs": [],
   "source": [
    "def getSectorAnglesForVectors(theta1, theta2, force_direction=False, direction=\"ccw\"):\n",
    "    # direction: cw for clockwise, ccw for counter-clockwise\n",
    "    dtheta = abs(theta1 - theta2)\n",
    "    if force_direction:\n",
    "        if direction == \"ccw\":\n",
    "            # to make only counter-clockwise sectors (from theta1 to theta2):\n",
    "            #  0. the width does not change, no matter in what interval the two angles are defined\n",
    "            theta_width = (theta2 - theta1)%(2*math.pi)\n",
    "            #  1. bring them to a form where theta2 > theta1\n",
    "            theta2_adjusted = (theta2)%(2*math.pi)\n",
    "            theta1_adjusted = (theta1)%(2*math.pi)\n",
    "            if theta2_adjusted < theta1_adjusted:  # need to swap to (-pi, pi) range\n",
    "                theta2_adjusted = (theta2_adjusted - math.pi)%(2*math.pi)\n",
    "                theta1_adjusted = (theta1_adjusted - math.pi)%(2*math.pi)\n",
    "            theta_mid= ((theta1 + theta2)/2)%(2*math.pi)\n",
    "        elif direction == \"cw\":\n",
    "            # clockwise sectors from theta1 to theta2. This means the signs are reversed\n",
    "            # bring the angles to a range where theta2 < theta1. Try (0, 2pi) and (-pi, pi)\n",
    "            theta2_adjusted = (theta2)%(2*math.pi)\n",
    "            theta1_adjusted = (theta1)%(2*math.pi)\n",
    "            if theta2_adjusted > theta1_adjusted:  # need to swap to (-pi, pi) range\n",
    "                theta2_adjusted = (theta2_adjusted - math.pi)%(2*math.pi)\n",
    "                theta1_adjusted = (theta1_adjusted - math.pi)%(2*math.pi)\n",
    "            theta_width = (theta1_adjusted - theta2_adjusted)%(2*math.pi)\n",
    "            theta_mid= ((theta1_adjusted + theta2_adjusted)/2)%(2*math.pi)\n",
    "    else:  # find smaller angle for sectors\n",
    "        theta_width = min(dtheta, 2*math.pi - dtheta)\n",
    "        if dtheta <= math.pi:  # can take angle as-is\n",
    "            theta_mid= (theta1 + theta2)/2 #np.deg2rad((theta1 + theta2)/2)\n",
    "        else:\n",
    "            # the middle angle clockwise needs to be mirrored around the origin. Done by subtracting pi.\n",
    "            theta_mid = (theta1 + theta2)/2 - math.pi\n",
    "    return (theta_mid, theta_width)\n",
    "\n"
   ]
  },
  {
   "cell_type": "code",
   "execution_count": null,
   "id": "7408a0eb",
   "metadata": {},
   "outputs": [],
   "source": [
    "sectors = []  # list of [theta_mid, height, theta_width, bottom, color]\n",
    "seizure_indicators = []  # list of (theta, r_max = height + r_0, color)\n",
    "r_0 = 0.2\n",
    "r_top = 0.4\n",
    "for indices, row in pt.iterrows(): # (uuid_matched, mouse_id, mouse_index), df[theta_inj_top/r][sz/sd1/sd2]\n",
    "    # get one or two sectors \n",
    "    # get sd1\n",
    "    theta_mid, theta_width = getSectorAnglesForVectors(row[\"theta_inj_top\"][\"sz\"], row[\"theta_inj_top\"][\"sd1\"], False, \"ccw\")\n",
    "    color = color_scheme[indices[2]][len(event_types) - event_types.index(\"sd1\")]\n",
    "    height = r_top - r_0\n",
    "    sectors.append([theta_mid, height, theta_width, r_0, color])\n",
    "    r_top += 0.2    \n",
    "    # get sd2 (if exists)\n",
    "    if not np.isnan(row[\"theta_inj_top\"][\"sd2\"]):\n",
    "        theta_mid, theta_width = getSectorAnglesForVectors(row[\"theta_inj_top\"][\"sz\"], row[\"theta_inj_top\"][\"sd2\"], False, \"ccw\")\n",
    "        color = color_scheme[indices[2]][len(event_types) - event_types.index(\"sd2\")]\n",
    "        height = r_top - r_0\n",
    "        sectors.append([theta_mid, height, theta_width, r_0, color])\n",
    "    # get seizure direction for showing as line\n",
    "    color = color_scheme[indices[2]][len(event_types) - event_types.index(\"sz\")]\n",
    "    seizure_indicators.append((row[\"theta_inj_top\"][\"sz\"], r_top, color))\n",
    "    r_top += 0.4\n",
    "    \n",
    "\n",
    "\n",
    "fig = plt.figure(figsize=(12,12))\n",
    "ax = fig.add_subplot(111, projection='polar')\n",
    "\n",
    "# sort by descending outer perimeter so all of them visible by plotting smaller on top of larger sectors\n",
    "i_sector = len(sectors) -1\n",
    "while i_sector > 0:\n",
    "    sector = sectors[i_sector]\n",
    "    ax.bar(x=sector[0], height=sector[1], width=sector[2], bottom=sector[3], color=sector[4], edgecolor=\"grey\")\n",
    "    i_sector -= 1\n",
    "# seizure direction\n",
    "for sz_ind in seizure_indicators:\n",
    "    ax.annotate('', xy=(sz_ind[0], sz_ind[1]), xytext=(0, 0),\n",
    "            arrowprops=dict(facecolor=\"black\", edgecolor='none', width=1, headwidth=4, alpha=0.9))\n",
    "# set the radial limits\n",
    "max_r = sectors[-1][1] + sectors[-1][3]\n",
    "\n",
    "ax.set_ylim(0, max_r)\n",
    "#ax.set_rgrids(np.linspace(0, max_r+1, num=len(event_types)+1))\n",
    "#ax.set_yticklabels([\"\"] + event_types)\n",
    "ax.set_xticklabels(['', '', 'medial/injection', '', '', '', 'lateral', ''], fontsize=20)  # top direction should be \"medial/injection\"\n",
    "\n",
    "    \n",
    "# display the plot\n",
    "plt.show()"
   ]
  },
  {
   "cell_type": "markdown",
   "id": "0a26b2a6",
   "metadata": {},
   "source": [
    "# Change seaborn parameters"
   ]
  },
  {
   "cell_type": "code",
   "execution_count": null,
   "id": "31a1ac5d",
   "metadata": {},
   "outputs": [],
   "source": [
    "sns.set(font_scale=1.5)"
   ]
  },
  {
   "cell_type": "markdown",
   "id": "2cce5406",
   "metadata": {},
   "source": [
    "## Bar plot angles"
   ]
  },
  {
   "cell_type": "code",
   "execution_count": null,
   "id": "4058897c",
   "metadata": {},
   "outputs": [],
   "source": [
    "df_angles_v2 = pd.DataFrame(angles_dict_v2)  # this dict contains sd1-sd2 angles too\n",
    "df_angles_v2[\"angle_deg\"] = df_angles_v2[\"angle\"].apply(lambda rad: 360.*rad/(2*math.pi))"
   ]
  },
  {
   "cell_type": "code",
   "execution_count": null,
   "id": "9f162eea",
   "metadata": {},
   "outputs": [],
   "source": [
    "fig = plt.figure(figsize=(12,8))\n",
    "sns.barplot(data=df_angles_v2, x=\"mouse_id\", y=\"angle_deg\", hue=\"angle_type\", errorbar=\"sd\")\n",
    "plt.show()"
   ]
  },
  {
   "cell_type": "code",
   "execution_count": null,
   "id": "421b6a8e",
   "metadata": {},
   "outputs": [],
   "source": [
    "fig = plt.figure(figsize=(6,8))\n",
    "sns.barplot(data=df_angles_v2, x=\"angle_type\", y=\"angle_deg\", errorbar=\"sd\")\n",
    "plt.show()"
   ]
  },
  {
   "cell_type": "code",
   "execution_count": null,
   "id": "d623b969",
   "metadata": {},
   "outputs": [],
   "source": [
    "df_angles_v2[\"angle_deg\"]"
   ]
  },
  {
   "cell_type": "markdown",
   "id": "d316ac5e",
   "metadata": {},
   "source": [
    "# Speed analysis"
   ]
  },
  {
   "cell_type": "markdown",
   "id": "a8895bef",
   "metadata": {},
   "source": [
    "## Seizure speed"
   ]
  },
  {
   "cell_type": "code",
   "execution_count": null,
   "id": "43ed739b",
   "metadata": {},
   "outputs": [],
   "source": [
    "#all_onsets_df[all_onsets_df[\"uuid\"] == \"171693d0988c458a96c8198c7b8cfc28\"]"
   ]
  },
  {
   "cell_type": "code",
   "execution_count": null,
   "id": "8e450f16",
   "metadata": {},
   "outputs": [],
   "source": [
    "onset_df_1 = pd.read_hdf(\"D:\\\\Analysis_v1\\\\T352\\\\thy6s_1.081219.1339_23-04-13_19-14-15_grid.h5\")"
   ]
  },
  {
   "cell_type": "code",
   "execution_count": null,
   "id": "895940a4",
   "metadata": {},
   "outputs": [],
   "source": [
    "comp_df = all_onsets_df[all_onsets_df[\"uuid\"] == \"79fb974821f34e3abdcf5ca650e1c0f4\"]"
   ]
  },
  {
   "cell_type": "markdown",
   "id": "87997675",
   "metadata": {},
   "source": [
    "onset_df_1.columns"
   ]
  },
  {
   "cell_type": "code",
   "execution_count": null,
   "id": "819cfd00",
   "metadata": {},
   "outputs": [],
   "source": [
    "# ['neuron_id', 'x', 'y', 'row', 'col', 'tile', 'onset1', 'onset2',\n",
    "#       'quantile1', 'quantile2', 'onset_sz', 'quantile_sz']\n",
    "comp_df[['neuron_id', 'row','col','tile']].describe()"
   ]
  },
  {
   "cell_type": "code",
   "execution_count": null,
   "id": "691746d6",
   "metadata": {},
   "outputs": [],
   "source": [
    "comp_df.drop(columns=['i_sz', 'mouse_id', 'uuid', 'uuid_extended']).columns#.describe()"
   ]
  },
  {
   "cell_type": "code",
   "execution_count": null,
   "id": "f5998674",
   "metadata": {},
   "outputs": [],
   "source": [
    "onset_df_1.describe()"
   ]
  },
  {
   "cell_type": "code",
   "execution_count": null,
   "id": "2886d7ef",
   "metadata": {},
   "outputs": [],
   "source": [
    "# get all grids. Shape = (n_events, *grid_shape)\n",
    "all_grids = np.zeros(shape=(3*len(all_onsets_df[\"uuid_extended\"].unique()), *grid_shape), dtype=np.float64)\n",
    "uuids = []"
   ]
  },
  {
   "cell_type": "code",
   "execution_count": null,
   "id": "94cc9f23",
   "metadata": {},
   "outputs": [],
   "source": [
    "for uuid_ext, session in all_onsets_df.groupby(\"uuid_extended\"):\n",
    "    events_in_session = session.groupby(\"tile\").median().pivot_table(index=\"row\",columns=\"col\",values=[\"onset1\", \"onset2\", \"onset_sz\"])\n",
    "    "
   ]
  },
  {
   "cell_type": "code",
   "execution_count": null,
   "id": "832fc933",
   "metadata": {},
   "outputs": [],
   "source": [
    "for i_group, group in all_onsets_df.groupby(\"uuid_extended\"):\n",
    "    group.groupby(\"tile\").median().pivot_table(index=\"row\",columns=\"col\",values=\"x\")"
   ]
  },
  {
   "cell_type": "code",
   "execution_count": null,
   "id": "5fe171da",
   "metadata": {},
   "outputs": [],
   "source": [
    "all_onsets_df.columns"
   ]
  },
  {
   "cell_type": "code",
   "execution_count": null,
   "id": "dc0203bd",
   "metadata": {},
   "outputs": [],
   "source": [
    "onset_df_1.groupby(\"tile\").median().pivot_table(index=\"row\",columns=\"col\",values=[\"onset1\", \"onset2\", \"onset_sz\"])"
   ]
  },
  {
   "cell_type": "code",
   "execution_count": null,
   "id": "f4ec6f0f",
   "metadata": {},
   "outputs": [],
   "source": [
    "all_onsets_df.groupby(\"tile\").median()#.pivot_table(index=\"row\",columns=\"col\",values=\"onset_sz\")"
   ]
  },
  {
   "cell_type": "code",
   "execution_count": null,
   "id": "6b7555fb",
   "metadata": {},
   "outputs": [],
   "source": [
    "f, ax = plt.subplots(figsize=(10, 10))\n",
    "plt.suptitle(f\"Seizure {i_sz+1}\")\n",
    "sns.heatmap(onset_df_1.groupby(\"tile\").median().pivot_table(index=\"row\",columns=\"col\",values=\"onset1\"), annot=False, linewidths=.5, ax=ax)\n",
    "#ax.invert_yaxis()\n",
    "#ax.invert_xaxis()\n",
    "plt.show()"
   ]
  },
  {
   "cell_type": "code",
   "execution_count": null,
   "id": "e2b050d6",
   "metadata": {},
   "outputs": [],
   "source": [
    "a = comp_df[\"x\"].reset_index()"
   ]
  },
  {
   "cell_type": "code",
   "execution_count": null,
   "id": "980d073d",
   "metadata": {},
   "outputs": [],
   "source": [
    "comp_df = comp_df.reset_index()"
   ]
  },
  {
   "cell_type": "code",
   "execution_count": null,
   "id": "96ea0750",
   "metadata": {},
   "outputs": [],
   "source": [
    "comp_df"
   ]
  },
  {
   "cell_type": "code",
   "execution_count": null,
   "id": "fe8caa7e",
   "metadata": {},
   "outputs": [],
   "source": [
    "comp_df[\"x\"] == onset_df_1[\"x\"]"
   ]
  },
  {
   "cell_type": "code",
   "execution_count": null,
   "id": "5fbcd81e",
   "metadata": {},
   "outputs": [],
   "source": [
    "comp_df"
   ]
  },
  {
   "cell_type": "code",
   "execution_count": null,
   "id": "0f146caf",
   "metadata": {},
   "outputs": [],
   "source": [
    "comp_df.describe(include='all')"
   ]
  },
  {
   "cell_type": "code",
   "execution_count": null,
   "id": "a7edf24f",
   "metadata": {},
   "outputs": [],
   "source": [
    "all_onsets_df.info()"
   ]
  },
  {
   "cell_type": "code",
   "execution_count": null,
   "id": "2b812dbd",
   "metadata": {},
   "outputs": [],
   "source": [
    "onset_df_1.info()"
   ]
  },
  {
   "cell_type": "code",
   "execution_count": null,
   "id": "2eb61d28",
   "metadata": {},
   "outputs": [],
   "source": []
  }
 ],
 "metadata": {
  "kernelspec": {
   "display_name": "Python 3 (ipykernel)",
   "language": "python",
   "name": "python3"
  },
  "language_info": {
   "codemirror_mode": {
    "name": "ipython",
    "version": 3
   },
   "file_extension": ".py",
   "mimetype": "text/x-python",
   "name": "python",
   "nbconvert_exporter": "python",
   "pygments_lexer": "ipython3",
   "version": "3.8.12"
  }
 },
 "nbformat": 4,
 "nbformat_minor": 5
}
