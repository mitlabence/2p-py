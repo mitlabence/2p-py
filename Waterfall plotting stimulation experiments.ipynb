{
 "cells": [
  {
   "cell_type": "code",
   "execution_count": null,
   "id": "82c44919",
   "metadata": {},
   "outputs": [],
   "source": [
    "#Auto-reload modules (used to develop functions outside this notebook)\n",
    "%load_ext autoreload\n",
    "%autoreload 2"
   ]
  },
  {
   "cell_type": "code",
   "execution_count": null,
   "id": "5913b211",
   "metadata": {},
   "outputs": [],
   "source": [
    "import h5py\n",
    "import numpy as np\n",
    "import labrotation.file_handling as fh\n",
    "import os\n",
    "import pandas as pd\n",
    "import labrotation.two_photon_session as tps\n",
    "import datadoc_util\n",
    "from mpl_toolkits.mplot3d import Axes3D\n",
    "from matplotlib.collections import PolyCollection\n",
    "import matplotlib.pyplot as plt\n",
    "import matplotlib.colors as mcolors\n",
    "from datetime import datetime as dt"
   ]
  },
  {
   "cell_type": "code",
   "execution_count": null,
   "id": "932d857f",
   "metadata": {},
   "outputs": [],
   "source": [
    "save_figs = True  # set to True to save the figures created\n",
    "save_as_eps = False\n",
    "if save_as_eps:\n",
    "    file_format = \".eps\"\n",
    "else:\n",
    "    file_format = \".jpg\"\n",
    "if save_figs:\n",
    "    print(f\"Going to save figures as {file_format} files.\")"
   ]
  },
  {
   "cell_type": "code",
   "execution_count": null,
   "id": "b4810648",
   "metadata": {},
   "outputs": [],
   "source": [
    "def get_datetime_for_fname():\n",
    "    now = dt.now()\n",
    "    return f\"{now.year:04d}{now.month:02d}{now.day:02d}-{now.hour:02d}{now.minute:02d}{now.second:02d}\""
   ]
  },
  {
   "cell_type": "code",
   "execution_count": null,
   "id": "7c4f7d81",
   "metadata": {},
   "outputs": [],
   "source": [
    "env_dict = dict()\n",
    "if not os.path.exists(\"./.env\"):\n",
    "    print(\".env does not exist\")\n",
    "else:\n",
    "    with open(\"./.env\", \"r\") as f:\n",
    "        for line in f.readlines():\n",
    "            l = line.rstrip().split(\"=\")\n",
    "            env_dict[l[0]] = l[1]\n",
    "print(env_dict.keys())"
   ]
  },
  {
   "cell_type": "code",
   "execution_count": null,
   "id": "700b2d52",
   "metadata": {},
   "outputs": [],
   "source": [
    "if \"DATA_DOCU_FOLDER\" in env_dict.keys():\n",
    "    data_docu_folder = env_dict[\"DATA_DOCU_FOLDER\"]\n",
    "else:\n",
    "    data_docu_folder = fh.open_dir(\"Open Data Documentation folder\")\n",
    "print(data_docu_folder)"
   ]
  },
  {
   "cell_type": "code",
   "execution_count": null,
   "id": "ad0c5ad5",
   "metadata": {},
   "outputs": [],
   "source": [
    "ddoc = datadoc_util.DataDocumentation(data_docu_folder)\n",
    "ddoc.loadDataDoc()"
   ]
  },
  {
   "cell_type": "code",
   "execution_count": null,
   "id": "d9708d81",
   "metadata": {},
   "outputs": [],
   "source": [
    "df_colors = ddoc.getColorings()"
   ]
  },
  {
   "cell_type": "code",
   "execution_count": null,
   "id": "d0a06f27",
   "metadata": {},
   "outputs": [],
   "source": [
    "dict_colors_mouse = df_colors[[\"mouse_id\", \"color\"]].to_dict(orient=\"list\")\n",
    "dict_colors_mouse = dict(zip(dict_colors_mouse[\"mouse_id\"], dict_colors_mouse[\"color\"]))"
   ]
  },
  {
   "cell_type": "code",
   "execution_count": null,
   "id": "6fa3d719",
   "metadata": {},
   "outputs": [],
   "source": [
    "ddoc.getSegmentsForUUID(\"04b8cfbfa1c347058bb139b4661edcf1\")"
   ]
  },
  {
   "cell_type": "code",
   "execution_count": null,
   "id": "20218a82",
   "metadata": {},
   "outputs": [],
   "source": [
    "used_mouse_ids = [\"OPI-2239\", \"WEZ-8917\", \"WEZ-8924\", \"WEZ-8922\"]"
   ]
  },
  {
   "cell_type": "code",
   "execution_count": null,
   "id": "3012a2a4",
   "metadata": {},
   "outputs": [],
   "source": []
  },
  {
   "cell_type": "code",
   "execution_count": null,
   "id": "1d8e135a",
   "metadata": {},
   "outputs": [],
   "source": [
    "event_traces_fpath = fh.open_file(\"Open .h5 file containing assembled traces for all seizures!\")\n",
    "print(event_traces_fpath)"
   ]
  },
  {
   "cell_type": "code",
   "execution_count": null,
   "id": "e303c082",
   "metadata": {},
   "outputs": [],
   "source": [
    "traces_dict = dict()  \n",
    "traces_meta_dict = dict()\n",
    "# first keys are event uuids, inside the following dataset names:\n",
    "# 'lfp_mov_t', 'lfp_mov_y', 'lfp_t', 'lfp_y', 'lv_dist', 'lv_rounds', \n",
    "# 'lv_running', 'lv_speed', 'lv_t_s', 'lv_totdist', 'mean_fluo'\n",
    "with h5py.File(event_traces_fpath, \"r\") as hf:\n",
    "    for uuid in hf.keys():\n",
    "        if hf[uuid].attrs[\"mouse_id\"] in used_mouse_ids:\n",
    "            session_dataset_dict = dict() \n",
    "            session_meta_dict = dict()\n",
    "            for dataset_name in hf[uuid].keys():\n",
    "                session_dataset_dict[dataset_name] = np.array(hf[uuid][dataset_name])\n",
    "            for attr_name in hf[uuid].attrs:\n",
    "                session_meta_dict[attr_name] = hf[uuid].attrs[attr_name]\n",
    "            traces_dict[uuid] = session_dataset_dict.copy()\n",
    "            traces_meta_dict[uuid] = session_meta_dict.copy()"
   ]
  },
  {
   "cell_type": "code",
   "execution_count": null,
   "id": "0d60ff4e",
   "metadata": {},
   "outputs": [],
   "source": [
    "exptype_wintype_id_dict = {}   # keys: experiment_type, window_type, mouse_id, value: [uuid1, uuid2, ...]\n",
    "for uuid in traces_meta_dict.keys():\n",
    "    exp_type = traces_meta_dict[uuid][\"exp_type\"]\n",
    "    win_type = traces_meta_dict[uuid][\"window_type\"]\n",
    "    mouse_id = traces_meta_dict[uuid][\"mouse_id\"]\n",
    "    if exp_type not in exptype_wintype_id_dict.keys():\n",
    "        exptype_wintype_id_dict[exp_type] = dict()\n",
    "    if win_type not in exptype_wintype_id_dict[exp_type].keys():\n",
    "        exptype_wintype_id_dict[exp_type][win_type] = dict()\n",
    "    if mouse_id not in exptype_wintype_id_dict[exp_type][win_type].keys():\n",
    "        exptype_wintype_id_dict[exp_type][win_type][mouse_id] = []  # list of uuids\n",
    "    exptype_wintype_id_dict[exp_type][win_type][mouse_id].append(uuid)"
   ]
  },
  {
   "cell_type": "code",
   "execution_count": null,
   "id": "83bc4f9b",
   "metadata": {},
   "outputs": [],
   "source": [
    "exptype_wintype_id_dict.keys()"
   ]
  },
  {
   "cell_type": "code",
   "execution_count": null,
   "id": "aeb70294",
   "metadata": {},
   "outputs": [],
   "source": [
    "df_colors"
   ]
  },
  {
   "cell_type": "code",
   "execution_count": null,
   "id": "562ccfa8",
   "metadata": {},
   "outputs": [],
   "source": [
    "AMPLITUDE = 100.0\n",
    "offset = 0\n",
    "fig = plt.figure(figsize=(18,18))\n",
    "mouse_ids = traces_dict.keys()\n",
    "prev_range = 0.0\n",
    "\n",
    "for exp_type in exptype_wintype_id_dict.keys():\n",
    "    for win_type in exptype_wintype_id_dict[exp_type].keys():\n",
    "        for mouse_id in exptype_wintype_id_dict[exp_type][win_type].keys():\n",
    "            for event_uuid in exptype_wintype_id_dict[exp_type][win_type][mouse_id]:\n",
    "                df_segments = ddoc.getSegmentsForUUID(event_uuid)\n",
    "                i_frame_stim_begin = df_segments[df_segments[\"interval_type\"] == \"stimulation\"].frame_begin.iloc[0] - 1\n",
    "                i_frame_stim_end = df_segments[df_segments[\"interval_type\"] == \"stimulation\"].frame_end.iloc[0] - 1  # in 1 indexing, inclusive\n",
    "                \n",
    "                nik_trace = traces_dict[event_uuid][\"mean_fluo\"]\n",
    "                \n",
    "                nik_trace[i_frame_stim_begin:i_frame_stim_end] = 1.2*max(nik_trace[i_frame_stim_end+1:])  # reduce stim amplitude\n",
    "                \n",
    "                min_nik = min(nik_trace)\n",
    "                max_nik = max(nik_trace)\n",
    "                \n",
    "                t = traces_dict[event_uuid][\"lv_t_s\"]\n",
    "                \n",
    "                color = df_colors[df_colors[\"mouse_id\"] == mouse_id].color.iloc[0]\n",
    "                plt.plot(t, AMPLITUDE*(nik_trace- min_nik)/(max_nik - min_nik)+offset, color=color)\n",
    "                offset+=1.1*AMPLITUDE\n",
    "                if (len(traces_dict[event_uuid][\"mean_fluo\"]) != 13483):\n",
    "                    print(f'{event_uuid}: {len(traces_dict[event_uuid][\"mean_fluo\"])}, {mouse_id}, {exp_type}')\n",
    "\n",
    "\n",
    "\n",
    "\n",
    "\n",
    "#plt.axis(\"off\")\n",
    "plt.yticks([])\n",
    "plt.xlabel(\"Time (s)\", fontsize=14)\n",
    "#plt.xlim((300, 460))  # 250, 500\n",
    "if save_figs:\n",
    "    out_fpath = f\"D:\\\\Downloads\\\\traces_normalized_{get_datetime_for_fname()}{file_format}\"\n",
    "    plt.savefig(out_fpath,bbox_inches='tight', dpi=300)\n",
    "    print(f\"Saved as {out_fpath}\")\n",
    "plt.show()"
   ]
  },
  {
   "cell_type": "markdown",
   "id": "65c2435f",
   "metadata": {},
   "source": [
    "### Plot Nik + Loco"
   ]
  },
  {
   "cell_type": "code",
   "execution_count": null,
   "id": "f5ba6ef4",
   "metadata": {},
   "outputs": [],
   "source": [
    "def plotNikLoco(exp_type, show_segments=True, bl_equal_post = True, n_bl_frames=4500):\n",
    "    AMPLITUDE = 100.0\n",
    "    offset = 0\n",
    "    \n",
    "    n_recordings_with_type =  0\n",
    "    for win_type in exptype_wintype_id_dict[exp_type].keys():\n",
    "        for mouse_id in exptype_wintype_id_dict[exp_type][win_type].keys():\n",
    "            for event_uuid in exptype_wintype_id_dict[exp_type][win_type][mouse_id]:\n",
    "                n_recordings_with_type += 1\n",
    "    fig = plt.figure(figsize=(18,n_recordings_with_type*3))\n",
    "    mouse_ids = traces_dict.keys()\n",
    "    prev_range = 0.0\n",
    "    for win_type in exptype_wintype_id_dict[exp_type].keys():\n",
    "        for mouse_id in exptype_wintype_id_dict[exp_type][win_type].keys(): \n",
    "            for event_uuid in exptype_wintype_id_dict[exp_type][win_type][mouse_id]:\n",
    "                df_segments = ddoc.getSegmentsForUUID(event_uuid)\n",
    "                i_frame_stim_begin = df_segments[df_segments[\"interval_type\"] == \"stimulation\"].frame_begin.iloc[0] - 1\n",
    "                i_frame_stim_end = df_segments[df_segments[\"interval_type\"] == \"stimulation\"].frame_end.iloc[0] - 1  # in 1 indexing, inclusive\n",
    "                \n",
    "                \n",
    "                \n",
    "                \n",
    "                nik_trace = traces_dict[event_uuid][\"mean_fluo\"]\n",
    "\n",
    "                nik_trace[i_frame_stim_begin:i_frame_stim_end] = 1.2*max(nik_trace[i_frame_stim_end+1:])  # reduce stim amplitude\n",
    "\n",
    "                min_nik = min(nik_trace)\n",
    "                max_nik = max(nik_trace)\n",
    "\n",
    "                t = traces_dict[event_uuid][\"lv_t_s\"]\n",
    "                \n",
    "                if show_segments:\n",
    "                    # get begin and end time points of baseline and post-stim segments \n",
    "                    i_frame_bl_end = i_frame_stim_begin\n",
    "                    i_frame_post_begin = i_frame_stim_end\n",
    "                    if n_bl_frames < i_frame_stim_begin:\n",
    "                        i_frame_bl_begin = i_frame_bl_end - n_bl_frames \n",
    "                    else:\n",
    "                        i_frame_bl_begin = 0\n",
    "                    if bl_equal_post:\n",
    "                        i_frame_post_end = i_frame_post_begin + n_bl_frames\n",
    "                    if not bl_equal_post or i_frame_post_end > len(nik_trace):\n",
    "                        i_frame_post_end = len(nik_trace) - 1\n",
    "                    # plot them\n",
    "                    plt.vlines(x=[t[i_frame_bl_begin], t[i_frame_bl_end], t[i_frame_post_begin], t[i_frame_post_end]], ymin = offset, ymax = offset+2.2*AMPLITUDE)\n",
    "\n",
    "                labview_trace = traces_dict[event_uuid][\"lv_speed\"]\n",
    "                min_lv = min(labview_trace)\n",
    "                max_lv = max(labview_trace)\n",
    "                plt.plot(t, AMPLITUDE*(labview_trace - min_lv)/(max_lv - min_lv)+offset, color=\"black\")\n",
    "                offset +=1.1*AMPLITUDE\n",
    "                \n",
    "                \n",
    "\n",
    "                color = df_colors[df_colors[\"mouse_id\"] == mouse_id].color.iloc[0]\n",
    "                plt.plot(t, AMPLITUDE*(nik_trace- min_nik)/(max_nik - min_nik)+offset, color=color)\n",
    "                offset+=1.1*AMPLITUDE\n",
    "\n",
    "                \n",
    "\n",
    "\n",
    "\n",
    "                if (len(traces_dict[event_uuid][\"mean_fluo\"]) != 13483):\n",
    "                    print(f'{event_uuid}: {len(traces_dict[event_uuid][\"mean_fluo\"])}, {mouse_id}, {exp_type}')\n",
    "\n",
    "\n",
    "\n",
    "\n",
    "    print(f\"Total: {n_recordings_with_type} traces\")\n",
    "    plt.suptitle(exp_type, fontsize=22)\n",
    "    #plt.axis(\"off\")\n",
    "    plt.yticks([])\n",
    "    plt.xlabel(\"Time (s)\", fontsize=14)\n",
    "    plt.tight_layout()\n",
    "    #plt.xlim((300, 460))  # 250, 500\n",
    "    if save_figs:\n",
    "        out_fpath = f\"D:\\\\Downloads\\\\traces_normalized_{exp_type}_{get_datetime_for_fname()}{file_format}\"\n",
    "        plt.savefig(out_fpath,bbox_inches='tight', dpi=300)\n",
    "        print(f\"Saved as {out_fpath}\")\n",
    "    plt.show()\n",
    "    "
   ]
  },
  {
   "cell_type": "code",
   "execution_count": null,
   "id": "ea9fdb58",
   "metadata": {},
   "outputs": [],
   "source": [
    "def compareLoco(exp_type):\n",
    "    AMPLITUDE = 100.0\n",
    "    offset = 0\n",
    "    n_recordings_with_type =  0\n",
    "    for win_type in exptype_wintype_id_dict[exp_type].keys():\n",
    "        for mouse_id in exptype_wintype_id_dict[exp_type][win_type].keys():\n",
    "            for event_uuid in exptype_wintype_id_dict[exp_type][win_type][mouse_id]:\n",
    "                n_recordings_with_type += 1\n",
    "    fig = plt.figure(figsize=(18,n_recordings_with_type*3))\n",
    "    mouse_ids = traces_dict.keys()\n",
    "    prev_range = 0.0\n",
    "    for win_type in exptype_wintype_id_dict[exp_type].keys():\n",
    "        for mouse_id in exptype_wintype_id_dict[exp_type][win_type].keys():\n",
    "            for event_uuid in exptype_wintype_id_dict[exp_type][win_type][mouse_id]:\n",
    "                df_segments = ddoc.getSegmentsForUUID(event_uuid)\n",
    "                i_frame_stim_begin = df_segments[df_segments[\"interval_type\"] == \"stimulation\"].frame_begin.iloc[0] - 1\n",
    "                i_frame_stim_end = df_segments[df_segments[\"interval_type\"] == \"stimulation\"].frame_end.iloc[0] - 1  # in 1 indexing, inclusive\n",
    "\n",
    "                lfp_mov_trace = traces_dict[event_uuid][\"lfp_mov_y\"]\n",
    "                t_lfp = traces_dict[event_uuid][\"lfp_mov_t\"]\n",
    "                lfp_min = min(lfp_mov_trace)\n",
    "                lfp_max = max(lfp_mov_trace)\n",
    "                \n",
    "\n",
    "                t = traces_dict[event_uuid][\"lv_t_s\"]\n",
    "\n",
    "\n",
    "\n",
    "                labview_trace = traces_dict[event_uuid][\"lv_speed\"]\n",
    "                min_lv = min(labview_trace[10:])\n",
    "                max_lv = max(labview_trace[10:])\n",
    "                plt.plot(t_lfp, AMPLITUDE*(lfp_mov_trace - lfp_min)/(lfp_max - lfp_min)+offset, color=\"black\")\n",
    "                offset +=1.1*AMPLITUDE\n",
    "\n",
    "                if t[0] +1000 < t_lfp[0]:\n",
    "                    print(f\"{event_uuid} {mouse_id}\")\n",
    "                    \n",
    "                \n",
    "                color = df_colors[df_colors[\"mouse_id\"] == mouse_id].color.iloc[0]\n",
    "                plt.plot(t, AMPLITUDE*(labview_trace- min_lv)/(max_lv - min_lv)+offset, color=color)\n",
    "                offset+=1.1*AMPLITUDE\n",
    "\n",
    "\n",
    "\n",
    "\n",
    "\n",
    "                if (len(traces_dict[event_uuid][\"mean_fluo\"]) != 13483):\n",
    "                    print(f'{event_uuid}: {len(traces_dict[event_uuid][\"mean_fluo\"])}, {mouse_id}, {exp_type}')\n",
    "\n",
    "\n",
    "\n",
    "\n",
    "\n",
    "    #plt.axis(\"off\")\n",
    "    plt.suptitle(exp_type, fontsize=22)\n",
    "    plt.yticks([])\n",
    "    plt.xlabel(\"Time (s)\", fontsize=14)\n",
    "    #plt.xlim((300, 460))  # 250, 500\n",
    "    plt.tight_layout()\n",
    "    if save_figs:\n",
    "        out_fpath = f\"D:\\\\Downloads\\\\traces_normalized_{get_datetime_for_fname()}{file_format}\"\n",
    "        plt.savefig(out_fpath,bbox_inches='tight', dpi=300)\n",
    "        print(f\"Saved as {out_fpath}\")\n",
    "    plt.show()"
   ]
  },
  {
   "cell_type": "code",
   "execution_count": null,
   "id": "e42f7c07",
   "metadata": {},
   "outputs": [],
   "source": [
    "exptype_wintype_id_dict.keys()"
   ]
  },
  {
   "cell_type": "code",
   "execution_count": null,
   "id": "310c9628",
   "metadata": {},
   "outputs": [],
   "source": [
    "plotNikLoco(\"chr2_ctl\")"
   ]
  },
  {
   "cell_type": "markdown",
   "id": "6de297c6",
   "metadata": {},
   "source": [
    "## Compare LFP and LabView loco to check time matching"
   ]
  },
  {
   "cell_type": "code",
   "execution_count": null,
   "id": "2f8d2456",
   "metadata": {},
   "outputs": [],
   "source": [
    "compareLoco(\"chr2_sd\")"
   ]
  },
  {
   "cell_type": "code",
   "execution_count": null,
   "id": "6c39699a",
   "metadata": {},
   "outputs": [],
   "source": []
  }
 ],
 "metadata": {
  "kernelspec": {
   "display_name": "Python 3 (ipykernel)",
   "language": "python",
   "name": "python3"
  },
  "language_info": {
   "codemirror_mode": {
    "name": "ipython",
    "version": 3
   },
   "file_extension": ".py",
   "mimetype": "text/x-python",
   "name": "python",
   "nbconvert_exporter": "python",
   "pygments_lexer": "ipython3",
   "version": "3.8.12"
  }
 },
 "nbformat": 4,
 "nbformat_minor": 5
}
