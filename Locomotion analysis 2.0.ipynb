{
 "cells": [
  {
   "cell_type": "code",
   "execution_count": null,
   "id": "88fda4ef",
   "metadata": {},
   "outputs": [],
   "source": [
    "#Auto-reload modules (used to develop functions outside this notebook)\n",
    "%load_ext autoreload\n",
    "%autoreload 2"
   ]
  },
  {
   "cell_type": "code",
   "execution_count": null,
   "id": "558e1adc",
   "metadata": {},
   "outputs": [],
   "source": [
    "import labrotation.file_handling as fh\n",
    "import h5py\n",
    "from time import time\n",
    "import matplotlib.pyplot as plt\n",
    "import numpy as np\n",
    "import os\n",
    "from labrotation import file_handling as fh\n",
    "from copy import deepcopy\n",
    "import pandas as pd\n",
    "import labrotation.two_photon_session as tps\n",
    "import seaborn as sns\n",
    "import uuid  # for unique labeling of sessions and coupling arrays (mouse velocity, distance, ...) to sessions in dataframe \n",
    "from matplotlib import cm  # colormap\n",
    "import datadoc_util"
   ]
  },
  {
   "cell_type": "markdown",
   "id": "7819367b",
   "metadata": {},
   "source": [
    "# If exists, load environmental variables from .env file"
   ]
  },
  {
   "cell_type": "code",
   "execution_count": null,
   "id": "f9e04e41",
   "metadata": {},
   "outputs": [],
   "source": [
    "env_dict = dict()\n",
    "if not os.path.exists(\"./.env\"):\n",
    "    print(\".env does not exist\")\n",
    "else:\n",
    "    with open(\"./.env\", \"r\") as f:\n",
    "        for line in f.readlines():\n",
    "            l = line.rstrip().split(\"=\")\n",
    "            env_dict[l[0]] = l[1]\n",
    "print(env_dict.keys())"
   ]
  },
  {
   "cell_type": "markdown",
   "id": "7fb38a7a",
   "metadata": {},
   "source": [
    "# Set up data documentation directory"
   ]
  },
  {
   "cell_type": "code",
   "execution_count": null,
   "id": "a5c3c087",
   "metadata": {},
   "outputs": [],
   "source": [
    "# assumption: inside the documentation folder, the subfolders carry the id of each mouse (not exact necessarily, but they \n",
    "# can be identified by the name of the subfolder). \n",
    "# Inside the subfolder xy (for mouse xy), xy_grouping.xlsx and xy_segmentation.xlsx can be found.\n",
    "# xy_grouping.xlsx serves the purpose of finding the recordings belonging together, and has columns:\n",
    "# folder, nd2, labview, lfp, face_cam_last, nikon_meta, experiment_type, day\n",
    "# xy_segmentation.xlsx contains frame-by-frame (given by a set of disjoint intervals forming a cover for the whole recording) \n",
    "# classification of the events in the recording (\"normal\", seizure (\"sz\"), sd wave (\"sd_wave\") etc.). The columns:\n",
    "# folder, interval_type, frame_begin, frame_end.\n",
    "\n",
    "# TODO: write documentation on contents of xlsx files (what the columns are etc.)\n",
    "if \"DATA_DOCU_FOLDER\" in env_dict.keys():\n",
    "    docu_folder = env_dict[\"DATA_DOCU_FOLDER\"]\n",
    "else:\n",
    "    docu_folder = fh.open_dir(\"Choose folder containing folders for each mouse!\")\n",
    "print(f\"Selected folder:\\n\\t{docu_folder}\")"
   ]
  },
  {
   "cell_type": "code",
   "execution_count": null,
   "id": "281247a0",
   "metadata": {},
   "outputs": [],
   "source": [
    "if \"documentation\" in os.listdir(docu_folder):\n",
    "    mouse_folder = os.path.join(docu_folder, \"documentation\")\n",
    "else:\n",
    "    mouse_folder = docu_folder\n",
    "mouse_names = os.listdir(mouse_folder)\n",
    "print(f\"Mice detected:\")\n",
    "for mouse in mouse_names:\n",
    "    print(f\"\\t{mouse}\")"
   ]
  },
  {
   "cell_type": "code",
   "execution_count": null,
   "id": "b83c102f",
   "metadata": {},
   "outputs": [],
   "source": [
    "mouse_folder"
   ]
  },
  {
   "cell_type": "markdown",
   "id": "71d19fcd",
   "metadata": {},
   "source": [
    "### Load matlab-2p"
   ]
  },
  {
   "cell_type": "code",
   "execution_count": null,
   "id": "208d00a4",
   "metadata": {},
   "outputs": [],
   "source": [
    "if \"MATLAB_2P_FOLDER\" in env_dict.keys():\n",
    "    matlab_2p_folder = env_dict[\"MATLAB_2P_FOLDER\"]\n",
    "else:\n",
    "    matlab_2p_folder = fh.open_dir(\"Choose matlab-2p folder\")\n",
    "print(f\"matlab-2p folder set to:\\n\\t{matlab_2p_folder}\")"
   ]
  },
  {
   "cell_type": "code",
   "execution_count": null,
   "id": "57ee0a90",
   "metadata": {},
   "outputs": [],
   "source": [
    "df_seg_complete = pd.DataFrame(columns = [\"nd2\", \"interval_type\", \"frame_begin\", \"frame_end\"])\n",
    "df_grouping_complete = pd.DataFrame(columns = [\"folder\", \"nd2\", \"labview\", \"lfp\", \"face_cam_last\", \"nikon_meta\", \"experiment_type\", \"mouse_id\", \"day\"])\n",
    "\n",
    "for mouse_id in mouse_names:\n",
    "    print(mouse_id)\n",
    "    seg_fpath = os.path.join(mouse_folder, mouse_id, mouse_id + '_segmentation.xlsx')\n",
    "    grouping_fpath = os.path.join(mouse_folder, mouse_id, mouse_id + '_grouping.xlsx')\n",
    "    if os.path.exists(seg_fpath) and os.path.exists(grouping_fpath):\n",
    "        df_seg = pd.read_excel(seg_fpath)\n",
    "        df_grouping = pd.read_excel(grouping_fpath)\n",
    "        df_grouping[\"mouse_id\"] = mouse_id\n",
    "        # select only tmev, chr2_szsd, chr2_sd, chr2_ctl experiment data first\n",
    "        df_grouping = df_grouping[df_grouping[\"experiment_type\"].isin([\"tmev\", \"tmev_ctl\", \"chr2_sd\", \"chr2_szsd\", \"chr2_ctl\"])]\n",
    "        # merge into large dataframes\n",
    "        # print(f\"\\tseg bef: {len(df_seg_complete['nd2'])}\")\n",
    "        df_seg_complete = pd.concat([df_seg_complete, df_seg])\n",
    "        # print(f\"\\tseg aft: {len(df_seg_complete['nd2'])}\")\n",
    "        # print(f\"\\tgro bef: {len(df_grouping_complete['nd2'])}\")\n",
    "        df_grouping_complete = pd.concat([df_grouping_complete, df_grouping])\n",
    "        # print(f\"\\tgro aft: {len(df_grouping_complete['nd2'])}\")\n",
    "    else:\n",
    "        print(f\"Check if you set the correct folder (folder containing all subfolders with mouse names):\")\n",
    "        if not os.path.exists(seg_fpath):\n",
    "            print(f\"\\t{seg_fpath} not found\")\n",
    "        if not os.path.exists(grouping_fpath):\n",
    "            print(f\"\\t{grouping_fpath} not found\")\n",
    "        "
   ]
  },
  {
   "cell_type": "code",
   "execution_count": null,
   "id": "3c4c54e1",
   "metadata": {},
   "outputs": [],
   "source": []
  }
 ],
 "metadata": {
  "kernelspec": {
   "display_name": "Python 3 (ipykernel)",
   "language": "python",
   "name": "python3"
  },
  "language_info": {
   "codemirror_mode": {
    "name": "ipython",
    "version": 3
   },
   "file_extension": ".py",
   "mimetype": "text/x-python",
   "name": "python",
   "nbconvert_exporter": "python",
   "pygments_lexer": "ipython3",
   "version": "3.8.12"
  }
 },
 "nbformat": 4,
 "nbformat_minor": 5
}
