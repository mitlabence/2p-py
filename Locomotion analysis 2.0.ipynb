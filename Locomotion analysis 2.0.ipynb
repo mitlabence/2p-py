{
 "cells": [
  {
   "cell_type": "code",
   "execution_count": 1,
   "id": "88fda4ef",
   "metadata": {},
   "outputs": [],
   "source": [
    "#Auto-reload modules (used to develop functions outside this notebook)\n",
    "%load_ext autoreload\n",
    "%autoreload 2"
   ]
  },
  {
   "cell_type": "code",
   "execution_count": 2,
   "id": "558e1adc",
   "metadata": {},
   "outputs": [],
   "source": [
    "import labrotation.file_handling as fh\n",
    "import h5py\n",
    "from time import time\n",
    "import matplotlib.pyplot as plt\n",
    "import numpy as np\n",
    "import os\n",
    "from labrotation import file_handling as fh\n",
    "from copy import deepcopy\n",
    "import pandas as pd\n",
    "import labrotation.two_photon_session as tps\n",
    "import seaborn as sns\n",
    "import uuid  # for unique labeling of sessions and coupling arrays (mouse velocity, distance, ...) to sessions in dataframe \n",
    "from matplotlib import cm  # colormap\n",
    "import datadoc_util\n",
    "from labrotation import two_photon_session as tps"
   ]
  },
  {
   "cell_type": "markdown",
   "id": "7819367b",
   "metadata": {},
   "source": [
    "# If exists, load environmental variables from .env file"
   ]
  },
  {
   "cell_type": "code",
   "execution_count": 3,
   "id": "f9e04e41",
   "metadata": {},
   "outputs": [
    {
     "name": "stdout",
     "output_type": "stream",
     "text": [
      "dict_keys(['DATA_DOCU_FOLDER', 'DOWNLOADS_FOLDER', 'LOG_FOLDER', 'MATLAB_2P_FOLDER', 'FLUO_LV_MATCHED_FOLDER'])\n"
     ]
    }
   ],
   "source": [
    "env_dict = dict()\n",
    "if not os.path.exists(\"./.env\"):\n",
    "    print(\".env does not exist\")\n",
    "else:\n",
    "    with open(\"./.env\", \"r\") as f:\n",
    "        for line in f.readlines():\n",
    "            l = line.rstrip().split(\"=\")\n",
    "            env_dict[l[0]] = l[1]\n",
    "print(env_dict.keys())"
   ]
  },
  {
   "cell_type": "markdown",
   "id": "7fb38a7a",
   "metadata": {},
   "source": [
    "# Set up data documentation directory"
   ]
  },
  {
   "cell_type": "code",
   "execution_count": 4,
   "id": "a5c3c087",
   "metadata": {},
   "outputs": [
    {
     "name": "stdout",
     "output_type": "stream",
     "text": [
      "Selected folder:\n",
      "\tD:\\PhD\\Data documentation\n"
     ]
    }
   ],
   "source": [
    "# assumption: inside the documentation folder, the subfolders carry the id of each mouse (not exact necessarily, but they \n",
    "# can be identified by the name of the subfolder). \n",
    "# Inside the subfolder xy (for mouse xy), xy_grouping.xlsx and xy_segmentation.xlsx can be found.\n",
    "# xy_grouping.xlsx serves the purpose of finding the recordings belonging together, and has columns:\n",
    "# folder, nd2, labview, lfp, face_cam_last, nikon_meta, experiment_type, day\n",
    "# xy_segmentation.xlsx contains frame-by-frame (given by a set of disjoint intervals forming a cover for the whole recording) \n",
    "# classification of the events in the recording (\"normal\", seizure (\"sz\"), sd wave (\"sd_wave\") etc.). The columns:\n",
    "# folder, interval_type, frame_begin, frame_end.\n",
    "\n",
    "# TODO: write documentation on contents of xlsx files (what the columns are etc.)\n",
    "if \"DATA_DOCU_FOLDER\" in env_dict.keys():\n",
    "    docu_folder = env_dict[\"DATA_DOCU_FOLDER\"]\n",
    "else:\n",
    "    docu_folder = fh.open_dir(\"Choose folder containing folders for each mouse!\")\n",
    "print(f\"Selected folder:\\n\\t{docu_folder}\")"
   ]
  },
  {
   "cell_type": "code",
   "execution_count": 5,
   "id": "281247a0",
   "metadata": {},
   "outputs": [
    {
     "name": "stdout",
     "output_type": "stream",
     "text": [
      "Mice detected:\n",
      "\tT301\n",
      "\tT303\n",
      "\tT324\n",
      "\tT329\n",
      "\tT333\n",
      "\tT337\n",
      "\tT352\n",
      "\tT370\n",
      "\tT386\n",
      "\tT391\n",
      "\tT396\n",
      "\tT452\n",
      "\tT534\n"
     ]
    }
   ],
   "source": [
    "if \"documentation\" in os.listdir(docu_folder):\n",
    "    mouse_folder = os.path.join(docu_folder, \"documentation\")\n",
    "else:\n",
    "    mouse_folder = docu_folder\n",
    "mouse_names = os.listdir(mouse_folder)\n",
    "print(f\"Mice detected:\")\n",
    "for mouse in mouse_names:\n",
    "    print(f\"\\t{mouse}\")"
   ]
  },
  {
   "cell_type": "code",
   "execution_count": 6,
   "id": "b83c102f",
   "metadata": {},
   "outputs": [
    {
     "data": {
      "text/plain": [
       "'D:\\\\PhD\\\\Data documentation\\\\documentation'"
      ]
     },
     "execution_count": 6,
     "metadata": {},
     "output_type": "execute_result"
    }
   ],
   "source": [
    "mouse_folder"
   ]
  },
  {
   "cell_type": "markdown",
   "id": "71d19fcd",
   "metadata": {},
   "source": [
    "### Load matlab-2p"
   ]
  },
  {
   "cell_type": "code",
   "execution_count": 7,
   "id": "208d00a4",
   "metadata": {},
   "outputs": [
    {
     "name": "stdout",
     "output_type": "stream",
     "text": [
      "matlab-2p folder set to:\n",
      "\tD:\\PhD\\matlab-2p\n"
     ]
    }
   ],
   "source": [
    "if \"MATLAB_2P_FOLDER\" in env_dict.keys():\n",
    "    matlab_2p_folder = env_dict[\"MATLAB_2P_FOLDER\"]\n",
    "else:\n",
    "    matlab_2p_folder = fh.open_dir(\"Choose matlab-2p folder\")\n",
    "print(f\"matlab-2p folder set to:\\n\\t{matlab_2p_folder}\")"
   ]
  },
  {
   "cell_type": "code",
   "execution_count": 8,
   "id": "57ee0a90",
   "metadata": {},
   "outputs": [
    {
     "name": "stdout",
     "output_type": "stream",
     "text": [
      "T301\n",
      "T303\n",
      "T324\n",
      "T329\n",
      "T333\n",
      "T337\n",
      "T352\n",
      "T370\n",
      "T386\n",
      "T391\n",
      "T396\n",
      "T452\n",
      "T534\n"
     ]
    }
   ],
   "source": [
    "df_seg_complete = pd.DataFrame(columns = [\"nd2\", \"interval_type\", \"frame_begin\", \"frame_end\"])\n",
    "df_grouping_complete = pd.DataFrame(columns = [\"folder\", \"nd2\", \"labview\", \"lfp\", \"face_cam_last\", \"nikon_meta\", \"experiment_type\", \"mouse_id\", \"day\"])\n",
    "\n",
    "for mouse_id in mouse_names:\n",
    "    print(mouse_id)\n",
    "    seg_fpath = os.path.join(mouse_folder, mouse_id, mouse_id + '_segmentation.xlsx')\n",
    "    grouping_fpath = os.path.join(mouse_folder, mouse_id, mouse_id + '_grouping.xlsx')\n",
    "    if os.path.exists(seg_fpath) and os.path.exists(grouping_fpath):\n",
    "        df_seg = pd.read_excel(seg_fpath)\n",
    "        df_grouping = pd.read_excel(grouping_fpath)\n",
    "        df_grouping[\"mouse_id\"] = mouse_id\n",
    "        # select only tmev, chr2_szsd, chr2_sd, chr2_ctl experiment data first\n",
    "        df_grouping = df_grouping[df_grouping[\"experiment_type\"].isin([\"tmev\", \"tmev_ctl\", \"chr2_sd\", \"chr2_szsd\", \"chr2_ctl\"])]\n",
    "        # merge into large dataframes\n",
    "        # print(f\"\\tseg bef: {len(df_seg_complete['nd2'])}\")\n",
    "        df_seg_complete = pd.concat([df_seg_complete, df_seg])\n",
    "        # print(f\"\\tseg aft: {len(df_seg_complete['nd2'])}\")\n",
    "        # print(f\"\\tgro bef: {len(df_grouping_complete['nd2'])}\")\n",
    "        df_grouping_complete = pd.concat([df_grouping_complete, df_grouping])\n",
    "        # print(f\"\\tgro aft: {len(df_grouping_complete['nd2'])}\")\n",
    "    else:\n",
    "        print(f\"Check if you set the correct folder (folder containing all subfolders with mouse names):\")\n",
    "        if not os.path.exists(seg_fpath):\n",
    "            print(f\"\\t{seg_fpath} not found\")\n",
    "        if not os.path.exists(grouping_fpath):\n",
    "            print(f\"\\t{grouping_fpath} not found\")\n",
    "        "
   ]
  },
  {
   "cell_type": "code",
   "execution_count": 9,
   "id": "3c4c54e1",
   "metadata": {},
   "outputs": [],
   "source": [
    "ddoc = datadoc_util.DataDocumentation(docu_folder)\n",
    "ddoc.loadDataDoc()"
   ]
  },
  {
   "cell_type": "code",
   "execution_count": 10,
   "id": "f96ea948",
   "metadata": {},
   "outputs": [],
   "source": [
    "# take only recordings that were classified as \"tmev\" (experiment type)\n",
    "df_seg_complete.where(df_seg_complete[\"nd2\"].isin(df_grouping_complete[\"nd2\"].unique()), inplace=True)\n",
    "# wrong recording types changed to NaN; drop them\n",
    "df_seg_complete.dropna(inplace=True)"
   ]
  },
  {
   "cell_type": "markdown",
   "id": "e28e18c2",
   "metadata": {},
   "source": [
    "# Pre-/post-ictal locomotion"
   ]
  },
  {
   "cell_type": "code",
   "execution_count": 11,
   "id": "5390ba79",
   "metadata": {},
   "outputs": [],
   "source": [
    "# take only videos with seizure\n",
    "df_sz_movies = df_seg_complete.groupby(\"nd2\").filter(lambda group: \"sz\" in group[\"interval_type\"].unique())"
   ]
  },
  {
   "cell_type": "markdown",
   "id": "1c519773",
   "metadata": {},
   "source": [
    "## Add uuid"
   ]
  },
  {
   "cell_type": "code",
   "execution_count": 12,
   "id": "02aa342a",
   "metadata": {},
   "outputs": [],
   "source": [
    "df_sz_movies = pd.merge(df_sz_movies, ddoc.getNikonFileNameUuid().dropna(), on=\"nd2\")"
   ]
  },
  {
   "cell_type": "markdown",
   "id": "7d4a3797",
   "metadata": {},
   "source": [
    "### Filter for only tmev-type recording"
   ]
  },
  {
   "cell_type": "code",
   "execution_count": 13,
   "id": "785d76f2",
   "metadata": {},
   "outputs": [],
   "source": [
    "df_sz_movies[\"type\"] = df_sz_movies.apply(lambda row: df_grouping_complete[df_grouping_complete[\"uuid\"] == row[\"uuid\"]].experiment_type.values[0], axis=1)"
   ]
  },
  {
   "cell_type": "code",
   "execution_count": 14,
   "id": "7ff7d9e9",
   "metadata": {},
   "outputs": [],
   "source": [
    "df_sz_movies = df_sz_movies[df_sz_movies[\"type\"] == \"tmev\"]"
   ]
  },
  {
   "cell_type": "markdown",
   "id": "5e62fd10",
   "metadata": {},
   "source": [
    "### Add previous recording to cases where seizure starts on frame 1"
   ]
  },
  {
   "cell_type": "code",
   "execution_count": 15,
   "id": "8e754dae",
   "metadata": {},
   "outputs": [
    {
     "data": {
      "text/html": [
       "<div>\n",
       "<style scoped>\n",
       "    .dataframe tbody tr th:only-of-type {\n",
       "        vertical-align: middle;\n",
       "    }\n",
       "\n",
       "    .dataframe tbody tr th {\n",
       "        vertical-align: top;\n",
       "    }\n",
       "\n",
       "    .dataframe thead th {\n",
       "        text-align: right;\n",
       "    }\n",
       "</style>\n",
       "<table border=\"1\" class=\"dataframe\">\n",
       "  <thead>\n",
       "    <tr style=\"text-align: right;\">\n",
       "      <th></th>\n",
       "      <th>nd2</th>\n",
       "      <th>interval_type</th>\n",
       "      <th>frame_begin</th>\n",
       "      <th>frame_end</th>\n",
       "      <th>uuid</th>\n",
       "      <th>type</th>\n",
       "    </tr>\n",
       "  </thead>\n",
       "  <tbody>\n",
       "    <tr>\n",
       "      <th>0</th>\n",
       "      <td>T301_tmev_d1.270820.1151.nd2</td>\n",
       "      <td>normal</td>\n",
       "      <td>1</td>\n",
       "      <td>8672</td>\n",
       "      <td>a6099849121f44ccbec237037971ab57</td>\n",
       "      <td>tmev</td>\n",
       "    </tr>\n",
       "    <tr>\n",
       "      <th>1</th>\n",
       "      <td>T301_tmev_d1.270820.1151.nd2</td>\n",
       "      <td>sz</td>\n",
       "      <td>8673</td>\n",
       "      <td>9147</td>\n",
       "      <td>a6099849121f44ccbec237037971ab57</td>\n",
       "      <td>tmev</td>\n",
       "    </tr>\n",
       "    <tr>\n",
       "      <th>2</th>\n",
       "      <td>T301_tmev_d1.270820.1151.nd2</td>\n",
       "      <td>sd_wave</td>\n",
       "      <td>9148</td>\n",
       "      <td>9231</td>\n",
       "      <td>a6099849121f44ccbec237037971ab57</td>\n",
       "      <td>tmev</td>\n",
       "    </tr>\n",
       "    <tr>\n",
       "      <th>3</th>\n",
       "      <td>T301_tmev_d1.270820.1151.nd2</td>\n",
       "      <td>sd_wave</td>\n",
       "      <td>9232</td>\n",
       "      <td>9301</td>\n",
       "      <td>a6099849121f44ccbec237037971ab57</td>\n",
       "      <td>tmev</td>\n",
       "    </tr>\n",
       "    <tr>\n",
       "      <th>4</th>\n",
       "      <td>T301_tmev_d1.270820.1151.nd2</td>\n",
       "      <td>sd_extinction</td>\n",
       "      <td>9302</td>\n",
       "      <td>10307</td>\n",
       "      <td>a6099849121f44ccbec237037971ab57</td>\n",
       "      <td>tmev</td>\n",
       "    </tr>\n",
       "    <tr>\n",
       "      <th>...</th>\n",
       "      <td>...</td>\n",
       "      <td>...</td>\n",
       "      <td>...</td>\n",
       "      <td>...</td>\n",
       "      <td>...</td>\n",
       "      <td>...</td>\n",
       "    </tr>\n",
       "    <tr>\n",
       "      <th>781</th>\n",
       "      <td>T534_tmev_d2_extra_20220816_002.nd2</td>\n",
       "      <td>sz</td>\n",
       "      <td>4611</td>\n",
       "      <td>5301</td>\n",
       "      <td>757c430daa2349e198ddefa7a0277769</td>\n",
       "      <td>tmev</td>\n",
       "    </tr>\n",
       "    <tr>\n",
       "      <th>782</th>\n",
       "      <td>T534_tmev_d2_extra_20220816_002.nd2</td>\n",
       "      <td>normal</td>\n",
       "      <td>5302</td>\n",
       "      <td>17978</td>\n",
       "      <td>757c430daa2349e198ddefa7a0277769</td>\n",
       "      <td>tmev</td>\n",
       "    </tr>\n",
       "    <tr>\n",
       "      <th>783</th>\n",
       "      <td>T534_tmev_d2_extra_20220816_003.nd2</td>\n",
       "      <td>normal</td>\n",
       "      <td>1</td>\n",
       "      <td>15333</td>\n",
       "      <td>92062a977958443e83011619b34eabb8</td>\n",
       "      <td>tmev</td>\n",
       "    </tr>\n",
       "    <tr>\n",
       "      <th>784</th>\n",
       "      <td>T534_tmev_d2_extra_20220816_003.nd2</td>\n",
       "      <td>sz</td>\n",
       "      <td>15334</td>\n",
       "      <td>15934</td>\n",
       "      <td>92062a977958443e83011619b34eabb8</td>\n",
       "      <td>tmev</td>\n",
       "    </tr>\n",
       "    <tr>\n",
       "      <th>785</th>\n",
       "      <td>T534_tmev_d2_extra_20220816_003.nd2</td>\n",
       "      <td>normal</td>\n",
       "      <td>15935</td>\n",
       "      <td>17978</td>\n",
       "      <td>92062a977958443e83011619b34eabb8</td>\n",
       "      <td>tmev</td>\n",
       "    </tr>\n",
       "  </tbody>\n",
       "</table>\n",
       "<p>708 rows × 6 columns</p>\n",
       "</div>"
      ],
      "text/plain": [
       "                                     nd2  interval_type frame_begin frame_end  \\\n",
       "0           T301_tmev_d1.270820.1151.nd2         normal           1      8672   \n",
       "1           T301_tmev_d1.270820.1151.nd2             sz        8673      9147   \n",
       "2           T301_tmev_d1.270820.1151.nd2        sd_wave        9148      9231   \n",
       "3           T301_tmev_d1.270820.1151.nd2        sd_wave        9232      9301   \n",
       "4           T301_tmev_d1.270820.1151.nd2  sd_extinction        9302     10307   \n",
       "..                                   ...            ...         ...       ...   \n",
       "781  T534_tmev_d2_extra_20220816_002.nd2             sz        4611      5301   \n",
       "782  T534_tmev_d2_extra_20220816_002.nd2         normal        5302     17978   \n",
       "783  T534_tmev_d2_extra_20220816_003.nd2         normal           1     15333   \n",
       "784  T534_tmev_d2_extra_20220816_003.nd2             sz       15334     15934   \n",
       "785  T534_tmev_d2_extra_20220816_003.nd2         normal       15935     17978   \n",
       "\n",
       "                                 uuid  type  \n",
       "0    a6099849121f44ccbec237037971ab57  tmev  \n",
       "1    a6099849121f44ccbec237037971ab57  tmev  \n",
       "2    a6099849121f44ccbec237037971ab57  tmev  \n",
       "3    a6099849121f44ccbec237037971ab57  tmev  \n",
       "4    a6099849121f44ccbec237037971ab57  tmev  \n",
       "..                                ...   ...  \n",
       "781  757c430daa2349e198ddefa7a0277769  tmev  \n",
       "782  757c430daa2349e198ddefa7a0277769  tmev  \n",
       "783  92062a977958443e83011619b34eabb8  tmev  \n",
       "784  92062a977958443e83011619b34eabb8  tmev  \n",
       "785  92062a977958443e83011619b34eabb8  tmev  \n",
       "\n",
       "[708 rows x 6 columns]"
      ]
     },
     "execution_count": 15,
     "metadata": {},
     "output_type": "execute_result"
    }
   ],
   "source": [
    "df_sz_movies"
   ]
  },
  {
   "cell_type": "code",
   "execution_count": 16,
   "id": "599fd3f9",
   "metadata": {},
   "outputs": [],
   "source": [
    "# 3dd896d33a0f42c698228fbe254ebd60 contains seizure from frame 1; previous recording is 21c83d0b69ec4585a9a11f4ce6c24b99\n",
    "#pd.merge(df_sz_movies, ddoc.getNikonFileNameUuid().dropna(), on=\"nd2\")\n",
    "uuids_to_add = [(\"21c83d0b69ec4585a9a11f4ce6c24b99\", \"3dd896d33a0f42c698228fbe254ebd60\")]  # pairs of (uuid of previous recording, uuid of sz recording)\n",
    "for uuid, uuid_sz in uuids_to_add:\n",
    "    nd2_to_add = df_grouping_complete[df_grouping_complete[\"uuid\"] == uuid].nd2.values[0]\n",
    "    group_to_add = df_seg_complete[df_seg_complete[\"nd2\"] == nd2_to_add].to_dict()\n",
    "    group_to_add[\"uuid\"] = uuid\n",
    "    group_to_add[\"uuid_sz\"] = uuid_sz\n",
    "    group_to_add = pd.DataFrame(group_to_add)\n",
    "    group_to_add[\"type\"] = group_to_add.apply(lambda row: df_grouping_complete.loc[df_grouping_complete[\"uuid\"] == row[\"uuid\"]].experiment_type.values[0], axis=1)\n",
    "    df_sz_movies = pd.concat([df_sz_movies, group_to_add])\n",
    "    \n",
    "#df_seg_complete.groupby(\"nd2\").filter(lambda group: \"sz\" in group[\"interval_type\"].unique())\n",
    "#previous_recording = "
   ]
  },
  {
   "cell_type": "markdown",
   "id": "c461984c",
   "metadata": {},
   "source": [
    "## Add seizure-uuid\n",
    "See 4 Directionality analysis for original context. This code should be the same as there! (If update needed, need to extract into third file!)\n",
    "In this analysis, the purpose is to make each seizure unique (to deal with seizures split-up in two videos, for example)"
   ]
  },
  {
   "cell_type": "code",
   "execution_count": 17,
   "id": "20d88079",
   "metadata": {},
   "outputs": [],
   "source": [
    "df_sz_movies[\"uuid_sz\"] = df_sz_movies[\"uuid\"]\n",
    "# following two recordings contain 1 seizure-sd event\n",
    "df_sz_movies[\"uuid_sz\"] = df_sz_movies[\"uuid_sz\"].replace(\"65bff16a4cf04930a5cb14f489a8f99b\", \"30dc55d1a5dc4b0286d132e72f208ca6\")\n",
    "# following recordings do not have sz\n",
    "#qdf = qdf[qdf[\"uuid_matched\"] != \"171693d0988c458a96c8198c7b8cfc28\"]"
   ]
  },
  {
   "cell_type": "code",
   "execution_count": 18,
   "id": "8f69e9f0",
   "metadata": {},
   "outputs": [],
   "source": [
    "df_sz_intervals = df_sz_movies[df_sz_movies[\"interval_type\"] == \"sz\"]"
   ]
  },
  {
   "cell_type": "code",
   "execution_count": 19,
   "id": "e9410391",
   "metadata": {},
   "outputs": [
    {
     "name": "stdout",
     "output_type": "stream",
     "text": [
      "[5412]: ['06ebcf354f5c41519669f187e16de364']\n",
      "1 sz: 1 recs\n",
      "[7896]: ['2aa75aa234a749668eb896e7e00aa87a']\n",
      "1 sz: 1 recs\n",
      "[17733 1]: ['65bff16a4cf04930a5cb14f489a8f99b' '30dc55d1a5dc4b0286d132e72f208ca6']\n",
      "1 sz: 2 recs\n",
      "[1]: ['3dd896d33a0f42c698228fbe254ebd60']\n",
      "1 sz: 1 recs\n",
      "[131]: ['44ca941252064dcabb0fe3d24a8dab49']\n",
      "1 sz: 1 recs\n",
      "[263 14785]: ['4fe45b25dc854453880cd868fe77e9d4' '4fe45b25dc854453880cd868fe77e9d4']\n",
      "1 sz: 1 recs\n",
      "[10291]: ['5ea6fd9c4cb542dbbc1f65305725cede']\n",
      "1 sz: 1 recs\n",
      "[2684]: ['73a27053f4bf4ae1b4ad96064b6dabc0']\n",
      "1 sz: 1 recs\n",
      "[4611]: ['757c430daa2349e198ddefa7a0277769']\n",
      "1 sz: 1 recs\n",
      "[8070]: ['79fb974821f34e3abdcf5ca650e1c0f4']\n",
      "1 sz: 1 recs\n",
      "[1]: ['8dd54649e47046239ebafc56eeb8b5b2']\n",
      "1 sz: 1 recs\n",
      "[15334]: ['92062a977958443e83011619b34eabb8']\n",
      "1 sz: 1 recs\n",
      "[8673]: ['a6099849121f44ccbec237037971ab57']\n",
      "1 sz: 1 recs\n",
      "[1]: ['a9694ce2973349cb9cb6b51f77c46b49']\n",
      "1 sz: 1 recs\n",
      "[8601]: ['ae564f8c867f4f35aa971b6562c33a7c']\n",
      "1 sz: 1 recs\n",
      "[1]: ['b8f31023d2c042c2a7f95b54d9807cb7']\n",
      "1 sz: 1 recs\n",
      "[5476]: ['d7a5ac8e2bc74382b3db503a6a5a07a5']\n",
      "1 sz: 1 recs\n",
      "[6845]: ['e40f26d410ab452e8f8d59e5394ae0fe']\n",
      "1 sz: 1 recs\n"
     ]
    }
   ],
   "source": [
    "for i_g, g in df_sz_intervals.sort_values([\"nd2\"]).groupby(\"uuid_sz\"):  # assume seizures cut in two have incremented names\n",
    "    print(f'{g[g[\"interval_type\"] == \"sz\"].frame_begin.values}: {g[g[\"interval_type\"] == \"sz\"].uuid.values}')\n",
    "    # check if one recording contained several seizures:\n",
    "    n_seizures = len(g[g[\"interval_type\"] == \"sz\"].uuid_sz.unique())\n",
    "    n_recordings = len(g[g[\"interval_type\"] == \"sz\"].uuid.unique())\n",
    "    print(f\"{n_seizures} sz: {n_recordings} recs\")\n",
    "    \n",
    "    \n",
    "    # group by uuid_sz?\n",
    "    # TODO: need some way to sort by recording starting time too."
   ]
  },
  {
   "cell_type": "code",
   "execution_count": 20,
   "id": "8121bcca",
   "metadata": {},
   "outputs": [],
   "source": [
    "# loop through each seizure. Find recording, find 5 minutes before beginning of sz, during sz + sd, and 5 minutes after end of sz\n",
    "# 1. for each sz (uuid_sz), find ordered recordings\n",
    "# 2. find beginning of sz = first recording with a \"sz\" category\n",
    "# 3. find uuid of the recording, open loco data, extract locomotion of 5 min before sz begin\n",
    "# 4. find end of sz = last recording with a \"sz\" or \"sd_wave\" category\n",
    "# 5. find uuid of the recording, open loco data, extract locomotion of 5 min after sz end"
   ]
  },
  {
   "cell_type": "code",
   "execution_count": 21,
   "id": "c6bf57e2",
   "metadata": {},
   "outputs": [
    {
     "name": "stderr",
     "output_type": "stream",
     "text": [
      "C:\\Users\\mitlabence\\AppData\\Local\\Temp\\ipykernel_4700\\840698585.py:1: SettingWithCopyWarning: \n",
      "A value is trying to be set on a copy of a slice from a DataFrame.\n",
      "Try using .loc[row_indexer,col_indexer] = value instead\n",
      "\n",
      "See the caveats in the documentation: https://pandas.pydata.org/pandas-docs/stable/user_guide/indexing.html#returning-a-view-versus-a-copy\n",
      "  df_sz_intervals[\"i_sz\"] = df_sz_intervals.groupby(\"uuid\").cumcount() + 1\n"
     ]
    }
   ],
   "source": [
    "df_sz_intervals[\"i_sz\"] = df_sz_intervals.groupby(\"uuid\").cumcount() + 1"
   ]
  },
  {
   "cell_type": "markdown",
   "id": "a5500c87",
   "metadata": {},
   "source": [
    "### Sort by recordings (ASSUMPTION: recording indexing is incremental)\n",
    "Once using groupby uuid_sz, the recordings where the same seizure is present should then be ordered from the first recording it appears in to the last."
   ]
  },
  {
   "cell_type": "code",
   "execution_count": 22,
   "id": "619d67cd",
   "metadata": {},
   "outputs": [],
   "source": [
    "df_sz_intervals = df_sz_intervals.sort_values(\"nd2\")"
   ]
  },
  {
   "cell_type": "markdown",
   "id": "edc7c5df",
   "metadata": {},
   "source": [
    "### Make uuid_sz truly unique\n",
    "Append the index of the seizure, i.e. uuid -> uuid_1, uuid_2 etc."
   ]
  },
  {
   "cell_type": "code",
   "execution_count": 23,
   "id": "515a972f",
   "metadata": {},
   "outputs": [],
   "source": [
    "df_sz_intervals[\"uuid_sz\"] = df_sz_intervals.apply(lambda row: row.uuid_sz + \"_\" +  str(row.i_sz), axis=1)"
   ]
  },
  {
   "cell_type": "markdown",
   "id": "16c6b7fd",
   "metadata": {},
   "source": [
    "### Create data structure of intervals\n",
    "For each seizure, the entry should contain the baseline (5 min), sz+sd, post-sz (5 min) periods. If one period spreads over multiple recordings, then this will be an array.\n",
    "The data structure:\n",
    "\n",
    "A dictionary of the uuid_sz values, each has as its value another dictionary, with keys \"baseline\", \"sz\", \"aftermath\". The corresponding values are lists of tuples. Each tuple contains the uuid of the session, the beginning frame (1-indexing) and end frame in that session (both inclusive! i.e. in case of 1 and 10, the segment is 1 to 10 inclusive, the segment having a length of 10 frames). If the list of tuples has more than one entry, it means that the given interval (baseline, sz, aftermath) spreads over multiple sessions (i.e. recordings).\n",
    "\n",
    "Example:\n",
    "\n",
    "{\n",
    "\n",
    "\\<uuid_sz1\\>: \n",
    "\n",
    "{\n",
    "\n",
    "  \"baseline\": \\[ (\\<uuid1\\>, \\<begin_frame\\>, \\<end_frame\\>), (\\<uuid2\\>, \\<begin_frame\\>, \\<end_frame\\>)  \\],\n",
    "\n",
    "  \"sz\": \\[ ( \\<uuid\\>, \\<begin_frame\\>, \\<end_frame\\> ) \\],\n",
    "  \n",
    "  \"aftermath\": \\[ ( \\<uuid\\>, \\<begin_frame\\>, \\<end_frame\\> ) \\],\n",
    "  \n",
    "  }\n",
    "  \n",
    "  \n",
    "  \\<uuid_sz2\\>: {...}\n",
    "\n",
    "}"
   ]
  },
  {
   "cell_type": "code",
   "execution_count": 24,
   "id": "cdfafa16",
   "metadata": {},
   "outputs": [],
   "source": [
    "RECORDING_FRAMERATE = 15.0  # in Hz\n",
    "BL_LEN_S = 5*60  # baseline desired (approximate) length, in seconds\n",
    "AM_LEN_S = 5*60  # aftermath desired (approximate) in seconds\n",
    "\n",
    "bl_len_frames = RECORDING_FRAMERATE * BL_LEN_S\n",
    "am_len_frames = RECORDING_FRAMERATE * AM_LEN_S"
   ]
  },
  {
   "cell_type": "code",
   "execution_count": 25,
   "id": "f3cefad0",
   "metadata": {},
   "outputs": [
    {
     "data": {
      "text/html": [
       "<div>\n",
       "<style scoped>\n",
       "    .dataframe tbody tr th:only-of-type {\n",
       "        vertical-align: middle;\n",
       "    }\n",
       "\n",
       "    .dataframe tbody tr th {\n",
       "        vertical-align: top;\n",
       "    }\n",
       "\n",
       "    .dataframe thead th {\n",
       "        text-align: right;\n",
       "    }\n",
       "</style>\n",
       "<table border=\"1\" class=\"dataframe\">\n",
       "  <thead>\n",
       "    <tr style=\"text-align: right;\">\n",
       "      <th></th>\n",
       "      <th>folder</th>\n",
       "      <th>nd2</th>\n",
       "      <th>labview</th>\n",
       "      <th>lfp</th>\n",
       "      <th>face_cam_last</th>\n",
       "      <th>nikon_meta</th>\n",
       "      <th>experiment_type</th>\n",
       "      <th>mouse_id</th>\n",
       "      <th>day</th>\n",
       "      <th>uuid</th>\n",
       "    </tr>\n",
       "  </thead>\n",
       "  <tbody>\n",
       "    <tr>\n",
       "      <th>3</th>\n",
       "      <td>Y:\\AG-Wenzel\\Group\\tmev\\T396-1\\T396-1_tmev_d3</td>\n",
       "      <td>T396-1_tmev_d3_26062021_004.nd2</td>\n",
       "      <td>T396-1_tmev_d3.260621.1239.txt</td>\n",
       "      <td>21626007.abf</td>\n",
       "      <td>T396-1_tmev_d3.260621.1239_2.avi</td>\n",
       "      <td>T396-1_tmev_d3.260621.1239_nik.txt</td>\n",
       "      <td>tmev</td>\n",
       "      <td>T396</td>\n",
       "      <td>3</td>\n",
       "      <td>3dd896d33a0f42c698228fbe254ebd60</td>\n",
       "    </tr>\n",
       "  </tbody>\n",
       "</table>\n",
       "</div>"
      ],
      "text/plain": [
       "                                          folder  \\\n",
       "3  Y:\\AG-Wenzel\\Group\\tmev\\T396-1\\T396-1_tmev_d3   \n",
       "\n",
       "                               nd2                         labview  \\\n",
       "3  T396-1_tmev_d3_26062021_004.nd2  T396-1_tmev_d3.260621.1239.txt   \n",
       "\n",
       "            lfp                     face_cam_last  \\\n",
       "3  21626007.abf  T396-1_tmev_d3.260621.1239_2.avi   \n",
       "\n",
       "                           nikon_meta experiment_type mouse_id day  \\\n",
       "3  T396-1_tmev_d3.260621.1239_nik.txt            tmev     T396   3   \n",
       "\n",
       "                               uuid  \n",
       "3  3dd896d33a0f42c698228fbe254ebd60  "
      ]
     },
     "execution_count": 25,
     "metadata": {},
     "output_type": "execute_result"
    }
   ],
   "source": [
    "df_grouping_complete[df_grouping_complete.uuid == \"3dd896d33a0f42c698228fbe254ebd60\"]"
   ]
  },
  {
   "cell_type": "code",
   "execution_count": 26,
   "id": "f56e7c42",
   "metadata": {},
   "outputs": [
    {
     "data": {
      "text/html": [
       "<div>\n",
       "<style scoped>\n",
       "    .dataframe tbody tr th:only-of-type {\n",
       "        vertical-align: middle;\n",
       "    }\n",
       "\n",
       "    .dataframe tbody tr th {\n",
       "        vertical-align: top;\n",
       "    }\n",
       "\n",
       "    .dataframe thead th {\n",
       "        text-align: right;\n",
       "    }\n",
       "</style>\n",
       "<table border=\"1\" class=\"dataframe\">\n",
       "  <thead>\n",
       "    <tr style=\"text-align: right;\">\n",
       "      <th></th>\n",
       "      <th>nd2</th>\n",
       "      <th>interval_type</th>\n",
       "      <th>frame_begin</th>\n",
       "      <th>frame_end</th>\n",
       "      <th>uuid</th>\n",
       "      <th>type</th>\n",
       "      <th>uuid_sz</th>\n",
       "    </tr>\n",
       "  </thead>\n",
       "  <tbody>\n",
       "    <tr>\n",
       "      <th>773</th>\n",
       "      <td>T396-1_tmev_d3_26062021_004.nd2</td>\n",
       "      <td>sz</td>\n",
       "      <td>1</td>\n",
       "      <td>490</td>\n",
       "      <td>3dd896d33a0f42c698228fbe254ebd60</td>\n",
       "      <td>tmev</td>\n",
       "      <td>3dd896d33a0f42c698228fbe254ebd60</td>\n",
       "    </tr>\n",
       "    <tr>\n",
       "      <th>774</th>\n",
       "      <td>T396-1_tmev_d3_26062021_004.nd2</td>\n",
       "      <td>normal</td>\n",
       "      <td>491</td>\n",
       "      <td>17978</td>\n",
       "      <td>3dd896d33a0f42c698228fbe254ebd60</td>\n",
       "      <td>tmev</td>\n",
       "      <td>3dd896d33a0f42c698228fbe254ebd60</td>\n",
       "    </tr>\n",
       "  </tbody>\n",
       "</table>\n",
       "</div>"
      ],
      "text/plain": [
       "                                 nd2 interval_type frame_begin frame_end  \\\n",
       "773  T396-1_tmev_d3_26062021_004.nd2            sz           1       490   \n",
       "774  T396-1_tmev_d3_26062021_004.nd2        normal         491     17978   \n",
       "\n",
       "                                 uuid  type                           uuid_sz  \n",
       "773  3dd896d33a0f42c698228fbe254ebd60  tmev  3dd896d33a0f42c698228fbe254ebd60  \n",
       "774  3dd896d33a0f42c698228fbe254ebd60  tmev  3dd896d33a0f42c698228fbe254ebd60  "
      ]
     },
     "execution_count": 26,
     "metadata": {},
     "output_type": "execute_result"
    }
   ],
   "source": [
    "df_sz_movies[df_sz_movies.uuid == \"3dd896d33a0f42c698228fbe254ebd60\"]"
   ]
  },
  {
   "cell_type": "code",
   "execution_count": 27,
   "id": "440d6b07",
   "metadata": {
    "scrolled": true
   },
   "outputs": [
    {
     "ename": "IndentationError",
     "evalue": "expected an indented block (2655821045.py, line 31)",
     "output_type": "error",
     "traceback": [
      "\u001b[1;36m  Input \u001b[1;32mIn [27]\u001b[1;36m\u001b[0m\n\u001b[1;33m    elif bl_begin_frame < 1:  # not enough baseline available in recording\u001b[0m\n\u001b[1;37m    ^\u001b[0m\n\u001b[1;31mIndentationError\u001b[0m\u001b[1;31m:\u001b[0m expected an indented block\n"
     ]
    }
   ],
   "source": [
    "sz_intervals_dict = dict()\n",
    "for uuid_sz, g in df_sz_intervals.sort_values(\"nd2\").groupby([\"uuid_sz\"]):\n",
    "    sz_entry = []\n",
    "    bl_entry = []  # baseline\n",
    "    am_entry = []  # aftermath\n",
    "    \n",
    "    # 1. get sz data.\n",
    "    assert len(g) <= 2  # for now, only deal with cases where segment is in single recording or in two recordings. \n",
    "    # If more recordings (highly unlikely), need to switch to array-based approach\n",
    "    sz_begin_uuid = g.iloc[0].uuid\n",
    "    sz_end_uuid = g.iloc[-1].uuid  # assume len(g) == 1 or == 2!!!\n",
    "    # Assume only seizure is split up, the baseline and aftermath never span over two recordings\n",
    "    sz_begin_session = df_grouping_complete.loc[df_grouping_complete[\"uuid\"] == sz_begin_uuid]\n",
    "    sz_end_session = df_grouping_complete.loc[df_grouping_complete[\"uuid\"] == sz_end_uuid]\n",
    "    # define seizure begin and end frames (might be from different recordings!) to aid acquiring baseline and aftermath frames\n",
    "    sz_begin_frame = g.iloc[0].frame_begin\n",
    "    sz_end_frame = g.iloc[-1].frame_end\n",
    "    \n",
    "    if sz_begin_uuid == sz_end_uuid:  # seizure entirely in a single recording\n",
    "        sz_entry.append((sz_begin_uuid, sz_begin_frame, sz_end_frame))\n",
    "    else:\n",
    "        assert len(g) == 2  # make sure only up to 2 recordings, as this is the only other case handled\n",
    "        sz_entry.append((sz_begin_uuid, sz_begin_frame, g.iloc[0].frame_end))\n",
    "        sz_entry.append((sz_end_uuid, g.iloc[1].frame_begin, sz_end_frame))\n",
    "    # get baseline\n",
    "    bl_uuid = sz_begin_uuid\n",
    "    bl_end_frame = sz_begin_frame - 1\n",
    "    bl_begin_frame = sz_begin_frame - bl_len_frames\n",
    "    if sz_begin_frame == 1:  # seizure begins with recording; happens at least once\n",
    "        # need to take previous recording end as baseline\n",
    "    elif bl_begin_frame < 1:  # not enough baseline available in recording\n",
    "        # TODO: modify exception to warning? No way to add baseline in front anyway... Recordings are never\n",
    "        # directly after another; it might be possible to take previous recording somehow, and \n",
    "        raise Exception(f\"Error: not enough baseline available for {sz_begin_uuid}. Seizure begins on frame {sz_begin_frame}. Need at least {bl_len_frames} frames before for {BL_LEN_S} seconds of baseline\")\n",
    "        # bl_begin_frame = 1\n",
    "    bl_entry.append((bl_uuid, bl_begin_frame, bl_end_frame))\n",
    "    # get aftermath\n",
    "    am_uuid = sz_end_uuid\n",
    "    am_begin_frame = sz_end_frame + 1\n",
    "    am_end_frame = sz_end_frame + am_len_frames\n",
    "    # test if aftermath would fall outside last \"normal\" interval in recording:\n",
    "    if am_end_frame > df_sz_movies[(df_sz_movies[\"uuid\"] == am_uuid) & (df_sz_movies[\"interval_type\"] == \"normal\")].frame_end.max():\n",
    "        raise Exception(f\"Error: not enough aftermath available for {sz_end_uuid}. Seizure ends on frame {sz_end_frame}. Need {am_len_frames} frames after for {AM_LEN_S} seconds of aftermath\")\n",
    "    am_entry.append((am_uuid, am_begin_frame, am_end_frame))"
   ]
  },
  {
   "cell_type": "code",
   "execution_count": null,
   "id": "a6680440",
   "metadata": {},
   "outputs": [],
   "source": []
  }
 ],
 "metadata": {
  "kernelspec": {
   "display_name": "Python 3 (ipykernel)",
   "language": "python",
   "name": "python3"
  },
  "language_info": {
   "codemirror_mode": {
    "name": "ipython",
    "version": 3
   },
   "file_extension": ".py",
   "mimetype": "text/x-python",
   "name": "python",
   "nbconvert_exporter": "python",
   "pygments_lexer": "ipython3",
   "version": "3.8.12"
  }
 },
 "nbformat": 4,
 "nbformat_minor": 5
}
