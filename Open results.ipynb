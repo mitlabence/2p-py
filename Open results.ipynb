{
 "cells": [
  {
   "cell_type": "code",
   "execution_count": 2,
   "id": "8bd5f761",
   "metadata": {},
   "outputs": [],
   "source": [
    "import labrotation.file_handling as fh\n",
    "import pyabf\n",
    "import h5py"
   ]
  },
  {
   "cell_type": "markdown",
   "id": "ea3a8e6a",
   "metadata": {},
   "source": [
    "# Open caiman results"
   ]
  },
  {
   "cell_type": "code",
   "execution_count": null,
   "id": "4e5ff195",
   "metadata": {},
   "outputs": [],
   "source": [
    "h5_file = fh.open_file(\"Open hdf5 file\")\n",
    "list(f.keys())"
   ]
  },
  {
   "cell_type": "code",
   "execution_count": null,
   "id": "c4a5056a",
   "metadata": {},
   "outputs": [],
   "source": [
    "d = f[\"estimates\"]"
   ]
  },
  {
   "cell_type": "code",
   "execution_count": null,
   "id": "1f3987ee",
   "metadata": {},
   "outputs": [],
   "source": [
    "f.visit(print)"
   ]
  },
  {
   "cell_type": "markdown",
   "id": "12e85f8b",
   "metadata": {},
   "source": [
    "# Open labview and LFP"
   ]
  },
  {
   "cell_type": "code",
   "execution_count": null,
   "id": "d738594f",
   "metadata": {},
   "outputs": [],
   "source": []
  }
 ],
 "metadata": {
  "kernelspec": {
   "display_name": "Python 3 (ipykernel)",
   "language": "python",
   "name": "python3"
  },
  "language_info": {
   "codemirror_mode": {
    "name": "ipython",
    "version": 3
   },
   "file_extension": ".py",
   "mimetype": "text/x-python",
   "name": "python",
   "nbconvert_exporter": "python",
   "pygments_lexer": "ipython3",
   "version": "3.8.12"
  }
 },
 "nbformat": 4,
 "nbformat_minor": 5
}
