{
 "cells": [
  {
   "cell_type": "code",
   "execution_count": null,
   "id": "2883bfb4",
   "metadata": {},
   "outputs": [],
   "source": [
    "#Auto-reload modules (used to develop functions outside this notebook)\n",
    "%load_ext autoreload\n",
    "%autoreload 2"
   ]
  },
  {
   "cell_type": "code",
   "execution_count": null,
   "id": "3a1ab7ab",
   "metadata": {},
   "outputs": [],
   "source": [
    "import pyabf as abf #https://pypi.org/project/pyabf/\n",
    "import matplotlib.pyplot as plt\n",
    "from enum import Enum\n",
    "from typing import List #for function annotations\n",
    "import pims_nd2\n",
    "import pandas as pd\n",
    "import datetime\n",
    "import pytz #for timezones\n",
    "import numpy as np\n",
    "import os\n",
    "import datadoc_util as ddu"
   ]
  },
  {
   "cell_type": "code",
   "execution_count": null,
   "id": "4bd1fe4e",
   "metadata": {},
   "outputs": [],
   "source": [
    "# Add 2p-py path\n",
    "import sys\n",
    "sys.path.append('../2p-py/')"
   ]
  },
  {
   "cell_type": "code",
   "execution_count": null,
   "id": "1adc1d4f",
   "metadata": {},
   "outputs": [],
   "source": [
    "import h5py  # if not imported, sometimes DLL error on importing it in labrotation...\n",
    "# import modules from 2p-py\n",
    "import labrotation.file_handling as file_handling\n",
    "import labrotation.two_photon_session as two_photon_session\n",
    "import labrotation.belt_processing as belt_processing"
   ]
  },
  {
   "cell_type": "markdown",
   "id": "28334330",
   "metadata": {},
   "source": [
    "## Import session\n",
    "- FIXME: session = two_photon_session.TwoPhotonSession... does not find specified files, asks in matlab prompt again for same files!\n",
    "- TODO: once caiman analysis is done, can use h5 file/json parameters file to try and find the matching nd2 recording and data files!"
   ]
  },
  {
   "cell_type": "code",
   "execution_count": null,
   "id": "912090f3",
   "metadata": {},
   "outputs": [],
   "source": [
    "env_dict = dict()\n",
    "if not os.path.exists(\"./.env\"):\n",
    "    print(\".env does not exist\")\n",
    "else:\n",
    "    with open(\"./.env\", \"r\") as f:\n",
    "        for line in f.readlines():\n",
    "            l = line.rstrip().split(\"=\")\n",
    "            env_dict[l[0]] = l[1]\n",
    "print(env_dict.keys())"
   ]
  },
  {
   "cell_type": "code",
   "execution_count": null,
   "id": "0c12c63d",
   "metadata": {},
   "outputs": [],
   "source": [
    "ddoc = ddu.DataDocumentation(env_dict[\"DATA_DOCU_FOLDER\"])\n",
    "ddoc.loadDataDoc()"
   ]
  },
  {
   "cell_type": "code",
   "execution_count": null,
   "id": "7f9201dc",
   "metadata": {},
   "outputs": [],
   "source": [
    "#matlab_2p_path = file_handling.open_dir(\"Choose matlab-2p folder!\")\n",
    "matlab_2p_path = env_dict[\"MATLAB_2P_FOLDER\"]"
   ]
  },
  {
   "cell_type": "code",
   "execution_count": null,
   "id": "e0d1dac1",
   "metadata": {},
   "outputs": [],
   "source": [
    "nd2_path = file_handling.open_file(\"Choose Nikon imaging file (.nd2)!\")\n",
    "session_folder, nd2_fname = os.path.split(nd2_path)\n",
    "uuid = ddoc.getUUIDForFile(nd2_path)\n",
    "files = ddoc.getSessionFilesForUuuid(uuid).iloc[0].to_dict()\n",
    "if not type(files[\"lfp\"]) == type(np.nan):  # check if entry is NaN\n",
    "    nd2_meta_path = os.path.join(session_folder, files[\"nikon_meta\"]) # file_handling.open_file(\"Choose Nikon metadata file (.txt)!\")\n",
    "else:\n",
    "    nd2_meta_path = None\n",
    "    \n",
    "if not type(files[\"labview\"]) == type(np.nan):\n",
    "    labview_path = os.path.join(session_folder, files[\"labview\"]) # file_handling.open_file(\"Choose LabView file (xy.txt, NOT xytime.txt)!\")\n",
    "    labview_timestamps_path = labview_path[:-4] + \"time.txt\"\n",
    "else:\n",
    "    labview_path = None\n",
    "    labview_timestamps_path = None\n",
    "    \n",
    "if not type(files[\"lfp\"]) == type(np.nan):\n",
    "    lfp_path = os.path.join(session_folder, files[\"lfp\"])  #file_handling.open_file(\"Choose LFP file (.abf)!\")\n",
    "else:\n",
    "    lfp_path = None\n",
    "print(nd2_fname)\n",
    "print(uuid)"
   ]
  },
  {
   "cell_type": "code",
   "execution_count": null,
   "id": "ff04fc6d",
   "metadata": {},
   "outputs": [],
   "source": [
    "# init_and_process() is the new constructor\n",
    "# session = two_photon_session.TwoPhotonSession(nd2_path, nd2_meta_path, labview_path, labview_timestamps_path, lfp_path, matlab_2p_path)\n",
    "session = two_photon_session.TwoPhotonSession.init_and_process(nd2_path, nd2_meta_path, labview_path, labview_timestamps_path, lfp_path, matlab_2p_path)"
   ]
  },
  {
   "cell_type": "markdown",
   "id": "3fce0773",
   "metadata": {},
   "source": [
    "## Plot LFP movement and LabView movement data\n",
    "The matching is done automatically. For T324 d1 16:34, the matching works. For issues, see GitHub issues."
   ]
  },
  {
   "cell_type": "code",
   "execution_count": null,
   "id": "5dd2a8e5",
   "metadata": {},
   "outputs": [],
   "source": [
    "session.shift_lfp(0.5, match_type=\"zero\")  # use shift_lfp() to correct matching issues"
   ]
  },
  {
   "cell_type": "code",
   "execution_count": null,
   "id": "df0222ce",
   "metadata": {},
   "outputs": [],
   "source": [
    "fig, (ax1, ax2) = plt.subplots(2, 1, sharex=True, figsize=(18, 18))\n",
    "\n",
    "ax1.plot(session.lfp_df_cut.t_mov_corrected, session.lfp_df_cut.y_mov_normalized)\n",
    "#ax2.plot(session.belt_df[\"time_s\"], session.belt_df[\"speed\"])\n",
    "ax2.plot(session.belt_scn_df[\"tsscn\"]/1000., session.belt_scn_df[\"speed\"])\n",
    "#ax2.set_xlim([1112, 1115])\n",
    "#ax2.set_xlim([780, 820])\n",
    "plt.show()"
   ]
  },
  {
   "cell_type": "code",
   "execution_count": null,
   "id": "3b43fa63",
   "metadata": {},
   "outputs": [],
   "source": [
    "#plot with binary movement data\n",
    "fig, (ax1, ax2) = plt.subplots(2, 1, sharex=True, figsize=(18, 18))\n",
    "\n",
    "ax1.plot(session.lfp_df_cut.t_mov_corrected, session.lfp_df_cut.y_mov_normalized)\n",
    "#ax2.plot(session.belt_df[\"time_s\"], session.belt_df[\"speed\"])\n",
    "#ax2.plot(session.belt_df[\"time_s\"], session.belt_df[\"running\"])\n",
    "ax2.plot(session.belt_scn_df[\"tsscn\"]/1000., session.belt_scn_df[\"speed\"])\n",
    "ax2.plot(session.belt_scn_df[\"tsscn\"]/1000., session.belt_scn_df[\"running\"])\n",
    "\n",
    "plt.show()"
   ]
  },
  {
   "cell_type": "code",
   "execution_count": null,
   "id": "d41aac0b",
   "metadata": {},
   "outputs": [],
   "source": [
    "xmi = 600\n",
    "xma = 670\n",
    "s = session.lfp_df_cut[(session.lfp_df_cut.t_mov_corrected >= xmi) & (session.lfp_df_cut.t_mov_corrected <= xma)].tail()"
   ]
  },
  {
   "cell_type": "code",
   "execution_count": null,
   "id": "986cf9cf",
   "metadata": {},
   "outputs": [],
   "source": [
    "def plotWindowCompareMax(min_x, max_x):\n",
    "    \"\"\"\n",
    "    Use this function to zoom in at bursts of movements, compare the max values \n",
    "    \"\"\"\n",
    "    fig, (ax1, ax2) = plt.subplots(2, 1, sharex=True, figsize=(18, 18))\n",
    "    lfp_df_windowed = session.lfp_df_cut[(session.lfp_df_cut.t_mov_corrected >= min_x) & (session.lfp_df_cut.t_mov_corrected <= max_x)]\n",
    "    lv_df_windowed = session.belt_df[ (session.belt_df.time_s >= min_x) & (session.belt_df.time_s <= max_x) ]\n",
    "    lfp_max = lfp_df_windowed.loc[lfp_df_windowed[\"y_mov_normalized\"].idxmax()].t_mov_corrected\n",
    "    lv_max =   lv_df_windowed.loc[lv_df_windowed[\"speed\"].idxmax()].time_s\n",
    "    \n",
    "    ax1.plot(lfp_df_windowed.t_mov_corrected, lfp_df_windowed.y_mov_normalized)\n",
    "    ax1.axvline(lfp_max, color=\"r\")\n",
    "    ax2.plot(lv_df_windowed[\"time_s\"], lv_df_windowed[\"speed\"])\n",
    "    ax2.axvline(lv_max, color=\"r\")\n",
    "    ax2.set_xlim([min_x, max_x])\n",
    "\n",
    "    print(f\"LFP max: { lfp_max }\\nLV  max: {lv_max }\\nAdd {lv_max - lfp_max} to LFP\")\n",
    "    plt.show()"
   ]
  },
  {
   "cell_type": "markdown",
   "id": "0cabe338",
   "metadata": {},
   "source": [
    "## V2 of the function above"
   ]
  },
  {
   "cell_type": "code",
   "execution_count": null,
   "id": "a804351b",
   "metadata": {},
   "outputs": [],
   "source": [
    "def plotWindowCompareMax(t_min, t_max):\n",
    "    \"\"\"\n",
    "    v2. Use this function to zoom in at bursts of movements, compare the max values \n",
    "    \"\"\"\n",
    "    fig, (ax1, ax2) = plt.subplots(2, 1, sharex=True, figsize=(18, 18))\n",
    "\n",
    "    # LFP first\n",
    "    lfp_mov_t, lfp_mov_v = session.lfp_movement()\n",
    "    # limit data to window\n",
    "    lfp_mov_t_win = lfp_mov_t[(lfp_mov_t >= t_min) & (lfp_mov_t <= t_max)]\n",
    "    lfp_mov_v_win = lfp_mov_v[lfp_mov_t_win.index]\n",
    "\n",
    "    # find maximum of lfp data in window\n",
    "    t_lfp_max = lfp_mov_t_win[lfp_mov_v_win.idxmax()]\n",
    "\n",
    "\n",
    "    # LabView second\n",
    "    lv_mov_t, lv_mov_v = session.labview_movement()\n",
    "\n",
    "    lv_mov_t_win = lv_mov_t[(lv_mov_t >= t_min) & (lv_mov_t <= t_max)]\n",
    "    lv_mov_v_win = lv_mov_v[lv_mov_t_win.index]\n",
    "\n",
    "    t_lv_max = lv_mov_t_win[lv_mov_v_win.idxmax()]\n",
    "    ax1.plot(lfp_mov_t_win, lfp_mov_v_win)\n",
    "    ax1.axvline(t_lfp_max, color=\"r\")\n",
    "    ax2.plot(lv_mov_t_win, lv_mov_v_win)\n",
    "    ax2.axvline(t_lv_max, color=\"r\")\n",
    "    ax2.set_xlim([t_min, t_max])\n",
    "\n",
    "    print(f\"LFP max: { t_lfp_max }\\nLV  max: {t_lv_max }\\nAdd {t_lv_max - t_lfp_max} s delay to LFP\")\n",
    "    plt.show()"
   ]
  },
  {
   "cell_type": "code",
   "execution_count": null,
   "id": "082d7c45",
   "metadata": {},
   "outputs": [],
   "source": [
    "plotWindowCompareMax(399, 402)"
   ]
  },
  {
   "cell_type": "code",
   "execution_count": null,
   "id": "9b5e5ed4",
   "metadata": {},
   "outputs": [],
   "source": [
    "print(session.time_offs_lfp_nik)"
   ]
  },
  {
   "cell_type": "markdown",
   "id": "7a83a919",
   "metadata": {},
   "source": [
    "### Save belt and matching parameters as JSON file"
   ]
  },
  {
   "cell_type": "code",
   "execution_count": null,
   "id": "9c485c4f",
   "metadata": {},
   "outputs": [],
   "source": [
    "json_folder = file_handling.open_dir(\"Select folder to save json parameters (cancel to save to nd2 location)\")\n",
    "if json_folder == '.':\n",
    "    json_folder, json_file = os.path.split(session.ND2_PATH)\n",
    "    print(f\"Automatically chose directory of nd2 file:\\n{json_folder}\")\n",
    "else:\n",
    "    _, json_file = os.path.split(session.ND2_PATH)\n",
    "json_file = \".\".join(json_file.split(\".\")[:-1]) + \"_match_pars.json\"\n",
    "json_fpath = os.path.join(json_folder, json_file)\n",
    "print(f\"json file will be saved at nd2 location:\\n{json_fpath}\")"
   ]
  },
  {
   "cell_type": "code",
   "execution_count": null,
   "id": "33a53f39",
   "metadata": {},
   "outputs": [],
   "source": [
    "session.export_json(fpath=json_fpath)"
   ]
  },
  {
   "cell_type": "markdown",
   "id": "ab5d560b",
   "metadata": {},
   "source": [
    "# Plot Nikon and LFP and movement together"
   ]
  },
  {
   "cell_type": "code",
   "execution_count": null,
   "id": "b424e5bb",
   "metadata": {},
   "outputs": [],
   "source": [
    "session.lfp_df_cut"
   ]
  },
  {
   "cell_type": "code",
   "execution_count": null,
   "id": "58bd4614",
   "metadata": {},
   "outputs": [],
   "source": [
    "nikon_means = session.return_nikon_mean()"
   ]
  },
  {
   "cell_type": "code",
   "execution_count": null,
   "id": "50899f79",
   "metadata": {},
   "outputs": [],
   "source": [
    "nikon_t = session.nikon_daq_time"
   ]
  },
  {
   "cell_type": "code",
   "execution_count": null,
   "id": "727abcbb",
   "metadata": {},
   "outputs": [],
   "source": [
    "fig = plt.figure()\n",
    "plt.plot(nikon_t, nikon_means)\n",
    "plt.show()"
   ]
  },
  {
   "cell_type": "code",
   "execution_count": null,
   "id": "f1b9635e",
   "metadata": {},
   "outputs": [],
   "source": [
    "xmin = 500\n",
    "xmax = 750\n",
    "\n",
    "fig, axs = plt.subplots(3, figsize=(18,18), gridspec_kw={'height_ratios': [2, 2, 1]}, sharex=True)\n",
    "axs[0].plot(nikon_t, nikon_means, color=\"tab:green\")  #nikon\n",
    "axs[1].plot(session.lfp_df_cut.t_lfp_corrected, session.lfp_df_cut.y_lfp, color=\"tab:blue\")  #lfp signal\n",
    "axs[2].plot(session.lfp_df_cut.t_mov_corrected, session.lfp_df_cut.y_mov_normalized, color=\"tab:brown\")  #lfp movement\n",
    "\n",
    "\n",
    "axs[0].axes.yaxis.set_visible(False)\n",
    "axs[1].axes.yaxis.set_visible(False)\n",
    "axs[2].axes.yaxis.set_visible(False)\n",
    "plt.xticks(fontsize=22)\n",
    "plt.xlabel(xlabel=\"Time in recording (s)\", fontsize=20)\n",
    "plt.setp(axs[2], xlim=(xmin,xmax))\n",
    "#plt.savefig(\"D:/PhD/Progress Reports/PR 1/Seizures/Figures/v2/NikLFPMov_NC.png\", transparent=True, bbox_inches=\"tight\")\n",
    "\n",
    "plt.show()"
   ]
  },
  {
   "cell_type": "code",
   "execution_count": null,
   "id": "bc37183a",
   "metadata": {},
   "outputs": [],
   "source": [
    "xmin = 660\n",
    "xmax = 665\n",
    "\n",
    "fig, axs = plt.subplots(2, figsize=(18,18), gridspec_kw={'height_ratios': [2, 2]}, sharex=True)\n",
    "axs[0].plot(nikon_t, nikon_means, color=\"tab:green\")  #nikon\n",
    "axs[1].plot(session.lfp_df_cut.t_lfp_corrected, session.lfp_df_cut.y_lfp, color=\"tab:blue\")  #lfp signal\n",
    "\n",
    "axs[0].axes.yaxis.set_visible(False)\n",
    "axs[1].axes.yaxis.set_visible(False)\n",
    "plt.xticks(fontsize=22)\n",
    "plt.xlabel(xlabel=\"Time in recording (s)\", fontsize=20)\n",
    "plt.setp(axs[1], xlim=(xmin,xmax))\n",
    "\n",
    "#plt.savefig(\"D:/PhD/Progress Reports/PR 1/Seizures/Figures/v2/NikLFPMov_CA1_IIS.png\", transparent=True, bbox_inches=\"tight\")\n",
    "\n",
    "plt.show()"
   ]
  },
  {
   "cell_type": "code",
   "execution_count": null,
   "id": "83c7f64f",
   "metadata": {},
   "outputs": [],
   "source": [
    "xmin = 10\n",
    "xmax = 55\n",
    "\n",
    "fig, axs = plt.subplots(3, figsize=(18,18), gridspec_kw={'height_ratios': [2, 2, 1]}, sharex=True)\n",
    "axs[0].plot(nikon_t, nikon_means, color=\"tab:green\")  #nikon\n",
    "axs[1].plot(session.lfp_df_cut.t_lfp_corrected, session.lfp_df_cut.y_lfp, color=\"tab:blue\")  #lfp signal\n",
    "axs[2].plot(session.lfp_df_cut.t_mov_corrected, session.lfp_df_cut.y_mov_normalized, color=\"tab:brown\")  #lfp movement\n",
    "\n",
    "\n",
    "axs[0].axes.yaxis.set_visible(False)\n",
    "axs[1].axes.yaxis.set_visible(False)\n",
    "axs[2].axes.yaxis.set_visible(False)\n",
    "plt.xticks(fontsize=22)\n",
    "plt.xlabel(xlabel=\"Time in recording (s)\", fontsize=20)\n",
    "plt.setp(axs[2], xlim=(xmin,xmax))\n",
    "\n",
    "#plt.savefig(\"D:/PhD/Progress Reports/PR 1/Seizures/Figures/v2/NikLFPMov_NC_zoomed.png\", transparent=True, bbox_inches=\"tight\")\n",
    "\n",
    "plt.show()"
   ]
  },
  {
   "cell_type": "code",
   "execution_count": null,
   "id": "9fe6f5b1",
   "metadata": {},
   "outputs": [],
   "source": [
    "duration = 2  # in sec\n",
    "refreshPeriod = 100  # in ms\n",
    "\n",
    "fig, ax = plt.subplots()\n",
    "vl = ax.axvline(0, ls='-', color='r', lw=1, zorder=10)\n",
    "ax.set_xlim(0, duration)\n",
    "\n",
    "\n",
    "def animate(i, vl, period):\n",
    "    t = xmin + i*period / 1000\n",
    "    vl.set_xdata([t, t])\n",
    "    return vl,\n",
    "\n",
    "\n",
    "ani = FuncAnimation(fig, animate, frames=int(\n",
    "    duration/(refreshPeriod/1000)), fargs=(vl, refreshPeriod), interval=refreshPeriod)\n",
    "plt.show()\n"
   ]
  },
  {
   "cell_type": "markdown",
   "id": "82f01029",
   "metadata": {},
   "source": [
    "### Experimenting with data (ChR2 experiments)"
   ]
  },
  {
   "cell_type": "code",
   "execution_count": null,
   "id": "0d5eb584",
   "metadata": {},
   "outputs": [],
   "source": [
    "for k, v in session.belt_dict.items():\n",
    "    print(f\"{k}: {len(v)}\")"
   ]
  },
  {
   "cell_type": "code",
   "execution_count": null,
   "id": "cdd4763d",
   "metadata": {},
   "outputs": [],
   "source": [
    "for k, v in session.belt_scn_dict.items():\n",
    "    print(f\"{k}: {len(v)}\")"
   ]
  },
  {
   "cell_type": "code",
   "execution_count": null,
   "id": "1ef19c8e",
   "metadata": {},
   "outputs": [],
   "source": [
    "import nikon_ts_reader"
   ]
  },
  {
   "cell_type": "code",
   "execution_count": null,
   "id": "14870668",
   "metadata": {},
   "outputs": [],
   "source": [
    "n_ts = nikon_ts_reader.standardize_stamp_file(nd2_meta_path, nd2_meta_path[:-4] + \"_corrected.txt\")"
   ]
  },
  {
   "cell_type": "code",
   "execution_count": null,
   "id": "d9e38123",
   "metadata": {},
   "outputs": [],
   "source": [
    "nd2_meta_path[:-4] + \"_corrected.txt\""
   ]
  },
  {
   "cell_type": "code",
   "execution_count": null,
   "id": "f44c13d2",
   "metadata": {},
   "outputs": [],
   "source": [
    "frames_means = session.return_nikon_mean()"
   ]
  },
  {
   "cell_type": "code",
   "execution_count": null,
   "id": "303dc8df",
   "metadata": {},
   "outputs": [],
   "source": [
    "session.nikon_movie"
   ]
  },
  {
   "cell_type": "code",
   "execution_count": null,
   "id": "53b4ff1d",
   "metadata": {},
   "outputs": [],
   "source": [
    "session.lfp_df_cut"
   ]
  },
  {
   "cell_type": "code",
   "execution_count": null,
   "id": "caf4ca41",
   "metadata": {},
   "outputs": [],
   "source": [
    "fig, (ax1, ax2, ax3) = plt.subplots(3, 1, sharex=True, figsize=(18, 18))\n",
    "\n",
    "ax1.plot()\n",
    "ax2.plot(session.lfp_df_cut.t_mov_corrected, session.lfp_df_cut.y_mov_normalized)\n",
    "ax3.plot(session.belt_df[\"time_s\"], session.belt_df[\"speed\"])\n",
    "#ax2.set_xlim([1112, 1115])\n",
    "#ax2.set_xlim([780, 820])\n",
    "plt.show()"
   ]
  },
  {
   "cell_type": "code",
   "execution_count": null,
   "id": "ba0c82a7",
   "metadata": {},
   "outputs": [],
   "source": [
    "type(session.nikon_daq_time)"
   ]
  },
  {
   "cell_type": "code",
   "execution_count": null,
   "id": "6d7d363a",
   "metadata": {},
   "outputs": [],
   "source": [
    "\n",
    "def plot3(x_min, x_max, savefig_fpath):\n",
    "    cmap = plt.get_cmap(\"tab10\")  # use default color map\n",
    "    t_stim = 300.3605  # found first stim frame and corresponding NIDAQ time stamp (session.nikon_daq_time)\n",
    "    t_stim_end = 305.3493\n",
    "    \n",
    "    fig, (ax1, ax2, ax3) = plt.subplots(3, 1, sharex=True, figsize=(18, 20))\n",
    "    l1, = ax1.plot(session.nikon_daq_time, frames_means, label=\"2p mean raw F\", color=cmap(0))\n",
    "    l2, = ax2.plot(session.lfp_df_cut.t_lfp_corrected, session.lfp_df_cut.y_lfp, label=\"LFP\", color=cmap(1))\n",
    "    l3, = ax3.plot(session.belt_df[\"time_s\"], session.belt_df[\"speed\"], label=\"Mouse speed\", color=cmap(2))\n",
    "    \n",
    "    ax1.set_ylim([47.0, 50.0])\n",
    "    ax3.set_xlabel(\"Time (s)\", fontsize=16)\n",
    "    #ax1.set_title(\"CA1 induction of SD\", fontsize=20)\n",
    "    plt.legend([l1, l2, l3], [\"2p mean F\", \"LFP\", \"Mouse speed\"], fontsize=20)\n",
    "    \n",
    "    ax1.set_yticks([],[])\n",
    "    ax2.set_yticks([],[])\n",
    "    ax3.set_yticks([],[])\n",
    "    \n",
    "    ax1.axvline(x=t_stim, color=cmap(3))\n",
    "    ax2.axvline(x=t_stim, color=cmap(3))\n",
    "    ax3.axvline(x=t_stim, color=cmap(3))\n",
    "    \n",
    "    ax1.axvline(x=t_stim_end, color=cmap(3))\n",
    "    ax2.axvline(x=t_stim_end, color=cmap(3))\n",
    "    ax3.axvline(x=t_stim_end, color=cmap(3))\n",
    "    \n",
    "    if x_min >= 0 and x_max > 0:\n",
    "        ax3.set_xlim((x_min, x_max))\n",
    "    if savefig_fpath != \"\":\n",
    "        print(f\"saving as {savefig_fpath}\")\n",
    "        plt.savefig(savefig_fpath, facecolor=\"w\")\n",
    "    plt.show()"
   ]
  },
  {
   "cell_type": "code",
   "execution_count": null,
   "id": "fa91b1e7",
   "metadata": {},
   "outputs": [],
   "source": [
    "plot3(-1, -1, \"D:/PhD/pres_22032022/extra/T413/plot_whole.png\") #  "
   ]
  },
  {
   "cell_type": "code",
   "execution_count": null,
   "id": "4e90786b",
   "metadata": {},
   "outputs": [],
   "source": [
    "plot3(298, 450, \"D:/PhD/pres_22032022/extra/T413/plot_zoom.png\")"
   ]
  },
  {
   "cell_type": "code",
   "execution_count": null,
   "id": "ccbdf1d9",
   "metadata": {},
   "outputs": [],
   "source": [
    "frames_means[15*299:16*300]"
   ]
  },
  {
   "cell_type": "code",
   "execution_count": null,
   "id": "3757d1da",
   "metadata": {},
   "outputs": [],
   "source": [
    "for i in range(len(frames_means)):\n",
    "    if frames_means[i] > 50:\n",
    "        print(i)\n",
    "        break"
   ]
  },
  {
   "cell_type": "code",
   "execution_count": null,
   "id": "ad793e52",
   "metadata": {},
   "outputs": [],
   "source": [
    "# session.nikon_daq_time[4572]  # beginning of stim\n",
    "session.nikon_daq_time[4649]  # end of stim frame"
   ]
  },
  {
   "cell_type": "code",
   "execution_count": null,
   "id": "e870cc41",
   "metadata": {},
   "outputs": [],
   "source": [
    "for i in range(4580, len(frames_means)):\n",
    "    if frames_means[i] < 30:\n",
    "        print(i)\n",
    "        print(frames_means[i])\n",
    "        break"
   ]
  },
  {
   "cell_type": "code",
   "execution_count": null,
   "id": "c8c15145",
   "metadata": {},
   "outputs": [],
   "source": [
    "session.ND2_PATH"
   ]
  },
  {
   "cell_type": "code",
   "execution_count": null,
   "id": "e83fa293",
   "metadata": {},
   "outputs": [],
   "source": [
    "import matplotlib.pyplot as plt\n",
    "import matplotlib.animation\n",
    "import numpy as np\n",
    "\n",
    "t = np.linspace(0,2*np.pi)\n",
    "x = np.sin(t)\n",
    "\n",
    "fig, ax = plt.subplots()\n",
    "l, = ax.plot([0,2*np.pi],[-1,1])\n",
    "\n",
    "animate = lambda i: l.set_data(t[:i], x[:i])\n",
    "\n",
    "ani = matplotlib.animation.FuncAnimation(fig, animate, frames=len(t))\n",
    "\n",
    "plt.show()"
   ]
  },
  {
   "cell_type": "code",
   "execution_count": null,
   "id": "5414ed76",
   "metadata": {},
   "outputs": [],
   "source": [
    "%matplotlib inline\n",
    "import matplotlib.pyplot as plt\n",
    "plt.rcParams[\"animation.html\"] = \"jshtml\"\n",
    "import matplotlib.animation\n",
    "import numpy as np\n",
    "\n",
    "t = np.linspace(0,2*np.pi)\n",
    "x = np.sin(t)\n",
    "\n",
    "fig, ax = plt.subplots()\n",
    "l, = ax.plot([0,2*np.pi],[-1,1])\n",
    "\n",
    "animate = lambda i: l.set_data(t[:i], x[:i])\n",
    "\n",
    "ani = matplotlib.animation.FuncAnimation(fig, animate, frames=len(t))\n",
    "ani"
   ]
  },
  {
   "cell_type": "code",
   "execution_count": null,
   "id": "3eb8b95f",
   "metadata": {},
   "outputs": [],
   "source": [
    "%matplotlib qt"
   ]
  }
 ],
 "metadata": {
  "kernelspec": {
   "display_name": "Python 3 (ipykernel)",
   "language": "python",
   "name": "python3"
  },
  "language_info": {
   "codemirror_mode": {
    "name": "ipython",
    "version": 3
   },
   "file_extension": ".py",
   "mimetype": "text/x-python",
   "name": "python",
   "nbconvert_exporter": "python",
   "pygments_lexer": "ipython3",
   "version": "3.8.12"
  }
 },
 "nbformat": 4,
 "nbformat_minor": 5
}
