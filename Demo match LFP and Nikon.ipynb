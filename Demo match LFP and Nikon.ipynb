{
 "cells": [
  {
   "cell_type": "code",
   "execution_count": 1,
   "id": "2883bfb4",
   "metadata": {},
   "outputs": [],
   "source": [
    "#Auto-reload modules (used to develop functions outside this notebook)\n",
    "%load_ext autoreload\n",
    "%autoreload 2"
   ]
  },
  {
   "cell_type": "code",
   "execution_count": 38,
   "id": "3a1ab7ab",
   "metadata": {},
   "outputs": [],
   "source": [
    "import pyabf as abf #https://pypi.org/project/pyabf/\n",
    "import matplotlib.pyplot as plt\n",
    "from enum import Enum\n",
    "from typing import List #for function annotations\n",
    "import pims_nd2\n",
    "import pandas as pd\n",
    "import datetime\n",
    "import pytz #for timezones\n",
    "import numpy as np\n",
    "import os"
   ]
  },
  {
   "cell_type": "code",
   "execution_count": 3,
   "id": "4bd1fe4e",
   "metadata": {},
   "outputs": [],
   "source": [
    "# Add 2p-py path\n",
    "import sys\n",
    "sys.path.append('../2p-py/')"
   ]
  },
  {
   "cell_type": "code",
   "execution_count": 4,
   "id": "1adc1d4f",
   "metadata": {},
   "outputs": [],
   "source": [
    "# import modules from 2p-py\n",
    "import labrotation.file_handling as file_handling\n",
    "import labrotation.two_photon_session as two_photon_session\n",
    "import labrotation.belt_processing as belt_processing"
   ]
  },
  {
   "cell_type": "markdown",
   "id": "28334330",
   "metadata": {},
   "source": [
    "## Import session\n",
    "- FIXME: session = two_photon_session.TwoPhotonSession... does not find specified files, asks in matlab prompt again for same files!\n",
    "- TODO: once caiman analysis is done, can use h5 file/json parameters file to try and find the matching nd2 recording and data files!"
   ]
  },
  {
   "cell_type": "code",
   "execution_count": 5,
   "id": "7f9201dc",
   "metadata": {},
   "outputs": [],
   "source": [
    "matlab_2p_path = file_handling.open_dir(\"Choose matlab-2p folder!\")"
   ]
  },
  {
   "cell_type": "code",
   "execution_count": 6,
   "id": "e0d1dac1",
   "metadata": {},
   "outputs": [],
   "source": [
    "nd2_path = file_handling.open_file(\"Choose Nikon imaging file (.nd2)!\")\n",
    "nd2_meta_path = file_handling.open_file(\"Choose Nikon metadata file (.txt)!\")\n",
    "labview_path = file_handling.open_file(\"Choose LabView file (xy.txt, NOT xytime.txt)!\")\n",
    "labview_timestamps_path = labview_path[:-4] + \"time.txt\"\n",
    "lfp_path = file_handling.open_file(\"Choose LFP file (.abf)!\")"
   ]
  },
  {
   "cell_type": "code",
   "execution_count": 8,
   "id": "ff04fc6d",
   "metadata": {},
   "outputs": [
    {
     "name": "stdout",
     "output_type": "stream",
     "text": [
      "Difference of starting times (s): 6.292987\n"
     ]
    }
   ],
   "source": [
    "session = two_photon_session.TwoPhotonSession(nd2_path, nd2_meta_path, labview_path, labview_timestamps_path, lfp_path, matlab_2p_path)"
   ]
  },
  {
   "cell_type": "markdown",
   "id": "1ec7614a",
   "metadata": {},
   "source": [
    "#### Examples of contents"
   ]
  },
  {
   "cell_type": "code",
   "execution_count": 9,
   "id": "94f569fb",
   "metadata": {},
   "outputs": [
    {
     "data": {
      "text/plain": [
       "dict_keys(['round', 'speed', 'distance', 'distancePR', 'reflect', 'licking', 'stripes', 'stripesPR', 'time', 'timePR', 'reward', 'airpuff', 'soundl', 'soundr', 'odor1', 'odor2', 'odor3', 'odor4', 'odor5', 'pupil', 'tsscn', 'running', 'runtime', 'pupilLP', 'pupilraw'])"
      ]
     },
     "execution_count": 9,
     "metadata": {},
     "output_type": "execute_result"
    }
   ],
   "source": [
    "session.belt_dict.keys()"
   ]
  },
  {
   "cell_type": "code",
   "execution_count": 10,
   "id": "bc97ddfd",
   "metadata": {},
   "outputs": [
    {
     "data": {
      "text/plain": [
       "dict_keys(['tsscn', 'rounds', 'speed', 'distance', 'totdist', 'running'])"
      ]
     },
     "execution_count": 10,
     "metadata": {},
     "output_type": "execute_result"
    }
   ],
   "source": [
    "session.belt_scn_dict.keys()"
   ]
  },
  {
   "cell_type": "code",
   "execution_count": 11,
   "id": "1708670c",
   "metadata": {},
   "outputs": [
    {
     "data": {
      "text/html": [
       "<div>\n",
       "<style scoped>\n",
       "    .dataframe tbody tr th:only-of-type {\n",
       "        vertical-align: middle;\n",
       "    }\n",
       "\n",
       "    .dataframe tbody tr th {\n",
       "        vertical-align: top;\n",
       "    }\n",
       "\n",
       "    .dataframe thead th {\n",
       "        text-align: right;\n",
       "    }\n",
       "</style>\n",
       "<table border=\"1\" class=\"dataframe\">\n",
       "  <thead>\n",
       "    <tr style=\"text-align: right;\">\n",
       "      <th></th>\n",
       "      <th>t_mov_raw</th>\n",
       "      <th>t_mov_offset</th>\n",
       "      <th>t_mov_corrected</th>\n",
       "      <th>y_mov</th>\n",
       "      <th>y_mov_normalized</th>\n",
       "      <th>t_lfp_raw</th>\n",
       "      <th>t_lfp_offset</th>\n",
       "      <th>t_lfp_corrected</th>\n",
       "      <th>y_lfp</th>\n",
       "    </tr>\n",
       "  </thead>\n",
       "  <tbody>\n",
       "    <tr>\n",
       "      <th>6293</th>\n",
       "      <td>6.293</td>\n",
       "      <td>0.000013</td>\n",
       "      <td>0.000013</td>\n",
       "      <td>2.447510</td>\n",
       "      <td>0.994946</td>\n",
       "      <td>6.293</td>\n",
       "      <td>0.000013</td>\n",
       "      <td>0.000013</td>\n",
       "      <td>0.223694</td>\n",
       "    </tr>\n",
       "    <tr>\n",
       "      <th>6294</th>\n",
       "      <td>6.294</td>\n",
       "      <td>0.001013</td>\n",
       "      <td>0.001017</td>\n",
       "      <td>2.459717</td>\n",
       "      <td>0.999908</td>\n",
       "      <td>6.294</td>\n",
       "      <td>0.001013</td>\n",
       "      <td>0.001017</td>\n",
       "      <td>0.216675</td>\n",
       "    </tr>\n",
       "    <tr>\n",
       "      <th>6295</th>\n",
       "      <td>6.295</td>\n",
       "      <td>0.002013</td>\n",
       "      <td>0.002021</td>\n",
       "      <td>2.452393</td>\n",
       "      <td>0.996930</td>\n",
       "      <td>6.295</td>\n",
       "      <td>0.002013</td>\n",
       "      <td>0.002021</td>\n",
       "      <td>0.226746</td>\n",
       "    </tr>\n",
       "    <tr>\n",
       "      <th>6296</th>\n",
       "      <td>6.296</td>\n",
       "      <td>0.003013</td>\n",
       "      <td>0.003024</td>\n",
       "      <td>2.455139</td>\n",
       "      <td>0.998047</td>\n",
       "      <td>6.296</td>\n",
       "      <td>0.003013</td>\n",
       "      <td>0.003024</td>\n",
       "      <td>0.220642</td>\n",
       "    </tr>\n",
       "    <tr>\n",
       "      <th>6297</th>\n",
       "      <td>6.297</td>\n",
       "      <td>0.004013</td>\n",
       "      <td>0.004028</td>\n",
       "      <td>2.456665</td>\n",
       "      <td>0.998667</td>\n",
       "      <td>6.297</td>\n",
       "      <td>0.004013</td>\n",
       "      <td>0.004028</td>\n",
       "      <td>0.217896</td>\n",
       "    </tr>\n",
       "    <tr>\n",
       "      <th>...</th>\n",
       "      <td>...</td>\n",
       "      <td>...</td>\n",
       "      <td>...</td>\n",
       "      <td>...</td>\n",
       "      <td>...</td>\n",
       "      <td>...</td>\n",
       "      <td>...</td>\n",
       "      <td>...</td>\n",
       "      <td>...</td>\n",
       "    </tr>\n",
       "    <tr>\n",
       "      <th>1182042</th>\n",
       "      <td>1182.042</td>\n",
       "      <td>1175.749013</td>\n",
       "      <td>1180.216859</td>\n",
       "      <td>2.479553</td>\n",
       "      <td>1.007972</td>\n",
       "      <td>1182.042</td>\n",
       "      <td>1175.749013</td>\n",
       "      <td>1180.216859</td>\n",
       "      <td>0.167542</td>\n",
       "    </tr>\n",
       "    <tr>\n",
       "      <th>1182043</th>\n",
       "      <td>1182.043</td>\n",
       "      <td>1175.750013</td>\n",
       "      <td>1180.217863</td>\n",
       "      <td>2.428284</td>\n",
       "      <td>0.987130</td>\n",
       "      <td>1182.043</td>\n",
       "      <td>1175.750013</td>\n",
       "      <td>1180.217863</td>\n",
       "      <td>0.164490</td>\n",
       "    </tr>\n",
       "    <tr>\n",
       "      <th>1182044</th>\n",
       "      <td>1182.044</td>\n",
       "      <td>1175.751013</td>\n",
       "      <td>1180.218867</td>\n",
       "      <td>2.482605</td>\n",
       "      <td>1.009212</td>\n",
       "      <td>1182.044</td>\n",
       "      <td>1175.751013</td>\n",
       "      <td>1180.218867</td>\n",
       "      <td>0.175476</td>\n",
       "    </tr>\n",
       "    <tr>\n",
       "      <th>1182045</th>\n",
       "      <td>1182.045</td>\n",
       "      <td>1175.752013</td>\n",
       "      <td>1180.219871</td>\n",
       "      <td>2.425232</td>\n",
       "      <td>0.985889</td>\n",
       "      <td>1182.045</td>\n",
       "      <td>1175.752013</td>\n",
       "      <td>1180.219871</td>\n",
       "      <td>0.164795</td>\n",
       "    </tr>\n",
       "    <tr>\n",
       "      <th>1182046</th>\n",
       "      <td>1182.046</td>\n",
       "      <td>1175.753013</td>\n",
       "      <td>1180.220874</td>\n",
       "      <td>2.485657</td>\n",
       "      <td>1.010453</td>\n",
       "      <td>1182.046</td>\n",
       "      <td>1175.753013</td>\n",
       "      <td>1180.220874</td>\n",
       "      <td>0.165100</td>\n",
       "    </tr>\n",
       "  </tbody>\n",
       "</table>\n",
       "<p>1175754 rows × 9 columns</p>\n",
       "</div>"
      ],
      "text/plain": [
       "         t_mov_raw  t_mov_offset  t_mov_corrected     y_mov  y_mov_normalized  \\\n",
       "6293         6.293      0.000013         0.000013  2.447510          0.994946   \n",
       "6294         6.294      0.001013         0.001017  2.459717          0.999908   \n",
       "6295         6.295      0.002013         0.002021  2.452393          0.996930   \n",
       "6296         6.296      0.003013         0.003024  2.455139          0.998047   \n",
       "6297         6.297      0.004013         0.004028  2.456665          0.998667   \n",
       "...            ...           ...              ...       ...               ...   \n",
       "1182042   1182.042   1175.749013      1180.216859  2.479553          1.007972   \n",
       "1182043   1182.043   1175.750013      1180.217863  2.428284          0.987130   \n",
       "1182044   1182.044   1175.751013      1180.218867  2.482605          1.009212   \n",
       "1182045   1182.045   1175.752013      1180.219871  2.425232          0.985889   \n",
       "1182046   1182.046   1175.753013      1180.220874  2.485657          1.010453   \n",
       "\n",
       "         t_lfp_raw  t_lfp_offset  t_lfp_corrected     y_lfp  \n",
       "6293         6.293      0.000013         0.000013  0.223694  \n",
       "6294         6.294      0.001013         0.001017  0.216675  \n",
       "6295         6.295      0.002013         0.002021  0.226746  \n",
       "6296         6.296      0.003013         0.003024  0.220642  \n",
       "6297         6.297      0.004013         0.004028  0.217896  \n",
       "...            ...           ...              ...       ...  \n",
       "1182042   1182.042   1175.749013      1180.216859  0.167542  \n",
       "1182043   1182.043   1175.750013      1180.217863  0.164490  \n",
       "1182044   1182.044   1175.751013      1180.218867  0.175476  \n",
       "1182045   1182.045   1175.752013      1180.219871  0.164795  \n",
       "1182046   1182.046   1175.753013      1180.220874  0.165100  \n",
       "\n",
       "[1175754 rows x 9 columns]"
      ]
     },
     "execution_count": 11,
     "metadata": {},
     "output_type": "execute_result"
    }
   ],
   "source": [
    "session.lfp_df_cut"
   ]
  },
  {
   "cell_type": "markdown",
   "id": "3fce0773",
   "metadata": {},
   "source": [
    "## Plot LFP movement and LabView movement data\n",
    "The matching is done automatically. For T324 d1 16:34, the matching works. For issues, see GitHub issues."
   ]
  },
  {
   "cell_type": "code",
   "execution_count": 29,
   "id": "5dd2a8e5",
   "metadata": {},
   "outputs": [],
   "source": [
    "session.shift_lfp(0  , match_type=\"zero\")  # use shift_lfp() to correct matching issues"
   ]
  },
  {
   "cell_type": "code",
   "execution_count": 13,
   "id": "df0222ce",
   "metadata": {},
   "outputs": [
    {
     "data": {
      "image/png": "[encoded data removed]",
      "text/plain": [
       "<Figure size 1296x1296 with 2 Axes>"
      ]
     },
     "metadata": {
      "needs_background": "light"
     },
     "output_type": "display_data"
    }
   ],
   "source": [
    "fig, (ax1, ax2) = plt.subplots(2, 1, sharex=True, figsize=(18, 18))\n",
    "\n",
    "ax1.plot(session.lfp_df_cut.t_mov_corrected, session.lfp_df_cut.y_mov_normalized)\n",
    "ax2.plot(session.belt_df[\"time_s\"], session.belt_df[\"speed\"])\n",
    "#ax2.set_xlim([1112, 1115])\n",
    "#ax2.set_xlim([780, 820])\n",
    "plt.show()"
   ]
  },
  {
   "cell_type": "code",
   "execution_count": 14,
   "id": "3b43fa63",
   "metadata": {},
   "outputs": [
    {
     "data": {
      "image/png": "[encoded data removed]",
      "text/plain": [
       "<Figure size 1296x1296 with 2 Axes>"
      ]
     },
     "metadata": {
      "needs_background": "light"
     },
     "output_type": "display_data"
    }
   ],
   "source": [
    "#plot with binary movement data\n",
    "fig, (ax1, ax2) = plt.subplots(2, 1, sharex=True, figsize=(18, 18))\n",
    "\n",
    "ax1.plot(session.lfp_df_cut.t_mov_corrected, session.lfp_df_cut.y_mov_normalized)\n",
    "ax2.plot(session.belt_df[\"time_s\"], session.belt_df[\"speed\"])\n",
    "ax2.plot(session.belt_df[\"time_s\"], session.belt_df[\"running\"])\n",
    "plt.show()"
   ]
  },
  {
   "cell_type": "code",
   "execution_count": 16,
   "id": "d41aac0b",
   "metadata": {},
   "outputs": [],
   "source": [
    "xmi = 800\n",
    "xma = 900\n",
    "s = session.lfp_df_cut[(session.lfp_df_cut.t_mov_corrected >= xmi) & (session.lfp_df_cut.t_mov_corrected <= xma)].tail()"
   ]
  },
  {
   "cell_type": "code",
   "execution_count": null,
   "id": "fd7bd5f5",
   "metadata": {},
   "outputs": [],
   "source": [
    "session.belt_df"
   ]
  },
  {
   "cell_type": "code",
   "execution_count": null,
   "id": "b1416188",
   "metadata": {},
   "outputs": [],
   "source": [
    "s[\"y_mov_normalized\"].idxmax()"
   ]
  },
  {
   "cell_type": "code",
   "execution_count": null,
   "id": "9023c261",
   "metadata": {},
   "outputs": [],
   "source": [
    "s.loc[s[\"y_mov_normalized\"].idxmax()]"
   ]
  },
  {
   "cell_type": "code",
   "execution_count": 17,
   "id": "986cf9cf",
   "metadata": {},
   "outputs": [],
   "source": [
    "def plotWindowCompareMax(min_x, max_x):\n",
    "    \"\"\"\n",
    "    Use this function to zoom in at bursts of movements, compare the max values \n",
    "    \"\"\"\n",
    "    fig, (ax1, ax2) = plt.subplots(2, 1, sharex=True, figsize=(18, 18))\n",
    "    lfp_df_windowed = session.lfp_df_cut[(session.lfp_df_cut.t_mov_corrected >= min_x) & (session.lfp_df_cut.t_mov_corrected <= max_x)]\n",
    "    lv_df_windowed = session.belt_df[ (session.belt_df.time_s >= min_x) & (session.belt_df.time_s <= max_x) ]\n",
    "    lfp_max = lfp_df_windowed.loc[lfp_df_windowed[\"y_mov_normalized\"].idxmax()].t_mov_corrected\n",
    "    lv_max =   lv_df_windowed.loc[lv_df_windowed[\"speed\"].idxmax()].time_s\n",
    "    \n",
    "    ax1.plot(lfp_df_windowed.t_mov_corrected, lfp_df_windowed.y_mov_normalized)\n",
    "    ax1.axvline(lfp_max, color=\"r\")\n",
    "    ax2.plot(lv_df_windowed[\"time_s\"], lv_df_windowed[\"speed\"])\n",
    "    ax2.axvline(lv_max, color=\"r\")\n",
    "    ax2.set_xlim([min_x, max_x])\n",
    "\n",
    "    print(f\"LFP max: { lfp_max }\\nLV  max: {lv_max }\\nAdd {lv_max - lfp_max} to LFP\")\n",
    "    plt.show()"
   ]
  },
  {
   "cell_type": "markdown",
   "id": "0cabe338",
   "metadata": {},
   "source": [
    "## V2 of the function above"
   ]
  },
  {
   "cell_type": "code",
   "execution_count": 18,
   "id": "a804351b",
   "metadata": {},
   "outputs": [],
   "source": [
    "def plotWindowCompareMax(t_min, t_max):\n",
    "    \"\"\"\n",
    "    v2. Use this function to zoom in at bursts of movements, compare the max values \n",
    "    \"\"\"\n",
    "    fig, (ax1, ax2) = plt.subplots(2, 1, sharex=True, figsize=(18, 18))\n",
    "\n",
    "    # LFP first\n",
    "    lfp_mov_t, lfp_mov_v = session.lfp_movement()\n",
    "    # limit data to window\n",
    "    lfp_mov_t_win = lfp_mov_t[(lfp_mov_t >= t_min) & (lfp_mov_t <= t_max)]\n",
    "    lfp_mov_v_win = lfp_mov_v[lfp_mov_t_win.index]\n",
    "\n",
    "    # find maximum of lfp data in window\n",
    "    t_lfp_max = lfp_mov_t_win[lfp_mov_v_win.idxmax()]\n",
    "\n",
    "\n",
    "    # LabView second\n",
    "    lv_mov_t, lv_mov_v = session.labview_movement()\n",
    "\n",
    "    lv_mov_t_win = lv_mov_t[(lv_mov_t >= t_min) & (lv_mov_t <= t_max)]\n",
    "    lv_mov_v_win = lv_mov_v[lv_mov_t_win.index]\n",
    "\n",
    "    t_lv_max = lv_mov_t_win[lv_mov_v_win.idxmax()]\n",
    "    ax1.plot(lfp_mov_t_win, lfp_mov_v_win)\n",
    "    ax1.axvline(t_lfp_max, color=\"r\")\n",
    "    ax2.plot(lv_mov_t_win, lv_mov_v_win)\n",
    "    ax2.axvline(t_lv_max, color=\"r\")\n",
    "    ax2.set_xlim([t_min, t_max])\n",
    "\n",
    "    print(f\"LFP max: { t_lfp_max }\\nLV  max: {t_lv_max }\\nAdd {t_lv_max - t_lfp_max} to LFP\")\n",
    "    plt.show()"
   ]
  },
  {
   "cell_type": "code",
   "execution_count": 30,
   "id": "082d7c45",
   "metadata": {},
   "outputs": [
    {
     "name": "stdout",
     "output_type": "stream",
     "text": [
      "LFP max: 946.8181414848751\n",
      "LV  max: 946.8182999999999\n",
      "Add 0.00015851512478093355 to LFP\n"
     ]
    },
    {
     "data": {
      "image/png": "[encoded data removed]",
      "text/plain": [
       "<Figure size 1296x1296 with 2 Axes>"
      ]
     },
     "metadata": {
      "needs_background": "light"
     },
     "output_type": "display_data"
    }
   ],
   "source": [
    "plotWindowCompareMax(946, 950)"
   ]
  },
  {
   "cell_type": "markdown",
   "id": "7a83a919",
   "metadata": {},
   "source": [
    "### Save belt and matching parameters as JSON file"
   ]
  },
  {
   "cell_type": "code",
   "execution_count": 46,
   "id": "9c485c4f",
   "metadata": {},
   "outputs": [
    {
     "name": "stdout",
     "output_type": "stream",
     "text": [
      "json file will be saved at nd2 location:\n",
      "D:\\Analysis data\\T301\\T301_tmev_d1\\T301_tmev_d1.270820.1110_match_pars.json\n"
     ]
    }
   ],
   "source": [
    "json_folder = file_handling.open_dir(\"Select folder to save json parameters (cancel to save to nd2 location)\")\n",
    "if json_folder == '.':\n",
    "    json_folder, json_file = os.path.split(session.ND2_PATH)\n",
    "    print(f\"Automatically chose directory of nd2 file:\\n{json_folder}\")\n",
    "else:\n",
    "    _, json_file = os.path.split(session.ND2_PATH)\n",
    "json_file = \".\".join(json_file.split(\".\")[:-1]) + \"_match_pars.json\"\n",
    "json_fpath = os.path.join(json_folder, json_file)\n",
    "print(f\"json file will be saved at nd2 location:\\n{json_fpath}\")"
   ]
  },
  {
   "cell_type": "code",
   "execution_count": 47,
   "id": "33a53f39",
   "metadata": {},
   "outputs": [],
   "source": [
    "session.export_json(fpath=json_fpath)"
   ]
  },
  {
   "cell_type": "markdown",
   "id": "ab5d560b",
   "metadata": {},
   "source": [
    "# Plot Nikon and LFP and movement together"
   ]
  },
  {
   "cell_type": "code",
   "execution_count": null,
   "id": "b424e5bb",
   "metadata": {},
   "outputs": [],
   "source": [
    "session.lfp_df_cut"
   ]
  },
  {
   "cell_type": "code",
   "execution_count": null,
   "id": "58bd4614",
   "metadata": {},
   "outputs": [],
   "source": [
    "nikon_means = session.return_nikon_mean()"
   ]
  },
  {
   "cell_type": "code",
   "execution_count": null,
   "id": "50899f79",
   "metadata": {},
   "outputs": [],
   "source": [
    "nikon_t = session.nikon_daq_time"
   ]
  },
  {
   "cell_type": "code",
   "execution_count": null,
   "id": "727abcbb",
   "metadata": {},
   "outputs": [],
   "source": [
    "fig = plt.figure()\n",
    "plt.plot(nikon_t, nikon_means)\n",
    "plt.show()"
   ]
  },
  {
   "cell_type": "code",
   "execution_count": null,
   "id": "f1b9635e",
   "metadata": {},
   "outputs": [],
   "source": [
    "xmin = 500\n",
    "xmax = 750\n",
    "\n",
    "fig, axs = plt.subplots(3, figsize=(18,18), gridspec_kw={'height_ratios': [2, 2, 1]}, sharex=True)\n",
    "axs[0].plot(nikon_t, nikon_means, color=\"tab:green\")  #nikon\n",
    "axs[1].plot(session.lfp_df_cut.t_lfp_corrected, session.lfp_df_cut.y_lfp, color=\"tab:blue\")  #lfp signal\n",
    "axs[2].plot(session.lfp_df_cut.t_mov_corrected, session.lfp_df_cut.y_mov_normalized, color=\"tab:brown\")  #lfp movement\n",
    "\n",
    "\n",
    "axs[0].axes.yaxis.set_visible(False)\n",
    "axs[1].axes.yaxis.set_visible(False)\n",
    "axs[2].axes.yaxis.set_visible(False)\n",
    "plt.xticks(fontsize=22)\n",
    "plt.xlabel(xlabel=\"Time in recording (s)\", fontsize=20)\n",
    "plt.setp(axs[2], xlim=(xmin,xmax))\n",
    "#plt.savefig(\"D:/PhD/Progress Reports/PR 1/Seizures/Figures/v2/NikLFPMov_NC.png\", transparent=True, bbox_inches=\"tight\")\n",
    "\n",
    "plt.show()"
   ]
  },
  {
   "cell_type": "code",
   "execution_count": null,
   "id": "bc37183a",
   "metadata": {},
   "outputs": [],
   "source": [
    "xmin = 660\n",
    "xmax = 665\n",
    "\n",
    "fig, axs = plt.subplots(2, figsize=(18,18), gridspec_kw={'height_ratios': [2, 2]}, sharex=True)\n",
    "axs[0].plot(nikon_t, nikon_means, color=\"tab:green\")  #nikon\n",
    "axs[1].plot(session.lfp_df_cut.t_lfp_corrected, session.lfp_df_cut.y_lfp, color=\"tab:blue\")  #lfp signal\n",
    "\n",
    "axs[0].axes.yaxis.set_visible(False)\n",
    "axs[1].axes.yaxis.set_visible(False)\n",
    "plt.xticks(fontsize=22)\n",
    "plt.xlabel(xlabel=\"Time in recording (s)\", fontsize=20)\n",
    "plt.setp(axs[1], xlim=(xmin,xmax))\n",
    "\n",
    "#plt.savefig(\"D:/PhD/Progress Reports/PR 1/Seizures/Figures/v2/NikLFPMov_CA1_IIS.png\", transparent=True, bbox_inches=\"tight\")\n",
    "\n",
    "plt.show()"
   ]
  },
  {
   "cell_type": "code",
   "execution_count": null,
   "id": "83c7f64f",
   "metadata": {},
   "outputs": [],
   "source": [
    "xmin = 10\n",
    "xmax = 55\n",
    "\n",
    "fig, axs = plt.subplots(3, figsize=(18,18), gridspec_kw={'height_ratios': [2, 2, 1]}, sharex=True)\n",
    "axs[0].plot(nikon_t, nikon_means, color=\"tab:green\")  #nikon\n",
    "axs[1].plot(session.lfp_df_cut.t_lfp_corrected, session.lfp_df_cut.y_lfp, color=\"tab:blue\")  #lfp signal\n",
    "axs[2].plot(session.lfp_df_cut.t_mov_corrected, session.lfp_df_cut.y_mov_normalized, color=\"tab:brown\")  #lfp movement\n",
    "\n",
    "\n",
    "axs[0].axes.yaxis.set_visible(False)\n",
    "axs[1].axes.yaxis.set_visible(False)\n",
    "axs[2].axes.yaxis.set_visible(False)\n",
    "plt.xticks(fontsize=22)\n",
    "plt.xlabel(xlabel=\"Time in recording (s)\", fontsize=20)\n",
    "plt.setp(axs[2], xlim=(xmin,xmax))\n",
    "\n",
    "#plt.savefig(\"D:/PhD/Progress Reports/PR 1/Seizures/Figures/v2/NikLFPMov_NC_zoomed.png\", transparent=True, bbox_inches=\"tight\")\n",
    "\n",
    "plt.show()"
   ]
  },
  {
   "cell_type": "code",
   "execution_count": null,
   "id": "9fe6f5b1",
   "metadata": {},
   "outputs": [],
   "source": [
    "duration = 2  # in sec\n",
    "refreshPeriod = 100  # in ms\n",
    "\n",
    "fig, ax = plt.subplots()\n",
    "vl = ax.axvline(0, ls='-', color='r', lw=1, zorder=10)\n",
    "ax.set_xlim(0, duration)\n",
    "\n",
    "\n",
    "def animate(i, vl, period):\n",
    "    t = xmin + i*period / 1000\n",
    "    vl.set_xdata([t, t])\n",
    "    return vl,\n",
    "\n",
    "\n",
    "ani = FuncAnimation(fig, animate, frames=int(\n",
    "    duration/(refreshPeriod/1000)), fargs=(vl, refreshPeriod), interval=refreshPeriod)\n",
    "plt.show()\n"
   ]
  },
  {
   "cell_type": "markdown",
   "id": "82f01029",
   "metadata": {},
   "source": [
    "### Experimenting with data (ChR2 experiments)"
   ]
  },
  {
   "cell_type": "code",
   "execution_count": null,
   "id": "0d5eb584",
   "metadata": {},
   "outputs": [],
   "source": [
    "for k, v in session.belt_dict.items():\n",
    "    print(f\"{k}: {len(v)}\")"
   ]
  },
  {
   "cell_type": "code",
   "execution_count": null,
   "id": "cdd4763d",
   "metadata": {},
   "outputs": [],
   "source": [
    "for k, v in session.belt_scn_dict.items():\n",
    "    print(f\"{k}: {len(v)}\")"
   ]
  },
  {
   "cell_type": "code",
   "execution_count": null,
   "id": "1ef19c8e",
   "metadata": {},
   "outputs": [],
   "source": [
    "import nikon_ts_reader"
   ]
  },
  {
   "cell_type": "code",
   "execution_count": null,
   "id": "14870668",
   "metadata": {},
   "outputs": [],
   "source": [
    "n_ts = nikon_ts_reader.standardize_stamp_file(nd2_meta_path, nd2_meta_path[:-4] + \"_corrected.txt\")"
   ]
  },
  {
   "cell_type": "code",
   "execution_count": null,
   "id": "d9e38123",
   "metadata": {},
   "outputs": [],
   "source": [
    "nd2_meta_path[:-4] + \"_corrected.txt\""
   ]
  },
  {
   "cell_type": "code",
   "execution_count": null,
   "id": "f44c13d2",
   "metadata": {},
   "outputs": [],
   "source": [
    "frames_means = session.return_nikon_mean()"
   ]
  },
  {
   "cell_type": "code",
   "execution_count": null,
   "id": "303dc8df",
   "metadata": {},
   "outputs": [],
   "source": [
    "session.nikon_movie"
   ]
  },
  {
   "cell_type": "code",
   "execution_count": null,
   "id": "53b4ff1d",
   "metadata": {},
   "outputs": [],
   "source": [
    "session.lfp_df_cut"
   ]
  },
  {
   "cell_type": "code",
   "execution_count": null,
   "id": "caf4ca41",
   "metadata": {},
   "outputs": [],
   "source": [
    "fig, (ax1, ax2, ax3) = plt.subplots(3, 1, sharex=True, figsize=(18, 18))\n",
    "\n",
    "ax1.plot()\n",
    "ax2.plot(session.lfp_df_cut.t_mov_corrected, session.lfp_df_cut.y_mov_normalized)\n",
    "ax3.plot(session.belt_df[\"time_s\"], session.belt_df[\"speed\"])\n",
    "#ax2.set_xlim([1112, 1115])\n",
    "#ax2.set_xlim([780, 820])\n",
    "plt.show()"
   ]
  },
  {
   "cell_type": "code",
   "execution_count": null,
   "id": "ba0c82a7",
   "metadata": {},
   "outputs": [],
   "source": [
    "type(session.nikon_daq_time)"
   ]
  },
  {
   "cell_type": "code",
   "execution_count": null,
   "id": "6d7d363a",
   "metadata": {},
   "outputs": [],
   "source": [
    "\n",
    "def plot3(x_min, x_max, savefig_fpath):\n",
    "    cmap = plt.get_cmap(\"tab10\")  # use default color map\n",
    "    t_stim = 300.3605  # found first stim frame and corresponding NIDAQ time stamp (session.nikon_daq_time)\n",
    "    t_stim_end = 305.3493\n",
    "    \n",
    "    fig, (ax1, ax2, ax3) = plt.subplots(3, 1, sharex=True, figsize=(18, 20))\n",
    "    l1, = ax1.plot(session.nikon_daq_time, frames_means, label=\"2p mean raw F\", color=cmap(0))\n",
    "    l2, = ax2.plot(session.lfp_df_cut.t_lfp_corrected, session.lfp_df_cut.y_lfp, label=\"LFP\", color=cmap(1))\n",
    "    l3, = ax3.plot(session.belt_df[\"time_s\"], session.belt_df[\"speed\"], label=\"Mouse speed\", color=cmap(2))\n",
    "    \n",
    "    ax1.set_ylim([47.0, 50.0])\n",
    "    ax3.set_xlabel(\"Time (s)\", fontsize=16)\n",
    "    #ax1.set_title(\"CA1 induction of SD\", fontsize=20)\n",
    "    plt.legend([l1, l2, l3], [\"2p mean F\", \"LFP\", \"Mouse speed\"], fontsize=20)\n",
    "    \n",
    "    ax1.set_yticks([],[])\n",
    "    ax2.set_yticks([],[])\n",
    "    ax3.set_yticks([],[])\n",
    "    \n",
    "    ax1.axvline(x=t_stim, color=cmap(3))\n",
    "    ax2.axvline(x=t_stim, color=cmap(3))\n",
    "    ax3.axvline(x=t_stim, color=cmap(3))\n",
    "    \n",
    "    ax1.axvline(x=t_stim_end, color=cmap(3))\n",
    "    ax2.axvline(x=t_stim_end, color=cmap(3))\n",
    "    ax3.axvline(x=t_stim_end, color=cmap(3))\n",
    "    \n",
    "    if x_min >= 0 and x_max > 0:\n",
    "        ax3.set_xlim((x_min, x_max))\n",
    "    if savefig_fpath != \"\":\n",
    "        print(f\"saving as {savefig_fpath}\")\n",
    "        plt.savefig(savefig_fpath, facecolor=\"w\")\n",
    "    plt.show()"
   ]
  },
  {
   "cell_type": "code",
   "execution_count": null,
   "id": "fa91b1e7",
   "metadata": {},
   "outputs": [],
   "source": [
    "plot3(-1, -1, \"D:/PhD/pres_22032022/extra/T413/plot_whole.png\") #  "
   ]
  },
  {
   "cell_type": "code",
   "execution_count": null,
   "id": "4e90786b",
   "metadata": {},
   "outputs": [],
   "source": [
    "plot3(298, 450, \"D:/PhD/pres_22032022/extra/T413/plot_zoom.png\")"
   ]
  },
  {
   "cell_type": "code",
   "execution_count": null,
   "id": "ccbdf1d9",
   "metadata": {},
   "outputs": [],
   "source": [
    "frames_means[15*299:16*300]"
   ]
  },
  {
   "cell_type": "code",
   "execution_count": null,
   "id": "3757d1da",
   "metadata": {},
   "outputs": [],
   "source": [
    "for i in range(len(frames_means)):\n",
    "    if frames_means[i] > 50:\n",
    "        print(i)\n",
    "        break"
   ]
  },
  {
   "cell_type": "code",
   "execution_count": null,
   "id": "ad793e52",
   "metadata": {},
   "outputs": [],
   "source": [
    "# session.nikon_daq_time[4572]  # beginning of stim\n",
    "session.nikon_daq_time[4649]  # end of stim frame"
   ]
  },
  {
   "cell_type": "code",
   "execution_count": null,
   "id": "e870cc41",
   "metadata": {},
   "outputs": [],
   "source": [
    "for i in range(4580, len(frames_means)):\n",
    "    if frames_means[i] < 30:\n",
    "        print(i)\n",
    "        print(frames_means[i])\n",
    "        break"
   ]
  },
  {
   "cell_type": "code",
   "execution_count": null,
   "id": "c8c15145",
   "metadata": {},
   "outputs": [],
   "source": [
    "session.ND2_PATH"
   ]
  },
  {
   "cell_type": "code",
   "execution_count": null,
   "id": "e83fa293",
   "metadata": {},
   "outputs": [],
   "source": [
    "import matplotlib.pyplot as plt\n",
    "import matplotlib.animation\n",
    "import numpy as np\n",
    "\n",
    "t = np.linspace(0,2*np.pi)\n",
    "x = np.sin(t)\n",
    "\n",
    "fig, ax = plt.subplots()\n",
    "l, = ax.plot([0,2*np.pi],[-1,1])\n",
    "\n",
    "animate = lambda i: l.set_data(t[:i], x[:i])\n",
    "\n",
    "ani = matplotlib.animation.FuncAnimation(fig, animate, frames=len(t))\n",
    "\n",
    "plt.show()"
   ]
  },
  {
   "cell_type": "code",
   "execution_count": null,
   "id": "5414ed76",
   "metadata": {},
   "outputs": [],
   "source": [
    "%matplotlib inline\n",
    "import matplotlib.pyplot as plt\n",
    "plt.rcParams[\"animation.html\"] = \"jshtml\"\n",
    "import matplotlib.animation\n",
    "import numpy as np\n",
    "\n",
    "t = np.linspace(0,2*np.pi)\n",
    "x = np.sin(t)\n",
    "\n",
    "fig, ax = plt.subplots()\n",
    "l, = ax.plot([0,2*np.pi],[-1,1])\n",
    "\n",
    "animate = lambda i: l.set_data(t[:i], x[:i])\n",
    "\n",
    "ani = matplotlib.animation.FuncAnimation(fig, animate, frames=len(t))\n",
    "ani"
   ]
  },
  {
   "cell_type": "code",
   "execution_count": null,
   "id": "3eb8b95f",
   "metadata": {},
   "outputs": [],
   "source": [
    "%matplotlib qt"
   ]
  },
  {
   "cell_type": "code",
   "execution_count": null,
   "id": "46bfaa2b",
   "metadata": {},
   "outputs": [],
   "source": []
  },
  {
   "cell_type": "code",
   "execution_count": null,
   "id": "e4973a38",
   "metadata": {},
   "outputs": [],
   "source": []
  }
 ],
 "metadata": {
  "kernelspec": {
   "display_name": "Python 3 (ipykernel)",
   "language": "python",
   "name": "python3"
  },
  "language_info": {
   "codemirror_mode": {
    "name": "ipython",
    "version": 3
   },
   "file_extension": ".py",
   "mimetype": "text/x-python",
   "name": "python",
   "nbconvert_exporter": "python",
   "pygments_lexer": "ipython3",
   "version": "3.8.12"
  }
 },
 "nbformat": 4,
 "nbformat_minor": 5
}
