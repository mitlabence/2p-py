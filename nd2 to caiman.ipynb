{
 "cells": [
  {
   "cell_type": "markdown",
   "id": "4861643a",
   "metadata": {},
   "source": [
    "# Solving the input type problem for CaImAn\n",
    "## UPDATE: this is the wrong way, maybe impossible to work with a numpy array. A shame. A new attempt is now to export the file as multipage tiff or hdf5 before working with caiman\n",
    "It doesn't support opening nd2 directly. It does support tif (multipage recommended for large files (>2GB)) and memmapped files, but nd2 arrays can be also used as input (see https://caiman.readthedocs.io/en/master/core_functions.html?highlight=load#movie-handling)\n",
    "The latter is being experimented with here"
   ]
  },
  {
   "cell_type": "code",
   "execution_count": null,
   "id": "054ba54a",
   "metadata": {},
   "outputs": [],
   "source": [
    "def printMethods(data_object) -> None:\n",
    "    \"\"\"\n",
    "    Prints out methods that can be used with the parameter object.\n",
    "    Useful for:\n",
    "        ND2_READER objects (returned from pims_nd2.ND2_READER)\n",
    "        ABF objects (returned from abf.ABF)\n",
    "    \"\"\"\n",
    "    for method in dir(data_object):\n",
    "        if(method.startswith(\"_\")):\n",
    "            continue #do not print \"magic\" attributes (__xy__) and those intended for internal use (_xy)\n",
    "        else:\n",
    "            print(method)"
   ]
  },
  {
   "cell_type": "code",
   "execution_count": 2,
   "id": "5db08519",
   "metadata": {},
   "outputs": [],
   "source": [
    "#Auto-reload modules (used to develop functions outside this notebook)\n",
    "%load_ext autoreload\n",
    "%autoreload 2"
   ]
  },
  {
   "cell_type": "code",
   "execution_count": 1,
   "id": "da340fed",
   "metadata": {},
   "outputs": [
    {
     "ename": "ModuleNotFoundError",
     "evalue": "No module named 'caiman'",
     "output_type": "error",
     "traceback": [
      "\u001b[1;31m---------------------------------------------------------------------------\u001b[0m",
      "\u001b[1;31mModuleNotFoundError\u001b[0m                       Traceback (most recent call last)",
      "\u001b[1;32mC:\\Users\\MITLAB~1\\AppData\\Local\\Temp/ipykernel_11704/3445492582.py\u001b[0m in \u001b[0;36m<module>\u001b[1;34m\u001b[0m\n\u001b[1;32m----> 1\u001b[1;33m \u001b[1;32mimport\u001b[0m \u001b[0mcaiman\u001b[0m\u001b[1;33m\u001b[0m\u001b[1;33m\u001b[0m\u001b[0m\n\u001b[0m\u001b[0;32m      2\u001b[0m \u001b[1;32mimport\u001b[0m \u001b[0mnumpy\u001b[0m \u001b[1;32mas\u001b[0m \u001b[0mnp\u001b[0m\u001b[1;33m\u001b[0m\u001b[1;33m\u001b[0m\u001b[0m\n\u001b[0;32m      3\u001b[0m \u001b[1;32mimport\u001b[0m \u001b[0mpims_nd2\u001b[0m  \u001b[1;31m# pip install pims_nd2\u001b[0m\u001b[1;33m\u001b[0m\u001b[1;33m\u001b[0m\u001b[0m\n\u001b[0;32m      4\u001b[0m \u001b[1;32mimport\u001b[0m \u001b[0mnd2_to_caiman\u001b[0m\u001b[1;33m\u001b[0m\u001b[1;33m\u001b[0m\u001b[0m\n",
      "\u001b[1;31mModuleNotFoundError\u001b[0m: No module named 'caiman'"
     ]
    }
   ],
   "source": [
    "import caiman\n",
    "import numpy as np\n",
    "import pims_nd2  # pip install pims_nd2\n",
    "import nd2_to_caiman"
   ]
  },
  {
   "cell_type": "code",
   "execution_count": 4,
   "id": "fa4d44bb",
   "metadata": {},
   "outputs": [],
   "source": [
    "nd2_fpath = 'D:/PhD/Data/T386_MatlabTest/T386_20211202_green.nd2'\n",
    "nd2_large_fpath = 'D:/PhD/Data/T301/d1/anfall/T301_tmev_d1.270820.1151.nd2'"
   ]
  },
  {
   "cell_type": "code",
   "execution_count": 5,
   "id": "2c301054",
   "metadata": {},
   "outputs": [],
   "source": [
    "# now nd2_to_caiman.py \n",
    "def np_arr_from_nd2(nd2_fpath: str):\n",
    "    # set iter_axes to \"t\"\n",
    "    # then: create nd array with sizes matching frame size,\n",
    "    with pims_nd2.ND2_Reader(nd2_fpath) as nikon_file:  # todo: get metadata too?\n",
    "        \n",
    "        sizes_dict = nikon_file.sizes\n",
    "        sizes = (sizes_dict['t'], sizes_dict['x'], sizes_dict['y'])\n",
    "        \n",
    "        # dtype would be float32 by default...\n",
    "        frames_arr = np.zeros(sizes, dtype=nikon_file.pixel_type)\n",
    "        \n",
    "        # TODO: probably it is not even necessary to export an np.array, as nikon_file is an iterable of\n",
    "        #  subclasses of np array... not sure what caiman needs\n",
    "        for i_frame, frame in enumerate(nikon_file):\n",
    "            frames_arr[i_frame] = np.array(nikon_file[0], dtype=nikon_file.pixel_type)  # not sure if dtype needed here\n",
    "        return frames_arr"
   ]
  },
  {
   "cell_type": "code",
   "execution_count": 10,
   "id": "b009f2b0",
   "metadata": {},
   "outputs": [],
   "source": [
    "n = np_arr_from_nd2(nd2_large_fpath)  # "
   ]
  },
  {
   "cell_type": "code",
   "execution_count": 7,
   "id": "a2dac2f7",
   "metadata": {},
   "outputs": [
    {
     "data": {
      "text/plain": [
       "(16485, 512, 512)"
      ]
     },
     "execution_count": 7,
     "metadata": {},
     "output_type": "execute_result"
    }
   ],
   "source": [
    "n.shape  # dimensions match"
   ]
  },
  {
   "cell_type": "code",
   "execution_count": 8,
   "id": "5cb559a5",
   "metadata": {},
   "outputs": [
    {
     "data": {
      "text/plain": [
       "(512, 512)"
      ]
     },
     "execution_count": 8,
     "metadata": {},
     "output_type": "execute_result"
    }
   ],
   "source": [
    "n[0].shape  # first frame"
   ]
  },
  {
   "cell_type": "code",
   "execution_count": null,
   "id": "1a749759",
   "metadata": {},
   "outputs": [],
   "source": [
    "# TODO: check if the image is rotated! Not sure what rotation caiman expects (it should not matter, but result should)\n",
    "#  be same orientation as input file... maybe frames_arr[i] = np.array(...) creates transpose when accessing indices"
   ]
  },
  {
   "cell_type": "code",
   "execution_count": null,
   "id": "bf5a54c3",
   "metadata": {},
   "outputs": [],
   "source": []
  }
 ],
 "metadata": {
  "kernelspec": {
   "display_name": "Python 3 (ipykernel)",
   "language": "python",
   "name": "python3"
  },
  "language_info": {
   "codemirror_mode": {
    "name": "ipython",
    "version": 3
   },
   "file_extension": ".py",
   "mimetype": "text/x-python",
   "name": "python",
   "nbconvert_exporter": "python",
   "pygments_lexer": "ipython3",
   "version": "3.8.12"
  }
 },
 "nbformat": 4,
 "nbformat_minor": 5
}
