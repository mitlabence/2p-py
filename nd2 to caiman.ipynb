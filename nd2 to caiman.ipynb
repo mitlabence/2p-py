{
 "cells": [
  {
   "cell_type": "markdown",
   "id": "4861643a",
   "metadata": {},
   "source": [
    "# Solving the input type problem for CaImAn\n",
    "It doesn't support opening nd2 directly. It does support tif (multipage recommended for large files (>2GB)) and memmapped files, but nd2 arrays can be also used as input (see https://caiman.readthedocs.io/en/master/core_functions.html?highlight=load#movie-handling)\n",
    "The latter is being experimented with here"
   ]
  },
  {
   "cell_type": "code",
   "execution_count": 14,
   "id": "054ba54a",
   "metadata": {},
   "outputs": [],
   "source": [
    "def printMethods(data_object) -> None:\n",
    "    \"\"\"\n",
    "    Prints out methods that can be used with the parameter object.\n",
    "    Useful for:\n",
    "        ND2_READER objects (returned from pims_nd2.ND2_READER)\n",
    "        ABF objects (returned from abf.ABF)\n",
    "    \"\"\"\n",
    "    for method in dir(data_object):\n",
    "        if(method.startswith(\"_\")):\n",
    "            continue #do not print \"magic\" attributes (__xy__) and those intended for internal use (_xy)\n",
    "        else:\n",
    "            print(method)"
   ]
  },
  {
   "cell_type": "code",
   "execution_count": 4,
   "id": "5db08519",
   "metadata": {},
   "outputs": [],
   "source": [
    "#Auto-reload modules (used to develop functions outside this notebook)\n",
    "%load_ext autoreload\n",
    "%autoreload 2"
   ]
  },
  {
   "cell_type": "code",
   "execution_count": 2,
   "id": "da340fed",
   "metadata": {},
   "outputs": [],
   "source": [
    "import caiman\n",
    "import numpy as np\n",
    "import pims_nd2  # pip install pims_nd2"
   ]
  },
  {
   "cell_type": "code",
   "execution_count": 3,
   "id": "fa4d44bb",
   "metadata": {},
   "outputs": [],
   "source": [
    "nd2_fpath = \"D:/T301/T301_tmev_d1/T301_tmev_d1.270820.1110.nd2\""
   ]
  },
  {
   "cell_type": "code",
   "execution_count": 5,
   "id": "1dc76dbf",
   "metadata": {},
   "outputs": [
    {
     "name": "stderr",
     "output_type": "stream",
     "text": [
      "C:\\Users\\Bence\\anaconda3\\envs\\py39\\envs\\caiman\\lib\\site-packages\\pims\\base_frames.py:472: UserWarning: Please call FramesSequenceND.__init__() at the start of thethe reader initialization.\n",
      "  warn(\"Please call FramesSequenceND.__init__() at the start of the\"\n"
     ]
    }
   ],
   "source": [
    "nikon_file = pims_nd2.ND2_Reader(nd2_fpath)"
   ]
  },
  {
   "cell_type": "code",
   "execution_count": 6,
   "id": "97c9a6b0",
   "metadata": {},
   "outputs": [
    {
     "data": {
      "text/plain": [
       "{'filename': 'D:/T301/T301_tmev_d1/T301_tmev_d1.270820.1110.nd2',\n",
       " '_handle': 1024,\n",
       " '_sizes': {'x': 512, 'y': 512, 't': 17978},\n",
       " '_default_coords': {'x': 0, 'y': 0, 't': 0},\n",
       " '_iter_axes': ['t'],\n",
       " '_bundle_axes': ['y', 'x'],\n",
       " '_get_frame_wrapped': None,\n",
       " '_get_frame_dict': {},\n",
       " '_lim_frame_shape': (512, 512),\n",
       " '_pixel_size': 16,\n",
       " '_pixel_type': numpy.uint16,\n",
       " '_pixel_type_C': ctypes.c_ushort,\n",
       " 'max_value': 4095,\n",
       " '_lim_attributes': <pims_nd2.ND2SDK.LIMATTRIBUTES at 0x1f25a8279c0>,\n",
       " '_z_home': None,\n",
       " '_lim_experiment': <pims_nd2.ND2SDK.LIMEXPERIMENT at 0x1f25abc5540>,\n",
       " '_frame_rate': None,\n",
       " '_lim_metadata_desc': <pims_nd2.ND2SDK.LIMMETADATA_DESC at 0x1f25abc56c0>,\n",
       " 'calibration': 1.578851562183509,\n",
       " 'colors': [(0.3254901960784314, 0.9215686274509803, 0.2549019607843137)],\n",
       " '_buf_p': <pims_nd2.ND2SDK.LIMPICTURE at 0x1f25abc5840>,\n",
       " '_buf_p_size': 524288,\n",
       " '_buf_p_a': <pims_nd2.nd2reader.c_ushort_Array_262144 at 0x1f25abc58c0>,\n",
       " '_buf_md': <pims_nd2.ND2SDK.LIMLOCALMETADATA at 0x1f25abc5940>}"
      ]
     },
     "execution_count": 6,
     "metadata": {},
     "output_type": "execute_result"
    }
   ],
   "source": [
    "nikon_file.__dict__"
   ]
  },
  {
   "cell_type": "code",
   "execution_count": 15,
   "id": "83e2a9c3",
   "metadata": {},
   "outputs": [
    {
     "name": "stdout",
     "output_type": "stream",
     "text": [
      "axes\n",
      "bundle_axes\n",
      "calibration\n",
      "class_exts\n",
      "class_priority\n",
      "close\n",
      "colors\n",
      "default_coords\n",
      "exts\n",
      "filename\n",
      "frame_rate\n",
      "frame_shape\n",
      "get_frame\n",
      "get_frame_2D\n",
      "iter_axes\n",
      "max_value\n",
      "metadata\n",
      "metadata_text\n",
      "ndim\n",
      "pixel_type\n",
      "propagate_attrs\n",
      "sizes\n"
     ]
    }
   ],
   "source": [
    "printMethods(nikon_file)"
   ]
  },
  {
   "cell_type": "code",
   "execution_count": 16,
   "id": "325eafaf",
   "metadata": {},
   "outputs": [
    {
     "name": "stdout",
     "output_type": "stream",
     "text": [
      "T\n",
      "all\n",
      "any\n",
      "argmax\n",
      "argmin\n",
      "argpartition\n",
      "argsort\n",
      "astype\n",
      "base\n",
      "byteswap\n",
      "choose\n",
      "clip\n",
      "compress\n",
      "conj\n",
      "conjugate\n",
      "copy\n",
      "ctypes\n",
      "cumprod\n",
      "cumsum\n",
      "data\n",
      "diagonal\n",
      "dot\n",
      "dtype\n",
      "dump\n",
      "dumps\n",
      "fill\n",
      "flags\n",
      "flat\n",
      "flatten\n",
      "frame_no\n",
      "getfield\n",
      "imag\n",
      "item\n",
      "itemset\n",
      "itemsize\n",
      "max\n",
      "mean\n",
      "metadata\n",
      "min\n",
      "nbytes\n",
      "ndim\n",
      "newbyteorder\n",
      "nonzero\n",
      "partition\n",
      "prod\n",
      "ptp\n",
      "put\n",
      "ravel\n",
      "real\n",
      "repeat\n",
      "reshape\n",
      "resize\n",
      "round\n",
      "searchsorted\n",
      "setfield\n",
      "setflags\n",
      "shape\n",
      "size\n",
      "sort\n",
      "squeeze\n",
      "std\n",
      "strides\n",
      "sum\n",
      "swapaxes\n",
      "take\n",
      "tobytes\n",
      "tofile\n",
      "tolist\n",
      "tostring\n",
      "trace\n",
      "transpose\n",
      "var\n",
      "view\n"
     ]
    }
   ],
   "source": [
    "printMethods(nikon_file[5])"
   ]
  },
  {
   "cell_type": "code",
   "execution_count": 18,
   "id": "f119e5de",
   "metadata": {},
   "outputs": [],
   "source": [
    "l = nikon_file[5].tolist()  # 512 x 512 array"
   ]
  },
  {
   "cell_type": "code",
   "execution_count": 29,
   "id": "06b7dc58",
   "metadata": {},
   "outputs": [
    {
     "name": "stdout",
     "output_type": "stream",
     "text": [
      "5\n",
      "{'x_um': 8423.80078125, 'y_um': 14512.6875, 'z_um': 0.0, 't_ms': 636.9797283813477, 'colors': [(0.3254901960784314, 0.9215686274509803, 0.2549019607843137)], 'mpp': 1.578851562183509, 'max_value': 4095, 'x': 0, 'y': 0, 't': 5, 'axes': ['y', 'x'], 'coords': {'t': 5}}\n"
     ]
    }
   ],
   "source": [
    "frame = nikon_file[5]  # pims frame object, subclass of numpy array http://soft-matter.github.io/pims/v0.5/frame.html\n",
    "print(frame.frame_no)\n",
    "print(frame.metadata)"
   ]
  },
  {
   "cell_type": "code",
   "execution_count": null,
   "id": "509278fc",
   "metadata": {},
   "outputs": [],
   "source": []
  }
 ],
 "metadata": {
  "kernelspec": {
   "display_name": "Python 3 (ipykernel)",
   "language": "python",
   "name": "python3"
  },
  "language_info": {
   "codemirror_mode": {
    "name": "ipython",
    "version": 3
   },
   "file_extension": ".py",
   "mimetype": "text/x-python",
   "name": "python",
   "nbconvert_exporter": "python",
   "pygments_lexer": "ipython3",
   "version": "3.8.13"
  }
 },
 "nbformat": 4,
 "nbformat_minor": 5
}
