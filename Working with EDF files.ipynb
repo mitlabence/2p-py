{
 "cells": [
  {
   "cell_type": "code",
   "execution_count": null,
   "id": "674e08ae",
   "metadata": {},
   "outputs": [],
   "source": [
    "import pyedflib\n",
    "import labrotation.file_handling as fh"
   ]
  },
  {
   "cell_type": "code",
   "execution_count": null,
   "id": "f7dbd29d",
   "metadata": {},
   "outputs": [],
   "source": [
    "fpath = fh.open_file(\"Select edf file\")"
   ]
  },
  {
   "cell_type": "code",
   "execution_count": null,
   "id": "e45c58f9",
   "metadata": {},
   "outputs": [],
   "source": [
    "edf = pyedflib.EdfReader(fpath)"
   ]
  },
  {
   "cell_type": "code",
   "execution_count": null,
   "id": "95c04306",
   "metadata": {},
   "outputs": [],
   "source": [
    "edf.file_info()"
   ]
  },
  {
   "cell_type": "code",
   "execution_count": null,
   "id": "81cb7048",
   "metadata": {},
   "outputs": [],
   "source": [
    "edf.getHeader()"
   ]
  },
  {
   "cell_type": "code",
   "execution_count": null,
   "id": "d3efac67",
   "metadata": {},
   "outputs": [],
   "source": []
  }
 ],
 "metadata": {
  "kernelspec": {
   "display_name": "Python 3 (ipykernel)",
   "language": "python",
   "name": "python3"
  },
  "language_info": {
   "codemirror_mode": {
    "name": "ipython",
    "version": 3
   },
   "file_extension": ".py",
   "mimetype": "text/x-python",
   "name": "python",
   "nbconvert_exporter": "python",
   "pygments_lexer": "ipython3",
   "version": "3.8.12"
  }
 },
 "nbformat": 4,
 "nbformat_minor": 5
}
