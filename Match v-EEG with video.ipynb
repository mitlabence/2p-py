{
 "cells": [
  {
   "cell_type": "code",
   "execution_count": null,
   "id": "88324ea8",
   "metadata": {},
   "outputs": [],
   "source": [
    "import cv2\n",
    "import labrotation.file_handling as fh\n",
    "import os\n",
    "import bioread\n",
    "import subprocess\n",
    "import h5py"
   ]
  },
  {
   "cell_type": "code",
   "execution_count": null,
   "id": "69a07245",
   "metadata": {},
   "outputs": [],
   "source": [
    "data_folder = fh.open_dir(\"Choose directory containing .avi and .acq files\")"
   ]
  },
  {
   "cell_type": "code",
   "execution_count": null,
   "id": "7f60ba9f",
   "metadata": {},
   "outputs": [],
   "source": [
    "fname_avi = None\n",
    "fname_acq = None\n",
    "for root, folders, files in os.walk(data_folder):\n",
    "    for file in files:\n",
    "        if os.path.splitext(file)[-1] == \".acq\":\n",
    "            fpath_acq = os.path.join(root, file)\n",
    "        elif os.path.splitext(file)[-1] == \".avi\":\n",
    "            fpath_avi = os.path.join(root, file)"
   ]
  },
  {
   "cell_type": "code",
   "execution_count": null,
   "id": "f3278f90",
   "metadata": {},
   "outputs": [],
   "source": [
    "fpath_h5 = os.path.splitext(fpath_acq)[0] + \".hdf5\"\n",
    "if not os.path.exists(fpath_h5):\n",
    "    print(f\"Exporting acq file to {fpath_h5}\")\n",
    "else:\n",
    "    print(f\"Already exists: {fpath_h5}\")"
   ]
  },
  {
   "cell_type": "code",
   "execution_count": null,
   "id": "5b1841bd",
   "metadata": {},
   "outputs": [],
   "source": [
    "if not os.path.exists(fpath_h5):\n",
    "    subprocess.run([\"acq2hdf5\", fname_acq, fpath_h5]) \n",
    "    print(f\"Saved acq data to {fpath_h5}\")\n",
    "else:\n",
    "    print(\"No export took place.\")"
   ]
  },
  {
   "cell_type": "code",
   "execution_count": null,
   "id": "fb9e1dbf",
   "metadata": {},
   "outputs": [],
   "source": [
    "cap = cv2.VideoCapture(fname_avi)"
   ]
  },
  {
   "cell_type": "code",
   "execution_count": null,
   "id": "cbba1f27",
   "metadata": {},
   "outputs": [],
   "source": [
    "ret, frame = cap.read(10)"
   ]
  },
  {
   "cell_type": "code",
   "execution_count": null,
   "id": "28f7071f",
   "metadata": {},
   "outputs": [],
   "source": [
    "#f = bioread.read_file(fname_acq)"
   ]
  },
  {
   "cell_type": "code",
   "execution_count": null,
   "id": "5a076ee1",
   "metadata": {},
   "outputs": [],
   "source": [
    "with h5py.File(fpath_h5) as hf:\n",
    "    for g in hf[\"event_markers\"]:\n",
    "        print(g)\n",
    "        print(hf[\"event_markers\"][g].attrs.keys())"
   ]
  },
  {
   "cell_type": "code",
   "execution_count": null,
   "id": "561872a5",
   "metadata": {},
   "outputs": [],
   "source": []
  }
 ],
 "metadata": {
  "kernelspec": {
   "display_name": "Python 3 (ipykernel)",
   "language": "python",
   "name": "python3"
  },
  "language_info": {
   "codemirror_mode": {
    "name": "ipython",
    "version": 3
   },
   "file_extension": ".py",
   "mimetype": "text/x-python",
   "name": "python",
   "nbconvert_exporter": "python",
   "pygments_lexer": "ipython3",
   "version": "3.8.12"
  }
 },
 "nbformat": 4,
 "nbformat_minor": 5
}
