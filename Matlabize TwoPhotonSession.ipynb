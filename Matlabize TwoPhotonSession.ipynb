{
 "cells": [
  {
   "cell_type": "code",
   "execution_count": null,
   "id": "3e12d2d5",
   "metadata": {},
   "outputs": [],
   "source": [
    "#Auto-reload modules (used to develop functions outside this notebook)\n",
    "%load_ext autoreload\n",
    "%autoreload 2"
   ]
  },
  {
   "cell_type": "code",
   "execution_count": null,
   "id": "860a08b3",
   "metadata": {},
   "outputs": [],
   "source": [
    "from labrotation.two_photon_session import TwoPhotonSession\n",
    "import labrotation.file_handling as fh\n",
    "from matplotlib import pyplot as plt\n",
    "import os\n",
    "import h5py"
   ]
  },
  {
   "cell_type": "code",
   "execution_count": null,
   "id": "3bea4066",
   "metadata": {},
   "outputs": [],
   "source": [
    "fname = fh.open_file(\"Open h5 file!\")"
   ]
  },
  {
   "cell_type": "code",
   "execution_count": null,
   "id": "97247b1b",
   "metadata": {},
   "outputs": [],
   "source": [
    "print(fname)"
   ]
  },
  {
   "cell_type": "code",
   "execution_count": null,
   "id": "3afa5ab0",
   "metadata": {},
   "outputs": [],
   "source": [
    "session = TwoPhotonSession.from_hdf5(fname)"
   ]
  },
  {
   "cell_type": "code",
   "execution_count": null,
   "id": "d781bc5e",
   "metadata": {},
   "outputs": [],
   "source": [
    "with h5py.File(fname) as hf:\n",
    "    fluo_improved = hf[\"mean_fluo_nucleus\"][()]\n",
    "    binary_img = hf[\"selected_pixels\"][()]\n",
    "    fov = hf[\"fov\"][()]"
   ]
  },
  {
   "cell_type": "code",
   "execution_count": null,
   "id": "aee9e7ba",
   "metadata": {},
   "outputs": [],
   "source": [
    "session.time_offs_lfp_nik"
   ]
  },
  {
   "cell_type": "code",
   "execution_count": null,
   "id": "9e0ffb91",
   "metadata": {},
   "outputs": [],
   "source": [
    "if type(session.ND2_TIMESTAMPS_PATH) == bytes:\n",
    "    session.ND2_TIMESTAMPS_PATH = session.ND2_TIMESTAMPS_PATH.decode()"
   ]
  },
  {
   "cell_type": "code",
   "execution_count": null,
   "id": "a6f2f858",
   "metadata": {},
   "outputs": [],
   "source": [
    "session.nikon_meta"
   ]
  },
  {
   "cell_type": "code",
   "execution_count": null,
   "id": "7b6f1e03",
   "metadata": {},
   "outputs": [],
   "source": [
    "session._load_nikon_meta()"
   ]
  },
  {
   "cell_type": "code",
   "execution_count": null,
   "id": "6f6fc89a",
   "metadata": {},
   "outputs": [],
   "source": [
    "session.nikon_meta = session.nikon_meta[session.nikon_meta[\"Events Type\"] != \"Stimulation\"]"
   ]
  },
  {
   "cell_type": "code",
   "execution_count": null,
   "id": "86593db7",
   "metadata": {},
   "outputs": [],
   "source": [
    "nik_sw_t = session.nikon_meta[\"SW Time [s]\"].values\n",
    "nik_t_approx_s = nik_sw_t - nik_sw_t[0]"
   ]
  },
  {
   "cell_type": "code",
   "execution_count": null,
   "id": "6292b780",
   "metadata": {},
   "outputs": [],
   "source": [
    "lfp_mov_t, lfp_mov_y = session.lfp_movement()\n",
    "lfp_lfp_t, lfp_lfp_y = session.lfp_lfp()"
   ]
  },
  {
   "cell_type": "code",
   "execution_count": null,
   "id": "f52a0243",
   "metadata": {},
   "outputs": [],
   "source": [
    "fig, axs = plt.subplots(3, 1, figsize=(18,18), sharex=True)\n",
    "axs[0].plot(nik_t_approx_s, session.mean_fluo, color=\"green\")\n",
    "axs[1].plot(lfp_lfp_t, lfp_lfp_y, color=\"blue\")\n",
    "axs[2].plot(lfp_mov_t, lfp_mov_y, color=\"grey\")\n",
    "\n",
    "axs[2].set_xlim((20, 25))\n",
    "plt.show()"
   ]
  },
  {
   "cell_type": "code",
   "execution_count": null,
   "id": "120748ed",
   "metadata": {},
   "outputs": [],
   "source": [
    "export_dict = {\"fluo_y\":session.mean_fluo, \"fluo_y_nucleus\":fluo_improved, \"fluo_t\":nik_t_approx_s, \"lfp_y\":lfp_lfp_y, \"lfp_t\":lfp_lfp_t, \"loco_t\":lfp_mov_t, \"loco_y\":lfp_mov_y, \"selected_pixels\":binary_img, \"fov\":fov}"
   ]
  },
  {
   "cell_type": "code",
   "execution_count": null,
   "id": "6412835e",
   "metadata": {},
   "outputs": [],
   "source": [
    "out_fname = os.path.splitext(os.path.split(fname)[1])[0] + \"_matlabized.h5\"\n",
    "out_fpath = os.path.join(os.path.split(fname)[0], out_fname)\n",
    "print(out_fpath)"
   ]
  },
  {
   "cell_type": "code",
   "execution_count": null,
   "id": "0094cb1a",
   "metadata": {},
   "outputs": [],
   "source": [
    "save_file = False\n",
    "if save_file:\n",
    "    with h5py.File(out_fpath, \"w\") as hf:\n",
    "        for key in export_dict.keys():\n",
    "            hf[key] = export_dict[key]\n",
    "    print(\"Saved file.\")\n",
    "else:\n",
    "    print(\"File not saved!\")"
   ]
  },
  {
   "cell_type": "code",
   "execution_count": null,
   "id": "ecb572e9",
   "metadata": {},
   "outputs": [],
   "source": []
  }
 ],
 "metadata": {
  "kernelspec": {
   "display_name": "Python 3 (ipykernel)",
   "language": "python",
   "name": "python3"
  },
  "language_info": {
   "codemirror_mode": {
    "name": "ipython",
    "version": 3
   },
   "file_extension": ".py",
   "mimetype": "text/x-python",
   "name": "python",
   "nbconvert_exporter": "python",
   "pygments_lexer": "ipython3",
   "version": "3.8.12"
  }
 },
 "nbformat": 4,
 "nbformat_minor": 5
}
