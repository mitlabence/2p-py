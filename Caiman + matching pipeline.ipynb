{
 "cells": [
  {
   "cell_type": "code",
   "execution_count": 1,
   "id": "3b4db60b",
   "metadata": {},
   "outputs": [],
   "source": [
    "#Auto-reload modules (used to develop functions outside this notebook)\n",
    "%load_ext autoreload\n",
    "%autoreload 2"
   ]
  },
  {
   "cell_type": "code",
   "execution_count": 35,
   "id": "21abc278",
   "metadata": {},
   "outputs": [],
   "source": [
    "import h5py\n",
    "import pandas as pd\n",
    "import labrotation.two_photon_session as tps # TODO: in this cell, kernel dies on other PC\n",
    "import os\n",
    "import labrotation.file_handling as fh"
   ]
  },
  {
   "cell_type": "code",
   "execution_count": 9,
   "id": "c925384e",
   "metadata": {},
   "outputs": [],
   "source": [
    "nd2_fpath = fh.open_file(\"Choose nd2 file!\")\n",
    "nd2_meta_fpath = fh.open_file(\"Choose nikon metadata file (_nik.txt)\")\n",
    "lv_fpath = fh.open_file(\"Choose labview file! (xy.txt)\")\n",
    "lvtime_fpath = fh.open_file(\"Choose labview time file! (xytime.txt)\")\n",
    "lfp_fpath = fh.open_file(\"Choose lfp (.abf) file!\")\n",
    "matlab_2p_path = fh.open_dir(\"Choose matlab-2p folder!\")"
   ]
  },
  {
   "cell_type": "code",
   "execution_count": 11,
   "id": "24f131e1",
   "metadata": {},
   "outputs": [
    {
     "name": "stdout",
     "output_type": "stream",
     "text": [
      "setting lfp_fpath to None\n"
     ]
    }
   ],
   "source": [
    "# if file not found (\".\"), chnage it to None\n",
    "if nd2_fpath == \".\":\n",
    "    print(\"setting nd2_fpath to None\")\n",
    "    nd2_fpath = None\n",
    "if nd2_meta_fpath == \".\":\n",
    "    print(\"setting nd2_meta_fpath to None\")\n",
    "    nd2_meta_fpath = None\n",
    "if lv_fpath == \".\":\n",
    "    print(\"setting lv_fpath to None\")\n",
    "    lv_fpath = None\n",
    "if lvtime_fpath == \".\":\n",
    "    print(\"setting lvtime_fpath to None\")\n",
    "    lvtime_fpath = None\n",
    "if lfp_fpath == \".\":\n",
    "    print(\"setting lfp_fpath to None\")\n",
    "    lfp_fpath = None\n",
    "if matlab_2p_path == \".\":\n",
    "    print(\"setting matlab_2p_path to None\")\n",
    "    matlab_2p_path = None"
   ]
  },
  {
   "cell_type": "code",
   "execution_count": 36,
   "id": "5b39d0d6",
   "metadata": {},
   "outputs": [
    {
     "name": "stdout",
     "output_type": "stream",
     "text": [
      "Calling Matlab-2p beltProcessPipelineExpProps with arguments:\n",
      "\tD:\\T301\\T301_base_d1\n",
      "\tT301_base_d1.180820.1614\n",
      "\tT301_base_d1.180820.1614_nik\n",
      "TwoPhotonSession: LFP file was not specified.\n"
     ]
    }
   ],
   "source": [
    "session = tps.TwoPhotonSession.init_and_process(nd2_path=nd2_fpath, \n",
    "                                                nd2_timestamps_path=nd2_meta_fpath, \n",
    "                                                labview_path=lv_fpath, \n",
    "                                                labview_timestamps_path=lvtime_fpath,\n",
    "                                                lfp_path=lfp_fpath,\n",
    "                                                matlab_2p_folder=matlab_2p_path)"
   ]
  },
  {
   "cell_type": "code",
   "execution_count": 21,
   "id": "f45bb138",
   "metadata": {},
   "outputs": [],
   "source": [
    "session_hdf5_fpath = fh.open_dir(\"Select folder to save results\")"
   ]
  },
  {
   "cell_type": "code",
   "execution_count": 37,
   "id": "34e26a3e",
   "metadata": {},
   "outputs": [
    {
     "name": "stdout",
     "output_type": "stream",
     "text": [
      "session data will be saved as\n",
      "D:\\T301\\T301_base_d1\\T301_base_d1.180820.1614_session.hdf5\n"
     ]
    }
   ],
   "source": [
    "session_hdf5_fpath = os.path.join(session_hdf5_fpath, os.path.splitext(session.ND2_PATH)[0] + \"_session.hdf5\")\n",
    "print(f\"session data will be saved as\\n{session_hdf5_fpath}\")"
   ]
  },
  {
   "cell_type": "code",
   "execution_count": 38,
   "id": "2eeb0424",
   "metadata": {},
   "outputs": [],
   "source": [
    "session.export_hdf5(fpath=session_hdf5_fpath)"
   ]
  }
 ],
 "metadata": {
  "kernelspec": {
   "display_name": "Python 3 (ipykernel)",
   "language": "python",
   "name": "python3"
  },
  "language_info": {
   "codemirror_mode": {
    "name": "ipython",
    "version": 3
   },
   "file_extension": ".py",
   "mimetype": "text/x-python",
   "name": "python",
   "nbconvert_exporter": "python",
   "pygments_lexer": "ipython3",
   "version": "3.8.12"
  }
 },
 "nbformat": 4,
 "nbformat_minor": 5
}
