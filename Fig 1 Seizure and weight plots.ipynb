{
 "cells": [
  {
   "cell_type": "code",
   "execution_count": null,
   "id": "3896066a",
   "metadata": {},
   "outputs": [],
   "source": [
    "import h5py\n",
    "import pandas as pd\n",
    "import seaborn as sn\n",
    "import matplotlib.pyplot as plt\n",
    "import labrotation.file_handling as fh\n",
    "import os"
   ]
  },
  {
   "cell_type": "code",
   "execution_count": null,
   "id": "475da23d",
   "metadata": {},
   "outputs": [],
   "source": [
    "fpath_weights_seizures = fh.open_file(\"Select weights_seizures.hdf5 file!\")\n",
    "assert os.path.exists(fpath_weights_seizures)"
   ]
  },
  {
   "cell_type": "code",
   "execution_count": null,
   "id": "ce584278",
   "metadata": {},
   "outputs": [],
   "source": [
    "env_dict = dict()\n",
    "if not os.path.exists(\"./.env\"):\n",
    "    print(\".env does not exist\")\n",
    "else:\n",
    "    with open(\"./.env\", \"r\") as f:\n",
    "        for line in f.readlines():\n",
    "            l = line.rstrip().split(\"=\")\n",
    "            env_dict[l[0]] = l[1]\n",
    "print(env_dict.keys())"
   ]
  },
  {
   "cell_type": "code",
   "execution_count": null,
   "id": "911d658f",
   "metadata": {},
   "outputs": [],
   "source": [
    "fpath_out = env_dict[\"DOWNLOADS_FOLDER\"]"
   ]
  },
  {
   "cell_type": "code",
   "execution_count": null,
   "id": "2f0e7946",
   "metadata": {},
   "outputs": [],
   "source": [
    "dict_w_sz = dict()  # {mouse id: {injection type: str, all seizures: list[float], weight days: list[int], weights: list[float]}}\n",
    "with h5py.File(fpath_weights_seizures, \"r\") as hf:\n",
    "    for grp in hf:\n",
    "        meta = hf[grp].attrs\n",
    "        mouse_id = meta[\"id\"]\n",
    "        inj_type = meta[\"injection_type\"]\n",
    "        all_szs = hf[grp][\"all_seizures\"][()]  # in hours since injection\n",
    "        w_days = hf[grp][\"weight_days\"][()]\n",
    "        ws = hf[grp][\"weights\"][()]\n",
    "        dict_w_sz[mouse_id] = {\"injection_type\": inj_type, \"all_seizures\": all_szs, \"weight_days\": w_days, \"weights\": ws}"
   ]
  },
  {
   "cell_type": "code",
   "execution_count": null,
   "id": "37ceb741",
   "metadata": {},
   "outputs": [],
   "source": [
    "sz_times = []\n",
    "mouse_ids = []\n",
    "sz_colors = {}\n",
    "#colors = [\"0x000000\", \"0x444444\", \"0x808080\", \"0x8E8E8E\", \"0xA9A9A9\", \"0xCCCCCC\", \"0xEEEEEE\"]\n",
    "#colors = [(0, 0, 0), (80, 80, 80), (128, 128, 128), (150, 150, 150), (172, 172, 172), (212, 212, 212), (220, 220, 220)]\n",
    "colors = [(0, 0, 0), (89, 89, 89), (115, 115, 115), (140, 140, 140), (166, 166, 166), (191, 191, 191), (217, 217, 217)]  # same colors as first draft of manuscript\n",
    "colors = [(color[0]/255., color[1]/255., color[2]/255. ) for color in colors]\n",
    "i_color = 0\n",
    "for mouse_id in dict_w_sz:\n",
    "    szs = dict_w_sz[mouse_id][\"all_seizures\"]\n",
    "    if len(szs) > 0:\n",
    "        sz_times.extend(szs)\n",
    "        mouse_ids.extend([mouse_id]*len(szs))\n",
    "        sz_colors[mouse_id] = colors[i_color]\n",
    "        i_color += 1"
   ]
  },
  {
   "cell_type": "code",
   "execution_count": null,
   "id": "e45cf780",
   "metadata": {},
   "outputs": [],
   "source": [
    "sz_times = [sz_time / 24. for sz_time in sz_times]  # convert to days p.i."
   ]
  },
  {
   "cell_type": "code",
   "execution_count": null,
   "id": "2f605abe",
   "metadata": {},
   "outputs": [],
   "source": [
    "df_sz = pd.DataFrame({\"time\": sz_times, \"id\": mouse_ids})"
   ]
  },
  {
   "cell_type": "code",
   "execution_count": null,
   "id": "f8daa324",
   "metadata": {},
   "outputs": [],
   "source": [
    "df_sz[\"day\"] = df_sz[\"time\"].astype(int)"
   ]
  },
  {
   "cell_type": "code",
   "execution_count": null,
   "id": "2077da78",
   "metadata": {},
   "outputs": [],
   "source": [
    "# get the median number of seizures per day (count seizures per day per mouse, take median over mice each day)\n",
    "df_rate = df_sz.groupby([\"day\", \"id\"]).count().groupby(\"day\").median(\"time\")\n",
    "# This actually does not work, as mice without seizure in one day do not appear for that day, distorting the median"
   ]
  },
  {
   "cell_type": "code",
   "execution_count": null,
   "id": "184ac286",
   "metadata": {},
   "outputs": [],
   "source": [
    "fig, ax = plt.subplots(figsize=(12, 6))\n",
    "sn.violinplot(data=df_sz, x=\"time\", ax=ax, color=\"black\", fill=False, inner=None)\n",
    "#sn.stripplot(data=df_sz, x=\"time\", hue=\"id\", jitter=0.06, palette=sz_colors, size=10, alpha=0.8, ax=ax)\n",
    "sn.swarmplot(data=df_sz, x=\"time\", hue=\"id\", palette=sz_colors, size=10, alpha=1.0, ax=ax)\n",
    "ax.set_xlim((0, 8))\n",
    "ax.set_ylabel(\"# of sz (k.d.e.)\", fontsize=16)\n",
    "ax.set_xlabel(\"d. p. i.\", fontsize=16)\n",
    "#plt.savefig(os.path.join(fpath_out, \"sz_kde.pdf\"))\n",
    "plt.show()"
   ]
  },
  {
   "cell_type": "code",
   "execution_count": null,
   "id": "0900b3f7",
   "metadata": {},
   "outputs": [],
   "source": [
    "# plot seizures per day\n",
    "fig, ax = plt.subplots(figsize=(12, 6))\n",
    "sn.histplot(\n",
    "    df_sz,\n",
    "    x=\"time\", hue=\"id\",\n",
    "    multiple=\"dodge\", #\"stack\",\n",
    "    palette=sz_colors,\n",
    "    edgecolor=\".3\",\n",
    "    linewidth=.5,\n",
    "    log_scale=False,\n",
    "    bins=[i for i in range(8)],\n",
    "    ax=ax\n",
    ")\n",
    "ax.set_ylabel(\"#/day\", fontsize=16)\n",
    "ax.set_xlabel(\"d. p. i.\", fontsize=16)\n",
    "#plt.savefig(os.path.join(fpath_out, \"sz_hist.pdf\"))\n",
    "plt.show()"
   ]
  },
  {
   "cell_type": "code",
   "execution_count": null,
   "id": "5b13e440",
   "metadata": {},
   "outputs": [],
   "source": [
    "all_days = pd.RangeIndex(df_sz['day'].min(), df_sz['day'].max() + 1)"
   ]
  },
  {
   "cell_type": "code",
   "execution_count": null,
   "id": "fd101232",
   "metadata": {},
   "outputs": [],
   "source": [
    "complete_days = (df_sz[['id']]\n",
    "                 .drop_duplicates()\n",
    "                 .assign(key=1)\n",
    "                 .merge(pd.DataFrame({'day': all_days, 'key': 1}), on='key')\n",
    "                 .drop('key', axis=1))"
   ]
  },
  {
   "cell_type": "code",
   "execution_count": null,
   "id": "fdef8235",
   "metadata": {},
   "outputs": [],
   "source": [
    "sz_counts = df_sz.groupby(['id', 'day']).size().reset_index(name='sz_per_day')"
   ]
  },
  {
   "cell_type": "code",
   "execution_count": null,
   "id": "c1647c84",
   "metadata": {},
   "outputs": [],
   "source": [
    "complete_sz_counts = pd.merge(complete_days, sz_counts, on=['id', 'day'], how='left')"
   ]
  },
  {
   "cell_type": "code",
   "execution_count": null,
   "id": "537c3f4f",
   "metadata": {},
   "outputs": [],
   "source": [
    "df_sz_per_day = complete_sz_counts.fillna(0).groupby(\"day\").mean(\"sz_per_day\")\n",
    "# move day index from 1, ..., 6 to 1.5, ..., 6.5 for nicer plotting\n",
    "df_sz_per_day = df_sz_per_day.reset_index()\n",
    "df_sz_per_day[\"day\"] = df_sz_per_day[\"day\"] + 0.5"
   ]
  },
  {
   "cell_type": "code",
   "execution_count": null,
   "id": "b70c79a0",
   "metadata": {},
   "outputs": [],
   "source": [
    "df_sz_counts = complete_sz_counts.fillna(0)\n",
    "df_sz_counts[\"day\"] = df_sz_counts[\"day\"] + 0.5  # slide days to middle of day bin"
   ]
  },
  {
   "cell_type": "code",
   "execution_count": null,
   "id": "e41ecca6",
   "metadata": {},
   "outputs": [],
   "source": [
    "fig, ax = plt.subplots(figsize=(14, 7))\n",
    "#sn.violinplot(data=df_sz, x=\"time\", color=\"black\", fill=False, inner=None, ax=ax)\n",
    "#sn.stripplot(data=df_sz, x=\"time\", hue=\"id\", jitter=0.06, palette=sz_colors, size=10, alpha=0.8, ax=ax)\n",
    "ax2 = ax.twinx()\n",
    "\n",
    "sn.swarmplot(data=df_sz, x=\"time\", hue=\"id\", palette=sz_colors, size=10, alpha=1.0, ax=ax2)\n",
    "#sn.lineplot(data=df_sz_per_day, x=\"day\", y=\"sz_per_day\", ax=ax, color=\"black\", label=\"line\")  # plot only mean\n",
    "sn.lineplot(data=df_sz_counts, x=\"day\", y=\"sz_per_day\", estimator=\"mean\", errorbar=\"se\", color=\"black\", ax=ax)  # plot with sem\n",
    "ax2.set_ylim((-0.3, 2))\n",
    "ax.set_xlim((0, 8))\n",
    "ax.set_ylim((-1, 6))\n",
    "ax.set_ylabel(\"mean +- sem # of sz/day\", fontsize=16)\n",
    "#ax.set_ylabel(\"# of sz (k.d.e.)\", fontsize=16)\n",
    "ax.set_xlabel(\"d. p. i.\", fontsize=16)\n",
    "ax2.yaxis.set_visible(False)\n",
    "\n",
    "plt.savefig(os.path.join(fpath_out, \"sz_mean_se_per_day.pdf\"))\n",
    "plt.show()"
   ]
  },
  {
   "cell_type": "code",
   "execution_count": null,
   "id": "7992b560",
   "metadata": {},
   "outputs": [],
   "source": []
  }
 ],
 "metadata": {
  "kernelspec": {
   "display_name": "Python 3 (ipykernel)",
   "language": "python",
   "name": "python3"
  },
  "language_info": {
   "codemirror_mode": {
    "name": "ipython",
    "version": 3
   },
   "file_extension": ".py",
   "mimetype": "text/x-python",
   "name": "python",
   "nbconvert_exporter": "python",
   "pygments_lexer": "ipython3",
   "version": "3.8.12"
  }
 },
 "nbformat": 4,
 "nbformat_minor": 5
}
