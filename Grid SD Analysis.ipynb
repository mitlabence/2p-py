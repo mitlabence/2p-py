{
 "cells": [
  {
   "cell_type": "markdown",
   "id": "8a3b4bbb",
   "metadata": {},
   "source": [
    "# Analysis of SD as a wave phenomenon in 2p recordings\n",
    "In this script, the spreading depolarization waves are analyzed as waves of high signal, disregarding the cell dynamics, for example. Questions asked are:\n",
    "* Where does the SD come from, where does it go?\n",
    "* How many SDs are there (find the manually). Is this a constant over seizures for one mouse?\n",
    "* Do the SDs always look similar in the same mouse?"
   ]
  },
  {
   "cell_type": "markdown",
   "id": "6cccb703",
   "metadata": {},
   "source": [
    "### TODO\n",
    "* add mouse ID to JSON\n",
    "* Useful for analysis motivation: Masvidal-Codina et al 2021, Characterization of optogenetically-induced cortical spreading depression in awake mice using graphene micro-transistor arrays\n",
    "* use ideas from paper above to correct for outliers (2.5 SD of mean latency...), \n",
    "* T301 tmev d1 1131 (video 2): the first SD is not over yet, but the second waves are already coming. Need to make a sliding interval? I.e. on lower parts, the window for 1st SD is [x,y], for upper parts it is later [x+dt, y+dt]...\n",
    "* Currently: make rectangles and take mean signal. Anything better?\n",
    "* Assigning an \"activation frame index\": is the first maximum within the SD window. First maximum might not be the best statistic. Maybe do something with derivative (finite difference)?"
   ]
  },
  {
   "cell_type": "markdown",
   "id": "bdeca701",
   "metadata": {},
   "source": [
    "## Import libraries"
   ]
  },
  {
   "cell_type": "code",
   "execution_count": null,
   "id": "e2608961",
   "metadata": {},
   "outputs": [],
   "source": [
    "#Auto-reload modules (used to develop functions outside this notebook)\n",
    "%load_ext autoreload\n",
    "%autoreload 2"
   ]
  },
  {
   "cell_type": "code",
   "execution_count": null,
   "id": "de29108b",
   "metadata": {},
   "outputs": [],
   "source": [
    "import numpy as np\n",
    "from nd2_to_caiman import np_arr_from_nd2\n",
    "import labrotation.file_handling as fh\n",
    "from matplotlib import pyplot as plt\n",
    "from matplotlib.collections import PatchCollection\n",
    "from matplotlib.patches import Rectangle\n",
    "from math import floor, sqrt\n",
    "from datetime import datetime\n",
    "import json\n",
    "from labrotation import json_util"
   ]
  },
  {
   "cell_type": "markdown",
   "id": "d113da34",
   "metadata": {},
   "source": [
    "## Open nd2 file (seizure recording)"
   ]
  },
  {
   "cell_type": "code",
   "execution_count": null,
   "id": "aa826f64",
   "metadata": {},
   "outputs": [],
   "source": [
    "nd2_fpath = fh.open_file(\"Select nd2 file\") #\"D:/PhD/Data/T386_MatlabTest/T386_20211202_green.nd2\"\n",
    "print(f\"Input file selected: {nd2_fpath}\")"
   ]
  },
  {
   "cell_type": "code",
   "execution_count": null,
   "id": "7d45c4ce",
   "metadata": {
    "scrolled": true
   },
   "outputs": [],
   "source": [
    "nd2_data = np_arr_from_nd2(nd2_fpath)"
   ]
  },
  {
   "cell_type": "code",
   "execution_count": null,
   "id": "c5a02214",
   "metadata": {},
   "outputs": [],
   "source": [
    "n_frames = nd2_data.shape[0]"
   ]
  },
  {
   "cell_type": "code",
   "execution_count": null,
   "id": "128250c9",
   "metadata": {},
   "outputs": [],
   "source": [
    "nd2_data.dtype"
   ]
  },
  {
   "cell_type": "markdown",
   "id": "492fe697",
   "metadata": {},
   "source": [
    "## Find SD waves by hand. Enter (starting frame, ending frame) into SD_frames list"
   ]
  },
  {
   "cell_type": "markdown",
   "id": "40999d21",
   "metadata": {},
   "source": [
    "Use NIS-Elements Viewer or the slider below to find the SD onset and end time for each SD"
   ]
  },
  {
   "cell_type": "code",
   "execution_count": null,
   "id": "9a49e24c",
   "metadata": {},
   "outputs": [],
   "source": [
    "import param\n",
    "import bokeh\n",
    "import pylab as pl\n",
    "import holoviews as hv\n",
    "import panel as pn\n",
    "hv.extension('bokeh', 'matplotlib')"
   ]
  },
  {
   "cell_type": "code",
   "execution_count": null,
   "id": "8de05d15",
   "metadata": {},
   "outputs": [],
   "source": [
    "class PlotFrame(param.Parameterized):\n",
    "    i_frame                = param.Number(default=0, bounds=(0, n_frames), step=1)\n",
    "    @param.depends('i_frame')\n",
    "    def view(self):\n",
    "        im = hv.Image(np.flip(nd2_data[self.i_frame,:,:], 0), bounds=(0, 0, 512, 512), kdims=[\"width\", \"height\"]).opts(normalize=True, cmap=\"twilight\", invert_yaxis=True, xlim=(0,512), ylim=(0, 512), aspect=\"equal\", frame_height=400) # need to flip rows and invert yaxis so top left is (0, 0)\n",
    "        return im"
   ]
  },
  {
   "cell_type": "code",
   "execution_count": null,
   "id": "25a7fcdd",
   "metadata": {},
   "outputs": [],
   "source": [
    "pn.extension()\n",
    "p = PlotFrame()\n",
    "\n",
    "pn.Row(p.view, p.param)  "
   ]
  },
  {
   "cell_type": "markdown",
   "id": "5cfe031a",
   "metadata": {},
   "source": [
    "## Enter manually SD frames: [(onset1, end1), (onset2, end2), ...] "
   ]
  },
  {
   "cell_type": "code",
   "execution_count": null,
   "id": "b701dcef",
   "metadata": {},
   "outputs": [],
   "source": [
    "SD_frames = [(8604, 8695)]  # strict frames, no buffer before and after\n",
    "n_SD = len(SD_frames)\n",
    "#SD_frames = [(9164, 9231), (9232, 9333)]  # manually set the starting points for each wave. Last entry is the end of relevant period"
   ]
  },
  {
   "cell_type": "markdown",
   "id": "83606b95",
   "metadata": {},
   "source": [
    "## Define analysis parameters"
   ]
  },
  {
   "cell_type": "code",
   "execution_count": null,
   "id": "b7a85fcc",
   "metadata": {},
   "outputs": [],
   "source": [
    "# DEFINE PARAMETERS HERE:\n",
    "# number of points per row and per column in the grid\n",
    "n_rows = 8\n",
    "n_cols = 8\n",
    "# half side length of rectangle centered around points\n",
    "half_side_len = 31 # 14  # if half_side_len = 3, then rectangle size = (3 + 1 + 3) x (3 + 1 + 3) = 7x7\n",
    "# offset from edge of FOV. Used to 1. disregard some corner pixels, 2. give place for the rectangles around the grid points.\n",
    "offset_x = 32 # 20  # ignore this many pixels on both left and right\n",
    "offset_y = 32 # 20  # ignore this many pixels on both top and bottom\n",
    "\n",
    "\n",
    "# DERIVED PARAMETERS:\n",
    "# frame size\n",
    "frame_width = nd2_data.shape[1]\n",
    "frame_height = nd2_data.shape[2]\n",
    "# distance between grid points\n",
    "x_step = (frame_width - 2*offset_x)//(n_cols-1)\n",
    "y_step = (frame_height - 2*offset_y)//(n_rows-1)\n",
    "# to make grid symmetric, calculate leftover and divide it on both sides for both rows and columns\n",
    "x_leftover = (frame_width - 2*offset_x)%x_step\n",
    "y_leftover = (frame_height - 2*offset_y)%y_step\n",
    "\n",
    "\n",
    "# TEST CONSISTENCY OF PARAMETERS\n",
    "assert(n_rows > 1 and n_cols > 1)  # to be able to make a grid, need at least 2x2 points\n",
    "assert((half_side_len < offset_x) and (half_side_len < offset_y))  # make sure that the rectangles stay inside FOV\n",
    "assert(((2*half_side_len + 1) < x_step) and ((2*half_side_len + 1) < y_step ))  # check no overlap between rectangles"
   ]
  },
  {
   "cell_type": "markdown",
   "id": "18d0b468",
   "metadata": {},
   "source": [
    "## Create array of grid points"
   ]
  },
  {
   "cell_type": "code",
   "execution_count": null,
   "id": "9ab15454",
   "metadata": {},
   "outputs": [],
   "source": [
    "def get_x(i_col):\n",
    "    return (offset_x + floor(x_leftover/2) + i_col*x_step)\n",
    "\n",
    "def get_y(i_row):\n",
    "    return (offset_y + floor(y_leftover/2) + i_row*y_step)\n",
    "\n",
    "def get_coords(i_row, i_col): \n",
    "    \"\"\"\n",
    "    given the input video and needed grid size, get coordinates of the grid point as tuple (row_pixel, col_pixel).\n",
    "    IMPORTANT: it uses the parameters defined above! Changing them will change the output of this function.\n",
    "    \"\"\"\n",
    "    return (get_x(i_col), get_y(i_row))\n",
    "\n",
    "points = []  # list of grid points: [(x, y), ...]\n",
    "for i_row in range(n_cols):\n",
    "    for i_col in range(n_rows):\n",
    "        points.append(get_coords(i_row,i_col))\n",
    "    \n",
    "points_x = []\n",
    "points_y = []\n",
    "# list x and y coordinates.\n",
    "for i_col in range(n_cols):\n",
    "    points_x.append(get_x(i_col))\n",
    "for i_row in range(n_rows):\n",
    "    points_y.append(get_y(i_row))"
   ]
  },
  {
   "cell_type": "code",
   "execution_count": null,
   "id": "250e36a0",
   "metadata": {},
   "outputs": [],
   "source": [
    "# used for visualization of selected grid\n",
    "grid_spacing_x = frame_width / (n_cols)  # put n_cols evenly spaced points per row\n",
    "grid_spacing_y = frame_height / (n_rows)\n",
    "\n",
    "def get_raw_coord(i_col_or_row):  # does not take into account the cropping. Just divides up whole frame in the grid and finds centres\n",
    "    return ((i_col_or_row + 0.5)*grid_spacing_x)\n",
    "\n",
    "def get_rect_corners(i_col, i_row):\n",
    "    # get centre coordinate\n",
    "    x_center = get_raw_coord(i_col)\n",
    "    y_center = get_raw_coord(i_row)\n",
    "    \n",
    "    # calculate top-left (dir. (0, 0) ) and bottom-right (dir. (n, n)) corners\n",
    "    x0 = x_center - half_side_len\n",
    "    x1 = x_center + half_side_len\n",
    "    \n",
    "    y0 = y_center - half_side_len\n",
    "    y1 = y_center + half_side_len\n",
    "    \n",
    "    return (x0, y0, x1, y1)"
   ]
  },
  {
   "cell_type": "markdown",
   "id": "b6383d73",
   "metadata": {},
   "source": [
    "## Show grid on recording"
   ]
  },
  {
   "cell_type": "code",
   "execution_count": null,
   "id": "7aecc426",
   "metadata": {},
   "outputs": [],
   "source": [
    "%matplotlib inline\n",
    "\n",
    "rects = [Rectangle((points[i][0] - half_side_len, points[i][1] - half_side_len ), (2*half_side_len+1), (2*half_side_len))\n",
    "                  for i in range(len(points))]\n",
    "pc = PatchCollection(rects, facecolor=\"yellow\", alpha=0.2, edgecolor=\"red\")\n",
    "fig, ax = plt.subplots(1, figsize=(18,18))\n",
    "plt.imshow(nd2_data[0,:,:])\n",
    "plt.scatter(*zip(*points), color='red')\n",
    "ax.add_collection(pc)\n",
    "plt.show()"
   ]
  },
  {
   "cell_type": "markdown",
   "id": "01f4e1a9",
   "metadata": {},
   "source": [
    "### Test getCoord()"
   ]
  },
  {
   "cell_type": "code",
   "execution_count": null,
   "id": "db229e46",
   "metadata": {},
   "outputs": [],
   "source": [
    "test_getCoord = False\n",
    "if test_getCoord:\n",
    "    fig = plt.figure(figsize=(18,18))\n",
    "    plt.imshow(nd2_data[0,:,:])\n",
    "    plt.scatter(*zip(*points[:5]), color='red')  # should start filling up row after row, from top left.\n",
    "    plt.show()"
   ]
  },
  {
   "cell_type": "markdown",
   "id": "0082f314",
   "metadata": {},
   "source": [
    "# Get grid signal"
   ]
  },
  {
   "cell_type": "markdown",
   "id": "847972c8",
   "metadata": {},
   "source": [
    "## Define normalizing function, used for both methods"
   ]
  },
  {
   "cell_type": "code",
   "execution_count": null,
   "id": "29157e05",
   "metadata": {},
   "outputs": [],
   "source": [
    "def normalize_trace(traces):\n",
    "    traces_norm = np.empty(traces.shape, dtype=np.float64)\n",
    "    max_arr = np.empty((n_rows, n_cols),  dtype=nd2_data.dtype)\n",
    "    for i_row in range(n_rows):\n",
    "        for i_col in range(n_cols):\n",
    "            max_arr[i_row, i_col] = max(traces[:, i_row, i_col])\n",
    "            for i_frame in range(traces.shape[0]):\n",
    "                traces_norm[i_frame, i_row, i_col] = traces[i_frame, i_row, i_col]/max_arr[i_row, i_col]\n",
    "    return (traces_norm, max_arr)"
   ]
  },
  {
   "cell_type": "markdown",
   "id": "427263f8",
   "metadata": {},
   "source": [
    "# Get trace, first and second derivatives (high RAM requirement)\n",
    "Recommended is at least 32 GB RAM for 8-9 GB recording"
   ]
  },
  {
   "cell_type": "code",
   "execution_count": null,
   "id": "a713a0f3",
   "metadata": {},
   "outputs": [],
   "source": [
    "choice3 = True\n",
    "if (\"traces\" in locals()) or (\"traces_diff\" in locals()) or (\"traces_diff_second\" in locals()):\n",
    "    error_msg = \"Error: it seems like one or more trace variables are already defined. \\\n",
    "    To avoid loss of data, processing data is aborted.\\n\\\n",
    "    Check following variables and save them before proceeding:\\n\\\n",
    "    traces\\ntraces_diff\\ntraces_diff_second\\ntraces_norm\\ntraces_diff_norm\\ntraces_diff_second_norm\\nmax_arr\\nmax_arr_diff\\n\\\n",
    "    max_arr_diff_second\"\n",
    "    choice3 = False\n",
    "    raise Exception(error_msg)\n",
    "\n",
    "\n",
    "if choice3:\n",
    "    traces = np.empty((n_frames, n_rows, n_cols), dtype=nd2_data.dtype)\n",
    "    traces_diff = np.zeros((n_frames, n_rows, n_cols), dtype=int)\n",
    "    traces_diff_second = np.zeros((n_frames, n_rows, n_cols), dtype=int)\n",
    "    nd2_unsigned = nd2_data.astype(np.int32)\n",
    "    # todo: check if row and column indices are correct! change np original array, check where it changes on plot\n",
    "    for i_frame in range(n_frames): \n",
    "        for i_row in range(n_rows):\n",
    "            for i_col in range(n_cols):\n",
    "                # middle point of rectangle to sample from\n",
    "                x, y = get_coords(i_row, i_col)\n",
    "                # get trace data\n",
    "                # 1. simply use data of point:\n",
    "                # traces[i_frame, i_row, i_col] = nd2_data[i_frame, x, y]\n",
    "                # 2. use the average of a rectangle centered around point:\n",
    "                # traces[i_frame, i_row, i_col] = nd2_data[i_frame, x-half_side_len:x+half_side_len+1, y-half_side_len:y+half_side_len+1].mean()\n",
    "                # 3. use median of the rectangle:\n",
    "                traces[i_frame, i_row, i_col] = np.median(nd2_data[i_frame, x-half_side_len:x+half_side_len+1, y-half_side_len:y+half_side_len+1])\n",
    "                \n",
    "                # Derivative:\n",
    "                # 1. f(x+h) - f(x) / h\n",
    "                #f_t1 = np.median(nd2_unsigned[i_frame, x-half_side_len:x+half_side_len+1, y-half_side_len:y+half_side_len+1])\n",
    "                #f_t0 = np.median(nd2_unsigned[i_frame-1, x-half_side_len:x+half_side_len+1, y-half_side_len:y+half_side_len+1])\n",
    "                # 2. f(x+h) - f(x-h) / 2h\n",
    "                try:\n",
    "                    f_t1 = np.median(nd2_unsigned[i_frame+1, x-half_side_len:x+half_side_len+1, y-half_side_len:y+half_side_len+1])\n",
    "                    f_t0 = np.median(nd2_unsigned[i_frame, x-half_side_len:x+half_side_len+1, y-half_side_len:y+half_side_len+1])\n",
    "                    f_tneg1 = np.median(nd2_unsigned[i_frame-1, x-half_side_len:x+half_side_len+1, y-half_side_len:y+half_side_len+1])\n",
    "                except IndexError:  # first and last indices will cause f_t0 and f_t1 to access i_frame-1 = -1 and i_frame+1 = n_frames+1\n",
    "                    f_t1 = 0\n",
    "                    f_t0 = 0\n",
    "                    f_tneg1 = 0\n",
    "                traces_diff[i_frame, i_row, i_col] = f_t1 - f_tneg1\n",
    "                traces_diff_second[i_frame, i_row, i_col] = f_t1 + f_tneg1 - 2*f_t0\n",
    "    # create normalized traces\n",
    "    traces_norm, max_arr = normalize_trace(traces)\n",
    "    traces_diff_norm, max_arr_diff = normalize_trace(traces_diff)\n",
    "    traces_diff_second_norm, max_arr_diff_second = normalize_trace(traces_diff)\n",
    "    del nd2_unsigned"
   ]
  },
  {
   "cell_type": "markdown",
   "id": "c5ec4c3d",
   "metadata": {},
   "source": [
    "# Alternative: Get trace, first and second derivatives (low RAM usage)"
   ]
  },
  {
   "cell_type": "code",
   "execution_count": null,
   "id": "453680c9",
   "metadata": {},
   "outputs": [],
   "source": [
    "choice3_lowmem = False\n",
    "if (\"traces\" in locals()) or (\"traces_diff\" in locals()) or (\"traces_diff_second\" in locals()):\n",
    "    error_msg = \"Error: it seems like one or more trace variables are already defined. \\\n",
    "    To avoid loss of data, processing data is aborted.\\n\\\n",
    "    Check following variables and save them before proceeding:\\n\\\n",
    "    traces\\ntraces_diff\\ntraces_diff_second\\ntraces_norm\\ntraces_diff_norm\\ntraces_diff_second_norm\\nmax_arr\\nmax_arr_diff\\n\\\n",
    "    max_arr_diff_second\"\n",
    "    choice3_lowmem = False\n",
    "    raise Exception(error_msg)\n",
    "    \n",
    "    \n",
    "if choice3_lowmem:\n",
    "    traces = np.empty((n_frames, n_rows, n_cols), dtype=nd2_data.dtype)\n",
    "    traces_diff = np.zeros((n_frames, n_rows, n_cols), dtype=int)\n",
    "    traces_diff_second = np.zeros((n_frames, n_rows, n_cols), dtype=int)  \n",
    "    # todo: check if row and column indices are correct! change np original array, check where it changes on plot\n",
    "    for i_frame in range(n_frames):\n",
    "        if i_frame%100 == 0:\n",
    "            print(f\"Processed frame {i_frame} of {n_frames}\") \n",
    "        try:\n",
    "            nd2_unsigned_prev = nd2_data[i_frame-1].astype(np.int32)  # TODO: these can be copied between iterations and maybe save time that way?\n",
    "            nd2_unsigned_curr = nd2_data[i_frame].astype(np.int32)\n",
    "            nd2_unsigned_next = nd2_data[i_frame+1].astype(np.int32)\n",
    "        except IndexError:\n",
    "            nd2_unsigned_prev = np.zeros((frame_height, frame_width), dtype=np.int32)  # TODO: height and width might be the other way around. If a video is asymmetric resolution, need to test this\n",
    "            nd2_unsigned_curr = np.zeros((frame_height, frame_width), dtype=np.int32)\n",
    "            nd2_unsigned_next = np.zeros((frame_height, frame_width), dtype=np.int32)\n",
    "        for i_row in range(n_rows):\n",
    "            for i_col in range(n_cols):\n",
    "                # middle point of rectangle to sample from\n",
    "                x, y = get_coords(i_row, i_col)\n",
    "                # get trace data\n",
    "                # 1. simply use data of point:\n",
    "                # traces[i_frame, i_row, i_col] = nd2_data[i_frame, x, y]\n",
    "                # 2. use the average of a rectangle centered around point:\n",
    "                # traces[i_frame, i_row, i_col] = nd2_data[i_frame, x-half_side_len:x+half_side_len+1, y-half_side_len:y+half_side_len+1].mean()\n",
    "                # 3. use median of the rectangle:\n",
    "                traces[i_frame, i_row, i_col] = np.median(nd2_data[i_frame, x-half_side_len:x+half_side_len+1, y-half_side_len:y+half_side_len+1])\n",
    "                \n",
    "                # Derivative:\n",
    "                # 1. f(x+h) - f(x) / h\n",
    "                #f_t1 = np.median(nd2_unsigned[i_frame, x-half_side_len:x+half_side_len+1, y-half_side_len:y+half_side_len+1])\n",
    "                #f_t0 = np.median(nd2_unsigned[i_frame-1, x-half_side_len:x+half_side_len+1, y-half_side_len:y+half_side_len+1])\n",
    "                # 2. f(x+h) - f(x-h) / 2h\n",
    "                try:\n",
    "                    f_t1 = np.median(nd2_unsigned_next[x-half_side_len:x+half_side_len+1, y-half_side_len:y+half_side_len+1])\n",
    "                    f_t0 = np.median(nd2_unsigned_curr[x-half_side_len:x+half_side_len+1, y-half_side_len:y+half_side_len+1])\n",
    "                    f_tneg1 = np.median(nd2_unsigned_prev[x-half_side_len:x+half_side_len+1, y-half_side_len:y+half_side_len+1])\n",
    "                except IndexError:  # first and last indices will cause f_t0 and f_t1 to access i_frame-1 = -1 and i_frame+1 = n_frames+1\n",
    "                    f_t1 = 0\n",
    "                    f_t0 = 0\n",
    "                    f_tneg1 = 0\n",
    "                try:\n",
    "                    traces_diff[i_frame, i_row, i_col] = f_t1 - f_tneg1\n",
    "                    traces_diff_second[i_frame, i_row, i_col] = f_t1 + f_tneg1 - 2*f_t0\n",
    "                except ValueError:\n",
    "                    print(f\"ValueError at traces_diff assignment at {i_frame}.\")\n",
    "                    traces_diff[i_frame, i_row, i_col] = 0\n",
    "                    traces_diff_second[i_frame, i_row, i_col] = 0\n",
    "                    \n",
    "                    \n",
    "    # create normalized traces\n",
    "    traces_norm, max_arr = normalize_trace(traces)\n",
    "    traces_diff_norm, max_arr_diff = normalize_trace(traces_diff)\n",
    "    traces_diff_second_norm, max_arr_diff_second = normalize_trace(traces_diff)\n",
    "    \n",
    "    # FIXME: probably last frame: \n",
    "    # D:\\Software\\anaconda\\envs\\py2p\\lib\\site-packages\\numpy\\core\\fromnumeric.py:3474: RuntimeWarning: Mean of empty slice.\n",
    "    # return _methods._mean(a, axis=axis, dtype=dtype,\n",
    "    # D:\\Software\\anaconda\\envs\\py2p\\lib\\site-packages\\numpy\\core\\_methods.py:189: RuntimeWarning: invalid value encountered in double_scalars\n",
    "    # ret = ret.dtype.type(ret / rcount)\n",
    "    #---------------------------------------------------------------------------\n",
    "    #ValueError                                Traceback (most recent call last)\n",
    "    #Input In [20], in <module>\n",
    "    #     41                 f_t0 = 0\n",
    "    #     42                 f_tneg1 = 0\n",
    "    #---> 43             traces_diff[i_frame, i_row, i_col] = f_t1 - f_tneg1\n",
    "    #     44             traces_diff_second[i_frame, i_row, i_col] = f_t1 + f_tneg1 - 2*f_t0\n",
    "    #     45 # create normalized traces\n",
    "    #\n",
    "    #ValueError: cannot convert float NaN to integer"
   ]
  },
  {
   "cell_type": "markdown",
   "id": "fc9fe479",
   "metadata": {},
   "source": [
    "# Visualize results"
   ]
  },
  {
   "cell_type": "markdown",
   "id": "3cd893d1",
   "metadata": {},
   "source": [
    "## Plot trace and derivative (needs method 1 with optional derivative signal)"
   ]
  },
  {
   "cell_type": "code",
   "execution_count": null,
   "id": "bf5b7b8f",
   "metadata": {},
   "outputs": [],
   "source": [
    "def plot_trace_with_diff_norm(i_row, i_col, i_SD):\n",
    "    assert(i_SD < n_SD)\n",
    "    %matplotlib inline\n",
    "    fig = plt.figure(figsize = (18,18))\n",
    "    plt.plot(traces_norm[:, i_row, i_col])\n",
    "    plt.plot(traces_diff_norm[:, i_row, i_col])\n",
    "    plt.xlim(SD_frames[i_SD])\n",
    "    plt.show()"
   ]
  },
  {
   "cell_type": "code",
   "execution_count": null,
   "id": "b30c9b9c",
   "metadata": {},
   "outputs": [],
   "source": [
    "plot_trace_with_diff_norm(7,7,0)"
   ]
  },
  {
   "cell_type": "markdown",
   "id": "ac23271e",
   "metadata": {},
   "source": [
    "### Plot normalized traces per grid. (For high n_rows and n_cols, this might take long!)"
   ]
  },
  {
   "cell_type": "code",
   "execution_count": null,
   "id": "b1da6f90",
   "metadata": {},
   "outputs": [],
   "source": [
    "plot_norm_traces = True\n",
    "if plot_norm_traces:\n",
    "    fig = plt.figure(figsize = (18,18))\n",
    "    for i_row in range(n_rows):\n",
    "        for i_col in range(n_cols):\n",
    "            plt.plot(traces_norm[:, i_row, i_col])\n",
    "            #plt.plot(traces_diff_norm[:, i_row, i_col])  # plot derivative\n",
    "    plt.xlim(SD_frames[0])\n",
    "    #plt.xlim(8500,10500)\n",
    "    plt.show()"
   ]
  },
  {
   "cell_type": "code",
   "execution_count": null,
   "id": "d6de37fb",
   "metadata": {},
   "outputs": [],
   "source": [
    "def showGridPoint(i_row, i_col):\n",
    "    \"\"\"\n",
    "    Show the grid point that corresponds to i_row and i_col. i_row and i_col start from 0!\n",
    "    \"\"\"\n",
    "    i_selected = i_row*n_cols + i_col  # 2d index to 1d index\n",
    "    fig, ax = plt.subplots(1, figsize=(18,18))\n",
    "    plt.imshow(nd2_data[0,:,:])\n",
    "    plt.scatter(*zip(*points), color='blue')\n",
    "    # define rectangles not selected\n",
    "    rects = [Rectangle((points[i][0] - half_side_len, points[i][1] - half_side_len ), (2*half_side_len+1), (2*half_side_len))\n",
    "                  for i in range(len(points)) if i != i_selected]\n",
    "    pc1 = PatchCollection(rects, facecolor=\"yellow\", alpha=0.2, edgecolor=\"red\")\n",
    "    # define selected rectangle\n",
    "    rect_sel = [Rectangle((points[i_selected][0] - half_side_len, points[i_selected][1] - half_side_len ), (2*half_side_len+1), (2*half_side_len))]\n",
    "    pc2 = PatchCollection(rect_sel, facecolor=\"yellow\", alpha=0.6, edgecolor=\"blue\")\n",
    "    plt.scatter(*get_coords(i_row, i_col), color='red')\n",
    "    ax.add_collection(pc1)\n",
    "    ax.add_collection(pc2)\n",
    "    plt.show()\n",
    "    \n",
    "# test the showGridPoint function\n",
    "testShowGridPoint = False\n",
    "if testShowGridPoint:\n",
    "    showGridPoint(13, 10)"
   ]
  },
  {
   "cell_type": "markdown",
   "id": "ec5da8ce",
   "metadata": {},
   "source": [
    "# Extract onset frames"
   ]
  },
  {
   "cell_type": "code",
   "execution_count": null,
   "id": "ac3b338b",
   "metadata": {},
   "outputs": [],
   "source": [
    "def get_onset_grid(traces_norm):\n",
    "    onset_grid = np.zeros((n_SD, n_rows, n_cols), dtype='uint16')  # length of SD_frames is n_SD + 1 (last entry is end of relevant interval)\n",
    "    for i_row in range(n_rows): \n",
    "        for i_col in range(n_cols):\n",
    "            for i_SD in range(n_SD):\n",
    "                max_frames = np.where(traces_norm[SD_frames[i_SD][0]:SD_frames[i_SD][1], i_row, i_col] == max(traces_norm[SD_frames[i_SD][0]:SD_frames[i_SD][1], i_row, i_col]), 1, 0).nonzero()[0]\n",
    "                if len(max_frames) > 1:  # more maxima found\n",
    "                    print(f\"{len(max_frames)} maxima of grid point {i_row}, {i_col} in SD #{i_SD+1}\")\n",
    "                elif len(max_frames) == 0:\n",
    "                    print(f\"No max frames!\")\n",
    "                max_frame = max_frames[0]  # TODO: how to select between maxima? Use info from neighbours?\n",
    "                onset_grid[i_SD, i_row, i_col] = max_frame + SD_frames[i_SD][0]  # adjust to whole recording again. TODO: off-by-one error?\n",
    "    return onset_grid"
   ]
  },
  {
   "cell_type": "code",
   "execution_count": null,
   "id": "55f1e8d3",
   "metadata": {},
   "outputs": [],
   "source": [
    "onset_grid = get_onset_grid(traces_diff_norm)"
   ]
  },
  {
   "cell_type": "code",
   "execution_count": null,
   "id": "88f41210",
   "metadata": {},
   "outputs": [],
   "source": [
    "show_colorbar = False\n",
    "if show_colorbar:\n",
    "    %matplotlib inline\n",
    "    i_SD = 1\n",
    "    fig, ax = plt.subplots(figsize = (18, 18))\n",
    "    plt.imshow(onset_grid[i_SD, :, :].transpose())  # transpose because imshow expects (x, y), and we provide (row, col) shape\n",
    "    for i in range(n_rows):\n",
    "        for j in range(n_cols):\n",
    "            text = ax.text(j, i, onset_grid[i_SD, j, i],\n",
    "                           ha=\"center\", va=\"center\", color=\"w\")\n",
    "    plt.colorbar()"
   ]
  },
  {
   "cell_type": "markdown",
   "id": "a4a7e0e7",
   "metadata": {},
   "source": [
    "# (Not done yet) create quiver plot"
   ]
  },
  {
   "cell_type": "code",
   "execution_count": null,
   "id": "74269cb6",
   "metadata": {},
   "outputs": [],
   "source": [
    "def getNeighbours(i_row, i_col):\n",
    "    neighbours_list = []  # [(x, y), ...] format\n",
    "    for i_row_nb in range(i_row-1, i_row +2):\n",
    "        for i_col_nb in range(i_col-1, i_col+2):\n",
    "            if (i_row_nb >= 0) and (i_row_nb < n_rows) and (i_col_nb >= 0) and (i_col_nb < n_cols):\n",
    "                if not((i_row_nb == i_row) and (i_col_nb == i_col) ):  # exclude cell itself\n",
    "                    neighbours_list.append((i_col_nb, i_row_nb))  # format is (x, y)\n",
    "    return neighbours_list"
   ]
  },
  {
   "cell_type": "code",
   "execution_count": null,
   "id": "2f610190",
   "metadata": {},
   "outputs": [],
   "source": [
    "def getVectors(i_SD):\n",
    "    vectors_x = np.zeros((n_rows, n_cols), float)\n",
    "    vectors_y = np.zeros((n_rows, n_cols), float)\n",
    "    weights = onset_grid[i_SD, :, :]\n",
    "    for i_row in range(n_rows):  # y coordinate of cell\n",
    "        for i_col in range(n_cols):  # x coordinate of cell\n",
    "            mean_x = 0\n",
    "            mean_y = 0\n",
    "            neighbours =  getNeighbours(i_row, i_col)\n",
    "            # loop over neighbouring rectangles. get average vector by weighted sum of the normalized vectors.\n",
    "            for x, y in neighbours:\n",
    "                norm_factor = 1/sqrt(pow(x-i_col, 2) + pow(y-i_row, 2))\n",
    "                weight = weights[x, y]\n",
    "                mean_x += x*norm_factor*weight\n",
    "                mean_y += y*norm_factor*weight\n",
    "            mean_x = mean_x/len(neighbours)\n",
    "            mean_y = mean_y/len(neighbours)\n",
    "            vectors_x[i_row, i_col] = mean_x\n",
    "            vectors_y[i_row, i_col] = mean_y\n",
    "    return (vectors_x, vectors_y)\n",
    "            \n",
    "            \n",
    "            "
   ]
  },
  {
   "cell_type": "code",
   "execution_count": null,
   "id": "b7fc76fd",
   "metadata": {},
   "outputs": [],
   "source": [
    "def getVectors(i_SD):\n",
    "    vectors_x = np.zeros((n_rows, n_cols), float)\n",
    "    vectors_y = np.zeros((n_rows, n_cols), float)\n",
    "    weights = onset_grid[i_SD, :, :]\n",
    "    # loop through each neighbor, find max weight, point that direction\n",
    "    for i_row in range(n_rows):\n",
    "        for i_col in range(n_cols):\n",
    "            x = 0\n",
    "            y = 0\n",
    "            neighbours = getNeighbours(i_col, i_row)\n",
    "            current_max_weight = weights[i_row, i_col]\n",
    "            for x_n, y_n in neighbours:\n",
    "                if weights[y, x] > current_max_weight:\n",
    "                    current_max_weight = weights[y, x]\n",
    "                    x = x_n\n",
    "                    y = y_n\n",
    "            norm_factor = sqrt(x**2 + y**2)\n",
    "            if norm_factor == 0:\n",
    "                norm_factor = 1\n",
    "            vectors_x[i_row, i_col] = x/norm_factor\n",
    "            vectors_y[i_row, i_col] = y/norm_factor\n",
    "    return (vectors_x, vectors_y)"
   ]
  },
  {
   "cell_type": "markdown",
   "id": "1ad2b22f",
   "metadata": {},
   "source": [
    "## TODO: implement weighting and plot quiver\n",
    "* https://matplotlib.org/3.1.1/api/_as_gen/matplotlib.pyplot.quiver.html\n",
    "* fix first getVectors that averages neighbors.\n",
    "* try to rotate plot so that it matches video recording and imshow plot.."
   ]
  },
  {
   "cell_type": "code",
   "execution_count": null,
   "id": "4506d622",
   "metadata": {},
   "outputs": [],
   "source": [
    "plot_quiver = False\n",
    "if plot_quiver:\n",
    "    quiv_x, quiv_y = getVectors(1)\n",
    "    fig = plt.figure(figsize=(18,18))\n",
    "    plt.quiver(points_x, points_y, quiv_x, quiv_y)\n",
    "    plt.show()"
   ]
  },
  {
   "cell_type": "markdown",
   "id": "ac1e1b4f",
   "metadata": {},
   "source": [
    "# Manually adjust data"
   ]
  },
  {
   "cell_type": "markdown",
   "id": "f099886a",
   "metadata": {},
   "source": [
    "## TODO: \n",
    "* TODO: separate maximum finding algorithm to be able to flexibly switch and implement new algorithms\n",
    "* TODO: implement new algorithm that uses derivative signal!\n",
    "* TODO: implement second derivative\n",
    "* TODO: implement differentiation over t-2, t-1, t, t+1, t+2... (runge-kutta?)\n",
    "* check if traces are similar to traces of a rectangle in fiji (Z projection...).\n",
    "* implement df_over_f from Michaels script (Michael_dff.m in 2p-py)\n",
    "* implement reading json file\n",
    "* add traces to json data? also method (median...)\n",
    "* limit trace extraction to frames in SD_frames\n",
    "* sliding SD window (to be able to deal with intersections between SDs)\n",
    "* account for not perfect matching! Although for same-day-recordings, this is not a problem I guess.\n",
    "* there are actually 3 SDs in T301. So far, the second two appeared always at the same time, but in 1209, the left one is a bit later. Maybe do separate analysis? If so, then how? They collide very quickly."
   ]
  },
  {
   "cell_type": "code",
   "execution_count": null,
   "id": "3ee76edc",
   "metadata": {},
   "outputs": [],
   "source": [
    "import param\n",
    "import bokeh\n",
    "import pylab as pl\n",
    "import holoviews as hv\n",
    "import panel as pn\n",
    "hv.extension('bokeh', 'matplotlib')"
   ]
  },
  {
   "cell_type": "markdown",
   "id": "3137bc81",
   "metadata": {},
   "source": [
    "## Create copy of onset grid for correcting manually\n",
    "Unfortunately, HoloViews does not have a button to simply click and overwrite the value in onset grid, so the values must continuously be overwritten in this copy of the onset grid."
   ]
  },
  {
   "cell_type": "code",
   "execution_count": null,
   "id": "e22232c4",
   "metadata": {},
   "outputs": [],
   "source": [
    "onset_grid_corr = onset_grid.copy()"
   ]
  },
  {
   "cell_type": "code",
   "execution_count": null,
   "id": "b9fcba9b",
   "metadata": {},
   "outputs": [],
   "source": [
    "colmap = \"viridis\"\n",
    "if n_SD > 1:\n",
    "    class GridPlot(param.Parameterized):\n",
    "        i_row                = param.Number(default=0, bounds=(0, n_rows-1), step=1)\n",
    "        i_col                = param.Number(default=0, bounds=(0, n_cols-1), step=1)\n",
    "        i_SD                 = param.Number(default=0, bounds=(0, n_SD-1), step=1)\n",
    "        ofm                  = param.Number(default=SD_frames[0][0], bounds=(SD_frames[0][0], SD_frames[-1][-1]), step=1)\n",
    "        trace_plotrange      = param.Range(default=(SD_frames[0][0], SD_frames[0][1]), bounds=(min(SD_frames[0][0], SD_frames[-1][0]) - 20, max(SD_frames[0][1], SD_frames[-1][1]) + 20))\n",
    "\n",
    "\n",
    "        @param.depends('i_row', 'i_col', 'i_SD', 'ofm', 'trace_plotrange')\n",
    "        def view(self):\n",
    "            # create x and y data for plots\n",
    "            #frames = [i_frame for i_frame in range(SD_frames[self.i_SD][0], SD_frames[self.i_SD][1])]\n",
    "            #trace_data = traces_norm[SD_frames[self.i_SD][0]:SD_frames[self.i_SD][1], self.i_row, self.i_col]\n",
    "            #trace_diff_data = traces_diff_norm[SD_frames[self.i_SD][0]:SD_frames[self.i_SD][1], self.i_row, self.i_col]\n",
    "            #trace_diff_second_data = traces_diff_second_norm[SD_frames[self.i_SD][0]:SD_frames[self.i_SD][1], self.i_row, self.i_col]\n",
    "\n",
    "            frames = []\n",
    "            trace_data = []\n",
    "            trace_diff_data = []\n",
    "            trace_diff_second_data = []\n",
    "\n",
    "            @param.depends('i_row', 'i_col', 'i_SD', 'ofm', 'trace_plotrange', watch=True)\n",
    "            def get_traces():\n",
    "                frames = [i_frame for i_frame in range(*self.trace_plotrange)]\n",
    "                trace_data = traces_norm[frames[0]:frames[-1]+1, self.i_row, self.i_col]\n",
    "                trace_diff_data = traces_diff_norm[frames[0]:frames[-1]+1, self.i_row, self.i_col]\n",
    "                trace_diff_second_data = traces_diff_second_norm[frames[0]:frames[-1]+1, self.i_row, self.i_col]\n",
    "                return (frames, trace_data, trace_diff_data, trace_diff_second_data)\n",
    "\n",
    "            frames, trace_data, trace_diff_data, trace_diff_second_data = get_traces()\n",
    "\n",
    "\n",
    "            # plot calcium transient and derivative\n",
    "            trace = hv.Curve(zip(frames, trace_data), kdims = 'frame').opts(framewise=True)\n",
    "            trace_diff = hv.Curve(zip(frames, trace_diff_data), kdims = 'frame').opts(framewise=True)\n",
    "\n",
    "            # add vertical line of found maximum\n",
    "            onset_frame = onset_grid[self.i_SD, self.i_row, self.i_col]\n",
    "            onset_frame_corr = onset_grid_corr[self.i_SD, self.i_row, self.i_col]\n",
    "            vline = hv.VLine(onset_frame)\n",
    "            vline_corr = hv.VLine(onset_frame_corr)\n",
    "            trace = trace * (vline.opts(color=\"black\")) * (vline_corr.opts(color=\"green\"))\n",
    "\n",
    "            # plot second derivative\n",
    "            second_derivative = hv.Curve(zip(frames, trace_diff_second_data), kdims = 'frame').opts(framewise=True)\n",
    "            second_derivative = second_derivative * vline\n",
    "\n",
    "\n",
    "            # show recording example image and selected grid rectangle\n",
    "            # give different names to the kdims variables so that the axes are independent!\n",
    "            im = hv.Image(np.flip(nd2_data[self.ofm,:,:], 0), bounds=(0, 0, 512, 512), kdims=[\"width\", \"height\"]).opts(normalize=True, cmap=\"greens\", invert_yaxis=True, xlim=(0,512), ylim=(0, 512)) # need to flip rows and invert yaxis so top left is (0, 0)\n",
    "\n",
    "            # get selected grid rectangle\n",
    "            closest = im.closest((get_raw_coord(self.i_row), get_raw_coord(self.i_col)))\n",
    "            # rect = hv.Rectangles([get_rect_corners(i_row, i_col)]).opts(aspect=\"equal\",frame_width=512, frame_height=512)  # could not make this work easily\n",
    "            point = hv.Points([closest], kdims = [\"width\", \"height\"])\n",
    "\n",
    "            # add selected grid point to recording\n",
    "            im = (im * (point.opts(color=\"red\", marker=\"x\", size=20,))).opts(aspect='equal', frame_height=300, xlim=(0, frame_width), ylim=(0,frame_height), xaxis=None, yaxis=None)\n",
    "\n",
    "\n",
    "            # Add manual correction line\n",
    "            vline_manual = hv.VLine(self.ofm).opts(color=\"orange\")\n",
    "\n",
    "            # show grid and selected grid rectangle\n",
    "            grid = hv.Image(np.flip(onset_grid[self.i_SD, :, :].transpose(), 0), bounds=(0, 0, 512, 512), kdims=[\"grid_width\", \"grid_height\"]).relabel(colmap).opts(cmap=colmap, invert_yaxis=True, xlim=(0,512), ylim=(0, 512), normalize=True, xaxis=None, yaxis=None) \n",
    "            grid = (grid * (point.opts(color=\"red\", marker=\"x\", size=20,))).opts(aspect=\"equal\", frame_height=300, xlim=(0, frame_width), ylim=(0, frame_height))\n",
    "\n",
    "            # show manually corrected grid\n",
    "            grid_corrected = hv.Image(np.flip(onset_grid_corr[self.i_SD, :, :].transpose(), 0), bounds=(0, 0, 512, 512), kdims=[\"grid_c_width\", \"grid_c_height\"]).relabel(colmap).opts(cmap=colmap, invert_yaxis=True, xlim=(0,512), ylim=(0, 512), normalize=True, xaxis=None, yaxis=None) \n",
    "            grid_corrected = (grid_corrected * (point.opts(color=\"red\", marker=\"x\", size=20,))).opts(aspect=\"equal\", frame_height=300, xlim=(0, frame_width), ylim=(0, frame_height))\n",
    "\n",
    "\n",
    "            # add button to overwrite grid point onset time\n",
    "            def overwrite_on_click(event):\n",
    "                onset_grid_corr[self.i_SD, self.i_row, self.i_col] = self.ofm\n",
    "                self.ofm += 1\n",
    "                self.ofm -= 1  # just to trigger refresh frame\n",
    "            overwrite_button = pn.widgets.Button(name='Overwrite', button_type='primary')\n",
    "            overwrite_button.on_click(overwrite_on_click)\n",
    "\n",
    "            # add button to reset plot range\n",
    "            @param.depends('trace_plotrange', watch=True)\n",
    "            def reset_range(event):\n",
    "                self.trace_plotrange[0] = SD_frames[self.i_SD][0]\n",
    "                self.trace_plotrange[1] = SD_frames[self.i_SD][1]\n",
    "            resetrange_button = pn.widgets.Button(name='Reset range', button_type='primary')\n",
    "            resetrange_button.on_click(reset_range)\n",
    "            return pn.Row(pn.Column(grid, grid_corrected, im), pn.Column(trace*trace_diff*vline_manual, second_derivative*vline*vline_manual, overwrite_button, resetrange_button)) #pn.Row(pn.Column(im, grid, grid_corrected), pn.Column(trace*trace_diff*vline_manual, second_derivative ),)\n",
    "\n",
    "else:  # n_SD = 1\n",
    "    class GridPlot(param.Parameterized):\n",
    "        i_row                = param.Number(default=0, bounds=(0, n_rows-1), step=1)\n",
    "        i_col                = param.Number(default=0, bounds=(0, n_cols-1), step=1)\n",
    "        ofm                  = param.Number(default=SD_frames[0][0], bounds=(SD_frames[0][0], SD_frames[-1][-1]), step=1)\n",
    "        trace_plotrange      = param.Range(default=(SD_frames[0][0], SD_frames[0][1]), bounds=(min(SD_frames[0][0], SD_frames[-1][0]) - 20, max(SD_frames[0][1], SD_frames[-1][1]) + 20))\n",
    "        \n",
    "        \n",
    "        @param.depends('i_row', 'i_col', 'ofm', 'trace_plotrange')\n",
    "        def view(self):\n",
    "            # create x and y data for plots\n",
    "            #frames = [i_frame for i_frame in range(SD_frames[self.i_SD][0], SD_frames[self.i_SD][1])]\n",
    "            #trace_data = traces_norm[SD_frames[self.i_SD][0]:SD_frames[self.i_SD][1], self.i_row, self.i_col]\n",
    "            #trace_diff_data = traces_diff_norm[SD_frames[self.i_SD][0]:SD_frames[self.i_SD][1], self.i_row, self.i_col]\n",
    "            #trace_diff_second_data = traces_diff_second_norm[SD_frames[self.i_SD][0]:SD_frames[self.i_SD][1], self.i_row, self.i_col]\n",
    "\n",
    "            frames = []\n",
    "            trace_data = []\n",
    "            trace_diff_data = []\n",
    "            trace_diff_second_data = []\n",
    "\n",
    "            @param.depends('i_row', 'i_col', 'ofm', 'trace_plotrange', watch=True)\n",
    "            def get_traces():\n",
    "                frames = [i_frame for i_frame in range(*self.trace_plotrange)]\n",
    "                trace_data = traces_norm[frames[0]:frames[-1]+1, self.i_row, self.i_col]\n",
    "                trace_diff_data = traces_diff_norm[frames[0]:frames[-1]+1, self.i_row, self.i_col]\n",
    "                trace_diff_second_data = traces_diff_second_norm[frames[0]:frames[-1]+1, self.i_row, self.i_col]\n",
    "                return (frames, trace_data, trace_diff_data, trace_diff_second_data)\n",
    "\n",
    "            frames, trace_data, trace_diff_data, trace_diff_second_data = get_traces()\n",
    "\n",
    "\n",
    "            # plot calcium transient and derivative\n",
    "            trace = hv.Curve(zip(frames, trace_data), kdims = 'frame').opts(framewise=True)\n",
    "            trace_diff = hv.Curve(zip(frames, trace_diff_data), kdims = 'frame').opts(framewise=True)\n",
    "\n",
    "            # add vertical line of found maximum\n",
    "            onset_frame = onset_grid[0, self.i_row, self.i_col]\n",
    "            onset_frame_corr = onset_grid_corr[0, self.i_row, self.i_col]\n",
    "            vline = hv.VLine(onset_frame)\n",
    "            vline_corr = hv.VLine(onset_frame_corr)\n",
    "            trace = trace * (vline.opts(color=\"black\")) * (vline_corr.opts(color=\"green\"))\n",
    "\n",
    "            # plot second derivative\n",
    "            second_derivative = hv.Curve(zip(frames, trace_diff_second_data), kdims = 'frame').opts(framewise=True)\n",
    "            second_derivative = second_derivative * vline\n",
    "\n",
    "\n",
    "            # show recording example image and selected grid rectangle\n",
    "            # give different names to the kdims variables so that the axes are independent!\n",
    "            im = hv.Image(np.flip(nd2_data[self.ofm,:,:], 0), bounds=(0, 0, 512, 512), kdims=[\"width\", \"height\"]).opts(normalize=True, cmap=\"greens\", invert_yaxis=True, xlim=(0,512), ylim=(0, 512)) # need to flip rows and invert yaxis so top left is (0, 0)\n",
    "\n",
    "            # get selected grid rectangle\n",
    "            closest = im.closest((get_raw_coord(self.i_row), get_raw_coord(self.i_col)))\n",
    "            # rect = hv.Rectangles([get_rect_corners(i_row, i_col)]).opts(aspect=\"equal\",frame_width=512, frame_height=512)  # could not make this work easily\n",
    "            point = hv.Points([closest], kdims = [\"width\", \"height\"])\n",
    "\n",
    "            # add selected grid point to recording\n",
    "            im = (im * (point.opts(color=\"red\", marker=\"x\", size=20,))).opts(aspect='equal', frame_height=300, xlim=(0, frame_width), ylim=(0,frame_height), xaxis=None, yaxis=None)\n",
    "\n",
    "\n",
    "            # Add manual correction line\n",
    "            vline_manual = hv.VLine(self.ofm).opts(color=\"orange\")\n",
    "\n",
    "            # show grid and selected grid rectangle\n",
    "            grid = hv.Image(np.flip(onset_grid[0, :, :].transpose(), 0), bounds=(0, 0, 512, 512), kdims=[\"grid_width\", \"grid_height\"]).relabel(colmap).opts(cmap=colmap, invert_yaxis=True, xlim=(0,512), ylim=(0, 512), normalize=True, xaxis=None, yaxis=None) \n",
    "            grid = (grid * (point.opts(color=\"red\", marker=\"x\", size=20,))).opts(aspect=\"equal\", frame_height=300, xlim=(0, frame_width), ylim=(0, frame_height))\n",
    "\n",
    "            # show manually corrected grid\n",
    "            grid_corrected = hv.Image(np.flip(onset_grid_corr[0, :, :].transpose(), 0), bounds=(0, 0, 512, 512), kdims=[\"grid_c_width\", \"grid_c_height\"]).relabel(colmap).opts(cmap=colmap, invert_yaxis=True, xlim=(0,512), ylim=(0, 512), normalize=True, xaxis=None, yaxis=None) \n",
    "            grid_corrected = (grid_corrected * (point.opts(color=\"red\", marker=\"x\", size=20,))).opts(aspect=\"equal\", frame_height=300, xlim=(0, frame_width), ylim=(0, frame_height))\n",
    "\n",
    "\n",
    "            # add button to overwrite grid point onset time\n",
    "            def overwrite_on_click(event):\n",
    "                onset_grid_corr[0, self.i_row, self.i_col] = self.ofm\n",
    "                self.ofm += 1\n",
    "                self.ofm -= 1  # just to trigger refresh frame\n",
    "            overwrite_button = pn.widgets.Button(name='Overwrite', button_type='primary')\n",
    "            overwrite_button.on_click(overwrite_on_click)\n",
    "\n",
    "            # add button to reset plot range\n",
    "            @param.depends('trace_plotrange', watch=True)\n",
    "            def reset_range(event):\n",
    "                self.trace_plotrange[0] = SD_frames[0][0]\n",
    "                self.trace_plotrange[1] = SD_frames[0][1]\n",
    "            resetrange_button = pn.widgets.Button(name='Reset range', button_type='primary')\n",
    "            resetrange_button.on_click(reset_range)\n",
    "\n",
    "\n",
    "            return pn.Row(pn.Column(grid, grid_corrected, im), pn.Column(trace*trace_diff*vline_manual, second_derivative*vline*vline_manual, overwrite_button, resetrange_button)) #pn.Row(pn.Column(im, grid, grid_corrected), pn.Column(trace*trace_diff*vline_manual, second_derivative ),)\n",
    "        "
   ]
  },
  {
   "cell_type": "code",
   "execution_count": null,
   "id": "6af31e17",
   "metadata": {},
   "outputs": [],
   "source": [
    "pn.extension()\n",
    "p = GridPlot()\n",
    "\n",
    "pn.Row(p.view, p.param)"
   ]
  },
  {
   "cell_type": "markdown",
   "id": "1050df37",
   "metadata": {},
   "source": [
    "# Save results"
   ]
  },
  {
   "cell_type": "code",
   "execution_count": null,
   "id": "4792b946",
   "metadata": {},
   "outputs": [],
   "source": [
    "from datetime import datetime\n",
    "import json"
   ]
  },
  {
   "cell_type": "markdown",
   "id": "efd314e2",
   "metadata": {},
   "source": [
    "## Create file names\n",
    "Two files are saved: one .npz that contains all the numpy arrays, and one .json that contains the parameters used."
   ]
  },
  {
   "cell_type": "markdown",
   "id": "83469cc7",
   "metadata": {},
   "source": [
    "### IMPORTANT if editing seizure, mark it with flag below"
   ]
  },
  {
   "cell_type": "code",
   "execution_count": null,
   "id": "6aab74fd",
   "metadata": {},
   "outputs": [],
   "source": [
    "data_is_seizure = True\n",
    "if data_is_seizure:\n",
    "    seizure_fname_part = \"_seizure\"\n",
    "else:\n",
    "    seizure_fname_part = \"\""
   ]
  },
  {
   "cell_type": "code",
   "execution_count": null,
   "id": "294990bb",
   "metadata": {},
   "outputs": [],
   "source": [
    "now = datetime.now()\n",
    "now_string = f\"{now.year}-{now.month}-{now.day}_{now.hour}-{now.minute}-{now.second}\"\n",
    "output_fname_root = nd2_fpath.split(\"/\")[-1][:-4]  # get filename without extension and date\n",
    "output_fname_root += \"__\" + now_string\n",
    "output_grid_fname = output_fname_root + \"_sdgrid\"\n",
    "output_params_fname = output_fname_root + \"_sdgrid_pars\"\n",
    "print(f\"Output filenames:\\n{output_grid_fname + seizure_fname_part}.npz\\n{output_params_fname + seizure_fname_part}.json\")"
   ]
  },
  {
   "cell_type": "markdown",
   "id": "48020e9b",
   "metadata": {},
   "source": [
    "### Create dict of parameters for JSON export"
   ]
  },
  {
   "cell_type": "code",
   "execution_count": null,
   "id": "6dfb30f5",
   "metadata": {},
   "outputs": [],
   "source": [
    "params_dict = {\"filename\": nd2_fpath, \"n_SD\": n_SD, \"SD_frames\": SD_frames, \\\n",
    "               \"n_rows\": n_rows, \"n_cols\": n_cols, \"half_side_len\": half_side_len, \\\n",
    "               \"offset_x\": offset_x, \"offset_y\": offset_y, \"frame_width\": frame_width, \\\n",
    "               \"frame_height\": frame_height, \"x_step\": x_step, \"y_step\": y_step, \\\n",
    "               \"x_leftover\": x_leftover, \"y_leftover\": y_leftover, \"points_x\": points_x, \\\n",
    "              \"points_y\": points_y}\n",
    "print(json.dumps(params_dict, indent=4))"
   ]
  },
  {
   "cell_type": "markdown",
   "id": "75728101",
   "metadata": {},
   "source": [
    "### Choose output directory"
   ]
  },
  {
   "cell_type": "code",
   "execution_count": null,
   "id": "f8d18c6f",
   "metadata": {},
   "outputs": [],
   "source": [
    "output_dir = fh.open_dir(\"Select folder to save results.\") + \"/\"\n",
    "print(f\"Going to save\\n{output_dir + output_grid_fname + seizure_fname_part + '.json'}\\n{output_dir + output_grid_fname + seizure_fname_part + '.npz'}\")\n"
   ]
  },
  {
   "cell_type": "markdown",
   "id": "182a0633",
   "metadata": {},
   "source": [
    "### Save files"
   ]
  },
  {
   "cell_type": "code",
   "execution_count": null,
   "id": "900af245",
   "metadata": {},
   "outputs": [],
   "source": [
    "# save originally detected onset (onset_grid) as well as manually corrected (onset_grid_corr)\n",
    "np.savez(output_dir + output_grid_fname + seizure_fname_part, onset_grid=onset_grid, onset_grid_corr=onset_grid_corr, traces=traces, traces_diff=traces_diff, traces_diff_second=traces_diff_second)\n",
    "# TODO: save params\n",
    "json_fname = output_dir + output_params_fname + seizure_fname_part + \".json\"\n",
    "with open(json_fname, 'w') as f:\n",
    "    json.dump(params_dict, f, indent=4)\n",
    "print(f\"Saved arrays to\\n{output_dir + output_grid_fname + seizure_fname_part + '.npz'}\\nSaved parameters to\\n{json_fname}\")"
   ]
  },
  {
   "cell_type": "markdown",
   "id": "4744c866",
   "metadata": {},
   "source": [
    "# Open and work with loaded data\n",
    "Run code below if a .npz and a .json file are available"
   ]
  },
  {
   "cell_type": "code",
   "execution_count": null,
   "id": "4036a803",
   "metadata": {},
   "outputs": [],
   "source": [
    "#Auto-reload modules (used to develop functions outside this notebook)\n",
    "%load_ext autoreload\n",
    "%autoreload 2"
   ]
  },
  {
   "cell_type": "code",
   "execution_count": null,
   "id": "264a65e6",
   "metadata": {},
   "outputs": [],
   "source": [
    "import numpy as np\n",
    "from nd2_to_caiman import np_arr_from_nd2\n",
    "import labrotation.file_handling as fh\n",
    "from matplotlib import pyplot as plt\n",
    "from matplotlib.collections import PatchCollection\n",
    "from matplotlib.patches import Rectangle\n",
    "from math import floor, sqrt\n",
    "from datetime import datetime\n",
    "import json\n",
    "from labrotation import json_util"
   ]
  },
  {
   "cell_type": "markdown",
   "id": "8ce036d9",
   "metadata": {},
   "source": [
    "## Set folder and file names"
   ]
  },
  {
   "cell_type": "code",
   "execution_count": null,
   "id": "54687b77",
   "metadata": {},
   "outputs": [],
   "source": [
    "npz_fpath = fh.open_file(\"Select .npz file for grid analysis\")\n",
    "json_fpath = \".\".join(npz_fpath.split(\".\")[:-1])  # get rid of file extension\n",
    "json_fpath = json_fpath + \"_pars.json\"  # add difference and json extension\n",
    "#json_fpath = fh.open_file(\"Select .json file for grid analysis\")\n",
    "print(f\"npz file:\\n{npz_fpath}\\njson file:\\n{json_fpath}\")"
   ]
  },
  {
   "cell_type": "markdown",
   "id": "306fe9f5",
   "metadata": {},
   "source": [
    "## Load data"
   ]
  },
  {
   "cell_type": "code",
   "execution_count": null,
   "id": "0e95ad34",
   "metadata": {},
   "outputs": [],
   "source": [
    "data = np.load(npz_fpath)\n",
    "data.files  # ['onset_grid', 'onset_grid_corr', 'traces', 'traces_diff', 'traces_diff_second']"
   ]
  },
  {
   "cell_type": "code",
   "execution_count": null,
   "id": "cb9a41c9",
   "metadata": {},
   "outputs": [],
   "source": [
    "with open(json_fpath, 'r') as f:\n",
    "    js = json.load(f)"
   ]
  },
  {
   "cell_type": "markdown",
   "id": "e08c0939",
   "metadata": {},
   "source": [
    "## Assign variables"
   ]
  },
  {
   "cell_type": "code",
   "execution_count": null,
   "id": "b2b31167",
   "metadata": {},
   "outputs": [],
   "source": [
    "import os.path"
   ]
  },
  {
   "cell_type": "code",
   "execution_count": null,
   "id": "8ff5227f",
   "metadata": {},
   "outputs": [],
   "source": [
    "onset_grid = data[\"onset_grid\"]\n",
    "onset_grid_corr = data[\"onset_grid_corr\"]\n",
    "traces = data[\"traces\"]\n",
    "traces_diff = data[\"traces_diff\"]\n",
    "traces_diff_second = data[\"traces_diff_second\"]\n",
    "\n",
    "filename = js[\"filename\"]\n",
    "\n",
    "if not os.path.exists(filename):\n",
    "    for DRIVE in \"ABCDEFGHIJKLMNOPQRSTUVWXYZ\":\n",
    "        filename = DRIVE + filename[1:]\n",
    "        if os.path.exists(filename):\n",
    "            print(f\"Found file on drive {DRIVE}\")\n",
    "            break\n",
    "n_SD = js[\"n_SD\"]\n",
    "SD_frames = js[\"SD_frames\"]\n",
    "n_rows = js[\"n_rows\"]\n",
    "n_cols = js[\"n_cols\"]\n",
    "half_side_len = js[\"half_side_len\"]\n",
    "offset_x = js[\"offset_x\"]\n",
    "offset_y = js[\"offset_y\"]\n",
    "frame_width = js[\"frame_width\"]\n",
    "frame_height = js[\"frame_height\"]\n",
    "x_step = js[\"x_step\"]\n",
    "y_step = js[\"y_step\"]\n",
    "x_leftover = js[\"x_leftover\"]\n",
    "y_leftover = js[\"y_leftover\"]\n",
    "points_x = js[\"points_x\"]\n",
    "points_y = js[\"points_y\"]\n",
    "\n",
    "# Open nd2 (needed for visualizing frames below)\n",
    "nd2_data = np_arr_from_nd2(filename)\n",
    "nd2_fpath = filename\n",
    "\n",
    "# TEST CONSISTENCY OF PARAMETERS\n",
    "assert(n_rows > 1 and n_cols > 1)  # to be able to make a grid, need at least 2x2 points\n",
    "assert((half_side_len < offset_x) and (half_side_len < offset_y))  # make sure that the rectangles stay inside FOV\n",
    "assert(((2*half_side_len + 1) < x_step) and ((2*half_side_len + 1) < y_step ))  # check no overlap between rectangles"
   ]
  },
  {
   "cell_type": "code",
   "execution_count": null,
   "id": "fdd6df1e",
   "metadata": {},
   "outputs": [],
   "source": [
    "# used for visualization of selected grid\n",
    "grid_spacing_x = frame_width / (n_cols)  # put n_cols evenly spaced points per row\n",
    "grid_spacing_y = frame_height / (n_rows)\n",
    "\n",
    "def get_raw_coord(i_col_or_row):  # does not take into account the cropping. Just divides up whole frame in the grid and finds centres\n",
    "    return ((i_col_or_row + 0.5)*grid_spacing_x)\n",
    "\n",
    "def get_rect_corners(i_col, i_row):\n",
    "    # get centre coordinate\n",
    "    x_center = get_raw_coord(i_col)\n",
    "    y_center = get_raw_coord(i_row)\n",
    "    \n",
    "    # calculate top-left (dir. (0, 0) ) and bottom-right (dir. (n, n)) corners\n",
    "    x0 = x_center - half_side_len\n",
    "    x1 = x_center + half_side_len\n",
    "    \n",
    "    y0 = y_center - half_side_len\n",
    "    y1 = y_center + half_side_len\n",
    "    \n",
    "    return (x0, y0, x1, y1)"
   ]
  },
  {
   "cell_type": "markdown",
   "id": "626d2d99",
   "metadata": {},
   "source": [
    "## Do normalization\n",
    "Code is same as above except for dtype"
   ]
  },
  {
   "cell_type": "code",
   "execution_count": null,
   "id": "53f3cdda",
   "metadata": {},
   "outputs": [],
   "source": [
    "def normalize_trace(traces):\n",
    "    traces_norm = np.empty(traces.shape, dtype=np.float64)\n",
    "    max_arr = np.empty((n_rows, n_cols),  dtype=traces.dtype)\n",
    "    for i_row in range(n_rows):\n",
    "        for i_col in range(n_cols):\n",
    "            max_arr[i_row, i_col] = max(traces[:, i_row, i_col])\n",
    "            for i_frame in range(traces.shape[0]):\n",
    "                traces_norm[i_frame, i_row, i_col] = traces[i_frame, i_row, i_col]/max_arr[i_row, i_col]\n",
    "    return (traces_norm, max_arr)"
   ]
  },
  {
   "cell_type": "code",
   "execution_count": null,
   "id": "07382bd5",
   "metadata": {},
   "outputs": [],
   "source": [
    "traces_norm, max_arr = normalize_trace(traces)\n",
    "traces_diff_norm, max_arr_diff = normalize_trace(traces_diff)\n",
    "traces_diff_second_norm, max_arr_diff_second = normalize_trace(traces_diff) "
   ]
  },
  {
   "cell_type": "markdown",
   "id": "6971e0e5",
   "metadata": {},
   "source": [
    "## Do review again\n",
    "Code is same as above"
   ]
  },
  {
   "cell_type": "code",
   "execution_count": null,
   "id": "b5d138cc",
   "metadata": {},
   "outputs": [],
   "source": [
    "import param\n",
    "import bokeh\n",
    "import pylab as pl\n",
    "import holoviews as hv\n",
    "import panel as pn\n",
    "hv.extension('bokeh', 'matplotlib')"
   ]
  },
  {
   "cell_type": "code",
   "execution_count": null,
   "id": "86e38717",
   "metadata": {},
   "outputs": [],
   "source": [
    "colmap = \"viridis\"\n",
    "class GridPlot(param.Parameterized):\n",
    "    i_row                = param.Number(default=0, bounds=(0, n_rows-1), step=1)\n",
    "    i_col                = param.Number(default=0, bounds=(0, n_cols-1), step=1)\n",
    "    i_SD                 = param.Number(default=0, bounds=(0, n_SD-1), step=1)\n",
    "    ofm                  = param.Number(default=SD_frames[0][0], bounds=(SD_frames[0][0]-10, SD_frames[-1][-1]+10), step=1)\n",
    "    trace_plotrange      = param.Range(default=(SD_frames[0][0], SD_frames[0][1]), bounds=(min(SD_frames[0][0], SD_frames[-1][0]) - 20, max(SD_frames[0][1], SD_frames[1][1]) + 20))\n",
    "    \n",
    "    \n",
    "    @param.depends('i_row', 'i_col', 'i_SD', 'ofm', 'trace_plotrange')\n",
    "    def view(self):\n",
    "        # create x and y data for plots\n",
    "        #frames = [i_frame for i_frame in range(SD_frames[self.i_SD][0], SD_frames[self.i_SD][1])]\n",
    "        #trace_data = traces_norm[SD_frames[self.i_SD][0]:SD_frames[self.i_SD][1], self.i_row, self.i_col]\n",
    "        #trace_diff_data = traces_diff_norm[SD_frames[self.i_SD][0]:SD_frames[self.i_SD][1], self.i_row, self.i_col]\n",
    "        #trace_diff_second_data = traces_diff_second_norm[SD_frames[self.i_SD][0]:SD_frames[self.i_SD][1], self.i_row, self.i_col]\n",
    "        \n",
    "        frames = []\n",
    "        trace_data = []\n",
    "        trace_diff_data = []\n",
    "        trace_diff_second_data = []\n",
    "        \n",
    "        @param.depends('i_row', 'i_col', 'i_SD', 'ofm', 'trace_plotrange', watch=True)\n",
    "        def get_traces():\n",
    "            frames = [i_frame for i_frame in range(*self.trace_plotrange)]\n",
    "            trace_data = traces_norm[frames[0]:frames[-1]+1, self.i_row, self.i_col]\n",
    "            trace_diff_data = traces_diff_norm[frames[0]:frames[-1]+1, self.i_row, self.i_col]\n",
    "            trace_diff_second_data = traces_diff_second_norm[frames[0]:frames[-1]+1, self.i_row, self.i_col]\n",
    "            return (frames, trace_data, trace_diff_data, trace_diff_second_data)\n",
    "        \n",
    "        frames, trace_data, trace_diff_data, trace_diff_second_data = get_traces()\n",
    "        \n",
    "        \n",
    "        # plot calcium transient and derivative\n",
    "        trace = hv.Curve(zip(frames, trace_data), kdims = 'frame').opts(framewise=True)\n",
    "        trace_diff = hv.Curve(zip(frames, trace_diff_data), kdims = 'frame').opts(framewise=True)\n",
    "        \n",
    "        # add vertical line of found maximum\n",
    "        onset_frame = onset_grid[self.i_SD, self.i_row, self.i_col]\n",
    "        onset_frame_corr = onset_grid_corr[self.i_SD, self.i_row, self.i_col]\n",
    "        vline = hv.VLine(onset_frame)\n",
    "        vline_corr = hv.VLine(onset_frame_corr)\n",
    "        trace = trace * (vline.opts(color=\"black\")) * (vline_corr.opts(color=\"green\"))\n",
    "        \n",
    "        # plot second derivative\n",
    "        second_derivative = hv.Curve(zip(frames, trace_diff_second_data), kdims = 'frame').opts(framewise=True)\n",
    "        second_derivative = second_derivative * vline\n",
    "        \n",
    "        \n",
    "        # show recording example image and selected grid rectangle\n",
    "        # give different names to the kdims variables so that the axes are independent!\n",
    "        im = hv.Image(np.flip(nd2_data[self.ofm,:,:], 0), bounds=(0, 0, 512, 512), kdims=[\"width\", \"height\"]).opts(normalize=True, cmap=\"twilight\", invert_yaxis=True, xlim=(0,512), ylim=(0, 512)) # need to flip rows and invert yaxis so top left is (0, 0)\n",
    "    \n",
    "        # get selected grid rectangle\n",
    "        closest = im.closest((get_raw_coord(self.i_row), get_raw_coord(self.i_col)))\n",
    "        # rect = hv.Rectangles([get_rect_corners(i_row, i_col)]).opts(aspect=\"equal\",frame_width=512, frame_height=512)  # could not make this work easily\n",
    "        point = hv.Points([closest], kdims = [\"width\", \"height\"])\n",
    "        \n",
    "        # add selected grid point to recording\n",
    "        im = (im * (point.opts(color=\"red\", marker=\"x\", size=20,))).opts(aspect='equal', frame_height=300, xlim=(0, frame_width), ylim=(0,frame_height), xaxis=None, yaxis=None)\n",
    "        \n",
    "        \n",
    "        # Add manual correction line\n",
    "        vline_manual = hv.VLine(self.ofm).opts(color=\"orange\")\n",
    "    \n",
    "        # show grid and selected grid rectangle\n",
    "        grid = hv.Image(np.flip(onset_grid[self.i_SD, :, :].transpose(), 0), bounds=(0, 0, 512, 512), kdims=[\"grid_width\", \"grid_height\"]).relabel(colmap).opts(cmap=colmap, invert_yaxis=True, xlim=(0,512), ylim=(0, 512), normalize=True, xaxis=None, yaxis=None) \n",
    "        grid = (grid * (point.opts(color=\"red\", marker=\"x\", size=20,))).opts(aspect=\"equal\", frame_height=300, xlim=(0, frame_width), ylim=(0, frame_height))\n",
    "        \n",
    "        # show manually corrected grid\n",
    "        grid_corrected = hv.Image(np.flip(onset_grid_corr[self.i_SD, :, :].transpose(), 0), bounds=(0, 0, 512, 512), kdims=[\"grid_c_width\", \"grid_c_height\"]).relabel(colmap).opts(cmap=colmap, invert_yaxis=True, xlim=(0,512), ylim=(0, 512), normalize=True, xaxis=None, yaxis=None) \n",
    "        grid_corrected = (grid_corrected * (point.opts(color=\"red\", marker=\"x\", size=20,))).opts(aspect=\"equal\", frame_height=300, xlim=(0, frame_width), ylim=(0, frame_height))\n",
    "    \n",
    "        \n",
    "        # add button to overwrite grid point onset time\n",
    "        def overwrite_on_click(event):\n",
    "            onset_grid_corr[self.i_SD, self.i_row, self.i_col] = self.ofm\n",
    "            self.ofm += 1\n",
    "            self.ofm -= 1  # just to trigger refresh frame\n",
    "        overwrite_button = pn.widgets.Button(name='Overwrite', button_type='primary')\n",
    "        overwrite_button.on_click(overwrite_on_click)\n",
    "        \n",
    "        # add button to reset plot range\n",
    "        @param.depends('trace_plotrange', watch=True)\n",
    "        def reset_range(event):\n",
    "            self.trace_plotrange[0] = SD_frames[self.i_SD][0]\n",
    "            self.trace_plotrange[1] = SD_frames[self.i_SD][1]\n",
    "        resetrange_button = pn.widgets.Button(name='Reset range', button_type='primary')\n",
    "        resetrange_button.on_click(reset_range)\n",
    "        \n",
    "    \n",
    "        return pn.Row(pn.Column(grid, grid_corrected, im), pn.Column(trace*trace_diff*vline_manual, second_derivative*vline*vline_manual, overwrite_button, resetrange_button)) #pn.Row(pn.Column(im, grid, grid_corrected), pn.Column(trace*trace_diff*vline_manual, second_derivative ),)"
   ]
  },
  {
   "cell_type": "code",
   "execution_count": null,
   "id": "7680b19c",
   "metadata": {},
   "outputs": [],
   "source": [
    "pn.extension()\n",
    "p = GridPlot()\n",
    "\n",
    "pn.Row(p.view, p.param)  \n",
    "#black vertical line in trace is algorithm-detected onset frame, green is manually corrected, orange is current selected frame"
   ]
  },
  {
   "cell_type": "code",
   "execution_count": null,
   "id": "2ce026c3",
   "metadata": {},
   "outputs": [],
   "source": [
    "onset_grid_corr[0]"
   ]
  },
  {
   "cell_type": "markdown",
   "id": "11531215",
   "metadata": {},
   "source": [
    "# Do not forget to save the modified data again!"
   ]
  },
  {
   "cell_type": "markdown",
   "id": "ab40509d",
   "metadata": {},
   "source": [
    "# Compare SD waves of different seizures\n",
    "### Restart kernel before, to clear all variables. Do not forget to save the results beforehand!"
   ]
  },
  {
   "cell_type": "code",
   "execution_count": null,
   "id": "317fae83",
   "metadata": {},
   "outputs": [],
   "source": [
    "#Auto-reload modules (used to develop functions outside this notebook)\n",
    "%load_ext autoreload\n",
    "%autoreload 2"
   ]
  },
  {
   "cell_type": "code",
   "execution_count": null,
   "id": "3bb7c0a2",
   "metadata": {},
   "outputs": [],
   "source": [
    "import numpy as np\n",
    "from nd2_to_caiman import np_arr_from_nd2\n",
    "import labrotation.file_handling as fh\n",
    "from matplotlib import pyplot as plt\n",
    "from matplotlib.collections import PatchCollection\n",
    "from matplotlib.patches import Rectangle\n",
    "from math import floor, sqrt\n",
    "from datetime import datetime\n",
    "import json\n",
    "from labrotation import json_util\n",
    "import os"
   ]
  },
  {
   "cell_type": "markdown",
   "id": "afbd3d4a",
   "metadata": {},
   "source": [
    "## Open all npz and json files"
   ]
  },
  {
   "cell_type": "code",
   "execution_count": null,
   "id": "4ee67802",
   "metadata": {},
   "outputs": [],
   "source": [
    "npz_fpath = \" \"\n",
    "json_fpath = \" \"\n",
    "i = 1\n",
    "\n",
    "npz_structs = []  # list containing npz data\n",
    "json_dicts = []  # list containing json data, same order as npz_structs\n",
    "\n",
    "\n",
    "def isValidFile(fpath: str) -> bool:\n",
    "    \"\"\"\n",
    "    Check if the file given match criteria making it valid. Right now, just check if string is not empty.\n",
    "    \"\"\"\n",
    "    return len(fpath) > 0\n",
    "\n",
    "while True:\n",
    "    npz_fpath = fh.open_file(\"Select .npz file for grid analysis\")\n",
    "    # strip npz fpath from \".npz\"\n",
    "    # then add _pars.json to filename\n",
    "    # to get the json file corresponding to the npz file.\n",
    "    json_fpath = os.path.abspath(\".\".join(npz_fpath.split(\".\")[:-1]) + \"_pars.json\")\n",
    "    json_fpath_alt = os.path.abspath(\".\".join(npz_fpath.split(\".\")[:-1])[:-8] + \"_pars_seizure.json\") # remove _seizure, add _pars_seizure.json\n",
    "    print(json_fpath_alt)\n",
    "    if not(isValidFile(npz_fpath) and isValidFile(json_fpath)):  # done opening files if one of selected files is not \"valid\"\n",
    "        print(f\"Loading {i-1} files done, as received invalid file names:\\n{npz_fpath}\\n{json_fpath}\\n\")\n",
    "        break\n",
    "    print(f\"{i}. Opening\\nnpz file:\\n\\{npz_fpath}\\njson file:\\n{json_fpath}\\n\")\n",
    "    npz_data = np.load(npz_fpath)\n",
    "    npz_structs.append(npz_data)\n",
    "    if os.path.exists(json_fpath):\n",
    "        with open(json_fpath, 'r') as f:\n",
    "            js = json.load(f)\n",
    "            json_dicts.append(js)\n",
    "    elif os.path.exists(json_fpath_alt):\n",
    "        with open(json_fpath_alt, 'r') as f:\n",
    "            js = json.load(f)\n",
    "            json_dicts.append(js)\n",
    "    else:\n",
    "        print(\"json file invalid\")\n",
    "    i += 1"
   ]
  },
  {
   "cell_type": "code",
   "execution_count": null,
   "id": "d0b2ae34",
   "metadata": {},
   "outputs": [],
   "source": [
    "json_dicts"
   ]
  },
  {
   "cell_type": "code",
   "execution_count": null,
   "id": "fe757dd5",
   "metadata": {},
   "outputs": [],
   "source": [
    "# convert uint16 to int32. Range: -2 billion to 2 billion...\n",
    "# Note: int16 would cover ~-32 000 to 32 000 which would be enough and half the memory, but the memory saved that way would only be relevant if we kept the 512x512 pixels.\n",
    "onset_grids = [np.asarray(data[\"onset_grid_corr\"], dtype=np.int32) for data in npz_structs]  # [ [video1_sd1, video1_sd2, ...], [video2_sd1, ...], ... ]"
   ]
  },
  {
   "cell_type": "code",
   "execution_count": null,
   "id": "fe10b5ec",
   "metadata": {},
   "outputs": [],
   "source": [
    "n_SD = onset_grids[0].shape[0]\n",
    "for i in range(len(onset_grids)):  # test that all recordings have the same number of SD recognized\n",
    "    assert(onset_grids[i].shape[0] == n_SD)\n",
    "    \n",
    "n_vids = len(onset_grids)\n",
    "\n",
    "print(f\"Detected {n_vids} videos, {n_SD} SDs per seizure\")"
   ]
  },
  {
   "cell_type": "markdown",
   "id": "61c27519",
   "metadata": {},
   "source": [
    "## Normalize data\n",
    "the onset grids contain the frames of SD arrival. Need to normalize them by finding min and taking it as 0."
   ]
  },
  {
   "cell_type": "markdown",
   "id": "d0dc9bd7",
   "metadata": {},
   "source": [
    "### Define normalization"
   ]
  },
  {
   "cell_type": "code",
   "execution_count": null,
   "id": "21646355",
   "metadata": {},
   "outputs": [],
   "source": [
    "def normalize_grid(grid):\n",
    "    \"\"\"\n",
    "    'Normalizes' the 2d np array (assumed to be uint16) and returns the normalized grid. Does not change the grid variable.\n",
    "    \"\"\"\n",
    "    median_val = np.floor(np.median(grid))  # work with median to counter the outliers (regions where SD was not detected)\n",
    "    grid_norm = grid.copy()\n",
    "    n_rows, n_cols = grid.shape\n",
    "    for i_row in range(n_rows):\n",
    "        for i_col in range(n_cols):\n",
    "            grid_norm[i_row, i_col] -= median_val\n",
    "    return grid_norm"
   ]
  },
  {
   "cell_type": "markdown",
   "id": "3bd75b8c",
   "metadata": {},
   "source": [
    "### Test normalize function\n",
    "Change this test if normalize_grid() changes!"
   ]
  },
  {
   "cell_type": "code",
   "execution_count": null,
   "id": "227314f5",
   "metadata": {},
   "outputs": [],
   "source": [
    "# array:\n",
    "#\n",
    "# 1 2 3\n",
    "# 4 5 6\n",
    "#\n",
    "# median floor is 3 (3.5)\n",
    "#\n",
    "# normalized should be:\n",
    "#\n",
    "# -2 -1 0\n",
    "#  1  2 3\n",
    "\n",
    "test_arr = np.array([[1, 2, 3], [4, 5, 6]], dtype=np.int32)\n",
    "test_arr_norm = normalize_grid(test_arr)\n",
    "assert(np.array_equal(test_arr_norm, np.array([[-2, -1, 0], [1, 2, 3]], dtype=np.int32)))\n",
    "del test_arr, test_arr_norm"
   ]
  },
  {
   "cell_type": "markdown",
   "id": "51d2954e",
   "metadata": {},
   "source": [
    "### Apply normalization function"
   ]
  },
  {
   "cell_type": "code",
   "execution_count": null,
   "id": "c22185a8",
   "metadata": {},
   "outputs": [],
   "source": [
    "onset_grids_norm = [ [normalize_grid(onset_grids[i_vid][i_SD]) for i_SD in range(n_SD)] for i_vid in range(n_vids) ] "
   ]
  },
  {
   "cell_type": "markdown",
   "id": "39d4bcfb",
   "metadata": {},
   "source": [
    "## Create differences in onset"
   ]
  },
  {
   "cell_type": "code",
   "execution_count": null,
   "id": "4aa66ef3",
   "metadata": {},
   "outputs": [],
   "source": [
    "# onset_grids_diffs = [ [(grid[vid1][SD0] - grid[vid0][sd0]), (grid[vid1][SD1] - grid[vid0][sd1]), ...], [(grid[vid2][SD0] - grid[vid1][sd0]), (grid[vid2][SD1] - grid[vid1][sd1]), ...]  ]\n",
    "# i.e.\n",
    "# onset_grids_diffs[i_diff][i_SD]:\n",
    "#    i_diff: access the difference between videos (i_diff+1) and (i_diff).\n",
    "#    i_SD: access the SD number i_SD\n",
    "#   both 0-indexing.\n",
    "onset_grids_diffs = [ [onset_grids_norm[i_vid][i_SD] - onset_grids_norm[i_vid-1][i_SD] for i_SD in range(n_SD)] for i_vid in range(1, n_vids) ]"
   ]
  },
  {
   "cell_type": "code",
   "execution_count": null,
   "id": "f3edbee2",
   "metadata": {},
   "outputs": [],
   "source": [
    "len(onset_grids_diffs)"
   ]
  },
  {
   "cell_type": "code",
   "execution_count": null,
   "id": "2e42dde0",
   "metadata": {},
   "outputs": [],
   "source": [
    "# TODO: set max and min values based on max and min differences encountered in data\n",
    "VMIN = -20\n",
    "VMAX = 20\n",
    "\n",
    "\n",
    "fig, axs = plt.subplots(nrows = n_vids - 1, ncols = n_SD, figsize = (18, 18) )\n",
    "for i_vid in range(n_vids - 1):  # difference between videos was made -> number of differences = number of videos - 1\n",
    "    for i_SD in range(n_SD):\n",
    "        axs[i_vid][i_SD].set_title(f\"diff vids {i_vid+2}. - {i_vid+1}., SD #{i_SD + 1}\")\n",
    "        pos = axs[i_vid][i_SD].imshow(onset_grids_diffs[i_vid][i_SD].transpose(), vmin=VMIN, vmax=VMAX, cmap=\"PRGn\")\n",
    "        fig.colorbar(pos, ax=axs[i_vid][i_SD])\n",
    "plt.show()"
   ]
  },
  {
   "cell_type": "code",
   "execution_count": null,
   "id": "29bc4917",
   "metadata": {},
   "outputs": [],
   "source": [
    "json_dicts"
   ]
  },
  {
   "cell_type": "code",
   "execution_count": null,
   "id": "06ba7fba",
   "metadata": {},
   "outputs": [],
   "source": [
    "mouse_ID = \"T329\""
   ]
  },
  {
   "cell_type": "code",
   "execution_count": null,
   "id": "41367170",
   "metadata": {},
   "outputs": [],
   "source": [
    "VMIN = -50\n",
    "VMAX = 50\n",
    "\n",
    "fig, axs = plt.subplots(nrows = n_vids, ncols = n_SD, figsize = (18, 18) )\n",
    "plt.suptitle(f\"{mouse_ID} Onset per recording (row) per SD (column)\", fontsize=30)\n",
    "for i_vid in range(n_vids):  # difference between videos was made -> number of differences = number of videos - 1\n",
    "    for i_SD in range(n_SD):\n",
    "        axs[i_vid][i_SD].set_title(f\"Recording {i_vid+1}, SD #{i_SD + 1}\")\n",
    "        pos = axs[i_vid][i_SD].imshow(onset_grids_norm[i_vid][i_SD].transpose(), vmin=VMIN, vmax=VMAX)\n",
    "        axs[i_vid][i_SD].axis('off')\n",
    "        fig.colorbar(pos, ax=axs[i_vid][i_SD])\n",
    "\n",
    "#plt.show()\n",
    "\n",
    "now = datetime.now()\n",
    "fname = f\"SDGrids_{now.year}-{now.month}-{now.day}_{now.hour}-{now.minute}-{now.second}\"\n",
    "plt.savefig(f\"D:\\\\PhD\\\\SDGrid\\\\{fname}.png\", facecolor=\"white\")"
   ]
  },
  {
   "cell_type": "code",
   "execution_count": null,
   "id": "8e6f87a2",
   "metadata": {},
   "outputs": [],
   "source": [
    "onset_grids_diff_to_first = [ [onset_grids_norm[i_vid][i_SD] - onset_grids_norm[0][i_SD] for i_SD in range(n_SD)] for i_vid in range(1, n_vids) ]"
   ]
  },
  {
   "cell_type": "code",
   "execution_count": null,
   "id": "af499f28",
   "metadata": {},
   "outputs": [],
   "source": [
    "VMIN = -45\n",
    "VMAX = 45\n",
    "\n",
    "\n",
    "fig, axs = plt.subplots(nrows = n_vids - 1, ncols = n_SD, figsize = (18, 18) )\n",
    "for i_vid in range(n_vids - 1):  # difference between videos was made -> number of differences = number of videos - 1\n",
    "    for i_SD in range(n_SD):\n",
    "        axs[i_vid][i_SD].set_title(f\"diff vids {i_vid+2}. - {i_vid+1}., SD #{i_SD + 1}\")\n",
    "        pos = axs[i_vid][i_SD].imshow(onset_grids_diff_to_first[i_vid][i_SD].transpose(), vmin=VMIN, vmax=VMAX, cmap=\"PRGn\")\n",
    "        fig.colorbar(pos, ax=axs[i_vid][i_SD])\n",
    "plt.show()"
   ]
  },
  {
   "cell_type": "code",
   "execution_count": null,
   "id": "b2072815",
   "metadata": {},
   "outputs": [],
   "source": []
  }
 ],
 "metadata": {
  "kernelspec": {
   "display_name": "Python 3 (ipykernel)",
   "language": "python",
   "name": "python3"
  },
  "language_info": {
   "codemirror_mode": {
    "name": "ipython",
    "version": 3
   },
   "file_extension": ".py",
   "mimetype": "text/x-python",
   "name": "python",
   "nbconvert_exporter": "python",
   "pygments_lexer": "ipython3",
   "version": "3.9.7"
  }
 },
 "nbformat": 4,
 "nbformat_minor": 5
}
