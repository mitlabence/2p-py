{
 "cells": [
  {
   "cell_type": "code",
   "execution_count": null,
   "id": "fea0b0b4",
   "metadata": {},
   "outputs": [],
   "source": [
    "#Auto-reload modules (used to develop functions outside this notebook)\n",
    "%load_ext autoreload\n",
    "%autoreload 2"
   ]
  },
  {
   "cell_type": "code",
   "execution_count": null,
   "id": "0c0f3982",
   "metadata": {},
   "outputs": [],
   "source": [
    "import labrotation.file_handling as fh\n",
    "import h5py\n",
    "from time import time\n",
    "import matplotlib.pyplot as plt\n",
    "import numpy as np\n",
    "import os\n",
    "from labrotation import file_handling as fh\n",
    "from copy import deepcopy\n",
    "import pandas as pd\n",
    "import labrotation.two_photon_session as tps\n",
    "import seaborn as sns\n",
    "import uuid  # for unique labeling of sessions and coupling arrays (mouse velocity, distance, ...) to sessions in dataframe \n",
    "from matplotlib import cm  # colormap\n",
    "import datadoc_util\n",
    "from labrotation import two_photon_session as tps\n",
    "from datetime import datetime\n",
    "import seaborn as sns\n",
    "from math import floor, ceil\n",
    "from scipy.stats import ttest_ind, ttest_rel, mannwhitneyu, ranksums, normaltest\n",
    "from numpy.polynomial.polynomial import Polynomial"
   ]
  },
  {
   "cell_type": "code",
   "execution_count": null,
   "id": "261b39f2",
   "metadata": {},
   "outputs": [],
   "source": [
    "sns.set(font_scale=2)\n",
    "sns.set_style(\"whitegrid\")"
   ]
  },
  {
   "cell_type": "code",
   "execution_count": null,
   "id": "47211f79",
   "metadata": {},
   "outputs": [],
   "source": [
    "env_dict = dict()\n",
    "if not os.path.exists(\"./.env\"):\n",
    "    print(\".env does not exist\")\n",
    "else:\n",
    "    with open(\"./.env\", \"r\") as f:\n",
    "        for line in f.readlines():\n",
    "            l = line.rstrip().split(\"=\")\n",
    "            env_dict[l[0]] = l[1]\n",
    "print(env_dict.keys())"
   ]
  },
  {
   "cell_type": "code",
   "execution_count": null,
   "id": "166fad73",
   "metadata": {},
   "outputs": [],
   "source": [
    "N_AM_FRAMES_TO_FIND_DARKEST = 5000  # stick to old, shorter traces for finding darkest time point"
   ]
  },
  {
   "cell_type": "code",
   "execution_count": null,
   "id": "927a5e73",
   "metadata": {},
   "outputs": [],
   "source": [
    "save_dsets = True"
   ]
  },
  {
   "cell_type": "code",
   "execution_count": null,
   "id": "4cd7734d",
   "metadata": {},
   "outputs": [],
   "source": [
    "save_figs = True\n",
    "save_as_eps = False\n",
    "save_as_pdf = True\n",
    "if save_as_eps:\n",
    "    output_format = \".eps\"\n",
    "elif save_as_pdf:\n",
    "    output_format=\".pdf\"\n",
    "else:\n",
    "    output_format = \".jpg\"\n",
    "if save_figs:\n",
    "    print(output_format)"
   ]
  },
  {
   "cell_type": "code",
   "execution_count": null,
   "id": "34d4abb1",
   "metadata": {},
   "outputs": [],
   "source": [
    "if \"DATA_DOCU_FOLDER\" in env_dict.keys():\n",
    "    docu_folder = env_dict[\"DATA_DOCU_FOLDER\"]\n",
    "else:\n",
    "    docu_folder = fh.open_dir(\"Choose folder containing folders for each mouse!\")\n",
    "print(f\"Selected folder:\\n\\t{docu_folder}\")"
   ]
  },
  {
   "cell_type": "code",
   "execution_count": null,
   "id": "25389df9",
   "metadata": {},
   "outputs": [],
   "source": [
    "if \"documentation\" in os.listdir(docu_folder):\n",
    "    mouse_folder = os.path.join(docu_folder, \"documentation\")\n",
    "else:\n",
    "    mouse_folder = docu_folder\n",
    "mouse_names = os.listdir(mouse_folder)\n",
    "print(f\"Mice detected:\")\n",
    "for mouse in mouse_names:\n",
    "    print(f\"\\t{mouse}\")"
   ]
  },
  {
   "cell_type": "code",
   "execution_count": null,
   "id": "58bb303f",
   "metadata": {},
   "outputs": [],
   "source": [
    "def get_datetime_for_fname():\n",
    "    now = datetime.now()\n",
    "    return f\"{now.year:04d}{now.month:02d}{now.day:02d}-{now.hour:02d}{now.minute:02d}{now.second:02d}\""
   ]
  },
  {
   "cell_type": "code",
   "execution_count": null,
   "id": "fb446ca5",
   "metadata": {},
   "outputs": [],
   "source": [
    "output_folder = env_dict[\"DOWNLOADS_FOLDER\"]\n",
    "print(f\"Output files will be saved to {output_folder}\")"
   ]
  },
  {
   "cell_type": "code",
   "execution_count": null,
   "id": "d24259d3",
   "metadata": {},
   "outputs": [],
   "source": [
    "ddoc = datadoc_util.DataDocumentation(docu_folder)\n",
    "ddoc.loadDataDoc()"
   ]
  },
  {
   "cell_type": "markdown",
   "id": "94cba8cd",
   "metadata": {},
   "source": [
    "## Load all seizures dataset"
   ]
  },
  {
   "cell_type": "code",
   "execution_count": null,
   "id": "fd358659",
   "metadata": {},
   "outputs": [],
   "source": [
    "df_events = ddoc.getEventsDf()\n",
    "df_events = df_events[df_events[\"event_type\"] == \"sz\"] "
   ]
  },
  {
   "cell_type": "code",
   "execution_count": null,
   "id": "fb2dee5c",
   "metadata": {},
   "outputs": [],
   "source": [
    "event_traces_fpath = fh.open_file(\"Open .h5 file containing assembled traces for all seizures!\")\n",
    "print(event_traces_fpath)"
   ]
  },
  {
   "cell_type": "code",
   "execution_count": null,
   "id": "bc6793c4",
   "metadata": {},
   "outputs": [],
   "source": [
    "df_colors = ddoc.getColorings()"
   ]
  },
  {
   "cell_type": "code",
   "execution_count": null,
   "id": "7d391371",
   "metadata": {},
   "outputs": [],
   "source": [
    "traces_ca1 = []\n",
    "traces_nc = []\n",
    "\n",
    "mouse_ids_ca1 = []\n",
    "mouse_ids_nc = []\n",
    "\n",
    "uuids_ca1 = []\n",
    "uuids_nc = []\n",
    "\n",
    "session_uuids_ca1 = []\n",
    "session_uuids_nc = []\n",
    "\n",
    "recording_break_points_ca1 = []\n",
    "recording_break_points_nc = []\n",
    "\n",
    "assure_fixed_length_bl_am = False\n",
    "if assure_fixed_length_bl_am:\n",
    "    N_BL_FRAMES = 5000\n",
    "    N_AM_FRAMES = 5000\n",
    "else:\n",
    "    N_BL_FRAMES = None\n",
    "    N_AM_FRAMES = None\n",
    "\n",
    "cut_bl = True\n",
    "if cut_bl:\n",
    "    N_BL_FRAMES = 5000  # make sure all BL are same length\n",
    "    \n",
    "n_bl_frames_ca1 = []\n",
    "n_am_frames_ca1 = []\n",
    "n_sz_frames_ca1 = []\n",
    "\n",
    "n_bl_frames_nc = []\n",
    "n_am_frames_nc = []\n",
    "n_sz_frames_nc = []\n",
    "\n",
    "N_BL_AM_FRAMES_MINIMUM = 4800    \n",
    "\n",
    "# first keys are event uuids, inside the following dataset names:\n",
    "# 'lfp_mov_t', 'lfp_mov_y', 'lfp_t', 'lfp_y', 'lv_dist', 'lv_rounds', \n",
    "# 'lv_running', 'lv_speed', 'lv_t_s', 'lv_totdist', 'mean_fluo'\n",
    "with h5py.File(event_traces_fpath, \"r\") as hf:\n",
    "    for uuid in hf.keys():\n",
    "        win_type = hf[uuid].attrs[\"window_type\"]\n",
    "        mean_fluo = np.array(hf[uuid][\"mean_fluo\"])\n",
    "        n_bl_frames = hf[uuid].attrs[\"n_bl_frames\"]\n",
    "        n_am_frames = hf[uuid].attrs[\"n_am_frames\"]\n",
    "        if \"n_sz_frames\" in hf[uuid].attrs.keys():\n",
    "            n_sz_frames = hf[uuid].attrs[\"n_sz_frames\"]\n",
    "        else:\n",
    "            n_frames = hf[uuid].attrs[\"n_frames\"]\n",
    "            n_sz_frames = n_frames - n_bl_frames - n_am_frames\n",
    "        if min(n_bl_frames, n_am_frames) < N_BL_AM_FRAMES_MINIMUM:\n",
    "            print(f\"Skipping {uuid}: not enough bl or am frames ({n_bl_frames}, {n_am_frames})\")\n",
    "            continue\n",
    "        else:\n",
    "            if cut_bl:\n",
    "                assert N_BL_FRAMES <= n_bl_frames\n",
    "                mean_fluo = mean_fluo[n_bl_frames - N_BL_FRAMES:]  # cut out first elements such that \n",
    "                n_bl_frames = N_BL_FRAMES\n",
    "            if assure_fixed_length_bl_am:\n",
    "                assert N_BL_FRAMES == hf[uuid].attrs[\"n_bl_frames\"]\n",
    "                assert N_AM_FRAMES == hf[uuid].attrs[\"n_am_frames\"]\n",
    "            mouse_id = hf[uuid].attrs[\"mouse_id\"]\n",
    "            if win_type == \"Cx\":\n",
    "                traces_nc.append(mean_fluo)\n",
    "                uuids_nc.append(uuid)\n",
    "                session_uuids_nc.append(hf[uuid].attrs[\"session_uuids\"])\n",
    "                recording_break_points_nc.append(hf[uuid].attrs[\"recording_break_points\"])\n",
    "                mouse_ids_nc.append(mouse_id)\n",
    "                n_bl_frames_nc.append(n_bl_frames)\n",
    "                n_am_frames_nc.append(n_am_frames)\n",
    "                n_sz_frames_nc.append(n_sz_frames)\n",
    "            elif win_type == \"CA1\":\n",
    "                traces_ca1.append(mean_fluo)\n",
    "                uuids_ca1.append(uuid)\n",
    "                session_uuids_ca1.append(hf[uuid].attrs[\"session_uuids\"])\n",
    "                recording_break_points_ca1.append(hf[uuid].attrs[\"recording_break_points\"])\n",
    "                mouse_ids_ca1.append(mouse_id)\n",
    "                n_bl_frames_ca1.append(n_bl_frames)\n",
    "                n_am_frames_ca1.append(n_am_frames)\n",
    "                n_sz_frames_ca1.append(n_sz_frames)\n",
    "            else:\n",
    "                print(f\"{win_type} not recognized window type\")"
   ]
  },
  {
   "cell_type": "code",
   "execution_count": null,
   "id": "48eee785",
   "metadata": {},
   "outputs": [],
   "source": [
    "colors_ca1 = [df_colors[df_colors[\"mouse_id\"] == mouse_id].color.iloc[0] for mouse_id in mouse_ids_ca1]\n",
    "colors_nc = [df_colors[df_colors[\"mouse_id\"] == mouse_id].color.iloc[0] for mouse_id in mouse_ids_nc]"
   ]
  },
  {
   "cell_type": "markdown",
   "id": "b5055887",
   "metadata": {},
   "source": [
    "# Analysis"
   ]
  },
  {
   "cell_type": "markdown",
   "id": "7d865561",
   "metadata": {},
   "source": [
    "## 1. Recovery time points"
   ]
  },
  {
   "cell_type": "code",
   "execution_count": null,
   "id": "2dfd43bf",
   "metadata": {},
   "outputs": [],
   "source": [
    "# get a list of trace indices that are sorted by mouse\n",
    "event_uuid_mouse_id_i_trace_ca1 = []  # list of (event_uuid, mouse_id, i_trace) tuples\n",
    "event_uuid_mouse_id_i_trace_nc  = []  # list of (event_uuid, mouse_id, i_trace) tuples\n",
    "\n",
    "\n",
    "for event_uuid in df_events[\"event_uuid\"].unique():\n",
    "    mouse_id = df_events[df_events[\"event_uuid\"] == event_uuid].mouse_id.iloc[0]\n",
    "    if event_uuid in uuids_ca1:\n",
    "        i_trace = uuids_ca1.index(event_uuid)\n",
    "        event_uuid_mouse_id_i_trace_ca1.append((event_uuid, mouse_id, i_trace))\n",
    "    elif event_uuid in uuids_nc:\n",
    "        i_trace = uuids_nc.index(event_uuid)\n",
    "        event_uuid_mouse_id_i_trace_nc.append((event_uuid, mouse_id, i_trace))\n",
    "        \n",
    "    else:\n",
    "        print(f\"Unknown event_uuid: {event_uuid}\")"
   ]
  },
  {
   "cell_type": "code",
   "execution_count": null,
   "id": "23b43ead",
   "metadata": {},
   "outputs": [],
   "source": [
    "window_width_s = 10\n",
    "window_step_s = 5\n",
    "imaging_frequency = 15. # in Hz\n",
    "n_frames_before_nc = 200  # include 200 frames just before aftermath for NC recordings  \n",
    "n_frames_before_ca1 = 0\n",
    "n_windows_post_darkest = 300 #40 # dataset consists of bl, darkest point, and this many windows post darkest point\n",
    "\n",
    "default_bl_center_ca1 = 4925\n",
    "default_bl_center_nc = 4025\n",
    "\n",
    "window_width_frames = int(window_width_s*imaging_frequency)\n",
    "window_step_frames = int(window_step_s*imaging_frequency)\n",
    "\n",
    "half_window_width_frames = window_width_frames//2\n",
    "\n",
    "# define baseline windows\n",
    "bl_windows_nc = [(default_bl_center_nc - half_window_width_frames, default_bl_center_nc + half_window_width_frames) for i in range(len(traces_nc))]  # for neocortex, allow for ~1 min before Sz (LFP sz comes earlier)\n",
    "bl_windows_ca1 = [(default_bl_center_ca1 - half_window_width_frames, default_bl_center_ca1 + half_window_width_frames) for i in range(len(traces_ca1))]  # for CA1, immediately before Sz onset\n",
    "\n",
    "i_frame_begin_bl = 3850  # in 0-indexing, the first frame to be included in baseline\n",
    "i_frame_end_bl = 4000  # in 0-indexing, the first frame after baseline (i.e. not included)\n",
    "\n",
    "time_points = [\"bl\", \"darkest\"] + [f\"{(i+1)*window_step_s}s\" for i in range(n_windows_post_darkest)]\n",
    "time_points_numeric = [-window_step_s, 0] + [(i+1)*window_step_s for i in range(n_windows_post_darkest)]\n",
    "time_points_numeric = np.array(time_points_numeric)\n",
    "\n",
    "\n",
    "def get_metric_for_window(trace_window):\n",
    "    lowest_5p_indices = np.argsort(trace_window)[:int(0.05*len(trace_window))]\n",
    "    lowest_5p = trace_window[lowest_5p_indices]\n",
    "    return np.median(lowest_5p)\n",
    "\n",
    "def get_recovery_data(complete_trace, i_frame_begin_bl, i_frame_end_bl, n_am_frames, n_frames_before_am=0, n_frames_for_darkest=5000):\n",
    "    # n_frames_before_am: for NC, need to include a few frames before the segment \"aftermath\" begins, due to mistakes in \n",
    "    # n_frames_for_darkest: starting with the first frame of aftermath (i.e. ignoring the extra n_frames_before_am), use this many frames to find the darkest point.\n",
    "    # manual classification. In CA1, this is not necessary\n",
    "    \n",
    "    metrics_list = []\n",
    "    x_list = []\n",
    "    \n",
    "    \n",
    "    # The complete trace should consist of 5000 bl, x Sz, 5000 am frames.\n",
    "    # get bl as just before Sz begin\n",
    "    bl_trace = complete_trace[i_frame_begin_bl:i_frame_end_bl]\n",
    "    x_bl = (i_frame_begin_bl + i_frame_end_bl)//2  # TODO: assign proper x\n",
    "    y_bl = get_metric_for_window(bl_trace)\n",
    "    \n",
    "    # add bl to dataset\n",
    "    x_list.append(x_bl)\n",
    "    metrics_list.append(y_bl)\n",
    "    \n",
    "    # get am 5p darkest points\n",
    "    sorted_indices = np.argsort(complete_trace)  # this cut should not influence the index\n",
    "    sorted_am_indices = sorted_indices[(sorted_indices > len(complete_trace) - n_am_frames - n_frames_before_am) & (sorted_indices < len(complete_trace) - n_am_frames +  n_frames_for_darkest)]\n",
    "    am_x_5p_lowest = sorted_am_indices[:int(0.05*(n_am_frames+n_frames_before_am))] \n",
    "    \n",
    "    # get single coordinate for darkest part\n",
    "    # find darkest 5p, take earliest 50 of them, get median frame index of these, round down to integer frame\n",
    "    x_am_darkest = int(floor(np.median(np.sort(am_x_5p_lowest)[:50])))\n",
    "    \n",
    "    # create sliding windows, calculate metric\n",
    "    for i_window in range(n_windows_post_darkest+1):  # window around darkest point + n_windows_post_darkest windows\n",
    "        x_val = x_am_darkest + i_window*window_step_frames\n",
    "        window_half_width = window_width_frames//2\n",
    "        window_trace = complete_trace[x_val - window_half_width : x_val + window_half_width]\n",
    "        y_val = get_metric_for_window(window_trace)\n",
    "        x_list.append(x_val)\n",
    "        metrics_list.append(y_val)\n",
    "        \n",
    "    return (x_list, metrics_list)\n",
    "    "
   ]
  },
  {
   "cell_type": "markdown",
   "id": "925e1f3a",
   "metadata": {},
   "source": [
    "### Manually modify baseline values"
   ]
  },
  {
   "cell_type": "code",
   "execution_count": null,
   "id": "bde05529",
   "metadata": {},
   "outputs": [],
   "source": [
    "event_uuid_mouse_id_i_trace_ca1\n",
    "# CA1:\n",
    "# aa66ae0470a14eb08e9bcadedc34ef64 : ~4250\n",
    "# c7b29d28248e493eab02288b85e3adee : 4000\n",
    "# 7b9c17d8a1b0416daf65621680848b6a : 4050\n",
    "# 9e75d7135137444492d104c461ddcaac : 4700\n",
    "# d158cd12ad77489a827dab1173a933f9 : 4500\n",
    "# a39ed3a880c54f798eff250911f1c92f : 4500\n",
    "# 4e2310d2dde845b0908519b7196080e8 : 4500\n",
    "# f0442bebcd1a4291a8d0559eb47df08e : 4500\n",
    "# NC:\n",
    "# 2251bba132cf45fa839d3214d1651392 : 3700\n",
    "# cd3c1e0e3c284a89891d2e4d9a7461f4 : 3500\n",
    "dict_uuid_manual_bl_center = {\"aa66ae0470a14eb08e9bcadedc34ef64\": 4250, \"c7b29d28248e493eab02288b85e3adee\": 4000,  \"7b9c17d8a1b0416daf65621680848b6a\": 4050, \"9e75d7135137444492d104c461ddcaac\": 4700, \"d158cd12ad77489a827dab1173a933f9\": 4500, \"a39ed3a880c54f798eff250911f1c92f\" : 4500, \"4e2310d2dde845b0908519b7196080e8\" : 4500, \"f0442bebcd1a4291a8d0559eb47df08e\": 4500, \"2251bba132cf45fa839d3214d1651392\": 3700, \"cd3c1e0e3c284a89891d2e4d9a7461f4\": 3500}\n",
    "\n",
    "# map uuid : bl centre dictionary i_trace : bl_centre dict\n",
    "dict_itrace_manual_bl_center_ca1 = {}\n",
    "dict_itrace_manual_bl_center_nc = {}\n",
    "\n",
    "for uuid_mouseid_itrace in event_uuid_mouse_id_i_trace_ca1:\n",
    "    uuid = uuid_mouseid_itrace[0]\n",
    "    mouse_id = uuid_mouseid_itrace[1]\n",
    "    i_trace = uuid_mouseid_itrace[2]\n",
    "    \n",
    "    if uuid in dict_uuid_manual_bl_center.keys():\n",
    "        dict_itrace_manual_bl_center_ca1[i_trace] = dict_uuid_manual_bl_center[uuid]\n",
    "for uuid_mouseid_itrace in event_uuid_mouse_id_i_trace_nc:\n",
    "    uuid = uuid_mouseid_itrace[0]\n",
    "    mouse_id = uuid_mouseid_itrace[1]\n",
    "    i_trace = uuid_mouseid_itrace[2]\n",
    "    \n",
    "    if uuid in dict_uuid_manual_bl_center.keys():\n",
    "        dict_itrace_manual_bl_center_nc[i_trace] = dict_uuid_manual_bl_center[uuid]\n",
    "        \n",
    "# re-calculate bl_windows_ca1, bl_windows_nc\n",
    "for i_trace in dict_itrace_manual_bl_center_ca1.keys():\n",
    "    bl_windows_ca1[i_trace] = (dict_itrace_manual_bl_center_ca1[i_trace] - half_window_width_frames, dict_itrace_manual_bl_center_ca1[i_trace] + half_window_width_frames)\n",
    "for i_trace in dict_itrace_manual_bl_center_nc.keys():\n",
    "    bl_windows_nc[i_trace] = (dict_itrace_manual_bl_center_nc[i_trace] - half_window_width_frames, dict_itrace_manual_bl_center_nc[i_trace] + half_window_width_frames)"
   ]
  },
  {
   "cell_type": "markdown",
   "id": "c745a53e",
   "metadata": {},
   "source": [
    "## Calculate metrics for all data"
   ]
  },
  {
   "cell_type": "code",
   "execution_count": null,
   "id": "49f9699f",
   "metadata": {},
   "outputs": [],
   "source": [
    "x_recovery_ca1 = [[] for i in range(len(traces_ca1))]\n",
    "y_recovery_ca1 = [[] for i in range(len(traces_ca1))]\n",
    "\n",
    "x_recovery_nc = [[] for i in range(len(traces_nc))]\n",
    "y_recovery_nc = [[] for i in range(len(traces_nc))]\n",
    "\n",
    "\n",
    "for event_uuid, mouse_id, i_trace in event_uuid_mouse_id_i_trace_nc:\n",
    "    n_bl_frames = n_bl_frames_nc[i_trace]\n",
    "    n_sz_frames = n_sz_frames_nc[i_trace]\n",
    "    n_am_frames = n_am_frames_nc[i_trace]# N_AM_FRAMES_TO_FIND_DARKEST  # limit to this many frames\n",
    "    x_data, y_data = get_recovery_data(traces_nc[i_trace], bl_windows_nc[i_trace][0], bl_windows_nc[i_trace][1], n_am_frames_nc[i_trace], n_frames_before_nc)\n",
    "    x_recovery_nc[i_trace] = x_data\n",
    "    y_recovery_nc[i_trace] = y_data\n",
    "\n",
    "for event_uuid, mouse_id, i_trace in event_uuid_mouse_id_i_trace_ca1:\n",
    "    n_bl_frames = n_bl_frames_ca1[i_trace]\n",
    "    n_sz_frames = n_sz_frames_ca1[i_trace]\n",
    "    n_am_frames_cut = n_am_frames_ca1[i_trace]#N_AM_FRAMES_TO_FIND_DARKEST  # limit to this many frames\n",
    "    x_data, y_data = get_recovery_data(traces_ca1[i_trace], bl_windows_ca1[i_trace][0], bl_windows_ca1[i_trace][1], n_am_frames_ca1[i_trace], n_frames_before_ca1)\n",
    "    x_recovery_ca1[i_trace] = x_data\n",
    "    y_recovery_ca1[i_trace] = y_data\n",
    "    \n",
    "x_recovery_ca1 = np.array(x_recovery_ca1, dtype=np.int16)\n",
    "x_recovery_nc = np.array(x_recovery_nc, dtype=np.int16)\n",
    "\n",
    "y_recovery_ca1 = np.array(y_recovery_ca1,)\n",
    "y_recovery_nc = np.array(y_recovery_nc, )\n"
   ]
  },
  {
   "cell_type": "markdown",
   "id": "9ae3e90d",
   "metadata": {},
   "source": [
    "### Create list of mouse id/event uuid"
   ]
  },
  {
   "cell_type": "code",
   "execution_count": null,
   "id": "bbbe79b1",
   "metadata": {},
   "outputs": [],
   "source": [
    "i_recovery_nc = []\n",
    "i_recovery_ca1 = []\n",
    "\n",
    "recovery_ratio = 0.95  # reach x % of baseline to be considered recovered\n",
    "\n",
    "def get_recovery_index(recovery_trace):\n",
    "    baseline = recovery_trace[0]  # bl, darkest, windows...\n",
    "    if np.nanmax(recovery_trace[2:]) < recovery_ratio*baseline:  # baseline never reached\n",
    "        return -1\n",
    "    else:\n",
    "        i_recovery = np.argmax(recovery_trace[2:] >= recovery_ratio*baseline) + 2  # shift back to index in whole trace\n",
    "        return i_recovery\n",
    "\n",
    "for recovery_trace in y_recovery_nc:\n",
    "    i_recovery = get_recovery_index(recovery_trace)\n",
    "    i_recovery_nc.append(i_recovery)\n",
    "    \n",
    "for recovery_trace in y_recovery_ca1:\n",
    "    i_recovery = get_recovery_index(recovery_trace)\n",
    "    i_recovery_ca1.append(i_recovery)\n",
    "    \n",
    "i_recovery_ca1 = np.array(i_recovery_ca1)\n",
    "i_recovery_nc = np.array(i_recovery_nc)"
   ]
  },
  {
   "cell_type": "markdown",
   "id": "dea5f08e",
   "metadata": {},
   "source": [
    "### Create mouse id, event uuid lists matching order of traces"
   ]
  },
  {
   "cell_type": "code",
   "execution_count": null,
   "id": "c4c61acf",
   "metadata": {},
   "outputs": [],
   "source": [
    "mouse_ids_nc = [\"\" for i in range(len(i_recovery_nc))]\n",
    "event_uuids_nc = [\"\" for i in range(len(i_recovery_nc))]\n",
    "for event_uuid, mouse_id, i_trace in event_uuid_mouse_id_i_trace_nc:\n",
    "    mouse_ids_nc[i_trace] = mouse_id\n",
    "    event_uuids_nc[i_trace] = event_uuid"
   ]
  },
  {
   "cell_type": "code",
   "execution_count": null,
   "id": "549cbfcc",
   "metadata": {},
   "outputs": [],
   "source": [
    "mouse_ids_ca1 = [\"\" for i in range(len(i_recovery_ca1))]\n",
    "event_uuids_ca1 = [\"\" for i in range(len(i_recovery_ca1))]\n",
    "for event_uuid, mouse_id, i_trace in event_uuid_mouse_id_i_trace_ca1:\n",
    "    mouse_ids_ca1[i_trace] = mouse_id\n",
    "    event_uuids_ca1[i_trace] = event_uuid"
   ]
  },
  {
   "cell_type": "markdown",
   "id": "00d034d5",
   "metadata": {},
   "source": [
    "### Set \"recovery time point not found\" value\n",
    "Instead of NaN, try to extrapolate."
   ]
  },
  {
   "cell_type": "code",
   "execution_count": null,
   "id": "a3a4e53e",
   "metadata": {},
   "outputs": [],
   "source": [
    "x_recovery_single_ca1 = []\n",
    "linearly_fit_ca1 = [False for i in range(len(y_recovery_ca1))]\n",
    "for i_trace_ca1 in range(len(y_recovery_ca1)):\n",
    "    i_recovery = i_recovery_ca1[i_trace_ca1]\n",
    "    if  i_recovery == -1:\n",
    "        try:\n",
    "            linearly_fit_ca1[i_trace_ca1] = True\n",
    "            line_fit_coeffs = Polynomial.fit(x_recovery_ca1[i_trace_ca1][2:], y_recovery_ca1[i_trace_ca1][2:], deg=1).convert().coef  # linear fit starting with point after darkest time point\n",
    "            # the coefficients [a, b] from y= a + b*x.\n",
    "            if line_fit_coeffs[1] <= 0:  # Check if b is non-positive -> No recovery possible\n",
    "                #x_recovery_single_ca1.append(np.inf)\n",
    "                x_recovery_single_ca1.append(25000)\n",
    "                continue\n",
    "        except np.linalg.LinAlgError as e:\n",
    "            print(f\"Could not fit {i_trace_ca1}: {event_uuids_ca1[i_trace_ca1]}\")\n",
    "            x_recovery_single_ca1.append(x_recovery_ca1[i_trace_ca1][-1])\n",
    "        else:  # b>0 -> line is ascending, i.e. there will be a recovery time\n",
    "            # find inverse function. We know y = a + b*x, need to have x = c + d*y, where y = <threshold>*baseline (threshold=0.95)\n",
    "            # inverse is x = -a/b + (1/b)*y = a_inv + b_inv*y\n",
    "            a_inv = -line_fit_coeffs[0]/line_fit_coeffs[1]\n",
    "            b_inv = 1/line_fit_coeffs[1]\n",
    "            baseline = y_recovery_ca1[i_trace_ca1][0]\n",
    "            x_recovery = a_inv + b_inv*recovery_ratio*baseline\n",
    "            x_recovery = ceil(x_recovery)\n",
    "            x_recovery_single_ca1.append(x_recovery)\n",
    "    else:  # recovery was found within time frame\n",
    "        x_recovery = x_recovery_ca1[i_trace_ca1][i_recovery]\n",
    "        x_recovery_single_ca1.append(x_recovery)\n",
    "x_recovery_single_ca1 = np.array(x_recovery_single_ca1)"
   ]
  },
  {
   "cell_type": "code",
   "execution_count": null,
   "id": "d6c86a30",
   "metadata": {},
   "outputs": [],
   "source": [
    "x_recovery_single_ca1"
   ]
  },
  {
   "cell_type": "code",
   "execution_count": null,
   "id": "5179bb00",
   "metadata": {},
   "outputs": [],
   "source": [
    "x_recovery_single_nc = []\n",
    "for i_trace_nc in range(len(y_recovery_nc)):\n",
    "    i_recovery = i_recovery_nc[i_trace_nc]\n",
    "    if  i_recovery == -1:\n",
    "        line_fit_coeffs = Polynomial.fit(x_recovery_nc[i_trace_nc][2:], y_recovery_nc[i_trace_nc][2:], deg=1).convert().coef  # linear fit starting with point after darkest time point\n",
    "        # the coefficients [a, b] from y= a + b*x.\n",
    "        if line_fit_coeffs[1] <= 0:  # Check if b is non-positive -> No recovery possible\n",
    "            x_recovery_single_nc.append(np.inf)\n",
    "            continue\n",
    "        else:  # b>0 -> line is ascending, i.e. there will be a recovery time\n",
    "            # find inverse function. We know y = a + b*x, need to have x = c + d*y, where y = <threshold>*baseline (threshold=0.95)\n",
    "            # inverse is x = -a/b + (1/b)*y = a_inv + b_inv*y\n",
    "            a_inv = -line_fit_coeffs[0]/line_fit_coeffs[1]\n",
    "            b_inv = 1/line_fit_coeffs[1]\n",
    "            baseline = y_recovery_nc[i_trace_nc][0]\n",
    "            x_recovery = a_inv + b_inv*recovery_ratio*baseline\n",
    "            x_recovery = ceil(x_recovery)\n",
    "            x_recovery_single_nc.append(x_recovery)\n",
    "    else:  # recovery was found within time frame\n",
    "        x_recovery = x_recovery_nc[i_trace_nc][i_recovery]\n",
    "        x_recovery_single_nc.append(x_recovery)\n",
    "x_recovery_single_nc = np.array(x_recovery_single_nc)"
   ]
  },
  {
   "cell_type": "markdown",
   "id": "07040041",
   "metadata": {},
   "source": [
    "### Convert x (frame units) to t (seconds)\n",
    "0 s is the center of window belonging to darkest time point"
   ]
  },
  {
   "cell_type": "code",
   "execution_count": null,
   "id": "922514e3",
   "metadata": {},
   "outputs": [],
   "source": [
    "def get_t_recovery(i_frame_darkest_center, i_frame_recovery):\n",
    "    # Given the center of the darkest window (x_recovery_ca1[i_trace][1]) and the frame of recovery, calculate t_recovery\n",
    "    # calculate distance in frames\n",
    "    dframes = i_frame_recovery - i_frame_darkest_center\n",
    "    # convert delta to seconds\n",
    "    dt = dframes/imaging_frequency  # dt is also t1, as darkest point, t0, is 0\n",
    "    \n",
    "    n_windows_between = dt//window_step_s\n",
    "    # check if window on left of time point contains the recovery time point\n",
    "    t_window_center_left = n_windows_between*window_step_s\n",
    "    t_window_center_right = (n_windows_between+1)*window_step_s\n",
    "    \n",
    "    t_window_edge_left = t_window_center_left + window_width_s/2\n",
    "    if t_window_edge_left >= dt:  # window on left of time point contains t_recovery (dt)\n",
    "        return int(t_window_center_left)\n",
    "    else:  # window on right of recovery time point contains it\n",
    "        return int(t_window_center_right + 1)\n",
    "\n",
    "t_recovery_single_ca1 = []\n",
    "for i_trace_ca1 in range(len(x_recovery_single_ca1)):\n",
    "    i_frame_darkest = x_recovery_ca1[i_trace_ca1][1]  # center of darkest time window is 0\n",
    "    i_frame_recovery = x_recovery_single_ca1[i_trace_ca1]\n",
    "    t_rounded_recovery = get_t_recovery(i_frame_darkest, i_frame_recovery)\n",
    "    t_recovery_single_ca1.append(t_rounded_recovery)\n",
    "t_recovery_single_ca1 = np.array(t_recovery_single_ca1)\n",
    "\n",
    "t_recovery_single_nc = []\n",
    "for i_trace_nc in range(len(x_recovery_single_nc)):\n",
    "    i_frame_darkest = x_recovery_nc[i_trace_nc][1]  # center of darkest time window is 0\n",
    "    i_frame_recovery = x_recovery_single_nc[i_trace_nc]\n",
    "    \n",
    "    t_rounded_recovery = get_t_recovery(i_frame_darkest, i_frame_recovery)\n",
    "    t_recovery_single_nc.append(t_rounded_recovery)\n",
    "t_recovery_single_nc = np.array(t_recovery_single_nc)"
   ]
  },
  {
   "cell_type": "code",
   "execution_count": null,
   "id": "93054669",
   "metadata": {},
   "outputs": [],
   "source": [
    "# add np.nan for not found onset values\n",
    "#time_points_numeric_extended = np.concatenate([time_points_numeric, np.array([np.nan])])\n",
    "\n",
    "# If no recovery found (last value in time_points_numeric_extended), assign a finite value\n",
    "time_points_numeric_extended = np.concatenate([time_points_numeric, np.array([time_points_numeric[-1]+window_step_s])])"
   ]
  },
  {
   "cell_type": "code",
   "execution_count": null,
   "id": "6d5352fd",
   "metadata": {},
   "outputs": [],
   "source": [
    "df_recovery_nc = pd.DataFrame(columns=[\"i_recovery\"],data=i_recovery_nc)\n",
    "df_recovery_nc[\"t_recovery\"] = t_recovery_single_nc#time_points_numeric_extended[i_recovery_nc]\n",
    "df_recovery_nc[\"event_uuid\"] =  event_uuids_nc\n",
    "df_recovery_nc[\"mouse_id\"] = mouse_ids_nc\n",
    "df_recovery_nc[\"window_type\"] = \"nc\"\n",
    "#df_recovery_nc = df_recovery_nc.sort_values(by=\"mouse_id\").reset_index().drop(columns=[\"index\"])\n",
    "\n",
    "df_recovery_nc[\"bl_center\"] = np.mean(np.array(bl_windows_nc), axis=1, dtype=np.int16)\n",
    "df_recovery_nc[\"darkest_window_center\"] = x_recovery_nc.T[1] \n",
    "\n",
    "df_recovery_nc[\"window_width_frames\"] = window_width_frames\n",
    "df_recovery_nc[\"window_width_s\"] = window_width_s\n",
    "df_recovery_nc[\"window_step_frames\"] = window_step_frames\n",
    "df_recovery_nc[\"n_windows_total\"] = n_windows_post_darkest + 2  # bl, darkest, n_windows_post_darkest windows"
   ]
  },
  {
   "cell_type": "code",
   "execution_count": null,
   "id": "917b6062",
   "metadata": {},
   "outputs": [],
   "source": [
    "df_recovery_ca1 = pd.DataFrame(columns=[\"i_recovery\"],data=i_recovery_ca1)\n",
    "df_recovery_ca1[\"t_recovery\"] = t_recovery_single_ca1#time_points_numeric_extended[i_recovery_ca1]\n",
    "df_recovery_ca1[\"event_uuid\"] =  event_uuids_ca1\n",
    "df_recovery_ca1[\"mouse_id\"] = mouse_ids_ca1\n",
    "df_recovery_ca1[\"window_type\"] = \"ca1\"\n",
    "df_recovery_ca1[\"bl_center\"] = np.mean(np.array(bl_windows_ca1), axis=1, dtype=np.int16)\n",
    "df_recovery_ca1[\"darkest_window_center\"] = x_recovery_ca1.T[1] \n",
    "df_recovery_ca1[\"window_width_frames\"] = window_width_frames\n",
    "df_recovery_ca1[\"window_width_s\"] = window_width_s\n",
    "df_recovery_ca1[\"window_step_frames\"] = window_step_frames\n",
    "df_recovery_ca1[\"n_windows_total\"] = n_windows_post_darkest + 2  # bl, darkest, n_windows_post_darkest windows\n",
    "#df_recovery_ca1 = df_recovery_nc.sort_values(by=\"mouse_id\").reset_index().drop(columns=[\"index\"])"
   ]
  },
  {
   "cell_type": "code",
   "execution_count": null,
   "id": "9ec849de",
   "metadata": {},
   "outputs": [],
   "source": [
    "df_recovery_combined = pd.concat([df_recovery_ca1, df_recovery_nc])"
   ]
  },
  {
   "cell_type": "markdown",
   "id": "71571c21",
   "metadata": {},
   "source": [
    "## 2. Sz-bl, SD-bl amplitude comparison"
   ]
  },
  {
   "cell_type": "code",
   "execution_count": null,
   "id": "d4b0b5e9",
   "metadata": {},
   "outputs": [],
   "source": [
    "sd_window_width_frames = 450  # 30 s window beginning with \"am\" segment to look for amplitude of SD\n",
    "\n",
    "bl_values = y_recovery_ca1[:, 0]\n",
    "sz_amplitudes_ca1 = []\n",
    "sd_amplitudes_ca1 = []\n",
    "\n",
    "# lists storing info about the sz, sd amplitude windows\n",
    "begin_frames_sz_amplitude_ca1 = []\n",
    "end_frames_sz_amplitude_ca1 = []\n",
    "begin_frames_sd_amplitude_ca1 = []\n",
    "end_frames_sd_amplitude_ca1 = []\n",
    "\n",
    "\n",
    "for i_trace_ca1 in range(len(traces_ca1)):\n",
    "    event_uuid = event_uuids_ca1[i_trace_ca1]\n",
    "    # take whole sz for sz window; take 2 minutes directly after sz end as SD window.\n",
    "    \n",
    "    len_sz = len(traces_ca1[i_trace_ca1]) -  n_am_frames_ca1[i_trace_ca1] - n_bl_frames_ca1[i_trace_ca1]\n",
    "    \n",
    "    \n",
    "\n",
    "    if event_uuid == \"f0442bebcd1a4291a8d0559eb47df08e\":  # recording(s) with no Sz, only SD\n",
    "        i_begin_sd_window = len(traces_ca1[i_trace_ca1]) - n_am_frames_ca1[i_trace_ca1]\n",
    "        i_end_sd_window = i_begin_sd_window + sd_window_width_frames\n",
    "        \n",
    "        sz_amplitudes_ca1.append(np.nan)\n",
    "        sd_amplitudes_ca1.append(np.flip(np.sort(traces_ca1[i_trace_ca1][i_begin_sd_window:i_end_sd_window]))[:int(0.05*(i_end_sd_window - i_begin_sd_window))].mean())\n",
    "        begin_frames_sz_amplitude_ca1.append(np.nan)\n",
    "        end_frames_sz_amplitude_ca1.append(np.nan)\n",
    "        begin_frames_sd_amplitude_ca1.append(i_begin_sd_window)\n",
    "        end_frames_sd_amplitude_ca1.append(i_end_sd_window-1)\n",
    "    else:\n",
    "        i_begin_sz_window = n_bl_frames_ca1[i_trace_ca1]  # inclusive\n",
    "        i_end_sz_window =  n_bl_frames_ca1[i_trace_ca1]+len_sz+1 # exclusive\n",
    "        sz_amp_val_ca1 = np.flip(np.sort(traces_ca1[i_trace_ca1][i_begin_sz_window:i_end_sz_window]))[:int(0.05*( i_end_sz_window - i_begin_sz_window))].mean()  # take mean of highest 5% of sz values\n",
    "        \n",
    "        \n",
    "        i_begin_sd_window = i_end_sz_window  # inclusive\n",
    "        i_end_sd_window = i_begin_sd_window + sd_window_width_frames  # exclusive\n",
    "        sd_amp_val_ca1 = np.flip(np.sort(traces_ca1[i_trace_ca1][i_begin_sd_window:i_end_sd_window]))[:int(0.05*(i_end_sd_window - i_begin_sd_window))].mean()  # take mean of highest 5% of sd values\n",
    "\n",
    "        \n",
    "        sz_amplitudes_ca1.append(sz_amp_val_ca1)\n",
    "        sd_amplitudes_ca1.append(sd_amp_val_ca1)\n",
    "        \n",
    "        begin_frames_sz_amplitude_ca1.append(i_begin_sz_window)\n",
    "        end_frames_sz_amplitude_ca1.append(i_end_sz_window-1)\n",
    "        begin_frames_sd_amplitude_ca1.append(i_begin_sd_window)\n",
    "        end_frames_sd_amplitude_ca1.append(i_end_sd_window-1)\n",
    "    \n",
    "    \n",
    "# array containing three columns: baseline, sz, sd amplitudes.\n",
    "bl_sz_sd_amplitudes = np.array([bl_values, sz_amplitudes_ca1, sd_amplitudes_ca1]).T\n",
    "\n",
    "# subtract bl from sz and sd amplitudes\n",
    "sz_sd_minus_bl_amplitudes = np.array([bl_sz_sd_amplitudes[:,1] - bl_sz_sd_amplitudes[:,0],  bl_sz_sd_amplitudes[:,2] - bl_sz_sd_amplitudes[:,0]]).T"
   ]
  },
  {
   "cell_type": "code",
   "execution_count": null,
   "id": "6a846bff",
   "metadata": {},
   "outputs": [],
   "source": [
    "df_amplitudes_ca1 = pd.DataFrame(columns=[\"Sz-bl\", \"SD-bl\"], data=sz_sd_minus_bl_amplitudes) # only CA1 has SD\n",
    "df_amplitudes_ca1[\"mouse_id\"] = mouse_ids_ca1  \n",
    "df_amplitudes_ca1[\"event_uuid\"] = event_uuids_ca1\n",
    "df_amplitudes_ca1[\"window_type\"] = \"ca1\"\n",
    "df_amplitudes_ca1[\"first_frame_sz_window\"] = begin_frames_sz_amplitude_ca1\n",
    "df_amplitudes_ca1[\"last_frame_sz_window\"] = end_frames_sz_amplitude_ca1\n",
    "df_amplitudes_ca1[\"first_frame_sd_window\"] = begin_frames_sd_amplitude_ca1\n",
    "df_amplitudes_ca1[\"last_frame_sd_window\"] = end_frames_sd_amplitude_ca1\n",
    "\n",
    "df_amplitudes_ca1[\"first_frame_bl_window\"] = list(zip(*bl_windows_ca1))[0]\n",
    "df_amplitudes_ca1[\"last_frame_bl_window\"] = np.array(list(zip(*bl_windows_ca1))[1]) - 1"
   ]
  },
  {
   "cell_type": "markdown",
   "id": "bdc890f0",
   "metadata": {},
   "source": [
    "## 3. Baseline - darkest time point difference"
   ]
  },
  {
   "cell_type": "code",
   "execution_count": null,
   "id": "ea96c3d3",
   "metadata": {},
   "outputs": [],
   "source": [
    "bl_minus_darkest_ca1 = y_recovery_ca1[:,0] - y_recovery_ca1[:,1]\n",
    "bl_minus_darkest_nc = y_recovery_nc[:,0] - y_recovery_nc[:,1]"
   ]
  },
  {
   "cell_type": "code",
   "execution_count": null,
   "id": "be342a06",
   "metadata": {},
   "outputs": [],
   "source": [
    "df_bl_minus_darkest_ca1 = pd.DataFrame(data=bl_minus_darkest_ca1, columns=[\"bl-darkest\"])\n",
    "df_bl_minus_darkest_ca1[\"window_type\"] = \"ca1\"\n",
    "df_bl_minus_darkest_ca1[\"event_uuid\"] = event_uuids_ca1\n",
    "df_bl_minus_darkest_ca1[\"mouse_id\"] = mouse_ids_ca1\n",
    "df_bl_minus_darkest_ca1[\"baseline\"] = y_recovery_ca1[:,0]\n",
    "df_bl_minus_darkest_ca1[\"darkest_postictal\"] = y_recovery_ca1[:,1]\n",
    "\n",
    "df_bl_minus_darkest_ca1[\"bl_center\"] = np.mean(np.array(bl_windows_ca1), axis=1, dtype=np.int16)\n",
    "df_bl_minus_darkest_ca1[\"darkest_window_center\"] = x_recovery_ca1.T[1] \n",
    "\n",
    "df_bl_minus_darkest_ca1[\"window_width_frames\"] = window_width_frames\n",
    "df_bl_minus_darkest_ca1[\"window_width_s\"] = window_width_s\n",
    "df_bl_minus_darkest_ca1[\"window_step_frames\"] = window_step_frames\n",
    "df_bl_minus_darkest_ca1[\"n_windows_total\"] = n_windows_post_darkest + 2  # bl, darkest, n_windows_post_darkest windows\n",
    "\n",
    "\n",
    "df_bl_minus_darkest_nc = pd.DataFrame(data=bl_minus_darkest_nc, columns=[\"bl-darkest\"])\n",
    "df_bl_minus_darkest_nc[\"window_type\"] = \"nc\"\n",
    "df_bl_minus_darkest_nc[\"event_uuid\"] = event_uuids_nc\n",
    "df_bl_minus_darkest_nc[\"mouse_id\"] = mouse_ids_nc\n",
    "df_bl_minus_darkest_nc[\"baseline\"] = y_recovery_nc[:,0]\n",
    "df_bl_minus_darkest_nc[\"darkest_postictal\"] = y_recovery_nc[:,1]\n",
    "\n",
    "df_bl_minus_darkest_nc[\"bl_center\"] = np.mean(np.array(bl_windows_nc), axis=1, dtype=np.int16)\n",
    "df_bl_minus_darkest_nc[\"darkest_window_center\"] = x_recovery_nc.T[1] \n",
    "\n",
    "df_bl_minus_darkest_nc[\"window_width_frames\"] = window_width_frames\n",
    "df_bl_minus_darkest_nc[\"window_width_s\"] = window_width_s\n",
    "df_bl_minus_darkest_nc[\"window_step_frames\"] = window_step_frames\n",
    "df_bl_minus_darkest_nc[\"n_windows_total\"] = n_windows_post_darkest + 2  # bl, darkest, n_windows_post_darkest windows\n",
    "\n",
    "\n",
    "\n",
    "df_bl_minus_darkest_combined = pd.concat([df_bl_minus_darkest_ca1, df_bl_minus_darkest_nc]) "
   ]
  },
  {
   "cell_type": "markdown",
   "id": "2dd7f260",
   "metadata": {},
   "source": [
    "# Plot results"
   ]
  },
  {
   "cell_type": "markdown",
   "id": "38b4fd3a",
   "metadata": {},
   "source": [
    "## 1. Recovery"
   ]
  },
  {
   "cell_type": "markdown",
   "id": "1b6aac7c",
   "metadata": {},
   "source": [
    "## CA1"
   ]
  },
  {
   "cell_type": "code",
   "execution_count": null,
   "id": "1c1ebf2c",
   "metadata": {},
   "outputs": [],
   "source": [
    "fig = plt.figure(figsize=(18,18))\n",
    "amplitude = 100.\n",
    "offset = 0.\n",
    "\n",
    "for event_uuid, mouse_id, i_trace in event_uuid_mouse_id_i_trace_ca1:\n",
    "    print(f\"{event_uuid} {offset}\")\n",
    "    c = df_colors[df_colors[\"mouse_id\"] == mouse_id].color.iloc[0]\n",
    "    plt.plot(amplitude*(traces_ca1[i_trace] - min(traces_ca1[i_trace]))/(max(traces_ca1[i_trace] - min(traces_ca1[i_trace])))+offset, color=c )\n",
    "    plt.vlines(x=x_recovery_ca1[i_trace], ymin=offset-0.1*amplitude, ymax=offset+1.1*amplitude)\n",
    "    for window_center in x_recovery_ca1[i_trace]:\n",
    "        plt.hlines(y=offset-5, xmin=window_center-window_width_frames//2, xmax= window_center+window_width_frames//2, color=\"red\")\n",
    "    \n",
    "    n_sz_frames = len(traces_ca1[i_trace]) - n_am_frames_ca1[i_trace_ca1] - n_bl_frames_ca1[i_trace]\n",
    "    plt.vlines(x=[n_bl_frames_ca1[i_trace], n_bl_frames_ca1[i_trace]+n_sz_frames_ca1[i_trace], n_bl_frames_ca1[i_trace]+n_sz_frames_ca1[i_trace]+sd_window_width_frames], ymin=offset-0.1*amplitude, ymax=offset+1.1*amplitude, color=\"black\")\n",
    "    \n",
    "    offset += 1.3*amplitude\n",
    "plt.tight_layout()\n",
    "if save_figs:\n",
    "    output_fpath = os.path.join(output_folder, f\"ca1_recovery_overview_{get_datetime_for_fname()}{output_format}\")\n",
    "    plt.savefig(output_fpath)\n",
    "    print(f\"Saved as {output_fpath}\")\n",
    "plt.show()"
   ]
  },
  {
   "cell_type": "code",
   "execution_count": null,
   "id": "d2f81d19",
   "metadata": {},
   "outputs": [],
   "source": [
    "fig = plt.figure(figsize=(24,18))\n",
    "x_ticks = [i for i in range(len(y_recovery_ca1[0]))]\n",
    "offset = 0.0\n",
    "for event_uuid, mouse_id, i_trace in event_uuid_mouse_id_i_trace_ca1:\n",
    "    c = df_colors[df_colors[\"mouse_id\"] == mouse_id].color.iloc[0]\n",
    "    plt.plot(time_points_numeric_extended[:len(y_recovery_ca1[i_trace])], y_recovery_ca1[i_trace] - y_recovery_ca1[i_trace][0] + offset, \"o-\", color=c, markersize=10 )\n",
    "    plt.hlines(y=offset, xmin=time_points_numeric_extended[0], xmax=time_points_numeric_extended[-1], color=\"red\")\n",
    "    if linearly_fit_ca1[i_trace]:\n",
    "        c = \"red\"\n",
    "    plt.vlines(ymin=offset-5, ymax=offset+5, x=t_recovery_single_ca1[i_trace], linewidth=5, color=c)\n",
    "    offset += 10\n",
    "    print(f\"{event_uuid}: {t_recovery_single_ca1[i_trace]}\")\n",
    "#plt.xticks(x_ticks, time_points)\n",
    "plt.tight_layout()\n",
    "if save_figs:\n",
    "    output_fpath = os.path.join(output_folder, f\"ca1_recovery_time_points_{get_datetime_for_fname()}{output_format}\")\n",
    "    plt.savefig(output_fpath)\n",
    "    print(f\"Saved as {output_fpath}\")\n",
    "#plt.xlim((100, 200))\n",
    "plt.show()"
   ]
  },
  {
   "cell_type": "code",
   "execution_count": null,
   "id": "0a380885",
   "metadata": {},
   "outputs": [],
   "source": [
    "t_recovery_single_ca12 = t_recovery_single_ca1.copy()\n",
    "y_recovery_ca12 = y_recovery_ca1.copy()"
   ]
  },
  {
   "cell_type": "code",
   "execution_count": null,
   "id": "82da1471",
   "metadata": {},
   "outputs": [],
   "source": [
    "t_recovery_single_nc2 = t_recovery_single_nc.copy()\n",
    "y_recovery_nc2 = y_recovery_nc.copy()"
   ]
  },
  {
   "cell_type": "code",
   "execution_count": null,
   "id": "bd34a778",
   "metadata": {},
   "outputs": [],
   "source": [
    "# TODO: 4th from bototm, for example, the recovery happens with the new recording. Need to take into account the jump in time between two recordings! So its not x seconds, but x+y, y the time between two recordings\n",
    "# TODO also exclude the 4th from bottom recording, as water was evaporating.\n",
    "# TODO make assembled tmev traces with 10000-10000 frames. Make manual lfp-labview matching, write down parameters."
   ]
  },
  {
   "cell_type": "markdown",
   "id": "8d2b0855",
   "metadata": {},
   "source": [
    "## NC"
   ]
  },
  {
   "cell_type": "code",
   "execution_count": null,
   "id": "e7bd4ebc",
   "metadata": {},
   "outputs": [],
   "source": [
    "fig = plt.figure(figsize=(18,18))\n",
    "amplitude = 100.\n",
    "offset = 0.\n",
    "\n",
    "for event_uuid, mouse_id, i_trace in event_uuid_mouse_id_i_trace_nc:\n",
    "    #print(f\"{event_uuid} {offset}\")\n",
    "    c = df_colors[df_colors[\"mouse_id\"] == mouse_id].color.iloc[0]\n",
    "    plt.plot(amplitude*(traces_nc[i_trace] - min(traces_nc[i_trace]))/(max(traces_nc[i_trace] - min(traces_nc[i_trace])))+offset, color=c )\n",
    "    plt.vlines(x=x_recovery_nc[i_trace], ymin=offset-0.1*amplitude, ymax=offset+1.1*amplitude)\n",
    "    for window_center in x_recovery_nc[i_trace]:\n",
    "        plt.hlines(y=offset-5, xmin=window_center-window_width_frames//2, xmax= window_center+window_width_frames//2, color=\"red\")\n",
    "    offset += 1.3*amplitude\n",
    "plt.tight_layout()\n",
    "if save_figs:\n",
    "    output_fpath = os.path.join(output_folder, f\"nc_recovery_overview_{get_datetime_for_fname()}{output_format}\")\n",
    "    plt.savefig(output_fpath)\n",
    "    print(f\"Saved as {output_fpath}\")\n",
    "plt.show()"
   ]
  },
  {
   "cell_type": "code",
   "execution_count": null,
   "id": "f02483dd",
   "metadata": {},
   "outputs": [],
   "source": [
    "fig = plt.figure(figsize=(18,18))\n",
    "offset = 0.0\n",
    "for event_uuid, mouse_id, i_trace in event_uuid_mouse_id_i_trace_nc:\n",
    "    c = df_colors[df_colors[\"mouse_id\"] == mouse_id].color.iloc[0]\n",
    "    plt.plot(time_points_numeric_extended[:len(y_recovery_nc[i_trace])], y_recovery_nc[i_trace] - y_recovery_nc[i_trace][0] + offset, \"o-\", color=c, markersize=10 )\n",
    "    plt.hlines(y=offset, xmin=time_points_numeric_extended[0], xmax=time_points_numeric_extended[-1], color=\"red\")\n",
    "    plt.vlines(ymin=offset-5, ymax=offset+5, x=t_recovery_single_nc[i_trace], linewidth=5, color=c)\n",
    "    offset += 10\n",
    "plt.tight_layout()\n",
    "if save_figs:\n",
    "    output_fpath = os.path.join(output_folder, f\"nc_recovery_time_points_{get_datetime_for_fname()}{output_format}\")\n",
    "    plt.savefig(output_fpath)\n",
    "    print(f\"Saved as {output_fpath}\")\n",
    "plt.show()"
   ]
  },
  {
   "cell_type": "code",
   "execution_count": null,
   "id": "408fe54d",
   "metadata": {},
   "outputs": [],
   "source": [
    "fig, axs = plt.subplots(1, 2, figsize=(8,6), sharey=True)\n",
    "left = sns.barplot(x=\"window_type\", y=\"t_recovery\", data=df_recovery_combined, ax= axs[0])\n",
    "right = sns.stripplot(x=\"window_type\", y=\"t_recovery\", hue=\"window_type\", data=df_recovery_combined, ax=axs[1], s=15, legend=False)\n",
    "#left.set(ylim=(0, time_points_numeric_extended[-1]+10))\n",
    "#right.set(ylim=(0, 200))\n",
    "plt.tight_layout()\n",
    "if save_figs:\n",
    "    output_fpath = os.path.join(output_folder, f\"recovery_ca1_vs_nc_{get_datetime_for_fname()}{output_format}\")\n",
    "    plt.savefig(output_fpath)\n",
    "    print(f\"Saved as {output_fpath}\")\n",
    "plt.show()"
   ]
  },
  {
   "cell_type": "markdown",
   "id": "b119a95b",
   "metadata": {},
   "source": [
    "## 2. Sz-bl, SD-bl amplitudes"
   ]
  },
  {
   "cell_type": "code",
   "execution_count": null,
   "id": "a35029b3",
   "metadata": {},
   "outputs": [],
   "source": [
    "fig = plt.figure(figsize=(4,10))\n",
    "for i_sz in range(len(sz_sd_minus_bl_amplitudes)):\n",
    "    plt.plot(sz_sd_minus_bl_amplitudes[i_sz], \"o-\", color=colors_ca1[i_sz], )\n",
    "#for i_sz_nc in range(len(amplitudes_nc_to_bl)):\n",
    "#    plt.plot(amplitudes_nc_to_bl[i_sz_nc], \"o-\", color=colors_nc[i_sz_nc])\n",
    "plt.ylabel(\"fluorescence (a.u.)\")\n",
    "    \n",
    "plt.vlines([0,1], 0, 500)\n",
    "    \n",
    "plt.text(0.05, 450, \"Sz-bl\", fontdict=None)\n",
    "plt.text(0.68, 450, \"SD-bl\", fontdict=None)\n",
    "\n",
    "frame1 = plt.gca()\n",
    "frame1.axes.xaxis.set_ticklabels([])\n",
    "frame1.axes.xaxis.grid(False)\n",
    "#frame1.axes.yaxis.set_ticklabels([])\n",
    "plt.tight_layout()\n",
    "if save_figs:\n",
    "    output_fpath = os.path.join(output_folder, f\"amplitudes_to_bl_{get_datetime_for_fname()}{output_format}\")\n",
    "    plt.savefig(output_fpath)\n",
    "    print(f\"Saved as {output_fpath}\")\n",
    "plt.show()"
   ]
  },
  {
   "cell_type": "markdown",
   "id": "abce3e45",
   "metadata": {},
   "source": [
    "## 3. Bl - darkest time point difference"
   ]
  },
  {
   "cell_type": "code",
   "execution_count": null,
   "id": "fa50745f",
   "metadata": {},
   "outputs": [],
   "source": [
    "fig, axs=plt.subplots(1,2,figsize=(8,6), sharey=True)\n",
    "left= sns.barplot(data=df_bl_minus_darkest_combined, x=\"window_type\", y=\"bl-darkest\", ax=axs[0])\n",
    "right = sns.stripplot(data=df_bl_minus_darkest_combined, x=\"window_type\", y=\"bl-darkest\", hue=\"window_type\", legend=False, s=15, ax=axs[1])\n",
    "plt.tight_layout()\n",
    "if save_figs:\n",
    "    output_fpath = os.path.join(output_folder, f\"recovery_bl_minus_darkest_{get_datetime_for_fname()}{output_format}\")\n",
    "    plt.savefig(output_fpath)\n",
    "    print(f\"Saved as {output_fpath}\")\n",
    "plt.show()"
   ]
  },
  {
   "cell_type": "code",
   "execution_count": null,
   "id": "21f5254f",
   "metadata": {},
   "outputs": [],
   "source": [
    "#fig = plt.figure(figsize=(18,12))\n",
    "#for i_sz in range(len(amplitudes_ca1)):\n",
    "#    plt.plot(amplitudes_ca1[i_sz], color=colors_ca1[i_sz])\n",
    "#plt.show()"
   ]
  },
  {
   "cell_type": "markdown",
   "id": "c5f715db",
   "metadata": {},
   "source": [
    "# Export datasets"
   ]
  },
  {
   "cell_type": "markdown",
   "id": "eb0df145",
   "metadata": {},
   "source": [
    "# Statistical tests\n",
    "t-test assumes normal distribution, which probably is not the case..."
   ]
  },
  {
   "cell_type": "code",
   "execution_count": null,
   "id": "c4125478",
   "metadata": {},
   "outputs": [],
   "source": [
    "output_table =  {\"what_tested\": [], \"test_type\": [], \"statistic\": [], \"p_val\": [], \"comment\": []}"
   ]
  },
  {
   "cell_type": "markdown",
   "id": "26986ffa",
   "metadata": {},
   "source": [
    "## 1. Recovery "
   ]
  },
  {
   "cell_type": "code",
   "execution_count": null,
   "id": "080c9b2b",
   "metadata": {},
   "outputs": [],
   "source": [
    "if save_dsets:\n",
    "    output_fpath = os.path.join(output_folder, f\"recovery_dataset_{get_datetime_for_fname()}.xlsx\")\n",
    "    df_recovery_combined[[\"mouse_id\", \"window_type\", \"t_recovery\"]].to_excel(output_fpath, index=False)\n",
    "    print(f\"Saved to {output_fpath}\")"
   ]
  },
  {
   "cell_type": "code",
   "execution_count": null,
   "id": "58700c9e",
   "metadata": {},
   "outputs": [],
   "source": [
    "t_recovery_ca1 = df_recovery_combined[df_recovery_combined[\"window_type\"] == \"ca1\"].t_recovery\n",
    "t_recovery_nc = df_recovery_combined[df_recovery_combined[\"window_type\"] == \"nc\"].t_recovery"
   ]
  },
  {
   "cell_type": "code",
   "execution_count": null,
   "id": "58ceea03",
   "metadata": {},
   "outputs": [],
   "source": [
    "nt_rec_ca1 = normaltest(t_recovery_ca1)\n",
    "print(nt_rec_ca1)"
   ]
  },
  {
   "cell_type": "code",
   "execution_count": null,
   "id": "ea7d7981",
   "metadata": {},
   "outputs": [],
   "source": [
    "# CA1\n",
    "output_table[\"what_tested\"].append(\"t_recovery_ca1\")\n",
    "output_table[\"test_type\"].append(\"normality\")\n",
    "output_table[\"statistic\"].append(nt_rec_ca1.statistic)\n",
    "output_table[\"p_val\"].append(nt_rec_ca1.pvalue)\n",
    "if nt_rec_ca1.pvalue < 0.05:\n",
    "    output_table[\"comment\"].append(\"dataset normality hypothesis rejected\")\n",
    "else:\n",
    "    output_table[\"comment\"].append(\"dataset normality hypothesis was not rejected\")"
   ]
  },
  {
   "cell_type": "code",
   "execution_count": null,
   "id": "8d740d0a",
   "metadata": {},
   "outputs": [],
   "source": [
    "nt_rec_nc = normaltest(t_recovery_nc)\n",
    "print(nt_rec_nc)"
   ]
  },
  {
   "cell_type": "code",
   "execution_count": null,
   "id": "13790158",
   "metadata": {},
   "outputs": [],
   "source": [
    "# NC\n",
    "output_table[\"what_tested\"].append(\"t_recovery_nc\")\n",
    "output_table[\"test_type\"].append(\"normality\")\n",
    "output_table[\"statistic\"].append(nt_rec_nc.statistic)\n",
    "output_table[\"p_val\"].append(nt_rec_nc.pvalue)\n",
    "if nt_rec_nc.pvalue < 0.05:\n",
    "    output_table[\"comment\"].append(\"dataset normality hypothesis rejected\")\n",
    "else:\n",
    "    output_table[\"comment\"].append(\"dataset normality hypothesis not rejected\")"
   ]
  },
  {
   "cell_type": "markdown",
   "id": "53a235ec",
   "metadata": {},
   "source": [
    "### As for the CA1 recovery data, we must reject the null hypothesis, we should use consistently Mann-Whitney. Test for sample mean equality for CA1 vs NC"
   ]
  },
  {
   "cell_type": "code",
   "execution_count": null,
   "id": "3b413770",
   "metadata": {},
   "outputs": [],
   "source": [
    "# need to choose which assumptions fit the data, i.e. which test is appropriate\n",
    "#print(ttest_ind(t_recovery_ca1, t_recovery_nc))\n",
    "#print(ranksums(t_recovery_ca1, t_recovery_nc))\n",
    "mwu_recovery = mannwhitneyu(t_recovery_ca1, t_recovery_nc)\n",
    "print(mwu_recovery)"
   ]
  },
  {
   "cell_type": "code",
   "execution_count": null,
   "id": "a5940f81",
   "metadata": {},
   "outputs": [],
   "source": [
    "output_table[\"what_tested\"].append(\"t_recovery\")\n",
    "output_table[\"test_type\"].append(\"Mann-Whitney U\")\n",
    "output_table[\"statistic\"].append(mwu_recovery.statistic)\n",
    "output_table[\"p_val\"].append(mwu_recovery.pvalue)\n",
    "if mwu_recovery.pvalue < 0.05:\n",
    "    output_table[\"comment\"].append(\"two datasets coming from same population rejected\")\n",
    "else:\n",
    "    output_table[\"comment\"].append(\"two datasets coming from same population not rejected\")"
   ]
  },
  {
   "cell_type": "markdown",
   "id": "e7d30b03",
   "metadata": {},
   "source": [
    "## 2. Bl-Sz, Bl-SD amplitude comparison"
   ]
  },
  {
   "cell_type": "markdown",
   "id": "95add296",
   "metadata": {},
   "source": [
    "### Test normality"
   ]
  },
  {
   "cell_type": "markdown",
   "id": "91042981",
   "metadata": {},
   "source": [
    "### As for CA1, the null hypothesis that the sample came from normal distribution is rejected, one can use the Mann-Whitney test instead of the unpaired t-test."
   ]
  },
  {
   "cell_type": "code",
   "execution_count": null,
   "id": "502eae04",
   "metadata": {},
   "outputs": [],
   "source": [
    "# sz_sd_minus_bl_amplitudes: [[Bl2-Sz1, Bl2-SD1], [Bl2-Sz2, BL2-SD2], ...]\n",
    "bl_minus_sz = sz_sd_minus_bl_amplitudes.T[0]\n",
    "bl_minus_sd = sz_sd_minus_bl_amplitudes.T[1]\n",
    "no_nan_idx = ~(np.isnan(bl_minus_sz) | np.isnan(bl_minus_sd))"
   ]
  },
  {
   "cell_type": "code",
   "execution_count": null,
   "id": "d2cda420",
   "metadata": {},
   "outputs": [],
   "source": [
    "# test amplitude of Sz vs amplitude of SD: from same population?\n",
    "\n",
    "#print(ttest_ind(bl_minus_sz[no_nan_idx], bl_minus_sd[no_nan_idx]))\n",
    "#print(ranksums(bl_minus_sz[no_nan_idx], bl_minus_sd[no_nan_idx]))\n",
    "mwu_ampl = mannwhitneyu(bl_minus_sz[no_nan_idx], bl_minus_sd[no_nan_idx])\n",
    "print(mwu_ampl)"
   ]
  },
  {
   "cell_type": "code",
   "execution_count": null,
   "id": "0544d2c1",
   "metadata": {},
   "outputs": [],
   "source": [
    "output_table[\"what_tested\"].append(\"Sz_vs_SD_amplitude\")\n",
    "output_table[\"test_type\"].append(\"Mann-Whitney U\")\n",
    "output_table[\"statistic\"].append(mwu_ampl.statistic)\n",
    "output_table[\"p_val\"].append(mwu_ampl.pvalue)\n",
    "if mwu_ampl.pvalue < 0.05:\n",
    "    output_table[\"comment\"].append(\"two datasets coming from same population rejected\")\n",
    "else:\n",
    "    output_table[\"comment\"].append(\"two datasets coming from same population not rejected\")"
   ]
  },
  {
   "cell_type": "markdown",
   "id": "f92bca0c",
   "metadata": {},
   "source": [
    "## 3. Bl - darkest time point difference"
   ]
  },
  {
   "cell_type": "code",
   "execution_count": null,
   "id": "16ad6f7a",
   "metadata": {},
   "outputs": [],
   "source": [
    "nt_diff_ca1 = normaltest(df_bl_minus_darkest_combined[df_bl_minus_darkest_combined[\"window_type\"] == \"ca1\"][\"bl-darkest\"])\n",
    "print(nt_diff_ca1)"
   ]
  },
  {
   "cell_type": "code",
   "execution_count": null,
   "id": "835b59b6",
   "metadata": {},
   "outputs": [],
   "source": [
    "# CA1\n",
    "output_table[\"what_tested\"].append(\"bl_minus_darkest_ca1\")\n",
    "output_table[\"test_type\"].append(\"normality\")\n",
    "output_table[\"statistic\"].append(nt_diff_ca1.statistic)\n",
    "output_table[\"p_val\"].append(nt_diff_ca1.pvalue)\n",
    "if nt_diff_ca1.pvalue < 0.05:\n",
    "    output_table[\"comment\"].append(\"dataset normality hypothesis rejected\")\n",
    "else:\n",
    "    output_table[\"comment\"].append(\"dataset normality hypothesis was not rejected\")"
   ]
  },
  {
   "cell_type": "code",
   "execution_count": null,
   "id": "91938147",
   "metadata": {},
   "outputs": [],
   "source": [
    "nt_diff_nc = normaltest(df_bl_minus_darkest_combined[df_bl_minus_darkest_combined[\"window_type\"] == \"nc\"][\"bl-darkest\"])\n",
    "print(nt_diff_nc)"
   ]
  },
  {
   "cell_type": "code",
   "execution_count": null,
   "id": "ccfc2484",
   "metadata": {},
   "outputs": [],
   "source": [
    "# NC\n",
    "output_table[\"what_tested\"].append(\"bl_minus_darkest_nc\")\n",
    "output_table[\"test_type\"].append(\"normality\")\n",
    "output_table[\"statistic\"].append(nt_diff_nc.statistic)\n",
    "output_table[\"p_val\"].append(nt_diff_nc.pvalue)\n",
    "if nt_diff_nc.pvalue < 0.05:\n",
    "    output_table[\"comment\"].append(\"dataset normality hypothesis rejected\")\n",
    "else:\n",
    "    output_table[\"comment\"].append(\"dataset normality hypothesis was not rejected\")"
   ]
  },
  {
   "cell_type": "markdown",
   "id": "06bf988f",
   "metadata": {},
   "source": [
    "### As normal data cannot be assumed, use Mann-Whitney"
   ]
  },
  {
   "cell_type": "code",
   "execution_count": null,
   "id": "4aa7915b",
   "metadata": {},
   "outputs": [],
   "source": [
    "mwu_bl_minus_darkest = mannwhitneyu(df_bl_minus_darkest_combined[df_bl_minus_darkest_combined[\"window_type\"] == \"ca1\"][\"bl-darkest\"], df_bl_minus_darkest_combined[df_bl_minus_darkest_combined[\"window_type\"] == \"nc\"][\"bl-darkest\"])\n",
    "print(mwu_bl_minus_darkest)"
   ]
  },
  {
   "cell_type": "code",
   "execution_count": null,
   "id": "2b4ab7ff",
   "metadata": {},
   "outputs": [],
   "source": [
    "ttest_ind(df_bl_minus_darkest_combined[df_bl_minus_darkest_combined[\"window_type\"] == \"ca1\"][\"bl-darkest\"], df_bl_minus_darkest_combined[df_bl_minus_darkest_combined[\"window_type\"] == \"nc\"][\"bl-darkest\"], equal_var=False)"
   ]
  },
  {
   "cell_type": "code",
   "execution_count": null,
   "id": "d066c5f8",
   "metadata": {},
   "outputs": [],
   "source": [
    "# check SD category was recognized properly\n",
    "fig = plt.figure()\n",
    "for i in range(len(traces_ca1)):\n",
    "    len_sz = len(traces_ca1[i]) -  n_am_frames_ca1[i] - n_bl_frames_ca1[i]\n",
    "    plt.plot(traces_ca1[i][n_bl_frames_ca1[i]+len_sz+1:], color=colors_ca1[i])\n",
    "plt.show()"
   ]
  },
  {
   "cell_type": "code",
   "execution_count": null,
   "id": "44506233",
   "metadata": {},
   "outputs": [],
   "source": [
    "output_table[\"what_tested\"].append(\"Bl_minus_darkest\")\n",
    "output_table[\"test_type\"].append(\"Mann-Whitney U\")\n",
    "output_table[\"statistic\"].append(mwu_bl_minus_darkest.statistic)\n",
    "output_table[\"p_val\"].append(mwu_bl_minus_darkest.pvalue)\n",
    "if mwu_bl_minus_darkest.pvalue < 0.05:\n",
    "    output_table[\"comment\"].append(\"two datasets coming from same population rejected\")\n",
    "else:\n",
    "    output_table[\"comment\"].append(\"two datasets coming from same population not rejected\")"
   ]
  },
  {
   "cell_type": "markdown",
   "id": "0ffc3cfa",
   "metadata": {},
   "source": [
    "## Export statistical tests to Excel"
   ]
  },
  {
   "cell_type": "code",
   "execution_count": null,
   "id": "3aae3510",
   "metadata": {},
   "outputs": [],
   "source": [
    "df_stat_results = pd.DataFrame(output_table)"
   ]
  },
  {
   "cell_type": "code",
   "execution_count": null,
   "id": "7c11418b",
   "metadata": {},
   "outputs": [],
   "source": [
    "if save_dsets:\n",
    "    output_fpath = os.path.join(output_folder, f\"recovery_stats_{get_datetime_for_fname()}.xlsx\")\n",
    "    df_stat_results.to_excel(output_fpath, index=False)"
   ]
  },
  {
   "cell_type": "markdown",
   "id": "d16a29d7",
   "metadata": {},
   "source": [
    "# Export data to excel"
   ]
  },
  {
   "cell_type": "markdown",
   "id": "791180fb",
   "metadata": {},
   "source": [
    "## 1. Recovery times"
   ]
  },
  {
   "cell_type": "code",
   "execution_count": null,
   "id": "4e255761",
   "metadata": {},
   "outputs": [],
   "source": [
    "if save_dsets:\n",
    "    fpath_recovery_ca1 = os.path.join(output_folder, f\"recovery_times_ca1_{get_datetime_for_fname()}.xlsx\")\n",
    "    df_recovery_ca1.to_excel(fpath_recovery_ca1, index=False)\n",
    "    print(f\"Saved file to {fpath_recovery_ca1}\")\n",
    "    \n",
    "    fpath_recovery_nc = os.path.join(output_folder, f\"recovery_times_nc_{get_datetime_for_fname()}.xlsx\")\n",
    "    df_recovery_nc.to_excel(fpath_recovery_nc, index=False)\n",
    "    print(f\"Saved file to {fpath_recovery_nc}\")"
   ]
  },
  {
   "cell_type": "code",
   "execution_count": null,
   "id": "1b1861db",
   "metadata": {},
   "outputs": [],
   "source": [
    "if save_dsets:\n",
    "    fpath_recovery = os.path.join(output_folder, f\"recovery_times_{get_datetime_for_fname()}.xlsx\")\n",
    "    df_recovery_combined.to_excel(fpath_recovery, index=False)\n",
    "    print(f\"Saved file to {fpath_recovery}\")"
   ]
  },
  {
   "cell_type": "markdown",
   "id": "81028f1d",
   "metadata": {},
   "source": [
    "## 2. Amplitudes"
   ]
  },
  {
   "cell_type": "code",
   "execution_count": null,
   "id": "346f3e28",
   "metadata": {},
   "outputs": [],
   "source": [
    "if save_dsets:\n",
    "    fpath_amplitudes = os.path.join(output_folder, f\"sz_sd_amplitudes_{get_datetime_for_fname()}.xlsx\")\n",
    "    df_amplitudes_ca1[[\"mouse_id\", \"window_type\", \"event_uuid\", \"Sz-bl\", \"SD-bl\" ]].sort_values(by=\"mouse_id\").to_excel(fpath_amplitudes, index=False)\n",
    "    print(f\"Saved file to {fpath_amplitudes}\")\n",
    "    "
   ]
  },
  {
   "cell_type": "markdown",
   "id": "fe14353b",
   "metadata": {},
   "source": [
    "## 3. Bl - darkest point differences"
   ]
  },
  {
   "cell_type": "code",
   "execution_count": null,
   "id": "c894ade1",
   "metadata": {},
   "outputs": [],
   "source": [
    "if save_dsets:\n",
    "    fpath_bl_darkest = os.path.join(output_folder, f\"bl-to-darkest-point_{get_datetime_for_fname()}.xlsx\")\n",
    "    df_bl_minus_darkest_combined[[\"mouse_id\", \"event_uuid\", \"window_type\", \"baseline\", \"darkest_postictal\", \"bl-darkest\",  ]].sort_values(by=\"mouse_id\").to_excel(fpath_bl_darkest, index=False)\n",
    "    print(f\"Saved file to {fpath_bl_darkest}\")"
   ]
  },
  {
   "cell_type": "code",
   "execution_count": null,
   "id": "4a189e71",
   "metadata": {},
   "outputs": [],
   "source": []
  }
 ],
 "metadata": {
  "kernelspec": {
   "display_name": "Python 3 (ipykernel)",
   "language": "python",
   "name": "python3"
  },
  "language_info": {
   "codemirror_mode": {
    "name": "ipython",
    "version": 3
   },
   "file_extension": ".py",
   "mimetype": "text/x-python",
   "name": "python",
   "nbconvert_exporter": "python",
   "pygments_lexer": "ipython3",
   "version": "3.8.12"
  }
 },
 "nbformat": 4,
 "nbformat_minor": 5
}
