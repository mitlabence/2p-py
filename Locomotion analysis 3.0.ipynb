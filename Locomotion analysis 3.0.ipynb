{
 "cells": [
  {
   "cell_type": "markdown",
   "id": "3e013d97",
   "metadata": {},
   "source": [
    "# Locomotion analysis v3.0\n",
    "This script works with the pre-assembled dataset, cutting out most of the acquiring data part, resulting in cleaner and more reliable analysis (the dataset is manually checked separately from this script)."
   ]
  },
  {
   "cell_type": "markdown",
   "id": "b117cd92",
   "metadata": {},
   "source": [
    "# Set version"
   ]
  },
  {
   "cell_type": "code",
   "execution_count": null,
   "id": "2aeff4af",
   "metadata": {},
   "outputs": [],
   "source": [
    "output_version = \"v1.0\""
   ]
  },
  {
   "cell_type": "markdown",
   "id": "51054967",
   "metadata": {},
   "source": [
    "# Import libraries"
   ]
  },
  {
   "cell_type": "code",
   "execution_count": null,
   "id": "34aef127",
   "metadata": {},
   "outputs": [],
   "source": [
    "#Auto-reload modules (used to develop functions outside this notebook)\n",
    "%load_ext autoreload\n",
    "%autoreload 2"
   ]
  },
  {
   "cell_type": "code",
   "execution_count": null,
   "id": "80753c06",
   "metadata": {},
   "outputs": [],
   "source": [
    "import labrotation.file_handling as fh\n",
    "import h5py\n",
    "from time import time\n",
    "import matplotlib.pyplot as plt\n",
    "import numpy as np\n",
    "import os\n",
    "from labrotation import file_handling as fh\n",
    "from copy import deepcopy\n",
    "import pandas as pd\n",
    "import labrotation.two_photon_session as tps\n",
    "import seaborn as sns\n",
    "import uuid  # for unique labeling of sessions and coupling arrays (mouse velocity, distance, ...) to sessions in dataframe \n",
    "from matplotlib import cm  # colormap\n",
    "import datadoc_util\n",
    "from labrotation import two_photon_session as tps\n",
    "from datetime import datetime\n",
    "import seaborn as sns"
   ]
  },
  {
   "cell_type": "markdown",
   "id": "135cf136",
   "metadata": {},
   "source": [
    "# Set seaborn parameters"
   ]
  },
  {
   "cell_type": "code",
   "execution_count": null,
   "id": "cb7310fa",
   "metadata": {},
   "outputs": [],
   "source": [
    "sns.set(font_scale=2)\n",
    "sns.set_style(\"whitegrid\")"
   ]
  },
  {
   "cell_type": "markdown",
   "id": "5ec68054",
   "metadata": {},
   "source": [
    "# If exists, load environmental variables from .env file"
   ]
  },
  {
   "cell_type": "code",
   "execution_count": null,
   "id": "b6f1505b",
   "metadata": {},
   "outputs": [],
   "source": [
    "env_dict = dict()\n",
    "if not os.path.exists(\"./.env\"):\n",
    "    print(\".env does not exist\")\n",
    "else:\n",
    "    with open(\"./.env\", \"r\") as f:\n",
    "        for line in f.readlines():\n",
    "            l = line.rstrip().split(\"=\")\n",
    "            env_dict[l[0]] = l[1]\n",
    "print(env_dict.keys())"
   ]
  },
  {
   "cell_type": "markdown",
   "id": "1aee7f17",
   "metadata": {},
   "source": [
    "# Set up data documentation directory"
   ]
  },
  {
   "cell_type": "code",
   "execution_count": null,
   "id": "89537f41",
   "metadata": {},
   "outputs": [],
   "source": [
    "# assumption: inside the documentation folder, the subfolders carry the id of each mouse (not exact necessarily, but they \n",
    "# can be identified by the name of the subfolder). \n",
    "# Inside the subfolder xy (for mouse xy), xy_grouping.xlsx and xy_segmentation.xlsx can be found.\n",
    "# xy_grouping.xlsx serves the purpose of finding the recordings belonging together, and has columns:\n",
    "# folder, nd2, labview, lfp, face_cam_last, nikon_meta, experiment_type, day\n",
    "# xy_segmentation.xlsx contains frame-by-frame (given by a set of disjoint intervals forming a cover for the whole recording) \n",
    "# classification of the events in the recording (\"normal\", seizure (\"sz\"), sd wave (\"sd_wave\") etc.). The columns:\n",
    "# folder, interval_type, frame_begin, frame_end.\n",
    "\n",
    "# TODO: write documentation on contents of xlsx files (what the columns are etc.)\n",
    "if \"DATA_DOCU_FOLDER\" in env_dict.keys():\n",
    "    docu_folder = env_dict[\"DATA_DOCU_FOLDER\"]\n",
    "else:\n",
    "    docu_folder = fh.open_dir(\"Choose folder containing folders for each mouse!\")\n",
    "print(f\"Selected folder:\\n\\t{docu_folder}\")"
   ]
  },
  {
   "cell_type": "code",
   "execution_count": null,
   "id": "652dd010",
   "metadata": {},
   "outputs": [],
   "source": [
    "if \"documentation\" in os.listdir(docu_folder):\n",
    "    mouse_folder = os.path.join(docu_folder, \"documentation\")\n",
    "else:\n",
    "    mouse_folder = docu_folder\n",
    "mouse_names = os.listdir(mouse_folder)\n",
    "print(f\"Mice detected:\")\n",
    "for mouse in mouse_names:\n",
    "    print(f\"\\t{mouse}\")"
   ]
  },
  {
   "cell_type": "markdown",
   "id": "7e27d936",
   "metadata": {},
   "source": [
    "### Set up export figure parameters"
   ]
  },
  {
   "cell_type": "code",
   "execution_count": null,
   "id": "09e0b40b",
   "metadata": {},
   "outputs": [],
   "source": [
    "save_figs = False  # set to True to save the figures created\n",
    "save_as_eps = True\n",
    "if save_as_eps:\n",
    "    file_format = \".eps\"\n",
    "else:\n",
    "    file_format = \".jpg\"\n",
    "if save_figs:\n",
    "    print(f\"Going to save figures as {file_format} files.\")"
   ]
  },
  {
   "cell_type": "code",
   "execution_count": null,
   "id": "d4476f42",
   "metadata": {},
   "outputs": [],
   "source": [
    "def get_datetime_for_fname():\n",
    "    now = datetime.now()\n",
    "    return f\"{now.year:04d}{now.month:02d}{now.day:02d}-{now.hour:02d}{now.minute:02d}{now.second:02d}\""
   ]
  },
  {
   "cell_type": "code",
   "execution_count": null,
   "id": "bad91b1f",
   "metadata": {},
   "outputs": [],
   "source": [
    "output_folder = env_dict[\"DOWNLOADS_FOLDER\"]\n",
    "print(f\"Output files will be saved to {output_folder}\")"
   ]
  },
  {
   "cell_type": "markdown",
   "id": "fe63c765",
   "metadata": {},
   "source": [
    "### Load matlab-2p"
   ]
  },
  {
   "cell_type": "code",
   "execution_count": null,
   "id": "882258c7",
   "metadata": {},
   "outputs": [],
   "source": [
    "if \"MATLAB_2P_FOLDER\" in env_dict.keys():\n",
    "    matlab_2p_folder = env_dict[\"MATLAB_2P_FOLDER\"]\n",
    "else:\n",
    "    matlab_2p_folder = fh.open_dir(\"Choose matlab-2p folder\")\n",
    "print(f\"matlab-2p folder set to:\\n\\t{matlab_2p_folder}\")"
   ]
  },
  {
   "cell_type": "markdown",
   "id": "bd8efd1b",
   "metadata": {},
   "source": [
    "### Load data documentation"
   ]
  },
  {
   "cell_type": "code",
   "execution_count": null,
   "id": "d08a8775",
   "metadata": {},
   "outputs": [],
   "source": [
    "ddoc = datadoc_util.DataDocumentation(docu_folder)\n",
    "ddoc.loadDataDoc()"
   ]
  },
  {
   "cell_type": "markdown",
   "id": "9847f99c",
   "metadata": {},
   "source": [
    "### Load events_list dataset"
   ]
  },
  {
   "cell_type": "code",
   "execution_count": null,
   "id": "fd03d026",
   "metadata": {},
   "outputs": [],
   "source": [
    "events_list_fpath = os.path.join(docu_folder, \"events_list.xlsx\")\n",
    "assert os.path.exists(events_list_fpath)\n",
    "\n",
    "df_events_list = pd.read_excel(events_list_fpath)"
   ]
  },
  {
   "cell_type": "markdown",
   "id": "13444932",
   "metadata": {},
   "source": [
    "## Load dataset"
   ]
  },
  {
   "cell_type": "code",
   "execution_count": null,
   "id": "5d99e2b8",
   "metadata": {},
   "outputs": [],
   "source": [
    "assembled_traces_fpath = fh.open_file(\"Open assembled_traces h5 file!\")"
   ]
  },
  {
   "cell_type": "code",
   "execution_count": null,
   "id": "4dbc1721",
   "metadata": {},
   "outputs": [],
   "source": [
    "traces_dict = dict()  \n",
    "traces_meta_dict = dict()\n",
    "# first keys are event uuids, inside the following dataset names:\n",
    "# 'lfp_mov_t', 'lfp_mov_y', 'lfp_t', 'lfp_y', 'lv_dist', 'lv_rounds', \n",
    "# 'lv_running', 'lv_speed', 'lv_t_s', 'lv_totdist', 'mean_fluo'\n",
    "with h5py.File(assembled_traces_fpath, \"r\") as hf:\n",
    "    for uuid in hf.keys():\n",
    "        session_dataset_dict = dict() \n",
    "        session_meta_dict = dict()\n",
    "        for dataset_name in hf[uuid].keys():\n",
    "            session_dataset_dict[dataset_name] = np.array(hf[uuid][dataset_name])\n",
    "        for attr_name in hf[uuid].attrs:\n",
    "            session_meta_dict[attr_name] = hf[uuid].attrs[attr_name]\n",
    "        traces_dict[uuid] = session_dataset_dict.copy()\n",
    "        traces_meta_dict[uuid] = session_meta_dict.copy()"
   ]
  },
  {
   "cell_type": "markdown",
   "id": "97ade1f7",
   "metadata": {},
   "source": [
    "# Calculate locomotion statistics"
   ]
  },
  {
   "cell_type": "code",
   "execution_count": null,
   "id": "44924566",
   "metadata": {},
   "outputs": [],
   "source": [
    "# each entry (row) should have columns: \n",
    "# uuid of event, mouse id, window type, segment type (bl/sz/am), segment length in frames, totdist, running, speed\n",
    "list_statistics = []  \n",
    "for event_uuid in traces_dict.keys():\n",
    "    mouse_id = traces_meta_dict[event_uuid][\"mouse_id\"]\n",
    "    win_type = traces_meta_dict[event_uuid][\"window_type\"]\n",
    "    # get segment lengths\n",
    "    n_bl_frames = traces_meta_dict[event_uuid][\"n_bl_frames\"]\n",
    "    n_am_frames = traces_meta_dict[event_uuid][\"n_am_frames\"]\n",
    "    n_frames = traces_meta_dict[event_uuid][\"n_frames\"]\n",
    "    n_sz_frames = n_frames - n_am_frames - n_bl_frames\n",
    "    # get movement data\n",
    "    lv_totdist = traces_dict[event_uuid][\"lv_totdist\"]\n",
    "    lv_totdist_abs = traces_dict[event_uuid][\"lv_totdist_abs\"]\n",
    "    lv_running = traces_dict[event_uuid][\"lv_running\"]\n",
    "    lv_speed = traces_dict[event_uuid][\"lv_speed\"]\n",
    "    # cut up data into segments\n",
    "    lv_totdist_bl = lv_totdist[:n_bl_frames]\n",
    "    lv_totdist_sz = lv_totdist[n_bl_frames:n_bl_frames+n_sz_frames]\n",
    "    lv_totdist_am = lv_totdist[n_bl_frames+n_sz_frames:]\n",
    "    lv_totdist_abs_bl = lv_totdist_abs[:n_bl_frames]\n",
    "    lv_totdist_abs_sz = lv_totdist_abs[n_bl_frames:n_bl_frames+n_sz_frames]\n",
    "    lv_totdist_abs_am = lv_totdist_abs[n_bl_frames+n_sz_frames:]\n",
    "    lv_running_bl = lv_running[:n_bl_frames]\n",
    "    lv_running_sz = lv_running[n_bl_frames:n_bl_frames+n_sz_frames]\n",
    "    lv_running_am = lv_running[n_bl_frames+n_sz_frames:]\n",
    "    lv_speed_bl = lv_speed[:n_bl_frames]\n",
    "    lv_speed_sz = lv_speed[n_bl_frames:n_bl_frames+n_sz_frames]\n",
    "    lv_speed_am = lv_speed[n_bl_frames+n_sz_frames:]\n",
    "    # calculate statistics\n",
    "    totdist_bl = lv_totdist_bl[-1] - lv_totdist_bl[0]\n",
    "    totdist_sz = lv_totdist_sz[-1] - lv_totdist_sz[0]\n",
    "    totdist_am = lv_totdist_am[-1] - lv_totdist_am[0]\n",
    "    totdist_abs_bl = lv_totdist_abs_bl[-1] - lv_totdist_abs_bl[0]\n",
    "    totdist_abs_sz = lv_totdist_abs_sz[-1] - lv_totdist_abs_sz[0]\n",
    "    totdist_abs_am = lv_totdist_abs_am[-1] - lv_totdist_abs_am[0]\n",
    "    running_bl = sum(lv_running_bl)\n",
    "    running_sz = sum(lv_running_sz)\n",
    "    running_am = sum(lv_running_am)\n",
    "    speed_bl = sum(lv_speed_bl)\n",
    "    speed_sz = sum(lv_speed_sz)\n",
    "    speed_am = sum(lv_speed_am)\n",
    "    \n",
    "    # add to data list\n",
    "    list_statistics.append([event_uuid, mouse_id, win_type, \"bl\", n_bl_frames, totdist_bl, totdist_abs_bl, running_bl, speed_bl, ])\n",
    "    list_statistics.append([event_uuid, mouse_id, win_type, \"sz\", n_sz_frames, totdist_sz, totdist_abs_sz, running_sz, speed_sz])\n",
    "    list_statistics.append([event_uuid, mouse_id, win_type, \"am\", n_am_frames, totdist_am, totdist_abs_am, running_am, speed_am])"
   ]
  },
  {
   "cell_type": "code",
   "execution_count": null,
   "id": "535694c3",
   "metadata": {},
   "outputs": [],
   "source": [
    "df_stats = pd.DataFrame(data=list_statistics, columns=[\"event_uuid\", \"mouse_id\", \"window_type\", \"segment_type\",  \"segment_length\", \"totdist\", \"totdist_abs\", \"running\", \"speed\"])"
   ]
  },
  {
   "cell_type": "code",
   "execution_count": null,
   "id": "9af82b1d",
   "metadata": {},
   "outputs": [],
   "source": [
    "df_stats[\"totdist_norm\"] = df_stats[\"totdist\"]/df_stats[\"segment_length\"]\n",
    "df_stats[\"totdist_abs_norm\"] = df_stats[\"totdist_abs\"]/df_stats[\"segment_length\"]\n",
    "df_stats[\"running_norm\"] = df_stats[\"running\"]/df_stats[\"segment_length\"]\n",
    "df_stats[\"speed_norm\"] = df_stats[\"speed\"]/df_stats[\"segment_length\"]"
   ]
  },
  {
   "cell_type": "code",
   "execution_count": null,
   "id": "7dcff801",
   "metadata": {},
   "outputs": [],
   "source": [
    "fig = plt.figure(figsize=(10,10))\n",
    "sns.violinplot(x=\"segment_type\", y=\"running_norm\", data=df_stats)\n",
    "#sns.stripplot(data=df_stats[df_stats[\"window_type\"]==\"CA1\"], x=\"speed_norm\", y=\"segment_type\", hue=\"mouse_id\", dodge=True, zorder=1, legend=False)\n",
    "plt.show()"
   ]
  },
  {
   "cell_type": "code",
   "execution_count": null,
   "id": "346a0637",
   "metadata": {},
   "outputs": [],
   "source": [
    "loco_statistic = \"totdist_abs\"\n",
    "\n",
    "fig, axs = plt.subplots(2, 3, figsize=(22,12), sharey=False)\n",
    "sns.pointplot(data=df_stats, x=\"segment_type\", y=loco_statistic, ax=axs[0][0])\n",
    "sns.pointplot(data=df_stats, x=\"segment_type\", y=\"running\", ax=axs[0][1])\n",
    "sns.pointplot(data=df_stats, x=\"segment_type\", y=\"speed\", ax=axs[0][2])\n",
    "\n",
    "sns.pointplot(data=df_stats[df_stats[\"segment_type\"] == \"bl\"], x=\"window_type\", y=loco_statistic, join=False, capsize=.1, ax=axs[1][0])\n",
    "sns.pointplot(data=df_stats[df_stats[\"segment_type\"] == \"sz\"], x=\"window_type\", y=loco_statistic, join=False, capsize=.1, ax=axs[1][1])\n",
    "sns.pointplot(data=df_stats[df_stats[\"segment_type\"] == \"am\"], x=\"window_type\", y=loco_statistic, join=False, capsize=.1, ax=axs[1][2])\n",
    "if save_figs:\n",
    "    fig_fpath = os.path.join(output_folder, f'loco_mean_per_segment_{get_datetime_for_fname()}_{output_version}{file_format}')\n",
    "    plt.savefig(fig_fpath, format=file_format.split(\".\")[-1])\n",
    "    print(f\"Saved to {fig_fpath}\")\n",
    "plt.show()"
   ]
  },
  {
   "cell_type": "code",
   "execution_count": null,
   "id": "4fa317d5",
   "metadata": {},
   "outputs": [],
   "source": [
    "loco_statistic = \"totdist_abs\"\n",
    "\n",
    "fig, axs = plt.subplots(2, 3, figsize=(22,12))\n",
    "sns.lineplot(data=df_stats, x=\"segment_type\", y=loco_statistic, hue=\"event_uuid\", ax=axs[0][0], legend=False)\n",
    "sns.lineplot(data=df_stats, x=\"segment_type\", y=\"running\", hue=\"event_uuid\", ax=axs[0][1], legend=False)\n",
    "sns.lineplot(data=df_stats, x=\"segment_type\", y=\"speed\", hue=\"event_uuid\", ax=axs[0][2], legend=False)\n",
    "\n",
    "\n",
    "sns.stripplot(data=df_stats[df_stats[\"segment_type\"] == \"bl\"], x=\"window_type\", y=loco_statistic, size=8, ax=axs[1][0], legend=False)\n",
    "sns.stripplot(data=df_stats[df_stats[\"segment_type\"] == \"sz\"], x=\"window_type\", y=loco_statistic, size=8, ax=axs[1][1], legend=False)\n",
    "sns.stripplot(data=df_stats[df_stats[\"segment_type\"] == \"am\"], x=\"window_type\", y=loco_statistic, size=8, ax=axs[1][2], legend=False)\n",
    "if save_figs:\n",
    "    fig_fpath = os.path.join(output_folder, f'loco_per_segment_{get_datetime_for_fname()}_{output_version}{file_format}')\n",
    "    plt.savefig(fig_fpath, format=file_format.split(\".\")[-1])\n",
    "    print(f\"Saved to {fig_fpath}\")\n",
    "plt.show()"
   ]
  },
  {
   "cell_type": "code",
   "execution_count": null,
   "id": "c6b63a24",
   "metadata": {},
   "outputs": [],
   "source": [
    "loco_statistic = \"totdist_abs\"\n",
    "\n",
    "fig, axs = plt.subplots(2, 3, figsize=(22,12))\n",
    "sns.lineplot(data=df_stats[df_stats[\"segment_type\"].isin([\"bl\", \"am\"])], x=\"segment_type\", y=loco_statistic, hue=\"event_uuid\", ax=axs[0][0], legend=False)\n",
    "sns.lineplot(data=df_stats[df_stats[\"segment_type\"].isin([\"bl\", \"am\"])], x=\"segment_type\", y=\"running\", hue=\"event_uuid\", ax=axs[0][1], legend=False)\n",
    "sns.lineplot(data=df_stats[df_stats[\"segment_type\"].isin([\"bl\", \"am\"])], x=\"segment_type\", y=\"speed\", hue=\"event_uuid\", ax=axs[0][2], legend=False)\n",
    "\n",
    "\n",
    "sns.stripplot(data=df_stats[df_stats[\"segment_type\"] == \"bl\"], x=\"window_type\", y=loco_statistic, size=8, ax=axs[1][0], legend=False)\n",
    "sns.stripplot(data=df_stats[df_stats[\"segment_type\"] == \"sz\"], x=\"window_type\", y=loco_statistic, size=8, ax=axs[1][1], legend=False)\n",
    "sns.stripplot(data=df_stats[df_stats[\"segment_type\"] == \"am\"], x=\"window_type\", y=loco_statistic, size=8, ax=axs[1][2], legend=False)\n",
    "    \n",
    "if save_figs:\n",
    "    fig_fpath = os.path.join(output_folder, f'loco_per_segment_sz-excluded_{get_datetime_for_fname()}_{output_version}{file_format}')\n",
    "    plt.savefig(fig_fpath, format=file_format.split(\".\")[-1])\n",
    "    print(f\"Saved to {fig_fpath}\")\n",
    "plt.show()"
   ]
  },
  {
   "cell_type": "code",
   "execution_count": null,
   "id": "7829f5c2",
   "metadata": {},
   "outputs": [],
   "source": []
  }
 ],
 "metadata": {
  "kernelspec": {
   "display_name": "Python 3 (ipykernel)",
   "language": "python",
   "name": "python3"
  },
  "language_info": {
   "codemirror_mode": {
    "name": "ipython",
    "version": 3
   },
   "file_extension": ".py",
   "mimetype": "text/x-python",
   "name": "python",
   "nbconvert_exporter": "python",
   "pygments_lexer": "ipython3",
   "version": "3.8.12"
  }
 },
 "nbformat": 4,
 "nbformat_minor": 5
}
