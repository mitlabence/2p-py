{
 "cells": [
  {
   "cell_type": "markdown",
   "id": "3e013d97",
   "metadata": {},
   "source": [
    "# Locomotion analysis v3.0\n",
    "This script works with the pre-assembled dataset, cutting out most of the acquiring data part, resulting in cleaner and more reliable analysis (the dataset is manually checked separately from this script)."
   ]
  },
  {
   "cell_type": "markdown",
   "id": "b117cd92",
   "metadata": {},
   "source": [
    "# Set version"
   ]
  },
  {
   "cell_type": "markdown",
   "id": "7e27d936",
   "metadata": {},
   "source": [
    "### Set up export figure parameters"
   ]
  },
  {
   "cell_type": "code",
   "execution_count": null,
   "id": "a02de199",
   "metadata": {},
   "outputs": [],
   "source": [
    "save_figs = False  # set to True to save the figures created\n",
    "save_as_pdf = False\n",
    "#save_as_eps = False\n",
    "\n",
    "if save_as_pdf:\n",
    "    file_format = \".pdf\"\n",
    "else:\n",
    "    file_format = \".jpg\"\n",
    "if save_figs:\n",
    "    print(f\"Going to save figures as {file_format} files.\")"
   ]
  },
  {
   "cell_type": "code",
   "execution_count": null,
   "id": "c97494b8",
   "metadata": {},
   "outputs": [],
   "source": [
    "export_datasets = False  # set to True to export the resulting datasets"
   ]
  },
  {
   "cell_type": "code",
   "execution_count": null,
   "id": "2aeff4af",
   "metadata": {},
   "outputs": [],
   "source": [
    "output_version = \"v1.2\""
   ]
  },
  {
   "cell_type": "markdown",
   "id": "51054967",
   "metadata": {},
   "source": [
    "# Import libraries"
   ]
  },
  {
   "cell_type": "code",
   "execution_count": null,
   "id": "34aef127",
   "metadata": {},
   "outputs": [],
   "source": [
    "#Auto-reload modules (used to develop functions outside this notebook)\n",
    "%load_ext autoreload\n",
    "%autoreload 2"
   ]
  },
  {
   "cell_type": "code",
   "execution_count": null,
   "id": "80753c06",
   "metadata": {},
   "outputs": [],
   "source": [
    "import labrotation.file_handling as fh\n",
    "import h5py\n",
    "from time import time\n",
    "import matplotlib.pyplot as plt\n",
    "import numpy as np\n",
    "import os\n",
    "from labrotation import file_handling as fh\n",
    "from copy import deepcopy\n",
    "import pandas as pd\n",
    "import labrotation.two_photon_session as tps\n",
    "import seaborn as sns\n",
    "import uuid  # for unique labeling of sessions and coupling arrays (mouse velocity, distance, ...) to sessions in dataframe \n",
    "from matplotlib import cm  # colormap\n",
    "import datadoc_util\n",
    "from labrotation import two_photon_session as tps\n",
    "from datetime import datetime\n",
    "import seaborn as sns"
   ]
  },
  {
   "cell_type": "markdown",
   "id": "135cf136",
   "metadata": {},
   "source": [
    "# Set seaborn parameters"
   ]
  },
  {
   "cell_type": "code",
   "execution_count": null,
   "id": "cb7310fa",
   "metadata": {},
   "outputs": [],
   "source": [
    "sns.set(font_scale=2)\n",
    "sns.set_style(\"whitegrid\")"
   ]
  },
  {
   "cell_type": "markdown",
   "id": "5ec68054",
   "metadata": {},
   "source": [
    "# If exists, load environmental variables from .env file"
   ]
  },
  {
   "cell_type": "code",
   "execution_count": null,
   "id": "b6f1505b",
   "metadata": {},
   "outputs": [],
   "source": [
    "env_dict = dict()\n",
    "if not os.path.exists(\"./.env\"):\n",
    "    print(\".env does not exist\")\n",
    "else:\n",
    "    with open(\"./.env\", \"r\") as f:\n",
    "        for line in f.readlines():\n",
    "            l = line.rstrip().split(\"=\")\n",
    "            env_dict[l[0]] = l[1]\n",
    "print(env_dict.keys())"
   ]
  },
  {
   "cell_type": "markdown",
   "id": "1aee7f17",
   "metadata": {},
   "source": [
    "# Set up data documentation directory"
   ]
  },
  {
   "cell_type": "code",
   "execution_count": null,
   "id": "89537f41",
   "metadata": {},
   "outputs": [],
   "source": [
    "# assumption: inside the documentation folder, the subfolders carry the id of each mouse (not exact necessarily, but they \n",
    "# can be identified by the name of the subfolder). \n",
    "# Inside the subfolder xy (for mouse xy), xy_grouping.xlsx and xy_segmentation.xlsx can be found.\n",
    "# xy_grouping.xlsx serves the purpose of finding the recordings belonging together, and has columns:\n",
    "# folder, nd2, labview, lfp, face_cam_last, nikon_meta, experiment_type, day\n",
    "# xy_segmentation.xlsx contains frame-by-frame (given by a set of disjoint intervals forming a cover for the whole recording) \n",
    "# classification of the events in the recording (\"normal\", seizure (\"sz\"), sd wave (\"sd_wave\") etc.). The columns:\n",
    "# folder, interval_type, frame_begin, frame_end.\n",
    "\n",
    "# TODO: write documentation on contents of xlsx files (what the columns are etc.)\n",
    "if \"DATA_DOCU_FOLDER\" in env_dict.keys():\n",
    "    docu_folder = env_dict[\"DATA_DOCU_FOLDER\"]\n",
    "else:\n",
    "    docu_folder = fh.open_dir(\"Choose folder containing folders for each mouse!\")\n",
    "print(f\"Selected folder:\\n\\t{docu_folder}\")"
   ]
  },
  {
   "cell_type": "code",
   "execution_count": null,
   "id": "652dd010",
   "metadata": {},
   "outputs": [],
   "source": [
    "if \"documentation\" in os.listdir(docu_folder):\n",
    "    mouse_folder = os.path.join(docu_folder, \"documentation\")\n",
    "else:\n",
    "    mouse_folder = docu_folder\n",
    "mouse_names = os.listdir(mouse_folder)\n",
    "print(f\"Mice detected:\")\n",
    "for mouse in mouse_names:\n",
    "    print(f\"\\t{mouse}\")"
   ]
  },
  {
   "cell_type": "code",
   "execution_count": null,
   "id": "d4476f42",
   "metadata": {},
   "outputs": [],
   "source": [
    "def get_datetime_for_fname():\n",
    "    now = datetime.now()\n",
    "    return f\"{now.year:04d}{now.month:02d}{now.day:02d}-{now.hour:02d}{now.minute:02d}{now.second:02d}\""
   ]
  },
  {
   "cell_type": "code",
   "execution_count": null,
   "id": "bad91b1f",
   "metadata": {},
   "outputs": [],
   "source": [
    "output_folder = env_dict[\"DOWNLOADS_FOLDER\"]\n",
    "print(f\"Output files will be saved to {output_folder}\")"
   ]
  },
  {
   "cell_type": "markdown",
   "id": "fe63c765",
   "metadata": {},
   "source": [
    "### Load matlab-2p"
   ]
  },
  {
   "cell_type": "code",
   "execution_count": null,
   "id": "882258c7",
   "metadata": {},
   "outputs": [],
   "source": [
    "if \"MATLAB_2P_FOLDER\" in env_dict.keys():\n",
    "    matlab_2p_folder = env_dict[\"MATLAB_2P_FOLDER\"]\n",
    "else:\n",
    "    matlab_2p_folder = fh.open_dir(\"Choose matlab-2p folder\")\n",
    "print(f\"matlab-2p folder set to:\\n\\t{matlab_2p_folder}\")"
   ]
  },
  {
   "cell_type": "markdown",
   "id": "bd8efd1b",
   "metadata": {},
   "source": [
    "### Load data documentation"
   ]
  },
  {
   "cell_type": "code",
   "execution_count": null,
   "id": "d08a8775",
   "metadata": {},
   "outputs": [],
   "source": [
    "ddoc = datadoc_util.DataDocumentation(docu_folder)\n",
    "ddoc.loadDataDoc()"
   ]
  },
  {
   "cell_type": "markdown",
   "id": "8f32afd1",
   "metadata": {},
   "source": [
    "### Set up color coding\n",
    "for now, only possible to assign a color to each mouse. Later, when event uuids available, need to map event uuid to color code"
   ]
  },
  {
   "cell_type": "code",
   "execution_count": null,
   "id": "23f609aa",
   "metadata": {},
   "outputs": [],
   "source": [
    "df_colors = ddoc.getColorings()"
   ]
  },
  {
   "cell_type": "code",
   "execution_count": null,
   "id": "7d9f5f80",
   "metadata": {},
   "outputs": [],
   "source": [
    "dict_colors_mouse = df_colors[[\"mouse_id\", \"color\"]].to_dict(orient=\"list\")\n",
    "dict_colors_mouse = dict(zip(dict_colors_mouse[\"mouse_id\"], dict_colors_mouse[\"color\"]))"
   ]
  },
  {
   "cell_type": "code",
   "execution_count": null,
   "id": "07153a08",
   "metadata": {},
   "outputs": [],
   "source": [
    "#dict_colors_mouse[\"T413\"] = \"#000000\"  # set one to black"
   ]
  },
  {
   "cell_type": "markdown",
   "id": "9847f99c",
   "metadata": {},
   "source": [
    "### Load events_list dataset"
   ]
  },
  {
   "cell_type": "code",
   "execution_count": null,
   "id": "fd03d026",
   "metadata": {},
   "outputs": [],
   "source": [
    "events_list_fpath = os.path.join(docu_folder, \"events_list.xlsx\")\n",
    "assert os.path.exists(events_list_fpath)\n",
    "\n",
    "df_events_list = pd.read_excel(events_list_fpath)"
   ]
  },
  {
   "cell_type": "markdown",
   "id": "13444932",
   "metadata": {},
   "source": [
    "## Load dataset"
   ]
  },
  {
   "cell_type": "code",
   "execution_count": null,
   "id": "5d99e2b8",
   "metadata": {},
   "outputs": [],
   "source": [
    "assembled_traces_fpath = fh.open_file(\"Open assembled_traces h5 file!\")"
   ]
  },
  {
   "cell_type": "code",
   "execution_count": null,
   "id": "b8d14289",
   "metadata": {},
   "outputs": [],
   "source": [
    "if \"ChR2\" in assembled_traces_fpath:\n",
    "    used_mouse_ids = [\"OPI-2239\", \"WEZ-8917\", \"WEZ-8924\"]\n",
    "    print(\"Recognized ChR2 dataset\")"
   ]
  },
  {
   "cell_type": "code",
   "execution_count": null,
   "id": "4dbc1721",
   "metadata": {},
   "outputs": [],
   "source": [
    "traces_dict = dict()  \n",
    "traces_meta_dict = dict()\n",
    "# first keys are event uuids, inside the following dataset names:\n",
    "# 'lfp_mov_t', 'lfp_mov_y', 'lfp_t', 'lfp_y', 'lv_dist', 'lv_rounds', \n",
    "# 'lv_running', 'lv_speed', 'lv_t_s', 'lv_totdist', 'mean_fluo'\n",
    "with h5py.File(assembled_traces_fpath, \"r\") as hf:\n",
    "    for uuid in hf.keys():\n",
    "        if (\"ChR2\" not in assembled_traces_fpath) or (hf[uuid].attrs[\"mouse_id\"] in used_mouse_ids):\n",
    "            session_dataset_dict = dict() \n",
    "            session_meta_dict = dict()\n",
    "            for dataset_name in hf[uuid].keys():\n",
    "                session_dataset_dict[dataset_name] = np.array(hf[uuid][dataset_name])\n",
    "            for attr_name in hf[uuid].attrs:\n",
    "                session_meta_dict[attr_name] = hf[uuid].attrs[attr_name]\n",
    "            traces_dict[uuid] = session_dataset_dict.copy()\n",
    "            traces_meta_dict[uuid] = session_meta_dict.copy()"
   ]
  },
  {
   "cell_type": "markdown",
   "id": "97ade1f7",
   "metadata": {},
   "source": [
    "# Calculate locomotion statistics"
   ]
  },
  {
   "cell_type": "code",
   "execution_count": null,
   "id": "4d049406",
   "metadata": {},
   "outputs": [],
   "source": [
    "def get_episodes(segment, merge_episodes=False, merge_threshold_frames=8):\n",
    "    n_eps = 0\n",
    "    episode_lengths = []  # in frame units\n",
    "    episodes = []\n",
    "    n_episodes = 0\n",
    "    current_episode_len = 0\n",
    "    \n",
    "    episode_begin = 0\n",
    "    episode_end = 0\n",
    "    \n",
    "    # algorithm: detect episode begin and episode end. record it in list\n",
    "    \n",
    "    for i_frame in range(len(segment)-1):  # check current and next element for end of a episode: ...100...\n",
    "        if segment[i_frame] == 1:  # current frame is part of an episode\n",
    "            # increase current episode length\n",
    "            if i_frame == 0 or segment[i_frame - 1] == 0:  # check if beginning of an episode\n",
    "                episode_begin = i_frame\n",
    "            current_episode_len += 1\n",
    "            if segment[i_frame+1] == 0: # episode ends with next frame\n",
    "                n_episodes += 1\n",
    "                episode_lengths.append(current_episode_len)\n",
    "                episodes.append((episode_begin, i_frame))\n",
    "                current_episode_len = 0\n",
    "    if segment[-1] == 1: # check if there is one episode that does not end\n",
    "        n_episodes += 1\n",
    "        # add last segment to segments list\n",
    "        current_episode_len += 1\n",
    "        episode_lengths.append(current_episode_len)\n",
    "        current_episode_len = 0\n",
    "        \n",
    "    assert current_episode_len == 0\n",
    "    if merge_episodes:\n",
    "        if len(episodes) < 2:  # single (or zero) episode cannot be merged\n",
    "            return episodes\n",
    "        \n",
    "        # merge episodes that are close to each other\n",
    "        episodes_merged = []\n",
    "        merge_threshold_frames = 8  # at 15 Hz, ~0.5 s tolerance to merge\n",
    "\n",
    "        episode_begin = episodes[0][0]\n",
    "        episode_end = episodes[0][1]\n",
    "        # starting with second episode, check if current episode can be merged with previous. If yes, update episode_end.\n",
    "        # If not, add previous episode to list, update episode_begin and episode_end to current episode values\n",
    "        \n",
    "        \n",
    "        for i_episode in range(1, len(episodes)):\n",
    "            current_episode_begin = episodes[i_episode][0]\n",
    "            current_episode_end = episodes[i_episode][1]\n",
    "\n",
    "            delta = current_episode_begin - episode_end\n",
    "            \n",
    "            if delta <= merge_threshold_frames:  # merge current episode to previous one\n",
    "                episode_end = current_episode_end\n",
    "            else:  # add previous episode to list, start with current episode\n",
    "                episodes_merged.append((episode_begin, episode_end))\n",
    "                episode_begin = current_episode_begin\n",
    "                episode_end = current_episode_end\n",
    "\n",
    "        episode_lengths_merged = [ep[1]-ep[0] + 1 for ep in episodes_merged]\n",
    "        return episode_lengths_merged\n",
    "    return episode_lengths  # len() shows n_episodes"
   ]
  },
  {
   "cell_type": "code",
   "execution_count": null,
   "id": "44924566",
   "metadata": {},
   "outputs": [],
   "source": [
    "use_manual_bl_am_length = True\n",
    "bl_manual_length = 4500\n",
    "am_manual_length = 4500\n",
    "\n",
    "\n",
    "# each entry (row) should have columns: \n",
    "# uuid of event, mouse id, window type, segment type (bl/sz/am), segment length in frames, totdist, running, speed\n",
    "list_statistics = []  \n",
    "dict_episodes = {}\n",
    "\n",
    "for event_uuid in traces_dict.keys():\n",
    "    mouse_id = traces_meta_dict[event_uuid][\"mouse_id\"]\n",
    "    win_type = traces_meta_dict[event_uuid][\"window_type\"]\n",
    "    # get segment lengths\n",
    "    n_bl_frames = traces_meta_dict[event_uuid][\"n_bl_frames\"]\n",
    "    n_am_frames = traces_meta_dict[event_uuid][\"n_am_frames\"]\n",
    "    n_frames = traces_meta_dict[event_uuid][\"n_frames\"]\n",
    "    n_sz_frames = n_frames - n_am_frames - n_bl_frames\n",
    "    \n",
    "    if use_manual_bl_am_length:\n",
    "        if (bl_manual_length > n_bl_frames) or (am_manual_length > n_am_frames):\n",
    "            print(f\"{mouse_id} {event_uuid}:\\n\\tNot enough bl ({n_bl_frames}, {bl_manual_length} required) or am ({n_am_frames}, {am_manual_length} required) frames available. Skipping...\")\n",
    "            continue\n",
    "        # todo: set first and last frames for bl and am (as well as sz). If not use_manual_bl_am_length, also set it!\n",
    "        # then modify code below to first and last frames\n",
    "        else:\n",
    "            # define baseline as last frame before sz segment, and starting bl_manual_length frames before\n",
    "            last_frame_bl = n_bl_frames - 1  # 0 indexing: last bl frame, inclusive\n",
    "            first_frame_bl = last_frame_bl - bl_manual_length + 1  # inclusive\n",
    "            \n",
    "            # define aftermath as first frame after sz segment, and ending am_manual_length frames after\n",
    "            first_frame_am = n_bl_frames+n_sz_frames  # inclusive\n",
    "            last_frame_am = first_frame_am + am_manual_length - 1  # inclusive\n",
    "            \n",
    "            #convert to [begin, end), i.e. left inclusive, right exclusive, for numpy indexing\n",
    "            last_frame_bl += 1\n",
    "            last_frame_am += 1\n",
    "            \n",
    "            \n",
    "            n_bl_frames = last_frame_bl - first_frame_bl\n",
    "            n_am_frames = last_frame_am - first_frame_am\n",
    "            n_frames = last_frame_am - first_frame_bl\n",
    "            assert n_sz_frames == n_frames - n_bl_frames - n_am_frames\n",
    "            \n",
    "    else:\n",
    "        first_frame_bl = 0  # inclusive\n",
    "        last_frame_bl = n_bl_frames  # exclusive\n",
    "        \n",
    "        first_frame_am = n_bl_frames+n_sz_frames  # inclusive\n",
    "        last_frame_am = n_frames  # exclusive\n",
    "    \n",
    "    # print(f\"{ddoc.getNikonFileNameForUuid(event_uuid)}:\\n\\t{n_bl_frames} bl, {n_sz_frames} mid, {n_am_frames} am\")\n",
    "    # get movement data\n",
    "    lv_totdist = traces_dict[event_uuid][\"lv_totdist\"]\n",
    "    lv_totdist_abs = traces_dict[event_uuid][\"lv_totdist_abs\"]\n",
    "    lv_running = traces_dict[event_uuid][\"lv_running\"]\n",
    "    lv_speed = traces_dict[event_uuid][\"lv_speed\"]\n",
    "    # cut up data into segments\n",
    "    lv_totdist_bl = lv_totdist[first_frame_bl:last_frame_bl]\n",
    "    lv_totdist_sz = lv_totdist[n_bl_frames:n_bl_frames+n_sz_frames]\n",
    "    lv_totdist_am = lv_totdist[first_frame_am:last_frame_am]\n",
    "    \n",
    "    lv_totdist_abs_bl = lv_totdist_abs[first_frame_bl:last_frame_bl]\n",
    "    lv_totdist_abs_sz = lv_totdist_abs[n_bl_frames:n_bl_frames+n_sz_frames]\n",
    "    lv_totdist_abs_am = lv_totdist_abs[first_frame_am:last_frame_am]\n",
    "    \n",
    "    lv_running_bl = lv_running[first_frame_bl:last_frame_bl]\n",
    "    lv_running_sz = lv_running[n_bl_frames:n_bl_frames+n_sz_frames]\n",
    "    lv_running_am = lv_running[first_frame_am:last_frame_am]\n",
    "    \n",
    "    lv_speed_bl = lv_speed[first_frame_bl:last_frame_bl]\n",
    "    lv_speed_sz = lv_speed[n_bl_frames:n_bl_frames+n_sz_frames]\n",
    "    lv_speed_am = lv_speed[first_frame_am:last_frame_am]\n",
    "    \n",
    "    \n",
    "    # calculate statistics\n",
    "    totdist_bl = lv_totdist_bl[-1] - lv_totdist_bl[0]\n",
    "    totdist_sz = lv_totdist_sz[-1] - lv_totdist_sz[0]\n",
    "    totdist_am = lv_totdist_am[-1] - lv_totdist_am[0]\n",
    "    totdist_abs_bl = lv_totdist_abs_bl[-1] - lv_totdist_abs_bl[0]\n",
    "    totdist_abs_sz = lv_totdist_abs_sz[-1] - lv_totdist_abs_sz[0]\n",
    "    totdist_abs_am = lv_totdist_abs_am[-1] - lv_totdist_abs_am[0]\n",
    "    running_bl = sum(lv_running_bl)\n",
    "    running_sz = sum(lv_running_sz)\n",
    "    running_am = sum(lv_running_am)\n",
    "    speed_bl = sum(lv_speed_bl)\n",
    "    speed_sz = sum(lv_speed_sz)\n",
    "    speed_am = sum(lv_speed_am)\n",
    "    \n",
    "    # number of running episodes, length\n",
    "    \n",
    "    list_episodes_bl = get_episodes(lv_running_bl, True, 8)\n",
    "    n_episodes_bl = len(list_episodes_bl)\n",
    "        \n",
    "    list_episodes_sz = get_episodes(lv_running_sz, True, 8)\n",
    "    n_episodes_sz = len(list_episodes_sz)\n",
    "    \n",
    "    list_episodes_am = get_episodes(lv_running_am, True, 8)\n",
    "    n_episodes_am = len(list_episodes_am)\n",
    "    \n",
    "    # add to episodes dict\n",
    "    if mouse_id not in dict_episodes.keys():\n",
    "        dict_episodes[mouse_id] = dict()\n",
    "    dict_episodes[mouse_id][event_uuid] = dict()\n",
    "    \n",
    "    list_episodes_bl = np.array(list_episodes_bl)\n",
    "    list_episodes_sz = np.array(list_episodes_sz)\n",
    "    list_episodes_am = np.array(list_episodes_am)\n",
    "    \n",
    "    dict_episodes[mouse_id][event_uuid][\"bl\"] = list_episodes_bl\n",
    "    dict_episodes[mouse_id][event_uuid][\"sz\"] = list_episodes_sz\n",
    "    dict_episodes[mouse_id][event_uuid][\"am\"] = list_episodes_am\n",
    "    \n",
    "    # calculate mean episode length, std\n",
    "    bl_episode_mean_len = list_episodes_bl.mean()\n",
    "    sz_episode_mean_len = list_episodes_sz.mean()\n",
    "    am_episode_mean_len = list_episodes_am.mean()\n",
    "    \n",
    "    bl_episode_std = list_episodes_bl.std()\n",
    "    sz_episode_std = list_episodes_sz.std()\n",
    "    am_episode_std = list_episodes_am.std()\n",
    "    \n",
    "    \n",
    "    if \"exp_type\" in traces_meta_dict[event_uuid].keys():\n",
    "        exp_type = traces_meta_dict[event_uuid][\"exp_type\"]\n",
    "    else:  # if not noted, assume TMEV recordings\n",
    "        exp_type = \"tmev\"\n",
    "    # add to data list\n",
    "    list_statistics.append([event_uuid, mouse_id, win_type, \"bl\", n_bl_frames, totdist_bl, totdist_abs_bl, running_bl, speed_bl, n_episodes_bl, bl_episode_mean_len, bl_episode_std, exp_type])\n",
    "    list_statistics.append([event_uuid, mouse_id, win_type, \"sz\", n_sz_frames, totdist_sz, totdist_abs_sz, running_sz, speed_sz, n_episodes_sz, sz_episode_mean_len, sz_episode_std, exp_type])\n",
    "    list_statistics.append([event_uuid, mouse_id, win_type, \"am\", n_am_frames, totdist_am, totdist_abs_am, running_am, speed_am, n_episodes_am, am_episode_mean_len, am_episode_std, exp_type])"
   ]
  },
  {
   "cell_type": "code",
   "execution_count": null,
   "id": "535694c3",
   "metadata": {},
   "outputs": [],
   "source": [
    "df_stats = pd.DataFrame(data=list_statistics, columns=[\"event_uuid\", \"mouse_id\", \"window_type\", \"segment_type\",  \"segment_length\", \"totdist\", \"totdist_abs\", \"running\", \"speed\", \"running_episodes\", \"running_episodes_mean_length\", \"running_episodes_length_std\", \"exp_type\"])"
   ]
  },
  {
   "cell_type": "code",
   "execution_count": null,
   "id": "ceeb03b5",
   "metadata": {},
   "outputs": [],
   "source": [
    "# set NaN to 0 (running_episodes_mean_length: if no episodes, then mean segment length is 0)\n",
    "df_stats[\"running_episodes_mean_length\"] = df_stats[\"running_episodes_mean_length\"].fillna(value=0)"
   ]
  },
  {
   "cell_type": "code",
   "execution_count": null,
   "id": "9af82b1d",
   "metadata": {},
   "outputs": [],
   "source": [
    "df_stats[\"totdist_norm\"] = df_stats[\"totdist\"]/df_stats[\"segment_length\"]\n",
    "df_stats[\"totdist_abs_norm\"] = df_stats[\"totdist_abs\"]/df_stats[\"segment_length\"]\n",
    "df_stats[\"running_norm\"] = df_stats[\"running\"]/df_stats[\"segment_length\"]\n",
    "df_stats[\"speed_norm\"] = df_stats[\"speed\"]/df_stats[\"segment_length\"]"
   ]
  },
  {
   "cell_type": "markdown",
   "id": "8ec3363d",
   "metadata": {},
   "source": [
    "### Add % of time spent running"
   ]
  },
  {
   "cell_type": "code",
   "execution_count": null,
   "id": "897d9f44",
   "metadata": {},
   "outputs": [],
   "source": [
    "# % of time spent running\n",
    "df_stats[\"running%\"] = 100*df_stats[\"running\"]/df_stats[\"segment_length\"]  # get value as true % instead of [0, 1] float"
   ]
  },
  {
   "cell_type": "markdown",
   "id": "ab8350fa",
   "metadata": {},
   "source": [
    "### Add  color codes to entries"
   ]
  },
  {
   "cell_type": "code",
   "execution_count": null,
   "id": "706fa48e",
   "metadata": {},
   "outputs": [],
   "source": [
    "df_stats[\"color\"] = df_stats.apply(lambda row: dict_colors_mouse[row[\"mouse_id\"]], axis=1)"
   ]
  },
  {
   "cell_type": "code",
   "execution_count": null,
   "id": "5adb74bb",
   "metadata": {},
   "outputs": [],
   "source": [
    "dict_colors_event = df_stats[[\"event_uuid\", \"color\"]].to_dict(orient=\"list\")\n",
    "dict_colors_event = dict(zip(dict_colors_event[\"event_uuid\"], dict_colors_event[\"color\"]))"
   ]
  },
  {
   "cell_type": "markdown",
   "id": "732725dc",
   "metadata": {},
   "source": [
    "## Create per-mouse means"
   ]
  },
  {
   "cell_type": "code",
   "execution_count": null,
   "id": "a0650038",
   "metadata": {},
   "outputs": [],
   "source": [
    "df_stats_per_mouse_mean = df_stats.drop(columns=[\"event_uuid\", \"window_type\", \"color\"], axis=0).groupby([\"mouse_id\", \"exp_type\", \"segment_type\"]).agg(func=\"mean\").reset_index()"
   ]
  },
  {
   "cell_type": "code",
   "execution_count": null,
   "id": "d4d913c5",
   "metadata": {},
   "outputs": [],
   "source": [
    "df_stats_per_mouse_mean[\"window_type\"] = df_stats_per_mouse_mean.apply(lambda row: ddoc.getMouseWinInjInfo(row[\"mouse_id\"]).iloc[0].window_type, axis=1)\n",
    "df_stats_per_mouse_mean[\"color\"] = df_stats_per_mouse_mean.apply(lambda row: df_colors[df_colors[\"mouse_id\"] == row[\"mouse_id\"]].iloc[0].color, axis=1)"
   ]
  },
  {
   "cell_type": "markdown",
   "id": "a083849b",
   "metadata": {},
   "source": [
    "# 1. TMEV"
   ]
  },
  {
   "cell_type": "markdown",
   "id": "56ba4f81",
   "metadata": {},
   "source": [
    "# Plot results"
   ]
  },
  {
   "cell_type": "code",
   "execution_count": null,
   "id": "7dcff801",
   "metadata": {},
   "outputs": [],
   "source": [
    "fig = plt.figure(figsize=(10,10))\n",
    "sns.violinplot(x=\"segment_type\", y=\"running_norm\", data=df_stats)\n",
    "#sns.stripplot(data=df_stats[df_stats[\"window_type\"]==\"CA1\"], x=\"speed_norm\", y=\"segment_type\", hue=\"mouse_id\", dodge=True, zorder=1, legend=False)\n",
    "plt.show()"
   ]
  },
  {
   "cell_type": "code",
   "execution_count": null,
   "id": "346a0637",
   "metadata": {},
   "outputs": [],
   "source": [
    "loco_statistic = \"totdist_abs\"\n",
    "\n",
    "fig, axs = plt.subplots(2, 3, figsize=(22,12), sharey=False)\n",
    "sns.pointplot(data=df_stats, x=\"segment_type\", y=loco_statistic, ax=axs[0][0])\n",
    "sns.pointplot(data=df_stats, x=\"segment_type\", y=\"running\", ax=axs[0][1])\n",
    "sns.pointplot(data=df_stats, x=\"segment_type\", y=\"speed\", ax=axs[0][2])\n",
    "\n",
    "sns.pointplot(data=df_stats[df_stats[\"segment_type\"] == \"bl\"], x=\"window_type\", y=loco_statistic, join=False, capsize=.1, ax=axs[1][0])\n",
    "sns.pointplot(data=df_stats[df_stats[\"segment_type\"] == \"sz\"], x=\"window_type\", y=loco_statistic, join=False, capsize=.1, ax=axs[1][1])\n",
    "sns.pointplot(data=df_stats[df_stats[\"segment_type\"] == \"am\"], x=\"window_type\", y=loco_statistic, join=False, capsize=.1, ax=axs[1][2])\n",
    "if save_figs:\n",
    "    fig_fpath = os.path.join(output_folder, f'loco_mean_per_segment_{get_datetime_for_fname()}_{output_version}{file_format}')\n",
    "    plt.savefig(fig_fpath, format=file_format.split(\".\")[-1])\n",
    "    print(f\"Saved to {fig_fpath}\")\n",
    "plt.show()"
   ]
  },
  {
   "cell_type": "code",
   "execution_count": null,
   "id": "4fa317d5",
   "metadata": {},
   "outputs": [],
   "source": [
    "loco_statistic = \"totdist_abs\"\n",
    "\n",
    "fig, axs = plt.subplots(2, 3, figsize=(22,12))\n",
    "sns.lineplot(data=df_stats, x=\"segment_type\", y=loco_statistic, hue=\"event_uuid\", palette=dict_colors_event, ax=axs[0][0], legend=False)\n",
    "sns.lineplot(data=df_stats, x=\"segment_type\", y=\"running\", hue=\"event_uuid\", palette=dict_colors_event, ax=axs[0][1], legend=False)\n",
    "sns.lineplot(data=df_stats, x=\"segment_type\", y=\"speed\", hue=\"event_uuid\", palette=dict_colors_event, ax=axs[0][2], legend=False)\n",
    "\n",
    "\n",
    "sns.stripplot(data=df_stats[df_stats[\"segment_type\"] == \"bl\"], x=\"window_type\", hue=\"event_uuid\", palette=dict_colors_event, y=loco_statistic, size=8, ax=axs[1][0], legend=False)\n",
    "sns.stripplot(data=df_stats[df_stats[\"segment_type\"] == \"sz\"], x=\"window_type\", hue=\"event_uuid\", palette=dict_colors_event, y=loco_statistic, size=8, ax=axs[1][1], legend=False)\n",
    "sns.stripplot(data=df_stats[df_stats[\"segment_type\"] == \"am\"], x=\"window_type\", hue=\"event_uuid\", palette=dict_colors_event, y=loco_statistic, size=8, ax=axs[1][2], legend=False)\n",
    "\n",
    "    \n",
    "sns.violinplot(\n",
    "    data=df_stats[df_stats[\"segment_type\"] == \"bl\"],\n",
    "    x=\"window_type\", y=loco_statistic, \n",
    "    hue_order=[True, False], split=True,\n",
    "    hue=True,\n",
    "    palette=[\"lightgrey\"],\n",
    "    ax=axs[1][0]\n",
    ")\n",
    "axs[1][0].legend_=None\n",
    "\n",
    "sns.violinplot(\n",
    "    data=df_stats[df_stats[\"segment_type\"] == \"sz\"],\n",
    "    x=\"window_type\", y=loco_statistic, \n",
    "    hue_order=[True, False], split=True,\n",
    "    hue=True,\n",
    "    palette=[\"lightgrey\"],\n",
    "    ax=axs[1][1]\n",
    ")\n",
    "axs[1][1].legend_=None\n",
    "\n",
    "sns.violinplot(\n",
    "    data=df_stats[df_stats[\"segment_type\"] == \"am\"],\n",
    "    x=\"window_type\", y=loco_statistic, \n",
    "    hue_order=[True, False], split=True,\n",
    "    hue=True,\n",
    "    palette=[\"lightgrey\"],\n",
    "    ax=axs[1][2]\n",
    ")\n",
    "axs[1][2].legend_=None\n",
    "\n",
    "\n",
    "axs[1][0].set_title(\"baseline\")\n",
    "axs[1][1].set_title(\"seizure\")\n",
    "axs[1][2].set_title(\"aftermath\")\n",
    "\n",
    "\n",
    "#axs[1][0].set_alpha(0.5)\n",
    "# found violin plot surfaces by trial and error below, for making them transparent:\n",
    "plt.setp(axs[1][0].collections[-2], alpha=.3)\n",
    "plt.setp(axs[1][0].collections[-4], alpha=.3)\n",
    "plt.setp(axs[1][1].collections[-2], alpha=.3)\n",
    "plt.setp(axs[1][1].collections[-4], alpha=.3)\n",
    "plt.setp(axs[1][2].collections[-2], alpha=.3)\n",
    "plt.setp(axs[1][2].collections[-4], alpha=.3)\n",
    "\n",
    "plt.tight_layout()\n",
    "\n",
    "if save_figs:\n",
    "    fig_fpath = os.path.join(output_folder, f'loco_per_segment_{get_datetime_for_fname()}_{output_version}{file_format}')\n",
    "    plt.savefig(fig_fpath, format=file_format.split(\".\")[-1])\n",
    "    print(f\"Saved to {fig_fpath}\")\n",
    "    \n",
    "\n",
    "\n",
    "plt.show()"
   ]
  },
  {
   "cell_type": "markdown",
   "id": "e16e11b8",
   "metadata": {},
   "source": [
    "## Plot individual recordings, color-coded by mouse ID"
   ]
  },
  {
   "cell_type": "markdown",
   "id": "cb66560d",
   "metadata": {},
   "source": [
    "### Plot all possible metrics"
   ]
  },
  {
   "cell_type": "code",
   "execution_count": null,
   "id": "77733a7c",
   "metadata": {},
   "outputs": [],
   "source": [
    "fig, axs = plt.subplots(2, 3, figsize=(22,16))\n",
    "sns.lineplot(data=df_stats[df_stats[\"segment_type\"].isin([\"bl\", \"am\"])], x=\"segment_type\", y=\"totdist_abs\", hue=\"event_uuid\", palette=dict_colors_event, estimator=None, ax=axs[0][0], marker=\"o\", markersize=20, legend=False)\n",
    "sns.lineplot(data=df_stats[df_stats[\"segment_type\"].isin([\"bl\", \"am\"])], x=\"segment_type\", y=\"running\", hue=\"event_uuid\", palette=dict_colors_event, estimator=None, ax=axs[0][1], marker=\"o\", markersize=20, legend=False)\n",
    "sns.lineplot(data=df_stats[df_stats[\"segment_type\"].isin([\"bl\", \"am\"])], x=\"segment_type\", y=\"speed\", hue=\"event_uuid\", palette=dict_colors_event, estimator=None, ax=axs[0][2], marker=\"o\", markersize=20, legend=False)\n",
    "sns.lineplot(data=df_stats[df_stats[\"segment_type\"].isin([\"bl\", \"am\"])], x=\"segment_type\", y=\"running%\", hue=\"event_uuid\", palette=dict_colors_event, estimator=None, ax=axs[1][0], marker=\"o\", markersize=20, legend=False)\n",
    "sns.lineplot(data=df_stats[df_stats[\"segment_type\"].isin([\"bl\", \"am\"])], x=\"segment_type\", y=\"running_episodes\", hue=\"event_uuid\", palette=dict_colors_event, estimator=None, ax=axs[1][1], marker=\"o\", markersize=20, legend=False)\n",
    "sns.lineplot(data=df_stats[df_stats[\"segment_type\"].isin([\"bl\", \"am\"])], x=\"segment_type\", y=\"running_episodes_mean_length\", hue=\"event_uuid\", palette=dict_colors_event, estimator=None, ax=axs[1][2], marker=\"o\", markersize=20, legend=False)\n",
    "\n",
    "\n",
    "plt.tight_layout()\n",
    "\n",
    "if save_figs and False:  # outdated figure, do not save\n",
    "    fig_fpath = os.path.join(output_folder, f'loco_per_segment_all_sources_sz_excluded_{get_datetime_for_fname()}_{output_version}{file_format}')\n",
    "    plt.savefig(fig_fpath, format=file_format.split(\".\")[-1])\n",
    "    print(f\"Saved to {fig_fpath}\")\n",
    "plt.show()"
   ]
  },
  {
   "cell_type": "code",
   "execution_count": null,
   "id": "ff79683c",
   "metadata": {},
   "outputs": [],
   "source": [
    "fig, axs = plt.subplots(2, 3, figsize=(22,16))\n",
    "sns.lineplot(data=df_stats[df_stats[\"segment_type\"].isin([\"bl\", \"am\"])], x=\"segment_type\", y=\"totdist_abs\", hue=\"event_uuid\", palette=dict_colors_event, estimator=None, ax=axs[0][0],  linestyle=\"-\", marker=\"o\", markersize=13, linewidth=1, legend=False)\n",
    "sns.despine(left=True, bottom=True, top=True, right=True)\n",
    "axs[0][0].set(xlabel='Segment', ylabel='Total (absolute) distance, a.u.')\n",
    "axs[0][0].set_xticklabels([\"baseline\",\"aftermath\"])\n",
    "\n",
    "sns.lineplot(data=df_stats[df_stats[\"segment_type\"].isin([\"bl\", \"am\"])], x=\"segment_type\", y=\"running%\", hue=\"event_uuid\", palette=dict_colors_event, estimator=None, ax=axs[0][1],  linestyle=\"-\", marker=\"o\", markersize=13, linewidth=1,  legend=False)\n",
    "axs[0][1].set(xlabel='Segment', ylabel='% of time spent with locomotion')\n",
    "axs[0][1].set_xticklabels([\"baseline\",\"aftermath\"])\n",
    "\n",
    "sns.lineplot(data=df_stats[df_stats[\"segment_type\"].isin([\"bl\", \"am\"])], x=\"segment_type\", y=\"running_episodes\", hue=\"event_uuid\", palette=dict_colors_event, estimator=None, ax=axs[0][2],  linestyle=\"-\", marker=\"o\", markersize=13, linewidth=1,  legend=False)\n",
    "axs[0][2].set(xlabel='Segment', ylabel='Number of running episodes')\n",
    "axs[0][2].set_xticklabels([\"baseline\",\"aftermath\"])\n",
    "\n",
    "sns.lineplot(data=df_stats[df_stats[\"segment_type\"].isin([\"bl\", \"am\"])], x=\"segment_type\", y=\"running\", hue=\"event_uuid\", palette=dict_colors_event, estimator=None, ax=axs[1][0],  linestyle=\"-\", marker=\"o\", markersize=13, linewidth=1,  legend=False)\n",
    "axs[1][0].set(xlabel='Segment', ylabel='Frames spent with locomotion')\n",
    "axs[1][0].set_xticklabels([\"baseline\",\"aftermath\"])\n",
    "\n",
    "sns.lineplot(data=df_stats[df_stats[\"segment_type\"].isin([\"bl\", \"am\"])], x=\"segment_type\", y=\"speed\", hue=\"event_uuid\", palette=dict_colors_event, estimator=None, ax=axs[1][1],  linestyle=\"-\", marker=\"o\", markersize=13, linewidth=1,  legend=False)\n",
    "axs[1][1].set(xlabel='Segment', ylabel='Integrated velocity, a.u.')\n",
    "axs[1][1].set_xticklabels([\"baseline\",\"aftermath\"])\n",
    "\n",
    "sns.lineplot(data=df_stats[df_stats[\"segment_type\"].isin([\"bl\", \"am\"])], x=\"segment_type\", y=\"running_episodes_mean_length\", hue=\"event_uuid\", palette=dict_colors_event, estimator=None, ax=axs[1][2],  linestyle=\"-\", marker=\"o\", markersize=13, linewidth=1,  legend=False)\n",
    "axs[1][2].set(xlabel='Segment', ylabel='Mean length of running episodes (a.u.)')\n",
    "axs[1][2].set_xticklabels([\"baseline\",\"aftermath\"])\n",
    "\n",
    "plt.tight_layout()\n",
    "\n",
    "if save_figs and False:  # outdated figure, do not save\n",
    "    fig_fpath = os.path.join(output_folder, f'loco_per_segment_all_sources_sz_excluded_{get_datetime_for_fname()}_{output_version}{file_format}')\n",
    "    plt.savefig(fig_fpath, format=file_format.split(\".\")[-1])\n",
    "    print(f\"Saved to {fig_fpath}\")\n",
    "plt.show()"
   ]
  },
  {
   "cell_type": "markdown",
   "id": "fd1e2b06",
   "metadata": {},
   "source": [
    "### Plot 3 metrics along with individual points, violin plot"
   ]
  },
  {
   "cell_type": "code",
   "execution_count": null,
   "id": "c6b63a24",
   "metadata": {},
   "outputs": [],
   "source": [
    "loco_statistic = \"totdist_abs\"\n",
    "\n",
    "fig, axs = plt.subplots(2, 3, figsize=(22,12))\n",
    "sns.lineplot(data=df_stats[df_stats[\"segment_type\"].isin([\"bl\", \"am\"])], x=\"segment_type\", y=loco_statistic, hue=\"event_uuid\", palette=dict_colors_event, estimator=None, ax=axs[0][0], legend=False)\n",
    "sns.lineplot(data=df_stats[df_stats[\"segment_type\"].isin([\"bl\", \"am\"])], x=\"segment_type\", y=\"running\", hue=\"event_uuid\", palette=dict_colors_event, estimator=None, ax=axs[0][1], legend=False)\n",
    "sns.lineplot(data=df_stats[df_stats[\"segment_type\"].isin([\"bl\", \"am\"])], x=\"segment_type\", y=\"speed\", hue=\"event_uuid\", palette=dict_colors_event, estimator=None, ax=axs[0][2], legend=False)\n",
    "\n",
    "\n",
    "sns.stripplot(data=df_stats[df_stats[\"segment_type\"] == \"bl\"], x=\"window_type\", y=loco_statistic, hue=\"event_uuid\", palette=dict_colors_event, size=8, ax=axs[1][0], legend=False)\n",
    "sns.stripplot(data=df_stats[df_stats[\"segment_type\"] == \"sz\"], x=\"window_type\", y=loco_statistic, hue=\"event_uuid\", palette=dict_colors_event, size=8, ax=axs[1][1], legend=False)\n",
    "sns.stripplot(data=df_stats[df_stats[\"segment_type\"] == \"am\"], x=\"window_type\", y=loco_statistic, hue=\"event_uuid\", palette=dict_colors_event, size=8, ax=axs[1][2], legend=False)\n",
    "\n",
    "\n",
    "sns.violinplot(\n",
    "    data=df_stats[df_stats[\"segment_type\"] == \"bl\"],\n",
    "    x=\"window_type\", y=loco_statistic, \n",
    "    hue_order=[True, False], split=True,\n",
    "    hue=True,\n",
    "    palette=[\"lightgrey\"],\n",
    "    ax=axs[1][0]\n",
    ")\n",
    "axs[1][0].legend_=None\n",
    "\n",
    "sns.violinplot(\n",
    "    data=df_stats[df_stats[\"segment_type\"] == \"sz\"],\n",
    "    x=\"window_type\", y=loco_statistic, \n",
    "    hue_order=[True, False], split=True,\n",
    "    hue=True,\n",
    "    palette=[\"lightgrey\"],\n",
    "    ax=axs[1][1]\n",
    ")\n",
    "axs[1][1].legend_=None\n",
    "\n",
    "sns.violinplot(\n",
    "    data=df_stats[df_stats[\"segment_type\"] == \"am\"],\n",
    "    x=\"window_type\", y=loco_statistic, \n",
    "    hue_order=[True, False], split=True,\n",
    "    hue=True,\n",
    "    palette=[\"lightgrey\"],\n",
    "    ax=axs[1][2]\n",
    ")\n",
    "axs[1][2].legend_=None\n",
    "\n",
    "#axs[1][0].set_alpha(0.5)\n",
    "# found violin plot surfaces by trial and error below, for making them transparent:\n",
    "plt.setp(axs[1][0].collections[-2], alpha=.3)\n",
    "plt.setp(axs[1][0].collections[-4], alpha=.3)\n",
    "plt.setp(axs[1][1].collections[-2], alpha=.3)\n",
    "plt.setp(axs[1][1].collections[-4], alpha=.3)\n",
    "plt.setp(axs[1][2].collections[-2], alpha=.3)\n",
    "plt.setp(axs[1][2].collections[-4], alpha=.3)\n",
    "\n",
    "\n",
    "axs[1][0].set_title(\"baseline\")\n",
    "axs[1][1].set_title(\"seizure\")\n",
    "axs[1][2].set_title(\"aftermath\")\n",
    "\n",
    "plt.tight_layout()\n",
    "\n",
    "if save_figs and False:  # outdated figure, do not save\n",
    "    fig_fpath = os.path.join(output_folder, f'loco_per_segment_sz-excluded_{get_datetime_for_fname()}_{output_version}{file_format}')\n",
    "    plt.savefig(fig_fpath, format=file_format.split(\".\")[-1])\n",
    "    print(f\"Saved to {fig_fpath}\")\n",
    "plt.show()"
   ]
  },
  {
   "cell_type": "code",
   "execution_count": null,
   "id": "f574fea8",
   "metadata": {},
   "outputs": [],
   "source": [
    "value_mapping = {\"bl\":\"baseline\", \"sz\": \"Sz\", \"am\":\"post-Sz\"}"
   ]
  },
  {
   "cell_type": "code",
   "execution_count": null,
   "id": "3e101d8b",
   "metadata": {},
   "outputs": [],
   "source": [
    "df_stats[\"segment_type\"] = df_stats[\"segment_type\"].apply(lambda x: value_mapping[x])"
   ]
  },
  {
   "cell_type": "code",
   "execution_count": null,
   "id": "7465bb62",
   "metadata": {},
   "outputs": [],
   "source": [
    "df_stats_ca1_bl_am_only"
   ]
  },
  {
   "cell_type": "code",
   "execution_count": null,
   "id": "4b2d063c",
   "metadata": {},
   "outputs": [],
   "source": [
    "def get_y(metric=\"totdist_abs\"):\n",
    "    # return [[event_uuid, bl_uuid1, am_uuid1], ...] doublets of the chosen metric\n",
    "    return [ [uuid, g[g[\"segment_type\"] == value_mapping[\"bl\"]].totdist_abs.iloc[0], g[g[\"segment_type\"] == value_mapping[\"am\"]].totdist_abs.iloc[0]] for uuid, g in df_stats[df_stats[\"segment_type\"].isin([value_mapping[\"bl\"], value_mapping[\"am\"]])].groupby(\"event_uuid\") ]\n",
    "\n",
    "y_totdist_abs = get_y(\"totdist_abs\")\n",
    "y_running = get_y(\"running\")\n",
    "y_speed = get_y(\"speed\")\n",
    "#x = df_stats[df_stats[\"segment_type\"].isin([\"bl\", \"am\"])][\"segment_type\"]\n",
    "x = [0, 1]\n",
    "\n",
    "\n",
    "fig, axs = plt.subplots(2, 3, figsize=(22,12))\n",
    "\n",
    "df_stats_ca1_bl_am_only = df_stats[(df_stats[\"segment_type\"].isin([value_mapping[\"bl\"], value_mapping[\"am\"]])) & (df_stats[\"window_type\"] == \"CA1\")]\n",
    "df_stats_nc_bl_am_only = df_stats[(df_stats[\"segment_type\"].isin([value_mapping[\"bl\"], value_mapping[\"am\"]])) & (df_stats[\"window_type\"] == \"Cx\")]\n",
    "\n",
    "\n",
    "sns.lineplot(data=df_stats_ca1_bl_am_only, x=\"segment_type\", y=loco_statistic, hue=\"event_uuid\", palette=dict_colors_event, ax=axs[0][0], marker=\"o\", markersize=20, legend=False)\n",
    "sns.lineplot(data=df_stats_ca1_bl_am_only, x=\"segment_type\", y=\"running%\", hue=\"event_uuid\", palette=dict_colors_event, marker=\"o\", markersize=20,  ax=axs[0][1], legend=False)\n",
    "sns.lineplot(data=df_stats_ca1_bl_am_only, x=\"segment_type\", y=\"running_episodes\",  hue=\"event_uuid\", palette=dict_colors_event, marker=\"o\", markersize=20,  ax=axs[0][2], legend=False)\n",
    "axs[0][0].set_title(\"CA1\")\n",
    "axs[0][1].set_title(\"CA1\")\n",
    "axs[0][2].set_title(\"CA1\")\n",
    "\n",
    "\n",
    "sns.lineplot(data=df_stats_nc_bl_am_only, x=\"segment_type\", y=loco_statistic, hue=\"event_uuid\", palette=dict_colors_event, ax=axs[1][0], marker=\"o\", markersize=20, legend=False)\n",
    "sns.lineplot(data=df_stats_nc_bl_am_only, x=\"segment_type\", y=\"running%\", hue=\"event_uuid\", palette=dict_colors_event, marker=\"o\", markersize=20,  ax=axs[1][1], legend=False)\n",
    "sns.lineplot(data=df_stats_nc_bl_am_only, x=\"segment_type\", y=\"running_episodes\",  hue=\"event_uuid\", palette=dict_colors_event, marker=\"o\", markersize=20,  ax=axs[1][2], legend=False)\n",
    "axs[1][0].set_title(\"Neocortex\")\n",
    "axs[1][1].set_title(\"Neocortex\")\n",
    "axs[1][2].set_title(\"Neocortex\")\n",
    "\n",
    "\n",
    "axs[1][0].sharey(axs[0][0])\n",
    "axs[1][1].sharey(axs[0][1])\n",
    "axs[0][2].sharey(axs[1][2])  # avoid clipping of a marker in lower figure by switching which figure shares y axis with which one\n",
    "\n",
    "#sns.violinplot(\n",
    "#    data=df_stats[df_stats[\"segment_type\"].isin([\"bl\", \"am\"])], x=\"segment_type\", y=loco_statistic,\n",
    "#    hue_order=[True, False], split=True,\n",
    "#    hue=True,\n",
    "#    palette=[\"lightgrey\"],\n",
    "#    ax=axs[1][0]\n",
    "#)\n",
    "#axs[1][0].legend_=None\n",
    "\n",
    "#sns.violinplot(\n",
    "#    data=df_stats[df_stats[\"segment_type\"].isin([\"bl\", \"am\"])], x=\"segment_type\", y=\"running\",\n",
    "#    hue_order=[True, False], split=True,\n",
    "#    hue=True,\n",
    "#    palette=[\"lightgrey\"],\n",
    "#    ax=axs[1][1]\n",
    "#)\n",
    "#axs[1][1].legend_=None\n",
    "\n",
    "#sns.violinplot(\n",
    "#    data=df_stats[df_stats[\"segment_type\"].isin([\"bl\", \"am\"])], x=\"segment_type\", y=\"speed\", \n",
    "#    hue_order=[True, False], split=True,\n",
    "#    hue=True,\n",
    "#    palette=[\"lightgrey\"],\n",
    "#    ax=axs[1][2]\n",
    "#)\n",
    "#axs[1][2].legend_=None\n",
    "\n",
    "#axs[1][0].set_alpha(0.5)\n",
    "# found violin plot surfaces by trial and error below, for making them transparent:\n",
    "#plt.setp(axs[1][0].collections[-2], alpha=.3)\n",
    "#plt.setp(axs[1][0].collections[-4], alpha=.3)\n",
    "#plt.setp(axs[1][1].collections[-2], alpha=.3)\n",
    "#plt.setp(axs[1][1].collections[-4], alpha=.3)\n",
    "#plt.setp(axs[1][2].collections[-2], alpha=.3)\n",
    "#plt.setp(axs[1][2].collections[-4], alpha=.3)\n",
    "\n",
    "\n",
    "\n",
    "plt.tight_layout()\n",
    "\n",
    "if save_figs:\n",
    "    fig_fpath = os.path.join(output_folder, f'loco_per_segment_tmev_sz-excluded_{get_datetime_for_fname()}_{output_version}{file_format}')\n",
    "    plt.savefig(fig_fpath, format=file_format.split(\".\")[-1])\n",
    "    print(f\"Saved to {fig_fpath}\")\n",
    "plt.show()"
   ]
  },
  {
   "cell_type": "code",
   "execution_count": null,
   "id": "cbc993f4",
   "metadata": {},
   "outputs": [],
   "source": [
    "df_stats_bl_am_only = pd.concat([df_stats_ca1_bl_am_only, df_stats_nc_bl_am_only])"
   ]
  },
  {
   "cell_type": "markdown",
   "id": "cef55809",
   "metadata": {},
   "source": [
    "## Aggregate by mouse\n",
    "estimator='mean', errorbar=('ci', 95) are the default statistics"
   ]
  },
  {
   "cell_type": "markdown",
   "id": "a4f0dfbe",
   "metadata": {},
   "source": [
    "## CA1"
   ]
  },
  {
   "cell_type": "code",
   "execution_count": null,
   "id": "8649ca90",
   "metadata": {},
   "outputs": [],
   "source": [
    "df_stats_per_mouse_mean_ca1 = df_stats_per_mouse_mean[df_stats_per_mouse_mean[\"window_type\"] == \"ca1\"]"
   ]
  },
  {
   "cell_type": "code",
   "execution_count": null,
   "id": "980cc8fe",
   "metadata": {},
   "outputs": [],
   "source": [
    "df_stats_per_mouse_mean_ca1[\"segment_type\"] = df_stats_per_mouse_mean_ca1[\"segment_type\"].apply(lambda x: value_mapping[x])"
   ]
  },
  {
   "cell_type": "code",
   "execution_count": null,
   "id": "b44f8727",
   "metadata": {},
   "outputs": [],
   "source": [
    "df_stats_per_mouse_mean_ca1_only_bl_am = df_stats_per_mouse_mean_ca1[df_stats_per_mouse_mean_ca1[\"segment_type\"].isin([value_mapping[\"bl\"], value_mapping[\"am\"]])]\n",
    "df_stats_per_mouse_mean_ca1_only_bl_am = df_stats_per_mouse_mean_ca1_only_bl_am.sort_values(by=[\"mouse_id\", \"exp_type\", \"segment_type\"])"
   ]
  },
  {
   "cell_type": "markdown",
   "id": "eed58b7a",
   "metadata": {},
   "source": [
    "# NC"
   ]
  },
  {
   "cell_type": "code",
   "execution_count": null,
   "id": "620a4a2f",
   "metadata": {},
   "outputs": [],
   "source": [
    "df_stats_per_mouse_mean_nc = df_stats_per_mouse_mean[df_stats_per_mouse_mean[\"window_type\"] == \"cx\"]"
   ]
  },
  {
   "cell_type": "code",
   "execution_count": null,
   "id": "322efd1c",
   "metadata": {},
   "outputs": [],
   "source": [
    "df_stats_per_mouse_mean_nc[\"segment_type\"] = df_stats_per_mouse_mean_nc[\"segment_type\"].apply(lambda x: value_mapping[x])"
   ]
  },
  {
   "cell_type": "code",
   "execution_count": null,
   "id": "7b88f520",
   "metadata": {},
   "outputs": [],
   "source": [
    "df_stats_per_mouse_mean_nc_only_bl_am = df_stats_per_mouse_mean_nc[df_stats_per_mouse_mean_nc[\"segment_type\"].isin([value_mapping[\"bl\"], value_mapping[\"am\"]])]\n",
    "df_stats_per_mouse_mean_nc_only_bl_am = df_stats_per_mouse_mean_nc_only_bl_am.sort_values(by=[\"mouse_id\", \"exp_type\", \"segment_type\"])"
   ]
  },
  {
   "cell_type": "markdown",
   "id": "6d447d40",
   "metadata": {},
   "source": [
    "## Plot CA1 & NC together"
   ]
  },
  {
   "cell_type": "code",
   "execution_count": null,
   "id": "bbe26426",
   "metadata": {},
   "outputs": [],
   "source": [
    "fig, axs = plt.subplots(2, 3, figsize=(22,16), sharey=False)\n",
    "\n",
    "#print(len(df_exp_type.mouse_id.unique()))\n",
    "    \n",
    "sns.lineplot(data=df_stats_per_mouse_mean_ca1_only_bl_am, x=\"segment_type\", y=\"totdist_abs_norm\", hue=\"mouse_id\", palette=dict_colors_mouse, estimator=None, ax=axs[0][0], marker=\"o\", markersize=20, legend=False)\n",
    "sns.lineplot(data=df_stats_per_mouse_mean_ca1_only_bl_am, x=\"segment_type\", y=\"running%\", hue=\"mouse_id\", palette=dict_colors_mouse, estimator=None, ax=axs[0][1], marker=\"o\", markersize=20, legend=False)\n",
    "sns.lineplot(data=df_stats_per_mouse_mean_ca1_only_bl_am, x=\"segment_type\", y=\"running_episodes\", hue=\"mouse_id\", palette=dict_colors_mouse, estimator=None, ax=axs[0][2], marker=\"o\", markersize=20, legend=False)\n",
    "axs[0][0].set_title(\"CA1\")\n",
    "axs[0][1].set_title(\"CA1\")\n",
    "axs[0][2].set_title(\"CA1\")\n",
    "\n",
    "sns.lineplot(data=df_stats_per_mouse_mean_nc_only_bl_am, x=\"segment_type\", y=\"totdist_abs_norm\", hue=\"mouse_id\", palette=dict_colors_mouse, estimator=None, ax=axs[1][0], marker=\"o\", markersize=20, legend=False)\n",
    "sns.lineplot(data=df_stats_per_mouse_mean_nc_only_bl_am, x=\"segment_type\", y=\"running%\", hue=\"mouse_id\", palette=dict_colors_mouse, estimator=None, ax=axs[1][1], marker=\"o\", markersize=20, legend=False)\n",
    "sns.lineplot(data=df_stats_per_mouse_mean_nc_only_bl_am, x=\"segment_type\", y=\"running_episodes\", hue=\"mouse_id\", palette=dict_colors_mouse, estimator=None, ax=axs[1][2], marker=\"o\", markersize=20, legend=False)\n",
    "axs[1][0].set_title(\"Neocortex\")\n",
    "axs[1][1].set_title(\"Neocortex\")\n",
    "axs[1][2].set_title(\"Neocortex\")\n",
    "\n",
    "\n",
    "axs[1][0].sharey(axs[0][0])\n",
    "axs[1][1].sharey(axs[0][1])\n",
    "axs[0][2].sharey(axs[1][2])  # in this case, avoid lower figure clipped marker by switching which figure shares axis with which one\n",
    "\n",
    "\n",
    "plt.tight_layout()\n",
    "\n",
    "if save_figs:\n",
    "    fig_fpath = os.path.join(output_folder, f'loco_per_segment_tmev_mouse_means_{get_datetime_for_fname()}_{output_version}{file_format}')\n",
    "    plt.savefig(fig_fpath, format=file_format.split(\".\")[-1])\n",
    "    print(f\"Saved to {fig_fpath}\")\n",
    "plt.show()"
   ]
  },
  {
   "cell_type": "code",
   "execution_count": null,
   "id": "89b16d3f",
   "metadata": {},
   "outputs": [],
   "source": [
    "df_stats_per_mouse_mean_only_bl_am = pd.concat([df_stats_per_mouse_mean_ca1_only_bl_am, df_stats_per_mouse_mean_nc_only_bl_am])"
   ]
  },
  {
   "cell_type": "markdown",
   "id": "c58cca5d",
   "metadata": {},
   "source": [
    "# Statistical testing"
   ]
  },
  {
   "cell_type": "markdown",
   "id": "34f1ccc3",
   "metadata": {},
   "source": [
    "## Given two pairwise matched populations (bl and am), test significance of difference between means."
   ]
  },
  {
   "cell_type": "markdown",
   "id": "e4ebd1fe",
   "metadata": {},
   "source": [
    "### Paired t-test (Gopal K. Kanji - 100 statistical tests: Test 10, page 35, 44/257)\n",
    "As the distributions are not necessarily normally distributed, in first round, this is an approximation. Alternative is Wilcoxon signed-rank test"
   ]
  },
  {
   "cell_type": "code",
   "execution_count": null,
   "id": "5e440de1",
   "metadata": {},
   "outputs": [],
   "source": [
    "from scipy.stats import ttest_rel"
   ]
  },
  {
   "cell_type": "code",
   "execution_count": null,
   "id": "7829f5c2",
   "metadata": {},
   "outputs": [],
   "source": [
    "stat_data = df_stats[df_stats[\"segment_type\"].isin([\"bl\", \"am\"])]"
   ]
  },
  {
   "cell_type": "code",
   "execution_count": null,
   "id": "08ffd9d4",
   "metadata": {},
   "outputs": [],
   "source": [
    "def paired_t_test(df, column_name=\"totdist_abs\", one_sided=False, greater_expected=\"am\"):\n",
    "    am_vals = []\n",
    "    bl_vals = []\n",
    "    for i_g, g in stat_data.groupby(\"event_uuid\"):\n",
    "        assert (len(g[g[\"segment_type\"] == \"bl\"]) == 1) and (len(g[g[\"segment_type\"] == \"am\"] ) == 1)\n",
    "        bl_val = g[g[\"segment_type\"] == \"bl\"][column_name].values\n",
    "        am_val = g[g[\"segment_type\"] == \"am\"][column_name].values\n",
    "        am_vals.append(am_val[0])\n",
    "        bl_vals.append(bl_val[0])\n",
    "    am_vals = np.array(am_vals)\n",
    "    bl_vals = np.array(bl_vals)\n",
    "    \n",
    "    if one_sided:\n",
    "        ttest_result = ttest_rel(am_vals, bl_vals)\n",
    "    else:\n",
    "        if greater_expected==\"am\":\n",
    "            ttest_result = ttest_rel(am_vals, bl_vals, alternative=\"greater\")  # first dataset (am) expected to be greater\n",
    "        elif greater_expected==\"bl\":\n",
    "            ttest_result = ttest_rel(am_vals, bl_vals, alternative=\"less\")  # second dataset (bl) expected to be greater\n",
    "        else:\n",
    "            raise Error(f\"paired_t_test(): invalid greater_expected value {greater_expected}\")\n",
    "    #print(ttest_result)\n",
    "    return ttest_result"
   ]
  },
  {
   "cell_type": "code",
   "execution_count": null,
   "id": "c76387b2",
   "metadata": {},
   "outputs": [],
   "source": [
    "print(paired_t_test(stat_data, \"running_episodes\", False)) \n",
    "# a negative statistic would tell us that mean(totdist_am - totdist_bl) < 0, i.e. locomotion is less after sz event."
   ]
  },
  {
   "cell_type": "markdown",
   "id": "3b3634d0",
   "metadata": {},
   "source": [
    "# Export datasets"
   ]
  },
  {
   "cell_type": "code",
   "execution_count": null,
   "id": "9184b48a",
   "metadata": {},
   "outputs": [],
   "source": [
    "if export_datasets:\n",
    "    output_fpath = os.path.join(output_folder, f\"locomotion_tmev_{get_datetime_for_fname()}.xlsx\")\n",
    "    df_stats_bl_am_only[[\"mouse_id\", \"window_type\", \"event_uuid\", \"segment_type\", \"exp_type\", \"segment_length\", \"totdist\", \"totdist_abs\", \"running\", \"running%\", \"running_episodes\"]].sort_values(by=[\"mouse_id\", \"event_uuid\", \"segment_type\"]).to_excel(output_fpath)\n",
    "    print(f\"Results exported to {output_fpath}\")"
   ]
  },
  {
   "cell_type": "code",
   "execution_count": null,
   "id": "8f9bada7",
   "metadata": {},
   "outputs": [],
   "source": [
    "if export_datasets:\n",
    "    output_fpath = os.path.join(output_folder, f\"locomotion_tmev_mouse_aggregate_{get_datetime_for_fname()}.xlsx\")\n",
    "    df_stats_per_mouse_mean_only_bl_am[[\"mouse_id\", \"window_type\", \"segment_type\", \"exp_type\", \"segment_length\", \"totdist\", \"totdist_abs\", \"running\", \"running%\", \"running_episodes\"]].sort_values(by=[\"mouse_id\", \"segment_type\"]).to_excel(output_fpath)\n",
    "    print(f\"Results exported to {output_fpath}\")\n",
    "    "
   ]
  },
  {
   "cell_type": "markdown",
   "id": "bfc650ae",
   "metadata": {},
   "source": [
    "# 2. ChR2 (bl - stim - (Sz) - am protocol)"
   ]
  },
  {
   "cell_type": "markdown",
   "id": "b355b092",
   "metadata": {},
   "source": [
    "### Rename bl -> baseline, am -> post-stimulation"
   ]
  },
  {
   "cell_type": "code",
   "execution_count": null,
   "id": "5ab4487f",
   "metadata": {},
   "outputs": [],
   "source": [
    "value_mapping = {\"bl\":\"baseline\", \"sz\": \"stimulation\", \"am\":\"post-stimulation\"}"
   ]
  },
  {
   "cell_type": "code",
   "execution_count": null,
   "id": "abfb8bb6",
   "metadata": {},
   "outputs": [],
   "source": [
    "df_stats[\"segment_type\"] = df_stats[\"segment_type\"].apply(lambda x: value_mapping[x])"
   ]
  },
  {
   "cell_type": "code",
   "execution_count": null,
   "id": "6268a832",
   "metadata": {},
   "outputs": [],
   "source": [
    "df_stats_only_bl_am = df_stats[df_stats[\"segment_type\"].isin([value_mapping[\"bl\"], value_mapping[\"am\"]])]"
   ]
  },
  {
   "cell_type": "markdown",
   "id": "3c5d53e6",
   "metadata": {},
   "source": [
    "# Plot loco traces"
   ]
  },
  {
   "cell_type": "markdown",
   "id": "97ea64e3",
   "metadata": {},
   "source": [
    "## ctl"
   ]
  },
  {
   "cell_type": "code",
   "execution_count": null,
   "id": "3eeac50b",
   "metadata": {},
   "outputs": [],
   "source": [
    "amplitude = 100\n",
    "offset = 0.0\n",
    "fig = plt.figure(figsize=(18,18))\n",
    "for uuid in traces_dict.keys():\n",
    "    if traces_meta_dict[uuid][\"exp_type\"] == \"chr2_ctl\":\n",
    "        speed_trace = traces_dict[uuid][\"lv_speed\"]\n",
    "        n_bl_frames = traces_meta_dict[uuid][\"n_bl_frames\"]\n",
    "        n_am_frames = traces_meta_dict[uuid][\"n_am_frames\"]\n",
    "        \n",
    "        min_speed = min(speed_trace)\n",
    "        max_speed = max(speed_trace)\n",
    "        color = ddoc.getColorForUuid(uuid)\n",
    "        plt.plot(amplitude*(speed_trace - min_speed)/(max_speed - min_speed)+ offset, color=color)\n",
    "        plt.vlines(x=[n_bl_frames, len(speed_trace)-n_am_frames], ymin=offset, ymax=offset+amplitude, linewidth=4, color=\"black\")\n",
    "        offset += 1.2*amplitude\n",
    "plt.show()"
   ]
  },
  {
   "cell_type": "markdown",
   "id": "ed03e5a4",
   "metadata": {},
   "source": [
    "## SD"
   ]
  },
  {
   "cell_type": "code",
   "execution_count": null,
   "id": "3d56e3f0",
   "metadata": {},
   "outputs": [],
   "source": [
    "amplitude = 100\n",
    "offset = 0.0\n",
    "fig = plt.figure(figsize=(18,18))\n",
    "for uuid in traces_dict.keys():\n",
    "    if traces_meta_dict[uuid][\"exp_type\"] == \"chr2_sd\":\n",
    "        print(uuid)\n",
    "        speed_trace = traces_dict[uuid][\"lv_speed\"]\n",
    "        n_bl_frames = traces_meta_dict[uuid][\"n_bl_frames\"]\n",
    "        n_am_frames = traces_meta_dict[uuid][\"n_am_frames\"]\n",
    "        \n",
    "        min_speed = min(speed_trace)\n",
    "        max_speed = max(speed_trace)\n",
    "        color = ddoc.getColorForUuid(uuid)\n",
    "        plt.plot(amplitude*(speed_trace - min_speed)/(max_speed - min_speed)+ offset, color=color)\n",
    "        plt.vlines(x=[n_bl_frames, len(speed_trace)-n_am_frames], ymin=offset, ymax=offset+amplitude, linewidth=4, color=\"black\")\n",
    "        offset += 1.2*amplitude\n",
    "plt.show()"
   ]
  },
  {
   "cell_type": "markdown",
   "id": "28104779",
   "metadata": {},
   "source": [
    "# Check correctness of quantities"
   ]
  },
  {
   "cell_type": "code",
   "execution_count": null,
   "id": "878be8ef",
   "metadata": {},
   "outputs": [],
   "source": [
    "def debugPlot(uuid):\n",
    "    mouse_id = traces_meta_dict[uuid][\"mouse_id\"]\n",
    "    exp_type = traces_meta_dict[uuid][\"exp_type\"]\n",
    "    speed_trace = traces_dict[uuid][\"lv_speed\"]\n",
    "    totdist_abs_trace = traces_dict[uuid][\"lv_totdist_abs\"]\n",
    "    rounds_trace = traces_dict[uuid][\"lv_rounds\"]\n",
    "    n_bl_frames = traces_meta_dict[uuid][\"n_bl_frames\"]\n",
    "    n_am_frames = traces_meta_dict[uuid][\"n_am_frames\"]\n",
    "    n_frames = traces_meta_dict[uuid][\"n_frames\"]\n",
    "    nd2_file = ddoc.getNikonFileNameForUuid(uuid)\n",
    "    if use_manual_bl_am_length:\n",
    "        n_sz_frames = n_frames - n_am_frames - n_bl_frames\n",
    "        \n",
    "        i_bl_start_index = n_bl_frames - bl_manual_length\n",
    "        speed_trace = speed_trace[i_bl_start_index:]\n",
    "        totdist_abs_trace = totdist_abs_trace[i_bl_start_index:]\n",
    "        rounds_trace = rounds_trace[i_bl_start_index:]\n",
    "        \n",
    "        n_bl_frames = bl_manual_length\n",
    "        \n",
    "        i_am_end_index = am_manual_length - n_am_frames  # a negative number\n",
    "        speed_trace = speed_trace[:i_am_end_index]\n",
    "        totdist_abs_trace = totdist_abs_trace[:i_am_end_index]\n",
    "        rounds_trace = rounds_trace[:i_am_end_index]\n",
    "        n_am_frames = am_manual_length\n",
    "        \n",
    "        n_frames = len(speed_trace)\n",
    "        \n",
    "        assert n_frames - n_am_frames - n_bl_frames == n_sz_frames\n",
    "        \n",
    "        \n",
    "    min_speed = min(speed_trace)\n",
    "    max_speed = max(speed_trace)\n",
    "    min_totdist_abs = min(totdist_abs_trace)\n",
    "    max_totdist_abs = max(totdist_abs_trace)\n",
    "    mean_totdist_abs = (min_totdist_abs + max_totdist_abs)/2.\n",
    "    min_rounds = min(rounds_trace)\n",
    "    max_rounds = max(rounds_trace)\n",
    "    \n",
    "    \n",
    "    bl_totdist_abs = df_stats_only_bl_am[(df_stats_only_bl_am[\"event_uuid\"] == uuid) & (df_stats_only_bl_am[\"segment_type\"] == value_mapping[\"bl\"])].totdist_abs.iloc[0]\n",
    "    am_totdist_abs = df_stats_only_bl_am[(df_stats_only_bl_am[\"event_uuid\"] == uuid) & (df_stats_only_bl_am[\"segment_type\"] == value_mapping[\"am\"])].totdist_abs.iloc[0]\n",
    "    \n",
    "    bl_totdist_abs_norm = df_stats_only_bl_am[(df_stats_only_bl_am[\"event_uuid\"] == uuid) & (df_stats_only_bl_am[\"segment_type\"] == value_mapping[\"bl\"])].totdist_abs_norm.iloc[0]\n",
    "    am_totdist_abs_norm = df_stats_only_bl_am[(df_stats_only_bl_am[\"event_uuid\"] == uuid) & (df_stats_only_bl_am[\"segment_type\"] == value_mapping[\"am\"])].totdist_abs_norm.iloc[0]\n",
    "    \n",
    "    \n",
    "    color = ddoc.getColorForUuid(uuid)\n",
    "\n",
    "    fig, axs = plt.subplots(5,1, figsize=(18,36))\n",
    "    plt.suptitle(f\"{nd2_file} ({exp_type})\")\n",
    "\n",
    "    sns.lineplot(data=df_stats_only_bl_am[df_stats_only_bl_am[\"event_uuid\"] == uuid], x=\"segment_type\", y=\"totdist_abs\", hue=\"event_uuid\", palette=dict_colors_event, estimator=None, ax=axs[0], marker=\"o\", markersize=20, legend=False)\n",
    "    sns.lineplot(data=df_stats_only_bl_am[df_stats_only_bl_am[\"event_uuid\"] == uuid], x=\"segment_type\", y=\"totdist_abs_norm\", hue=\"event_uuid\", palette=dict_colors_event, estimator=None, ax=axs[1], marker=\"o\", markersize=20, legend=False)\n",
    "    \n",
    "    \n",
    "\n",
    "    axs[2].plot(speed_trace, color=color)\n",
    "    axs[2].vlines(x=[n_bl_frames, n_frames-n_am_frames], ymin=min_speed, ymax=max_speed, color=\"black\")\n",
    "    axs[3].plot(totdist_abs_trace, color=color)\n",
    "    axs[3].vlines(x=[n_bl_frames, n_frames-n_am_frames], ymin=min_totdist_abs, ymax=max_totdist_abs, color=\"black\")\n",
    "    #axs[3].hlines(xmin=0, xmax=n_frames, y=[min_totdist_abs, max_totdist_abs, mean_totdist_abs], color=\"red\")\n",
    "    axs[4].plot(rounds_trace, color=color)\n",
    "    axs[4].vlines(x=[n_bl_frames, n_frames-n_am_frames], ymin=min_rounds, ymax=max_rounds, color=\"black\")\n",
    "    \n",
    "    \n",
    "    \n",
    "    axs[0].text(0.05, bl_totdist_abs, f\"{bl_totdist_abs:.2f}\")\n",
    "    axs[0].text(0.85, am_totdist_abs, f\"{am_totdist_abs:.2f}\")\n",
    "    \n",
    "    axs[1].text(0.05, bl_totdist_abs_norm, f\"{bl_totdist_abs_norm:.5f}\")\n",
    "    axs[1].text(0.9, am_totdist_abs_norm, f\"{am_totdist_abs_norm:.5f}\")\n",
    "    \n",
    "    \n",
    "    \n",
    "    # write totdist_abs values at beginning of bl, end of bl, beginning of am, end of am\n",
    "    axs[3].text(0, 1.02*mean_totdist_abs, f\"{totdist_abs_trace[0]:.2f}\")\n",
    "    axs[3].text(n_bl_frames-1000, 1.02*mean_totdist_abs, f\"{totdist_abs_trace[n_bl_frames]:.2f}\")\n",
    "    axs[3].text(n_frames-n_am_frames+100, 1.02*mean_totdist_abs, f\"{totdist_abs_trace[n_frames-n_am_frames]:.2f}\")\n",
    "    axs[3].text(n_frames-1000, 1.02*mean_totdist_abs, f\"{totdist_abs_trace[n_frames-1]:.2f}\")\n",
    "    \n",
    "    axs[3].text(0, 0.75*mean_totdist_abs, f\"({totdist_abs_trace[n_bl_frames]:.2f} - {totdist_abs_trace[0]:.2f})/{n_bl_frames} = {(totdist_abs_trace[n_bl_frames]-totdist_abs_trace[0])/n_bl_frames:.5f}\")\n",
    "    axs[3].text(n_frames-n_am_frames+100, 0.75*mean_totdist_abs, f\"({totdist_abs_trace[n_frames-1]:.2f} - {totdist_abs_trace[n_frames-n_am_frames]:.2f})/{n_am_frames} = {(totdist_abs_trace[n_frames-1]-totdist_abs_trace[n_frames-n_am_frames])/n_am_frames:.5f}\")\n",
    "    \n",
    "    \n",
    "    axs[3].text(n_bl_frames-1000, min_totdist_abs, f\"delta: {(totdist_abs_trace[n_bl_frames]-totdist_abs_trace[0]):.2f}\")\n",
    "    axs[3].text(n_frames-1000, min_totdist_abs, f\"delta: {(totdist_abs_trace[n_frames-1]-totdist_abs_trace[n_frames-n_am_frames]):.2f}\")\n",
    "    \n",
    "    mean_rounds = (max_rounds+min_rounds)/2.\n",
    "    axs[4].text(0, mean_rounds, rounds_trace[0])\n",
    "    axs[4].text(n_bl_frames-1000, mean_rounds, rounds_trace[n_bl_frames-1])\n",
    "    axs[4].text(n_frames-1000, mean_rounds, rounds_trace[n_frames-1])\n",
    "    axs[4].text(n_frames-n_am_frames+200, mean_rounds, rounds_trace[n_frames-n_am_frames])\n",
    "    \n",
    "    axs[4].text(n_bl_frames-1000, 0.1*mean_rounds, f\"delta: {rounds_trace[n_bl_frames-1]-rounds_trace[0]}\")\n",
    "    axs[4].text(n_frames-1000, 0.1*mean_rounds, f\"delta: {rounds_trace[n_frames-1]-rounds_trace[n_frames-n_am_frames]}\")\n",
    "    \n",
    "    \n",
    "    \n",
    "    \n",
    "    plt.tight_layout()\n",
    "    fname = os.path.splitext(nd2_file)[0] + \"_debug.jpg\"\n",
    "    fpath = os.path.join(output_folder, fname)\n",
    "    #plt.show()\n",
    "    plt.savefig(fpath)\n",
    "    print(fpath)"
   ]
  },
  {
   "cell_type": "code",
   "execution_count": null,
   "id": "a2c03d50",
   "metadata": {},
   "outputs": [],
   "source": [
    "#debugPlot(list(traces_dict.keys())[0])"
   ]
  },
  {
   "cell_type": "code",
   "execution_count": null,
   "id": "81195ec7",
   "metadata": {},
   "outputs": [],
   "source": [
    "save_debug_images = False\n",
    "if save_debug_images:\n",
    "    for uuid in df_stats_only_bl_am.event_uuid.unique():\n",
    "        debugPlot(uuid)"
   ]
  },
  {
   "cell_type": "markdown",
   "id": "74d96c0a",
   "metadata": {},
   "source": [
    "# Plot results"
   ]
  },
  {
   "cell_type": "markdown",
   "id": "f6734eef",
   "metadata": {},
   "source": [
    "### Plot everything together (all types: ctl, sd, sz+sd...)"
   ]
  },
  {
   "cell_type": "code",
   "execution_count": null,
   "id": "f9b4c343",
   "metadata": {},
   "outputs": [],
   "source": [
    "fig, axs = plt.subplots(2, 3, figsize=(22,16))\n",
    "\n",
    "sns.lineplot(data=df_stats_only_bl_am, x=\"segment_type\", y=\"totdist_abs\", hue=\"event_uuid\", palette=dict_colors_event, estimator=None, ax=axs[0][0], marker=\"o\", markersize=20, legend=False)\n",
    "sns.lineplot(data=df_stats_only_bl_am, x=\"segment_type\", y=\"running\", hue=\"event_uuid\", palette=dict_colors_event, estimator=None, ax=axs[0][1], marker=\"o\", markersize=20, legend=False)\n",
    "sns.lineplot(data=df_stats_only_bl_am, x=\"segment_type\", y=\"speed\", hue=\"event_uuid\", palette=dict_colors_event, estimator=None, ax=axs[0][2], marker=\"o\", markersize=20, legend=False)\n",
    "sns.lineplot(data=df_stats_only_bl_am, x=\"segment_type\", y=\"running%\", hue=\"event_uuid\", palette=dict_colors_event, estimator=None, ax=axs[1][0], marker=\"o\", markersize=20, legend=False)\n",
    "sns.lineplot(data=df_stats_only_bl_am, x=\"segment_type\", y=\"running_episodes\", hue=\"event_uuid\", palette=dict_colors_event, estimator=None, ax=axs[1][1], marker=\"o\", markersize=20, legend=False)\n",
    "sns.lineplot(data=df_stats_only_bl_am, x=\"segment_type\", y=\"running_episodes_mean_length\", hue=\"event_uuid\", palette=dict_colors_event, estimator=None, ax=axs[1][2], marker=\"o\", markersize=20, legend=False)\n",
    "\n",
    "\n",
    "\n",
    "plt.tight_layout()\n",
    "\n",
    "if save_figs:  # do not save this one; need to separate by experiment type (ctl, sz, szsd...)\n",
    "    fig_fpath = os.path.join(output_folder, f'loco_per_segment_all_recordings_{get_datetime_for_fname()}_{output_version}{file_format}')\n",
    "    plt.savefig(fig_fpath, format=file_format.split(\".\")[-1])\n",
    "    print(f\"Saved to {fig_fpath}\")\n",
    "plt.show()"
   ]
  },
  {
   "cell_type": "markdown",
   "id": "154d7c67",
   "metadata": {},
   "source": [
    "### Plot each category"
   ]
  },
  {
   "cell_type": "markdown",
   "id": "401fac80",
   "metadata": {},
   "source": [
    "### Plot for CA1"
   ]
  },
  {
   "cell_type": "code",
   "execution_count": null,
   "id": "d8aaa02f",
   "metadata": {},
   "outputs": [],
   "source": [
    "df_stats_ca1 = df_stats[df_stats[\"window_type\"] == \"ca1\"]\n",
    "n_exp_types = len( df_stats_ca1.exp_type.unique())\n",
    "fig, axs = plt.subplots(n_exp_types, 3, figsize=(22,8*n_exp_types))\n",
    "for i_exp_type, exp_type in enumerate(df_stats_ca1.exp_type.unique()):\n",
    "    df_exp_type = df_stats_only_bl_am[(df_stats_only_bl_am[\"exp_type\"] == exp_type) & (df_stats_only_bl_am[\"window_type\"] == \"ca1\")]\n",
    "    #print(len(df_exp_type.mouse_id.unique()))\n",
    "    axs[i_exp_type][0].set_title(f\"{exp_type}\")\n",
    "    axs[i_exp_type][1].set_title(f\"{exp_type}\")\n",
    "    axs[i_exp_type][2].set_title(f\"{exp_type}\")\n",
    "    \n",
    "    sns.lineplot(data=df_exp_type, x=\"segment_type\", y=\"totdist_abs\", hue=\"event_uuid\", palette=dict_colors_event, estimator=None, ax=axs[i_exp_type][0], marker=\"o\", markersize=20, legend=False)\n",
    "    sns.lineplot(data=df_exp_type, x=\"segment_type\", y=\"running%\", hue=\"event_uuid\", palette=dict_colors_event, estimator=None, ax=axs[i_exp_type][1], marker=\"o\", markersize=20, legend=False)\n",
    "    sns.lineplot(data=df_exp_type, x=\"segment_type\", y=\"running_episodes\", hue=\"event_uuid\", palette=dict_colors_event, estimator=None, ax=axs[i_exp_type][2], marker=\"o\", markersize=20, legend=False)\n",
    "\n",
    "\n",
    "plt.tight_layout()\n",
    "\n",
    "if save_figs:\n",
    "    fig_fpath = os.path.join(output_folder, f'loco_per_segment_chr2_ca1_{get_datetime_for_fname()}_{output_version}{file_format}')\n",
    "    plt.savefig(fig_fpath, format=file_format.split(\".\")[-1])\n",
    "    print(f\"Saved to {fig_fpath}\")\n",
    "plt.show()"
   ]
  },
  {
   "cell_type": "markdown",
   "id": "9e38f3fe",
   "metadata": {},
   "source": [
    "### Plot for NC"
   ]
  },
  {
   "cell_type": "code",
   "execution_count": null,
   "id": "b03708c8",
   "metadata": {},
   "outputs": [],
   "source": [
    "df_stats_nc = df_stats[df_stats[\"window_type\"] == \"cx\"]\n",
    "if len(df_stats_nc) > 0:\n",
    "    n_exp_types = len(df_stats_nc.exp_type.unique())\n",
    "    fig, axs = plt.subplots(n_exp_types, 3, figsize=(22,8*n_exp_types))\n",
    "\n",
    "    for i_exp_type, exp_type in enumerate(df_stats_nc.exp_type.unique()):\n",
    "        df_exp_type = df_stats_only_bl_am[(df_stats_only_bl_am[\"exp_type\"] == exp_type) & (df_stats_only_bl_am[\"window_type\"] == \"cx\")]\n",
    "        #print(len(df_exp_type.mouse_id.unique()))\n",
    "        axs[i_exp_type][0].set_title(f\"{exp_type}\")\n",
    "        axs[i_exp_type][1].set_title(f\"{exp_type}\")\n",
    "        axs[i_exp_type][2].set_title(f\"{exp_type}\")\n",
    "\n",
    "        sns.lineplot(data=df_exp_type, x=\"segment_type\", y=\"totdist_abs_norm\", hue=\"event_uuid\", palette=dict_colors_event, estimator=None, ax=axs[i_exp_type][0], marker=\"o\", markersize=20, legend=False)\n",
    "        sns.lineplot(data=df_exp_type, x=\"segment_type\", y=\"running%\", hue=\"event_uuid\", palette=dict_colors_event, estimator=None, ax=axs[i_exp_type][1], marker=\"o\", markersize=20, legend=False)\n",
    "        sns.lineplot(data=df_exp_type, x=\"segment_type\", y=\"running_episodes\", hue=\"event_uuid\", palette=dict_colors_event, estimator=None, ax=axs[i_exp_type][2], marker=\"o\", markersize=20, legend=False)\n",
    "\n",
    "\n",
    "    plt.tight_layout()\n",
    "\n",
    "    if save_figs:\n",
    "        fig_fpath = os.path.join(output_folder, f'loco_per_segment_chr2_nc_{get_datetime_for_fname()}_{output_version}{file_format}')\n",
    "        plt.savefig(fig_fpath, format=file_format.split(\".\")[-1])\n",
    "        print(f\"Saved to {fig_fpath}\")\n",
    "    plt.show()"
   ]
  },
  {
   "cell_type": "markdown",
   "id": "d5902ca0",
   "metadata": {},
   "source": [
    "# Mouse-aggregate\n",
    "i.e. mean per mouse"
   ]
  },
  {
   "cell_type": "markdown",
   "id": "2766818d",
   "metadata": {},
   "source": [
    "## CA1"
   ]
  },
  {
   "cell_type": "code",
   "execution_count": null,
   "id": "6f51553f",
   "metadata": {},
   "outputs": [],
   "source": [
    "df_stats_per_mouse_mean_ca1 = df_stats_per_mouse_mean[df_stats_per_mouse_mean[\"window_type\"] == \"ca1\"]\n",
    "df_stats_per_mouse_mean_ca1[\"segment_type\"] = df_stats_per_mouse_mean_ca1[\"segment_type\"].apply(lambda x: value_mapping[x])"
   ]
  },
  {
   "cell_type": "code",
   "execution_count": null,
   "id": "02a6a3c7",
   "metadata": {},
   "outputs": [],
   "source": [
    "df_stats_per_mouse_mean_ca1_only_bl_am = df_stats_per_mouse_mean_ca1[df_stats_per_mouse_mean_ca1[\"segment_type\"].isin([value_mapping[\"bl\"], value_mapping[\"am\"]])]"
   ]
  },
  {
   "cell_type": "code",
   "execution_count": null,
   "id": "00135d38",
   "metadata": {},
   "outputs": [],
   "source": [
    "df_stats_per_mouse_mean_ca1_only_bl_am = df_stats_per_mouse_mean_ca1_only_bl_am.sort_values(by=[\"mouse_id\", \"exp_type\", \"segment_type\"])"
   ]
  },
  {
   "cell_type": "code",
   "execution_count": null,
   "id": "051e9e64",
   "metadata": {},
   "outputs": [],
   "source": [
    "n_exp_types = len( df_stats_per_mouse_mean_ca1.exp_type.unique())\n",
    "fig, axs = plt.subplots(n_exp_types, 3, figsize=(22,8*n_exp_types))\n",
    "for i_exp_type, exp_type in enumerate(df_stats_per_mouse_mean_ca1_only_bl_am.exp_type.unique()):\n",
    "    df_exp_type = df_stats_per_mouse_mean_ca1_only_bl_am[(df_stats_per_mouse_mean_ca1_only_bl_am[\"exp_type\"] == exp_type) & (df_stats_per_mouse_mean_ca1_only_bl_am[\"window_type\"] == \"ca1\")]\n",
    "    #print(len(df_exp_type.mouse_id.unique()))\n",
    "    axs[i_exp_type][0].set_title(f\"{exp_type}\")\n",
    "    axs[i_exp_type][1].set_title(f\"{exp_type}\")\n",
    "    axs[i_exp_type][2].set_title(f\"{exp_type}\")\n",
    "    \n",
    "    sns.lineplot(data=df_exp_type, x=\"segment_type\", y=\"totdist_abs_norm\", hue=\"mouse_id\", palette=dict_colors_mouse, estimator=None, ax=axs[i_exp_type][0], marker=\"o\", markersize=20, legend=False)\n",
    "    sns.lineplot(data=df_exp_type, x=\"segment_type\", y=\"running%\", hue=\"mouse_id\", palette=dict_colors_mouse, estimator=None, ax=axs[i_exp_type][1], marker=\"o\", markersize=20, legend=False)\n",
    "    sns.lineplot(data=df_exp_type, x=\"segment_type\", y=\"running_episodes\", hue=\"mouse_id\", palette=dict_colors_mouse, estimator=None, ax=axs[i_exp_type][2], marker=\"o\", markersize=20, legend=False)\n",
    "\n",
    "\n",
    "plt.tight_layout()\n",
    "\n",
    "if save_figs:\n",
    "    fig_fpath = os.path.join(output_folder, f'loco_per_segment_chr2_ca1_mouse_means_{get_datetime_for_fname()}_{output_version}{file_format}')\n",
    "    plt.savefig(fig_fpath, format=file_format.split(\".\")[-1])\n",
    "    print(f\"Saved to {fig_fpath}\")\n",
    "plt.show()"
   ]
  },
  {
   "cell_type": "markdown",
   "id": "55c3b303",
   "metadata": {},
   "source": [
    "## NC"
   ]
  },
  {
   "cell_type": "code",
   "execution_count": null,
   "id": "9472bc3f",
   "metadata": {},
   "outputs": [],
   "source": [
    "if len(df_stats_nc) > 0:\n",
    "    df_stats_per_mouse_mean_nc = df_stats_per_mouse_mean[df_stats_per_mouse_mean[\"window_type\"] == \"cx\"]\n",
    "    df_stats_per_mouse_mean_nc[\"segment_type\"] = df_stats_per_mouse_mean_nc[\"segment_type\"].apply(lambda x: value_mapping[x])"
   ]
  },
  {
   "cell_type": "code",
   "execution_count": null,
   "id": "2f022540",
   "metadata": {},
   "outputs": [],
   "source": [
    "if len(df_stats_nc) > 0:\n",
    "    df_stats_per_mouse_mean_nc_only_bl_am = df_stats_per_mouse_mean_nc[df_stats_per_mouse_mean_nc[\"segment_type\"].isin([value_mapping[\"bl\"], value_mapping[\"am\"]])]"
   ]
  },
  {
   "cell_type": "code",
   "execution_count": null,
   "id": "6e74b0c7",
   "metadata": {},
   "outputs": [],
   "source": [
    "if len(df_stats_nc) > 0:\n",
    "    df_stats_per_mouse_mean_nc_only_bl_am = df_stats_per_mouse_mean_nc_only_bl_am.sort_values(by=[\"mouse_id\", \"exp_type\", \"segment_type\"])"
   ]
  },
  {
   "cell_type": "code",
   "execution_count": null,
   "id": "2fb0d5d3",
   "metadata": {},
   "outputs": [],
   "source": [
    "if len(df_stats_nc) > 0:\n",
    "    n_exp_types = len( df_stats_per_mouse_mean_nc.exp_type.unique())\n",
    "    fig, axs = plt.subplots(n_exp_types, 3, figsize=(22,8*n_exp_types))\n",
    "    for i_exp_type, exp_type in enumerate(df_stats_per_mouse_mean_nc.exp_type.unique()):\n",
    "        df_exp_type = df_stats_per_mouse_mean_nc[(df_stats_per_mouse_mean_nc[\"exp_type\"] == exp_type) & (df_stats_per_mouse_mean_nc[\"window_type\"] == \"cx\")]\n",
    "        #print(len(df_exp_type.mouse_id.unique()))\n",
    "        axs[i_exp_type][0].set_title(f\"{exp_type}\")\n",
    "        axs[i_exp_type][1].set_title(f\"{exp_type}\")\n",
    "        axs[i_exp_type][2].set_title(f\"{exp_type}\")\n",
    "\n",
    "        sns.lineplot(data=df_exp_type, x=\"segment_type\", y=\"totdist_abs_norm\", hue=\"mouse_id\", palette=dict_colors_mouse, estimator=None, ax=axs[i_exp_type][0], marker=\"o\", markersize=20, legend=False)\n",
    "        sns.lineplot(data=df_exp_type, x=\"segment_type\", y=\"running%\", hue=\"mouse_id\", palette=dict_colors_mouse, estimator=None, ax=axs[i_exp_type][1], marker=\"o\", markersize=20, legend=False)\n",
    "        sns.lineplot(data=df_exp_type, x=\"segment_type\", y=\"running_episodes\", hue=\"mouse_id\", palette=dict_colors_mouse, estimator=None, ax=axs[i_exp_type][2], marker=\"o\", markersize=20, legend=False)\n",
    "\n",
    "\n",
    "    plt.tight_layout()\n",
    "\n",
    "    if save_figs:\n",
    "        fig_fpath = os.path.join(output_folder, f'loco_per_segment_chr2_ca1_mouse_means_{get_datetime_for_fname()}_{output_version}{file_format}')\n",
    "        plt.savefig(fig_fpath, format=file_format.split(\".\")[-1])\n",
    "        print(f\"Saved to {fig_fpath}\")\n",
    "    plt.show()"
   ]
  },
  {
   "cell_type": "markdown",
   "id": "14f7ee88",
   "metadata": {},
   "source": [
    "# Statistical testing"
   ]
  },
  {
   "cell_type": "code",
   "execution_count": null,
   "id": "b579aeff",
   "metadata": {},
   "outputs": [],
   "source": [
    "from scipy.stats import ttest_rel"
   ]
  },
  {
   "cell_type": "code",
   "execution_count": null,
   "id": "e753c83a",
   "metadata": {},
   "outputs": [],
   "source": [
    "def paired_t_test(df, column_name=\"totdist_abs\", one_sided=False, greater_expected=value_mapping[\"am\"], pair_by=\"event_uuid\"):\n",
    "    am_vals = []\n",
    "    bl_vals = []\n",
    "    for i_g, g in df.groupby(pair_by):\n",
    "        assert (len(g[g[\"segment_type\"] == value_mapping[\"bl\"]]) == 1) and (len(g[g[\"segment_type\"] == value_mapping[\"am\"]] ) == 1)\n",
    "        bl_val = g[g[\"segment_type\"] == value_mapping[\"bl\"]][column_name].values\n",
    "        am_val = g[g[\"segment_type\"] == value_mapping[\"am\"]][column_name].values\n",
    "        am_vals.append(am_val[0])\n",
    "        bl_vals.append(bl_val[0])\n",
    "    am_vals = np.array(am_vals)\n",
    "    bl_vals = np.array(bl_vals)\n",
    "    \n",
    "    if one_sided:\n",
    "        ttest_result = ttest_rel(am_vals, bl_vals)\n",
    "    else:\n",
    "        if greater_expected==value_mapping[\"am\"]:\n",
    "            ttest_result = ttest_rel(am_vals, bl_vals, alternative=\"greater\")  # first dataset (am) expected to be greater\n",
    "        elif greater_expected==value_mapping[\"bl\"]:\n",
    "            ttest_result = ttest_rel(am_vals, bl_vals, alternative=\"less\")  # second dataset (bl) expected to be greater\n",
    "        else:\n",
    "            raise Exception(f\"paired_t_test(): invalid greater_expected value {greater_expected}\")\n",
    "    #print(ttest_result)\n",
    "    return ttest_result"
   ]
  },
  {
   "cell_type": "markdown",
   "id": "b4b895e3",
   "metadata": {},
   "source": [
    "## CA1"
   ]
  },
  {
   "cell_type": "code",
   "execution_count": null,
   "id": "8753c49b",
   "metadata": {},
   "outputs": [],
   "source": [
    "stat_data_ca1 = df_stats[(df_stats[\"segment_type\"].isin([value_mapping[\"bl\"], value_mapping[\"am\"]])) & (df_stats[\"window_type\"] == \"ca1\")]"
   ]
  },
  {
   "cell_type": "code",
   "execution_count": null,
   "id": "21b13285",
   "metadata": {},
   "outputs": [],
   "source": [
    "stat_data_ca1.mouse_id.unique()"
   ]
  },
  {
   "cell_type": "code",
   "execution_count": null,
   "id": "7977af61",
   "metadata": {},
   "outputs": [],
   "source": [
    "print(\"CA1\")\n",
    "for statistic in [\"totdist_abs_norm\", \"running%\", \"running_episodes\"]:\n",
    "    print(statistic)\n",
    "    for exp_type, exp_g in stat_data_ca1.groupby(\"exp_type\"):\n",
    "        ttest_result = paired_t_test(exp_g, statistic)\n",
    "        print(f'\\t{exp_type}: {len(exp_g[exp_g[\"segment_type\"] == value_mapping[\"bl\"]])} pairs;\\n\\tstatistic={ttest_result.statistic}, p={ttest_result.pvalue}\\n')\n"
   ]
  },
  {
   "cell_type": "markdown",
   "id": "9724987c",
   "metadata": {},
   "source": [
    "## NC"
   ]
  },
  {
   "cell_type": "code",
   "execution_count": null,
   "id": "241ede03",
   "metadata": {},
   "outputs": [],
   "source": [
    "if len(df_stats_nc) > 0:\n",
    "    stat_data_nc = df_stats[(df_stats[\"segment_type\"].isin([value_mapping[\"bl\"], value_mapping[\"am\"]])) & (df_stats[\"window_type\"] == \"cx\")]"
   ]
  },
  {
   "cell_type": "code",
   "execution_count": null,
   "id": "73b47c36",
   "metadata": {},
   "outputs": [],
   "source": [
    "if len(df_stats_nc) > 0:\n",
    "    print(\"NC\")\n",
    "    for statistic in [\"totdist_abs_norm\", \"running%\", \"running_episodes\"]:\n",
    "        print(statistic)\n",
    "        for exp_type, exp_g in stat_data_nc.groupby(\"exp_type\"):\n",
    "            ttest_result = paired_t_test(exp_g, statistic)\n",
    "            print(f'\\t{exp_type}: {len(exp_g[exp_g[\"segment_type\"] == value_mapping[\"bl\"]])} pairs;\\n\\tstatistic={ttest_result.statistic}, p={ttest_result.pvalue}\\n')\n"
   ]
  },
  {
   "cell_type": "markdown",
   "id": "b49e964c",
   "metadata": {},
   "source": [
    "## Mouse-aggregate"
   ]
  },
  {
   "cell_type": "markdown",
   "id": "f4f43e69",
   "metadata": {},
   "source": [
    "### CA1"
   ]
  },
  {
   "cell_type": "code",
   "execution_count": null,
   "id": "36d923b2",
   "metadata": {},
   "outputs": [],
   "source": [
    "stat_data_mouse_means_ca1 = df_stats_per_mouse_mean_ca1[(df_stats_per_mouse_mean_ca1[\"segment_type\"].isin([value_mapping[\"bl\"], value_mapping[\"am\"]])) & (df_stats_per_mouse_mean_ca1[\"window_type\"] == \"ca1\")]"
   ]
  },
  {
   "cell_type": "code",
   "execution_count": null,
   "id": "c1c6d053",
   "metadata": {},
   "outputs": [],
   "source": [
    "print(\"CA1\")\n",
    "for statistic in [\"totdist_abs_norm\", \"running%\", \"running_episodes\"]:\n",
    "    print(statistic)\n",
    "    for exp_type, exp_g in stat_data_mouse_means_ca1.groupby(\"exp_type\"):\n",
    "        ttest_result = paired_t_test(exp_g, statistic, pair_by=\"mouse_id\")\n",
    "        print(f'\\t{exp_type}: {len(exp_g[exp_g[\"segment_type\"] == value_mapping[\"bl\"]])} pairs;\\n\\tstatistic={ttest_result.statistic}, p={ttest_result.pvalue}\\n')\n"
   ]
  },
  {
   "cell_type": "markdown",
   "id": "3352aca2",
   "metadata": {},
   "source": [
    "### NC"
   ]
  },
  {
   "cell_type": "code",
   "execution_count": null,
   "id": "2e6d6bc5",
   "metadata": {},
   "outputs": [],
   "source": [
    "if len(df_stats_nc) > 0:\n",
    "    stat_data_mouse_means_nc = df_stats_per_mouse_mean_nc[(df_stats_per_mouse_mean_nc[\"segment_type\"].isin([value_mapping[\"bl\"], value_mapping[\"am\"]])) & (df_stats_per_mouse_mean_nc[\"window_type\"] == \"cx\")]"
   ]
  },
  {
   "cell_type": "code",
   "execution_count": null,
   "id": "f6271055",
   "metadata": {},
   "outputs": [],
   "source": [
    "if len(df_stats_nc) > 0:\n",
    "    print(\"NC\")\n",
    "    for statistic in [\"totdist_abs_norm\", \"running%\", \"running_episodes\"]:\n",
    "        print(statistic)\n",
    "        for exp_type, exp_g in stat_data_mouse_means_nc.groupby(\"exp_type\"):\n",
    "            ttest_result = paired_t_test(exp_g, statistic, pair_by=\"mouse_id\")\n",
    "            print(f'\\t{exp_type}: {len(exp_g[exp_g[\"segment_type\"] == value_mapping[\"bl\"]])} pairs;\\n\\tstatistic={ttest_result.statistic}, p={ttest_result.pvalue}\\n')\n"
   ]
  },
  {
   "cell_type": "markdown",
   "id": "20e696cb",
   "metadata": {},
   "source": [
    "# Export results"
   ]
  },
  {
   "cell_type": "code",
   "execution_count": null,
   "id": "18b725c1",
   "metadata": {},
   "outputs": [],
   "source": [
    "#df_stats[(df_stats[\"segment_type\"].isin([\"bl\", \"am\"]))].to_excel(\"C:\\\\Users\\\\Bence\\\\Downloads\\\\loco_dataset_raw.xlsx\", index=False)"
   ]
  },
  {
   "cell_type": "code",
   "execution_count": null,
   "id": "afcaa861",
   "metadata": {},
   "outputs": [],
   "source": [
    "df_to_save = df_stats[(df_stats[\"segment_type\"].isin([value_mapping[\"bl\"], value_mapping[\"am\"]]))]"
   ]
  },
  {
   "cell_type": "code",
   "execution_count": null,
   "id": "6eca2c2b",
   "metadata": {},
   "outputs": [],
   "source": [
    "\n",
    "if export_datasets:\n",
    "    output_fpath = os.path.join(output_folder, f\"locomotion_ChR2_{get_datetime_for_fname()}.xlsx\")\n",
    "    df_to_save.to_excel(output_fpath)\n",
    "    print(f\"Results exported to {output_fpath}\")\n",
    "    "
   ]
  },
  {
   "cell_type": "code",
   "execution_count": null,
   "id": "572549db",
   "metadata": {},
   "outputs": [],
   "source": [
    "if export_datasets:\n",
    "    output_fpath = os.path.join(output_folder, f\"locomotion_ChR2_mouse_aggregate_{get_datetime_for_fname()}.xlsx\")\n",
    "    df_stats_per_mouse_mean_ca1_only_bl_am.to_excel(output_fpath)\n",
    "    print(f\"Results exported to {output_fpath}\")\n",
    "    "
   ]
  },
  {
   "cell_type": "code",
   "execution_count": null,
   "id": "0bd03159",
   "metadata": {},
   "outputs": [],
   "source": [
    "if export_datasets and False:\n",
    "    for win_type in df_stats.window_type.unique():\n",
    "        for exp_type in df_stats[df_stats[\"window_type\"] == win_type].exp_type.unique():\n",
    "            for loco_metric in [\"totdist_abs_norm\", \"running%\", \"running_episodes\"]:\n",
    "                fname = f\"C:\\\\Users\\\\Bence\\\\Downloads\\\\loco_{loco_metric}_{win_type}_{exp_type}_{get_datetime_for_fname()}.xlsx\"\n",
    "                a = df_stats[(df_stats[\"segment_type\"].isin([value_mapping[\"bl\"], value_mapping[\"am\"]]))& (df_stats[\"window_type\"] == win_type) & (df_stats[\"exp_type\"] == exp_type) ][[\"event_uuid\", \"mouse_id\", \"segment_type\", loco_metric]].pivot(index='event_uuid', columns='segment_type', values=loco_metric).reset_index()\n",
    "                a[\"mouse_id\"] = a.apply(lambda row: df_stats[df_stats[\"event_uuid\"] == row[\"event_uuid\"]].mouse_id.iloc[0], axis=1)\n",
    "                a.to_excel(fname, index=False)\n",
    "                print(f\"Saved to {fname}\")"
   ]
  },
  {
   "cell_type": "code",
   "execution_count": null,
   "id": "d4e451a0",
   "metadata": {},
   "outputs": [],
   "source": []
  }
 ],
 "metadata": {
  "kernelspec": {
   "display_name": "Python 3 (ipykernel)",
   "language": "python",
   "name": "python3"
  },
  "language_info": {
   "codemirror_mode": {
    "name": "ipython",
    "version": 3
   },
   "file_extension": ".py",
   "mimetype": "text/x-python",
   "name": "python",
   "nbconvert_exporter": "python",
   "pygments_lexer": "ipython3",
   "version": "3.8.12"
  }
 },
 "nbformat": 4,
 "nbformat_minor": 5
}
