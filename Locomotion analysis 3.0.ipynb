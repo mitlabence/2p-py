{
 "cells": [
  {
   "cell_type": "markdown",
   "id": "3e013d97",
   "metadata": {},
   "source": [
    "# Locomotion analysis v3.0\n",
    "This script works with the pre-assembled dataset, cutting out most of the acquiring data part, resulting in cleaner and more reliable analysis (the dataset is manually checked separately from this script)."
   ]
  },
  {
   "cell_type": "markdown",
   "id": "daccd5dd",
   "metadata": {},
   "source": [
    "### About the data\n",
    "* `speed`: the speed as measured by the sensor attached to one wheel of the treadmill\n",
    "* `totdist`: the total distance directly calculated in LabView. Whenever `speed` is negative, `totdist` is reduced! This is why we need...\n",
    "* `totdist_abs`: the i-th value is calculated as `totdist_abs[i-1] + abs(speed[i]*(t[i] - t[i-1]))`, i.e. integrated absolute distance covered.\n",
    "* `running`: a binary value, 0 if the mouse is not running (the `speed`is below a threshold, `40` by default), 1 otherwise. The original 100 Hz data, from which the downsampling happens, already includes an algorithm to connect two data points/intervals when the time not spent moving between them is small. The threshold for two `running` periods to still be counted as one is 250 bins@100 Hz\n",
    "* `running%`: the sum of `running` (i.e. number of frames where `running` is 1) divided by the length of the segment."
   ]
  },
  {
   "cell_type": "code",
   "execution_count": null,
   "id": "abc42013",
   "metadata": {},
   "outputs": [],
   "source": [
    "EPISODE_MERGE_THRESHOLD_FRAMES = 15  # merge running episodes if distance smaller than this many frames (15 Hz!)"
   ]
  },
  {
   "cell_type": "code",
   "execution_count": null,
   "id": "1aa4b25b",
   "metadata": {},
   "outputs": [],
   "source": [
    "STAT_METRICS = [\"totdist_abs_norm\", \"running%\", \"avg_speed\", \"running_episodes\", \"running_episodes_mean_length\"]  # metrics to test for"
   ]
  },
  {
   "cell_type": "code",
   "execution_count": null,
   "id": "a1193898",
   "metadata": {},
   "outputs": [],
   "source": [
    "LOCO_THRESHOLD = 0.2  # threshold for a speed value to be recognized as \"running\"."
   ]
  },
  {
   "cell_type": "markdown",
   "id": "b117cd92",
   "metadata": {},
   "source": [
    "# Set version"
   ]
  },
  {
   "cell_type": "markdown",
   "id": "7e27d936",
   "metadata": {},
   "source": [
    "### Set up export figure parameters"
   ]
  },
  {
   "cell_type": "code",
   "execution_count": null,
   "id": "a02de199",
   "metadata": {},
   "outputs": [],
   "source": [
    "save_figs = False  # set to True to save the figures created\n",
    "save_as_eps = False\n",
    "if save_as_eps:\n",
    "    file_format = \".eps\"\n",
    "else:\n",
    "    file_format = \".jpg\"\n",
    "if save_figs:\n",
    "    print(f\"Going to save figures as {file_format} files.\")"
   ]
  },
  {
   "cell_type": "markdown",
   "id": "51054967",
   "metadata": {},
   "source": [
    "# Import libraries"
   ]
  },
  {
   "cell_type": "code",
   "execution_count": null,
   "id": "34aef127",
   "metadata": {},
   "outputs": [],
   "source": [
    "#Auto-reload modules (used to develop functions outside this notebook)\n",
    "%load_ext autoreload\n",
    "%autoreload 2"
   ]
  },
  {
   "cell_type": "code",
   "execution_count": null,
   "id": "80753c06",
   "metadata": {},
   "outputs": [],
   "source": [
    "import labrotation.file_handling as fh\n",
    "import h5py\n",
    "from time import time\n",
    "import matplotlib.pyplot as plt\n",
    "import numpy as np\n",
    "import os\n",
    "from labrotation import file_handling as fh\n",
    "from copy import deepcopy\n",
    "import pandas as pd\n",
    "import labrotation.two_photon_session as tps\n",
    "import seaborn as sns\n",
    "import uuid  # for unique labeling of sessions and coupling arrays (mouse velocity, distance, ...) to sessions in dataframe \n",
    "from matplotlib import cm  # colormap\n",
    "import datadoc_util\n",
    "from labrotation import two_photon_session as tps\n",
    "from datetime import datetime\n",
    "import seaborn as sns\n",
    "from math import floor"
   ]
  },
  {
   "cell_type": "markdown",
   "id": "135cf136",
   "metadata": {},
   "source": [
    "# Set seaborn parameters"
   ]
  },
  {
   "cell_type": "code",
   "execution_count": null,
   "id": "cb7310fa",
   "metadata": {},
   "outputs": [],
   "source": [
    "sns.set(font_scale=3)\n",
    "sns.set_style(\"whitegrid\")"
   ]
  },
  {
   "cell_type": "markdown",
   "id": "5ec68054",
   "metadata": {},
   "source": [
    "# If exists, load environmental variables from .env file"
   ]
  },
  {
   "cell_type": "code",
   "execution_count": null,
   "id": "b6f1505b",
   "metadata": {},
   "outputs": [],
   "source": [
    "env_dict = dict()\n",
    "if not os.path.exists(\"./.env\"):\n",
    "    print(\".env does not exist\")\n",
    "else:\n",
    "    with open(\"./.env\", \"r\") as f:\n",
    "        for line in f.readlines():\n",
    "            l = line.rstrip().split(\"=\")\n",
    "            env_dict[l[0]] = l[1]\n",
    "print(env_dict.keys())"
   ]
  },
  {
   "cell_type": "markdown",
   "id": "1aee7f17",
   "metadata": {},
   "source": [
    "# Set up data documentation directory"
   ]
  },
  {
   "cell_type": "code",
   "execution_count": null,
   "id": "89537f41",
   "metadata": {},
   "outputs": [],
   "source": [
    "# assumption: inside the documentation folder, the subfolders carry the id of each mouse (not exact necessarily, but they \n",
    "# can be identified by the name of the subfolder). \n",
    "# Inside the subfolder xy (for mouse xy), xy_grouping.xlsx and xy_segmentation.xlsx can be found.\n",
    "# xy_grouping.xlsx serves the purpose of finding the recordings belonging together, and has columns:\n",
    "# folder, nd2, labview, lfp, face_cam_last, nikon_meta, experiment_type, day\n",
    "# xy_segmentation.xlsx contains frame-by-frame (given by a set of disjoint intervals forming a cover for the whole recording) \n",
    "# classification of the events in the recording (\"normal\", seizure (\"sz\"), sd wave (\"sd_wave\") etc.). The columns:\n",
    "# folder, interval_type, frame_begin, frame_end.\n",
    "\n",
    "# TODO: write documentation on contents of xlsx files (what the columns are etc.)\n",
    "if \"DATA_DOCU_FOLDER\" in env_dict.keys():\n",
    "    docu_folder = env_dict[\"DATA_DOCU_FOLDER\"]\n",
    "else:\n",
    "    docu_folder = fh.open_dir(\"Choose folder containing folders for each mouse!\")\n",
    "print(f\"Selected folder:\\n\\t{docu_folder}\")"
   ]
  },
  {
   "cell_type": "code",
   "execution_count": null,
   "id": "652dd010",
   "metadata": {},
   "outputs": [],
   "source": [
    "if \"documentation\" in os.listdir(docu_folder):\n",
    "    mouse_folder = os.path.join(docu_folder, \"documentation\")\n",
    "else:\n",
    "    mouse_folder = docu_folder\n",
    "mouse_names = os.listdir(mouse_folder)\n",
    "print(f\"Mice detected:\")\n",
    "for mouse in mouse_names:\n",
    "    print(f\"\\t{mouse}\")"
   ]
  },
  {
   "cell_type": "code",
   "execution_count": null,
   "id": "d4476f42",
   "metadata": {},
   "outputs": [],
   "source": [
    "def get_datetime_for_fname():\n",
    "    now = datetime.now()\n",
    "    return f\"{now.year:04d}{now.month:02d}{now.day:02d}-{now.hour:02d}{now.minute:02d}{now.second:02d}\""
   ]
  },
  {
   "cell_type": "code",
   "execution_count": null,
   "id": "bad91b1f",
   "metadata": {},
   "outputs": [],
   "source": [
    "output_folder = env_dict[\"DOWNLOADS_FOLDER\"]\n",
    "print(f\"Output files will be saved to {output_folder}\")"
   ]
  },
  {
   "cell_type": "markdown",
   "id": "fe63c765",
   "metadata": {},
   "source": [
    "### Load matlab-2p"
   ]
  },
  {
   "cell_type": "code",
   "execution_count": null,
   "id": "882258c7",
   "metadata": {},
   "outputs": [],
   "source": [
    "if \"MATLAB_2P_FOLDER\" in env_dict.keys():\n",
    "    matlab_2p_folder = env_dict[\"MATLAB_2P_FOLDER\"]\n",
    "else:\n",
    "    matlab_2p_folder = fh.open_dir(\"Choose matlab-2p folder\")\n",
    "print(f\"matlab-2p folder set to:\\n\\t{matlab_2p_folder}\")"
   ]
  },
  {
   "cell_type": "markdown",
   "id": "bd8efd1b",
   "metadata": {},
   "source": [
    "### Load data documentation"
   ]
  },
  {
   "cell_type": "code",
   "execution_count": null,
   "id": "d08a8775",
   "metadata": {},
   "outputs": [],
   "source": [
    "ddoc = datadoc_util.DataDocumentation(docu_folder)\n",
    "ddoc.loadDataDoc()"
   ]
  },
  {
   "cell_type": "markdown",
   "id": "8f32afd1",
   "metadata": {},
   "source": [
    "### Set up color coding\n",
    "for now, only possible to assign a color to each mouse. Later, when event uuids available, need to map event uuid to color code"
   ]
  },
  {
   "cell_type": "code",
   "execution_count": null,
   "id": "23f609aa",
   "metadata": {},
   "outputs": [],
   "source": [
    "df_colors = ddoc.getColorings()"
   ]
  },
  {
   "cell_type": "code",
   "execution_count": null,
   "id": "7d9f5f80",
   "metadata": {},
   "outputs": [],
   "source": [
    "dict_colors_mouse = df_colors[[\"mouse_id\", \"color\"]].to_dict(orient=\"list\")\n",
    "dict_colors_mouse = dict(zip(dict_colors_mouse[\"mouse_id\"], dict_colors_mouse[\"color\"]))"
   ]
  },
  {
   "cell_type": "code",
   "execution_count": null,
   "id": "07153a08",
   "metadata": {},
   "outputs": [],
   "source": [
    "#dict_colors_mouse[\"T413\"] = \"#000000\"  # set one to black"
   ]
  },
  {
   "cell_type": "markdown",
   "id": "9847f99c",
   "metadata": {},
   "source": [
    "### Load events_list dataset"
   ]
  },
  {
   "cell_type": "code",
   "execution_count": null,
   "id": "fd03d026",
   "metadata": {},
   "outputs": [],
   "source": [
    "events_list_fpath = os.path.join(docu_folder, \"events_list.xlsx\")\n",
    "assert os.path.exists(events_list_fpath)\n",
    "\n",
    "df_events_list = pd.read_excel(events_list_fpath)"
   ]
  },
  {
   "cell_type": "markdown",
   "id": "13444932",
   "metadata": {},
   "source": [
    "## Load dataset"
   ]
  },
  {
   "cell_type": "code",
   "execution_count": null,
   "id": "5d99e2b8",
   "metadata": {},
   "outputs": [],
   "source": [
    "assembled_traces_fpath = fh.open_file(\"Open assembled_traces h5 file!\")"
   ]
  },
  {
   "cell_type": "code",
   "execution_count": null,
   "id": "ecee90d9",
   "metadata": {},
   "outputs": [],
   "source": [
    "is_chr2 = False\n",
    "if \"chr2\" in assembled_traces_fpath.lower():\n",
    "    is_chr2 = True\n",
    "    print(\"ChR2 dataset detected\")"
   ]
  },
  {
   "cell_type": "code",
   "execution_count": null,
   "id": "b8d14289",
   "metadata": {},
   "outputs": [],
   "source": [
    "if is_chr2:\n",
    "    used_mouse_ids = [\"OPI-2239\", \"WEZ-8917\", \"WEZ-8924\", \"WEZ-8922\"]"
   ]
  },
  {
   "cell_type": "code",
   "execution_count": null,
   "id": "4dbc1721",
   "metadata": {},
   "outputs": [],
   "source": [
    "traces_dict = dict()  \n",
    "traces_meta_dict = dict()\n",
    "# first keys are event uuids, inside the following dataset names:\n",
    "# 'lfp_mov_t', 'lfp_mov_y', 'lfp_t', 'lfp_y', 'lv_dist', 'lv_rounds', \n",
    "# 'lv_running', 'lv_speed', 'lv_t_s', 'lv_totdist', 'mean_fluo'\n",
    "with h5py.File(assembled_traces_fpath, \"r\") as hf:\n",
    "    for uuid in hf.keys():\n",
    "        if (not is_chr2) or (hf[uuid].attrs[\"mouse_id\"] in used_mouse_ids):\n",
    "            session_dataset_dict = dict() \n",
    "            session_meta_dict = dict()\n",
    "            for dataset_name in hf[uuid].keys():\n",
    "                session_dataset_dict[dataset_name] = np.array(hf[uuid][dataset_name])\n",
    "            for attr_name in hf[uuid].attrs:\n",
    "                session_meta_dict[attr_name] = hf[uuid].attrs[attr_name]\n",
    "            traces_dict[uuid] = session_dataset_dict.copy()\n",
    "            traces_meta_dict[uuid] = session_meta_dict.copy()"
   ]
  },
  {
   "cell_type": "markdown",
   "id": "97ade1f7",
   "metadata": {},
   "source": [
    "# Calculate locomotion statistics"
   ]
  },
  {
   "cell_type": "code",
   "execution_count": null,
   "id": "4d049406",
   "metadata": {},
   "outputs": [],
   "source": [
    "def get_episodes(segment, merge_episodes=False, merge_threshold_frames=8, return_begin_end_frames = False):\n",
    "    n_eps = 0\n",
    "    episode_lengths = []  # in frame units\n",
    "    episodes = []\n",
    "    n_episodes = 0\n",
    "    current_episode_len = 0\n",
    "    \n",
    "    episode_begin = 0\n",
    "    episode_end = 0\n",
    "    \n",
    "    # algorithm: detect episode begin and episode end. record it in list\n",
    "    \n",
    "    for i_frame in range(len(segment)-1):  # check current and next element for end of a episode: ...100...\n",
    "        if segment[i_frame] == 1:  # current frame is part of an episode\n",
    "            # increase current episode length\n",
    "            if i_frame == 0 or segment[i_frame - 1] == 0:  # check if beginning of an episode or segment starts with an episode\n",
    "                episode_begin = i_frame\n",
    "            current_episode_len += 1\n",
    "            if segment[i_frame+1] == 0: # episode ends with next frame\n",
    "                n_episodes += 1\n",
    "                episode_lengths.append(current_episode_len)\n",
    "                episodes.append((episode_begin, i_frame))\n",
    "                current_episode_len = 0\n",
    "    if segment[-1] == 1: # check if there is one episode that does not end\n",
    "        n_episodes += 1\n",
    "        # add last segment to segments list\n",
    "        current_episode_len += 1\n",
    "        episode_lengths.append(current_episode_len)\n",
    "        episodes.append((episode_begin, len(segment)-1))\n",
    "        current_episode_len = 0\n",
    "        \n",
    "    assert current_episode_len == 0\n",
    "    if merge_episodes:\n",
    "        if len(episodes) < 2:  # single (or zero) episode cannot be merged\n",
    "            if return_begin_end_frames:\n",
    "                return episodes\n",
    "            else:\n",
    "                return [ep[1]-ep[0] + 1 for ep in episodes]\n",
    "        \n",
    "        # merge episodes that are close to each other\n",
    "        episodes_merged = []\n",
    "\n",
    "        episode_begin = episodes[0][0]\n",
    "        episode_end = episodes[0][1]\n",
    "        # starting with second episode, check if current episode can be merged with previous. If yes, update episode_end.\n",
    "        # If not, add previous episode to list, update episode_begin and episode_end to current episode values\n",
    "        \n",
    "        \n",
    "        for i_episode in range(1, len(episodes)):\n",
    "            current_episode_begin = episodes[i_episode][0]\n",
    "            current_episode_end = episodes[i_episode][1]\n",
    "\n",
    "            delta = current_episode_begin - episode_end\n",
    "            \n",
    "            if delta <= merge_threshold_frames:  # merge current episode to previous one\n",
    "                episode_end = current_episode_end\n",
    "            else:  # add previous episode to list, start with current episode\n",
    "                episodes_merged.append((episode_begin, episode_end))\n",
    "                episode_begin = current_episode_begin\n",
    "                episode_end = current_episode_end\n",
    "        # add last segment to list\n",
    "        episodes_merged.append((episode_begin, episode_end))\n",
    "        if return_begin_end_frames:\n",
    "            return episodes_merged\n",
    "        else:\n",
    "            episode_lengths_merged = [ep[1]-ep[0] + 1 for ep in episodes_merged]\n",
    "            return episode_lengths_merged\n",
    "    if return_begin_end_frames:\n",
    "        return episodes\n",
    "    else:\n",
    "        return episode_lengths  # len() shows n_episodes"
   ]
  },
  {
   "cell_type": "code",
   "execution_count": null,
   "id": "44924566",
   "metadata": {},
   "outputs": [],
   "source": [
    "use_manual_bl_am_length = True\n",
    "bl_manual_length = 4500\n",
    "am_manual_length = 4500\n",
    "\n",
    "\n",
    "# each entry (row) should have columns: \n",
    "# uuid of event, mouse id, window type, segment type (bl/sz/am), segment length in frames, totdist, running, speed\n",
    "list_statistics = []  \n",
    "dict_episodes = {}\n",
    "\n",
    "for event_uuid in traces_dict.keys():\n",
    "    mouse_id = traces_meta_dict[event_uuid][\"mouse_id\"]\n",
    "    win_type = traces_meta_dict[event_uuid][\"window_type\"]\n",
    "    # get segment lengths\n",
    "    n_bl_frames = traces_meta_dict[event_uuid][\"n_bl_frames\"]\n",
    "    n_am_frames = traces_meta_dict[event_uuid][\"n_am_frames\"]\n",
    "    n_frames = traces_meta_dict[event_uuid][\"n_frames\"]\n",
    "    n_sz_frames = n_frames - n_am_frames - n_bl_frames\n",
    "    \n",
    "    if use_manual_bl_am_length:\n",
    "        if (bl_manual_length > n_bl_frames) or (am_manual_length > n_am_frames):\n",
    "            print(f\"{mouse_id} {event_uuid}:\\n\\tNot enough bl ({n_bl_frames}, {bl_manual_length} required) or am ({n_am_frames}, {am_manual_length} required) frames available. Skipping...\")\n",
    "            continue\n",
    "        # todo: set first and last frames for bl and am (as well as sz). If not use_manual_bl_am_length, also set it!\n",
    "        # then modify code below to first and last frames\n",
    "        else:\n",
    "            # define baseline as last frame before sz segment, and starting bl_manual_length frames before\n",
    "            last_frame_bl = n_bl_frames - 1  # 0 indexing: last bl frame, inclusive\n",
    "            first_frame_bl = last_frame_bl - bl_manual_length + 1  # inclusive\n",
    "            assert first_frame_bl > 0\n",
    "            # define aftermath as first frame after sz segment, and ending am_manual_length frames after\n",
    "            first_frame_am = n_bl_frames+n_sz_frames  # inclusive\n",
    "            assert first_frame_am == n_frames - n_am_frames\n",
    "            \n",
    "            last_frame_am = first_frame_am + am_manual_length - 1  # inclusive\n",
    "            \n",
    "            #convert to [begin, end), i.e. left inclusive, right exclusive, for numpy indexing\n",
    "            last_frame_bl += 1\n",
    "            last_frame_am += 1\n",
    "            \n",
    "    else:\n",
    "        first_frame_bl = 0  # inclusive\n",
    "        last_frame_bl = n_bl_frames  # exclusive\n",
    "        \n",
    "        first_frame_am = n_bl_frames+n_sz_frames  # inclusive\n",
    "        last_frame_am = n_frames  # exclusive\n",
    "    \n",
    "    # print(f\"{ddoc.getNikonFileNameForUuid(event_uuid)}:\\n\\t{n_bl_frames} bl, {n_sz_frames} mid, {n_am_frames} am\")\n",
    "    # get movement data\n",
    "    lv_totdist = traces_dict[event_uuid][\"lv_totdist\"]\n",
    "    lv_totdist_abs = traces_dict[event_uuid][\"lv_totdist_abs\"]\n",
    "    lv_running = traces_dict[event_uuid][\"lv_running\"]\n",
    "    lv_speed = traces_dict[event_uuid][\"lv_speed\"]\n",
    "    \n",
    "    # apply post-processing threshold to \"running\"\n",
    "    LOCO_THRESHOLD\n",
    "    lv_running[np.abs(lv_speed) < LOCO_THRESHOLD] = 0\n",
    "    \n",
    "    # cut up data into segments\n",
    "    lv_totdist_bl = lv_totdist[first_frame_bl:last_frame_bl]\n",
    "    lv_totdist_sz = lv_totdist[last_frame_bl:first_frame_am]\n",
    "    lv_totdist_am = lv_totdist[first_frame_am:last_frame_am]\n",
    "    if not use_manual_bl_am_length:\n",
    "        assert len(lv_totdist_bl) + len(lv_totdist_sz) + len(lv_totdist_am) == len(lv_totdist)\n",
    "    else:\n",
    "        assert len(lv_totdist_bl) == bl_manual_length\n",
    "        assert len(lv_totdist_am) == am_manual_length \n",
    "    \n",
    "    lv_totdist_abs_bl = lv_totdist_abs[first_frame_bl:last_frame_bl]\n",
    "    lv_totdist_abs_sz = lv_totdist_abs[last_frame_bl:first_frame_am]\n",
    "    lv_totdist_abs_am = lv_totdist_abs[first_frame_am:last_frame_am]\n",
    "    \n",
    "    lv_running_bl = lv_running[first_frame_bl:last_frame_bl]\n",
    "    lv_running_sz = lv_running[last_frame_bl:first_frame_am]\n",
    "    lv_running_am = lv_running[first_frame_am:last_frame_am]\n",
    "    \n",
    "    lv_speed_bl = lv_speed[first_frame_bl:last_frame_bl]\n",
    "    lv_speed_sz = lv_speed[last_frame_bl:first_frame_am]\n",
    "    lv_speed_am = lv_speed[first_frame_am:last_frame_am]\n",
    "    \n",
    "    \n",
    "    # calculate statistics\n",
    "    totdist_bl = lv_totdist_bl[-1] - lv_totdist_bl[0]\n",
    "    totdist_sz = lv_totdist_sz[-1] - lv_totdist_sz[0]\n",
    "    totdist_am = lv_totdist_am[-1] - lv_totdist_am[0]\n",
    "    totdist_abs_bl = lv_totdist_abs_bl[-1] - lv_totdist_abs_bl[0]\n",
    "    totdist_abs_sz = lv_totdist_abs_sz[-1] - lv_totdist_abs_sz[0]\n",
    "    totdist_abs_am = lv_totdist_abs_am[-1] - lv_totdist_abs_am[0]\n",
    "    running_bl = sum(lv_running_bl)\n",
    "    running_sz = sum(lv_running_sz)\n",
    "    running_am = sum(lv_running_am)\n",
    "    speed_bl = sum(lv_speed_bl)\n",
    "    speed_sz = sum(lv_speed_sz)\n",
    "    speed_am = sum(lv_speed_am)\n",
    "    # calculate average speed\n",
    "    lv_speed_bl = np.array(lv_speed_bl)\n",
    "    lv_speed_sz = np.array(lv_speed_sz)\n",
    "    lv_speed_am = np.array(lv_speed_am)\n",
    "    lv_running_bl = np.array(lv_running_bl)\n",
    "    lv_running_sz = np.array(lv_running_sz)\n",
    "    lv_running_am = np.array(lv_running_am)\n",
    "    avg_speed_bl = np.mean(lv_speed_bl[lv_running_bl > 0])\n",
    "    avg_speed_sz = np.mean(lv_speed_sz[lv_running_sz > 0])\n",
    "    avg_speed_am = np.mean(lv_speed_am[lv_running_am > 0])\n",
    "    # a definition of \"max speed\". To deal with possible outliers, for now, get 95th %\n",
    "    max_speed_bl = np.max(lv_speed_bl) #np.median(np.sort(lv_speed_bl)[floor(0.95*len(lv_speed_bl)):])\n",
    "    max_speed_sz = np.max(lv_speed_sz) #np.median(np.sort(lv_speed_sz)[floor(0.95*len(lv_speed_sz)):])\n",
    "    max_speed_am = np.max(lv_speed_am) #np.median(np.sort(lv_speed_am)[floor(0.95*len(lv_speed_am)):])\n",
    "    \n",
    "    \n",
    "    \n",
    "    # number of running episodes, length\n",
    "    \n",
    "    list_episodes_bl = get_episodes(lv_running_bl, True, EPISODE_MERGE_THRESHOLD_FRAMES)  # 15 frames in 15 Hz is 1 s.\n",
    "    n_episodes_bl = len(list_episodes_bl)\n",
    "    \n",
    "    list_episodes_sz = get_episodes(lv_running_sz, True, EPISODE_MERGE_THRESHOLD_FRAMES)\n",
    "    n_episodes_sz = len(list_episodes_sz)\n",
    "    \n",
    "    list_episodes_am = get_episodes(lv_running_am, True, EPISODE_MERGE_THRESHOLD_FRAMES)\n",
    "    n_episodes_am = len(list_episodes_am)\n",
    "    \n",
    "    # as running already has a built-in merging (see Matlab beltAddRunningProperties.m), we can count the leading edges in that data\n",
    "    n_episodes_bl2 = sum((lv_running_bl[1:] - lv_running_bl[:-1]) > 0)\n",
    "    n_episodes_sz2 = sum((lv_running_sz[1:] - lv_running_sz[:-1]) > 0)\n",
    "    n_episodes_am2 = sum((lv_running_am[1:] - lv_running_am[:-1]) > 0)\n",
    "    \n",
    "    #print(f\"bl: {n_episodes_bl} vs {n_episodes_bl2}, sz: {n_episodes_sz} vs {n_episodes_sz2}, am: {n_episodes_am} vs {n_episodes_am2}\")\n",
    "    \n",
    "    \n",
    "    # add to episodes dict\n",
    "    if mouse_id not in dict_episodes.keys():\n",
    "        dict_episodes[mouse_id] = dict()\n",
    "    dict_episodes[mouse_id][event_uuid] = dict()\n",
    "\n",
    "    list_episodes_bl = np.array(list_episodes_bl)\n",
    "    list_episodes_sz = np.array(list_episodes_sz)\n",
    "    list_episodes_am = np.array(list_episodes_am)\n",
    "    \n",
    "    dict_episodes[mouse_id][event_uuid][\"bl\"] = list_episodes_bl\n",
    "    dict_episodes[mouse_id][event_uuid][\"sz\"] = list_episodes_sz\n",
    "    dict_episodes[mouse_id][event_uuid][\"am\"] = list_episodes_am\n",
    "    \n",
    "    # calculate mean episode length, std\n",
    "    bl_episode_mean_len = list_episodes_bl.mean() if len(list_episodes_bl) > 0 else 0\n",
    "    sz_episode_mean_len = list_episodes_sz.mean() if len(list_episodes_sz) > 0 else 0\n",
    "    am_episode_mean_len = list_episodes_am.mean() if len(list_episodes_am) > 0 else 0\n",
    "    \n",
    "    bl_episode_std = list_episodes_bl.std()\n",
    "    sz_episode_std = list_episodes_sz.std()\n",
    "    am_episode_std = list_episodes_am.std()\n",
    "    \n",
    "    \n",
    "    if \"exp_type\" in traces_meta_dict[event_uuid].keys():\n",
    "        exp_type = traces_meta_dict[event_uuid][\"exp_type\"]\n",
    "    else:\n",
    "        exp_type = \"tmev\"\n",
    "        \n",
    "    segment_length_bl = last_frame_bl - first_frame_bl\n",
    "    segment_length_sz = first_frame_am - last_frame_bl\n",
    "    segment_length_am = last_frame_am - first_frame_am\n",
    "        \n",
    "    # add to data list\n",
    "    list_statistics.append([event_uuid, mouse_id, win_type, \"bl\", segment_length_bl, totdist_bl, totdist_abs_bl, running_bl, speed_bl, avg_speed_bl, n_episodes_bl, bl_episode_mean_len, bl_episode_std, max_speed_bl, exp_type])\n",
    "    list_statistics.append([event_uuid, mouse_id, win_type, \"sz\", segment_length_sz, totdist_sz, totdist_abs_sz, running_sz, speed_sz, avg_speed_sz, n_episodes_sz, sz_episode_mean_len, sz_episode_std, max_speed_sz, exp_type])\n",
    "    list_statistics.append([event_uuid, mouse_id, win_type, \"am\", segment_length_am, totdist_am, totdist_abs_am, running_am, speed_am, avg_speed_am, n_episodes_am, am_episode_mean_len, am_episode_std, max_speed_am, exp_type])"
   ]
  },
  {
   "cell_type": "code",
   "execution_count": null,
   "id": "535694c3",
   "metadata": {},
   "outputs": [],
   "source": [
    "df_stats = pd.DataFrame(data=list_statistics, columns=[\"event_uuid\", \"mouse_id\", \"window_type\", \"segment_type\",  \"segment_length\", \"totdist\", \"totdist_abs\", \"running\", \"speed\", \"avg_speed\", \"running_episodes\", \"running_episodes_mean_length\", \"running_episodes_length_std\", \"max_speed\", \"exp_type\"])"
   ]
  },
  {
   "cell_type": "code",
   "execution_count": null,
   "id": "ceeb03b5",
   "metadata": {},
   "outputs": [],
   "source": [
    "# set NaN to 0 (running_episodes_mean_length: if no episodes, then mean segment length is 0)\n",
    "df_stats[\"running_episodes_mean_length\"] = df_stats[\"running_episodes_mean_length\"].fillna(value=0)"
   ]
  },
  {
   "cell_type": "code",
   "execution_count": null,
   "id": "9af82b1d",
   "metadata": {},
   "outputs": [],
   "source": [
    "# pick a scale factor for better readability: 0.000513 -> 51.3, for example\n",
    "if \"n_bl_frames\" in locals():\n",
    "    scale_factor = n_bl_frames  # scale up to bl segment length \n",
    "else:\n",
    "    scale_factor = 10000\n",
    "\n",
    "df_stats[\"totdist_norm\"] = scale_factor*df_stats[\"totdist\"]/df_stats[\"segment_length\"]\n",
    "df_stats[\"totdist_abs_norm\"] = scale_factor*df_stats[\"totdist_abs\"]/df_stats[\"segment_length\"]\n",
    "df_stats[\"running_norm\"] = scale_factor*df_stats[\"running\"]/df_stats[\"segment_length\"]\n",
    "df_stats[\"speed_norm\"] = scale_factor*df_stats[\"speed\"]/df_stats[\"segment_length\"]"
   ]
  },
  {
   "cell_type": "markdown",
   "id": "8ec3363d",
   "metadata": {},
   "source": [
    "### Add % of time spent running"
   ]
  },
  {
   "cell_type": "code",
   "execution_count": null,
   "id": "897d9f44",
   "metadata": {},
   "outputs": [],
   "source": [
    "# % of time spent running\n",
    "df_stats[\"running%\"] = 100*df_stats[\"running\"]/df_stats[\"segment_length\"]  # get value as true % instead of [0, 1] float"
   ]
  },
  {
   "cell_type": "markdown",
   "id": "f2da4f70",
   "metadata": {},
   "source": [
    "### Replace NaN by 0 in average speed"
   ]
  },
  {
   "cell_type": "code",
   "execution_count": null,
   "id": "c52c5273",
   "metadata": {},
   "outputs": [],
   "source": [
    "df_stats[\"avg_speed\"] = df_stats[\"avg_speed\"].fillna(0)"
   ]
  },
  {
   "cell_type": "code",
   "execution_count": null,
   "id": "d9f89db4",
   "metadata": {},
   "outputs": [],
   "source": [
    "assert df_stats[\"avg_speed\"].isna().sum() == 0"
   ]
  },
  {
   "cell_type": "markdown",
   "id": "ab8350fa",
   "metadata": {},
   "source": [
    "### Add  color codes to entries"
   ]
  },
  {
   "cell_type": "code",
   "execution_count": null,
   "id": "706fa48e",
   "metadata": {},
   "outputs": [],
   "source": [
    "df_stats[\"color\"] = df_stats.apply(lambda row: dict_colors_mouse[row[\"mouse_id\"]], axis=1)"
   ]
  },
  {
   "cell_type": "code",
   "execution_count": null,
   "id": "5adb74bb",
   "metadata": {},
   "outputs": [],
   "source": [
    "dict_colors_event = df_stats[[\"event_uuid\", \"color\"]].to_dict(orient=\"list\")\n",
    "dict_colors_event = dict(zip(dict_colors_event[\"event_uuid\"], dict_colors_event[\"color\"]))"
   ]
  },
  {
   "cell_type": "markdown",
   "id": "732725dc",
   "metadata": {},
   "source": [
    "## Create per-mouse means"
   ]
  },
  {
   "cell_type": "code",
   "execution_count": null,
   "id": "a0650038",
   "metadata": {},
   "outputs": [],
   "source": [
    "df_stats_per_mouse_mean = df_stats.drop(columns=[\"event_uuid\", \"window_type\", \"color\"], axis=0).groupby([\"mouse_id\", \"exp_type\", \"segment_type\"]).agg(func=\"mean\").reset_index()"
   ]
  },
  {
   "cell_type": "code",
   "execution_count": null,
   "id": "d4d913c5",
   "metadata": {},
   "outputs": [],
   "source": [
    "df_stats_per_mouse_mean[\"window_type\"] = df_stats_per_mouse_mean.apply(lambda row: ddoc.getMouseWinInjInfo(row[\"mouse_id\"]).iloc[0].window_type, axis=1)\n",
    "df_stats_per_mouse_mean[\"color\"] = df_stats_per_mouse_mean.apply(lambda row: df_colors[df_colors[\"mouse_id\"] == row[\"mouse_id\"]].iloc[0].color, axis=1)"
   ]
  },
  {
   "cell_type": "markdown",
   "id": "a083849b",
   "metadata": {},
   "source": [
    "# 1. TMEV"
   ]
  },
  {
   "cell_type": "markdown",
   "id": "56ba4f81",
   "metadata": {},
   "source": [
    "# Plot results"
   ]
  },
  {
   "cell_type": "markdown",
   "id": "cbe3b4ec",
   "metadata": {},
   "source": [
    "## Introduce mapping shorthand notation to proper names"
   ]
  },
  {
   "cell_type": "code",
   "execution_count": null,
   "id": "d822b0f5",
   "metadata": {},
   "outputs": [],
   "source": [
    "if not is_chr2:\n",
    "    value_mapping = {\"bl\":\"baseline\", \"sz\": \"seizure\", \"am\":\"post-seizure\"}\n",
    "    df_stats[\"segment_type\"] = df_stats[\"segment_type\"].apply(lambda x: value_mapping[x])"
   ]
  },
  {
   "cell_type": "code",
   "execution_count": null,
   "id": "7dcff801",
   "metadata": {},
   "outputs": [],
   "source": [
    "if not is_chr2:\n",
    "    fig = plt.figure(figsize=(10,10))\n",
    "    sns.violinplot(x=\"segment_type\", y=\"running_norm\", data=df_stats)\n",
    "    #sns.stripplot(data=df_stats[df_stats[\"window_type\"]==\"CA1\"], x=\"speed_norm\", y=\"segment_type\", hue=\"mouse_id\", dodge=True, zorder=1, legend=False)\n",
    "    plt.show()"
   ]
  },
  {
   "cell_type": "code",
   "execution_count": null,
   "id": "346a0637",
   "metadata": {},
   "outputs": [],
   "source": [
    "if not is_chr2:\n",
    "    loco_statistic = \"totdist_abs\"\n",
    "\n",
    "    fig, axs = plt.subplots(2, 3, figsize=(22,12), sharey=False)\n",
    "    sns.pointplot(data=df_stats, x=\"segment_type\", y=loco_statistic, ax=axs[0][0])\n",
    "    sns.pointplot(data=df_stats, x=\"segment_type\", y=\"running\", ax=axs[0][1])\n",
    "    sns.pointplot(data=df_stats, x=\"segment_type\", y=\"speed\", ax=axs[0][2])\n",
    "\n",
    "    sns.pointplot(data=df_stats[df_stats[\"segment_type\"] == value_mapping[\"bl\"]], x=\"window_type\", y=loco_statistic, join=False, capsize=.1, ax=axs[1][0])\n",
    "    sns.pointplot(data=df_stats[df_stats[\"segment_type\"] ==value_mapping[\"sz\"]], x=\"window_type\", y=loco_statistic, join=False, capsize=.1, ax=axs[1][1])\n",
    "    sns.pointplot(data=df_stats[df_stats[\"segment_type\"] == value_mapping[\"am\"]], x=\"window_type\", y=loco_statistic, join=False, capsize=.1, ax=axs[1][2])\n",
    "    if save_figs and False:\n",
    "        fig_fpath = os.path.join(output_folder, f'loco_mean_per_segment_{get_datetime_for_fname()}_{file_format}')\n",
    "        plt.savefig(fig_fpath, format=file_format.split(\".\")[-1])\n",
    "        print(f\"Saved to {fig_fpath}\")\n",
    "    plt.show()"
   ]
  },
  {
   "cell_type": "code",
   "execution_count": null,
   "id": "4fa317d5",
   "metadata": {},
   "outputs": [],
   "source": [
    "if not is_chr2:\n",
    "    loco_statistic = \"totdist_abs\"\n",
    "\n",
    "    fig, axs = plt.subplots(2, 3, figsize=(22,12))\n",
    "    sns.lineplot(data=df_stats, x=\"segment_type\", y=loco_statistic, hue=\"event_uuid\", palette=dict_colors_event, ax=axs[0][0], legend=False)\n",
    "    sns.lineplot(data=df_stats, x=\"segment_type\", y=\"running\", hue=\"event_uuid\", palette=dict_colors_event, ax=axs[0][1], legend=False)\n",
    "    sns.lineplot(data=df_stats, x=\"segment_type\", y=\"speed\", hue=\"event_uuid\", palette=dict_colors_event, ax=axs[0][2], legend=False)\n",
    "\n",
    "\n",
    "    sns.stripplot(data=df_stats[df_stats[\"segment_type\"] == value_mapping[\"bl\"]], x=\"window_type\", hue=\"event_uuid\", palette=dict_colors_event, y=loco_statistic, size=8, ax=axs[1][0], legend=False)\n",
    "    sns.stripplot(data=df_stats[df_stats[\"segment_type\"] == value_mapping[\"sz\"]], x=\"window_type\", hue=\"event_uuid\", palette=dict_colors_event, y=loco_statistic, size=8, ax=axs[1][1], legend=False)\n",
    "    sns.stripplot(data=df_stats[df_stats[\"segment_type\"] == value_mapping[\"am\"]], x=\"window_type\", hue=\"event_uuid\", palette=dict_colors_event, y=loco_statistic, size=8, ax=axs[1][2], legend=False)\n",
    "\n",
    "\n",
    "    sns.violinplot(\n",
    "        data=df_stats[df_stats[\"segment_type\"] == value_mapping[\"bl\"]],\n",
    "        x=\"window_type\", y=loco_statistic, \n",
    "        hue_order=[True, False], split=True,\n",
    "        hue=True,\n",
    "        palette=[\"lightgrey\"],\n",
    "        ax=axs[1][0]\n",
    "    )\n",
    "    axs[1][0].legend_=None\n",
    "\n",
    "    sns.violinplot(\n",
    "        data=df_stats[df_stats[\"segment_type\"] == value_mapping[\"sz\"]],\n",
    "        x=\"window_type\", y=loco_statistic, \n",
    "        hue_order=[True, False], split=True,\n",
    "        hue=True,\n",
    "        palette=[\"lightgrey\"],\n",
    "        ax=axs[1][1]\n",
    "    )\n",
    "    axs[1][1].legend_=None\n",
    "\n",
    "    sns.violinplot(\n",
    "        data=df_stats[df_stats[\"segment_type\"] == value_mapping[\"am\"]],\n",
    "        x=\"window_type\", y=loco_statistic, \n",
    "        hue_order=[True, False], split=True,\n",
    "        hue=True,\n",
    "        palette=[\"lightgrey\"],\n",
    "        ax=axs[1][2]\n",
    "    )\n",
    "    axs[1][2].legend_=None\n",
    "\n",
    "\n",
    "    axs[1][0].set_title(value_mapping[\"bl\"])\n",
    "    axs[1][1].set_title(value_mapping[\"sz\"])\n",
    "    axs[1][2].set_title(value_mapping[\"am\"])\n",
    "\n",
    "\n",
    "    #axs[1][0].set_alpha(0.5)\n",
    "    # found violin plot surfaces by trial and error below, for making them transparent:\n",
    "    plt.setp(axs[1][0].collections[-2], alpha=.3)\n",
    "    plt.setp(axs[1][0].collections[-4], alpha=.3)\n",
    "    plt.setp(axs[1][1].collections[-2], alpha=.3)\n",
    "    plt.setp(axs[1][1].collections[-4], alpha=.3)\n",
    "    plt.setp(axs[1][2].collections[-2], alpha=.3)\n",
    "    plt.setp(axs[1][2].collections[-4], alpha=.3)\n",
    "\n",
    "    plt.tight_layout()\n",
    "\n",
    "    if save_figs and False:\n",
    "        fig_fpath = os.path.join(output_folder, f'loco_per_segment_{get_datetime_for_fname()}_{file_format}')\n",
    "        plt.savefig(fig_fpath, format=file_format.split(\".\")[-1])\n",
    "        print(f\"Saved to {fig_fpath}\")\n",
    "\n",
    "\n",
    "\n",
    "    plt.show()"
   ]
  },
  {
   "cell_type": "markdown",
   "id": "e16e11b8",
   "metadata": {},
   "source": [
    "## Plot individual recordings, color-coded by mouse ID"
   ]
  },
  {
   "cell_type": "markdown",
   "id": "cb66560d",
   "metadata": {},
   "source": [
    "### Plot all possible metrics"
   ]
  },
  {
   "cell_type": "code",
   "execution_count": null,
   "id": "1bf62480",
   "metadata": {},
   "outputs": [],
   "source": [
    "if not is_chr2:\n",
    "    df_stats_only_bl_am = df_stats[df_stats[\"segment_type\"].isin([value_mapping[\"bl\"], value_mapping[\"am\"]])]"
   ]
  },
  {
   "cell_type": "code",
   "execution_count": null,
   "id": "558a5d00",
   "metadata": {},
   "outputs": [],
   "source": [
    "if not is_chr2:\n",
    "    df_stats_only_bl_am[df_stats_only_bl_am[\"segment_type\"].isin([value_mapping[\"am\"]])]"
   ]
  },
  {
   "cell_type": "code",
   "execution_count": null,
   "id": "77733a7c",
   "metadata": {},
   "outputs": [],
   "source": [
    "if not is_chr2:\n",
    "    fig, axs = plt.subplots(2, 3, figsize=(22,16))\n",
    "    sns.lineplot(data=df_stats_only_bl_am, x=\"segment_type\", y=\"totdist_abs\", hue=\"event_uuid\", palette=dict_colors_event, estimator=None, ax=axs[0][0], marker=\"o\", markersize=20, legend=False)\n",
    "    sns.lineplot(data=df_stats_only_bl_am, x=\"segment_type\", y=\"running%\", hue=\"event_uuid\", palette=dict_colors_event, estimator=None, ax=axs[0][1], marker=\"o\", markersize=20, legend=False)\n",
    "    sns.lineplot(data=df_stats_only_bl_am, x=\"segment_type\", y=\"speed\", hue=\"event_uuid\", palette=dict_colors_event, estimator=None, ax=axs[0][2], marker=\"o\", markersize=20, legend=False)\n",
    "    sns.lineplot(data=df_stats_only_bl_am, x=\"segment_type\", y=\"running_episodes\", hue=\"event_uuid\", palette=dict_colors_event, estimator=None, ax=axs[1][0], marker=\"o\", markersize=20, legend=False)\n",
    "    sns.lineplot(data=df_stats_only_bl_am, x=\"segment_type\", y=\"avg_speed\", hue=\"event_uuid\", palette=dict_colors_event, estimator=None, ax=axs[1][1], marker=\"o\", markersize=20, legend=False)\n",
    "    sns.lineplot(data=df_stats_only_bl_am, x=\"segment_type\", y=\"running_episodes_mean_length\", hue=\"event_uuid\", palette=dict_colors_event, estimator=None, ax=axs[1][2], marker=\"o\", markersize=20, legend=False)\n",
    "\n",
    "\n",
    "    plt.tight_layout()\n",
    "\n",
    "    if save_figs and False:\n",
    "        fig_fpath = os.path.join(output_folder, f'loco_per_segment_tmev_all_sources_sz_excluded_{get_datetime_for_fname()}_{file_format}')\n",
    "        plt.savefig(fig_fpath, format=file_format.split(\".\")[-1])\n",
    "        print(f\"Saved to {fig_fpath}\")\n",
    "    plt.show()"
   ]
  },
  {
   "cell_type": "code",
   "execution_count": null,
   "id": "ff79683c",
   "metadata": {},
   "outputs": [],
   "source": [
    "if not is_chr2:\n",
    "    fig, axs = plt.subplots(2, 3, figsize=(22,16))\n",
    "    sns.lineplot(data=df_stats_only_bl_am, x=\"segment_type\", y=\"totdist_abs\", hue=\"event_uuid\", palette=dict_colors_event, estimator=None, ax=axs[0][0],  linestyle=\"-\", marker=\"o\", markersize=13, linewidth=1, legend=False)\n",
    "    sns.despine(left=True, bottom=True, top=True, right=True)\n",
    "    axs[0][0].set(xlabel='Segment', ylabel='Total (absolute) distance, a.u.')\n",
    "\n",
    "    sns.lineplot(data=df_stats_only_bl_am, x=\"segment_type\", y=\"running%\", hue=\"event_uuid\", palette=dict_colors_event, estimator=None, ax=axs[0][1],  linestyle=\"-\", marker=\"o\", markersize=13, linewidth=1,  legend=False)\n",
    "    axs[0][1].set(xlabel='Segment', ylabel='% of time spent with locomotion')\n",
    "\n",
    "    sns.lineplot(data=df_stats_only_bl_am, x=\"segment_type\", y=\"running_episodes\", hue=\"event_uuid\", palette=dict_colors_event, estimator=None, ax=axs[0][2],  linestyle=\"-\", marker=\"o\", markersize=13, linewidth=1,  legend=False)\n",
    "    axs[0][2].set(xlabel='Segment', ylabel='Number of running episodes')\n",
    "\n",
    "    sns.lineplot(data=df_stats_only_bl_am, x=\"segment_type\", y=\"avg_speed\", hue=\"event_uuid\", palette=dict_colors_event, estimator=None, ax=axs[1][0],  linestyle=\"-\", marker=\"o\", markersize=13, linewidth=1,  legend=False)\n",
    "    axs[1][0].set(xlabel='Segment', ylabel='Average of locomotion velocity')\n",
    "\n",
    "    sns.lineplot(data=df_stats_only_bl_am, x=\"segment_type\", y=\"speed\", hue=\"event_uuid\", palette=dict_colors_event, estimator=None, ax=axs[1][1],  linestyle=\"-\", marker=\"o\", markersize=13, linewidth=1,  legend=False)\n",
    "    axs[1][1].set(xlabel='Segment', ylabel='Integrated velocity, a.u.')\n",
    "\n",
    "    sns.lineplot(data=df_stats_only_bl_am, x=\"segment_type\", y=\"running_episodes_mean_length\", hue=\"event_uuid\", palette=dict_colors_event, estimator=None, ax=axs[1][2],  linestyle=\"-\", marker=\"o\", markersize=13, linewidth=1,  legend=False)\n",
    "    axs[1][2].set(xlabel='Segment', ylabel='Mean length of running episodes (a.u.)')\n",
    "    \n",
    "\n",
    "    plt.tight_layout()\n",
    "\n",
    "    if save_figs:\n",
    "        fig_fpath = os.path.join(output_folder, f'loco_per_segment_tmev_all_sources_sz_excluded_{get_datetime_for_fname()}_{file_format}')\n",
    "        plt.savefig(fig_fpath, format=file_format.split(\".\")[-1])\n",
    "        print(f\"Saved to {fig_fpath}\")\n",
    "    plt.show()"
   ]
  },
  {
   "cell_type": "markdown",
   "id": "fd1e2b06",
   "metadata": {},
   "source": [
    "### Plot 3 metrics along with individual points, violin plot"
   ]
  },
  {
   "cell_type": "code",
   "execution_count": null,
   "id": "c6b63a24",
   "metadata": {},
   "outputs": [],
   "source": [
    "if not is_chr2:\n",
    "    loco_statistic = \"totdist_abs\"\n",
    "\n",
    "    fig, axs = plt.subplots(2, 3, figsize=(22,12))\n",
    "    sns.lineplot(data=df_stats_only_bl_am, x=\"segment_type\", y=loco_statistic, hue=\"event_uuid\", palette=dict_colors_event, estimator=None, ax=axs[0][0], legend=False)\n",
    "    sns.lineplot(data=df_stats_only_bl_am, x=\"segment_type\", y=\"running\", hue=\"event_uuid\", palette=dict_colors_event, estimator=None, ax=axs[0][1], legend=False)\n",
    "    sns.lineplot(data=df_stats_only_bl_am, x=\"segment_type\", y=\"speed\", hue=\"event_uuid\", palette=dict_colors_event, estimator=None, ax=axs[0][2], legend=False)\n",
    "\n",
    "\n",
    "    sns.stripplot(data=df_stats_only_bl_am, x=\"window_type\", y=loco_statistic, hue=\"event_uuid\", palette=dict_colors_event, size=8, ax=axs[1][0], legend=False)\n",
    "    sns.stripplot(data=df_stats_only_bl_am, x=\"window_type\", y=loco_statistic, hue=\"event_uuid\", palette=dict_colors_event, size=8, ax=axs[1][1], legend=False)\n",
    "    sns.stripplot(data=df_stats_only_bl_am, x=\"window_type\", y=loco_statistic, hue=\"event_uuid\", palette=dict_colors_event, size=8, ax=axs[1][2], legend=False)\n",
    "\n",
    "\n",
    "    sns.violinplot(\n",
    "        data=df_stats[df_stats[\"segment_type\"] == value_mapping[\"bl\"]],\n",
    "        x=\"window_type\", y=loco_statistic, \n",
    "        hue_order=[True, False], split=True,\n",
    "        hue=True,\n",
    "        palette=[\"lightgrey\"],\n",
    "        ax=axs[1][0]\n",
    "    )\n",
    "    axs[1][0].legend_=None\n",
    "\n",
    "    sns.violinplot(\n",
    "        data=df_stats[df_stats[\"segment_type\"] == value_mapping[\"sz\"]],\n",
    "        x=\"window_type\", y=loco_statistic, \n",
    "        hue_order=[True, False], split=True,\n",
    "        hue=True,\n",
    "        palette=[\"lightgrey\"],\n",
    "        ax=axs[1][1]\n",
    "    )\n",
    "    axs[1][1].legend_=None\n",
    "\n",
    "    sns.violinplot(\n",
    "        data=df_stats[df_stats[\"segment_type\"] == value_mapping[\"am\"]],\n",
    "        x=\"window_type\", y=loco_statistic, \n",
    "        hue_order=[True, False], split=True,\n",
    "        hue=True,\n",
    "        palette=[\"lightgrey\"],\n",
    "        ax=axs[1][2]\n",
    "    )\n",
    "    axs[1][2].legend_=None\n",
    "\n",
    "    #axs[1][0].set_alpha(0.5)\n",
    "    # found violin plot surfaces by trial and error below, for making them transparent:\n",
    "    #plt.setp(axs[1][0].collections[-2], alpha=.3)\n",
    "    #plt.setp(axs[1][0].collections[-4], alpha=.3)\n",
    "    #plt.setp(axs[1][1].collections[-2], alpha=.3)\n",
    "    #plt.setp(axs[1][1].collections[-4], alpha=.3)\n",
    "    #plt.setp(axs[1][2].collections[-2], alpha=.3)\n",
    "    #plt.setp(axs[1][2].collections[-4], alpha=.3)\n",
    "\n",
    "\n",
    "    axs[1][0].set_title(\"baseline\")\n",
    "    axs[1][1].set_title(\"seizure\")\n",
    "    axs[1][2].set_title(\"aftermath\")\n",
    "\n",
    "    plt.tight_layout()\n",
    "\n",
    "    if save_figs and False:\n",
    "        fig_fpath = os.path.join(output_folder, f'loco_per_segment_sz-excluded_{get_datetime_for_fname()}_{file_format}')\n",
    "        plt.savefig(fig_fpath, format=file_format.split(\".\")[-1])\n",
    "        print(f\"Saved to {fig_fpath}\")\n",
    "    plt.show()"
   ]
  },
  {
   "cell_type": "markdown",
   "id": "cef55809",
   "metadata": {},
   "source": [
    "## Aggregate by mouse\n",
    "estimator='mean', errorbar=('ci', 95) are the default statistics"
   ]
  },
  {
   "cell_type": "code",
   "execution_count": null,
   "id": "ec06cc17",
   "metadata": {},
   "outputs": [],
   "source": [
    "if not is_chr2:\n",
    "    df_stats_per_mouse_mean[\"segment_type\"] = df_stats_per_mouse_mean[\"segment_type\"].apply(lambda x: value_mapping[x])"
   ]
  },
  {
   "cell_type": "code",
   "execution_count": null,
   "id": "cf1354c9",
   "metadata": {},
   "outputs": [],
   "source": [
    "if not is_chr2:\n",
    "    df_stats_per_mouse_mean_only_bl_am = df_stats_per_mouse_mean[df_stats_per_mouse_mean[\"segment_type\"].isin([value_mapping[\"bl\"], value_mapping[\"am\"]])]"
   ]
  },
  {
   "cell_type": "code",
   "execution_count": null,
   "id": "6af4b45b",
   "metadata": {},
   "outputs": [],
   "source": [
    "if not is_chr2:\n",
    "    df_stats_per_mouse_mean_only_bl_am = df_stats_per_mouse_mean_only_bl_am.sort_values(by=[\"mouse_id\", \"exp_type\", \"segment_type\"])"
   ]
  },
  {
   "cell_type": "code",
   "execution_count": null,
   "id": "c6740f78",
   "metadata": {},
   "outputs": [],
   "source": [
    "if not is_chr2:\n",
    "    n_exp_types = len( df_stats_per_mouse_mean.exp_type.unique())\n",
    "    fig, axs = plt.subplots(n_exp_types, 4, figsize=(26,8*n_exp_types))\n",
    "    for i_exp_type, exp_type in enumerate(df_stats_per_mouse_mean_only_bl_am.exp_type.unique()):\n",
    "        df_exp_type = df_stats_per_mouse_mean_only_bl_am[(df_stats_per_mouse_mean_only_bl_am[\"exp_type\"] == exp_type)]\n",
    "        #print(len(df_exp_type.mouse_id.unique()))\n",
    "        if n_exp_types > 1:\n",
    "            axs[i_exp_type][0].set_title(f\"{exp_type}\")\n",
    "            axs[i_exp_type][1].set_title(f\"{exp_type}\")\n",
    "            axs[i_exp_type][2].set_title(f\"{exp_type}\")\n",
    "            axs[i_exp_type][3].set_title(f\"{exp_type}\")\n",
    "\n",
    "            sns.lineplot(data=df_exp_type, x=\"segment_type\", y=\"totdist_abs_norm\", hue=\"mouse_id\", palette=dict_colors_mouse, estimator=None, ax=axs[i_exp_type][0], marker=\"o\", markersize=20, legend=False)\n",
    "            sns.lineplot(data=df_exp_type, x=\"segment_type\", y=\"running%\", hue=\"mouse_id\", palette=dict_colors_mouse, estimator=None, ax=axs[i_exp_type][1], marker=\"o\", markersize=20, legend=False)\n",
    "            sns.lineplot(data=df_exp_type, x=\"segment_type\", y=\"running_episodes\", hue=\"mouse_id\", palette=dict_colors_mouse, estimator=None, ax=axs[i_exp_type][2], marker=\"o\", markersize=20, legend=False)\n",
    "            sns.lineplot(data=df_exp_type, x=\"segment_type\", y=\"avg_speed\", hue=\"mouse_id\", palette=dict_colors_mouse, estimator=None, ax=axs[i_exp_type][3], marker=\"o\", markersize=20, legend=False)\n",
    "        else:\n",
    "            axs[0].set_title(f\"{exp_type}\")\n",
    "            axs[1].set_title(f\"{exp_type}\")\n",
    "            axs[2].set_title(f\"{exp_type}\")\n",
    "            axs[3].set_title(f\"{exp_type}\")\n",
    "\n",
    "            sns.lineplot(data=df_exp_type, x=\"segment_type\", y=\"totdist_abs_norm\", hue=\"mouse_id\", palette=dict_colors_mouse, estimator=None, ax=axs[0], marker=\"o\", markersize=20, legend=False)\n",
    "            sns.lineplot(data=df_exp_type, x=\"segment_type\", y=\"running%\", hue=\"mouse_id\", palette=dict_colors_mouse, estimator=None, ax=axs[1], marker=\"o\", markersize=20, legend=False)\n",
    "            sns.lineplot(data=df_exp_type, x=\"segment_type\", y=\"running_episodes\", hue=\"mouse_id\", palette=dict_colors_mouse, estimator=None, ax=axs[2], marker=\"o\", markersize=20, legend=False)\n",
    "            sns.lineplot(data=df_exp_type, x=\"segment_type\", y=\"avg_speed\", hue=\"mouse_id\", palette=dict_colors_mouse, estimator=None, ax=axs[3], marker=\"o\", markersize=20, legend=False)\n",
    "\n",
    "    plt.tight_layout()\n",
    "\n",
    "    if save_figs:\n",
    "        fig_fpath = os.path.join(output_folder, f'loco_per_segment_tmev_ca1_mouse_means_{get_datetime_for_fname()}_{file_format}')\n",
    "        plt.savefig(fig_fpath, format=file_format.split(\".\")[-1])\n",
    "        print(f\"Saved to {fig_fpath}\")\n",
    "    plt.show()"
   ]
  },
  {
   "cell_type": "code",
   "execution_count": null,
   "id": "43b9fceb",
   "metadata": {},
   "outputs": [],
   "source": [
    "if not is_chr2:\n",
    "    loco_statistic = \"totdist_abs\"\n",
    "\n",
    "    fig, axs = plt.subplots(2, 3, figsize=(22,12))\n",
    "    sns.lineplot(data=df_stats_only_bl_am, x=\"segment_type\", y=loco_statistic, hue=\"mouse_id\", palette=dict_colors_mouse,  ax=axs[0][0], legend=False)\n",
    "    sns.lineplot(data=df_stats_only_bl_am, x=\"segment_type\", y=\"running\", hue=\"mouse_id\", palette=dict_colors_mouse, ax=axs[0][1], legend=False)\n",
    "    sns.lineplot(data=df_stats_only_bl_am, x=\"segment_type\", y=\"speed\", hue=\"mouse_id\", palette=dict_colors_mouse,  ax=axs[0][2], legend=False)\n",
    "\n",
    "\n",
    "    sns.stripplot(data=df_stats_only_bl_am, x=\"window_type\", y=loco_statistic, hue=\"event_uuid\", palette=dict_colors_event, size=8, ax=axs[1][0], legend=False)\n",
    "    sns.stripplot(data=df_stats_only_bl_am, x=\"window_type\", y=loco_statistic, hue=\"event_uuid\", palette=dict_colors_event, size=8, ax=axs[1][1], legend=False)\n",
    "    sns.stripplot(data=df_stats_only_bl_am, x=\"window_type\", y=loco_statistic, hue=\"event_uuid\", palette=dict_colors_event, size=8, ax=axs[1][2], legend=False)\n",
    "\n",
    "\n",
    "    sns.violinplot(\n",
    "        data=df_stats[df_stats[\"segment_type\"] == value_mapping[\"bl\"]],\n",
    "        x=\"window_type\", y=loco_statistic, \n",
    "        hue_order=[True, False], split=True,\n",
    "        hue=True,\n",
    "        palette=[\"lightgrey\"],\n",
    "        ax=axs[1][0]\n",
    "    )\n",
    "    axs[1][0].legend_=None\n",
    "\n",
    "    sns.violinplot(\n",
    "        data=df_stats[df_stats[\"segment_type\"] == value_mapping[\"sz\"]],\n",
    "        x=\"window_type\", y=loco_statistic, \n",
    "        hue_order=[True, False], split=True,\n",
    "        hue=True,\n",
    "        palette=[\"lightgrey\"],\n",
    "        ax=axs[1][1]\n",
    "    )\n",
    "    axs[1][1].legend_=None\n",
    "\n",
    "    sns.violinplot(\n",
    "        data=df_stats[df_stats[\"segment_type\"] == value_mapping[\"am\"]],\n",
    "        x=\"window_type\", y=loco_statistic, \n",
    "        hue_order=[True, False], split=True,\n",
    "        hue=True,\n",
    "        palette=[\"lightgrey\"],\n",
    "        ax=axs[1][2]\n",
    "    )\n",
    "    axs[1][2].legend_=None\n",
    "\n",
    "    #axs[1][0].set_alpha(0.5)\n",
    "    # found violin plot surfaces by trial and error below, for making them transparent:\n",
    "    plt.setp(axs[1][0].collections[-2], alpha=.3)\n",
    "    plt.setp(axs[1][0].collections[-4], alpha=.3)\n",
    "    plt.setp(axs[1][1].collections[-2], alpha=.3)\n",
    "    plt.setp(axs[1][1].collections[-4], alpha=.3)\n",
    "    plt.setp(axs[1][2].collections[-2], alpha=.3)\n",
    "    plt.setp(axs[1][2].collections[-4], alpha=.3)\n",
    "\n",
    "    axs[1][0].set_title(value_mapping[\"bl\"])\n",
    "    axs[1][1].set_title(value_mapping[\"sz\"])\n",
    "    axs[1][2].set_title(value_mapping[\"am\"])\n",
    "\n",
    "    plt.tight_layout()\n",
    "\n",
    "\n",
    "    if save_figs and False:\n",
    "        fig_fpath = os.path.join(output_folder, f'loco_per_segment_sz-excluded_mean_95ci_{get_datetime_for_fname()}_{file_format}')\n",
    "        plt.savefig(fig_fpath, format=file_format.split(\".\")[-1])\n",
    "        print(f\"Saved to {fig_fpath}\")\n",
    "    plt.show()"
   ]
  },
  {
   "cell_type": "markdown",
   "id": "2376e760",
   "metadata": {},
   "source": [
    "## Plot results with illustrative example of data in top row"
   ]
  },
  {
   "cell_type": "code",
   "execution_count": null,
   "id": "820b36ab",
   "metadata": {},
   "outputs": [],
   "source": [
    "if not is_chr2:\n",
    "    fig, axs = plt.subplots(2, 3, figsize=(22,14))\n",
    "    dset_example = traces_dict[\"d158cd12ad77489a827dab1173a933f9\"]\n",
    "\n",
    "    # first row for examples\n",
    "\n",
    "    axs[0][0].plot(dset_example[\"lv_t_s\"], dset_example[\"lv_totdist\"])\n",
    "    axs[0][1].plot(dset_example[\"lv_t_s\"], dset_example[\"lv_running\"])\n",
    "    axs[0][2].plot(dset_example[\"lv_t_s\"], dset_example[\"lv_speed\"])\n",
    "\n",
    "    axs[0][2].set_ylim((-0.2, 0.7))\n",
    "    axs[0][0].set_ylim((0, 1400))\n",
    "\n",
    "    axs[0][0].set_xlim((350, 450))\n",
    "    axs[0][1].set_xlim((350, 450))\n",
    "    axs[0][2].set_xlim((350, 450))\n",
    "\n",
    "    axs[0][0].set_ylabel(\"Total distance (a.u.)\", fontsize=22)\n",
    "    axs[0][1].set_ylabel(\"Running? (binary)\", fontsize=22)\n",
    "    axs[0][2].set_ylabel(\"Velocity (a.u.)\", fontsize=22)\n",
    "\n",
    "\n",
    "    axs[0][1].set_xlabel(\"Time (s)\", fontsize=22)\n",
    "\n",
    "    # second row for statistics\n",
    "    sns.lineplot(data=df_stats_only_bl_am, x=\"segment_type\", y=loco_statistic, hue=\"mouse_id\", palette=dict_colors_mouse, ax=axs[1][0], legend=False)\n",
    "    sns.lineplot(data=df_stats_only_bl_am, x=\"segment_type\", y=\"running\", hue=\"mouse_id\", palette=dict_colors_mouse, ax=axs[1][1], legend=False)\n",
    "    sns.lineplot(data=df_stats_only_bl_am, x=\"segment_type\", y=\"speed\", hue=\"mouse_id\", palette=dict_colors_mouse, ax=axs[1][2], legend=False)\n",
    "\n",
    "\n",
    "    plt.tight_layout()\n",
    "    #plt.savefig(\"D:\\\\Downloads\\\\locomotion_figure.jpg\")\n",
    "    plt.show()"
   ]
  },
  {
   "cell_type": "code",
   "execution_count": null,
   "id": "3986e955",
   "metadata": {},
   "outputs": [],
   "source": [
    "if not is_chr2:\n",
    "    df_stats2 = df_stats.copy()"
   ]
  },
  {
   "cell_type": "code",
   "execution_count": null,
   "id": "fedd36be",
   "metadata": {},
   "outputs": [],
   "source": [
    "if not is_chr2:\n",
    "    df_stats2[\"segment_type\"] = df_stats2[\"segment_type\"].replace(value_mapping)"
   ]
  },
  {
   "cell_type": "code",
   "execution_count": null,
   "id": "75574343",
   "metadata": {},
   "outputs": [],
   "source": [
    "if not is_chr2:\n",
    "    df_stats2_only_bl_am = df_stats2[df_stats2[\"segment_type\"].isin([value_mapping[\"bl\"], value_mapping[\"am\"]])]"
   ]
  },
  {
   "cell_type": "code",
   "execution_count": null,
   "id": "7f42dc53",
   "metadata": {},
   "outputs": [],
   "source": [
    "if not is_chr2:\n",
    "    loco_statistic = \"totdist_abs\"\n",
    "    sns.set_style(\"whitegrid\")\n",
    "    fig, axs = plt.subplots(2, 3, figsize=(22,12))\n",
    "\n",
    "\n",
    "    sns.lineplot(data=df_stats2_only_bl_am, x=\"segment_type\", y=loco_statistic, hue=\"event_uuid\", palette=dict_colors_event, estimator=None, ax=axs[0][0], linestyle=\"-\", marker=\"o\", markersize=13, linewidth=1, legend=False)\n",
    "    sns.despine(left=True, bottom=True, top=True, right=True)\n",
    "    axs[0][0].set(xlabel='Segment', ylabel='Total (absolute) distance, a.u.')\n",
    "\n",
    "    sns.lineplot(data=df_stats2_only_bl_am, x=\"segment_type\", y=\"running\", hue=\"event_uuid\", palette=dict_colors_event, estimator=None, ax=axs[0][1], linestyle=\"-\", marker=\"o\", markersize=13,linewidth=1, legend=False)\n",
    "    sns.despine(left=True, bottom=True, top=True, right=True)\n",
    "\n",
    "\n",
    "    sns.lineplot(data=df_stats2_only_bl_am, x=\"segment_type\", y=\"speed\", hue=\"event_uuid\", palette=dict_colors_event, estimator=None, ax=axs[0][2], linestyle=\"-\", marker=\"o\", markersize=13,linewidth=1, legend=False)\n",
    "    sns.despine(left=True, bottom=True, top=True, right=True)\n",
    "\n",
    "\n",
    "    sns.stripplot(data=df_stats2_only_bl_am, x=\"segment_type\", y=loco_statistic, hue=\"event_uuid\", palette=dict_colors_event, size=8, ax=axs[1][0], legend=False)\n",
    "    sns.stripplot(data=df_stats2_only_bl_am, x=\"segment_type\", y=\"running\", hue=\"event_uuid\", palette=dict_colors_event, size=8, ax=axs[1][1], legend=False)\n",
    "    sns.stripplot(data=df_stats2_only_bl_am, x=\"segment_type\", y=\"speed\",  hue=\"event_uuid\", palette=dict_colors_event, size=8, ax=axs[1][2], legend=False)\n",
    "\n",
    "    sns.violinplot(\n",
    "        data=df_stats2_only_bl_am, x=\"segment_type\", y=loco_statistic,\n",
    "        hue_order=[True, False], split=True,\n",
    "        hue=True,\n",
    "        palette=[\"lightgrey\"],\n",
    "        ax=axs[1][0]\n",
    "    )\n",
    "    axs[1][0].legend_=None\n",
    "\n",
    "    sns.violinplot(\n",
    "        data=df_stats2_only_bl_am, x=\"segment_type\", y=\"running\",\n",
    "        hue_order=[True, False], split=True,\n",
    "        hue=True,\n",
    "        palette=[\"lightgrey\"],\n",
    "        ax=axs[1][1]\n",
    "    )\n",
    "    axs[1][1].legend_=None\n",
    "\n",
    "    sns.violinplot(\n",
    "        data=df_stats2_only_bl_am, x=\"segment_type\", y=\"speed\", \n",
    "        hue_order=[True, False], split=True,\n",
    "        hue=True,\n",
    "        palette=[\"lightgrey\"],\n",
    "        ax=axs[1][2]\n",
    "    )\n",
    "    axs[1][2].legend_=None\n",
    "\n",
    "    #axs[1][0].set_alpha(0.5)\n",
    "    # found violin plot surfaces by trial and error below, for making them transparent:\n",
    "    #plt.setp(axs[1][0].collections[-2], alpha=.3)\n",
    "    #plt.setp(axs[1][0].collections[-4], alpha=.3)\n",
    "    #plt.setp(axs[1][1].collections[-2], alpha=.3)\n",
    "    #plt.setp(axs[1][1].collections[-4], alpha=.3)\n",
    "    #plt.setp(axs[1][2].collections[-2], alpha=.3)\n",
    "    #plt.setp(axs[1][2].collections[-4], alpha=.3)\n",
    "\n",
    "\n",
    "\n",
    "    plt.tight_layout()\n",
    "\n",
    "    if save_figs and False:\n",
    "        fig_fpath = os.path.join(output_folder, f'loco_per_segment_sz-excluded_line_and_violin_{get_datetime_for_fname()}_{file_format}')\n",
    "        plt.savefig(fig_fpath, format=file_format.split(\".\")[-1])\n",
    "        print(f\"Saved to {fig_fpath}\")\n",
    "    plt.show()"
   ]
  },
  {
   "cell_type": "code",
   "execution_count": null,
   "id": "4b2d063c",
   "metadata": {},
   "outputs": [],
   "source": [
    "if not is_chr2:\n",
    "    def get_y(metric=\"totdist_abs\"):\n",
    "        # return [[event_uuid, bl_uuid1, am_uuid1], ...] doublets of the chosen metric\n",
    "        return [ [uuid, g[g[\"segment_type\"] == \"bl\"].totdist_abs.iloc[0], g[g[\"segment_type\"] == \"am\"].totdist_abs.iloc[0]] for uuid, g in df_stats[df_stats[\"segment_type\"].isin([\"bl\", \"am\"])].groupby(\"event_uuid\") ]\n",
    "\n",
    "    y_totdist_abs = get_y(\"totdist_abs\")\n",
    "    y_running = get_y(\"running\")\n",
    "    y_speed = get_y(\"speed\")\n",
    "    #x = df_stats[df_stats[\"segment_type\"].isin([\"bl\", \"am\"])][\"segment_type\"]\n",
    "    x = [0, 1]\n",
    "\n",
    "\n",
    "    fig, axs = plt.subplots(2, 3, figsize=(22,12))\n",
    "\n",
    "    for i in range(len(y_totdist_abs)):\n",
    "        c = df_stats[df_stats[\"event_uuid\"] == y_totdist_abs[i][0]].color.iloc[0]\n",
    "        axs[0][0].plot(x, y_totdist_abs[i][1:], \"o-\", color=c,)\n",
    "        axs[0][1].plot(x, y_running[i][1:], \"o-\", color=c)\n",
    "        axs[0][2].plot(x, y_speed[i][1:], \"o-\", color=c)\n",
    "\n",
    "\n",
    "\n",
    "    sns.stripplot(data=df_stats_only_bl_am, x=\"segment_type\", y=loco_statistic, hue=\"event_uuid\", palette=dict_colors_event, size=8, ax=axs[1][0], legend=False)\n",
    "    sns.stripplot(data=df_stats_only_bl_am, x=\"segment_type\", y=\"running\", hue=\"event_uuid\", palette=dict_colors_event, size=8, ax=axs[1][1], legend=False)\n",
    "    sns.stripplot(data=df_stats_only_bl_am, x=\"segment_type\", y=\"speed\",  hue=\"event_uuid\", palette=dict_colors_event, size=8, ax=axs[1][2], legend=False)\n",
    "\n",
    "    sns.violinplot(\n",
    "        data=df_stats_only_bl_am, x=\"segment_type\", y=loco_statistic,\n",
    "        hue_order=[True, False], split=True,\n",
    "        hue=True,\n",
    "        palette=[\"lightgrey\"],\n",
    "        ax=axs[1][0]\n",
    "    )\n",
    "    axs[1][0].legend_=None\n",
    "\n",
    "    sns.violinplot(\n",
    "        data=df_stats_only_bl_am, x=\"segment_type\", y=\"running\",\n",
    "        hue_order=[True, False], split=True,\n",
    "        hue=True,\n",
    "        palette=[\"lightgrey\"],\n",
    "        ax=axs[1][1]\n",
    "    )\n",
    "    axs[1][1].legend_=None\n",
    "\n",
    "    sns.violinplot(\n",
    "        data=df_stats_only_bl_am, x=\"segment_type\", y=\"speed\", \n",
    "        hue_order=[True, False], split=True,\n",
    "        hue=True,\n",
    "        palette=[\"lightgrey\"],\n",
    "        ax=axs[1][2]\n",
    "    )\n",
    "    axs[1][2].legend_=None\n",
    "\n",
    "    #axs[1][0].set_alpha(0.5)\n",
    "    # found violin plot surfaces by trial and error below, for making them transparent:\n",
    "    #plt.setp(axs[1][0].collections[-2], alpha=.3)\n",
    "    #plt.setp(axs[1][0].collections[-4], alpha=.3)\n",
    "    #plt.setp(axs[1][1].collections[-2], alpha=.3)\n",
    "    #plt.setp(axs[1][1].collections[-4], alpha=.3)\n",
    "    #plt.setp(axs[1][2].collections[-2], alpha=.3)\n",
    "    #plt.setp(axs[1][2].collections[-4], alpha=.3)\n",
    "\n",
    "\n",
    "\n",
    "    plt.tight_layout()\n",
    "\n",
    "    if save_figs and False:\n",
    "        fig_fpath = os.path.join(output_folder, f'loco_per_segment_sz-excluded_line_and_violin_{get_datetime_for_fname()}_{file_format}')\n",
    "        plt.savefig(fig_fpath, format=file_format.split(\".\")[-1])\n",
    "        print(f\"Saved to {fig_fpath}\")\n",
    "    plt.show()"
   ]
  },
  {
   "cell_type": "markdown",
   "id": "c58cca5d",
   "metadata": {},
   "source": [
    "# Statistical testing"
   ]
  },
  {
   "cell_type": "markdown",
   "id": "34f1ccc3",
   "metadata": {},
   "source": [
    "## Given two pairwise matched populations (bl and am), test significance of difference between means."
   ]
  },
  {
   "cell_type": "markdown",
   "id": "e4ebd1fe",
   "metadata": {},
   "source": [
    "### Paired t-test (Gopal K. Kanji - 100 statistical tests: Test 10, page 35, 44/257)\n",
    "As the distributions are not necessarily normally distributed, in first round, this is an approximation. Alternative is Wilcoxon signed-rank test"
   ]
  },
  {
   "cell_type": "code",
   "execution_count": null,
   "id": "5e440de1",
   "metadata": {},
   "outputs": [],
   "source": [
    "if not is_chr2:\n",
    "    from scipy.stats import ttest_rel"
   ]
  },
  {
   "cell_type": "code",
   "execution_count": null,
   "id": "7829f5c2",
   "metadata": {},
   "outputs": [],
   "source": [
    "if not is_chr2:\n",
    "    stat_data = df_stats[df_stats[\"segment_type\"].isin([value_mapping[\"bl\"], value_mapping[\"am\"]])]"
   ]
  },
  {
   "cell_type": "code",
   "execution_count": null,
   "id": "08ffd9d4",
   "metadata": {},
   "outputs": [],
   "source": [
    "if not is_chr2:\n",
    "    def paired_t_test(df, column_name=\"totdist_abs\", one_sided=False, greater_expected=\"am\", pair_by=\"event_uuid\"):\n",
    "        \"\"\"\n",
    "        pair_by: can be used to make mouse aggregate by pairing mouse_id\n",
    "        \"\"\"\n",
    "        am_vals = []\n",
    "        bl_vals = []\n",
    "        for i_g, g in df.groupby(pair_by):\n",
    "            assert (len(g[g[\"segment_type\"] == value_mapping[\"bl\"]]) == 1) and (len(g[g[\"segment_type\"] == value_mapping[\"am\"]] ) == 1)\n",
    "            bl_val = g[g[\"segment_type\"] == value_mapping[\"bl\"]][column_name].values\n",
    "            am_val = g[g[\"segment_type\"] == value_mapping[\"am\"]][column_name].values\n",
    "            am_vals.append(am_val[0])\n",
    "            bl_vals.append(bl_val[0])\n",
    "        am_vals = np.array(am_vals)\n",
    "        bl_vals = np.array(bl_vals)\n",
    "\n",
    "        if one_sided:\n",
    "            ttest_result = ttest_rel(am_vals, bl_vals)\n",
    "        else:\n",
    "            if greater_expected==\"am\":\n",
    "                ttest_result = ttest_rel(am_vals, bl_vals, alternative=\"greater\")  # first dataset (am) expected to be greater\n",
    "            elif greater_expected==\"bl\":\n",
    "                ttest_result = ttest_rel(am_vals, bl_vals, alternative=\"less\")  # second dataset (bl) expected to be greater\n",
    "            else:\n",
    "                raise Error(f\"paired_t_test(): invalid greater_expected value {greater_expected}\")\n",
    "        #print(ttest_result)\n",
    "        return ttest_result"
   ]
  },
  {
   "cell_type": "code",
   "execution_count": null,
   "id": "9a36a755",
   "metadata": {},
   "outputs": [],
   "source": [
    "if not is_chr2:\n",
    "    for statistic in STAT_METRICS:\n",
    "        print(statistic)\n",
    "        for exp_type, exp_g in stat_data.groupby(\"exp_type\"):\n",
    "            ttest_result = paired_t_test(exp_g, statistic)\n",
    "            print(f'\\t{exp_type}: {len(exp_g[exp_g[\"segment_type\"] == value_mapping[\"bl\"]])} pairs;\\n\\tstatistic={ttest_result.statistic}, p={ttest_result.pvalue}\\n')\n"
   ]
  },
  {
   "cell_type": "markdown",
   "id": "3362b9f0",
   "metadata": {},
   "source": [
    "### Mouse aggregate"
   ]
  },
  {
   "cell_type": "code",
   "execution_count": null,
   "id": "7de68bb0",
   "metadata": {},
   "outputs": [],
   "source": [
    "if not is_chr2:\n",
    "    stat_data_mouse_means = df_stats_per_mouse_mean[(df_stats_per_mouse_mean[\"segment_type\"].isin([value_mapping[\"bl\"], value_mapping[\"am\"]]))]"
   ]
  },
  {
   "cell_type": "code",
   "execution_count": null,
   "id": "67722108",
   "metadata": {},
   "outputs": [],
   "source": [
    "if not is_chr2:\n",
    "    for exp_type, exp_g in stat_data_mouse_means.groupby(\"exp_type\"):\n",
    "        for i_g, g in exp_g.groupby(\"mouse_id\"):\n",
    "            assert (len(g[g[\"segment_type\"] == value_mapping[\"bl\"]]) == 1) and (len(g[g[\"segment_type\"] == value_mapping[\"am\"]]) == 1)"
   ]
  },
  {
   "cell_type": "code",
   "execution_count": null,
   "id": "9d67e3d7",
   "metadata": {},
   "outputs": [],
   "source": [
    "if not is_chr2:\n",
    "    for statistic in STAT_METRICS:\n",
    "        print(statistic)\n",
    "        for exp_type, exp_g in stat_data_mouse_means.groupby(\"exp_type\"):\n",
    "            ttest_result = paired_t_test(exp_g, statistic, pair_by=\"mouse_id\")\n",
    "            print(f'\\t{exp_type}: {len(exp_g[exp_g[\"segment_type\"] == value_mapping[\"bl\"]])} pairs;\\n\\tstatistic={ttest_result.statistic}, p={ttest_result.pvalue}\\n')\n"
   ]
  },
  {
   "cell_type": "markdown",
   "id": "bfc650ae",
   "metadata": {},
   "source": [
    "# 2. ChR2 (bl - stim - (Sz) - am protocol)"
   ]
  },
  {
   "cell_type": "markdown",
   "id": "b355b092",
   "metadata": {},
   "source": [
    "### Rename bl -> baseline, am -> post-stimulation"
   ]
  },
  {
   "cell_type": "code",
   "execution_count": null,
   "id": "5ab4487f",
   "metadata": {},
   "outputs": [],
   "source": [
    "if is_chr2:\n",
    "    value_mapping = {\"bl\":\"baseline\", \"sz\": \"stimulation\", \"am\":\"post-stimulation\"}"
   ]
  },
  {
   "cell_type": "code",
   "execution_count": null,
   "id": "abfb8bb6",
   "metadata": {},
   "outputs": [],
   "source": [
    "if is_chr2:\n",
    "    df_stats[\"segment_type\"] = df_stats[\"segment_type\"].apply(lambda x: value_mapping[x])"
   ]
  },
  {
   "cell_type": "code",
   "execution_count": null,
   "id": "6268a832",
   "metadata": {},
   "outputs": [],
   "source": [
    "if is_chr2:\n",
    "    df_stats_only_bl_am = df_stats[df_stats[\"segment_type\"].isin([value_mapping[\"bl\"], value_mapping[\"am\"]])]"
   ]
  },
  {
   "cell_type": "code",
   "execution_count": null,
   "id": "50113efb",
   "metadata": {},
   "outputs": [],
   "source": [
    "df_stats.exp_type"
   ]
  },
  {
   "cell_type": "code",
   "execution_count": null,
   "id": "a34ea0be",
   "metadata": {},
   "outputs": [],
   "source": [
    "if is_chr2:\n",
    "    exp_types = df_stats.exp_type.unique()\n",
    "    exp_types.sort()"
   ]
  },
  {
   "cell_type": "markdown",
   "id": "74d96c0a",
   "metadata": {},
   "source": [
    "# Plot results"
   ]
  },
  {
   "cell_type": "code",
   "execution_count": null,
   "id": "f9b4c343",
   "metadata": {},
   "outputs": [],
   "source": [
    "if is_chr2:\n",
    "    fig, axs = plt.subplots(2, 3, figsize=(22,16))\n",
    "\n",
    "    sns.lineplot(data=df_stats_only_bl_am, x=\"segment_type\", y=\"totdist_abs\", hue=\"event_uuid\", palette=dict_colors_event, estimator=None, ax=axs[0][0], marker=\"o\", markersize=20, legend=False)\n",
    "    sns.lineplot(data=df_stats_only_bl_am, x=\"segment_type\", y=\"running\", hue=\"event_uuid\", palette=dict_colors_event, estimator=None, ax=axs[0][1], marker=\"o\", markersize=20, legend=False)\n",
    "    sns.lineplot(data=df_stats_only_bl_am, x=\"segment_type\", y=\"speed\", hue=\"event_uuid\", palette=dict_colors_event, estimator=None, ax=axs[0][2], marker=\"o\", markersize=20, legend=False)\n",
    "    sns.lineplot(data=df_stats_only_bl_am, x=\"segment_type\", y=\"running%\", hue=\"event_uuid\", palette=dict_colors_event, estimator=None, ax=axs[1][0], marker=\"o\", markersize=20, legend=False)\n",
    "    sns.lineplot(data=df_stats_only_bl_am, x=\"segment_type\", y=\"running_episodes\", hue=\"event_uuid\", palette=dict_colors_event, estimator=None, ax=axs[1][1], marker=\"o\", markersize=20, legend=False)\n",
    "    sns.lineplot(data=df_stats_only_bl_am, x=\"segment_type\", y=\"running_episodes_mean_length\", hue=\"event_uuid\", palette=dict_colors_event, estimator=None, ax=axs[1][2], marker=\"o\", markersize=20, legend=False)\n",
    "\n",
    "\n",
    "\n",
    "    plt.tight_layout()\n",
    "\n",
    "    if save_figs:  # do not save this one; need to separate by experiment type (ctl, sz, szsd...)\n",
    "        fig_fpath = os.path.join(output_folder, f'loco_per_segment_{get_datetime_for_fname()}_{file_format}')\n",
    "        plt.savefig(fig_fpath, format=file_format.split(\".\")[-1])\n",
    "        print(f\"Saved to {fig_fpath}\")\n",
    "    plt.show()"
   ]
  },
  {
   "cell_type": "markdown",
   "id": "154d7c67",
   "metadata": {},
   "source": [
    "### Plot each category"
   ]
  },
  {
   "cell_type": "markdown",
   "id": "401fac80",
   "metadata": {},
   "source": [
    "### Plot for CA1"
   ]
  },
  {
   "cell_type": "code",
   "execution_count": null,
   "id": "d8aaa02f",
   "metadata": {},
   "outputs": [],
   "source": [
    "if is_chr2:\n",
    "    df_stats_ca1 = df_stats[df_stats[\"window_type\"] == \"ca1\"]\n",
    "    n_exp_types = len( df_stats_ca1.exp_type.unique())\n",
    "    fig, axs = plt.subplots(n_exp_types, 6, figsize=(42,8*n_exp_types))\n",
    "    for i_exp_type, exp_type in enumerate(exp_types):#i_exp_type, exp_type in enumerate(df_stats_ca1.exp_type.unique()):\n",
    "        df_exp_type = df_stats_only_bl_am[(df_stats_only_bl_am[\"exp_type\"] == exp_type) & (df_stats_only_bl_am[\"window_type\"] == \"ca1\")]\n",
    "        #print(len(df_exp_type.mouse_id.unique()))\n",
    "        axs[i_exp_type][0].set_title(f\"{exp_type}\")\n",
    "        axs[i_exp_type][1].set_title(f\"{exp_type}\")\n",
    "        axs[i_exp_type][2].set_title(f\"{exp_type}\")\n",
    "        axs[i_exp_type][3].set_title(f\"{exp_type}\")\n",
    "        axs[i_exp_type][4].set_title(f\"{exp_type}\")\n",
    "        axs[i_exp_type][5].set_title(f\"{exp_type}\")\n",
    "\n",
    "\n",
    "        sns.lineplot(data=df_exp_type, x=\"segment_type\", y=\"totdist_abs_norm\", hue=\"event_uuid\", palette=dict_colors_event, estimator=None, ax=axs[i_exp_type][0], marker=\"o\", markersize=20, legend=False)\n",
    "        sns.lineplot(data=df_exp_type, x=\"segment_type\", y=\"running%\", hue=\"event_uuid\", palette=dict_colors_event, estimator=None, ax=axs[i_exp_type][1], marker=\"o\", markersize=20, legend=False)\n",
    "        sns.lineplot(data=df_exp_type, x=\"segment_type\", y=\"running_episodes\", hue=\"event_uuid\", palette=dict_colors_event, estimator=None, ax=axs[i_exp_type][2], marker=\"o\", markersize=20, legend=False)\n",
    "        sns.lineplot(data=df_exp_type, x=\"segment_type\", y=\"avg_speed\", hue=\"event_uuid\", palette=dict_colors_event, estimator=None, ax=axs[i_exp_type][3], marker=\"o\", markersize=20, legend=False)\n",
    "        sns.lineplot(data=df_exp_type, x=\"segment_type\", y=\"running_episodes_mean_length\", hue=\"event_uuid\", palette=dict_colors_event, estimator=None, ax=axs[i_exp_type][4], marker=\"o\", markersize=20, legend=False)\n",
    "        sns.lineplot(data=df_exp_type, x=\"segment_type\", y=\"max_speed\", hue=\"event_uuid\", palette=dict_colors_event, estimator=None, ax=axs[i_exp_type][5], marker=\"o\", markersize=20, legend=False)\n",
    "        \n",
    "\n",
    "    plt.tight_layout()\n",
    "\n",
    "    if save_figs:\n",
    "        fig_fpath = os.path.join(output_folder, f'loco_per_segment_chr2_ca1_{get_datetime_for_fname()}_{file_format}')\n",
    "        plt.savefig(fig_fpath, format=file_format.split(\".\")[-1])\n",
    "        print(f\"Saved to {fig_fpath}\")\n",
    "    plt.show()"
   ]
  },
  {
   "cell_type": "markdown",
   "id": "9e38f3fe",
   "metadata": {},
   "source": [
    "### Plot for NC"
   ]
  },
  {
   "cell_type": "code",
   "execution_count": null,
   "id": "b03708c8",
   "metadata": {},
   "outputs": [],
   "source": [
    "if is_chr2:\n",
    "    df_stats_nc = df_stats[df_stats[\"window_type\"] == \"cx\"]\n",
    "    if len(df_stats_nc) > 0:\n",
    "        n_exp_types = len(df_stats_nc.exp_type.unique())\n",
    "        fig, axs = plt.subplots(n_exp_types, 6, figsize=(42,8*n_exp_types))\n",
    "\n",
    "        for i_exp_type, exp_type in enumerate(exp_types):#enumerate(df_stats_nc.exp_type.unique()):\n",
    "            df_exp_type = df_stats_only_bl_am[(df_stats_only_bl_am[\"exp_type\"] == exp_type) & (df_stats_only_bl_am[\"window_type\"] == \"cx\")]\n",
    "            #print(len(df_exp_type.mouse_id.unique()))\n",
    "            axs[i_exp_type][0].set_title(f\"{exp_type}\")\n",
    "            axs[i_exp_type][1].set_title(f\"{exp_type}\")\n",
    "            axs[i_exp_type][2].set_title(f\"{exp_type}\")\n",
    "            axs[i_exp_type][3].set_title(f\"{exp_type}\")\n",
    "            axs[i_exp_type][4].set_title(f\"{exp_type}\")\n",
    "            axs[i_exp_type][5].set_title(f\"{exp_type}\")\n",
    "            \n",
    "\n",
    "            sns.lineplot(data=df_exp_type, x=\"segment_type\", y=\"totdist_abs_norm\", hue=\"event_uuid\", palette=dict_colors_event, estimator=None, ax=axs[i_exp_type][0], marker=\"o\", markersize=20, legend=False)\n",
    "            sns.lineplot(data=df_exp_type, x=\"segment_type\", y=\"running%\", hue=\"event_uuid\", palette=dict_colors_event, estimator=None, ax=axs[i_exp_type][1], marker=\"o\", markersize=20, legend=False)\n",
    "            sns.lineplot(data=df_exp_type, x=\"segment_type\", y=\"running_episodes\", hue=\"event_uuid\", palette=dict_colors_event, estimator=None, ax=axs[i_exp_type][2], marker=\"o\", markersize=20, legend=False)\n",
    "            sns.lineplot(data=df_exp_type, x=\"segment_type\", y=\"avg_speed\", hue=\"event_uuid\", palette=dict_colors_event, estimator=None, ax=axs[i_exp_type][3], marker=\"o\", markersize=20, legend=False)\n",
    "            sns.lineplot(data=df_exp_type, x=\"segment_type\", y=\"running_episodes_mean_length\", hue=\"event_uuid\", palette=dict_colors_event, estimator=None, ax=axs[i_exp_type][4], marker=\"o\", markersize=20, legend=False)\n",
    "            sns.lineplot(data=df_exp_type, x=\"segment_type\", y=\"max_speed\", hue=\"event_uuid\", palette=dict_colors_event, estimator=None, ax=axs[i_exp_type][5], marker=\"o\", markersize=20, legend=False)\n",
    "            \n",
    "\n",
    "        plt.tight_layout()\n",
    "\n",
    "        if save_figs:\n",
    "            fig_fpath = os.path.join(output_folder, f'loco_per_segment_chr2_nc_{get_datetime_for_fname()}_{file_format}')\n",
    "            plt.savefig(fig_fpath, format=file_format.split(\".\")[-1])\n",
    "            print(f\"Saved to {fig_fpath}\")\n",
    "        plt.show()"
   ]
  },
  {
   "cell_type": "markdown",
   "id": "d5902ca0",
   "metadata": {},
   "source": [
    "# Mouse-aggregate\n",
    "i.e. mean per mouse"
   ]
  },
  {
   "cell_type": "markdown",
   "id": "2766818d",
   "metadata": {},
   "source": [
    "## CA1"
   ]
  },
  {
   "cell_type": "code",
   "execution_count": null,
   "id": "6f51553f",
   "metadata": {},
   "outputs": [],
   "source": [
    "if is_chr2:\n",
    "    df_stats_per_mouse_mean_ca1 = df_stats_per_mouse_mean[df_stats_per_mouse_mean[\"window_type\"] == \"ca1\"]\n",
    "    df_stats_per_mouse_mean_ca1[\"segment_type\"] = df_stats_per_mouse_mean_ca1[\"segment_type\"].apply(lambda x: value_mapping[x])"
   ]
  },
  {
   "cell_type": "code",
   "execution_count": null,
   "id": "02a6a3c7",
   "metadata": {},
   "outputs": [],
   "source": [
    "if is_chr2:\n",
    "    df_stats_per_mouse_mean_ca1_only_bl_am = df_stats_per_mouse_mean_ca1[df_stats_per_mouse_mean_ca1[\"segment_type\"].isin([value_mapping[\"bl\"], value_mapping[\"am\"]])]"
   ]
  },
  {
   "cell_type": "code",
   "execution_count": null,
   "id": "00135d38",
   "metadata": {},
   "outputs": [],
   "source": [
    "if is_chr2:\n",
    "    df_stats_per_mouse_mean_ca1_only_bl_am = df_stats_per_mouse_mean_ca1_only_bl_am.sort_values(by=[\"mouse_id\", \"exp_type\", \"segment_type\"])"
   ]
  },
  {
   "cell_type": "code",
   "execution_count": null,
   "id": "051e9e64",
   "metadata": {},
   "outputs": [],
   "source": [
    "if is_chr2:\n",
    "    n_exp_types = len( df_stats_per_mouse_mean_ca1.exp_type.unique())\n",
    "    fig, axs = plt.subplots(n_exp_types, 6, figsize=(42,8*n_exp_types))\n",
    "    for i_exp_type, exp_type in enumerate(exp_types):#enumerate(df_stats_per_mouse_mean_ca1_only_bl_am.exp_type.unique()):\n",
    "        df_exp_type = df_stats_per_mouse_mean_ca1_only_bl_am[(df_stats_per_mouse_mean_ca1_only_bl_am[\"exp_type\"] == exp_type) & (df_stats_per_mouse_mean_ca1_only_bl_am[\"window_type\"] == \"ca1\")]\n",
    "        #print(len(df_exp_type.mouse_id.unique()))\n",
    "        axs[i_exp_type][0].set_title(f\"{exp_type}\", fontsize=30)\n",
    "        axs[i_exp_type][1].set_title(f\"{exp_type}\")\n",
    "        axs[i_exp_type][2].set_title(f\"{exp_type}\")\n",
    "        axs[i_exp_type][3].set_title(f\"{exp_type}\")\n",
    "        axs[i_exp_type][4].set_title(f\"{exp_type}\")\n",
    "        axs[i_exp_type][5].set_title(f\"{exp_type}\")\n",
    "        \n",
    "        \n",
    "\n",
    "        sns.lineplot(data=df_exp_type, x=\"segment_type\", y=\"totdist_abs_norm\", hue=\"mouse_id\", palette=dict_colors_mouse, estimator=None, ax=axs[i_exp_type][0], marker=\"o\", markersize=20, legend=False)\n",
    "        sns.lineplot(data=df_exp_type, x=\"segment_type\", y=\"running%\", hue=\"mouse_id\", palette=dict_colors_mouse, estimator=None, ax=axs[i_exp_type][1], marker=\"o\", markersize=20, legend=False)\n",
    "        sns.lineplot(data=df_exp_type, x=\"segment_type\", y=\"running_episodes\", hue=\"mouse_id\", palette=dict_colors_mouse, estimator=None, ax=axs[i_exp_type][2], marker=\"o\", markersize=20, legend=False)\n",
    "        sns.lineplot(data=df_exp_type, x=\"segment_type\", y=\"avg_speed\", hue=\"mouse_id\", palette=dict_colors_mouse, estimator=None, ax=axs[i_exp_type][3], marker=\"o\", markersize=20, legend=False)\n",
    "        sns.lineplot(data=df_exp_type, x=\"segment_type\", y=\"running_episodes_mean_length\", hue=\"mouse_id\", palette=dict_colors_mouse, estimator=None, ax=axs[i_exp_type][4], marker=\"o\", markersize=20, legend=False)\n",
    "        sns.lineplot(data=df_exp_type, x=\"segment_type\", y=\"max_speed\", hue=\"mouse_id\", palette=dict_colors_mouse, estimator=None, ax=axs[i_exp_type][5], marker=\"o\", markersize=20, legend=False)\n",
    "        \n",
    "\n",
    "    plt.tight_layout()\n",
    "\n",
    "    if save_figs:\n",
    "        fig_fpath = os.path.join(output_folder, f'loco_stats_ca1_mouse_means_chr2_{get_datetime_for_fname()}_{file_format}')\n",
    "        plt.savefig(fig_fpath, format=file_format.split(\".\")[-1])\n",
    "        print(f\"Saved to {fig_fpath}\")\n",
    "    plt.show()"
   ]
  },
  {
   "cell_type": "markdown",
   "id": "55c3b303",
   "metadata": {},
   "source": [
    "## NC"
   ]
  },
  {
   "cell_type": "code",
   "execution_count": null,
   "id": "9472bc3f",
   "metadata": {},
   "outputs": [],
   "source": [
    "if is_chr2 and len(df_stats_nc) > 0:\n",
    "    df_stats_per_mouse_mean_nc = df_stats_per_mouse_mean[df_stats_per_mouse_mean[\"window_type\"] == \"cx\"]\n",
    "    df_stats_per_mouse_mean_nc[\"segment_type\"] = df_stats_per_mouse_mean_nc[\"segment_type\"].apply(lambda x: value_mapping[x])"
   ]
  },
  {
   "cell_type": "code",
   "execution_count": null,
   "id": "2f022540",
   "metadata": {},
   "outputs": [],
   "source": [
    "if is_chr2 and len(df_stats_nc) > 0:\n",
    "    df_stats_per_mouse_mean_nc_only_bl_am = df_stats_per_mouse_mean_nc[df_stats_per_mouse_mean_nc[\"segment_type\"].isin([value_mapping[\"bl\"], value_mapping[\"am\"]])]"
   ]
  },
  {
   "cell_type": "code",
   "execution_count": null,
   "id": "6e74b0c7",
   "metadata": {},
   "outputs": [],
   "source": [
    "if is_chr2 and len(df_stats_nc) > 0:\n",
    "    df_stats_per_mouse_mean_nc_only_bl_am = df_stats_per_mouse_mean_nc_only_bl_am.sort_values(by=[\"mouse_id\", \"exp_type\", \"segment_type\"])"
   ]
  },
  {
   "cell_type": "code",
   "execution_count": null,
   "id": "2fb0d5d3",
   "metadata": {},
   "outputs": [],
   "source": [
    "if is_chr2 and len(df_stats_nc) > 0:\n",
    "    n_exp_types = len( df_stats_per_mouse_mean_nc.exp_type.unique())\n",
    "    fig, axs = plt.subplots(n_exp_types, 6, figsize=(42,8*n_exp_types))\n",
    "    for i_exp_type, exp_type in enumerate(exp_types):#enumerate(df_stats_per_mouse_mean_nc.exp_type.unique()):\n",
    "        df_exp_type = df_stats_per_mouse_mean_nc[(df_stats_per_mouse_mean_nc[\"exp_type\"] == exp_type) & (df_stats_per_mouse_mean_nc[\"window_type\"] == \"cx\")]\n",
    "        #print(len(df_exp_type.mouse_id.unique()))\n",
    "        axs[i_exp_type][0].set_title(f\"{exp_type}\")\n",
    "        axs[i_exp_type][1].set_title(f\"{exp_type}\")\n",
    "        axs[i_exp_type][2].set_title(f\"{exp_type}\")\n",
    "        axs[i_exp_type][3].set_title(f\"{exp_type}\")\n",
    "        axs[i_exp_type][4].set_title(f\"{exp_type}\")\n",
    "        axs[i_exp_type][5].set_title(f\"{exp_type}\")\n",
    "        \n",
    "        sns.lineplot(data=df_exp_type, x=\"segment_type\", y=\"totdist_abs_norm\", hue=\"mouse_id\", palette=dict_colors_mouse, estimator=None, ax=axs[i_exp_type][0], marker=\"o\", markersize=20, legend=False)\n",
    "        sns.lineplot(data=df_exp_type, x=\"segment_type\", y=\"running%\", hue=\"mouse_id\", palette=dict_colors_mouse, estimator=None, ax=axs[i_exp_type][1], marker=\"o\", markersize=20, legend=False)\n",
    "        sns.lineplot(data=df_exp_type, x=\"segment_type\", y=\"running_episodes\", hue=\"mouse_id\", palette=dict_colors_mouse, estimator=None, ax=axs[i_exp_type][2], marker=\"o\", markersize=20, legend=False)\n",
    "        sns.lineplot(data=df_exp_type, x=\"segment_type\", y=\"avg_speed\", hue=\"mouse_id\", palette=dict_colors_mouse, estimator=None, ax=axs[i_exp_type][3], marker=\"o\", markersize=20, legend=False)\n",
    "        sns.lineplot(data=df_exp_type, x=\"segment_type\", y=\"running_episodes_mean_length\", hue=\"mouse_id\", palette=dict_colors_mouse, estimator=None, ax=axs[i_exp_type][4], marker=\"o\", markersize=20, legend=False)\n",
    "        sns.lineplot(data=df_exp_type, x=\"segment_type\", y=\"max_speed\", hue=\"mouse_id\", palette=dict_colors_mouse, estimator=None, ax=axs[i_exp_type][5], marker=\"o\", markersize=20, legend=False)\n",
    "        \n",
    "\n",
    "    plt.tight_layout()\n",
    "\n",
    "    if save_figs:\n",
    "        fig_fpath = os.path.join(output_folder, f'loco_per_segment_chr2_ca1_mouse_means_{get_datetime_for_fname()}_{file_format}')\n",
    "        plt.savefig(fig_fpath, format=file_format.split(\".\")[-1])\n",
    "        print(f\"Saved to {fig_fpath}\")\n",
    "    plt.show()"
   ]
  },
  {
   "cell_type": "markdown",
   "id": "14f7ee88",
   "metadata": {},
   "source": [
    "# Statistical testing"
   ]
  },
  {
   "cell_type": "code",
   "execution_count": null,
   "id": "b579aeff",
   "metadata": {},
   "outputs": [],
   "source": [
    "if is_chr2:\n",
    "    from scipy.stats import ttest_rel"
   ]
  },
  {
   "cell_type": "code",
   "execution_count": null,
   "id": "e753c83a",
   "metadata": {},
   "outputs": [],
   "source": [
    "if is_chr2:\n",
    "    def paired_t_test(df, column_name=\"totdist_abs\", one_sided=False, greater_expected=value_mapping[\"am\"], pair_by=\"event_uuid\"):\n",
    "        am_vals = []\n",
    "        bl_vals = []\n",
    "        for i_g, g in df.groupby(pair_by):\n",
    "            assert (len(g[g[\"segment_type\"] == value_mapping[\"bl\"]]) == 1) and (len(g[g[\"segment_type\"] == value_mapping[\"am\"]] ) == 1)\n",
    "            bl_val = g[g[\"segment_type\"] == value_mapping[\"bl\"]][column_name].values\n",
    "            am_val = g[g[\"segment_type\"] == value_mapping[\"am\"]][column_name].values\n",
    "            am_vals.append(am_val[0])\n",
    "            bl_vals.append(bl_val[0])\n",
    "        am_vals = np.array(am_vals)\n",
    "        bl_vals = np.array(bl_vals)\n",
    "\n",
    "        if one_sided:\n",
    "            ttest_result = ttest_rel(am_vals, bl_vals)\n",
    "        else:\n",
    "            if greater_expected==value_mapping[\"am\"]:\n",
    "                ttest_result = ttest_rel(am_vals, bl_vals, alternative=\"greater\")  # first dataset (am) expected to be greater\n",
    "            elif greater_expected==value_mapping[\"bl\"]:\n",
    "                ttest_result = ttest_rel(am_vals, bl_vals, alternative=\"less\")  # second dataset (bl) expected to be greater\n",
    "            else:\n",
    "                raise Exception(f\"paired_t_test(): invalid greater_expected value {greater_expected}\")\n",
    "        #print(ttest_result)\n",
    "        return ttest_result"
   ]
  },
  {
   "cell_type": "markdown",
   "id": "b4b895e3",
   "metadata": {},
   "source": [
    "## CA1"
   ]
  },
  {
   "cell_type": "code",
   "execution_count": null,
   "id": "8753c49b",
   "metadata": {},
   "outputs": [],
   "source": [
    "if is_chr2:\n",
    "    stat_data_ca1 = df_stats[(df_stats[\"segment_type\"].isin([value_mapping[\"bl\"], value_mapping[\"am\"]])) & (df_stats[\"window_type\"] == \"ca1\")]"
   ]
  },
  {
   "cell_type": "code",
   "execution_count": null,
   "id": "21b13285",
   "metadata": {},
   "outputs": [],
   "source": [
    "if is_chr2:\n",
    "    stat_data_ca1.mouse_id.unique()"
   ]
  },
  {
   "cell_type": "code",
   "execution_count": null,
   "id": "7977af61",
   "metadata": {},
   "outputs": [],
   "source": [
    "if is_chr2:\n",
    "    print(\"CA1\")\n",
    "    for statistic in STAT_METRICS:\n",
    "        print(statistic)\n",
    "        for exp_type, exp_g in stat_data_ca1.sort_values(by=\"exp_type\").groupby(\"exp_type\"):\n",
    "            ttest_result = paired_t_test(exp_g, statistic)\n",
    "            print(f'\\t{exp_type}: {len(exp_g[exp_g[\"segment_type\"] == value_mapping[\"bl\"]])} pairs;\\n\\tstatistic={ttest_result.statistic}, p={ttest_result.pvalue}\\n')\n"
   ]
  },
  {
   "cell_type": "markdown",
   "id": "9724987c",
   "metadata": {},
   "source": [
    "## NC"
   ]
  },
  {
   "cell_type": "code",
   "execution_count": null,
   "id": "241ede03",
   "metadata": {},
   "outputs": [],
   "source": [
    "if is_chr2 and len(df_stats_nc) > 0:\n",
    "    stat_data_nc = df_stats[(df_stats[\"segment_type\"].isin([value_mapping[\"bl\"], value_mapping[\"am\"]])) & (df_stats[\"window_type\"] == \"cx\")]"
   ]
  },
  {
   "cell_type": "code",
   "execution_count": null,
   "id": "73b47c36",
   "metadata": {},
   "outputs": [],
   "source": [
    "if is_chr2 and len(df_stats_nc) > 0:\n",
    "    print(\"NC\")\n",
    "    for statistic in STAT_METRICS:\n",
    "        print(statistic)\n",
    "        for exp_type, exp_g in stat_data_nc.sort_values(by=\"exp_type\").groupby(\"exp_type\"):\n",
    "            ttest_result = paired_t_test(exp_g, statistic)\n",
    "            print(f'\\t{exp_type}: {len(exp_g[exp_g[\"segment_type\"] == value_mapping[\"bl\"]])} pairs;\\n\\tstatistic={ttest_result.statistic}, p={ttest_result.pvalue}\\n')\n"
   ]
  },
  {
   "cell_type": "markdown",
   "id": "b49e964c",
   "metadata": {},
   "source": [
    "## Mouse-aggregate"
   ]
  },
  {
   "cell_type": "markdown",
   "id": "f4f43e69",
   "metadata": {},
   "source": [
    "### CA1"
   ]
  },
  {
   "cell_type": "code",
   "execution_count": null,
   "id": "36d923b2",
   "metadata": {},
   "outputs": [],
   "source": [
    "if is_chr2:\n",
    "    stat_data_mouse_means_ca1 = df_stats_per_mouse_mean_ca1[(df_stats_per_mouse_mean_ca1[\"segment_type\"].isin([value_mapping[\"bl\"], value_mapping[\"am\"]])) & (df_stats_per_mouse_mean_ca1[\"window_type\"] == \"ca1\")]"
   ]
  },
  {
   "cell_type": "code",
   "execution_count": null,
   "id": "c1c6d053",
   "metadata": {},
   "outputs": [],
   "source": [
    "if is_chr2:\n",
    "    print(\"CA1\")\n",
    "    for statistic in STAT_METRICS:\n",
    "        print(statistic)\n",
    "        for exp_type, exp_g in stat_data_mouse_means_ca1.sort_values(by=\"exp_type\").groupby(\"exp_type\"):\n",
    "            ttest_result = paired_t_test(exp_g, statistic, pair_by=\"mouse_id\")\n",
    "            print(f'\\t{exp_type}: {len(exp_g[exp_g[\"segment_type\"] == value_mapping[\"bl\"]])} pairs;\\n\\tstatistic={ttest_result.statistic}, p={ttest_result.pvalue}\\n')\n"
   ]
  },
  {
   "cell_type": "markdown",
   "id": "3352aca2",
   "metadata": {},
   "source": [
    "### NC"
   ]
  },
  {
   "cell_type": "code",
   "execution_count": null,
   "id": "2e6d6bc5",
   "metadata": {},
   "outputs": [],
   "source": [
    "if is_chr2 and len(df_stats_nc) > 0:\n",
    "    stat_data_mouse_means_nc = df_stats_per_mouse_mean_nc[(df_stats_per_mouse_mean_nc[\"segment_type\"].isin([value_mapping[\"bl\"], value_mapping[\"am\"]])) & (df_stats_per_mouse_mean_nc[\"window_type\"] == \"cx\")]"
   ]
  },
  {
   "cell_type": "code",
   "execution_count": null,
   "id": "f6271055",
   "metadata": {},
   "outputs": [],
   "source": [
    "if is_chr2 and len(df_stats_nc) > 0:\n",
    "    print(\"NC\")\n",
    "    for statistic in STAT_METRICS:\n",
    "        print(statistic)\n",
    "        for exp_type, exp_g in stat_data_mouse_means_nc.sort_values(by=\"exp_type\").groupby(\"exp_type\"):\n",
    "            ttest_result = paired_t_test(exp_g, statistic, pair_by=\"mouse_id\")\n",
    "            print(f'\\t{exp_type}: {len(exp_g[exp_g[\"segment_type\"] == value_mapping[\"bl\"]])} pairs;\\n\\tstatistic={ttest_result.statistic}, p={ttest_result.pvalue}\\n')\n"
   ]
  },
  {
   "cell_type": "markdown",
   "id": "4ff6e4fd",
   "metadata": {},
   "source": [
    "# Waterfall plot & sanity check "
   ]
  },
  {
   "cell_type": "code",
   "execution_count": null,
   "id": "1c8b350a",
   "metadata": {},
   "outputs": [],
   "source": [
    "with h5py.File(assembled_traces_fpath, \"r+\") as hf:\n",
    "    for uuid in hf.keys():\n",
    "        df = ddoc.getSegmentsForUUID(uuid)\n",
    "        df = df[df[\"interval_type\"] == \"stimulation\"].iloc[0]\n",
    "        hf[uuid].attrs[\"i_stim_begin_frame\"] = df.frame_begin - 1\n",
    "        hf[uuid].attrs[\"i_stim_end_frame\"] = df.frame_end - 1"
   ]
  },
  {
   "cell_type": "code",
   "execution_count": null,
   "id": "90bbe53f",
   "metadata": {},
   "outputs": [],
   "source": [
    "exptype_wintype_id_dict = {}   # keys: experiment_type, window_type, mouse_id, value: [uuid1, uuid2, ...]\n",
    "for uuid in traces_meta_dict.keys():\n",
    "    if is_chr2:\n",
    "        exp_type = traces_meta_dict[uuid][\"exp_type\"]\n",
    "    else:\n",
    "        exp_type = \"tmev\"\n",
    "    win_type = traces_meta_dict[uuid][\"window_type\"]\n",
    "    mouse_id = traces_meta_dict[uuid][\"mouse_id\"]\n",
    "    if exp_type not in exptype_wintype_id_dict.keys():\n",
    "        exptype_wintype_id_dict[exp_type] = dict()\n",
    "    if win_type not in exptype_wintype_id_dict[exp_type].keys():\n",
    "        exptype_wintype_id_dict[exp_type][win_type] = dict()\n",
    "    if mouse_id not in exptype_wintype_id_dict[exp_type][win_type].keys():\n",
    "        exptype_wintype_id_dict[exp_type][win_type][mouse_id] = []  # list of uuids\n",
    "    exptype_wintype_id_dict[exp_type][win_type][mouse_id].append(uuid)"
   ]
  },
  {
   "cell_type": "code",
   "execution_count": null,
   "id": "a5712541",
   "metadata": {},
   "outputs": [],
   "source": [
    "df_stats_only_bl_am['avg_speed'] = df_stats_only_bl_am['avg_speed'].fillna(0)"
   ]
  },
  {
   "cell_type": "code",
   "execution_count": null,
   "id": "2ba75161",
   "metadata": {},
   "outputs": [],
   "source": [
    "assert df_stats_only_bl_am[\"avg_speed\"].isna().sum() == 0"
   ]
  },
  {
   "cell_type": "code",
   "execution_count": null,
   "id": "2a99ce35",
   "metadata": {},
   "outputs": [],
   "source": [
    "def plotNikLoco(exp_type, show_segments=True, bl_equal_post = True,  show_debug=False, n_bl_frames=bl_manual_length,):\n",
    "    AMPLITUDE = 100.0\n",
    "    offset = 0\n",
    "\n",
    "    n_recordings_with_type =  0\n",
    "    for win_type in exptype_wintype_id_dict[exp_type].keys():\n",
    "        for mouse_id in exptype_wintype_id_dict[exp_type][win_type].keys():\n",
    "            for event_uuid in exptype_wintype_id_dict[exp_type][win_type][mouse_id]:\n",
    "                n_recordings_with_type += 1\n",
    "    fig = plt.figure(figsize=(18,n_recordings_with_type*3))\n",
    "    mouse_ids = traces_dict.keys()\n",
    "    prev_range = 0.0\n",
    "    for win_type in exptype_wintype_id_dict[exp_type].keys():\n",
    "        for mouse_id in exptype_wintype_id_dict[exp_type][win_type].keys(): \n",
    "            for event_uuid in exptype_wintype_id_dict[exp_type][win_type][mouse_id]:\n",
    "                df_quantities = df_stats_only_bl_am[df_stats_only_bl_am[\"event_uuid\"] == event_uuid]\n",
    "                print(event_uuid)\n",
    "                bl_totdist_abs_norm = df_quantities[df_quantities[\"segment_type\"] == value_mapping[\"bl\"]].totdist_abs_norm.iloc[0]\n",
    "                am_totdist_abs_norm = df_quantities[df_quantities[\"segment_type\"] == value_mapping[\"am\"]].totdist_abs_norm.iloc[0]\n",
    "                bl_running_episodes = df_quantities[df_quantities[\"segment_type\"] == value_mapping[\"bl\"]].running_episodes.iloc[0]\n",
    "                am_running_episodes = df_quantities[df_quantities[\"segment_type\"] == value_mapping[\"am\"]].running_episodes.iloc[0]\n",
    "                bl_running_percent = df_quantities[df_quantities[\"segment_type\"] == value_mapping[\"bl\"]][\"running%\"].iloc[0]\n",
    "                am_running_percent = df_quantities[df_quantities[\"segment_type\"] == value_mapping[\"am\"]][\"running%\"].iloc[0]\n",
    "                bl_avg_speed = df_quantities[df_quantities[\"segment_type\"] == value_mapping[\"bl\"]].avg_speed.iloc[0]\n",
    "                am_avg_speed = df_quantities[df_quantities[\"segment_type\"] == value_mapping[\"am\"]].avg_speed.iloc[0]\n",
    "                bl_running_episodes_mean_length = df_quantities[df_quantities[\"segment_type\"] == value_mapping[\"bl\"]].running_episodes_mean_length.iloc[0]\n",
    "                am_running_episodes_mean_length = df_quantities[df_quantities[\"segment_type\"] == value_mapping[\"am\"]].running_episodes_mean_length.iloc[0]\n",
    "\n",
    "                if is_chr2:  # chr2 experiments contain the whole session in one file\n",
    "                    df_segments = ddoc.getSegmentsForUUID(event_uuid)\n",
    "                    i_frame_stim_begin = df_segments[df_segments[\"interval_type\"] == \"stimulation\"].frame_begin.iloc[0] - 1\n",
    "                    i_frame_stim_end = df_segments[df_segments[\"interval_type\"] == \"stimulation\"].frame_end.iloc[0] - 1  # in 1 indexing, inclusive\n",
    "                else:  # in tmev recordings, there is no stim, but it is the seizure segment (see value_mapping)\n",
    "                    metadata_dict = traces_meta_dict[event_uuid]\n",
    "                    i_frame_stim_begin = metadata_dict[\"n_bl_frames\"]\n",
    "                    i_frame_stim_end = metadata_dict[\"n_frames\"] - metadata_dict[\"n_am_frames\"]\n",
    "\n",
    "\n",
    "                nik_trace = traces_dict[event_uuid][\"mean_fluo\"]\n",
    "                \n",
    "                if is_chr2:\n",
    "                    nik_trace[i_frame_stim_begin:i_frame_stim_end] = 1.2*max(nik_trace[i_frame_stim_end+1:])  # reduce stim amplitude\n",
    "\n",
    "                min_nik = min(nik_trace)\n",
    "                max_nik = max(nik_trace)\n",
    "\n",
    "                t = traces_dict[event_uuid][\"lv_t_s\"]\n",
    "                \n",
    "                # get begin and end time points of baseline and post-stim segments \n",
    "                i_frame_bl_end = i_frame_stim_begin\n",
    "                i_frame_post_begin = i_frame_stim_end\n",
    "                if n_bl_frames < i_frame_stim_begin:\n",
    "                    i_frame_bl_begin = i_frame_bl_end - n_bl_frames \n",
    "                else:\n",
    "                    i_frame_bl_begin = 0 \n",
    "                if bl_equal_post:\n",
    "                    i_frame_post_end = i_frame_post_begin + n_bl_frames\n",
    "                if not bl_equal_post or i_frame_post_end > len(nik_trace):\n",
    "                    i_frame_post_end = len(nik_trace) - 1\n",
    "                    \n",
    "                if show_segments:\n",
    "                    plt.vlines(x=[t[i_frame_bl_begin], t[i_frame_bl_end], t[i_frame_post_begin], t[i_frame_post_end]], ymin = offset, ymax = offset+2.2*AMPLITUDE, color=\"orange\")\n",
    "                \n",
    "                if show_debug:\n",
    "                    \n",
    "                    # add totdist_abs_norm values for bl and post-stim\n",
    "                    plt.text(t[i_frame_bl_begin] + (t[i_frame_bl_end] - t[i_frame_bl_begin])*0.1, offset+1.5*AMPLITUDE, f\"d={bl_totdist_abs_norm:.3f}, {bl_running_percent:.2f}%, eps={bl_running_episodes} mean {bl_running_episodes_mean_length:.2f},\\nv={bl_avg_speed:.3f}\", fontsize=20, color=\"red\")\n",
    "                    plt.text(t[i_frame_post_begin] + (t[i_frame_post_end] - t[i_frame_post_begin])*0.1, offset+1.5*AMPLITUDE, f\"d={am_totdist_abs_norm:.3f}, {am_running_percent:.2f}%, eps={am_running_episodes} mean {am_running_episodes_mean_length:.2f},\\nv={am_avg_speed:.3f}\", fontsize=20, color=\"red\")\n",
    "                    # plot running binary data\n",
    "                    \n",
    "                    labview_running = traces_dict[event_uuid][\"lv_running\"]\n",
    "                    running_episodes = get_episodes(traces_dict[event_uuid][\"lv_running\"], True, 15, True)\n",
    "                    labview_running_merged = np.zeros(labview_running.shape)\n",
    "                    for episode in running_episodes:\n",
    "                        labview_running_merged[episode[0]:episode[1]+1] = 1\n",
    "                    \n",
    "                    # for checking if running% is correct: gather all running episodes to end of each segment to visualize the %\n",
    "                    #running_pre = np.sort(labview_running_merged[:i_frame_bl_begin].copy())\n",
    "                    #running_bl = np.sort(labview_running_merged[i_frame_bl_begin:i_frame_bl_end].copy())\n",
    "                    #running_stim = np.sort(labview_running_merged[i_frame_bl_end:i_frame_stim_end].copy())\n",
    "                    #running_post = np.sort(labview_running_merged[i_frame_post_begin:i_frame_post_end].copy())\n",
    "                    #running_rest = np.sort(labview_running_merged[i_frame_post_end:].copy())\n",
    "                    #running_list = [running_pre, running_bl, running_stim, running_post, running_rest]                   \n",
    "                    #sorted_episodes = np.concatenate(running_list)\n",
    "                    #plt.plot(t, 0.5*AMPLITUDE*sorted_episodes+offset+ 0.5*AMPLITUDE, color=\"red\")\n",
    "\n",
    "                    plt.plot(t, 0.5*AMPLITUDE*labview_running_merged+offset+ 0.5*AMPLITUDE, color=\"red\")\n",
    "                \n",
    "\n",
    "                \n",
    "                labview_trace = traces_dict[event_uuid][\"lv_speed\"]\n",
    "                min_lv = min(labview_trace)\n",
    "                max_lv = max(labview_trace)\n",
    "                plt.plot(t, AMPLITUDE*(labview_trace - min_lv)/(max_lv - min_lv)+offset, color=\"black\")\n",
    "                \n",
    "                offset +=1.1*AMPLITUDE\n",
    "\n",
    "\n",
    "\n",
    "                color = df_colors[df_colors[\"mouse_id\"] == mouse_id].color.iloc[0]\n",
    "                plt.plot(t, AMPLITUDE*(nik_trace- min_nik)/(max_nik - min_nik)+offset, color=color)\n",
    "                offset+=1.1*AMPLITUDE\n",
    "\n",
    "\n",
    "\n",
    "\n",
    "\n",
    "                if (len(traces_dict[event_uuid][\"mean_fluo\"]) != 13483):\n",
    "                    print(f'{event_uuid}: {len(traces_dict[event_uuid][\"mean_fluo\"])}, {mouse_id}, {exp_type}')\n",
    "\n",
    "\n",
    "\n",
    "\n",
    "    print(f\"Total: {n_recordings_with_type} traces\")\n",
    "    plt.suptitle(exp_type, fontsize=22)\n",
    "    #plt.axis(\"off\")\n",
    "    plt.yticks([])\n",
    "    plt.xlabel(\"Time (s)\", fontsize=14)\n",
    "    plt.tight_layout()\n",
    "    #plt.xlim((300, 460))  # 250, 500\n",
    "    if save_figs:\n",
    "        out_fpath = f\"D:\\\\Downloads\\\\traces_normalized_{exp_type}_{get_datetime_for_fname()}{file_format}\"\n",
    "        plt.savefig(out_fpath,bbox_inches='tight', dpi=300)\n",
    "        print(f\"Saved as {out_fpath}\")\n",
    "    plt.show()\n"
   ]
  },
  {
   "cell_type": "code",
   "execution_count": null,
   "id": "4a12d71a",
   "metadata": {},
   "outputs": [],
   "source": [
    "def compareLoco(exp_type):\n",
    "    AMPLITUDE = 100.0\n",
    "    offset = 0\n",
    "    n_recordings_with_type =  0\n",
    "    for win_type in exptype_wintype_id_dict[exp_type].keys():\n",
    "        for mouse_id in exptype_wintype_id_dict[exp_type][win_type].keys():\n",
    "            for event_uuid in exptype_wintype_id_dict[exp_type][win_type][mouse_id]:\n",
    "                n_recordings_with_type += 1\n",
    "    fig = plt.figure(figsize=(18,n_recordings_with_type*3))\n",
    "    mouse_ids = traces_dict.keys()\n",
    "    prev_range = 0.0\n",
    "    for win_type in exptype_wintype_id_dict[exp_type].keys():\n",
    "        for mouse_id in exptype_wintype_id_dict[exp_type][win_type].keys():\n",
    "            for event_uuid in exptype_wintype_id_dict[exp_type][win_type][mouse_id]:\n",
    "                print(event_uuid)\n",
    "                if is_chr2:\n",
    "                    df_segments = ddoc.getSegmentsForUUID(event_uuid)\n",
    "                    i_frame_stim_begin = df_segments[df_segments[\"interval_type\"] == \"stimulation\"].frame_begin.iloc[0] - 1\n",
    "                    i_frame_stim_end = df_segments[df_segments[\"interval_type\"] == \"stimulation\"].frame_end.iloc[0] - 1  # in 1 indexing, inclusive\n",
    "                else:\n",
    "                    metadata_dict = traces_meta_dict[event_uuid]\n",
    "                    i_frame_stim_begin = metadata_dict[\"n_bl_frames\"]\n",
    "                    i_frame_stim_end = metadata_dict[\"n_frames\"] - metadata_dict[\"n_am_frames\"]\n",
    "                \n",
    "                lfp_mov_trace = traces_dict[event_uuid][\"lfp_mov_y\"]\n",
    "                t_lfp = traces_dict[event_uuid][\"lfp_mov_t\"]\n",
    "                lfp_min = min(lfp_mov_trace)\n",
    "                lfp_max = max(lfp_mov_trace)\n",
    "\n",
    "\n",
    "                t = traces_dict[event_uuid][\"lv_t_s\"]\n",
    "\n",
    "                labview_trace = traces_dict[event_uuid][\"lv_speed\"]\n",
    "                min_lv = min(labview_trace[10:])\n",
    "                max_lv = max(labview_trace[10:])\n",
    "                plt.plot(t_lfp, AMPLITUDE*(lfp_mov_trace - lfp_min)/(lfp_max - lfp_min)+offset, color=\"black\")\n",
    "                offset +=1.1*AMPLITUDE\n",
    "\n",
    "                if t[0] +1000 < t_lfp[0]:\n",
    "                    print(f\"{event_uuid} {mouse_id}\")\n",
    "\n",
    "\n",
    "                color = df_colors[df_colors[\"mouse_id\"] == mouse_id].color.iloc[0]\n",
    "                plt.plot(t, AMPLITUDE*(labview_trace- min_lv)/(max_lv - min_lv)+offset, color=color)\n",
    "                offset+=1.1*AMPLITUDE\n",
    "\n",
    "\n",
    "\n",
    "\n",
    "\n",
    "                if (len(traces_dict[event_uuid][\"mean_fluo\"]) != 13483):\n",
    "                    print(f'{event_uuid}: {len(traces_dict[event_uuid][\"mean_fluo\"])}, {mouse_id}, {exp_type}')\n",
    "\n",
    "\n",
    "\n",
    "\n",
    "\n",
    "    #plt.axis(\"off\")\n",
    "    plt.suptitle(exp_type, fontsize=22)\n",
    "    plt.yticks([])\n",
    "    plt.xlabel(\"Time (s)\", fontsize=14)\n",
    "    #plt.xlim((300, 460))  # 250, 500\n",
    "    plt.tight_layout()\n",
    "    if save_figs:\n",
    "        out_fpath = f\"D:\\\\Downloads\\\\traces_normalized_{get_datetime_for_fname()}{file_format}\"\n",
    "        plt.savefig(out_fpath,bbox_inches='tight', dpi=300)\n",
    "        print(f\"Saved as {out_fpath}\")\n",
    "    plt.show()"
   ]
  },
  {
   "cell_type": "code",
   "execution_count": null,
   "id": "e82f0a8b",
   "metadata": {},
   "outputs": [],
   "source": [
    "def waterfallLoco(exp_type, show_segments=False, bl_equal_post=True, n_bl_frames=bl_manual_length):\n",
    "    AMPLITUDE = 100.0\n",
    "    offset = 0\n",
    "\n",
    "    n_recordings_with_type =  0\n",
    "    for win_type in exptype_wintype_id_dict[exp_type].keys():\n",
    "        for mouse_id in exptype_wintype_id_dict[exp_type][win_type].keys():\n",
    "            for event_uuid in exptype_wintype_id_dict[exp_type][win_type][mouse_id]:\n",
    "                n_recordings_with_type += 1\n",
    "    fig = plt.figure(figsize=(18,n_recordings_with_type*3))\n",
    "    mouse_ids = traces_dict.keys()\n",
    "    prev_range = 0.0\n",
    "    for win_type in exptype_wintype_id_dict[exp_type].keys():\n",
    "        for mouse_id in exptype_wintype_id_dict[exp_type][win_type].keys(): \n",
    "            for event_uuid in exptype_wintype_id_dict[exp_type][win_type][mouse_id]:\n",
    "                if is_chr2:  # chr2 experiments contain the whole session in one file\n",
    "                    df_segments = ddoc.getSegmentsForUUID(event_uuid)\n",
    "                    i_frame_stim_begin = df_segments[df_segments[\"interval_type\"] == \"stimulation\"].frame_begin.iloc[0] - 1\n",
    "                    i_frame_stim_end = df_segments[df_segments[\"interval_type\"] == \"stimulation\"].frame_end.iloc[0] - 1  # in 1 indexing, inclusive\n",
    "                else:  # in tmev recordings, there is no stim, but it is the seizure segment (see value_mapping)\n",
    "                    metadata_dict = traces_meta_dict[event_uuid]\n",
    "                    i_frame_stim_begin = metadata_dict[\"n_bl_frames\"]\n",
    "                    i_frame_stim_end = metadata_dict[\"n_frames\"] - metadata_dict[\"n_am_frames\"]\n",
    "                    \n",
    "\n",
    "                t = traces_dict[event_uuid][\"lv_t_s\"]\n",
    "                \n",
    "                if show_segments:\n",
    "                    # get begin and end time points of baseline and post-stim segments \n",
    "                    i_frame_bl_end = i_frame_stim_begin\n",
    "                    i_frame_post_begin = i_frame_stim_end\n",
    "                    if n_bl_frames < i_frame_stim_begin:\n",
    "                        i_frame_bl_begin = i_frame_bl_end - n_bl_frames \n",
    "                    else:\n",
    "                        i_frame_bl_begin = 0\n",
    "                    if bl_equal_post:\n",
    "                        i_frame_post_end = i_frame_post_begin + n_bl_frames\n",
    "                    if not bl_equal_post or i_frame_post_end >= len(t):\n",
    "                        i_frame_post_end = len(t) - 1\n",
    "                    # plot them\n",
    "                    print(i_frame_post_end)\n",
    "                    plt.vlines(x=[t[i_frame_bl_begin], t[i_frame_bl_end], t[i_frame_post_begin], t[i_frame_post_end]], ymin = offset, ymax = offset+AMPLITUDE, color=\"orange\")\n",
    "                \n",
    "\n",
    "                \n",
    "                labview_trace = traces_dict[event_uuid][\"lv_speed\"]\n",
    "                min_lv = min(labview_trace)\n",
    "                max_lv = max(labview_trace)\n",
    "                color = df_colors[df_colors[\"mouse_id\"] == mouse_id].color.iloc[0]\n",
    "                plt.plot(t, AMPLITUDE*(labview_trace - min_lv)/(max_lv - min_lv)+offset, color=color)\n",
    "                \n",
    "                offset +=1.3*AMPLITUDE\n",
    "                \n",
    "                if (len(traces_dict[event_uuid][\"mean_fluo\"]) != 13483):\n",
    "                    print(f'{event_uuid}: {len(traces_dict[event_uuid][\"mean_fluo\"])}, {mouse_id}, {exp_type}')\n",
    "\n",
    "\n",
    "\n",
    "\n",
    "    print(f\"Total: {n_recordings_with_type} traces\")\n",
    "    plt.suptitle(exp_type, fontsize=22)\n",
    "    #plt.axis(\"off\")\n",
    "    plt.yticks([])\n",
    "    plt.xlabel(\"Time (s)\", fontsize=14)\n",
    "    plt.tight_layout()\n",
    "    #plt.xlim((300, 460))  # 250, 500\n",
    "    if save_figs:\n",
    "        out_fpath = f\"D:\\\\Downloads\\\\waterfall_loco_{exp_type}_{get_datetime_for_fname()}{file_format}\"\n",
    "        plt.savefig(out_fpath,bbox_inches='tight', dpi=300)\n",
    "        print(f\"Saved as {out_fpath}\")\n",
    "    plt.show()"
   ]
  },
  {
   "cell_type": "markdown",
   "id": "f2ff52fa",
   "metadata": {},
   "source": [
    "### Plot one of the categories"
   ]
  },
  {
   "cell_type": "code",
   "execution_count": null,
   "id": "a3c7f180",
   "metadata": {},
   "outputs": [],
   "source": [
    "df_stats.exp_type.unique()"
   ]
  },
  {
   "cell_type": "code",
   "execution_count": null,
   "id": "daa2d5d2",
   "metadata": {},
   "outputs": [],
   "source": [
    "l = np.array([])\n",
    "for uuid in traces_dict.keys():\n",
    "    loco_data = np.array(traces_dict[uuid][\"lv_speed\"])\n",
    "    l = np.concatenate([l, loco_data])\n",
    "    "
   ]
  },
  {
   "cell_type": "code",
   "execution_count": null,
   "id": "558eabd0",
   "metadata": {},
   "outputs": [],
   "source": [
    "plt.figure(figsize=(18,18))\n",
    "plt.hist(l[l != 0.0], bins=200)\n",
    "#plt.xlim((-0.1, 0.5))\n",
    "plt.show()"
   ]
  },
  {
   "cell_type": "code",
   "execution_count": null,
   "id": "244b9ba6",
   "metadata": {},
   "outputs": [],
   "source": [
    "#waterfallLoco(\"chr2_ctl\", True)"
   ]
  },
  {
   "cell_type": "code",
   "execution_count": null,
   "id": "6e8bf1be",
   "metadata": {},
   "outputs": [],
   "source": [
    "plotNikLoco(\"chr2_ctl\", True, True, True)"
   ]
  },
  {
   "cell_type": "code",
   "execution_count": null,
   "id": "a11986b1",
   "metadata": {},
   "outputs": [],
   "source": [
    "\n",
    "i_bl_end = traces_meta_dict[\"8dec51d8e6944f97b07da4aa35c87e55\"][\"i_stim_begin_frame\"]  # shifted by one so [a:b] notation can be used easily\n",
    "i_bl_begin = i_bl_end - 4500\n",
    "i_am_begin = traces_meta_dict[\"8dec51d8e6944f97b07da4aa35c87e55\"][\"i_stim_end_frame\"]\n",
    "i_am_end = i_am_begin + 4500  # shifted by one so [a:b] notation can be used easily"
   ]
  },
  {
   "cell_type": "code",
   "execution_count": null,
   "id": "275a5b22",
   "metadata": {},
   "outputs": [],
   "source": [
    "print(sum(traces_dict[\"8dec51d8e6944f97b07da4aa35c87e55\"][\"lv_running\"][i_bl_begin:i_bl_end])/(i_bl_end-i_bl_begin))\n",
    "print(sum(traces_dict[\"8dec51d8e6944f97b07da4aa35c87e55\"][\"lv_running\"][i_am_begin:i_am_end])/(i_am_end-i_am_begin))"
   ]
  },
  {
   "cell_type": "code",
   "execution_count": null,
   "id": "adbca254",
   "metadata": {},
   "outputs": [],
   "source": [
    "fig = plt.figure(figsize=(18, 6))\n",
    "plt.plot(traces_dict[\"f3d89599307c45cf81b57fce62796221\"][\"lv_speed\"])\n",
    "#plt.plot(traces_dict[\"f3d89599307c45cf81b57fce62796221\"][\"lv_running\"])\n",
    "plt.show()"
   ]
  },
  {
   "cell_type": "code",
   "execution_count": null,
   "id": "22decdd6",
   "metadata": {},
   "outputs": [],
   "source": [
    "df_stats[df_stats[\"event_uuid\"] == \"8dec51d8e6944f97b07da4aa35c87e55\"]"
   ]
  },
  {
   "cell_type": "code",
   "execution_count": null,
   "id": "59e52d43",
   "metadata": {},
   "outputs": [],
   "source": [
    "#compareLoco(\"tmev\")"
   ]
  },
  {
   "cell_type": "markdown",
   "id": "20e696cb",
   "metadata": {},
   "source": [
    "# Export results"
   ]
  },
  {
   "cell_type": "code",
   "execution_count": null,
   "id": "18b725c1",
   "metadata": {},
   "outputs": [],
   "source": [
    "#df_stats[(df_stats[\"segment_type\"].isin([\"bl\", \"am\"]))].to_excel(\"C:\\\\Users\\\\Bence\\\\Downloads\\\\loco_dataset_raw.xlsx\", index=False)"
   ]
  },
  {
   "cell_type": "code",
   "execution_count": null,
   "id": "afcaa861",
   "metadata": {},
   "outputs": [],
   "source": [
    "df_to_save = df_stats[(df_stats[\"segment_type\"].isin([value_mapping[\"bl\"], value_mapping[\"am\"]]))]"
   ]
  },
  {
   "cell_type": "code",
   "execution_count": null,
   "id": "62d6c832",
   "metadata": {},
   "outputs": [],
   "source": [
    "if is_chr2:\n",
    "    df_to_save"
   ]
  },
  {
   "cell_type": "code",
   "execution_count": null,
   "id": "6eca2c2b",
   "metadata": {},
   "outputs": [],
   "source": [
    "export_results = False\n",
    "if export_results:\n",
    "    output_fpath = os.path.join(output_folder, f\"locomotion_{get_datetime_for_fname()}.xlsx\")\n",
    "    df_to_save.to_excel(output_fpath)\n",
    "    print(f\"Results exported to {output_fpath}\")\n",
    "    "
   ]
  },
  {
   "cell_type": "code",
   "execution_count": null,
   "id": "0bd03159",
   "metadata": {},
   "outputs": [],
   "source": [
    "if export_results:\n",
    "    for win_type in df_stats.window_type.unique():\n",
    "        for exp_type in df_stats[df_stats[\"window_type\"] == win_type].exp_type.unique():\n",
    "            for loco_metric in STAT_METRICS:\n",
    "                fname = os.path.join(output_folder, f\"loco_{loco_metric}_{win_type}_{exp_type}_{get_datetime_for_fname()}.xlsx\")\n",
    "                a = df_stats[(df_stats[\"segment_type\"].isin([value_mapping[\"bl\"], value_mapping[\"am\"]]))& (df_stats[\"window_type\"] == win_type) & (df_stats[\"exp_type\"] == exp_type) ][[\"event_uuid\", \"mouse_id\", \"segment_type\", loco_metric]].pivot(index='event_uuid', columns='segment_type', values=loco_metric).reset_index()\n",
    "                a[\"mouse_id\"] = a.apply(lambda row: df_stats[df_stats[\"event_uuid\"] == row[\"event_uuid\"]].mouse_id.iloc[0], axis=1)\n",
    "                a.to_excel(fname, index=False)\n",
    "                print(f\"Saved to {fname}\")"
   ]
  },
  {
   "cell_type": "code",
   "execution_count": null,
   "id": "d4e451a0",
   "metadata": {},
   "outputs": [],
   "source": []
  }
 ],
 "metadata": {
  "kernelspec": {
   "display_name": "Python 3 (ipykernel)",
   "language": "python",
   "name": "python3"
  },
  "language_info": {
   "codemirror_mode": {
    "name": "ipython",
    "version": 3
   },
   "file_extension": ".py",
   "mimetype": "text/x-python",
   "name": "python",
   "nbconvert_exporter": "python",
   "pygments_lexer": "ipython3",
   "version": "3.8.12"
  }
 },
 "nbformat": 4,
 "nbformat_minor": 5
}
