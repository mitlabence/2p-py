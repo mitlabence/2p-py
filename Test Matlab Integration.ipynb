{
 "cells": [
  {
   "cell_type": "markdown",
   "id": "0fa00415",
   "metadata": {},
   "source": [
    "# Running Matlab functions in Python - test script\n",
    "For details, see https://de.mathworks.com/help/matlab/matlab_external/call-matlab-functions-from-python.html\n",
    "Install the python package matlab: pip install matlab\n",
    "Alternatively:\n",
    "cd /path-to-matlab/MATLAB/R2021b/extern/engines/python (for 2021b version)-> \n",
    "python setup.py install. In case Matlab is installed in Program Files, access denied error will interrupt installation. Use prompt (Anaconda prompt, for example, if using Anaconda) with admin rights."
   ]
  },
  {
   "cell_type": "code",
   "execution_count": 1,
   "id": "002010df",
   "metadata": {},
   "outputs": [],
   "source": [
    "import matlab.engine"
   ]
  },
  {
   "cell_type": "code",
   "execution_count": 2,
   "id": "8fd0c2fb",
   "metadata": {},
   "outputs": [],
   "source": [
    "eng = matlab.engine.start_matlab()"
   ]
  },
  {
   "cell_type": "code",
   "execution_count": 4,
   "id": "6b366e93",
   "metadata": {},
   "outputs": [
    {
     "name": "stdout",
     "output_type": "stream",
     "text": [
      "True\n"
     ]
    }
   ],
   "source": [
    "tf = eng.isprime(37)\n",
    "print(tf)\n",
    "assert(tf)"
   ]
  },
  {
   "cell_type": "code",
   "execution_count": null,
   "id": "a0bbefe2",
   "metadata": {},
   "outputs": [],
   "source": []
  }
 ],
 "metadata": {
  "kernelspec": {
   "display_name": "Python 3 (ipykernel)",
   "language": "python",
   "name": "python3"
  },
  "language_info": {
   "codemirror_mode": {
    "name": "ipython",
    "version": 3
   },
   "file_extension": ".py",
   "mimetype": "text/x-python",
   "name": "python",
   "nbconvert_exporter": "python",
   "pygments_lexer": "ipython3",
   "version": "3.8.12"
  }
 },
 "nbformat": 4,
 "nbformat_minor": 5
}
