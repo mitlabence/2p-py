{
 "cells": [
  {
   "cell_type": "code",
   "execution_count": null,
   "id": "5346f8dd",
   "metadata": {},
   "outputs": [],
   "source": [
    "import labrotation.file_handling as fh\n",
    "import pims_nd2\n",
    "from datetime import datetime as dt\n",
    "from datetime import timedelta\n",
    "import pytz\n",
    "import datadoc_util as ddu\n",
    "import os"
   ]
  },
  {
   "cell_type": "code",
   "execution_count": null,
   "id": "d5e0aa57",
   "metadata": {},
   "outputs": [],
   "source": [
    "env_dict = dict()\n",
    "if not os.path.exists(\"./.env\"):\n",
    "    print(\".env does not exist\")\n",
    "else:\n",
    "    with open(\"./.env\", \"r\") as f:\n",
    "        for line in f.readlines():\n",
    "            l = line.rstrip().split(\"=\")\n",
    "            env_dict[l[0]] = l[1]\n",
    "print(env_dict.keys())"
   ]
  },
  {
   "cell_type": "code",
   "execution_count": null,
   "id": "5ad237d8",
   "metadata": {},
   "outputs": [],
   "source": [
    "if \"DATA_DOCU_FOLDER\" in env_dict.keys():\n",
    "    data_docu_folder = env_dict[\"DATA_DOCU_FOLDER\"]\n",
    "else:\n",
    "    data_docu_folder = fh.open_dir(\"Open Data Documentation folder\")\n",
    "print(data_docu_folder)"
   ]
  },
  {
   "cell_type": "code",
   "execution_count": null,
   "id": "58a13756",
   "metadata": {},
   "outputs": [],
   "source": [
    "ddoc = ddu.DataDocumentation(data_docu_folder)\n",
    "ddoc.loadDataDoc()"
   ]
  },
  {
   "cell_type": "code",
   "execution_count": null,
   "id": "dee23ad7",
   "metadata": {},
   "outputs": [],
   "source": [
    "tzone_utc = pytz.utc\n",
    "tzone_local = pytz.timezone('Europe/Berlin')"
   ]
  },
  {
   "cell_type": "code",
   "execution_count": null,
   "id": "771902e8",
   "metadata": {},
   "outputs": [],
   "source": [
    "nd2 = fh.open_file(\"Choose nd2 file!\")"
   ]
  },
  {
   "cell_type": "code",
   "execution_count": null,
   "id": "93354b4b",
   "metadata": {},
   "outputs": [],
   "source": [
    "print(nd2)"
   ]
  },
  {
   "cell_type": "code",
   "execution_count": null,
   "id": "8e110c92",
   "metadata": {},
   "outputs": [],
   "source": [
    "uuid = ddoc.getUUIDForFile(os.path.split(nd2)[-1])\n",
    "print(uuid)"
   ]
  },
  {
   "cell_type": "code",
   "execution_count": null,
   "id": "19bcc9ab",
   "metadata": {},
   "outputs": [],
   "source": [
    "segments_df = ddoc.getSegmentsForUUID(uuid)"
   ]
  },
  {
   "cell_type": "code",
   "execution_count": null,
   "id": "e9a773c1",
   "metadata": {},
   "outputs": [],
   "source": [
    "segments_df = segments_df[segments_df[\"interval_type\"] == \"sz\"]\n",
    "print(segments_df)"
   ]
  },
  {
   "cell_type": "code",
   "execution_count": null,
   "id": "bde7f940",
   "metadata": {},
   "outputs": [],
   "source": [
    "nd2_data = pims_nd2.ND2_Reader(nd2)"
   ]
  },
  {
   "cell_type": "code",
   "execution_count": null,
   "id": "69c0d798",
   "metadata": {},
   "outputs": [],
   "source": [
    "t0 = tzone_utc.localize(nd2_data.metadata[\"time_start_utc\"])"
   ]
  },
  {
   "cell_type": "code",
   "execution_count": null,
   "id": "435f4246",
   "metadata": {},
   "outputs": [],
   "source": [
    "for i_sz, row in segments_df.iterrows():\n",
    "    i_frame = row.frame_begin - 1\n",
    "    dt_ms = timedelta(milliseconds=nd2_data[i_frame].metadata[\"t_ms\"])\n",
    "    t = t0 + dt_ms\n",
    "    t.isoformat()\n",
    "    print(f\"Seizure #{i_sz}: {i_frame} - {t.astimezone(tzone_local).isoformat()}\")"
   ]
  },
  {
   "cell_type": "code",
   "execution_count": null,
   "id": "de9fcdc6",
   "metadata": {},
   "outputs": [],
   "source": []
  }
 ],
 "metadata": {
  "kernelspec": {
   "display_name": "Python 3 (ipykernel)",
   "language": "python",
   "name": "python3"
  },
  "language_info": {
   "codemirror_mode": {
    "name": "ipython",
    "version": 3
   },
   "file_extension": ".py",
   "mimetype": "text/x-python",
   "name": "python",
   "nbconvert_exporter": "python",
   "pygments_lexer": "ipython3",
   "version": "3.8.12"
  }
 },
 "nbformat": 4,
 "nbformat_minor": 5
}
