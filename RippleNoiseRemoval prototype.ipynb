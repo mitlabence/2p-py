{
 "cells": [
  {
   "cell_type": "code",
   "execution_count": null,
   "id": "2160aa9e",
   "metadata": {},
   "outputs": [],
   "source": [
    "import pims_nd2\n",
    "import numpy as np\n",
    "from matplotlib import pyplot as plt"
   ]
  },
  {
   "cell_type": "code",
   "execution_count": null,
   "id": "47070d8f",
   "metadata": {},
   "outputs": [],
   "source": [
    "from nd2_to_caiman import np_arr_from_nd2"
   ]
  },
  {
   "cell_type": "code",
   "execution_count": null,
   "id": "9b55302d",
   "metadata": {},
   "outputs": [],
   "source": [
    "nd2_fpath = 'D:/PhD/Data/T386_MatlabTest/T386_20211202_green.nd2'"
   ]
  },
  {
   "cell_type": "code",
   "execution_count": null,
   "id": "d57d111b",
   "metadata": {},
   "outputs": [],
   "source": [
    "%matplotlib qt"
   ]
  },
  {
   "cell_type": "code",
   "execution_count": null,
   "id": "bd65ddf5",
   "metadata": {},
   "outputs": [],
   "source": [
    "# now nd2_to_caiman.py \n",
    "def np_arr_from_nd2(nd2_fpath: str):\n",
    "    # set iter_axes to \"t\"\n",
    "    # then: create nd array with sizes matching frame size,\n",
    "    with pims_nd2.ND2_Reader(nd2_fpath) as nikon_file:  # todo: get metadata too?\n",
    "        \n",
    "        sizes_dict = nikon_file.sizes\n",
    "        sizes = (sizes_dict['t'], sizes_dict['x'], sizes_dict['y'])\n",
    "        \n",
    "        # dtype would be float32 by default...\n",
    "        frames_arr = np.zeros(sizes, dtype=nikon_file.pixel_type)\n",
    "        \n",
    "        # TODO: probably it is not even necessary to export an np.array, as nikon_file is an iterable of\n",
    "        #  subclasses of np array... not sure what caiman needs\n",
    "        for i_frame, frame in enumerate(nikon_file):\n",
    "            frames_arr[i_frame] = np.array(nikon_file[0], dtype=nikon_file.pixel_type)  # not sure if dtype needed here\n",
    "        return frames_arr"
   ]
  },
  {
   "cell_type": "code",
   "execution_count": null,
   "id": "998a4ca4",
   "metadata": {},
   "outputs": [],
   "source": [
    "nd2_data = np_arr_from_nd2(nd2_fpath)"
   ]
  },
  {
   "cell_type": "code",
   "execution_count": null,
   "id": "ee862ec8",
   "metadata": {},
   "outputs": [],
   "source": [
    "fig = plt.figure(figsize=(18,18))  # figsize does not work...\n",
    "plt.pcolormesh(nd2_data[0])\n",
    "plt.show()"
   ]
  },
  {
   "cell_type": "code",
   "execution_count": null,
   "id": "da81e91e",
   "metadata": {},
   "outputs": [],
   "source": [
    "nd2_data.dtype"
   ]
  },
  {
   "cell_type": "markdown",
   "id": "8f612a61",
   "metadata": {},
   "source": [
    "# Create one image of fft2 matrix"
   ]
  },
  {
   "cell_type": "code",
   "execution_count": null,
   "id": "a71f4e26",
   "metadata": {},
   "outputs": [],
   "source": [
    "freq_matrix = np.fft.fftshift(np.fft.fft2(nd2_data[0,:,:])) "
   ]
  },
  {
   "cell_type": "code",
   "execution_count": null,
   "id": "b7da2237",
   "metadata": {},
   "outputs": [],
   "source": [
    "fig = plt.figure(figsize=(18,18))  # figsize does not work...\n",
    "plt.matshow(np.log(np.abs(freq_matrix)))\n",
    "plt.colorbar()\n",
    "plt.show()"
   ]
  },
  {
   "cell_type": "code",
   "execution_count": null,
   "id": "505895eb",
   "metadata": {},
   "outputs": [],
   "source": [
    "amplitude_image = np.log(np.abs(freq_matrix))"
   ]
  },
  {
   "cell_type": "code",
   "execution_count": null,
   "id": "ce855d87",
   "metadata": {},
   "outputs": [],
   "source": [
    "win = 40"
   ]
  },
  {
   "cell_type": "code",
   "execution_count": null,
   "id": "f27daa1a",
   "metadata": {},
   "outputs": [],
   "source": [
    "bright_spikes = amplitude_image > 10.8 # default amplitude threshold\n",
    "rectangle_filter_boundary = np.zeros(amplitude_image.shape)"
   ]
  },
  {
   "cell_type": "code",
   "execution_count": null,
   "id": "16b1cd3d",
   "metadata": {},
   "outputs": [],
   "source": [
    "# mark the rectangle \n",
    "end_y = amplitude_image.shape[0]  # todo: maybe switched?\n",
    "end_x = amplitude_image.shape[1]\n",
    "rectangle_filter_boundary[round(end_x/2 - win):round(end_x/2 + win), round(end_y/2 - win)] = 1\n",
    "rectangle_filter_boundary[round(end_x/2 - win):round(end_x/2 + win), round(end_y/2 + win)] = 1\n",
    "rectangle_filter_boundary[round(end_x/2 - win), round(end_y/2 - win):round(end_y/2 + win)] = 1\n",
    "rectangle_filter_boundary[round(end_x/2 + win), round(end_y/2 - win):round(end_y/2 + win)] = 1"
   ]
  },
  {
   "cell_type": "code",
   "execution_count": null,
   "id": "94869b36",
   "metadata": {},
   "outputs": [],
   "source": [
    "filtered_spikes = np.copy(bright_spikes)\n",
    "filtered_spikes[round(end_x/2-win):round(end_x/2+win),round(end_y/2-win):round(end_y/2+win)] = 0;"
   ]
  },
  {
   "cell_type": "code",
   "execution_count": null,
   "id": "da148f9d",
   "metadata": {},
   "outputs": [],
   "source": [
    "# filter out whole fft spectrum, show raw and filtered\n",
    "freq_filtered = np.copy(freq_matrix)\n",
    "freq_filtered[bright_spikes] = 0.0"
   ]
  },
  {
   "cell_type": "code",
   "execution_count": null,
   "id": "952fd9b3",
   "metadata": {},
   "outputs": [],
   "source": [
    "fig, axs = plt.subplots(2, 3, figsize=(20,20))\n",
    "axs[0, 0].pcolormesh(amplitude_image)\n",
    "axs[0, 1].pcolormesh(bright_spikes + rectangle_filter_boundary)\n",
    "axs[0, 2].pcolormesh(np.abs(freq_filtered))\n",
    "axs[1, 0].pcolormesh(filtered_spikes)\n",
    "for i_row in range(len(amplitude_image)):\n",
    "    axs[1,1].plot(amplitude_image[i_row, :])\n",
    "#axs[0,0].colorbar()\n",
    "axs[1,2].pcolormesh(np.log(np.abs(freq_matrix - freq_filtered)))\n",
    "plt.show()"
   ]
  },
  {
   "cell_type": "code",
   "execution_count": null,
   "id": "9e44fd6d",
   "metadata": {},
   "outputs": [],
   "source": [
    "nd2_data.shape"
   ]
  },
  {
   "cell_type": "code",
   "execution_count": null,
   "id": "6e34a35e",
   "metadata": {},
   "outputs": [],
   "source": [
    "amplitude_threshold = 10.8\n",
    "win = 40\n",
    "end_x = nd2_data.shape[1]\n",
    "end_y = nd2_data.shape[2]"
   ]
  },
  {
   "cell_type": "code",
   "execution_count": null,
   "id": "544109e2",
   "metadata": {},
   "outputs": [],
   "source": [
    "filtered_data = np.zeros(nd2_data.shape)"
   ]
  },
  {
   "cell_type": "code",
   "execution_count": null,
   "id": "51a574bb",
   "metadata": {},
   "outputs": [],
   "source": [
    "for i_frame in range(nd2_data.shape[0]):\n",
    "    gray_image = nd2_data[0, :, :]\n",
    "    freq_image = np.fft.fftshift(np.fft.fft2(gray_image))\n",
    "    ampl_image = np.log(np.abs(freq_image))\n",
    "    bright_spikes = ampl_image > amplitude_threshold\n",
    "    bright_spikes[round(end_x/2-win):round(end_x/2+win),round(end_y/2-win):round(end_y/2+win)] = 0\n",
    "    freq_image[bright_spikes] = 0\n",
    "    filt_image =  np.fft.ifft2(freq_image)\n",
    "    filtered_data[i_frame] = np.abs(filt_image)\n",
    "    "
   ]
  },
  {
   "cell_type": "markdown",
   "id": "b090b52e",
   "metadata": {},
   "source": [
    "# Test functions"
   ]
  },
  {
   "cell_type": "code",
   "execution_count": null,
   "id": "f9c68267",
   "metadata": {},
   "outputs": [],
   "source": [
    "import RippleNoiseRemoval as rnr"
   ]
  },
  {
   "cell_type": "code",
   "execution_count": null,
   "id": "f92587b3",
   "metadata": {},
   "outputs": [],
   "source": [
    "#filt = rnr.rnr_par()"
   ]
  },
  {
   "cell_type": "code",
   "execution_count": null,
   "id": "bdcded89",
   "metadata": {},
   "outputs": [],
   "source": [
    "import pims_nd2\n",
    "import numpy as np\n",
    "from matplotlib import pyplot as plt\n",
    "from nd2_to_caiman import np_arr_from_nd2\n",
    "from multiprocessing import Pool\n",
    "import time"
   ]
  },
  {
   "cell_type": "code",
   "execution_count": null,
   "id": "338a72d8",
   "metadata": {},
   "outputs": [],
   "source": [
    "nd2_fpath = 'D:/PhD/Data/T386_MatlabTest/T386_20211202_green.nd2'\n",
    "#nd2_fpath = 'D:/T301/T301_base_d1/T301_base_d1.180820.1614.nd2'\n",
    "win = 40\n",
    "amplitude_threshold = 10.8\n",
    "\n",
    "nd2_data = np_arr_from_nd2(nd2_fpath)  #np.uint16"
   ]
  },
  {
   "cell_type": "code",
   "execution_count": null,
   "id": "bf0f44a1",
   "metadata": {},
   "outputs": [],
   "source": [
    "filtered_data_par = np.empty(nd2_data.shape, dtype=np.float64)  # marginally faster than np.zeros. Need to fill all values!\n",
    "filtered_data = np.empty(nd2_data.shape, dtype=np.float64)  # marginally faster than np.zeros. Need to fill all values!"
   ]
  },
  {
   "cell_type": "code",
   "execution_count": null,
   "id": "43641067",
   "metadata": {},
   "outputs": [],
   "source": [
    "def rnr_frame(frame):  # endx and endy should be\n",
    "    import numpy as np\n",
    "    win = 40\n",
    "    amplitude_threshold = 10.8\n",
    "    freq_image = np.fft.fftshift(np.fft.fft2(frame))  # make FFT\n",
    "    # get log amplitude to detect spikes in fft\n",
    "    ampl_image = np.log(np.abs(freq_image))\n",
    "    end_x = ampl_image.shape[0]\n",
    "    end_y = ampl_image.shape[1]\n",
    "    bright_spikes = ampl_image > amplitude_threshold\n",
    "    bright_spikes[round(end_x/2-win):round(end_x/2+win),\n",
    "                  round(end_y/2-win):round(end_y/2+win)] = 0\n",
    "    freq_image[bright_spikes] = 0\n",
    "    filt_image = np.fft.ifft2(freq_image)\n",
    "    return np.abs(filt_image)  # returns dtype=np.float64 array"
   ]
  },
  {
   "cell_type": "code",
   "execution_count": null,
   "id": "74e855e2",
   "metadata": {},
   "outputs": [],
   "source": [
    "from pathos.multiprocessing import ProcessingPool as Pool"
   ]
  },
  {
   "cell_type": "code",
   "execution_count": null,
   "id": "3ff93005",
   "metadata": {},
   "outputs": [],
   "source": [
    "p = Pool(16)  # Make sure the computer has this number of threads!"
   ]
  },
  {
   "cell_type": "code",
   "execution_count": null,
   "id": "db6b642a",
   "metadata": {},
   "outputs": [],
   "source": [
    "t0_par = time.time()\n",
    "res_par = p.map(rnr_frame, nd2_data)\n",
    "for i_frame, frame in enumerate(res_par):\n",
    "    filtered_data_par[i_frame] = frame\n",
    "t1_par = time.time()"
   ]
  },
  {
   "cell_type": "code",
   "execution_count": null,
   "id": "dcdef0ec",
   "metadata": {},
   "outputs": [],
   "source": [
    "t1_par - t0_par"
   ]
  },
  {
   "cell_type": "code",
   "execution_count": null,
   "id": "300af413",
   "metadata": {
    "scrolled": true
   },
   "outputs": [],
   "source": [
    "t0 = time.time()\n",
    "for i_frame in range(nd2_data.shape[0]):\n",
    "        filtered_data[i_frame] = rnr.rnr_frame(nd2_data[i_frame, :, :], 40, 10.8)\n",
    "t1 = time.time()"
   ]
  },
  {
   "cell_type": "code",
   "execution_count": null,
   "id": "61dea9f5",
   "metadata": {},
   "outputs": [],
   "source": [
    "print(f\"Parallel pool: {t1_par - t0_par}. Solo: {t1 - t0}\")"
   ]
  },
  {
   "cell_type": "markdown",
   "id": "6952ec19",
   "metadata": {},
   "source": [
    "# Final(?) version using RNR class"
   ]
  },
  {
   "cell_type": "code",
   "execution_count": 1,
   "id": "041a70cd",
   "metadata": {},
   "outputs": [],
   "source": [
    "from RippleNoiseRemoval import RNR\n",
    "from labrotation.file_handling import open_file\n",
    "from time import time"
   ]
  },
  {
   "cell_type": "code",
   "execution_count": 2,
   "id": "87a29bc7",
   "metadata": {},
   "outputs": [
    {
     "name": "stdout",
     "output_type": "stream",
     "text": [
      "0.0\n"
     ]
    }
   ],
   "source": [
    "t0_init = time()\n",
    "rnr = RNR(40, 10.8, 4)  # parameters: win, amplitude_threshold, n_cores\n",
    "print(time() - t0_init)"
   ]
  },
  {
   "cell_type": "code",
   "execution_count": 3,
   "id": "61c4059a",
   "metadata": {},
   "outputs": [
    {
     "name": "stderr",
     "output_type": "stream",
     "text": [
      "D:\\Software\\Anaconda\\envs\\py9\\lib\\site-packages\\pims\\base_frames.py:472: UserWarning: Please call FramesSequenceND.__init__() at the start of thethe reader initialization.\n",
      "  warn(\"Please call FramesSequenceND.__init__() at the start of the\"\n"
     ]
    },
    {
     "name": "stdout",
     "output_type": "stream",
     "text": [
      "Opened recording 512x512, 577 frames. Initialized empty results array.\n",
      "18.570338010787964\n"
     ]
    }
   ],
   "source": [
    "t0_open = time()\n",
    "nd2_fpath = open_file(\"Open .nd2 file for RNR!\")\n",
    "rnr.open_recording(nd2_fpath)\n",
    "print(time() - t0_open)"
   ]
  },
  {
   "cell_type": "code",
   "execution_count": 4,
   "id": "e60dae7a",
   "metadata": {},
   "outputs": [
    {
     "name": "stdout",
     "output_type": "stream",
     "text": [
      "RNR with 4 threads completed.\n",
      "37.609785079956055\n"
     ]
    }
   ],
   "source": [
    "t0_par = time()\n",
    "fd_par = rnr.rnr_parallel()\n",
    "t1_par = time()\n",
    "print(t1_par - t0_par)"
   ]
  },
  {
   "cell_type": "code",
   "execution_count": 5,
   "id": "2e491a2b",
   "metadata": {},
   "outputs": [
    {
     "name": "stdout",
     "output_type": "stream",
     "text": [
      "RNR completed.\n",
      "8.265014410018921\n"
     ]
    }
   ],
   "source": [
    "t0_single = time()\n",
    "fd_sin = rnr.rnr_singlethread()\n",
    "t1_single = time()\n",
    "print(t1_single - t0_single)"
   ]
  },
  {
   "cell_type": "code",
   "execution_count": 14,
   "id": "2d19a234",
   "metadata": {},
   "outputs": [
    {
     "name": "stdout",
     "output_type": "stream",
     "text": [
      "0\n"
     ]
    }
   ],
   "source": [
    "# check if the single and parallel results are the same\n",
    "same_lis = [fd_par[i] == fd_sin[i] for i in range(len(fd_par))]\n",
    "count_mismatch = 0\n",
    "for frame in same_lis:\n",
    "    for row in frame:\n",
    "        for element in row:\n",
    "            if not(element):\n",
    "                count_mismatch += 1  # increase count if a pixel is not the same for the two results\n",
    "print(count_mismatch)  # 0 means two methods are same, as it should be."
   ]
  },
  {
   "cell_type": "code",
   "execution_count": null,
   "id": "087eb6fa",
   "metadata": {},
   "outputs": [],
   "source": []
  }
 ],
 "metadata": {
  "kernelspec": {
   "display_name": "Python 3 (ipykernel)",
   "language": "python",
   "name": "python3"
  },
  "language_info": {
   "codemirror_mode": {
    "name": "ipython",
    "version": 3
   },
   "file_extension": ".py",
   "mimetype": "text/x-python",
   "name": "python",
   "nbconvert_exporter": "python",
   "pygments_lexer": "ipython3",
   "version": "3.9.7"
  }
 },
 "nbformat": 4,
 "nbformat_minor": 5
}
