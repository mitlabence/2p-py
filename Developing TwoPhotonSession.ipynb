{
 "cells": [
  {
   "cell_type": "code",
   "execution_count": null,
   "id": "243b9861",
   "metadata": {},
   "outputs": [],
   "source": [
    "#Auto-reload modules (used to develop functions outside this notebook)\n",
    "%load_ext autoreload\n",
    "%autoreload 2"
   ]
  },
  {
   "cell_type": "code",
   "execution_count": null,
   "id": "075184f8",
   "metadata": {},
   "outputs": [],
   "source": [
    "import h5py\n",
    "import pandas as pd"
   ]
  },
  {
   "cell_type": "code",
   "execution_count": null,
   "id": "f5954acf",
   "metadata": {},
   "outputs": [],
   "source": [
    "import labrotation.two_photon_session as tps # TODO: in this cell, kernel dies on other PC\n",
    "import os"
   ]
  },
  {
   "cell_type": "code",
   "execution_count": null,
   "id": "f28a5cf1",
   "metadata": {},
   "outputs": [],
   "source": [
    "FOLDER = os.path.normpath(\"D:\\PhD\\Data\\T386_MatlabTest\")\n",
    "\n",
    "ND2_GREEN_FNAME = \"T386_20211202_green.nd2\"\n",
    "ND2_GREEN_LFP = \"21d02000.abf\"\n",
    "ND2_GREEN_LV = \"T386.021221.1105.txt\"\n",
    "ND2_GREEN_LVTIME = \"T386.021221.1105time.txt\"\n",
    "ND2_GREEN_NIK = \"T386.021221.1105nik.txt\"\n",
    "\n",
    "ND2_DUAL_FNAME = \"T386_20211202_green_red.nd2\"\n",
    "ND2_DUAL_LFP = \"21d02001.abf\"\n",
    "ND2_DUAL_LV = \"T386.021221.1106.txt\"\n",
    "ND2_DUAL_LVTIME = \"T386.021221.1106time.txt\"\n",
    "ND2_DUAL_NIK = \"T386.021221.1106_nik.txt\"\n"
   ]
  },
  {
   "cell_type": "code",
   "execution_count": null,
   "id": "595f5c75",
   "metadata": {},
   "outputs": [],
   "source": [
    "MATLAB_2P_PATH = os.path.normpath(\"D:\\\\PhD\\\\matlab-2p\\\\matlab-2p\\\\\")\n",
    "\n",
    "# only green channel\n",
    "nd2_green_fpath = os.path.join(FOLDER, ND2_GREEN_FNAME)\n",
    "nd2_green_lfp_fpath = os.path.join(FOLDER, ND2_GREEN_LFP)\n",
    "nd2_green_lv_fpath = os.path.join(FOLDER, ND2_GREEN_LV)\n",
    "nd2_green_lvtime_fpath = os.path.join(FOLDER, ND2_GREEN_LVTIME)\n",
    "nd2_green_nik_fpath = os.path.join(FOLDER, ND2_GREEN_NIK)\n",
    "\n",
    "# export json files (for testing reopening)\n",
    "nd2_green_full_json = os.path.join(FOLDER, \"GREEN_full.json\")\n",
    "nd2_green_full_hd5f = os.path.join(FOLDER, \"GREEN_full.h5\")\n",
    "nd2_green_nolfp_json = os.path.join(FOLDER, \"GREEN_nolfp.json\")\n",
    "nd2_green_nolfp_hd5f = os.path.join(FOLDER, \"GREEN_nolfp.h5\")\n",
    "\n",
    "# green and red channels\n",
    "nd2_dual_fpath = os.path.join(FOLDER, ND2_DUAL_FNAME)\n",
    "nd2_dual_lfp_fpath = os.path.join(FOLDER, ND2_DUAL_LFP)\n",
    "nd2_dual_lv_fpath = os.path.join(FOLDER, ND2_DUAL_LV)\n",
    "nd2_dual_lvtime_fpath = os.path.join(FOLDER, ND2_DUAL_LVTIME)\n",
    "nd2_dual_nik_fpath = os.path.join(FOLDER, ND2_DUAL_NIK)\n",
    "\n",
    "nd2_dual_full_json = os.path.join(FOLDER, \"DUAL_full.json\")\n",
    "nd2_dual_full_hd5f = os.path.join(FOLDER, \"DUAL_full.h5\")\n",
    "nd2_dual_nolfp_json = os.path.join(FOLDER, \"DUAL_nolfp.json\")\n",
    "nd2_dual_nolfp_hd5f = os.path.join(FOLDER, \"DUAL_nolfp.h5\")"
   ]
  },
  {
   "cell_type": "code",
   "execution_count": null,
   "id": "4412e493",
   "metadata": {},
   "outputs": [],
   "source": [
    "# TODO: make method to see movement traces matching quality\n",
    "session = tps.TwoPhotonSession.init_and_process(nd2_path=nd2_green_fpath,\n",
    "                               nd2_timestamps_path=nd2_green_nik_fpath,\n",
    "                               labview_path=nd2_green_lv_fpath,\n",
    "                               labview_timestamps_path=nd2_green_lvtime_fpath,\n",
    "                               lfp_path=nd2_green_lfp_fpath,\n",
    "                               matlab_2p_folder=MATLAB_2P_PATH)"
   ]
  },
  {
   "cell_type": "code",
   "execution_count": null,
   "id": "039a7882",
   "metadata": {},
   "outputs": [],
   "source": [
    "session.export_hdf5(fpath=nd2_green_full_hd5f)"
   ]
  },
  {
   "cell_type": "markdown",
   "id": "cb28c512",
   "metadata": {},
   "source": [
    "# Open from hdf5"
   ]
  },
  {
   "cell_type": "code",
   "execution_count": null,
   "id": "6e62b98d",
   "metadata": {},
   "outputs": [],
   "source": [
    "session2 = tps.TwoPhotonSession.from_hdf5(nd2_green_full_hd5f)"
   ]
  },
  {
   "cell_type": "code",
   "execution_count": null,
   "id": "cb57274c",
   "metadata": {},
   "outputs": [],
   "source": [
    "session2.__dict__.keys() == session.__dict__.keys()"
   ]
  },
  {
   "cell_type": "code",
   "execution_count": null,
   "id": "d00ab966",
   "metadata": {},
   "outputs": [],
   "source": [
    "for key, value in session2.__dict__.items():\n",
    "    print(f\"{key}: {type(value)}\")"
   ]
  },
  {
   "cell_type": "markdown",
   "id": "ae13d844",
   "metadata": {},
   "source": [
    "## print all attributes"
   ]
  },
  {
   "cell_type": "code",
   "execution_count": null,
   "id": "d3430e2b",
   "metadata": {},
   "outputs": [],
   "source": [
    "for key, value in session.__dict__.items():\n",
    "    if isinstance(value, pd.DataFrame):\n",
    "        print(key)\n",
    "        for col in value.columns:\n",
    "            try:\n",
    "                print(f\"\\t{col}: {(value[col] == getattr(session2, key)[col]).all()}\")\n",
    "            except ValueError:\n",
    "                print(f\"\\t{col}: {(value[col].to_numpy() == getattr(session2, key)[col].to_numpy()).all()}\")\n",
    "    elif isinstance(value, dict):\n",
    "        for k, v in value.items():\n",
    "            trues = (v == getattr(session2,key)[k])\n",
    "            try:  # all() exists only for iterables.\n",
    "                print(f\"{k}:\\t{trues.all()}\")\n",
    "            except AttributeError: # for single elements\n",
    "                print(f\"{k}:\\t{trues}\")\n",
    "    elif isinstance(value, pd.Series):\n",
    "        print(\"Skipping series\")\n",
    "    else:\n",
    "        print(f\"{key}: {value == getattr(session2, key)}\")"
   ]
  },
  {
   "cell_type": "markdown",
   "id": "8586f955",
   "metadata": {},
   "source": [
    "## print only attributes that do not match"
   ]
  },
  {
   "cell_type": "code",
   "execution_count": null,
   "id": "312f6cf7",
   "metadata": {},
   "outputs": [],
   "source": [
    "for key, value in session.__dict__.items():\n",
    "    if isinstance(value, pd.DataFrame):\n",
    "        for col in value.columns:\n",
    "            try:\n",
    "                if not (value[col] == getattr(session2, key)[col]).all():\n",
    "                    print(f\"{key}:\\t{col}:\\tFalse\")\n",
    "            except ValueError:\n",
    "                if not (value[col].to_numpy() == getattr(session2, key)[col].to_numpy()).all():\n",
    "                    print(f\"{key}:\\t{col}:\\tFalse\")\n",
    "    elif isinstance(value, dict):\n",
    "        for k, v in value.items():\n",
    "            trues = (v == getattr(session2,key)[k])\n",
    "            try:  # all() exists only for iterables.\n",
    "                if not trues.all():\n",
    "                    print(f\"{key}:\\t{k}:\\tFalse\")\n",
    "            except AttributeError: # for single elements\n",
    "                if not trues:\n",
    "                    print(f\"{key}:\\t{k}:\\tFalse\")\n",
    "    elif isinstance(value, pd.Series):\n",
    "        if not (value == getattr(session2, key)).all():\n",
    "            print(f\"{key}:\\tFalse\")\n",
    "    else:\n",
    "        if not value == getattr(session2, key):\n",
    "            print(f\"{key}:\\tFalse\")"
   ]
  },
  {
   "cell_type": "code",
   "execution_count": null,
   "id": "0c3d81c1",
   "metadata": {},
   "outputs": [],
   "source": [
    "session.nikon_meta[\"NIDAQ Time [s]\"] == session2.nikon_meta[\"NIDAQ Time [s]\"]"
   ]
  },
  {
   "cell_type": "code",
   "execution_count": null,
   "id": "371b8a61",
   "metadata": {},
   "outputs": [],
   "source": [
    "session2.nikon_meta[\"NIDAQ Time [s]\"]"
   ]
  },
  {
   "cell_type": "code",
   "execution_count": null,
   "id": "267dfbf4",
   "metadata": {},
   "outputs": [],
   "source": [
    "for col in session.nikon_meta.columns:\n",
    "    print(sum(session.nikon_meta[col] == session2.nikon_meta[col]) == len(session.nikon_meta))"
   ]
  },
  {
   "cell_type": "code",
   "execution_count": null,
   "id": "c56be168",
   "metadata": {},
   "outputs": [],
   "source": [
    "len(session.nikon_meta[\"Unnamed: 5\"].dropna())"
   ]
  },
  {
   "cell_type": "code",
   "execution_count": null,
   "id": "157f8103",
   "metadata": {},
   "outputs": [],
   "source": [
    "for col in session.nikon_meta.columns:\n",
    "    if len(session.nikon_meta[col].dropna()) < len(session.nikon_meta[col]):\n",
    "        print(col)"
   ]
  },
  {
   "cell_type": "code",
   "execution_count": null,
   "id": "d5733d36",
   "metadata": {},
   "outputs": [],
   "source": [
    "(session.belt_dict[\"round\"] == session2.belt_dict[\"round\"]).all()"
   ]
  },
  {
   "cell_type": "code",
   "execution_count": null,
   "id": "23bc6ab2",
   "metadata": {},
   "outputs": [],
   "source": [
    "for key, val in session.belt_dict.items():\n",
    "    print(f\"{key}:\\t{(val == session2.belt_dict[key]).all()}\")"
   ]
  },
  {
   "cell_type": "code",
   "execution_count": null,
   "id": "d91eea0b",
   "metadata": {},
   "outputs": [],
   "source": [
    "session.lfp_df_cut"
   ]
  },
  {
   "cell_type": "code",
   "execution_count": null,
   "id": "7497a42b",
   "metadata": {},
   "outputs": [],
   "source": [
    "session2.lfp_df_cut[\"t_mov_raw\"].to_numpy()"
   ]
  },
  {
   "cell_type": "code",
   "execution_count": null,
   "id": "20bf0397",
   "metadata": {},
   "outputs": [],
   "source": [
    "session.lfp_df_cut[\"t_mov_raw\"].to_numpy()"
   ]
  },
  {
   "cell_type": "code",
   "execution_count": null,
   "id": "c28900c0",
   "metadata": {},
   "outputs": [],
   "source": [
    "(session.lfp_df_cut[\"t_mov_raw\"].to_numpy() == session2.lfp_df_cut[\"t_mov_raw\"].to_numpy()).all()"
   ]
  },
  {
   "cell_type": "code",
   "execution_count": null,
   "id": "31abf5bf",
   "metadata": {},
   "outputs": [],
   "source": [
    "(session.nikon_daq_time == session2.nikon_daq_time).all()"
   ]
  },
  {
   "cell_type": "code",
   "execution_count": null,
   "id": "49baeb11",
   "metadata": {},
   "outputs": [],
   "source": []
  }
 ],
 "metadata": {
  "kernelspec": {
   "display_name": "Python 3 (ipykernel)",
   "language": "python",
   "name": "python3"
  },
  "language_info": {
   "codemirror_mode": {
    "name": "ipython",
    "version": 3
   },
   "file_extension": ".py",
   "mimetype": "text/x-python",
   "name": "python",
   "nbconvert_exporter": "python",
   "pygments_lexer": "ipython3",
   "version": "3.8.12"
  }
 },
 "nbformat": 4,
 "nbformat_minor": 5
}
