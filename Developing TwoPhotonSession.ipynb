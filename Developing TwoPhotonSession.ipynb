{
 "cells": [
  {
   "cell_type": "code",
   "execution_count": 1,
   "id": "243b9861",
   "metadata": {},
   "outputs": [],
   "source": [
    "#Auto-reload modules (used to develop functions outside this notebook)\n",
    "%load_ext autoreload\n",
    "%autoreload 2"
   ]
  },
  {
   "cell_type": "code",
   "execution_count": 2,
   "id": "f5954acf",
   "metadata": {},
   "outputs": [],
   "source": [
    "import labrotation.two_photon_session as tps\n",
    "import os"
   ]
  },
  {
   "cell_type": "code",
   "execution_count": 3,
   "id": "f28a5cf1",
   "metadata": {},
   "outputs": [],
   "source": [
    "FOLDER = os.path.normpath(\"D:\\PhD\\Data\\T386_MatlabTest\")\n",
    "\n",
    "ND2_GREEN_FNAME = \"T386_20211202_green.nd2\"\n",
    "ND2_GREEN_LFP = \"21d02000.abf\"\n",
    "ND2_GREEN_LV = \"T386.021221.1105.txt\"\n",
    "ND2_GREEN_LVTIME = \"T386.021221.1105time.txt\"\n",
    "ND2_GREEN_NIK = \"T386.021221.1105nik.txt\"\n",
    "\n",
    "ND2_DUAL_FNAME = \"T386_20211202_green_red.nd2\"\n",
    "ND2_DUAL_LFP = \"21d02001.abf\"\n",
    "ND2_DUAL_LV = \"T386.021221.1106.txt\"\n",
    "ND2_DUAL_LVTIME = \"T386.021221.1106time.txt\"\n",
    "ND2_DUAL_NIK = \"T386.021221.1106_nik.txt\"\n"
   ]
  },
  {
   "cell_type": "code",
   "execution_count": 4,
   "id": "595f5c75",
   "metadata": {},
   "outputs": [],
   "source": [
    "MATLAB_2P_PATH = os.path.normpath(\"D:\\\\PhD\\\\matlab-2p\\\\matlab-2p\\\\\")\n",
    "\n",
    "# only green channel\n",
    "nd2_green_fpath = os.path.join(FOLDER, ND2_GREEN_FNAME)\n",
    "nd2_green_lfp_fpath = os.path.join(FOLDER, ND2_GREEN_LFP)\n",
    "nd2_green_lv_fpath = os.path.join(FOLDER, ND2_GREEN_LV)\n",
    "nd2_green_lvtime_fpath = os.path.join(FOLDER, ND2_GREEN_LVTIME)\n",
    "nd2_green_nik_fpath = os.path.join(FOLDER, ND2_GREEN_NIK)\n",
    "\n",
    "# export json files (for testing reopening)\n",
    "nd2_green_full_json = os.path.join(FOLDER, \"GREEN_full.json\")\n",
    "nd2_green_nolfp_json = os.path.join(FOLDER, \"GREEN_nolfp.json\")\n",
    "\n",
    "# green and red channels\n",
    "nd2_dual_fpath = os.path.join(FOLDER, ND2_DUAL_FNAME)\n",
    "nd2_dual_lfp_fpath = os.path.join(FOLDER, ND2_DUAL_LFP)\n",
    "nd2_dual_lv_fpath = os.path.join(FOLDER, ND2_DUAL_LV)\n",
    "nd2_dual_lvtime_fpath = os.path.join(FOLDER, ND2_DUAL_LVTIME)\n",
    "nd2_dual_nik_fpath = os.path.join(FOLDER, ND2_DUAL_NIK)\n",
    "\n",
    "nd2_dual_full_json = os.path.join(FOLDER, \"DUAL_full.json\")\n",
    "nd2_dual_nolfp_json = os.path.join(FOLDER, \"DUAL_nolfp.json\")"
   ]
  },
  {
   "cell_type": "code",
   "execution_count": 5,
   "id": "4412e493",
   "metadata": {},
   "outputs": [
    {
     "name": "stderr",
     "output_type": "stream",
     "text": [
      "D:\\Software\\anaconda\\envs\\2ppy\\lib\\site-packages\\pims\\base_frames.py:472: UserWarning: Please call FramesSequenceND.__init__() at the start of thethe reader initialization.\n",
      "  warn(\"Please call FramesSequenceND.__init__() at the start of the\"\n"
     ]
    },
    {
     "name": "stdout",
     "output_type": "stream",
     "text": [
      "Calling Matlab-2p beltProcessPipelineExpProps with arguments:\n",
      "\tD:\\PhD\\Data\\T386_MatlabTest\n",
      "\tT386.021221.1105\n",
      "\tT386.021221.1105nik\n",
      "Difference of starting times (s): 5.326003\n"
     ]
    }
   ],
   "source": [
    "session = tps.TwoPhotonSession.init_and_process(nd2_path=nd2_green_fpath,\n",
    "                               nd2_timestamps_path=nd2_green_nik_fpath,\n",
    "                               labview_path=nd2_green_lv_fpath,\n",
    "                               labview_timestamps_path=nd2_green_lvtime_fpath,\n",
    "                               lfp_path=nd2_green_lfp_fpath,\n",
    "                               matlab_2p_folder=MATLAB_2P_PATH)"
   ]
  },
  {
   "cell_type": "code",
   "execution_count": 6,
   "id": "039a7882",
   "metadata": {},
   "outputs": [
    {
     "name": "stdout",
     "output_type": "stream",
     "text": [
      "Saved TwoPhotonSession instance to json file:\n",
      "\tD:\\PhD\\Data\\T386_MatlabTest\\GREEN_full.json\n"
     ]
    }
   ],
   "source": [
    "session.export_json(fpath=nd2_green_full_json)"
   ]
  },
  {
   "cell_type": "code",
   "execution_count": 7,
   "id": "cd3062c6",
   "metadata": {},
   "outputs": [],
   "source": [
    "session2 = tps.TwoPhotonSession.from_json(fpath=nd2_green_full_json)"
   ]
  },
  {
   "cell_type": "code",
   "execution_count": 8,
   "id": "deca650a",
   "metadata": {},
   "outputs": [
    {
     "data": {
      "text/plain": [
       "False"
      ]
     },
     "execution_count": 8,
     "metadata": {},
     "output_type": "execute_result"
    }
   ],
   "source": [
    "session == session2"
   ]
  },
  {
   "cell_type": "code",
   "execution_count": 9,
   "id": "4f9f06fd",
   "metadata": {},
   "outputs": [
    {
     "data": {
      "text/plain": [
       "True"
      ]
     },
     "execution_count": 9,
     "metadata": {},
     "output_type": "execute_result"
    }
   ],
   "source": [
    "session.__dict__.keys() == session2.__dict__.keys()"
   ]
  },
  {
   "cell_type": "code",
   "execution_count": 10,
   "id": "c9f0b576",
   "metadata": {},
   "outputs": [
    {
     "name": "stdout",
     "output_type": "stream",
     "text": [
      "Not matching values for keys:\n",
      "*   nikon_movie: <class 'NoneType'>\t\t instead of \t<class 'pims_nd2.nd2reader.ND2_Reader'>\n",
      "*   lfp_file: <class 'NoneType'>\t\t instead of \t<class 'pyabf.abf.ABF'>\n",
      "*   belt_dict: <class 'NoneType'>\t\t instead of \t<class 'dict'>\n",
      "*   belt_scn_dict: <class 'NoneType'>\t\t instead of \t<class 'dict'>\n",
      "*   belt_params: <class 'NoneType'>\t\t instead of \t<class 'dict'>\n",
      "*   lfp_t_start: <class 'datetime.datetime'>\t\t instead of \t<class 'datetime.datetime'>\n",
      "*   nik_t_start: <class 'datetime.datetime'>\t\t instead of \t<class 'datetime.datetime'>\n"
     ]
    }
   ],
   "source": [
    "print(\"Not matching values for keys:\")\n",
    "for key in session.__dict__.keys():\n",
    "    try: \n",
    "        isequal = session.__dict__[key] == session2.__dict__[key]\n",
    "        if not isequal:\n",
    "            print(f\"*   {key}: {type(session2.__dict__[key])}\\t\\t instead of \\t{type(session.__dict__[key])}\")\n",
    "    except ValueError:\n",
    "        continue"
   ]
  },
  {
   "cell_type": "code",
   "execution_count": 11,
   "id": "419b9929",
   "metadata": {},
   "outputs": [
    {
     "name": "stdout",
     "output_type": "stream",
     "text": [
      "2021-12-02 10:05:39.204000+00:00\n"
     ]
    }
   ],
   "source": [
    "print(session.lfp_t_start)"
   ]
  },
  {
   "cell_type": "code",
   "execution_count": 12,
   "id": "0656a6f3",
   "metadata": {},
   "outputs": [
    {
     "name": "stdout",
     "output_type": "stream",
     "text": [
      "2021-12-02 10:05:39.204000\n"
     ]
    }
   ],
   "source": [
    "print(session2.lfp_t_start)"
   ]
  },
  {
   "cell_type": "code",
   "execution_count": null,
   "id": "5d86414b",
   "metadata": {},
   "outputs": [],
   "source": []
  }
 ],
 "metadata": {
  "kernelspec": {
   "display_name": "Python 3 (ipykernel)",
   "language": "python",
   "name": "python3"
  },
  "language_info": {
   "codemirror_mode": {
    "name": "ipython",
    "version": 3
   },
   "file_extension": ".py",
   "mimetype": "text/x-python",
   "name": "python",
   "nbconvert_exporter": "python",
   "pygments_lexer": "ipython3",
   "version": "3.8.12"
  }
 },
 "nbformat": 4,
 "nbformat_minor": 5
}
