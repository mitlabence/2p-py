{
 "cells": [
  {
   "cell_type": "code",
   "execution_count": null,
   "id": "f6d2f972",
   "metadata": {},
   "outputs": [],
   "source": [
    "#Auto-reload modules (used to develop functions outside this notebook)\n",
    "%load_ext autoreload\n",
    "%autoreload 2"
   ]
  },
  {
   "cell_type": "code",
   "execution_count": null,
   "id": "7b36c31b",
   "metadata": {},
   "outputs": [],
   "source": [
    "import labrotation.file_handling as fh\n",
    "#from labrotation.two_photon_session import TwoPhotonSession as TPS\n",
    "from nd2_to_caiman import np_arr_from_nd2, np_arr_and_time_stamps_from_nd2\n",
    "import numpy as np\n",
    "import matplotlib.pylab as plt\n",
    "import matplotlib.animation as animation\n",
    "import subprocess\n",
    "import csv\n",
    "from mpl_toolkits.axes_grid1.anchored_artists import AnchoredSizeBar\n",
    "import matplotlib.font_manager as fm\n",
    "from matplotlib import pyplot\n",
    "import os\n",
    "from PIL import Image, ImageSequence\n",
    "import pims_nd2\n"
   ]
  },
  {
   "cell_type": "markdown",
   "id": "6d0fca4a",
   "metadata": {},
   "source": [
    "# 4 videos in 2x2 grid"
   ]
  },
  {
   "cell_type": "code",
   "execution_count": null,
   "id": "a84b91c3",
   "metadata": {},
   "outputs": [],
   "source": [
    "videos_lis = []\n",
    "# video order: top left - top right - bottom left - bottom right\n",
    "for i_video in range(4):\n",
    "    videos_lis.append(fh.open_file(f\"Select tif file {i_video+1}\"))"
   ]
  },
  {
   "cell_type": "code",
   "execution_count": null,
   "id": "31d503c4",
   "metadata": {},
   "outputs": [],
   "source": [
    "# set frames to start at\n",
    "start_frames = [1, 1, 1, 1]\n",
    "# set length of the videos\n",
    "n_frames = 824"
   ]
  },
  {
   "cell_type": "code",
   "execution_count": null,
   "id": "5bbb81da",
   "metadata": {},
   "outputs": [],
   "source": [
    "all_nd2 = True\n",
    "for vid in videos_lis:\n",
    "    if os.path.splitext(vid)[-1] != \".nd2\":\n",
    "        all_nd2 = False"
   ]
  },
  {
   "cell_type": "code",
   "execution_count": null,
   "id": "c5ed795f",
   "metadata": {},
   "outputs": [],
   "source": []
  },
  {
   "cell_type": "code",
   "execution_count": null,
   "id": "348ebdf3",
   "metadata": {},
   "outputs": [],
   "source": [
    "# videos_np contains all the videos. indices: [i_video][i_frame][x][y] (or [y][x], not sure)\n",
    "videos_np = []\n",
    "if all_nd2:\n",
    "    img = np.array(pims_nd2.ND2_Reader(videos_lis[0])[0])\n",
    "    for i_vid, vid_fpath in enumerate(videos_lis):\n",
    "        nik_vid = pims_nd2.ND2_Reader(vid_fpath)[start_frames[i_vid]:start_frames[i_vid]+n_frames]\n",
    "        nik_vid_np = np.array(nik_vid)\n",
    "        videos_np.append(nik_vid_np)\n",
    "else:\n",
    "    img = Image.open(videos_lis[0])\n",
    "    for i_vid in range(len(videos_lis)):\n",
    "        vid = Image.open(videos_lis[i_vid])\n",
    "        zeros_arr = np.zeros(shape=(vid.n_frames, vid.size[0], vid.size[1]), dtype = np.array(vid).dtype)\n",
    "        print(zeros_arr.shape)\n",
    "        videos_np.append(zeros_arr)\n",
    "        for i, page in enumerate(ImageSequence.Iterator(vid)):\n",
    "            videos_np[i_vid][i] = np.array(page)"
   ]
  },
  {
   "cell_type": "code",
   "execution_count": null,
   "id": "42962a7d",
   "metadata": {},
   "outputs": [],
   "source": [
    "n_rows = 2\n",
    "n_cols = 2\n",
    "default_cmap = \"Greens_r\"#\"gist_gray\"\n",
    "fig, axs = plt.subplots(n_rows,n_cols, figsize=(18,18))\n",
    "for i_row in range(n_rows):\n",
    "    for i_col in range(n_cols):\n",
    "        axs[i_row][i_col].axis('off')\n",
    "axs[0][0].imshow(videos_np[0][0], cmap=default_cmap)\n",
    "axs[0][1].imshow(videos_np[1][0], cmap=default_cmap)\n",
    "axs[1][0].imshow(videos_np[2][0], cmap=default_cmap)\n",
    "axs[1][1].imshow(videos_np[3][0], cmap=default_cmap)\n",
    "\n",
    "fig.tight_layout()\n",
    "plt.show()"
   ]
  },
  {
   "cell_type": "code",
   "execution_count": null,
   "id": "d50904b6",
   "metadata": {},
   "outputs": [],
   "source": [
    "def saveVid():  # in 1-indexing\n",
    "    fig = plt.figure(figsize=(18,18))\n",
    "    canvas_width, canvas_height = fig.canvas.get_width_height()\n",
    "    gridspec = fig.add_gridspec(2, 2)\n",
    "    \n",
    "    topleft = fig.add_subplot(gridspec[0, 0])\n",
    "    topleft.axis('off')\n",
    "    topright = fig.add_subplot(gridspec[0, 1])\n",
    "    topright.axis('off')\n",
    "    botleft = fig.add_subplot(gridspec[1, 0])\n",
    "    botleft.axis('off')\n",
    "    botright = fig.add_subplot(gridspec[1, 1])\n",
    "    botright.axis('off')\n",
    "    fig.tight_layout()\n",
    "    \n",
    "    fig_topleft = topleft.imshow(videos_np[0][0], cmap=default_cmap)\n",
    "    fig_topright = topright.imshow(videos_np[1][0], cmap=default_cmap)\n",
    "    fig_botleft = botleft.imshow(videos_np[2][0], cmap=default_cmap)\n",
    "    fig_botright = botright.imshow(videos_np[3][0], cmap=default_cmap)\n",
    "\n",
    "    \n",
    "    \n",
    "    def update(frame):\n",
    "        # your matplotlib code goes here\n",
    "        fig_topleft.set_data(videos_np[0][frame])\n",
    "        fig_topright.set_data(videos_np[1][frame])\n",
    "        fig_botleft.set_data(videos_np[2][frame])\n",
    "        fig_botright.set_data(videos_np[3][frame])\n",
    "\n",
    "\n",
    "    # Open an ffmpeg process\n",
    "    outf = os.path.join(fh.open_dir(\"Choose output folder\"), fh.get_filename_with_date(\"grid_2x2\", \".mp4\"))\n",
    "    print(outf)\n",
    "    # lossless encoding:\n",
    "    # https://stackoverflow.com/questions/37344997/how-to-get-a-lossless-encoding-with-ffmpeg-libx265\n",
    "    cmdstring = ('ffmpeg', \n",
    "                 '-y', '-r', '15', # overwrite, 1fps\n",
    "                 '-s', '%dx%d' % (canvas_width, canvas_height), # size of image string\n",
    "                 '-pix_fmt', 'argb', # format\n",
    "                 '-f', 'rawvideo',  '-i', '-', # tell ffmpeg to expect raw video from the pipe\n",
    "                 '-vb', '8M',\n",
    "                 '-vcodec', 'mpeg4', outf) # use mpeg4 encoding\n",
    "                 #'-c:v', 'libx265',\n",
    "                 #'-x265-params', '\"profile=monochrome12:crf=0:lossless=1:preset=veryslow:qp=0\"',\n",
    "                 #outf)\n",
    "    p = subprocess.Popen(cmdstring, stdin=subprocess.PIPE, shell=True)\n",
    "\n",
    "    # Draw frames and write to the pipe\n",
    "    for frame in range(0, len(videos_np[0])):\n",
    "        print(frame)\n",
    "        # draw the frame\n",
    "        update(frame)\n",
    "        fig.canvas.draw()\n",
    "\n",
    "        # extract the image as an ARGB string\n",
    "        string = fig.canvas.tostring_argb()\n",
    "        # write to pipe\n",
    "        p.stdin.write(string)\n",
    "\n",
    "    # Finish up\n",
    "    p.communicate()"
   ]
  },
  {
   "cell_type": "code",
   "execution_count": null,
   "id": "98390b05",
   "metadata": {},
   "outputs": [],
   "source": [
    "saveVid()"
   ]
  },
  {
   "cell_type": "markdown",
   "id": "45223fea",
   "metadata": {},
   "source": [
    "# 3 videos in a row"
   ]
  },
  {
   "cell_type": "code",
   "execution_count": null,
   "id": "4f9cd97b",
   "metadata": {},
   "outputs": [],
   "source": [
    "videos_lis = []\n",
    "for i_video in range(3):\n",
    "    videos_lis.append(fh.open_file(f\"Select tif file {i_video+1}\"))"
   ]
  },
  {
   "cell_type": "code",
   "execution_count": null,
   "id": "63e93a3a",
   "metadata": {},
   "outputs": [],
   "source": [
    "all_nd2 = True\n",
    "for vid in videos_lis:\n",
    "    if os.path.splitext(vid)[-1] != \".nd2\":\n",
    "        all_nd2 = False"
   ]
  },
  {
   "cell_type": "code",
   "execution_count": null,
   "id": "1458a5f4",
   "metadata": {},
   "outputs": [],
   "source": [
    "# set frames to start at\n",
    "start_frames = [1, 1, 1]\n",
    "# set length of the videos\n",
    "n_frames = 824"
   ]
  },
  {
   "cell_type": "code",
   "execution_count": null,
   "id": "4823bfd7",
   "metadata": {},
   "outputs": [],
   "source": [
    "# videos_np contains all the videos. indices: [i_video][i_frame][x][y] (or [y][x], not sure)\n",
    "videos_np = []\n",
    "if all_nd2:\n",
    "    img = np.array(pims_nd2.ND2_Reader(videos_lis[0])[0])\n",
    "    for i_vid, vid_fpath in enumerate(videos_lis):\n",
    "        nik_vid = pims_nd2.ND2_Reader(vid_fpath)[start_frames[i_vid]:start_frames[i_vid]+n_frames]\n",
    "        nik_vid_np = np.array(nik_vid)\n",
    "        videos_np.append(nik_vid_np)\n",
    "else:\n",
    "    img = Image.open(videos_lis[0])\n",
    "    for i_vid in range(len(videos_lis)):\n",
    "        vid = Image.open(videos_lis[i_vid])\n",
    "        zeros_arr = np.zeros(shape=(vid.n_frames, vid.size[0], vid.size[1]), dtype = np.array(vid).dtype)\n",
    "        print(zeros_arr.shape)\n",
    "        videos_np.append(zeros_arr)\n",
    "        for i, page in enumerate(ImageSequence.Iterator(vid)):\n",
    "            videos_np[i_vid][i] = np.array(page)"
   ]
  },
  {
   "cell_type": "code",
   "execution_count": null,
   "id": "c294124e",
   "metadata": {},
   "outputs": [],
   "source": [
    "n_rows = 1\n",
    "n_cols = 3\n",
    "default_cmap = \"Greens_r\"#\"gist_gray\"\n",
    "fig, axs = plt.subplots(n_rows,n_cols, figsize=(18,6))\n",
    "for i_col in range(n_cols):\n",
    "    axs[i_col].axis('off')\n",
    "axs[0].imshow(videos_np[0][0], cmap=default_cmap)\n",
    "axs[1].imshow(videos_np[1][0], cmap=default_cmap)\n",
    "axs[2].imshow(videos_np[2][0], cmap=default_cmap)\n",
    "\n",
    "#fig.tight_layout()\n",
    "plt.show()"
   ]
  },
  {
   "cell_type": "code",
   "execution_count": null,
   "id": "c682309e",
   "metadata": {},
   "outputs": [],
   "source": [
    "def saveVidSingleRow3():  # in 1-indexing\n",
    "    fig = plt.figure(figsize=(18,6))\n",
    "    canvas_width, canvas_height = fig.canvas.get_width_height()\n",
    "    gridspec = fig.add_gridspec(1, 3)\n",
    "    \n",
    "    left = fig.add_subplot(gridspec[0, 0])\n",
    "    left.axis('off')\n",
    "    mid = fig.add_subplot(gridspec[0, 1])\n",
    "    mid.axis('off')\n",
    "    right = fig.add_subplot(gridspec[0, 2])\n",
    "    right.axis('off')\n",
    "    fig.tight_layout()\n",
    "    \n",
    "    fig_left = left.imshow(videos_np[0][0], cmap=default_cmap)\n",
    "    fig_mid = mid.imshow(videos_np[1][0], cmap=default_cmap)\n",
    "    fig_right = right.imshow(videos_np[2][0], cmap=default_cmap)\n",
    "    \n",
    "    def update(frame):\n",
    "        # your matplotlib code goes here\n",
    "        fig_left.set_data(videos_np[0][frame])\n",
    "        fig_mid.set_data(videos_np[1][frame])\n",
    "        fig_right.set_data(videos_np[2][frame])\n",
    "\n",
    "\n",
    "    # Open an ffmpeg process\n",
    "    outf = os.path.join(fh.open_dir(\"Choose output folder\"), fh.get_filename_with_date(\"single_row_3_vids\", \".mp4\"))\n",
    "    print(outf)\n",
    "    # lossless encoding:\n",
    "    # https://stackoverflow.com/questions/37344997/how-to-get-a-lossless-encoding-with-ffmpeg-libx265\n",
    "    cmdstring = ('ffmpeg', \n",
    "                 '-y', '-r', '15', # overwrite, 1fps\n",
    "                 '-s', '%dx%d' % (canvas_width, canvas_height), # size of image string\n",
    "                 '-pix_fmt', 'argb', # format\n",
    "                 '-f', 'rawvideo',  '-i', '-', # tell ffmpeg to expect raw video from the pipe\n",
    "                 #'-crf', '18',  # would be probably the best solution but it does not work\n",
    "                 #'-vcodec', 'libx264', outf) \n",
    "                 '-vb', '5M',\n",
    "                 '-vcodec', 'mpeg4', outf) # use mpeg4 encoding\n",
    "                 #'-c:v', 'libx265',\n",
    "                 #'-x265-params', '\"profile=monochrome12:crf=0:lossless=1:preset=veryslow:qp=0\"',\n",
    "                 #outf)\n",
    "    p = subprocess.Popen(cmdstring, stdin=subprocess.PIPE, shell=True)\n",
    "\n",
    "    # Draw frames and write to the pipe\n",
    "    for frame in range(0, len(videos_np[0])):  # \n",
    "        print(frame)\n",
    "        # draw the frame\n",
    "        update(frame)\n",
    "        fig.canvas.draw()\n",
    "\n",
    "        # extract the image as an ARGB string\n",
    "        string = fig.canvas.tostring_argb()\n",
    "        # write to pipe\n",
    "        p.stdin.write(string)\n",
    "\n",
    "    # Finish up\n",
    "    p.communicate()"
   ]
  },
  {
   "cell_type": "code",
   "execution_count": null,
   "id": "ac3f06b8",
   "metadata": {},
   "outputs": [],
   "source": [
    "saveVidSingleRow3()"
   ]
  },
  {
   "cell_type": "code",
   "execution_count": null,
   "id": "f5a1914f",
   "metadata": {},
   "outputs": [],
   "source": []
  }
 ],
 "metadata": {
  "kernelspec": {
   "display_name": "Python 3 (ipykernel)",
   "language": "python",
   "name": "python3"
  },
  "language_info": {
   "codemirror_mode": {
    "name": "ipython",
    "version": 3
   },
   "file_extension": ".py",
   "mimetype": "text/x-python",
   "name": "python",
   "nbconvert_exporter": "python",
   "pygments_lexer": "ipython3",
   "version": "3.8.12"
  }
 },
 "nbformat": 4,
 "nbformat_minor": 5
}
