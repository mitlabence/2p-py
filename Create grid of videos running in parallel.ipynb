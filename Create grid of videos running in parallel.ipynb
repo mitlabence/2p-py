{
 "cells": [
  {
   "cell_type": "code",
   "execution_count": null,
   "id": "f6d2f972",
   "metadata": {},
   "outputs": [],
   "source": [
    "#Auto-reload modules (used to develop functions outside this notebook)\n",
    "%load_ext autoreload\n",
    "%autoreload 2"
   ]
  },
  {
   "cell_type": "code",
   "execution_count": null,
   "id": "7b36c31b",
   "metadata": {},
   "outputs": [],
   "source": [
    "import labrotation.file_handling as fh\n",
    "#from labrotation.two_photon_session import TwoPhotonSession as TPS\n",
    "from nd2_to_caiman import np_arr_from_nd2, np_arr_and_time_stamps_from_nd2\n",
    "import numpy as np\n",
    "import matplotlib.pylab as plt\n",
    "import matplotlib.animation as animation\n",
    "import subprocess\n",
    "import csv\n",
    "from mpl_toolkits.axes_grid1.anchored_artists import AnchoredSizeBar\n",
    "import matplotlib.font_manager as fm\n",
    "from matplotlib import pyplot\n",
    "import os\n",
    "from PIL import Image, ImageSequence"
   ]
  },
  {
   "cell_type": "code",
   "execution_count": null,
   "id": "a84b91c3",
   "metadata": {},
   "outputs": [],
   "source": [
    "videos_lis = []\n",
    "for i_video in range(4):\n",
    "    videos_lis.append(fh.open_file(f\"Select tif file {i_video+1}\"))"
   ]
  },
  {
   "cell_type": "code",
   "execution_count": null,
   "id": "9d67de37",
   "metadata": {},
   "outputs": [],
   "source": [
    "img = Image.open(videos_lis[0])"
   ]
  },
  {
   "cell_type": "code",
   "execution_count": null,
   "id": "8efc54e2",
   "metadata": {},
   "outputs": [],
   "source": [
    "# videos_np contains all the videos. indices: [i_video][i_frame][x][y] (or [y][x], not sure)\n",
    "videos_np = []\n",
    "for i_vid in range(len(videos_lis)):\n",
    "    vid = Image.open(videos_lis[i_vid])\n",
    "    zeros_arr = np.zeros(shape=(vid.n_frames, vid.size[0], vid.size[1]), dtype = np.array(vid).dtype)\n",
    "    print(zeros_arr.shape)\n",
    "    videos_np.append(zeros_arr)\n",
    "    for i, page in enumerate(ImageSequence.Iterator(vid)):\n",
    "        videos_np[i_vid][i] = np.array(page)"
   ]
  },
  {
   "cell_type": "code",
   "execution_count": null,
   "id": "42962a7d",
   "metadata": {},
   "outputs": [],
   "source": [
    "n_rows = 2\n",
    "n_cols = 2\n",
    "default_cmap = \"Greens_r\"#\"gist_gray\"\n",
    "fig, axs = plt.subplots(n_rows,n_cols, figsize=(18,18))\n",
    "for i_row in range(n_rows):\n",
    "    for i_col in range(n_cols):\n",
    "        axs[i_row][i_col].axis('off')\n",
    "axs[0][0].imshow(videos_np[0][0], cmap=default_cmap)\n",
    "axs[0][1].imshow(videos_np[1][0], cmap=default_cmap)\n",
    "axs[1][0].imshow(videos_np[2][0], cmap=default_cmap)\n",
    "axs[1][1].imshow(videos_np[3][0], cmap=default_cmap)\n",
    "\n",
    "fig.tight_layout()\n",
    "plt.show()"
   ]
  },
  {
   "cell_type": "code",
   "execution_count": null,
   "id": "d50904b6",
   "metadata": {},
   "outputs": [],
   "source": [
    "def saveVid():  # in 1-indexing\n",
    "    fig = plt.figure(figsize=(18,18))\n",
    "    canvas_width, canvas_height = fig.canvas.get_width_height()\n",
    "    gridspec = fig.add_gridspec(2, 2)\n",
    "    \n",
    "    topleft = fig.add_subplot(gridspec[0, 0])\n",
    "    topleft.axis('off')\n",
    "    topright = fig.add_subplot(gridspec[0, 1])\n",
    "    topright.axis('off')\n",
    "    botleft = fig.add_subplot(gridspec[1, 0])\n",
    "    botleft.axis('off')\n",
    "    botright = fig.add_subplot(gridspec[1, 1])\n",
    "    botright.axis('off')\n",
    "    fig.tight_layout()\n",
    "    \n",
    "    fig_topleft = topleft.imshow(videos_np[0][0], cmap=default_cmap)\n",
    "    fig_topright = topright.imshow(videos_np[1][0], cmap=default_cmap)\n",
    "    fig_botleft = botleft.imshow(videos_np[2][0], cmap=default_cmap)\n",
    "    fig_botright = botright.imshow(videos_np[3][0], cmap=default_cmap)\n",
    "\n",
    "    \n",
    "    \n",
    "    def update(frame):\n",
    "        # your matplotlib code goes here\n",
    "        fig_topleft.set_data(videos_np[0][frame])\n",
    "        fig_topright.set_data(videos_np[1][frame])\n",
    "        fig_botleft.set_data(videos_np[2][frame])\n",
    "        fig_botright.set_data(videos_np[3][frame])\n",
    "\n",
    "\n",
    "    # Open an ffmpeg process\n",
    "    outf = os.path.join(fh.open_dir(\"Choose output folder\"), fh.get_filename_with_date(\"test_video\", \".mp4\"))\n",
    "    print(outf)\n",
    "    # lossless encoding:\n",
    "    # https://stackoverflow.com/questions/37344997/how-to-get-a-lossless-encoding-with-ffmpeg-libx265\n",
    "    cmdstring = ('ffmpeg', \n",
    "                 '-y', '-r', '15', # overwrite, 1fps\n",
    "                 '-s', '%dx%d' % (canvas_width, canvas_height), # size of image string\n",
    "                 '-pix_fmt', 'argb', # format\n",
    "                 '-f', 'rawvideo',  '-i', '-', # tell ffmpeg to expect raw video from the pipe\n",
    "                 '-vcodec', 'mpeg4', outf) # use mpeg4 encoding\n",
    "                 #'-c:v', 'libx265',\n",
    "                 #'-x265-params', '\"profile=monochrome12:crf=0:lossless=1:preset=veryslow:qp=0\"',\n",
    "                 #outf)\n",
    "    p = subprocess.Popen(cmdstring, stdin=subprocess.PIPE, shell=True)\n",
    "\n",
    "    # Draw frames and write to the pipe\n",
    "    for frame in range(0, 200):\n",
    "        print(frame)\n",
    "        # draw the frame\n",
    "        update(frame)\n",
    "        fig.canvas.draw()\n",
    "\n",
    "        # extract the image as an ARGB string\n",
    "        string = fig.canvas.tostring_argb()\n",
    "        # write to pipe\n",
    "        p.stdin.write(string)\n",
    "\n",
    "    # Finish up\n",
    "    p.communicate()"
   ]
  },
  {
   "cell_type": "code",
   "execution_count": null,
   "id": "98390b05",
   "metadata": {},
   "outputs": [],
   "source": [
    "saveVid()"
   ]
  },
  {
   "cell_type": "code",
   "execution_count": null,
   "id": "4f9cd97b",
   "metadata": {},
   "outputs": [],
   "source": []
  }
 ],
 "metadata": {
  "kernelspec": {
   "display_name": "Python 3 (ipykernel)",
   "language": "python",
   "name": "python3"
  },
  "language_info": {
   "codemirror_mode": {
    "name": "ipython",
    "version": 3
   },
   "file_extension": ".py",
   "mimetype": "text/x-python",
   "name": "python",
   "nbconvert_exporter": "python",
   "pygments_lexer": "ipython3",
   "version": "3.8.12"
  }
 },
 "nbformat": 4,
 "nbformat_minor": 5
}
