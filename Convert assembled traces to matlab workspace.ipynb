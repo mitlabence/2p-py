{
 "cells": [
  {
   "cell_type": "code",
   "execution_count": null,
   "id": "d400ad13",
   "metadata": {},
   "outputs": [],
   "source": [
    "import h5py\n",
    "import labrotation.file_handling as fh\n",
    "import numpy as np\n",
    "import os"
   ]
  },
  {
   "cell_type": "code",
   "execution_count": null,
   "id": "c879a242",
   "metadata": {},
   "outputs": [],
   "source": [
    "assembled_traces_fpath = fh.open_file(\"Open assembled_traces.h5 file!\")"
   ]
  },
  {
   "cell_type": "markdown",
   "id": "baf83e79",
   "metadata": {},
   "source": [
    "## Gather datasets"
   ]
  },
  {
   "cell_type": "code",
   "execution_count": null,
   "id": "97b0c76f",
   "metadata": {},
   "outputs": [],
   "source": [
    "dsets_dict = dict()\n",
    "uuids_list = []\n",
    "mouse_ids_list = []\n",
    "win_types_list = []\n",
    "nik_lengths_list = []\n",
    "lfp_lengths_list = []\n",
    "with h5py.File(assembled_traces_fpath, \"r\") as hf:\n",
    "    for uuid in hf.keys():\n",
    "        uuids_list.append(uuid)\n",
    "        uuid_grp = hf[uuid]\n",
    "        win_types_list.append(uuid_grp.attrs[\"window_type\"])\n",
    "        nik_lengths_list.append(uuid_grp.attrs[\"n_frames\"])\n",
    "        lfp_lengths_list.append(uuid_grp.attrs[\"n_lfp_steps\"])\n",
    "        mouse_ids_list.append(uuid_grp.attrs[\"mouse_id\"])\n",
    "        for dset_name in uuid_grp.keys():\n",
    "            if dset_name not in dsets_dict.keys():\n",
    "                dsets_dict[dset_name] = []\n",
    "            dsets_dict[dset_name].append(uuid_grp[dset_name][:])"
   ]
  },
  {
   "cell_type": "markdown",
   "id": "e6474f80",
   "metadata": {},
   "source": [
    "## Create 2d array with 0 padding at the end"
   ]
  },
  {
   "cell_type": "code",
   "execution_count": null,
   "id": "343dff69",
   "metadata": {},
   "outputs": [],
   "source": [
    "dsets_2d_dict = dict()\n",
    "for dset_name in dsets_dict.keys():\n",
    "    max_length = max([len(dset) for dset in dsets_dict[dset_name]])\n",
    "    padded_dsets = [np.pad(dset, (0, max_length - len(dset)), 'constant') for dset in dsets_dict[dset_name]]\n",
    "    dsets_2d_dict[dset_name] = np.vstack(padded_dsets)"
   ]
  },
  {
   "cell_type": "markdown",
   "id": "00bb7e17",
   "metadata": {},
   "source": [
    "## Save reformatted dataset"
   ]
  },
  {
   "cell_type": "code",
   "execution_count": null,
   "id": "7f1ce2d6",
   "metadata": {},
   "outputs": [],
   "source": [
    "output_fname = os.path.splitext(os.path.split(assembled_traces_fpath)[-1])[0] + \"_matlab.h5\"\n",
    "output_fpath = os.path.join(os.path.split(assembled_traces_fpath)[0], output_fname)\n",
    "print(f\"Saving results to {output_fpath}\")"
   ]
  },
  {
   "cell_type": "code",
   "execution_count": null,
   "id": "8705fd36",
   "metadata": {},
   "outputs": [],
   "source": [
    "with h5py.File(output_fpath, \"w\") as hf:\n",
    "    hf.create_dataset(\"uuids\", data=uuids_list)\n",
    "    hf.create_dataset(\"mouse_ids\", data=mouse_ids_list)\n",
    "    hf.create_dataset(\"win_types\", data=win_types_list)\n",
    "    hf.create_dataset(\"nik_lengths\", data=nik_lengths_list)\n",
    "    hf.create_dataset(\"lfp_lengths\", data=lfp_lengths_list)\n",
    "    for dset_name in dsets_2d_dict.keys():\n",
    "        hf.create_dataset(dset_name, data=dsets_2d_dict[dset_name])"
   ]
  }
 ],
 "metadata": {
  "kernelspec": {
   "display_name": "Python 3 (ipykernel)",
   "language": "python",
   "name": "python3"
  },
  "language_info": {
   "codemirror_mode": {
    "name": "ipython",
    "version": 3
   },
   "file_extension": ".py",
   "mimetype": "text/x-python",
   "name": "python",
   "nbconvert_exporter": "python",
   "pygments_lexer": "ipython3",
   "version": "3.8.12"
  }
 },
 "nbformat": 4,
 "nbformat_minor": 5
}
