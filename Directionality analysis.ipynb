{
 "cells": [
  {
   "cell_type": "code",
   "execution_count": null,
   "id": "4d944e1b",
   "metadata": {},
   "outputs": [],
   "source": [
    "#Auto-reload modules (used to develop functions outside this notebook)\n",
    "%load_ext autoreload\n",
    "%autoreload 2"
   ]
  },
  {
   "cell_type": "code",
   "execution_count": null,
   "id": "72d83ce1",
   "metadata": {},
   "outputs": [],
   "source": [
    "import numpy as np\n",
    "import h5py\n",
    "from nd2_to_caiman import np_arr_from_nd2\n",
    "import labrotation.file_handling as fh\n",
    "from matplotlib import pyplot as plt\n",
    "from matplotlib.collections import PatchCollection\n",
    "from matplotlib.patches import Rectangle\n",
    "from math import floor, sqrt\n",
    "from datetime import datetime\n",
    "import json\n",
    "from labrotation import json_util\n",
    "import scipy\n",
    "from scipy import ndimage\n",
    "import datadoc_util\n",
    "from statsmodels.nonparametric.smoothers_lowess import lowess\n",
    "import pandas as pd\n",
    "import seaborn as sns\n",
    "from math import floor\n",
    "import multiprocess as mp  # multiprocessing does not work with IPython. Use fork instead.\n",
    "import os"
   ]
  },
  {
   "cell_type": "markdown",
   "id": "417e28a3",
   "metadata": {},
   "source": [
    "# Open traces file"
   ]
  },
  {
   "cell_type": "code",
   "execution_count": null,
   "id": "f9dc4411",
   "metadata": {},
   "outputs": [],
   "source": [
    "whole_traces_h5_fpath = fh.open_file(\"Open traces h5 file!\")\n",
    "print(whole_traces_h5_fpath)"
   ]
  },
  {
   "cell_type": "code",
   "execution_count": null,
   "id": "5f29dc92",
   "metadata": {},
   "outputs": [],
   "source": [
    "with h5py.File(whole_traces_h5_fpath, 'r') as hf:\n",
    "    session_uuid = hf.attrs[\"uuid\"]\n",
    "    moco_intervals = hf[\"moco_intervals\"][()]\n",
    "    moco_flags = hf[\"moco_flags\"][()]\n",
    "    cnmf_intervals = hf[\"cnmf_intervals\"][()]\n",
    "    cnmf_flags = hf[\"cnmf_flags\"][()]\n",
    "    begin_end_frames = hf[\"begin_end_frames\"][()]\n",
    "    # spatial components: CNMF A field\n",
    "    A_data = hf[\"spatial\"][\"data\"][()]\n",
    "    A_indices = hf[\"spatial\"][\"indices\"][()]\n",
    "    A_indptr = hf[\"spatial\"][\"indptr\"][()]\n",
    "    A_shape = hf[\"spatial\"][\"shape\"][()]\n",
    "    # temporal signals, i.e. neuron traces\n",
    "    temporal = hf[\"traces\"][()]"
   ]
  },
  {
   "cell_type": "code",
   "execution_count": null,
   "id": "2455827c",
   "metadata": {},
   "outputs": [],
   "source": [
    "n_neurons, n_frames = temporal.shape"
   ]
  },
  {
   "cell_type": "code",
   "execution_count": null,
   "id": "c4a11247",
   "metadata": {},
   "outputs": [],
   "source": [
    "# convert spatial from sparse matrix into dense matrix of proper dimensions\n",
    "spatial = scipy.sparse.csc.csc_matrix((A_data, A_indices, A_indptr), shape=A_shape).todense()\n",
    "spatial = np.array(spatial)  # change type to allow np.reshape (?)\n",
    "spatial = np.reshape(spatial, (512, 512, n_neurons)) # (262144 -> 512x512, i.e. \"unflatten\")\n",
    "spatial = np.transpose(spatial, axes=[2, 1,0])  # move neuron index to end"
   ]
  },
  {
   "cell_type": "code",
   "execution_count": null,
   "id": "26f0c1dc",
   "metadata": {},
   "outputs": [],
   "source": [
    "res_x, res_y = spatial[0].shape"
   ]
  },
  {
   "cell_type": "code",
   "execution_count": null,
   "id": "1205869d",
   "metadata": {},
   "outputs": [],
   "source": [
    "centers_x = np.zeros((n_neurons))\n",
    "centers_y = np.zeros((n_neurons))\n",
    "for i_neuron in range(n_neurons):\n",
    "    xy = ndimage.measurements.center_of_mass(spatial[i_neuron].T) # transpose needed so that imshow and scatter plotting match \n",
    "    centers_x[i_neuron] = xy[0]\n",
    "    centers_y[i_neuron] = xy[1]"
   ]
  },
  {
   "cell_type": "code",
   "execution_count": null,
   "id": "59cd52af",
   "metadata": {},
   "outputs": [],
   "source": [
    "fig = plt.figure(figsize=(16,16))\n",
    "plt.imshow(spatial[0])\n",
    "plt.scatter(centers_x[0], centers_y[0], color=\"lime\")\n",
    "plt.show()"
   ]
  },
  {
   "cell_type": "code",
   "execution_count": null,
   "id": "46b1f64f",
   "metadata": {},
   "outputs": [],
   "source": [
    "fig = plt.figure(figsize=(16,16))\n",
    "plt.scatter(centers_x, centers_y, color=\"red\")\n",
    "ax = plt.gca()\n",
    "ax.invert_yaxis() \n",
    "plt.show()"
   ]
  },
  {
   "cell_type": "markdown",
   "id": "4638bd65",
   "metadata": {},
   "source": [
    "# Create x values\n",
    "in best case, these should be read out of nikon metadata file..."
   ]
  },
  {
   "cell_type": "code",
   "execution_count": null,
   "id": "9f68b733",
   "metadata": {},
   "outputs": [],
   "source": [
    "x_vals = np.linspace(0, n_frames-1,num=n_frames)"
   ]
  },
  {
   "cell_type": "markdown",
   "id": "2825fcd4",
   "metadata": {},
   "source": [
    "## Get important frames\n",
    "beginning of seizure, SD waves..."
   ]
  },
  {
   "cell_type": "code",
   "execution_count": null,
   "id": "1b5e134a",
   "metadata": {},
   "outputs": [],
   "source": [
    "ddoc = datadoc_util.DataDocumentation()\n",
    "ddoc.loadDataDoc()"
   ]
  },
  {
   "cell_type": "code",
   "execution_count": null,
   "id": "a74612c9",
   "metadata": {},
   "outputs": [],
   "source": [
    "segments_list = ddoc.getSegmentsForUUID(session_uuid, as_df=False)"
   ]
  },
  {
   "cell_type": "code",
   "execution_count": null,
   "id": "690a3c85",
   "metadata": {},
   "outputs": [],
   "source": [
    "segments_list"
   ]
  },
  {
   "cell_type": "code",
   "execution_count": null,
   "id": "6646c126",
   "metadata": {},
   "outputs": [],
   "source": [
    "segments = ddoc.getSegmentsForUUID(session_uuid)"
   ]
  },
  {
   "cell_type": "code",
   "execution_count": null,
   "id": "36e243e2",
   "metadata": {},
   "outputs": [],
   "source": [
    "n_waves = len(segments[segments[\"interval_type\"] == \"sd_wave\"])\n",
    "print(f\"Recording contains {n_waves} SD waves\")"
   ]
  },
  {
   "cell_type": "code",
   "execution_count": null,
   "id": "53090787",
   "metadata": {},
   "outputs": [],
   "source": [
    "# sort by beginning frame of sd wave\n",
    "sd_waves_list = sorted(list(filter(lambda seg: seg[0] == \"sd_wave\", segments_list)), key= lambda x: x[1])  "
   ]
  },
  {
   "cell_type": "code",
   "execution_count": null,
   "id": "41a9a29e",
   "metadata": {},
   "outputs": [],
   "source": [
    "sd_waves_list"
   ]
  },
  {
   "cell_type": "code",
   "execution_count": null,
   "id": "52f29f5e",
   "metadata": {},
   "outputs": [],
   "source": [
    "i_frame_begin = sd_waves_list[0][1]\n",
    "i_frame_end = sd_waves_list[-1][2]"
   ]
  },
  {
   "cell_type": "markdown",
   "id": "678a5a15",
   "metadata": {},
   "source": [
    "# Filter signal"
   ]
  },
  {
   "cell_type": "code",
   "execution_count": null,
   "id": "7cf73305",
   "metadata": {},
   "outputs": [],
   "source": [
    "lowess_filtered_traces = np.zeros(temporal.shape)\n",
    "lowess_filtered_xvals = np.zeros(temporal.shape)"
   ]
  },
  {
   "cell_type": "markdown",
   "id": "77127c2d",
   "metadata": {},
   "source": [
    "### Run lowess filtering in parallel"
   ]
  },
  {
   "cell_type": "code",
   "execution_count": null,
   "id": "b9ce68f7",
   "metadata": {},
   "outputs": [],
   "source": [
    "mp.cpu_count()"
   ]
  },
  {
   "cell_type": "code",
   "execution_count": null,
   "id": "29bd2f92",
   "metadata": {},
   "outputs": [],
   "source": [
    "def get_lowess(row):\n",
    "    from statsmodels.nonparametric.smoothers_lowess import lowess\n",
    "    import numpy as np\n",
    "    x_vals = np.linspace(0, len(row)-1,num=len(row))\n",
    "    lowess_filtered = lowess(row, x_vals, frac=0.001, is_sorted=True,) \n",
    "    # lowess_x = lowess_filtered.T[0]\n",
    "    # lowess_y = lowess_filtered.T[1] \n",
    "    return lowess_filtered.T"
   ]
  },
  {
   "cell_type": "code",
   "execution_count": null,
   "id": "b50d0678",
   "metadata": {},
   "outputs": [],
   "source": [
    "p = mp.Pool(processes=mp.cpu_count()-2)\n",
    "lowess_results = p.map(get_lowess, temporal[range(n_neurons)])"
   ]
  },
  {
   "cell_type": "markdown",
   "id": "142edfa9",
   "metadata": {},
   "source": [
    "### Create 2d np array of results"
   ]
  },
  {
   "cell_type": "code",
   "execution_count": null,
   "id": "7e752273",
   "metadata": {},
   "outputs": [],
   "source": [
    "for i_neuron in range(n_neurons):\n",
    "    lowess_filtered_xvals[i_neuron,:] = lowess_results[i_neuron][0]\n",
    "    lowess_filtered_traces[i_neuron,:] = lowess_results[i_neuron][1]"
   ]
  },
  {
   "cell_type": "markdown",
   "id": "1614800c",
   "metadata": {},
   "source": [
    "# Calculate onset times"
   ]
  },
  {
   "cell_type": "code",
   "execution_count": null,
   "id": "6a75462a",
   "metadata": {},
   "outputs": [],
   "source": [
    "derivatives_lowess = np.zeros(temporal.shape, dtype=temporal.dtype)\n",
    "derivatives_raw = np.zeros(temporal.shape, dtype=temporal.dtype)"
   ]
  },
  {
   "cell_type": "code",
   "execution_count": null,
   "id": "84fecf08",
   "metadata": {},
   "outputs": [],
   "source": [
    "# It turns out that the slow waves make symmetric first derivative a better signal to get onset as local maxima. For seizure onset, \n",
    "# this will not be the case (most likely)\n",
    "\n",
    "# symmetric derivative: dy/dt[i] = (y[i+1] - y[i-1])/2h (h:= 0.5). \n",
    "# Not entirely valid, as y[i+h] should be the value instead, but 1/2h factor can be neglected\n",
    "#for i_neuron in range(n_neurons):\n",
    "#    derivatives[i_neuron][1:-1] = temporal[i_neuron][2:] - temporal[i_neuron][:-2]\n",
    "\n",
    "# extended symmetric derivative: dy/dt[i] = (y[i+2] + y[i+1] - y[i-1] - y[i-2])/4h\n",
    "#for i_neuron in range(n_neurons):\n",
    "#    derivatives[i_neuron][2:-2] = temporal[i_neuron][4:] + temporal[i_neuron][3:-1] - temporal[i_neuron][1:-3] - temporal[i_neuron][:-4]\n",
    "\n",
    "# super-extended symmetric derivative: dy/dt[i] = (y[i+4]+y[i+3]+y[i+2]+y[i+1] - y[i-1]-y[i-2]-y[i-3]-y[i-4])  \n",
    "for i_neuron in range(n_neurons):\n",
    "    derivatives_raw[i_neuron][4:-4] = temporal[i_neuron][8:] + temporal[i_neuron][7:-1] + temporal[i_neuron][6:-2] + temporal[i_neuron][5:-3] - temporal[i_neuron][3:-5] - temporal[i_neuron][2:-6] - temporal[i_neuron][1:-7] - temporal[i_neuron][:-8]\n",
    "\n",
    "# asymmetric first derivative: dy/dt[i] = (y[i] - y[i-1])/h (h := 1)\n",
    "#for i_neuron in range(n_neurons):\n",
    "#    derivatives[i_neuron][1:] = temporal[i_neuron][1:] - temporal[i_neuron][:-1]\n",
    "\n",
    "# second derivative: d^2y/dt^2[i] = (y[i+h] - 2y[i] + y[i-h])/h^2 (h:=1)\n",
    "#for i_neuron in range(n_neurons):\n",
    "#    derivatives[i_neuron][1:-1] = temporal[i_neuron][2:] - 2*temporal[i_neuron][1:-1] + temporal[i_neuron][:-2]\n",
    "\n",
    "# lowess-filtered extended symmetric derivative:\n",
    "for i_neuron in range(n_neurons):\n",
    "    derivatives_lowess[i_neuron][2:-2] = lowess_filtered_traces[i_neuron][4:] + lowess_filtered_traces[i_neuron][3:-1] - lowess_filtered_traces[i_neuron][1:-3] - lowess_filtered_traces[i_neuron][:-4]"
   ]
  },
  {
   "cell_type": "code",
   "execution_count": null,
   "id": "c7f52d89",
   "metadata": {},
   "outputs": [],
   "source": [
    "plot_example_trace = False\n",
    "if plot_example_trace:\n",
    "    fig = plt.figure(figsize=(14,14))\n",
    "    plt.plot(lowess_filtered_xvals[0], lowess_filtered_traces[0])\n",
    "    plt.plot(lowess_filtered_xvals[0], temporal[0])\n",
    "    plt.plot(lowess_filtered_xvals[0], derivatives_lowess[0])\n",
    "    plt.xlim((i_frame_begin - 200,i_frame_end + 200))\n",
    "    plt.show()"
   ]
  },
  {
   "cell_type": "markdown",
   "id": "d3dae43f",
   "metadata": {},
   "source": [
    "### Find first [n_waves] local maxima for neurons in the time window"
   ]
  },
  {
   "cell_type": "code",
   "execution_count": null,
   "id": "65c1e071",
   "metadata": {},
   "outputs": [],
   "source": [
    "MIN_DELAY_REQUIRED = 20  # at least this many frames need to pass between the onset of two SD waves in one place\n",
    "def get_n_maxima(derivatives, n_maxima, i_frame_begin, i_frame_end, force_2d: bool = False, set_beginning_dark: bool = False):\n",
    "    # n_maxima: number of maxima to find (n=1: first maximum, ...)\n",
    "    # i_frame_begin: in 1-indexing, the first frame to consider for being maximum\n",
    "    # i_frame_end: in 1-indexing, the last frame to consider for being maximum\n",
    "    # force_2d: even if n_maxima = 1, return a 2d array, for example [[0], [1], ...]. If False: [0, 1, ...]\n",
    "    # set_beginning_dark: if True, find global minimum in interval i_frame_begin to i_frame_end, set this as new i_frame_begin\n",
    "    onsets = []\n",
    "    for i_neuron in range(n_neurons):\n",
    "        \n",
    "        if set_beginning_dark:  # limit time window beginning to darkest frame in original time window\n",
    "            # TODO: can do one argsort, choose from back first max that is > i_frame_begin_neuron\n",
    "            i_frame_begin_neuron = np.argsort(temporal[i_neuron][i_frame_begin-1:i_frame_end+1])[0] + i_frame_begin + 15  # start 1 s after global minimum\n",
    "            sorted_indices = np.argsort(derivatives[i_neuron][i_frame_begin_neuron-1:i_frame_end+1])\n",
    "            assert i_frame_end - i_frame_begin_neuron > 30  # ad hoc value to test interval stays large enough (~2s)\n",
    "        else:\n",
    "            i_frame_begin_neuron = i_frame_begin\n",
    "            sorted_indices = np.argsort(derivatives[i_neuron][i_frame_begin-1:i_frame_end+1])\n",
    "        onset_frames = []\n",
    "        if len(sorted_indices)< 1:\n",
    "            print(i_neuron)\n",
    "        onset_frames.append(sorted_indices[-1])\n",
    "        i = len(sorted_indices) - 2\n",
    "        while len(onset_frames) < n_maxima:\n",
    "            too_close = False\n",
    "            for onset_frame in onset_frames:\n",
    "                if abs(sorted_indices[i] - onset_frame) < MIN_DELAY_REQUIRED:                \n",
    "                    too_close = True\n",
    "                    break\n",
    "            if not too_close:\n",
    "                onset_frames.append(sorted_indices[i])\n",
    "            i -= 1\n",
    "        # convert to whole video time frame\n",
    "        for i_onset in range(len(onset_frames)):\n",
    "            onset_frames[i_onset] += i_frame_begin_neuron-1\n",
    "        # algorithm finds maxima by y-value, need to sort by x-value (i.e. in time, first maximum comes first...)\n",
    "        if n_maxima == 1 and not force_2d:\n",
    "            onsets.append(onset_frames[0])\n",
    "        else:\n",
    "            onsets.append(sorted(onset_frames))\n",
    "    return onsets"
   ]
  },
  {
   "cell_type": "markdown",
   "id": "af8a6b08",
   "metadata": {},
   "source": [
    "### OPTIONAL: set beginning of interval where looking for SD wave the frame with minimum luminosity"
   ]
  },
  {
   "cell_type": "code",
   "execution_count": null,
   "id": "9c047c43",
   "metadata": {},
   "outputs": [],
   "source": [
    "set_beginning_dark = True"
   ]
  },
  {
   "cell_type": "markdown",
   "id": "bd63a9bd",
   "metadata": {},
   "source": [
    "### Ignore maxima too close to each other"
   ]
  },
  {
   "cell_type": "code",
   "execution_count": null,
   "id": "964ab566",
   "metadata": {},
   "outputs": [],
   "source": [
    "onsets = get_n_maxima(derivatives_lowess, n_waves, i_frame_begin, i_frame_end, force_2d=False, set_beginning_dark=set_beginning_dark)"
   ]
  },
  {
   "cell_type": "code",
   "execution_count": null,
   "id": "5c42c7ee",
   "metadata": {},
   "outputs": [],
   "source": [
    "I_NEURON = 290\n",
    "\n",
    "fig = plt.figure(figsize=(14,14))\n",
    "plt.plot(lowess_filtered_xvals[I_NEURON], lowess_filtered_traces[I_NEURON])\n",
    "plt.plot(lowess_filtered_xvals[I_NEURON], temporal[I_NEURON])\n",
    "plt.plot(lowess_filtered_xvals[I_NEURON], derivatives_lowess[I_NEURON])\n",
    "vline_colors = [\"red\", \"black\", \"orange\"]  # add more if needed\n",
    "for i_wave in range(n_waves):\n",
    "    plt.vlines(onsets[I_NEURON][i_wave], ymin=-500, ymax=2000, color=vline_colors[i_wave], linewidth=2)\n",
    "    \n",
    "plt.vlines([i_frame_begin, i_frame_end], ymin=-1000, ymax=4000, color=\"lime\", linewidth=3)\n",
    "\n",
    "plt.vlines([np.argsort(temporal[I_NEURON][i_frame_begin-1:i_frame_end+1])[0]+i_frame_begin], ymin=-1500, ymax=4500, color=\"yellow\",linewidth=3)\n",
    "\n",
    "#plt.vlines(sorted_indices[-1] + i_frame_begin - 1, ymin=-500, ymax=2000, color=\"black\", linewidth=0.5)\n",
    "# TODO: mismatch in onsets[] as well as in sorted_indices[]! See plot...\n",
    "plt.xlim((i_frame_begin - 200,i_frame_end + 200))\n",
    "plt.show()"
   ]
  },
  {
   "cell_type": "code",
   "execution_count": null,
   "id": "526585c9",
   "metadata": {},
   "outputs": [],
   "source": [
    "onsets_np = np.array(onsets)"
   ]
  },
  {
   "cell_type": "markdown",
   "id": "1aaea1dc",
   "metadata": {},
   "source": [
    "## Plot sorted onset time for each neuron\n",
    "Sorted by first SD wave onset, second one is plotted accordingly."
   ]
  },
  {
   "cell_type": "code",
   "execution_count": null,
   "id": "49d6d90d",
   "metadata": {},
   "outputs": [],
   "source": [
    "onsets_np_sorted = np.argsort(onsets_np[:,0])"
   ]
  },
  {
   "cell_type": "code",
   "execution_count": null,
   "id": "56d478a5",
   "metadata": {},
   "outputs": [],
   "source": [
    "onsets_np_sorted_second = np.argsort(onsets_np[:,1])"
   ]
  },
  {
   "cell_type": "code",
   "execution_count": null,
   "id": "916fb537",
   "metadata": {},
   "outputs": [],
   "source": [
    "fig = plt.figure(figsize=(12,12))\n",
    "t_vals = [i_neuron for i_neuron in range(n_neurons)]\n",
    "for i_wave in range(n_waves):\n",
    "    plt.scatter(t_vals, onsets_np[:,i_wave], label=f\"Wave {i_wave+1}\")\n",
    "plt.legend(fontsize=20)\n",
    "plt.show()"
   ]
  },
  {
   "cell_type": "code",
   "execution_count": null,
   "id": "08c54eaa",
   "metadata": {},
   "outputs": [],
   "source": [
    "fig = plt.figure(figsize=(12,12))\n",
    "t_vals = [i_neuron for i_neuron in range(n_neurons)]\n",
    "for i_wave in range(n_waves):\n",
    "    plt.scatter(t_vals, onsets_np[onsets_np_sorted,i_wave], label=f\"Wave {i_wave+1}\")\n",
    "plt.legend(fontsize=20)\n",
    "plt.show()"
   ]
  },
  {
   "cell_type": "code",
   "execution_count": null,
   "id": "a395b264",
   "metadata": {},
   "outputs": [],
   "source": [
    "fig = plt.figure(figsize=(12,12))\n",
    "t_vals = [i_neuron for i_neuron in range(n_neurons)]\n",
    "for i_wave in range(n_waves):\n",
    "    plt.scatter(t_vals, onsets_np[onsets_np_sorted_second,i_wave], label=f\"Wave {i_wave+1}\")\n",
    "plt.legend(fontsize=20)\n",
    "plt.show()"
   ]
  },
  {
   "cell_type": "markdown",
   "id": "80ef7baa",
   "metadata": {},
   "source": [
    "## Assign cells to grid tiles"
   ]
  },
  {
   "cell_type": "code",
   "execution_count": null,
   "id": "5e4ce6bb",
   "metadata": {},
   "outputs": [],
   "source": [
    "grid_shape = (8,8)"
   ]
  },
  {
   "cell_type": "code",
   "execution_count": null,
   "id": "2ad8ba1a",
   "metadata": {},
   "outputs": [],
   "source": [
    "def getGridTile(x, y, grid_shape):\n",
    "    # based on x and y coordinates, get tile that covers this point.\n",
    "    if x >= res_x or y >= res_y or x < 0 or y < 0:\n",
    "        raise ValueError(f\"x or y coordinate does not fit {res_x}x{res_y} FOV: x: {x}, y: {y}\")\n",
    "    else:\n",
    "        row = y//(res_y/grid_shape[1])  # 0-indexing\n",
    "        col = x//(res_x/grid_shape[0])\n",
    "    return (col, row)"
   ]
  },
  {
   "cell_type": "code",
   "execution_count": null,
   "id": "e4f7cc51",
   "metadata": {},
   "outputs": [],
   "source": [
    "neuron_rows = np.zeros(n_neurons, dtype=np.int16)\n",
    "neuron_cols = np.zeros(n_neurons, dtype=np.int16)\n",
    "for i_neuron in range(n_neurons):\n",
    "    col, row = getGridTile(centers_x[i_neuron], centers_y[i_neuron], grid_shape)\n",
    "    neuron_rows[i_neuron] = row\n",
    "    neuron_cols[i_neuron] = col"
   ]
  },
  {
   "cell_type": "code",
   "execution_count": null,
   "id": "3d6dc687",
   "metadata": {},
   "outputs": [],
   "source": [
    "neuron_tiles = neuron_rows*grid_shape[0] + neuron_cols"
   ]
  },
  {
   "cell_type": "code",
   "execution_count": null,
   "id": "f76a02b9",
   "metadata": {},
   "outputs": [],
   "source": [
    "getGridTile(511,0, grid_shape)"
   ]
  },
  {
   "cell_type": "markdown",
   "id": "65fa766f",
   "metadata": {},
   "source": [
    "## Create dataframe"
   ]
  },
  {
   "cell_type": "code",
   "execution_count": null,
   "id": "2e0f2c2b",
   "metadata": {},
   "outputs": [],
   "source": [
    "# TODO: depending on n_waves, there might be 0, 1, 2, ... SD waves\n",
    "onsets_dict = {\"neuron_id\": [i for i in range(n_neurons)], \"onset1\" : onsets_np[:,0], \"onset2\" : onsets_np[:,1], \"x\": centers_x, \"y\": centers_y, \"row\": neuron_rows, \"col\": neuron_cols, \"tile\": neuron_tiles}"
   ]
  },
  {
   "cell_type": "code",
   "execution_count": null,
   "id": "c700bc67",
   "metadata": {},
   "outputs": [],
   "source": [
    "onsets_df = pd.DataFrame(data=onsets_dict)"
   ]
  },
  {
   "cell_type": "code",
   "execution_count": null,
   "id": "b101af38",
   "metadata": {},
   "outputs": [],
   "source": [
    "onsets_df[\"quantile1\"] = pd.qcut(onsets_df[\"onset1\"], 4, labels=False)"
   ]
  },
  {
   "cell_type": "code",
   "execution_count": null,
   "id": "a284c023",
   "metadata": {},
   "outputs": [],
   "source": [
    "onsets_df[\"quantile2\"] = pd.qcut(onsets_df[\"onset2\"], 4, labels=False)"
   ]
  },
  {
   "cell_type": "code",
   "execution_count": null,
   "id": "3a2a6dda",
   "metadata": {},
   "outputs": [],
   "source": [
    "sns.set_theme(style=\"whitegrid\")\n",
    "f, ax = plt.subplots(figsize=(18, 18))\n",
    "sns.despine(f, left=True, bottom=True)\n",
    "sns.scatterplot(x=\"x\", y=\"y\",\n",
    "                size=\"onset1\", hue=\"quantile1\",\n",
    "                sizes=(8,80), linewidth=0,\n",
    "                data=onsets_df, ax=ax)\n",
    "ax.invert_yaxis()  # invert to match imshow() and in general, nd2 videos: (0, 0) is top left corner\n",
    "plt.show()"
   ]
  },
  {
   "cell_type": "code",
   "execution_count": null,
   "id": "4c587966",
   "metadata": {},
   "outputs": [],
   "source": [
    "sns.set_theme(style=\"whitegrid\")\n",
    "f, ax = plt.subplots(figsize=(18, 18))\n",
    "sns.despine(f, left=True, bottom=True)\n",
    "sns.scatterplot(x=\"x\", y=\"y\",\n",
    "                hue=\"tile\", size=\"onset2\",\n",
    "                sizes=(8,80), linewidth=0,\n",
    "                data=onsets_df, ax=ax, palette=\"deep\")\n",
    "ax.invert_yaxis()  # invert to match imshow() and in general, nd2 videos: (0, 0) is top left corner\n",
    "plt.show()"
   ]
  },
  {
   "cell_type": "markdown",
   "id": "3a029e29",
   "metadata": {},
   "source": [
    "## Get mean/median onset per grid"
   ]
  },
  {
   "cell_type": "code",
   "execution_count": null,
   "id": "01408611",
   "metadata": {},
   "outputs": [],
   "source": [
    "# TODO: assign grid index to each neuron. Then, make average/median onset.\n",
    "# Then, create pivot (of a new df, maybe, which contains grid row, column, and onset)"
   ]
  },
  {
   "cell_type": "code",
   "execution_count": null,
   "id": "b85502d4",
   "metadata": {},
   "outputs": [],
   "source": [
    "onset_grid = np.zeros(grid_shape, dtype=onsets_np.dtype)"
   ]
  },
  {
   "cell_type": "code",
   "execution_count": null,
   "id": "a8cef625",
   "metadata": {},
   "outputs": [],
   "source": [
    "median_onsets_df = onsets_df.groupby(\"tile\", as_index=False).median()"
   ]
  },
  {
   "cell_type": "code",
   "execution_count": null,
   "id": "1d232c06",
   "metadata": {},
   "outputs": [],
   "source": [
    "for i in range(grid_shape[0]):  # go through cols\n",
    "    for j in range(grid_shape[1]): # go through rows\n",
    "        i_tile = i + j*grid_shape[0]\n",
    "        if i_tile in median_onsets_df[\"tile\"].values:\n",
    "            onset_grid[i][j] = median_onsets_df[median_onsets_df[\"tile\"] == i_tile][\"onset1\"].values[0]\n"
   ]
  },
  {
   "cell_type": "code",
   "execution_count": null,
   "id": "0cc385d6",
   "metadata": {},
   "outputs": [],
   "source": [
    "median_onsets1_pivot = median_onsets_df.pivot(\"row\", \"col\", \"onset1\")\n",
    "median_onsets2_pivot = median_onsets_df.pivot(\"row\", \"col\", \"onset2\")"
   ]
  },
  {
   "cell_type": "code",
   "execution_count": null,
   "id": "7fd1d486",
   "metadata": {},
   "outputs": [],
   "source": [
    "median_onsets1_pivot"
   ]
  },
  {
   "cell_type": "code",
   "execution_count": null,
   "id": "3129ad8b",
   "metadata": {},
   "outputs": [],
   "source": [
    "test_flag = False\n",
    "if test_flag:\n",
    "    row_np = np.zeros((64),)\n",
    "    col_np = np.zeros((64),)\n",
    "    for i in range(64):\n",
    "        row_np[i] = i%8\n",
    "        col_np[i] = i//8\n",
    "    test_dict = {\"col\": col_np, \"row\": row_np}\n",
    "    test_df = pd.DataFrame(test_dict)\n",
    "    test_df[\"val\"] = 8*test_df[\"col\"] + test_df[\"row\"]\n",
    "    test_pivot = test_df.pivot(\"col\", \"row\", \"val\")\n",
    "    f, ax = plt.subplots(figsize=(12, 12))\n",
    "    #sns.heatmap(median_onsets1_pivot, annot=False, linewidths=.5, ax=ax)\n",
    "    sns.heatmap(test_pivot, annot=False, linewidths=.5, ax=ax)\n",
    "    #ax.invert_yaxis()\n",
    "    plt.show()"
   ]
  },
  {
   "cell_type": "code",
   "execution_count": null,
   "id": "c5baca45",
   "metadata": {},
   "outputs": [],
   "source": [
    "f, ax = plt.subplots(figsize=(12, 12))\n",
    "sns.heatmap(median_onsets1_pivot, annot=False, linewidths=.5, ax=ax)\n",
    "#ax.invert_yaxis()\n",
    "#ax.invert_xaxis()\n",
    "plt.show()"
   ]
  },
  {
   "cell_type": "code",
   "execution_count": null,
   "id": "9c49abc4",
   "metadata": {},
   "outputs": [],
   "source": [
    "fig = plt.figure(figsize=(12,12))\n",
    "ax = fig.gca(projection='3d')\n",
    "surf=ax.plot_trisurf(onsets_df['x'], onsets_df['y'], onsets_df['onset1'], cmap=plt.cm.jet, linewidth=0.2)\n",
    "#ax.view_init(10, 90)\n",
    "plt.show()"
   ]
  },
  {
   "cell_type": "code",
   "execution_count": null,
   "id": "c701135d",
   "metadata": {},
   "outputs": [],
   "source": [
    "fig = plt.figure(figsize=(12,12))\n",
    "ax = fig.gca(projection='3d')\n",
    "surf=ax.plot_trisurf(onsets_df['x'], onsets_df['y'], onsets_df['onset2'], cmap=plt.cm.jet, linewidth=0.2)\n",
    "ax.view_init(30, -45)\n",
    "plt.show()"
   ]
  },
  {
   "cell_type": "markdown",
   "id": "83426634",
   "metadata": {},
   "source": [
    "# Seizure onset analysis"
   ]
  },
  {
   "cell_type": "code",
   "execution_count": null,
   "id": "98b0332c",
   "metadata": {},
   "outputs": [],
   "source": [
    "sz = segments[segments[\"interval_type\"] == \"sz\"]  \n",
    "assert len(sz) == 1# there should be only one\n",
    "seizure_begin_frame = sz[\"frame_begin\"].values[0]\n",
    "seizure_end_frame = sz[\"frame_end\"].values[0]"
   ]
  },
  {
   "cell_type": "code",
   "execution_count": null,
   "id": "df70c663",
   "metadata": {},
   "outputs": [],
   "source": [
    "seizure_begin_frame"
   ]
  },
  {
   "cell_type": "code",
   "execution_count": null,
   "id": "b8113808",
   "metadata": {},
   "outputs": [],
   "source": [
    "#small window:\n",
    "small_window = False\n",
    "extra_large_window = True\n",
    "if small_window:\n",
    "    sz_lower_limit = seizure_begin_frame-2\n",
    "    sz_upper_limit = seizure_begin_frame+10\n",
    "elif extra_large_window:\n",
    "    sz_lower_limit = seizure_begin_frame - 5\n",
    "    sz_upper_limit = seizure_begin_frame + 100\n",
    "else:\n",
    "    sz_lower_limit = seizure_begin_frame-2\n",
    "    sz_upper_limit = seizure_begin_frame+20\n",
    "    \n",
    "# might be necessary to set limits manually:\n",
    "manual_limits = False\n",
    "if manual_limits:\n",
    "    sz_lower_limit = seizure_begin_frame - 2\n",
    "    sz_upper_limit = 5541"
   ]
  },
  {
   "cell_type": "code",
   "execution_count": null,
   "id": "fb55c4fe",
   "metadata": {},
   "outputs": [],
   "source": [
    "onsets_sz = get_n_maxima(derivatives_lowess, 1,sz_lower_limit-2, sz_upper_limit)\n",
    "onsets_sz_np = np.array(onsets_sz)"
   ]
  },
  {
   "cell_type": "code",
   "execution_count": null,
   "id": "d1818a07",
   "metadata": {},
   "outputs": [],
   "source": [
    "np.where(onsets_sz > seizure_begin_frame+10)"
   ]
  },
  {
   "cell_type": "code",
   "execution_count": null,
   "id": "0ae543e4",
   "metadata": {},
   "outputs": [],
   "source": [
    "fig = plt.figure(figsize=(12,12))\n",
    "plt.scatter([i_neuron for i_neuron in range(n_neurons)], sorted(onsets_sz))\n",
    "plt.show()"
   ]
  },
  {
   "cell_type": "code",
   "execution_count": null,
   "id": "c0e5b996",
   "metadata": {},
   "outputs": [],
   "source": [
    "onsets_df[\"onset_sz\"] = onsets_sz_np"
   ]
  },
  {
   "cell_type": "code",
   "execution_count": null,
   "id": "0dc148a4",
   "metadata": {},
   "outputs": [],
   "source": [
    "onsets_df[\"quantile_sz\"] = pd.qcut(onsets_df[\"onset_sz\"], 4, labels=False)"
   ]
  },
  {
   "cell_type": "code",
   "execution_count": null,
   "id": "3a690e5b",
   "metadata": {},
   "outputs": [],
   "source": [
    "fig = plt.figure(figsize=(16,12))\n",
    "sns.histplot(data=onsets_df, x=\"onset_sz\")\n",
    "plt.show()"
   ]
  },
  {
   "cell_type": "code",
   "execution_count": null,
   "id": "3cb47a9c",
   "metadata": {},
   "outputs": [],
   "source": [
    "onsets_df"
   ]
  },
  {
   "cell_type": "code",
   "execution_count": null,
   "id": "dd0193ac",
   "metadata": {},
   "outputs": [],
   "source": [
    "I_NEURON = 100\n",
    "\n",
    "fig = plt.figure(figsize=(14,14))\n",
    "plt.plot(lowess_filtered_xvals[I_NEURON], lowess_filtered_traces[I_NEURON])\n",
    "plt.plot(lowess_filtered_xvals[I_NEURON], temporal[I_NEURON])\n",
    "plt.plot(lowess_filtered_xvals[I_NEURON], derivatives_lowess[I_NEURON])\n",
    "plt.vlines(onsets_sz[I_NEURON], ymin=-500, ymax=2000, color=\"red\", linewidth=2)\n",
    "#plt.vlines(sorted_indices[-1] + i_frame_begin - 1, ymin=-500, ymax=2000, color=\"black\", linewidth=0.5)\n",
    "# TODO: mismatch in onsets[] as well as in sorted_indices[]! See plot...\n",
    "plt.vlines([sz_lower_limit, sz_upper_limit], ymin=-500, ymax=2000, color=\"black\", linewidth=2)\n",
    "plt.xlim((seizure_begin_frame - 50,seizure_begin_frame + 200))\n",
    "plt.show()"
   ]
  },
  {
   "cell_type": "code",
   "execution_count": null,
   "id": "714a2525",
   "metadata": {},
   "outputs": [],
   "source": [
    "fig = plt.figure(figsize=(12,12))\n",
    "ax = fig.gca(projection='3d')\n",
    "surf=ax.plot_trisurf(onsets_df['x'], onsets_df['y'], onsets_df['onset_sz'], cmap=plt.cm.jet, linewidth=0.2)\n",
    "#ax.view_init(10, 90)\n",
    "plt.show()"
   ]
  },
  {
   "cell_type": "code",
   "execution_count": null,
   "id": "b1627038",
   "metadata": {},
   "outputs": [],
   "source": [
    "sns.set_theme(style=\"whitegrid\")\n",
    "f, ax = plt.subplots(figsize=(18, 18))\n",
    "sns.despine(f, left=True, bottom=True)\n",
    "#sns.scatterplot(x=\"x\", y=\"y\", hue=\"onset_sz\", size=\"onset_sz\",\n",
    "#                sizes=[5, 40, 80, 160, 240, 320], linewidth=0,\n",
    "#                data=onsets_df, ax=ax, palette=hues)\n",
    "sns.scatterplot(x=\"x\", y=\"y\", hue=\"quantile_sz\", size=\"onset_sz\",\n",
    "                sizes=(10,80), linewidth=0,\n",
    "                data=onsets_df, ax=ax)\n",
    "ax.invert_yaxis()  # invert to match imshow() and in general, nd2 videos: (0, 0) is top left corner\n",
    "plt.show()"
   ]
  },
  {
   "cell_type": "code",
   "execution_count": null,
   "id": "c1f0fd0f",
   "metadata": {},
   "outputs": [],
   "source": [
    "sz_onset_grid = np.zeros(grid_shape, dtype=onsets_sz_np.dtype)"
   ]
  },
  {
   "cell_type": "code",
   "execution_count": null,
   "id": "39ab1df5",
   "metadata": {},
   "outputs": [],
   "source": [
    "mean_onsets_df = onsets_df.groupby(\"tile\", as_index=False).mean()"
   ]
  },
  {
   "cell_type": "code",
   "execution_count": null,
   "id": "192a46da",
   "metadata": {},
   "outputs": [],
   "source": [
    "for i in range(grid_shape[0]):  # go through cols\n",
    "    for j in range(grid_shape[1]): # go through rows\n",
    "        i_tile = i + j*grid_shape[0]\n",
    "        if i_tile in mean_onsets_df[\"tile\"].values:\n",
    "            sz_onset_grid[i][j] = mean_onsets_df[mean_onsets_df[\"tile\"] == i_tile][\"onset_sz\"].values[0]\n"
   ]
  },
  {
   "cell_type": "code",
   "execution_count": null,
   "id": "0ddfa751",
   "metadata": {},
   "outputs": [],
   "source": [
    "mean_sz_onsets_pivot = mean_onsets_df.pivot(\"col\", \"row\", \"onset_sz\")"
   ]
  },
  {
   "cell_type": "code",
   "execution_count": null,
   "id": "0071289e",
   "metadata": {},
   "outputs": [],
   "source": [
    "f, ax = plt.subplots(figsize=(14, 14))\n",
    "sns.heatmap(mean_sz_onsets_pivot, annot=False, linewidths=.5, ax=ax)\n",
    "#ax.invert_yaxis()\n",
    "#ax.invert_xaxis()\n",
    "plt.show()"
   ]
  },
  {
   "cell_type": "code",
   "execution_count": null,
   "id": "ce4f112b",
   "metadata": {},
   "outputs": [],
   "source": [
    "fig = plt.figure(figsize=(12,12))\n",
    "t_vals = [i_neuron for i_neuron in range(n_neurons)]\n",
    "for i_wave in range(n_waves):\n",
    "    plt.scatter(t_vals, onsets_np[onsets_np_sorted_second,i_wave], label=f\"Wave {i_wave+1}\")\n",
    "plt.scatter(t_vals,onsets_sz_np[onsets_np_sorted_second], label=\"Sz\")\n",
    "plt.legend(fontsize=20)\n",
    "plt.show()"
   ]
  },
  {
   "cell_type": "markdown",
   "id": "8cb7b3ef",
   "metadata": {},
   "source": [
    "# Plot onset for each neuron"
   ]
  },
  {
   "cell_type": "code",
   "execution_count": null,
   "id": "4718d9ca",
   "metadata": {},
   "outputs": [],
   "source": [
    "onsets_df"
   ]
  },
  {
   "cell_type": "code",
   "execution_count": null,
   "id": "d701a799",
   "metadata": {},
   "outputs": [],
   "source": [
    "fig = plt.figure(figsize=(18,18))\n",
    "\n",
    "for i_neuron in range(n_neurons):\n",
    "    t_onset = onsets_df[onsets_df[\"neuron_id\"] == i_neuron][\"onset_sz\"].values[0]\n",
    "    tsteps = [t for t in range(t_onset-100, t_onset+100)]\n",
    "    plt.plot(tsteps, lowess_filtered_traces[i_neuron][t_onset-100:t_onset+100])\n",
    "plt.vlines([tsteps[100]], ymin=-2000, ymax=10000)\n",
    "ax = plt.gca()\n",
    "plt.show()"
   ]
  },
  {
   "cell_type": "markdown",
   "id": "383bf967",
   "metadata": {},
   "source": [
    "# Save to hdf5 file"
   ]
  },
  {
   "cell_type": "code",
   "execution_count": null,
   "id": "cc57f1aa",
   "metadata": {},
   "outputs": [],
   "source": [
    "export_folder, export_fname = os.path.split(whole_traces_h5_fpath)\n",
    "# assuming file name was xy_traces.h5\n",
    "export_fname = os.path.splitext(export_fname)[0][:-7] + \"_grid.h5\"\n",
    "export_fpath = os.path.join(export_folder, export_fname)\n",
    "print(f\"Saving results to\\n\\t{export_fpath}\")"
   ]
  },
  {
   "cell_type": "code",
   "execution_count": null,
   "id": "fd98ba97",
   "metadata": {},
   "outputs": [],
   "source": [
    "onsets_df.to_hdf(export_fpath, key=\"uuid\"+session_uuid)"
   ]
  },
  {
   "cell_type": "markdown",
   "id": "4d69bd59",
   "metadata": {},
   "source": [
    "# Get direction as single vector"
   ]
  },
  {
   "cell_type": "code",
   "execution_count": null,
   "id": "4630a4c1",
   "metadata": {},
   "outputs": [],
   "source": [
    "onsets_df"
   ]
  },
  {
   "cell_type": "code",
   "execution_count": null,
   "id": "d3ee3c3c",
   "metadata": {},
   "outputs": [],
   "source": []
  },
  {
   "cell_type": "code",
   "execution_count": null,
   "id": "24e2842b",
   "metadata": {},
   "outputs": [],
   "source": []
  }
 ],
 "metadata": {
  "kernelspec": {
   "display_name": "Python 3 (ipykernel)",
   "language": "python",
   "name": "python3"
  },
  "language_info": {
   "codemirror_mode": {
    "name": "ipython",
    "version": 3
   },
   "file_extension": ".py",
   "mimetype": "text/x-python",
   "name": "python",
   "nbconvert_exporter": "python",
   "pygments_lexer": "ipython3",
   "version": "3.8.12"
  }
 },
 "nbformat": 4,
 "nbformat_minor": 5
}
