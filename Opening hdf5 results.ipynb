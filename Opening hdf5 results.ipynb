{
 "cells": [
  {
   "cell_type": "code",
   "execution_count": null,
   "id": "df2ac555",
   "metadata": {},
   "outputs": [],
   "source": [
    "#Auto-reload modules (used to develop functions outside this notebook)\n",
    "%load_ext autoreload\n",
    "%autoreload 2"
   ]
  },
  {
   "cell_type": "code",
   "execution_count": null,
   "id": "de1e2be4",
   "metadata": {},
   "outputs": [],
   "source": [
    "import labrotation.file_handling as fh\n",
    "import h5py\n",
    "import numpy as np\n",
    "from labrotation.two_photon_session import TwoPhotonSession as tps\n",
    "from labrotation.two_photon_session import nb_view_components_mod\n",
    "from caiman.source_extraction.cnmf.cnmf import load_CNMF\n",
    "from matplotlib import pyplot as plt"
   ]
  },
  {
   "cell_type": "code",
   "execution_count": null,
   "id": "82a881ec",
   "metadata": {},
   "outputs": [],
   "source": [
    "caim_hdf5 = \"D:\\PhD\\Data\\T386_MatlabTest\\T386_MatlabTest_20211202_green_22-11-02_20-54-42_caim.hdf5\"\n",
    "session_hdf5 = \"D:\\PhD\\Data\\T386_MatlabTest\\GREEN_full.h5\""
   ]
  },
  {
   "cell_type": "code",
   "execution_count": null,
   "id": "2bfe8817",
   "metadata": {},
   "outputs": [],
   "source": [
    "cnmf = load_CNMF(caim_hdf5)\n",
    "session = tps.from_hdf5(session_hdf5)"
   ]
  },
  {
   "cell_type": "code",
   "execution_count": null,
   "id": "b05650b2",
   "metadata": {},
   "outputs": [],
   "source": [
    "plt.plot(cnmf.estimates.F_dff[10])\n",
    "plt.show()"
   ]
  },
  {
   "cell_type": "code",
   "execution_count": null,
   "id": "257f4d8c",
   "metadata": {},
   "outputs": [],
   "source": [
    "cnmf.estimates.F_dff[0]"
   ]
  },
  {
   "cell_type": "code",
   "execution_count": null,
   "id": "1e7e1117",
   "metadata": {},
   "outputs": [],
   "source": [
    "# t_lfp, y_lfp = session.lfp_lfp()\n",
    "# t_lfp = t_lfp.to_numpy()\n",
    "# y_lfp = y_lfp.to_numpy()"
   ]
  },
  {
   "cell_type": "code",
   "execution_count": null,
   "id": "fd31900f",
   "metadata": {},
   "outputs": [],
   "source": [
    "t_lfp = session.lfp_df_cut.t_lfp_corrected.to_numpy()\n",
    "y_lfp = session.lfp_df_cut.y_lfp.to_numpy()"
   ]
  },
  {
   "cell_type": "code",
   "execution_count": null,
   "id": "64ca46d5",
   "metadata": {},
   "outputs": [],
   "source": [
    "t_mov = session.belt_scn_dict[\"tsscn\"]\n",
    "y_mov = session.belt_scn_dict[\"speed\"]"
   ]
  },
  {
   "cell_type": "code",
   "execution_count": null,
   "id": "44a7369c",
   "metadata": {},
   "outputs": [],
   "source": [
    "# original, caiman way of showing components\n",
    "cnmf.estimates.nb_view_components( denoised_color='red')"
   ]
  },
  {
   "cell_type": "code",
   "execution_count": null,
   "id": "8e438399",
   "metadata": {},
   "outputs": [],
   "source": [
    "# modified way, combining with LFP and movement\n",
    "nb_view_components_mod(cnmf.estimates, t_lfp=t_lfp, y_lfp=y_lfp, t_mov=t_mov, y_mov=y_mov, denoised_color='red')"
   ]
  },
  {
   "cell_type": "code",
   "execution_count": null,
   "id": "2533b867",
   "metadata": {},
   "outputs": [],
   "source": [
    "t_mov.shape"
   ]
  },
  {
   "cell_type": "code",
   "execution_count": null,
   "id": "39cf63d0",
   "metadata": {},
   "outputs": [],
   "source": [
    "y_mov.shape"
   ]
  },
  {
   "cell_type": "code",
   "execution_count": null,
   "id": "63c32a08",
   "metadata": {},
   "outputs": [],
   "source": [
    "session.belt_scn_dict"
   ]
  },
  {
   "cell_type": "code",
   "execution_count": null,
   "id": "b0139f73",
   "metadata": {},
   "outputs": [],
   "source": []
  }
 ],
 "metadata": {
  "kernelspec": {
   "display_name": "Python 3 (ipykernel)",
   "language": "python",
   "name": "python3"
  },
  "language_info": {
   "codemirror_mode": {
    "name": "ipython",
    "version": 3
   },
   "file_extension": ".py",
   "mimetype": "text/x-python",
   "name": "python",
   "nbconvert_exporter": "python",
   "pygments_lexer": "ipython3",
   "version": "3.8.12"
  }
 },
 "nbformat": 4,
 "nbformat_minor": 5
}
