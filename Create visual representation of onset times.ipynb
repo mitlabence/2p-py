{
 "cells": [
  {
   "cell_type": "code",
   "execution_count": null,
   "id": "78f2bd6b",
   "metadata": {},
   "outputs": [],
   "source": [
    "import pims_nd2\n",
    "from mpl_toolkits.axes_grid1.anchored_artists import AnchoredSizeBar\n",
    "import matplotlib.pylab as plt\n",
    "import matplotlib.animation as animation\n",
    "import subprocess\n",
    "import labrotation.file_handling as fh\n",
    "import os\n",
    "import datadoc_util\n",
    "import h5py\n",
    "import scipy\n",
    "import numpy as np\n",
    "from scipy import ndimage\n",
    "import pandas as pd"
   ]
  },
  {
   "cell_type": "code",
   "execution_count": null,
   "id": "5eb6f58e",
   "metadata": {},
   "outputs": [],
   "source": [
    "i_sz = 0# first sz: 0, second: 1 ..."
   ]
  },
  {
   "cell_type": "code",
   "execution_count": null,
   "id": "64c15507",
   "metadata": {},
   "outputs": [],
   "source": [
    "env_dict = dict()\n",
    "if not os.path.exists(\"./.env\"):\n",
    "    print(\".env does not exist\")\n",
    "else:\n",
    "    with open(\"./.env\", \"r\") as f:\n",
    "        for line in f.readlines():\n",
    "            l = line.rstrip().split(\"=\")\n",
    "            env_dict[l[0]] = l[1]\n",
    "print(env_dict.keys())"
   ]
  },
  {
   "cell_type": "code",
   "execution_count": null,
   "id": "ce0f90dc",
   "metadata": {},
   "outputs": [],
   "source": [
    "if \"DATA_DOCU_FOLDER\" in env_dict.keys():\n",
    "    data_docu_folder = env_dict[\"DATA_DOCU_FOLDER\"]\n",
    "else:\n",
    "    data_docu_folder = fh.open_dir(\"Open Data Documentation folder\")\n",
    "print(data_docu_folder)"
   ]
  },
  {
   "cell_type": "code",
   "execution_count": null,
   "id": "ab1ae6ba",
   "metadata": {},
   "outputs": [],
   "source": [
    "ddoc = datadoc_util.DataDocumentation(data_docu_folder)\n",
    "ddoc.loadDataDoc()"
   ]
  },
  {
   "cell_type": "code",
   "execution_count": null,
   "id": "181308f1",
   "metadata": {},
   "outputs": [],
   "source": [
    "parameters_log = dict()"
   ]
  },
  {
   "cell_type": "code",
   "execution_count": null,
   "id": "79f76695",
   "metadata": {},
   "outputs": [],
   "source": [
    "whole_traces_h5_fpath = fh.open_file(\"Open traces h5 file!\")\n",
    "print(whole_traces_h5_fpath)\n",
    "parameters_log[\"filename\"] = os.path.split(whole_traces_h5_fpath)[-1]"
   ]
  },
  {
   "cell_type": "code",
   "execution_count": null,
   "id": "2443a462",
   "metadata": {},
   "outputs": [],
   "source": [
    "grid_fpath = whole_traces_h5_fpath.replace(\"_traces\", \"_grid\")\n",
    "print(grid_fpath)"
   ]
  },
  {
   "cell_type": "markdown",
   "id": "7b0ee235",
   "metadata": {},
   "source": [
    "## Read out files"
   ]
  },
  {
   "cell_type": "code",
   "execution_count": null,
   "id": "0797e33e",
   "metadata": {},
   "outputs": [],
   "source": [
    "with h5py.File(whole_traces_h5_fpath, 'r') as hf:\n",
    "    session_uuid = hf.attrs[\"uuid\"]\n",
    "    moco_intervals = hf[\"moco_intervals\"][()]\n",
    "    moco_flags = hf[\"moco_flags\"][()]\n",
    "    cnmf_intervals = hf[\"cnmf_intervals\"][()]\n",
    "    cnmf_flags = hf[\"cnmf_flags\"][()]\n",
    "    begin_end_frames = hf[\"begin_end_frames\"][()]\n",
    "    # spatial components: CNMF A field\n",
    "    A_data = hf[\"spatial\"][\"data\"][()]\n",
    "    A_indices = hf[\"spatial\"][\"indices\"][()]\n",
    "    A_indptr = hf[\"spatial\"][\"indptr\"][()]\n",
    "    A_shape = hf[\"spatial\"][\"shape\"][()]\n",
    "    # temporal signals, i.e. neuron traces\n",
    "    temporal = hf[\"traces\"][()]\n",
    "    mean_fluo = hf[\"mean_fluo\"][()]"
   ]
  },
  {
   "cell_type": "code",
   "execution_count": null,
   "id": "8b80557c",
   "metadata": {},
   "outputs": [],
   "source": [
    "df_onsets = pd.read_hdf(grid_fpath)"
   ]
  },
  {
   "cell_type": "code",
   "execution_count": null,
   "id": "8cbccbc6",
   "metadata": {},
   "outputs": [],
   "source": [
    "session_files = ddoc.getSessionFilesForUuuid(uuid=session_uuid)\n",
    "fpath_nd2 = os.path.join(session_files[\"folder\"].iloc[0], session_files[\"nd2\"].iloc[0])\n",
    "fpath_nd2 = \"R\" + fpath_nd2[1:]  # currently, server is drive R"
   ]
  },
  {
   "cell_type": "code",
   "execution_count": null,
   "id": "94f568f7",
   "metadata": {},
   "outputs": [],
   "source": [
    "nd2_file = pims_nd2.ND2_Reader(fpath_nd2)\n",
    "nd2_data = np.array(nd2_file)"
   ]
  },
  {
   "cell_type": "markdown",
   "id": "d8677cc7",
   "metadata": {},
   "source": [
    "## Select data for chosen seizure (i_sz)"
   ]
  },
  {
   "cell_type": "code",
   "execution_count": null,
   "id": "98ca6752",
   "metadata": {},
   "outputs": [],
   "source": [
    "if \"i_sz\" in df_onsets.keys():\n",
    "    print(\"Multiple seizures detected\")\n",
    "    if \"df_onsets_all_sz\" not in locals():\n",
    "        df_onsets_all_sz = df_onsets.copy()\n",
    "    df_onsets = df_onsets_all_sz[df_onsets_all_sz[\"i_sz\"] == i_sz]"
   ]
  },
  {
   "cell_type": "code",
   "execution_count": null,
   "id": "92c7f480",
   "metadata": {},
   "outputs": [],
   "source": [
    "onsets_szs_np = np.array(df_onsets[\"onset_sz\"])\n",
    "if \"onset1\" in df_onsets.keys():\n",
    "    onsets_sd1_np = np.array(df_onsets[\"onset1\"])\n",
    "if \"onset2\" in df_onsets.keys():\n",
    "    onsets_sd2_np = np.array(df_onsets[\"onset2\"])"
   ]
  },
  {
   "cell_type": "code",
   "execution_count": null,
   "id": "b24a3c77",
   "metadata": {},
   "outputs": [],
   "source": [
    "n_neurons, n_frames = temporal.shape"
   ]
  },
  {
   "cell_type": "code",
   "execution_count": null,
   "id": "3aedb756",
   "metadata": {},
   "outputs": [],
   "source": [
    "# convert spatial from sparse matrix into dense matrix of proper dimensions\n",
    "spatial = scipy.sparse.csc.csc_matrix((A_data, A_indices, A_indptr), shape=A_shape).todense()\n",
    "spatial = np.array(spatial)  # change type to allow np.reshape (?)\n",
    "spatial = np.reshape(spatial, (512, 512, n_neurons)) # (262144 -> 512x512, i.e. \"unflatten\")\n",
    "spatial = np.transpose(spatial, axes=[2, 1,0])  # move neuron index to end"
   ]
  },
  {
   "cell_type": "code",
   "execution_count": null,
   "id": "f5069567",
   "metadata": {},
   "outputs": [],
   "source": [
    "res_x, res_y = spatial[0].shape"
   ]
  },
  {
   "cell_type": "code",
   "execution_count": null,
   "id": "cfc046f6",
   "metadata": {},
   "outputs": [],
   "source": [
    "centers_x = np.zeros((n_neurons))\n",
    "centers_y = np.zeros((n_neurons))\n",
    "for i_neuron in range(n_neurons):\n",
    "    xy = ndimage.measurements.center_of_mass(spatial[i_neuron].T) # transpose needed so that imshow and scatter plotting match \n",
    "    centers_x[i_neuron] = xy[0]\n",
    "    centers_y[i_neuron] = xy[1]"
   ]
  },
  {
   "cell_type": "code",
   "execution_count": null,
   "id": "bdbd2a80",
   "metadata": {},
   "outputs": [],
   "source": [
    "df_segments = ddoc.getSegmentsForUUID(session_uuid)"
   ]
  },
  {
   "cell_type": "code",
   "execution_count": null,
   "id": "3de9288b",
   "metadata": {},
   "outputs": [],
   "source": [
    "begin_frame_i_sz = df_segments[df_segments[\"interval_type\"] == \"sz\"].frame_begin.iloc[i_sz]\n",
    "end_frame_i_sz = 0\n",
    "\n",
    "for i_row, row in df_segments[df_segments[\"frame_begin\"] >= begin_frame_i_sz].iterrows():\n",
    "    if row[\"interval_type\"] not in [\"sz\", \"sd_wave\"]:  # reached first non-sz and non-sd segment\n",
    "        end_frame_i_sz = row[\"frame_begin\"] - 1\n",
    "        break\n",
    "    else:\n",
    "        print(row[\"interval_type\"])\n",
    "print(begin_frame_i_sz)\n",
    "print(end_frame_i_sz)"
   ]
  },
  {
   "cell_type": "code",
   "execution_count": null,
   "id": "9220daec",
   "metadata": {},
   "outputs": [],
   "source": [
    "begin_frame = begin_frame_i_sz - 30  # add 2 sec before\n",
    "end_frame = end_frame_i_sz + 30  # add 2 sec after"
   ]
  },
  {
   "cell_type": "code",
   "execution_count": null,
   "id": "2bc7fff0",
   "metadata": {},
   "outputs": [],
   "source": [
    "vid_title = os.path.splitext(os.path.split(fpath_nd2)[-1])[0] + \"_onsets\"\n",
    "if \"df_onsets_all_sz\" in locals():\n",
    "    if len(df_onsets_all_sz[\"i_sz\"].unique()) > 1:\n",
    "        vid_title = vid_title + f\"_sz{i_sz}\"\n",
    "print(f\"Output video root file name: {vid_title}\")"
   ]
  },
  {
   "cell_type": "code",
   "execution_count": null,
   "id": "9cbaf70a",
   "metadata": {},
   "outputs": [],
   "source": [
    "def saveVid(fname, i_begin_frame, i_end_frame):  # in 1-indexing, both endpoints inclusive\n",
    "    fig = plt.figure(figsize=(18,18))\n",
    "    canvas_width, canvas_height = fig.canvas.get_width_height()\n",
    "    gridspec = fig.add_gridspec(1, 1)\n",
    "    figure=fig.add_subplot(gridspec[0, 0])\n",
    "    image = figure.imshow(nd2_data[0], cmap=\"Greens_r\")\n",
    "    figure.axis('off')\n",
    "    scat = figure.scatter(centers_x, centers_y, color=\"red\", s=0)\n",
    "    fig.tight_layout()\n",
    "\n",
    "    \n",
    "    \n",
    "    def updateWithSD(frame):\n",
    "        # update video frame\n",
    "        image.set_data(nd2_data[frame])\n",
    "        # show neurons with onset in present or past frames. Do so by setting \n",
    "        sizes = np.ones(len(centers_x))*60.0  # create array with circle sizes.\n",
    "        sizes[onsets_szs_np > frame] = 0.0  # set to invisible all the points that have not fired yet\n",
    "        colors_arr = np.array([\"blue\" for i in range(len(centers_x))], dtype='<U6')  # entries should be able to contain yellow, red, white \n",
    "        colors_arr[onsets_sd1_np <= frame] = \"red\"\n",
    "        colors_arr[onsets_sd2_np <= frame] = \"black\"\n",
    "        \n",
    "        \n",
    "        # https://stackoverflow.com/questions/9401658/how-to-animate-a-scatter-plot\n",
    "        scat.set_sizes(sizes)\n",
    "        scat.set_color(colors_arr)\n",
    "        # plt.text(50, 50, f\"{np.sum(onsets_szs_np > frame)}\", size=40, color=\"red\", bbox=dict(fill=False, edgecolor='red', linewidth=2))\n",
    "    def updateWithSingleSD(frame):\n",
    "        # update video frame\n",
    "        image.set_data(nd2_data[frame])\n",
    "        # show neurons with onset in present or past frames. Do so by setting \n",
    "        sizes = np.ones(len(centers_x))*60.0  # create array with circle sizes.\n",
    "        sizes[onsets_szs_np > frame] = 0.0  # set to invisible all the points that have not fired yet\n",
    "        colors_arr = np.array([\"blue\" for i in range(len(centers_x))], dtype='<U6')  # entries should be able to contain yellow, red, white \n",
    "        colors_arr[onsets_sd1_np <= frame] = \"red\"\n",
    "        \n",
    "        \n",
    "        # https://stackoverflow.com/questions/9401658/how-to-animate-a-scatter-plot\n",
    "        scat.set_sizes(sizes)\n",
    "        scat.set_color(colors_arr)\n",
    "        # plt.text(50, 50, f\"{np.sum(onsets_szs_np > frame)}\", size=40, color=\"red\", bbox=dict(fill=False, edgecolor='red', linewidth=2))\n",
    "    \n",
    "    \n",
    "    def updateNoSD(frame):\n",
    "        # update video frame\n",
    "        image.set_data(nd2_data[frame])\n",
    "        # show neurons with onset in present or past frames. Do so by setting \n",
    "        sizes = np.ones(len(centers_x))*60.0  # create array with circle sizes.\n",
    "        sizes[onsets_szs_np > frame] = 0.0  # set to invisible all the points that have not fired yet\n",
    "        # https://stackoverflow.com/questions/9401658/how-to-animate-a-scatter-plot\n",
    "        scat.set_sizes(sizes)\n",
    "        # plt.text(50, 50, f\"{np.sum(onsets_szs_np > frame)}\", size=40, color=\"red\", bbox=dict(fill=False, edgecolor='red', linewidth=2))\n",
    "\n",
    "        \n",
    "    # Open an ffmpeg process\n",
    "    outf = os.path.join(fh.open_dir(\"Choose output folder\"), fh.get_filename_with_date(fname, \".mp4\"))\n",
    "    print(outf)\n",
    "    # lossless encoding:\n",
    "    # https://stackoverflow.com/questions/37344997/how-to-get-a-lossless-encoding-with-ffmpeg-libx265\n",
    "    cmdstring = ('ffmpeg', \n",
    "                 '-y', '-r', '15', # overwrite, 1fps\n",
    "                 '-s', '%dx%d' % (canvas_width, canvas_height), # size of image string\n",
    "                 '-pix_fmt', 'argb', # format\n",
    "                 '-f', 'rawvideo',  '-i', '-', # tell ffmpeg to expect raw video from the pipe\n",
    "                 '-vcodec', 'mpeg4', outf) # use mpeg4 encoding\n",
    "                 #'-c:v', 'libx265',\n",
    "                 #'-x265-params', '\"profile=monochrome12:crf=0:lossless=1:preset=veryslow:qp=0\"',\n",
    "                 #outf)\n",
    "    p = subprocess.Popen(cmdstring, stdin=subprocess.PIPE, shell=True)\n",
    "    \n",
    "    if \"onsets_sd2_np\" in globals():\n",
    "        update_func = updateWithSD\n",
    "        print(\"Assuming 2 SD waves\")\n",
    "    elif \"onsets_sd1_np\" in globals():\n",
    "        update_func = updateWithSingleSD\n",
    "        print(\"Assuming 1 SD wave\")\n",
    "    else: \n",
    "        update_func = updateNoSD\n",
    "        print(\"Assuming no SD waves present\")\n",
    "\n",
    "    # Draw frames and write to the pipe\n",
    "    for frame in range(i_begin_frame-1, i_end_frame):\n",
    "        print(frame)\n",
    "        # draw the frame\n",
    "        update_func(frame)\n",
    "        fig.canvas.draw()\n",
    "\n",
    "        # extract the image as an ARGB string\n",
    "        string = fig.canvas.tostring_argb()\n",
    "        # write to pipe\n",
    "        p.stdin.write(string)\n",
    "\n",
    "    # Finish up\n",
    "    p.communicate()"
   ]
  },
  {
   "cell_type": "code",
   "execution_count": null,
   "id": "0ddd7838",
   "metadata": {},
   "outputs": [],
   "source": [
    "saveVid(vid_title, begin_frame, end_frame)"
   ]
  },
  {
   "cell_type": "code",
   "execution_count": null,
   "id": "0b102a58",
   "metadata": {},
   "outputs": [],
   "source": [
    "min(onsets_szs_np)"
   ]
  },
  {
   "cell_type": "code",
   "execution_count": null,
   "id": "57f0e210",
   "metadata": {},
   "outputs": [],
   "source": [
    "onsets_szs_np2 = np.array([i for i in range(5471, 5471+715)])"
   ]
  },
  {
   "cell_type": "code",
   "execution_count": null,
   "id": "c6f460c4",
   "metadata": {},
   "outputs": [],
   "source": [
    "len(onsets_szs_np2)"
   ]
  },
  {
   "cell_type": "code",
   "execution_count": null,
   "id": "796f3c6b",
   "metadata": {},
   "outputs": [],
   "source": [
    "onsets_szs_np > 5466"
   ]
  },
  {
   "cell_type": "code",
   "execution_count": null,
   "id": "db5b41fc",
   "metadata": {},
   "outputs": [],
   "source": [
    "fig = plt.figure(figsize=(18,12))\n",
    "plt.hist(onsets_szs_np, bins=30)\n",
    "plt.text(5470, 80, \"a\", size=20, bbox=dict(fill=False, edgecolor='red', linewidth=2))\n",
    "plt.show()"
   ]
  },
  {
   "cell_type": "code",
   "execution_count": null,
   "id": "a3bcf7b3",
   "metadata": {},
   "outputs": [],
   "source": [
    "# TODO: for some reason, setting the size like it is now does not make the scatterplot on time... Compare with histo"
   ]
  },
  {
   "cell_type": "code",
   "execution_count": null,
   "id": "4c36696f",
   "metadata": {},
   "outputs": [],
   "source": []
  },
  {
   "cell_type": "code",
   "execution_count": null,
   "id": "bfcbac5d",
   "metadata": {},
   "outputs": [],
   "source": []
  }
 ],
 "metadata": {
  "kernelspec": {
   "display_name": "Python 3 (ipykernel)",
   "language": "python",
   "name": "python3"
  },
  "language_info": {
   "codemirror_mode": {
    "name": "ipython",
    "version": 3
   },
   "file_extension": ".py",
   "mimetype": "text/x-python",
   "name": "python",
   "nbconvert_exporter": "python",
   "pygments_lexer": "ipython3",
   "version": "3.8.12"
  }
 },
 "nbformat": 4,
 "nbformat_minor": 5
}
