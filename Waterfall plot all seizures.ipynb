{
 "cells": [
  {
   "cell_type": "code",
   "execution_count": null,
   "id": "bc808eae",
   "metadata": {},
   "outputs": [],
   "source": [
    "#Auto-reload modules (used to develop functions outside this notebook)\n",
    "%load_ext autoreload\n",
    "%autoreload 2"
   ]
  },
  {
   "cell_type": "code",
   "execution_count": null,
   "id": "b689ed94",
   "metadata": {},
   "outputs": [],
   "source": [
    "import h5py\n",
    "import numpy as np\n",
    "import labrotation.file_handling as fh\n",
    "import os\n",
    "import pandas as pd\n",
    "import labrotation.two_photon_session as tps\n",
    "import datadoc_util\n",
    "from mpl_toolkits.mplot3d import Axes3D\n",
    "from matplotlib.collections import PolyCollection\n",
    "import matplotlib.pyplot as plt\n",
    "import matplotlib.colors as mcolors\n",
    "from datetime import datetime as dt"
   ]
  },
  {
   "cell_type": "code",
   "execution_count": null,
   "id": "c312f7ab",
   "metadata": {},
   "outputs": [],
   "source": [
    "colors = mcolors.TABLEAU_COLORS  # has 10 unique colors"
   ]
  },
  {
   "cell_type": "code",
   "execution_count": null,
   "id": "e09ff8e2",
   "metadata": {},
   "outputs": [],
   "source": [
    "env_dict = dict()\n",
    "if not os.path.exists(\"./.env\"):\n",
    "    print(\".env does not exist\")\n",
    "else:\n",
    "    with open(\"./.env\", \"r\") as f:\n",
    "        for line in f.readlines():\n",
    "            l = line.rstrip().split(\"=\")\n",
    "            env_dict[l[0]] = l[1]\n",
    "print(env_dict.keys())"
   ]
  },
  {
   "cell_type": "code",
   "execution_count": null,
   "id": "e474e8ee",
   "metadata": {},
   "outputs": [],
   "source": [
    "if \"DATA_DOCU_FOLDER\" in env_dict.keys():\n",
    "    data_docu_folder = env_dict[\"DATA_DOCU_FOLDER\"]\n",
    "else:\n",
    "    data_docu_folder = fh.open_dir(\"Open Data Documentation folder\")\n",
    "print(data_docu_folder)"
   ]
  },
  {
   "cell_type": "code",
   "execution_count": null,
   "id": "1649d297",
   "metadata": {},
   "outputs": [],
   "source": [
    "ddoc = datadoc_util.DataDocumentation(data_docu_folder)\n",
    "ddoc.loadDataDoc()"
   ]
  },
  {
   "cell_type": "markdown",
   "id": "b16ed407",
   "metadata": {},
   "source": [
    "# Get seizure traces\n",
    "The h5 file should contain groups named event uuids (i.e. each seizure has its own uuid). Inside the group, all data sources (labview time, labview speed, nikon mean fluo, lfp (if present) t and lfp values etc.) should have an own dataset."
   ]
  },
  {
   "cell_type": "code",
   "execution_count": null,
   "id": "5bb9c8ae",
   "metadata": {},
   "outputs": [],
   "source": [
    "events_list_fpath = os.path.join(env_dict[\"DATA_DOCU_FOLDER\"], \"events_list.xlsx\")\n",
    "assert os.path.exists(events_list_fpath)"
   ]
  },
  {
   "cell_type": "code",
   "execution_count": null,
   "id": "bf1018fd",
   "metadata": {},
   "outputs": [],
   "source": [
    "df_events = pd.read_excel(events_list_fpath)\n",
    "df_events = df_events[df_events[\"event_type\"] == \"sz\"] "
   ]
  },
  {
   "cell_type": "code",
   "execution_count": null,
   "id": "e71d7c3d",
   "metadata": {},
   "outputs": [],
   "source": [
    "event_traces_fpath = fh.open_file(\"Open .h5 file containing assembled traces for all seizures!\")"
   ]
  },
  {
   "cell_type": "code",
   "execution_count": null,
   "id": "d481a9c0",
   "metadata": {},
   "outputs": [],
   "source": [
    "traces_dict = dict()  \n",
    "traces_meta_dict = dict()\n",
    "# first keys are event uuids, inside the following dataset names:\n",
    "# 'lfp_mov_t', 'lfp_mov_y', 'lfp_t', 'lfp_y', 'lv_dist', 'lv_rounds', \n",
    "# 'lv_running', 'lv_speed', 'lv_t_s', 'lv_totdist', 'mean_fluo'\n",
    "with h5py.File(event_traces_fpath, \"r\") as hf:\n",
    "    for uuid in hf.keys():\n",
    "        session_dataset_dict = dict() \n",
    "        session_meta_dict = dict()\n",
    "        for dataset_name in hf[uuid].keys():\n",
    "            session_dataset_dict[dataset_name] = np.array(hf[uuid][dataset_name])\n",
    "        for attr_name in hf[uuid].attrs:\n",
    "            session_meta_dict[attr_name] = hf[uuid].attrs[attr_name]\n",
    "        traces_dict[uuid] = session_dataset_dict.copy()\n",
    "        traces_meta_dict[uuid] = session_meta_dict.copy()"
   ]
  },
  {
   "cell_type": "code",
   "execution_count": null,
   "id": "2eb55215",
   "metadata": {},
   "outputs": [],
   "source": [
    "traces_dict[\"2251bba132cf45fa839d3214d1651392\"][\"lv_t_s\"]"
   ]
  },
  {
   "cell_type": "code",
   "execution_count": null,
   "id": "d1a31b7d",
   "metadata": {},
   "outputs": [],
   "source": [
    "fig = plt.figure(figsize=(12,12))\n",
    "ax = fig.gca(projection='3d')\n",
    "\n",
    "zs = [i*1.0 for i in range(len(traces_dict.keys()))]\n",
    "verts = []\n",
    "for uuid in traces_dict.keys():\n",
    "    xs = traces_dict[uuid][\"lv_t_s\"]\n",
    "    ys = (traces_dict[uuid][\"mean_fluo\"] - min(traces_dict[uuid][\"mean_fluo\"]))/max(traces_dict[uuid][\"mean_fluo\"])\n",
    "    verts.append(list(zip(xs, ys)))\n",
    "\n",
    "poly = PolyCollection(verts)\n",
    "poly.set_alpha(0.4)\n",
    "ax.add_collection3d(poly, zs=zs, zdir='y')\n",
    "\n",
    "\n",
    "ax.set_xlabel('X')\n",
    "ax.set_xlim3d(0, 800)\n",
    "ax.set_ylabel('Y')\n",
    "ax.set_ylim3d(0, 25)\n",
    "ax.set_zlabel('Z')\n",
    "#ax.set_zlim3d(0, 500)\n",
    "\n",
    "plt.show()"
   ]
  },
  {
   "cell_type": "code",
   "execution_count": null,
   "id": "6c2fd450",
   "metadata": {},
   "outputs": [],
   "source": [
    "for uuid in traces_dict.keys():\n",
    "    print(f\"{len(traces_dict[uuid]['lv_t_s'])} - {len(traces_dict[uuid]['mean_fluo'])} = {len(traces_dict[uuid]['lv_t_s']) - len(traces_dict[uuid]['mean_fluo'])}\")"
   ]
  },
  {
   "cell_type": "code",
   "execution_count": null,
   "id": "2f365826",
   "metadata": {},
   "outputs": [],
   "source": [
    "for uuid in traces_dict.keys():\n",
    "    print(traces_dict[uuid][\"lv_t_s\"][0])"
   ]
  },
  {
   "cell_type": "code",
   "execution_count": null,
   "id": "d0dfd6f9",
   "metadata": {},
   "outputs": [],
   "source": [
    "df_events[df_events[\"event_uuid\"] == \"f0442bebcd1a4291a8d0559eb47df08e\"]"
   ]
  },
  {
   "cell_type": "code",
   "execution_count": null,
   "id": "8ae731e6",
   "metadata": {},
   "outputs": [],
   "source": []
  },
  {
   "cell_type": "code",
   "execution_count": null,
   "id": "290a2bbc",
   "metadata": {},
   "outputs": [],
   "source": []
  },
  {
   "cell_type": "code",
   "execution_count": null,
   "id": "3cbe516b",
   "metadata": {},
   "outputs": [],
   "source": [
    "dt.now().second"
   ]
  },
  {
   "cell_type": "code",
   "execution_count": null,
   "id": "0f62fdf5",
   "metadata": {},
   "outputs": [],
   "source": [
    "def get_datetime_for_fname():\n",
    "    now = dt.now()\n",
    "    return f\"{now.year:04d}{now.month:02d}{now.day:02d}-{now.hour:02d}{now.minute:02d}{now.second:02d}\""
   ]
  },
  {
   "cell_type": "code",
   "execution_count": null,
   "id": "13a463ac",
   "metadata": {},
   "outputs": [],
   "source": []
  },
  {
   "cell_type": "code",
   "execution_count": null,
   "id": "06e321fe",
   "metadata": {},
   "outputs": [],
   "source": [
    "AMPLITUDE = 100.0\n",
    "\n",
    "fig = plt.figure(figsize=(18,18))\n",
    "color_index = 0\n",
    "mouse_ids = df_events.mouse_id.unique()\n",
    "for (mouse_id, event_uuid), g in df_events.sort_values([\"window_type\", \"sz_index\"]).groupby([\"mouse_id\", \"event_uuid\"]):\n",
    "    print(event_uuid)\n",
    "    color = colors[list(colors.keys())[df_events.mouse_id.unique().searchsorted(mouse_id)]]\n",
    "    plt.plot(traces_dict[event_uuid][\"lv_t_s\"], AMPLITUDE*(traces_dict[event_uuid][\"mean_fluo\"] - min(traces_dict[event_uuid][\"mean_fluo\"]))/(max(traces_dict[event_uuid][\"mean_fluo\"]) - min(traces_dict[event_uuid][\"mean_fluo\"]))+offset, color=color)\n",
    "    offset+=AMPLITUDE + 0.05*AMPLITUDE\n",
    "#plt.axis(\"off\")\n",
    "plt.yticks([])\n",
    "plt.xlabel(\"Time (s)\", fontsize=14)\n",
    "plt.xlim((250, 500))\n",
    "out_fpath = f\"D:\\\\Downloads\\\\traces_{get_datetime_for_fname()}.eps\"\n",
    "plt.savefig(out_fpath,bbox_inches='tight', dpi=300)\n",
    "print(f\"Saved as {out_fpath}\")\n",
    "plt.show()\n"
   ]
  },
  {
   "cell_type": "code",
   "execution_count": null,
   "id": "75241897",
   "metadata": {},
   "outputs": [],
   "source": [
    "fig = plt.figure(figsize=(18,18))\n",
    "color_index = 0\n",
    "mouse_ids = df_events.mouse_id.unique()\n",
    "for (mouse_id, event_uuid), g in df_events.sort_values([\"window_type\", \"sz_index\"]).groupby([\"mouse_id\", \"event_uuid\"]):\n",
    "    print(event_uuid)\n",
    "    color = colors[list(colors.keys())[df_events.mouse_id.unique().searchsorted(mouse_id)]]\n",
    "    plt.plot(traces_dict[event_uuid][\"lfp_t\"], traces_dict[event_uuid][\"lfp_y\"]+offset, color=color)\n",
    "    offset+=0.2\n",
    "#plt.axis(\"off\")\n",
    "plt.yticks([])\n",
    "plt.xlabel(\"Time (s)\", fontsize=14)\n",
    "#plt.savefig(\"D:\\\\Downloads\\\\tmev_sz_traces.jpg\",bbox_inches='tight', dpi=300)\n",
    "plt.xlim((250, 400))\n",
    "plt.show()"
   ]
  },
  {
   "cell_type": "markdown",
   "id": "6581c05b",
   "metadata": {},
   "source": [
    "# Combine all data sources"
   ]
  },
  {
   "cell_type": "code",
   "execution_count": null,
   "id": "f6c3ced8",
   "metadata": {},
   "outputs": [],
   "source": [
    "AMPLITUDE = 100.0\n",
    "\n",
    "fig = plt.figure(figsize=(18,48))\n",
    "color_index = 0\n",
    "mouse_ids = df_events.mouse_id.unique()\n",
    "for (mouse_id, event_uuid), g in df_events.sort_values([\"window_type\", \"sz_index\"]).groupby([\"mouse_id\", \"event_uuid\"]):\n",
    "    print(event_uuid)\n",
    "    color = colors[list(colors.keys())[df_events.mouse_id.unique().searchsorted(mouse_id)]]\n",
    "    \n",
    "    # plot labview speed\n",
    "    plt.plot(traces_dict[event_uuid][\"lv_t_s\"], AMPLITUDE*(traces_dict[event_uuid][\"lv_speed\"] - min(traces_dict[event_uuid][\"lv_speed\"]))/(max(traces_dict[event_uuid][\"lv_speed\"]) - min(traces_dict[event_uuid][\"lv_speed\"]))+offset, color=color)\n",
    "    offset+=AMPLITUDE + 0.05*AMPLITUDE\n",
    "    \n",
    "    # plot lfp movement\n",
    "    plt.plot(traces_dict[event_uuid][\"lfp_mov_t\"], AMPLITUDE*(traces_dict[event_uuid][\"lfp_mov_y\"] - min(traces_dict[event_uuid][\"lfp_mov_y\"]))/(max(traces_dict[event_uuid][\"lfp_mov_y\"]) - min(traces_dict[event_uuid][\"lfp_mov_y\"]))+offset, color=color)\n",
    "    offset+=AMPLITUDE + 0.05*AMPLITUDE\n",
    "    \n",
    "    # plot lfp\n",
    "    plt.plot(traces_dict[event_uuid][\"lfp_t\"], AMPLITUDE*(traces_dict[event_uuid][\"lfp_y\"] - min(traces_dict[event_uuid][\"lfp_y\"]))/(max(traces_dict[event_uuid][\"lfp_y\"]) - min(traces_dict[event_uuid][\"lfp_y\"]))+offset, color=color)\n",
    "    offset+=AMPLITUDE + 0.05*AMPLITUDE\n",
    "    \n",
    "    # plot nikon mean fluorescence\n",
    "    plt.plot(traces_dict[event_uuid][\"lv_t_s\"], AMPLITUDE*(traces_dict[event_uuid][\"mean_fluo\"] - min(traces_dict[event_uuid][\"mean_fluo\"]))/(max(traces_dict[event_uuid][\"mean_fluo\"]) - min(traces_dict[event_uuid][\"mean_fluo\"]))+offset, color=color)\n",
    "    offset+=AMPLITUDE + 0.05*AMPLITUDE\n",
    "    \n",
    "#plt.axis(\"off\")\n",
    "plt.yticks([])\n",
    "plt.xlabel(\"Time (s)\", fontsize=14)\n",
    "out_fpath = f\"D:\\\\Downloads\\\\all_traces_{get_datetime_for_fname()}.jpg\"\n",
    "plt.savefig(out_fpath,bbox_inches='tight', dpi=300)\n",
    "print(f\"Saved as {out_fpath}\")\n",
    "plt.show()"
   ]
  },
  {
   "cell_type": "code",
   "execution_count": null,
   "id": "9c1df18a",
   "metadata": {},
   "outputs": [],
   "source": [
    "t = dt.now()"
   ]
  },
  {
   "cell_type": "code",
   "execution_count": null,
   "id": "5390b0eb",
   "metadata": {},
   "outputs": [],
   "source": [
    "t.toordinal()"
   ]
  },
  {
   "cell_type": "markdown",
   "id": "0766dbcb",
   "metadata": {},
   "source": [
    "# Plot locomotion and Nikon together"
   ]
  },
  {
   "cell_type": "code",
   "execution_count": null,
   "id": "2f78dd4d",
   "metadata": {},
   "outputs": [],
   "source": [
    "AMPLITUDE = 100.0\n",
    "\n",
    "fig = plt.figure(figsize=(18,36))\n",
    "color_index = 0\n",
    "mouse_ids = df_events.mouse_id.unique()\n",
    "for (mouse_id, event_uuid), g in df_events.sort_values([\"window_type\", \"sz_index\"]).groupby([\"mouse_id\", \"event_uuid\"]):\n",
    "    print(event_uuid)\n",
    "    color = colors[list(colors.keys())[df_events.mouse_id.unique().searchsorted(mouse_id)]]\n",
    "    # plot labview loco\n",
    "    plt.plot(traces_dict[event_uuid][\"lv_t_s\"], AMPLITUDE*(traces_dict[event_uuid][\"lv_speed\"] - min(traces_dict[event_uuid][\"lv_speed\"]))/(max(traces_dict[event_uuid][\"lv_speed\"]) - min(traces_dict[event_uuid][\"lv_speed\"]))+offset, color=color)\n",
    "    offset+=AMPLITUDE + 0.05*AMPLITUDE    \n",
    "    \n",
    "    # plot Nikon\n",
    "    plt.plot(traces_dict[event_uuid][\"lv_t_s\"], AMPLITUDE*(traces_dict[event_uuid][\"mean_fluo\"] - min(traces_dict[event_uuid][\"mean_fluo\"]))/(max(traces_dict[event_uuid][\"mean_fluo\"]) - min(traces_dict[event_uuid][\"mean_fluo\"]))+offset, color=color)\n",
    "    offset+=2*AMPLITUDE\n",
    "#plt.axis(\"off\")\n",
    "plt.yticks([])\n",
    "plt.xlabel(\"Time (s)\", fontsize=14)\n",
    "plt.xlim((250, 500))\n",
    "out_fpath = f\"D:\\\\Downloads\\\\traces_w_loco_{get_datetime_for_fname()}.eps\"\n",
    "plt.savefig(out_fpath,bbox_inches='tight', dpi=300)\n",
    "print(f\"Saved as {out_fpath}\")\n",
    "plt.show()\n"
   ]
  },
  {
   "cell_type": "code",
   "execution_count": null,
   "id": "81a5e5c4",
   "metadata": {},
   "outputs": [],
   "source": [
    "# TODO: add column has_lfp to events_list.xlsx"
   ]
  }
 ],
 "metadata": {
  "kernelspec": {
   "display_name": "Python 3 (ipykernel)",
   "language": "python",
   "name": "python3"
  },
  "language_info": {
   "codemirror_mode": {
    "name": "ipython",
    "version": 3
   },
   "file_extension": ".py",
   "mimetype": "text/x-python",
   "name": "python",
   "nbconvert_exporter": "python",
   "pygments_lexer": "ipython3",
   "version": "3.8.12"
  }
 },
 "nbformat": 4,
 "nbformat_minor": 5
}
