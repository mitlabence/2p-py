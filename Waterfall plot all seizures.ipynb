{
 "cells": [
  {
   "cell_type": "code",
   "execution_count": null,
   "id": "bc808eae",
   "metadata": {},
   "outputs": [],
   "source": [
    "#Auto-reload modules (used to develop functions outside this notebook)\n",
    "%load_ext autoreload\n",
    "%autoreload 2"
   ]
  },
  {
   "cell_type": "code",
   "execution_count": null,
   "id": "b689ed94",
   "metadata": {},
   "outputs": [],
   "source": [
    "import h5py\n",
    "import numpy as np\n",
    "import labrotation.file_handling as fh\n",
    "import os\n",
    "import pandas as pd\n",
    "import labrotation.two_photon_session as tps\n",
    "import datadoc_util\n",
    "from mpl_toolkits.mplot3d import Axes3D\n",
    "from matplotlib.collections import PolyCollection\n",
    "import matplotlib.pyplot as plt\n",
    "import matplotlib.colors as mcolors\n",
    "from datetime import datetime as dt"
   ]
  },
  {
   "cell_type": "code",
   "execution_count": null,
   "id": "c312f7ab",
   "metadata": {},
   "outputs": [],
   "source": [
    "colors = mcolors.TABLEAU_COLORS  # has 10 unique colors"
   ]
  },
  {
   "cell_type": "code",
   "execution_count": null,
   "id": "e09ff8e2",
   "metadata": {},
   "outputs": [],
   "source": [
    "env_dict = dict()\n",
    "if not os.path.exists(\"./.env\"):\n",
    "    print(\".env does not exist\")\n",
    "else:\n",
    "    with open(\"./.env\", \"r\") as f:\n",
    "        for line in f.readlines():\n",
    "            l = line.rstrip().split(\"=\")\n",
    "            env_dict[l[0]] = l[1]\n",
    "print(env_dict.keys())"
   ]
  },
  {
   "cell_type": "code",
   "execution_count": null,
   "id": "e474e8ee",
   "metadata": {},
   "outputs": [],
   "source": [
    "if \"DATA_DOCU_FOLDER\" in env_dict.keys():\n",
    "    data_docu_folder = env_dict[\"DATA_DOCU_FOLDER\"]\n",
    "else:\n",
    "    data_docu_folder = fh.open_dir(\"Open Data Documentation folder\")\n",
    "print(data_docu_folder)"
   ]
  },
  {
   "cell_type": "code",
   "execution_count": null,
   "id": "1649d297",
   "metadata": {},
   "outputs": [],
   "source": [
    "ddoc = datadoc_util.DataDocumentation(data_docu_folder)\n",
    "ddoc.loadDataDoc()"
   ]
  },
  {
   "cell_type": "markdown",
   "id": "b16ed407",
   "metadata": {},
   "source": [
    "# Get seizure traces\n",
    "The h5 file should contain groups named event uuids (i.e. each seizure has its own uuid). Inside the group, all data sources (labview time, labview speed, nikon mean fluo, lfp (if present) t and lfp values etc.) should have an own dataset."
   ]
  },
  {
   "cell_type": "code",
   "execution_count": null,
   "id": "5bb9c8ae",
   "metadata": {},
   "outputs": [],
   "source": [
    "events_list_fpath = os.path.join(env_dict[\"DATA_DOCU_FOLDER\"], \"events_list.xlsx\")\n",
    "assert os.path.exists(events_list_fpath)"
   ]
  },
  {
   "cell_type": "code",
   "execution_count": null,
   "id": "bf1018fd",
   "metadata": {},
   "outputs": [],
   "source": [
    "df_events = pd.read_excel(events_list_fpath)\n",
    "df_events = df_events[df_events[\"event_type\"] == \"sz\"] "
   ]
  },
  {
   "cell_type": "code",
   "execution_count": null,
   "id": "e71d7c3d",
   "metadata": {},
   "outputs": [],
   "source": [
    "event_traces_fpath = fh.open_file(\"Open .h5 file containing assembled traces for all seizures!\")\n",
    "print(event_traces_fpath)"
   ]
  },
  {
   "cell_type": "code",
   "execution_count": null,
   "id": "d481a9c0",
   "metadata": {},
   "outputs": [],
   "source": [
    "traces_dict = dict()  \n",
    "traces_meta_dict = dict()\n",
    "# first keys are event uuids, inside the following dataset names:\n",
    "# 'lfp_mov_t', 'lfp_mov_y', 'lfp_t', 'lfp_y', 'lv_dist', 'lv_rounds', \n",
    "# 'lv_running', 'lv_speed', 'lv_t_s', 'lv_totdist', 'mean_fluo'\n",
    "with h5py.File(event_traces_fpath, \"r\") as hf:\n",
    "    for uuid in hf.keys():\n",
    "        session_dataset_dict = dict() \n",
    "        session_meta_dict = dict()\n",
    "        for dataset_name in hf[uuid].keys():\n",
    "            session_dataset_dict[dataset_name] = np.array(hf[uuid][dataset_name])\n",
    "        for attr_name in hf[uuid].attrs:\n",
    "            session_meta_dict[attr_name] = hf[uuid].attrs[attr_name]\n",
    "        traces_dict[uuid] = session_dataset_dict.copy()\n",
    "        traces_meta_dict[uuid] = session_meta_dict.copy()"
   ]
  },
  {
   "cell_type": "code",
   "execution_count": null,
   "id": "d1a31b7d",
   "metadata": {},
   "outputs": [],
   "source": [
    "fig = plt.figure(figsize=(12,12))\n",
    "ax = fig.gca(projection='3d')\n",
    "\n",
    "zs = [i*1.0 for i in range(len(traces_dict.keys()))]\n",
    "verts = []\n",
    "for uuid in traces_dict.keys():\n",
    "    xs = traces_dict[uuid][\"lv_t_s\"]\n",
    "    ys = (traces_dict[uuid][\"mean_fluo\"] - min(traces_dict[uuid][\"mean_fluo\"]))/max(traces_dict[uuid][\"mean_fluo\"])\n",
    "    verts.append(list(zip(xs, ys)))\n",
    "\n",
    "poly = PolyCollection(verts)\n",
    "poly.set_alpha(0.4)\n",
    "ax.add_collection3d(poly, zs=zs, zdir='y')\n",
    "\n",
    "\n",
    "ax.set_xlabel('X')\n",
    "ax.set_xlim3d(0, 800)\n",
    "ax.set_ylabel('Y')\n",
    "ax.set_ylim3d(0, 25)\n",
    "ax.set_zlabel('Z')\n",
    "#ax.set_zlim3d(0, 500)\n",
    "\n",
    "plt.show()"
   ]
  },
  {
   "cell_type": "code",
   "execution_count": null,
   "id": "6c2fd450",
   "metadata": {},
   "outputs": [],
   "source": [
    "for uuid in traces_dict.keys():\n",
    "    print(f\"{len(traces_dict[uuid]['lv_t_s'])} - {len(traces_dict[uuid]['mean_fluo'])} = {len(traces_dict[uuid]['lv_t_s']) - len(traces_dict[uuid]['mean_fluo'])}\")"
   ]
  },
  {
   "cell_type": "code",
   "execution_count": null,
   "id": "2f365826",
   "metadata": {},
   "outputs": [],
   "source": [
    "for uuid in traces_dict.keys():\n",
    "    print(traces_dict[uuid][\"lv_t_s\"][0])"
   ]
  },
  {
   "cell_type": "code",
   "execution_count": null,
   "id": "d0dfd6f9",
   "metadata": {},
   "outputs": [],
   "source": [
    "df_events[df_events[\"event_uuid\"] == \"f0442bebcd1a4291a8d0559eb47df08e\"]"
   ]
  },
  {
   "cell_type": "code",
   "execution_count": null,
   "id": "0f62fdf5",
   "metadata": {},
   "outputs": [],
   "source": [
    "def get_datetime_for_fname():\n",
    "    now = dt.now()\n",
    "    return f\"{now.year:04d}{now.month:02d}{now.day:02d}-{now.hour:02d}{now.minute:02d}{now.second:02d}\""
   ]
  },
  {
   "cell_type": "markdown",
   "id": "8fbaa073",
   "metadata": {},
   "source": [
    "# Plot results"
   ]
  },
  {
   "cell_type": "code",
   "execution_count": null,
   "id": "2d59c662",
   "metadata": {},
   "outputs": [],
   "source": [
    "save_figs = True\n",
    "file_format = \".jpg\"  # \".eps\""
   ]
  },
  {
   "cell_type": "code",
   "execution_count": null,
   "id": "06e321fe",
   "metadata": {},
   "outputs": [],
   "source": [
    "AMPLITUDE = 100.0\n",
    "offset = 0\n",
    "fig = plt.figure(figsize=(18,18))\n",
    "color_index = 0\n",
    "mouse_ids = df_events.mouse_id.unique()\n",
    "prev_range = 0.0\n",
    "for (mouse_id, event_uuid), g in df_events.sort_values([\"window_type\", \"sz_index\"]).groupby([\"mouse_id\", \"event_uuid\"]):\n",
    "    print(event_uuid)\n",
    "    color = colors[list(colors.keys())[df_events.mouse_id.unique().searchsorted(mouse_id)]]\n",
    "    plt.scatter(traces_dict[event_uuid][\"lv_t_s\"], AMPLITUDE*(traces_dict[event_uuid][\"mean_fluo\"] - min(traces_dict[event_uuid][\"mean_fluo\"]))/(max(traces_dict[event_uuid][\"mean_fluo\"]) - min(traces_dict[event_uuid][\"mean_fluo\"]))+offset, color=color, s=2)\n",
    "    #plt.scatter(traces_dict[event_uuid][\"lv_t_s\"], traces_dict[event_uuid][\"mean_fluo\"] + prev_range + offset, color=color, s=2)\n",
    "    # plot recording end points to show where stitching happened\n",
    "    plt.vlines(traces_dict[event_uuid][\"lv_t_s\"][traces_meta_dict[event_uuid][\"recording_break_points\"]], offset, offset+AMPLITUDE, color=\"black\")\n",
    "    # plot segment borders (bl, sz, am)\n",
    "    #plt.vlines(traces_dict[event_uuid][\"lv_t_s\"][traces_meta_dict[event_uuid][\"segment_type_break_points\"]], offset, offset+AMPLITUDE, color=\"black\")\n",
    "    prev_range += max(traces_dict[event_uuid][\"mean_fluo\"]) - min(traces_dict[event_uuid][\"mean_fluo\"])\n",
    "    offset+=1.1*AMPLITUDE\n",
    "#plt.axis(\"off\")\n",
    "plt.yticks([])\n",
    "plt.xlabel(\"Time (s)\", fontsize=14)\n",
    "plt.xlim((250, 500))  # 250, 500\n",
    "if save_figs:\n",
    "    out_fpath = f\"D:\\\\Downloads\\\\traces_{get_datetime_for_fname()}{file_format}\"\n",
    "    plt.savefig(out_fpath,bbox_inches='tight', dpi=300)\n",
    "    print(f\"Saved as {out_fpath}\")\n",
    "plt.show()\n"
   ]
  },
  {
   "cell_type": "code",
   "execution_count": null,
   "id": "75241897",
   "metadata": {},
   "outputs": [],
   "source": [
    "fig = plt.figure(figsize=(18,18))\n",
    "color_index = 0\n",
    "mouse_ids = df_events.mouse_id.unique()\n",
    "offset = 0.0\n",
    "for (mouse_id, event_uuid), g in df_events.sort_values([\"window_type\", \"sz_index\"]).groupby([\"mouse_id\", \"event_uuid\"]):\n",
    "    print(event_uuid)\n",
    "    color = colors[list(colors.keys())[df_events.mouse_id.unique().searchsorted(mouse_id)]]\n",
    "    plt.scatter(traces_dict[event_uuid][\"lfp_t\"], traces_dict[event_uuid][\"lfp_y\"]+offset, color=color, s=0.1)\n",
    "    #plt.vlines(traces_dict[event_uuid][\"lfp_t\"][traces_meta_dict[event_uuid][\"recording_break_points_lfp\"]], offset-0.1, offset+0.4, color=\"black\")\n",
    "    plt.vlines(traces_dict[event_uuid][\"lfp_t\"][traces_meta_dict[event_uuid][\"segment_type_break_points_lfp\"]], offset-0.1, offset+0.4, color=\"grey\")\n",
    "    offset+=0.5\n",
    "#plt.axis(\"off\")\n",
    "plt.yticks([])\n",
    "plt.xlabel(\"Time (s)\", fontsize=14)\n",
    "plt.xlim((300, 480))\n",
    "if save_figs:\n",
    "    out_fpath = f\"D:\\\\Downloads\\\\tmev_sz_traces_{get_datetime_for_fname()}{file_format}\"\n",
    "    plt.savefig(out_fpath,bbox_inches='tight', dpi=300)\n",
    "    print(f\"Saved as {out_fpath}\")\n",
    "plt.show()"
   ]
  },
  {
   "cell_type": "markdown",
   "id": "6581c05b",
   "metadata": {},
   "source": [
    "# Combine all data sources"
   ]
  },
  {
   "cell_type": "code",
   "execution_count": null,
   "id": "f6c3ced8",
   "metadata": {},
   "outputs": [],
   "source": [
    "AMPLITUDE = 100.0\n",
    "\n",
    "fig = plt.figure(figsize=(24,48))\n",
    "color_index = 0\n",
    "mouse_ids = df_events.mouse_id.unique()\n",
    "for (mouse_id, event_uuid), g in df_events.sort_values([\"window_type\", \"sz_index\"]).groupby([\"mouse_id\", \"event_uuid\"]):\n",
    "    print(event_uuid)\n",
    "    color = colors[list(colors.keys())[df_events.mouse_id.unique().searchsorted(mouse_id)]]\n",
    "    \n",
    "    # plot labview speed\n",
    "    plt.scatter(traces_dict[event_uuid][\"lv_t_s\"], AMPLITUDE*(traces_dict[event_uuid][\"lv_speed\"] - min(traces_dict[event_uuid][\"lv_speed\"]))/(max(traces_dict[event_uuid][\"lv_speed\"]) - min(traces_dict[event_uuid][\"lv_speed\"]))+offset, color=color, s=2)\n",
    "    offset+=AMPLITUDE + 0.1*AMPLITUDE\n",
    "    \n",
    "    # plot lfp movement\n",
    "    plt.scatter(traces_dict[event_uuid][\"lfp_mov_t\"], AMPLITUDE*(traces_dict[event_uuid][\"lfp_mov_y\"] - min(traces_dict[event_uuid][\"lfp_mov_y\"]))/(max(traces_dict[event_uuid][\"lfp_mov_y\"]) - min(traces_dict[event_uuid][\"lfp_mov_y\"]))+offset, color=color, s=2)\n",
    "    offset+=AMPLITUDE + 0.1*AMPLITUDE\n",
    "    \n",
    "    # plot lfp\n",
    "    plt.scatter(traces_dict[event_uuid][\"lfp_t\"], AMPLITUDE*(traces_dict[event_uuid][\"lfp_y\"] - min(traces_dict[event_uuid][\"lfp_y\"]))/(max(traces_dict[event_uuid][\"lfp_y\"]) - min(traces_dict[event_uuid][\"lfp_y\"]))+offset, color=color, s=2)\n",
    "    offset+=AMPLITUDE + 0.1*AMPLITUDE\n",
    "    \n",
    "    # plot nikon mean fluorescence\n",
    "    plt.scatter(traces_dict[event_uuid][\"lv_t_s\"], AMPLITUDE*(traces_dict[event_uuid][\"mean_fluo\"] - min(traces_dict[event_uuid][\"mean_fluo\"]))/(max(traces_dict[event_uuid][\"mean_fluo\"]) - min(traces_dict[event_uuid][\"mean_fluo\"]))+offset, color=color, s=2)\n",
    "    offset+=AMPLITUDE + 0.5*AMPLITUDE\n",
    "    \n",
    "#plt.axis(\"off\")\n",
    "plt.yticks([])\n",
    "plt.xlabel(\"Time (s)\", fontsize=14)\n",
    "\n",
    "#plt.savefig(out_fpath,bbox_inches='tight', dpi=300)\n",
    "if save_figs:\n",
    "    out_fpath = f\"D:\\\\Downloads\\\\all_traces_{get_datetime_for_fname()}{file_format}\"\n",
    "    plt.savefig(out_fpath,bbox_inches='tight', dpi=300)\n",
    "    print(f\"Saved as {out_fpath}\")\n",
    "plt.show()"
   ]
  },
  {
   "cell_type": "markdown",
   "id": "0766dbcb",
   "metadata": {},
   "source": [
    "# Plot locomotion and Nikon together"
   ]
  },
  {
   "cell_type": "code",
   "execution_count": null,
   "id": "2f78dd4d",
   "metadata": {},
   "outputs": [],
   "source": [
    "AMPLITUDE = 100.0\n",
    "\n",
    "fig = plt.figure(figsize=(18,36))\n",
    "color_index = 0\n",
    "mouse_ids = df_events.mouse_id.unique()\n",
    "for (mouse_id, event_uuid), g in df_events.sort_values([\"window_type\", \"sz_index\"]).groupby([\"mouse_id\", \"event_uuid\"]):\n",
    "    print(event_uuid)\n",
    "    color = colors[list(colors.keys())[df_events.mouse_id.unique().searchsorted(mouse_id)]]\n",
    "    # plot labview loco\n",
    "    plt.scatter(traces_dict[event_uuid][\"lv_t_s\"], AMPLITUDE*(traces_dict[event_uuid][\"lv_speed\"] - min(traces_dict[event_uuid][\"lv_speed\"]))/(max(traces_dict[event_uuid][\"lv_speed\"]) - min(traces_dict[event_uuid][\"lv_speed\"]))+offset, color=color, s=2)\n",
    "    \n",
    "    plt.vlines(traces_dict[event_uuid][\"lv_t_s\"][traces_meta_dict[event_uuid][\"recording_break_points\"]], offset-0.05*AMPLITUDE, offset+2.1*AMPLITUDE, color=\"black\")\n",
    "    \n",
    "    \n",
    "    offset+=AMPLITUDE + 0.05*AMPLITUDE    \n",
    "    \n",
    "    # plot Nikon\n",
    "    plt.scatter(traces_dict[event_uuid][\"lv_t_s\"], AMPLITUDE*(traces_dict[event_uuid][\"mean_fluo\"] - min(traces_dict[event_uuid][\"mean_fluo\"]))/(max(traces_dict[event_uuid][\"mean_fluo\"]) - min(traces_dict[event_uuid][\"mean_fluo\"]))+offset, color=color, s=2)\n",
    "    \n",
    "    \n",
    "    \n",
    "    \n",
    "    offset+=2*AMPLITUDE\n",
    "    \n",
    "#plt.axis(\"off\")\n",
    "plt.yticks([])\n",
    "plt.xlabel(\"Time (s)\", fontsize=14)\n",
    "#plt.xlim((250, 500))\n",
    "if save_figs:\n",
    "    out_fpath = f\"D:\\\\Downloads\\\\traces_w_loco_{get_datetime_for_fname()}{file_format}\"\n",
    "    plt.savefig(out_fpath,bbox_inches='tight', dpi=300)\n",
    "    print(f\"Saved as {out_fpath}\")\n",
    "plt.show()\n"
   ]
  },
  {
   "cell_type": "markdown",
   "id": "b7d8bd35",
   "metadata": {},
   "source": [
    "# Test accumulative data\n",
    "Rounds and total distance should be continuous"
   ]
  },
  {
   "cell_type": "code",
   "execution_count": null,
   "id": "3a954f7b",
   "metadata": {},
   "outputs": [],
   "source": [
    "AMPLITUDE = 100.0\n",
    "offset = 0\n",
    "fig = plt.figure(figsize=(18,18))\n",
    "color_index = 0\n",
    "mouse_ids = df_events.mouse_id.unique()\n",
    "prev_range = 0.0\n",
    "for (mouse_id, event_uuid), g in df_events.sort_values([\"window_type\", \"sz_index\"]).groupby([\"mouse_id\", \"event_uuid\"]):\n",
    "    print(event_uuid)\n",
    "    color = colors[list(colors.keys())[df_events.mouse_id.unique().searchsorted(mouse_id)]]\n",
    "    plt.scatter(traces_dict[event_uuid][\"lv_t_s\"], AMPLITUDE*(traces_dict[event_uuid][\"lv_totdist_abs\"] - min(traces_dict[event_uuid][\"lv_totdist_abs\"]))/(max(traces_dict[event_uuid][\"lv_totdist_abs\"]) - min(traces_dict[event_uuid][\"lv_totdist_abs\"]))+offset, color=color, s=2)\n",
    "    #plt.scatter(traces_dict[event_uuid][\"lv_t_s\"], traces_dict[event_uuid][\"mean_fluo\"] + prev_range + offset, color=color, s=2)\n",
    "    # plot recording end points to show where stitching happened\n",
    "    plt.vlines(traces_dict[event_uuid][\"lv_t_s\"][traces_meta_dict[event_uuid][\"break_points\"]], offset, offset+AMPLITUDE, color=\"black\")\n",
    "    # plot segment borders (bl, sz, am)\n",
    "    #plt.vlines(traces_dict[event_uuid][\"lv_t_s\"][traces_meta_dict[event_uuid][\"segment_type_break_points\"]], offset, offset+AMPLITUDE, color=\"black\")\n",
    "    prev_range += max(traces_dict[event_uuid][\"mean_fluo\"]) - min(traces_dict[event_uuid][\"mean_fluo\"])\n",
    "    offset+=1.1*AMPLITUDE\n",
    "#plt.axis(\"off\")\n",
    "plt.yticks([])\n",
    "plt.xlabel(\"Time (s)\", fontsize=14)\n",
    "plt.xlim((290,500))\n",
    "plt.show()"
   ]
  },
  {
   "cell_type": "code",
   "execution_count": null,
   "id": "2452e561",
   "metadata": {},
   "outputs": [],
   "source": [
    "AMPLITUDE = 100.0\n",
    "offset = 0\n",
    "fig = plt.figure(figsize=(18,18))\n",
    "color_index = 0\n",
    "mouse_ids = df_events.mouse_id.unique()\n",
    "prev_range = 0.0\n",
    "for (mouse_id, event_uuid), g in df_events.sort_values([\"window_type\", \"sz_index\"]).groupby([\"mouse_id\", \"event_uuid\"]):\n",
    "    print(event_uuid)\n",
    "    color = colors[list(colors.keys())[df_events.mouse_id.unique().searchsorted(mouse_id)]]\n",
    "    plt.scatter(traces_dict[event_uuid][\"lv_t_s\"], AMPLITUDE*(traces_dict[event_uuid][\"lv_speed\"] - min(traces_dict[event_uuid][\"lv_speed\"]))/(max(traces_dict[event_uuid][\"lv_speed\"]) - min(traces_dict[event_uuid][\"lv_speed\"]))+offset, color=color, s=2)\n",
    "    #plt.scatter(traces_dict[event_uuid][\"lv_t_s\"], traces_dict[event_uuid][\"mean_fluo\"] + prev_range + offset, color=color, s=2)\n",
    "    # plot recording end points to show where stitching happened\n",
    "    plt.vlines(traces_dict[event_uuid][\"lv_t_s\"][traces_meta_dict[event_uuid][\"recording_break_points\"]], offset, offset+AMPLITUDE, color=\"black\")\n",
    "    # plot segment borders (bl, sz, am)\n",
    "    #plt.vlines(traces_dict[event_uuid][\"lv_t_s\"][traces_meta_dict[event_uuid][\"segment_type_break_points\"]], offset, offset+AMPLITUDE, color=\"black\")\n",
    "    prev_range += max(traces_dict[event_uuid][\"mean_fluo\"]) - min(traces_dict[event_uuid][\"mean_fluo\"])\n",
    "    offset+=1.1*AMPLITUDE\n",
    "#plt.axis(\"off\")\n",
    "plt.yticks([])\n",
    "plt.xlabel(\"Time (s)\", fontsize=14)\n",
    "plt.xlim((290,500))\n",
    "plt.show()"
   ]
  },
  {
   "cell_type": "code",
   "execution_count": null,
   "id": "cf1be000",
   "metadata": {},
   "outputs": [],
   "source": [
    "AMPLITUDE = 100.0\n",
    "offset = 0\n",
    "fig = plt.figure(figsize=(18,18))\n",
    "color_index = 0\n",
    "mouse_ids = df_events.mouse_id.unique()\n",
    "prev_range = 0.0\n",
    "for (mouse_id, event_uuid), g in df_events.sort_values([\"window_type\", \"sz_index\"]).groupby([\"mouse_id\", \"event_uuid\"]):\n",
    "    print(event_uuid)\n",
    "    color = colors[list(colors.keys())[df_events.mouse_id.unique().searchsorted(mouse_id)]]\n",
    "    plt.scatter(traces_dict[event_uuid][\"lv_t_s\"], AMPLITUDE*(traces_dict[event_uuid][\"lv_rounds\"] - min(traces_dict[event_uuid][\"lv_rounds\"]))/(max(traces_dict[event_uuid][\"lv_rounds\"]) - min(traces_dict[event_uuid][\"lv_rounds\"]))+offset, color=color, s=2)\n",
    "    #plt.scatter(traces_dict[event_uuid][\"lv_t_s\"], traces_dict[event_uuid][\"mean_fluo\"] + prev_range + offset, color=color, s=2)\n",
    "    # plot recording end points to show where stitching happened\n",
    "    plt.vlines(traces_dict[event_uuid][\"lv_t_s\"][traces_meta_dict[event_uuid][\"recording_break_points\"]], offset, offset+AMPLITUDE, color=\"black\")\n",
    "    # plot segment borders (bl, sz, am)\n",
    "    #plt.vlines(traces_dict[event_uuid][\"lv_t_s\"][traces_meta_dict[event_uuid][\"segment_type_break_points\"]], offset, offset+AMPLITUDE, color=\"black\")\n",
    "    prev_range += max(traces_dict[event_uuid][\"mean_fluo\"]) - min(traces_dict[event_uuid][\"mean_fluo\"])\n",
    "    offset+=1.1*AMPLITUDE\n",
    "#plt.axis(\"off\")\n",
    "plt.yticks([])\n",
    "plt.xlabel(\"Time (s)\", fontsize=14)\n",
    "plt.xlim((250, 500))  # 250, 500\n",
    "plt.show()"
   ]
  },
  {
   "cell_type": "code",
   "execution_count": null,
   "id": "caf8fae9",
   "metadata": {},
   "outputs": [],
   "source": []
  }
 ],
 "metadata": {
  "kernelspec": {
   "display_name": "Python 3 (ipykernel)",
   "language": "python",
   "name": "python3"
  },
  "language_info": {
   "codemirror_mode": {
    "name": "ipython",
    "version": 3
   },
   "file_extension": ".py",
   "mimetype": "text/x-python",
   "name": "python",
   "nbconvert_exporter": "python",
   "pygments_lexer": "ipython3",
   "version": "3.8.12"
  }
 },
 "nbformat": 4,
 "nbformat_minor": 5
}
