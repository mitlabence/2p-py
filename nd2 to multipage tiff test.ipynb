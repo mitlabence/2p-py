{
 "cells": [
  {
   "cell_type": "code",
   "execution_count": 4,
   "id": "3835f5b7",
   "metadata": {},
   "outputs": [],
   "source": [
    "#Auto-reload modules (used to develop functions outside this notebook)\n",
    "%load_ext autoreload\n",
    "%autoreload 2"
   ]
  },
  {
   "cell_type": "code",
   "execution_count": 5,
   "id": "847ab6cf",
   "metadata": {},
   "outputs": [],
   "source": [
    "import imageio  # make sure to install imageio with mamba install imageio\n",
    "import pims_nd2\n",
    "import nd2_to_caiman\n",
    "import h5py\n",
    "import numpy as np"
   ]
  },
  {
   "cell_type": "code",
   "execution_count": 6,
   "id": "3ac717b3",
   "metadata": {},
   "outputs": [],
   "source": [
    "nd2_path = \"D:/PhD/Data/T386_MatlabTest/T386_20211202_green.nd2\"\n",
    "export_file = nd2_path[:-4] + \"_exp.tiff\""
   ]
  },
  {
   "cell_type": "markdown",
   "id": "ed1624b2",
   "metadata": {},
   "source": [
    "## Get data as np array"
   ]
  },
  {
   "cell_type": "code",
   "execution_count": 9,
   "id": "ab6643ff",
   "metadata": {},
   "outputs": [],
   "source": [
    "nd2_file = pims_nd2.ND2_Reader(nd2_path)\n",
    "\n",
    "# might need to save the metadata too\n",
    "nd2_metadata = nd2_file.metadata"
   ]
  },
  {
   "cell_type": "code",
   "execution_count": 10,
   "id": "e8c06980",
   "metadata": {},
   "outputs": [
    {
     "data": {
      "text/plain": [
       "(577, 512, 512)"
      ]
     },
     "execution_count": 10,
     "metadata": {},
     "output_type": "execute_result"
    }
   ],
   "source": [
    "export_arr = nd2_to_caiman.np_arr_from_nd2(nd2_path)  # FIXME: reading out results in same frames\n",
    "export_arr.shape"
   ]
  },
  {
   "cell_type": "markdown",
   "id": "e766205b",
   "metadata": {},
   "source": [
    "# TIFF with imageio: probably not multi-page."
   ]
  },
  {
   "cell_type": "code",
   "execution_count": 18,
   "id": "36b7eeae",
   "metadata": {},
   "outputs": [
    {
     "ename": "ValueError",
     "evalue": "Could not find a backend to open `D:/PhD/Data/T386_MatlabTest/T386_20211202_green_exp.h5`` with iomode `wI`.",
     "output_type": "error",
     "traceback": [
      "\u001b[1;31m---------------------------------------------------------------------------\u001b[0m",
      "\u001b[1;31mValueError\u001b[0m                                Traceback (most recent call last)",
      "Input \u001b[1;32mIn [18]\u001b[0m, in \u001b[0;36m<module>\u001b[1;34m\u001b[0m\n\u001b[1;32m----> 1\u001b[0m \u001b[43mimageio\u001b[49m\u001b[38;5;241;43m.\u001b[39;49m\u001b[43mmimwrite\u001b[49m\u001b[43m(\u001b[49m\u001b[43mexport_file\u001b[49m\u001b[43m,\u001b[49m\u001b[43m \u001b[49m\u001b[43mexport_arr\u001b[49m\u001b[43m)\u001b[49m\n",
      "File \u001b[1;32mD:\\Software\\Anaconda\\envs\\phd\\envs\\caiman\\lib\\site-packages\\imageio\\core\\functions.py:283\u001b[0m, in \u001b[0;36mmimwrite\u001b[1;34m(uri, ims, format, **kwargs)\u001b[0m\n\u001b[0;32m    263\u001b[0m \u001b[38;5;28;01mdef\u001b[39;00m \u001b[38;5;21mmimwrite\u001b[39m(uri, ims, \u001b[38;5;28mformat\u001b[39m\u001b[38;5;241m=\u001b[39m\u001b[38;5;28;01mNone\u001b[39;00m, \u001b[38;5;241m*\u001b[39m\u001b[38;5;241m*\u001b[39mkwargs):\n\u001b[0;32m    264\u001b[0m     \u001b[38;5;124;03m\"\"\"mimwrite(uri, ims, format=None, **kwargs)\u001b[39;00m\n\u001b[0;32m    265\u001b[0m \n\u001b[0;32m    266\u001b[0m \u001b[38;5;124;03m    Write multiple images to the specified file.\u001b[39;00m\n\u001b[1;32m   (...)\u001b[0m\n\u001b[0;32m    280\u001b[0m \u001b[38;5;124;03m        to see what arguments are available for a particular format.\u001b[39;00m\n\u001b[0;32m    281\u001b[0m \u001b[38;5;124;03m    \"\"\"\u001b[39;00m\n\u001b[1;32m--> 283\u001b[0m     \u001b[38;5;28;01mwith\u001b[39;00m \u001b[43mimopen\u001b[49m\u001b[43m(\u001b[49m\u001b[43muri\u001b[49m\u001b[43m,\u001b[49m\u001b[43m \u001b[49m\u001b[38;5;124;43m\"\u001b[39;49m\u001b[38;5;124;43mwI\u001b[39;49m\u001b[38;5;124;43m\"\u001b[39;49m\u001b[43m,\u001b[49m\u001b[43m \u001b[49m\u001b[43mplugin\u001b[49m\u001b[38;5;241;43m=\u001b[39;49m\u001b[38;5;28;43mformat\u001b[39;49m\u001b[43m)\u001b[49m \u001b[38;5;28;01mas\u001b[39;00m file:\n\u001b[0;32m    284\u001b[0m         \u001b[38;5;28;01mreturn\u001b[39;00m file\u001b[38;5;241m.\u001b[39mwrite(ims, \u001b[38;5;241m*\u001b[39m\u001b[38;5;241m*\u001b[39mkwargs)\n",
      "File \u001b[1;32mD:\\Software\\Anaconda\\envs\\phd\\envs\\caiman\\lib\\site-packages\\imageio\\core\\imopen.py:277\u001b[0m, in \u001b[0;36mimopen\u001b[1;34m(uri, io_mode, plugin, legacy_mode, **kwargs)\u001b[0m\n\u001b[0;32m    271\u001b[0m         err_msg \u001b[38;5;241m+\u001b[39m\u001b[38;5;241m=\u001b[39m (\n\u001b[0;32m    272\u001b[0m             \u001b[38;5;124m\"\u001b[39m\u001b[38;5;130;01m\\n\u001b[39;00m\u001b[38;5;124mBased on the extension, the following plugins might add capable backends:\u001b[39m\u001b[38;5;130;01m\\n\u001b[39;00m\u001b[38;5;124m\"\u001b[39m\n\u001b[0;32m    273\u001b[0m             \u001b[38;5;124mf\u001b[39m\u001b[38;5;124m\"\u001b[39m\u001b[38;5;132;01m{\u001b[39;00minstall_candidates\u001b[38;5;132;01m}\u001b[39;00m\u001b[38;5;124m\"\u001b[39m\n\u001b[0;32m    274\u001b[0m         )\n\u001b[0;32m    276\u001b[0m request\u001b[38;5;241m.\u001b[39mfinish()\n\u001b[1;32m--> 277\u001b[0m \u001b[38;5;28;01mraise\u001b[39;00m err_type(err_msg)\n",
      "\u001b[1;31mValueError\u001b[0m: Could not find a backend to open `D:/PhD/Data/T386_MatlabTest/T386_20211202_green_exp.h5`` with iomode `wI`."
     ]
    }
   ],
   "source": [
    "imageio.mimwrite(export_file, export_arr)"
   ]
  },
  {
   "cell_type": "code",
   "execution_count": 6,
   "id": "a26e4f86",
   "metadata": {},
   "outputs": [
    {
     "data": {
      "text/plain": [
       "array([[False, False, False, ..., False,  True,  True],\n",
       "       [ True,  True, False, ...,  True,  True,  True],\n",
       "       [False, False, False, ..., False, False, False],\n",
       "       ...,\n",
       "       [False, False, False, ..., False, False, False],\n",
       "       [False, False, False, ..., False, False, False],\n",
       "       [False, False, False, ..., False, False, False]])"
      ]
     },
     "execution_count": 6,
     "metadata": {},
     "output_type": "execute_result"
    }
   ],
   "source": [
    "# check if images are same\n",
    "export_arr[0] == export_arr[100]"
   ]
  },
  {
   "cell_type": "markdown",
   "id": "31166f63",
   "metadata": {},
   "source": [
    "# HDF5 with h5py"
   ]
  },
  {
   "cell_type": "code",
   "execution_count": 11,
   "id": "747b6a9a",
   "metadata": {},
   "outputs": [
    {
     "name": "stdout",
     "output_type": "stream",
     "text": [
      "D:/PhD/Data/T386_MatlabTest/T386_20211202_green_exp.h5\n"
     ]
    }
   ],
   "source": [
    "h5_file = export_file[:-5] + \".h5\"\n",
    "print(h5_file)"
   ]
  },
  {
   "cell_type": "code",
   "execution_count": 12,
   "id": "1c7015c4",
   "metadata": {},
   "outputs": [],
   "source": [
    "dataset_name = \"mov\"  # an annoying bug in CaImAn... passing 'var_name_hdf5': 'data' \n",
    "                      # to CNMFParams does not work. Stick to default name for now\n",
    "with h5py.File(h5_file, 'w') as hf:\n",
    "    dataset = hf.create_dataset(\"mov\", shape=export_arr.shape, dtype=np.uint16)\n",
    "    for i_frame in range(export_arr.shape[0]):\n",
    "        dataset[i_frame] = export_arr[i_frame]"
   ]
  },
  {
   "cell_type": "code",
   "execution_count": 26,
   "id": "e9e73c5e",
   "metadata": {},
   "outputs": [
    {
     "data": {
      "text/plain": [
       "577"
      ]
     },
     "execution_count": 26,
     "metadata": {},
     "output_type": "execute_result"
    }
   ],
   "source": [
    "export_arr.shape[0]"
   ]
  },
  {
   "cell_type": "code",
   "execution_count": 25,
   "id": "0ac8e29a",
   "metadata": {},
   "outputs": [
    {
     "data": {
      "text/plain": [
       "array([[ 0,  0,  0, ...,  1,  0,  0],\n",
       "       [ 0,  0,  0, ...,  0,  0,  0],\n",
       "       [ 0,  1,  0, ...,  3,  0,  0],\n",
       "       ...,\n",
       "       [15, 23, 31, ..., 19, 29, 12],\n",
       "       [16, 21, 30, ..., 21, 38, 13],\n",
       "       [24, 26, 33, ..., 39, 43, 26]], dtype=uint16)"
      ]
     },
     "execution_count": 25,
     "metadata": {},
     "output_type": "execute_result"
    }
   ],
   "source": [
    "export_arr[0]"
   ]
  },
  {
   "cell_type": "code",
   "execution_count": 5,
   "id": "1d696b57",
   "metadata": {},
   "outputs": [],
   "source": [
    "f = h5py.File(h5_file, \"r\")"
   ]
  },
  {
   "cell_type": "code",
   "execution_count": 6,
   "id": "2df5959d",
   "metadata": {},
   "outputs": [
    {
     "data": {
      "text/plain": [
       "<HDF5 dataset \"data\": shape (577, 512, 512), type \"<u2\">"
      ]
     },
     "execution_count": 6,
     "metadata": {},
     "output_type": "execute_result"
    }
   ],
   "source": [
    "f.get(\"data\")"
   ]
  },
  {
   "cell_type": "code",
   "execution_count": null,
   "id": "e42d31fc",
   "metadata": {},
   "outputs": [],
   "source": []
  }
 ],
 "metadata": {
  "kernelspec": {
   "display_name": "Python 3 (ipykernel)",
   "language": "python",
   "name": "python3"
  },
  "language_info": {
   "codemirror_mode": {
    "name": "ipython",
    "version": 3
   },
   "file_extension": ".py",
   "mimetype": "text/x-python",
   "name": "python",
   "nbconvert_exporter": "python",
   "pygments_lexer": "ipython3",
   "version": "3.8.12"
  }
 },
 "nbformat": 4,
 "nbformat_minor": 5
}
