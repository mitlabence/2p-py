{
 "cells": [
  {
   "cell_type": "code",
   "execution_count": null,
   "id": "8cd03137",
   "metadata": {},
   "outputs": [],
   "source": [
    "import labrotation.file_handling as fh\n",
    "import pandas as pd\n",
    "from openpyxl import load_workbook\n",
    "from openpyxl.styles import PatternFill"
   ]
  },
  {
   "cell_type": "code",
   "execution_count": null,
   "id": "6f14040b",
   "metadata": {},
   "outputs": [],
   "source": [
    "highlight = PatternFill(start_color=\"FFFF00\", end_color=\"FFFF00\", fill_type=\"solid\")"
   ]
  },
  {
   "cell_type": "code",
   "execution_count": null,
   "id": "6d8402f9",
   "metadata": {},
   "outputs": [],
   "source": [
    "fpath_excel1 = fh.open_file(\"Open first excel file\")\n",
    "fpath_excel2 = fh.open_file(\"Open second excel file\")"
   ]
  },
  {
   "cell_type": "code",
   "execution_count": null,
   "id": "636a0f13",
   "metadata": {},
   "outputs": [],
   "source": [
    "df1 = pd.read_excel(fpath_excel1)"
   ]
  },
  {
   "cell_type": "code",
   "execution_count": null,
   "id": "5a2040ec",
   "metadata": {},
   "outputs": [],
   "source": [
    "df2 = pd.read_excel(fpath_excel2)"
   ]
  },
  {
   "cell_type": "code",
   "execution_count": null,
   "id": "f451f11d",
   "metadata": {},
   "outputs": [],
   "source": [
    "assert df1.shape == df2.shape"
   ]
  },
  {
   "cell_type": "code",
   "execution_count": null,
   "id": "da252f55",
   "metadata": {},
   "outputs": [],
   "source": [
    "fpath_out = \"D:\\\\Downloads\\\\diffs.xlsx\""
   ]
  },
  {
   "cell_type": "code",
   "execution_count": null,
   "id": "068b7cdb",
   "metadata": {},
   "outputs": [],
   "source": [
    "comparison = (df1 == df2)\n",
    "comparison.to_excel(fpath_out, index=False)"
   ]
  },
  {
   "cell_type": "code",
   "execution_count": null,
   "id": "78e65657",
   "metadata": {},
   "outputs": [],
   "source": [
    "wb = load_workbook(fpath_out)\n",
    "ws = wb.active"
   ]
  },
  {
   "cell_type": "code",
   "execution_count": null,
   "id": "7cf576aa",
   "metadata": {},
   "outputs": [],
   "source": [
    "for row in range(1, comparison.shape[0] + 1):  # rows (1-based index)\n",
    "        for col in range(1, comparison.shape[1] + 1):  # columns (1-based index)\n",
    "            if comparison.iloc[row - 1, col - 1]:  # If there's a difference\n",
    "                ws.cell(row=row+1, column=col).fill = highlight  # row+1 to account for header"
   ]
  },
  {
   "cell_type": "code",
   "execution_count": null,
   "id": "acd49db1",
   "metadata": {},
   "outputs": [],
   "source": [
    "wb.save(fpath_out)"
   ]
  },
  {
   "cell_type": "code",
   "execution_count": null,
   "id": "73a10146",
   "metadata": {},
   "outputs": [],
   "source": []
  }
 ],
 "metadata": {
  "kernelspec": {
   "display_name": "Python 3 (ipykernel)",
   "language": "python",
   "name": "python3"
  },
  "language_info": {
   "codemirror_mode": {
    "name": "ipython",
    "version": 3
   },
   "file_extension": ".py",
   "mimetype": "text/x-python",
   "name": "python",
   "nbconvert_exporter": "python",
   "pygments_lexer": "ipython3",
   "version": "3.8.12"
  }
 },
 "nbformat": 4,
 "nbformat_minor": 5
}
