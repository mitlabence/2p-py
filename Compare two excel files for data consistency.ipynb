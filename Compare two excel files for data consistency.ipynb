{
 "cells": [
  {
   "cell_type": "code",
   "execution_count": null,
   "id": "cbb18ada",
   "metadata": {},
   "outputs": [],
   "source": [
    "import labrotation.file_handling as fh\n",
    "import pandas as pd\n",
    "from openpyxl import load_workbook\n",
    "from openpyxl.styles import PatternFill"
   ]
  },
  {
   "cell_type": "code",
   "execution_count": null,
   "id": "34774857",
   "metadata": {},
   "outputs": [],
   "source": [
    "highlight_diff = PatternFill(start_color=\"FF0000\", end_color=\"FF0000\", fill_type=\"solid\")  # different values = red\n",
    "highlight_same = PatternFill(start_color=\"00FF00\", end_color=\"00FF00\", fill_type=\"solid\")  # same values = green"
   ]
  },
  {
   "cell_type": "code",
   "execution_count": null,
   "id": "bbc53bda",
   "metadata": {},
   "outputs": [],
   "source": [
    "fpath_excel1 = fh.open_file(\"Open first excel file\")\n",
    "fpath_excel2 = fh.open_file(\"Open second excel file\")"
   ]
  },
  {
   "cell_type": "code",
   "execution_count": null,
   "id": "66efdf3e",
   "metadata": {},
   "outputs": [],
   "source": [
    "df1 = pd.read_excel(fpath_excel1)"
   ]
  },
  {
   "cell_type": "code",
   "execution_count": null,
   "id": "e0fc5ab1",
   "metadata": {},
   "outputs": [],
   "source": [
    "df2 = pd.read_excel(fpath_excel2)"
   ]
  },
  {
   "cell_type": "code",
   "execution_count": null,
   "id": "3a9910e3",
   "metadata": {},
   "outputs": [],
   "source": [
    "assert df1.shape == df2.shape"
   ]
  },
  {
   "cell_type": "code",
   "execution_count": null,
   "id": "2d553365",
   "metadata": {},
   "outputs": [],
   "source": [
    "fpath_out = \"D:\\\\Downloads\\\\diffs.xlsx\""
   ]
  },
  {
   "cell_type": "code",
   "execution_count": null,
   "id": "4da5c400",
   "metadata": {},
   "outputs": [],
   "source": [
    "comparison = (df1 == df2)\n",
    "comparison.to_excel(fpath_out, index=False)"
   ]
  },
  {
   "cell_type": "code",
   "execution_count": null,
   "id": "cb84b496",
   "metadata": {},
   "outputs": [],
   "source": [
    "wb = load_workbook(fpath_out)\n",
    "ws = wb.active"
   ]
  },
  {
   "cell_type": "code",
   "execution_count": null,
   "id": "dee491a2",
   "metadata": {},
   "outputs": [],
   "source": [
    "for row in range(1, comparison.shape[0] + 1):  # rows (1-based index)\n",
    "        for col in range(1, comparison.shape[1] + 1):  # columns (1-based index)\n",
    "            if comparison.iloc[row - 1, col - 1]:  # If there's a difference\n",
    "                ws.cell(row=row+1, column=col).fill = highlight_same  # row+1 to account for header\n",
    "            else:\n",
    "                 ws.cell(row=row+1, column=col).fill = highlight_diff"
   ]
  },
  {
   "cell_type": "code",
   "execution_count": null,
   "id": "3de8436b",
   "metadata": {},
   "outputs": [],
   "source": [
    "wb.save(fpath_out)"
   ]
  },
  {
   "cell_type": "code",
   "execution_count": null,
   "id": "142496b5",
   "metadata": {},
   "outputs": [],
   "source": []
  }
 ],
 "metadata": {
  "kernelspec": {
   "display_name": "Python 3 (ipykernel)",
   "language": "python",
   "name": "python3"
  },
  "language_info": {
   "codemirror_mode": {
    "name": "ipython",
    "version": 3
   },
   "file_extension": ".py",
   "mimetype": "text/x-python",
   "name": "python",
   "nbconvert_exporter": "python",
   "pygments_lexer": "ipython3",
   "version": "3.8.12"
  }
 },
 "nbformat": 4,
 "nbformat_minor": 5
}
