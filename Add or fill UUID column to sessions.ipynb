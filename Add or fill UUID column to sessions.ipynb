{
 "cells": [
  {
   "cell_type": "code",
   "execution_count": 16,
   "id": "f855549a",
   "metadata": {},
   "outputs": [],
   "source": [
    "import labrotation.file_handling as fh\n",
    "import os\n",
    "import pandas as pd"
   ]
  },
  {
   "cell_type": "code",
   "execution_count": 3,
   "id": "eaae4314",
   "metadata": {},
   "outputs": [],
   "source": [
    "datadoc_dir = fh.open_dir(\"Open Data documentation folder\")"
   ]
  },
  {
   "cell_type": "markdown",
   "id": "25c803be",
   "metadata": {},
   "source": [
    "# Run this to create list of all files that will be checked and a UUID column added/filled if it does not exist."
   ]
  },
  {
   "cell_type": "code",
   "execution_count": 14,
   "id": "44f7d2f6",
   "metadata": {},
   "outputs": [
    {
     "name": "stdout",
     "output_type": "stream",
     "text": [
      "D:\\Downloads\\Data documentation\\documentation\\T301\\T301_grouping.xlsx\n",
      "D:\\Downloads\\Data documentation\\documentation\\T303\\T303_grouping.xlsx\n",
      "D:\\Downloads\\Data documentation\\documentation\\T324\\T324_grouping.xlsx\n",
      "D:\\Downloads\\Data documentation\\documentation\\T329\\T329_grouping.xlsx\n",
      "D:\\Downloads\\Data documentation\\documentation\\T333\\T333_grouping.xlsx\n",
      "D:\\Downloads\\Data documentation\\documentation\\T337\\T337_grouping.xlsx\n",
      "D:\\Downloads\\Data documentation\\documentation\\T370\\T370_grouping.xlsx\n",
      "D:\\Downloads\\Data documentation\\documentation\\T386\\T386_grouping.xlsx\n",
      "D:\\Downloads\\Data documentation\\documentation\\T391\\T391_grouping.xlsx\n",
      "D:\\Downloads\\Data documentation\\documentation\\T396\\T396_grouping.xlsx\n",
      "D:\\Downloads\\Data documentation\\documentation\\T452\\T452_grouping.xlsx\n",
      "D:\\Downloads\\Data documentation\\documentation\\T534\\T534_grouping.xlsx\n"
     ]
    }
   ],
   "source": [
    "files_lis = []\n",
    "for root, dirs, files in os.walk(datadoc_dir):\n",
    "    for name in files:\n",
    "        if \"grouping\" in name:\n",
    "            if \"~\" in name: # \"~\" on windows is used for temporary files that are opened in excel\n",
    "                files_lis = []\n",
    "                raise Exception(f\"Please close all excel files and try again. Found temporary file in:\\n{os.path.join(root, name)}\")\n",
    "            fpath = os.path.join(root, name)\n",
    "            print(fpath)\n",
    "            files_lis.append(fpath)"
   ]
  },
  {
   "cell_type": "markdown",
   "id": "24e970db",
   "metadata": {},
   "source": [
    "# Alternatively, add only individual files (not yet implemented)"
   ]
  },
  {
   "cell_type": "code",
   "execution_count": null,
   "id": "518a1ea7",
   "metadata": {},
   "outputs": [],
   "source": [
    "# TODO: use fh.open_file iteratively (until user hits cancel, resulting in empty string or \".\") to get a list of files"
   ]
  },
  {
   "cell_type": "code",
   "execution_count": 15,
   "id": "64b74476",
   "metadata": {},
   "outputs": [
    {
     "data": {
      "text/plain": [
       "['D:\\\\Downloads\\\\Data documentation\\\\documentation\\\\T301\\\\T301_grouping.xlsx',\n",
       " 'D:\\\\Downloads\\\\Data documentation\\\\documentation\\\\T303\\\\T303_grouping.xlsx',\n",
       " 'D:\\\\Downloads\\\\Data documentation\\\\documentation\\\\T324\\\\T324_grouping.xlsx',\n",
       " 'D:\\\\Downloads\\\\Data documentation\\\\documentation\\\\T329\\\\T329_grouping.xlsx',\n",
       " 'D:\\\\Downloads\\\\Data documentation\\\\documentation\\\\T333\\\\T333_grouping.xlsx',\n",
       " 'D:\\\\Downloads\\\\Data documentation\\\\documentation\\\\T337\\\\T337_grouping.xlsx',\n",
       " 'D:\\\\Downloads\\\\Data documentation\\\\documentation\\\\T370\\\\T370_grouping.xlsx',\n",
       " 'D:\\\\Downloads\\\\Data documentation\\\\documentation\\\\T386\\\\T386_grouping.xlsx',\n",
       " 'D:\\\\Downloads\\\\Data documentation\\\\documentation\\\\T391\\\\T391_grouping.xlsx',\n",
       " 'D:\\\\Downloads\\\\Data documentation\\\\documentation\\\\T396\\\\T396_grouping.xlsx',\n",
       " 'D:\\\\Downloads\\\\Data documentation\\\\documentation\\\\T452\\\\T452_grouping.xlsx',\n",
       " 'D:\\\\Downloads\\\\Data documentation\\\\documentation\\\\T534\\\\T534_grouping.xlsx']"
      ]
     },
     "execution_count": 15,
     "metadata": {},
     "output_type": "execute_result"
    }
   ],
   "source": [
    "files_lis"
   ]
  },
  {
   "cell_type": "markdown",
   "id": "b7aa9ac8",
   "metadata": {},
   "source": [
    "# For each file in the list, open and check for UUID column. If exists, check for completeness, and fill if necessary. If does not exist, generate column."
   ]
  },
  {
   "cell_type": "markdown",
   "id": "32a5a366",
   "metadata": {},
   "source": [
    "# WARNING! This will overwrite files in the folder!!!"
   ]
  },
  {
   "cell_type": "code",
   "execution_count": null,
   "id": "56eb2a18",
   "metadata": {},
   "outputs": [],
   "source": [
    "for file_path in files_lis:\n",
    "    "
   ]
  },
  {
   "cell_type": "code",
   "execution_count": 17,
   "id": "843550a1",
   "metadata": {},
   "outputs": [
    {
     "ename": "ImportError",
     "evalue": "Missing optional dependency 'openpyxl'.  Use pip or conda to install openpyxl.",
     "output_type": "error",
     "traceback": [
      "\u001b[1;31m---------------------------------------------------------------------------\u001b[0m",
      "\u001b[1;31mImportError\u001b[0m                               Traceback (most recent call last)",
      "Input \u001b[1;32mIn [17]\u001b[0m, in \u001b[0;36m<module>\u001b[1;34m\u001b[0m\n\u001b[1;32m----> 1\u001b[0m df \u001b[38;5;241m=\u001b[39m \u001b[43mpd\u001b[49m\u001b[38;5;241;43m.\u001b[39;49m\u001b[43mread_excel\u001b[49m\u001b[43m(\u001b[49m\u001b[43mfiles_lis\u001b[49m\u001b[43m[\u001b[49m\u001b[38;5;241;43m0\u001b[39;49m\u001b[43m]\u001b[49m\u001b[43m)\u001b[49m\n",
      "File \u001b[1;32mD:\\Software\\anaconda\\envs\\2ppy\\lib\\site-packages\\pandas\\util\\_decorators.py:311\u001b[0m, in \u001b[0;36mdeprecate_nonkeyword_arguments.<locals>.decorate.<locals>.wrapper\u001b[1;34m(*args, **kwargs)\u001b[0m\n\u001b[0;32m    305\u001b[0m \u001b[38;5;28;01mif\u001b[39;00m \u001b[38;5;28mlen\u001b[39m(args) \u001b[38;5;241m>\u001b[39m num_allow_args:\n\u001b[0;32m    306\u001b[0m     warnings\u001b[38;5;241m.\u001b[39mwarn(\n\u001b[0;32m    307\u001b[0m         msg\u001b[38;5;241m.\u001b[39mformat(arguments\u001b[38;5;241m=\u001b[39marguments),\n\u001b[0;32m    308\u001b[0m         \u001b[38;5;167;01mFutureWarning\u001b[39;00m,\n\u001b[0;32m    309\u001b[0m         stacklevel\u001b[38;5;241m=\u001b[39mstacklevel,\n\u001b[0;32m    310\u001b[0m     )\n\u001b[1;32m--> 311\u001b[0m \u001b[38;5;28;01mreturn\u001b[39;00m \u001b[43mfunc\u001b[49m\u001b[43m(\u001b[49m\u001b[38;5;241;43m*\u001b[39;49m\u001b[43margs\u001b[49m\u001b[43m,\u001b[49m\u001b[43m \u001b[49m\u001b[38;5;241;43m*\u001b[39;49m\u001b[38;5;241;43m*\u001b[39;49m\u001b[43mkwargs\u001b[49m\u001b[43m)\u001b[49m\n",
      "File \u001b[1;32mD:\\Software\\anaconda\\envs\\2ppy\\lib\\site-packages\\pandas\\io\\excel\\_base.py:364\u001b[0m, in \u001b[0;36mread_excel\u001b[1;34m(io, sheet_name, header, names, index_col, usecols, squeeze, dtype, engine, converters, true_values, false_values, skiprows, nrows, na_values, keep_default_na, na_filter, verbose, parse_dates, date_parser, thousands, comment, skipfooter, convert_float, mangle_dupe_cols, storage_options)\u001b[0m\n\u001b[0;32m    362\u001b[0m \u001b[38;5;28;01mif\u001b[39;00m \u001b[38;5;129;01mnot\u001b[39;00m \u001b[38;5;28misinstance\u001b[39m(io, ExcelFile):\n\u001b[0;32m    363\u001b[0m     should_close \u001b[38;5;241m=\u001b[39m \u001b[38;5;28;01mTrue\u001b[39;00m\n\u001b[1;32m--> 364\u001b[0m     io \u001b[38;5;241m=\u001b[39m \u001b[43mExcelFile\u001b[49m\u001b[43m(\u001b[49m\u001b[43mio\u001b[49m\u001b[43m,\u001b[49m\u001b[43m \u001b[49m\u001b[43mstorage_options\u001b[49m\u001b[38;5;241;43m=\u001b[39;49m\u001b[43mstorage_options\u001b[49m\u001b[43m,\u001b[49m\u001b[43m \u001b[49m\u001b[43mengine\u001b[49m\u001b[38;5;241;43m=\u001b[39;49m\u001b[43mengine\u001b[49m\u001b[43m)\u001b[49m\n\u001b[0;32m    365\u001b[0m \u001b[38;5;28;01melif\u001b[39;00m engine \u001b[38;5;129;01mand\u001b[39;00m engine \u001b[38;5;241m!=\u001b[39m io\u001b[38;5;241m.\u001b[39mengine:\n\u001b[0;32m    366\u001b[0m     \u001b[38;5;28;01mraise\u001b[39;00m \u001b[38;5;167;01mValueError\u001b[39;00m(\n\u001b[0;32m    367\u001b[0m         \u001b[38;5;124m\"\u001b[39m\u001b[38;5;124mEngine should not be specified when passing \u001b[39m\u001b[38;5;124m\"\u001b[39m\n\u001b[0;32m    368\u001b[0m         \u001b[38;5;124m\"\u001b[39m\u001b[38;5;124man ExcelFile - ExcelFile already has the engine set\u001b[39m\u001b[38;5;124m\"\u001b[39m\n\u001b[0;32m    369\u001b[0m     )\n",
      "File \u001b[1;32mD:\\Software\\anaconda\\envs\\2ppy\\lib\\site-packages\\pandas\\io\\excel\\_base.py:1233\u001b[0m, in \u001b[0;36mExcelFile.__init__\u001b[1;34m(self, path_or_buffer, engine, storage_options)\u001b[0m\n\u001b[0;32m   1230\u001b[0m \u001b[38;5;28mself\u001b[39m\u001b[38;5;241m.\u001b[39mengine \u001b[38;5;241m=\u001b[39m engine\n\u001b[0;32m   1231\u001b[0m \u001b[38;5;28mself\u001b[39m\u001b[38;5;241m.\u001b[39mstorage_options \u001b[38;5;241m=\u001b[39m storage_options\n\u001b[1;32m-> 1233\u001b[0m \u001b[38;5;28mself\u001b[39m\u001b[38;5;241m.\u001b[39m_reader \u001b[38;5;241m=\u001b[39m \u001b[38;5;28;43mself\u001b[39;49m\u001b[38;5;241;43m.\u001b[39;49m\u001b[43m_engines\u001b[49m\u001b[43m[\u001b[49m\u001b[43mengine\u001b[49m\u001b[43m]\u001b[49m\u001b[43m(\u001b[49m\u001b[38;5;28;43mself\u001b[39;49m\u001b[38;5;241;43m.\u001b[39;49m\u001b[43m_io\u001b[49m\u001b[43m,\u001b[49m\u001b[43m \u001b[49m\u001b[43mstorage_options\u001b[49m\u001b[38;5;241;43m=\u001b[39;49m\u001b[43mstorage_options\u001b[49m\u001b[43m)\u001b[49m\n",
      "File \u001b[1;32mD:\\Software\\anaconda\\envs\\2ppy\\lib\\site-packages\\pandas\\io\\excel\\_openpyxl.py:521\u001b[0m, in \u001b[0;36mOpenpyxlReader.__init__\u001b[1;34m(self, filepath_or_buffer, storage_options)\u001b[0m\n\u001b[0;32m    506\u001b[0m \u001b[38;5;28;01mdef\u001b[39;00m \u001b[38;5;21m__init__\u001b[39m(\n\u001b[0;32m    507\u001b[0m     \u001b[38;5;28mself\u001b[39m,\n\u001b[0;32m    508\u001b[0m     filepath_or_buffer: FilePathOrBuffer,\n\u001b[0;32m    509\u001b[0m     storage_options: StorageOptions \u001b[38;5;241m=\u001b[39m \u001b[38;5;28;01mNone\u001b[39;00m,\n\u001b[0;32m    510\u001b[0m ) \u001b[38;5;241m-\u001b[39m\u001b[38;5;241m>\u001b[39m \u001b[38;5;28;01mNone\u001b[39;00m:\n\u001b[0;32m    511\u001b[0m     \u001b[38;5;124;03m\"\"\"\u001b[39;00m\n\u001b[0;32m    512\u001b[0m \u001b[38;5;124;03m    Reader using openpyxl engine.\u001b[39;00m\n\u001b[0;32m    513\u001b[0m \n\u001b[1;32m   (...)\u001b[0m\n\u001b[0;32m    519\u001b[0m \u001b[38;5;124;03m        passed to fsspec for appropriate URLs (see ``_get_filepath_or_buffer``)\u001b[39;00m\n\u001b[0;32m    520\u001b[0m \u001b[38;5;124;03m    \"\"\"\u001b[39;00m\n\u001b[1;32m--> 521\u001b[0m     \u001b[43mimport_optional_dependency\u001b[49m\u001b[43m(\u001b[49m\u001b[38;5;124;43m\"\u001b[39;49m\u001b[38;5;124;43mopenpyxl\u001b[39;49m\u001b[38;5;124;43m\"\u001b[39;49m\u001b[43m)\u001b[49m\n\u001b[0;32m    522\u001b[0m     \u001b[38;5;28msuper\u001b[39m()\u001b[38;5;241m.\u001b[39m\u001b[38;5;21m__init__\u001b[39m(filepath_or_buffer, storage_options\u001b[38;5;241m=\u001b[39mstorage_options)\n",
      "File \u001b[1;32mD:\\Software\\anaconda\\envs\\2ppy\\lib\\site-packages\\pandas\\compat\\_optional.py:118\u001b[0m, in \u001b[0;36mimport_optional_dependency\u001b[1;34m(name, extra, errors, min_version)\u001b[0m\n\u001b[0;32m    116\u001b[0m \u001b[38;5;28;01mexcept\u001b[39;00m \u001b[38;5;167;01mImportError\u001b[39;00m:\n\u001b[0;32m    117\u001b[0m     \u001b[38;5;28;01mif\u001b[39;00m errors \u001b[38;5;241m==\u001b[39m \u001b[38;5;124m\"\u001b[39m\u001b[38;5;124mraise\u001b[39m\u001b[38;5;124m\"\u001b[39m:\n\u001b[1;32m--> 118\u001b[0m         \u001b[38;5;28;01mraise\u001b[39;00m \u001b[38;5;167;01mImportError\u001b[39;00m(msg) \u001b[38;5;28;01mfrom\u001b[39;00m \u001b[38;5;28mNone\u001b[39m\n\u001b[0;32m    119\u001b[0m     \u001b[38;5;28;01melse\u001b[39;00m:\n\u001b[0;32m    120\u001b[0m         \u001b[38;5;28;01mreturn\u001b[39;00m \u001b[38;5;28;01mNone\u001b[39;00m\n",
      "\u001b[1;31mImportError\u001b[0m: Missing optional dependency 'openpyxl'.  Use pip or conda to install openpyxl."
     ]
    }
   ],
   "source": [
    "df = pd.read_excel(files_lis[0])"
   ]
  },
  {
   "cell_type": "code",
   "execution_count": null,
   "id": "94f4599c",
   "metadata": {},
   "outputs": [],
   "source": []
  }
 ],
 "metadata": {
  "kernelspec": {
   "display_name": "Python 3 (ipykernel)",
   "language": "python",
   "name": "python3"
  },
  "language_info": {
   "codemirror_mode": {
    "name": "ipython",
    "version": 3
   },
   "file_extension": ".py",
   "mimetype": "text/x-python",
   "name": "python",
   "nbconvert_exporter": "python",
   "pygments_lexer": "ipython3",
   "version": "3.8.12"
  }
 },
 "nbformat": 4,
 "nbformat_minor": 5
}
