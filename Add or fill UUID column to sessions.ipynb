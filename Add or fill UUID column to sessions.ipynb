{
 "cells": [
  {
   "cell_type": "code",
   "execution_count": null,
   "id": "f855549a",
   "metadata": {},
   "outputs": [],
   "source": [
    "import labrotation.file_handling as fh\n",
    "import os\n",
    "import pandas as pd\n",
    "import uuid"
   ]
  },
  {
   "cell_type": "code",
   "execution_count": null,
   "id": "eaae4314",
   "metadata": {},
   "outputs": [],
   "source": [
    "datadoc_dir = fh.open_dir(\"Open Data documentation folder\")"
   ]
  },
  {
   "cell_type": "markdown",
   "id": "25c803be",
   "metadata": {},
   "source": [
    "# Run this to create list of all files that will be checked and a UUID column added/filled if it does not exist."
   ]
  },
  {
   "cell_type": "code",
   "execution_count": null,
   "id": "44f7d2f6",
   "metadata": {},
   "outputs": [],
   "source": [
    "files_lis = []\n",
    "for root, dirs, files in os.walk(datadoc_dir):\n",
    "    for name in files:\n",
    "        if \"grouping\" in name:\n",
    "            if \"~\" in name: # \"~\" on windows is used for temporary files that are opened in excel\n",
    "                files_lis = []\n",
    "                raise Exception(f\"Please close all excel files and try again. Found temporary file in:\\n{os.path.join(root, name)}\")\n",
    "            fpath = os.path.join(root, name)\n",
    "            print(fpath)\n",
    "            files_lis.append(fpath)"
   ]
  },
  {
   "cell_type": "markdown",
   "id": "24e970db",
   "metadata": {},
   "source": [
    "# Alternatively, add only individual files (not yet implemented)"
   ]
  },
  {
   "cell_type": "code",
   "execution_count": null,
   "id": "518a1ea7",
   "metadata": {},
   "outputs": [],
   "source": [
    "# TODO: use fh.open_file iteratively (until user hits cancel, resulting in empty string or \".\") to get a list of files"
   ]
  },
  {
   "cell_type": "code",
   "execution_count": null,
   "id": "64b74476",
   "metadata": {},
   "outputs": [],
   "source": [
    "files_lis"
   ]
  },
  {
   "cell_type": "markdown",
   "id": "b7aa9ac8",
   "metadata": {},
   "source": [
    "# For each file in the list, open and check for UUID column. If exists, check for completeness, and fill if necessary. If does not exist, generate column."
   ]
  },
  {
   "cell_type": "markdown",
   "id": "32a5a366",
   "metadata": {},
   "source": [
    "# WARNING! This will overwrite files in the folder!!!"
   ]
  },
  {
   "cell_type": "code",
   "execution_count": null,
   "id": "56eb2a18",
   "metadata": {},
   "outputs": [],
   "source": [
    "files_changed = []\n",
    "files_unchanged = []  # files will be changed (pd.to_excel called each time), but their contents not.\n",
    "for file_path in files_lis:\n",
    "    print(file_path + \":\")\n",
    "    df = pd.read_excel(file_path)\n",
    "    if \"uuid\" in df.columns:\n",
    "        print(\"\\tUUID column found\")\n",
    "        # check if uuid is complete column\n",
    "        n_na = df[\"uuid\"].isna().sum()\n",
    "        if n_na > 0:\n",
    "            print(\"\\tUUID column contains empty entries! Attempting to fill them...\")\n",
    "            uuids_old = df[\"uuid\"].copy()  # need values and not just reference, to check no uuids will be overwritten\n",
    "            # create uuids to fill up the column with\n",
    "            rand_uuids = [uuid.uuid4().hex for i in range(df[\"uuid\"].isna().sum())]\n",
    "            # replace NaN with values from list\n",
    "            df.loc[df.uuid.isna(), \"uuid\"] = rand_uuids\n",
    "            # assert already existing uuids were not changed\n",
    "            assert (sum(uuids_old == df[\"uuid\"]) == len(df) - n_na) and df[\"uuid\"].isna().sum() == 0\n",
    "            files_changed.append(file_path)\n",
    "            print(\"\\tCompleted.\")\n",
    "        else: # no NaN entries in uuid column.\n",
    "            print(\"\\tNo empty rows found. Skipping...\")\n",
    "            files_unchanged.append(file_path)\n",
    "    else:  # uuid column does not exist\n",
    "        print(\"\\tUUID column not found. Creating one...\")\n",
    "        df[\"uuid\"] = [uuid.uuid4().hex for i_row in range(len(df))]\n",
    "        files_changed.append(file_path)\n",
    "        print(\"\\tCompleted.\")\n",
    "    df.to_excel(file_path, index=False, na_rep=\"NaN\")"
   ]
  },
  {
   "cell_type": "markdown",
   "id": "612353ee",
   "metadata": {},
   "source": [
    "# Test: check that above method does not change excel sheet contents (only formatting)"
   ]
  },
  {
   "cell_type": "code",
   "execution_count": null,
   "id": "20479dae",
   "metadata": {},
   "outputs": [],
   "source": [
    "test_data_folder = \"./tests/files/Data Documentation/\""
   ]
  },
  {
   "cell_type": "code",
   "execution_count": null,
   "id": "87f8a2c3",
   "metadata": {},
   "outputs": [],
   "source": [
    "test_files_lis = []\n",
    "for root, dirs, files in os.walk(test_data_folder):\n",
    "    for name in files:\n",
    "        if \"grouping\" in name and \"modified\" not in name:\n",
    "            if \"~\" in name: # \"~\" on windows is used for temporary files that are opened in excel\n",
    "                files_lis = []\n",
    "                raise Exception(f\"Please close all excel files and try again. Found temporary file in:\\n{os.path.join(root, name)}\")\n",
    "            fpath = os.path.join(root, name)\n",
    "            print(fpath)\n",
    "            test_files_lis.append(fpath)"
   ]
  },
  {
   "cell_type": "code",
   "execution_count": null,
   "id": "b408b794",
   "metadata": {},
   "outputs": [],
   "source": [
    "test_files_changed = []\n",
    "test_files_unchanged = []\n",
    "for file_path in test_files_lis:\n",
    "    print(file_path + \":\")\n",
    "    df = pd.read_excel(file_path)\n",
    "    if \"uuid\" in df.columns:\n",
    "        print(\"\\tUUID column found\")\n",
    "        # check if uuid is complete column\n",
    "        n_na = df[\"uuid\"].isna().sum()\n",
    "        if n_na > 0:\n",
    "            print(\"\\tUUID column contains empty entries! Attempting to fill them...\")\n",
    "            uuids_old = df[\"uuid\"].copy()  # need values and not just reference, to check no uuids will be overwritten\n",
    "            # create uuids to fill up the column with\n",
    "            rand_uuids = [uuid.uuid4().hex for i in range(df[\"uuid\"].isna().sum())]\n",
    "            # replace NaN with values from list\n",
    "            df.loc[df.uuid.isna(), \"uuid\"] = rand_uuids\n",
    "            # assert already existing uuids were not changed\n",
    "            assert (sum(uuids_old == df[\"uuid\"]) == len(df) - n_na) and df[\"uuid\"].isna().sum() == 0\n",
    "            test_files_changed.append(file_path)\n",
    "            print(\"\\tCompleted.\")\n",
    "        else: # no NaN entries in uuid column.\n",
    "            print(\"\\tNo empty rows found. Skipping...\")\n",
    "            test_files_unchanged.append(file_path)\n",
    "    else:  # uuid column does not exist\n",
    "        print(\"\\tUUID column not found. Creating one...\")\n",
    "        df[\"uuid\"] = [uuid.uuid4().hex for i_row in range(len(df))]\n",
    "        test_files_changed.append(file_path)\n",
    "        print(\"\\tCompleted.\")\n",
    "    df2 = pd.read_excel(file_path)\n",
    "    # compare unchanged entries by re-reading the excel file first.\n",
    "    assert (df[df2.columns].all() == df2.all()).all()\n",
    "    # write to new file and compare with original file\n",
    "    fname, ext = os.path.splitext(file_path)\n",
    "    fname = fname + \"_modified\" + ext\n",
    "    df.to_excel(fname, index=False, na_rep=\"NaN\")\n",
    "    df3 = pd.read_excel(fname)\n",
    "    assert (df3[df2.columns].all() == df2.all()).all()"
   ]
  },
  {
   "cell_type": "code",
   "execution_count": null,
   "id": "461e41c9",
   "metadata": {},
   "outputs": [],
   "source": [
    "df2 = df.copy()"
   ]
  },
  {
   "cell_type": "code",
   "execution_count": null,
   "id": "4bb6455d",
   "metadata": {},
   "outputs": [],
   "source": [
    "df.columns"
   ]
  },
  {
   "cell_type": "code",
   "execution_count": null,
   "id": "5d00f49b",
   "metadata": {},
   "outputs": [],
   "source": [
    "df[df.columns]"
   ]
  },
  {
   "cell_type": "code",
   "execution_count": null,
   "id": "c3cebb76",
   "metadata": {},
   "outputs": [],
   "source": [
    "(df.all() == df2.all()).all()"
   ]
  },
  {
   "cell_type": "code",
   "execution_count": null,
   "id": "8364a18b",
   "metadata": {},
   "outputs": [],
   "source": []
  },
  {
   "cell_type": "code",
   "execution_count": null,
   "id": "1497894f",
   "metadata": {},
   "outputs": [],
   "source": [
    "os.path.splitext(test_files_lis[0])"
   ]
  },
  {
   "cell_type": "code",
   "execution_count": null,
   "id": "a22e0f4a",
   "metadata": {},
   "outputs": [],
   "source": []
  }
 ],
 "metadata": {
  "kernelspec": {
   "display_name": "Python 3 (ipykernel)",
   "language": "python",
   "name": "python3"
  },
  "language_info": {
   "codemirror_mode": {
    "name": "ipython",
    "version": 3
   },
   "file_extension": ".py",
   "mimetype": "text/x-python",
   "name": "python",
   "nbconvert_exporter": "python",
   "pygments_lexer": "ipython3",
   "version": "3.8.12"
  }
 },
 "nbformat": 4,
 "nbformat_minor": 5
}
