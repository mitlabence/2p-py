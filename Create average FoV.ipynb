{
 "cells": [
  {
   "cell_type": "code",
   "execution_count": null,
   "id": "2e951ff2",
   "metadata": {},
   "outputs": [],
   "source": [
    "import pims_nd2\n",
    "import numpy as np\n",
    "from matplotlib import pyplot as plt\n",
    "import h5py\n",
    "import labrotation.file_handling as fh"
   ]
  },
  {
   "cell_type": "code",
   "execution_count": null,
   "id": "49f9bdd0",
   "metadata": {},
   "outputs": [],
   "source": [
    "fpath = fh.open_file(\"Select .nd2 file\")"
   ]
  },
  {
   "cell_type": "code",
   "execution_count": null,
   "id": "ae6ecedc",
   "metadata": {},
   "outputs": [],
   "source": [
    "reader = pims_nd2.ND2_Reader(fpath)"
   ]
  },
  {
   "cell_type": "code",
   "execution_count": null,
   "id": "67efb915",
   "metadata": {},
   "outputs": [],
   "source": [
    "im = np.average(reader[:20], axis=0)"
   ]
  },
  {
   "cell_type": "code",
   "execution_count": null,
   "id": "5447cb60",
   "metadata": {},
   "outputs": [],
   "source": [
    "plt.imshow(im)"
   ]
  },
  {
   "cell_type": "code",
   "execution_count": null,
   "id": "a202792e",
   "metadata": {},
   "outputs": [],
   "source": [
    "with h5py.File(\"C:\\\\Data\\\\WEZ8922_30min_fov.h5\", \"w\") as hf:\n",
    "    hf.create_dataset(\"fov\", data=im)"
   ]
  },
  {
   "cell_type": "code",
   "execution_count": null,
   "id": "0bb6b8b4",
   "metadata": {},
   "outputs": [],
   "source": []
  }
 ],
 "metadata": {
  "kernelspec": {
   "display_name": "Python 3 (ipykernel)",
   "language": "python",
   "name": "python3"
  },
  "language_info": {
   "codemirror_mode": {
    "name": "ipython",
    "version": 3
   },
   "file_extension": ".py",
   "mimetype": "text/x-python",
   "name": "python",
   "nbconvert_exporter": "python",
   "pygments_lexer": "ipython3",
   "version": "3.8.12"
  }
 },
 "nbformat": 4,
 "nbformat_minor": 5
}
