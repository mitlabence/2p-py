{
 "cells": [
  {
   "cell_type": "code",
   "execution_count": 140,
   "id": "ed7331f6",
   "metadata": {},
   "outputs": [],
   "source": [
    "import caiman as cm\n",
    "import labrotation.file_handling as fh\n",
    "from matplotlib import pyplot as plt\n",
    "import numpy as np\n",
    "from copy import deepcopy\n",
    "import os.path\n",
    "import json\n",
    "from nd2_to_caiman import np_arr_from_nd2\n",
    "import scipy\n",
    "from RippleNoiseRemoval import RNR\n",
    "from time import time\n",
    "from movie_splitting import numpy_to_hdf5\n",
    "from numba import njit, prange"
   ]
  },
  {
   "cell_type": "code",
   "execution_count": 2,
   "id": "3e7c37ca",
   "metadata": {},
   "outputs": [],
   "source": [
    "import caiman as cm\n",
    "from caiman.motion_correction import MotionCorrect\n",
    "from caiman.source_extraction.cnmf import params as params\n",
    "from copy import deepcopy"
   ]
  },
  {
   "cell_type": "code",
   "execution_count": 3,
   "id": "633848d8",
   "metadata": {},
   "outputs": [],
   "source": [
    "# TODO in nb_view_components, the blue is raw trace, yellow is smooth (inferred?). Use blue trace for matching with manual extraction!"
   ]
  },
  {
   "cell_type": "markdown",
   "id": "f5a47245",
   "metadata": {},
   "source": [
    "# Open h5 file"
   ]
  },
  {
   "cell_type": "code",
   "execution_count": 4,
   "id": "78327be6",
   "metadata": {},
   "outputs": [],
   "source": [
    "cnmf_path = fh.open_file(\"Open hdf5 caiman file\")"
   ]
  },
  {
   "cell_type": "code",
   "execution_count": 9,
   "id": "adcc0579",
   "metadata": {},
   "outputs": [],
   "source": [
    "cnmf = cm.source_extraction.cnmf.cnmf.load_CNMF(cnmf_path)"
   ]
  },
  {
   "cell_type": "markdown",
   "id": "6e6ba872",
   "metadata": {},
   "source": [
    "### Open corresponding json parameters file. Change code if naming changes!"
   ]
  },
  {
   "cell_type": "code",
   "execution_count": 10,
   "id": "bf18e3d3",
   "metadata": {},
   "outputs": [],
   "source": [
    "pars_path, pars_fname = os.path.split(cnmf_path)\n",
    "# xy_results.hdf5 -> xy_pars.json. Change this if the naming changes\n",
    "pars_fname = \"_\".join(os.path.splitext(pars_fname)[0].split(\"_\")[:-1]) + \"_pars.json\"\n",
    "pars_path = os.path.join(pars_path, pars_fname)"
   ]
  },
  {
   "cell_type": "code",
   "execution_count": 11,
   "id": "27bdcaca",
   "metadata": {},
   "outputs": [],
   "source": [
    "with open(pars_path, \"r\") as json_file:\n",
    "    js = json.load(json_file)"
   ]
  },
  {
   "cell_type": "code",
   "execution_count": 12,
   "id": "f1578ca0",
   "metadata": {},
   "outputs": [],
   "source": [
    "nd2_fpath = js[\"original_fnames\"]"
   ]
  },
  {
   "cell_type": "markdown",
   "id": "909f4417",
   "metadata": {},
   "source": [
    "### (Optional) Open corresponding nd2 file"
   ]
  },
  {
   "cell_type": "code",
   "execution_count": 13,
   "id": "d2875071",
   "metadata": {},
   "outputs": [
    {
     "name": "stderr",
     "output_type": "stream",
     "text": [
      "C:\\Users\\Bence\\anaconda3\\envs\\2p-py\\lib\\site-packages\\pims\\base_frames.py:472: UserWarning: Please call FramesSequenceND.__init__() at the start of thethe reader initialization.\n",
      "  warn(\"Please call FramesSequenceND.__init__() at the start of the\"\n"
     ]
    },
    {
     "ename": "KeyboardInterrupt",
     "evalue": "",
     "output_type": "error",
     "traceback": [
      "\u001b[1;31m---------------------------------------------------------------------------\u001b[0m",
      "\u001b[1;31mKeyboardInterrupt\u001b[0m                         Traceback (most recent call last)",
      "Input \u001b[1;32mIn [13]\u001b[0m, in \u001b[0;36m<module>\u001b[1;34m\u001b[0m\n\u001b[1;32m----> 1\u001b[0m nik_data \u001b[38;5;241m=\u001b[39m \u001b[43mnp_arr_from_nd2\u001b[49m\u001b[43m(\u001b[49m\u001b[43mnd2_fpath\u001b[49m\u001b[43m)\u001b[49m\n",
      "File \u001b[1;32mD:\\Codebase\\2p-py\\nd2_to_caiman.py:28\u001b[0m, in \u001b[0;36mnp_arr_from_nd2\u001b[1;34m(nd2_fpath, begin_end_frames)\u001b[0m\n\u001b[0;32m     25\u001b[0m \u001b[38;5;66;03m# TODO: probably it is not even necessary to export an np.array, as nikon_file is an iterable of\u001b[39;00m\n\u001b[0;32m     26\u001b[0m \u001b[38;5;66;03m#  subclasses of np array... not sure what caiman needs\u001b[39;00m\n\u001b[0;32m     27\u001b[0m i_arrrame \u001b[38;5;241m=\u001b[39m \u001b[38;5;241m0\u001b[39m\n\u001b[1;32m---> 28\u001b[0m \u001b[38;5;28;01mfor\u001b[39;00m i_frame, frame \u001b[38;5;129;01min\u001b[39;00m \u001b[38;5;28menumerate\u001b[39m(nikon_file):\n\u001b[0;32m     29\u001b[0m     \u001b[38;5;66;03m# not sure if dtype needed here\u001b[39;00m\n\u001b[0;32m     30\u001b[0m     \u001b[38;5;28;01mif\u001b[39;00m i_frame \u001b[38;5;241m>\u001b[39m\u001b[38;5;241m=\u001b[39m begin_end_frames[\u001b[38;5;241m0\u001b[39m]\u001b[38;5;241m-\u001b[39m\u001b[38;5;241m1\u001b[39m \u001b[38;5;129;01mand\u001b[39;00m i_frame \u001b[38;5;241m<\u001b[39m begin_end_frames[\u001b[38;5;241m1\u001b[39m]:\n\u001b[0;32m     31\u001b[0m         frames_arr[i_arrrame] \u001b[38;5;241m=\u001b[39m np\u001b[38;5;241m.\u001b[39marray(\n\u001b[0;32m     32\u001b[0m             nikon_file[i_frame], dtype\u001b[38;5;241m=\u001b[39mnikon_file\u001b[38;5;241m.\u001b[39mpixel_type)\n",
      "File \u001b[1;32m~\\anaconda3\\envs\\2p-py\\lib\\site-packages\\slicerator\\__init__.py:227\u001b[0m, in \u001b[0;36m<genexpr>\u001b[1;34m(.0)\u001b[0m\n\u001b[0;32m    226\u001b[0m \u001b[38;5;28;01mdef\u001b[39;00m \u001b[38;5;21m__iter__\u001b[39m(\u001b[38;5;28mself\u001b[39m):\n\u001b[1;32m--> 227\u001b[0m     \u001b[38;5;28;01mreturn\u001b[39;00m (\u001b[38;5;28;43mself\u001b[39;49m\u001b[38;5;241;43m.\u001b[39;49m\u001b[43m_get\u001b[49m\u001b[43m(\u001b[49m\u001b[43mi\u001b[49m\u001b[43m)\u001b[49m \u001b[38;5;28;01mfor\u001b[39;00m i \u001b[38;5;129;01min\u001b[39;00m \u001b[38;5;28mself\u001b[39m\u001b[38;5;241m.\u001b[39mindices)\n",
      "File \u001b[1;32m~\\anaconda3\\envs\\2p-py\\lib\\site-packages\\slicerator\\__init__.py:207\u001b[0m, in \u001b[0;36mSlicerator._get\u001b[1;34m(self, key)\u001b[0m\n\u001b[0;32m    206\u001b[0m \u001b[38;5;28;01mdef\u001b[39;00m \u001b[38;5;21m_get\u001b[39m(\u001b[38;5;28mself\u001b[39m, key):\n\u001b[1;32m--> 207\u001b[0m     \u001b[38;5;28;01mreturn\u001b[39;00m \u001b[38;5;28;43mself\u001b[39;49m\u001b[38;5;241;43m.\u001b[39;49m\u001b[43m_ancestor\u001b[49m\u001b[43m[\u001b[49m\u001b[43mkey\u001b[49m\u001b[43m]\u001b[49m\n",
      "File \u001b[1;32m~\\anaconda3\\envs\\2p-py\\lib\\site-packages\\slicerator\\__init__.py:188\u001b[0m, in \u001b[0;36mSlicerator.from_class.<locals>.SliceratorSubclass.__getitem__\u001b[1;34m(self, i)\u001b[0m\n\u001b[0;32m    186\u001b[0m indices, new_length \u001b[38;5;241m=\u001b[39m key_to_indices(i, \u001b[38;5;28mlen\u001b[39m(\u001b[38;5;28mself\u001b[39m))\n\u001b[0;32m    187\u001b[0m \u001b[38;5;28;01mif\u001b[39;00m new_length \u001b[38;5;129;01mis\u001b[39;00m \u001b[38;5;28;01mNone\u001b[39;00m:\n\u001b[1;32m--> 188\u001b[0m     \u001b[38;5;28;01mreturn\u001b[39;00m \u001b[38;5;28;43mself\u001b[39;49m\u001b[38;5;241;43m.\u001b[39;49m\u001b[43m_get\u001b[49m\u001b[43m(\u001b[49m\u001b[43mindices\u001b[49m\u001b[43m)\u001b[49m\n\u001b[0;32m    189\u001b[0m \u001b[38;5;28;01melse\u001b[39;00m:\n\u001b[0;32m    190\u001b[0m     \u001b[38;5;28;01mreturn\u001b[39;00m \u001b[38;5;28mcls\u001b[39m(\u001b[38;5;28mself\u001b[39m, indices, new_length, propagate_attrs)\n",
      "File \u001b[1;32m~\\anaconda3\\envs\\2p-py\\lib\\site-packages\\pims\\base_frames.py:98\u001b[0m, in \u001b[0;36mFramesSequence.__getitem__\u001b[1;34m(self, key)\u001b[0m\n\u001b[0;32m     95\u001b[0m \u001b[38;5;28;01mdef\u001b[39;00m \u001b[38;5;21m__getitem__\u001b[39m(\u001b[38;5;28mself\u001b[39m, key):\n\u001b[0;32m     96\u001b[0m     \u001b[38;5;124;03m\"\"\"__getitem__ is handled by Slicerator. In all pims readers, the data\u001b[39;00m\n\u001b[0;32m     97\u001b[0m \u001b[38;5;124;03m    returning function is get_frame.\"\"\"\u001b[39;00m\n\u001b[1;32m---> 98\u001b[0m     \u001b[38;5;28;01mreturn\u001b[39;00m \u001b[38;5;28;43mself\u001b[39;49m\u001b[38;5;241;43m.\u001b[39;49m\u001b[43mget_frame\u001b[49m\u001b[43m(\u001b[49m\u001b[43mkey\u001b[49m\u001b[43m)\u001b[49m\n",
      "File \u001b[1;32m~\\anaconda3\\envs\\2p-py\\lib\\site-packages\\pims\\base_frames.py:592\u001b[0m, in \u001b[0;36mFramesSequenceND.get_frame\u001b[1;34m(self, i)\u001b[0m\n\u001b[0;32m    589\u001b[0m iter_coords \u001b[38;5;241m=\u001b[39m (i \u001b[38;5;241m/\u001b[39m\u001b[38;5;241m/\u001b[39m iter_cumsizes) \u001b[38;5;241m%\u001b[39m iter_sizes\n\u001b[0;32m    590\u001b[0m coords\u001b[38;5;241m.\u001b[39mupdate(\u001b[38;5;241m*\u001b[39m\u001b[38;5;241m*\u001b[39m{k: v \u001b[38;5;28;01mfor\u001b[39;00m k, v \u001b[38;5;129;01min\u001b[39;00m \u001b[38;5;28mzip\u001b[39m(\u001b[38;5;28mself\u001b[39m\u001b[38;5;241m.\u001b[39miter_axes, iter_coords)})\n\u001b[1;32m--> 592\u001b[0m result \u001b[38;5;241m=\u001b[39m \u001b[38;5;28;43mself\u001b[39;49m\u001b[38;5;241;43m.\u001b[39;49m\u001b[43m_get_frame_wrapped\u001b[49m\u001b[43m(\u001b[49m\u001b[38;5;241;43m*\u001b[39;49m\u001b[38;5;241;43m*\u001b[39;49m\u001b[43mcoords\u001b[49m\u001b[43m)\u001b[49m\n\u001b[0;32m    593\u001b[0m \u001b[38;5;28;01mif\u001b[39;00m \u001b[38;5;28mhasattr\u001b[39m(result, \u001b[38;5;124m'\u001b[39m\u001b[38;5;124mmetadata\u001b[39m\u001b[38;5;124m'\u001b[39m):\n\u001b[0;32m    594\u001b[0m     metadata \u001b[38;5;241m=\u001b[39m result\u001b[38;5;241m.\u001b[39mmetadata\n",
      "File \u001b[1;32m~\\anaconda3\\envs\\2p-py\\lib\\site-packages\\pims_nd2\\nd2reader.py:194\u001b[0m, in \u001b[0;36mND2_Reader.get_frame_2D\u001b[1;34m(self, **coords)\u001b[0m\n\u001b[0;32m    187\u001b[0m _coords\u001b[38;5;241m.\u001b[39mupdate(coords)\n\u001b[0;32m    188\u001b[0m i \u001b[38;5;241m=\u001b[39m h\u001b[38;5;241m.\u001b[39mLim_GetSeqIndexFromCoords(\u001b[38;5;28mself\u001b[39m\u001b[38;5;241m.\u001b[39m_lim_experiment,\n\u001b[0;32m    189\u001b[0m                                 h\u001b[38;5;241m.\u001b[39mLIMUINT_4(\u001b[38;5;28mint\u001b[39m(_coords[\u001b[38;5;124m'\u001b[39m\u001b[38;5;124mt\u001b[39m\u001b[38;5;124m'\u001b[39m]),\n\u001b[0;32m    190\u001b[0m                                             \u001b[38;5;28mint\u001b[39m(_coords[\u001b[38;5;124m'\u001b[39m\u001b[38;5;124mm\u001b[39m\u001b[38;5;124m'\u001b[39m]),\n\u001b[0;32m    191\u001b[0m                                             \u001b[38;5;28mint\u001b[39m(_coords[\u001b[38;5;124m'\u001b[39m\u001b[38;5;124mz\u001b[39m\u001b[38;5;124m'\u001b[39m]),\n\u001b[0;32m    192\u001b[0m                                             \u001b[38;5;28mint\u001b[39m(_coords[\u001b[38;5;124m'\u001b[39m\u001b[38;5;124mo\u001b[39m\u001b[38;5;124m'\u001b[39m])))\n\u001b[1;32m--> 194\u001b[0m \u001b[43mh\u001b[49m\u001b[38;5;241;43m.\u001b[39;49m\u001b[43mLim_FileGetImageData\u001b[49m\u001b[43m(\u001b[49m\u001b[38;5;28;43mself\u001b[39;49m\u001b[38;5;241;43m.\u001b[39;49m\u001b[43m_handle\u001b[49m\u001b[43m,\u001b[49m\u001b[43m \u001b[49m\u001b[43mi\u001b[49m\u001b[43m,\u001b[49m\u001b[43m \u001b[49m\u001b[38;5;28;43mself\u001b[39;49m\u001b[38;5;241;43m.\u001b[39;49m\u001b[43m_buf_p\u001b[49m\u001b[43m,\u001b[49m\u001b[43m \u001b[49m\u001b[38;5;28;43mself\u001b[39;49m\u001b[38;5;241;43m.\u001b[39;49m\u001b[43m_buf_md\u001b[49m\u001b[43m)\u001b[49m\n\u001b[0;32m    195\u001b[0m im \u001b[38;5;241m=\u001b[39m np\u001b[38;5;241m.\u001b[39mndarray(\u001b[38;5;28mself\u001b[39m\u001b[38;5;241m.\u001b[39m_lim_frame_shape, \u001b[38;5;28mself\u001b[39m\u001b[38;5;241m.\u001b[39mpixel_type,\n\u001b[0;32m    196\u001b[0m                 \u001b[38;5;28mself\u001b[39m\u001b[38;5;241m.\u001b[39m_buf_p_a)\u001b[38;5;241m.\u001b[39mcopy()\n\u001b[0;32m    198\u001b[0m \u001b[38;5;28;01mif\u001b[39;00m im\u001b[38;5;241m.\u001b[39mndim \u001b[38;5;241m==\u001b[39m \u001b[38;5;241m3\u001b[39m:\n",
      "File \u001b[1;32m~\\anaconda3\\envs\\2p-py\\lib\\site-packages\\pims_nd2\\ND2SDK.py:86\u001b[0m, in \u001b[0;36mLIMRESULT\u001b[1;34m(result)\u001b[0m\n\u001b[0;32m     80\u001b[0m \u001b[38;5;28;01mdef\u001b[39;00m \u001b[38;5;21mrgb_int_to_float_tuple\u001b[39m(rgb):\n\u001b[0;32m     81\u001b[0m     \u001b[38;5;28;01mreturn\u001b[39;00m ((rgb \u001b[38;5;241m&\u001b[39m \u001b[38;5;241m255\u001b[39m) \u001b[38;5;241m/\u001b[39m \u001b[38;5;241m255.\u001b[39m,\n\u001b[0;32m     82\u001b[0m             (rgb \u001b[38;5;241m>>\u001b[39m \u001b[38;5;241m8\u001b[39m \u001b[38;5;241m&\u001b[39m \u001b[38;5;241m255\u001b[39m) \u001b[38;5;241m/\u001b[39m \u001b[38;5;241m255.\u001b[39m,\n\u001b[0;32m     83\u001b[0m             (rgb \u001b[38;5;241m>>\u001b[39m \u001b[38;5;241m16\u001b[39m \u001b[38;5;241m&\u001b[39m \u001b[38;5;241m255\u001b[39m) \u001b[38;5;241m/\u001b[39m \u001b[38;5;241m255.\u001b[39m)\n\u001b[1;32m---> 86\u001b[0m \u001b[38;5;28;01mdef\u001b[39;00m \u001b[38;5;21mLIMRESULT\u001b[39m(result):\n\u001b[0;32m     87\u001b[0m     \u001b[38;5;28;01mif\u001b[39;00m result \u001b[38;5;241m!=\u001b[39m \u001b[38;5;241m0\u001b[39m:\n\u001b[0;32m     88\u001b[0m         error \u001b[38;5;241m=\u001b[39m LIM_ERR[result]\n",
      "\u001b[1;31mKeyboardInterrupt\u001b[0m: "
     ]
    }
   ],
   "source": [
    "nik_data = np_arr_from_nd2(nd2_fpath)"
   ]
  },
  {
   "cell_type": "markdown",
   "id": "b89d76e7",
   "metadata": {},
   "source": [
    "# Test by plotting detected cells"
   ]
  },
  {
   "cell_type": "code",
   "execution_count": 14,
   "id": "31bb8554",
   "metadata": {},
   "outputs": [
    {
     "data": {
      "text/plain": [
       "<caiman.source_extraction.cnmf.estimates.Estimates at 0x20219b061f0>"
      ]
     },
     "execution_count": 14,
     "metadata": {},
     "output_type": "execute_result"
    }
   ],
   "source": [
    "cnmf.estimates.plot_contours_nb()"
   ]
  },
  {
   "cell_type": "code",
   "execution_count": 67,
   "id": "341513ab",
   "metadata": {},
   "outputs": [
    {
     "data": {
      "text/plain": [
       "<caiman.source_extraction.cnmf.estimates.Estimates at 0x20219b061f0>"
      ]
     },
     "execution_count": 67,
     "metadata": {},
     "output_type": "execute_result"
    }
   ],
   "source": [
    "cnmf.estimates.nb_view_components(denoised_color=\"red\")"
   ]
  },
  {
   "cell_type": "markdown",
   "id": "58d7340b",
   "metadata": {},
   "source": [
    "# Extract spatial coordinates in video"
   ]
  },
  {
   "cell_type": "markdown",
   "id": "d13e6e71",
   "metadata": {},
   "source": [
    "### scipy.sparse.csc_matrix (compressed sparse column matrix)\n",
    "To produce a CSC formatted matrix from a numpy matrix (np.ndarray), go through the matrix column by column, and note the row indices (0 = topmost element of a column) of non-zero elements. Append these to an array, `indices`, and their data values to another array, `data`. Then, create a new array `indptr`. The element `i` and `i+1` should form an interval `[x, y)` such that `indices[x:y]` are the elements of the i-th column.\n",
    "* `indices[indptr[i]:indptr[i+1]]` (note open interval on right! E.g. `[1:3] = {1, 2}`) contains the indices of the i-th column (i=0, ...) \n",
    "* `indptr` contains pointers to the column elements `indices`\n",
    "* `data` contains the corresponding value for each `indices` entry.\n"
   ]
  },
  {
   "cell_type": "code",
   "execution_count": null,
   "id": "75c3e86c",
   "metadata": {},
   "outputs": [],
   "source": [
    "i_neuron = 467  # set a neuron by looking at cnmf.estimates.nb_view_components(). If the neuron there is i, write here i-1.\n",
    "                # Find one where any mirroring can be easily detected"
   ]
  },
  {
   "cell_type": "code",
   "execution_count": null,
   "id": "8f4f1701",
   "metadata": {},
   "outputs": [],
   "source": [
    "type(cnmf.estimates.A[:,i_neuron])"
   ]
  },
  {
   "cell_type": "code",
   "execution_count": null,
   "id": "9a9d99a2",
   "metadata": {},
   "outputs": [],
   "source": [
    "cnmf.estimates.A[:,i_neuron].indices.shape"
   ]
  },
  {
   "cell_type": "code",
   "execution_count": null,
   "id": "e2a9f9f1",
   "metadata": {},
   "outputs": [],
   "source": [
    "cnmf.estimates.A[:,i_neuron].indptr.shape"
   ]
  },
  {
   "cell_type": "code",
   "execution_count": null,
   "id": "dc6d7f25",
   "metadata": {},
   "outputs": [],
   "source": [
    "cnmf.estimates.A[:,i_neuron].data.shape"
   ]
  },
  {
   "cell_type": "code",
   "execution_count": null,
   "id": "6ec5ebfa",
   "metadata": {},
   "outputs": [],
   "source": [
    "cnmf.estimates.A[:,i_neuron].indptr"
   ]
  },
  {
   "cell_type": "code",
   "execution_count": null,
   "id": "48a6793f",
   "metadata": {},
   "outputs": [],
   "source": [
    "cnmf.estimates.A[:,i_neuron].data.min()"
   ]
  },
  {
   "cell_type": "markdown",
   "id": "16e49e91",
   "metadata": {},
   "source": [
    "# Test re-indexing into 2d array shape"
   ]
  },
  {
   "cell_type": "code",
   "execution_count": 15,
   "id": "06856398",
   "metadata": {},
   "outputs": [],
   "source": [
    "temporal = cnmf.estimates.C"
   ]
  },
  {
   "cell_type": "code",
   "execution_count": 16,
   "id": "57a34988",
   "metadata": {},
   "outputs": [],
   "source": [
    "spatial = cnmf.estimates.A.todense()"
   ]
  },
  {
   "cell_type": "code",
   "execution_count": 17,
   "id": "f1258bcd",
   "metadata": {},
   "outputs": [
    {
     "data": {
      "text/plain": [
       "(262144, 1166)"
      ]
     },
     "execution_count": 17,
     "metadata": {},
     "output_type": "execute_result"
    }
   ],
   "source": [
    "spatial.shape"
   ]
  },
  {
   "cell_type": "code",
   "execution_count": null,
   "id": "692e813b",
   "metadata": {},
   "outputs": [],
   "source": [
    "neuron = spatial[:,i_neuron].reshape((512,512)).transpose()"
   ]
  },
  {
   "cell_type": "markdown",
   "id": "21114679",
   "metadata": {},
   "source": [
    "### Check position of detected neuron. If mat is csc_matrix, then mat.nonzero() returns [x0, x1, ...], [y0, y1, ...] of (x, y) coordinates of nonzero elements. Need to check if these give back the original neuron"
   ]
  },
  {
   "cell_type": "code",
   "execution_count": null,
   "id": "5d465f70",
   "metadata": {},
   "outputs": [],
   "source": [
    "fig = plt.figure(figsize=(18,18));\n",
    "fig.suptitle(\"Reconstructed neuron; compare with nb_view_components() i+1 neuron\", fontsize=20);\n",
    "plt.imshow(neuron);\n"
   ]
  },
  {
   "cell_type": "markdown",
   "id": "4aea99fb",
   "metadata": {},
   "source": [
    "### Create binarized version of the frame"
   ]
  },
  {
   "cell_type": "code",
   "execution_count": null,
   "id": "b21aec68",
   "metadata": {},
   "outputs": [],
   "source": [
    "neuron_binary = deepcopy(neuron)"
   ]
  },
  {
   "cell_type": "code",
   "execution_count": null,
   "id": "337187b4",
   "metadata": {},
   "outputs": [],
   "source": [
    "csc2 = scipy.sparse.csc_matrix(neuron)"
   ]
  },
  {
   "cell_type": "code",
   "execution_count": null,
   "id": "89009e65",
   "metadata": {},
   "outputs": [],
   "source": [
    "x, y = csc2.nonzero()  # returns two lists: [x0, x1, ...], [y0, y1, ...] of [xi, yi] coordinates of non-zero entries."
   ]
  },
  {
   "cell_type": "code",
   "execution_count": null,
   "id": "9c193cfa",
   "metadata": {},
   "outputs": [],
   "source": [
    "xy = list(zip(x, y))"
   ]
  },
  {
   "cell_type": "code",
   "execution_count": null,
   "id": "7fe1776e",
   "metadata": {},
   "outputs": [],
   "source": [
    "for i_coord in range(len(x)):  # loop through \n",
    "    i_x = x[i_coord]\n",
    "    i_y = y[i_coord]\n",
    "    neuron_binary[i_x, i_y] = 1"
   ]
  },
  {
   "cell_type": "code",
   "execution_count": null,
   "id": "e2725cc6",
   "metadata": {},
   "outputs": [],
   "source": [
    "fig = plt.figure(figsize=(18,18));\n",
    "fig.suptitle(\"Binarized neuron\", fontsize=20);\n",
    "plt.imshow(neuron_binary);"
   ]
  },
  {
   "cell_type": "markdown",
   "id": "7747df35",
   "metadata": {},
   "source": [
    "# Create weighted average of signal\n",
    "The weights are the contents of the sparse matrix"
   ]
  },
  {
   "cell_type": "markdown",
   "id": "71f15525",
   "metadata": {},
   "source": [
    "## RNR and MoCo"
   ]
  },
  {
   "cell_type": "code",
   "execution_count": null,
   "id": "3122250b",
   "metadata": {},
   "outputs": [],
   "source": [
    "win = js[\"rnr_win\"]\n",
    "amplitude_threshold = js[\"amplitude_threshold\"]"
   ]
  },
  {
   "cell_type": "code",
   "execution_count": null,
   "id": "ce1b7b06",
   "metadata": {},
   "outputs": [],
   "source": [
    "# set export folder for temporary files\n",
    "export_folder = fh.open_dir(\"Select folder to save results\", True)\n",
    "# export_fname: get rid of .nd2 extension, append date and .h5 extension\n",
    "export_fname = fh.get_filename_with_date(os.path.splitext(os.path.split(nd2_fpath)[1])[0] + \"_rnr_\", \".hdf5\")\n",
    "export_hd5_fpath = os.path.join(export_folder, export_fname) # nd2_fpath.split(\"/\")[-1][:-4] + \"_exp.h5\"\n",
    "print(f\"Export file selected: {export_hd5_fpath}\")"
   ]
  },
  {
   "cell_type": "code",
   "execution_count": null,
   "id": "6a40b6c3",
   "metadata": {},
   "outputs": [],
   "source": [
    "rnr = RNR(win, amplitude_threshold) "
   ]
  },
  {
   "cell_type": "code",
   "execution_count": null,
   "id": "c8cdc797",
   "metadata": {},
   "outputs": [],
   "source": [
    "t0_open = time()\n",
    "if \"begin_end_frames\" in locals():\n",
    "    rnr.open_recording(nd2_fpath, begin_end_frames)  # opens usual recording size (8.8-9 GB) in about 830 s\n",
    "else:\n",
    "    rnr.open_recording(nd2_fpath)\n",
    "print(f\"File opened in {time() - t0_open} s\")"
   ]
  },
  {
   "cell_type": "code",
   "execution_count": null,
   "id": "c435b3a0",
   "metadata": {},
   "outputs": [],
   "source": [
    "# TODO: make sure CNMF object contains MoCo shifts (in Pure Python Pipeline / Splitting), then use apply_shifts"
   ]
  },
  {
   "cell_type": "code",
   "execution_count": null,
   "id": "b52abe35",
   "metadata": {},
   "outputs": [],
   "source": [
    "t0_single = time()\n",
    "rnr_data = rnr.rnr_singlethread()  # a bit faster than opening file, around 500s for 8.8-9 GB\n",
    "t1_single = time()\n",
    "print(f\"RNR single thread finished in {t1_single - t0_single} s\")\n",
    "print(f\"Result is a {type(rnr_data)} with datatype {rnr_data.dtype}\")\n",
    "print(f\"Shape: {rnr_data.shape[0]} frames of {rnr_data.shape[1]}x{rnr_data.shape[2]} pixels\")"
   ]
  },
  {
   "cell_type": "code",
   "execution_count": null,
   "id": "9c1be948",
   "metadata": {},
   "outputs": [],
   "source": [
    "numpy_to_hdf5(rnr_data, export_hd5_fpath)"
   ]
  },
  {
   "cell_type": "code",
   "execution_count": null,
   "id": "61f45444",
   "metadata": {},
   "outputs": [],
   "source": [
    "if \"moco_intervals\" in js.keys():\n",
    "    moco_intervals = js[\"moco_intervals\"]\n",
    "    moco_flags = js[\"moco_flags\"]\n",
    "    cnmf_intervals = js[\"cnmf_intervals\"]\n",
    "    cnmf_flags = js[\"cnmf_flags\"]\n",
    "else:\n",
    "    raise Exception(\"No segmentation info found.\")"
   ]
  },
  {
   "cell_type": "markdown",
   "id": "6c415c68",
   "metadata": {},
   "source": [
    "### Set output file"
   ]
  },
  {
   "cell_type": "code",
   "execution_count": null,
   "id": "3d279464",
   "metadata": {},
   "outputs": [],
   "source": [
    "if not(\"export_hd5_fpath\" in locals()):\n",
    "    export_hd5_fpath = fh.open_file(\"Choose hd5 file to open\")\n",
    "if export_hd5_fpath.split(\".\")[-1] != \"hdf5\":\n",
    "    print(f\"Invalid hd5 file:\\n{export_hd5_fpath}\\nChoose a valid hd5 file!\")\n",
    "    export_hd5_fpath = fh.open_file(\"Choose hd5 file to open\")\n",
    "fnames = [export_hd5_fpath]\n",
    "print(f\"Going to perform MoCo on {fnames}\")\n",
    "assert export_hd5_fpath.split(\".\")[-1] == \"hdf5\", f\"Invalid file extension: .{export_hd5_fpath.split('.')[-1]}, expected .hdf5\""
   ]
  },
  {
   "cell_type": "markdown",
   "id": "1c4f825c",
   "metadata": {},
   "source": [
    "### Acquire parameters from json file"
   ]
  },
  {
   "cell_type": "code",
   "execution_count": null,
   "id": "96321089",
   "metadata": {},
   "outputs": [],
   "source": [
    "for key in js.keys():\n",
    "    print(key)"
   ]
  },
  {
   "cell_type": "code",
   "execution_count": null,
   "id": "3fa5a6a0",
   "metadata": {},
   "outputs": [],
   "source": [
    "js[\"strides\"]"
   ]
  },
  {
   "cell_type": "code",
   "execution_count": null,
   "id": "0375a94b",
   "metadata": {},
   "outputs": [],
   "source": [
    "# dataset dependent parameters\n",
    "fr = js[\"fr\"]                             # imaging rate in frames per second\n",
    "decay_time = js[\"decay_time\"]                  # length of a typical transient in seconds\n",
    "\n",
    "# motion correction parameters\n",
    "strides = tuple(js[\"strides\"])          # start a new patch for pw-rigid motion correction every x pixels\n",
    "overlaps = tuple(js[\"overlaps\"])         # overlap between pathes (size of patch strides+overlaps)\n",
    "max_shifts = tuple(js[\"max_shifts\"])          # maximum allowed rigid shifts (in pixels)\n",
    "max_deviation_rigid = js[\"max_deviation_rigid\"]     # maximum shifts deviation allowed for patch with respect to rigid shifts\n",
    "pw_rigid = js[\"pw_rigid\"]             # flag for performing non-rigid motion correction\n",
    "\n",
    "# parameters for source extraction and deconvolution\n",
    "p = js[\"p\"]                       # order of the autoregressive system\n",
    "gnb = js[\"nb\"]                     # number of global background components\n",
    "merge_thr = js[\"merge_thr\"]            # merging threshold, max correlation allowed\n",
    "rf = js[\"rf\"]                     # half-size of the patches in pixels. e.g., if rf=25, patches are 50x50\n",
    "stride_cnmf = js[\"stride\"]             # amount of overlap between the patches in pixels\n",
    "K = js[\"K\"]                       # number of components per patch\n",
    "gSig = js[\"gSig\"]               # expected half size of neurons in pixels\n",
    "method_init = js[\"method_init\"]  # initialization method (if analyzing dendritic data using 'sparse_nmf')\n",
    "ssub = js[\"ssub\"]                    # spatial subsampling during initialization\n",
    "tsub = js[\"tsub\"]                    # temporal subsampling during intialization\n",
    "\n",
    "# parameters for component evaluation\n",
    "min_SNR = js[\"min_SNR\"]               # signal to noise ratio for accepting a component\n",
    "rval_thr = js[\"rval_thr\"]              # space correlation threshold for accepting a component\n",
    "cnn_thr = js[\"min_cnn_thr\"]              # threshold for CNN based classifier\n",
    "cnn_lowest = js[\"cnn_lowest\"] # neurons with cnn probability lower than this value are rejected"
   ]
  },
  {
   "cell_type": "code",
   "execution_count": null,
   "id": "07573053",
   "metadata": {},
   "outputs": [],
   "source": [
    "if \"fnames\" not in locals():\n",
    "    fnames = fh.open_file(\"No hd5 file selected. Choose corresponding hd5 file!\")\n",
    "opts_dict = {'fnames': fnames, \n",
    "            'fr': fr,\n",
    "            'decay_time': decay_time,\n",
    "            'strides': strides,\n",
    "            'overlaps': overlaps,\n",
    "            'max_shifts': max_shifts,\n",
    "            'max_deviation_rigid': max_deviation_rigid,\n",
    "            'pw_rigid': pw_rigid,\n",
    "            'p': p,\n",
    "            'nb': gnb,\n",
    "            'rf': rf,\n",
    "            'K': K, \n",
    "            'stride': stride_cnmf,\n",
    "            'method_init': method_init,\n",
    "            'rolling_sum': True,\n",
    "            'only_init': True,\n",
    "            'ssub': ssub,\n",
    "            'tsub': tsub,\n",
    "            'merge_thr': merge_thr, \n",
    "            'min_SNR': min_SNR,\n",
    "            'rval_thr': rval_thr,\n",
    "            'use_cnn': True,\n",
    "            'min_cnn_thr': cnn_thr,\n",
    "            'cnn_lowest': cnn_lowest,\n",
    "            'var_name_hdf5': 'data',\n",
    "            'gSig' :  gSig,}  # FIXME: does not work! Check where does this setting get lost?\n",
    "\n",
    "opts = params.CNMFParams(params_dict=opts_dict)"
   ]
  },
  {
   "cell_type": "markdown",
   "id": "7c4ed828",
   "metadata": {},
   "source": [
    "## Set up cluster"
   ]
  },
  {
   "cell_type": "code",
   "execution_count": null,
   "id": "aed02a69",
   "metadata": {},
   "outputs": [],
   "source": [
    "#%% start a cluster for parallel processing (if a cluster already exists it will be closed and a new session will be opened)\n",
    "if 'dview' in locals():\n",
    "    cm.stop_server(dview=dview)\n",
    "c, dview, n_processes = cm.cluster.setup_cluster(\n",
    "    backend='local', n_processes=None, single_thread=False)"
   ]
  },
  {
   "cell_type": "code",
   "execution_count": null,
   "id": "4b7135ef",
   "metadata": {},
   "outputs": [],
   "source": [
    "mc = MotionCorrect(fnames, dview=dview, **opts.get_group('motion'))"
   ]
  },
  {
   "cell_type": "markdown",
   "id": "ceaa8ec6",
   "metadata": {},
   "source": [
    "### Perform MoCo on whole movie first, do not save the results yet"
   ]
  },
  {
   "cell_type": "code",
   "execution_count": null,
   "id": "ef7dc038",
   "metadata": {},
   "outputs": [],
   "source": [
    "mc.motion_correct(save_movie=False)"
   ]
  },
  {
   "cell_type": "code",
   "execution_count": null,
   "id": "a7502d7f",
   "metadata": {},
   "outputs": [],
   "source": [
    "x_shifts_els = deepcopy(mc.x_shifts_els)\n",
    "y_shifts_els = deepcopy(mc.y_shifts_els)"
   ]
  },
  {
   "cell_type": "code",
   "execution_count": null,
   "id": "6e788a73",
   "metadata": {},
   "outputs": [],
   "source": [
    "x_shape = x_shifts_els[0].shape\n",
    "y_shape = y_shifts_els[0].shape\n",
    "for i_piece, frames_tuple in enumerate(moco_intervals):\n",
    "    if not moco_flags[i_piece]:  # skip this piece = set shifts to zero\n",
    "         for i_frame in range(frames_tuple[0] -1 , frames_tuple[1]):  # include last frame as well\n",
    "            x_shifts_els[i_frame] = np.zeros(x_shape)\n",
    "            y_shifts_els[i_frame] = np.zeros(y_shape)"
   ]
  },
  {
   "cell_type": "code",
   "execution_count": null,
   "id": "96a585a6",
   "metadata": {},
   "outputs": [],
   "source": [
    "mc.x_shifts_els = x_shifts_els\n",
    "mc.y_shifts_els = y_shifts_els"
   ]
  },
  {
   "cell_type": "code",
   "execution_count": null,
   "id": "7272a859",
   "metadata": {},
   "outputs": [],
   "source": [
    "work_folder = os.path.split(fnames[0])[0]\n",
    "print(f\"Changing work folder to {work_folder}, this is where moco result will be saved\")"
   ]
  },
  {
   "cell_type": "code",
   "execution_count": null,
   "id": "488fb503",
   "metadata": {},
   "outputs": [],
   "source": [
    "os.chdir(work_folder)"
   ]
  },
  {
   "cell_type": "code",
   "execution_count": null,
   "id": "2778f761",
   "metadata": {},
   "outputs": [],
   "source": [
    "# should save in C order because cm.load_memmap() takes C-memmap. However, as the opening and closing of memmap files is \n",
    "# so confusing, I decided to try to copy the original demo_pipeline jupyter notebook as closely as I can.\n",
    "exp_fname = mc.apply_shifts_movie(fnames, save_memmap=True,order=\"F\")\n",
    "print(exp_fname)"
   ]
  },
  {
   "cell_type": "markdown",
   "id": "92a5bf39",
   "metadata": {},
   "source": [
    "### At this point, we have the shifts for specific intervals in the recording, even if they were not saved before. We need to apply them to the whole recording."
   ]
  },
  {
   "cell_type": "code",
   "execution_count": null,
   "id": "a21a80fa",
   "metadata": {},
   "outputs": [],
   "source": [
    "# TODO: if shifts in CNMF object, need to open file in MoCo, apply shifts, save to memmap and open memmap"
   ]
  },
  {
   "cell_type": "code",
   "execution_count": null,
   "id": "72d5dea2",
   "metadata": {},
   "outputs": [],
   "source": [
    "mc_mmap = os.path.join(work_folder, exp_fname)"
   ]
  },
  {
   "cell_type": "code",
   "execution_count": null,
   "id": "7ca45a3f",
   "metadata": {},
   "outputs": [],
   "source": [
    "#exp_fname2 = mc.apply_shifts_movie(fnames, save_memmap=True,order=\"C\")\n",
    "#mc_mmap2 = os.path.join(work_folder, exp_fname2)"
   ]
  },
  {
   "cell_type": "code",
   "execution_count": null,
   "id": "4ebd1e63",
   "metadata": {},
   "outputs": [],
   "source": [
    "m_els = cm.load(mc_mmap)\n",
    "border_to_0 = 0 if mc.border_nan is 'copy' else mc.border_to_0  # FIXME: gives warning, should use \"==\" with literals\n",
    "    # maximum shift to be used for trimming against NaNs"
   ]
  },
  {
   "cell_type": "code",
   "execution_count": 5,
   "id": "40ffed15",
   "metadata": {},
   "outputs": [],
   "source": [
    "if \"mc_mmap\" not in locals():\n",
    "    mc_mmap = fh.open_file(\"Choose motion-corrected recording mmap!\")"
   ]
  },
  {
   "cell_type": "code",
   "execution_count": 6,
   "id": "27a334f3",
   "metadata": {},
   "outputs": [],
   "source": [
    "#m_els_C = cm.load(mc_mmap2)\n",
    "m_els = cm.load(mc_mmap)"
   ]
  },
  {
   "cell_type": "code",
   "execution_count": 7,
   "id": "ffa54207",
   "metadata": {},
   "outputs": [
    {
     "data": {
      "text/plain": [
       "(17978, 512, 512)"
      ]
     },
     "execution_count": 7,
     "metadata": {},
     "output_type": "execute_result"
    }
   ],
   "source": [
    "m_els.shape"
   ]
  },
  {
   "cell_type": "code",
   "execution_count": 18,
   "id": "3fb73778",
   "metadata": {},
   "outputs": [
    {
     "data": {
      "text/plain": [
       "(262144, 1166)"
      ]
     },
     "execution_count": 18,
     "metadata": {},
     "output_type": "execute_result"
    }
   ],
   "source": [
    "spatial.shape  # no. pixels (512x512) x no. neurons"
   ]
  },
  {
   "cell_type": "code",
   "execution_count": 19,
   "id": "8b7eaa40",
   "metadata": {},
   "outputs": [
    {
     "data": {
      "text/plain": [
       "(1166, 15737)"
      ]
     },
     "execution_count": 19,
     "metadata": {},
     "output_type": "execute_result"
    }
   ],
   "source": [
    "temporal.shape  # no. neurons x no. frames"
   ]
  },
  {
   "cell_type": "code",
   "execution_count": 20,
   "id": "71813b2a",
   "metadata": {},
   "outputs": [],
   "source": [
    "n_neurons = temporal.shape[0]\n",
    "n_frames_cut = temporal.shape[1]\n",
    "n_frames_long = m_els.shape[0]"
   ]
  },
  {
   "cell_type": "code",
   "execution_count": null,
   "id": "203f0dc7",
   "metadata": {},
   "outputs": [],
   "source": [
    "# check intervals are consistent with temporal size\n",
    "n_frs = 0\n",
    "for i_tup, tup in enumerate(js[\"cnmf_intervals\"]):\n",
    "    if js[\"cnmf_flags\"][i_tup]:\n",
    "        n_frs += tup[1] - tup[0] + 1\n",
    "print(n_frs)\n",
    "print(n_frs == n_frames_cut)"
   ]
  },
  {
   "cell_type": "code",
   "execution_count": null,
   "id": "0ab43e22",
   "metadata": {},
   "outputs": [],
   "source": [
    "traces_cut = np.zeros((n_neurons, n_frames_cut), dtype=m_els.dtype)  # same shape as temporal\n",
    "traces_whole = np.zeros((n_neurons, n_frames_long), dtype=m_els.dtype)"
   ]
  },
  {
   "cell_type": "code",
   "execution_count": null,
   "id": "445c53d5",
   "metadata": {},
   "outputs": [],
   "source": [
    "neuron_signal_cut = np.zeros((n_neurons, n_frames_cut), dtype=m_els.dtype)  # same shape as temporal\n",
    "neuron_signal_whole = np.zeros((n_neurons, n_frames_long), dtype=m_els.dtype)"
   ]
  },
  {
   "cell_type": "code",
   "execution_count": null,
   "id": "c331ed46",
   "metadata": {},
   "outputs": [],
   "source": [
    "neuron_weight = np.zeros(n_neurons, dtype=m_els.dtype)\n",
    "for i_neuron in range(n_neurons):\n",
    "    weight = 0\n",
    "    neuron_mask = spatial[:,i_neuron].reshape((512,512)).transpose()  # do not confuse with elon musk\n",
    "    pixels_x, pixels_y = scipy.sparse.csc_matrix(neuron_mask).nonzero()\n",
    "    for pix_x, pix_y in zip(pixels_x, pixels_y):\n",
    "        weight += neuron_mask[pix_x, pix_y]\n",
    "    neuron_weight[i_neuron] = weight"
   ]
  },
  {
   "cell_type": "code",
   "execution_count": null,
   "id": "d8168560",
   "metadata": {},
   "outputs": [],
   "source": [
    "neuron_weight"
   ]
  },
  {
   "cell_type": "code",
   "execution_count": null,
   "id": "af0ffffd",
   "metadata": {},
   "outputs": [],
   "source": [
    "# frame-first method\n",
    "\n",
    "# extract whole trace per frame:\n",
    "# calculate for each neuron sum(pixels of neuron) {pixel weight}*{pixel temporal value}\n",
    "for i_frame in range(m_els.shape[0]):\n",
    "    print(i_frame)\n",
    "    for i_neuron in range(n_neurons):\n",
    "        neuron_mask = spatial[:,i_neuron].reshape((512,512)).transpose()  # do not confuse with elon musk\n",
    "        pixels_x, pixels_y = scipy.sparse.csc_matrix(neuron_mask).nonzero()\n",
    "        neuron_signal = 0  # the nominator\n",
    "        total_weight = 0  # the denominator\n",
    "        for pix_x, pix_y in zip(pixels_x, pixels_y):\n",
    "            neuron_signal += neuron_mask[pix_x, pix_y]*m_els[i_frame, pix_x, pix_y]  # add weight x trace of pixel to total\n",
    "        traces_whole[i_neuron, i_frame] = neuron_signal / neuron_weight[i_neuron]\n",
    "        neuron_signal_whole[i_neuron, i_frame] = neuron_signal"
   ]
  },
  {
   "cell_type": "code",
   "execution_count": null,
   "id": "888a1121",
   "metadata": {},
   "outputs": [],
   "source": [
    "# based on this simple test, TXY order with F order in apply_shifts is the fastest way. I.e. the loop \n",
    "# over frames is the slowest-changing, Y the quickest.\n",
    "\n",
    "test_C_vs_F = False\n",
    "if test_C_vs_F:\n",
    "    # test reading various pixels throughout whole range\n",
    "    print(\"T-major approach\")\n",
    "    t0 = time()\n",
    "    s = 0\n",
    "    for i_x in range(30):\n",
    "        for i_y in range(30):\n",
    "            for i_frame in range(m_els.shape[0]):\n",
    "                s += m_els[i_frame, 10+i_x, 200+i_y]\n",
    "            s = 0\n",
    "    t1 = time()\n",
    "    print(f\"F order: {t1-t0}\")\n",
    "\n",
    "    t0C = time()\n",
    "    s = 0\n",
    "    for i_x in range(30):\n",
    "        for i_y in range(30):\n",
    "            for i_frame in range(m_els_C.shape[0]):\n",
    "                s += m_els_C[i_frame, 10+i_x, 200+i_y]\n",
    "            s = 0\n",
    "    t1C = time()\n",
    "\n",
    "    print(f\"C order: {t1C-t0C}\")\n",
    "    \n",
    "    print(\"XY-major approach\")\n",
    "    t0 = time()\n",
    "    s = 0\n",
    "    print(\"TXY\")\n",
    "    for i_frame in range(m_els.shape[0]):\n",
    "        for i_x in range(30):\n",
    "            for i_y in range(30):\n",
    "                s += m_els[i_frame, 10+i_x, 200+i_y]\n",
    "        s = 0\n",
    "    t1 = time()\n",
    "    print(f\"F order: {t1-t0}\")\n",
    "\n",
    "    t0C = time()\n",
    "    s = 0\n",
    "    for i_frame in range(m_els_C.shape[0]):\n",
    "        for i_x in range(30):\n",
    "            for i_y in range(30):\n",
    "                s += m_els_C[i_frame, 10+i_x, 200+i_y]\n",
    "        s = 0\n",
    "    t1C = time()\n",
    "    print(f\"C order: {t1C-t0C}\")\n",
    "    print(\"TYX\")\n",
    "    t0 = time()\n",
    "    s = 0\n",
    "    for i_frame in range(m_els.shape[0]):\n",
    "        for i_y in range(30):\n",
    "            for i_x in range(30):\n",
    "                s += m_els[i_frame, 10+i_x, 200+i_y]\n",
    "        s = 0\n",
    "    t1 = time()\n",
    "    print(f\"F order: {t1-t0}\")\n",
    "\n",
    "    t0C = time()\n",
    "    s = 0\n",
    "    for i_frame in range(m_els_C.shape[0]):\n",
    "        for i_y in range(30):\n",
    "            for i_x in range(30):\n",
    "                s += m_els_C[i_frame, 10+i_x, 200+i_y]\n",
    "        s = 0\n",
    "    t1C = time()\n",
    "    print(f\"C order: {t1C-t0C}\")"
   ]
  },
  {
   "cell_type": "code",
   "execution_count": null,
   "id": "600a1f06",
   "metadata": {},
   "outputs": [],
   "source": [
    "# pixel-first method\n",
    "\n",
    "# extract whole trace per frame:\n",
    "# calculate for each neuron sum(pixels of neuron) {pixel weight}*{pixel temporal value}\n",
    "for i_neuron in range(n_neurons):\n",
    "    print(i_neuron)\n",
    "    neuron_mask = spatial[:,i_neuron].reshape((512,512)).transpose()  # do not confuse with elon musk\n",
    "    pixels_x, pixels_y = scipy.sparse.csc_matrix(neuron_mask).nonzero()\n",
    "    for pix_x, pix_y in zip(pixels_x, pixels_y):\n",
    "        for i_frame in range(m_els.shape[0]):\n",
    "            pixel_signal = neuron_mask[pix_x, pix_y]*m_els[i_frame, pix_x, pix_y]\n",
    "            traces_whole[i_neuron, i_frame] += pixel_signal / neuron_weight[i_neuron]\n",
    "            neuron_signal_whole[i_neuron, i_frame] += pixel_signal"
   ]
  },
  {
   "cell_type": "markdown",
   "id": "30690ea6",
   "metadata": {},
   "source": [
    "# Attempt at parallelizing the trace extraction algorithm"
   ]
  },
  {
   "cell_type": "code",
   "execution_count": 23,
   "id": "9ee878ee",
   "metadata": {},
   "outputs": [],
   "source": [
    "moco_data = np.asarray(m_els.data)"
   ]
  },
  {
   "cell_type": "code",
   "execution_count": 26,
   "id": "c82104c3",
   "metadata": {},
   "outputs": [
    {
     "data": {
      "text/plain": [
       "(17978, 512, 512)"
      ]
     },
     "execution_count": 26,
     "metadata": {},
     "output_type": "execute_result"
    }
   ],
   "source": [
    "moco_data.shape"
   ]
  },
  {
   "cell_type": "code",
   "execution_count": 45,
   "id": "7dbd2ae3",
   "metadata": {},
   "outputs": [
    {
     "data": {
      "text/plain": [
       "(262144, 1166)"
      ]
     },
     "execution_count": 45,
     "metadata": {},
     "output_type": "execute_result"
    }
   ],
   "source": [
    "spatial.shape"
   ]
  },
  {
   "cell_type": "code",
   "execution_count": 53,
   "id": "cbe66c8b",
   "metadata": {},
   "outputs": [],
   "source": [
    "spatial = np.array(spatial)"
   ]
  },
  {
   "cell_type": "code",
   "execution_count": 57,
   "id": "bb064264",
   "metadata": {},
   "outputs": [],
   "source": [
    "spatial = np.reshape(spatial, (512, 512, 1166))"
   ]
  },
  {
   "cell_type": "code",
   "execution_count": 91,
   "id": "2ff99ba4",
   "metadata": {},
   "outputs": [
    {
     "data": {
      "text/plain": [
       "(512, 512, 1166)"
      ]
     },
     "execution_count": 91,
     "metadata": {},
     "output_type": "execute_result"
    }
   ],
   "source": [
    "spatial.shape"
   ]
  },
  {
   "cell_type": "code",
   "execution_count": 92,
   "id": "9912ec52",
   "metadata": {},
   "outputs": [],
   "source": [
    "spatial = np.transpose(spatial, axes=[1,0,2])"
   ]
  },
  {
   "cell_type": "code",
   "execution_count": 93,
   "id": "ba3d3918",
   "metadata": {},
   "outputs": [
    {
     "data": {
      "text/plain": [
       "(512, 512, 1166)"
      ]
     },
     "execution_count": 93,
     "metadata": {},
     "output_type": "execute_result"
    }
   ],
   "source": [
    "spatial.shape"
   ]
  },
  {
   "cell_type": "code",
   "execution_count": 96,
   "id": "16270885",
   "metadata": {},
   "outputs": [
    {
     "data": {
      "image/png": "[encoded data removed]",
      "text/plain": [
       "<Figure size 1296x1296 with 1 Axes>"
      ]
     },
     "metadata": {
      "needs_background": "light"
     },
     "output_type": "display_data"
    }
   ],
   "source": [
    "fig = plt.figure(figsize=(18,18));\n",
    "fig.suptitle(\"Reconstructed neuron; compare with nb_view_components() i+1 neuron\", fontsize=20);\n",
    "plt.imshow(spatial[:,:,222]);"
   ]
  },
  {
   "cell_type": "code",
   "execution_count": 31,
   "id": "8f973493",
   "metadata": {},
   "outputs": [],
   "source": [
    "i_neu = 222"
   ]
  },
  {
   "cell_type": "code",
   "execution_count": 97,
   "id": "e7ad16c5",
   "metadata": {},
   "outputs": [],
   "source": [
    "neu_mask = spatial[:,:,i_neu]\n",
    "pix_x, pix_y = scipy.sparse.csc_matrix(neu_mask).nonzero()"
   ]
  },
  {
   "cell_type": "code",
   "execution_count": 98,
   "id": "bb94bd57",
   "metadata": {},
   "outputs": [
    {
     "data": {
      "text/plain": [
       "(17978, 185)"
      ]
     },
     "execution_count": 98,
     "metadata": {},
     "output_type": "execute_result"
    }
   ],
   "source": [
    "moco_data[:, pix_x, pix_y].shape"
   ]
  },
  {
   "cell_type": "code",
   "execution_count": 46,
   "id": "a9c8ee51",
   "metadata": {},
   "outputs": [
    {
     "data": {
      "text/plain": [
       "matrix([[0., 0., 0., ..., 0., 0., 0.],\n",
       "        [0., 0., 0., ..., 0., 0., 0.],\n",
       "        [0., 0., 0., ..., 0., 0., 0.],\n",
       "        ...,\n",
       "        [0., 0., 0., ..., 0., 0., 0.],\n",
       "        [0., 0., 0., ..., 0., 0., 0.],\n",
       "        [0., 0., 0., ..., 0., 0., 0.]])"
      ]
     },
     "execution_count": 46,
     "metadata": {},
     "output_type": "execute_result"
    }
   ],
   "source": [
    "spatial[:,0].reshape((512,512))"
   ]
  },
  {
   "cell_type": "code",
   "execution_count": 37,
   "id": "9742c41e",
   "metadata": {},
   "outputs": [
    {
     "ename": "IndexError",
     "evalue": "too many indices for array: array is 2-dimensional, but 3 were indexed",
     "output_type": "error",
     "traceback": [
      "\u001b[1;31m---------------------------------------------------------------------------\u001b[0m",
      "\u001b[1;31mIndexError\u001b[0m                                Traceback (most recent call last)",
      "Input \u001b[1;32mIn [37]\u001b[0m, in \u001b[0;36m<module>\u001b[1;34m\u001b[0m\n\u001b[1;32m----> 1\u001b[0m \u001b[43mspatial\u001b[49m\u001b[43m[\u001b[49m\u001b[43mpix_x\u001b[49m\u001b[43m,\u001b[49m\u001b[43m \u001b[49m\u001b[43mpix_y\u001b[49m\u001b[43m,\u001b[49m\u001b[43m \u001b[49m\u001b[43mi_neu\u001b[49m\u001b[43m]\u001b[49m\n",
      "File \u001b[1;32m~\\anaconda3\\envs\\2p-py\\lib\\site-packages\\numpy\\matrixlib\\defmatrix.py:193\u001b[0m, in \u001b[0;36mmatrix.__getitem__\u001b[1;34m(self, index)\u001b[0m\n\u001b[0;32m    190\u001b[0m \u001b[38;5;28mself\u001b[39m\u001b[38;5;241m.\u001b[39m_getitem \u001b[38;5;241m=\u001b[39m \u001b[38;5;28;01mTrue\u001b[39;00m\n\u001b[0;32m    192\u001b[0m \u001b[38;5;28;01mtry\u001b[39;00m:\n\u001b[1;32m--> 193\u001b[0m     out \u001b[38;5;241m=\u001b[39m \u001b[43mN\u001b[49m\u001b[38;5;241;43m.\u001b[39;49m\u001b[43mndarray\u001b[49m\u001b[38;5;241;43m.\u001b[39;49m\u001b[38;5;21;43m__getitem__\u001b[39;49m\u001b[43m(\u001b[49m\u001b[38;5;28;43mself\u001b[39;49m\u001b[43m,\u001b[49m\u001b[43m \u001b[49m\u001b[43mindex\u001b[49m\u001b[43m)\u001b[49m\n\u001b[0;32m    194\u001b[0m \u001b[38;5;28;01mfinally\u001b[39;00m:\n\u001b[0;32m    195\u001b[0m     \u001b[38;5;28mself\u001b[39m\u001b[38;5;241m.\u001b[39m_getitem \u001b[38;5;241m=\u001b[39m \u001b[38;5;28;01mFalse\u001b[39;00m\n",
      "\u001b[1;31mIndexError\u001b[0m: too many indices for array: array is 2-dimensional, but 3 were indexed"
     ]
    }
   ],
   "source": [
    "spatial[pix_x, pix_y, i_neu]"
   ]
  },
  {
   "cell_type": "code",
   "execution_count": null,
   "id": "fe9fcd76",
   "metadata": {},
   "outputs": [],
   "source": [
    "n_frames_long"
   ]
  },
  {
   "cell_type": "code",
   "execution_count": 122,
   "id": "8a72d9dc",
   "metadata": {},
   "outputs": [],
   "source": [
    "b = np.array([[0, 1], [2, 3], [4, 5], [6, 7]])"
   ]
  },
  {
   "cell_type": "code",
   "execution_count": 124,
   "id": "39aec94c",
   "metadata": {},
   "outputs": [],
   "source": [
    "c = np.array([10, 100])"
   ]
  },
  {
   "cell_type": "code",
   "execution_count": 126,
   "id": "6ed5b1fc",
   "metadata": {},
   "outputs": [
    {
     "data": {
      "text/plain": [
       "array([[0, 1],\n",
       "       [2, 3],\n",
       "       [4, 5],\n",
       "       [6, 7]])"
      ]
     },
     "execution_count": 126,
     "metadata": {},
     "output_type": "execute_result"
    }
   ],
   "source": [
    "b"
   ]
  },
  {
   "cell_type": "code",
   "execution_count": 127,
   "id": "16481152",
   "metadata": {},
   "outputs": [
    {
     "data": {
      "text/plain": [
       "array([ 10, 100])"
      ]
     },
     "execution_count": 127,
     "metadata": {},
     "output_type": "execute_result"
    }
   ],
   "source": [
    "c"
   ]
  },
  {
   "cell_type": "code",
   "execution_count": 128,
   "id": "e106b4c2",
   "metadata": {},
   "outputs": [
    {
     "data": {
      "text/plain": [
       "(4, 2)"
      ]
     },
     "execution_count": 128,
     "metadata": {},
     "output_type": "execute_result"
    }
   ],
   "source": [
    "b.shape"
   ]
  },
  {
   "cell_type": "code",
   "execution_count": 129,
   "id": "28cd6694",
   "metadata": {},
   "outputs": [
    {
     "data": {
      "text/plain": [
       "(2,)"
      ]
     },
     "execution_count": 129,
     "metadata": {},
     "output_type": "execute_result"
    }
   ],
   "source": [
    "c.shape"
   ]
  },
  {
   "cell_type": "code",
   "execution_count": 125,
   "id": "265a6c98",
   "metadata": {},
   "outputs": [
    {
     "data": {
      "text/plain": [
       "array([[  0, 100],\n",
       "       [ 20, 300],\n",
       "       [ 40, 500],\n",
       "       [ 60, 700]])"
      ]
     },
     "execution_count": 125,
     "metadata": {},
     "output_type": "execute_result"
    }
   ],
   "source": [
    "b*c"
   ]
  },
  {
   "cell_type": "code",
   "execution_count": 132,
   "id": "b9a2400a",
   "metadata": {},
   "outputs": [
    {
     "data": {
      "text/plain": [
       "array([100, 320, 540, 760])"
      ]
     },
     "execution_count": 132,
     "metadata": {},
     "output_type": "execute_result"
    }
   ],
   "source": [
    "np.sum(b*c, axis=1)"
   ]
  },
  {
   "cell_type": "code",
   "execution_count": 117,
   "id": "dace1bfd",
   "metadata": {},
   "outputs": [
    {
     "data": {
      "text/plain": [
       "(185,)"
      ]
     },
     "execution_count": 117,
     "metadata": {},
     "output_type": "execute_result"
    }
   ],
   "source": [
    "spatial[pix_x, pix_y, i_neu].shape"
   ]
  },
  {
   "cell_type": "code",
   "execution_count": 116,
   "id": "cd674111",
   "metadata": {},
   "outputs": [
    {
     "data": {
      "text/plain": [
       "(17978, 185)"
      ]
     },
     "execution_count": 116,
     "metadata": {},
     "output_type": "execute_result"
    }
   ],
   "source": [
    "(moco_data[:, pix_x, pix_y]*spatial[pix_x, pix_y, i_neu]).shape"
   ]
  },
  {
   "cell_type": "code",
   "execution_count": 105,
   "id": "94f16713",
   "metadata": {},
   "outputs": [
    {
     "data": {
      "text/plain": [
       "(185,)"
      ]
     },
     "execution_count": 105,
     "metadata": {},
     "output_type": "execute_result"
    }
   ],
   "source": [
    "px.shape"
   ]
  },
  {
   "cell_type": "code",
   "execution_count": 158,
   "id": "93d27635",
   "metadata": {},
   "outputs": [
    {
     "data": {
      "text/plain": [
       "(17978,)"
      ]
     },
     "execution_count": 158,
     "metadata": {},
     "output_type": "execute_result"
    }
   ],
   "source": [
    "pix_x, pix_y = spatial[:,:,222].nonzero()\n",
    "np.sum(moco_data[:, pix_x, pix_y]*spatial[pix_x, pix_y, 222], axis=1).shape"
   ]
  },
  {
   "cell_type": "code",
   "execution_count": null,
   "id": "e9b54cf9",
   "metadata": {},
   "outputs": [],
   "source": [
    "for i_pix in range(len(pix_x)):\n",
    "    x = pix_x[]"
   ]
  },
  {
   "cell_type": "code",
   "execution_count": 179,
   "id": "59555852",
   "metadata": {},
   "outputs": [],
   "source": [
    "weights_par = np.sum(spatial, axis=(0,1))\n",
    "traces_par = np.zeros((n_neurons, n_frames_long), dtype=moco_data.dtype)"
   ]
  },
  {
   "cell_type": "markdown",
   "id": "fc37446e",
   "metadata": {},
   "source": [
    "# The algorithm below seems to work well, and fast! (JIT + parallelization)"
   ]
  },
  {
   "cell_type": "code",
   "execution_count": 184,
   "id": "8bef1745",
   "metadata": {},
   "outputs": [],
   "source": [
    "@njit(parallel=True)\n",
    "def extract_neuron_trace():  # neuron_xy = np.array[x0, x1, ..., xn; y0, y1, ..., yn], 2 rows, n columns\n",
    "    traces_par = np.zeros((n_neurons, n_frames_long), dtype=moco_data.dtype)    \n",
    "    for i_neuron in prange(n_neurons):\n",
    "        pixels_x, pixels_y = spatial[:,:,i_neuron].nonzero()\n",
    "        trace = np.zeros((n_frames_long,), dtype=moco_data.dtype)\n",
    "        for i_frame in range(n_frames_long):\n",
    "            trace_val = 0.\n",
    "            i_pix = 0\n",
    "            while i_pix < pixels_x.shape[0]:\n",
    "                trace_val = trace_val + spatial[pixels_x[i_pix], pixels_y[i_pix], i_neuron]*moco_data[i_frame, pixels_x[i_pix], pixels_y[i_pix]]\n",
    "                i_pix = i_pix + 1\n",
    "            traces_par[i_neuron, i_frame] = trace_val\n",
    "        #np.sum(moco_data[:, pixels_x, pixels_y]*spatial[pixels_x, pixels_y, i_neuron], axis=1)\n",
    "    return traces_par"
   ]
  },
  {
   "cell_type": "code",
   "execution_count": 195,
   "id": "39a378f6",
   "metadata": {},
   "outputs": [],
   "source": [
    "tr = extract_neuron_trace()\n"
   ]
  },
  {
   "cell_type": "code",
   "execution_count": 190,
   "id": "1252b3a6",
   "metadata": {},
   "outputs": [],
   "source": [
    "tr_norm = np.divide(tr, weights_par[:, None])"
   ]
  },
  {
   "cell_type": "code",
   "execution_count": 194,
   "id": "d74aadd1",
   "metadata": {},
   "outputs": [
    {
     "data": {
      "image/png": "[encoded data removed]",
      "text/plain": [
       "<Figure size 1296x1296 with 1 Axes>"
      ]
     },
     "metadata": {
      "needs_background": "light"
     },
     "output_type": "display_data"
    }
   ],
   "source": [
    "i_n = 222\n",
    "fig = plt.figure(figsize=(18,18))\n",
    "#plt.plot(tr[i_n, :])\n",
    "plt.plot(tr_norm[i_n,:])\n",
    "plt.plot(temporal[i_n])\n",
    "plt.show()"
   ]
  },
  {
   "cell_type": "markdown",
   "id": "169309f0",
   "metadata": {},
   "source": [
    "## Desperate attempt: try not to save moco, but try to access the data in the RAM somehow."
   ]
  },
  {
   "cell_type": "code",
   "execution_count": null,
   "id": "926aa180",
   "metadata": {},
   "outputs": [],
   "source": [
    "fnames"
   ]
  },
  {
   "cell_type": "code",
   "execution_count": null,
   "id": "935de3cf",
   "metadata": {},
   "outputs": [],
   "source": [
    "moco_imp = mc.apply_shifts_movie(fnames, save_memmap=False)"
   ]
  },
  {
   "cell_type": "code",
   "execution_count": null,
   "id": "4f695c55",
   "metadata": {},
   "outputs": [],
   "source": [
    "moco_data = np.asarray(moco_imp.data)"
   ]
  },
  {
   "cell_type": "code",
   "execution_count": null,
   "id": "e405acf9",
   "metadata": {},
   "outputs": [],
   "source": [
    "moco_data.shape"
   ]
  },
  {
   "cell_type": "code",
   "execution_count": null,
   "id": "a8218f9c",
   "metadata": {},
   "outputs": [],
   "source": [
    "neuron_signal_cut = np.zeros((n_neurons, n_frames_cut), dtype=m_els.dtype)  # same shape as temporal\n",
    "neuron_signal_whole = np.zeros((n_neurons, n_frames_long), dtype=m_els.dtype)"
   ]
  },
  {
   "cell_type": "code",
   "execution_count": null,
   "id": "f812fc89",
   "metadata": {
    "scrolled": true
   },
   "outputs": [],
   "source": [
    "# calculate for each neuron sum(pixels of neuron) {pixel weight}*{pixel temporal value}\n",
    "for i_neuron in range(n_neurons):\n",
    "    print(i_neuron)\n",
    "    neuron_mask = spatial[:,i_neuron].reshape((512,512)).transpose()  # do not confuse with elon musk\n",
    "    pixels_x, pixels_y = scipy.sparse.csc_matrix(neuron_mask).nonzero()\n",
    "    neuron_signal = 0  # the nominator\n",
    "    total_weight = 0  # the denominator\n",
    "    for pix_x, pix_y in zip(pixels_x, pixels_y):\n",
    "        for i_frame in range(moco_data.shape[0]):\n",
    "            neuron_signal_whole[i_neuron, i_frame] += neuron_mask[pix_x, pix_y]*moco_data[i_frame, pix_x, pix_y]"
   ]
  },
  {
   "cell_type": "code",
   "execution_count": null,
   "id": "8a141c8f",
   "metadata": {},
   "outputs": [],
   "source": [
    "# frame-first method\n",
    "\n",
    "# extract whole trace per frame:\n",
    "# calculate for each neuron sum(pixels of neuron) {pixel weight}*{pixel temporal value}\n",
    "for i_frame in range(moco_data.shape[0]):\n",
    "    print(i_frame)\n",
    "    for i_neuron in range(n_neurons):\n",
    "        neuron_mask = spatial[:,i_neuron].reshape((512,512)).transpose()  # do not confuse with elon musk\n",
    "        pixels_x, pixels_y = scipy.sparse.csc_matrix(neuron_mask).nonzero()\n",
    "        neuron_signal = 0  # the nominator\n",
    "        total_weight = 0  # the denominator\n",
    "        for pix_x, pix_y in zip(pixels_x, pixels_y):\n",
    "            neuron_signal += neuron_mask[pix_x, pix_y]*m_els[i_frame, pix_x, pix_y]  # add weight x trace of pixel to total\n",
    "        #traces_whole[i_neuron, i_frame] = neuron_signal / neuron_weight[i_neuron]\n",
    "        neuron_signal_whole[i_neuron, i_frame] = neuron_signal"
   ]
  },
  {
   "cell_type": "code",
   "execution_count": null,
   "id": "938e78b1",
   "metadata": {},
   "outputs": [],
   "source": [
    "from matplotlib import pyplot as plt"
   ]
  },
  {
   "cell_type": "code",
   "execution_count": null,
   "id": "01046ff6",
   "metadata": {},
   "outputs": [],
   "source": [
    "fig = plt.figure(figsize=(18,18))\n",
    "plt.plot(neuron_signal_whole[440,:], label=\"manual extraction\")\n",
    "plt.plot(temporal[440,:], label=\"cnmf\")\n",
    "plt.xlim((7500,12000))\n",
    "plt.legend(fontsize=20)\n",
    "plt.show()"
   ]
  },
  {
   "cell_type": "markdown",
   "id": "15a59bb6",
   "metadata": {},
   "source": [
    "# Show CNMF results"
   ]
  },
  {
   "cell_type": "code",
   "execution_count": null,
   "id": "1710ad8f",
   "metadata": {},
   "outputs": [],
   "source": [
    "#fig = plt.figure(figsize=(18,18))\n",
    "\n",
    "#plt.show()"
   ]
  },
  {
   "cell_type": "code",
   "execution_count": null,
   "id": "7ff6cd01",
   "metadata": {},
   "outputs": [],
   "source": [
    "# need C and \n",
    "cnmf.estimates.C"
   ]
  },
  {
   "cell_type": "code",
   "execution_count": null,
   "id": "19cb1d27",
   "metadata": {},
   "outputs": [],
   "source": [
    "covmat = np.cov(cnmf.estimates.C)\n",
    "corrmat = np.corrcoef(cnmf.estimates.C)"
   ]
  },
  {
   "cell_type": "code",
   "execution_count": null,
   "id": "89ca0141",
   "metadata": {},
   "outputs": [],
   "source": [
    "covmat"
   ]
  },
  {
   "cell_type": "code",
   "execution_count": null,
   "id": "8fd99705",
   "metadata": {},
   "outputs": [],
   "source": [
    "fig = plt.figure(figsize=(18,18))\n",
    "plt.imshow(corrmat, interpolation=\"none\")\n",
    "plt.show()"
   ]
  },
  {
   "cell_type": "code",
   "execution_count": null,
   "id": "83aee36d",
   "metadata": {},
   "outputs": [],
   "source": [
    "fig = plt.figure(figsize=(18,18))\n",
    "plt.imshow(corrmat[:50, :50], interpolation=\"none\")\n",
    "plt.show()"
   ]
  },
  {
   "cell_type": "markdown",
   "id": "91e40b25",
   "metadata": {},
   "source": [
    "# Visualise connections as graph\n",
    "https://stackoverflow.com/questions/60392714/nodes-clusters-on-weighted-graph-visualization\n",
    "https://stackoverflow.com/questions/43541376/how-to-draw-communities-with-networkx/43541777#43541777"
   ]
  },
  {
   "cell_type": "code",
   "execution_count": null,
   "id": "132c412f",
   "metadata": {},
   "outputs": [],
   "source": [
    "from pyvis.network import Network"
   ]
  },
  {
   "cell_type": "code",
   "execution_count": null,
   "id": "eb6dac82",
   "metadata": {},
   "outputs": [],
   "source": [
    "n_neurons = 50"
   ]
  },
  {
   "cell_type": "code",
   "execution_count": null,
   "id": "ba7005b4",
   "metadata": {},
   "outputs": [],
   "source": [
    "net = Network(height='750px', width='100%', bgcolor='#222222', font_color='white')\n",
    "net.force_atlas_2based()\n",
    "for i in range(n_neurons):\n",
    "    net.add_node(i)\n",
    "for i in range(n_neurons):\n",
    "    for j in range(i+1, n_neurons):\n",
    "        net.add_edge(i, j, weight=(covmat[i,j] + 1)/2)\n",
    "\n",
    "#net.toggle_physics(True)\n",
    "net.show(\"vis.html\")"
   ]
  },
  {
   "cell_type": "code",
   "execution_count": null,
   "id": "48577b0c",
   "metadata": {},
   "outputs": [],
   "source": []
  },
  {
   "cell_type": "code",
   "execution_count": null,
   "id": "b36e4f05",
   "metadata": {},
   "outputs": [],
   "source": [
    "import matplotlib.pyplot as plt\n",
    "import networkx as nx\n",
    "\n",
    "# installation easiest via pip:\n",
    "# pip install netgraph\n",
    "from netgraph import Graph\n",
    "\n",
    "# create a modular graph\n",
    "partition_sizes = [10, 20, 30, 40]\n",
    "g = nx.random_partition_graph(partition_sizes, 0.5, 0.1)\n",
    "\n",
    "# since we created the graph, we know the best partition:\n",
    "node_to_community = dict()\n",
    "node = 0\n",
    "for community_id, size in enumerate(partition_sizes):\n",
    "    for _ in range(size):\n",
    "        node_to_community[node] = community_id\n",
    "        node += 1\n",
    "\n",
    "# # alternatively, we can infer the best partition using Louvain:\n",
    "# from community import community_louvain\n",
    "# node_to_community = community_louvain.best_partition(g)\n",
    "\n",
    "community_to_color = {\n",
    "    0 : 'tab:blue',\n",
    "    1 : 'tab:orange',\n",
    "    2 : 'tab:green',\n",
    "    3 : 'tab:red',\n",
    "}\n",
    "node_color = {node: community_to_color[community_id] for node, community_id in node_to_community.items()}\n",
    "\n",
    "Graph(g,\n",
    "      node_color=node_color, node_edge_width=0, edge_alpha=0.1,\n",
    "      node_layout='community', node_layout_kwargs=dict(node_to_community=node_to_community),\n",
    "      edge_layout='bundled', edge_layout_kwargs=dict(k=2000),\n",
    ")\n",
    "\n",
    "plt.show()"
   ]
  },
  {
   "cell_type": "code",
   "execution_count": null,
   "id": "f25ed972",
   "metadata": {},
   "outputs": [],
   "source": [
    "# TODO: use igraph to plot graph? https://igraph.org/python/tutorial/latest/tutorial.html#layout-algorithms"
   ]
  },
  {
   "cell_type": "code",
   "execution_count": null,
   "id": "06f30f6e",
   "metadata": {},
   "outputs": [],
   "source": [
    "# TODO: get physical distance of neurons, too? Then we can plot distance-correlation as scatter plot."
   ]
  },
  {
   "cell_type": "code",
   "execution_count": null,
   "id": "20230c9c",
   "metadata": {},
   "outputs": [],
   "source": [
    " #TODO: useful links:\n",
    "    # https://stackoverflow.com/questions/3081066/what-techniques-exists-in-r-to-visualize-a-distance-matrix\n",
    "    # https://igraph.org/python/doc/tutorial/tutorial.html\n",
    "    # https://stats.stackexchange.com/questions/165194/using-correlation-as-distance-metric-for-hierarchical-clustering"
   ]
  },
  {
   "cell_type": "code",
   "execution_count": null,
   "id": "e24e250c",
   "metadata": {},
   "outputs": [],
   "source": [
    "mat = np.array([[0, 0, 0, 1, 0, 0], [0, 2, 0, 0, 3, 0], [0, 4, 0, 0, 0, 0], [0, 0, 0, 0, 0, 0], [0, 0, 0, 6, 7, 0]])"
   ]
  },
  {
   "cell_type": "code",
   "execution_count": null,
   "id": "5e246da3",
   "metadata": {},
   "outputs": [],
   "source": [
    "mat"
   ]
  },
  {
   "cell_type": "code",
   "execution_count": null,
   "id": "1e4bf930",
   "metadata": {},
   "outputs": [],
   "source": [
    "mat_sparse = scipy.sparse.csc_matrix(mat)"
   ]
  },
  {
   "cell_type": "code",
   "execution_count": null,
   "id": "025304b3",
   "metadata": {},
   "outputs": [],
   "source": [
    "mat_sparse.indices"
   ]
  },
  {
   "cell_type": "code",
   "execution_count": null,
   "id": "f27d4c58",
   "metadata": {},
   "outputs": [],
   "source": [
    "mat_sparse.indptr"
   ]
  },
  {
   "cell_type": "code",
   "execution_count": null,
   "id": "ddd35550",
   "metadata": {},
   "outputs": [],
   "source": [
    "mat_sparse.data"
   ]
  },
  {
   "cell_type": "code",
   "execution_count": null,
   "id": "06c28318",
   "metadata": {},
   "outputs": [],
   "source": [
    "cnmf.estimates.shifts"
   ]
  },
  {
   "cell_type": "code",
   "execution_count": null,
   "id": "e66c1b7a",
   "metadata": {},
   "outputs": [],
   "source": [
    "import h5py"
   ]
  },
  {
   "cell_type": "code",
   "execution_count": null,
   "id": "18b6558e",
   "metadata": {},
   "outputs": [],
   "source": [
    "neuron_weight.shape"
   ]
  },
  {
   "cell_type": "code",
   "execution_count": null,
   "id": "a9978d43",
   "metadata": {},
   "outputs": [],
   "source": [
    "with h5py.File(\"D:\\\\Interpolation_test\\\\Load_CNMF\\\\extracted_temporal.h5py\", 'w') as hf:\n",
    "    hf.create_dataset(\"neuron_signal_whole\", data=neuron_signal_whole)\n",
    "    hf.create_dataset(\"neuron_weight\", data=neuron_weight)\n",
    "    hf.create_dataset(\"x_shifts_els\", data=x_shifts_els)\n",
    "    hf.create_dataset(\"y_shifts_els\", data=y_shifts_els)"
   ]
  },
  {
   "cell_type": "code",
   "execution_count": null,
   "id": "f460ad00",
   "metadata": {},
   "outputs": [],
   "source": [
    "print(\"hi\")"
   ]
  },
  {
   "cell_type": "code",
   "execution_count": null,
   "id": "6c043660",
   "metadata": {},
   "outputs": [],
   "source": []
  }
 ],
 "metadata": {
  "kernelspec": {
   "display_name": "Python 3 (ipykernel)",
   "language": "python",
   "name": "python3"
  },
  "language_info": {
   "codemirror_mode": {
    "name": "ipython",
    "version": 3
   },
   "file_extension": ".py",
   "mimetype": "text/x-python",
   "name": "python",
   "nbconvert_exporter": "python",
   "pygments_lexer": "ipython3",
   "version": "3.8.12"
  }
 },
 "nbformat": 4,
 "nbformat_minor": 5
}
