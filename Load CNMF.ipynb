{
 "cells": [
  {
   "cell_type": "code",
   "execution_count": null,
   "id": "ed7331f6",
   "metadata": {},
   "outputs": [],
   "source": [
    "import caiman as cm\n",
    "import labrotation.file_handling as fh"
   ]
  },
  {
   "cell_type": "code",
   "execution_count": null,
   "id": "78327be6",
   "metadata": {},
   "outputs": [],
   "source": [
    "cnmf_path = fh.open_file(\"Open hdf5 caiman file\")"
   ]
  },
  {
   "cell_type": "code",
   "execution_count": null,
   "id": "adcc0579",
   "metadata": {},
   "outputs": [],
   "source": [
    "cnmf = cm.source_extraction.cnmf.cnmf.load_CNMF(cnmf_path)"
   ]
  },
  {
   "cell_type": "code",
   "execution_count": null,
   "id": "341513ab",
   "metadata": {},
   "outputs": [],
   "source": [
    "cnmf.estimates.nb_view_components(denoised_color=\"red\")"
   ]
  },
  {
   "cell_type": "code",
   "execution_count": null,
   "id": "1710ad8f",
   "metadata": {},
   "outputs": [],
   "source": []
  }
 ],
 "metadata": {
  "kernelspec": {
   "display_name": "Python 3 (ipykernel)",
   "language": "python",
   "name": "python3"
  },
  "language_info": {
   "codemirror_mode": {
    "name": "ipython",
    "version": 3
   },
   "file_extension": ".py",
   "mimetype": "text/x-python",
   "name": "python",
   "nbconvert_exporter": "python",
   "pygments_lexer": "ipython3",
   "version": "3.8.12"
  }
 },
 "nbformat": 4,
 "nbformat_minor": 5
}
