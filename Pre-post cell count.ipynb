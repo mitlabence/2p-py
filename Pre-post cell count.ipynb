{
 "cells": [
  {
   "cell_type": "code",
   "execution_count": null,
   "metadata": {},
   "outputs": [],
   "source": [
    "from IPython.core.getipython import get_ipython\n",
    "from matplotlib import pyplot as plt\n",
    "import sys\n",
    "import h5py\n",
    "import os\n",
    "import pandas as pd\n",
    "import seaborn as sns\n",
    "sys.path.append(\"..\")\n",
    "import json\n",
    "import matplotlib.patches as mpatches\n",
    "try:\n",
    "    if __IPYTHON__:\n",
    "        get_ipython().run_line_magic('load_ext', 'autoreload')\n",
    "        get_ipython().run_line_magic('autoreload', '2')\n",
    "except NameError:\n",
    "    pass\n",
    "import datadoc_util\n",
    "from labrotation import file_handling as fh\n",
    "sns.set(font_scale=3)\n",
    "sns.set_style(\"whitegrid\")"
   ]
  },
  {
   "cell_type": "code",
   "execution_count": null,
   "metadata": {},
   "outputs": [],
   "source": [
    "env_dict = dict()\n",
    "if not os.path.exists(\"./.env\"):\n",
    "    print(\".env does not exist\")\n",
    "else:\n",
    "    with open(\"./.env\", \"r\") as f:\n",
    "        for line in f.readlines():\n",
    "            l = line.rstrip().split(\"=\")\n",
    "            env_dict[l[0]] = l[1]\n",
    "print(env_dict.keys())"
   ]
  },
  {
   "cell_type": "code",
   "execution_count": null,
   "metadata": {},
   "outputs": [],
   "source": [
    "output_folder = env_dict[\"DOWNLOADS_FOLDER\"]\n",
    "print(f\"Output files will be saved to {output_folder}\")"
   ]
  },
  {
   "cell_type": "code",
   "execution_count": null,
   "metadata": {},
   "outputs": [],
   "source": [
    "# assumption: inside the documentation folder, the subfolders carry the id of each mouse (not exact necessarily, but they \n",
    "# can be identified by the name of the subfolder). \n",
    "# Inside the subfolder xy (for mouse xy), xy_grouping.xlsx and xy_segmentation.xlsx can be found.\n",
    "# xy_grouping.xlsx serves the purpose of finding the recordings belonging together, and has columns:\n",
    "# folder, nd2, labview, lfp, face_cam_last, nikon_meta, experiment_type, day\n",
    "# xy_segmentation.xlsx contains frame-by-frame (given by a set of disjoint intervals forming a cover for the whole recording) \n",
    "# classification of the events in the recording (\"normal\", seizure (\"sz\"), sd wave (\"sd_wave\") etc.). The columns:\n",
    "# folder, interval_type, frame_begin, frame_end.\n",
    "\n",
    "# TODO: write documentation on contents of xlsx files (what the columns are etc.)\n",
    "if \"DATA_DOCU_FOLDER\" in env_dict.keys():\n",
    "    docu_folder = env_dict[\"DATA_DOCU_FOLDER\"]\n",
    "else:\n",
    "    docu_folder = fh.open_dir(\"Choose folder containing folders for each mouse!\")\n",
    "print(f\"Selected folder:\\n\\t{docu_folder}\")"
   ]
  },
  {
   "cell_type": "code",
   "execution_count": null,
   "metadata": {},
   "outputs": [],
   "source": [
    "ddoc = datadoc_util.DataDocumentation(docu_folder)\n",
    "ddoc.loadDataDoc()"
   ]
  },
  {
   "cell_type": "code",
   "execution_count": null,
   "metadata": {},
   "outputs": [],
   "source": [
    "fpath = fh.open_file(f\"Open json file containing all files to open\")"
   ]
  },
  {
   "cell_type": "code",
   "execution_count": null,
   "metadata": {},
   "outputs": [],
   "source": [
    "with open(fpath, \"r\") as f:\n",
    "    dict_fpaths = json.load(f)"
   ]
  },
  {
   "cell_type": "code",
   "execution_count": null,
   "metadata": {},
   "outputs": [],
   "source": [
    "ddoc.getColorForMouseId(\"WEZ-8924\")"
   ]
  },
  {
   "cell_type": "code",
   "execution_count": null,
   "metadata": {},
   "outputs": [],
   "source": [
    "dict_n_cells = dict()  # {mouse_id:  exp_type: {\"pre\": [n_cells for each recording], \"post\": [n_cells for each recording], \"uuid\": [corresponding uuids]}}}\n",
    "dict_mouse_colors = dict() # {mouse_id: color}\n",
    "\n",
    "for mouse_id in dict_fpaths:\n",
    "    dict_n_cells[mouse_id] = dict()\n",
    "    for exp_type in dict_fpaths[mouse_id]:\n",
    "        dict_n_cells[mouse_id][exp_type] = dict()\n",
    "        fpaths_pre = dict_fpaths[mouse_id][exp_type][\"pre\"]\n",
    "        fpaths_post = dict_fpaths[mouse_id][exp_type][\"post\"]\n",
    "        assert len(fpaths_pre) == len(fpaths_post)\n",
    "        n_cells_pre = []\n",
    "        n_cells_post = []\n",
    "        uuids = []\n",
    "        for i_recording in range(len(fpaths_pre)):\n",
    "            with h5py.File(fpaths_pre[i_recording], \"r\") as hf:\n",
    "                n_cells_pre.append(hf[\"estimates\"][\"A\"][\"shape\"][1])\n",
    "                uuids.append(hf.attrs[\"uuid\"])\n",
    "            with h5py.File(fpaths_post[i_recording], \"r\") as hf:\n",
    "                n_cells_post.append(hf[\"estimates\"][\"A\"][\"shape\"][1])\n",
    "        dict_n_cells[mouse_id][exp_type][\"pre\"] = n_cells_pre\n",
    "        dict_n_cells[mouse_id][exp_type][\"post\"] = n_cells_post\n",
    "        dict_n_cells[mouse_id][exp_type][\"uuid\"] = uuids\n",
    "        dict_mouse_colors[mouse_id] = ddoc.getColorForMouseId(mouse_id)\n",
    "\n"
   ]
  },
  {
   "cell_type": "code",
   "execution_count": null,
   "metadata": {},
   "outputs": [],
   "source": [
    "analysis_type = \"tmev\" if \"tmev\" in dict_n_cells[list(dict_n_cells.keys())[0]] else \"chr2\""
   ]
  },
  {
   "cell_type": "code",
   "execution_count": null,
   "metadata": {},
   "outputs": [],
   "source": [
    "fig = plt.figure(figsize=(6,6))\n",
    "\n",
    "dict_colors = {\"ctl\": \"green\", \"sd\": \"red\", \"szsd\": \"blue\", \"tmev\": \"orange\"}\n",
    "\n",
    "patch_sd = mpatches.Patch(color=dict_colors[\"sd\"], label='SD stimulation (488nm)')\n",
    "patch_szsd = mpatches.Patch(color=dict_colors[\"szsd\"], label='Sz+SD stimulation (488nm)')\n",
    "patch_ctl = mpatches.Patch(color=dict_colors[\"ctl\"], label='control (561nm)')\n",
    "patch_tmev = mpatches.Patch(color=dict_colors[\"tmev\"], label='TMEV')\n",
    "\n",
    "\n",
    "for i, mouse_id in enumerate(dict_n_cells):\n",
    "    for exp_type in dict_n_cells[mouse_id].keys():\n",
    "        color = dict_colors[exp_type]\n",
    "        n_cells_pre = dict_n_cells[mouse_id][exp_type][\"pre\"]\n",
    "        n_cells_post = dict_n_cells[mouse_id][exp_type][\"post\"]\n",
    "        for i_exp in range(len(n_cells_pre)):\n",
    "            plt.plot([\"pre\", \"post\"], [n_cells_pre[i_exp], n_cells_post[i_exp]], color=color)\n",
    "\n",
    "if analysis_type == \"tmev\":\n",
    "    plt.legend(handles=[patch_tmev], fontsize=12)\n",
    "else:\n",
    "    plt.legend(handles=[patch_sd, patch_szsd, patch_ctl], fontsize=12)\n",
    "plt.ylabel(\"# cells detected\")\n",
    "plt.tight_layout()\n",
    "plt.savefig(os.path.join(output_folder, f\"cell_count_pre_post_{analysis_type}.pdf\"))\n",
    "plt.show()"
   ]
  },
  {
   "cell_type": "code",
   "execution_count": null,
   "metadata": {},
   "outputs": [],
   "source": [
    "fig = plt.figure(figsize=(6,6))\n",
    "\n",
    "dict_colors = {\"ctl\": \"green\", \"sd\": \"red\", \"szsd\": \"blue\", \"tmev\": \"orange\"}\n",
    "\n",
    "patch_sd = mpatches.Patch(color=dict_colors[\"sd\"], label='SD stimulation (488nm)')\n",
    "patch_szsd = mpatches.Patch(color=dict_colors[\"szsd\"], label='Sz+SD stimulation (488nm)')\n",
    "patch_ctl = mpatches.Patch(color=dict_colors[\"ctl\"], label='control (561nm)')\n",
    "patch_tmev = mpatches.Patch(color=dict_colors[\"tmev\"], label='TMEV')\n",
    "\n",
    "for i, mouse_id in enumerate(dict_n_cells):\n",
    "    for exp_type in dict_n_cells[mouse_id].keys():\n",
    "        color = dict_colors[exp_type]\n",
    "        n_cells_pre = dict_n_cells[mouse_id][exp_type][\"pre\"]\n",
    "        n_cells_post = dict_n_cells[mouse_id][exp_type][\"post\"]\n",
    "        for i_exp in range(len(n_cells_pre)):\n",
    "            plt.plot([\"pre\", \"post\"], [100.*n_cells_pre[i_exp]/n_cells_pre[i_exp], 100.*n_cells_post[i_exp]/n_cells_pre[i_exp]], color=color)\n",
    "\n",
    "if analysis_type == \"tmev\":\n",
    "    plt.legend(handles=[patch_tmev], fontsize=12)\n",
    "else:\n",
    "    plt.legend(handles=[patch_sd, patch_szsd, patch_ctl], fontsize=12)\n",
    "plt.ylabel(\"% of baseline cells detected\", fontsize=16)\n",
    "plt.tight_layout()\n",
    "plt.savefig(os.path.join(output_folder, f\"cell_count_pre_post_%_{analysis_type}.pdf\"))\n",
    "plt.show()"
   ]
  },
  {
   "cell_type": "code",
   "execution_count": null,
   "metadata": {},
   "outputs": [],
   "source": [
    "col_mouse = []  # mouse id\n",
    "col_exp_type = []  # szsd, sd, ctl\n",
    "col_uuid = []  # unique for recording\n",
    "col_cell_count_pre = []\n",
    "col_cell_count_post = []\n",
    "col_colors = []\n",
    "\n",
    "for i, mouse_id in enumerate(dict_n_cells):\n",
    "    for exp_type in dict_n_cells[mouse_id].keys():\n",
    "        color = dict_mouse_colors[mouse_id]\n",
    "        n_cells_pre = dict_n_cells[mouse_id][exp_type][\"pre\"]\n",
    "        n_cells_post = dict_n_cells[mouse_id][exp_type][\"post\"]\n",
    "        uuids = dict_n_cells[mouse_id][exp_type][\"uuid\"]\n",
    "        mouse_ids = [mouse_id]*len(n_cells_pre)\n",
    "        exp_types = [exp_type]*len(n_cells_pre)\n",
    "        colors = [color]*len(n_cells_pre)\n",
    "\n",
    "        col_mouse.extend(mouse_ids)\n",
    "        col_exp_type.extend(exp_types)\n",
    "        col_uuid.extend(uuids)\n",
    "        col_cell_count_pre.extend(n_cells_pre)\n",
    "        col_cell_count_post.extend(n_cells_post)\n",
    "        col_colors.extend(colors)\n",
    "\n",
    "df = pd.DataFrame({\"mouse_id\": col_mouse, \"exp_type\": col_exp_type, \"uuid\": col_uuid, \"cell_count_pre\": col_cell_count_pre, \"cell_count_post\": col_cell_count_post, \"color\": col_colors})\n",
    "df = df.sort_values(by=[\"mouse_id\", \"exp_type\", \"uuid\"])"
   ]
  },
  {
   "cell_type": "code",
   "execution_count": null,
   "metadata": {},
   "outputs": [],
   "source": [
    "df[\"post_pre_ratio\"] = df[\"cell_count_post\"]/df[\"cell_count_pre\"]"
   ]
  },
  {
   "cell_type": "code",
   "execution_count": null,
   "metadata": {},
   "outputs": [],
   "source": [
    "df.to_excel(os.path.join(output_folder, f\"cell_count_pre_post_{analysis_type}.xlsx\"), index=False)"
   ]
  },
  {
   "cell_type": "code",
   "execution_count": null,
   "metadata": {},
   "outputs": [],
   "source": [
    "\n",
    "fig = plt.figure(figsize=(10,10))\n",
    "sns.boxplot(x=\"exp_type\", y=\"post_pre_ratio\", hue=\"exp_type\", data=df, palette=dict_colors)\n",
    "plt.ylabel(\"post/pre count ratio\")\n",
    "plt.xlabel(\"experiment type\")\n",
    "plt.tight_layout()\n",
    "plt.savefig(os.path.join(output_folder, f\"cell_count_pre_post_boxplot_{analysis_type}.pdf\"))\n",
    "plt.show()"
   ]
  },
  {
   "cell_type": "code",
   "execution_count": null,
   "metadata": {},
   "outputs": [],
   "source": []
  }
 ],
 "metadata": {
  "kernelspec": {
   "display_name": "placecoding",
   "language": "python",
   "name": "python3"
  },
  "language_info": {
   "codemirror_mode": {
    "name": "ipython",
    "version": 3
   },
   "file_extension": ".py",
   "mimetype": "text/x-python",
   "name": "python",
   "nbconvert_exporter": "python",
   "pygments_lexer": "ipython3",
   "version": "3.8.12"
  }
 },
 "nbformat": 4,
 "nbformat_minor": 2
}
