{
 "cells": [
  {
   "cell_type": "code",
   "execution_count": null,
   "id": "49bbf1ed",
   "metadata": {},
   "outputs": [],
   "source": [
    "import datadoc_util as ddutil\n",
    "import pims_nd2\n",
    "import os\n",
    "import json\n",
    "from datetime import datetime\n",
    "import matplotlib.pyplot as plt"
   ]
  },
  {
   "cell_type": "code",
   "execution_count": null,
   "id": "f4f00cd4",
   "metadata": {},
   "outputs": [],
   "source": [
    "env_dict = dict()\n",
    "if not os.path.exists(\"./.env\"):\n",
    "    print(\".env does not exist\")\n",
    "else:\n",
    "    with open(\"./.env\", \"r\") as f:\n",
    "        for line in f.readlines():\n",
    "            l = line.rstrip().split(\"=\")\n",
    "            env_dict[l[0]] = l[1]\n",
    "print(env_dict.keys())"
   ]
  },
  {
   "cell_type": "code",
   "execution_count": null,
   "id": "075f8183",
   "metadata": {},
   "outputs": [],
   "source": [
    "if \"DATA_DOCU_FOLDER\" in env_dict:  # try default location\n",
    "    data_docu_folder = env_dict[\"DATA_DOCU_FOLDER\"]\n",
    "else:\n",
    "    data_docu_folder = fh.open_dir(\"Open Data Documentation folder\")"
   ]
  },
  {
   "cell_type": "code",
   "execution_count": null,
   "id": "757fb630",
   "metadata": {},
   "outputs": [],
   "source": [
    "ddoc = ddutil.DataDocumentation(data_docu_folder)\n",
    "ddoc.loadDataDoc()"
   ]
  },
  {
   "cell_type": "code",
   "execution_count": null,
   "id": "9c2d1f5c",
   "metadata": {},
   "outputs": [],
   "source": [
    "if \"SERVER_SYMBOL\" in env_dict.keys():\n",
    "    ddoc.setDataDriveSymbol(env_dict[\"SERVER_SYMBOL\"])"
   ]
  },
  {
   "cell_type": "code",
   "execution_count": null,
   "id": "23f43e26",
   "metadata": {},
   "outputs": [],
   "source": [
    "ddoc.GROUPING_DF.experiment_type.unique()"
   ]
  },
  {
   "cell_type": "code",
   "execution_count": null,
   "id": "a50da5a5",
   "metadata": {},
   "outputs": [],
   "source": [
    "allowed_cats = [\"jrgeco_sd\", \"jrgeco_ctl\", \"tmev_bl\", \"tmev\", \"tmev_ctl\", \"chr2_sd\", \"chr2_lfpsz_sd\", \"chr2_szsd\"]"
   ]
  },
  {
   "cell_type": "code",
   "execution_count": null,
   "id": "a4cc5122",
   "metadata": {},
   "outputs": [],
   "source": [
    "dict_nik_meta = dict()  # uuid: {\"frame_rate\": float, \"n_frames\": int, \"t_begin\": float, \"t_end\": float, time_start_jdn: float, time_start_utc: datetime}"
   ]
  },
  {
   "cell_type": "code",
   "execution_count": null,
   "id": "3d05bcaa",
   "metadata": {},
   "outputs": [],
   "source": [
    "for i_row, row in ddoc.GROUPING_DF[ddoc.GROUPING_DF[\"experiment_type\"].isin(allowed_cats)].iterrows():\n",
    "    uuid = row[\"uuid\"]\n",
    "    if uuid in dict_nik_meta:\n",
    "        print(f\"skipping {uuid}\")\n",
    "        continue\n",
    "    fpath = os.path.join(row[\"folder\"], row[\"nd2\"])\n",
    "    if os.path.exists(fpath):\n",
    "        try:\n",
    "            nik = pims_nd2.ND2_Reader(fpath)\n",
    "            fr = nik.frame_rate\n",
    "            n_frames = nik.sizes[\"t\"]\n",
    "            t_begin = nik[0].metadata[\"t_ms\"]\n",
    "            t_end = nik[-1].metadata[\"t_ms\"]\n",
    "            time_start_jdn = nik.metadata[\"time_start_jdn\"]\n",
    "            time_start_utc = nik.metadata[\"time_start_utc\"]\n",
    "            nik.close()\n",
    "            dict_nik_meta[uuid] = {\"frame_rate\": fr, \"n_frames\": n_frames, \"t_begin\": t_begin, \"t_end\": t_end, \"time_start_jdn\": time_start_jdn, \"time_start_utc\": time_start_utc}\n",
    "        except Exception:\n",
    "            print(\"Never mind...\")"
   ]
  },
  {
   "cell_type": "code",
   "execution_count": null,
   "id": "8120ec17",
   "metadata": {},
   "outputs": [],
   "source": [
    "for uuid in dict_nik_meta:\n",
    "    dict_nik_meta[uuid][\"time_start_utc\"] = dict_nik_meta[uuid][\"time_start_utc\"].isoformat()"
   ]
  },
  {
   "cell_type": "code",
   "execution_count": null,
   "id": "06da9fc4",
   "metadata": {},
   "outputs": [],
   "source": [
    "with open(os.path.join(env_dict[\"DOWNLOADS_FOLDER\"], \"nik_metas.json\"), \"w\") as jf:\n",
    "    json.dump(dict_nik_meta, jf, indent=4)"
   ]
  },
  {
   "cell_type": "code",
   "execution_count": null,
   "id": "6a9d347c",
   "metadata": {},
   "outputs": [],
   "source": [
    "frs = [dict_nik_meta[uuid][\"frame_rate\"] for uuid in dict_nik_meta if dict_nik_meta[uuid][\"frame_rate\"] > 10]\n",
    "starttimes = [datetime.fromisoformat(dict_nik_meta[uuid][\"time_start_utc\"]) for uuid in dict_nik_meta if  dict_nik_meta[uuid][\"frame_rate\"] > 10]"
   ]
  },
  {
   "cell_type": "code",
   "execution_count": null,
   "id": "b25a8114",
   "metadata": {},
   "outputs": [],
   "source": [
    "[(uuid, dict_nik_meta[uuid][\"frame_rate\"]) for uuid in dict_nik_meta if dict_nik_meta[uuid][\"frame_rate\"] < 10]"
   ]
  },
  {
   "cell_type": "code",
   "execution_count": null,
   "id": "ddd419a0",
   "metadata": {},
   "outputs": [],
   "source": [
    "fig = plt.figure(figsize=(18, 12))\n",
    "plt.scatter(starttimes, frs)\n",
    "plt.ylabel(\"Imaging frequency (Hz)\")\n",
    "plt.show()"
   ]
  },
  {
   "cell_type": "code",
   "execution_count": null,
   "id": "c96b9c59",
   "metadata": {},
   "outputs": [],
   "source": []
  }
 ],
 "metadata": {
  "kernelspec": {
   "display_name": "Python 3 (ipykernel)",
   "language": "python",
   "name": "python3"
  },
  "language_info": {
   "codemirror_mode": {
    "name": "ipython",
    "version": 3
   },
   "file_extension": ".py",
   "mimetype": "text/x-python",
   "name": "python",
   "nbconvert_exporter": "python",
   "pygments_lexer": "ipython3",
   "version": "3.8.12"
  }
 },
 "nbformat": 4,
 "nbformat_minor": 5
}
