{
 "cells": [
  {
   "cell_type": "code",
   "execution_count": 5,
   "id": "2cddf2ec",
   "metadata": {},
   "outputs": [],
   "source": [
    "import datadoc_util as du\n",
    "import os.path\n",
    "import pandas as pd"
   ]
  },
  {
   "cell_type": "code",
   "execution_count": 3,
   "id": "9c446237",
   "metadata": {},
   "outputs": [],
   "source": [
    "ddoc = du.DataDocumentation()\n",
    "ddoc.loadDataDoc()"
   ]
  },
  {
   "cell_type": "markdown",
   "id": "54b65e52",
   "metadata": {},
   "source": [
    "# Create/update uuid-id pairing file"
   ]
  },
  {
   "cell_type": "code",
   "execution_count": 7,
   "id": "1ae321cc",
   "metadata": {},
   "outputs": [],
   "source": [
    "id_uuid_df = pd.DataFrame(columns=[\"id\", \"uuid\"])"
   ]
  },
  {
   "cell_type": "code",
   "execution_count": 11,
   "id": "ddb6b8d4",
   "metadata": {},
   "outputs": [
    {
     "name": "stdout",
     "output_type": "stream",
     "text": [
      "T301\n",
      "T303\n",
      "T324\n",
      "T329\n",
      "T333\n",
      "T337\n",
      "T370\n",
      "T386\n",
      "T391\n",
      "T396\n",
      "T452\n",
      "T534\n"
     ]
    }
   ],
   "source": [
    "for root, dirs, files in os.walk(ddoc.DATADOC_FOLDER):\n",
    "    for name in files:\n",
    "        if \"grouping\" in name:\n",
    "            \n",
    "            "
   ]
  },
  {
   "cell_type": "code",
   "execution_count": null,
   "id": "199d19f4",
   "metadata": {},
   "outputs": [],
   "source": []
  }
 ],
 "metadata": {
  "kernelspec": {
   "display_name": "Python 3 (ipykernel)",
   "language": "python",
   "name": "python3"
  },
  "language_info": {
   "codemirror_mode": {
    "name": "ipython",
    "version": 3
   },
   "file_extension": ".py",
   "mimetype": "text/x-python",
   "name": "python",
   "nbconvert_exporter": "python",
   "pygments_lexer": "ipython3",
   "version": "3.8.12"
  }
 },
 "nbformat": 4,
 "nbformat_minor": 5
}
