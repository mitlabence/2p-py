{
 "cells": [
  {
   "cell_type": "markdown",
   "id": "99ea0b7d",
   "metadata": {},
   "source": [
    "# Pure Python Pipeline\n",
    "Ripple noise removal, motion correction, trace deconvoloution and extraction in one notebook. This should replace demo_pipeline as the standard analysis notebook! "
   ]
  },
  {
   "cell_type": "markdown",
   "id": "47fa2fc9",
   "metadata": {},
   "source": [
    "## TODO list (from demo_pipeline)\n",
    "- Set file save location to local disk! Do not put junk on Raw Data (and also quicker locally)\n",
    "- Evaluating components: cnm2.estimates.evaluate_components(images, cnm2.params, dview=dview), the contents of model/ in CaImAn are used but looking for the model files in another directory (in my case, Users/Bence/caiman_data/model/)\n",
    "- Export h5 file should have date time in filename to avoid overwriting. Both raw data and final results!\n",
    "- Maybe working with numpy array in motion correction (movie.motion_correct) is not that bad? Although no parameters...\n",
    "- Plot frame before RNR and after RNR to set parameters... Interactive?\n",
    "- Read Tips on analysis: https://caiman.readthedocs.io/en/master/CaImAn_Tips.html#motion-correction-tips\n",
    "- RNR results in 4x size (uint16 to float64)! Need to clean up or use uint16 again.\n",
    "- Check 2-channel recordings. Might want to save red channel, too, for matching?\n",
    "- Save memmap files is inconsistent in naming (C order is memmap__d1_512_d2_512_d3_1_order_C_frames_577_ instead of T386_20211202_green_ex_els__d1_512_d2_512_d3_1_order_C_frames_577_)\n",
    "- Include nd2 to h5 here (from nd2 to multipage tiff test.ipynb)\n",
    "- way to manually reject/accept components\n",
    "- IMPORTANT: https://caiman.readthedocs.io/en/master/On_file_types_and_sizes.html caiman works best when files are 1-2 GB big! It means we might want to split them in small pieces, or make sure they are multi-page tiff files!"
   ]
  },
  {
   "cell_type": "markdown",
   "id": "fd663b68",
   "metadata": {},
   "source": [
    "## Import packages"
   ]
  },
  {
   "cell_type": "code",
   "execution_count": null,
   "id": "ace0a3ab",
   "metadata": {},
   "outputs": [],
   "source": [
    "#Auto-reload modules (used to develop functions outside this notebook)\n",
    "%load_ext autoreload\n",
    "%autoreload 2"
   ]
  },
  {
   "cell_type": "code",
   "execution_count": null,
   "id": "df788f76",
   "metadata": {},
   "outputs": [],
   "source": [
    "from RippleNoiseRemoval import RNR\n",
    "import labrotation.file_handling as fh\n",
    "import h5py\n",
    "from time import time\n",
    "\n",
    "import bokeh.plotting as bpl\n",
    "import cv2\n",
    "import glob\n",
    "import logging\n",
    "import matplotlib.pyplot as plt\n",
    "import numpy as np\n",
    "import os\n",
    "\n",
    "try:\n",
    "    cv2.setNumThreads(0)\n",
    "except():\n",
    "    pass\n",
    "\n",
    "import caiman as cm\n",
    "from caiman.motion_correction import MotionCorrect\n",
    "from caiman.source_extraction.cnmf import cnmf as cnmf\n",
    "from caiman.source_extraction.cnmf import params as params\n",
    "from caiman.utils.utils import download_demo\n",
    "from caiman.utils.visualization import plot_contours, nb_view_patches, nb_plot_contour\n",
    "bpl.output_notebook()"
   ]
  },
  {
   "cell_type": "markdown",
   "id": "e87dc936",
   "metadata": {},
   "source": [
    "## Set up logging (optional)"
   ]
  },
  {
   "cell_type": "code",
   "execution_count": null,
   "id": "2f1836eb",
   "metadata": {},
   "outputs": [],
   "source": [
    "logging.basicConfig(format=\n",
    "                          \"%(relativeCreated)12d [%(filename)s:%(funcName)20s():%(lineno)s] [%(process)d] %(message)s\",\n",
    "                    # filename=\"/tmp/caiman.log\",\n",
    "                    level=logging.WARNING)"
   ]
  },
  {
   "cell_type": "markdown",
   "id": "2add761f",
   "metadata": {},
   "source": [
    "## Set input and output files"
   ]
  },
  {
   "cell_type": "code",
   "execution_count": null,
   "id": "3dee969c",
   "metadata": {},
   "outputs": [],
   "source": [
    "nd2_fpath = fh.open_file(\"Select nd2 file\") #\"D:/PhD/Data/T386_MatlabTest/T386_20211202_green.nd2\"\n",
    "print(f\"Input file selected: {nd2_fpath}\")"
   ]
  },
  {
   "cell_type": "code",
   "execution_count": null,
   "id": "fbdd89f3",
   "metadata": {},
   "outputs": [],
   "source": [
    "# save in same folder as nd2 file\n",
    "export_hd5_fpath = nd2_fpath[:-4] + \"_exp.h5\"\n",
    "print(f\"Export file selected: {export_hd5_fpath}\")"
   ]
  },
  {
   "cell_type": "markdown",
   "id": "12f9af84",
   "metadata": {},
   "source": [
    "## Ripple Noise Removal"
   ]
  },
  {
   "cell_type": "code",
   "execution_count": null,
   "id": "9c992111",
   "metadata": {},
   "outputs": [],
   "source": [
    "win = 40\n",
    "amplitude_threshold = 10.8"
   ]
  },
  {
   "cell_type": "code",
   "execution_count": null,
   "id": "a13631d2",
   "metadata": {},
   "outputs": [],
   "source": [
    "rnr = RNR(win, amplitude_threshold) "
   ]
  },
  {
   "cell_type": "code",
   "execution_count": null,
   "id": "3bf57982",
   "metadata": {},
   "outputs": [],
   "source": [
    "t0_open = time()\n",
    "rnr.open_recording(nd2_fpath)\n",
    "print(f\"File opened in {time() - t0_open} s\")"
   ]
  },
  {
   "cell_type": "code",
   "execution_count": null,
   "id": "0d186c66",
   "metadata": {},
   "outputs": [],
   "source": [
    "t0_single = time()\n",
    "rnr_data = rnr.rnr_singlethread()\n",
    "t1_single = time()\n",
    "print(f\"RNR single thread finished in {t1_single - t0_single} s\")\n",
    "print(f\"Result is a {type(rnr_data)} with datatype {rnr_data.dtype}\")\n",
    "print(f\"Shape: {rnr_data.shape[0]} frames of {rnr_data.shape[1]}x{rnr_data.shape[2]} pixels\")"
   ]
  },
  {
   "cell_type": "markdown",
   "id": "98c54b85",
   "metadata": {},
   "source": [
    "### Export RNR movie to hd5 file.\n",
    "The reason to this otherwise unnecessary step is that motion correction cannot work from numpy array... Or at least the movie.motion_correct() does not have many options. See https://caiman.readthedocs.io/en/master/core_functions.html#movie-handling motion_correct"
   ]
  },
  {
   "cell_type": "code",
   "execution_count": null,
   "id": "d2118f05",
   "metadata": {},
   "outputs": [],
   "source": [
    "dataset_name = \"mov\"  # var_name_hdf5 in various functions refers to this name! Default is always mov.\n",
    "with h5py.File(export_hd5_fpath, 'w') as hf:\n",
    "    dataset = hf.create_dataset(dataset_name, shape=rnr_data.shape, dtype=np.float64)  # TODO: float64 is much larger file!\n",
    "    for i_frame in range(rnr_data.shape[0]):\n",
    "        dataset[i_frame] = rnr_data[i_frame]"
   ]
  },
  {
   "cell_type": "markdown",
   "id": "35566572",
   "metadata": {},
   "source": [
    "## Motion Correction"
   ]
  },
  {
   "cell_type": "code",
   "execution_count": null,
   "id": "6f6893d9",
   "metadata": {},
   "outputs": [],
   "source": [
    "fnames = [export_hd5_fpath]"
   ]
  },
  {
   "cell_type": "markdown",
   "id": "b9809c7f",
   "metadata": {},
   "source": [
    "### Optional: Play the movie"
   ]
  },
  {
   "cell_type": "code",
   "execution_count": null,
   "id": "17ae6a98",
   "metadata": {},
   "outputs": [],
   "source": [
    "display_movie = False\n",
    "if display_movie:\n",
    "    ds_ratio = 0.2\n",
    "    movie.resize(1, 1, ds_ratio).play(\n",
    "        q_max=99.5, fr=30, magnification=2)  # this should not change size of movie itself"
   ]
  },
  {
   "cell_type": "markdown",
   "id": "e11be371",
   "metadata": {},
   "source": [
    "### Setup some parameters\n",
    "We set some parameters that are relevant to the file, and then parameters for motion correction, processing with CNMF and component quality evaluation. Note that the dataset `Sue_2x_3000_40_-46.tif` has been spatially downsampled by a factor of 2 and has a lower than usual spatial resolution (2um/pixel). As a result several parameters (`gSig, strides, max_shifts, rf, stride_cnmf`) have lower values (halved compared to a dataset with spatial resolution 1um/pixel)."
   ]
  },
  {
   "cell_type": "code",
   "execution_count": null,
   "id": "b80c0f77",
   "metadata": {},
   "outputs": [],
   "source": [
    "# dataset dependent parameters\n",
    "fr = 15                             # imaging rate in frames per second\n",
    "decay_time = 0.4                    # length of a typical transient in seconds\n",
    "\n",
    "# motion correction parameters\n",
    "strides = (48, 48)          # start a new patch for pw-rigid motion correction every x pixels\n",
    "overlaps = (24, 24)         # overlap between pathes (size of patch strides+overlaps)\n",
    "max_shifts = (6,6)          # maximum allowed rigid shifts (in pixels)\n",
    "max_deviation_rigid = 3     # maximum shifts deviation allowed for patch with respect to rigid shifts\n",
    "pw_rigid = True             # flag for performing non-rigid motion correction\n",
    "\n",
    "# parameters for source extraction and deconvolution\n",
    "p = 1                       # order of the autoregressive system\n",
    "gnb = 2                     # number of global background components\n",
    "merge_thr = 0.85            # merging threshold, max correlation allowed\n",
    "rf = 15                     # half-size of the patches in pixels. e.g., if rf=25, patches are 50x50\n",
    "stride_cnmf = 6             # amount of overlap between the patches in pixels\n",
    "K = 4                       # number of components per patch\n",
    "gSig = [4, 4]               # expected half size of neurons in pixels\n",
    "method_init = 'greedy_roi'  # initialization method (if analyzing dendritic data using 'sparse_nmf')\n",
    "ssub = 1                    # spatial subsampling during initialization\n",
    "tsub = 1                    # temporal subsampling during intialization\n",
    "\n",
    "# parameters for component evaluation\n",
    "min_SNR = 2.0               # signal to noise ratio for accepting a component\n",
    "rval_thr = 0.85              # space correlation threshold for accepting a component\n",
    "cnn_thr = 0.99              # threshold for CNN based classifier\n",
    "cnn_lowest = 0.1 # neurons with cnn probability lower than this value are rejected"
   ]
  },
  {
   "cell_type": "markdown",
   "id": "7e18361e",
   "metadata": {},
   "source": [
    "### Create a parameters object\n",
    "You can creating a parameters object by passing all the parameters as a single dictionary. Parameters not defined in the dictionary will assume their default values. The resulting `params` object is a collection of subdictionaries pertaining to the dataset to be analyzed `(params.data)`, motion correction `(params.motion)`, data pre-processing `(params.preprocess)`, initialization `(params.init)`, patch processing `(params.patch)`, spatial and temporal component `(params.spatial), (params.temporal)`, quality evaluation `(params.quality)` and online processing `(params.online)`"
   ]
  },
  {
   "cell_type": "code",
   "execution_count": null,
   "id": "4ce0cae9",
   "metadata": {},
   "outputs": [],
   "source": [
    "opts_dict = {'fnames': fnames, \n",
    "            'fr': fr,\n",
    "            'decay_time': decay_time,\n",
    "            'strides': strides,\n",
    "            'overlaps': overlaps,\n",
    "            'max_shifts': max_shifts,\n",
    "            'max_deviation_rigid': max_deviation_rigid,\n",
    "            'pw_rigid': pw_rigid,\n",
    "            'p': p,\n",
    "            'nb': gnb,\n",
    "            'rf': rf,\n",
    "            'K': K, \n",
    "            'stride': stride_cnmf,\n",
    "            'method_init': method_init,\n",
    "            'rolling_sum': True,\n",
    "            'only_init': True,\n",
    "            'ssub': ssub,\n",
    "            'tsub': tsub,\n",
    "            'merge_thr': merge_thr, \n",
    "            'min_SNR': min_SNR,\n",
    "            'rval_thr': rval_thr,\n",
    "            'use_cnn': True,\n",
    "            'min_cnn_thr': cnn_thr,\n",
    "            'cnn_lowest': cnn_lowest,\n",
    "            'var_name_hdf5': 'data',}  # FIXME: does not work! Check where does this setting get lost?\n",
    "\n",
    "opts = params.CNMFParams(params_dict=opts_dict)"
   ]
  },
  {
   "cell_type": "markdown",
   "id": "f7deefe1",
   "metadata": {},
   "source": [
    "### Setup a cluster\n",
    "To enable parallel processing a (local) cluster needs to be set up. This is done with a cell below. The variable `backend` determines the type of cluster used. The default value `'local'` uses the multiprocessing package. The `ipyparallel` option is also available. More information on these choices can be found [here](https://github.com/flatironinstitute/CaImAn/blob/master/CLUSTER.md). The resulting variable `dview` expresses the cluster option. If you use `dview=dview` in the downstream analysis then parallel processing will be used. If you use `dview=None` then no parallel processing will be employed."
   ]
  },
  {
   "cell_type": "code",
   "execution_count": null,
   "id": "0d971b29",
   "metadata": {},
   "outputs": [],
   "source": [
    "#%% start a cluster for parallel processing (if a cluster already exists it will be closed and a new session will be opened)\n",
    "if 'dview' in locals():\n",
    "    cm.stop_server(dview=dview)\n",
    "c, dview, n_processes = cm.cluster.setup_cluster(\n",
    "    backend='local', n_processes=None, single_thread=False)"
   ]
  },
  {
   "cell_type": "code",
   "execution_count": null,
   "id": "fce27b48",
   "metadata": {},
   "outputs": [],
   "source": [
    "mc = MotionCorrect(fnames, dview=dview, **opts.get_group('motion'))"
   ]
  },
  {
   "cell_type": "code",
   "execution_count": null,
   "id": "c63bec8f",
   "metadata": {},
   "outputs": [],
   "source": [
    "# ALTERNATIVE to exporting h5 and importing it again!\n",
    "\"\"\"\n",
    "Args:\n",
    "            max_shift_w,max_shift_h: maximum pixel shifts allowed when correcting\n",
    "                                     in the width and height direction\n",
    "\n",
    "            template: if a good template for frame by frame correlation exists\n",
    "                      it can be passed. If None it is automatically computed\n",
    "\n",
    "            method: depends on what is installed 'opencv' or 'skimage'. 'skimage'\n",
    "                    is an order of magnitude slower\n",
    "\n",
    "            num_frames_template: if only a subset of the movies needs to be loaded\n",
    "                                 for efficiency/speed reasons\n",
    "                                 \n",
    "max_shift_w=5,\n",
    "max_shift_h=5,\n",
    "num_frames_template=None,\n",
    "template=None,\n",
    "method: str = 'opencv',\n",
    "remove_blanks: bool = False,\n",
    "interpolation: str = 'cubic'\n",
    "\"\"\"\n",
    "\n",
    "# movie.motion_correct()   # this might change movie itself! Alternative: extract_shifts, apply_shifts"
   ]
  },
  {
   "cell_type": "markdown",
   "id": "d25ab322",
   "metadata": {},
   "source": [
    "### Perform motion correction and save as C-order memmap\n",
    "The filename is mc.fname_tot_els"
   ]
  },
  {
   "cell_type": "code",
   "execution_count": null,
   "id": "41f48163",
   "metadata": {},
   "outputs": [],
   "source": [
    "#%%capture\n",
    "#%% Run piecewise-rigid motion correction using NoRMCorre\n",
    "mc.motion_correct(save_movie=True)\n",
    "m_els = cm.load(mc.fname_tot_els)\n",
    "border_to_0 = 0 if mc.border_nan is 'copy' else mc.border_to_0  # FIXME: gives warning, should use \"==\" with literals\n",
    "    # maximum shift to be used for trimming against NaNs"
   ]
  },
  {
   "cell_type": "markdown",
   "id": "ad72ba3f",
   "metadata": {},
   "source": [
    "### Optional: show comparison with original movie"
   ]
  },
  {
   "cell_type": "code",
   "execution_count": null,
   "id": "475845b6",
   "metadata": {},
   "outputs": [],
   "source": [
    "#%% compare with original movie\n",
    "display_movie = False  # TODO: does not seem to work. Create own function to show result?\n",
    "if display_movie:\n",
    "    m_orig = cm.load_movie_chain(fnames)\n",
    "    ds_ratio = 0.2\n",
    "    cm.concatenate([m_orig.resize(1, 1, ds_ratio) - mc.min_mov*mc.nonneg_movie,\n",
    "                    m_els.resize(1, 1, ds_ratio)], \n",
    "                   axis=2).play(fr=60, gain=15, magnification=2, offset=0)  # press q to exit"
   ]
  },
  {
   "cell_type": "markdown",
   "id": "46bebffe",
   "metadata": {},
   "source": [
    "### Save F-order memmap\n",
    "file path is fname_new"
   ]
  },
  {
   "cell_type": "code",
   "execution_count": null,
   "id": "20f25a0a",
   "metadata": {},
   "outputs": [],
   "source": [
    "#%% MEMORY MAPPING\n",
    "# memory map the file in order 'C'\n",
    "fname_new = cm.save_memmap(mc.mmap_file, base_name='memmap', order='C',\n",
    "                           border_to_0=border_to_0, dview=dview) # exclude borders\n",
    "\n",
    "# now load the file\n",
    "Yr, dims, T = cm.load_memmap(fname_new)\n",
    "images = np.reshape(Yr.T, [T] + list(dims), order='F') \n",
    "    #load frames in python format (T x X x Y)"
   ]
  },
  {
   "cell_type": "code",
   "execution_count": null,
   "id": "512badb2",
   "metadata": {},
   "outputs": [],
   "source": [
    "fname_new"
   ]
  },
  {
   "cell_type": "markdown",
   "id": "814c678e",
   "metadata": {},
   "source": [
    "### Clean up memory now"
   ]
  },
  {
   "cell_type": "code",
   "execution_count": null,
   "id": "434eceb4",
   "metadata": {},
   "outputs": [],
   "source": [
    "#%% restart cluster to clean up memory\n",
    "cm.stop_server(dview=dview)\n",
    "c, dview, n_processes = cm.cluster.setup_cluster(\n",
    "    backend='local', n_processes=None, single_thread=False)"
   ]
  },
  {
   "cell_type": "markdown",
   "id": "d5098551",
   "metadata": {},
   "source": [
    "### Run CNMF on patches in parallel"
   ]
  },
  {
   "cell_type": "code",
   "execution_count": null,
   "id": "4de1689d",
   "metadata": {},
   "outputs": [],
   "source": [
    "%%capture\n",
    "#%% RUN CNMF ON PATCHES\n",
    "# First extract spatial and temporal components on patches and combine them\n",
    "# for this step deconvolution is turned off (p=0). If you want to have\n",
    "# deconvolution within each patch change params.patch['p_patch'] to a\n",
    "# nonzero value\n",
    "cnm = cnmf.CNMF(n_processes, params=opts, dview=dview)\n",
    "cnm = cnm.fit(images)"
   ]
  },
  {
   "cell_type": "markdown",
   "id": "77f726f4",
   "metadata": {},
   "source": [
    "### Inspecting the results\n",
    "Briefly inspect the results by plotting contours of identified components against correlation image.\n",
    "The results of the algorithm are stored in the object `cnm.estimates`. More information can be found in the definition of the `estimates` object and in the [wiki](https://github.com/flatironinstitute/CaImAn/wiki/Interpreting-Results)."
   ]
  },
  {
   "cell_type": "code",
   "execution_count": null,
   "id": "b98e4df8",
   "metadata": {},
   "outputs": [],
   "source": [
    "#%% plot contours of found components\n",
    "Cn = cm.local_correlations(images.transpose(1,2,0))\n",
    "Cn[np.isnan(Cn)] = 0\n",
    "cnm.estimates.plot_contours_nb(img=Cn)"
   ]
  },
  {
   "cell_type": "markdown",
   "id": "2d1f92cc",
   "metadata": {},
   "source": [
    "## Re-run (seeded) CNMF  on the full Field of View  \n",
    "You can re-run the CNMF algorithm seeded on just the selected components from the previous step. Be careful, because components rejected on the previous step will not be recovered here."
   ]
  },
  {
   "cell_type": "code",
   "execution_count": null,
   "id": "589132f1",
   "metadata": {},
   "outputs": [],
   "source": [
    "%%capture\n",
    "#%% RE-RUN seeded CNMF on accepted patches to refine and perform deconvolution \n",
    "cnm2 = cnm.refit(images, dview=dview)"
   ]
  },
  {
   "cell_type": "markdown",
   "id": "2ffa170f",
   "metadata": {},
   "source": [
    "## Component Evaluation\n",
    "\n",
    "The processing in patches creates several spurious components. These are filtered out by evaluating each component using three different criteria:\n",
    "\n",
    "- the shape of each component must be correlated with the data at the corresponding location within the FOV\n",
    "- a minimum peak SNR is required over the length of a transient\n",
    "- each shape passes a CNN based classifier"
   ]
  },
  {
   "cell_type": "code",
   "execution_count": null,
   "id": "0a9c8132",
   "metadata": {},
   "outputs": [],
   "source": [
    "#%% COMPONENT EVALUATION\n",
    "# the components are evaluated in three ways:\n",
    "#   a) the shape of each component must be correlated with the data\n",
    "#   b) a minimum peak SNR is required over the length of a transient\n",
    "#   c) each shape passes a CNN based classifier\n",
    "\n",
    "cnm2.estimates.evaluate_components(images, cnm2.params, dview=dview)"
   ]
  },
  {
   "cell_type": "markdown",
   "id": "43a8ab3e",
   "metadata": {},
   "source": [
    "Plot contours of selected and rejected components"
   ]
  },
  {
   "cell_type": "code",
   "execution_count": null,
   "id": "f4cb6e51",
   "metadata": {},
   "outputs": [],
   "source": [
    "#%% PLOT COMPONENTS\n",
    "cnm2.estimates.plot_contours_nb(img=Cn, idx=cnm2.estimates.idx_components)"
   ]
  },
  {
   "cell_type": "markdown",
   "id": "22338682",
   "metadata": {},
   "source": [
    "View traces of accepted and rejected components. Note that if you get data rate error you can start Jupyter notebooks using:\n",
    "'jupyter notebook --NotebookApp.iopub_data_rate_limit=1.0e10'"
   ]
  },
  {
   "cell_type": "code",
   "execution_count": null,
   "id": "f39b2db6",
   "metadata": {},
   "outputs": [],
   "source": [
    "# accepted components\n",
    "cnm2.estimates.nb_view_components(img=Cn, idx=cnm2.estimates.idx_components)"
   ]
  },
  {
   "cell_type": "code",
   "execution_count": null,
   "id": "a7fd0ef1",
   "metadata": {},
   "outputs": [],
   "source": [
    "# rejected components\n",
    "if len(cnm2.estimates.idx_components_bad) > 0:\n",
    "    cnm2.estimates.nb_view_components(img=Cn, idx=cnm2.estimates.idx_components_bad)\n",
    "else:\n",
    "    print(\"No components were rejected.\")"
   ]
  },
  {
   "cell_type": "markdown",
   "id": "241d505d",
   "metadata": {},
   "source": [
    "### Extract DF/F values"
   ]
  },
  {
   "cell_type": "code",
   "execution_count": null,
   "id": "a4969205",
   "metadata": {},
   "outputs": [],
   "source": [
    "#%% Extract DF/F values\n",
    "cnm2.estimates.detrend_df_f(quantileMin=8, frames_window=250)"
   ]
  },
  {
   "cell_type": "markdown",
   "id": "d85965e4",
   "metadata": {},
   "source": [
    "### Select only high quality components"
   ]
  },
  {
   "cell_type": "code",
   "execution_count": null,
   "id": "b6ab9c47",
   "metadata": {},
   "outputs": [],
   "source": [
    "cnm2.estimates.select_components(use_object=True)"
   ]
  },
  {
   "cell_type": "markdown",
   "id": "cbe5363a",
   "metadata": {},
   "source": [
    "## Display final results"
   ]
  },
  {
   "cell_type": "code",
   "execution_count": null,
   "id": "13fade4d",
   "metadata": {},
   "outputs": [],
   "source": [
    "cnm2.estimates.nb_view_components(img=Cn, denoised_color='red')\n",
    "print('you may need to change the data rate to generate this one: use jupyter notebook --NotebookApp.iopub_data_rate_limit=1.0e10 before opening jupyter notebook')"
   ]
  },
  {
   "cell_type": "markdown",
   "id": "7031a099",
   "metadata": {},
   "source": [
    "## Closing, saving, and creating denoised version\n",
    "### You can save an hdf5 file with all the fields of the cnmf object"
   ]
  },
  {
   "cell_type": "code",
   "execution_count": null,
   "id": "1b763da7",
   "metadata": {},
   "outputs": [],
   "source": [
    "save_results = True\n",
    "if save_results:\n",
    "    cnm2.save(export_hd5_fpath[:-3]+\"_results.hdf5\")"
   ]
  },
  {
   "cell_type": "markdown",
   "id": "e2075472",
   "metadata": {},
   "source": [
    "### Stop cluster and clean up log files"
   ]
  },
  {
   "cell_type": "code",
   "execution_count": null,
   "id": "8d445936",
   "metadata": {},
   "outputs": [],
   "source": [
    "#%% STOP CLUSTER and clean up log files\n",
    "cm.stop_server(dview=dview)\n",
    "log_files = glob.glob('*_LOG_*')\n",
    "for log_file in log_files:\n",
    "    os.remove(log_file)"
   ]
  },
  {
   "cell_type": "markdown",
   "id": "52b46207",
   "metadata": {},
   "source": [
    "### View movie with the results\n",
    "We can inspect the denoised results by reconstructing the movie and playing alongside the original data and the resulting (amplified) residual movie"
   ]
  },
  {
   "cell_type": "code",
   "execution_count": null,
   "id": "224db7c7",
   "metadata": {},
   "outputs": [],
   "source": [
    "cnm2.estimates.play_movie(images, q_max=99.9, gain_res=2,\n",
    "                                  magnification=2,\n",
    "                                  bpx=border_to_0,\n",
    "                                  include_bck=False)"
   ]
  },
  {
   "cell_type": "markdown",
   "id": "d028f7eb",
   "metadata": {},
   "source": [
    "The denoised movie can also be explicitly constructed using:"
   ]
  },
  {
   "cell_type": "code",
   "execution_count": null,
   "id": "b99359cf",
   "metadata": {},
   "outputs": [],
   "source": [
    "#%% reconstruct denoised movie\n",
    "denoised = cm.movie(cnm2.estimates.A.dot(cnm2.estimates.C) + \\\n",
    "                    cnm2.estimates.b.dot(cnm2.estimates.f)).reshape(dims + (-1,), order='F').transpose([2, 0, 1])"
   ]
  },
  {
   "cell_type": "code",
   "execution_count": null,
   "id": "1b56a5e8",
   "metadata": {},
   "outputs": [],
   "source": []
  }
 ],
 "metadata": {
  "kernelspec": {
   "display_name": "Python 3 (ipykernel)",
   "language": "python",
   "name": "python3"
  },
  "language_info": {
   "codemirror_mode": {
    "name": "ipython",
    "version": 3
   },
   "file_extension": ".py",
   "mimetype": "text/x-python",
   "name": "python",
   "nbconvert_exporter": "python",
   "pygments_lexer": "ipython3",
   "version": "3.8.13"
  }
 },
 "nbformat": 4,
 "nbformat_minor": 5
}
