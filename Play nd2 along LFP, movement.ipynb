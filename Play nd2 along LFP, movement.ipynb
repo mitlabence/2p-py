{
 "cells": [
  {
   "cell_type": "code",
   "execution_count": null,
   "id": "6ada3403",
   "metadata": {},
   "outputs": [],
   "source": [
    "#Auto-reload modules (used to develop functions outside this notebook)\n",
    "%load_ext autoreload\n",
    "%autoreload 2"
   ]
  },
  {
   "cell_type": "code",
   "execution_count": null,
   "id": "7355f7e3",
   "metadata": {},
   "outputs": [],
   "source": [
    "from matplotlib import pyplot as plt"
   ]
  },
  {
   "cell_type": "code",
   "execution_count": null,
   "id": "09557328",
   "metadata": {},
   "outputs": [],
   "source": [
    "# import modules from 2p-py\n",
    "import labrotation.file_handling as file_handling\n",
    "#\n",
    "import labrotation.belt_processing as belt_processing"
   ]
  },
  {
   "cell_type": "code",
   "execution_count": null,
   "id": "aef6b956",
   "metadata": {},
   "outputs": [],
   "source": [
    "import labrotation.two_photon_session as two_photon_session"
   ]
  },
  {
   "cell_type": "code",
   "execution_count": null,
   "id": "07ef52e5",
   "metadata": {},
   "outputs": [],
   "source": [
    "matlab_2p_path = file_handling.open_dir(\"Choose matlab-2p folder!\")"
   ]
  },
  {
   "cell_type": "code",
   "execution_count": null,
   "id": "16fd1384",
   "metadata": {},
   "outputs": [],
   "source": [
    "nd2_path = file_handling.open_file(\"Choose Nikon imaging file (.nd2)!\")\n",
    "nd2_meta_path = file_handling.open_file(\"Choose Nikon metadata file (.txt)!\")\n",
    "labview_path = file_handling.open_file(\"Choose LabView file (xy.txt, NOT xytime.txt)!\")\n",
    "labview_timestamps_path = labview_path[:-4] + \"time.txt\"\n",
    "lfp_path = file_handling.open_file(\"Choose LFP file (.abf)!\")"
   ]
  },
  {
   "cell_type": "code",
   "execution_count": null,
   "id": "8893af63",
   "metadata": {},
   "outputs": [],
   "source": [
    "session = two_photon_session.TwoPhotonSession(nd2_path, nd2_meta_path, labview_path, labview_timestamps_path, lfp_path, matlab_2p_path)"
   ]
  },
  {
   "cell_type": "code",
   "execution_count": null,
   "id": "fa329b9b",
   "metadata": {},
   "outputs": [],
   "source": [
    "# for T333 d2: 7.540202 - 7.573002\n",
    "# for NC: idk\n",
    "session.shift_lfp(, match_type=\"zero\")  # use shift_lfp() to correct matching issues"
   ]
  },
  {
   "cell_type": "code",
   "execution_count": null,
   "id": "c6e904a3",
   "metadata": {},
   "outputs": [],
   "source": [
    "def plotWindowCompareMax(t_min, t_max):\n",
    "    \"\"\"\n",
    "    v2. Use this function to zoom in at bursts of movements, compare the max values \n",
    "    \"\"\"\n",
    "    fig, (ax1, ax2) = plt.subplots(2, 1, sharex=True, figsize=(18, 18))\n",
    "\n",
    "    # LFP first\n",
    "    lfp_mov_t, lfp_mov_v = session.lfp_movement()\n",
    "    # limit data to window\n",
    "    lfp_mov_t_win = lfp_mov_t[(lfp_mov_t >= t_min) & (lfp_mov_t <= t_max)]\n",
    "    lfp_mov_v_win = lfp_mov_v[lfp_mov_t_win.index]\n",
    "\n",
    "    # find maximum of lfp data in window\n",
    "    t_lfp_max = lfp_mov_t_win[lfp_mov_v_win.idxmax()]\n",
    "\n",
    "\n",
    "    # LabView second\n",
    "    lv_mov_t, lv_mov_v = session.labview_movement()\n",
    "\n",
    "    lv_mov_t_win = lv_mov_t[(lv_mov_t >= t_min) & (lv_mov_t <= t_max)]\n",
    "    lv_mov_v_win = lv_mov_v[lv_mov_t_win.index]\n",
    "\n",
    "    t_lv_max = lv_mov_t_win[lv_mov_v_win.idxmax()]\n",
    "    ax1.plot(lfp_mov_t_win, lfp_mov_v_win)\n",
    "    ax1.axvline(t_lfp_max, color=\"r\")\n",
    "    ax2.plot(lv_mov_t_win, lv_mov_v_win)\n",
    "    ax2.axvline(t_lv_max, color=\"r\")\n",
    "    ax2.set_xlim([t_min, t_max])\n",
    "\n",
    "    print(f\"LFP max: { t_lfp_max }\\nLV  max: {t_lv_max }\\nAdd {t_lv_max - t_lfp_max} to LFP\")\n",
    "    plt.show()"
   ]
  },
  {
   "cell_type": "code",
   "execution_count": null,
   "id": "f403f163",
   "metadata": {},
   "outputs": [],
   "source": [
    "#plotWindowCompareMax(770, 790)  # for T333 d2\n",
    "plotWindowCompareMax(80, 110) "
   ]
  },
  {
   "cell_type": "code",
   "execution_count": null,
   "id": "c72809a8",
   "metadata": {},
   "outputs": [],
   "source": [
    "#Nikon indices\n",
    "# for T333 d2:\n",
    "#frame_begin = 10050\n",
    "#frame_end = 12700\n",
    "# for nC:\n",
    "frame_begin = 0\n",
    "frame_end = 1094"
   ]
  },
  {
   "cell_type": "code",
   "execution_count": null,
   "id": "e7bb25f6",
   "metadata": {},
   "outputs": [],
   "source": [
    "lfp =  session.lfp_lfp()\n",
    "mov = session.lfp_movement()\n",
    "nik_t = session.nikon_daq_time\n",
    "nik_mean = session.return_nikon_mean()\n",
    "nik_movie = session.get_nikon_data(frame_begin, frame_end)"
   ]
  },
  {
   "cell_type": "code",
   "execution_count": null,
   "id": "445754e8",
   "metadata": {},
   "outputs": [],
   "source": [
    "#LabView indices\n",
    "t_0 = nik_t[frame_begin]\n",
    "t_1 = nik_t[frame_end]"
   ]
  },
  {
   "cell_type": "code",
   "execution_count": null,
   "id": "adb82a65",
   "metadata": {},
   "outputs": [],
   "source": [
    "fig, ax = plt.subplots(3, 1, figsize=(18,18), sharex = True)\n",
    "ax[0].plot(nik_t, nik_mean, color=\"lightgreen\")\n",
    "ax[1].plot(*lfp, color=\"black\")\n",
    "ax[2].plot(*mov, color=\"lightgrey\")\n",
    "plt.show()"
   ]
  },
  {
   "cell_type": "code",
   "execution_count": null,
   "id": "525e2dee",
   "metadata": {},
   "outputs": [],
   "source": [
    "import matplotlib\n",
    "FONT_SIZE = 20\n",
    "matplotlib.rc('font', size=FONT_SIZE)\n",
    "matplotlib.rc('axes', titlesize=FONT_SIZE)"
   ]
  },
  {
   "cell_type": "code",
   "execution_count": null,
   "id": "f6617bb3",
   "metadata": {},
   "outputs": [],
   "source": [
    "def plotFrame(i_frame):  # i_frame should run from frame_begin to frame_end (inclusive)\n",
    "    fig = plt.figure(figsize=(18,10))\n",
    "    ax1 = plt.subplot2grid((3, 5), (0, 0), colspan=2)  # Nikon frame mean\n",
    "    ax2 = plt.subplot2grid((3, 5), (1, 0), colspan=2)  # LFP\n",
    "    ax3 = plt.subplot2grid((3, 5), (2, 0), colspan=2)  # movement\n",
    "    ax4 = plt.subplot2grid((3, 5), (0, 2), colspan=3, rowspan = 3)  # Nikon video frame\n",
    "    \n",
    "    ax1.plot(nik_t, nik_mean, color=\"lightgreen\")\n",
    "    ax1.axvline(nik_t[frame_begin + i_frame], color=\"r\")\n",
    "    ax2.plot(*lfp, color=\"black\")\n",
    "    ax2.axvline(nik_t[frame_begin + i_frame], color=\"r\")\n",
    "    ax3.plot(*mov, color=\"lightgrey\")\n",
    "    ax3.axvline(nik_t[frame_begin + i_frame], color=\"r\")\n",
    "    \n",
    "    \n",
    "    ax4.pcolor(nik_movie[i_frame], cmap='gray')\n",
    "    ax4.set_aspect('equal')\n",
    "    ax4.invert_yaxis()  # for pcolor, need to flip y so that (0, 0) is top left, not bottom left.\n",
    "    ax4.axis('off')\n",
    "    \n",
    "    ax1.set_xlim((t_0, t_1))\n",
    "    ax2.set_xlim((t_0, t_1))\n",
    "    ax3.set_xlim((t_0, t_1))\n",
    "    \n",
    "    ax1.set_ylabel(\"Avg. intensity (a.u.)\")\n",
    "    ax2.set_ylabel(\"LFP (a.u.)\")\n",
    "    ax3.set_ylabel(\"Velocity (a.u.)\")\n",
    "    ax3.set_xlabel(\"time in recording (s)\", size=22)\n",
    "    \n",
    "    \n",
    "    plt.tight_layout()\n",
    "    print(i_frame)"
   ]
  },
  {
   "cell_type": "code",
   "execution_count": null,
   "id": "3b4d1d97",
   "metadata": {},
   "outputs": [],
   "source": [
    "plotFrame(200)"
   ]
  },
  {
   "cell_type": "markdown",
   "id": "b78bd2f4",
   "metadata": {},
   "source": [
    "# Try plotly"
   ]
  },
  {
   "cell_type": "code",
   "execution_count": null,
   "id": "579af08a",
   "metadata": {},
   "outputs": [],
   "source": [
    "import plotly.express as px\n",
    "import plotly.graph_objects as go"
   ]
  },
  {
   "cell_type": "code",
   "execution_count": null,
   "id": "fb662cb7",
   "metadata": {},
   "outputs": [],
   "source": [
    "fig = px.imshow(nik_movie[0], color_continuous_scale='gray')\n",
    "fig.update_layout(coloraxis_showscale=False)\n",
    "fig.update_xaxes(showticklabels=False)\n",
    "fig.update_yaxes(showticklabels=False)\n",
    "fig.show()"
   ]
  },
  {
   "cell_type": "code",
   "execution_count": null,
   "id": "ead718f1",
   "metadata": {},
   "outputs": [],
   "source": [
    "fig = px.imshow(nik_movie[0], color_continuous_scale='gray')\n",
    "fig.update_layout(coloraxis_showscale=False)\n",
    "fig.update_xaxes(showticklabels=False)\n",
    "fig.update_yaxes(showticklabels=False)\n",
    "fig.show()"
   ]
  },
  {
   "cell_type": "markdown",
   "id": "2fbf2adb",
   "metadata": {},
   "source": [
    "# Matplotlib animate"
   ]
  },
  {
   "cell_type": "code",
   "execution_count": null,
   "id": "ab360b07",
   "metadata": {},
   "outputs": [],
   "source": [
    "import matplotlib.animation as animation\n",
    "import numpy as np"
   ]
  },
  {
   "cell_type": "code",
   "execution_count": null,
   "id": "b203ca3d",
   "metadata": {},
   "outputs": [],
   "source": [
    "fig,axs = plt.subplots(3, figsize=(18, 18), sharex=True)\n",
    "\n",
    "\n",
    "axs[0].plot(nik_t, nik_mean, color=\"lightgreen\")\n",
    "axs[1].plot(*lfp, color=\"black\")\n",
    "axs[2].plot(*mov, color=\"lightgrey\")\n",
    "\n",
    "axs[0].set_ylabel(\"Avg. intensity (a.u.)\")\n",
    "axs[1].set_ylabel(\"LFP (a.u.)\")\n",
    "axs[2].set_ylabel(\"Velocity (a.u.)\")\n",
    "axs[2].set_xlabel(\"time in recording (s)\", size=22)\n",
    "\n",
    "\n",
    "vl0 = axs[0].axvline(0, ls='-', color='r', lw=1, zorder=10)\n",
    "vl1 = axs[1].axvline(0, ls='-', color='r', lw=1, zorder=10)\n",
    "vl2 = axs[2].axvline(0, ls='-', color='r', lw=1, zorder=10)\n",
    "\n",
    "\n",
    "for i_subplot in range(len(axs)):\n",
    "    axs[i_subplot].set_xlim(nik_t[frame_begin], nik_t[frame_end])\n",
    "\n",
    "\n",
    "def animate(i):\n",
    "    print(i)\n",
    "    vl0.set_xdata([nik_t[frame_begin + i],nik_t[frame_begin + i]])\n",
    "    vl1.set_xdata([nik_t[frame_begin + i],nik_t[frame_begin + i]])\n",
    "    vl2.set_xdata([nik_t[frame_begin + i],nik_t[frame_begin + i]])\n",
    "    return vl0, vl1, vl2\n",
    "\n",
    "def init():\n",
    "    vl0.set_xdata([nik_t[frame_begin],nik_t[frame_begin]])\n",
    "    vl1.set_xdata([nik_t[frame_begin],nik_t[frame_begin]])\n",
    "    vl2.set_xdata([nik_t[frame_begin],nik_t[frame_begin]])\n",
    "    return vl0, vl1, vl2\n",
    "\n",
    "ani = animation.FuncAnimation(fig, animate, frames=frame_end - frame_begin, init_func = init, interval=66.6667, blit=True)\n",
    "ani.save(\"testmov2.avi\")"
   ]
  }
 ],
 "metadata": {
  "kernelspec": {
   "display_name": "Python 3 (ipykernel)",
   "language": "python",
   "name": "python3"
  },
  "language_info": {
   "codemirror_mode": {
    "name": "ipython",
    "version": 3
   },
   "file_extension": ".py",
   "mimetype": "text/x-python",
   "name": "python",
   "nbconvert_exporter": "python",
   "pygments_lexer": "ipython3",
   "version": "3.8.12"
  }
 },
 "nbformat": 4,
 "nbformat_minor": 5
}
