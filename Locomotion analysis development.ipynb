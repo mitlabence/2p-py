{
 "cells": [
  {
   "cell_type": "code",
   "execution_count": 1,
   "id": "9b7c9abb",
   "metadata": {},
   "outputs": [],
   "source": [
    "#Auto-reload modules (used to develop functions outside this notebook)\n",
    "%load_ext autoreload\n",
    "%autoreload 2"
   ]
  },
  {
   "cell_type": "code",
   "execution_count": 2,
   "id": "49ab987d",
   "metadata": {},
   "outputs": [],
   "source": [
    "import labrotation.file_handling as fh\n",
    "import h5py\n",
    "from time import time\n",
    "import matplotlib.pyplot as plt\n",
    "import numpy as np\n",
    "import os\n",
    "from labrotation import file_handling as fh\n",
    "from copy import deepcopy\n",
    "import pandas as pd\n",
    "import labrotation.two_photon_session as tps"
   ]
  },
  {
   "cell_type": "code",
   "execution_count": 3,
   "id": "f4a7e228",
   "metadata": {},
   "outputs": [],
   "source": [
    "docu_folder = fh.open_dir(\"Choose folder containing folders for each mouse!\")"
   ]
  },
  {
   "cell_type": "code",
   "execution_count": 4,
   "id": "1e3cedc9",
   "metadata": {},
   "outputs": [],
   "source": [
    "mouse_folders = os.listdir(docu_folder)"
   ]
  },
  {
   "cell_type": "code",
   "execution_count": 5,
   "id": "5754d9e8",
   "metadata": {},
   "outputs": [],
   "source": [
    "matlab_2p_folder = fh.open_dir(\"Choose matlab-2p folder\")"
   ]
  },
  {
   "cell_type": "code",
   "execution_count": 6,
   "id": "c849b168",
   "metadata": {},
   "outputs": [
    {
     "name": "stdout",
     "output_type": "stream",
     "text": [
      "Sounds right\n"
     ]
    }
   ],
   "source": [
    "seg_fpath = os.path.join(docu_folder, mouse_folders[0], mouse_folders[0] + '_segmentation.xlsx')\n",
    "grouping_fpath = os.path.join(docu_folder, mouse_folders[0], mouse_folders[0] + '_grouping.xlsx')\n",
    "if os.path.exists(seg_fpath) and os.path.exists(grouping_fpath):\n",
    "    print(\"Sounds right\")\n",
    "else:\n",
    "    print(\"Check if you set the correct folder (folder containing all subfolders with mouse names)\")"
   ]
  },
  {
   "cell_type": "code",
   "execution_count": 7,
   "id": "0edbf737",
   "metadata": {},
   "outputs": [],
   "source": [
    "df_seg = pd.read_excel(seg_fpath)\n",
    "df_grouping = pd.read_excel(grouping_fpath)"
   ]
  },
  {
   "cell_type": "code",
   "execution_count": 8,
   "id": "ee27ca02",
   "metadata": {},
   "outputs": [],
   "source": [
    "segments_dict = dict()"
   ]
  },
  {
   "cell_type": "code",
   "execution_count": 9,
   "id": "19cf9ffe",
   "metadata": {},
   "outputs": [
    {
     "data": {
      "text/plain": [
       "array(['T301_base_d1.180820.1614.nd2', 'T301_base_d1.180820.1636.nd2',\n",
       "       'T301_baseline_d7.250820.1101.nd2', ...,\n",
       "       'T301_tmev_d2.280820.1255.nd2', 'T301_tmev_d2.280820.1335.nd2',\n",
       "       'T301_tmev_d2.280820.1439.nd2'], dtype=object)"
      ]
     },
     "execution_count": 9,
     "metadata": {},
     "output_type": "execute_result"
    }
   ],
   "source": [
    "df_seg[\"nd2\"].unique()"
   ]
  },
  {
   "cell_type": "code",
   "execution_count": 10,
   "id": "626ab9c9",
   "metadata": {},
   "outputs": [],
   "source": [
    "# select only tmev experiment data first\n",
    "df_grouping_tmev = df_grouping[df_grouping[\"experiment_type\"] == \"tmev\"]"
   ]
  },
  {
   "cell_type": "code",
   "execution_count": 11,
   "id": "c5b8a07e",
   "metadata": {},
   "outputs": [],
   "source": [
    "# take only recordings that were classified as \"tmev\" (experiment type)\n",
    "df_seg.where(df_seg[\"nd2\"].isin(df_grouping_tmev[\"nd2\"].unique()), inplace=True)\n",
    "# wrong experiment type recordings changed to NaN; drop them\n",
    "df_seg.dropna(inplace=True)"
   ]
  },
  {
   "cell_type": "code",
   "execution_count": 12,
   "id": "d71879cd",
   "metadata": {},
   "outputs": [],
   "source": [
    "# take only videos with seizure\n",
    "df_seg = df_seg.groupby(\"nd2\").filter(lambda group: \"sz\" in group[\"interval_type\"].unique())"
   ]
  },
  {
   "cell_type": "code",
   "execution_count": 13,
   "id": "0b79c4ed",
   "metadata": {},
   "outputs": [],
   "source": [
    "# change labels of segments that start the video until seizure as \"baseline\"\n",
    "df_seg.loc[(df_seg[\"interval_type\"] == \"normal\") & (df_seg[\"frame_begin\"] == 1.0), \"interval_type\"] = \"baseline\""
   ]
  },
  {
   "cell_type": "code",
   "execution_count": 14,
   "id": "ee371b7c",
   "metadata": {},
   "outputs": [
    {
     "data": {
      "text/html": [
       "<div>\n",
       "<style scoped>\n",
       "    .dataframe tbody tr th:only-of-type {\n",
       "        vertical-align: middle;\n",
       "    }\n",
       "\n",
       "    .dataframe tbody tr th {\n",
       "        vertical-align: top;\n",
       "    }\n",
       "\n",
       "    .dataframe thead th {\n",
       "        text-align: right;\n",
       "    }\n",
       "</style>\n",
       "<table border=\"1\" class=\"dataframe\">\n",
       "  <thead>\n",
       "    <tr style=\"text-align: right;\">\n",
       "      <th></th>\n",
       "      <th>nd2</th>\n",
       "      <th>interval_type</th>\n",
       "      <th>frame_begin</th>\n",
       "      <th>frame_end</th>\n",
       "    </tr>\n",
       "  </thead>\n",
       "  <tbody>\n",
       "    <tr>\n",
       "      <th>8</th>\n",
       "      <td>T301_tmev_d1.270820.1151.nd2</td>\n",
       "      <td>baseline</td>\n",
       "      <td>1.0</td>\n",
       "      <td>8672.0</td>\n",
       "    </tr>\n",
       "    <tr>\n",
       "      <th>9</th>\n",
       "      <td>T301_tmev_d1.270820.1151.nd2</td>\n",
       "      <td>sz</td>\n",
       "      <td>8673.0</td>\n",
       "      <td>9147.0</td>\n",
       "    </tr>\n",
       "    <tr>\n",
       "      <th>10</th>\n",
       "      <td>T301_tmev_d1.270820.1151.nd2</td>\n",
       "      <td>sd_wave</td>\n",
       "      <td>9148.0</td>\n",
       "      <td>9301.0</td>\n",
       "    </tr>\n",
       "    <tr>\n",
       "      <th>11</th>\n",
       "      <td>T301_tmev_d1.270820.1151.nd2</td>\n",
       "      <td>sd_extinction</td>\n",
       "      <td>9302.0</td>\n",
       "      <td>10307.0</td>\n",
       "    </tr>\n",
       "    <tr>\n",
       "      <th>12</th>\n",
       "      <td>T301_tmev_d1.270820.1151.nd2</td>\n",
       "      <td>normal</td>\n",
       "      <td>10308.0</td>\n",
       "      <td>16485.0</td>\n",
       "    </tr>\n",
       "    <tr>\n",
       "      <th>13</th>\n",
       "      <td>T301_tmev_d1.270820.1209.nd2</td>\n",
       "      <td>baseline</td>\n",
       "      <td>1.0</td>\n",
       "      <td>6844.0</td>\n",
       "    </tr>\n",
       "    <tr>\n",
       "      <th>14</th>\n",
       "      <td>T301_tmev_d1.270820.1209.nd2</td>\n",
       "      <td>sz</td>\n",
       "      <td>6845.0</td>\n",
       "      <td>7396.0</td>\n",
       "    </tr>\n",
       "    <tr>\n",
       "      <th>15</th>\n",
       "      <td>T301_tmev_d1.270820.1209.nd2</td>\n",
       "      <td>sd_wave</td>\n",
       "      <td>7397.0</td>\n",
       "      <td>7587.0</td>\n",
       "    </tr>\n",
       "    <tr>\n",
       "      <th>16</th>\n",
       "      <td>T301_tmev_d1.270820.1209.nd2</td>\n",
       "      <td>sd_extinction</td>\n",
       "      <td>7588.0</td>\n",
       "      <td>8670.0</td>\n",
       "    </tr>\n",
       "    <tr>\n",
       "      <th>17</th>\n",
       "      <td>T301_tmev_d1.270820.1209.nd2</td>\n",
       "      <td>normal</td>\n",
       "      <td>8671.0</td>\n",
       "      <td>16447.0</td>\n",
       "    </tr>\n",
       "    <tr>\n",
       "      <th>18</th>\n",
       "      <td>T301_tmev_d1.270820.1228.nd2</td>\n",
       "      <td>baseline</td>\n",
       "      <td>1.0</td>\n",
       "      <td>8600.0</td>\n",
       "    </tr>\n",
       "    <tr>\n",
       "      <th>19</th>\n",
       "      <td>T301_tmev_d1.270820.1228.nd2</td>\n",
       "      <td>sz</td>\n",
       "      <td>8601.0</td>\n",
       "      <td>9208.0</td>\n",
       "    </tr>\n",
       "    <tr>\n",
       "      <th>20</th>\n",
       "      <td>T301_tmev_d1.270820.1228.nd2</td>\n",
       "      <td>sd_wave</td>\n",
       "      <td>9209.0</td>\n",
       "      <td>9394.0</td>\n",
       "    </tr>\n",
       "    <tr>\n",
       "      <th>21</th>\n",
       "      <td>T301_tmev_d1.270820.1228.nd2</td>\n",
       "      <td>sd_extinction</td>\n",
       "      <td>9395.0</td>\n",
       "      <td>10508.0</td>\n",
       "    </tr>\n",
       "    <tr>\n",
       "      <th>22</th>\n",
       "      <td>T301_tmev_d1.270820.1228.nd2</td>\n",
       "      <td>normal</td>\n",
       "      <td>10509.0</td>\n",
       "      <td>14107.0</td>\n",
       "    </tr>\n",
       "  </tbody>\n",
       "</table>\n",
       "</div>"
      ],
      "text/plain": [
       "                             nd2  interval_type  frame_begin  frame_end\n",
       "8   T301_tmev_d1.270820.1151.nd2       baseline          1.0     8672.0\n",
       "9   T301_tmev_d1.270820.1151.nd2             sz       8673.0     9147.0\n",
       "10  T301_tmev_d1.270820.1151.nd2        sd_wave       9148.0     9301.0\n",
       "11  T301_tmev_d1.270820.1151.nd2  sd_extinction       9302.0    10307.0\n",
       "12  T301_tmev_d1.270820.1151.nd2         normal      10308.0    16485.0\n",
       "13  T301_tmev_d1.270820.1209.nd2       baseline          1.0     6844.0\n",
       "14  T301_tmev_d1.270820.1209.nd2             sz       6845.0     7396.0\n",
       "15  T301_tmev_d1.270820.1209.nd2        sd_wave       7397.0     7587.0\n",
       "16  T301_tmev_d1.270820.1209.nd2  sd_extinction       7588.0     8670.0\n",
       "17  T301_tmev_d1.270820.1209.nd2         normal       8671.0    16447.0\n",
       "18  T301_tmev_d1.270820.1228.nd2       baseline          1.0     8600.0\n",
       "19  T301_tmev_d1.270820.1228.nd2             sz       8601.0     9208.0\n",
       "20  T301_tmev_d1.270820.1228.nd2        sd_wave       9209.0     9394.0\n",
       "21  T301_tmev_d1.270820.1228.nd2  sd_extinction       9395.0    10508.0\n",
       "22  T301_tmev_d1.270820.1228.nd2         normal      10509.0    14107.0"
      ]
     },
     "execution_count": 14,
     "metadata": {},
     "output_type": "execute_result"
    }
   ],
   "source": [
    "df_seg"
   ]
  },
  {
   "cell_type": "code",
   "execution_count": 15,
   "id": "58085f16",
   "metadata": {},
   "outputs": [],
   "source": [
    "# 3. open 2psession for each nd2, do matching. Need nd2? or only nd2 meta + labview. Latter would be much quicker."
   ]
  },
  {
   "cell_type": "code",
   "execution_count": 16,
   "id": "e01cd015",
   "metadata": {},
   "outputs": [],
   "source": [
    "grouping_data = df_grouping_tmev[df_grouping_tmev[\"nd2\"] == df_seg.iloc[0][\"nd2\"]]\n",
    "labview_fpath = os.path.join(grouping_data[\"folder\"].iloc[0], grouping_data[\"labview\"].iloc[0])\n",
    "nikmeta_fpath = os.path.join(grouping_data[\"folder\"].iloc[0], grouping_data[\"nikon_meta\"].iloc[0])"
   ]
  },
  {
   "cell_type": "code",
   "execution_count": 17,
   "id": "e924351a",
   "metadata": {},
   "outputs": [],
   "source": [
    "ses = tps.TwoPhotonSession(nd2_timestamps_path=nikmeta_fpath, labview_path=labview_fpath, matlab_2p_folder=matlab_2p_folder)"
   ]
  },
  {
   "cell_type": "code",
   "execution_count": 18,
   "id": "78e704a2",
   "metadata": {},
   "outputs": [
    {
     "name": "stdout",
     "output_type": "stream",
     "text": [
      "Inferred labview timestamps file path:\n",
      "\tY:\\AG-Wenzel\\Group\\tmev\\T301\\T301_tmev_d1\\T301_tmev_d1.270820.1151time.txt\n"
     ]
    }
   ],
   "source": [
    "ses.infer_labview_timestamps()"
   ]
  },
  {
   "cell_type": "code",
   "execution_count": 19,
   "id": "09d0f710",
   "metadata": {},
   "outputs": [
    {
     "name": "stdout",
     "output_type": "stream",
     "text": [
      "Calling Matlab-2p beltProcessPipelineExpProps with arguments:\n",
      "\tY:\\AG-Wenzel\\Group\\tmev\\T301\\T301_tmev_d1\n",
      "\tT301_tmev_d1.270820.1151\n",
      "\tT301_tmev_d1.270820.1151_nik\n",
      "No conversion of belt_length_mm happened, as belt_params['belt_length_mm'] is type <class 'float'>\n"
     ]
    }
   ],
   "source": [
    "ses._open_data()  # TODO: implement a better way than using \"private\" function"
   ]
  },
  {
   "cell_type": "code",
   "execution_count": 20,
   "id": "b6b198dc",
   "metadata": {},
   "outputs": [],
   "source": [
    "ses_segments = df_seg[df_seg[\"nd2\"]==df_seg.iloc[0][\"nd2\"]]"
   ]
  },
  {
   "cell_type": "code",
   "execution_count": 21,
   "id": "4dda14d3",
   "metadata": {},
   "outputs": [
    {
     "data": {
      "image/png": "[encoded data removed]",
      "text/plain": [
       "<Figure size 1296x864 with 1 Axes>"
      ]
     },
     "metadata": {
      "needs_background": "light"
     },
     "output_type": "display_data"
    }
   ],
   "source": [
    "fig = plt.figure(figsize=(18,12))\n",
    "plt.plot(ses.belt_scn_dict[\"tsscn\"], ses.belt_scn_dict[\"speed\"])\n",
    "for interval in ses_segments[\"frame_end\"]:\n",
    "    plt.vlines(x=ses.belt_scn_dict[\"tsscn\"][int(interval)-1], ymin=0, ymax=0.8, color=\"red\")\n",
    "plt.show()"
   ]
  },
  {
   "cell_type": "code",
   "execution_count": 22,
   "id": "9b19e55e",
   "metadata": {},
   "outputs": [
    {
     "data": {
      "text/plain": [
       "dict_keys(['tsscn', 'rounds', 'speed', 'distance', 'totdist', 'running'])"
      ]
     },
     "execution_count": 22,
     "metadata": {},
     "output_type": "execute_result"
    }
   ],
   "source": [
    "ses.belt_scn_dict.keys()"
   ]
  },
  {
   "cell_type": "code",
   "execution_count": null,
   "id": "39a7ae76",
   "metadata": {},
   "outputs": [],
   "source": [
    "ses.belt_scn_dict[\"speed\"]"
   ]
  },
  {
   "cell_type": "code",
   "execution_count": null,
   "id": "25fac5a8",
   "metadata": {},
   "outputs": [],
   "source": [
    "# think about data to quantify (integrated velocity/distance per interval? divided by interval length)\n",
    "# maybe need nd2 to extract mean, check if zones correspond to imaging data"
   ]
  },
  {
   "cell_type": "code",
   "execution_count": null,
   "id": "73d58e76",
   "metadata": {},
   "outputs": [],
   "source": [
    "for index, row in ses_segments.iterrows():\n",
    "    t0 = int(row[\"frame_begin\"] - 1)  # correct 1-indexing to 0-indexing, convert to int\n",
    "    t1 = int(row[\"frame_end\"])  # list[a:b] returns elements a to (b-1), so no need to subtract here\n",
    "    if row[\"interval_type\"] not in segments_dict.keys():\n",
    "        segments_dict[row[\"interval_type\"]] = []\n",
    "    segments_dict[row[\"interval_type\"]].append(deepcopy(ses.belt_scn_dict[\"speed\"][t0:t1]))"
   ]
  },
  {
   "cell_type": "code",
   "execution_count": null,
   "id": "dde476ef",
   "metadata": {},
   "outputs": [],
   "source": []
  }
 ],
 "metadata": {
  "kernelspec": {
   "display_name": "Python 3 (ipykernel)",
   "language": "python",
   "name": "python3"
  },
  "language_info": {
   "codemirror_mode": {
    "name": "ipython",
    "version": 3
   },
   "file_extension": ".py",
   "mimetype": "text/x-python",
   "name": "python",
   "nbconvert_exporter": "python",
   "pygments_lexer": "ipython3",
   "version": "3.8.12"
  }
 },
 "nbformat": 4,
 "nbformat_minor": 5
}
