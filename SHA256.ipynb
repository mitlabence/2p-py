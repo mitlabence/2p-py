{
 "cells": [
  {
   "cell_type": "code",
   "execution_count": null,
   "id": "a691bb4a",
   "metadata": {},
   "outputs": [],
   "source": [
    "import labrotation.file_handling as fh\n",
    "import checksum"
   ]
  },
  {
   "cell_type": "markdown",
   "id": "baf8b236",
   "metadata": {},
   "source": [
    "# SHA256"
   ]
  },
  {
   "cell_type": "markdown",
   "id": "e2859fce",
   "metadata": {},
   "source": [
    "## Set filename"
   ]
  },
  {
   "cell_type": "code",
   "execution_count": null,
   "id": "c6527b99",
   "metadata": {},
   "outputs": [],
   "source": [
    "filename = fh.get_filename_with_date(\"sha256_results\")\n",
    "print(f\"File name will be '{filename}'\")"
   ]
  },
  {
   "cell_type": "code",
   "execution_count": null,
   "id": "2c7febaf",
   "metadata": {},
   "outputs": [],
   "source": [
    "output_filepath = fh.choose_dir_for_saving_file(\"Choose folder to save results\", filename)\n",
    "print(f\"File will be saved as '{output_filepath}'\")"
   ]
  },
  {
   "cell_type": "code",
   "execution_count": null,
   "id": "8caf2582",
   "metadata": {},
   "outputs": [],
   "source": [
    "input_directory = fh.open_dir(\"Choose directory to run SHA256 on\")\n",
    "print(f\"Getting SHA256 hash from all files in {input_directory}\")"
   ]
  },
  {
   "cell_type": "code",
   "execution_count": null,
   "id": "cca2616d",
   "metadata": {},
   "outputs": [],
   "source": [
    "checksum.sha256_dir_to_txt(input_directory, output_filepath)"
   ]
  },
  {
   "cell_type": "code",
   "execution_count": null,
   "id": "2c06a4bc",
   "metadata": {},
   "outputs": [],
   "source": []
  }
 ],
 "metadata": {
  "kernelspec": {
   "display_name": "Python 3 (ipykernel)",
   "language": "python",
   "name": "python3"
  },
  "language_info": {
   "codemirror_mode": {
    "name": "ipython",
    "version": 3
   },
   "file_extension": ".py",
   "mimetype": "text/x-python",
   "name": "python",
   "nbconvert_exporter": "python",
   "pygments_lexer": "ipython3",
   "version": "3.8.12"
  }
 },
 "nbformat": 4,
 "nbformat_minor": 5
}
