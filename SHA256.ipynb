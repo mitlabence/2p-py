{
 "cells": [
  {
   "cell_type": "code",
   "execution_count": 1,
   "id": "7891cfb9",
   "metadata": {},
   "outputs": [],
   "source": [
    "import labrotation.file_handling as fh\n",
    "import checksum"
   ]
  },
  {
   "cell_type": "code",
   "execution_count": 10,
   "id": "3529a88a",
   "metadata": {},
   "outputs": [
    {
     "name": "stdout",
     "output_type": "stream",
     "text": [
      "File name will be 'sha256_results_22-10-17_15-21-38.txt'\n"
     ]
    }
   ],
   "source": [
    "filename = fh.get_filename_with_date(\"sha256_results\")\n",
    "print(f\"File name will be '{filename}'\")"
   ]
  },
  {
   "cell_type": "code",
   "execution_count": 11,
   "id": "db46e6ff",
   "metadata": {},
   "outputs": [
    {
     "name": "stdout",
     "output_type": "stream",
     "text": [
      "File will be saved as 'D:\\Downloads\\sha256_results_22-10-17_15-21-38.txt'\n"
     ]
    }
   ],
   "source": [
    "output_filepath = fh.choose_dir_for_saving_file(\"Choose folder to save results\", filename)\n",
    "print(f\"File will be saved as '{output_filepath}'\")"
   ]
  },
  {
   "cell_type": "code",
   "execution_count": null,
   "id": "b7fee60c",
   "metadata": {},
   "outputs": [],
   "source": [
    "input_directory = fh.open_dir(\"Choose directory to run SHA256 on\")\n",
    "print(f\"Getting SHA256 hash from all files in {input_directory}\")"
   ]
  },
  {
   "cell_type": "code",
   "execution_count": 9,
   "id": "b93ca7ce",
   "metadata": {},
   "outputs": [
    {
     "ename": "KeyboardInterrupt",
     "evalue": "",
     "output_type": "error",
     "traceback": [
      "\u001b[1;31m---------------------------------------------------------------------------\u001b[0m",
      "\u001b[1;31mKeyboardInterrupt\u001b[0m                         Traceback (most recent call last)",
      "Input \u001b[1;32mIn [9]\u001b[0m, in \u001b[0;36m<module>\u001b[1;34m\u001b[0m\n\u001b[1;32m----> 1\u001b[0m \u001b[43mchecksum\u001b[49m\u001b[38;5;241;43m.\u001b[39;49m\u001b[43msha256_dir_to_txt\u001b[49m\u001b[43m(\u001b[49m\u001b[43minput_directory\u001b[49m\u001b[43m,\u001b[49m\u001b[43m \u001b[49m\u001b[43moutput_filepath\u001b[49m\u001b[43m)\u001b[49m\n",
      "File \u001b[1;32mD:\\PhD\\2p-py\\checksum.py:46\u001b[0m, in \u001b[0;36msha256_dir_to_txt\u001b[1;34m(directory, output_fpath)\u001b[0m\n\u001b[0;32m     41\u001b[0m \u001b[38;5;28;01mdef\u001b[39;00m \u001b[38;5;21msha256_dir_to_txt\u001b[39m(directory: \u001b[38;5;28mstr\u001b[39m, output_fpath: \u001b[38;5;28mstr\u001b[39m) \u001b[38;5;241m-\u001b[39m\u001b[38;5;241m>\u001b[39m \u001b[38;5;28;01mNone\u001b[39;00m:\n\u001b[0;32m     42\u001b[0m     \u001b[38;5;124;03m\"\"\"\u001b[39;00m\n\u001b[0;32m     43\u001b[0m \u001b[38;5;124;03m    Given directory path and output file path (including file name), save the results of sha256 hash of all files and\u001b[39;00m\n\u001b[0;32m     44\u001b[0m \u001b[38;5;124;03m    content of subfolders to a txt file determined in output_fpath\u001b[39;00m\n\u001b[0;32m     45\u001b[0m \u001b[38;5;124;03m    :param directory: the directory whose members will be the target of sha256 hash calculations.\u001b[39;00m\n\u001b[1;32m---> 46\u001b[0m \u001b[38;5;124;03m    :param output_fpath: the file path and file name of the resulting txt file (\".txt\" extension at the end optional)\u001b[39;00m\n\u001b[0;32m     47\u001b[0m \u001b[38;5;124;03m    :return: None\u001b[39;00m\n\u001b[0;32m     48\u001b[0m \u001b[38;5;124;03m    \"\"\"\u001b[39;00m\n\u001b[0;32m     49\u001b[0m     \u001b[38;5;28;01mif\u001b[39;00m output_fpath[\u001b[38;5;241m-\u001b[39m\u001b[38;5;241m4\u001b[39m:] \u001b[38;5;241m==\u001b[39m \u001b[38;5;124m\"\u001b[39m\u001b[38;5;124m.txt\u001b[39m\u001b[38;5;124m\"\u001b[39m:\n\u001b[0;32m     50\u001b[0m         output_file_path \u001b[38;5;241m=\u001b[39m output_fpath\n",
      "File \u001b[1;32mD:\\PhD\\2p-py\\checksum.py:30\u001b[0m, in \u001b[0;36msha256_of_all_in_dir\u001b[1;34m(directory)\u001b[0m\n\u001b[0;32m     28\u001b[0m \u001b[38;5;28;01mfor\u001b[39;00m root, dirs, files \u001b[38;5;129;01min\u001b[39;00m os\u001b[38;5;241m.\u001b[39mwalk(directory):\n\u001b[0;32m     29\u001b[0m     \u001b[38;5;28;01mfor\u001b[39;00m filename \u001b[38;5;129;01min\u001b[39;00m files:\n\u001b[1;32m---> 30\u001b[0m         n_files \u001b[38;5;241m+\u001b[39m\u001b[38;5;241m=\u001b[39m \u001b[38;5;241m1\u001b[39m\n\u001b[0;32m     31\u001b[0m \u001b[38;5;28mprint\u001b[39m(\u001b[38;5;124mf\u001b[39m\u001b[38;5;124m\"\u001b[39m\u001b[38;5;132;01m{\u001b[39;00mn_files\u001b[38;5;132;01m}\u001b[39;00m\u001b[38;5;124m files detected\u001b[39m\u001b[38;5;124m\"\u001b[39m)\n\u001b[0;32m     32\u001b[0m count \u001b[38;5;241m=\u001b[39m \u001b[38;5;241m0\u001b[39m\n",
      "File \u001b[1;32mD:\\PhD\\2p-py\\checksum.py:16\u001b[0m, in \u001b[0;36msha256_of_file\u001b[1;34m(fpath)\u001b[0m\n\u001b[0;32m     14\u001b[0m \u001b[38;5;28;01mwith\u001b[39;00m \u001b[38;5;28mopen\u001b[39m(fpath, \u001b[38;5;124m\"\u001b[39m\u001b[38;5;124mrb\u001b[39m\u001b[38;5;124m\"\u001b[39m) \u001b[38;5;28;01mas\u001b[39;00m f:\n\u001b[0;32m     15\u001b[0m     file_as_bytes \u001b[38;5;241m=\u001b[39m f\u001b[38;5;241m.\u001b[39mread()  \u001b[38;5;66;03m# read entire file as bytes\u001b[39;00m\n\u001b[1;32m---> 16\u001b[0m     hash_val \u001b[38;5;241m=\u001b[39m \u001b[43mhashlib\u001b[49m\u001b[38;5;241;43m.\u001b[39;49m\u001b[43msha256\u001b[49m\u001b[43m(\u001b[49m\u001b[43mfile_as_bytes\u001b[49m\u001b[43m)\u001b[49m\u001b[38;5;241m.\u001b[39mhexdigest()\n\u001b[0;32m     17\u001b[0m     \u001b[38;5;28;01mreturn\u001b[39;00m hash_val\n",
      "\u001b[1;31mKeyboardInterrupt\u001b[0m: "
     ]
    }
   ],
   "source": [
    "checksum.sha256_dir_to_txt(input_directory, output_filepath)"
   ]
  },
  {
   "cell_type": "code",
   "execution_count": null,
   "id": "e0ac0e45",
   "metadata": {},
   "outputs": [],
   "source": []
  }
 ],
 "metadata": {
  "kernelspec": {
   "display_name": "Python 3 (ipykernel)",
   "language": "python",
   "name": "python3"
  },
  "language_info": {
   "codemirror_mode": {
    "name": "ipython",
    "version": 3
   },
   "file_extension": ".py",
   "mimetype": "text/x-python",
   "name": "python",
   "nbconvert_exporter": "python",
   "pygments_lexer": "ipython3",
   "version": "3.8.12"
  }
 },
 "nbformat": 4,
 "nbformat_minor": 5
}
