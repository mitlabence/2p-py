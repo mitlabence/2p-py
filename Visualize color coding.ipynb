{
 "cells": [
  {
   "cell_type": "code",
   "execution_count": null,
   "id": "0cff3181",
   "metadata": {},
   "outputs": [],
   "source": [
    "import os\n",
    "import labrotation.file_handling as fh\n",
    "import datadoc_util\n",
    "import pandas as pd\n",
    "import matplotlib.pyplot as plt\n",
    "import matplotlib.patches as mpatches"
   ]
  },
  {
   "cell_type": "code",
   "execution_count": null,
   "id": "42106f4c",
   "metadata": {},
   "outputs": [],
   "source": [
    "env_dict = dict()\n",
    "if not os.path.exists(\"./.env\"):\n",
    "    print(\".env does not exist\")\n",
    "else:\n",
    "    with open(\"./.env\", \"r\") as f:\n",
    "        for line in f.readlines():\n",
    "            l = line.rstrip().split(\"=\")\n",
    "            env_dict[l[0]] = l[1]\n",
    "print(env_dict.keys())"
   ]
  },
  {
   "cell_type": "code",
   "execution_count": null,
   "id": "4bd93667",
   "metadata": {},
   "outputs": [],
   "source": [
    "if \"DATA_DOCU_FOLDER\" in env_dict.keys():\n",
    "    docu_folder = env_dict[\"DATA_DOCU_FOLDER\"]\n",
    "else:\n",
    "    docu_folder = fh.open_dir(\"Choose folder containing folders for each mouse!\")\n",
    "print(f\"Selected folder:\\n\\t{docu_folder}\")"
   ]
  },
  {
   "cell_type": "code",
   "execution_count": null,
   "id": "90372d88",
   "metadata": {},
   "outputs": [],
   "source": [
    "if \"documentation\" in os.listdir(docu_folder):\n",
    "    mouse_folder = os.path.join(docu_folder, \"documentation\")\n",
    "else:\n",
    "    mouse_folder = docu_folder\n",
    "mouse_names = os.listdir(mouse_folder)\n",
    "print(f\"Mice detected:\")\n",
    "for mouse in mouse_names:\n",
    "    print(f\"\\t{mouse}\")"
   ]
  },
  {
   "cell_type": "code",
   "execution_count": null,
   "id": "27fde5b1",
   "metadata": {},
   "outputs": [],
   "source": [
    "ddoc = datadoc_util.DataDocumentation(docu_folder)\n",
    "ddoc.loadDataDoc()"
   ]
  },
  {
   "cell_type": "code",
   "execution_count": null,
   "id": "dae935b4",
   "metadata": {},
   "outputs": [],
   "source": [
    "df_colors = ddoc.getColorings()"
   ]
  },
  {
   "cell_type": "code",
   "execution_count": null,
   "id": "5cf3d71a",
   "metadata": {},
   "outputs": [],
   "source": [
    "# filter by existing mice\n",
    "df_colors = df_colors[df_colors[\"mouse_id\"].isin(mouse_names)]"
   ]
  },
  {
   "cell_type": "code",
   "execution_count": null,
   "id": "ceb7b677",
   "metadata": {},
   "outputs": [],
   "source": [
    "df_colors[\"win_type\"] = df_colors.apply(lambda row: ddoc.getMouseWinInjInfo(row[\"mouse_id\"])[\"window_type\"].iloc[0], axis=1)"
   ]
  },
  {
   "cell_type": "code",
   "execution_count": null,
   "id": "5d99da59",
   "metadata": {},
   "outputs": [],
   "source": [
    "df_colors[\"inj_type\"] = df_colors.apply(lambda row: ddoc.getMouseWinInjInfo(row[\"mouse_id\"])[\"injection_type\"].iloc[0], axis=1)"
   ]
  },
  {
   "cell_type": "code",
   "execution_count": null,
   "id": "0a4ec476",
   "metadata": {},
   "outputs": [],
   "source": [
    "df_colors = df_colors.sort_values(by=[\"inj_type\", \"win_type\", \"red\"])"
   ]
  },
  {
   "cell_type": "code",
   "execution_count": null,
   "id": "6f179e13",
   "metadata": {},
   "outputs": [],
   "source": [
    "# Create a figure and axis\n",
    "fig = plt.figure(figsize=(28,4))\n",
    "\n",
    "ax = plt.gca()\n",
    "# Plot squares with labels\n",
    "i = 0  # in the dataframe, the index has gaps\n",
    "for i_bad, row in df_colors.iterrows():\n",
    "    color = row['color']\n",
    "    label = row['mouse_id']\n",
    "    \n",
    "    # Create a square patch with the color\n",
    "    square = mpatches.Rectangle((i, 0), 1, 1, color=color)\n",
    "    \n",
    "    # Add the square to the plot\n",
    "    ax.add_patch(square)\n",
    "    \n",
    "    # Add label in the center with white color\n",
    "    ax.text(i + 0.5, 0.5, label, color='white', ha='center', va='center', fontsize=20)\n",
    "    i += 1\n",
    "# Set x-axis properties\n",
    "ax.set_xlim(0, len(df_colors))\n",
    "ax.set_xticks(range(len(df)))\n",
    "ax.set_xticklabels([])  # Hide x-axis labels\n",
    "\n",
    "# Set y-axis properties\n",
    "ax.set_ylim(0, 1)\n",
    "ax.set_yticks([])  # Hide y-axis labels\n",
    "# Set plot title\n",
    "plt.title('Color codes', fontsize=24)\n",
    "\n",
    "plt.tight_layout()\n",
    "\n",
    "plt.savefig(os.path.join(env_dict[\"DOWNLOADS_FOLDER\"], \"color_codes.pdf\"), )\n",
    "\n",
    "# Display the plot\n",
    "plt.show()"
   ]
  },
  {
   "cell_type": "code",
   "execution_count": null,
   "id": "a7e76252",
   "metadata": {},
   "outputs": [],
   "source": []
  }
 ],
 "metadata": {
  "kernelspec": {
   "display_name": "Python 3 (ipykernel)",
   "language": "python",
   "name": "python3"
  },
  "language_info": {
   "codemirror_mode": {
    "name": "ipython",
    "version": 3
   },
   "file_extension": ".py",
   "mimetype": "text/x-python",
   "name": "python",
   "nbconvert_exporter": "python",
   "pygments_lexer": "ipython3",
   "version": "3.8.12"
  }
 },
 "nbformat": 4,
 "nbformat_minor": 5
}
