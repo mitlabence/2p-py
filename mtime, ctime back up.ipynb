{
 "cells": [
  {
   "cell_type": "code",
   "execution_count": null,
   "id": "38e4b7b5",
   "metadata": {},
   "outputs": [],
   "source": [
    "import os\n",
    "import labrotation.file_handling as fh\n",
    "import pytz\n",
    "import datetime as dt"
   ]
  },
  {
   "cell_type": "code",
   "execution_count": null,
   "id": "cc0717b7",
   "metadata": {},
   "outputs": [],
   "source": [
    "folder = fh.open_dir(\"Choose directory to save time stamps from\")"
   ]
  },
  {
   "cell_type": "code",
   "execution_count": null,
   "id": "37f083c6",
   "metadata": {},
   "outputs": [],
   "source": [
    "export_folder = fh.open_dir(\"Choose directory to save results to\")"
   ]
  },
  {
   "cell_type": "code",
   "execution_count": null,
   "id": "82650ed3",
   "metadata": {},
   "outputs": [],
   "source": [
    "for root, dirs, files in os.walk(folder):\n",
    "    for file in files:\n",
    "        t_last_mod = tzone_local.localize(dt.datetime.fromtimestamp(os.path.getmtime(os.path.join(root, file))))\n",
    "        print(f\"{file}:\\t{t_last_mod}\")\n",
    "        "
   ]
  },
  {
   "cell_type": "code",
   "execution_count": null,
   "id": "342b7e46",
   "metadata": {},
   "outputs": [],
   "source": [
    "tzone_local = pytz.timezone('Europe/Berlin')\n",
    "tzone_utc = pytz.utc"
   ]
  },
  {
   "cell_type": "code",
   "execution_count": null,
   "id": "21fcd896",
   "metadata": {},
   "outputs": [],
   "source": [
    "t_now = dt.datetime.now()\n",
    "t_now_formatted = t_now.isoformat().replace(\":\", \"\").split(\".\")[0]\n",
    "mtime_filename = f\"mtime_{t_now_formatted}.txt\"  # get rid of : in hour, get rid of milliseconds\n",
    "ctime_filename = f\"ctime_{t_now_formatted}.txt\"\n",
    "print(f\"Saving to\\n{os.path.join(export_folder, mtime_filename)}\\nand\\n{os.path.join(export_folder, ctime_filename)}\")"
   ]
  },
  {
   "cell_type": "code",
   "execution_count": null,
   "id": "daaa6ab0",
   "metadata": {},
   "outputs": [],
   "source": [
    "with open(os.path.join(export_folder, f\"{mtime_filename}.txt\"), \"w\") as f:\n",
    "    for root, dirs, files in os.walk(folder):\n",
    "        for file in files:\n",
    "            t_last_mod = tzone_local.localize(dt.datetime.fromtimestamp(os.path.getmtime(os.path.join(root, file))))\n",
    "            t = dt.datetime.fromtimestamp(os.path.getmtime(os.path.join(root, file)))\n",
    "            f.write(f\"{file}:\\t{t_last_mod}\\n\")\n",
    "            \n",
    "with open(os.path.join(export_folder, f\"{ctime_filename}.txt\"), \"w\") as f:\n",
    "    for root, dirs, files in os.walk(folder):\n",
    "        for file in files:\n",
    "            t_last_mod = tzone_local.localize(dt.datetime.fromtimestamp(os.path.getmtime(os.path.join(root, file))))\n",
    "            t = dt.datetime.fromtimestamp(os.path.getmtime(os.path.join(root, file)))\n",
    "            f.write(f\"{file}:\\t{t_last_mod}\\n\")"
   ]
  },
  {
   "cell_type": "code",
   "execution_count": null,
   "id": "1d3c3f7d",
   "metadata": {},
   "outputs": [],
   "source": []
  }
 ],
 "metadata": {
  "kernelspec": {
   "display_name": "Python 3 (ipykernel)",
   "language": "python",
   "name": "python3"
  },
  "language_info": {
   "codemirror_mode": {
    "name": "ipython",
    "version": 3
   },
   "file_extension": ".py",
   "mimetype": "text/x-python",
   "name": "python",
   "nbconvert_exporter": "python",
   "pygments_lexer": "ipython3",
   "version": "3.8.12"
  }
 },
 "nbformat": 4,
 "nbformat_minor": 5
}
