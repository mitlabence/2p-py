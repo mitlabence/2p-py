{
 "cells": [
  {
   "cell_type": "markdown",
   "id": "3c6379af",
   "metadata": {},
   "source": [
    "# How to create a session object, and work with it"
   ]
  },
  {
   "cell_type": "code",
   "execution_count": null,
   "id": "82a9c940",
   "metadata": {},
   "outputs": [],
   "source": [
    "#Auto-reload modules (used to develop functions outside this notebook)\n",
    "%load_ext autoreload\n",
    "%autoreload 2"
   ]
  },
  {
   "cell_type": "markdown",
   "id": "573cddc8",
   "metadata": {},
   "source": [
    "## Imports"
   ]
  },
  {
   "cell_type": "code",
   "execution_count": null,
   "id": "2c4c71fe",
   "metadata": {},
   "outputs": [],
   "source": [
    "# import modules from 2p-py\n",
    "import labrotation.file_handling as file_handling\n",
    "import labrotation.two_photon_session as two_photon_session\n",
    "import labrotation.belt_processing as belt_processing\n",
    "import numpy as np\n",
    "from matplotlib import pyplot as plt"
   ]
  },
  {
   "cell_type": "markdown",
   "id": "ef4900f4",
   "metadata": {},
   "source": [
    "## Set matlab-2p path\n",
    "matlab is unfortunately still needed, as the belt processing scripts were written in Matlab and have not yet been implemented in Python. See the Test Matlab Integration jupyter notebook on how to set up Matlab in Python."
   ]
  },
  {
   "cell_type": "code",
   "execution_count": null,
   "id": "ab10e896",
   "metadata": {},
   "outputs": [],
   "source": [
    "matlab_2p_path = file_handling.open_dir(\"Choose matlab-2p folder!\")"
   ]
  },
  {
   "cell_type": "markdown",
   "id": "40864542",
   "metadata": {},
   "source": [
    "## Set file path variables"
   ]
  },
  {
   "cell_type": "code",
   "execution_count": null,
   "id": "851549ed",
   "metadata": {},
   "outputs": [],
   "source": [
    "nd2_path = file_handling.open_file(\"Choose Nikon imaging file (.nd2)!\")\n",
    "nd2_meta_path = file_handling.open_file(\"Choose Nikon metadata file (.txt)!\")\n",
    "labview_path = file_handling.open_file(\"Choose LabView file (xy.txt, NOT xytime.txt)!\")\n",
    "labview_timestamps_path = labview_path[:-4] + \"time.txt\"\n",
    "lfp_path = file_handling.open_file(\"Choose LFP file (.abf)!\")"
   ]
  },
  {
   "cell_type": "code",
   "execution_count": null,
   "id": "98ec7783",
   "metadata": {},
   "outputs": [],
   "source": [
    "if lfp_path == \".\":\n",
    "    lfp_path = None\n",
    "if labview_path == \".\":\n",
    "    labview_path = None\n",
    "    labview_timestamps_path = None"
   ]
  },
  {
   "cell_type": "markdown",
   "id": "912b43e4",
   "metadata": {},
   "source": [
    "## Create session object\n",
    "Functions such as matching the belt with the nikon recording will be automatically run."
   ]
  },
  {
   "cell_type": "code",
   "execution_count": null,
   "id": "768f5843",
   "metadata": {},
   "outputs": [],
   "source": [
    "session = two_photon_session.TwoPhotonSession.init_and_process(nd2_path, nd2_meta_path, labview_path, labview_timestamps_path, lfp_path, matlab_2p_path)"
   ]
  },
  {
   "cell_type": "code",
   "execution_count": null,
   "id": "fb25c2b3",
   "metadata": {},
   "outputs": [],
   "source": [
    "nik_means = session.mean_fluo"
   ]
  },
  {
   "cell_type": "code",
   "execution_count": null,
   "id": "4ea0eba0",
   "metadata": {},
   "outputs": [],
   "source": [
    "nik_t = session.nikon_daq_time.values"
   ]
  },
  {
   "cell_type": "code",
   "execution_count": null,
   "id": "c4abe6d6",
   "metadata": {},
   "outputs": [],
   "source": [
    "nik_sw_t = session.nikon_meta[\"SW Time [s]\"].values"
   ]
  },
  {
   "cell_type": "code",
   "execution_count": null,
   "id": "81aa07fd",
   "metadata": {},
   "outputs": [],
   "source": [
    "nik_sw_t = np.array(list(map(lambda x: float(x.replace(\",\", \".\")), nik_sw_t)))"
   ]
  },
  {
   "cell_type": "code",
   "execution_count": null,
   "id": "adda003d",
   "metadata": {},
   "outputs": [],
   "source": [
    "ar = nik_sw_t[1:] - nik_sw_t[:-1]"
   ]
  },
  {
   "cell_type": "code",
   "execution_count": null,
   "id": "2ead1251",
   "metadata": {},
   "outputs": [],
   "source": [
    "len_rec = nik_sw_t[-1] - nik_sw_t[0]  # the real length of the recording in seconds"
   ]
  },
  {
   "cell_type": "code",
   "execution_count": null,
   "id": "18ae1a48",
   "metadata": {},
   "outputs": [],
   "source": [
    "# nik_t: 0 to b, N frames. nik_sw_t: c to d, N frames.\n",
    "# approximate time as software time (problem: difference between elements is not constant)\n",
    "nik_t_approx_s = nik_sw_t - nik_sw_t[0]"
   ]
  },
  {
   "cell_type": "code",
   "execution_count": null,
   "id": "2794d7e3",
   "metadata": {},
   "outputs": [],
   "source": [
    "nik_t_approx_s"
   ]
  },
  {
   "cell_type": "markdown",
   "id": "289484ff",
   "metadata": {},
   "source": [
    "## session is ready to work with!\n",
    "Check class documentation (or source code) for functionalities"
   ]
  },
  {
   "cell_type": "code",
   "execution_count": null,
   "id": "188c7a30",
   "metadata": {},
   "outputs": [],
   "source": [
    "movement_t, movement_y = session.lfp_movement()  # split components\n",
    "movement = session.lfp_movement()  # keep components together"
   ]
  },
  {
   "cell_type": "code",
   "execution_count": null,
   "id": "e5c28311",
   "metadata": {},
   "outputs": [],
   "source": [
    "\n",
    "fig = plt.figure(figsize=(18,10))\n",
    "plt.plot(movement_t, movement_y)  # or: plt.plot(*movement)\n",
    "plt.show()"
   ]
  },
  {
   "cell_type": "code",
   "execution_count": null,
   "id": "d27d541d",
   "metadata": {},
   "outputs": [],
   "source": [
    "lfp_t, lfp_y = session.lfp_lfp()"
   ]
  },
  {
   "cell_type": "code",
   "execution_count": null,
   "id": "06edddef",
   "metadata": {},
   "outputs": [],
   "source": [
    "fig = plt.figure(figsize=(18,10))\n",
    "plt.plot(lfp_t,lfp_y)  # or: plt.plot(*movement)\n",
    "plt.show()"
   ]
  },
  {
   "cell_type": "code",
   "execution_count": null,
   "id": "cd48e061",
   "metadata": {},
   "outputs": [],
   "source": [
    "fig, axs = plt.subplots(3,1,figsize=(18,18), sharex=True)\n",
    "axs[0].plot(nik_t_approx_s, nik_means)\n",
    "axs[0].set_ylim((22,25))\n",
    "axs[1].plot(lfp_t, lfp_y, color=\"green\")\n",
    "axs[2].plot(movement_t, movement_y, color=\"grey\")\n",
    "axs[2].set_ylim((2.0,3.5))\n",
    "#axs[2].set_xlim((17,20))\n",
    "plt.show()"
   ]
  },
  {
   "cell_type": "code",
   "execution_count": null,
   "id": "8347ce80",
   "metadata": {},
   "outputs": [],
   "source": [
    "output_folder = file_handling.open_dir(\"Choose output folder!\")"
   ]
  },
  {
   "cell_type": "code",
   "execution_count": null,
   "id": "8a5a2306",
   "metadata": {},
   "outputs": [],
   "source": [
    "save_matched_lfp = False\n",
    "if save_matched_lfp:\n",
    "    with open(os.path.join(output_folder, \"lfp_matched.txt\"), \"w\") as f:\n",
    "        for i_row in range(len(lfp_t)):\n",
    "            f.write(f\"{lfp_t[i_row]}\\t{lfp_y[i_row]}\\n\")"
   ]
  },
  {
   "cell_type": "code",
   "execution_count": null,
   "id": "2e0f4fce",
   "metadata": {},
   "outputs": [],
   "source": [
    "save_matched_movement = False\n",
    "if save_matched_movement:\n",
    "    with open(os.path.join(output_folder, \"movement_matched.txt\"), \"w\") as f:\n",
    "        for i_row in range(len(movement_t)):\n",
    "            f.write(f\"{movement_t[i_row]}\\t{movement_y[i_row]}\\n\")"
   ]
  },
  {
   "cell_type": "code",
   "execution_count": null,
   "id": "5f13cede",
   "metadata": {},
   "outputs": [],
   "source": [
    "save_nik = False\n",
    "if save_nik:\n",
    "    with open(os.path.join(output_folder, \"nik_matched.txt\"), \"w\") as f:\n",
    "        for i_row in range(len(nik_means)):\n",
    "            f.write(f\"{nik_t_approx_s[i_row]}\\t{nik_means[i_row]}\\n\")"
   ]
  },
  {
   "cell_type": "code",
   "execution_count": null,
   "id": "acbf7cbd",
   "metadata": {},
   "outputs": [],
   "source": []
  }
 ],
 "metadata": {
  "kernelspec": {
   "display_name": "Python 3 (ipykernel)",
   "language": "python",
   "name": "python3"
  },
  "language_info": {
   "codemirror_mode": {
    "name": "ipython",
    "version": 3
   },
   "file_extension": ".py",
   "mimetype": "text/x-python",
   "name": "python",
   "nbconvert_exporter": "python",
   "pygments_lexer": "ipython3",
   "version": "3.8.12"
  }
 },
 "nbformat": 4,
 "nbformat_minor": 5
}
