{
 "cells": [
  {
   "cell_type": "markdown",
   "id": "3c6379af",
   "metadata": {},
   "source": [
    "# How to create a session object, and work with it"
   ]
  },
  {
   "cell_type": "code",
   "execution_count": null,
   "id": "82a9c940",
   "metadata": {},
   "outputs": [],
   "source": [
    "#Auto-reload modules (used to develop functions outside this notebook)\n",
    "%load_ext autoreload\n",
    "%autoreload 2"
   ]
  },
  {
   "cell_type": "markdown",
   "id": "8d75b13b",
   "metadata": {},
   "source": [
    "# TODO\n",
    "* Nikon SW time for high frequency recordings seems to be slow (i.e. delayed). This time is used by labview!"
   ]
  },
  {
   "cell_type": "markdown",
   "id": "573cddc8",
   "metadata": {},
   "source": [
    "## Imports"
   ]
  },
  {
   "cell_type": "code",
   "execution_count": null,
   "id": "2c4c71fe",
   "metadata": {},
   "outputs": [],
   "source": [
    "# import modules from 2p-py\n",
    "import labrotation.file_handling as file_handling\n",
    "import labrotation.two_photon_session as two_photon_session\n",
    "import labrotation.belt_processing as belt_processing\n",
    "import numpy as np\n",
    "from matplotlib import pyplot as plt\n",
    "from datetime import datetime\n",
    "import os"
   ]
  },
  {
   "cell_type": "markdown",
   "id": "a419c1e2",
   "metadata": {},
   "source": [
    "## Helpful functions and parameters"
   ]
  },
  {
   "cell_type": "code",
   "execution_count": null,
   "id": "ab6220f4",
   "metadata": {},
   "outputs": [],
   "source": [
    "# TODO: file_handling now contains this function\n",
    "def get_datetime_for_fname():\n",
    "    now = datetime.now()\n",
    "    return f\"{now.year:04d}{now.month:02d}{now.day:02d}-{now.hour:02d}{now.minute:02d}{now.second:02d}\""
   ]
  },
  {
   "cell_type": "code",
   "execution_count": null,
   "id": "c5197a0f",
   "metadata": {},
   "outputs": [],
   "source": [
    "save_figs = False  # set to True to save the figures created\n",
    "save_as_eps = True\n",
    "if save_as_eps:\n",
    "    file_format = \".eps\"\n",
    "else:\n",
    "    file_format = \".jpg\"\n",
    "if save_figs:\n",
    "    print(f\"Going to save figures as {file_format} files.\")"
   ]
  },
  {
   "cell_type": "code",
   "execution_count": null,
   "id": "df85df45",
   "metadata": {},
   "outputs": [],
   "source": [
    "env_dict = dict()\n",
    "if not os.path.exists(\"./.env\"):\n",
    "    print(\".env does not exist\")\n",
    "else:\n",
    "    with open(\"./.env\", \"r\") as f:\n",
    "        for line in f.readlines():\n",
    "            l = line.rstrip().split(\"=\")\n",
    "            env_dict[l[0]] = l[1]\n",
    "print(env_dict.keys())"
   ]
  },
  {
   "cell_type": "markdown",
   "id": "ef4900f4",
   "metadata": {},
   "source": [
    "## Set matlab-2p path\n",
    "matlab is unfortunately still needed, as the belt processing scripts were written in Matlab and have not yet been implemented in Python. See the Test Matlab Integration jupyter notebook on how to set up Matlab in Python."
   ]
  },
  {
   "cell_type": "code",
   "execution_count": null,
   "id": "ab10e896",
   "metadata": {},
   "outputs": [],
   "source": [
    "matlab_2p_path = env_dict[\"MATLAB_2P_FOLDER\"]#file_handling.open_dir(\"Choose matlab-2p folder!\")"
   ]
  },
  {
   "cell_type": "markdown",
   "id": "40864542",
   "metadata": {},
   "source": [
    "## Set file path variables"
   ]
  },
  {
   "cell_type": "code",
   "execution_count": null,
   "id": "851549ed",
   "metadata": {},
   "outputs": [],
   "source": [
    "nd2_path = file_handling.open_file(\"Choose Nikon imaging file (.nd2)!\")\n",
    "nd2_meta_path = file_handling.open_file(\"Choose Nikon metadata file (.txt)!\")\n",
    "labview_path = file_handling.open_file(\"Choose LabView file (xy.txt, NOT xytime.txt)!\")\n",
    "labview_timestamps_path = labview_path[:-4] + \"time.txt\"\n",
    "lfp_path = file_handling.open_file(\"Choose LFP file (.abf)!\")"
   ]
  },
  {
   "cell_type": "code",
   "execution_count": null,
   "id": "7b7173a4",
   "metadata": {},
   "outputs": [],
   "source": [
    "nd2_fname = os.path.splitext(os.path.split(nd2_path)[-1])[0]"
   ]
  },
  {
   "cell_type": "code",
   "execution_count": null,
   "id": "300c67bf",
   "metadata": {},
   "outputs": [],
   "source": [
    "# open a file as time.txt that is not in the same folder, and/or does not have the usual xy.txt -> xytime.txt format.\n",
    "different_timetxt = False  \n",
    "if different_timetxt:\n",
    "    labview_timestamps_path = file_handling.open_file(\"Choose Labview time stamps (time.txt) file\")"
   ]
  },
  {
   "cell_type": "code",
   "execution_count": null,
   "id": "98ec7783",
   "metadata": {},
   "outputs": [],
   "source": [
    "if lfp_path == \".\":\n",
    "    lfp_path = None\n",
    "if labview_path == \".\":\n",
    "    labview_path = None\n",
    "    labview_timestamps_path = None"
   ]
  },
  {
   "cell_type": "markdown",
   "id": "912b43e4",
   "metadata": {},
   "source": [
    "## Create session object\n",
    "Functions such as matching the belt with the nikon recording will be automatically run."
   ]
  },
  {
   "cell_type": "code",
   "execution_count": null,
   "id": "768f5843",
   "metadata": {},
   "outputs": [],
   "source": [
    "#D:\\PhD\\Data\\jedi\\230712\n",
    "#G184.120723.1809\n",
    "session = two_photon_session.TwoPhotonSession.init_and_process(nd2_path, nd2_meta_path, labview_path, labview_timestamps_path, lfp_path, matlab_2p_path)"
   ]
  },
  {
   "cell_type": "code",
   "execution_count": null,
   "id": "bf2d381e",
   "metadata": {},
   "outputs": [],
   "source": [
    "session.time_offs_lfp_nik"
   ]
  },
  {
   "cell_type": "code",
   "execution_count": null,
   "id": "3cac8214",
   "metadata": {},
   "outputs": [],
   "source": [
    "#session.shift_lfp(0.03, match_type=\"zero\")"
   ]
  },
  {
   "cell_type": "code",
   "execution_count": null,
   "id": "fb25c2b3",
   "metadata": {},
   "outputs": [],
   "source": [
    "nik_means = session.mean_fluo"
   ]
  },
  {
   "cell_type": "code",
   "execution_count": null,
   "id": "4ea0eba0",
   "metadata": {},
   "outputs": [],
   "source": [
    "nik_t = session.nikon_daq_time.values"
   ]
  },
  {
   "cell_type": "code",
   "execution_count": null,
   "id": "c4abe6d6",
   "metadata": {},
   "outputs": [],
   "source": [
    "nik_sw_t = session.nikon_meta[\"SW Time [s]\"].values"
   ]
  },
  {
   "cell_type": "code",
   "execution_count": null,
   "id": "6d5b284f",
   "metadata": {},
   "outputs": [],
   "source": [
    "\"Time [m:s.ms]\" in session.nikon_meta.columns"
   ]
  },
  {
   "cell_type": "code",
   "execution_count": null,
   "id": "604b4461",
   "metadata": {},
   "outputs": [],
   "source": [
    "session.nikon_meta"
   ]
  },
  {
   "cell_type": "code",
   "execution_count": null,
   "id": "b27ee274",
   "metadata": {},
   "outputs": [],
   "source": [
    "nik_sw_t"
   ]
  },
  {
   "cell_type": "code",
   "execution_count": null,
   "id": "81aa07fd",
   "metadata": {},
   "outputs": [],
   "source": [
    "if nik_sw_t[0].dtype == np.float64:\n",
    "    pass\n",
    "else:\n",
    "    nik_sw_t = np.array(list(map(lambda x: float(x.replace(\",\", \".\")), nik_sw_t)))"
   ]
  },
  {
   "cell_type": "code",
   "execution_count": null,
   "id": "adda003d",
   "metadata": {},
   "outputs": [],
   "source": [
    "ar = nik_sw_t[1:] - nik_sw_t[:-1]"
   ]
  },
  {
   "cell_type": "code",
   "execution_count": null,
   "id": "2ead1251",
   "metadata": {},
   "outputs": [],
   "source": [
    "len_rec = nik_sw_t[-1] - nik_sw_t[0]  # the real length of the recording in seconds"
   ]
  },
  {
   "cell_type": "code",
   "execution_count": null,
   "id": "18ae1a48",
   "metadata": {},
   "outputs": [],
   "source": [
    "# nik_t: 0 to b, N frames. nik_sw_t: c to d, N frames.\n",
    "# approximate time as software time (problem: difference between elements is not constant)\n",
    "nik_t_approx_s = nik_sw_t - nik_sw_t[0]"
   ]
  },
  {
   "cell_type": "code",
   "execution_count": null,
   "id": "14bffe40",
   "metadata": {},
   "outputs": [],
   "source": [
    "session.belt_scn_dict.keys()"
   ]
  },
  {
   "cell_type": "markdown",
   "id": "289484ff",
   "metadata": {},
   "source": [
    "## session is ready to work with!\n",
    "Check class documentation (or source code) for functionalities"
   ]
  },
  {
   "cell_type": "code",
   "execution_count": null,
   "id": "188c7a30",
   "metadata": {},
   "outputs": [],
   "source": [
    "movement_t, movement_y = session.lfp_movement(as_numpy=True)  # split components\n",
    "movement = session.lfp_movement()  # keep components together"
   ]
  },
  {
   "cell_type": "code",
   "execution_count": null,
   "id": "e5c28311",
   "metadata": {},
   "outputs": [],
   "source": [
    "\n",
    "fig = plt.figure(figsize=(18,10))\n",
    "plt.plot(session.belt_scn_dict[\"tsscn\"]/1000., session.belt_scn_dict[\"speed\"])\n",
    "plt.plot(movement_t, movement_y)  # or: plt.plot(*movement)\n",
    "plt.xlim((15, 25))\n",
    "plt.show()"
   ]
  },
  {
   "cell_type": "code",
   "execution_count": null,
   "id": "d27d541d",
   "metadata": {},
   "outputs": [],
   "source": [
    "lfp_t, lfp_y = session.lfp_lfp(as_numpy=True)"
   ]
  },
  {
   "cell_type": "code",
   "execution_count": null,
   "id": "06edddef",
   "metadata": {},
   "outputs": [],
   "source": [
    "fig = plt.figure(figsize=(18,10))\n",
    "plt.plot(lfp_t,lfp_y)  # or: plt.plot(*movement)\n",
    "plt.show()"
   ]
  },
  {
   "cell_type": "code",
   "execution_count": null,
   "id": "3c7e565a",
   "metadata": {},
   "outputs": [],
   "source": [
    "fig, axs = plt.subplots(3,1,figsize=(18,18), sharex=True)\n",
    "axs[0].plot(nik_t_approx_s, nik_means)\n",
    "axs[1].plot(session.belt_scn_dict[\"tsscn\"]/1000., session.belt_scn_dict[\"speed\"], color=\"grey\")\n",
    "axs[2].plot(movement_t, movement_y, color=\"green\")\n",
    "axs[2].set_ylim((2.0, 3.5))\n",
    "#axs[0].set_ylim((42.0, 50.))\n",
    "#axs[2].set_xlim((18.0, 30))\n",
    "axs[2].set_xlim((-10, 30))\n",
    "\n",
    "plt.show()"
   ]
  },
  {
   "cell_type": "code",
   "execution_count": null,
   "id": "5cecbec1",
   "metadata": {},
   "outputs": [],
   "source": [
    "fig, axs = plt.subplots(3,1,figsize=(18,18), sharex=True)\n",
    "axs[0].plot(nik_t_approx_s, nik_means)\n",
    "axs[1].plot(session.belt_scn_dict[\"tsscn\"]/1000., session.belt_scn_dict[\"speed\"], color=\"grey\")\n",
    "axs[2].plot(movement_t, movement_y, color=\"green\")\n",
    "axs[2].set_ylim((2.0, 3.5))\n",
    "#axs[0].set_ylim((42.0, 50.))\n",
    "#axs[2].set_xlim((18.0, 30))\n",
    "axs[2].set_xlim((15, 25))\n",
    "#axs[2].set_xlim((25, 40))\n",
    "\n",
    "plt.show()"
   ]
  },
  {
   "cell_type": "code",
   "execution_count": null,
   "id": "de745193",
   "metadata": {},
   "outputs": [],
   "source": [
    "fig, axs = plt.subplots(3,1,figsize=(18,18), sharex=True)\n",
    "axs[0].plot(nik_t_approx_s, nik_means)\n",
    "axs[1].plot(session.belt_scn_dict[\"tsscn\"]/1000., session.belt_scn_dict[\"speed\"], color=\"grey\")\n",
    "axs[2].plot(movement_t, movement_y, color=\"green\")\n",
    "axs[2].set_ylim((2.0, 3.5))\n",
    "#axs[0].set_ylim((42.0, 50.))\n",
    "#axs[2].set_xlim((18.0, 30))\n",
    "axs[2].set_xlim((120, 200))\n",
    "\n",
    "plt.show()"
   ]
  },
  {
   "cell_type": "code",
   "execution_count": null,
   "id": "473ce2a2",
   "metadata": {},
   "outputs": [],
   "source": [
    "nik_ymax = 58\n",
    "nik_ymin = 32\n",
    "\n",
    "fig, axs = plt.subplots(2,1,figsize=(26,18), sharex=True)\n",
    "axs[0].plot(nik_t_approx_s, nik_means)\n",
    "axs[0].set_ylim((nik_ymin,nik_ymax))\n",
    "axs[1].plot(session.belt_scn_dict[\"tsscn\"]/1000., session.belt_scn_dict[\"speed\"], color=\"grey\")\n",
    "#axs[3].set_xlim((18,70))\n",
    "plt.show()"
   ]
  },
  {
   "cell_type": "code",
   "execution_count": null,
   "id": "7622c677",
   "metadata": {},
   "outputs": [],
   "source": [
    "nik_ymax = 58\n",
    "nik_ymin = 38\n",
    "\n",
    "fig, axs = plt.subplots(2,1,figsize=(26,18), sharex=True)\n",
    "axs[0].plot(nik_t_approx_s, nik_means)\n",
    "axs[0].set_ylim((nik_ymin,nik_ymax))\n",
    "axs[1].plot(lfp_t, lfp_y, color=\"green\")\n",
    "axs[1].set_xlim((18,70))\n",
    "plt.show()"
   ]
  },
  {
   "cell_type": "code",
   "execution_count": null,
   "id": "cd48e061",
   "metadata": {},
   "outputs": [],
   "source": [
    "nik_ymax = 58\n",
    "nik_ymin = 38\n",
    "\n",
    "\n",
    "fig, axs = plt.subplots(4,1,figsize=(26,18), sharex=True)\n",
    "axs[0].plot(nik_t_approx_s, nik_means)\n",
    "axs[0].set_ylim((nik_ymin,nik_ymax))\n",
    "axs[1].plot(lfp_t, lfp_y, color=\"green\")\n",
    "axs[2].plot(movement_t, movement_y, color=\"grey\")\n",
    "axs[2].set_ylim((2.0,3.5))\n",
    "axs[3].plot(session.belt_scn_dict[\"tsscn\"]/1000., session.belt_scn_dict[\"speed\"], color=\"grey\")\n",
    "#axs[3].set_xlim((18,70))\n",
    "axs[3].set_xlim((175,200))\n",
    "\n",
    "if save_figs and True:\n",
    "    out_fpath = f\"D:\\\\Downloads\\\\{nd2_fname}_whole_{get_datetime_for_fname()}{file_format}\"\n",
    "    plt.savefig(out_fpath)\n",
    "    print(f\"Saved to {out_fpath}\")\n",
    "plt.show()"
   ]
  },
  {
   "cell_type": "code",
   "execution_count": null,
   "id": "db88b90b",
   "metadata": {},
   "outputs": [],
   "source": [
    "fig = plt.figure(figsize=(10,12))\n",
    "plt.plot(session.belt_dict[\"speed\"])\n",
    "plt.xlim((14000, 15000))\n",
    "plt.show()"
   ]
  },
  {
   "cell_type": "code",
   "execution_count": null,
   "id": "8347ce80",
   "metadata": {},
   "outputs": [],
   "source": [
    "output_folder = file_handling.open_dir(\"Choose output folder!\")"
   ]
  },
  {
   "cell_type": "code",
   "execution_count": null,
   "id": "8a5a2306",
   "metadata": {},
   "outputs": [],
   "source": [
    "save_matched_lfp = True\n",
    "if save_matched_lfp:\n",
    "    with open(os.path.join(output_folder, \"lfp_matched.txt\"), \"w\") as f:\n",
    "        for i_row in range(len(lfp_t)):\n",
    "            f.write(f\"{lfp_t[i_row]}\\t{lfp_y[i_row]}\\n\")"
   ]
  },
  {
   "cell_type": "code",
   "execution_count": null,
   "id": "2e0f4fce",
   "metadata": {},
   "outputs": [],
   "source": [
    "save_matched_movement = True\n",
    "if save_matched_movement:\n",
    "    with open(os.path.join(output_folder, \"movement_matched.txt\"), \"w\") as f:\n",
    "        for i_row in range(len(movement_t)):\n",
    "            f.write(f\"{movement_t[i_row]}\\t{movement_y[i_row]}\\n\")"
   ]
  },
  {
   "cell_type": "code",
   "execution_count": null,
   "id": "5f13cede",
   "metadata": {},
   "outputs": [],
   "source": [
    "save_nik = True\n",
    "if save_nik:\n",
    "    with open(os.path.join(output_folder, \"nik_matched.txt\"), \"w\") as f:\n",
    "        for i_row in range(len(nik_means)):\n",
    "            f.write(f\"{nik_t_approx_s[i_row]}\\t{nik_means[i_row]}\\n\")"
   ]
  },
  {
   "cell_type": "markdown",
   "id": "f7c3a7f0",
   "metadata": {},
   "source": [
    "# Save to hdf5"
   ]
  },
  {
   "cell_type": "code",
   "execution_count": null,
   "id": "9d2e4fd0",
   "metadata": {},
   "outputs": [],
   "source": [
    "export_fname = file_handling.get_filename_with_date(nd2_fname, \".h5\")"
   ]
  },
  {
   "cell_type": "code",
   "execution_count": null,
   "id": "ebf83d7b",
   "metadata": {},
   "outputs": [],
   "source": [
    "export_fpath = os.path.join(output_folder, export_fname)"
   ]
  },
  {
   "cell_type": "code",
   "execution_count": null,
   "id": "2a055aee",
   "metadata": {},
   "outputs": [],
   "source": [
    "if \"output_folder\" not in locals():\n",
    "    output_folder = file_handling.open_dir(\"Choose output folder!\")\n",
    "session.export_hdf5(fpath=export_fpath, save_full=True)"
   ]
  },
  {
   "cell_type": "markdown",
   "id": "f6977341",
   "metadata": {},
   "source": [
    "## Test if hdf5 file is valid"
   ]
  },
  {
   "cell_type": "code",
   "execution_count": null,
   "id": "96c63a22",
   "metadata": {},
   "outputs": [],
   "source": [
    "session2 = two_photon_session.TwoPhotonSession.from_hdf5(export_fpath, try_open_files=False)"
   ]
  },
  {
   "cell_type": "code",
   "execution_count": null,
   "id": "5de48b96",
   "metadata": {},
   "outputs": [],
   "source": [
    "nik_means2 = session2.mean_fluo"
   ]
  },
  {
   "cell_type": "code",
   "execution_count": null,
   "id": "1df4cd80",
   "metadata": {},
   "outputs": [],
   "source": [
    "nik_t2 = session2.nikon_daq_time.values"
   ]
  },
  {
   "cell_type": "code",
   "execution_count": null,
   "id": "47f9a364",
   "metadata": {},
   "outputs": [],
   "source": [
    "nik_sw_t2 = session2.nikon_meta[\"SW Time [s]\"].values"
   ]
  },
  {
   "cell_type": "code",
   "execution_count": null,
   "id": "d6182fb2",
   "metadata": {},
   "outputs": [],
   "source": [
    "if nik_sw_t2[0].dtype == np.float64:\n",
    "    pass\n",
    "else:\n",
    "    nik_sw_t2 = np.array(list(map(lambda x: float(x.replace(\",\", \".\")), nik_sw_t2)))"
   ]
  },
  {
   "cell_type": "code",
   "execution_count": null,
   "id": "84987535",
   "metadata": {},
   "outputs": [],
   "source": [
    "ar2 = nik_sw_t2[1:] - nik_sw_t2[:-1]"
   ]
  },
  {
   "cell_type": "code",
   "execution_count": null,
   "id": "ef5657cd",
   "metadata": {},
   "outputs": [],
   "source": [
    "len_rec2 = nik_sw_t2[-1] - nik_sw_t2[0]  # the real length of the recording in seconds"
   ]
  },
  {
   "cell_type": "code",
   "execution_count": null,
   "id": "7dbd13e7",
   "metadata": {},
   "outputs": [],
   "source": [
    "# nik_t: 0 to b, N frames. nik_sw_t: c to d, N frames.\n",
    "# approximate time as software time (problem: difference between elements is not constant)\n",
    "nik_t_approx_s2 = nik_sw_t2 - nik_sw_t2[0]"
   ]
  },
  {
   "cell_type": "code",
   "execution_count": null,
   "id": "eeb0bb99",
   "metadata": {},
   "outputs": [],
   "source": [
    "movement_t2, movement_y2 = session2.lfp_movement(as_numpy=True)  # split components\n",
    "movement2 = session2.lfp_movement()  # keep components together"
   ]
  },
  {
   "cell_type": "code",
   "execution_count": null,
   "id": "86134001",
   "metadata": {},
   "outputs": [],
   "source": [
    "fig, axs = plt.subplots(3,1,figsize=(18,18), sharex=True)\n",
    "\n",
    "axs[0].plot(nik_t_approx_s2, nik_means2, color=\"blue\")\n",
    "axs[0].plot(nik_t_approx_s, nik_means, color=\"lightblue\")\n",
    "\n",
    "axs[1].plot(session2.belt_scn_dict[\"tsscn\"]/1000., session2.belt_scn_dict[\"speed\"], color=\"black\")\n",
    "axs[1].plot(session.belt_scn_dict[\"tsscn\"]/1000., session.belt_scn_dict[\"speed\"], color=\"grey\")\n",
    "\n",
    "axs[2].plot(movement_t2, movement_y2, color=\"green\")\n",
    "axs[2].plot(movement_t, movement_y, color=\"lightgreen\")\n",
    "\n",
    "axs[2].set_ylim((2.0, 3.5))\n",
    "#axs[0].set_ylim((42.0, 50.))\n",
    "#axs[2].set_xlim((18.0, 30))\n",
    "axs[2].set_xlim((15, 25))\n",
    "\n",
    "plt.show()"
   ]
  },
  {
   "cell_type": "markdown",
   "id": "b7fdb2e8",
   "metadata": {},
   "source": [
    "# Save data to matlab .mat file"
   ]
  },
  {
   "cell_type": "code",
   "execution_count": null,
   "id": "acbf7cbd",
   "metadata": {},
   "outputs": [],
   "source": [
    "import scipy"
   ]
  },
  {
   "cell_type": "code",
   "execution_count": null,
   "id": "6d340483",
   "metadata": {},
   "outputs": [],
   "source": [
    "matlab_dict = {\"nik_t\": nik_t_approx_s, \"nik_mean\": nik_means, \"lfp_t\": lfp_t, \"lfp_y\": lfp_y, \"lfp_mov_t\": movement_t, \"lfp_mov_y\": movement_y, \"lv_mov_t\": session.belt_scn_dict[\"tsscn\"]/1000., \"lv_mov_y\": session.belt_scn_dict[\"speed\"]}"
   ]
  },
  {
   "cell_type": "code",
   "execution_count": null,
   "id": "7632867e",
   "metadata": {},
   "outputs": [],
   "source": [
    "matlab_dict"
   ]
  },
  {
   "cell_type": "code",
   "execution_count": null,
   "id": "eccb33a0",
   "metadata": {},
   "outputs": [],
   "source": [
    "scipy.io.savemat(f\"D:\\\\Downloads\\\\{nd2_fname}_traces.mat\", matlab_dict)"
   ]
  },
  {
   "cell_type": "code",
   "execution_count": null,
   "id": "b8e05daf",
   "metadata": {},
   "outputs": [],
   "source": []
  },
  {
   "cell_type": "code",
   "execution_count": null,
   "id": "d9d01716",
   "metadata": {},
   "outputs": [],
   "source": []
  }
 ],
 "metadata": {
  "kernelspec": {
   "display_name": "Python 3 (ipykernel)",
   "language": "python",
   "name": "python3"
  },
  "language_info": {
   "codemirror_mode": {
    "name": "ipython",
    "version": 3
   },
   "file_extension": ".py",
   "mimetype": "text/x-python",
   "name": "python",
   "nbconvert_exporter": "python",
   "pygments_lexer": "ipython3",
   "version": "3.8.12"
  }
 },
 "nbformat": 4,
 "nbformat_minor": 5
}
