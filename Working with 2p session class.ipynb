{
 "cells": [
  {
   "cell_type": "markdown",
   "id": "3c6379af",
   "metadata": {},
   "source": [
    "# How to create a session object, and work with it"
   ]
  },
  {
   "cell_type": "code",
   "execution_count": 1,
   "id": "82a9c940",
   "metadata": {},
   "outputs": [],
   "source": [
    "#Auto-reload modules (used to develop functions outside this notebook)\n",
    "%load_ext autoreload\n",
    "%autoreload 2"
   ]
  },
  {
   "cell_type": "markdown",
   "id": "573cddc8",
   "metadata": {},
   "source": [
    "## Imports"
   ]
  },
  {
   "cell_type": "code",
   "execution_count": 2,
   "id": "2c4c71fe",
   "metadata": {},
   "outputs": [],
   "source": [
    "# import modules from 2p-py\n",
    "import labrotation.file_handling as file_handling\n",
    "import labrotation.two_photon_session as two_photon_session\n",
    "import labrotation.belt_processing as belt_processing"
   ]
  },
  {
   "cell_type": "markdown",
   "id": "ef4900f4",
   "metadata": {},
   "source": [
    "## Set matlab-2p path\n",
    "matlab is unfortunately still needed, as the belt processing scripts were written in Matlab and have not yet been implemented in Python. See the Test Matlab Integration jupyter notebook on how to set up Matlab in Python."
   ]
  },
  {
   "cell_type": "code",
   "execution_count": 3,
   "id": "ab10e896",
   "metadata": {},
   "outputs": [],
   "source": [
    "matlab_2p_path = file_handling.open_dir(\"Choose matlab-2p folder!\")"
   ]
  },
  {
   "cell_type": "markdown",
   "id": "40864542",
   "metadata": {},
   "source": [
    "## Set file path variables"
   ]
  },
  {
   "cell_type": "code",
   "execution_count": 4,
   "id": "851549ed",
   "metadata": {},
   "outputs": [],
   "source": [
    "nd2_path = file_handling.open_file(\"Choose Nikon imaging file (.nd2)!\")\n",
    "nd2_meta_path = file_handling.open_file(\"Choose Nikon metadata file (.txt)!\")\n",
    "labview_path = file_handling.open_file(\"Choose LabView file (xy.txt, NOT xytime.txt)!\")\n",
    "labview_timestamps_path = labview_path[:-4] + \"time.txt\"\n",
    "lfp_path = file_handling.open_file(\"Choose LFP file (.abf)!\")"
   ]
  },
  {
   "cell_type": "markdown",
   "id": "912b43e4",
   "metadata": {},
   "source": [
    "## Create session object\n",
    "Functions such as matching the belt with the nikon recording will be automatically run."
   ]
  },
  {
   "cell_type": "code",
   "execution_count": 8,
   "id": "768f5843",
   "metadata": {},
   "outputs": [
    {
     "name": "stderr",
     "output_type": "stream",
     "text": [
      "D:\\Software\\Anaconda\\envs\\py9\\lib\\site-packages\\pims\\base_frames.py:472: UserWarning: Please call FramesSequenceND.__init__() at the start of thethe reader initialization.\n",
      "  warn(\"Please call FramesSequenceND.__init__() at the start of the\"\n"
     ]
    },
    {
     "name": "stdout",
     "output_type": "stream",
     "text": [
      "Difference of starting times (s): 23.644011\n"
     ]
    }
   ],
   "source": [
    "session = two_photon_session.TwoPhotonSession(nd2_path, nd2_meta_path, labview_path, labview_timestamps_path, lfp_path, matlab_2p_path)"
   ]
  },
  {
   "cell_type": "markdown",
   "id": "289484ff",
   "metadata": {},
   "source": [
    "## session is ready to work with!\n",
    "Check class documentation (or source code) for functionalities"
   ]
  },
  {
   "cell_type": "code",
   "execution_count": 13,
   "id": "188c7a30",
   "metadata": {},
   "outputs": [],
   "source": [
    "movement_t, movement_y = session.lfp_movement()\n",
    "lfp_t, lfp_y = session.lfp_lfp()"
   ]
  },
  {
   "cell_type": "code",
   "execution_count": 19,
   "id": "e5c28311",
   "metadata": {},
   "outputs": [
    {
     "data": {
      "image/png": "[encoded data removed]",
      "text/plain": [
       "<Figure size 1296x720 with 1 Axes>"
      ]
     },
     "metadata": {
      "needs_background": "light"
     },
     "output_type": "display_data"
    }
   ],
   "source": [
    "from matplotlib import pyplot as plt\n",
    "fig = plt.figure(figsize=(18,10))\n",
    "plt.plot(movement_t, movement_y)\n",
    "plt.show()"
   ]
  },
  {
   "cell_type": "markdown",
   "id": "8c407252",
   "metadata": {},
   "source": [
    "## Close session (before opening a new one, for example)"
   ]
  },
  {
   "cell_type": "code",
   "execution_count": 6,
   "id": "cbe5abfe",
   "metadata": {},
   "outputs": [],
   "source": [
    "session.dirty_close()  # this does NOT de-reference session! Just sets the data fields to None so it can be re-used. This should be fixed soon."
   ]
  },
  {
   "cell_type": "code",
   "execution_count": 7,
   "id": "d7bcdfdd",
   "metadata": {},
   "outputs": [
    {
     "data": {
      "text/plain": [
       "<labrotation.two_photon_session.TwoPhotonSession at 0x1bd85c03e20>"
      ]
     },
     "execution_count": 7,
     "metadata": {},
     "output_type": "execute_result"
    }
   ],
   "source": [
    "session"
   ]
  },
  {
   "cell_type": "code",
   "execution_count": null,
   "id": "f582f833",
   "metadata": {},
   "outputs": [],
   "source": []
  }
 ],
 "metadata": {
  "kernelspec": {
   "display_name": "Python 3 (ipykernel)",
   "language": "python",
   "name": "python3"
  },
  "language_info": {
   "codemirror_mode": {
    "name": "ipython",
    "version": 3
   },
   "file_extension": ".py",
   "mimetype": "text/x-python",
   "name": "python",
   "nbconvert_exporter": "python",
   "pygments_lexer": "ipython3",
   "version": "3.9.7"
  }
 },
 "nbformat": 4,
 "nbformat_minor": 5
}
