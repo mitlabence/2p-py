{
 "cells": [
  {
   "cell_type": "code",
   "execution_count": null,
   "id": "c406d110",
   "metadata": {},
   "outputs": [],
   "source": [
    "import os\n",
    "import pims_nd2\n",
    "import numpy as np\n",
    "import pytz\n",
    "import datetime as dt\n",
    "import time\n",
    "from matplotlib import pyplot as plt\n",
    "import labrotation.file_handling as fh"
   ]
  },
  {
   "cell_type": "code",
   "execution_count": null,
   "id": "829538d7",
   "metadata": {},
   "outputs": [],
   "source": [
    "lv_fpath = fh.open_file(\"Open labview .txt file\")\n",
    "lv_tstamp_fpath = fh.open_file(\"Open labview time.txt file\")\n",
    "nik_fpath = fh.open_file(\"Open nd2 file\")"
   ]
  },
  {
   "cell_type": "code",
   "execution_count": null,
   "id": "298ce328",
   "metadata": {},
   "outputs": [],
   "source": [
    "lv_fname = os.path.split(lv_fpath)[1]\n",
    "lv_tstamp_fname = os.path.split(lv_tstamp_fpath)[1]\n",
    "nik_fname = os.path.split(nik_fpath)[1]"
   ]
  },
  {
   "cell_type": "code",
   "execution_count": null,
   "id": "24e37ae5",
   "metadata": {},
   "outputs": [],
   "source": [
    "bad_time_txt = True  # important: if only Nikon stamps in time.txt file, then this should be True. \n",
    "# In this case, the last modification of the time.txt file cannot be used for correcting the delay between closing .txt and\n",
    "# the last row entry."
   ]
  },
  {
   "cell_type": "code",
   "execution_count": null,
   "id": "88dfc103",
   "metadata": {},
   "outputs": [],
   "source": [
    "#folder = \"E:\\\\Nico\\\\T538\\\\120minafterSD\"\n",
    "#lv_fname = \"M278.240123.1129.txt\"\n",
    "#lv_tstamp_fname = \"M278.240123.1129time.txt\"\n",
    "#nik_fname = \"T538_120minafterSD_240123_baseline_002.nd2\"\n",
    "\n",
    "#folder = \"E:\\\\TwoPhoton\\\\tmev\\\\T301\\\\T301_tmev_d1\"\n",
    "#lv_fname = \"T301_tmev_d1.270820.1110.txt\"\n",
    "#lv_tstamp_fname = \"T301_tmev_d1.270820.1110time.txt\"\n",
    "#nik_fname = \"T301_tmev_d1.270820.1110.nd2\"\n",
    "\n",
    "#lv_fpath = os.path.join(folder, lv_fname)\n",
    "#lv_tstamp_fpath = os.path.join(folder, lv_tstamp_fname)\n",
    "#nik_fpath = os.path.join(folder, nik_fname)"
   ]
  },
  {
   "cell_type": "markdown",
   "id": "a0970498",
   "metadata": {},
   "source": [
    "# The Master Plan\n",
    "Get exact time of first frame of the Nikon recording. This has a corresponding entry in the time.txt second column. Get this time in the labview .txt file by approximating last modification date with time stamp of last entry, and trace back to the time of the first Nikon frame."
   ]
  },
  {
   "cell_type": "code",
   "execution_count": null,
   "id": "ad6c3f57",
   "metadata": {},
   "outputs": [],
   "source": [
    "tzone_local = pytz.timezone('Europe/Berlin')\n",
    "tzone_utc = pytz.utc"
   ]
  },
  {
   "cell_type": "markdown",
   "id": "21c49e02",
   "metadata": {},
   "source": [
    "## Read out files\n",
    "### Nikon"
   ]
  },
  {
   "cell_type": "code",
   "execution_count": null,
   "id": "9dfb4643",
   "metadata": {},
   "outputs": [],
   "source": [
    "nik = pims_nd2.ND2_Reader(nik_fpath)"
   ]
  },
  {
   "cell_type": "code",
   "execution_count": null,
   "id": "86e28ce8",
   "metadata": {},
   "outputs": [],
   "source": [
    "# first element is not zero: after starting recording, the first frame was read slightly afterwards\n",
    "nik_stamps_ms = np.array([nik[i_frame].metadata[\"t_ms\"] for i_frame in range(len(nik))])"
   ]
  },
  {
   "cell_type": "markdown",
   "id": "efa3ba11",
   "metadata": {},
   "source": [
    "### Labview time.txt"
   ]
  },
  {
   "cell_type": "code",
   "execution_count": null,
   "id": "03c3e71f",
   "metadata": {},
   "outputs": [],
   "source": [
    "lv_time_stamps = []  # should be recorded in labview file as ms\n",
    "reso = []\n",
    "galvo = []\n",
    "lfp = []\n",
    "\n",
    "with open(lv_tstamp_fpath, \"r\") as f:\n",
    "    lines = [list(map(lambda x: float(x), row.rstrip().split(\"\\t\"))) for row in f.readlines()]\n",
    "    last_line = lines[-1]\n",
    "    next_last_line = lines[-2]\n",
    "    \n",
    "    lv_time_stamps = np.array([line[0] for line in lines])\n",
    "    reso = np.array([line[1] for line in lines]) \n",
    "    galvo = np.array([line[2] for line in lines])\n",
    "    lfp = np.array([line[3] for line in lines])"
   ]
  },
  {
   "cell_type": "code",
   "execution_count": null,
   "id": "0a86aed9",
   "metadata": {},
   "outputs": [],
   "source": [
    "t_stamps_reso = reso[reso.nonzero()[0]]  # assume resonant scanning\n",
    "i_t_stamps_reso = reso.nonzero()[0]"
   ]
  },
  {
   "cell_type": "markdown",
   "id": "457c201d",
   "metadata": {},
   "source": [
    "### Labview .txt"
   ]
  },
  {
   "cell_type": "code",
   "execution_count": null,
   "id": "ae9cc9bd",
   "metadata": {},
   "outputs": [],
   "source": [
    "lv_tstamps_ms = []  # should be recorded in labview file as ms\n",
    "lv_speed = []\n",
    "with open(lv_fpath, \"r\") as f:\n",
    "    lines = [list(map(lambda x: int(x), row.rstrip().split(\"\\t\"))) for row in f.readlines()]\n",
    "    last_line = lines[-1]\n",
    "    next_last_line = lines[-2]\n",
    "    # decide whether to drop last line in file (last_whole_row is in 1-indexing, perfect for [:last_whole_row] indexing)\n",
    "    if len(last_line) < len(next_last_line):\n",
    "        last_whole_row = len(lines) - 1  # skip last line as it is not a properly recorded line\n",
    "    else:\n",
    "        last_whole_row = len(lines)  # use whole file\n",
    "    \n",
    "    lines = lines[:last_whole_row]\n",
    "    \n",
    "    lv_tstamps_ms = np.array([line[8] for line in lines])\n",
    "    lv_speed = np.array([line[1] for line in lines]) "
   ]
  },
  {
   "cell_type": "markdown",
   "id": "df5dbbf9",
   "metadata": {},
   "source": [
    "## Get times\n",
    "### Nikon"
   ]
  },
  {
   "cell_type": "code",
   "execution_count": null,
   "id": "1bb54fd9",
   "metadata": {},
   "outputs": [],
   "source": [
    "t_abs_nik_start = tzone_utc.localize(nik.metadata[\"time_start_utc\"])"
   ]
  },
  {
   "cell_type": "code",
   "execution_count": null,
   "id": "97cbfa5f",
   "metadata": {},
   "outputs": [],
   "source": [
    "t_abs_nik_first_frame = t_abs_nik_start + dt.timedelta(milliseconds=nik_stamps_ms[0])"
   ]
  },
  {
   "cell_type": "code",
   "execution_count": null,
   "id": "bf9afb12",
   "metadata": {},
   "outputs": [],
   "source": [
    "t_abs_nik_last_frame = t_abs_nik_start + dt.timedelta(milliseconds=nik_stamps_ms[-1])"
   ]
  },
  {
   "cell_type": "code",
   "execution_count": null,
   "id": "6387227a",
   "metadata": {},
   "outputs": [],
   "source": [
    "# we can use time.txt end time to correct for last entry <-> last file modification time delta"
   ]
  },
  {
   "cell_type": "markdown",
   "id": "d36dfac6",
   "metadata": {},
   "source": [
    "### Labview .txt"
   ]
  },
  {
   "cell_type": "code",
   "execution_count": null,
   "id": "fb72ea56",
   "metadata": {},
   "outputs": [],
   "source": [
    "t_abs_lv_end = tzone_local.localize(dt.datetime.fromtimestamp(os.path.getmtime(lv_fpath)))\n",
    "print(t_abs_lv_end)"
   ]
  },
  {
   "cell_type": "code",
   "execution_count": null,
   "id": "02a4076e",
   "metadata": {},
   "outputs": [],
   "source": [
    "t_abs_lv_tstamp_end = tzone_local.localize(dt.datetime.fromtimestamp(os.path.getmtime(lv_tstamp_fpath)))  # time.localtime()\n",
    "print(t_abs_lv_tstamp_end)"
   ]
  },
  {
   "cell_type": "code",
   "execution_count": null,
   "id": "a473985a",
   "metadata": {},
   "outputs": [],
   "source": [
    "abs(t_abs_lv_end-t_abs_lv_tstamp_end).total_seconds()  \n",
    "# should be a tiny difference IF time.txt was properly recorded"
   ]
  },
  {
   "cell_type": "code",
   "execution_count": null,
   "id": "c2c1d027",
   "metadata": {},
   "outputs": [],
   "source": [
    "abs(t_abs_nik_last_frame - t_abs_lv_tstamp_end).total_seconds()"
   ]
  },
  {
   "cell_type": "markdown",
   "id": "3714f1c4",
   "metadata": {},
   "source": [
    "### Labview time.txt"
   ]
  },
  {
   "cell_type": "code",
   "execution_count": null,
   "id": "187262f2",
   "metadata": {},
   "outputs": [],
   "source": [
    "dt_lv_tstamp_end_nik_first_s = (t_abs_lv_tstamp_end - t_abs_nik_first_frame).total_seconds()\n",
    "print(dt_lv_tstamp_end_nik_first_s)"
   ]
  },
  {
   "cell_type": "code",
   "execution_count": null,
   "id": "f945c718",
   "metadata": {},
   "outputs": [],
   "source": [
    "t_abs_lv_tstamp_end"
   ]
  },
  {
   "cell_type": "code",
   "execution_count": null,
   "id": "34b19a2e",
   "metadata": {},
   "outputs": [],
   "source": [
    "t_abs_nik_last_frame"
   ]
  },
  {
   "cell_type": "code",
   "execution_count": null,
   "id": "24755fe9",
   "metadata": {},
   "outputs": [],
   "source": [
    "dt_lv_tstamp_end_nik_last_s = (t_abs_lv_tstamp_end - t_abs_nik_last_frame).total_seconds()\n",
    "print(dt_lv_tstamp_end_nik_last_s)"
   ]
  },
  {
   "cell_type": "code",
   "execution_count": null,
   "id": "4846e0c3",
   "metadata": {},
   "outputs": [],
   "source": [
    "assert dt_lv_tstamp_end_nik_first_s > 0  # labview end should come after first nikon frame"
   ]
  },
  {
   "cell_type": "code",
   "execution_count": null,
   "id": "9171036f",
   "metadata": {},
   "outputs": [],
   "source": [
    "# calculate back from last labview .txt entry\n",
    "if not bad_time_txt:  # first column has normal labview time stamps\n",
    "    t_lv_tstamps_first_nik_ms = lv_time_stamps[-1] - 1000.*dt_lv_tstamp_end_nik_first_s\n",
    "else:  # only nikon frames in time.txt, i.e. second column non-zero, first column full zero. Last entry into file is \n",
    "    t_lv_tstamps_first_nik_ms = t_stamps_reso[-1] - 1000.*dt_lv_tstamp_end_nik_first_s\n",
    "print(t_lv_tstamps_first_nik_ms)"
   ]
  },
  {
   "cell_type": "markdown",
   "id": "5c9e5ec9",
   "metadata": {},
   "source": [
    "### Calculate error in estimation in time.txt\n",
    "The first Nikon frame is approximated, but also exists in the file. We can compare the two values and apply it to the labview txt file."
   ]
  },
  {
   "cell_type": "code",
   "execution_count": null,
   "id": "408fad8d",
   "metadata": {},
   "outputs": [],
   "source": [
    "t_lv_tstamps_first_nik_true_ms = t_stamps_reso[0]"
   ]
  },
  {
   "cell_type": "code",
   "execution_count": null,
   "id": "6c91ec06",
   "metadata": {},
   "outputs": [],
   "source": [
    "dt_file_end_last_entry_ms =  t_lv_tstamps_first_nik_ms - t_lv_tstamps_first_nik_true_ms\n",
    "assert dt_file_end_last_entry_ms > 0  # assumption is that labview file ALWAYS gets last modification slightly AFTER writing last entry..."
   ]
  },
  {
   "cell_type": "markdown",
   "id": "eaa0161b",
   "metadata": {},
   "source": [
    "### Get Nikon first frame time in Labview .txt"
   ]
  },
  {
   "cell_type": "code",
   "execution_count": null,
   "id": "224ebb1d",
   "metadata": {},
   "outputs": [],
   "source": [
    "dt_lv_end_nik_first_s = (t_abs_lv_end - t_abs_nik_first_frame).total_seconds() \n",
    "print(f\"{dt_lv_end_nik_first_s/60.}  minutes between end of labview file and first Nikon frame\")"
   ]
  },
  {
   "cell_type": "code",
   "execution_count": null,
   "id": "4c98da25",
   "metadata": {},
   "outputs": [],
   "source": [
    "# correct for the fact that the file closing time stamp is always later than the actual last entry time stamp\n",
    "dt_lv_end_nik_first_s_corrected = dt_lv_end_nik_first_s - dt_file_end_last_entry_ms/1000."
   ]
  },
  {
   "cell_type": "code",
   "execution_count": null,
   "id": "aa2afc66",
   "metadata": {},
   "outputs": [],
   "source": [
    "assert dt_lv_end_nik_first_s_corrected > 0  # labview end should come after first nikon frame"
   ]
  },
  {
   "cell_type": "code",
   "execution_count": null,
   "id": "f5d1527e",
   "metadata": {},
   "outputs": [],
   "source": [
    "print(f\"{dt_lv_end_nik_first_s_corrected/60.} corrected minutes between end of labview file and first Nikon frame\")"
   ]
  },
  {
   "cell_type": "code",
   "execution_count": null,
   "id": "e516ad29",
   "metadata": {},
   "outputs": [],
   "source": [
    "# calculate back from last labview .txt entry\n",
    "t_lv_first_nik =  lv_tstamps_ms[-1]   - 1000.*dt_lv_end_nik_first_s_corrected\n",
    "print(f\"{t_lv_first_nik} time of first nikon frame in labview\")"
   ]
  },
  {
   "cell_type": "code",
   "execution_count": null,
   "id": "373028e5",
   "metadata": {},
   "outputs": [],
   "source": [
    "# 0-indexing, index of first time stamp that is larger than the nikon starting time\n",
    "i_nik_start = np.searchsorted(lv_tstamps_ms, t_lv_first_nik)  \n",
    "print(i_nik_start)"
   ]
  },
  {
   "cell_type": "code",
   "execution_count": null,
   "id": "db2c7668",
   "metadata": {},
   "outputs": [],
   "source": [
    "t_abs_lv_start = t_abs_lv_end - dt.timedelta(seconds=(lv_tstamps_ms[-1]/1000.))"
   ]
  },
  {
   "cell_type": "markdown",
   "id": "8e5266e9",
   "metadata": {},
   "source": [
    "### Get offset between .txt and time.txt"
   ]
  },
  {
   "cell_type": "code",
   "execution_count": null,
   "id": "dc5c6a1a",
   "metadata": {},
   "outputs": [],
   "source": [
    "dt_lv_lvtime = t_lv_tstamps_first_nik_true_ms - t_lv_first_nik\n",
    "print(dt_lv_lvtime)"
   ]
  },
  {
   "cell_type": "code",
   "execution_count": null,
   "id": "a2c28ab0",
   "metadata": {},
   "outputs": [],
   "source": [
    "lv_tstamps_ms_shifted = lv_tstamps_ms + dt_lv_lvtime"
   ]
  },
  {
   "cell_type": "code",
   "execution_count": null,
   "id": "da688b3d",
   "metadata": {},
   "outputs": [],
   "source": [
    "lv_tstamps_ms_shifted[i_nik_start]"
   ]
  },
  {
   "cell_type": "code",
   "execution_count": null,
   "id": "c6804ee5",
   "metadata": {},
   "outputs": [],
   "source": [
    "#t_stamps_reso\n",
    "#i_t_stamps_reso"
   ]
  },
  {
   "cell_type": "code",
   "execution_count": null,
   "id": "517c1c12",
   "metadata": {},
   "outputs": [],
   "source": [
    "t_stamps_reso[0]"
   ]
  },
  {
   "cell_type": "markdown",
   "id": "f4aa33f7",
   "metadata": {},
   "source": [
    "### Calculate time between first labview .txt/time.txt entry and first nikon frames\n",
    "They should be roughly equal shouldn't they?"
   ]
  },
  {
   "cell_type": "code",
   "execution_count": null,
   "id": "865cc485",
   "metadata": {},
   "outputs": [],
   "source": [
    "t_abs_nik_first_frame"
   ]
  },
  {
   "cell_type": "code",
   "execution_count": null,
   "id": "5d5769fe",
   "metadata": {},
   "outputs": [],
   "source": [
    "dt_lv_time_s = (reso[-1] - lv_time_stamps[0])/1000."
   ]
  },
  {
   "cell_type": "code",
   "execution_count": null,
   "id": "94163ba2",
   "metadata": {},
   "outputs": [],
   "source": [
    "t_abs_lv_tstamp_start = t_abs_lv_tstamp_end -  dt.timedelta(seconds=dt_lv_time_s)"
   ]
  },
  {
   "cell_type": "code",
   "execution_count": null,
   "id": "5037031e",
   "metadata": {},
   "outputs": [],
   "source": [
    "dt_lvtime_start_nik_start = (reso[1] - lv_time_stamps[0])/1000."
   ]
  },
  {
   "cell_type": "code",
   "execution_count": null,
   "id": "732db8eb",
   "metadata": {},
   "outputs": [],
   "source": [
    "dt_lv_start_nik_start = (t_abs_nik_first_frame - t_abs_lv_start)"
   ]
  },
  {
   "cell_type": "code",
   "execution_count": null,
   "id": "e6404930",
   "metadata": {},
   "outputs": [],
   "source": [
    "dt_lv_start_nik_start.total_seconds()"
   ]
  },
  {
   "cell_type": "code",
   "execution_count": null,
   "id": "dd2cdd12",
   "metadata": {},
   "outputs": [],
   "source": [
    "dt_lvtime_start_nik_start"
   ]
  },
  {
   "cell_type": "markdown",
   "id": "28cd4d03",
   "metadata": {},
   "source": [
    "# Create corrected time.txt file"
   ]
  },
  {
   "cell_type": "code",
   "execution_count": null,
   "id": "93bbed18",
   "metadata": {},
   "outputs": [],
   "source": [
    "lv_time_stamps"
   ]
  },
  {
   "cell_type": "code",
   "execution_count": null,
   "id": "ca7c550a",
   "metadata": {},
   "outputs": [],
   "source": [
    "len(reso.nonzero()[0])"
   ]
  },
  {
   "cell_type": "code",
   "execution_count": null,
   "id": "10dbdf48",
   "metadata": {},
   "outputs": [],
   "source": [
    "# columns are:\n",
    "# lv_time_stamps\n",
    "# reso\n",
    "# galvo\n",
    "# lfp"
   ]
  },
  {
   "cell_type": "code",
   "execution_count": null,
   "id": "1695fb96",
   "metadata": {},
   "outputs": [],
   "source": [
    "len(lv_tstamps_ms_shifted) "
   ]
  },
  {
   "cell_type": "code",
   "execution_count": null,
   "id": "bf761504",
   "metadata": {},
   "outputs": [],
   "source": [
    "len(reso.nonzero()[0])"
   ]
  },
  {
   "cell_type": "code",
   "execution_count": null,
   "id": "6bd816e7",
   "metadata": {},
   "outputs": [],
   "source": [
    "len_corr = len(lv_tstamps_ms_shifted) + len(reso.nonzero()[0]) + 1  # first row will be kept in new time.txt\n",
    "lv_time_stamps_corr = np.zeros(len_corr)\n",
    "reso_corr = np.zeros(len_corr)\n",
    "galvo_corr = np.zeros(len_corr)\n",
    "lfp_corr = np.zeros(len_corr)"
   ]
  },
  {
   "cell_type": "code",
   "execution_count": null,
   "id": "976b9ea1",
   "metadata": {},
   "outputs": [],
   "source": [
    "galvo.sum()"
   ]
  },
  {
   "cell_type": "code",
   "execution_count": null,
   "id": "e888d1c8",
   "metadata": {},
   "outputs": [],
   "source": [
    "lfp"
   ]
  },
  {
   "cell_type": "markdown",
   "id": "605c6405",
   "metadata": {},
   "source": [
    "### Fill first two columns\n",
    "third and fourth, galvo and lfp, should be empty"
   ]
  },
  {
   "cell_type": "code",
   "execution_count": null,
   "id": "cb1f14ed",
   "metadata": {},
   "outputs": [],
   "source": [
    "assert lv_tstamps_ms_shifted[-1] > t_stamps_reso[-1]"
   ]
  },
  {
   "cell_type": "code",
   "execution_count": null,
   "id": "da0ba977",
   "metadata": {},
   "outputs": [],
   "source": [
    "# copy first row\n",
    "lv_time_stamps_corr[0] = lv_time_stamps[0]\n",
    "reso_corr[0] = reso[0]\n",
    "galvo_corr[0] = galvo[0]\n",
    "lfp_corr[0] = lfp[0]"
   ]
  },
  {
   "cell_type": "code",
   "execution_count": null,
   "id": "982fd3a1",
   "metadata": {},
   "outputs": [],
   "source": [
    "# loop through both columns simultaneously, insert nikon time stamps (reso) in second column at appropriate locations.\n",
    "i_tstamp = 0\n",
    "i_reso = 0\n",
    "i_new = 1\n",
    "while i_new < len_corr:\n",
    "    if lv_tstamps_ms_shifted[i_tstamp] < t_stamps_reso[i_reso]:\n",
    "        lv_time_stamps_corr[i_new] = lv_tstamps_ms_shifted[i_tstamp]\n",
    "        i_tstamp += 1\n",
    "    else:\n",
    "        reso_corr[i_new] = t_stamps_reso[i_reso]\n",
    "        i_reso += 1\n",
    "    if i_reso == len(t_stamps_reso):\n",
    "        i_new += 1\n",
    "        break\n",
    "    i_new += 1\n",
    "\n",
    "assert i_reso == len(t_stamps_reso)\n",
    "if i_new < len_corr:\n",
    "    lv_time_stamps_corr[i_new:] = lv_tstamps_ms_shifted[i_tstamp:]"
   ]
  },
  {
   "cell_type": "markdown",
   "id": "5a32a86c",
   "metadata": {},
   "source": [
    "### Test results"
   ]
  },
  {
   "cell_type": "code",
   "execution_count": null,
   "id": "13ef520a",
   "metadata": {},
   "outputs": [],
   "source": [
    "assert len(reso_corr.nonzero()[0]) == len(reso.nonzero()[0])\n",
    "if not bad_time_txt:\n",
    "    assert len_corr == (len(lv_time_stamps_corr.nonzero()[0]) + len(reso_corr.nonzero()[0]) + 1) \n",
    "else:  # first row of broken time.txt has non-zero first column value\n",
    "    assert len(lv_time_stamps_corr.nonzero()[0]) - 1 == len(lv_tstamps_ms_shifted)\n"
   ]
  },
  {
   "cell_type": "code",
   "execution_count": null,
   "id": "7689e22e",
   "metadata": {},
   "outputs": [],
   "source": [
    "if not(lv_time_stamps_corr[0] < lv_time_stamps_corr[1]):\n",
    "    print(\"Warning: original first row belt (first column) entry of time.txt larger than first subsequent matched .txt time stamp!\")\n",
    "    print(\"Trying to dirty fix it...\")\n",
    "    # remove first row\n",
    "    lv_time_stamps_corr = lv_time_stamps_corr[1:]\n",
    "    reso_corr = reso_corr[1:]\n",
    "    galvo_corr = galvo_corr[1:]\n",
    "    lfp_corr = lfp_corr[1:]\n",
    "    # mimic first row in other columns\n",
    "    lfp_corr[0] = lv_time_stamps_corr[0]\n",
    "    print(\"Success\")"
   ]
  },
  {
   "cell_type": "code",
   "execution_count": null,
   "id": "2722895d",
   "metadata": {},
   "outputs": [],
   "source": [
    "#len(lv_time_stamps_corr)\n",
    "len(galvo_corr)"
   ]
  },
  {
   "cell_type": "code",
   "execution_count": null,
   "id": "278fe46c",
   "metadata": {},
   "outputs": [],
   "source": [
    "export_folder = \"D:\\\\Downloads\""
   ]
  },
  {
   "cell_type": "code",
   "execution_count": null,
   "id": "2e10def8",
   "metadata": {},
   "outputs": [],
   "source": [
    "lv_tstamp_corr_fname = os.path.splitext(lv_tstamp_fname)[0]+\"_corr.txt\"\n",
    "print(lv_tstamp_corr_fname)"
   ]
  },
  {
   "cell_type": "code",
   "execution_count": null,
   "id": "431d21c0",
   "metadata": {},
   "outputs": [],
   "source": [
    "export_fpath = os.path.join(export_folder, lv_tstamp_corr_fname)"
   ]
  },
  {
   "cell_type": "code",
   "execution_count": null,
   "id": "b306cbd0",
   "metadata": {},
   "outputs": [],
   "source": [
    "with open(export_fpath, \"w\") as f:\n",
    "    for i_row in range(len(lv_time_stamps_corr)):\n",
    "        f.write(f\"{lv_time_stamps_corr[i_row]:.3f}\\t{reso_corr[i_row]:.3f}\\t{galvo_corr[i_row]:.3f}\\t{lfp_corr[i_row]:.3f}\\n\")"
   ]
  },
  {
   "cell_type": "code",
   "execution_count": null,
   "id": "acee4374",
   "metadata": {},
   "outputs": [],
   "source": []
  }
 ],
 "metadata": {
  "kernelspec": {
   "display_name": "Python 3 (ipykernel)",
   "language": "python",
   "name": "python3"
  },
  "language_info": {
   "codemirror_mode": {
    "name": "ipython",
    "version": 3
   },
   "file_extension": ".py",
   "mimetype": "text/x-python",
   "name": "python",
   "nbconvert_exporter": "python",
   "pygments_lexer": "ipython3",
   "version": "3.8.12"
  }
 },
 "nbformat": 4,
 "nbformat_minor": 5
}
