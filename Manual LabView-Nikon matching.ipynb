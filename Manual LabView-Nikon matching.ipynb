{
 "cells": [
  {
   "cell_type": "code",
   "execution_count": null,
   "id": "c406d110",
   "metadata": {},
   "outputs": [],
   "source": [
    "import os\n",
    "import pims_nd2\n",
    "import numpy as np\n",
    "import pytz\n",
    "import datetime as dt\n",
    "import time\n",
    "from matplotlib import pyplot as plt\n",
    "import labrotation.file_handling as fh"
   ]
  },
  {
   "cell_type": "code",
   "execution_count": null,
   "id": "829538d7",
   "metadata": {},
   "outputs": [],
   "source": [
    "lv_fpath = fh.open_file(\"Open labview .txt file\")\n",
    "lv_tstamp_fpath = fh.open_file(\"Open labview time.txt file\")\n",
    "nik_fpath = fh.open_file(\"Open nd2 file\")"
   ]
  },
  {
   "cell_type": "code",
   "execution_count": null,
   "id": "298ce328",
   "metadata": {},
   "outputs": [],
   "source": [
    "lv_fname = os.path.split(lv_fpath)[1]\n",
    "lv_tstamp_fname = os.path.split(lv_tstamp_fpath)[1]\n",
    "nik_fname = os.path.split(nik_fpath)[1]"
   ]
  },
  {
   "cell_type": "code",
   "execution_count": null,
   "id": "24e37ae5",
   "metadata": {},
   "outputs": [],
   "source": [
    "bad_time_txt = True  # important: if only Nikon stamps in time.txt file, then this should be True. \n",
    "# In this case, the last modification of the time.txt file cannot be used for correcting the delay between closing .txt and\n",
    "# the last row entry."
   ]
  },
  {
   "cell_type": "code",
   "execution_count": null,
   "id": "88dfc103",
   "metadata": {},
   "outputs": [],
   "source": [
    "#folder = \"E:\\\\Nico\\\\T538\\\\120minafterSD\"\n",
    "#lv_fname = \"M278.240123.1129.txt\"\n",
    "#lv_tstamp_fname = \"M278.240123.1129time.txt\"\n",
    "#nik_fname = \"T538_120minafterSD_240123_baseline_002.nd2\"\n",
    "\n",
    "#folder = \"E:\\\\TwoPhoton\\\\tmev\\\\T301\\\\T301_tmev_d1\"\n",
    "#lv_fname = \"T301_tmev_d1.270820.1110.txt\"\n",
    "#lv_tstamp_fname = \"T301_tmev_d1.270820.1110time.txt\"\n",
    "#nik_fname = \"T301_tmev_d1.270820.1110.nd2\"\n",
    "\n",
    "#lv_fpath = os.path.join(folder, lv_fname)\n",
    "#lv_tstamp_fpath = os.path.join(folder, lv_tstamp_fname)\n",
    "#nik_fpath = os.path.join(folder, nik_fname)"
   ]
  },
  {
   "cell_type": "markdown",
   "id": "a0970498",
   "metadata": {},
   "source": [
    "# The Master Plan - obscure method\n",
    "Get exact time of first frame of the Nikon recording. This has a corresponding entry in the time.txt second column. Get this time in the labview .txt file by approximating last modification date with time stamp of last entry, and trace back to the time of the first Nikon frame."
   ]
  },
  {
   "cell_type": "code",
   "execution_count": null,
   "id": "ad6c3f57",
   "metadata": {},
   "outputs": [],
   "source": [
    "tzone_local = pytz.timezone('Europe/Berlin')\n",
    "tzone_utc = pytz.utc"
   ]
  },
  {
   "cell_type": "markdown",
   "id": "21c49e02",
   "metadata": {},
   "source": [
    "## Read out files\n",
    "### Nikon"
   ]
  },
  {
   "cell_type": "code",
   "execution_count": null,
   "id": "9dfb4643",
   "metadata": {},
   "outputs": [],
   "source": [
    "nik = pims_nd2.ND2_Reader(nik_fpath)"
   ]
  },
  {
   "cell_type": "code",
   "execution_count": null,
   "id": "86e28ce8",
   "metadata": {},
   "outputs": [],
   "source": [
    "# first element is not zero: after starting recording, the first frame was read slightly afterwards\n",
    "# metadata[\"t_ms\"] is the NIDAQ time (_nik.txt first and third columns)\n",
    "nik_stamps_ms = np.array([nik[i_frame].metadata[\"t_ms\"] for i_frame in range(len(nik))])"
   ]
  },
  {
   "cell_type": "markdown",
   "id": "efa3ba11",
   "metadata": {},
   "source": [
    "### Labview time.txt"
   ]
  },
  {
   "cell_type": "code",
   "execution_count": null,
   "id": "03c3e71f",
   "metadata": {},
   "outputs": [],
   "source": [
    "lv_time_stamps = []  # should be recorded in labview file as ms\n",
    "reso = []\n",
    "galvo = []\n",
    "lfp = []\n",
    "\n",
    "with open(lv_tstamp_fpath, \"r\") as f:\n",
    "    lines = [list(map(lambda x: float(x), row.rstrip().split(\"\\t\"))) for row in f.readlines()]\n",
    "    last_line = lines[-1]\n",
    "    next_last_line = lines[-2]\n",
    "    \n",
    "    lv_time_stamps = np.array([line[0] for line in lines])\n",
    "    reso = np.array([line[1] for line in lines]) \n",
    "    galvo = np.array([line[2] for line in lines])\n",
    "    lfp = np.array([line[3] for line in lines])"
   ]
  },
  {
   "cell_type": "code",
   "execution_count": null,
   "id": "0a86aed9",
   "metadata": {},
   "outputs": [],
   "source": [
    "t_stamps_reso = reso[reso.nonzero()[0]]  # assume resonant scanning\n",
    "i_t_stamps_reso = reso.nonzero()[0]"
   ]
  },
  {
   "cell_type": "markdown",
   "id": "457c201d",
   "metadata": {},
   "source": [
    "### Labview .txt"
   ]
  },
  {
   "cell_type": "code",
   "execution_count": null,
   "id": "ae9cc9bd",
   "metadata": {},
   "outputs": [],
   "source": [
    "lv_tstamps_ms = []  # should be recorded in labview file as ms\n",
    "lv_speed = []\n",
    "with open(lv_fpath, \"r\") as f:\n",
    "    lines = [list(map(lambda x: int(x), row.rstrip().split(\"\\t\"))) for row in f.readlines()]\n",
    "    last_line = lines[-1]\n",
    "    next_last_line = lines[-2]\n",
    "    # decide whether to drop last line in file (last_whole_row is in 1-indexing, perfect for [:last_whole_row] indexing)\n",
    "    if len(last_line) < len(next_last_line):\n",
    "        last_whole_row = len(lines) - 1  # skip last line as it is not a properly recorded line\n",
    "    else:\n",
    "        last_whole_row = len(lines)  # use whole file\n",
    "    \n",
    "    lines = lines[:last_whole_row]\n",
    "    \n",
    "    lv_tstamps_ms = np.array([line[8] for line in lines])\n",
    "    lv_speed = np.array([line[1] for line in lines]) "
   ]
  },
  {
   "cell_type": "markdown",
   "id": "df5dbbf9",
   "metadata": {},
   "source": [
    "## Get times\n",
    "### Nikon"
   ]
  },
  {
   "cell_type": "code",
   "execution_count": null,
   "id": "1bb54fd9",
   "metadata": {},
   "outputs": [],
   "source": [
    "t_abs_nik_start = tzone_utc.localize(nik.metadata[\"time_start_utc\"])"
   ]
  },
  {
   "cell_type": "code",
   "execution_count": null,
   "id": "97cbfa5f",
   "metadata": {},
   "outputs": [],
   "source": [
    "t_abs_nik_first_frame = t_abs_nik_start + dt.timedelta(milliseconds=nik_stamps_ms[0])"
   ]
  },
  {
   "cell_type": "code",
   "execution_count": null,
   "id": "bf9afb12",
   "metadata": {},
   "outputs": [],
   "source": [
    "t_abs_nik_last_frame = t_abs_nik_start + dt.timedelta(milliseconds=nik_stamps_ms[-1])"
   ]
  },
  {
   "cell_type": "code",
   "execution_count": null,
   "id": "6387227a",
   "metadata": {},
   "outputs": [],
   "source": [
    "# we can use time.txt end time to correct for last entry <-> last file modification time delta"
   ]
  },
  {
   "cell_type": "markdown",
   "id": "d36dfac6",
   "metadata": {},
   "source": [
    "### Labview .txt"
   ]
  },
  {
   "cell_type": "code",
   "execution_count": null,
   "id": "fb72ea56",
   "metadata": {},
   "outputs": [],
   "source": [
    "t_abs_lv_end = tzone_local.localize(dt.datetime.fromtimestamp(os.path.getmtime(lv_fpath)))\n",
    "print(t_abs_lv_end)"
   ]
  },
  {
   "cell_type": "code",
   "execution_count": null,
   "id": "02a4076e",
   "metadata": {},
   "outputs": [],
   "source": [
    "t_abs_lv_tstamp_end = tzone_local.localize(dt.datetime.fromtimestamp(os.path.getmtime(lv_tstamp_fpath)))  # time.localtime()\n",
    "print(t_abs_lv_tstamp_end)"
   ]
  },
  {
   "cell_type": "code",
   "execution_count": null,
   "id": "a473985a",
   "metadata": {},
   "outputs": [],
   "source": [
    "abs(t_abs_lv_end-t_abs_lv_tstamp_end).total_seconds()  \n",
    "# should be a tiny difference IF time.txt was properly recorded"
   ]
  },
  {
   "cell_type": "code",
   "execution_count": null,
   "id": "c2c1d027",
   "metadata": {},
   "outputs": [],
   "source": [
    "abs(t_abs_nik_last_frame - t_abs_lv_tstamp_end).total_seconds()"
   ]
  },
  {
   "cell_type": "markdown",
   "id": "3714f1c4",
   "metadata": {},
   "source": [
    "### Labview time.txt"
   ]
  },
  {
   "cell_type": "code",
   "execution_count": null,
   "id": "187262f2",
   "metadata": {},
   "outputs": [],
   "source": [
    "dt_lv_tstamp_end_nik_first_s = (t_abs_lv_tstamp_end - t_abs_nik_first_frame).total_seconds()\n",
    "print(dt_lv_tstamp_end_nik_first_s)"
   ]
  },
  {
   "cell_type": "code",
   "execution_count": null,
   "id": "f945c718",
   "metadata": {},
   "outputs": [],
   "source": [
    "t_abs_lv_tstamp_end"
   ]
  },
  {
   "cell_type": "code",
   "execution_count": null,
   "id": "34b19a2e",
   "metadata": {},
   "outputs": [],
   "source": [
    "t_abs_nik_last_frame"
   ]
  },
  {
   "cell_type": "code",
   "execution_count": null,
   "id": "24755fe9",
   "metadata": {},
   "outputs": [],
   "source": [
    "dt_lv_tstamp_end_nik_last_s = (t_abs_lv_tstamp_end - t_abs_nik_last_frame).total_seconds()\n",
    "print(dt_lv_tstamp_end_nik_last_s)"
   ]
  },
  {
   "cell_type": "code",
   "execution_count": null,
   "id": "4846e0c3",
   "metadata": {},
   "outputs": [],
   "source": [
    "assert dt_lv_tstamp_end_nik_first_s > 0  # labview end should come after first nikon frame"
   ]
  },
  {
   "cell_type": "code",
   "execution_count": null,
   "id": "9171036f",
   "metadata": {},
   "outputs": [],
   "source": [
    "# calculate back from last labview .txt entry\n",
    "if not bad_time_txt:  # first column has normal labview time stamps\n",
    "    t_lv_tstamps_first_nik_ms = lv_time_stamps[-1] - 1000.*dt_lv_tstamp_end_nik_first_s\n",
    "else:  # only nikon frames in time.txt, i.e. second column non-zero, first column full zero. Last entry into file is \n",
    "    t_lv_tstamps_first_nik_ms = t_stamps_reso[-1] - 1000.*dt_lv_tstamp_end_nik_first_s\n",
    "print(t_lv_tstamps_first_nik_ms)"
   ]
  },
  {
   "cell_type": "markdown",
   "id": "5c9e5ec9",
   "metadata": {},
   "source": [
    "### Calculate error in estimation in time.txt\n",
    "The first Nikon frame is approximated, but also exists in the file. We can compare the two values and apply it to the labview txt file."
   ]
  },
  {
   "cell_type": "code",
   "execution_count": null,
   "id": "408fad8d",
   "metadata": {},
   "outputs": [],
   "source": [
    "t_lv_tstamps_first_nik_true_ms = t_stamps_reso[0]"
   ]
  },
  {
   "cell_type": "code",
   "execution_count": null,
   "id": "6c91ec06",
   "metadata": {},
   "outputs": [],
   "source": [
    "dt_file_end_last_entry_ms =  t_lv_tstamps_first_nik_ms - t_lv_tstamps_first_nik_true_ms\n",
    "assert dt_file_end_last_entry_ms > 0  # assumption is that labview file ALWAYS gets last modification slightly AFTER writing last entry..."
   ]
  },
  {
   "cell_type": "markdown",
   "id": "eaa0161b",
   "metadata": {},
   "source": [
    "### Get Nikon first frame time in Labview .txt"
   ]
  },
  {
   "cell_type": "code",
   "execution_count": null,
   "id": "224ebb1d",
   "metadata": {},
   "outputs": [],
   "source": [
    "dt_lv_end_nik_first_s = (t_abs_lv_end - t_abs_nik_first_frame).total_seconds() \n",
    "print(f\"{dt_lv_end_nik_first_s/60.}  minutes between end of labview file and first Nikon frame\")"
   ]
  },
  {
   "cell_type": "code",
   "execution_count": null,
   "id": "4c98da25",
   "metadata": {},
   "outputs": [],
   "source": [
    "# correct for the fact that the file closing time stamp is always later than the actual last entry time stamp\n",
    "dt_lv_end_nik_first_s_corrected = dt_lv_end_nik_first_s - dt_file_end_last_entry_ms/1000."
   ]
  },
  {
   "cell_type": "code",
   "execution_count": null,
   "id": "aa2afc66",
   "metadata": {},
   "outputs": [],
   "source": [
    "assert dt_lv_end_nik_first_s_corrected > 0  # labview end should come after first nikon frame"
   ]
  },
  {
   "cell_type": "code",
   "execution_count": null,
   "id": "f5d1527e",
   "metadata": {},
   "outputs": [],
   "source": [
    "print(f\"{dt_lv_end_nik_first_s_corrected/60.} corrected minutes between end of labview file and first Nikon frame\")"
   ]
  },
  {
   "cell_type": "code",
   "execution_count": null,
   "id": "e516ad29",
   "metadata": {},
   "outputs": [],
   "source": [
    "# calculate back from last labview .txt entry\n",
    "t_lv_first_nik =  lv_tstamps_ms[-1]   - 1000.*dt_lv_end_nik_first_s_corrected\n",
    "print(f\"{t_lv_first_nik} time of first nikon frame in labview\")"
   ]
  },
  {
   "cell_type": "code",
   "execution_count": null,
   "id": "373028e5",
   "metadata": {},
   "outputs": [],
   "source": [
    "# 0-indexing, index of first time stamp that is larger than the nikon starting time\n",
    "i_nik_start = np.searchsorted(lv_tstamps_ms, t_lv_first_nik)  \n",
    "print(i_nik_start)"
   ]
  },
  {
   "cell_type": "code",
   "execution_count": null,
   "id": "db2c7668",
   "metadata": {},
   "outputs": [],
   "source": [
    "t_abs_lv_start = t_abs_lv_end - dt.timedelta(seconds=(lv_tstamps_ms[-1]/1000.))"
   ]
  },
  {
   "cell_type": "markdown",
   "id": "8e5266e9",
   "metadata": {},
   "source": [
    "### Get offset between .txt and time.txt"
   ]
  },
  {
   "cell_type": "code",
   "execution_count": null,
   "id": "dc5c6a1a",
   "metadata": {},
   "outputs": [],
   "source": [
    "dt_lv_lvtime = t_lv_tstamps_first_nik_true_ms - t_lv_first_nik\n",
    "print(dt_lv_lvtime)"
   ]
  },
  {
   "cell_type": "code",
   "execution_count": null,
   "id": "a2c28ab0",
   "metadata": {},
   "outputs": [],
   "source": [
    "lv_tstamps_ms_shifted = lv_tstamps_ms + dt_lv_lvtime"
   ]
  },
  {
   "cell_type": "code",
   "execution_count": null,
   "id": "da688b3d",
   "metadata": {},
   "outputs": [],
   "source": [
    "lv_tstamps_ms_shifted[i_nik_start]"
   ]
  },
  {
   "cell_type": "code",
   "execution_count": null,
   "id": "c6804ee5",
   "metadata": {},
   "outputs": [],
   "source": [
    "#t_stamps_reso\n",
    "#i_t_stamps_reso"
   ]
  },
  {
   "cell_type": "code",
   "execution_count": null,
   "id": "517c1c12",
   "metadata": {},
   "outputs": [],
   "source": [
    "t_stamps_reso[0]"
   ]
  },
  {
   "cell_type": "markdown",
   "id": "f4aa33f7",
   "metadata": {},
   "source": [
    "### Calculate time between first labview .txt/time.txt entry and first nikon frames\n",
    "They should be roughly equal shouldn't they?"
   ]
  },
  {
   "cell_type": "code",
   "execution_count": null,
   "id": "865cc485",
   "metadata": {},
   "outputs": [],
   "source": [
    "t_abs_nik_first_frame"
   ]
  },
  {
   "cell_type": "code",
   "execution_count": null,
   "id": "5d5769fe",
   "metadata": {},
   "outputs": [],
   "source": [
    "dt_lv_time_s = (reso[-1] - lv_time_stamps[0])/1000."
   ]
  },
  {
   "cell_type": "code",
   "execution_count": null,
   "id": "94163ba2",
   "metadata": {},
   "outputs": [],
   "source": [
    "t_abs_lv_tstamp_start = t_abs_lv_tstamp_end -  dt.timedelta(seconds=dt_lv_time_s)"
   ]
  },
  {
   "cell_type": "code",
   "execution_count": null,
   "id": "5037031e",
   "metadata": {},
   "outputs": [],
   "source": [
    "dt_lvtime_start_nik_start = (reso[1] - lv_time_stamps[0])/1000."
   ]
  },
  {
   "cell_type": "code",
   "execution_count": null,
   "id": "732db8eb",
   "metadata": {},
   "outputs": [],
   "source": [
    "dt_lv_start_nik_start = (t_abs_nik_first_frame - t_abs_lv_start)"
   ]
  },
  {
   "cell_type": "code",
   "execution_count": null,
   "id": "e6404930",
   "metadata": {},
   "outputs": [],
   "source": [
    "dt_lv_start_nik_start.total_seconds()"
   ]
  },
  {
   "cell_type": "code",
   "execution_count": null,
   "id": "dd2cdd12",
   "metadata": {},
   "outputs": [],
   "source": [
    "dt_lvtime_start_nik_start"
   ]
  },
  {
   "cell_type": "markdown",
   "id": "28cd4d03",
   "metadata": {},
   "source": [
    "# Create corrected time.txt file"
   ]
  },
  {
   "cell_type": "code",
   "execution_count": null,
   "id": "93bbed18",
   "metadata": {},
   "outputs": [],
   "source": [
    "lv_time_stamps"
   ]
  },
  {
   "cell_type": "code",
   "execution_count": null,
   "id": "ca7c550a",
   "metadata": {},
   "outputs": [],
   "source": [
    "len(reso.nonzero()[0])"
   ]
  },
  {
   "cell_type": "code",
   "execution_count": null,
   "id": "10dbdf48",
   "metadata": {},
   "outputs": [],
   "source": [
    "# columns are:\n",
    "# lv_time_stamps\n",
    "# reso\n",
    "# galvo\n",
    "# lfp"
   ]
  },
  {
   "cell_type": "code",
   "execution_count": null,
   "id": "1695fb96",
   "metadata": {},
   "outputs": [],
   "source": [
    "len(lv_tstamps_ms_shifted)"
   ]
  },
  {
   "cell_type": "code",
   "execution_count": null,
   "id": "a6a413b4",
   "metadata": {},
   "outputs": [],
   "source": [
    "len(t_stamps_reso)"
   ]
  },
  {
   "cell_type": "code",
   "execution_count": null,
   "id": "bf761504",
   "metadata": {},
   "outputs": [],
   "source": [
    "len(reso.nonzero()[0])"
   ]
  },
  {
   "cell_type": "code",
   "execution_count": null,
   "id": "6bd816e7",
   "metadata": {},
   "outputs": [],
   "source": [
    "len_corr = len(lv_tstamps_ms_shifted) + len(reso.nonzero()[0]) + 1  # first row will be kept in new time.txt\n",
    "lv_time_stamps_corr = np.zeros(len_corr)\n",
    "reso_corr = np.zeros(len_corr)\n",
    "galvo_corr = np.zeros(len_corr)\n",
    "lfp_corr = np.zeros(len_corr)"
   ]
  },
  {
   "cell_type": "code",
   "execution_count": null,
   "id": "976b9ea1",
   "metadata": {},
   "outputs": [],
   "source": [
    "galvo.sum()"
   ]
  },
  {
   "cell_type": "code",
   "execution_count": null,
   "id": "e888d1c8",
   "metadata": {},
   "outputs": [],
   "source": [
    "lfp"
   ]
  },
  {
   "cell_type": "markdown",
   "id": "605c6405",
   "metadata": {},
   "source": [
    "### Fill first two columns\n",
    "third and fourth, galvo and lfp, should be empty"
   ]
  },
  {
   "cell_type": "code",
   "execution_count": null,
   "id": "e84702f4",
   "metadata": {},
   "outputs": [],
   "source": [
    "lv_tstamps_ms_shifted[-1]"
   ]
  },
  {
   "cell_type": "code",
   "execution_count": null,
   "id": "f1bb53d0",
   "metadata": {},
   "outputs": [],
   "source": [
    "t_stamps_reso[-1]"
   ]
  },
  {
   "cell_type": "code",
   "execution_count": null,
   "id": "cb1f14ed",
   "metadata": {},
   "outputs": [],
   "source": [
    "assert lv_tstamps_ms_shifted[-1] > t_stamps_reso[-1]"
   ]
  },
  {
   "cell_type": "code",
   "execution_count": null,
   "id": "da0ba977",
   "metadata": {},
   "outputs": [],
   "source": [
    "# copy first row\n",
    "lv_time_stamps_corr[0] = lv_time_stamps[0]\n",
    "reso_corr[0] = reso[0]\n",
    "galvo_corr[0] = galvo[0]\n",
    "lfp_corr[0] = lfp[0]"
   ]
  },
  {
   "cell_type": "code",
   "execution_count": null,
   "id": "982fd3a1",
   "metadata": {},
   "outputs": [],
   "source": [
    "# loop through both columns simultaneously, insert nikon time stamps (reso) in second column at appropriate locations.\n",
    "i_tstamp = 0\n",
    "i_reso = 0\n",
    "i_new = 1\n",
    "while i_new < len_corr:\n",
    "    if lv_tstamps_ms_shifted[i_tstamp] < t_stamps_reso[i_reso]:\n",
    "        lv_time_stamps_corr[i_new] = lv_tstamps_ms_shifted[i_tstamp]\n",
    "        i_tstamp += 1\n",
    "    else:\n",
    "        reso_corr[i_new] = t_stamps_reso[i_reso]\n",
    "        i_reso += 1\n",
    "    if i_reso == len(t_stamps_reso):\n",
    "        i_new += 1\n",
    "        break\n",
    "    i_new += 1\n",
    "\n",
    "assert i_reso == len(t_stamps_reso)\n",
    "if i_new < len_corr:\n",
    "    lv_time_stamps_corr[i_new:] = lv_tstamps_ms_shifted[i_tstamp:]"
   ]
  },
  {
   "cell_type": "markdown",
   "id": "5a32a86c",
   "metadata": {},
   "source": [
    "### Test results"
   ]
  },
  {
   "cell_type": "code",
   "execution_count": null,
   "id": "13ef520a",
   "metadata": {},
   "outputs": [],
   "source": [
    "assert len(reso_corr.nonzero()[0]) == len(reso.nonzero()[0])\n",
    "if not bad_time_txt:\n",
    "    assert len_corr == (len(lv_time_stamps_corr.nonzero()[0]) + len(reso_corr.nonzero()[0]) + 1) \n",
    "else:  # first row of broken time.txt has non-zero first column value\n",
    "    assert len(lv_time_stamps_corr.nonzero()[0]) - 1 == len(lv_tstamps_ms_shifted)\n"
   ]
  },
  {
   "cell_type": "code",
   "execution_count": null,
   "id": "7689e22e",
   "metadata": {},
   "outputs": [],
   "source": [
    "if not(lv_time_stamps_corr[0] < lv_time_stamps_corr[1]):\n",
    "    print(\"Warning: original first row belt (first column) entry of time.txt larger than first subsequent matched .txt time stamp!\")\n",
    "    print(\"Trying to dirty fix it...\")\n",
    "    # remove first row\n",
    "    lv_time_stamps_corr = lv_time_stamps_corr[1:]\n",
    "    reso_corr = reso_corr[1:]\n",
    "    galvo_corr = galvo_corr[1:]\n",
    "    lfp_corr = lfp_corr[1:]\n",
    "    # mimic first row in other columns\n",
    "    lfp_corr[0] = lv_time_stamps_corr[0]\n",
    "    print(\"Success\")"
   ]
  },
  {
   "cell_type": "code",
   "execution_count": null,
   "id": "2722895d",
   "metadata": {},
   "outputs": [],
   "source": [
    "#len(lv_time_stamps_corr)\n",
    "len(galvo_corr)"
   ]
  },
  {
   "cell_type": "code",
   "execution_count": null,
   "id": "278fe46c",
   "metadata": {},
   "outputs": [],
   "source": [
    "export_folder = \"D:\\\\Downloads\""
   ]
  },
  {
   "cell_type": "code",
   "execution_count": null,
   "id": "2e10def8",
   "metadata": {},
   "outputs": [],
   "source": [
    "lv_tstamp_corr_fname = os.path.splitext(lv_fname)[0]+\"_corrtime.txt\"\n",
    "print(lv_tstamp_corr_fname)"
   ]
  },
  {
   "cell_type": "code",
   "execution_count": null,
   "id": "431d21c0",
   "metadata": {},
   "outputs": [],
   "source": [
    "export_fpath = os.path.join(export_folder, lv_tstamp_corr_fname)"
   ]
  },
  {
   "cell_type": "code",
   "execution_count": null,
   "id": "b306cbd0",
   "metadata": {},
   "outputs": [],
   "source": [
    "with open(export_fpath, \"w\") as f:\n",
    "    for i_row in range(len(lv_time_stamps_corr)):\n",
    "        f.write(f\"{lv_time_stamps_corr[i_row]:.3f}\\t{reso_corr[i_row]:.3f}\\t{galvo_corr[i_row]:.3f}\\t{lfp_corr[i_row]:.3f}\\n\")"
   ]
  },
  {
   "cell_type": "markdown",
   "id": "250030b0",
   "metadata": {},
   "source": [
    "# More understandable method"
   ]
  },
  {
   "cell_type": "code",
   "execution_count": null,
   "id": "9d17a466",
   "metadata": {},
   "outputs": [],
   "source": [
    "tzone_local = pytz.timezone('Europe/Berlin')\n",
    "tzone_utc = pytz.utc"
   ]
  },
  {
   "cell_type": "code",
   "execution_count": null,
   "id": "f2f0e859",
   "metadata": {},
   "outputs": [],
   "source": [
    "labview_txt_dict = dict()\n",
    "labview_time_txt_dict = dict()\n",
    "nik_dict = dict()"
   ]
  },
  {
   "cell_type": "markdown",
   "id": "9d65a3e9",
   "metadata": {},
   "source": [
    "## Nikon times"
   ]
  },
  {
   "cell_type": "code",
   "execution_count": null,
   "id": "7dba151c",
   "metadata": {},
   "outputs": [],
   "source": [
    "nik_dict[\"nik first frame s\"] = nik[0].metadata[\"t_ms\"]/1000.  # can also use _nik.txt first row first or third column\n",
    "nik_dict[\"nik last frame s\"] = nik[-1].metadata[\"t_ms\"]/1000.  # can also use _nik.txt last row first or third column\n",
    "nik_dict[\"nik recording start absolute\"] = tzone_utc.localize(nik.metadata[\"time_start_utc\"])\n",
    "nik_dict[\"nik first frame absolute\"] = nik_dict[\"nik recording start absolute\"] + dt.timedelta(seconds=nik_dict[\"nik first frame s\"])\n",
    "nik_dict[\"nik last frame absolute\"] = nik_dict[\"nik recording start absolute\"] + dt.timedelta(seconds=nik_dict[\"nik last frame s\"])\n",
    "nik_dict[\"nik first frame to last frame s\"] = nik_dict[\"nik last frame s\"] - nik_dict[\"nik first frame s\"]"
   ]
  },
  {
   "cell_type": "markdown",
   "id": "93c8a98a",
   "metadata": {},
   "source": [
    "## Labview time.txt times"
   ]
  },
  {
   "cell_type": "code",
   "execution_count": null,
   "id": "54b4c65a",
   "metadata": {},
   "outputs": [],
   "source": [
    "# get all columns of file\n",
    "\n",
    "lv_time_stamps = []  # should be recorded in labview file as ms\n",
    "reso = []\n",
    "galvo = []\n",
    "lfp = []\n",
    "\n",
    "with open(lv_tstamp_fpath, \"r\") as f:\n",
    "    lines = [list(map(lambda x: float(x), row.rstrip().split(\"\\t\"))) for row in f.readlines()]\n",
    "    last_line = lines[-1]\n",
    "    next_last_line = lines[-2]\n",
    "    \n",
    "    lv_time_stamps = np.array([line[0] for line in lines])\n",
    "    reso = np.array([line[1] for line in lines]) \n",
    "    galvo = np.array([line[2] for line in lines])\n",
    "    lfp = np.array([line[3] for line in lines])"
   ]
  },
  {
   "cell_type": "code",
   "execution_count": null,
   "id": "46558751",
   "metadata": {},
   "outputs": [],
   "source": [
    "assert reso.sum() > 0  # for now, only work with reso. Otherwise need to check or decide whether reso or galvo was used"
   ]
  },
  {
   "cell_type": "markdown",
   "id": "a751662f",
   "metadata": {},
   "source": [
    "### Get last Nikon frame absolute time from time.txt"
   ]
  },
  {
   "cell_type": "code",
   "execution_count": null,
   "id": "7a689098",
   "metadata": {},
   "outputs": [],
   "source": [
    "# get time of last Nikon frame\n",
    "i_last_nik_frame = np.nonzero(reso)[0][-1]\n",
    "i_last_lv_frame = np.nonzero(lv_time_stamps)[0][-1]"
   ]
  },
  {
   "cell_type": "code",
   "execution_count": null,
   "id": "c3f92113",
   "metadata": {},
   "outputs": [],
   "source": [
    "# get time elapsed after last nikon frame. Get maximum entry of last row (either Nikon or reso entry)\n",
    "t_time_txt_last_entry_ms = max(reso[-1], lv_time_stamps[-1])  # assume only reso imaging for now, as before\n",
    "t_time_txt_last_nik_frame_ms = reso[i_last_nik_frame]\n",
    "\n",
    "# get time between last nikon frame and last entry\n",
    "dt_time_txt_last_nik_last_entry_ms = t_time_txt_last_entry_ms - t_time_txt_last_nik_frame_ms\n",
    "\n",
    "print(dt_time_txt_last_nik_last_entry_ms)\n",
    "assert dt_time_txt_last_nik_last_entry_ms >= 0  # assert labview time.txt last entry happened not before last nikon frame"
   ]
  },
  {
   "cell_type": "code",
   "execution_count": null,
   "id": "4519bee4",
   "metadata": {},
   "outputs": [],
   "source": [
    "t_time_txt_last_row_absolute = tzone_local.localize(dt.datetime.fromtimestamp(os.path.getmtime(lv_tstamp_fpath))) "
   ]
  },
  {
   "cell_type": "code",
   "execution_count": null,
   "id": "6ed8df6c",
   "metadata": {},
   "outputs": [],
   "source": [
    "# get last Nikon frame time by subtracting time elapsed since last Nikon frame in time.txt from the absolute time of last modification\n",
    "labview_time_txt_dict[\"nik last frame absolute\"] = t_time_txt_last_row_absolute - dt.timedelta(seconds=dt_time_txt_last_nik_last_entry_ms/1000.)"
   ]
  },
  {
   "cell_type": "code",
   "execution_count": null,
   "id": "0b636fc1",
   "metadata": {},
   "outputs": [],
   "source": [
    "# before_or_after: whether nikon last frame absoulte time determined from time.txt happened before or after Nikon true read-out absolute time \n",
    "before_or_after = \"before\" if t_time_txt_last_row_absolute < nik_dict['nik last frame absolute'] else \"after\"\n",
    "print(f\"Nikon last frame time detected {abs(nik_dict['nik last frame absolute'] - t_time_txt_last_row_absolute).total_seconds()} s {before_or_after} time read out from Nikon file\")"
   ]
  },
  {
   "cell_type": "markdown",
   "id": "ed2b7d97",
   "metadata": {},
   "source": [
    "### Get Nikon first frame from time.txt"
   ]
  },
  {
   "cell_type": "code",
   "execution_count": null,
   "id": "77e06127",
   "metadata": {},
   "outputs": [],
   "source": [
    "# get time of last Nikon frame\n",
    "i_first_nik_frame = np.nonzero(reso)[0][0]\n",
    "t_time_txt_first_nik_frame_ms = reso[i_first_nik_frame]"
   ]
  },
  {
   "cell_type": "code",
   "execution_count": null,
   "id": "609133f1",
   "metadata": {},
   "outputs": [],
   "source": [
    "# get time difference between first Nikon frame and last entry\n",
    "dt_time_txt_first_nik_last_entry_ms = t_time_txt_last_entry_ms - t_time_txt_first_nik_frame_ms"
   ]
  },
  {
   "cell_type": "code",
   "execution_count": null,
   "id": "fe250b9f",
   "metadata": {},
   "outputs": [],
   "source": [
    "t_time_txt_first_nik_absolute = labview_time_txt_dict[\"nik last frame absolute\"] - dt.timedelta(seconds=dt_time_txt_first_nik_last_entry_ms/1000.)"
   ]
  },
  {
   "cell_type": "code",
   "execution_count": null,
   "id": "3953c537",
   "metadata": {},
   "outputs": [],
   "source": [
    "labview_time_txt_dict[\"nik first frame absolute\"] = t_time_txt_first_nik_absolute"
   ]
  },
  {
   "cell_type": "code",
   "execution_count": null,
   "id": "332bd405",
   "metadata": {},
   "outputs": [],
   "source": [
    "dt_time_txt_last_nik_first_nik_ms = (labview_time_txt_dict[\"nik last frame absolute\"] - labview_time_txt_dict[\"nik first frame absolute\"]).total_seconds()*1000. "
   ]
  },
  {
   "cell_type": "markdown",
   "id": "a89d6c0e",
   "metadata": {},
   "source": [
    "### Get relative times between Nikon first and last frames, last frame to end, first frame to end"
   ]
  },
  {
   "cell_type": "code",
   "execution_count": null,
   "id": "6db26294",
   "metadata": {},
   "outputs": [],
   "source": [
    "labview_time_txt_dict[\"nik first frame to last entry s\"] = dt_time_txt_first_nik_last_entry_ms/1000.\n",
    "labview_time_txt_dict[\"nik last frame to last entry s\"] = dt_time_txt_last_nik_last_entry_ms/1000.\n",
    "labview_time_txt_dict[\"nik first frame to last frame s\"] = dt_time_txt_last_nik_first_nik_ms/1000."
   ]
  },
  {
   "cell_type": "markdown",
   "id": "0f304882",
   "metadata": {},
   "source": [
    "### Compare difference of first and last Nikon time frames from the two sources"
   ]
  },
  {
   "cell_type": "code",
   "execution_count": null,
   "id": "418aa70f",
   "metadata": {},
   "outputs": [],
   "source": [
    "dt_nik_first_frame = abs(nik_dict[\"nik first frame absolute\"] - labview_time_txt_dict[\"nik first frame absolute\"]).total_seconds()\n",
    "dt_nik_last_frame = abs(nik_dict[\"nik last frame absolute\"] - labview_time_txt_dict[\"nik last frame absolute\"]).total_seconds()"
   ]
  },
  {
   "cell_type": "code",
   "execution_count": null,
   "id": "58c31b5c",
   "metadata": {},
   "outputs": [],
   "source": [
    "print(f\"Time between first Nikon frame absolute time in Nikon and time.txt files is\\t{dt_nik_first_frame} s\")\n",
    "print(f\"Time between last Nikon frame absolute time in Nikon and time.txt files is\\t{dt_nik_last_frame} s\")"
   ]
  },
  {
   "cell_type": "code",
   "execution_count": null,
   "id": "9c3ac39a",
   "metadata": {},
   "outputs": [],
   "source": [
    "(len(nik) - len(np.nonzero(reso)[0]))/15."
   ]
  },
  {
   "cell_type": "markdown",
   "id": "9cdd6acd",
   "metadata": {},
   "source": [
    "## Get Nikon frames for labview .txt"
   ]
  },
  {
   "cell_type": "code",
   "execution_count": null,
   "id": "9b04d46c",
   "metadata": {},
   "outputs": [],
   "source": [
    "t_txt_last_row_absolute = tzone_local.localize(dt.datetime.fromtimestamp(os.path.getmtime(lv_fpath))) \n",
    "dt_lv_txt_time_txt_s = abs(t_txt_last_row_absolute - t_time_txt_last_row_absolute).total_seconds()"
   ]
  },
  {
   "cell_type": "code",
   "execution_count": null,
   "id": "645cfecf",
   "metadata": {},
   "outputs": [],
   "source": [
    "print(f\"{dt_lv_txt_time_txt_s} s between last modification of .txt and time.txt\")"
   ]
  },
  {
   "cell_type": "code",
   "execution_count": null,
   "id": "6bc6e3dd",
   "metadata": {},
   "outputs": [],
   "source": [
    "nik_dict"
   ]
  },
  {
   "cell_type": "code",
   "execution_count": null,
   "id": "6ac4170d",
   "metadata": {},
   "outputs": [],
   "source": [
    "labview_time_txt_dict"
   ]
  },
  {
   "cell_type": "markdown",
   "id": "da8ced1c",
   "metadata": {},
   "source": [
    "### Get offset between time.txt and .txt\n",
    "Use last entry date?"
   ]
  },
  {
   "cell_type": "code",
   "execution_count": null,
   "id": "b0e7be72",
   "metadata": {},
   "outputs": [],
   "source": [
    "# dt between Nikon frames: 140 ms instead of 70 ms?\n",
    "# check nikon movement artefacts? compare to labview\n",
    "# use LFP!"
   ]
  },
  {
   "cell_type": "markdown",
   "id": "ff2e796b",
   "metadata": {},
   "source": [
    "## Export result"
   ]
  },
  {
   "cell_type": "code",
   "execution_count": null,
   "id": "d6d359b8",
   "metadata": {},
   "outputs": [],
   "source": [
    "export_folder = \"D:\\\\Downloads\""
   ]
  },
  {
   "cell_type": "code",
   "execution_count": null,
   "id": "0cf207b8",
   "metadata": {},
   "outputs": [],
   "source": [
    "lv_tstamp_corr_fname = os.path.splitext(lv_fname)[0]+\"_corrtime.txt\"\n",
    "print(lv_tstamp_corr_fname)"
   ]
  },
  {
   "cell_type": "code",
   "execution_count": null,
   "id": "b08a9a17",
   "metadata": {},
   "outputs": [],
   "source": [
    "export_fpath = os.path.join(export_folder, lv_tstamp_corr_fname)"
   ]
  },
  {
   "cell_type": "code",
   "execution_count": null,
   "id": "2d08cf46",
   "metadata": {},
   "outputs": [],
   "source": [
    "with open(export_fpath, \"w\") as f:\n",
    "    for i_row in range(len(lv_time_stamps_corr)):\n",
    "        f.write(f\"{lv_time_stamps_corr[i_row]:.3f}\\t{reso_corr[i_row]:.3f}\\t{galvo_corr[i_row]:.3f}\\t{lfp_corr[i_row]:.3f}\\n\")"
   ]
  },
  {
   "cell_type": "code",
   "execution_count": null,
   "id": "7e2cd1f5",
   "metadata": {},
   "outputs": [],
   "source": []
  }
 ],
 "metadata": {
  "kernelspec": {
   "display_name": "Python 3 (ipykernel)",
   "language": "python",
   "name": "python3"
  },
  "language_info": {
   "codemirror_mode": {
    "name": "ipython",
    "version": 3
   },
   "file_extension": ".py",
   "mimetype": "text/x-python",
   "name": "python",
   "nbconvert_exporter": "python",
   "pygments_lexer": "ipython3",
   "version": "3.8.12"
  }
 },
 "nbformat": 4,
 "nbformat_minor": 5
}
