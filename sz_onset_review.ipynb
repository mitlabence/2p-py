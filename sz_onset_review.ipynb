{
 "cells": [
  {
   "cell_type": "code",
   "execution_count": null,
   "metadata": {},
   "outputs": [],
   "source": [
    "import numpy as np\n",
    "import h5py\n",
    "import labrotation.file_handling as fh\n",
    "from matplotlib import pyplot as plt\n",
    "from matplotlib.collections import PatchCollection\n",
    "from matplotlib.patches import Rectangle\n",
    "import matplotlib.colors as mcolors\n",
    "from datetime import datetime\n",
    "import json\n",
    "from labrotation import json_util\n",
    "import datadoc_util\n",
    "import pandas as pd\n",
    "import seaborn as sns\n",
    "import os"
   ]
  },
  {
   "cell_type": "code",
   "execution_count": null,
   "metadata": {},
   "outputs": [],
   "source": [
    "def get_datetime_for_fname():\n",
    "    now = datetime.now()\n",
    "    return f\"{now.year:04d}{now.month:02d}{now.day:02d}-{now.hour:02d}{now.minute:02d}{now.second:02d}\""
   ]
  },
  {
   "cell_type": "code",
   "execution_count": null,
   "metadata": {},
   "outputs": [],
   "source": [
    "env_dict = dict()\n",
    "if not os.path.exists(\"./.env\"):\n",
    "    print(\".env does not exist\")\n",
    "else:\n",
    "    with open(\"./.env\", \"r\") as f:\n",
    "        for line in f.readlines():\n",
    "            l = line.rstrip().split(\"=\")\n",
    "            env_dict[l[0]] = l[1]\n",
    "print(env_dict.keys())"
   ]
  },
  {
   "cell_type": "code",
   "execution_count": null,
   "metadata": {},
   "outputs": [],
   "source": [
    "if \"DATA_DOCU_FOLDER\" in env_dict.keys():\n",
    "    data_docu_folder = env_dict[\"DATA_DOCU_FOLDER\"]\n",
    "else:\n",
    "    data_docu_folder = fh.open_dir(\"Open Data Documentation folder\")\n",
    "print(data_docu_folder)"
   ]
  },
  {
   "cell_type": "code",
   "execution_count": null,
   "metadata": {},
   "outputs": [],
   "source": [
    "ddoc = datadoc_util.DataDocumentation(data_docu_folder)\n",
    "ddoc.loadDataDoc()"
   ]
  },
  {
   "cell_type": "code",
   "execution_count": null,
   "metadata": {},
   "outputs": [],
   "source": [
    "output_folder = env_dict[\"DOWNLOADS_FOLDER\"]\n",
    "print(f\"Output files will be saved to {output_folder}\")"
   ]
  },
  {
   "cell_type": "code",
   "execution_count": null,
   "metadata": {},
   "outputs": [],
   "source": [
    "whole_traces_h5_fpath = fh.open_file(\"Open traces h5 file!\")\n",
    "print(whole_traces_h5_fpath)"
   ]
  },
  {
   "cell_type": "markdown",
   "metadata": {},
   "source": [
    "# Automatize for whole dataset"
   ]
  },
  {
   "cell_type": "code",
   "execution_count": null,
   "metadata": {},
   "outputs": [],
   "source": [
    "dset_folder = fh.open_dir(\"Select folder that contains all data to be considered (traces.h5 files)\")"
   ]
  },
  {
   "cell_type": "code",
   "execution_count": null,
   "metadata": {},
   "outputs": [],
   "source": [
    "dict_uuid_traces = dict()\n",
    "for root,dirs,files in os.walk(dset_folder):\n",
    "        for file in files:\n",
    "            if \"_traces\" in file and os.path.splitext(file)[-1] == \".h5\":\n",
    "                fpath = os.path.normpath(os.path.join(root, file))\n",
    "                with h5py.File(fpath, \"r\") as hf:\n",
    "                    uuid = hf.attrs[\"uuid\"]\n",
    "                    traces = hf[\"traces\"][()]\n",
    "                    assert uuid not in dict_uuid_traces\n",
    "                    dict_uuid_traces[uuid] = traces"
   ]
  },
  {
   "cell_type": "markdown",
   "metadata": {},
   "source": [
    "## Get sz onset velocity for all recordings"
   ]
  },
  {
   "cell_type": "code",
   "execution_count": null,
   "metadata": {},
   "outputs": [],
   "source": [
    "WIN_SIZE = 150  # take 10 s window from start of sz\n",
    "N_EXTRA_FRAMES_BEFORE = 0  # add extra time to be included before sz begin\n",
    "\n",
    "N_PIXELS = 512\n",
    "UM_PER_PIXEL = 1.579  # µm per pixel. divide by 1000 to convert to mm"
   ]
  },
  {
   "cell_type": "code",
   "execution_count": null,
   "metadata": {},
   "outputs": [],
   "source": [
    "for uuid in dict_uuid_traces:\n",
    "    traces = dict_uuid_traces[uuid]\n",
    "    # get min and max around Sz time window\n",
    "    df_segments = ddoc.getSegmentsForUUID(uuid)\n",
    "    for i_sz, sz_row in df_segments[df_segments[\"interval_type\"] == \"sz\"].iterrows():\n",
    "        i_frame_begin = sz_row.frame_begin - N_EXTRA_FRAMES_BEFORE - 1  # bring to 0-indexing\n",
    "        i_frame_end = i_frame_begin + WIN_SIZE\n",
    "        # define start of onset as earliest time point where a neuron's signal reaches local maximum (within time window)\n",
    "        # define end of onset as latest such time point\n",
    "        # take a subset of cells with 5% outliers (deviation from mean max time) removed\n",
    "        max_times = np.argmax(traces[:, i_frame_begin:i_frame_end], axis=1)  # the time points of each neuron where they reached max for the first time\n",
    "        deviations = np.abs(max_times - np.mean(max_times))  # absolute difference from mean onset time\n",
    "        i_deviations_minus_outliers = np.argsort(deviations)[:-int(0.05*len(max_times))]  # exclude top 5% absolute differences\n",
    "        onsets_filtered = max_times[i_deviations_minus_outliers]\n",
    "        earliest_onset = np.min(onsets_filtered)  # earliest reached maximum in cells without 5% outliers\n",
    "        latest_onset = np.max(onsets_filtered)\n",
    "        mean_onset = np.mean(onsets_filtered)"
   ]
  },
  {
   "cell_type": "code",
   "execution_count": null,
   "metadata": {},
   "outputs": [],
   "source": [
    "df_segments = ddoc.getSegmentsForUUID(\"4fe45b25dc854453880cd868fe77e9d4\")"
   ]
  },
  {
   "cell_type": "code",
   "execution_count": null,
   "metadata": {},
   "outputs": [],
   "source": [
    "for i, row in df_segments[df_segments[\"interval_type\"] == \"sz\"].iterrows():\n",
    "    print(row.frame_begin)"
   ]
  },
  {
   "cell_type": "markdown",
   "metadata": {},
   "source": [
    "## Plot example"
   ]
  },
  {
   "cell_type": "code",
   "execution_count": null,
   "metadata": {},
   "outputs": [],
   "source": [
    "sample_uuid = list(dict_uuid_traces.keys())[0]\n",
    "sample_traces = dict_uuid_traces[sample_uuid]"
   ]
  },
  {
   "cell_type": "code",
   "execution_count": null,
   "metadata": {},
   "outputs": [],
   "source": [
    "df_segments = ddoc.getSegmentsForUUID(sample_uuid)"
   ]
  },
  {
   "cell_type": "code",
   "execution_count": null,
   "metadata": {},
   "outputs": [],
   "source": [
    "n_sz = len(df_segments[df_segments[\"interval_type\"] == \"sz\"])"
   ]
  },
  {
   "cell_type": "code",
   "execution_count": null,
   "metadata": {},
   "outputs": [],
   "source": [
    "i_sz = 0"
   ]
  },
  {
   "cell_type": "code",
   "execution_count": null,
   "metadata": {},
   "outputs": [],
   "source": [
    "sz_data = df_segments[df_segments[\"interval_type\"] == \"sz\"].iloc[i_sz]\n",
    "i_frame_begin = sz_data.frame_begin\n",
    "i_frame_end = min(i_frame_begin + 300, sz_data.frame_end)\n",
    "if i_frame_end - i_frame_begin < 300:\n",
    "    print(\"Used sz_data.frame_end\")"
   ]
  },
  {
   "cell_type": "code",
   "execution_count": null,
   "metadata": {},
   "outputs": [],
   "source": [
    "n_frames_before = 30  # 2 s before seizure begin"
   ]
  },
  {
   "cell_type": "code",
   "execution_count": null,
   "metadata": {},
   "outputs": [],
   "source": [
    "max_traces = np.max(traces[:, i_frame_begin-n_frames_before:i_frame_end], axis=1)\n",
    "min_traces = np.min(traces[:, i_frame_begin-n_frames_before:i_frame_end], axis=1)\n"
   ]
  },
  {
   "cell_type": "code",
   "execution_count": null,
   "metadata": {},
   "outputs": [],
   "source": [
    "max_traces_arr = np.repeat(max_traces, traces.shape[1]).reshape(traces.shape)\n",
    "min_traces_arr = np.repeat(min_traces, traces.shape[1]).reshape(traces.shape)\n"
   ]
  },
  {
   "cell_type": "code",
   "execution_count": null,
   "metadata": {},
   "outputs": [],
   "source": [
    "# normalize traces for plotting\n",
    "traces_norm = (traces - min_traces_arr)/(max_traces_arr - min_traces_arr)"
   ]
  },
  {
   "cell_type": "code",
   "execution_count": null,
   "metadata": {},
   "outputs": [],
   "source": [
    "onset_ends = np.argmax(traces_norm[:, i_frame_begin-n_frames_before:i_frame_begin+150], axis=1)"
   ]
  },
  {
   "cell_type": "code",
   "execution_count": null,
   "metadata": {},
   "outputs": [],
   "source": [
    "fig = plt.figure(figsize=(10,10))\n",
    "plt.hist(onset_ends, bins=30)\n",
    "plt.show()"
   ]
  },
  {
   "cell_type": "code",
   "execution_count": null,
   "metadata": {},
   "outputs": [],
   "source": [
    "# TODO: throw away 5% outliers\n",
    "deviations = np.abs(onset_ends - np.mean(onset_ends))  # absolute difference from mean\n",
    "i_deviations_minus_outliers = np.argsort(deviations)[:-int(0.05*len(onset_ends))]  # exclude top 5% absolute differences\n",
    "onsets_filtered = onset_ends[i_deviations_minus_outliers]\n",
    "lower_thr = np.min(onsets_filtered)  # earliest reached maximum in cells without 5% outliers\n",
    "upper_thr = np.max(onsets_filtered)\n",
    "mean_onset = np.mean(onsets_filtered)"
   ]
  },
  {
   "cell_type": "code",
   "execution_count": null,
   "metadata": {},
   "outputs": [],
   "source": [
    "i_begin_onset = i_frame_begin - n_frames_before + lower_thr  # change this\n",
    "i_end_onset = i_frame_begin - n_frames_before + upper_thr#int(i_frame_begin-n_frames_before + mean_onset)  # change this\n",
    "if i_sz < n_sz:\n",
    "    fig = plt.figure(figsize=(18,18))\n",
    "    for trace in traces_norm:\n",
    "        plt.plot(trace)\n",
    "    plt.vlines(x=[i_begin_onset, i_end_onset], ymin=0, ymax=1.02, color=\"red\")\n",
    "    plt.xlim((i_frame_begin-20, i_frame_end))\n",
    "    plt.ylim((0, 1.05))\n",
    "    plt.show()\n",
    "    print(f\"Begin: {i_begin_onset}, end: {i_end_onset}\")\n",
    "else:\n",
    "    print(f\"No sz with index {i_sz} detected\")"
   ]
  },
  {
   "cell_type": "code",
   "execution_count": null,
   "metadata": {},
   "outputs": [],
   "source": [
    "\n",
    "\n",
    "# estimate velocity by \"distance\" (one dimension of FOV in mm) divided by onset time in min (dt in frames given, assuming 15 Hz )\n",
    "v_onset_mmpmin = (N_PIXELS*UM_PER_PIXEL/1000.)/((i_end_onset - i_begin_onset)/(15*60))"
   ]
  },
  {
   "cell_type": "code",
   "execution_count": null,
   "metadata": {},
   "outputs": [],
   "source": [
    "v_onset_mmpmin"
   ]
  }
 ],
 "metadata": {
  "kernelspec": {
   "display_name": "Python 3 (ipykernel)",
   "language": "python",
   "name": "python3"
  },
  "language_info": {
   "codemirror_mode": {
    "name": "ipython",
    "version": 3
   },
   "file_extension": ".py",
   "mimetype": "text/x-python",
   "name": "python",
   "nbconvert_exporter": "python",
   "pygments_lexer": "ipython3",
   "version": "3.8.12"
  }
 },
 "nbformat": 4,
 "nbformat_minor": 2
}
