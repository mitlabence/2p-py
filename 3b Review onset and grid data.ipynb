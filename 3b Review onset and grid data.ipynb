{
 "cells": [
  {
   "cell_type": "code",
   "execution_count": null,
   "id": "42585dbc",
   "metadata": {},
   "outputs": [],
   "source": [
    "#Auto-reload modules (used to develop functions outside this notebook)\n",
    "%load_ext autoreload\n",
    "%autoreload 2"
   ]
  },
  {
   "cell_type": "code",
   "execution_count": null,
   "id": "853cd157",
   "metadata": {},
   "outputs": [],
   "source": [
    "import numpy as np\n",
    "import h5py\n",
    "from nd2_to_caiman import np_arr_from_nd2\n",
    "import labrotation.file_handling as fh\n",
    "from matplotlib import pyplot as plt\n",
    "from matplotlib.collections import PatchCollection\n",
    "from matplotlib.patches import Rectangle\n",
    "import matplotlib.colors as mcolors\n",
    "from math import floor, sqrt, atan2\n",
    "from datetime import datetime\n",
    "import json\n",
    "from labrotation import json_util\n",
    "import scipy\n",
    "from scipy import ndimage\n",
    "import datadoc_util\n",
    "from statsmodels.nonparametric.smoothers_lowess import lowess\n",
    "import pandas as pd\n",
    "import seaborn as sns\n",
    "import multiprocess as mp  # multiprocessing does not work with IPython. Use fork instead.\n",
    "import os\n",
    "import random  # for possible stochastic algorithms"
   ]
  },
  {
   "cell_type": "code",
   "execution_count": null,
   "id": "599c0ec2",
   "metadata": {},
   "outputs": [],
   "source": [
    "grid_shape = (8,8)"
   ]
  },
  {
   "cell_type": "code",
   "execution_count": null,
   "id": "c3dc4a37",
   "metadata": {},
   "outputs": [],
   "source": [
    "env_dict = dict()\n",
    "if not os.path.exists(\"./.env\"):\n",
    "    print(\".env does not exist\")\n",
    "else:\n",
    "    with open(\"./.env\", \"r\") as f:\n",
    "        for line in f.readlines():\n",
    "            l = line.rstrip().split(\"=\")\n",
    "            env_dict[l[0]] = l[1]\n",
    "print(env_dict.keys())"
   ]
  },
  {
   "cell_type": "code",
   "execution_count": null,
   "id": "9be4f257",
   "metadata": {},
   "outputs": [],
   "source": [
    "if \"DATA_DOCU_FOLDER\" in env_dict.keys():\n",
    "    data_docu_folder = env_dict[\"DATA_DOCU_FOLDER\"]\n",
    "else:\n",
    "    data_docu_folder = fh.open_dir(\"Open Data Documentation folder\")\n",
    "print(data_docu_folder)"
   ]
  },
  {
   "cell_type": "code",
   "execution_count": null,
   "id": "8685a868",
   "metadata": {},
   "outputs": [],
   "source": [
    "ddoc = datadoc_util.DataDocumentation(data_docu_folder)\n",
    "ddoc.loadDataDoc()"
   ]
  },
  {
   "cell_type": "code",
   "execution_count": null,
   "id": "2fe631f4",
   "metadata": {},
   "outputs": [],
   "source": [
    "onsets_h5_fpath = fh.open_file(\"Open extracted onsets and grid h5 file!\")\n",
    "print(onsets_h5_fpath)"
   ]
  },
  {
   "cell_type": "code",
   "execution_count": null,
   "id": "6c0e65fa",
   "metadata": {},
   "outputs": [],
   "source": [
    "df_onsets = pd.read_hdf(onsets_h5_fpath)"
   ]
  },
  {
   "cell_type": "code",
   "execution_count": null,
   "id": "24809d90",
   "metadata": {},
   "outputs": [],
   "source": [
    "grid_data1 = df_onsets.pivot_table(index=\"row\", columns=\"col\", values=\"onset1\", aggfunc=\"median\")\n",
    "grid_data2 = df_onsets.pivot_table(index=\"row\", columns=\"col\", values=\"onset2\", aggfunc=\"median\")\n",
    "grid_datasz = df_onsets.pivot_table(index=\"row\", columns=\"col\", values=\"onset_sz\", aggfunc=\"median\")"
   ]
  },
  {
   "cell_type": "code",
   "execution_count": null,
   "id": "cc7d67a9",
   "metadata": {},
   "outputs": [],
   "source": [
    "f, ax = plt.subplots(figsize=(12, 12))\n",
    "sns.despine(f, left=True, bottom=True)\n",
    "#sns.scatterplot(x=\"x\", y=\"y\", hue=\"onset_sz\", size=\"onset_sz\",\n",
    "#                sizes=[5, 40, 80, 160, 240, 320], linewidth=0,\n",
    "#                data=onsets_df, ax=ax, palette=hues)\n",
    "sns.scatterplot(x=\"x\", y=\"y\", hue=\"quantile1\", size=\"onset1\",\n",
    "                sizes=(10,80), linewidth=0,\n",
    "                data=df_onsets, ax=ax)\n",
    "ax.invert_yaxis()  # invert to match imshow() and in general, nd2 videos: (0, 0) is top left corner\n",
    "plt.show()"
   ]
  },
  {
   "cell_type": "code",
   "execution_count": null,
   "id": "1e806ad2",
   "metadata": {},
   "outputs": [],
   "source": [
    "df_onsets"
   ]
  },
  {
   "cell_type": "code",
   "execution_count": null,
   "id": "379981c4",
   "metadata": {},
   "outputs": [],
   "source": [
    "quantiles1_df = df_onsets.groupby([\"quantile1\"], as_index=False).mean()\n",
    "if \"quantile2\" in df_onsets.keys():\n",
    "    quantiles2_df = df_onsets.groupby([\"quantile2\"], as_index=False).mean()\n",
    "quantilessz_df = df_onsets.groupby([\"quantile_sz\"], as_index=False).mean()"
   ]
  },
  {
   "cell_type": "code",
   "execution_count": null,
   "id": "061c667a",
   "metadata": {},
   "outputs": [],
   "source": [
    "# Move from nd2/video-style coordinate system (top left = (0, 0)) to usual plotting coordinate style (bottom left = (0, 0))\n",
    "quantiles1_df[\"y_mirrored\"]= quantiles1_df.apply(lambda row: -1*row[\"y\"], axis=1)\n",
    "if \"quantile2\" in df_onsets.keys():\n",
    "    quantiles2_df[\"y_mirrored\"]= quantiles2_df.apply(lambda row: -1*row[\"y\"], axis=1)\n",
    "quantilessz_df[\"y_mirrored\"]= quantilessz_df.apply(lambda row: -1*row[\"y\"], axis=1)"
   ]
  },
  {
   "cell_type": "code",
   "execution_count": null,
   "id": "e829d0fe",
   "metadata": {},
   "outputs": [],
   "source": [
    "def get_dx(df, colname=\"x\", quantile_colname=\"quantile1\"):\n",
    "    max_quantile = df[quantile_colname].max()\n",
    "    min_quantile = df[quantile_colname].min()\n",
    "    x1 = df[df[quantile_colname] == max_quantile][colname].values[0]\n",
    "    x0 = df[df[quantile_colname] == min_quantile][colname].values[0]\n",
    "    return x1-x0"
   ]
  },
  {
   "cell_type": "code",
   "execution_count": null,
   "id": "a94df846",
   "metadata": {},
   "outputs": [],
   "source": [
    "def xyToThetaR(vec):\n",
    "    # given (x, y), return (theta, r)\n",
    "    return (atan2(vec[1], vec[0]), sqrt(pow(vec[0], 2) + pow(vec[1], 2)))\n",
    "\n",
    "# descartes coordinates\n",
    "vec1 = (get_dx(quantiles1_df, \"x\", \"quantile1\"), get_dx(quantiles1_df, \"y_mirrored\", \"quantile1\"))\n",
    "if \"quantiles2_df\" in locals():\n",
    "    vec2 = ( get_dx(quantiles2_df, \"x\", \"quantile2\"), get_dx(quantiles2_df, \"y_mirrored\", \"quantile2\") )\n",
    "vecsz = (get_dx(quantilessz_df, \"x\", \"quantile_sz\"), get_dx(quantilessz_df, \"y_mirrored\", \"quantile_sz\"))\n",
    "# polar coordinates as (theta, r)\n",
    "arrows = {}  # sz, sd1, sd2 order\n",
    "vec1pol = xyToThetaR(vec1)\n",
    "arrows[\"sd1\"] = (vec1pol[0], 2)  # categorical length, sz > sd1 > sd2\n",
    "\n",
    "if \"quantiles2_df\" in locals():\n",
    "    vec2pol = xyToThetaR(vec2)\n",
    "    arrows[\"sd2\"] = (vec2pol[0], 1)\n",
    "vecszpol = xyToThetaR(vecsz)\n",
    "arrows[\"sz\"] = ( vecszpol[0], 3)\n"
   ]
  },
  {
   "cell_type": "code",
   "execution_count": null,
   "id": "8f4653f0",
   "metadata": {
    "scrolled": false
   },
   "outputs": [],
   "source": [
    "event_types = [ \"sd2\", \"sd1\", \"sz\"]\n",
    "colors = {\"sd2\":\"lightblue\", \"sd1\":\"blue\", \"sz\":\"darkblue\"}\n",
    "fig = plt.figure(figsize=(12,12))\n",
    "ax = fig.add_subplot(111, projection='polar')\n",
    "ax.set_ylim(0, 3)\n",
    "ax.set_title(f\"{os.path.split(onsets_h5_fpath)[-1]}\", fontsize=20)\n",
    "for event_type in event_types:\n",
    "    ax.annotate('', xy=arrows[event_type], xytext=(0, 0),\n",
    "                arrowprops=dict(facecolor=colors[event_type], edgecolor='none', width=4, headwidth=20, alpha=0.9))\n",
    "ax.set_rgrids(np.linspace(0, 3, num=len(event_types)+1))\n",
    "ax.set_yticklabels([\"\"] + event_types)"
   ]
  },
  {
   "cell_type": "code",
   "execution_count": null,
   "id": "1d2434b9",
   "metadata": {},
   "outputs": [],
   "source": [
    "f = plt.figure(figsize=(18,12))\n",
    "\n",
    "\n",
    "\n",
    "ax1 = plt.subplot(231)\n",
    "ax1.set_title(f\"sz\", fontsize=20)\n",
    "sns.heatmap(grid_datasz, annot=False, linewidths=.5, ax=ax1)\n",
    "\n",
    "ax2= plt.subplot(232)\n",
    "ax2.set_title(f\"sd1\", fontsize=20)\n",
    "sns.heatmap(grid_data1, annot=False, linewidths=.5, ax=ax2)\n",
    "\n",
    "ax3 = plt.subplot(233)\n",
    "ax3.set_title(f\"sd2\", fontsize=20)\n",
    "sns.heatmap(grid_data2, annot=False, linewidths=.5, ax=ax3)\n",
    "\n",
    "\n",
    "event_types = [ \"sz\", \"sd1\", \"sd2\"]\n",
    "colors = {\"sd2\":\"lightblue\", \"sd1\":\"blue\", \"sz\":\"darkblue\"}\n",
    "\n",
    "i_plot = 234\n",
    "for i_event, event_type in enumerate(event_types):\n",
    "    ax = plt.subplot(i_plot, projection='polar')\n",
    "    ax.set_ylim(0, 3)\n",
    "    ax.annotate('', xy=arrows[event_type], xytext=(0, 0),arrowprops=dict(facecolor=colors[event_type], edgecolor='none', width=4, headwidth=8, alpha=0.9))\n",
    "    ax.set_rgrids(np.linspace(0, 3, num=len(event_types)+1))\n",
    "    ax.set_yticklabels([\"\", \"sd2\", \"sd1\", \"sz\"])\n",
    "    #ax.invert_yaxis()\n",
    "    #ax.invert_xaxis()\n",
    "    i_plot += 1\n",
    "plt.show()"
   ]
  },
  {
   "cell_type": "code",
   "execution_count": null,
   "id": "5a8d2759",
   "metadata": {},
   "outputs": [],
   "source": []
  }
 ],
 "metadata": {
  "kernelspec": {
   "display_name": "Python 3 (ipykernel)",
   "language": "python",
   "name": "python3"
  },
  "language_info": {
   "codemirror_mode": {
    "name": "ipython",
    "version": 3
   },
   "file_extension": ".py",
   "mimetype": "text/x-python",
   "name": "python",
   "nbconvert_exporter": "python",
   "pygments_lexer": "ipython3",
   "version": "3.8.12"
  }
 },
 "nbformat": 4,
 "nbformat_minor": 5
}
