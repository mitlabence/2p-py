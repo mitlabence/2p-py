{
 "cells": [
  {
   "cell_type": "code",
   "execution_count": 114,
   "id": "f4e3f984",
   "metadata": {},
   "outputs": [],
   "source": [
    "# TODO: create another dictionary with nd2 average fluorescence; extract it for each session.\n",
    "# TODO: save the extracted data in a h5 file or something similar. Do session extraction for whole dataset"
   ]
  },
  {
   "cell_type": "code",
   "execution_count": 1,
   "id": "9b7c9abb",
   "metadata": {},
   "outputs": [],
   "source": [
    "#Auto-reload modules (used to develop functions outside this notebook)\n",
    "%load_ext autoreload\n",
    "%autoreload 2"
   ]
  },
  {
   "cell_type": "code",
   "execution_count": 191,
   "id": "49ab987d",
   "metadata": {},
   "outputs": [],
   "source": [
    "import labrotation.file_handling as fh\n",
    "import h5py\n",
    "from time import time\n",
    "import matplotlib.pyplot as plt\n",
    "import numpy as np\n",
    "import os\n",
    "from labrotation import file_handling as fh\n",
    "from copy import deepcopy\n",
    "import pandas as pd\n",
    "import labrotation.two_photon_session as tps\n",
    "import seaborn as sns\n",
    "import uuid  # for unique labeling of sessions and coupling arrays (mouse velocity, distance, ...) to sessions in dataframe \n",
    "from matplotlib import cm  # colormap"
   ]
  },
  {
   "cell_type": "code",
   "execution_count": 3,
   "id": "f4a7e228",
   "metadata": {},
   "outputs": [
    {
     "name": "stdout",
     "output_type": "stream",
     "text": [
      "Selected folder:\n",
      "\tD:\\Data documentation\\documentation\n"
     ]
    }
   ],
   "source": [
    "# assumption: inside the documentation folder, the subfolders carry the id of each mouse (not exact necessarily, but they \n",
    "# can be identified by the name of the subfolder). \n",
    "# Inside the subfolder xy (for mouse xy), xy_grouping.xlsx and xy_segmentation.xlsx can be found.\n",
    "# xy_grouping.xlsx serves the purpose of finding the recordings belonging together, and has columns:\n",
    "# folder, nd2, labview, lfp, face_cam_last, nikon_meta, experiment_type, day\n",
    "# xy_segmentation.xlsx contains frame-by-frame (given by a set of disjoint intervals forming a cover for the whole recording) \n",
    "# classification of the events in the recording (\"normal\", seizure (\"sz\"), sd wave (\"sd_wave\") etc.). The columns:\n",
    "# folder, interval_type, frame_begin, frame_end.\n",
    "\n",
    "# TODO: write documentation on contents of xlsx files (what the columns are etc.)\n",
    "docu_folder = fh.open_dir(\"Choose folder containing folders for each mouse!\")\n",
    "print(f\"Selected folder:\\n\\t{docu_folder}\")"
   ]
  },
  {
   "cell_type": "code",
   "execution_count": 4,
   "id": "1e3cedc9",
   "metadata": {},
   "outputs": [
    {
     "name": "stdout",
     "output_type": "stream",
     "text": [
      "Mice detected:\n",
      "\tT301\n",
      "\tT303\n",
      "\tT324\n",
      "\tT329\n",
      "\tT333\n",
      "\tT337\n",
      "\tT370\n",
      "\tT386\n",
      "\tT391\n",
      "\tT396\n",
      "\tT452\n",
      "\tT534\n"
     ]
    }
   ],
   "source": [
    "mouse_folders = os.listdir(docu_folder)\n",
    "print(f\"Mice detected:\")\n",
    "for mouse in mouse_folders:\n",
    "    print(f\"\\t{mouse}\")"
   ]
  },
  {
   "cell_type": "code",
   "execution_count": 5,
   "id": "5754d9e8",
   "metadata": {},
   "outputs": [],
   "source": [
    "matlab_2p_folder = fh.open_dir(\"Choose matlab-2p folder\")"
   ]
  },
  {
   "cell_type": "code",
   "execution_count": 6,
   "id": "c849b168",
   "metadata": {},
   "outputs": [
    {
     "name": "stdout",
     "output_type": "stream",
     "text": [
      "T301\n",
      "\tseg bef: 0\n",
      "\tseg aft: 27\n",
      "\tgro bef: 0\n",
      "\tgro aft: 64\n",
      "T303\n",
      "\tseg bef: 27\n",
      "\tseg aft: 67\n",
      "\tgro bef: 64\n",
      "\tgro aft: 107\n",
      "T324\n",
      "\tseg bef: 67\n",
      "\tseg aft: 105\n",
      "\tgro bef: 107\n",
      "\tgro aft: 141\n",
      "T329\n",
      "\tseg bef: 105\n",
      "\tseg aft: 121\n",
      "\tgro bef: 141\n",
      "\tgro aft: 149\n",
      "T333\n",
      "\tseg bef: 121\n",
      "\tseg aft: 311\n",
      "\tgro bef: 149\n",
      "\tgro aft: 201\n",
      "T337\n",
      "\tseg bef: 311\n",
      "\tseg aft: 348\n",
      "\tgro bef: 201\n",
      "\tgro aft: 238\n",
      "T370\n",
      "\tseg bef: 348\n",
      "\tseg aft: 554\n",
      "\tgro bef: 238\n",
      "\tgro aft: 284\n",
      "T386\n",
      "\tseg bef: 554\n",
      "\tseg aft: 611\n",
      "\tgro bef: 284\n",
      "\tgro aft: 298\n",
      "T391\n",
      "\tseg bef: 611\n",
      "\tseg aft: 625\n",
      "\tgro bef: 298\n",
      "\tgro aft: 308\n",
      "T396\n",
      "\tseg bef: 625\n",
      "\tseg aft: 638\n",
      "\tgro bef: 308\n",
      "\tgro aft: 324\n",
      "T452\n",
      "\tseg bef: 638\n",
      "\tseg aft: 696\n",
      "\tgro bef: 324\n",
      "\tgro aft: 338\n",
      "T534\n",
      "\tseg bef: 696\n",
      "\tseg aft: 705\n",
      "\tgro bef: 338\n",
      "\tgro aft: 344\n"
     ]
    }
   ],
   "source": [
    "df_seg_complete = pd.DataFrame(columns = [\"nd2\", \"interval_type\", \"frame_begin\", \"frame_end\"])\n",
    "df_grouping_complete = pd.DataFrame(columns = [\"folder\", \"nd2\", \"labview\", \"lfp\", \"face_cam_last\", \"nikon_meta\", \"experiment_type\", \"mouse_id\", \"day\"])\n",
    "\n",
    "for mouse_id in mouse_folders:\n",
    "    print(mouse_id)\n",
    "    seg_fpath = os.path.join(docu_folder, mouse_id, mouse_id + '_segmentation.xlsx')\n",
    "    grouping_fpath = os.path.join(docu_folder, mouse_id, mouse_id + '_grouping.xlsx')\n",
    "    if os.path.exists(seg_fpath) and os.path.exists(grouping_fpath):\n",
    "        df_seg = pd.read_excel(seg_fpath)\n",
    "        df_grouping = pd.read_excel(grouping_fpath)\n",
    "        df_grouping[\"mouse_id\"] = mouse_id\n",
    "        # select only tmev, chr2_szsd, chr2_sd, chr2_ctl experiment data first\n",
    "        df_grouping = df_grouping[df_grouping[\"experiment_type\"].isin([\"tmev\", \"tmev_ctl\", \"chr2_sd\", \"chr2_szsd\", \"chr2_ctl\"])]\n",
    "        # merge into large dataframes\n",
    "        print(f\"\\tseg bef: {len(df_seg_complete['nd2'])}\")\n",
    "        df_seg_complete = pd.concat([df_seg_complete, df_seg])\n",
    "        print(f\"\\tseg aft: {len(df_seg_complete['nd2'])}\")\n",
    "        print(f\"\\tgro bef: {len(df_grouping_complete['nd2'])}\")\n",
    "        df_grouping_complete = pd.concat([df_grouping_complete, df_grouping])\n",
    "        print(f\"\\tgro aft: {len(df_grouping_complete['nd2'])}\")\n",
    "    else:\n",
    "        print(f\"Check if you set the correct folder (folder containing all subfolders with mouse names):\")\n",
    "        if not os.path.exists(seg_fpath):\n",
    "            print(f\"\\t{seg_fpath} not found\")\n",
    "        if not os.path.exists(grouping_fpath):\n",
    "            print(f\"\\t{grouping_fpath} not found\")\n",
    "        "
   ]
  },
  {
   "cell_type": "code",
   "execution_count": 15,
   "id": "c5b8a07e",
   "metadata": {},
   "outputs": [],
   "source": [
    "# take only recordings that were classified as \"tmev\" (experiment type)\n",
    "df_seg_complete.where(df_seg_complete[\"nd2\"].isin(df_grouping_complete[\"nd2\"].unique()), inplace=True)\n",
    "# wrong recording types changed to NaN; drop them\n",
    "df_seg_complete.dropna(inplace=True)"
   ]
  },
  {
   "cell_type": "code",
   "execution_count": 16,
   "id": "44b44926",
   "metadata": {},
   "outputs": [],
   "source": [
    "# need to create new dataframe. \n",
    "# x axis will be: baseline, seizure, sd_wave, sd_extinction, aftermath...\n",
    "# one plot: only with seizures \n",
    "#   (check categories: chr2_sz/chr2_szsd? tmev_sz? check interval types corresponding to seizure, sd etc.)\n",
    "# other plot: chr2 only?"
   ]
  },
  {
   "cell_type": "markdown",
   "id": "b80ccaf6",
   "metadata": {},
   "source": [
    "# Baseline - Seizure - SD - aftermath analysis "
   ]
  },
  {
   "cell_type": "code",
   "execution_count": 17,
   "id": "468d9993",
   "metadata": {},
   "outputs": [],
   "source": [
    "# take only videos with seizure\n",
    "df_sz = df_seg_complete.groupby(\"nd2\").filter(lambda group: \"sz\" in group[\"interval_type\"].unique())"
   ]
  },
  {
   "cell_type": "code",
   "execution_count": 18,
   "id": "5296e35f",
   "metadata": {},
   "outputs": [
    {
     "data": {
      "text/plain": [
       "139"
      ]
     },
     "execution_count": 18,
     "metadata": {},
     "output_type": "execute_result"
    }
   ],
   "source": [
    "len(df_sz)"
   ]
  },
  {
   "cell_type": "markdown",
   "id": "9617a272",
   "metadata": {},
   "source": [
    "# TODO: some recordings start with non-\"normal\" event type! How to deal with these? E.g. fake-handling!\n",
    "# TODO: test if _nik.txt is read correctly for stimulations (where first column has weird format)!"
   ]
  },
  {
   "cell_type": "code",
   "execution_count": 19,
   "id": "0b79c4ed",
   "metadata": {},
   "outputs": [],
   "source": [
    "# change labels of segments that start the video until seizure as \"baseline\"\n",
    "df_sz.loc[(df_sz[\"interval_type\"] == \"normal\") & (df_sz[\"frame_begin\"] == 1.0), \"interval_type\"] = \"baseline\"\n",
    "# assuming one seizure per video, and that there is no \"normal\" labeling between \"abnormal\" events like SZ and SD, \n",
    "#   change label to aftermath\n",
    "# TODO: change this to frame_end == len(recording)? i.e. last part in video?\n",
    "df_sz.loc[(df_sz[\"interval_type\"] == \"normal\") & (df_sz[\"frame_begin\"] != 1.0), \"interval_type\"] = \"aftermath\"  # second criterion is not even necessary anymore..."
   ]
  },
  {
   "cell_type": "code",
   "execution_count": 20,
   "id": "be96e185",
   "metadata": {},
   "outputs": [],
   "source": [
    "# TODO: some recordings have iis between \"normal\". Change them to normal to include them in movement statistics."
   ]
  },
  {
   "cell_type": "code",
   "execution_count": 21,
   "id": "60f3dc2d",
   "metadata": {},
   "outputs": [
    {
     "data": {
      "text/plain": [
       "True"
      ]
     },
     "execution_count": 21,
     "metadata": {},
     "output_type": "execute_result"
    }
   ],
   "source": [
    "len(df_grouping_complete[\"nd2\"]) == len(df_grouping_complete[\"nd2\"].unique())  # grouping should be unique!"
   ]
  },
  {
   "cell_type": "code",
   "execution_count": 22,
   "id": "c18e67c2",
   "metadata": {},
   "outputs": [],
   "source": [
    "sz_vids = df_sz[\"nd2\"].unique()\n",
    "df_sz_grouping = df_grouping_complete[df_grouping_complete[\"nd2\"].isin(sz_vids)]"
   ]
  },
  {
   "cell_type": "code",
   "execution_count": 23,
   "id": "9ad8f2f5",
   "metadata": {},
   "outputs": [
    {
     "data": {
      "text/plain": [
       "True"
      ]
     },
     "execution_count": 23,
     "metadata": {},
     "output_type": "execute_result"
    }
   ],
   "source": [
    "len(df_sz_grouping[\"nd2\"]) == len(df_sz_grouping[\"nd2\"].unique())"
   ]
  },
  {
   "cell_type": "code",
   "execution_count": 24,
   "id": "98ca1421",
   "metadata": {},
   "outputs": [
    {
     "data": {
      "text/plain": [
       "Index(['folder', 'nd2', 'labview', 'lfp', 'face_cam_last', 'nikon_meta',\n",
       "       'experiment_type', 'mouse_id', 'day'],\n",
       "      dtype='object')"
      ]
     },
     "execution_count": 24,
     "metadata": {},
     "output_type": "execute_result"
    }
   ],
   "source": [
    "df_sz_grouping.keys()"
   ]
  },
  {
   "cell_type": "code",
   "execution_count": 25,
   "id": "00ab7802",
   "metadata": {},
   "outputs": [
    {
     "name": "stdout",
     "output_type": "stream",
     "text": [
      "Inferred labview timestamps file path:\n",
      "\tY:\\AG-Wenzel\\Group\\tmev\\T301\\T301_tmev_d1\\T301_tmev_d1.270820.1151time.txt\n",
      "Calling Matlab-2p beltProcessPipelineExpProps with arguments:\n",
      "\tY:\\AG-Wenzel\\Group\\tmev\\T301\\T301_tmev_d1\n",
      "\tT301_tmev_d1.270820.1151\n",
      "\tT301_tmev_d1.270820.1151_nik\n",
      "No conversion of belt_length_mm happened, as belt_params['belt_length_mm'] is type <class 'float'>\n",
      "Inferred labview timestamps file path:\n",
      "\tY:\\AG-Wenzel\\Group\\tmev\\T301\\T301_tmev_d1\\T301_tmev_d1.270820.1209time.txt\n",
      "Calling Matlab-2p beltProcessPipelineExpProps with arguments:\n",
      "\tY:\\AG-Wenzel\\Group\\tmev\\T301\\T301_tmev_d1\n",
      "\tT301_tmev_d1.270820.1209\n",
      "\tT301_tmev_d1.270820.1209_nik\n",
      "No conversion of belt_length_mm happened, as belt_params['belt_length_mm'] is type <class 'float'>\n",
      "Inferred labview timestamps file path:\n",
      "\tY:\\AG-Wenzel\\Group\\tmev\\T301\\T301_tmev_d1\\T301_tmev_d1.270820.1228time.txt\n",
      "Calling Matlab-2p beltProcessPipelineExpProps with arguments:\n",
      "\tY:\\AG-Wenzel\\Group\\tmev\\T301\\T301_tmev_d1\n",
      "\tT301_tmev_d1.270820.1228\n",
      "\tT301_tmev_d1.270820.1228_nik\n",
      "No conversion of belt_length_mm happened, as belt_params['belt_length_mm'] is type <class 'float'>\n",
      "Inferred labview timestamps file path:\n",
      "\tY:\\AG-Wenzel\\Group\\tmev\\T329\\T329_tmev_d3\\T329_tmev_d3.041220.1203time.txt\n",
      "Calling Matlab-2p beltProcessPipelineExpProps with arguments:\n",
      "\tY:\\AG-Wenzel\\Group\\tmev\\T329\\T329_tmev_d3\n",
      "\tT329_tmev_d3.041220.1203\n",
      "\tT329_tmev_d3.041220.1203_nik1\n",
      "Inferred labview timestamps file path:\n",
      "\tY:\\AG-Wenzel\\Group\\tmev\\T329\\T329_tmev_d3\\T329_tmev_d3.041220.1203time.txt\n",
      "Calling Matlab-2p beltProcessPipelineExpProps with arguments:\n",
      "\tY:\\AG-Wenzel\\Group\\tmev\\T329\\T329_tmev_d3\n",
      "\tT329_tmev_d3.041220.1203\n",
      "\tT329_tmev_d3.041220.1203_nik2\n",
      "Inferred labview timestamps file path:\n",
      "\tY:\\AG-Wenzel\\Group\\tmev\\T329\\T329_tmev_d3\\T329_tmev_d3.041220.1240time.txt\n",
      "Calling Matlab-2p beltProcessPipelineExpProps with arguments:\n",
      "\tY:\\AG-Wenzel\\Group\\tmev\\T329\\T329_tmev_d3\n",
      "\tT329_tmev_d3.041220.1240\n",
      "\tT329_tmev_d3.041220.1240_nik\n",
      "No conversion of belt_length_mm happened, as belt_params['belt_length_mm'] is type <class 'float'>\n",
      "Inferred labview timestamps file path:\n",
      "\tY:\\AG-Wenzel\\Group\\tmev\\T333\\T333_tmev_d2\\T333_tmev_d2_211020.211020.1346time.txt\n",
      "Calling Matlab-2p beltProcessPipelineExpProps with arguments:\n",
      "\tY:\\AG-Wenzel\\Group\\tmev\\T333\\T333_tmev_d2\n",
      "\tT333_tmev_d2_211020.211020.1346\n",
      "\tT333_tmev_d2_211020.211020.1346_nik\n",
      "No conversion of belt_length_mm happened, as belt_params['belt_length_mm'] is type <class 'float'>\n",
      "Inferred labview timestamps file path:\n",
      "\tY:\\AG-Wenzel\\Group\\tmev\\T333\\T333_tmev_d2\\T333_tmev_d2_211020.211020.1426time.txt\n",
      "Calling Matlab-2p beltProcessPipelineExpProps with arguments:\n",
      "\tY:\\AG-Wenzel\\Group\\tmev\\T333\\T333_tmev_d2\n",
      "\tT333_tmev_d2_211020.211020.1426\n",
      "\tT333_tmev_d2_211020.211020.1426_nik\n",
      "No conversion of belt_length_mm happened, as belt_params['belt_length_mm'] is type <class 'float'>\n",
      "Inferred labview timestamps file path:\n",
      "\tY:\\AG-Wenzel\\Group\\tmev\\T333\\T333_tmev_d2\\T333_tmev_d2_211020.211020.1506time.txt\n",
      "Calling Matlab-2p beltProcessPipelineExpProps with arguments:\n",
      "\tY:\\AG-Wenzel\\Group\\tmev\\T333\\T333_tmev_d2\n",
      "\tT333_tmev_d2_211020.211020.1506\n",
      "\tT333_tmev_d2_211020.211020.1506_nik\n",
      "No conversion of belt_length_mm happened, as belt_params['belt_length_mm'] is type <class 'float'>\n",
      "Inferred labview timestamps file path:\n",
      "\tY:\\AG-Wenzel\\Group\\ChRod2\\T370_ChR2\\T370_ChR2_d22\\T370_ChR2_d22.280721.1824time.txt\n",
      "Calling Matlab-2p beltProcessPipelineExpProps with arguments:\n",
      "\tY:\\AG-Wenzel\\Group\\ChRod2\\T370_ChR2\\T370_ChR2_d22\n",
      "\tT370_ChR2_d22.280721.1824\n",
      "\tT370_ChR2_d22_488stim_500msec_10min__nik\n",
      "Inferred labview timestamps file path:\n",
      "\tY:\\AG-Wenzel\\Group\\ChRod2\\T370_ChR2\\T370_ChR2_d29_elec\\T370_ChR2_d29_elec.050821.1559time.txt\n",
      "Calling Matlab-2p beltProcessPipelineExpProps with arguments:\n",
      "\tY:\\AG-Wenzel\\Group\\ChRod2\\T370_ChR2\\T370_ChR2_d29_elec\n",
      "\tT370_ChR2_d29_elec.050821.1559\n",
      "\tT370_ChR2_d29_elec__nik\n",
      "Inferred labview timestamps file path:\n",
      "\tY:\\AG-Wenzel\\Group\\ChRod2\\T370_ChR2\\T370_ChR2_d29_elec\\T370_ChR2_d29_elec.050821.1636time.txt\n",
      "Calling Matlab-2p beltProcessPipelineExpProps with arguments:\n",
      "\tY:\\AG-Wenzel\\Group\\ChRod2\\T370_ChR2\\T370_ChR2_d29_elec\n",
      "\tT370_ChR2_d29_elec.050821.1636\n",
      "\tT370_ChR2_d29_elec_001_nik\n",
      "Inferred labview timestamps file path:\n",
      "\tY:\\AG-Wenzel\\Group\\ChRod2\\T370_ChR2\\T370_ChR2_d29_elec\\T370_ChR2_d29_elec.050821.1729time.txt\n",
      "Calling Matlab-2p beltProcessPipelineExpProps with arguments:\n",
      "\tY:\\AG-Wenzel\\Group\\ChRod2\\T370_ChR2\\T370_ChR2_d29_elec\n",
      "\tT370_ChR2_d29_elec.050821.1729\n",
      "\tT370_ChR2_d29_elec_002_nik\n",
      "Inferred labview timestamps file path:\n",
      "\tY:\\AG-Wenzel\\Group\\ChRod2\\T370_ChR2\\T370_ChR2_d30_elec\\T370_ChR2_d30_elec_.060821.0948time.txt\n",
      "Calling Matlab-2p beltProcessPipelineExpProps with arguments:\n",
      "\tY:\\AG-Wenzel\\Group\\ChRod2\\T370_ChR2\\T370_ChR2_d30_elec\n",
      "\tT370_ChR2_d30_elec_.060821.0948\n",
      "\tT370_ChR2_d30_elec__nik\n",
      "Inferred labview timestamps file path:\n",
      "\tY:\\AG-Wenzel\\Group\\ChRod2\\T370_ChR2\\T370_ChR2_LR_d1\\T370_ChR2_LR_d1.111121.1618time.txt\n",
      "Calling Matlab-2p beltProcessPipelineExpProps with arguments:\n",
      "\tY:\\AG-Wenzel\\Group\\ChRod2\\T370_ChR2\\T370_ChR2_LR_d1\n",
      "\tT370_ChR2_LR_d1.111121.1618\n",
      "\tT370_ChR2_LR_d1_488_004_nik\n",
      "Inferred labview timestamps file path:\n",
      "\tY:\\AG-Wenzel\\Group\\ChRod2\\T370_ChR2\\T370_ChR2_LR_d3\\T370.191121.1410time.txt\n",
      "Calling Matlab-2p beltProcessPipelineExpProps with arguments:\n",
      "\tY:\\AG-Wenzel\\Group\\ChRod2\\T370_ChR2\\T370_ChR2_LR_d3\n",
      "\tT370.191121.1410\n",
      "\tT370.191121.1410_nik\n",
      "Inferred labview timestamps file path:\n",
      "\tY:\\AG-Wenzel\\Group\\ChRod2\\T370_ChR2\\T370_ChR2_LR_d4\\T370.221121.1308time.txt\n",
      "Calling Matlab-2p beltProcessPipelineExpProps with arguments:\n",
      "\tY:\\AG-Wenzel\\Group\\ChRod2\\T370_ChR2\\T370_ChR2_LR_d4\n",
      "\tT370.221121.1308\n",
      "\tT370.221121.1308_nik\n",
      "Inferred labview timestamps file path:\n",
      "\tY:\\AG-Wenzel\\Group\\ChRod2\\T370_ChR2\\T370_ChR2_LR_d5\\T370.231121.1431time.txt\n",
      "Calling Matlab-2p beltProcessPipelineExpProps with arguments:\n",
      "\tY:\\AG-Wenzel\\Group\\ChRod2\\T370_ChR2\\T370_ChR2_LR_d5\n",
      "\tT370.231121.1431\n",
      "\tT370.231121.1431_nik\n",
      "Inferred labview timestamps file path:\n",
      "\tY:\\AG-Wenzel\\Group\\ChRod2\\T386_ChR2\\2021_11_04\\T386.041121.1514time.txt\n",
      "Calling Matlab-2p beltProcessPipelineExpProps with arguments:\n",
      "\tY:\\AG-Wenzel\\Group\\ChRod2\\T386_ChR2\\2021_11_04\n",
      "\tT386.041121.1514\n",
      "\tT386.041121.1514_nik\n",
      "Inferred labview timestamps file path:\n",
      "\tY:\\AG-Wenzel\\Group\\ChRod2\\T386_ChR2\\2021_11_05\\T386.051121.1221time.txt\n",
      "Calling Matlab-2p beltProcessPipelineExpProps with arguments:\n",
      "\tY:\\AG-Wenzel\\Group\\ChRod2\\T386_ChR2\\2021_11_05\n",
      "\tT386.051121.1221\n",
      "\tT386.051121.1221_nik\n",
      "Inferred labview timestamps file path:\n",
      "\tY:\\AG-Wenzel\\Group\\ChRod2\\T386_ChR2\\2021_11_05\\T386.051121.1409time.txt\n",
      "Calling Matlab-2p beltProcessPipelineExpProps with arguments:\n",
      "\tY:\\AG-Wenzel\\Group\\ChRod2\\T386_ChR2\\2021_11_05\n",
      "\tT386.051121.1409\n",
      "\tT386.051121.1409_nik\n",
      "Inferred labview timestamps file path:\n",
      "\tY:\\AG-Wenzel\\Group\\ChRod2\\T386_ChR2\\2021_11_25\\T386.251121.1723time.txt\n",
      "Calling Matlab-2p beltProcessPipelineExpProps with arguments:\n",
      "\tY:\\AG-Wenzel\\Group\\ChRod2\\T386_ChR2\\2021_11_25\n",
      "\tT386.251121.1723\n",
      "\tT386.251121.1723_nik\n",
      "Inferred labview timestamps file path:\n",
      "\tY:\\AG-Wenzel\\Group\\tmev\\T391.1\\T391-1_tmev_d4\\T391-1_tmev_d4.270621.0816time.txt\n",
      "Calling Matlab-2p beltProcessPipelineExpProps with arguments:\n",
      "\tY:\\AG-Wenzel\\Group\\tmev\\T391.1\\T391-1_tmev_d4\n",
      "\tT391-1_tmev_d4.270621.0816\n",
      "\tT391-1_tmev_d4.270621.0816_nik\n",
      "Inferred labview timestamps file path:\n",
      "\tY:\\AG-Wenzel\\Group\\tmev\\T391.1\\T391-1_tmev_d6\\T391-1_tmev_d6.290621.0829time.txt\n",
      "Calling Matlab-2p beltProcessPipelineExpProps with arguments:\n",
      "\tY:\\AG-Wenzel\\Group\\tmev\\T391.1\\T391-1_tmev_d6\n",
      "\tT391-1_tmev_d6.290621.0829\n",
      "\tT391-1_tmev_d6.290621.0829_nik\n",
      "Inferred labview timestamps file path:\n",
      "\tY:\\AG-Wenzel\\Group\\tmev\\T396-1\\T396-1_tmev_d3\\T396-1_tmev_d3.260621.1239time.txt\n",
      "Calling Matlab-2p beltProcessPipelineExpProps with arguments:\n",
      "\tY:\\AG-Wenzel\\Group\\tmev\\T396-1\\T396-1_tmev_d3\n",
      "\tT396-1_tmev_d3.260621.1239\n",
      "\tT396-1_tmev_d3.260621.1239_nik\n",
      "Inferred labview timestamps file path:\n",
      "\tY:\\AG-Wenzel\\Group\\tmev\\T396-1\\T396-1_tmev_d3\\T396-1_tmev_d3.260621.1407time.txt\n",
      "Calling Matlab-2p beltProcessPipelineExpProps with arguments:\n",
      "\tY:\\AG-Wenzel\\Group\\tmev\\T396-1\\T396-1_tmev_d3\n",
      "\tT396-1_tmev_d3.260621.1407\n",
      "\tT396-1_tmev_d3.260621.1407_nik\n",
      "Inferred labview timestamps file path:\n",
      "\tY:\\AG-Wenzel\\Group\\tmev\\T396-1\\T396-1_tmev_d3\\T396-1_tmev_d3.260621.1439time.txt\n"
     ]
    },
    {
     "name": "stdout",
     "output_type": "stream",
     "text": [
      "Calling Matlab-2p beltProcessPipelineExpProps with arguments:\n",
      "\tY:\\AG-Wenzel\\Group\\tmev\\T396-1\\T396-1_tmev_d3\n",
      "\tT396-1_tmev_d3.260621.1439\n",
      "\tT396-1_tmev_d3.260621.1439_nik\n",
      "Inferred labview timestamps file path:\n",
      "\tY:\\AG-Wenzel\\Group\\tmev\\T534\\T534_tmev_d2_extra\\T534_tmev_d2_extra.170822.2225time.txt\n",
      "Calling Matlab-2p beltProcessPipelineExpProps with arguments:\n",
      "\tY:\\AG-Wenzel\\Group\\tmev\\T534\\T534_tmev_d2_extra\n",
      "\tT534_tmev_d2_extra.170822.2225\n",
      "\tT534_tmev_d2_extra.170822.2225_nik\n",
      "Inferred labview timestamps file path:\n",
      "\tY:\\AG-Wenzel\\Group\\tmev\\T534\\T534_tmev_d2_extra\\T534_tmev_d2_extra.170822.2306time.txt\n",
      "Calling Matlab-2p beltProcessPipelineExpProps with arguments:\n",
      "\tY:\\AG-Wenzel\\Group\\tmev\\T534\\T534_tmev_d2_extra\n",
      "\tT534_tmev_d2_extra.170822.2306\n",
      "\tT534_tmev_d2_extra.170822.2306_nik\n"
     ]
    }
   ],
   "source": [
    "# TODO: rename row to row_grouping, row2 to row_segment\n",
    "\n",
    "sz_nd2s = list()  # should contain nd2 file names for backtracking\n",
    "sz_segments_speed_dict = dict()\n",
    "sz_segments_dist_dict = dict()\n",
    "sz_segments_totdist_dict = dict()\n",
    "sz_segments_rounds_dict = dict()\n",
    "sz_segments_tsscn_dict = dict()\n",
    "sz_segments_running_dict = dict()\n",
    "\n",
    "df_sz_res_cols = {\"mouse_id\": [], \"experiment_type\": [], \"interval_type\": [], \"distance\": [], \"d_frames\": [], \"dt\": []}\n",
    "\n",
    "# for each recording in category, create session, \n",
    "# perform labview cut to scanner timeframe, \n",
    "# then extract relevant frame movement data\n",
    "# results appended to segments_dict entries.\n",
    "# segments_dict should contain, for each key (type of interval) all the corresponding data from all videos\n",
    "for index, row in df_sz_grouping.iterrows():\n",
    "    labview_fpath = os.path.join(row[\"folder\"], row[\"labview\"])\n",
    "    nikmeta_fpath = os.path.join(row[\"folder\"], row[\"nikon_meta\"])\n",
    "    \n",
    "    ses = tps.TwoPhotonSession(nd2_timestamps_path=nikmeta_fpath, labview_path=labview_fpath, matlab_2p_folder=matlab_2p_folder)\n",
    "    ses.infer_labview_timestamps()\n",
    "    ses._open_data()  # TODO: implement a better way than using \"private\" function\n",
    "    ses_segments = df_sz[df_sz[\"nd2\"]==row[\"nd2\"]]  # get all segments from the same file\n",
    "    for index2, row2 in ses_segments.iterrows():\n",
    "        t0 = int(row2[\"frame_begin\"] - 1)  # correct 1-indexing to 0-indexing, convert to int\n",
    "        t1 = int(row2[\"frame_end\"])  # list[a:b] returns elements a to (b-1), so no need to subtract here\n",
    "        \n",
    "        # Check if dictionary entries exist\n",
    "        if row2[\"interval_type\"] not in sz_segments_speed_dict.keys():\n",
    "            sz_segments_speed_dict[row2[\"interval_type\"]] = []\n",
    "        if row2[\"interval_type\"] not in sz_segments_dist_dict.keys():   \n",
    "            sz_segments_dist_dict[row2[\"interval_type\"]] = []\n",
    "        if row2[\"interval_type\"] not in sz_segments_totdist_dict.keys():     \n",
    "            sz_segments_totdist_dict[row2[\"interval_type\"]] = []\n",
    "        if row2[\"interval_type\"] not in sz_segments_rounds_dict.keys():    \n",
    "            sz_segments_rounds_dict[row2[\"interval_type\"]] = []\n",
    "        if row2[\"interval_type\"] not in sz_segments_tsscn_dict.keys():    \n",
    "            sz_segments_tsscn_dict[row2[\"interval_type\"]] = []\n",
    "        if row2[\"interval_type\"] not in sz_segments_running_dict.keys():    \n",
    "            sz_segments_running_dict[row2[\"interval_type\"]] = []\n",
    "        \n",
    "        # append to dictionaries and nd2 list\n",
    "        sz_nd2s.append(row[\"nd2\"])\n",
    "        sz_segments_speed_dict[row2[\"interval_type\"]].append(deepcopy(ses.belt_scn_dict[\"speed\"][t0:t1]))\n",
    "        sz_segments_dist_dict[row2[\"interval_type\"]].append(deepcopy(ses.belt_scn_dict[\"distance\"][t0:t1]))\n",
    "        sz_segments_totdist_dict[row2[\"interval_type\"]].append(deepcopy(ses.belt_scn_dict[\"totdist\"][t0:t1]))\n",
    "        sz_segments_rounds_dict[row2[\"interval_type\"]].append(deepcopy(ses.belt_scn_dict[\"rounds\"][t0:t1]))\n",
    "        sz_segments_tsscn_dict[row2[\"interval_type\"]].append(deepcopy(ses.belt_scn_dict[\"tsscn\"][t0:t1]))\n",
    "        sz_segments_running_dict[row2[\"interval_type\"]].append(deepcopy(ses.belt_scn_dict[\"running\"][t0:t1]))\n",
    "        \n",
    "        # append to dataframe columns\n",
    "        df_sz_res_cols[\"mouse_id\"].append(row[\"mouse_id\"])\n",
    "        df_sz_res_cols[\"experiment_type\"].append(row[\"experiment_type\"])\n",
    "        df_sz_res_cols[\"interval_type\"].append(row2[\"interval_type\"])\n",
    "        df_sz_res_cols[\"distance\"].append(ses.belt_scn_dict[\"totdist\"][t1-1] - ses.belt_scn_dict[\"totdist\"][t0])  # t1 is 1-indexed, t0 0-indexed, see above\n",
    "        df_sz_res_cols[\"d_frames\"].append(t1 - 1 - t0)  # t1 is 1-indexed, t0 0-indexed, see above\n",
    "        # dt: in ms\n",
    "        df_sz_res_cols[\"dt\"].append(ses.belt_scn_dict[\"tsscn\"][t1-1] - ses.belt_scn_dict[\"tsscn\"][t0]) # t1 is 1-indexed, t0 0-indexed, see above"
   ]
  },
  {
   "cell_type": "code",
   "execution_count": 26,
   "id": "e01cd015",
   "metadata": {},
   "outputs": [],
   "source": [
    "# create df from dict:\n",
    "df_sz_res = pd.DataFrame.from_dict(df_sz_res_cols)"
   ]
  },
  {
   "cell_type": "code",
   "execution_count": 27,
   "id": "28ba1a85",
   "metadata": {},
   "outputs": [],
   "source": [
    "# normalize distance by the interval length \n",
    "# also take absolute value; especially during shorter intervals, mice might step backwards a few times and that's it \n",
    "df_sz_res[\"dist_norm\"] = abs(df_sz_res[\"distance\"]/df_sz_res[\"dt\"])  "
   ]
  },
  {
   "cell_type": "code",
   "execution_count": 28,
   "id": "208be902",
   "metadata": {},
   "outputs": [
    {
     "data": {
      "text/html": [
       "<div>\n",
       "<style scoped>\n",
       "    .dataframe tbody tr th:only-of-type {\n",
       "        vertical-align: middle;\n",
       "    }\n",
       "\n",
       "    .dataframe tbody tr th {\n",
       "        vertical-align: top;\n",
       "    }\n",
       "\n",
       "    .dataframe thead th {\n",
       "        text-align: right;\n",
       "    }\n",
       "</style>\n",
       "<table border=\"1\" class=\"dataframe\">\n",
       "  <thead>\n",
       "    <tr style=\"text-align: right;\">\n",
       "      <th></th>\n",
       "      <th>mouse_id</th>\n",
       "      <th>experiment_type</th>\n",
       "      <th>interval_type</th>\n",
       "      <th>distance</th>\n",
       "      <th>d_frames</th>\n",
       "      <th>dt</th>\n",
       "      <th>dist_norm</th>\n",
       "    </tr>\n",
       "  </thead>\n",
       "  <tbody>\n",
       "    <tr>\n",
       "      <th>0</th>\n",
       "      <td>T301</td>\n",
       "      <td>tmev</td>\n",
       "      <td>baseline</td>\n",
       "      <td>0.000000</td>\n",
       "      <td>8671</td>\n",
       "      <td>569180.56995</td>\n",
       "      <td>0.000000</td>\n",
       "    </tr>\n",
       "    <tr>\n",
       "      <th>1</th>\n",
       "      <td>T301</td>\n",
       "      <td>tmev</td>\n",
       "      <td>sz</td>\n",
       "      <td>17.000000</td>\n",
       "      <td>474</td>\n",
       "      <td>31114.67680</td>\n",
       "      <td>0.000546</td>\n",
       "    </tr>\n",
       "    <tr>\n",
       "      <th>2</th>\n",
       "      <td>T301</td>\n",
       "      <td>tmev</td>\n",
       "      <td>sd_wave</td>\n",
       "      <td>349.000000</td>\n",
       "      <td>153</td>\n",
       "      <td>10043.35400</td>\n",
       "      <td>0.034749</td>\n",
       "    </tr>\n",
       "    <tr>\n",
       "      <th>3</th>\n",
       "      <td>T301</td>\n",
       "      <td>tmev</td>\n",
       "      <td>sd_extinction</td>\n",
       "      <td>1374.414634</td>\n",
       "      <td>1005</td>\n",
       "      <td>65971.16370</td>\n",
       "      <td>0.020834</td>\n",
       "    </tr>\n",
       "    <tr>\n",
       "      <th>4</th>\n",
       "      <td>T301</td>\n",
       "      <td>tmev</td>\n",
       "      <td>aftermath</td>\n",
       "      <td>6632.585366</td>\n",
       "      <td>6177</td>\n",
       "      <td>405480.67380</td>\n",
       "      <td>0.016357</td>\n",
       "    </tr>\n",
       "  </tbody>\n",
       "</table>\n",
       "</div>"
      ],
      "text/plain": [
       "  mouse_id experiment_type  interval_type     distance  d_frames  \\\n",
       "0     T301            tmev       baseline     0.000000      8671   \n",
       "1     T301            tmev             sz    17.000000       474   \n",
       "2     T301            tmev        sd_wave   349.000000       153   \n",
       "3     T301            tmev  sd_extinction  1374.414634      1005   \n",
       "4     T301            tmev      aftermath  6632.585366      6177   \n",
       "\n",
       "             dt  dist_norm  \n",
       "0  569180.56995   0.000000  \n",
       "1   31114.67680   0.000546  \n",
       "2   10043.35400   0.034749  \n",
       "3   65971.16370   0.020834  \n",
       "4  405480.67380   0.016357  "
      ]
     },
     "execution_count": 28,
     "metadata": {},
     "output_type": "execute_result"
    }
   ],
   "source": [
    "df_sz_res.head()"
   ]
  },
  {
   "cell_type": "code",
   "execution_count": 29,
   "id": "8784b1d7",
   "metadata": {},
   "outputs": [
    {
     "data": {
      "text/plain": [
       "array(['T301', 'T329', 'T333', ..., 'T391', 'T396', 'T534'], dtype=object)"
      ]
     },
     "execution_count": 29,
     "metadata": {},
     "output_type": "execute_result"
    }
   ],
   "source": [
    "df_sz_res[\"mouse_id\"].unique()"
   ]
  },
  {
   "cell_type": "code",
   "execution_count": 30,
   "id": "787af558",
   "metadata": {},
   "outputs": [],
   "source": [
    "# todo work with dataframe, seaborn plot. if fine, use chr2 too (ctl stim vs szsd, vs sd only. need more sd only?)"
   ]
  },
  {
   "cell_type": "code",
   "execution_count": 31,
   "id": "58085f16",
   "metadata": {},
   "outputs": [],
   "source": [
    "# 3. open 2psession for each nd2, do matching. Need nd2? or only nd2 meta + labview. Latter would be much quicker."
   ]
  },
  {
   "cell_type": "code",
   "execution_count": 32,
   "id": "2cfa2f9b",
   "metadata": {},
   "outputs": [],
   "source": [
    "# TODO: create df from results! With ID, exp type, interval type...\n",
    "# TODO: visualize data somehow. Take code from below (Unorganized)!"
   ]
  },
  {
   "cell_type": "code",
   "execution_count": 33,
   "id": "23ead889",
   "metadata": {},
   "outputs": [],
   "source": [
    "# result dataframe could be:\n",
    "# ID, interval_type, distance, dt, distance_norm"
   ]
  },
  {
   "cell_type": "code",
   "execution_count": 34,
   "id": "35283316",
   "metadata": {},
   "outputs": [
    {
     "data": {
      "text/plain": [
       "array(['baseline', 'sz', 'sd_wave', ..., 'iis', 'stimulation',\n",
       "       'sd_wave_cx'], dtype=object)"
      ]
     },
     "execution_count": 34,
     "metadata": {},
     "output_type": "execute_result"
    }
   ],
   "source": [
    "df_sz_res[\"interval_type\"].unique()"
   ]
  },
  {
   "cell_type": "code",
   "execution_count": 35,
   "id": "12ab4bfb",
   "metadata": {},
   "outputs": [
    {
     "data": {
      "text/plain": [
       "array(['tmev', 'chr2_szsd'], dtype=object)"
      ]
     },
     "execution_count": 35,
     "metadata": {},
     "output_type": "execute_result"
    }
   ],
   "source": [
    "df_sz_res[\"experiment_type\"].unique()"
   ]
  },
  {
   "cell_type": "code",
   "execution_count": 36,
   "id": "1bbc8299",
   "metadata": {},
   "outputs": [],
   "source": [
    "# TODO: convert iis to normal for the sake of locomotion analysis?\n",
    "# TODO: add more recordings with seizures. Don't need complete tmev groupings for now... Only videos with seizures."
   ]
  },
  {
   "cell_type": "code",
   "execution_count": 37,
   "id": "f5638737",
   "metadata": {},
   "outputs": [],
   "source": [
    "df_sz_res[\"interval_type_renamed\"] = df_sz_res[\"interval_type\"].replace({\"sd_wave_cx\": \"sd_wave\"})\n",
    "df_sz_res[\"experiment_type_renamed\"] = df_sz_res[\"experiment_type\"].replace({\"tmev\": \"TMEV\", \"chr2_szsd\": \"ChR2\"})"
   ]
  },
  {
   "cell_type": "code",
   "execution_count": 38,
   "id": "80b5f085",
   "metadata": {},
   "outputs": [
    {
     "data": {
      "image/png": "[encoded data removed]",
      "text/plain": [
       "<Figure size 1274.88x864 with 1 Axes>"
      ]
     },
     "metadata": {},
     "output_type": "display_data"
    }
   ],
   "source": [
    "sns.set_theme(style=\"whitegrid\")\n",
    "#sns.set(rc={'figure.figsize':(20.7,8.27)})\n",
    "\n",
    "# use standard error or standard deviation for uncertainty/spread, or confidence interval or percentile interval\n",
    "# se/sd/ci/pi\n",
    "# see https://seaborn.pydata.org/tutorial/error_bars.html\n",
    "g = sns.catplot(\n",
    "    data=df_sz_res, kind=\"bar\",\n",
    "    x=\"interval_type_renamed\", y=\"dist_norm\", hue=\"experiment_type_renamed\",\n",
    "    errorbar=(\"pi\", 50), alpha=.8, height=12, aspect=1.3\n",
    ");\n",
    "g.despine(left=True)\n",
    "g.set_axis_labels(\"\", \"(distance) / (interval length)\", fontsize=22)\n",
    "g.set_xticklabels([\"Baseline\", \"Seizure\", \"SD Wave\", \"SD Extinction\", \"Aftermath\", \"IIS\", \"Stimulation\"], fontsize=18)\n",
    "g.set_yticklabels(fontsize=18)\n",
    "g._legend.set_title(\"Experiment type\")\n",
    "plt.setp(g._legend.get_title(), fontsize=20);\n",
    "plt.setp(g._legend.get_texts(),  fontsize=18);"
   ]
  },
  {
   "cell_type": "code",
   "execution_count": 39,
   "id": "8de3f4dd",
   "metadata": {},
   "outputs": [
    {
     "data": {
      "image/png": "[encoded data removed]",
      "text/plain": [
       "<Figure size 1274.88x864 with 1 Axes>"
      ]
     },
     "metadata": {},
     "output_type": "display_data"
    }
   ],
   "source": [
    "sns.set_theme(style=\"whitegrid\")\n",
    "#sns.set(rc={'figure.figsize':(20.7,8.27)})\n",
    "\n",
    "# use standard error or standard deviation for uncertainty/spread, or confidence interval or percentile interval\n",
    "# se/sd/ci/pi\n",
    "# see https://seaborn.pydata.org/tutorial/error_bars.html\n",
    "g = sns.catplot(\n",
    "    data=df_sz_res, kind=\"strip\",\n",
    "    x=\"interval_type_renamed\", y=\"dist_norm\", hue=\"experiment_type_renamed\",\n",
    "    errorbar=(\"pi\", 50), alpha=0.8, height=12, aspect=1.3, size=12\n",
    ");\n",
    "g.despine(left=True)\n",
    "g.set_axis_labels(\"\", \"(distance) / (interval length)\", fontsize=22)\n",
    "g.set_xticklabels([\"Baseline\", \"Seizure\", \"SD Wave\", \"SD Extinction\", \"Aftermath\", \"IIS\", \"Stimulation\"], fontsize=18)\n",
    "g.set_yticklabels(fontsize=18)\n",
    "g._legend.set_title(\"Experiment type\")\n",
    "plt.setp(g._legend.get_title(), fontsize=20);\n",
    "plt.setp(g._legend.get_texts(),  fontsize=18);\n",
    "g.set(ylim=(-0.003,0.06));"
   ]
  },
  {
   "cell_type": "code",
   "execution_count": 40,
   "id": "c6906acb",
   "metadata": {},
   "outputs": [
    {
     "data": {
      "text/plain": [
       "11"
      ]
     },
     "execution_count": 40,
     "metadata": {},
     "output_type": "execute_result"
    }
   ],
   "source": [
    "len(df_sz_res[(df_sz_res[\"interval_type_renamed\"] == \"baseline\") & (df_sz_res[\"experiment_type\"] == \"tmev\")])"
   ]
  },
  {
   "cell_type": "markdown",
   "id": "6bb4bbc2",
   "metadata": {},
   "source": [
    "# Compare ChR2 SD vs SZSD running statistics"
   ]
  },
  {
   "cell_type": "code",
   "execution_count": 41,
   "id": "182d6335",
   "metadata": {},
   "outputs": [],
   "source": [
    "# take only videos with seizure\n",
    "df_stim = df_seg_complete.groupby(\"nd2\").filter(lambda group: \"stimulation\" in group[\"interval_type\"].unique())"
   ]
  },
  {
   "cell_type": "code",
   "execution_count": 42,
   "id": "6ce3f57c",
   "metadata": {},
   "outputs": [],
   "source": [
    "# change labels of segments that start the video until seizure as \"baseline\"\n",
    "df_stim.loc[(df_stim[\"interval_type\"] == \"normal\") & (df_stim[\"frame_begin\"] == 1.0), \"interval_type\"] = \"baseline\"\n",
    "# assuming one seizure per video, and that there is no \"normal\" labeling between \"abnormal\" events like SZ and SD, \n",
    "#   change label to aftermath\n",
    "# TODO: change this to frame_end == len(recording)? i.e. last part in video?\n",
    "df_stim.loc[(df_stim[\"interval_type\"] == \"normal\") & (df_stim[\"frame_begin\"] != 1.0), \"interval_type\"] = \"aftermath\"  # second criterion is not even necessary anymore..."
   ]
  },
  {
   "cell_type": "code",
   "execution_count": 43,
   "id": "9be9ec36",
   "metadata": {},
   "outputs": [],
   "source": [
    "stim_vids = df_stim[\"nd2\"].unique()\n",
    "df_stim_grouping = df_grouping_complete[df_grouping_complete[\"nd2\"].isin(stim_vids)]"
   ]
  },
  {
   "cell_type": "code",
   "execution_count": 44,
   "id": "420b3df5",
   "metadata": {},
   "outputs": [
    {
     "data": {
      "text/plain": [
       "True"
      ]
     },
     "execution_count": 44,
     "metadata": {},
     "output_type": "execute_result"
    }
   ],
   "source": [
    "len(df_stim_grouping[\"nd2\"]) == len(df_stim_grouping[\"nd2\"].unique())"
   ]
  },
  {
   "cell_type": "code",
   "execution_count": 45,
   "id": "0a62b429",
   "metadata": {},
   "outputs": [],
   "source": [
    "# TODO: integrate this in sz for loop for faster re-run of notebook"
   ]
  },
  {
   "cell_type": "code",
   "execution_count": 80,
   "id": "75508f3b",
   "metadata": {},
   "outputs": [
    {
     "data": {
      "text/html": [
       "<div>\n",
       "<style scoped>\n",
       "    .dataframe tbody tr th:only-of-type {\n",
       "        vertical-align: middle;\n",
       "    }\n",
       "\n",
       "    .dataframe tbody tr th {\n",
       "        vertical-align: top;\n",
       "    }\n",
       "\n",
       "    .dataframe thead th {\n",
       "        text-align: right;\n",
       "    }\n",
       "</style>\n",
       "<table border=\"1\" class=\"dataframe\">\n",
       "  <thead>\n",
       "    <tr style=\"text-align: right;\">\n",
       "      <th></th>\n",
       "      <th>nd2</th>\n",
       "      <th>interval_type</th>\n",
       "      <th>frame_begin</th>\n",
       "      <th>frame_end</th>\n",
       "    </tr>\n",
       "  </thead>\n",
       "  <tbody>\n",
       "    <tr>\n",
       "      <th>55</th>\n",
       "      <td>T452_ChR2_CA1_980_d4_561_5s002.nd2</td>\n",
       "      <td>baseline</td>\n",
       "      <td>1</td>\n",
       "      <td>4572</td>\n",
       "    </tr>\n",
       "    <tr>\n",
       "      <th>56</th>\n",
       "      <td>T452_ChR2_CA1_980_d4_561_5s002.nd2</td>\n",
       "      <td>stimulation</td>\n",
       "      <td>4573</td>\n",
       "      <td>4649</td>\n",
       "    </tr>\n",
       "    <tr>\n",
       "      <th>57</th>\n",
       "      <td>T452_ChR2_CA1_980_d4_561_5s002.nd2</td>\n",
       "      <td>aftermath</td>\n",
       "      <td>4650</td>\n",
       "      <td>13483</td>\n",
       "    </tr>\n",
       "  </tbody>\n",
       "</table>\n",
       "</div>"
      ],
      "text/plain": [
       "                                   nd2 interval_type frame_begin frame_end\n",
       "55  T452_ChR2_CA1_980_d4_561_5s002.nd2      baseline           1      4572\n",
       "56  T452_ChR2_CA1_980_d4_561_5s002.nd2   stimulation        4573      4649\n",
       "57  T452_ChR2_CA1_980_d4_561_5s002.nd2     aftermath        4650     13483"
      ]
     },
     "execution_count": 80,
     "metadata": {},
     "output_type": "execute_result"
    }
   ],
   "source": [
    "ses_segments"
   ]
  },
  {
   "cell_type": "code",
   "execution_count": 85,
   "id": "9c7beac4",
   "metadata": {
    "scrolled": false
   },
   "outputs": [
    {
     "name": "stdout",
     "output_type": "stream",
     "text": [
      "Inferred labview timestamps file path:\n",
      "\tY:\\AG-Wenzel\\Group\\ChRod2\\T370_ChR2\\T370_2021_11_29\\T370.291121.1452time.txt\n",
      "Calling Matlab-2p beltProcessPipelineExpProps with arguments:\n",
      "\tY:\\AG-Wenzel\\Group\\ChRod2\\T370_ChR2\\T370_2021_11_29\n",
      "\tT370.291121.1452\n",
      "\tT370.291121.1452_nik\n",
      "Inferred labview timestamps file path:\n",
      "\tY:\\AG-Wenzel\\Group\\ChRod2\\T370_ChR2\\T370_2021_11_29\\T370.291121.1509time.txt\n",
      "Calling Matlab-2p beltProcessPipelineExpProps with arguments:\n",
      "\tY:\\AG-Wenzel\\Group\\ChRod2\\T370_ChR2\\T370_2021_11_29\n",
      "\tT370.291121.1509\n",
      "\tT370.291121.1509_nik\n",
      "Inferred labview timestamps file path:\n",
      "\tY:\\AG-Wenzel\\Group\\ChRod2\\T370_ChR2\\T370_2021_11_29\\T370.291121.1603time.txt\n",
      "Calling Matlab-2p beltProcessPipelineExpProps with arguments:\n",
      "\tY:\\AG-Wenzel\\Group\\ChRod2\\T370_ChR2\\T370_2021_11_29\n",
      "\tT370.291121.1603\n",
      "\tT370.291121.1603_nik\n",
      "Inferred labview timestamps file path:\n",
      "\tY:\\AG-Wenzel\\Group\\ChRod2\\T370_ChR2\\T370_ChR2_d9\\T370_ChR2_d9.150721.1455time.txt\n",
      "Calling Matlab-2p beltProcessPipelineExpProps with arguments:\n",
      "\tY:\\AG-Wenzel\\Group\\ChRod2\\T370_ChR2\\T370_ChR2_d9\n",
      "\tT370_ChR2_d9.150721.1455\n",
      "\tT370_ChR2_d9_980_dualcolor_008_nik\n",
      "Inferred labview timestamps file path:\n",
      "\tY:\\AG-Wenzel\\Group\\ChRod2\\T370_ChR2\\T370_ChR2_d9\\T370_ChR2_d9.150721.1538time.txt\n",
      "Calling Matlab-2p beltProcessPipelineExpProps with arguments:\n",
      "\tY:\\AG-Wenzel\\Group\\ChRod2\\T370_ChR2\\T370_ChR2_d9\n",
      "\tT370_ChR2_d9.150721.1538\n",
      "\tT370_ChR2_d9_980_dualcolor_009_nik\n",
      "Inferred labview timestamps file path:\n",
      "\tY:\\AG-Wenzel\\Group\\ChRod2\\T370_ChR2\\T370_ChR2_d9\\T370_ChR2_d9.150721.1559time.txt\n",
      "Calling Matlab-2p beltProcessPipelineExpProps with arguments:\n",
      "\tY:\\AG-Wenzel\\Group\\ChRod2\\T370_ChR2\\T370_ChR2_d9\n",
      "\tT370_ChR2_d9.150721.1559\n",
      "\tT370_ChR2_d9_980_dualcolor_010_nik\n",
      "Inferred labview timestamps file path:\n",
      "\tY:\\AG-Wenzel\\Group\\ChRod2\\T370_ChR2\\T370_ChR2_d15\\T370_ChR2_d15_.230721.1547time.txt\n",
      "Calling Matlab-2p beltProcessPipelineExpProps with arguments:\n",
      "\tY:\\AG-Wenzel\\Group\\ChRod2\\T370_ChR2\\T370_ChR2_d15\n",
      "\tT370_ChR2_d15_.230721.1547\n",
      "\tT370_ChR2_d15_488stim__nik\n",
      "Inferred labview timestamps file path:\n",
      "\tY:\\AG-Wenzel\\Group\\ChRod2\\T370_ChR2\\T370_ChR2_d15\\T370_ChR2_d15_.230721.1609time.txt\n",
      "Calling Matlab-2p beltProcessPipelineExpProps with arguments:\n",
      "\tY:\\AG-Wenzel\\Group\\ChRod2\\T370_ChR2\\T370_ChR2_d15\n",
      "\tT370_ChR2_d15_.230721.1609\n",
      "\tT370_ChR2_d15_488stim_001_nik\n",
      "Inferred labview timestamps file path:\n",
      "\tY:\\AG-Wenzel\\Group\\ChRod2\\T370_ChR2\\T370_ChR2_d15\\T370_ChR2_d15_.230721.1642time.txt\n",
      "Calling Matlab-2p beltProcessPipelineExpProps with arguments:\n",
      "\tY:\\AG-Wenzel\\Group\\ChRod2\\T370_ChR2\\T370_ChR2_d15\n",
      "\tT370_ChR2_d15_.230721.1642\n",
      "\tT370_ChR2_d15_488stim_002_nik\n",
      "Inferred labview timestamps file path:\n",
      "\tY:\\AG-Wenzel\\Group\\ChRod2\\T370_ChR2\\T370_ChR2_d15\\T370_ChR2_d15_.230721.1658time.txt\n",
      "Calling Matlab-2p beltProcessPipelineExpProps with arguments:\n",
      "\tY:\\AG-Wenzel\\Group\\ChRod2\\T370_ChR2\\T370_ChR2_d15\n",
      "\tT370_ChR2_d15_.230721.1658\n",
      "\tT370_ChR2_d15_561stim_003_nik\n",
      "No conversion of belt_length_mm happened, as belt_params['belt_length_mm'] is type <class 'float'>\n",
      "Inferred labview timestamps file path:\n",
      "\tY:\\AG-Wenzel\\Group\\ChRod2\\T370_ChR2\\T370_ChR2_d15\\T370_ChR2_d15_.230721.1717time.txt\n",
      "Calling Matlab-2p beltProcessPipelineExpProps with arguments:\n",
      "\tY:\\AG-Wenzel\\Group\\ChRod2\\T370_ChR2\\T370_ChR2_d15\n",
      "\tT370_ChR2_d15_.230721.1717\n",
      "\tT370_ChR2_d15_561stim_004_nik\n",
      "Inferred labview timestamps file path:\n",
      "\tY:\\AG-Wenzel\\Group\\ChRod2\\T370_ChR2\\T370_ChR2_d15\\T370_ChR2_d15_.230721.1737time.txt\n",
      "Calling Matlab-2p beltProcessPipelineExpProps with arguments:\n",
      "\tY:\\AG-Wenzel\\Group\\ChRod2\\T370_ChR2\\T370_ChR2_d15\n",
      "\tT370_ChR2_d15_.230721.1737\n",
      "\tT370_ChR2_d15_561stim_005_nik\n",
      "Inferred labview timestamps file path:\n",
      "\tY:\\AG-Wenzel\\Group\\ChRod2\\T370_ChR2\\T370_ChR2_d15\\T370_ChR2_d15_.230721.1752time.txt\n",
      "Calling Matlab-2p beltProcessPipelineExpProps with arguments:\n",
      "\tY:\\AG-Wenzel\\Group\\ChRod2\\T370_ChR2\\T370_ChR2_d15\n",
      "\tT370_ChR2_d15_.230721.1752\n",
      "\tT370_ChR2_d15_561stim_006_nik\n",
      "No conversion of belt_length_mm happened, as belt_params['belt_length_mm'] is type <class 'float'>\n",
      "Inferred labview timestamps file path:\n",
      "\tY:\\AG-Wenzel\\Group\\ChRod2\\T370_ChR2\\T370_ChR2_d22\\T370_ChR2_d22.280721.1824time.txt\n",
      "Calling Matlab-2p beltProcessPipelineExpProps with arguments:\n",
      "\tY:\\AG-Wenzel\\Group\\ChRod2\\T370_ChR2\\T370_ChR2_d22\n",
      "\tT370_ChR2_d22.280721.1824\n",
      "\tT370_ChR2_d22_488stim_500msec_10min__nik\n",
      "Inferred labview timestamps file path:\n",
      "\tY:\\AG-Wenzel\\Group\\ChRod2\\T370_ChR2\\T370_ChR2_d29_elec\\T370_ChR2_d29_elec.050821.1559time.txt\n",
      "Calling Matlab-2p beltProcessPipelineExpProps with arguments:\n",
      "\tY:\\AG-Wenzel\\Group\\ChRod2\\T370_ChR2\\T370_ChR2_d29_elec\n",
      "\tT370_ChR2_d29_elec.050821.1559\n",
      "\tT370_ChR2_d29_elec__nik\n",
      "Inferred labview timestamps file path:\n",
      "\tY:\\AG-Wenzel\\Group\\ChRod2\\T370_ChR2\\T370_ChR2_d29_elec\\T370_ChR2_d29_elec.050821.1636time.txt\n",
      "Calling Matlab-2p beltProcessPipelineExpProps with arguments:\n",
      "\tY:\\AG-Wenzel\\Group\\ChRod2\\T370_ChR2\\T370_ChR2_d29_elec\n",
      "\tT370_ChR2_d29_elec.050821.1636\n",
      "\tT370_ChR2_d29_elec_001_nik\n",
      "Inferred labview timestamps file path:\n",
      "\tY:\\AG-Wenzel\\Group\\ChRod2\\T370_ChR2\\T370_ChR2_d29_elec\\T370_ChR2_d29_elec.050821.1729time.txt\n",
      "Calling Matlab-2p beltProcessPipelineExpProps with arguments:\n",
      "\tY:\\AG-Wenzel\\Group\\ChRod2\\T370_ChR2\\T370_ChR2_d29_elec\n",
      "\tT370_ChR2_d29_elec.050821.1729\n",
      "\tT370_ChR2_d29_elec_002_nik\n",
      "Inferred labview timestamps file path:\n",
      "\tY:\\AG-Wenzel\\Group\\ChRod2\\T370_ChR2\\T370_ChR2_d29_elec\\T370_ChR2_d29_elec.050821.1802time.txt\n",
      "Calling Matlab-2p beltProcessPipelineExpProps with arguments:\n",
      "\tY:\\AG-Wenzel\\Group\\ChRod2\\T370_ChR2\\T370_ChR2_d29_elec\n",
      "\tT370_ChR2_d29_elec.050821.1802\n",
      "\tT370_ChR2_d29_elec_003_nik\n",
      "No conversion of belt_length_mm happened, as belt_params['belt_length_mm'] is type <class 'float'>\n",
      "Inferred labview timestamps file path:\n",
      "\tY:\\AG-Wenzel\\Group\\ChRod2\\T370_ChR2\\T370_ChR2_d30_elec\\T370_ChR2_d30_elec_.060821.0948time.txt\n",
      "Calling Matlab-2p beltProcessPipelineExpProps with arguments:\n",
      "\tY:\\AG-Wenzel\\Group\\ChRod2\\T370_ChR2\\T370_ChR2_d30_elec\n",
      "\tT370_ChR2_d30_elec_.060821.0948\n",
      "\tT370_ChR2_d30_elec__nik\n",
      "Inferred labview timestamps file path:\n",
      "\tY:\\AG-Wenzel\\Group\\ChRod2\\T370_ChR2\\T370_ChR2_d30_elec\\T370_ChR2_d30_elec_.060821.1021time.txt\n",
      "Calling Matlab-2p beltProcessPipelineExpProps with arguments:\n",
      "\tY:\\AG-Wenzel\\Group\\ChRod2\\T370_ChR2\\T370_ChR2_d30_elec\n",
      "\tT370_ChR2_d30_elec_.060821.1021\n",
      "\tT370_ChR2_d30_elec_001_nik\n",
      "Inferred labview timestamps file path:\n",
      "\tY:\\AG-Wenzel\\Group\\ChRod2\\T370_ChR2\\T370_ChR2_d30_elec\\T370_ChR2_d30_elec_.060821.1103time.txt\n",
      "Calling Matlab-2p beltProcessPipelineExpProps with arguments:\n",
      "\tY:\\AG-Wenzel\\Group\\ChRod2\\T370_ChR2\\T370_ChR2_d30_elec\n",
      "\tT370_ChR2_d30_elec_.060821.1103\n",
      "\tT370_ChR2_d30_elec_002_nik\n",
      "No conversion of belt_length_mm happened, as belt_params['belt_length_mm'] is type <class 'float'>\n",
      "Inferred labview timestamps file path:\n",
      "\tY:\\AG-Wenzel\\Group\\ChRod2\\T370_ChR2\\T370_ChR2_d30_elec\\T370_ChR2_d30_elec_.060821.1218time.txt\n",
      "Calling Matlab-2p beltProcessPipelineExpProps with arguments:\n",
      "\tY:\\AG-Wenzel\\Group\\ChRod2\\T370_ChR2\\T370_ChR2_d30_elec\n",
      "\tT370_ChR2_d30_elec_.060821.1218\n",
      "\tT370_ChR2_d30_elec_003_nik\n",
      "No conversion of belt_length_mm happened, as belt_params['belt_length_mm'] is type <class 'float'>\n",
      "Inferred labview timestamps file path:\n",
      "\tY:\\AG-Wenzel\\Group\\ChRod2\\T370_ChR2\\T370_ChR2_LR_d1\\T370_ChR2_LR_d1.111121.1519time.txt\n",
      "Calling Matlab-2p beltProcessPipelineExpProps with arguments:\n",
      "\tY:\\AG-Wenzel\\Group\\ChRod2\\T370_ChR2\\T370_ChR2_LR_d1\n",
      "\tT370_ChR2_LR_d1.111121.1519\n",
      "\tT370_ChR2_LR_d1_001_nik\n",
      "Inferred labview timestamps file path:\n",
      "\tY:\\AG-Wenzel\\Group\\ChRod2\\T370_ChR2\\T370_ChR2_LR_d1\\T370_ChR2_LR_d1.111121.1535time.txt\n",
      "Calling Matlab-2p beltProcessPipelineExpProps with arguments:\n",
      "\tY:\\AG-Wenzel\\Group\\ChRod2\\T370_ChR2\\T370_ChR2_LR_d1\n",
      "\tT370_ChR2_LR_d1.111121.1535\n",
      "\tT370_ChR2_LR_d1_002_nik\n",
      "Inferred labview timestamps file path:\n",
      "\tY:\\AG-Wenzel\\Group\\ChRod2\\T370_ChR2\\T370_ChR2_LR_d1\\T370_ChR2_LR_d1.111121.1553time.txt\n",
      "Calling Matlab-2p beltProcessPipelineExpProps with arguments:\n",
      "\tY:\\AG-Wenzel\\Group\\ChRod2\\T370_ChR2\\T370_ChR2_LR_d1\n",
      "\tT370_ChR2_LR_d1.111121.1553\n",
      "\tT370_ChR2_LR_d1_003_nik\n",
      "Inferred labview timestamps file path:\n",
      "\tY:\\AG-Wenzel\\Group\\ChRod2\\T370_ChR2\\T370_ChR2_LR_d1\\T370_ChR2_LR_d1.111121.1618time.txt\n",
      "Calling Matlab-2p beltProcessPipelineExpProps with arguments:\n",
      "\tY:\\AG-Wenzel\\Group\\ChRod2\\T370_ChR2\\T370_ChR2_LR_d1\n",
      "\tT370_ChR2_LR_d1.111121.1618\n",
      "\tT370_ChR2_LR_d1_488_004_nik\n"
     ]
    },
    {
     "name": "stdout",
     "output_type": "stream",
     "text": [
      "Inferred labview timestamps file path:\n",
      "\tY:\\AG-Wenzel\\Group\\ChRod2\\T370_ChR2\\T370_ChR2_LR_d1\\T370_ChR2_LR_d1.111121.1658time.txt\n",
      "Calling Matlab-2p beltProcessPipelineExpProps with arguments:\n",
      "\tY:\\AG-Wenzel\\Group\\ChRod2\\T370_ChR2\\T370_ChR2_LR_d1\n",
      "\tT370_ChR2_LR_d1.111121.1658\n",
      "\tT370_ChR2_LR_d1_488_5s_005_nik\n",
      "Inferred labview timestamps file path:\n",
      "\tY:\\AG-Wenzel\\Group\\ChRod2\\T370_ChR2\\T370_ChR2_LR_d2\\T370.181121.1709time.txt\n",
      "Calling Matlab-2p beltProcessPipelineExpProps with arguments:\n",
      "\tY:\\AG-Wenzel\\Group\\ChRod2\\T370_ChR2\\T370_ChR2_LR_d2\n",
      "\tT370.181121.1709\n",
      "\tT370.181121.1709_nik\n",
      "Inferred labview timestamps file path:\n",
      "\tY:\\AG-Wenzel\\Group\\ChRod2\\T370_ChR2\\T370_ChR2_LR_d3\\T370.191121.1521time.txt\n",
      "Calling Matlab-2p beltProcessPipelineExpProps with arguments:\n",
      "\tY:\\AG-Wenzel\\Group\\ChRod2\\T370_ChR2\\T370_ChR2_LR_d3\n",
      "\tT370.191121.1521\n",
      "\tT370.191121.1521_nik\n",
      "Inferred labview timestamps file path:\n",
      "\tY:\\AG-Wenzel\\Group\\ChRod2\\T370_ChR2\\T370_ChR2_LR_d3\\T370.191121.1410time.txt\n",
      "Calling Matlab-2p beltProcessPipelineExpProps with arguments:\n",
      "\tY:\\AG-Wenzel\\Group\\ChRod2\\T370_ChR2\\T370_ChR2_LR_d3\n",
      "\tT370.191121.1410\n",
      "\tT370.191121.1410_nik\n",
      "Inferred labview timestamps file path:\n",
      "\tY:\\AG-Wenzel\\Group\\ChRod2\\T370_ChR2\\T370_ChR2_LR_d3\\T370.191121.1503time.txt\n",
      "Calling Matlab-2p beltProcessPipelineExpProps with arguments:\n",
      "\tY:\\AG-Wenzel\\Group\\ChRod2\\T370_ChR2\\T370_ChR2_LR_d3\n",
      "\tT370.191121.1503\n",
      "\tT370.191121.1503_nik\n",
      "Inferred labview timestamps file path:\n",
      "\tY:\\AG-Wenzel\\Group\\ChRod2\\T370_ChR2\\T370_ChR2_LR_d4\\T370.221121.1402time.txt\n",
      "Calling Matlab-2p beltProcessPipelineExpProps with arguments:\n",
      "\tY:\\AG-Wenzel\\Group\\ChRod2\\T370_ChR2\\T370_ChR2_LR_d4\n",
      "\tT370.221121.1402\n",
      "\tT370.221121.1402_nik\n",
      "Inferred labview timestamps file path:\n",
      "\tY:\\AG-Wenzel\\Group\\ChRod2\\T370_ChR2\\T370_ChR2_LR_d4\\T370.221121.1308time.txt\n",
      "Calling Matlab-2p beltProcessPipelineExpProps with arguments:\n",
      "\tY:\\AG-Wenzel\\Group\\ChRod2\\T370_ChR2\\T370_ChR2_LR_d4\n",
      "\tT370.221121.1308\n",
      "\tT370.221121.1308_nik\n",
      "Inferred labview timestamps file path:\n",
      "\tY:\\AG-Wenzel\\Group\\ChRod2\\T370_ChR2\\T370_ChR2_LR_d4\\T370.221121.1459time.txt\n",
      "Calling Matlab-2p beltProcessPipelineExpProps with arguments:\n",
      "\tY:\\AG-Wenzel\\Group\\ChRod2\\T370_ChR2\\T370_ChR2_LR_d4\n",
      "\tT370.221121.1459\n",
      "\tT370.221121.1459_nik\n",
      "Inferred labview timestamps file path:\n",
      "\tY:\\AG-Wenzel\\Group\\ChRod2\\T370_ChR2\\T370_ChR2_LR_d5\\T370.231121.1341time.txt\n",
      "Calling Matlab-2p beltProcessPipelineExpProps with arguments:\n",
      "\tY:\\AG-Wenzel\\Group\\ChRod2\\T370_ChR2\\T370_ChR2_LR_d5\n",
      "\tT370.231121.1341\n",
      "\tT370.231121.1341_nik\n",
      "Inferred labview timestamps file path:\n",
      "\tY:\\AG-Wenzel\\Group\\ChRod2\\T370_ChR2\\T370_ChR2_LR_d5\\T370.231121.1523time.txt\n",
      "Calling Matlab-2p beltProcessPipelineExpProps with arguments:\n",
      "\tY:\\AG-Wenzel\\Group\\ChRod2\\T370_ChR2\\T370_ChR2_LR_d5\n",
      "\tT370.231121.1523\n",
      "\tT370.231121.1523_nik\n",
      "Inferred labview timestamps file path:\n",
      "\tY:\\AG-Wenzel\\Group\\ChRod2\\T370_ChR2\\T370_ChR2_LR_d5\\T370.231121.1431time.txt\n",
      "Calling Matlab-2p beltProcessPipelineExpProps with arguments:\n",
      "\tY:\\AG-Wenzel\\Group\\ChRod2\\T370_ChR2\\T370_ChR2_LR_d5\n",
      "\tT370.231121.1431\n",
      "\tT370.231121.1431_nik\n",
      "Inferred labview timestamps file path:\n",
      "\tY:\\AG-Wenzel\\Group\\ChRod2\\T370_ChR2\\T370_ChR2_LR_d5\\T370.231121.1323time.txt\n",
      "Calling Matlab-2p beltProcessPipelineExpProps with arguments:\n",
      "\tY:\\AG-Wenzel\\Group\\ChRod2\\T370_ChR2\\T370_ChR2_LR_d5\n",
      "\tT370.231121.1323\n",
      "\tT370.231121.1323_nik\n",
      "Inferred labview timestamps file path:\n",
      "\tY:\\AG-Wenzel\\Group\\ChRod2\\T370_ChR2\\T370_ChR2_LR_d6\\T370.241121.1429time.txt\n",
      "Calling Matlab-2p beltProcessPipelineExpProps with arguments:\n",
      "\tY:\\AG-Wenzel\\Group\\ChRod2\\T370_ChR2\\T370_ChR2_LR_d6\n",
      "\tT370.241121.1429\n",
      "\tT370.241121.1429_nik\n",
      "Inferred labview timestamps file path:\n",
      "\tY:\\AG-Wenzel\\Group\\ChRod2\\T370_ChR2\\T370_ChR2_LR_d6\\T370.241121.1543time.txt\n",
      "Calling Matlab-2p beltProcessPipelineExpProps with arguments:\n",
      "\tY:\\AG-Wenzel\\Group\\ChRod2\\T370_ChR2\\T370_ChR2_LR_d6\n",
      "\tT370.241121.1543\n",
      "\tT370.241121.1543_nik\n",
      "Inferred labview timestamps file path:\n",
      "\tY:\\AG-Wenzel\\Group\\ChRod2\\T370_ChR2\\T370_ChR2_LR_d6\\T370.241121.1522time.txt\n",
      "Calling Matlab-2p beltProcessPipelineExpProps with arguments:\n",
      "\tY:\\AG-Wenzel\\Group\\ChRod2\\T370_ChR2\\T370_ChR2_LR_d6\n",
      "\tT370.241121.1522\n",
      "\tT370.241121.1522_nik\n",
      "Inferred labview timestamps file path:\n",
      "\tY:\\AG-Wenzel\\Group\\ChRod2\\T370_ChR2\\T370_ChR2_LR_d7\\T370.251121.1429time.txt\n",
      "Calling Matlab-2p beltProcessPipelineExpProps with arguments:\n",
      "\tY:\\AG-Wenzel\\Group\\ChRod2\\T370_ChR2\\T370_ChR2_LR_d7\n",
      "\tT370.251121.1429\n",
      "\tT370.251121.1429_nik\n",
      "Inferred labview timestamps file path:\n",
      "\tY:\\AG-Wenzel\\Group\\ChRod2\\T370_ChR2\\T370_ChR2_LR_d7\\T370.251121.1529time.txt\n",
      "Calling Matlab-2p beltProcessPipelineExpProps with arguments:\n",
      "\tY:\\AG-Wenzel\\Group\\ChRod2\\T370_ChR2\\T370_ChR2_LR_d7\n",
      "\tT370.251121.1529\n",
      "\tT370.251121.1529_nik\n",
      "Inferred labview timestamps file path:\n",
      "\tY:\\AG-Wenzel\\Group\\ChRod2\\T370_ChR2\\T370_ChR2_LR_test_newamp_d2\\T370_ChR2_LR_d2_488nm_amptest.121121.1735time.txt\n",
      "Calling Matlab-2p beltProcessPipelineExpProps with arguments:\n",
      "\tY:\\AG-Wenzel\\Group\\ChRod2\\T370_ChR2\\T370_ChR2_LR_test_newamp_d2\n",
      "\tT370_ChR2_LR_d2_488nm_amptest.121121.1735\n",
      "\tT370_ChR2_LR_d2_488nm_amptest_nik\n",
      "Inferred labview timestamps file path:\n",
      "\tY:\\AG-Wenzel\\Group\\ChRod2\\T370_ChR2\\T370_ChR2_LR_test_newamp_d2\\T370_ChR2_LR_d2_488nm_amptest.121121.1801time.txt\n",
      "Calling Matlab-2p beltProcessPipelineExpProps with arguments:\n",
      "\tY:\\AG-Wenzel\\Group\\ChRod2\\T370_ChR2\\T370_ChR2_LR_test_newamp_d2\n",
      "\tT370_ChR2_LR_d2_488nm_amptest.121121.1801\n",
      "\tT370_ChR2_LR_d2_488nm_amptest001_nik\n",
      "Inferred labview timestamps file path:\n",
      "\tY:\\AG-Wenzel\\Group\\ChRod2\\T386_ChR2\\2021_11_04\\T386.041121.1514time.txt\n",
      "Calling Matlab-2p beltProcessPipelineExpProps with arguments:\n",
      "\tY:\\AG-Wenzel\\Group\\ChRod2\\T386_ChR2\\2021_11_04\n",
      "\tT386.041121.1514\n",
      "\tT386.041121.1514_nik\n",
      "Inferred labview timestamps file path:\n",
      "\tY:\\AG-Wenzel\\Group\\ChRod2\\T386_ChR2\\2021_11_04\\T386.041121.1549time.txt\n",
      "Calling Matlab-2p beltProcessPipelineExpProps with arguments:\n",
      "\tY:\\AG-Wenzel\\Group\\ChRod2\\T386_ChR2\\2021_11_04\n",
      "\tT386.041121.1549\n",
      "\tT386.041121.1549_nik\n",
      "Inferred labview timestamps file path:\n",
      "\tY:\\AG-Wenzel\\Group\\ChRod2\\T386_ChR2\\2021_11_04\\T386.041121.1606time.txt\n",
      "Calling Matlab-2p beltProcessPipelineExpProps with arguments:\n",
      "\tY:\\AG-Wenzel\\Group\\ChRod2\\T386_ChR2\\2021_11_04\n",
      "\tT386.041121.1606\n",
      "\tT386.041121.1606_nik\n",
      "Inferred labview timestamps file path:\n",
      "\tY:\\AG-Wenzel\\Group\\ChRod2\\T386_ChR2\\2021_11_04\\T386.041121.1625time.txt\n",
      "Calling Matlab-2p beltProcessPipelineExpProps with arguments:\n",
      "\tY:\\AG-Wenzel\\Group\\ChRod2\\T386_ChR2\\2021_11_04\n",
      "\tT386.041121.1625\n",
      "\tT386.041121.1625_nik\n",
      "Inferred labview timestamps file path:\n",
      "\tY:\\AG-Wenzel\\Group\\ChRod2\\T386_ChR2\\2021_11_04\\T386.041121.1655time.txt\n",
      "Calling Matlab-2p beltProcessPipelineExpProps with arguments:\n",
      "\tY:\\AG-Wenzel\\Group\\ChRod2\\T386_ChR2\\2021_11_04\n",
      "\tT386.041121.1655\n",
      "\tT386.041121.1655_nik\n",
      "Inferred labview timestamps file path:\n",
      "\tY:\\AG-Wenzel\\Group\\ChRod2\\T386_ChR2\\2021_11_05\\T386.051121.1221time.txt\n",
      "Calling Matlab-2p beltProcessPipelineExpProps with arguments:\n",
      "\tY:\\AG-Wenzel\\Group\\ChRod2\\T386_ChR2\\2021_11_05\n",
      "\tT386.051121.1221\n",
      "\tT386.051121.1221_nik\n",
      "Inferred labview timestamps file path:\n",
      "\tY:\\AG-Wenzel\\Group\\ChRod2\\T386_ChR2\\2021_11_05\\T386.051121.1240time.txt\n",
      "Calling Matlab-2p beltProcessPipelineExpProps with arguments:\n",
      "\tY:\\AG-Wenzel\\Group\\ChRod2\\T386_ChR2\\2021_11_05\n",
      "\tT386.051121.1240\n",
      "\tT386.051121.1240_nik\n",
      "Inferred labview timestamps file path:\n",
      "\tY:\\AG-Wenzel\\Group\\ChRod2\\T386_ChR2\\2021_11_05\\T386.051121.1304time.txt\n",
      "Calling Matlab-2p beltProcessPipelineExpProps with arguments:\n",
      "\tY:\\AG-Wenzel\\Group\\ChRod2\\T386_ChR2\\2021_11_05\n",
      "\tT386.051121.1304\n",
      "\tT386.051121.1304_nik\n",
      "No conversion of belt_length_mm happened, as belt_params['belt_length_mm'] is type <class 'float'>\n",
      "Inferred labview timestamps file path:\n",
      "\tY:\\AG-Wenzel\\Group\\ChRod2\\T386_ChR2\\2021_11_05\\T386.051121.1322time.txt\n",
      "Calling Matlab-2p beltProcessPipelineExpProps with arguments:\n",
      "\tY:\\AG-Wenzel\\Group\\ChRod2\\T386_ChR2\\2021_11_05\n",
      "\tT386.051121.1322\n",
      "\tT386.051121.1322_nik\n",
      "Inferred labview timestamps file path:\n",
      "\tY:\\AG-Wenzel\\Group\\ChRod2\\T386_ChR2\\2021_11_05\\T386.051121.1340time.txt\n",
      "Calling Matlab-2p beltProcessPipelineExpProps with arguments:\n",
      "\tY:\\AG-Wenzel\\Group\\ChRod2\\T386_ChR2\\2021_11_05\n",
      "\tT386.051121.1340\n",
      "\tT386.051121.1340_nik\n",
      "Inferred labview timestamps file path:\n",
      "\tY:\\AG-Wenzel\\Group\\ChRod2\\T386_ChR2\\2021_11_05\\T386.051121.1409time.txt\n"
     ]
    },
    {
     "name": "stdout",
     "output_type": "stream",
     "text": [
      "Calling Matlab-2p beltProcessPipelineExpProps with arguments:\n",
      "\tY:\\AG-Wenzel\\Group\\ChRod2\\T386_ChR2\\2021_11_05\n",
      "\tT386.051121.1409\n",
      "\tT386.051121.1409_nik\n",
      "Inferred labview timestamps file path:\n",
      "\tY:\\AG-Wenzel\\Group\\ChRod2\\T386_ChR2\\2021_11_25\\T386.251121.1641time.txt\n",
      "Calling Matlab-2p beltProcessPipelineExpProps with arguments:\n",
      "\tY:\\AG-Wenzel\\Group\\ChRod2\\T386_ChR2\\2021_11_25\n",
      "\tT386.251121.1641\n",
      "\tT386.251121.1641_nik\n",
      "Inferred labview timestamps file path:\n",
      "\tY:\\AG-Wenzel\\Group\\ChRod2\\T386_ChR2\\2021_11_25\\T386.251121.1723time.txt\n",
      "Calling Matlab-2p beltProcessPipelineExpProps with arguments:\n",
      "\tY:\\AG-Wenzel\\Group\\ChRod2\\T386_ChR2\\2021_11_25\n",
      "\tT386.251121.1723\n",
      "\tT386.251121.1723_nik\n",
      "Inferred labview timestamps file path:\n",
      "\tY:\\AG-Wenzel\\Group\\ChRod2\\T386_ChR2\\2021_11_25\\T386.251121.1816time.txt\n",
      "Calling Matlab-2p beltProcessPipelineExpProps with arguments:\n",
      "\tY:\\AG-Wenzel\\Group\\ChRod2\\T386_ChR2\\2021_11_25\n",
      "\tT386.251121.1816\n",
      "\tT386.251121.1816_nik\n",
      "Inferred labview timestamps file path:\n",
      "\tY:\\AG-Wenzel\\Group\\ChRod2\\T452\\T452_ChR2_d1\\M278.140322.1316time.txt\n",
      "Calling Matlab-2p beltProcessPipelineExpProps with arguments:\n",
      "\tY:\\AG-Wenzel\\Group\\ChRod2\\T452\\T452_ChR2_d1\n",
      "\tM278.140322.1316\n",
      "\tM278.140322.1316_nik\n",
      "Inferred labview timestamps file path:\n",
      "\tY:\\AG-Wenzel\\Group\\ChRod2\\T452\\T452_ChR2_d1\\M278.140322.1429time.txt\n",
      "Calling Matlab-2p beltProcessPipelineExpProps with arguments:\n",
      "\tY:\\AG-Wenzel\\Group\\ChRod2\\T452\\T452_ChR2_d1\n",
      "\tM278.140322.1429\n",
      "\tM278.140322.1429_nik\n",
      "Inferred labview timestamps file path:\n",
      "\tY:\\AG-Wenzel\\Group\\ChRod2\\T452\\T452_ChR2_d1\\M278.140322.1519time.txt\n",
      "Calling Matlab-2p beltProcessPipelineExpProps with arguments:\n",
      "\tY:\\AG-Wenzel\\Group\\ChRod2\\T452\\T452_ChR2_d1\n",
      "\tM278.140322.1519\n",
      "\tM278.140322.1519_nik\n",
      "Inferred labview timestamps file path:\n",
      "\tY:\\AG-Wenzel\\Group\\ChRod2\\T452\\T452_ChR2_d2\\T452_d2.150322.1105time.txt\n",
      "Calling Matlab-2p beltProcessPipelineExpProps with arguments:\n",
      "\tY:\\AG-Wenzel\\Group\\ChRod2\\T452\\T452_ChR2_d2\n",
      "\tT452_d2.150322.1105\n",
      "\tT452_d2.150322.1105_nik\n",
      "Inferred labview timestamps file path:\n",
      "\tY:\\AG-Wenzel\\Group\\ChRod2\\T452\\T452_ChR2_d2\\T452_d2.150322.1147time.txt\n",
      "Calling Matlab-2p beltProcessPipelineExpProps with arguments:\n",
      "\tY:\\AG-Wenzel\\Group\\ChRod2\\T452\\T452_ChR2_d2\n",
      "\tT452_d2.150322.1147\n",
      "\tT452_d2.150322.1147_nik\n",
      "Inferred labview timestamps file path:\n",
      "\tY:\\AG-Wenzel\\Group\\ChRod2\\T452\\T452_ChR2_d2\\T452_d2.150322.1039time.txt\n",
      "Calling Matlab-2p beltProcessPipelineExpProps with arguments:\n",
      "\tY:\\AG-Wenzel\\Group\\ChRod2\\T452\\T452_ChR2_d2\n",
      "\tT452_d2.150322.1039\n",
      "\tT452_d2.150322.1039_nik\n",
      "Inferred labview timestamps file path:\n",
      "\tY:\\AG-Wenzel\\Group\\ChRod2\\T452\\T452_ChR2_d3\\T452_d3.160322.1320time.txt\n",
      "Calling Matlab-2p beltProcessPipelineExpProps with arguments:\n",
      "\tY:\\AG-Wenzel\\Group\\ChRod2\\T452\\T452_ChR2_d3\n",
      "\tT452_d3.160322.1320\n",
      "\tT452_d3.160322.1320_nik\n",
      "Inferred labview timestamps file path:\n",
      "\tY:\\AG-Wenzel\\Group\\ChRod2\\T452\\T452_ChR2_d3\\T452_d3.160322.1443time.txt\n",
      "Calling Matlab-2p beltProcessPipelineExpProps with arguments:\n",
      "\tY:\\AG-Wenzel\\Group\\ChRod2\\T452\\T452_ChR2_d3\n",
      "\tT452_d3.160322.1443\n",
      "\tT452_d3.160322.1443_nik\n",
      "Inferred labview timestamps file path:\n",
      "\tY:\\AG-Wenzel\\Group\\ChRod2\\T452\\T452_ChR2_d3\\T452_d3.160322.1302time.txt\n",
      "Calling Matlab-2p beltProcessPipelineExpProps with arguments:\n",
      "\tY:\\AG-Wenzel\\Group\\ChRod2\\T452\\T452_ChR2_d3\n",
      "\tT452_d3.160322.1302\n",
      "\tT452_d3.160322.1302_nik\n",
      "Inferred labview timestamps file path:\n",
      "\tY:\\AG-Wenzel\\Group\\ChRod2\\T452\\T452_ChR2_d3\\T452_d3.160322.1428time.txt\n",
      "Calling Matlab-2p beltProcessPipelineExpProps with arguments:\n",
      "\tY:\\AG-Wenzel\\Group\\ChRod2\\T452\\T452_ChR2_d3\n",
      "\tT452_d3.160322.1428\n",
      "\tT452_d3.160322.1428_nik\n",
      "Inferred labview timestamps file path:\n",
      "\tY:\\AG-Wenzel\\Group\\ChRod2\\T452\\T452_ChR2_d4\\T452_ChR2_d4.170322.1151time.txt\n",
      "Calling Matlab-2p beltProcessPipelineExpProps with arguments:\n",
      "\tY:\\AG-Wenzel\\Group\\ChRod2\\T452\\T452_ChR2_d4\n",
      "\tT452_ChR2_d4.170322.1151\n",
      "\tT452_ChR2_d4.170322.1151_nik\n",
      "Inferred labview timestamps file path:\n",
      "\tY:\\AG-Wenzel\\Group\\ChRod2\\T452\\T452_ChR2_d4\\T452_ChR2_d4.170322.1523time.txt\n",
      "Calling Matlab-2p beltProcessPipelineExpProps with arguments:\n",
      "\tY:\\AG-Wenzel\\Group\\ChRod2\\T452\\T452_ChR2_d4\n",
      "\tT452_ChR2_d4.170322.1523\n",
      "\tT452_ChR2_d4.170322.1523_nik\n",
      "Inferred labview timestamps file path:\n",
      "\tY:\\AG-Wenzel\\Group\\ChRod2\\T452\\T452_ChR2_d4\\T452_ChR2_d4.170322.1135time.txt\n",
      "Calling Matlab-2p beltProcessPipelineExpProps with arguments:\n",
      "\tY:\\AG-Wenzel\\Group\\ChRod2\\T452\\T452_ChR2_d4\n",
      "\tT452_ChR2_d4.170322.1135\n",
      "\tT452_ChR2_d4.170322.1135_nik\n",
      "Inferred labview timestamps file path:\n",
      "\tY:\\AG-Wenzel\\Group\\ChRod2\\T452\\T452_ChR2_d4\\T452_ChR2_d4.170322.1507time.txt\n",
      "Calling Matlab-2p beltProcessPipelineExpProps with arguments:\n",
      "\tY:\\AG-Wenzel\\Group\\ChRod2\\T452\\T452_ChR2_d4\n",
      "\tT452_ChR2_d4.170322.1507\n",
      "\tT452_ChR2_d4.170322.1507_nik\n"
     ]
    }
   ],
   "source": [
    "# TODO: rename row to row_grouping, row2 to row_segment\n",
    "\n",
    "stim_segments_speed_dict = dict()\n",
    "stim_segments_dist_dict = dict()\n",
    "stim_segments_totdist_dict = dict()\n",
    "stim_segments_rounds_dict = dict()\n",
    "stim_segments_tsscn_dict = dict()\n",
    "stim_segments_running_dict = dict()\n",
    "\n",
    "df_stim_res_cols = {\"mouse_id\": [], \"experiment_type\": [], \"interval_type\": [], \"distance\": [], \"d_frames\": [], \"dt\": [], \"uid\": []}\n",
    "\n",
    "# for each recording in category, create session, \n",
    "# perform labview cut to scanner timeframe, \n",
    "# then extract relevant frame movement data\n",
    "# results appended to segments_dict entries.\n",
    "# segments_dict should contain, for each key (type of interval) all the corresponding data from all videos\n",
    "for index, row in df_stim_grouping.iterrows():\n",
    "    labview_fpath = os.path.join(row[\"folder\"], row[\"labview\"])\n",
    "    nikmeta_fpath = os.path.join(row[\"folder\"], row[\"nikon_meta\"])\n",
    "    \n",
    "    ses = tps.TwoPhotonSession(nd2_timestamps_path=nikmeta_fpath, labview_path=labview_fpath, matlab_2p_folder=matlab_2p_folder)\n",
    "    ses.infer_labview_timestamps()\n",
    "    ses._open_data()  # TODO: implement a better way than using \"private\" function\n",
    "    ses_segments = df_stim[df_stim[\"nd2\"]==row[\"nd2\"]]  # get all segments from the same file\n",
    "    for index2, row2 in ses_segments.iterrows():\n",
    "        uid = uuid.uuid1()  # unique ID of segment, for matching segment labview data with dataframe row\n",
    "        t0 = int(row2[\"frame_begin\"] - 1)  # correct 1-indexing to 0-indexing, convert to int\n",
    "        t1 = int(row2[\"frame_end\"])  # list[a:b] returns elements a to (b-1), so no need to subtract here\n",
    "        \n",
    "        # Check if dictionary entries exist\n",
    "        #if row2[\"interval_type\"] not in stim_segments_speed_dict.keys():\n",
    "        #    stim_segments_speed_dict[row2[\"interval_type\"]] = []\n",
    "        #if row2[\"interval_type\"] not in stim_segments_dist_dict.keys():   \n",
    "        #    stim_segments_dist_dict[row2[\"interval_type\"]] = []\n",
    "        #if row2[\"interval_type\"] not in stim_segments_totdist_dict.keys():     \n",
    "        #    stim_segments_totdist_dict[row2[\"interval_type\"]] = []\n",
    "        #if row2[\"interval_type\"] not in stim_segments_rounds_dict.keys():    \n",
    "        #    stim_segments_rounds_dict[row2[\"interval_type\"]] = []\n",
    "        #if row2[\"interval_type\"] not in stim_segments_tsscn_dict.keys():    \n",
    "        #    stim_segments_tsscn_dict[row2[\"interval_type\"]] = []\n",
    "        #if row2[\"interval_type\"] not in stim_segments_running_dict.keys():    \n",
    "        #    stim_segments_running_dict[row2[\"interval_type\"]] = []\n",
    "        \n",
    "        # append to dictionaries and nd2 list\n",
    "        stim_segments_speed_dict[uid.int] = deepcopy(ses.belt_scn_dict[\"speed\"][t0:t1])\n",
    "        stim_segments_dist_dict[uid.int] = deepcopy(ses.belt_scn_dict[\"distance\"][t0:t1])\n",
    "        stim_segments_totdist_dict[uid.int] = deepcopy(ses.belt_scn_dict[\"totdist\"][t0:t1])\n",
    "        stim_segments_rounds_dict[uid.int] = deepcopy(ses.belt_scn_dict[\"rounds\"][t0:t1])\n",
    "        stim_segments_tsscn_dict[uid.int] = deepcopy(ses.belt_scn_dict[\"tsscn\"][t0:t1])\n",
    "        stim_segments_running_dict[uid.int] = deepcopy(ses.belt_scn_dict[\"running\"][t0:t1])\n",
    "        \n",
    "        # append to dataframe columns\n",
    "        df_stim_res_cols[\"mouse_id\"].append(row[\"mouse_id\"])\n",
    "        df_stim_res_cols[\"experiment_type\"].append(row[\"experiment_type\"])\n",
    "        df_stim_res_cols[\"interval_type\"].append(row2[\"interval_type\"])\n",
    "        df_stim_res_cols[\"distance\"].append(ses.belt_scn_dict[\"totdist\"][t1-1] - ses.belt_scn_dict[\"totdist\"][t0])  # t1 is 1-indexed, t0 0-indexed, see above\n",
    "        df_stim_res_cols[\"d_frames\"].append(t1 - 1 - t0)  # t1 is 1-indexed, t0 0-indexed, see above\n",
    "        # dt: in ms\n",
    "        df_stim_res_cols[\"dt\"].append(ses.belt_scn_dict[\"tsscn\"][t1-1] - ses.belt_scn_dict[\"tsscn\"][t0]) # t1 is 1-indexed, t0 0-indexed, see above\n",
    "        df_stim_res_cols[\"uid\"].append(uid.int)"
   ]
  },
  {
   "cell_type": "code",
   "execution_count": 86,
   "id": "3965714e",
   "metadata": {},
   "outputs": [],
   "source": [
    "# create df from dict:\n",
    "df_stim_res = pd.DataFrame.from_dict(df_stim_res_cols)"
   ]
  },
  {
   "cell_type": "code",
   "execution_count": 87,
   "id": "a742c836",
   "metadata": {},
   "outputs": [
    {
     "data": {
      "text/html": [
       "<div>\n",
       "<style scoped>\n",
       "    .dataframe tbody tr th:only-of-type {\n",
       "        vertical-align: middle;\n",
       "    }\n",
       "\n",
       "    .dataframe tbody tr th {\n",
       "        vertical-align: top;\n",
       "    }\n",
       "\n",
       "    .dataframe thead th {\n",
       "        text-align: right;\n",
       "    }\n",
       "</style>\n",
       "<table border=\"1\" class=\"dataframe\">\n",
       "  <thead>\n",
       "    <tr style=\"text-align: right;\">\n",
       "      <th></th>\n",
       "      <th>mouse_id</th>\n",
       "      <th>experiment_type</th>\n",
       "      <th>interval_type</th>\n",
       "      <th>distance</th>\n",
       "      <th>d_frames</th>\n",
       "      <th>dt</th>\n",
       "      <th>uid</th>\n",
       "    </tr>\n",
       "  </thead>\n",
       "  <tbody>\n",
       "    <tr>\n",
       "      <th>0</th>\n",
       "      <td>T370</td>\n",
       "      <td>chr2_ctl</td>\n",
       "      <td>baseline</td>\n",
       "      <td>1805.0</td>\n",
       "      <td>4571</td>\n",
       "      <td>308743.000</td>\n",
       "      <td>231603473132827658435333136659101751165</td>\n",
       "    </tr>\n",
       "    <tr>\n",
       "      <th>1</th>\n",
       "      <td>T370</td>\n",
       "      <td>chr2_ctl</td>\n",
       "      <td>stimulation</td>\n",
       "      <td>0.0</td>\n",
       "      <td>38</td>\n",
       "      <td>2566.900</td>\n",
       "      <td>231604261769957325420139835519963469693</td>\n",
       "    </tr>\n",
       "    <tr>\n",
       "      <th>2</th>\n",
       "      <td>T370</td>\n",
       "      <td>chr2_ctl</td>\n",
       "      <td>aftermath</td>\n",
       "      <td>3691.0</td>\n",
       "      <td>8871</td>\n",
       "      <td>599180.700</td>\n",
       "      <td>231604261849185487936855257210703812477</td>\n",
       "    </tr>\n",
       "    <tr>\n",
       "      <th>3</th>\n",
       "      <td>T370</td>\n",
       "      <td>chr2_szsd</td>\n",
       "      <td>baseline</td>\n",
       "      <td>150.0</td>\n",
       "      <td>4571</td>\n",
       "      <td>300047.253</td>\n",
       "      <td>245886597445906985022513610378884650877</td>\n",
       "    </tr>\n",
       "    <tr>\n",
       "      <th>4</th>\n",
       "      <td>T370</td>\n",
       "      <td>chr2_szsd</td>\n",
       "      <td>stimulation</td>\n",
       "      <td>16.0</td>\n",
       "      <td>39</td>\n",
       "      <td>2560.005</td>\n",
       "      <td>245886597525135147533497920068819326845</td>\n",
       "    </tr>\n",
       "  </tbody>\n",
       "</table>\n",
       "</div>"
      ],
      "text/plain": [
       "  mouse_id experiment_type interval_type  distance  d_frames          dt  \\\n",
       "0     T370        chr2_ctl      baseline    1805.0      4571  308743.000   \n",
       "1     T370        chr2_ctl   stimulation       0.0        38    2566.900   \n",
       "2     T370        chr2_ctl     aftermath    3691.0      8871  599180.700   \n",
       "3     T370       chr2_szsd      baseline     150.0      4571  300047.253   \n",
       "4     T370       chr2_szsd   stimulation      16.0        39    2560.005   \n",
       "\n",
       "                                       uid  \n",
       "0  231603473132827658435333136659101751165  \n",
       "1  231604261769957325420139835519963469693  \n",
       "2  231604261849185487936855257210703812477  \n",
       "3  245886597445906985022513610378884650877  \n",
       "4  245886597525135147533497920068819326845  "
      ]
     },
     "execution_count": 87,
     "metadata": {},
     "output_type": "execute_result"
    }
   ],
   "source": [
    "df_stim_res.head()"
   ]
  },
  {
   "cell_type": "code",
   "execution_count": 88,
   "id": "a17b83a2",
   "metadata": {},
   "outputs": [],
   "source": [
    "# normalize distance by the interval length \n",
    "# also take absolute value; especially during shorter intervals, mice might step backwards a few times and that's it \n",
    "df_stim_res[\"dist_norm\"] = abs(df_stim_res[\"distance\"]/df_stim_res[\"dt\"])  "
   ]
  },
  {
   "cell_type": "code",
   "execution_count": 89,
   "id": "cb9b0b9f",
   "metadata": {},
   "outputs": [
    {
     "data": {
      "text/plain": [
       "count    304.000000\n",
       "mean       0.021908\n",
       "std        0.034681\n",
       "min        0.000000\n",
       "25%        0.002854\n",
       "50%        0.009674\n",
       "75%        0.022961\n",
       "max        0.242050\n",
       "Name: dist_norm, dtype: float64"
      ]
     },
     "execution_count": 89,
     "metadata": {},
     "output_type": "execute_result"
    }
   ],
   "source": [
    "df_stim_res[\"dist_norm\"].describe()"
   ]
  },
  {
   "cell_type": "code",
   "execution_count": 90,
   "id": "f590b3c4",
   "metadata": {},
   "outputs": [
    {
     "data": {
      "text/html": [
       "<div>\n",
       "<style scoped>\n",
       "    .dataframe tbody tr th:only-of-type {\n",
       "        vertical-align: middle;\n",
       "    }\n",
       "\n",
       "    .dataframe tbody tr th {\n",
       "        vertical-align: top;\n",
       "    }\n",
       "\n",
       "    .dataframe thead th {\n",
       "        text-align: right;\n",
       "    }\n",
       "</style>\n",
       "<table border=\"1\" class=\"dataframe\">\n",
       "  <thead>\n",
       "    <tr style=\"text-align: right;\">\n",
       "      <th></th>\n",
       "      <th>mouse_id</th>\n",
       "      <th>experiment_type</th>\n",
       "      <th>interval_type</th>\n",
       "      <th>distance</th>\n",
       "      <th>d_frames</th>\n",
       "      <th>dt</th>\n",
       "      <th>uid</th>\n",
       "      <th>dist_norm</th>\n",
       "    </tr>\n",
       "  </thead>\n",
       "  <tbody>\n",
       "    <tr>\n",
       "      <th>0</th>\n",
       "      <td>T370</td>\n",
       "      <td>chr2_ctl</td>\n",
       "      <td>baseline</td>\n",
       "      <td>1805.0</td>\n",
       "      <td>4571</td>\n",
       "      <td>308743.000</td>\n",
       "      <td>231603473132827658435333136659101751165</td>\n",
       "      <td>0.005846</td>\n",
       "    </tr>\n",
       "    <tr>\n",
       "      <th>1</th>\n",
       "      <td>T370</td>\n",
       "      <td>chr2_ctl</td>\n",
       "      <td>stimulation</td>\n",
       "      <td>0.0</td>\n",
       "      <td>38</td>\n",
       "      <td>2566.900</td>\n",
       "      <td>231604261769957325420139835519963469693</td>\n",
       "      <td>0.000000</td>\n",
       "    </tr>\n",
       "    <tr>\n",
       "      <th>2</th>\n",
       "      <td>T370</td>\n",
       "      <td>chr2_ctl</td>\n",
       "      <td>aftermath</td>\n",
       "      <td>3691.0</td>\n",
       "      <td>8871</td>\n",
       "      <td>599180.700</td>\n",
       "      <td>231604261849185487936855257210703812477</td>\n",
       "      <td>0.006160</td>\n",
       "    </tr>\n",
       "    <tr>\n",
       "      <th>3</th>\n",
       "      <td>T370</td>\n",
       "      <td>chr2_szsd</td>\n",
       "      <td>baseline</td>\n",
       "      <td>150.0</td>\n",
       "      <td>4571</td>\n",
       "      <td>300047.253</td>\n",
       "      <td>245886597445906985022513610378884650877</td>\n",
       "      <td>0.000500</td>\n",
       "    </tr>\n",
       "    <tr>\n",
       "      <th>4</th>\n",
       "      <td>T370</td>\n",
       "      <td>chr2_szsd</td>\n",
       "      <td>stimulation</td>\n",
       "      <td>16.0</td>\n",
       "      <td>39</td>\n",
       "      <td>2560.005</td>\n",
       "      <td>245886597525135147533497920068819326845</td>\n",
       "      <td>0.006250</td>\n",
       "    </tr>\n",
       "  </tbody>\n",
       "</table>\n",
       "</div>"
      ],
      "text/plain": [
       "  mouse_id experiment_type interval_type  distance  d_frames          dt  \\\n",
       "0     T370        chr2_ctl      baseline    1805.0      4571  308743.000   \n",
       "1     T370        chr2_ctl   stimulation       0.0        38    2566.900   \n",
       "2     T370        chr2_ctl     aftermath    3691.0      8871  599180.700   \n",
       "3     T370       chr2_szsd      baseline     150.0      4571  300047.253   \n",
       "4     T370       chr2_szsd   stimulation      16.0        39    2560.005   \n",
       "\n",
       "                                       uid  dist_norm  \n",
       "0  231603473132827658435333136659101751165   0.005846  \n",
       "1  231604261769957325420139835519963469693   0.000000  \n",
       "2  231604261849185487936855257210703812477   0.006160  \n",
       "3  245886597445906985022513610378884650877   0.000500  \n",
       "4  245886597525135147533497920068819326845   0.006250  "
      ]
     },
     "execution_count": 90,
     "metadata": {},
     "output_type": "execute_result"
    }
   ],
   "source": [
    "df_stim_res.head()"
   ]
  },
  {
   "cell_type": "code",
   "execution_count": 91,
   "id": "c67e8f83",
   "metadata": {},
   "outputs": [
    {
     "data": {
      "text/plain": [
       "array(['chr2_ctl', 'chr2_szsd', 'chr2_sd'], dtype=object)"
      ]
     },
     "execution_count": 91,
     "metadata": {},
     "output_type": "execute_result"
    }
   ],
   "source": [
    "df_stim_res[\"experiment_type\"].unique()"
   ]
  },
  {
   "cell_type": "code",
   "execution_count": 92,
   "id": "746f1648",
   "metadata": {},
   "outputs": [],
   "source": [
    "df_stim_res[\"experiment_type_renamed\"] = df_stim_res[\"experiment_type\"].replace({\"chr2_ctl\": \"Control\", \"chr2_szsd\": \"Sz+SD\", \"chr2_sd\": \"SD\"})"
   ]
  },
  {
   "cell_type": "code",
   "execution_count": 93,
   "id": "4c7430e6",
   "metadata": {},
   "outputs": [
    {
     "data": {
      "text/html": [
       "<div>\n",
       "<style scoped>\n",
       "    .dataframe tbody tr th:only-of-type {\n",
       "        vertical-align: middle;\n",
       "    }\n",
       "\n",
       "    .dataframe tbody tr th {\n",
       "        vertical-align: top;\n",
       "    }\n",
       "\n",
       "    .dataframe thead th {\n",
       "        text-align: right;\n",
       "    }\n",
       "</style>\n",
       "<table border=\"1\" class=\"dataframe\">\n",
       "  <thead>\n",
       "    <tr style=\"text-align: right;\">\n",
       "      <th></th>\n",
       "      <th>mouse_id</th>\n",
       "      <th>experiment_type</th>\n",
       "      <th>interval_type</th>\n",
       "      <th>distance</th>\n",
       "      <th>d_frames</th>\n",
       "      <th>dt</th>\n",
       "      <th>uid</th>\n",
       "      <th>dist_norm</th>\n",
       "      <th>experiment_type_renamed</th>\n",
       "    </tr>\n",
       "  </thead>\n",
       "  <tbody>\n",
       "    <tr>\n",
       "      <th>0</th>\n",
       "      <td>T370</td>\n",
       "      <td>chr2_ctl</td>\n",
       "      <td>baseline</td>\n",
       "      <td>1805.0</td>\n",
       "      <td>4571</td>\n",
       "      <td>308743.000</td>\n",
       "      <td>231603473132827658435333136659101751165</td>\n",
       "      <td>0.005846</td>\n",
       "      <td>Control</td>\n",
       "    </tr>\n",
       "    <tr>\n",
       "      <th>1</th>\n",
       "      <td>T370</td>\n",
       "      <td>chr2_ctl</td>\n",
       "      <td>stimulation</td>\n",
       "      <td>0.0</td>\n",
       "      <td>38</td>\n",
       "      <td>2566.900</td>\n",
       "      <td>231604261769957325420139835519963469693</td>\n",
       "      <td>0.000000</td>\n",
       "      <td>Control</td>\n",
       "    </tr>\n",
       "    <tr>\n",
       "      <th>2</th>\n",
       "      <td>T370</td>\n",
       "      <td>chr2_ctl</td>\n",
       "      <td>aftermath</td>\n",
       "      <td>3691.0</td>\n",
       "      <td>8871</td>\n",
       "      <td>599180.700</td>\n",
       "      <td>231604261849185487936855257210703812477</td>\n",
       "      <td>0.006160</td>\n",
       "      <td>Control</td>\n",
       "    </tr>\n",
       "    <tr>\n",
       "      <th>3</th>\n",
       "      <td>T370</td>\n",
       "      <td>chr2_szsd</td>\n",
       "      <td>baseline</td>\n",
       "      <td>150.0</td>\n",
       "      <td>4571</td>\n",
       "      <td>300047.253</td>\n",
       "      <td>245886597445906985022513610378884650877</td>\n",
       "      <td>0.000500</td>\n",
       "      <td>Sz+SD</td>\n",
       "    </tr>\n",
       "    <tr>\n",
       "      <th>4</th>\n",
       "      <td>T370</td>\n",
       "      <td>chr2_szsd</td>\n",
       "      <td>stimulation</td>\n",
       "      <td>16.0</td>\n",
       "      <td>39</td>\n",
       "      <td>2560.005</td>\n",
       "      <td>245886597525135147533497920068819326845</td>\n",
       "      <td>0.006250</td>\n",
       "      <td>Sz+SD</td>\n",
       "    </tr>\n",
       "  </tbody>\n",
       "</table>\n",
       "</div>"
      ],
      "text/plain": [
       "  mouse_id experiment_type interval_type  distance  d_frames          dt  \\\n",
       "0     T370        chr2_ctl      baseline    1805.0      4571  308743.000   \n",
       "1     T370        chr2_ctl   stimulation       0.0        38    2566.900   \n",
       "2     T370        chr2_ctl     aftermath    3691.0      8871  599180.700   \n",
       "3     T370       chr2_szsd      baseline     150.0      4571  300047.253   \n",
       "4     T370       chr2_szsd   stimulation      16.0        39    2560.005   \n",
       "\n",
       "                                       uid  dist_norm experiment_type_renamed  \n",
       "0  231603473132827658435333136659101751165   0.005846                 Control  \n",
       "1  231604261769957325420139835519963469693   0.000000                 Control  \n",
       "2  231604261849185487936855257210703812477   0.006160                 Control  \n",
       "3  245886597445906985022513610378884650877   0.000500                   Sz+SD  \n",
       "4  245886597525135147533497920068819326845   0.006250                   Sz+SD  "
      ]
     },
     "execution_count": 93,
     "metadata": {},
     "output_type": "execute_result"
    }
   ],
   "source": [
    "df_stim_res.head()"
   ]
  },
  {
   "cell_type": "code",
   "execution_count": 94,
   "id": "a79ec666",
   "metadata": {},
   "outputs": [
    {
     "data": {
      "image/png": "[encoded data removed]",
      "text/plain": [
       "<Figure size 1274.88x864 with 1 Axes>"
      ]
     },
     "metadata": {},
     "output_type": "display_data"
    }
   ],
   "source": [
    "sns.set_theme(style=\"whitegrid\")\n",
    "# use standard error or standard deviation for uncertainty/spread, or confidence interval or percentile interval\n",
    "# se/sd/ci/pi\n",
    "# see https://seaborn.pydata.org/tutorial/error_bars.html\n",
    "\n",
    "g = sns.catplot(\n",
    "    data=df_stim_res, kind=\"bar\",\n",
    "    x=\"interval_type\", y=\"distance\", hue=\"experiment_type_renamed\",\n",
    "    errorbar=(\"pi\", 50), height=12, aspect=1.3 #, alpha=0.6,\n",
    ")\n",
    "\n",
    "#g = sns.catplot(\n",
    "#    data=df_stim_res, kind=\"box\",\n",
    "#    x=\"interval_type\", y=\"dist_norm\", hue=\"experiment_type\",\n",
    "#    errorbar=\"se\", palette=\"dark\", height=10, aspect=1.3\n",
    "#)\n",
    "#sns.stripplot(\n",
    "#    data=df_stim_res,\n",
    "#    x=\"interval_type\", y=\"dist_norm\", hue=\"experiment_type\", size=12,\n",
    "#)\n",
    "\n",
    "g.despine(left=True)\n",
    "g.set_axis_labels(\"\", \"(distance) / (interval length)\", fontsize=22)\n",
    "#g.set_xticklabels([\"Baseline\", \"Stimulation\", \"Aftermath\", \"SD extinciton\", \"Seizure\", \"SD Wave\",], fontsize=18)\n",
    "g.set_xticklabels(fontsize=18)\n",
    "g.set_yticklabels(fontsize=18)\n",
    "g._legend.set_title(\"Experiment type\")\n",
    "plt.setp(g._legend.get_title(), fontsize=20);\n",
    "plt.setp(g._legend.get_texts(),  fontsize=18);"
   ]
  },
  {
   "cell_type": "code",
   "execution_count": 95,
   "id": "e6fe4ffc",
   "metadata": {
    "scrolled": false
   },
   "outputs": [
    {
     "data": {
      "image/png": "[encoded data removed]",
      "text/plain": [
       "<Figure size 1274.88x864 with 1 Axes>"
      ]
     },
     "metadata": {},
     "output_type": "display_data"
    }
   ],
   "source": [
    "g2 = sns.catplot(\n",
    "    data=df_stim_res, kind=\"strip\",\n",
    "    x=\"interval_type\", y=\"dist_norm\", hue=\"experiment_type_renamed\", height=12, aspect=1.3, size=12\n",
    ")\n",
    "g2.despine(left=True)\n",
    "g2.set_axis_labels(\"\", \"(distance) / (interval length)\", fontsize=22)\n",
    "#g2.set_xticklabels([\"Baseline\", \"Stimulation\", \"Aftermath\", \"Seizure\", \"SD Wave\", \"SD Extinction\"], fontsize=18)\n",
    "g2.set_xticklabels( fontsize=18)\n",
    "g2.set_yticklabels(fontsize=18)\n",
    "g2._legend.set_title(\"Experiment type\")\n",
    "plt.setp(g2._legend.get_title(), fontsize=20);\n",
    "plt.setp(g2._legend.get_texts(),  fontsize=18);\n",
    "g2.set(ylim=(-0.01,0.16));"
   ]
  },
  {
   "cell_type": "markdown",
   "id": "2a1f86d6",
   "metadata": {},
   "source": [
    "# Plot individual sessions over each other"
   ]
  },
  {
   "cell_type": "code",
   "execution_count": 117,
   "id": "9dcf42fd",
   "metadata": {},
   "outputs": [
    {
     "data": {
      "text/html": [
       "<div>\n",
       "<style scoped>\n",
       "    .dataframe tbody tr th:only-of-type {\n",
       "        vertical-align: middle;\n",
       "    }\n",
       "\n",
       "    .dataframe tbody tr th {\n",
       "        vertical-align: top;\n",
       "    }\n",
       "\n",
       "    .dataframe thead th {\n",
       "        text-align: right;\n",
       "    }\n",
       "</style>\n",
       "<table border=\"1\" class=\"dataframe\">\n",
       "  <thead>\n",
       "    <tr style=\"text-align: right;\">\n",
       "      <th></th>\n",
       "      <th>mouse_id</th>\n",
       "      <th>experiment_type</th>\n",
       "      <th>interval_type</th>\n",
       "      <th>distance</th>\n",
       "      <th>d_frames</th>\n",
       "      <th>dt</th>\n",
       "      <th>uid</th>\n",
       "      <th>dist_norm</th>\n",
       "      <th>experiment_type_renamed</th>\n",
       "    </tr>\n",
       "  </thead>\n",
       "  <tbody>\n",
       "    <tr>\n",
       "      <th>0</th>\n",
       "      <td>T370</td>\n",
       "      <td>chr2_ctl</td>\n",
       "      <td>baseline</td>\n",
       "      <td>1805.000000</td>\n",
       "      <td>4571</td>\n",
       "      <td>308743.000</td>\n",
       "      <td>231603473132827658435333136659101751165</td>\n",
       "      <td>0.005846</td>\n",
       "      <td>Control</td>\n",
       "    </tr>\n",
       "    <tr>\n",
       "      <th>1</th>\n",
       "      <td>T370</td>\n",
       "      <td>chr2_ctl</td>\n",
       "      <td>stimulation</td>\n",
       "      <td>0.000000</td>\n",
       "      <td>38</td>\n",
       "      <td>2566.900</td>\n",
       "      <td>231604261769957325420139835519963469693</td>\n",
       "      <td>0.000000</td>\n",
       "      <td>Control</td>\n",
       "    </tr>\n",
       "    <tr>\n",
       "      <th>2</th>\n",
       "      <td>T370</td>\n",
       "      <td>chr2_ctl</td>\n",
       "      <td>aftermath</td>\n",
       "      <td>3691.000000</td>\n",
       "      <td>8871</td>\n",
       "      <td>599180.700</td>\n",
       "      <td>231604261849185487936855257210703812477</td>\n",
       "      <td>0.006160</td>\n",
       "      <td>Control</td>\n",
       "    </tr>\n",
       "    <tr>\n",
       "      <th>3</th>\n",
       "      <td>T370</td>\n",
       "      <td>chr2_szsd</td>\n",
       "      <td>baseline</td>\n",
       "      <td>150.000000</td>\n",
       "      <td>4571</td>\n",
       "      <td>300047.253</td>\n",
       "      <td>245886597445906985022513610378884650877</td>\n",
       "      <td>0.000500</td>\n",
       "      <td>Sz+SD</td>\n",
       "    </tr>\n",
       "    <tr>\n",
       "      <th>4</th>\n",
       "      <td>T370</td>\n",
       "      <td>chr2_szsd</td>\n",
       "      <td>stimulation</td>\n",
       "      <td>16.000000</td>\n",
       "      <td>39</td>\n",
       "      <td>2560.005</td>\n",
       "      <td>245886597525135147533497920068819326845</td>\n",
       "      <td>0.006250</td>\n",
       "      <td>Sz+SD</td>\n",
       "    </tr>\n",
       "    <tr>\n",
       "      <th>...</th>\n",
       "      <td>...</td>\n",
       "      <td>...</td>\n",
       "      <td>...</td>\n",
       "      <td>...</td>\n",
       "      <td>...</td>\n",
       "      <td>...</td>\n",
       "      <td>...</td>\n",
       "      <td>...</td>\n",
       "      <td>...</td>\n",
       "    </tr>\n",
       "    <tr>\n",
       "      <th>299</th>\n",
       "      <td>T452</td>\n",
       "      <td>chr2_ctl</td>\n",
       "      <td>stimulation</td>\n",
       "      <td>129.459148</td>\n",
       "      <td>76</td>\n",
       "      <td>5132.900</td>\n",
       "      <td>212216067477692177416369745068232775549</td>\n",
       "      <td>0.025221</td>\n",
       "      <td>Control</td>\n",
       "    </tr>\n",
       "    <tr>\n",
       "      <th>300</th>\n",
       "      <td>T452</td>\n",
       "      <td>chr2_ctl</td>\n",
       "      <td>aftermath</td>\n",
       "      <td>6756.830840</td>\n",
       "      <td>8832</td>\n",
       "      <td>596548.000</td>\n",
       "      <td>212216067556920339932959065969406744445</td>\n",
       "      <td>0.011327</td>\n",
       "      <td>Control</td>\n",
       "    </tr>\n",
       "    <tr>\n",
       "      <th>301</th>\n",
       "      <td>T452</td>\n",
       "      <td>chr2_ctl</td>\n",
       "      <td>baseline</td>\n",
       "      <td>7543.365659</td>\n",
       "      <td>4571</td>\n",
       "      <td>309624.797</td>\n",
       "      <td>227150742094631472440662520690048997245</td>\n",
       "      <td>0.024363</td>\n",
       "      <td>Control</td>\n",
       "    </tr>\n",
       "    <tr>\n",
       "      <th>302</th>\n",
       "      <td>T452</td>\n",
       "      <td>chr2_ctl</td>\n",
       "      <td>stimulation</td>\n",
       "      <td>254.634740</td>\n",
       "      <td>76</td>\n",
       "      <td>4988.728</td>\n",
       "      <td>227150742173859634952523624932437366653</td>\n",
       "      <td>0.051042</td>\n",
       "      <td>Control</td>\n",
       "    </tr>\n",
       "    <tr>\n",
       "      <th>303</th>\n",
       "      <td>T452</td>\n",
       "      <td>chr2_ctl</td>\n",
       "      <td>aftermath</td>\n",
       "      <td>5302.132251</td>\n",
       "      <td>8833</td>\n",
       "      <td>579811.541</td>\n",
       "      <td>227150742253087797467022431181581293437</td>\n",
       "      <td>0.009145</td>\n",
       "      <td>Control</td>\n",
       "    </tr>\n",
       "  </tbody>\n",
       "</table>\n",
       "<p>304 rows × 9 columns</p>\n",
       "</div>"
      ],
      "text/plain": [
       "    mouse_id experiment_type interval_type     distance  d_frames          dt  \\\n",
       "0       T370        chr2_ctl      baseline  1805.000000      4571  308743.000   \n",
       "1       T370        chr2_ctl   stimulation     0.000000        38    2566.900   \n",
       "2       T370        chr2_ctl     aftermath  3691.000000      8871  599180.700   \n",
       "3       T370       chr2_szsd      baseline   150.000000      4571  300047.253   \n",
       "4       T370       chr2_szsd   stimulation    16.000000        39    2560.005   \n",
       "..       ...             ...           ...          ...       ...         ...   \n",
       "299     T452        chr2_ctl   stimulation   129.459148        76    5132.900   \n",
       "300     T452        chr2_ctl     aftermath  6756.830840      8832  596548.000   \n",
       "301     T452        chr2_ctl      baseline  7543.365659      4571  309624.797   \n",
       "302     T452        chr2_ctl   stimulation   254.634740        76    4988.728   \n",
       "303     T452        chr2_ctl     aftermath  5302.132251      8833  579811.541   \n",
       "\n",
       "                                         uid  dist_norm  \\\n",
       "0    231603473132827658435333136659101751165   0.005846   \n",
       "1    231604261769957325420139835519963469693   0.000000   \n",
       "2    231604261849185487936855257210703812477   0.006160   \n",
       "3    245886597445906985022513610378884650877   0.000500   \n",
       "4    245886597525135147533497920068819326845   0.006250   \n",
       "..                                       ...        ...   \n",
       "299  212216067477692177416369745068232775549   0.025221   \n",
       "300  212216067556920339932959065969406744445   0.011327   \n",
       "301  227150742094631472440662520690048997245   0.024363   \n",
       "302  227150742173859634952523624932437366653   0.051042   \n",
       "303  227150742253087797467022431181581293437   0.009145   \n",
       "\n",
       "    experiment_type_renamed  \n",
       "0                   Control  \n",
       "1                   Control  \n",
       "2                   Control  \n",
       "3                     Sz+SD  \n",
       "4                     Sz+SD  \n",
       "..                      ...  \n",
       "299                 Control  \n",
       "300                 Control  \n",
       "301                 Control  \n",
       "302                 Control  \n",
       "303                 Control  \n",
       "\n",
       "[304 rows x 9 columns]"
      ]
     },
     "execution_count": 117,
     "metadata": {},
     "output_type": "execute_result"
    }
   ],
   "source": [
    "df_stim_res"
   ]
  },
  {
   "cell_type": "code",
   "execution_count": 118,
   "id": "2b356a37",
   "metadata": {},
   "outputs": [],
   "source": [
    "#  make a plot of individual movement \n",
    "g_exptype_itype = df_stim_res.groupby([\"experiment_type\", \"interval_type\"])"
   ]
  },
  {
   "cell_type": "code",
   "execution_count": 131,
   "id": "cab1f4ae",
   "metadata": {},
   "outputs": [],
   "source": [
    "bl_ctl = g_exptype_itype.get_group((\"chr2_ctl\", \"baseline\"))[\"uid\"]\n",
    "bl_sd  = g_exptype_itype.get_group((\"chr2_sd\", \"baseline\"))[\"uid\"]\n",
    "bl_szsd= g_exptype_itype.get_group((\"chr2_szsd\",\"baseline\"))[\"uid\"]"
   ]
  },
  {
   "cell_type": "code",
   "execution_count": 166,
   "id": "170ef25a",
   "metadata": {},
   "outputs": [],
   "source": [
    "bl_ctl_tsscn = dict()\n",
    "for uid_ctl in bl_ctl:\n",
    "    bl_ctl_tsscn[uid_ctl] = stim_segments_tsscn_dict[uid_ctl]"
   ]
  },
  {
   "cell_type": "code",
   "execution_count": 169,
   "id": "d933a905",
   "metadata": {},
   "outputs": [],
   "source": [
    "t_min =  9000000000  # will be first recorded time point in subset of data\n",
    "t_max = -9000000000  # latest time point in subset of data\n",
    "for key, value in bl_ctl_tsscn.items():\n",
    "    if min(value) < t_min:\n",
    "        t_min = min(value)\n",
    "    if max(value) > t_max:\n",
    "        t_max = max(value)"
   ]
  },
  {
   "cell_type": "code",
   "execution_count": 197,
   "id": "dc3b8577",
   "metadata": {},
   "outputs": [],
   "source": [
    "bl_ctl = sorted(bl_ctl, key= lambda uid: sum(stim_segments_running_dict[uid]), reverse=True)"
   ]
  },
  {
   "cell_type": "code",
   "execution_count": 214,
   "id": "4b3747c5",
   "metadata": {},
   "outputs": [],
   "source": [
    "# match recordings in time by shifting so that last data point has the same time in all cases\n",
    "stim_segments_t_matched_dict = dict()\n",
    "for uid in bl_ctl:\n",
    "    dt = t_max - stim_segments_tsscn_dict[uid][-1]\n",
    "    stim_segments_t_matched_dict[uid] = dt + deepcopy(stim_segments_tsscn_dict[uid])"
   ]
  },
  {
   "cell_type": "code",
   "execution_count": 210,
   "id": "fa1d95ec",
   "metadata": {},
   "outputs": [
    {
     "data": {
      "text/plain": [
       "array([     0. ,     67.5,    135.1, ..., 308611.6, 308679.2, 308746.8])"
      ]
     },
     "execution_count": 210,
     "metadata": {},
     "output_type": "execute_result"
    }
   ],
   "source": [
    "stim_segments_tsscn_dict[bl_ctl[0]] "
   ]
  },
  {
   "cell_type": "code",
   "execution_count": 215,
   "id": "44dbfdc9",
   "metadata": {},
   "outputs": [
    {
     "data": {
      "image/png": "[encoded data removed]",
      "text/plain": [
       "<Figure size 1296x1728 with 1 Axes>"
      ]
     },
     "metadata": {},
     "output_type": "display_data"
    }
   ],
   "source": [
    "cmap = cm.get_cmap('viridis', len(bl_ctl))\n",
    "fig = plt.figure(figsize=(18,24))\n",
    "for i_session, ctl_session in enumerate(bl_ctl):\n",
    "    plt.plot(stim_segments_t_matched_dict[ctl_session],i_session*0.7 + stim_segments_speed_dict[ctl_session], color=cmap.colors[i_session])\n",
    "plt.show()"
   ]
  },
  {
   "cell_type": "code",
   "execution_count": null,
   "id": "e564316e",
   "metadata": {},
   "outputs": [],
   "source": [
    "# TODO: create a UID for individual recordings (to match various segments in the dictionaries).\n",
    "# TODO: plot movement starting with stimulation. How long it should be plotted? Match color map with baseline,\n",
    "#       sort by movement amount "
   ]
  },
  {
   "cell_type": "code",
   "execution_count": null,
   "id": "751db466",
   "metadata": {},
   "outputs": [],
   "source": [
    "cmap = cm.get_cmap('viridis', len(bl_ctl))\n",
    "fig = plt.figure(figsize=(18,18))\n",
    "for i_session, ctl_session in enumerate(bl_ctl):\n",
    "    plt.plot(i_session*0.5 + stim_segments_speed_dict[ctl_session], color=cmap.colors[i_session])\n",
    "plt.show()"
   ]
  },
  {
   "cell_type": "code",
   "execution_count": null,
   "id": "9deaeba6",
   "metadata": {},
   "outputs": [],
   "source": [
    "df_stim_res.head()"
   ]
  },
  {
   "cell_type": "code",
   "execution_count": null,
   "id": "26af865f",
   "metadata": {},
   "outputs": [],
   "source": [
    "len(df_stim_res[(df_stim_res[\"experiment_type\"] == \"chr2_sd\") & (df_stim_res[\"interval_type\"] == \"baseline\")])"
   ]
  },
  {
   "cell_type": "markdown",
   "id": "74dcda1b",
   "metadata": {},
   "source": [
    "# TMEV running over days"
   ]
  },
  {
   "cell_type": "markdown",
   "id": "2a1e60c9",
   "metadata": {},
   "source": []
  },
  {
   "cell_type": "markdown",
   "id": "f4ff65bb",
   "metadata": {},
   "source": [
    "# Unorganized"
   ]
  },
  {
   "cell_type": "code",
   "execution_count": null,
   "id": "e29a64ed",
   "metadata": {},
   "outputs": [],
   "source": [
    "# keys of belt_scn_dict: 'tsscn', 'rounds', 'speed', 'distance', 'totdist', 'running'"
   ]
  },
  {
   "cell_type": "code",
   "execution_count": null,
   "id": "25fac5a8",
   "metadata": {},
   "outputs": [],
   "source": [
    "# think about data to quantify (integrated velocity/distance per interval? divided by interval length)\n",
    "# maybe need nd2 to extract mean, check if zones correspond to imaging data"
   ]
  },
  {
   "cell_type": "code",
   "execution_count": null,
   "id": "65489ba8",
   "metadata": {},
   "outputs": [],
   "source": [
    "res_dict = dict()\n",
    "for interval_type in segments_totdist_dict.keys():\n",
    "    res_dict[interval_type] = []\n",
    "    for dist_lis in segments_totdist_dict[interval_type]:\n",
    "        assert dist_lis[-1] >= 0\n",
    "        assert dist_lis[0] >= 0\n",
    "        totdist_interval = (dist_lis[-1] - dist_lis[0])/len(dist_lis)\n",
    "        res_dict[interval_type].append(totdist_interval)"
   ]
  },
  {
   "cell_type": "code",
   "execution_count": null,
   "id": "809f50e2",
   "metadata": {},
   "outputs": [],
   "source": [
    "res_dict.keys()"
   ]
  },
  {
   "cell_type": "code",
   "execution_count": null,
   "id": "b94bbdd4",
   "metadata": {},
   "outputs": [],
   "source": [
    "# TODO: get results also for control animal, make a dataframe including all these \n",
    "# (columns: \n",
    "#    tmev/chr2/ctl (exp_type?), \n",
    "#    interval_type ('baseline', 'sz', 'sd_wave', 'sd_extinction', 'normal'),\n",
    "#    total distance,\n",
    "#    etc. (other data like dist, for comparison. But I think totdist is the one I need)\n",
    "\n",
    "# Then plot as seaborn catplot (grouped barplot)"
   ]
  },
  {
   "cell_type": "code",
   "execution_count": null,
   "id": "c6f9797f",
   "metadata": {},
   "outputs": [],
   "source": [
    "import seaborn as sns\n",
    "sns.set_theme(style=\"whitegrid\")\n",
    "\n",
    "\n",
    "# Draw a nested barplot by species and sex\n",
    "g = sns.catplot(\n",
    "    data=a, kind=\"bar\",\n",
    "    x=\"\", y=\"body_mass_g\", hue=\"sex\",\n",
    "    errorbar=\"sd\", palette=\"dark\", alpha=.6, height=6\n",
    ")\n",
    "g.despine(left=True)\n",
    "g.set_axis_labels(\"\", \"Body mass (g)\")\n",
    "g.legend.set_title(\"\")"
   ]
  }
 ],
 "metadata": {
  "kernelspec": {
   "display_name": "Python 3 (ipykernel)",
   "language": "python",
   "name": "python3"
  },
  "language_info": {
   "codemirror_mode": {
    "name": "ipython",
    "version": 3
   },
   "file_extension": ".py",
   "mimetype": "text/x-python",
   "name": "python",
   "nbconvert_exporter": "python",
   "pygments_lexer": "ipython3",
   "version": "3.8.12"
  }
 },
 "nbformat": 4,
 "nbformat_minor": 5
}
